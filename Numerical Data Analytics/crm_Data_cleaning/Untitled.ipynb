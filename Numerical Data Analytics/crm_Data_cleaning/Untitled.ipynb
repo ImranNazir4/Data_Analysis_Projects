{
 "cells": [
  {
   "cell_type": "code",
   "execution_count": 1,
   "id": "43d02fe1",
   "metadata": {},
   "outputs": [],
   "source": [
    "import pandas as pd"
   ]
  },
  {
   "cell_type": "code",
   "execution_count": 14,
   "id": "d06f2216",
   "metadata": {},
   "outputs": [],
   "source": [
    "bounce_df=pd.read_csv('bounce.csv',sep=';')\n",
    "clicks_df=pd.read_csv('clicks.csv',sep=';')\n",
    "markasspam_df=pd.read_csv('markasspam.csv',sep=';')\n",
    "delivery_df=pd.read_csv('delivery.csv',sep=';')\n",
    "table_commandes_df=pd.read_csv('Table commandes.csv',sep=';')\n",
    "open_df=pd.read_csv('open.csv',sep=';')\n",
    "send_df=pd.read_csv('send.csv',sep=';')\n",
    "unsbscribe_df=pd.read_csv('unsubscribe.csv',sep=';')"
   ]
  },
  {
   "cell_type": "code",
   "execution_count": 15,
   "id": "c8b984d1",
   "metadata": {},
   "outputs": [
    {
     "data": {
      "text/plain": [
       "Index(['updated_at', 'event_type', 'external_user_id', 'time', 'timezone',\n",
       "       'campaign_id', 'campaign_name', 'message_variation_id', 'canvas_id',\n",
       "       'canvas_name', 'canvas_variation_id', 'canvas_variation_name',\n",
       "       'canvas_step_id', 'canvas_step_name', 'send_id', 'dispatch_id',\n",
       "       'sending_ip', 'ip_pool', 'bounce_reason', 'esp', 'from_domain',\n",
       "       'is_drop', 'int'],\n",
       "      dtype='object')"
      ]
     },
     "execution_count": 15,
     "metadata": {},
     "output_type": "execute_result"
    }
   ],
   "source": [
    "bounce_df.columns"
   ]
  },
  {
   "cell_type": "code",
   "execution_count": 16,
   "id": "533a5a4d",
   "metadata": {},
   "outputs": [
    {
     "data": {
      "text/plain": [
       "Index(['updated_at', 'event_type', 'externa_user_id', 'time', 'timezone',\n",
       "       'campaign_id', 'campaign_name', 'message_variation_id', 'canvas_id',\n",
       "       'canvas_name', 'canvas_variation_id', 'canvas_variation_name',\n",
       "       'canvas_step_id', 'canvas_step_name', 'send_id', 'dispatch_id', 'url',\n",
       "       'ip_pool', 'user_agent', 'link_id', 'link_alias', 'esp', 'from_domain',\n",
       "       'is_amp', 'int', 'Unnamed: 25', 'Unnamed: 26'],\n",
       "      dtype='object')"
      ]
     },
     "execution_count": 16,
     "metadata": {},
     "output_type": "execute_result"
    }
   ],
   "source": [
    "clicks_df.columns"
   ]
  },
  {
   "cell_type": "code",
   "execution_count": 17,
   "id": "6355f764",
   "metadata": {},
   "outputs": [
    {
     "data": {
      "text/plain": [
       "Index(['Order ID', 'Customer ID', 'Prépayée à', 'Réceptionnée à', 'Atelier',\n",
       "       'Code postal', 'Mode de retrait', 'Nb références', 'Prix payé TTC',\n",
       "       'Valeur du panier HT', 'Nb coupons', 'Valeur des coupons'],\n",
       "      dtype='object')"
      ]
     },
     "execution_count": 17,
     "metadata": {},
     "output_type": "execute_result"
    }
   ],
   "source": [
    "table_commandes_df.columns"
   ]
  },
  {
   "cell_type": "code",
   "execution_count": 18,
   "id": "3319edb2",
   "metadata": {},
   "outputs": [
    {
     "data": {
      "text/plain": [
       "Index(['updated_at', 'event_type', 'external_user_id', 'time', 'timezone',\n",
       "       'campaign_id', 'campaign_name', 'message_variation_id', 'canvas_id',\n",
       "       'canvas_name', 'canvas_variation_id', 'canvas_variation_name',\n",
       "       'canvas_step_id', 'canvas_step_name', 'send_id', 'dispatch_id',\n",
       "       'ip_pool', 'user_agent', 'machine_open', 'esp', 'from_domain', 'is_amp',\n",
       "       'int'],\n",
       "      dtype='object')"
      ]
     },
     "execution_count": 18,
     "metadata": {},
     "output_type": "execute_result"
    }
   ],
   "source": [
    "open_df.columns"
   ]
  },
  {
   "cell_type": "code",
   "execution_count": null,
   "id": "092ba6f5",
   "metadata": {},
   "outputs": [],
   "source": []
  }
 ],
 "metadata": {
  "kernelspec": {
   "display_name": "Python 3",
   "language": "python",
   "name": "python3"
  },
  "language_info": {
   "codemirror_mode": {
    "name": "ipython",
    "version": 3
   },
   "file_extension": ".py",
   "mimetype": "text/x-python",
   "name": "python",
   "nbconvert_exporter": "python",
   "pygments_lexer": "ipython3",
   "version": "3.9.5"
  }
 },
 "nbformat": 4,
 "nbformat_minor": 5
}
