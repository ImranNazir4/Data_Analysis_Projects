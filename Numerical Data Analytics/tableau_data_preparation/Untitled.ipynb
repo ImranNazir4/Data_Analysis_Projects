{
 "cells": [
  {
   "cell_type": "code",
   "execution_count": 1,
   "id": "9c65f4a5",
   "metadata": {},
   "outputs": [],
   "source": [
    "import pandas as pd"
   ]
  },
  {
   "cell_type": "code",
   "execution_count": 3,
   "id": "630f452d",
   "metadata": {},
   "outputs": [],
   "source": [
    "df=pd.read_excel('NBS8295_Dataset A_AY2223_nst.xlsx')"
   ]
  },
  {
   "cell_type": "code",
   "execution_count": 4,
   "id": "9208525d",
   "metadata": {},
   "outputs": [
    {
     "data": {
      "text/plain": [
       "Row ID            0\n",
       "Order ID          0\n",
       "Order Date        0\n",
       "Customer ID       0\n",
       "Customer Name     0\n",
       "Household Type    0\n",
       "City              0\n",
       "State             0\n",
       "Country           0\n",
       "Region            0\n",
       "Product ID        0\n",
       "Category          0\n",
       "Sub-Category      0\n",
       "Product Name      0\n",
       "Sales (£)         0\n",
       "Quantity          0\n",
       "Discount          0\n",
       "Profit (£)        0\n",
       "dtype: int64"
      ]
     },
     "execution_count": 4,
     "metadata": {},
     "output_type": "execute_result"
    }
   ],
   "source": [
    "df.isnull().sum()"
   ]
  },
  {
   "cell_type": "code",
   "execution_count": 5,
   "id": "91c5a77f",
   "metadata": {},
   "outputs": [
    {
     "data": {
      "text/plain": [
       "(1633, 18)"
      ]
     },
     "execution_count": 5,
     "metadata": {},
     "output_type": "execute_result"
    }
   ],
   "source": [
    "df.shape"
   ]
  },
  {
   "cell_type": "code",
   "execution_count": 8,
   "id": "f287335f",
   "metadata": {},
   "outputs": [],
   "source": [
    "text='''The identified key performance indicators (KPIs) for the business include Profit, Sales, Units Sold, Orders, Returned, Customers, Sales Lost, Profit Lost, and Products. The total sales amount to 1633k pounds, generating a profit of 325k pounds. Over 20k units have been sold through 5.3k orders. The business has acquired 500 unique customers and offers 1k products. Additionally, the company has incurred a loss of 91k pounds in sales and 16k pounds in profit due to returned orders.\n",
    "Regarding geographic analysis, the data includes states and cities within the UK. Clustering the data resulted in three clusters, representing the three states. Each state exhibits similar trends in sales and profit, with England leading in both categories while Wales ranks at the lower end.\n",
    "Analyzing the sales data from 2017 to 2021, it is evident that sales exhibit a fluctuating pattern without consistent growth. Monthly sales vary, with some months experiencing increases followed by decreases. April 2019 stands out as the worst month, with sales of 0.5k pounds and a profit of 0.1k pounds. However, sales have generally increased since 2019, with September 2021 recording the highest sales of 104k pounds and profit of 29k pounds. The last month closed with sales amounting to 67k pounds, and the average monthly sales stand at 34k pounds.\n",
    "Regarding product categories, Kids Shoes account for 40% of total sales, followed by Women Shoes with 33% and Men Shoes with 25% of sales.\n",
    "Furthermore, the product sub-categories were grouped into three clusters. Cluster 1 included Converse, Lunar, Dr Martens, Charles & Keith, and Aldo. Cluster 2 consisted of Lilli Kelly, UGG, Michael Kors, Kickers, and Hunter. Cluster 3 solely comprised Timberland. Notably, Cluster 3 exhibited the highest profit-to-sales ratio, while Cluster 2 recorded the highest sales.\n",
    "The analysis of returns shed light on the prominence of Women Shoes in terms of returns, particularly with the sub-category Hunter displaying the highest number of returned orders. Conversely, despite a significant number of orders, Dr Martens experienced relatively few returns.\n",
    "The analysis comparing profit across different categories and regions reveals that the North-East, South, South-East, and West regions have the least negative profit, while the Midlands region faces the most negative profit in specific product sub-categories like Michael Kors, Timberland, and UGG. Interestingly, the product sub-category Dr Marten consistently generates negative profit in all regions.\n",
    "Investigating returned orders by product categories and sub-categories, it is evident that Women Shoes have the highest number of returns, with the sub-category Hunter accounting for 58 out of 696 returned orders. In the Men Shoes category, Hunter has the highest return ratio of 7/36. Surprisingly, the sub-category Dr Martens only has 4 returns out of 203 orders.\n",
    "\n",
    "Lastly, the data provided insights into the different shipping modes employed for orders, with Standard Class having the highest number of orders and Same Day shipping representing the fewest.\n",
    "In conclusion, this data analysis offers valuable insights regarding sales, profit, regional performance, product categories, returns, and shipping modes. These findings can be utilized to inform business decisions, optimize sales strategies, and enhance overall profitability.\n",
    "\n",
    "\n",
    "\n",
    "\n",
    "\n",
    "\n",
    "\n",
    "\n",
    "\n",
    "Recommendations\n",
    "Here are some recommendations based on the analysis:\n",
    "•\tSales and Profit Optimization: Develop strategies to stabilize sales and maximize profitability by addressing the fluctuating sales pattern. Identify the factors contributing to the inconsistencies and implement measures to create more consistent growth.\n",
    "•\tRegional Performance Improvement: Focus on improving the performance of regions with negative profit or underperforming product sub-categories. Conduct targeted marketing campaigns, promotions, and product assortment adjustments to boost sales and profitability in these regions.\n",
    "•\tProduct Mix Optimization: Allocate resources and efforts towards the most profitable product sub-categories, such as Aldo, Lunar, Dr Martens, and Charles & Keith. Evaluate underperforming sub-categories, like Dr Martens, and explore opportunities to enhance their profitability through product improvements or adjustments.\n",
    "•\tReturn Management: Analyze the reasons behind high return rates for Women Shoes, specifically the sub-category Hunter. Take measures to reduce returns by addressing any issues affecting customer satisfaction or product quality. Improve product descriptions, quality control processes, and customer support to minimize returns.\n",
    "•\tCustomer Retention: Implement customer retention strategies to nurture and build upon the existing customer base. Establish loyalty programs, personalized offers, and exceptional customer service to increase customer loyalty and encourage repeat purchases. Enhance the overall customer experience to drive satisfaction and loyalty.\n",
    "•\tShipping Efficiency: Evaluate and optimize the efficiency of different shipping modes to ensure timely and reliable deliveries. Streamline logistics and supply chain processes to minimize shipping delays and improve the overall shipping experience for customers.\n",
    "•\tContinuous Monitoring and Analysis: Regularly monitor key performance indicators to identify emerging trends, opportunities, and challenges. Use data-driven insights to make informed decisions and adapt strategies accordingly. Stay informed about market trends and customer preferences to remain competitive.\n",
    "\n",
    "By implementing these recommendations and maintaining a proactive approach to monitoring and analysis, the business can enhance sales, profitability, and customer satisfaction while staying ahead of the competition.\n",
    "\n",
    "'''"
   ]
  },
  {
   "cell_type": "code",
   "execution_count": 9,
   "id": "47ebb14e",
   "metadata": {},
   "outputs": [
    {
     "data": {
      "text/plain": [
       "818"
      ]
     },
     "execution_count": 9,
     "metadata": {},
     "output_type": "execute_result"
    }
   ],
   "source": [
    "len(text.split())"
   ]
  },
  {
   "cell_type": "code",
   "execution_count": null,
   "id": "71fdf96a",
   "metadata": {},
   "outputs": [],
   "source": []
  }
 ],
 "metadata": {
  "kernelspec": {
   "display_name": "Python 3",
   "language": "python",
   "name": "python3"
  },
  "language_info": {
   "codemirror_mode": {
    "name": "ipython",
    "version": 3
   },
   "file_extension": ".py",
   "mimetype": "text/x-python",
   "name": "python",
   "nbconvert_exporter": "python",
   "pygments_lexer": "ipython3",
   "version": "3.9.5"
  }
 },
 "nbformat": 4,
 "nbformat_minor": 5
}
