{
 "cells": [
  {
   "cell_type": "markdown",
   "id": "a0a4124d",
   "metadata": {},
   "source": [
    "# **Problem Definition**"
   ]
  },
  {
   "cell_type": "markdown",
   "id": "9d9c1637",
   "metadata": {},
   "source": [
    "# **Build Dataset**"
   ]
  },
  {
   "cell_type": "markdown",
   "id": "5abca17a",
   "metadata": {},
   "source": [
    "### **Data Collection**"
   ]
  },
  {
   "cell_type": "markdown",
   "id": "85630b0b",
   "metadata": {},
   "source": [
    "1-Supervised Type of Data (Data with Target Variable)\n",
    "2-Unsupervised Type of Data (Data with no Target Variable)"
   ]
  },
  {
   "cell_type": "markdown",
   "id": "365153ae",
   "metadata": {},
   "source": [
    "### **Data Inspection**"
   ]
  },
  {
   "cell_type": "markdown",
   "id": "6ccea04d",
   "metadata": {},
   "source": [
    "1- Check inconsistency in the data\n",
    "2- Outliers\n",
    "3- Data Transformation\n",
    "4- Fill missing values"
   ]
  },
  {
   "cell_type": "markdown",
   "id": "903802ca",
   "metadata": {},
   "source": [
    "### **Summary Statistics**"
   ]
  },
  {
   "cell_type": "markdown",
   "id": "2e600245",
   "metadata": {},
   "source": [
    "1- Trends in data\n",
    "2- Scale of data\n",
    "3- Shape of data"
   ]
  },
  {
   "cell_type": "markdown",
   "id": "b483f91c",
   "metadata": {},
   "source": [
    "IQR\n",
    "Mean\n",
    "Std\n",
    "...."
   ]
  },
  {
   "cell_type": "markdown",
   "id": "7d7f5c47",
   "metadata": {},
   "source": [
    "### **Data Visualization**"
   ]
  },
  {
   "cell_type": "markdown",
   "id": "89462650",
   "metadata": {},
   "source": [
    "1- Line charts\n",
    "2- Bar charts\n",
    "3- Pie charts\n",
    "4- Histograms\n",
    "....."
   ]
  },
  {
   "cell_type": "markdown",
   "id": "68aaec94",
   "metadata": {},
   "source": [
    "# **Model Training**"
   ]
  },
  {
   "cell_type": "markdown",
   "id": "ead23c3e",
   "metadata": {},
   "source": [
    "### **splitting the Data**"
   ]
  },
  {
   "cell_type": "markdown",
   "id": "5c3049b3",
   "metadata": {},
   "source": [
    "-----------------------------Good Practice----------------------------------\n",
    "1- 80% Training\n",
    "2- 20% Testing"
   ]
  },
  {
   "cell_type": "markdown",
   "id": "66309f02",
   "metadata": {},
   "source": [
    "### **Model Selection**"
   ]
  },
  {
   "cell_type": "markdown",
   "id": "be7fabbd",
   "metadata": {},
   "source": [
    "### **Loss Calculation**"
   ]
  },
  {
   "cell_type": "markdown",
   "id": "71fb9bbd",
   "metadata": {},
   "source": [
    "### **Model Parameters Tuning**"
   ]
  },
  {
   "cell_type": "markdown",
   "id": "242042eb",
   "metadata": {},
   "source": []
  },
  {
   "cell_type": "code",
   "execution_count": null,
   "id": "9f1a6f69",
   "metadata": {},
   "outputs": [],
   "source": []
  }
 ],
 "metadata": {
  "kernelspec": {
   "display_name": "Python 3",
   "language": "python",
   "name": "python3"
  },
  "language_info": {
   "codemirror_mode": {
    "name": "ipython",
    "version": 3
   },
   "file_extension": ".py",
   "mimetype": "text/x-python",
   "name": "python",
   "nbconvert_exporter": "python",
   "pygments_lexer": "ipython3",
   "version": "3.9.5"
  }
 },
 "nbformat": 4,
 "nbformat_minor": 5
}
