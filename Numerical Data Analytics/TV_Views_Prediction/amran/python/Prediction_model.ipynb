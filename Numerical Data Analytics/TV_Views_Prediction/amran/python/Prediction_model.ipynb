{
 "cells": [
  {
   "cell_type": "code",
   "execution_count": 1,
   "id": "554085c6",
   "metadata": {},
   "outputs": [],
   "source": [
    "from datetime import datetime"
   ]
  },
  {
   "cell_type": "code",
   "execution_count": 3,
   "id": "dbee5c82",
   "metadata": {},
   "outputs": [
    {
     "name": "stdout",
     "output_type": "stream",
     "text": [
      "Start Time put time in 21:15:03 format22:15:03\n",
      "Broadcasting_date put the date in 21/03/2023 format06/04/2023\n"
     ]
    }
   ],
   "source": [
    "Start_time = (input(\"Start Time put time in 21:15:03 format\"   ,))\n",
    "Broadcasting_date =(input(\"Broadcasting_date put the date in 21/03/2023 format\"   ,))"
   ]
  },
  {
   "cell_type": "code",
   "execution_count": 12,
   "id": "99194774",
   "metadata": {},
   "outputs": [
    {
     "name": "stdout",
     "output_type": "stream",
     "text": [
      "If the Genre is Capsule than Audience share percentage and no. of views are (52.811260000000004, -2724831.4)\n"
     ]
    }
   ],
   "source": [
    "# Replace '21:15:56' and '21/03/2023' with the actual start time and broadcasting date values\n",
    "start_time = datetime.strptime(Start_time, '%H:%M:%S')\n",
    "broadcasting_date = datetime.strptime(Broadcasting_date, '%d/%m/%Y')\n",
    "\n",
    "# Use the datetime objects in the prediction equation\n",
    "y_pred = (66.5 - 0.622 * start_time.hour - 0.00079 * broadcasting_date.day, \n",
    "          -2954691 + 10430 * start_time.hour + 66.6 * broadcasting_date.day)\n",
    "\n",
    "print(\"If the Genre is Capsule than Audience share percentage and no. of views are\", y_pred)\n"
   ]
  },
  {
   "cell_type": "code",
   "execution_count": 13,
   "id": "551de32c",
   "metadata": {},
   "outputs": [
    {
     "name": "stdout",
     "output_type": "stream",
     "text": [
      "If the Genre is Capsule than Audience share percentage and no. of views are (52.811260000000004, 64993171.6)\n"
     ]
    }
   ],
   "source": [
    "y_pred = (66.5 - 0.622 * start_time.hour - 0.00079 * broadcasting_date.day, -10430 +2954691  * start_time.hour + 66.6 * broadcasting_date.day)\n",
    "print(\"If the Genre is Capsule than Audience share percentage and no. of views are\", y_pred)"
   ]
  },
  {
   "cell_type": "code",
   "execution_count": 14,
   "id": "ee318b0d",
   "metadata": {},
   "outputs": [
    {
     "name": "stdout",
     "output_type": "stream",
     "text": [
      "If the Genre is Cultural than Audience share percentage and no. of views are (52.91126, 64954387.6)\n"
     ]
    }
   ],
   "source": [
    "y_pred = (66.6 - 0.622 * start_time.hour - 0.00079 * broadcasting_date.day, - 12430 +2953019  * start_time.hour + 66.6 * broadcasting_date.day)\n",
    "print(\"If the Genre is Cultural than Audience share percentage and no. of views are\", y_pred)"
   ]
  },
  {
   "cell_type": "code",
   "execution_count": 15,
   "id": "fa4cd263",
   "metadata": {},
   "outputs": [
    {
     "name": "stdout",
     "output_type": "stream",
     "text": [
      "If the Genre is feuilleton than Audience share percentage and no. of views are (51.811260000000004, 2726959.6)\n"
     ]
    }
   ],
   "source": [
    "y_pred = (65.5 - 0.622 * start_time.hour - 0.00079 * broadcasting_date.day, 2956020 - 10430 *start_time.hour + 66.6 * broadcasting_date.day)\n",
    "print(\"If the Genre is feuilleton than Audience share percentage and no. of views are\", y_pred)"
   ]
  },
  {
   "cell_type": "code",
   "execution_count": 16,
   "id": "964b2b55",
   "metadata": {},
   "outputs": [
    {
     "name": "stdout",
     "output_type": "stream",
     "text": [
      "If the Genre is Info than Audience share percentage and no. of views are (51.51126000000001, 2715942.6)\n"
     ]
    }
   ],
   "source": [
    "y_pred = (65.2 - 0.622 * start_time.hour - 0.00079 * broadcasting_date.day, 2945003 - 10430 * start_time.hour + 66.6 * broadcasting_date.day)\n",
    "print(\"If the Genre is Info than Audience share percentage and no. of views are\", y_pred)"
   ]
  },
  {
   "cell_type": "code",
   "execution_count": 17,
   "id": "0f088c63",
   "metadata": {},
   "outputs": [
    {
     "name": "stdout",
     "output_type": "stream",
     "text": [
      "If the Genre is Music than Audience share percentage and no. of views are (51.91126, 2722204.4)\n"
     ]
    }
   ],
   "source": [
    "y_pred = (65.6 - 0.622 * start_time.hour - 0.00079 * broadcasting_date.day, 2952064 - 10430 * start_time.hour - 66.6 * broadcasting_date.day)\n",
    "print(\"If the Genre is Music than Audience share percentage and no. of views are\", y_pred)\n"
   ]
  },
  {
   "cell_type": "code",
   "execution_count": 10,
   "id": "d45befa1",
   "metadata": {},
   "outputs": [
    {
     "name": "stdout",
     "output_type": "stream",
     "text": [
      "If the Genere is Politique than Audience share percentage and no. of views are (51.811260000000004, 2725953.4)\n"
     ]
    }
   ],
   "source": [
    "y_pred = (65.5 - 0.622 * start_time.hour - 0.00079 * broadcasting_date.day, 2955813 - 10430 * start_time.hour - 66.6 * broadcasting_date.day)\n",
    "print(\"If the Genere is Politique than Audience share percentage and no. of views are\", y_pred)"
   ]
  },
  {
   "cell_type": "code",
   "execution_count": 18,
   "id": "3b88285c",
   "metadata": {},
   "outputs": [
    {
     "name": "stdout",
     "output_type": "stream",
     "text": [
      "If the Genre is Religieux than Audience share percentage and no. of views are (52.01126000000001, 2727364.6)\n"
     ]
    }
   ],
   "source": [
    "y_pred = (65.7 - 0.622 * start_time.hour - 0.00079 * broadcasting_date.day, 2956425 - 10430 * start_time.hour + 66.6 * broadcasting_date.day)\n",
    "print(\"If the Genre is Religieux than Audience share percentage and no. of views are\", y_pred)"
   ]
  },
  {
   "cell_type": "code",
   "execution_count": 19,
   "id": "dcbee2b2",
   "metadata": {},
   "outputs": [
    {
     "name": "stdout",
     "output_type": "stream",
     "text": [
      "If the Genre is Sport Audience share percentage and no. of views are (50.11126, 2703978.4)\n"
     ]
    }
   ],
   "source": [
    "y_pred = (63.8 - 0.622 * start_time.hour - 0.00079 * broadcasting_date.day, +2933838 - 10430 * start_time.hour - 66.6 * broadcasting_date.day)\n",
    "print(\"If the Genre is Sport Audience share percentage and no. of views are\", y_pred)"
   ]
  },
  {
   "cell_type": "code",
   "execution_count": null,
   "id": "f59c50ad",
   "metadata": {},
   "outputs": [],
   "source": []
  }
 ],
 "metadata": {
  "kernelspec": {
   "display_name": "Python 3",
   "language": "python",
   "name": "python3"
  },
  "language_info": {
   "codemirror_mode": {
    "name": "ipython",
    "version": 3
   },
   "file_extension": ".py",
   "mimetype": "text/x-python",
   "name": "python",
   "nbconvert_exporter": "python",
   "pygments_lexer": "ipython3",
   "version": "3.9.5"
  }
 },
 "nbformat": 4,
 "nbformat_minor": 5
}
