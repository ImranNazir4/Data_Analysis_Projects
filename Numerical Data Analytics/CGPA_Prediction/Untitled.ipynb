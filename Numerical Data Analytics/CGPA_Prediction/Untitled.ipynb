{
 "cells": [
  {
   "cell_type": "code",
   "execution_count": 1,
   "id": "bdddba9d",
   "metadata": {},
   "outputs": [],
   "source": [
    "import pandas as pd"
   ]
  },
  {
   "cell_type": "code",
   "execution_count": 22,
   "id": "f521da89",
   "metadata": {},
   "outputs": [],
   "source": [
    "student_df=pd.read_excel(\"ALL COMBINED.xlsx\", engine='openpyxl')"
   ]
  },
  {
   "cell_type": "code",
   "execution_count": 23,
   "id": "5522b2da",
   "metadata": {},
   "outputs": [
    {
     "data": {
      "text/plain": [
       "(757, 12)"
      ]
     },
     "execution_count": 23,
     "metadata": {},
     "output_type": "execute_result"
    }
   ],
   "source": [
    "student_df.shape"
   ]
  },
  {
   "cell_type": "code",
   "execution_count": 31,
   "id": "c37bc48d",
   "metadata": {},
   "outputs": [
    {
     "data": {
      "text/plain": [
       "RESEARCH             66\n",
       "TESTING              62\n",
       "PHYSCIOLOGY          58\n",
       "CODING               55\n",
       "DESIGNING            55\n",
       "ENGINEERING          54\n",
       "AUTOMATION           53\n",
       "MUSIC                53\n",
       "FASHION DESIGNING    50\n",
       "TEACHING             49\n",
       "DEVELOPMENT          46\n",
       "DANCE                44\n",
       "PAINTING             44\n",
       "SPORTS               38\n",
       "AERUNAUTICS          30\n",
       "Name: FIELD_OF_INTEREST, dtype: int64"
      ]
     },
     "execution_count": 31,
     "metadata": {},
     "output_type": "execute_result"
    }
   ],
   "source": [
    "student_df[\"FIELD_OF_INTEREST\"].value_counts()"
   ]
  },
  {
   "cell_type": "code",
   "execution_count": 24,
   "id": "21e27aec",
   "metadata": {},
   "outputs": [
    {
     "data": {
      "text/plain": [
       "Index(['Name', 'Study Hours', 'SGPA_SEMESTER1', 'SGPA_SEMESTER2',\n",
       "       'SGPA_SEMESTER3', 'SGPA_SEMESTER4', 'STREAM', '10 (%)', 'BOARD',\n",
       "       '12 (%)', 'BOARD.1', 'FIELD_OF_INTEREST'],\n",
       "      dtype='object')"
      ]
     },
     "execution_count": 24,
     "metadata": {},
     "output_type": "execute_result"
    }
   ],
   "source": [
    "student_df.columns"
   ]
  },
  {
   "cell_type": "code",
   "execution_count": 25,
   "id": "8c97cbfd",
   "metadata": {
    "collapsed": true
   },
   "outputs": [
    {
     "data": {
      "text/plain": [
       " WBBSE        243\n",
       " CBSE         174\n",
       "CBSE          142\n",
       " ICSE          79\n",
       "WBBSE          19\n",
       " CISCE         12\n",
       " Icse           9\n",
       " Cbse           8\n",
       "CISCE           6\n",
       " C.B.S.E        5\n",
       " W.B.B.S.E      5\n",
       " WBSE           5\n",
       " WBCHSE         3\n",
       " Wbbse          3\n",
       " wbbse          3\n",
       " WBCSE          2\n",
       "wbbse           2\n",
       " CBSE           2\n",
       " icse           2\n",
       "WBSC            1\n",
       " hse            1\n",
       "I C S E         1\n",
       " West Beng      1\n",
       " WEST BENG      1\n",
       " WB             1\n",
       "Cbse            1\n",
       " WBSE           1\n",
       "SEBA            1\n",
       "Tripura b       1\n",
       " Wbse           1\n",
       " WBBSC          1\n",
       "Jk bose         1\n",
       "WBCHSE          1\n",
       "Wbse            1\n",
       " cbse           1\n",
       " WBBSH          1\n",
       "W.B.B.S.E.      1\n",
       "  CBSE          1\n",
       " I.C.S.E        1\n",
       "WBSE            1\n",
       "Prasun Das      1\n",
       " WB board       1\n",
       "ICSE            1\n",
       " CICSE          1\n",
       " Cbse           1\n",
       " WB             1\n",
       " Bihar          1\n",
       " BSEB           1\n",
       "Madhyamik       1\n",
       "ICSE            1\n",
       "West Benga      1\n",
       " W.W.W.S.E      1\n",
       "Name: BOARD, dtype: int64"
      ]
     },
     "execution_count": 25,
     "metadata": {},
     "output_type": "execute_result"
    }
   ],
   "source": [
    "student_df[\"BOARD\"].value_counts()"
   ]
  },
  {
   "cell_type": "code",
   "execution_count": 27,
   "id": "0252872b",
   "metadata": {},
   "outputs": [
    {
     "data": {
      "text/plain": [
       "CSJ    77\n",
       "CSG    76\n",
       "CSA    76\n",
       "CSC    76\n",
       "CSE    76\n",
       "CSF    76\n",
       "CSB    76\n",
       "CSD    75\n",
       "CSH    75\n",
       "CSI    73\n",
       "CSX     1\n",
       "Name: STREAM, dtype: int64"
      ]
     },
     "execution_count": 27,
     "metadata": {},
     "output_type": "execute_result"
    }
   ],
   "source": [
    "student_df[\"STREAM\"].value_counts()"
   ]
  },
  {
   "cell_type": "code",
   "execution_count": null,
   "id": "214ca73a",
   "metadata": {},
   "outputs": [],
   "source": []
  },
  {
   "cell_type": "code",
   "execution_count": null,
   "id": "1d0503a2",
   "metadata": {},
   "outputs": [],
   "source": []
  },
  {
   "cell_type": "code",
   "execution_count": null,
   "id": "c4e84b73",
   "metadata": {},
   "outputs": [],
   "source": []
  },
  {
   "cell_type": "code",
   "execution_count": null,
   "id": "ff18de71",
   "metadata": {},
   "outputs": [],
   "source": []
  },
  {
   "cell_type": "code",
   "execution_count": 15,
   "id": "b22a8fd0",
   "metadata": {},
   "outputs": [
    {
     "data": {
      "text/plain": [
       "21.44"
      ]
     },
     "execution_count": 15,
     "metadata": {},
     "output_type": "execute_result"
    }
   ],
   "source": [
    "round(sum(student_df[\"Study Hours\"].dropna())/student_df[\"Study Hours\"].dropna().shape[0],2)"
   ]
  },
  {
   "cell_type": "code",
   "execution_count": 16,
   "id": "dd52eba5",
   "metadata": {},
   "outputs": [
    {
     "data": {
      "text/plain": [
       "8.74"
      ]
     },
     "execution_count": 16,
     "metadata": {},
     "output_type": "execute_result"
    }
   ],
   "source": [
    "round(sum(student_df[\"SGPA_SEMESTER1\"].dropna())/student_df[\"SGPA_SEMESTER1\"].dropna().shape[0],2)"
   ]
  },
  {
   "cell_type": "code",
   "execution_count": 17,
   "id": "377701e3",
   "metadata": {},
   "outputs": [
    {
     "data": {
      "text/plain": [
       "8.7"
      ]
     },
     "execution_count": 17,
     "metadata": {},
     "output_type": "execute_result"
    }
   ],
   "source": [
    "round(sum(student_df[\"SGPA_SEMESTER2\"].dropna())/student_df[\"SGPA_SEMESTER2\"].dropna().shape[0],2)"
   ]
  },
  {
   "cell_type": "code",
   "execution_count": 18,
   "id": "d00adcdd",
   "metadata": {},
   "outputs": [
    {
     "data": {
      "text/plain": [
       "8.99"
      ]
     },
     "execution_count": 18,
     "metadata": {},
     "output_type": "execute_result"
    }
   ],
   "source": [
    "round(sum(student_df[\"SGPA_SEMESTER3\"].dropna())/student_df[\"SGPA_SEMESTER3\"].dropna().shape[0],2)"
   ]
  },
  {
   "cell_type": "code",
   "execution_count": 19,
   "id": "3789eb4b",
   "metadata": {},
   "outputs": [
    {
     "data": {
      "text/plain": [
       "9.27"
      ]
     },
     "execution_count": 19,
     "metadata": {},
     "output_type": "execute_result"
    }
   ],
   "source": [
    "round(sum(student_df[\"SGPA_SEMESTER4\"].dropna())/student_df[\"SGPA_SEMESTER4\"].dropna().shape[0],2)"
   ]
  },
  {
   "cell_type": "code",
   "execution_count": null,
   "id": "e4f41e66",
   "metadata": {},
   "outputs": [],
   "source": []
  }
 ],
 "metadata": {
  "kernelspec": {
   "display_name": "Python 3",
   "language": "python",
   "name": "python3"
  },
  "language_info": {
   "codemirror_mode": {
    "name": "ipython",
    "version": 3
   },
   "file_extension": ".py",
   "mimetype": "text/x-python",
   "name": "python",
   "nbconvert_exporter": "python",
   "pygments_lexer": "ipython3",
   "version": "3.9.5"
  }
 },
 "nbformat": 4,
 "nbformat_minor": 5
}
