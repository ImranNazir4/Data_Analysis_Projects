{
 "cells": [
  {
   "cell_type": "markdown",
   "metadata": {
    "id": "ViQdeQ5m1E2Z"
   },
   "source": [
    "# ADS2 - Assignment 2 - Data Handling and Processing with PySpark\n",
    "\n",
    "In this assignment, you will be analysing the popularity of films and TV shows on the streaming platform, Netflix. Using your knowledge of PySpark DataFrames and Spark SQL, you will produce a number of \"downstream\" data products to analyse trends in global streaming habits.\n",
    "\n",
    "Download the dataset from this [Kaggle](https://www.kaggle.com/dhruvildave/netflix-top-10-tv-shows-and-films) page. A copy of the `all_weeks_countries.csv` file is also available on the canvas page for this assignment.\n",
    "\n",
    "Your task is to load in the data and produce a number of \"downstream\" data products and plots as described below.\n",
    "\n",
    "The PySpark installation and setup is provided below for conveinience."
   ]
  },
  {
   "cell_type": "code",
   "execution_count": null,
   "metadata": {
    "id": "5lb-Z7ZM8O3s"
   },
   "outputs": [],
   "source": [
    "# Apache Spark uses Java, so first we must install that\n",
    "!apt-get install openjdk-8-jdk-headless -qq > /dev/null"
   ]
  },
  {
   "cell_type": "code",
   "execution_count": null,
   "metadata": {
    "id": "ixa72o938SKP"
   },
   "outputs": [],
   "source": [
    "# Mount Google Drive and unpack Spark\n",
    "from google.colab import drive\n",
    "drive.mount('/content/drive')\n",
    "!tar xzf /content/drive/MyDrive/spark-3.3.0-bin-hadoop3.tgz"
   ]
  },
  {
   "cell_type": "code",
   "execution_count": null,
   "metadata": {
    "id": "yWT7_XiQ8V6u"
   },
   "outputs": [],
   "source": [
    "# Set up environment variables\n",
    "import os\n",
    "os.environ[\"JAVA_HOME\"] = \"/usr/lib/jvm/java-8-openjdk-amd64\"\n",
    "os.environ[\"SPARK_HOME\"] = \"/content/spark-3.3.0-bin-hadoop3\""
   ]
  },
  {
   "cell_type": "code",
   "execution_count": null,
   "metadata": {
    "id": "UPSvq-aj8Z_k"
   },
   "outputs": [],
   "source": [
    "# Install findspark, which helps python locate the psyspark module files\n",
    "!pip install -q findspark\n",
    "import findspark\n",
    "findspark.init()"
   ]
  },
  {
   "cell_type": "code",
   "execution_count": null,
   "metadata": {
    "id": "kXT8Q_IO8cVe"
   },
   "outputs": [],
   "source": [
    "# Finally, we initialse a \"SparkSession\", which handles the computations\n",
    "from pyspark.sql import SparkSession\n",
    "spark = SparkSession.builder\\\n",
    "        .master(\"local\")\\\n",
    "        .appName(\"Colab\")\\\n",
    "        .config('spark.ui.port', '4050')\\\n",
    "        .getOrCreate()"
   ]
  },
  {
   "cell_type": "markdown",
   "metadata": {
    "id": "yfW6RnY_GZpE"
   },
   "source": [
    "# Exercise 1 - Data Preparation (5 Marks)\n",
    "\n",
    "\n",
    "1.   Load the `all_weeks_countries.csv` into your Colab Notebook as a DataFrame.\n",
    "2.   Create two separate DataFrames for Films and TV.\n",
    "3.   For the Films data, drop the column containing the season names.\n",
    "4.   For the TV data, replace any null values in the season name column with the show name."
   ]
  },
  {
   "cell_type": "code",
   "execution_count": 1,
   "metadata": {
    "id": "adZdlbyGL7Mj"
   },
   "outputs": [],
   "source": [
    "# pyspark.sql.functions countains all the transformations and actions you will\n",
    "# need\n",
    "from pyspark.sql import functions as F\n",
    "import matplotlib.pyplot as plt"
   ]
  },
  {
   "cell_type": "code",
   "execution_count": 2,
   "metadata": {
    "id": "I7PS8iZgqwjt"
   },
   "outputs": [
    {
     "name": "stdout",
     "output_type": "stream",
     "text": [
      "+------------+------------+----------+--------+-----------+--------------------+--------------------+--------------------------+\n",
      "|country_name|country_iso2|      week|category|weekly_rank|          show_title|        season_title|cumulative_weeks_in_top_10|\n",
      "+------------+------------+----------+--------+-----------+--------------------+--------------------+--------------------------+\n",
      "|   Argentina|          AR|2022-08-21|   Films|          1|      Look Both Ways|                null|                         1|\n",
      "|   Argentina|          AR|2022-08-21|   Films|          2|           Day Shift|                null|                         2|\n",
      "|   Argentina|          AR|2022-08-21|   Films|          3|Bank Robbers: The...|                null|                         2|\n",
      "|   Argentina|          AR|2022-08-21|   Films|          4|   The Next 365 Days|                null|                         1|\n",
      "|   Argentina|          AR|2022-08-21|   Films|          5|The Angry Birds M...|                null|                         1|\n",
      "|   Argentina|          AR|2022-08-21|   Films|          6|       Purple Hearts|                null|                         4|\n",
      "|   Argentina|          AR|2022-08-21|   Films|          7|      River Runs Red|                null|                         1|\n",
      "|   Argentina|          AR|2022-08-21|   Films|          8|                1917|                null|                         2|\n",
      "|   Argentina|          AR|2022-08-21|   Films|          9|  Code Name: Emperor|                null|                         2|\n",
      "|   Argentina|          AR|2022-08-21|   Films|         10|           Royalteen|                null|                         1|\n",
      "|   Argentina|          AR|2022-08-21|      TV|          1| Pasión de Gavilanes|Pasión de Gavilan...|                         5|\n",
      "|   Argentina|          AR|2022-08-21|      TV|          2|        Another Self|Another Self: Sea...|                         4|\n",
      "|   Argentina|          AR|2022-08-21|      TV|          3| Pasión de Gavilanes|Pasión de Gavilan...|                        58|\n",
      "|   Argentina|          AR|2022-08-21|      TV|          4|            Manifest|  Manifest: Season 1|                         6|\n",
      "|   Argentina|          AR|2022-08-21|      TV|          5|         The Sandman|The Sandman: Seas...|                         3|\n",
      "|   Argentina|          AR|2022-08-21|      TV|          6|Extraordinary Att...|Extraordinary Att...|                         2|\n",
      "|   Argentina|          AR|2022-08-21|      TV|          7|           High Heat| High Heat: Season 1|                         1|\n",
      "|   Argentina|          AR|2022-08-21|      TV|          8|            Manifest|  Manifest: Season 2|                         5|\n",
      "|   Argentina|          AR|2022-08-21|      TV|          9|            Manifest|  Manifest: Season 3|                         4|\n",
      "|   Argentina|          AR|2022-08-21|      TV|         10|   Never Have I Ever|Never Have I Ever...|                         2|\n",
      "+------------+------------+----------+--------+-----------+--------------------+--------------------+--------------------------+\n",
      "only showing top 20 rows\n",
      "\n"
     ]
    }
   ],
   "source": [
    "### Load the all_weeks_countries.csv into your Colab Notebook as a DataFrame.\n",
    "from pyspark.sql import SparkSession\n",
    "spark = SparkSession.builder.appName(\"ReadCSV\").getOrCreate()\n",
    "# Read CSV file\n",
    "df = spark.read.csv(\"all-weeks-countries.csv\", header=True, inferSchema=True)\n",
    "# Show the first 20 rows\n",
    "df.show()"
   ]
  },
  {
   "cell_type": "code",
   "execution_count": 3,
   "metadata": {
    "id": "aOKWP2lgu7p4"
   },
   "outputs": [
    {
     "name": "stdout",
     "output_type": "stream",
     "text": [
      "root\n",
      " |-- country_name: string (nullable = true)\n",
      " |-- country_iso2: string (nullable = true)\n",
      " |-- week: date (nullable = true)\n",
      " |-- category: string (nullable = true)\n",
      " |-- weekly_rank: integer (nullable = true)\n",
      " |-- show_title: string (nullable = true)\n",
      " |-- season_title: string (nullable = true)\n",
      " |-- cumulative_weeks_in_top_10: integer (nullable = true)\n",
      "\n",
      "+------------+------------+----------+--------+-----------+--------------------+--------------------+--------------------------+\n",
      "|country_name|country_iso2|      week|category|weekly_rank|          show_title|        season_title|cumulative_weeks_in_top_10|\n",
      "+------------+------------+----------+--------+-----------+--------------------+--------------------+--------------------------+\n",
      "|   Argentina|          AR|2022-08-21|   Films|          1|      Look Both Ways|                null|                         1|\n",
      "|   Argentina|          AR|2022-08-21|   Films|          2|           Day Shift|                null|                         2|\n",
      "|   Argentina|          AR|2022-08-21|   Films|          3|Bank Robbers: The...|                null|                         2|\n",
      "|   Argentina|          AR|2022-08-21|   Films|          4|   The Next 365 Days|                null|                         1|\n",
      "|   Argentina|          AR|2022-08-21|   Films|          5|The Angry Birds M...|                null|                         1|\n",
      "|   Argentina|          AR|2022-08-21|   Films|          6|       Purple Hearts|                null|                         4|\n",
      "|   Argentina|          AR|2022-08-21|   Films|          7|      River Runs Red|                null|                         1|\n",
      "|   Argentina|          AR|2022-08-21|   Films|          8|                1917|                null|                         2|\n",
      "|   Argentina|          AR|2022-08-21|   Films|          9|  Code Name: Emperor|                null|                         2|\n",
      "|   Argentina|          AR|2022-08-21|   Films|         10|           Royalteen|                null|                         1|\n",
      "|   Argentina|          AR|2022-08-21|      TV|          1| Pasión de Gavilanes|Pasión de Gavilan...|                         5|\n",
      "|   Argentina|          AR|2022-08-21|      TV|          2|        Another Self|Another Self: Sea...|                         4|\n",
      "|   Argentina|          AR|2022-08-21|      TV|          3| Pasión de Gavilanes|Pasión de Gavilan...|                        58|\n",
      "|   Argentina|          AR|2022-08-21|      TV|          4|            Manifest|  Manifest: Season 1|                         6|\n",
      "|   Argentina|          AR|2022-08-21|      TV|          5|         The Sandman|The Sandman: Seas...|                         3|\n",
      "|   Argentina|          AR|2022-08-21|      TV|          6|Extraordinary Att...|Extraordinary Att...|                         2|\n",
      "|   Argentina|          AR|2022-08-21|      TV|          7|           High Heat| High Heat: Season 1|                         1|\n",
      "|   Argentina|          AR|2022-08-21|      TV|          8|            Manifest|  Manifest: Season 2|                         5|\n",
      "|   Argentina|          AR|2022-08-21|      TV|          9|            Manifest|  Manifest: Season 3|                         4|\n",
      "|   Argentina|          AR|2022-08-21|      TV|         10|   Never Have I Ever|Never Have I Ever...|                         2|\n",
      "+------------+------------+----------+--------+-----------+--------------------+--------------------+--------------------------+\n",
      "only showing top 20 rows\n",
      "\n"
     ]
    }
   ],
   "source": [
    "### Display the table and its schema\n",
    "df.printSchema()\n",
    "# Display the table\n",
    "df.show()"
   ]
  },
  {
   "cell_type": "code",
   "execution_count": 4,
   "metadata": {
    "id": "O0SB_TfWfrIH"
   },
   "outputs": [
    {
     "name": "stdout",
     "output_type": "stream",
     "text": [
      "+------------+------------+----------+--------+-----------+--------------------+------------+--------------------------+\n",
      "|country_name|country_iso2|      week|category|weekly_rank|          show_title|season_title|cumulative_weeks_in_top_10|\n",
      "+------------+------------+----------+--------+-----------+--------------------+------------+--------------------------+\n",
      "|   Argentina|          AR|2022-08-21|   Films|          1|      Look Both Ways|        null|                         1|\n",
      "|   Argentina|          AR|2022-08-21|   Films|          2|           Day Shift|        null|                         2|\n",
      "|   Argentina|          AR|2022-08-21|   Films|          3|Bank Robbers: The...|        null|                         2|\n",
      "|   Argentina|          AR|2022-08-21|   Films|          4|   The Next 365 Days|        null|                         1|\n",
      "|   Argentina|          AR|2022-08-21|   Films|          5|The Angry Birds M...|        null|                         1|\n",
      "|   Argentina|          AR|2022-08-21|   Films|          6|       Purple Hearts|        null|                         4|\n",
      "|   Argentina|          AR|2022-08-21|   Films|          7|      River Runs Red|        null|                         1|\n",
      "|   Argentina|          AR|2022-08-21|   Films|          8|                1917|        null|                         2|\n",
      "|   Argentina|          AR|2022-08-21|   Films|          9|  Code Name: Emperor|        null|                         2|\n",
      "|   Argentina|          AR|2022-08-21|   Films|         10|           Royalteen|        null|                         1|\n",
      "|   Argentina|          AR|2022-08-14|   Films|          1|Bank Robbers: The...|        null|                         1|\n",
      "|   Argentina|          AR|2022-08-14|   Films|          2|       Purple Hearts|        null|                         3|\n",
      "|   Argentina|          AR|2022-08-14|   Films|          3|                1917|        null|                         1|\n",
      "|   Argentina|          AR|2022-08-14|   Films|          4|           Day Shift|        null|                         1|\n",
      "|   Argentina|          AR|2022-08-14|   Films|          5|  Code Name: Emperor|        null|                         1|\n",
      "|   Argentina|          AR|2022-08-14|   Films|          6|              Carter|        null|                         2|\n",
      "|   Argentina|          AR|2022-08-14|   Films|          7|          Recurrence|        null|                         3|\n",
      "|   Argentina|          AR|2022-08-14|   Films|          8|      Wedding Season|        null|                         2|\n",
      "|   Argentina|          AR|2022-08-14|   Films|          9|        Dreamkatcher|        null|                         1|\n",
      "|   Argentina|          AR|2022-08-14|   Films|         10|        The Gray Man|        null|                         4|\n",
      "+------------+------------+----------+--------+-----------+--------------------+------------+--------------------------+\n",
      "only showing top 20 rows\n",
      "\n",
      "+------------+------------+----------+--------+-----------+--------------------+--------------------+--------------------------+\n",
      "|country_name|country_iso2|      week|category|weekly_rank|          show_title|        season_title|cumulative_weeks_in_top_10|\n",
      "+------------+------------+----------+--------+-----------+--------------------+--------------------+--------------------------+\n",
      "|   Argentina|          AR|2022-08-21|      TV|          1| Pasión de Gavilanes|Pasión de Gavilan...|                         5|\n",
      "|   Argentina|          AR|2022-08-21|      TV|          2|        Another Self|Another Self: Sea...|                         4|\n",
      "|   Argentina|          AR|2022-08-21|      TV|          3| Pasión de Gavilanes|Pasión de Gavilan...|                        58|\n",
      "|   Argentina|          AR|2022-08-21|      TV|          4|            Manifest|  Manifest: Season 1|                         6|\n",
      "|   Argentina|          AR|2022-08-21|      TV|          5|         The Sandman|The Sandman: Seas...|                         3|\n",
      "|   Argentina|          AR|2022-08-21|      TV|          6|Extraordinary Att...|Extraordinary Att...|                         2|\n",
      "|   Argentina|          AR|2022-08-21|      TV|          7|           High Heat| High Heat: Season 1|                         1|\n",
      "|   Argentina|          AR|2022-08-21|      TV|          8|            Manifest|  Manifest: Season 2|                         5|\n",
      "|   Argentina|          AR|2022-08-21|      TV|          9|            Manifest|  Manifest: Season 3|                         4|\n",
      "|   Argentina|          AR|2022-08-21|      TV|         10|   Never Have I Ever|Never Have I Ever...|                         2|\n",
      "|   Argentina|          AR|2022-08-14|      TV|          1| Pasión de Gavilanes|Pasión de Gavilan...|                         4|\n",
      "|   Argentina|          AR|2022-08-14|      TV|          2|        Another Self|Another Self: Sea...|                         3|\n",
      "|   Argentina|          AR|2022-08-14|      TV|          3|         The Sandman|The Sandman: Seas...|                         2|\n",
      "|   Argentina|          AR|2022-08-14|      TV|          4| Pasión de Gavilanes|Pasión de Gavilan...|                        57|\n",
      "|   Argentina|          AR|2022-08-14|      TV|          5|            Manifest|  Manifest: Season 1|                         5|\n",
      "|   Argentina|          AR|2022-08-14|      TV|          6|Extraordinary Att...|Extraordinary Att...|                         1|\n",
      "|   Argentina|          AR|2022-08-14|      TV|          7|                Alba|      Alba: Season 1|                         5|\n",
      "|   Argentina|          AR|2022-08-14|      TV|          8|            Manifest|  Manifest: Season 2|                         4|\n",
      "|   Argentina|          AR|2022-08-14|      TV|          9|            Manifest|  Manifest: Season 3|                         3|\n",
      "|   Argentina|          AR|2022-08-14|      TV|         10|   Never Have I Ever|Never Have I Ever...|                         1|\n",
      "+------------+------------+----------+--------+-----------+--------------------+--------------------+--------------------------+\n",
      "only showing top 20 rows\n",
      "\n"
     ]
    }
   ],
   "source": [
    "### Seperate the data into two DataFrames for Films and TV\n",
    "films_df = df.filter(df[\"category\"] == \"Films\")\n",
    "tv_df = df.filter(df[\"category\"] == \"TV\")\n",
    "\n",
    "# Display the two DataFrames\n",
    "films_df.show()\n",
    "tv_df.show()"
   ]
  },
  {
   "cell_type": "code",
   "execution_count": 5,
   "metadata": {
    "id": "L6LsKVYSfvAt"
   },
   "outputs": [
    {
     "name": "stdout",
     "output_type": "stream",
     "text": [
      "+------------+------------+----------+--------+-----------+--------------------+--------------------------+\n",
      "|country_name|country_iso2|      week|category|weekly_rank|          show_title|cumulative_weeks_in_top_10|\n",
      "+------------+------------+----------+--------+-----------+--------------------+--------------------------+\n",
      "|   Argentina|          AR|2022-08-21|   Films|          1|      Look Both Ways|                         1|\n",
      "|   Argentina|          AR|2022-08-21|   Films|          2|           Day Shift|                         2|\n",
      "|   Argentina|          AR|2022-08-21|   Films|          3|Bank Robbers: The...|                         2|\n",
      "|   Argentina|          AR|2022-08-21|   Films|          4|   The Next 365 Days|                         1|\n",
      "|   Argentina|          AR|2022-08-21|   Films|          5|The Angry Birds M...|                         1|\n",
      "|   Argentina|          AR|2022-08-21|   Films|          6|       Purple Hearts|                         4|\n",
      "|   Argentina|          AR|2022-08-21|   Films|          7|      River Runs Red|                         1|\n",
      "|   Argentina|          AR|2022-08-21|   Films|          8|                1917|                         2|\n",
      "|   Argentina|          AR|2022-08-21|   Films|          9|  Code Name: Emperor|                         2|\n",
      "|   Argentina|          AR|2022-08-21|   Films|         10|           Royalteen|                         1|\n",
      "|   Argentina|          AR|2022-08-14|   Films|          1|Bank Robbers: The...|                         1|\n",
      "|   Argentina|          AR|2022-08-14|   Films|          2|       Purple Hearts|                         3|\n",
      "|   Argentina|          AR|2022-08-14|   Films|          3|                1917|                         1|\n",
      "|   Argentina|          AR|2022-08-14|   Films|          4|           Day Shift|                         1|\n",
      "|   Argentina|          AR|2022-08-14|   Films|          5|  Code Name: Emperor|                         1|\n",
      "|   Argentina|          AR|2022-08-14|   Films|          6|              Carter|                         2|\n",
      "|   Argentina|          AR|2022-08-14|   Films|          7|          Recurrence|                         3|\n",
      "|   Argentina|          AR|2022-08-14|   Films|          8|      Wedding Season|                         2|\n",
      "|   Argentina|          AR|2022-08-14|   Films|          9|        Dreamkatcher|                         1|\n",
      "|   Argentina|          AR|2022-08-14|   Films|         10|        The Gray Man|                         4|\n",
      "+------------+------------+----------+--------+-----------+--------------------+--------------------------+\n",
      "only showing top 20 rows\n",
      "\n"
     ]
    }
   ],
   "source": [
    "### Drop the 'season_title' column from the Films DataFrame, display the table\n",
    "films_df = films_df.drop(\"season_title\")\n",
    "\n",
    "# Display the updated Films DataFrame\n",
    "films_df.show()"
   ]
  },
  {
   "cell_type": "code",
   "execution_count": 6,
   "metadata": {
    "id": "53ApWu9fLARn",
    "scrolled": true
   },
   "outputs": [
    {
     "name": "stdout",
     "output_type": "stream",
     "text": [
      "+------------+------------+----------+--------+-----------+--------------------+--------------------+--------------------------+\n",
      "|country_name|country_iso2|      week|category|weekly_rank|          show_title|        season_title|cumulative_weeks_in_top_10|\n",
      "+------------+------------+----------+--------+-----------+--------------------+--------------------+--------------------------+\n",
      "|   Argentina|          AR|2022-08-21|      TV|          1| Pasión de Gavilanes|Pasión de Gavilan...|                         5|\n",
      "|   Argentina|          AR|2022-08-21|      TV|          2|        Another Self|Another Self: Sea...|                         4|\n",
      "|   Argentina|          AR|2022-08-21|      TV|          3| Pasión de Gavilanes|Pasión de Gavilan...|                        58|\n",
      "|   Argentina|          AR|2022-08-21|      TV|          4|            Manifest|  Manifest: Season 1|                         6|\n",
      "|   Argentina|          AR|2022-08-21|      TV|          5|         The Sandman|The Sandman: Seas...|                         3|\n",
      "|   Argentina|          AR|2022-08-21|      TV|          6|Extraordinary Att...|Extraordinary Att...|                         2|\n",
      "|   Argentina|          AR|2022-08-21|      TV|          7|           High Heat| High Heat: Season 1|                         1|\n",
      "|   Argentina|          AR|2022-08-21|      TV|          8|            Manifest|  Manifest: Season 2|                         5|\n",
      "|   Argentina|          AR|2022-08-21|      TV|          9|            Manifest|  Manifest: Season 3|                         4|\n",
      "|   Argentina|          AR|2022-08-21|      TV|         10|   Never Have I Ever|Never Have I Ever...|                         2|\n",
      "|   Argentina|          AR|2022-08-14|      TV|          1| Pasión de Gavilanes|Pasión de Gavilan...|                         4|\n",
      "|   Argentina|          AR|2022-08-14|      TV|          2|        Another Self|Another Self: Sea...|                         3|\n",
      "|   Argentina|          AR|2022-08-14|      TV|          3|         The Sandman|The Sandman: Seas...|                         2|\n",
      "|   Argentina|          AR|2022-08-14|      TV|          4| Pasión de Gavilanes|Pasión de Gavilan...|                        57|\n",
      "|   Argentina|          AR|2022-08-14|      TV|          5|            Manifest|  Manifest: Season 1|                         5|\n",
      "|   Argentina|          AR|2022-08-14|      TV|          6|Extraordinary Att...|Extraordinary Att...|                         1|\n",
      "|   Argentina|          AR|2022-08-14|      TV|          7|                Alba|      Alba: Season 1|                         5|\n",
      "|   Argentina|          AR|2022-08-14|      TV|          8|            Manifest|  Manifest: Season 2|                         4|\n",
      "|   Argentina|          AR|2022-08-14|      TV|          9|            Manifest|  Manifest: Season 3|                         3|\n",
      "|   Argentina|          AR|2022-08-14|      TV|         10|   Never Have I Ever|Never Have I Ever...|                         1|\n",
      "+------------+------------+----------+--------+-----------+--------------------+--------------------+--------------------------+\n",
      "only showing top 20 rows\n",
      "\n"
     ]
    }
   ],
   "source": [
    "### Replace any null values in 'season_name' in the TV DataFrame with the\n",
    "### corresponding 'show_name', display the table\n",
    "tv_df = tv_df.withColumn('season_title', F.coalesce(tv_df['season_title'], tv_df['show_title']))\n",
    "\n",
    "# Show the updated table\n",
    "tv_df.show()"
   ]
  },
  {
   "cell_type": "code",
   "execution_count": 7,
   "metadata": {},
   "outputs": [
    {
     "data": {
      "text/plain": [
       "0"
      ]
     },
     "execution_count": 7,
     "metadata": {},
     "output_type": "execute_result"
    }
   ],
   "source": [
    "null_count = tv_df.filter(tv_df[\"season_title\"].isNull()).count()\n",
    "null_count"
   ]
  },
  {
   "cell_type": "markdown",
   "metadata": {
    "id": "rAHZm5_9IzTn"
   },
   "source": [
    "# Exercise 2 - Most popular films by country (10 Marks)\n",
    "\n",
    "1.   For each country in the data, find the highest rank each film reached, and the number of weeks it spent in the top 10. (4 marks)\n",
    "2.   Produce a DataFrame that contains the film which spent the most time in each country's top 10. (4 marks)\n",
    "3.   Produce a pie chart which shows how many countries the most popular films occurred in. (2 marks)\n"
   ]
  },
  {
   "cell_type": "code",
   "execution_count": 8,
   "metadata": {},
   "outputs": [
    {
     "name": "stdout",
     "output_type": "stream",
     "text": [
      "+------------+--------------------+-------------------------------+\n",
      "|country_name|          show_title|max(cumulative_weeks_in_top_10)|\n",
      "+------------+--------------------+-------------------------------+\n",
      "|   Australia|           Bloodshot|                              2|\n",
      "|   Australia|             Traffik|                              1|\n",
      "|   Australia|   Godzilla vs. Kong|                              2|\n",
      "|     Bahamas|          The Healer|                              1|\n",
      "|     Bahamas|     The Hurt Locker|                              1|\n",
      "|     Bahrain|          Spiderhead|                              2|\n",
      "|     Bahrain|     Against The Ice|                              3|\n",
      "|     Bahrain|       The Privilege|                              1|\n",
      "|     Belgium|        Heart Parade|                              1|\n",
      "|     Bolivia|Men in Black: Int...|                              2|\n",
      "|     Bolivia|Retfærdighedens r...|                              1|\n",
      "|     Bolivia|         World War Z|                              2|\n",
      "|    Bulgaria|G.I. Joe: The Ris...|                              1|\n",
      "|      Canada|   Indecent Proposal|                              1|\n",
      "|       Chile|   Bohemian Rhapsody|                              1|\n",
      "|       Chile|              Brazen|                              2|\n",
      "|       Chile|                Troy|                              1|\n",
      "|       Chile|          Nightbooks|                              1|\n",
      "|    Colombia|               Lulli|                              1|\n",
      "|    Colombia|           Intrusion|                              1|\n",
      "+------------+--------------------+-------------------------------+\n",
      "only showing top 20 rows\n",
      "\n"
     ]
    }
   ],
   "source": [
    "# Group the data by country_name and show_title, and aggregate the weekly_rank and cumulative_weeks_in_top_10 columns\n",
    "result = films_df.groupBy(\"country_name\",\"show_title\").agg(F.max(\"cumulative_weeks_in_top_10\"))\n",
    "\n",
    "# Show the result\n",
    "result.show()"
   ]
  },
  {
   "cell_type": "code",
   "execution_count": 9,
   "metadata": {},
   "outputs": [],
   "source": [
    "#Produce a DataFrame that contains the film which spent the most time in each country's top 10"
   ]
  },
  {
   "cell_type": "code",
   "execution_count": 11,
   "metadata": {},
   "outputs": [
    {
     "name": "stdout",
     "output_type": "stream",
     "text": [
      "+------------+--------------------+--------------------------+\n",
      "|country_name|          show_title|cumulative_weeks_in_top_10|\n",
      "+------------+--------------------+--------------------------+\n",
      "|   Argentina|13 Hours: The Sec...|                         2|\n",
      "|   Argentina|                1917|                         2|\n",
      "|   Argentina|                 211|                         1|\n",
      "|   Argentina|  365 Days: This Day|                         2|\n",
      "|   Argentina|      40 Years Young|                         1|\n",
      "|   Argentina|47 Meters Down: U...|                         2|\n",
      "|   Argentina|         7 Prisoners|                         2|\n",
      "|   Argentina|A Boy Called Chri...|                         2|\n",
      "|   Argentina|A California Chri...|                         1|\n",
      "|   Argentina|A Castle For Chri...|                         2|\n",
      "|   Argentina|A Classic Horror ...|                         1|\n",
      "|   Argentina|     A Dog's Journey|                         2|\n",
      "|   Argentina|    A Dog's Way Home|                         1|\n",
      "|   Argentina|     A Perfect Enemy|                         1|\n",
      "|   Argentina|       A Perfect Fit|                         1|\n",
      "|   Argentina|   A Perfect Pairing|                         3|\n",
      "|   Argentina|   A Score to Settle|                         2|\n",
      "|   Argentina|          Abominable|                         3|\n",
      "|   Argentina|Afterlife of the ...|                         2|\n",
      "|   Argentina|           Aftermath|                         2|\n",
      "+------------+--------------------+--------------------------+\n",
      "only showing top 20 rows\n",
      "\n"
     ]
    }
   ],
   "source": [
    "from pyspark.sql.window import Window\n",
    "\n",
    "# Create a window partitioned by country and show_title, ordered by cumulative_weeks_in_top_10\n",
    "window = Window.partitionBy(\"country_name\", \"show_title\").orderBy(F.desc(\"cumulative_weeks_in_top_10\"))\n",
    "\n",
    "# Add a rank column to the DataFrame based on the window\n",
    "ranked_df = films_df.select(\"*\", F.rank().over(window).alias(\"rank\"))\n",
    "\n",
    "# Filter the DataFrame to only include rows where the rank is 1 (i.e. the film spent the most time in the top 10 for that country)\n",
    "result_df = ranked_df.filter(ranked_df.rank == 1)\n",
    "\n",
    "# Select only the relevant columns and display the resulting DataFrame\n",
    "result_df.select(\"country_name\", \"show_title\", \"cumulative_weeks_in_top_10\").show()\n"
   ]
  },
  {
   "cell_type": "code",
   "execution_count": 12,
   "metadata": {},
   "outputs": [],
   "source": [
    "#Produce a pie chart which shows how many countries the most popular films occurred in"
   ]
  },
  {
   "cell_type": "code",
   "execution_count": 13,
   "metadata": {},
   "outputs": [
    {
     "data": {
      "text/plain": [
       "<Figure size 1008x720 with 0 Axes>"
      ]
     },
     "metadata": {},
     "output_type": "display_data"
    },
    {
     "data": {
      "image/png": "[encoded data removed]",
      "text/plain": [
       "<Figure size 432x288 with 1 Axes>"
      ]
     },
     "metadata": {},
     "output_type": "display_data"
    }
   ],
   "source": [
    "from pyspark.sql.functions import countDistinct\n",
    "\n",
    "\n",
    "# Group the dataframe by show_title and count the number of unique country_names\n",
    "grouped = films_df.groupBy(\"show_title\").agg(countDistinct(\"country_name\").alias(\"num_countries\"))\n",
    "\n",
    "# Sort the groups by count in descending order\n",
    "sorted_groups = grouped.sort(\"num_countries\", ascending=False)\n",
    "\n",
    "# Get the top 10 groups\n",
    "top_groups = sorted_groups.limit(10).toPandas()\n",
    "plt.figure(figsize=(14,10))\n",
    "# Create a pie chart of the top groups\n",
    "fig, ax = plt.subplots()\n",
    "ax.pie(top_groups[\"num_countries\"], labels=top_groups[\"show_title\"], autopct='%1.1f%%')\n",
    "ax.set_title('Distribution of Most Popular Films by Country')\n",
    "plt.show()\n"
   ]
  },
  {
   "cell_type": "code",
   "execution_count": 14,
   "metadata": {
    "id": "8SGNNEcOKLhX"
   },
   "outputs": [],
   "source": [
    "### Group the data by 'country_name' and 'show_title' and find the highest\n",
    "### weekly rank and total weeks spent in the top 10 for each film, display the\n",
    "### data\n",
    "# .groupBy, .agg, F.max, F.min, .sort, .show\n",
    "\n"
   ]
  },
  {
   "cell_type": "code",
   "execution_count": 15,
   "metadata": {},
   "outputs": [
    {
     "name": "stdout",
     "output_type": "stream",
     "text": [
      "+------------+-----------------+----------------+-------------------------------+\n",
      "|country_name|       show_title|min(weekly_rank)|sum(cumulative_weeks_in_top_10)|\n",
      "+------------+-----------------+----------------+-------------------------------+\n",
      "|   Australia|        Bloodshot|               1|                              3|\n",
      "|   Australia|          Traffik|               9|                              1|\n",
      "|   Australia|Godzilla vs. Kong|               2|                              3|\n",
      "|     Bahamas|       The Healer|               6|                              1|\n",
      "|     Bahamas|  The Hurt Locker|               8|                              1|\n",
      "+------------+-----------------+----------------+-------------------------------+\n",
      "only showing top 5 rows\n",
      "\n"
     ]
    }
   ],
   "source": [
    "highest_rating_df = films_df.groupBy(\"country_name\", \"show_title\").agg(F.min(\"weekly_rank\"),F.sum(\"cumulative_weeks_in_top_10\"))\n",
    "# Display the resulting DataFrame\n",
    "highest_rating_df.show(5)"
   ]
  },
  {
   "cell_type": "markdown",
   "metadata": {
    "id": "dwmCkbhhWFdG"
   },
   "source": [
    "Produce a DataFrame which shows, for each country, the most popular film by the number of weeks it spent in the top 10, how many weeks that film was in the top 10, and the highest weekly rank it reached."
   ]
  },
  {
   "cell_type": "code",
   "execution_count": 17,
   "metadata": {},
   "outputs": [
    {
     "name": "stdout",
     "output_type": "stream",
     "text": [
      "+------------------+--------------------+-------------------+---------------+\n",
      "|      country_name|          show_title|highest_weekly_rank|weeks_in_top_10|\n",
      "+------------------+--------------------+-------------------+---------------+\n",
      "|         Argentina|  Sonic the Hedgehog|                  9|              7|\n",
      "|         Australia| Back to the Outback|                 10|              8|\n",
      "|           Austria|Harry Potter and ...|                 10|              9|\n",
      "|           Bahamas|  A Madea Homecoming|                  9|              9|\n",
      "|           Bahrain|          Red Notice|                  9|              8|\n",
      "|        Bangladesh|        Sooryavanshi|                  9|             21|\n",
      "|           Belgium|    The Adam Project|                 10|              8|\n",
      "|           Bolivia|               Shrek|                 10|             18|\n",
      "|            Brazil|Hotel Transylvani...|                  6|              7|\n",
      "|          Bulgaria|          Red Notice|                 10|             15|\n",
      "|            Canada|    The Adam Project|                 10|              7|\n",
      "|             Chile|  Sonic the Hedgehog|                 10|              8|\n",
      "|          Colombia|          Red Notice|                 10|             12|\n",
      "|        Costa Rica|  Sonic the Hedgehog|                 10|             10|\n",
      "|           Croatia|          Red Notice|                 10|             14|\n",
      "|            Cyprus|          Red Notice|                 10|             12|\n",
      "|    Czech Republic|   Bet on Friendship|                  8|             14|\n",
      "|           Denmark|          Red Notice|                  9|             12|\n",
      "|Dominican Republic|          Red Notice|                  8|              8|\n",
      "|           Ecuador|          Red Notice|                  8|              9|\n",
      "+------------------+--------------------+-------------------+---------------+\n",
      "only showing top 20 rows\n",
      "\n"
     ]
    }
   ],
   "source": [
    "\n",
    "from pyspark.sql.window import Window\n",
    "\n",
    "\n",
    "\n",
    "# Create a window function to partition by country and order by cumulative_weeks_in_top_10 in descending order\n",
    "windowSpec = Window.partitionBy(\"country_name\").orderBy(F.desc(\"cumulative_weeks_in_top_10\"))\n",
    "\n",
    "# Add a row number column based on the window function\n",
    "df1 = films_df.withColumn(\"rank\", F.row_number().over(windowSpec))\n",
    "\n",
    "# Filter for only the top-ranked rows for each country\n",
    "df1 = df1.filter(df1[\"rank\"] == 1)\n",
    "\n",
    "# Group by country and show_title and compute the maximum weekly rank and cumulative weeks in top 10\n",
    "grouped_df = df1.groupBy(\"country_name\", \"show_title\").agg(F.max(\"weekly_rank\").alias(\"highest_weekly_rank\"), F.max(\"cumulative_weeks_in_top_10\").alias(\"weeks_in_top_10\"))\n",
    "\n",
    "# Sort by country and weeks_in_top_10 in descending order\n",
    "sorted_df = grouped_df.orderBy([\"country_name\", \"weeks_in_top_10\"], ascending=[True, False])\n",
    "\n",
    "# Show the resulting dataframe\n",
    "sorted_df.show()\n"
   ]
  },
  {
   "cell_type": "code",
   "execution_count": 18,
   "metadata": {},
   "outputs": [
    {
     "name": "stdout",
     "output_type": "stream",
     "text": [
      "+------------+--------------------+---------------+------------+\n",
      "|country_name|          show_title|weeks_in_top_10|highest_rank|\n",
      "+------------+--------------------+---------------+------------+\n",
      "|   Argentina|  Sonic the Hedgehog|              7|           1|\n",
      "|   Argentina|Hotel Transylvani...|              6|           2|\n",
      "|   Argentina|                Vivo|              5|           3|\n",
      "|   Argentina| The Tinder Swindler|              5|           1|\n",
      "|   Argentina|       Don't Look Up|              5|           1|\n",
      "|   Argentina|       The Sea Beast|              5|           1|\n",
      "|   Argentina| Back to the Outback|              5|           3|\n",
      "|   Argentina|The Secret Life o...|              5|           1|\n",
      "|   Argentina|            All Hail|              5|           1|\n",
      "|   Argentina|    The Unforgivable|              5|           1|\n",
      "|   Argentina|    The Adam Project|              4|           1|\n",
      "|   Argentina|      Chernobyl 1986|              4|           1|\n",
      "|   Argentina|Fear Street Part ...|              4|           3|\n",
      "|   Argentina|       Purple Hearts|              4|           1|\n",
      "|   Argentina|               Venom|              4|           1|\n",
      "|   Argentina|        The Gray Man|              4|           1|\n",
      "|   Argentina|   Through My Window|              4|           1|\n",
      "|   Argentina|              Hustle|              4|           1|\n",
      "|   Argentina|        The Ice Road|              4|           2|\n",
      "|   Argentina|     The Equalizer 2|              4|           2|\n",
      "+------------+--------------------+---------------+------------+\n",
      "only showing top 20 rows\n",
      "\n"
     ]
    }
   ],
   "source": [
    "# group by country and show title, and aggregate the max weeks and min weekly rank\n",
    "top_films_by_country = (\n",
    "    films_df.groupBy(['country_name', 'show_title'])\n",
    "      .agg(F.max('cumulative_weeks_in_top_10').alias('weeks_in_top_10'), \n",
    "           F.min('weekly_rank').alias('highest_rank'))\n",
    ")\n",
    "\n",
    "# sort by country and weeks in descending order\n",
    "top_films_by_country = (\n",
    "    top_films_by_country.sort(['country_name', 'weeks_in_top_10'], ascending=[True, False])\n",
    ")\n",
    "\n",
    "# display the resulting table\n",
    "top_films_by_country.show()"
   ]
  },
  {
   "cell_type": "code",
   "execution_count": 19,
   "metadata": {
    "id": "KTkWmAhdWs4Y"
   },
   "outputs": [],
   "source": [
    "### Find the film that spent the most time in each country's top 10 list.\n",
    "### Produce and display a table showing that information, along with the number\n",
    "### of weeks spent in the top 10, and the highest weekly ranking\n",
    "# .groupBy, .sort, .desc, .agg, F.first, .show\n",
    "\n"
   ]
  },
  {
   "cell_type": "code",
   "execution_count": 21,
   "metadata": {},
   "outputs": [
    {
     "name": "stdout",
     "output_type": "stream",
     "text": [
      "+------------+--------------------+---------------+------------+\n",
      "|country_name|          show_title|weeks_in_top_10|highest_rank|\n",
      "+------------+--------------------+---------------+------------+\n",
      "|     Vietnam|          Red Notice|             22|           8|\n",
      "|     Vietnam|    Camellia Sisters|              9|          10|\n",
      "|     Vietnam|Spider-Man: Homec...|              9|           8|\n",
      "|     Vietnam|        The Guardian|              8|          10|\n",
      "|     Vietnam|John Wick: Chapte...|              7|          10|\n",
      "|     Vietnam|       Don't Look Up|              7|           5|\n",
      "|     Vietnam|         Dreamy Eyes|              6|          10|\n",
      "|     Vietnam|Spider-Man: No Wa...|              6|          10|\n",
      "|     Vietnam|STAND BY ME Dorae...|              6|           9|\n",
      "|     Vietnam|Venom: Let There ...|              6|           8|\n",
      "|     Vietnam|Fast & Furious Pr...|              6|           8|\n",
      "|     Vietnam|       Gods of Egypt|              6|           7|\n",
      "|     Vietnam|    The Adam Project|              5|          10|\n",
      "|     Vietnam|The Man from Toronto|              5|          10|\n",
      "|     Vietnam|     Army of Thieves|              5|          10|\n",
      "|     Vietnam|  365 Days: This Day|              5|          10|\n",
      "|     Vietnam|         Incantation|              5|           9|\n",
      "|     Vietnam|    Now You See Me 2|              5|           9|\n",
      "|     Vietnam|         My Mr. Wife|              5|           9|\n",
      "|     Vietnam|        The Gray Man|              5|           9|\n",
      "+------------+--------------------+---------------+------------+\n",
      "only showing top 20 rows\n",
      "\n"
     ]
    }
   ],
   "source": [
    "from pyspark.sql.window import Window\n",
    "\n",
    "# Assuming the data is already loaded into a PySpark DataFrame called \"top_10_data\"\n",
    "\n",
    "# Define a window function to group the data by country_name and show_title,\n",
    "# and order the data by cumulative_weeks_in_top_10 in descending order\n",
    "window_spec = Window.partitionBy(\"country_name\", \"category\", \"show_title\") \\\n",
    "                    .orderBy(F.desc(\"cumulative_weeks_in_top_10\"))\n",
    "\n",
    "# Apply the window function and select the top row for each country/show combination\n",
    "# This will give us the film that spent the most time in each country's top 10 list\n",
    "top_films_data = films_df.select(\"*\", \n",
    "                        F.rank().over(window_spec).alias(\"rank\")).filter(F.col(\"rank\") == 1)\n",
    "\n",
    "# Group the top films data by country_name and show_title, and calculate the maximum\n",
    "# cumulative_weeks_in_top_10 and the minimum weekly_rank for each group\n",
    "result = top_films_data.groupBy(\"country_name\", \"show_title\") \\\n",
    "                .agg(F.max(\"cumulative_weeks_in_top_10\").alias(\"weeks_in_top_10\"), \\\n",
    "                     F.min(\"weekly_rank\").alias(\"highest_rank\"))\n",
    "\n",
    "# Sort the result by country_name, weeks_in_top_10, and highest_rank in descending order\n",
    "result = result.orderBy(F.desc(\"country_name\"), F.desc(\"weeks_in_top_10\"), F.desc(\"highest_rank\"))\n",
    "\n",
    "# Show the result\n",
    "result.show()\n"
   ]
  },
  {
   "cell_type": "markdown",
   "metadata": {
    "id": "k-2OKNgAgb3j"
   },
   "source": [
    "Group the DataFrame by `season_title` and count the number of countries where each season is the most popular. Convert the DataFrame to Pandas, and use the `DataFrame.plot.pie` method to produce a pie chart of the most popular shows."
   ]
  },
  {
   "cell_type": "code",
   "execution_count": 22,
   "metadata": {},
   "outputs": [
    {
     "name": "stdout",
     "output_type": "stream",
     "text": [
      "+--------------------+-------------+------------+\n",
      "|        season_title|num_countries|highest_rank|\n",
      "+--------------------+-------------+------------+\n",
      "|       You: Season 3|           94|          10|\n",
      "|Squid Game: Season 1|           94|          10|\n",
      "|Sex Education: Se...|           94|          10|\n",
      "|All of Us Are Dea...|           94|          10|\n",
      "|                null|           94|          10|\n",
      "|The Witcher: Seas...|           94|          10|\n",
      "|Inventing Anna: L...|           94|          10|\n",
      "|Emily in Paris: S...|           94|          10|\n",
      "|Resident Evil: Se...|           93|          10|\n",
      "| Money Heist: Part 5|           93|          10|\n",
      "|The Sandman: Seas...|           93|          10|\n",
      "|   Stranger Things 4|           93|          10|\n",
      "|  Sex/Life: Season 1|           93|          10|\n",
      "| Hellbound: Season 1|           93|          10|\n",
      "|Maid: Limited Series|           93|          10|\n",
      "|Bridgerton: Season 2|           93|          10|\n",
      "|The Umbrella Acad...|           91|          10|\n",
      "|   My Name: Season 1|           91|          10|\n",
      "|Vikings: Valhalla...|           91|          10|\n",
      "|   Stranger Things 2|           91|          10|\n",
      "+--------------------+-------------+------------+\n",
      "only showing top 20 rows\n",
      "\n"
     ]
    }
   ],
   "source": [
    "most_popular_season = (df.groupBy(\"season_title\")\n",
    "                      .agg(F.countDistinct(\"country_name\").alias(\"num_countries\"), \n",
    "                           F.max(\"weekly_rank\").alias(\"highest_rank\"))\n",
    "                      .orderBy(F.col(\"num_countries\").desc())\n",
    "                     )\n",
    "most_popular_season.show()\n"
   ]
  },
  {
   "cell_type": "code",
   "execution_count": 23,
   "metadata": {
    "id": "VeaR2m8HenIY"
   },
   "outputs": [
    {
     "data": {
      "image/png": "[encoded data removed]",
      "text/plain": [
       "<Figure size 720x720 with 1 Axes>"
      ]
     },
     "metadata": {},
     "output_type": "display_data"
    }
   ],
   "source": [
    "### Convert the DataFrame to a Pandas DataFrame, and display it as a pie chart\n",
    "# .toPandas, .plot.pie\n",
    "pdf = most_popular_season.toPandas()[0:10]\n",
    "pdf.plot(kind='pie', y='num_countries', \n",
    "         labels=pdf['season_title'], autopct='%1.1f%%',figsize=(10,10),legend=False)\n",
    "\n",
    "# Show the pie chart\n",
    "plt.show()"
   ]
  },
  {
   "cell_type": "code",
   "execution_count": null,
   "metadata": {},
   "outputs": [],
   "source": []
  },
  {
   "cell_type": "markdown",
   "metadata": {
    "id": "_YOKr4khadrB"
   },
   "source": [
    "# Exercise 3 - Most popular shows by country (10 Marks)\n",
    "\n",
    "\n",
    "1.   Calculate the number of weeks each TV show spent in each country's top 10, across all seasons, such that you don't double count a show when two or more seasons appear in one week. (5 marks)\n",
    "2.   Produce a DataFrame that contains the show which spent the most time in each country's top 10. (5 marks)"
   ]
  },
  {
   "cell_type": "code",
   "execution_count": 25,
   "metadata": {},
   "outputs": [
    {
     "name": "stdout",
     "output_type": "stream",
     "text": [
      "+------------+--------------------+-------------------+-----------------+\n",
      "|country_name|          show_title|num_weeks_in_top_10|count(show_title)|\n",
      "+------------+--------------------+-------------------+-----------------+\n",
      "|   Argentina|         The Sandman|                  6|                1|\n",
      "|   Argentina|Boruto: Naruto Ne...|                  1|                1|\n",
      "|   Australia|          After Life|                  3|                1|\n",
      "|     Austria|      The Silent Sea|                  1|                1|\n",
      "|  Bangladesh|       Nevertheless,|                 36|                1|\n",
      "|    Bulgaria|Keep Sweet: Pray ...|                  3|                1|\n",
      "|    Bulgaria|          Archive 81|                  6|                1|\n",
      "|    Bulgaria|          Stay Close|                  6|                1|\n",
      "|    Bulgaria|      The Silent Sea|                  6|                1|\n",
      "|    Bulgaria|       The Bold Type|                  3|                1|\n",
      "+------------+--------------------+-------------------+-----------------+\n",
      "only showing top 10 rows\n",
      "\n"
     ]
    }
   ],
   "source": [
    "# assuming the dataset is already loaded into a PySpark DataFrame called \"df\"\n",
    "# group by country_name and show_title, and count the number of distinct weeks\n",
    "result_df = tv_df.groupBy(\"country_name\", \"show_title\") \\\n",
    "              .agg(F.sum(\"cumulative_weeks_in_top_10\").alias(\"num_weeks_in_top_10\"),F.countDistinct(\"show_title\"))\n",
    "              \n",
    "# show the result\n",
    "result_df.show(10)\n"
   ]
  },
  {
   "cell_type": "code",
   "execution_count": 26,
   "metadata": {},
   "outputs": [],
   "source": [
    "#Produce a DataFrame that contains the show which spent the most time in each country's top 10"
   ]
  },
  {
   "cell_type": "code",
   "execution_count": 27,
   "metadata": {},
   "outputs": [
    {
     "name": "stdout",
     "output_type": "stream",
     "text": [
      "+------------+--------------------+---------+--------+\n",
      "|country_name|          show_title|max_weeks|max_rank|\n",
      "+------------+--------------------+---------+--------+\n",
      "|   Argentina|The Transporter R...|        1|       8|\n",
      "|   Argentina|        Señora Acero|        2|       9|\n",
      "|   Argentina|       In Good Hands|        3|       1|\n",
      "|   Argentina|          First Kill|        4|       4|\n",
      "|   Argentina|       He's All That|        6|       2|\n",
      "|   Argentina|         Dark Desire|        7|       4|\n",
      "|   Argentina|      Emily in Paris|       10|       3|\n",
      "|   Argentina|         The Witcher|       13|       2|\n",
      "|   Argentina|            Intimacy|       15|       2|\n",
      "|   Argentina|               Elite|       16|       1|\n",
      "|   Argentina|       Sex Education|       17|       1|\n",
      "|   Argentina|          Bridgerton|       18|       1|\n",
      "|   Argentina|      Inventing Anna|       21|       2|\n",
      "|   Argentina|  Sonic the Hedgehog|       28|       1|\n",
      "|   Argentina|                 You|       32|       1|\n",
      "|   Argentina|         El marginal|       35|       1|\n",
      "|   Argentina|The Snitch Cartel...|       45|       1|\n",
      "|   Argentina|            Manifest|       46|       2|\n",
      "|   Argentina|Newly Rich, Newly...|       55|       1|\n",
      "|   Argentina|          Squid Game|       66|       1|\n",
      "+------------+--------------------+---------+--------+\n",
      "only showing top 20 rows\n",
      "\n"
     ]
    }
   ],
   "source": [
    "# group the DataFrame by country and show_title, and aggregate the maximum cumulative weeks\n",
    "# and highest weekly ranking for each show in each country\n",
    "grouped = df.groupBy('country_name', 'show_title') \\\n",
    "    .agg(F.sum('cumulative_weeks_in_top_10').alias('max_weeks'),\n",
    "         F.min('weekly_rank').alias('max_rank'))\n",
    "\n",
    "# sort the DataFrame by country and the number of cumulative weeks in descending order,\n",
    "# and drop duplicates to keep only the shows with the maximum number of weeks for each country\n",
    "max_weeks_df = grouped.orderBy(['country_name', 'max_weeks'], ascending=[True, False]) \\\n",
    "    .dropDuplicates(['country_name', 'max_weeks']) \\\n",
    "    .select('country_name', 'show_title', 'max_weeks', 'max_rank')\n",
    "\n",
    "# show the resulting DataFrame\n",
    "max_weeks_df.show()\n"
   ]
  },
  {
   "cell_type": "code",
   "execution_count": 28,
   "metadata": {
    "id": "T4KuEbwgbJar"
   },
   "outputs": [],
   "source": [
    "### Group the data by 'country_name' and 'show_title' and count the number of\n",
    "### weeks each show appears in each country's top 10 lists, as well as the\n",
    "### highest weekly ranking. Display the data.\n",
    "# .groupBy, .agg, F.count_distinct, F.min, .sort, .show\n",
    "\n"
   ]
  },
  {
   "cell_type": "code",
   "execution_count": 29,
   "metadata": {},
   "outputs": [
    {
     "name": "stdout",
     "output_type": "stream",
     "text": [
      "+------------+--------------------+---------------+------------+\n",
      "|country_name|          show_title|weeks_in_top_10|highest_rank|\n",
      "+------------+--------------------+---------------+------------+\n",
      "|   Argentina|13 Hours: The Sec...|              3|           4|\n",
      "|   Argentina|                1917|              3|           3|\n",
      "|   Argentina|                 211|              1|           4|\n",
      "|   Argentina|  365 Days: This Day|              3|           1|\n",
      "|   Argentina|      40 Years Young|              1|           8|\n",
      "|   Argentina| 42 Days of Darkness|              3|           8|\n",
      "|   Argentina|47 Meters Down: U...|              3|           5|\n",
      "|   Argentina|         7 Prisoners|              3|           5|\n",
      "|   Argentina|A Boy Called Chri...|              3|           6|\n",
      "|   Argentina|A California Chri...|              1|           4|\n",
      "|   Argentina|A Castle For Chri...|              3|           7|\n",
      "|   Argentina|A Classic Horror ...|              1|          10|\n",
      "|   Argentina|     A Dog's Journey|              3|           5|\n",
      "|   Argentina|    A Dog's Way Home|              1|           6|\n",
      "|   Argentina|     A Perfect Enemy|              1|           7|\n",
      "|   Argentina|       A Perfect Fit|              1|           6|\n",
      "|   Argentina|   A Perfect Pairing|              6|           2|\n",
      "|   Argentina|   A Score to Settle|              3|           3|\n",
      "|   Argentina|          Abominable|              6|           4|\n",
      "|   Argentina|Afterlife of the ...|              3|           3|\n",
      "+------------+--------------------+---------------+------------+\n",
      "only showing top 20 rows\n",
      "\n"
     ]
    }
   ],
   "source": [
    "grouped_df = df.groupBy('country_name', 'show_title') \\\n",
    "              .agg(F.sum('cumulative_weeks_in_top_10').alias('weeks_in_top_10'),\n",
    "                   F.min('weekly_rank').alias('highest_rank')) \\\n",
    "              .sort('country_name', 'show_title')\n",
    "\n",
    "grouped_df.show()\n"
   ]
  },
  {
   "cell_type": "code",
   "execution_count": 30,
   "metadata": {
    "id": "kenFjaaR9pLp"
   },
   "outputs": [],
   "source": [
    "### Find the show that spent the most time in each country's top 10 list.\n",
    "### Produce and display a table showing that information, along with the number\n",
    "### of weeks spent in the top 10, and the highest weekly ranking\n",
    "# .groupBy, .sort, .desc, .agg, F.first, .show\n",
    "\n"
   ]
  },
  {
   "cell_type": "code",
   "execution_count": 31,
   "metadata": {},
   "outputs": [
    {
     "name": "stdout",
     "output_type": "stream",
     "text": [
      "+------------------+--------------------+---------------+-------------------+\n",
      "|      country_name|   most_popular_show|weeks_in_top_10|highest_weekly_rank|\n",
      "+------------------+--------------------+---------------+-------------------+\n",
      "|         Argentina| Pasión de Gavilanes|           1726|                  1|\n",
      "|         Australia|     Stranger Things|            236|                  1|\n",
      "|           Austria|     Stranger Things|            226|                  1|\n",
      "|           Bahamas|SpongeBob SquareP...|            571|                  3|\n",
      "|           Bahrain|     Stranger Things|            187|                  1|\n",
      "|        Bangladesh|     Stranger Things|            267|                  1|\n",
      "|           Belgium|     Stranger Things|            236|                  1|\n",
      "|           Bolivia| Pasión de Gavilanes|           1668|                  1|\n",
      "|            Brazil|         Chiquititas|           1326|                  2|\n",
      "|          Bulgaria|     Stranger Things|            290|                  1|\n",
      "|            Canada|     Stranger Things|            200|                  1|\n",
      "|             Chile|Yo soy Betty, la fea|           1485|                  1|\n",
      "|          Colombia|Pablo Escobar, el...|           1830|                  2|\n",
      "|        Costa Rica| Pasión de Gavilanes|           1845|                  1|\n",
      "|           Croatia|     Stranger Things|            246|                  1|\n",
      "|            Cyprus|     The Good Doctor|            454|                  1|\n",
      "|    Czech Republic|         Money Heist|            336|                  1|\n",
      "|           Denmark|     Stranger Things|            217|                  1|\n",
      "|Dominican Republic| Pasión de Gavilanes|           1845|                  1|\n",
      "|           Ecuador| Pasión de Gavilanes|           1845|                  1|\n",
      "+------------------+--------------------+---------------+-------------------+\n",
      "only showing top 20 rows\n",
      "\n"
     ]
    }
   ],
   "source": [
    "result = (\n",
    "    df.groupBy('country_name', 'show_title')\n",
    "        .agg(F.sum('cumulative_weeks_in_top_10').alias('total_weeks_in_top_10'),\n",
    "             F.min('weekly_rank').alias('highest_weekly_rank'))\n",
    "        .orderBy(F.col('total_weeks_in_top_10').desc())\n",
    "        .groupBy('country_name')\n",
    "        .agg(F.first('show_title').alias('most_popular_show'),\n",
    "             F.max('total_weeks_in_top_10').alias('weeks_in_top_10'),\n",
    "             F.first('highest_weekly_rank').alias('highest_weekly_rank'))\n",
    "        .orderBy('country_name')\n",
    ")\n",
    "\n",
    "result.show()"
   ]
  },
  {
   "cell_type": "code",
   "execution_count": null,
   "metadata": {},
   "outputs": [],
   "source": []
  },
  {
   "cell_type": "code",
   "execution_count": null,
   "metadata": {},
   "outputs": [],
   "source": []
  }
 ],
 "metadata": {
  "colab": {
   "provenance": []
  },
  "kernelspec": {
   "display_name": "Python 3",
   "language": "python",
   "name": "python3"
  },
  "language_info": {
   "codemirror_mode": {
    "name": "ipython",
    "version": 3
   },
   "file_extension": ".py",
   "mimetype": "text/x-python",
   "name": "python",
   "nbconvert_exporter": "python",
   "pygments_lexer": "ipython3",
   "version": "3.9.5"
  }
 },
 "nbformat": 4,
 "nbformat_minor": 1
}
