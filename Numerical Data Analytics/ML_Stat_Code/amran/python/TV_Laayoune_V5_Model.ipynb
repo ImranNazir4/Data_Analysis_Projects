{
 "cells": [
  {
   "cell_type": "code",
   "execution_count": 1,
   "metadata": {},
   "outputs": [],
   "source": [
    "import pandas as pd\n",
    "import numpy as np\n",
    "import seaborn as sns\n",
    "import matplotlib.pyplot as plt \n",
    "from sklearn.preprocessing import StandardScaler\n",
    "from sklearn.linear_model import LinearRegression\n",
    "from sklearn.neighbors import KNeighborsRegressor\n",
    "from sklearn.tree import DecisionTreeRegressor\n",
    "from sklearn.ensemble import RandomForestRegressor\n",
    "from sklearn.linear_model import SGDRegressor\n",
    "from sklearn.neural_network import MLPRegressor\n",
    "from sklearn.metrics import r2_score, mean_absolute_error, mean_squared_error\n",
    "from sklearn.model_selection import train_test_split, cross_val_score, GridSearchCV\n",
    "from sklearn.svm import SVR\n",
    "from sklearn import svm\n",
    "import pickle as pk"
   ]
  },
  {
   "cell_type": "code",
   "execution_count": 2,
   "metadata": {},
   "outputs": [],
   "source": [
    "# Load the dataset\n",
    "data = pd.read_csv(r'/Users/snrt1/Desktop/TV_Laayoune_Data_CIAUMED.csv')"
   ]
  },
  {
   "cell_type": "code",
   "execution_count": 3,
   "metadata": {},
   "outputs": [],
   "source": [
    "del data[\"Unnamed: 0\"]"
   ]
  },
  {
   "cell_type": "code",
   "execution_count": 4,
   "metadata": {},
   "outputs": [
    {
     "data": {
      "text/html": [
       "<div>\n",
       "<style scoped>\n",
       "    .dataframe tbody tr th:only-of-type {\n",
       "        vertical-align: middle;\n",
       "    }\n",
       "\n",
       "    .dataframe tbody tr th {\n",
       "        vertical-align: top;\n",
       "    }\n",
       "\n",
       "    .dataframe thead th {\n",
       "        text-align: right;\n",
       "    }\n",
       "</style>\n",
       "<table border=\"1\" class=\"dataframe\">\n",
       "  <thead>\n",
       "    <tr style=\"text-align: right;\">\n",
       "      <th></th>\n",
       "      <th>Program</th>\n",
       "      <th>Genre</th>\n",
       "      <th>Number of viewers</th>\n",
       "      <th>Audience share (%)</th>\n",
       "      <th>Start time</th>\n",
       "      <th>Broadcasting date</th>\n",
       "    </tr>\n",
       "  </thead>\n",
       "  <tbody>\n",
       "    <tr>\n",
       "      <th>0</th>\n",
       "      <td>Hiraf</td>\n",
       "      <td>Capsule</td>\n",
       "      <td>163000</td>\n",
       "      <td>22.0</td>\n",
       "      <td>21:15:00</td>\n",
       "      <td>2023-03-21</td>\n",
       "    </tr>\n",
       "    <tr>\n",
       "      <th>1</th>\n",
       "      <td>Midadou chouaara</td>\n",
       "      <td>Culturel</td>\n",
       "      <td>868000</td>\n",
       "      <td>13.8</td>\n",
       "      <td>06:17:00</td>\n",
       "      <td>2023-03-20</td>\n",
       "    </tr>\n",
       "    <tr>\n",
       "      <th>2</th>\n",
       "      <td>Fada Ryadi</td>\n",
       "      <td>Sport</td>\n",
       "      <td>681000</td>\n",
       "      <td>9.7</td>\n",
       "      <td>07:10:00</td>\n",
       "      <td>2023-03-19</td>\n",
       "    </tr>\n",
       "    <tr>\n",
       "      <th>3</th>\n",
       "      <td>Journal Télévisé</td>\n",
       "      <td>Info</td>\n",
       "      <td>615000</td>\n",
       "      <td>44.9</td>\n",
       "      <td>22:30:00</td>\n",
       "      <td>2023-03-18</td>\n",
       "    </tr>\n",
       "    <tr>\n",
       "      <th>4</th>\n",
       "      <td>Agenda</td>\n",
       "      <td>Info</td>\n",
       "      <td>868000</td>\n",
       "      <td>36.8</td>\n",
       "      <td>19:39:00</td>\n",
       "      <td>2023-03-17</td>\n",
       "    </tr>\n",
       "    <tr>\n",
       "      <th>...</th>\n",
       "      <td>...</td>\n",
       "      <td>...</td>\n",
       "      <td>...</td>\n",
       "      <td>...</td>\n",
       "      <td>...</td>\n",
       "      <td>...</td>\n",
       "    </tr>\n",
       "    <tr>\n",
       "      <th>5135</th>\n",
       "      <td>Amnir</td>\n",
       "      <td>documentaires</td>\n",
       "      <td>10344</td>\n",
       "      <td>48.0</td>\n",
       "      <td>15:31:17</td>\n",
       "      <td>2021-12-03</td>\n",
       "    </tr>\n",
       "    <tr>\n",
       "      <th>5136</th>\n",
       "      <td>Kadaya ramadaniya</td>\n",
       "      <td>Religieux</td>\n",
       "      <td>9994</td>\n",
       "      <td>47.0</td>\n",
       "      <td>15:09:28</td>\n",
       "      <td>2021-05-30</td>\n",
       "    </tr>\n",
       "    <tr>\n",
       "      <th>5137</th>\n",
       "      <td>Hiraf</td>\n",
       "      <td>Capsule</td>\n",
       "      <td>9299</td>\n",
       "      <td>30.0</td>\n",
       "      <td>13:45:15</td>\n",
       "      <td>2021-07-30</td>\n",
       "    </tr>\n",
       "    <tr>\n",
       "      <th>5138</th>\n",
       "      <td>Konoz mina sahrae</td>\n",
       "      <td>Culturel</td>\n",
       "      <td>9669</td>\n",
       "      <td>10.0</td>\n",
       "      <td>07:24:00</td>\n",
       "      <td>2022-10-25</td>\n",
       "    </tr>\n",
       "    <tr>\n",
       "      <th>5139</th>\n",
       "      <td>Amnir</td>\n",
       "      <td>documentaires</td>\n",
       "      <td>8997</td>\n",
       "      <td>20.0</td>\n",
       "      <td>11:51:54</td>\n",
       "      <td>2021-09-05</td>\n",
       "    </tr>\n",
       "  </tbody>\n",
       "</table>\n",
       "<p>5140 rows × 6 columns</p>\n",
       "</div>"
      ],
      "text/plain": [
       "                Program          Genre  Number of viewers  Audience share (%)  \\\n",
       "0                 Hiraf        Capsule             163000                22.0   \n",
       "1      Midadou chouaara       Culturel             868000                13.8   \n",
       "2            Fada Ryadi          Sport             681000                 9.7   \n",
       "3      Journal Télévisé           Info             615000                44.9   \n",
       "4                Agenda           Info             868000                36.8   \n",
       "...                 ...            ...                ...                 ...   \n",
       "5135              Amnir  documentaires              10344                48.0   \n",
       "5136  Kadaya ramadaniya      Religieux               9994                47.0   \n",
       "5137              Hiraf        Capsule               9299                30.0   \n",
       "5138  Konoz mina sahrae       Culturel               9669                10.0   \n",
       "5139              Amnir  documentaires               8997                20.0   \n",
       "\n",
       "     Start time Broadcasting date  \n",
       "0      21:15:00        2023-03-21  \n",
       "1      06:17:00        2023-03-20  \n",
       "2      07:10:00        2023-03-19  \n",
       "3      22:30:00        2023-03-18  \n",
       "4      19:39:00        2023-03-17  \n",
       "...         ...               ...  \n",
       "5135   15:31:17        2021-12-03  \n",
       "5136   15:09:28        2021-05-30  \n",
       "5137   13:45:15        2021-07-30  \n",
       "5138   07:24:00        2022-10-25  \n",
       "5139   11:51:54        2021-09-05  \n",
       "\n",
       "[5140 rows x 6 columns]"
      ]
     },
     "execution_count": 4,
     "metadata": {},
     "output_type": "execute_result"
    }
   ],
   "source": [
    "data"
   ]
  },
  {
   "cell_type": "code",
   "execution_count": 5,
   "metadata": {},
   "outputs": [
    {
     "data": {
      "text/plain": [
       "<AxesSubplot:>"
      ]
     },
     "execution_count": 5,
     "metadata": {},
     "output_type": "execute_result"
    },
    {
     "data": {
      "image/png": "[encoded data removed]",
      "text/plain": [
       "<Figure size 432x288 with 1 Axes>"
      ]
     },
     "metadata": {
      "needs_background": "light"
     },
     "output_type": "display_data"
    }
   ],
   "source": [
    "data[[\"Audience share (%)\",\"Number of viewers\"]].plot()"
   ]
  },
  {
   "cell_type": "code",
   "execution_count": 6,
   "metadata": {},
   "outputs": [
    {
     "data": {
      "text/plain": [
       "Program                object\n",
       "Genre                  object\n",
       "Number of viewers       int64\n",
       "Audience share (%)    float64\n",
       "Start time             object\n",
       "Broadcasting date      object\n",
       "dtype: object"
      ]
     },
     "execution_count": 6,
     "metadata": {},
     "output_type": "execute_result"
    }
   ],
   "source": [
    "data.dtypes"
   ]
  },
  {
   "cell_type": "code",
   "execution_count": 7,
   "metadata": {},
   "outputs": [
    {
     "data": {
      "text/plain": [
       "Program               0\n",
       "Genre                 0\n",
       "Number of viewers     0\n",
       "Audience share (%)    0\n",
       "Start time            0\n",
       "Broadcasting date     0\n",
       "dtype: int64"
      ]
     },
     "execution_count": 7,
     "metadata": {},
     "output_type": "execute_result"
    }
   ],
   "source": [
    "data.isnull().sum()"
   ]
  },
  {
   "cell_type": "code",
   "execution_count": 8,
   "metadata": {},
   "outputs": [
    {
     "data": {
      "text/plain": [
       "<AxesSubplot:>"
      ]
     },
     "execution_count": 8,
     "metadata": {},
     "output_type": "execute_result"
    },
    {
     "data": {
      "image/png": "[encoded data removed]",
      "text/plain": [
       "<Figure size 432x288 with 1 Axes>"
      ]
     },
     "metadata": {
      "needs_background": "light"
     },
     "output_type": "display_data"
    }
   ],
   "source": [
    "sns.heatmap(data.isnull(),yticklabels=False,cbar=False,cmap='viridis')"
   ]
  },
  {
   "cell_type": "code",
   "execution_count": 9,
   "metadata": {},
   "outputs": [
    {
     "data": {
      "text/plain": [
       "0"
      ]
     },
     "execution_count": 9,
     "metadata": {},
     "output_type": "execute_result"
    }
   ],
   "source": [
    "data.duplicated().sum()"
   ]
  },
  {
   "cell_type": "markdown",
   "metadata": {},
   "source": [
    "# No duplicate values found!"
   ]
  },
  {
   "cell_type": "code",
   "execution_count": 10,
   "metadata": {},
   "outputs": [
    {
     "data": {
      "text/html": [
       "<div>\n",
       "<style scoped>\n",
       "    .dataframe tbody tr th:only-of-type {\n",
       "        vertical-align: middle;\n",
       "    }\n",
       "\n",
       "    .dataframe tbody tr th {\n",
       "        vertical-align: top;\n",
       "    }\n",
       "\n",
       "    .dataframe thead th {\n",
       "        text-align: right;\n",
       "    }\n",
       "</style>\n",
       "<table border=\"1\" class=\"dataframe\">\n",
       "  <thead>\n",
       "    <tr style=\"text-align: right;\">\n",
       "      <th></th>\n",
       "      <th>Program</th>\n",
       "      <th>Genre</th>\n",
       "      <th>Number of viewers</th>\n",
       "      <th>Audience share (%)</th>\n",
       "      <th>Start time</th>\n",
       "      <th>Broadcasting date</th>\n",
       "    </tr>\n",
       "  </thead>\n",
       "  <tbody>\n",
       "    <tr>\n",
       "      <th>0</th>\n",
       "      <td>Hiraf</td>\n",
       "      <td>Capsule</td>\n",
       "      <td>163000</td>\n",
       "      <td>22.0</td>\n",
       "      <td>21:15:00</td>\n",
       "      <td>2023-03-21</td>\n",
       "    </tr>\n",
       "    <tr>\n",
       "      <th>1</th>\n",
       "      <td>Midadou chouaara</td>\n",
       "      <td>Culturel</td>\n",
       "      <td>868000</td>\n",
       "      <td>13.8</td>\n",
       "      <td>06:17:00</td>\n",
       "      <td>2023-03-20</td>\n",
       "    </tr>\n",
       "    <tr>\n",
       "      <th>2</th>\n",
       "      <td>Fada Ryadi</td>\n",
       "      <td>Sport</td>\n",
       "      <td>681000</td>\n",
       "      <td>9.7</td>\n",
       "      <td>07:10:00</td>\n",
       "      <td>2023-03-19</td>\n",
       "    </tr>\n",
       "    <tr>\n",
       "      <th>3</th>\n",
       "      <td>Journal Télévisé</td>\n",
       "      <td>Info</td>\n",
       "      <td>615000</td>\n",
       "      <td>44.9</td>\n",
       "      <td>22:30:00</td>\n",
       "      <td>2023-03-18</td>\n",
       "    </tr>\n",
       "    <tr>\n",
       "      <th>4</th>\n",
       "      <td>Agenda</td>\n",
       "      <td>Info</td>\n",
       "      <td>868000</td>\n",
       "      <td>36.8</td>\n",
       "      <td>19:39:00</td>\n",
       "      <td>2023-03-17</td>\n",
       "    </tr>\n",
       "    <tr>\n",
       "      <th>...</th>\n",
       "      <td>...</td>\n",
       "      <td>...</td>\n",
       "      <td>...</td>\n",
       "      <td>...</td>\n",
       "      <td>...</td>\n",
       "      <td>...</td>\n",
       "    </tr>\n",
       "    <tr>\n",
       "      <th>5135</th>\n",
       "      <td>Amnir</td>\n",
       "      <td>documentaires</td>\n",
       "      <td>10344</td>\n",
       "      <td>48.0</td>\n",
       "      <td>15:31:17</td>\n",
       "      <td>2021-12-03</td>\n",
       "    </tr>\n",
       "    <tr>\n",
       "      <th>5136</th>\n",
       "      <td>Kadaya ramadaniya</td>\n",
       "      <td>Religieux</td>\n",
       "      <td>9994</td>\n",
       "      <td>47.0</td>\n",
       "      <td>15:09:28</td>\n",
       "      <td>2021-05-30</td>\n",
       "    </tr>\n",
       "    <tr>\n",
       "      <th>5137</th>\n",
       "      <td>Hiraf</td>\n",
       "      <td>Capsule</td>\n",
       "      <td>9299</td>\n",
       "      <td>30.0</td>\n",
       "      <td>13:45:15</td>\n",
       "      <td>2021-07-30</td>\n",
       "    </tr>\n",
       "    <tr>\n",
       "      <th>5138</th>\n",
       "      <td>Konoz mina sahrae</td>\n",
       "      <td>Culturel</td>\n",
       "      <td>9669</td>\n",
       "      <td>10.0</td>\n",
       "      <td>07:24:00</td>\n",
       "      <td>2022-10-25</td>\n",
       "    </tr>\n",
       "    <tr>\n",
       "      <th>5139</th>\n",
       "      <td>Amnir</td>\n",
       "      <td>documentaires</td>\n",
       "      <td>8997</td>\n",
       "      <td>20.0</td>\n",
       "      <td>11:51:54</td>\n",
       "      <td>2021-09-05</td>\n",
       "    </tr>\n",
       "  </tbody>\n",
       "</table>\n",
       "<p>5140 rows × 6 columns</p>\n",
       "</div>"
      ],
      "text/plain": [
       "                Program          Genre  Number of viewers  Audience share (%)  \\\n",
       "0                 Hiraf        Capsule             163000                22.0   \n",
       "1      Midadou chouaara       Culturel             868000                13.8   \n",
       "2            Fada Ryadi          Sport             681000                 9.7   \n",
       "3      Journal Télévisé           Info             615000                44.9   \n",
       "4                Agenda           Info             868000                36.8   \n",
       "...                 ...            ...                ...                 ...   \n",
       "5135              Amnir  documentaires              10344                48.0   \n",
       "5136  Kadaya ramadaniya      Religieux               9994                47.0   \n",
       "5137              Hiraf        Capsule               9299                30.0   \n",
       "5138  Konoz mina sahrae       Culturel               9669                10.0   \n",
       "5139              Amnir  documentaires               8997                20.0   \n",
       "\n",
       "     Start time Broadcasting date  \n",
       "0      21:15:00        2023-03-21  \n",
       "1      06:17:00        2023-03-20  \n",
       "2      07:10:00        2023-03-19  \n",
       "3      22:30:00        2023-03-18  \n",
       "4      19:39:00        2023-03-17  \n",
       "...         ...               ...  \n",
       "5135   15:31:17        2021-12-03  \n",
       "5136   15:09:28        2021-05-30  \n",
       "5137   13:45:15        2021-07-30  \n",
       "5138   07:24:00        2022-10-25  \n",
       "5139   11:51:54        2021-09-05  \n",
       "\n",
       "[5140 rows x 6 columns]"
      ]
     },
     "execution_count": 10,
     "metadata": {},
     "output_type": "execute_result"
    }
   ],
   "source": [
    "data"
   ]
  },
  {
   "cell_type": "code",
   "execution_count": 11,
   "metadata": {},
   "outputs": [
    {
     "data": {
      "text/plain": [
       "Culturel         2032\n",
       "Info             1041\n",
       "Music             500\n",
       "Religieux         369\n",
       "Capsule           362\n",
       "Politique         262\n",
       "Sport             217\n",
       "documentaires     188\n",
       "Series            169\n",
       "Name: Genre, dtype: int64"
      ]
     },
     "execution_count": 11,
     "metadata": {},
     "output_type": "execute_result"
    }
   ],
   "source": [
    "data.Genre.value_counts()"
   ]
  },
  {
   "cell_type": "code",
   "execution_count": 12,
   "metadata": {},
   "outputs": [
    {
     "name": "stderr",
     "output_type": "stream",
     "text": [
      "/opt/anaconda3/lib/python3.8/site-packages/seaborn/_decorators.py:36: FutureWarning: Pass the following variable as a keyword arg: x. From version 0.12, the only valid positional argument will be `data`, and passing other arguments without an explicit keyword will result in an error or misinterpretation.\n",
      "  warnings.warn(\n"
     ]
    },
    {
     "data": {
      "text/plain": [
       "[Text(0, 0, 'Capsule'),\n",
       " Text(1, 0, 'Culturel'),\n",
       " Text(2, 0, 'Sport'),\n",
       " Text(3, 0, 'Info'),\n",
       " Text(4, 0, 'Music'),\n",
       " Text(5, 0, 'documentaires'),\n",
       " Text(6, 0, 'Religieux'),\n",
       " Text(7, 0, 'Politique'),\n",
       " Text(8, 0, 'Series')]"
      ]
     },
     "execution_count": 12,
     "metadata": {},
     "output_type": "execute_result"
    },
    {
     "data": {
      "image/png": "[encoded data removed]",
      "text/plain": [
       "<Figure size 432x288 with 1 Axes>"
      ]
     },
     "metadata": {
      "needs_background": "light"
     },
     "output_type": "display_data"
    }
   ],
   "source": [
    "ax= sns.countplot(data['Genre'])\n",
    "ax.set_xticklabels(ax.get_xticklabels(),rotation = 30)"
   ]
  },
  {
   "cell_type": "code",
   "execution_count": 13,
   "metadata": {},
   "outputs": [
    {
     "data": {
      "image/png": "[encoded data removed]",
      "text/plain": [
       "<Figure size 1080x720 with 4 Axes>"
      ]
     },
     "metadata": {
      "needs_background": "light"
     },
     "output_type": "display_data"
    }
   ],
   "source": [
    "fig,ax = plt.subplots(2,2,figsize = (15,10))\n",
    "\n",
    "sns.boxplot(x = 'Genre', y = 'Audience share (%)', data = data,ax=ax[0,0])\n",
    "ax[0,0].set_title('Genre vs Audience share (%)')\n",
    "\n",
    "\n",
    "sns.boxplot(x = 'Genre', y = 'Number of viewers', data = data,ax=ax[1,0])\n",
    "ax[1,0].set_title('Genre vs Number of viewers')\n",
    "\n",
    "plt.tight_layout()\n",
    "plt.show()"
   ]
  },
  {
   "cell_type": "code",
   "execution_count": 14,
   "metadata": {},
   "outputs": [],
   "source": [
    "# Convert non-numeric data to numeric data using one-hot encoding\n",
    "data = pd.get_dummies(data, columns=[\"Genre\"])"
   ]
  },
  {
   "cell_type": "code",
   "execution_count": 15,
   "metadata": {},
   "outputs": [
    {
     "data": {
      "text/html": [
       "<div>\n",
       "<style scoped>\n",
       "    .dataframe tbody tr th:only-of-type {\n",
       "        vertical-align: middle;\n",
       "    }\n",
       "\n",
       "    .dataframe tbody tr th {\n",
       "        vertical-align: top;\n",
       "    }\n",
       "\n",
       "    .dataframe thead th {\n",
       "        text-align: right;\n",
       "    }\n",
       "</style>\n",
       "<table border=\"1\" class=\"dataframe\">\n",
       "  <thead>\n",
       "    <tr style=\"text-align: right;\">\n",
       "      <th></th>\n",
       "      <th>Program</th>\n",
       "      <th>Number of viewers</th>\n",
       "      <th>Audience share (%)</th>\n",
       "      <th>Start time</th>\n",
       "      <th>Broadcasting date</th>\n",
       "      <th>Genre_Capsule</th>\n",
       "      <th>Genre_Culturel</th>\n",
       "      <th>Genre_Info</th>\n",
       "      <th>Genre_Music</th>\n",
       "      <th>Genre_Politique</th>\n",
       "      <th>Genre_Religieux</th>\n",
       "      <th>Genre_Series</th>\n",
       "      <th>Genre_Sport</th>\n",
       "      <th>Genre_documentaires</th>\n",
       "    </tr>\n",
       "  </thead>\n",
       "  <tbody>\n",
       "    <tr>\n",
       "      <th>0</th>\n",
       "      <td>Hiraf</td>\n",
       "      <td>163000</td>\n",
       "      <td>22.0</td>\n",
       "      <td>21:15:00</td>\n",
       "      <td>2023-03-21</td>\n",
       "      <td>1</td>\n",
       "      <td>0</td>\n",
       "      <td>0</td>\n",
       "      <td>0</td>\n",
       "      <td>0</td>\n",
       "      <td>0</td>\n",
       "      <td>0</td>\n",
       "      <td>0</td>\n",
       "      <td>0</td>\n",
       "    </tr>\n",
       "    <tr>\n",
       "      <th>1</th>\n",
       "      <td>Midadou chouaara</td>\n",
       "      <td>868000</td>\n",
       "      <td>13.8</td>\n",
       "      <td>06:17:00</td>\n",
       "      <td>2023-03-20</td>\n",
       "      <td>0</td>\n",
       "      <td>1</td>\n",
       "      <td>0</td>\n",
       "      <td>0</td>\n",
       "      <td>0</td>\n",
       "      <td>0</td>\n",
       "      <td>0</td>\n",
       "      <td>0</td>\n",
       "      <td>0</td>\n",
       "    </tr>\n",
       "    <tr>\n",
       "      <th>2</th>\n",
       "      <td>Fada Ryadi</td>\n",
       "      <td>681000</td>\n",
       "      <td>9.7</td>\n",
       "      <td>07:10:00</td>\n",
       "      <td>2023-03-19</td>\n",
       "      <td>0</td>\n",
       "      <td>0</td>\n",
       "      <td>0</td>\n",
       "      <td>0</td>\n",
       "      <td>0</td>\n",
       "      <td>0</td>\n",
       "      <td>0</td>\n",
       "      <td>1</td>\n",
       "      <td>0</td>\n",
       "    </tr>\n",
       "    <tr>\n",
       "      <th>3</th>\n",
       "      <td>Journal Télévisé</td>\n",
       "      <td>615000</td>\n",
       "      <td>44.9</td>\n",
       "      <td>22:30:00</td>\n",
       "      <td>2023-03-18</td>\n",
       "      <td>0</td>\n",
       "      <td>0</td>\n",
       "      <td>1</td>\n",
       "      <td>0</td>\n",
       "      <td>0</td>\n",
       "      <td>0</td>\n",
       "      <td>0</td>\n",
       "      <td>0</td>\n",
       "      <td>0</td>\n",
       "    </tr>\n",
       "    <tr>\n",
       "      <th>4</th>\n",
       "      <td>Agenda</td>\n",
       "      <td>868000</td>\n",
       "      <td>36.8</td>\n",
       "      <td>19:39:00</td>\n",
       "      <td>2023-03-17</td>\n",
       "      <td>0</td>\n",
       "      <td>0</td>\n",
       "      <td>1</td>\n",
       "      <td>0</td>\n",
       "      <td>0</td>\n",
       "      <td>0</td>\n",
       "      <td>0</td>\n",
       "      <td>0</td>\n",
       "      <td>0</td>\n",
       "    </tr>\n",
       "  </tbody>\n",
       "</table>\n",
       "</div>"
      ],
      "text/plain": [
       "            Program  Number of viewers  Audience share (%) Start time  \\\n",
       "0             Hiraf             163000                22.0   21:15:00   \n",
       "1  Midadou chouaara             868000                13.8   06:17:00   \n",
       "2        Fada Ryadi             681000                 9.7   07:10:00   \n",
       "3  Journal Télévisé             615000                44.9   22:30:00   \n",
       "4            Agenda             868000                36.8   19:39:00   \n",
       "\n",
       "  Broadcasting date  Genre_Capsule  Genre_Culturel  Genre_Info  Genre_Music  \\\n",
       "0        2023-03-21              1               0           0            0   \n",
       "1        2023-03-20              0               1           0            0   \n",
       "2        2023-03-19              0               0           0            0   \n",
       "3        2023-03-18              0               0           1            0   \n",
       "4        2023-03-17              0               0           1            0   \n",
       "\n",
       "   Genre_Politique  Genre_Religieux  Genre_Series  Genre_Sport  \\\n",
       "0                0                0             0            0   \n",
       "1                0                0             0            0   \n",
       "2                0                0             0            1   \n",
       "3                0                0             0            0   \n",
       "4                0                0             0            0   \n",
       "\n",
       "   Genre_documentaires  \n",
       "0                    0  \n",
       "1                    0  \n",
       "2                    0  \n",
       "3                    0  \n",
       "4                    0  "
      ]
     },
     "execution_count": 15,
     "metadata": {},
     "output_type": "execute_result"
    }
   ],
   "source": [
    "data.head()"
   ]
  },
  {
   "cell_type": "code",
   "execution_count": 16,
   "metadata": {},
   "outputs": [
    {
     "data": {
      "image/png": "[encoded data removed]",
      "text/plain": [
       "<Figure size 1080x720 with 4 Axes>"
      ]
     },
     "metadata": {
      "needs_background": "light"
     },
     "output_type": "display_data"
    }
   ],
   "source": [
    "fig,ax = plt.subplots(2,2,figsize = (15,10))\n",
    "\n",
    "sns.boxplot(x = 'Genre_Culturel', y = 'Audience share (%)', data = data,ax=ax[0,0])\n",
    "ax[0,0].set_title('Genre_Culturel vs Audience share (%)')\n",
    "\n",
    "sns.boxplot(x = 'Genre_Sport', y = 'Audience share (%)', data = data,ax=ax[0,1])\n",
    "ax[0,1].set_title('Genre_Sport vs Audience share (%)')\n",
    "\n",
    "sns.boxplot(x = 'Genre_Music', y = 'Audience share (%)', data = data,ax=ax[1,0])\n",
    "ax[1,0].set_title('Genre_Music vs Audience share (%)')\n",
    "\n",
    "sns.boxplot(x = 'Genre_Info', y = 'Audience share (%)', data = data,ax=ax[1,1])\n",
    "ax[1,1].set_title('Genre_Info vs Audience share (%)')\n",
    "\n",
    "plt.tight_layout()\n",
    "plt.show()"
   ]
  },
  {
   "cell_type": "code",
   "execution_count": 17,
   "metadata": {},
   "outputs": [],
   "source": [
    "data['Broadcasting date'] = data['Broadcasting date'].astype('datetime64[ns]')"
   ]
  },
  {
   "cell_type": "code",
   "execution_count": 18,
   "metadata": {},
   "outputs": [
    {
     "data": {
      "text/plain": [
       "Program                        object\n",
       "Number of viewers               int64\n",
       "Audience share (%)            float64\n",
       "Start time                     object\n",
       "Broadcasting date      datetime64[ns]\n",
       "Genre_Capsule                   uint8\n",
       "Genre_Culturel                  uint8\n",
       "Genre_Info                      uint8\n",
       "Genre_Music                     uint8\n",
       "Genre_Politique                 uint8\n",
       "Genre_Religieux                 uint8\n",
       "Genre_Series                    uint8\n",
       "Genre_Sport                     uint8\n",
       "Genre_documentaires             uint8\n",
       "dtype: object"
      ]
     },
     "execution_count": 18,
     "metadata": {},
     "output_type": "execute_result"
    }
   ],
   "source": [
    "data.dtypes"
   ]
  },
  {
   "cell_type": "code",
   "execution_count": 19,
   "metadata": {},
   "outputs": [
    {
     "data": {
      "text/html": [
       "<div>\n",
       "<style scoped>\n",
       "    .dataframe tbody tr th:only-of-type {\n",
       "        vertical-align: middle;\n",
       "    }\n",
       "\n",
       "    .dataframe tbody tr th {\n",
       "        vertical-align: top;\n",
       "    }\n",
       "\n",
       "    .dataframe thead th {\n",
       "        text-align: right;\n",
       "    }\n",
       "</style>\n",
       "<table border=\"1\" class=\"dataframe\">\n",
       "  <thead>\n",
       "    <tr style=\"text-align: right;\">\n",
       "      <th></th>\n",
       "      <th>Program</th>\n",
       "      <th>Number of viewers</th>\n",
       "      <th>Audience share (%)</th>\n",
       "      <th>Start time</th>\n",
       "      <th>Broadcasting date</th>\n",
       "      <th>Genre_Capsule</th>\n",
       "      <th>Genre_Culturel</th>\n",
       "      <th>Genre_Info</th>\n",
       "      <th>Genre_Music</th>\n",
       "      <th>Genre_Politique</th>\n",
       "      <th>Genre_Religieux</th>\n",
       "      <th>Genre_Series</th>\n",
       "      <th>Genre_Sport</th>\n",
       "      <th>Genre_documentaires</th>\n",
       "    </tr>\n",
       "  </thead>\n",
       "  <tbody>\n",
       "    <tr>\n",
       "      <th>0</th>\n",
       "      <td>Hiraf</td>\n",
       "      <td>163000</td>\n",
       "      <td>22.0</td>\n",
       "      <td>21:15:00</td>\n",
       "      <td>2023-03-21</td>\n",
       "      <td>1</td>\n",
       "      <td>0</td>\n",
       "      <td>0</td>\n",
       "      <td>0</td>\n",
       "      <td>0</td>\n",
       "      <td>0</td>\n",
       "      <td>0</td>\n",
       "      <td>0</td>\n",
       "      <td>0</td>\n",
       "    </tr>\n",
       "    <tr>\n",
       "      <th>1</th>\n",
       "      <td>Midadou chouaara</td>\n",
       "      <td>868000</td>\n",
       "      <td>13.8</td>\n",
       "      <td>06:17:00</td>\n",
       "      <td>2023-03-20</td>\n",
       "      <td>0</td>\n",
       "      <td>1</td>\n",
       "      <td>0</td>\n",
       "      <td>0</td>\n",
       "      <td>0</td>\n",
       "      <td>0</td>\n",
       "      <td>0</td>\n",
       "      <td>0</td>\n",
       "      <td>0</td>\n",
       "    </tr>\n",
       "    <tr>\n",
       "      <th>2</th>\n",
       "      <td>Fada Ryadi</td>\n",
       "      <td>681000</td>\n",
       "      <td>9.7</td>\n",
       "      <td>07:10:00</td>\n",
       "      <td>2023-03-19</td>\n",
       "      <td>0</td>\n",
       "      <td>0</td>\n",
       "      <td>0</td>\n",
       "      <td>0</td>\n",
       "      <td>0</td>\n",
       "      <td>0</td>\n",
       "      <td>0</td>\n",
       "      <td>1</td>\n",
       "      <td>0</td>\n",
       "    </tr>\n",
       "    <tr>\n",
       "      <th>3</th>\n",
       "      <td>Journal Télévisé</td>\n",
       "      <td>615000</td>\n",
       "      <td>44.9</td>\n",
       "      <td>22:30:00</td>\n",
       "      <td>2023-03-18</td>\n",
       "      <td>0</td>\n",
       "      <td>0</td>\n",
       "      <td>1</td>\n",
       "      <td>0</td>\n",
       "      <td>0</td>\n",
       "      <td>0</td>\n",
       "      <td>0</td>\n",
       "      <td>0</td>\n",
       "      <td>0</td>\n",
       "    </tr>\n",
       "    <tr>\n",
       "      <th>4</th>\n",
       "      <td>Agenda</td>\n",
       "      <td>868000</td>\n",
       "      <td>36.8</td>\n",
       "      <td>19:39:00</td>\n",
       "      <td>2023-03-17</td>\n",
       "      <td>0</td>\n",
       "      <td>0</td>\n",
       "      <td>1</td>\n",
       "      <td>0</td>\n",
       "      <td>0</td>\n",
       "      <td>0</td>\n",
       "      <td>0</td>\n",
       "      <td>0</td>\n",
       "      <td>0</td>\n",
       "    </tr>\n",
       "  </tbody>\n",
       "</table>\n",
       "</div>"
      ],
      "text/plain": [
       "            Program  Number of viewers  Audience share (%) Start time  \\\n",
       "0             Hiraf             163000                22.0   21:15:00   \n",
       "1  Midadou chouaara             868000                13.8   06:17:00   \n",
       "2        Fada Ryadi             681000                 9.7   07:10:00   \n",
       "3  Journal Télévisé             615000                44.9   22:30:00   \n",
       "4            Agenda             868000                36.8   19:39:00   \n",
       "\n",
       "  Broadcasting date  Genre_Capsule  Genre_Culturel  Genre_Info  Genre_Music  \\\n",
       "0        2023-03-21              1               0           0            0   \n",
       "1        2023-03-20              0               1           0            0   \n",
       "2        2023-03-19              0               0           0            0   \n",
       "3        2023-03-18              0               0           1            0   \n",
       "4        2023-03-17              0               0           1            0   \n",
       "\n",
       "   Genre_Politique  Genre_Religieux  Genre_Series  Genre_Sport  \\\n",
       "0                0                0             0            0   \n",
       "1                0                0             0            0   \n",
       "2                0                0             0            1   \n",
       "3                0                0             0            0   \n",
       "4                0                0             0            0   \n",
       "\n",
       "   Genre_documentaires  \n",
       "0                    0  \n",
       "1                    0  \n",
       "2                    0  \n",
       "3                    0  \n",
       "4                    0  "
      ]
     },
     "execution_count": 19,
     "metadata": {},
     "output_type": "execute_result"
    }
   ],
   "source": [
    "data.head()"
   ]
  },
  {
   "cell_type": "code",
   "execution_count": 20,
   "metadata": {},
   "outputs": [],
   "source": [
    "# Convert the \"Broadcasting date\" column to datetime format\n",
    "data[\"Broadcasting date\"] = pd.to_datetime(data[\"Broadcasting date\"], format=\"%d/%m/%Y\")"
   ]
  },
  {
   "cell_type": "code",
   "execution_count": 21,
   "metadata": {},
   "outputs": [
    {
     "data": {
      "text/plain": [
       "Program                        object\n",
       "Number of viewers               int64\n",
       "Audience share (%)            float64\n",
       "Start time                     object\n",
       "Broadcasting date      datetime64[ns]\n",
       "Genre_Capsule                   uint8\n",
       "Genre_Culturel                  uint8\n",
       "Genre_Info                      uint8\n",
       "Genre_Music                     uint8\n",
       "Genre_Politique                 uint8\n",
       "Genre_Religieux                 uint8\n",
       "Genre_Series                    uint8\n",
       "Genre_Sport                     uint8\n",
       "Genre_documentaires             uint8\n",
       "dtype: object"
      ]
     },
     "execution_count": 21,
     "metadata": {},
     "output_type": "execute_result"
    }
   ],
   "source": [
    "data.dtypes"
   ]
  },
  {
   "cell_type": "code",
   "execution_count": 22,
   "metadata": {},
   "outputs": [
    {
     "data": {
      "text/html": [
       "<div>\n",
       "<style scoped>\n",
       "    .dataframe tbody tr th:only-of-type {\n",
       "        vertical-align: middle;\n",
       "    }\n",
       "\n",
       "    .dataframe tbody tr th {\n",
       "        vertical-align: top;\n",
       "    }\n",
       "\n",
       "    .dataframe thead th {\n",
       "        text-align: right;\n",
       "    }\n",
       "</style>\n",
       "<table border=\"1\" class=\"dataframe\">\n",
       "  <thead>\n",
       "    <tr style=\"text-align: right;\">\n",
       "      <th></th>\n",
       "      <th>Program</th>\n",
       "      <th>Number of viewers</th>\n",
       "      <th>Audience share (%)</th>\n",
       "      <th>Start time</th>\n",
       "      <th>Broadcasting date</th>\n",
       "      <th>Genre_Capsule</th>\n",
       "      <th>Genre_Culturel</th>\n",
       "      <th>Genre_Info</th>\n",
       "      <th>Genre_Music</th>\n",
       "      <th>Genre_Politique</th>\n",
       "      <th>Genre_Religieux</th>\n",
       "      <th>Genre_Series</th>\n",
       "      <th>Genre_Sport</th>\n",
       "      <th>Genre_documentaires</th>\n",
       "    </tr>\n",
       "  </thead>\n",
       "  <tbody>\n",
       "    <tr>\n",
       "      <th>0</th>\n",
       "      <td>Hiraf</td>\n",
       "      <td>163000</td>\n",
       "      <td>22.0</td>\n",
       "      <td>21:15:00</td>\n",
       "      <td>2023-03-21</td>\n",
       "      <td>1</td>\n",
       "      <td>0</td>\n",
       "      <td>0</td>\n",
       "      <td>0</td>\n",
       "      <td>0</td>\n",
       "      <td>0</td>\n",
       "      <td>0</td>\n",
       "      <td>0</td>\n",
       "      <td>0</td>\n",
       "    </tr>\n",
       "    <tr>\n",
       "      <th>1</th>\n",
       "      <td>Midadou chouaara</td>\n",
       "      <td>868000</td>\n",
       "      <td>13.8</td>\n",
       "      <td>06:17:00</td>\n",
       "      <td>2023-03-20</td>\n",
       "      <td>0</td>\n",
       "      <td>1</td>\n",
       "      <td>0</td>\n",
       "      <td>0</td>\n",
       "      <td>0</td>\n",
       "      <td>0</td>\n",
       "      <td>0</td>\n",
       "      <td>0</td>\n",
       "      <td>0</td>\n",
       "    </tr>\n",
       "    <tr>\n",
       "      <th>2</th>\n",
       "      <td>Fada Ryadi</td>\n",
       "      <td>681000</td>\n",
       "      <td>9.7</td>\n",
       "      <td>07:10:00</td>\n",
       "      <td>2023-03-19</td>\n",
       "      <td>0</td>\n",
       "      <td>0</td>\n",
       "      <td>0</td>\n",
       "      <td>0</td>\n",
       "      <td>0</td>\n",
       "      <td>0</td>\n",
       "      <td>0</td>\n",
       "      <td>1</td>\n",
       "      <td>0</td>\n",
       "    </tr>\n",
       "    <tr>\n",
       "      <th>3</th>\n",
       "      <td>Journal Télévisé</td>\n",
       "      <td>615000</td>\n",
       "      <td>44.9</td>\n",
       "      <td>22:30:00</td>\n",
       "      <td>2023-03-18</td>\n",
       "      <td>0</td>\n",
       "      <td>0</td>\n",
       "      <td>1</td>\n",
       "      <td>0</td>\n",
       "      <td>0</td>\n",
       "      <td>0</td>\n",
       "      <td>0</td>\n",
       "      <td>0</td>\n",
       "      <td>0</td>\n",
       "    </tr>\n",
       "    <tr>\n",
       "      <th>4</th>\n",
       "      <td>Agenda</td>\n",
       "      <td>868000</td>\n",
       "      <td>36.8</td>\n",
       "      <td>19:39:00</td>\n",
       "      <td>2023-03-17</td>\n",
       "      <td>0</td>\n",
       "      <td>0</td>\n",
       "      <td>1</td>\n",
       "      <td>0</td>\n",
       "      <td>0</td>\n",
       "      <td>0</td>\n",
       "      <td>0</td>\n",
       "      <td>0</td>\n",
       "      <td>0</td>\n",
       "    </tr>\n",
       "  </tbody>\n",
       "</table>\n",
       "</div>"
      ],
      "text/plain": [
       "            Program  Number of viewers  Audience share (%) Start time  \\\n",
       "0             Hiraf             163000                22.0   21:15:00   \n",
       "1  Midadou chouaara             868000                13.8   06:17:00   \n",
       "2        Fada Ryadi             681000                 9.7   07:10:00   \n",
       "3  Journal Télévisé             615000                44.9   22:30:00   \n",
       "4            Agenda             868000                36.8   19:39:00   \n",
       "\n",
       "  Broadcasting date  Genre_Capsule  Genre_Culturel  Genre_Info  Genre_Music  \\\n",
       "0        2023-03-21              1               0           0            0   \n",
       "1        2023-03-20              0               1           0            0   \n",
       "2        2023-03-19              0               0           0            0   \n",
       "3        2023-03-18              0               0           1            0   \n",
       "4        2023-03-17              0               0           1            0   \n",
       "\n",
       "   Genre_Politique  Genre_Religieux  Genre_Series  Genre_Sport  \\\n",
       "0                0                0             0            0   \n",
       "1                0                0             0            0   \n",
       "2                0                0             0            1   \n",
       "3                0                0             0            0   \n",
       "4                0                0             0            0   \n",
       "\n",
       "   Genre_documentaires  \n",
       "0                    0  \n",
       "1                    0  \n",
       "2                    0  \n",
       "3                    0  \n",
       "4                    0  "
      ]
     },
     "execution_count": 22,
     "metadata": {},
     "output_type": "execute_result"
    }
   ],
   "source": [
    "data.head()"
   ]
  },
  {
   "cell_type": "code",
   "execution_count": 23,
   "metadata": {},
   "outputs": [],
   "source": [
    "# Create separate columns for year, month, and day\n",
    "data[\"Broadcasting year\"] = data[\"Broadcasting date\"].dt.year\n",
    "data[\"Broadcasting month\"] = data[\"Broadcasting date\"].dt.month\n",
    "data[\"Broadcasting day\"] = data[\"Broadcasting date\"].dt.day\n",
    "\n",
    "# Convert the \"Start time\" column to datetime format\n",
    "data[\"Start time\"] = pd.to_datetime(data[\"Start time\"], format=\"%H:%M:%S\")\n",
    "\n",
    "# Create separate columns for hour, minute, and second\n",
    "data[\"Start hour\"] = data[\"Start time\"].dt.hour\n",
    "data[\"Start minute\"] = data[\"Start time\"].dt.minute\n",
    "data[\"Start second\"] = data[\"Start time\"].dt.second"
   ]
  },
  {
   "cell_type": "code",
   "execution_count": 24,
   "metadata": {},
   "outputs": [
    {
     "data": {
      "text/html": [
       "<div>\n",
       "<style scoped>\n",
       "    .dataframe tbody tr th:only-of-type {\n",
       "        vertical-align: middle;\n",
       "    }\n",
       "\n",
       "    .dataframe tbody tr th {\n",
       "        vertical-align: top;\n",
       "    }\n",
       "\n",
       "    .dataframe thead th {\n",
       "        text-align: right;\n",
       "    }\n",
       "</style>\n",
       "<table border=\"1\" class=\"dataframe\">\n",
       "  <thead>\n",
       "    <tr style=\"text-align: right;\">\n",
       "      <th></th>\n",
       "      <th>Program</th>\n",
       "      <th>Number of viewers</th>\n",
       "      <th>Audience share (%)</th>\n",
       "      <th>Start time</th>\n",
       "      <th>Broadcasting date</th>\n",
       "      <th>Genre_Capsule</th>\n",
       "      <th>Genre_Culturel</th>\n",
       "      <th>Genre_Info</th>\n",
       "      <th>Genre_Music</th>\n",
       "      <th>Genre_Politique</th>\n",
       "      <th>Genre_Religieux</th>\n",
       "      <th>Genre_Series</th>\n",
       "      <th>Genre_Sport</th>\n",
       "      <th>Genre_documentaires</th>\n",
       "      <th>Broadcasting year</th>\n",
       "      <th>Broadcasting month</th>\n",
       "      <th>Broadcasting day</th>\n",
       "      <th>Start hour</th>\n",
       "      <th>Start minute</th>\n",
       "      <th>Start second</th>\n",
       "    </tr>\n",
       "  </thead>\n",
       "  <tbody>\n",
       "    <tr>\n",
       "      <th>0</th>\n",
       "      <td>Hiraf</td>\n",
       "      <td>163000</td>\n",
       "      <td>22.0</td>\n",
       "      <td>1900-01-01 21:15:00</td>\n",
       "      <td>2023-03-21</td>\n",
       "      <td>1</td>\n",
       "      <td>0</td>\n",
       "      <td>0</td>\n",
       "      <td>0</td>\n",
       "      <td>0</td>\n",
       "      <td>0</td>\n",
       "      <td>0</td>\n",
       "      <td>0</td>\n",
       "      <td>0</td>\n",
       "      <td>2023</td>\n",
       "      <td>3</td>\n",
       "      <td>21</td>\n",
       "      <td>21</td>\n",
       "      <td>15</td>\n",
       "      <td>0</td>\n",
       "    </tr>\n",
       "    <tr>\n",
       "      <th>1</th>\n",
       "      <td>Midadou chouaara</td>\n",
       "      <td>868000</td>\n",
       "      <td>13.8</td>\n",
       "      <td>1900-01-01 06:17:00</td>\n",
       "      <td>2023-03-20</td>\n",
       "      <td>0</td>\n",
       "      <td>1</td>\n",
       "      <td>0</td>\n",
       "      <td>0</td>\n",
       "      <td>0</td>\n",
       "      <td>0</td>\n",
       "      <td>0</td>\n",
       "      <td>0</td>\n",
       "      <td>0</td>\n",
       "      <td>2023</td>\n",
       "      <td>3</td>\n",
       "      <td>20</td>\n",
       "      <td>6</td>\n",
       "      <td>17</td>\n",
       "      <td>0</td>\n",
       "    </tr>\n",
       "    <tr>\n",
       "      <th>2</th>\n",
       "      <td>Fada Ryadi</td>\n",
       "      <td>681000</td>\n",
       "      <td>9.7</td>\n",
       "      <td>1900-01-01 07:10:00</td>\n",
       "      <td>2023-03-19</td>\n",
       "      <td>0</td>\n",
       "      <td>0</td>\n",
       "      <td>0</td>\n",
       "      <td>0</td>\n",
       "      <td>0</td>\n",
       "      <td>0</td>\n",
       "      <td>0</td>\n",
       "      <td>1</td>\n",
       "      <td>0</td>\n",
       "      <td>2023</td>\n",
       "      <td>3</td>\n",
       "      <td>19</td>\n",
       "      <td>7</td>\n",
       "      <td>10</td>\n",
       "      <td>0</td>\n",
       "    </tr>\n",
       "    <tr>\n",
       "      <th>3</th>\n",
       "      <td>Journal Télévisé</td>\n",
       "      <td>615000</td>\n",
       "      <td>44.9</td>\n",
       "      <td>1900-01-01 22:30:00</td>\n",
       "      <td>2023-03-18</td>\n",
       "      <td>0</td>\n",
       "      <td>0</td>\n",
       "      <td>1</td>\n",
       "      <td>0</td>\n",
       "      <td>0</td>\n",
       "      <td>0</td>\n",
       "      <td>0</td>\n",
       "      <td>0</td>\n",
       "      <td>0</td>\n",
       "      <td>2023</td>\n",
       "      <td>3</td>\n",
       "      <td>18</td>\n",
       "      <td>22</td>\n",
       "      <td>30</td>\n",
       "      <td>0</td>\n",
       "    </tr>\n",
       "    <tr>\n",
       "      <th>4</th>\n",
       "      <td>Agenda</td>\n",
       "      <td>868000</td>\n",
       "      <td>36.8</td>\n",
       "      <td>1900-01-01 19:39:00</td>\n",
       "      <td>2023-03-17</td>\n",
       "      <td>0</td>\n",
       "      <td>0</td>\n",
       "      <td>1</td>\n",
       "      <td>0</td>\n",
       "      <td>0</td>\n",
       "      <td>0</td>\n",
       "      <td>0</td>\n",
       "      <td>0</td>\n",
       "      <td>0</td>\n",
       "      <td>2023</td>\n",
       "      <td>3</td>\n",
       "      <td>17</td>\n",
       "      <td>19</td>\n",
       "      <td>39</td>\n",
       "      <td>0</td>\n",
       "    </tr>\n",
       "  </tbody>\n",
       "</table>\n",
       "</div>"
      ],
      "text/plain": [
       "            Program  Number of viewers  Audience share (%)  \\\n",
       "0             Hiraf             163000                22.0   \n",
       "1  Midadou chouaara             868000                13.8   \n",
       "2        Fada Ryadi             681000                 9.7   \n",
       "3  Journal Télévisé             615000                44.9   \n",
       "4            Agenda             868000                36.8   \n",
       "\n",
       "           Start time Broadcasting date  Genre_Capsule  Genre_Culturel  \\\n",
       "0 1900-01-01 21:15:00        2023-03-21              1               0   \n",
       "1 1900-01-01 06:17:00        2023-03-20              0               1   \n",
       "2 1900-01-01 07:10:00        2023-03-19              0               0   \n",
       "3 1900-01-01 22:30:00        2023-03-18              0               0   \n",
       "4 1900-01-01 19:39:00        2023-03-17              0               0   \n",
       "\n",
       "   Genre_Info  Genre_Music  Genre_Politique  Genre_Religieux  Genre_Series  \\\n",
       "0           0            0                0                0             0   \n",
       "1           0            0                0                0             0   \n",
       "2           0            0                0                0             0   \n",
       "3           1            0                0                0             0   \n",
       "4           1            0                0                0             0   \n",
       "\n",
       "   Genre_Sport  Genre_documentaires  Broadcasting year  Broadcasting month  \\\n",
       "0            0                    0               2023                   3   \n",
       "1            0                    0               2023                   3   \n",
       "2            1                    0               2023                   3   \n",
       "3            0                    0               2023                   3   \n",
       "4            0                    0               2023                   3   \n",
       "\n",
       "   Broadcasting day  Start hour  Start minute  Start second  \n",
       "0                21          21            15             0  \n",
       "1                20           6            17             0  \n",
       "2                19           7            10             0  \n",
       "3                18          22            30             0  \n",
       "4                17          19            39             0  "
      ]
     },
     "execution_count": 24,
     "metadata": {},
     "output_type": "execute_result"
    }
   ],
   "source": [
    "data.head()"
   ]
  },
  {
   "cell_type": "code",
   "execution_count": 25,
   "metadata": {},
   "outputs": [
    {
     "data": {
      "text/plain": [
       "30"
      ]
     },
     "execution_count": 25,
     "metadata": {},
     "output_type": "execute_result"
    }
   ],
   "source": [
    "len(data.Program.value_counts())"
   ]
  },
  {
   "cell_type": "code",
   "execution_count": 26,
   "metadata": {},
   "outputs": [
    {
     "data": {
      "text/plain": [
       "array(['Hiraf', 'Midadou chouaara', 'Fada Ryadi', 'Journal Télévisé',\n",
       "       'Agenda', 'Sahafatou Al ousbouaa', 'Touratak Lak', 'Tarab',\n",
       "       'Nabdou Al Moujtamaa', 'Mina Dakira sahraouya', 'Mara oa Al Hayat',\n",
       "       'Amnir', 'Kadaya ramadaniya', 'Konoz mina sahrae',\n",
       "       'Sahil aljanoubi', 'Maa Nass', 'Mina alassima',\n",
       "       'Aljamal bima hamal', 'samar albidan', 'Assrisser Dahbo',\n",
       "       'Makam mina tarab hassani', 'layali lafrig',\n",
       "       'bissmilahi lahi namdeh', 'alfich', 'sibak kawafi', 'Quiz Quran',\n",
       "       'Maa Naha', 'Mahadra', 'Mahattat', 'Oum Rjal'], dtype=object)"
      ]
     },
     "execution_count": 26,
     "metadata": {},
     "output_type": "execute_result"
    }
   ],
   "source": [
    "data.Program.unique()"
   ]
  },
  {
   "cell_type": "code",
   "execution_count": 27,
   "metadata": {},
   "outputs": [],
   "source": [
    "Max_Program = data['Program'].value_counts().sort_values(ascending=False)[0:20]\n",
    "Max_Program.name = 'Count'\n",
    "Max_Program.index.name = 'Programs'"
   ]
  },
  {
   "cell_type": "code",
   "execution_count": 28,
   "metadata": {},
   "outputs": [
    {
     "data": {
      "image/png": "[encoded data removed]",
      "text/plain": [
       "<Figure size 1008x576 with 1 Axes>"
      ]
     },
     "metadata": {
      "needs_background": "light"
     },
     "output_type": "display_data"
    }
   ],
   "source": [
    "fig = plt.figure(figsize=(14,8))\n",
    "sns.barplot(x=Max_Program.index,y= Max_Program)\n",
    "plt.tight_layout()"
   ]
  },
  {
   "cell_type": "code",
   "execution_count": 29,
   "metadata": {},
   "outputs": [
    {
     "data": {
      "text/plain": [
       "0    3108\n",
       "1    2032\n",
       "Name: Genre_Culturel, dtype: int64"
      ]
     },
     "execution_count": 29,
     "metadata": {},
     "output_type": "execute_result"
    }
   ],
   "source": [
    "data.Genre_Culturel.value_counts()"
   ]
  },
  {
   "cell_type": "code",
   "execution_count": 30,
   "metadata": {},
   "outputs": [
    {
     "name": "stderr",
     "output_type": "stream",
     "text": [
      "/opt/anaconda3/lib/python3.8/site-packages/seaborn/_decorators.py:36: FutureWarning: Pass the following variable as a keyword arg: x. From version 0.12, the only valid positional argument will be `data`, and passing other arguments without an explicit keyword will result in an error or misinterpretation.\n",
      "  warnings.warn(\n"
     ]
    },
    {
     "data": {
      "text/plain": [
       "<AxesSubplot:xlabel='Genre_Culturel', ylabel='count'>"
      ]
     },
     "execution_count": 30,
     "metadata": {},
     "output_type": "execute_result"
    },
    {
     "data": {
      "image/png": "[encoded data removed]",
      "text/plain": [
       "<Figure size 432x288 with 1 Axes>"
      ]
     },
     "metadata": {
      "needs_background": "light"
     },
     "output_type": "display_data"
    }
   ],
   "source": [
    "sns.countplot(data['Genre_Culturel'])"
   ]
  },
  {
   "cell_type": "code",
   "execution_count": 31,
   "metadata": {},
   "outputs": [
    {
     "data": {
      "text/plain": [
       "Index(['Program', 'Number of viewers', 'Audience share (%)', 'Start time',\n",
       "       'Broadcasting date', 'Genre_Capsule', 'Genre_Culturel', 'Genre_Info',\n",
       "       'Genre_Music', 'Genre_Politique', 'Genre_Religieux', 'Genre_Series',\n",
       "       'Genre_Sport', 'Genre_documentaires', 'Broadcasting year',\n",
       "       'Broadcasting month', 'Broadcasting day', 'Start hour', 'Start minute',\n",
       "       'Start second'],\n",
       "      dtype='object')"
      ]
     },
     "execution_count": 31,
     "metadata": {},
     "output_type": "execute_result"
    }
   ],
   "source": [
    "data.columns"
   ]
  },
  {
   "cell_type": "code",
   "execution_count": 32,
   "metadata": {},
   "outputs": [
    {
     "data": {
      "image/png": "[encoded data removed]",
      "text/plain": [
       "<Figure size 864x576 with 20 Axes>"
      ]
     },
     "metadata": {
      "needs_background": "light"
     },
     "output_type": "display_data"
    }
   ],
   "source": [
    "data.hist(figsize=(12,8),bins=30)\n",
    "plt.tight_layout()"
   ]
  },
  {
   "cell_type": "code",
   "execution_count": 33,
   "metadata": {},
   "outputs": [],
   "source": [
    "def bivariate_analysis(x):\n",
    "    plt.figure(figsize=(10,6))\n",
    "    ax = sns.regplot(x=x, y='Number of viewers',data=data)\n",
    "    ax.set_title(\"Used \"+x, fontsize=25)\n",
    "    ax.set_xlabel(x, fontsize=20)\n",
    "    ax.set_ylabel('Number of viewers', fontsize=20)\n",
    "    plt.locator_params(axis='x', nbins=10)"
   ]
  },
  {
   "cell_type": "code",
   "execution_count": 34,
   "metadata": {},
   "outputs": [
    {
     "data": {
      "image/png": "[encoded data removed]",
      "text/plain": [
       "<Figure size 720x432 with 1 Axes>"
      ]
     },
     "metadata": {
      "needs_background": "light"
     },
     "output_type": "display_data"
    }
   ],
   "source": [
    "bivariate_analysis(\"Genre_Capsule\")\n",
    "plt.tight_layout()"
   ]
  },
  {
   "cell_type": "code",
   "execution_count": 35,
   "metadata": {},
   "outputs": [
    {
     "data": {
      "image/png": "[encoded data removed]",
      "text/plain": [
       "<Figure size 720x432 with 1 Axes>"
      ]
     },
     "metadata": {
      "needs_background": "light"
     },
     "output_type": "display_data"
    },
    {
     "data": {
      "image/png": "[encoded data removed]",
      "text/plain": [
       "<Figure size 720x432 with 1 Axes>"
      ]
     },
     "metadata": {
      "needs_background": "light"
     },
     "output_type": "display_data"
    },
    {
     "data": {
      "image/png": "[encoded data removed]",
      "text/plain": [
       "<Figure size 720x432 with 1 Axes>"
      ]
     },
     "metadata": {
      "needs_background": "light"
     },
     "output_type": "display_data"
    },
    {
     "data": {
      "image/png": "[encoded data removed]",
      "text/plain": [
       "<Figure size 720x432 with 1 Axes>"
      ]
     },
     "metadata": {
      "needs_background": "light"
     },
     "output_type": "display_data"
    },
    {
     "data": {
      "image/png": "[encoded data removed]",
      "text/plain": [
       "<Figure size 720x432 with 1 Axes>"
      ]
     },
     "metadata": {
      "needs_background": "light"
     },
     "output_type": "display_data"
    },
    {
     "data": {
      "image/png": "[encoded data removed]",
      "text/plain": [
       "<Figure size 720x432 with 1 Axes>"
      ]
     },
     "metadata": {
      "needs_background": "light"
     },
     "output_type": "display_data"
    },
    {
     "data": {
      "image/png": "[encoded data removed]",
      "text/plain": [
       "<Figure size 720x432 with 1 Axes>"
      ]
     },
     "metadata": {
      "needs_background": "light"
     },
     "output_type": "display_data"
    },
    {
     "data": {
      "image/png": "[encoded data removed]",
      "text/plain": [
       "<Figure size 720x432 with 1 Axes>"
      ]
     },
     "metadata": {
      "needs_background": "light"
     },
     "output_type": "display_data"
    },
    {
     "data": {
      "image/png": "[encoded data removed]",
      "text/plain": [
       "<Figure size 720x432 with 1 Axes>"
      ]
     },
     "metadata": {
      "needs_background": "light"
     },
     "output_type": "display_data"
    }
   ],
   "source": [
    "cols = [\"Genre_Capsule\", \"Genre_Culturel\",\"Genre_Info\",\"Genre_Music\",\"Genre_Politique\",\"Genre_Religieux\",\"Genre_Sport\", \"Genre_documentaires\",\"Genre_Series\"]\n",
    "for x in cols:\n",
    "    bivariate_analysis(x)\n",
    "plt.tight_layout()"
   ]
  },
  {
   "cell_type": "code",
   "execution_count": 36,
   "metadata": {},
   "outputs": [
    {
     "data": {
      "text/plain": [
       "<AxesSubplot:>"
      ]
     },
     "execution_count": 36,
     "metadata": {},
     "output_type": "execute_result"
    },
    {
     "data": {
      "image/png": "[encoded data removed]",
      "text/plain": [
       "<Figure size 864x576 with 2 Axes>"
      ]
     },
     "metadata": {
      "needs_background": "light"
     },
     "output_type": "display_data"
    }
   ],
   "source": [
    "fig = plt.figure(figsize=(12,8))\n",
    "sns.heatmap(data.corr(),annot=True)"
   ]
  },
  {
   "cell_type": "code",
   "execution_count": 37,
   "metadata": {},
   "outputs": [],
   "source": [
    "# Split the data into training and testing sets\n",
    "X = data.drop([ \"Program\",\"Genre_Capsule\",\"Genre_Culturel\" ,\"Genre_Info\",\"Genre_Music\",\"Genre_Politique\",\"Genre_Religieux\",\"Genre_Sport\",\"Genre_documentaires\",\"Genre_Series\", \"Broadcasting date\", \"Start time\"], axis=1)\n",
    "y = data[[\"Audience share (%)\"]]\n",
    "X_train, X_test, y_train, y_test = train_test_split(X, y, test_size=0.2, random_state=42)"
   ]
  },
  {
   "cell_type": "code",
   "execution_count": 38,
   "metadata": {
    "scrolled": false
   },
   "outputs": [
    {
     "name": "stdout",
     "output_type": "stream",
     "text": [
      "+ ==================================================================================================== +\n",
      "\u001b[1m\t\t\t1-For LinearRegression The Performance result is: \u001b[0m\n",
      "+ ==================================================================================================== +\n",
      "Root mean squared error (RMSE) :  1.9503367957948348e-14\n",
      "--------------------------------------------------\n",
      "Mean absolute error (MAE) :  1.622739988210871e-14\n",
      "--------------------------------------------------\n",
      "--------------------------------------------------\n",
      "R2 score :  1.0\n",
      "--------------------------------------------------\n",
      "--------------------------------------------------\n",
      "\t\t\t\t\t\t\t-----------------------------------------------------------\n",
      "\t\t\t\t\t\t\t Time for detection (LinearRegression) : 1.679 seconds...\n",
      "\t\t\t\t\t\t\t-----------------------------------------------------------\n",
      "\n",
      "+ ==================================================================================================== +\n",
      "\u001b[1m\t\t\t2-For Ridge The Performance result is: \u001b[0m\n",
      "+ ==================================================================================================== +\n",
      "Root mean squared error (RMSE) :  2.4578315362193737e-05\n",
      "--------------------------------------------------\n",
      "Mean absolute error (MAE) :  1.9818229192419714e-05\n",
      "--------------------------------------------------\n",
      "--------------------------------------------------\n",
      "R2 score :  0.9999999999943637\n",
      "--------------------------------------------------\n",
      "--------------------------------------------------\n",
      "\t\t\t\t\t\t\t-----------------------------------------------------------\n",
      "\t\t\t\t\t\t\t Time for detection (Ridge) : 0.018 seconds...\n",
      "\t\t\t\t\t\t\t-----------------------------------------------------------\n",
      "\n",
      "+ ==================================================================================================== +\n",
      "\u001b[1m\t\t\t3-For KNeighborsRegressor The Performance result is: \u001b[0m\n",
      "+ ==================================================================================================== +\n",
      "Root mean squared error (RMSE) :  7.379327418657541\n",
      "--------------------------------------------------\n",
      "Mean absolute error (MAE) :  5.898871595330739\n",
      "--------------------------------------------------\n",
      "--------------------------------------------------\n",
      "R2 score :  0.49193396086447383\n",
      "--------------------------------------------------\n",
      "--------------------------------------------------\n",
      "\t\t\t\t\t\t\t-----------------------------------------------------------\n",
      "\t\t\t\t\t\t\t Time for detection (KNeighborsRegressor) : 0.036 seconds...\n",
      "\t\t\t\t\t\t\t-----------------------------------------------------------\n",
      "\n"
     ]
    },
    {
     "name": "stderr",
     "output_type": "stream",
     "text": [
      "<ipython-input-38-351fe9ffed96>:39: DataConversionWarning: A column-vector y was passed when a 1d array was expected. Please change the shape of y to (n_samples,), for example using ravel().\n",
      "  clf.fit(X_train, y_train)\n"
     ]
    },
    {
     "name": "stdout",
     "output_type": "stream",
     "text": [
      "+ ==================================================================================================== +\n",
      "\u001b[1m\t\t\t4-For Random Forest The Performance result is: \u001b[0m\n",
      "+ ==================================================================================================== +\n",
      "Root mean squared error (RMSE) :  0.0075892228523047065\n",
      "--------------------------------------------------\n",
      "Mean absolute error (MAE) :  0.0006605058365758257\n",
      "--------------------------------------------------\n",
      "--------------------------------------------------\n",
      "R2 score :  0.9999994626203488\n",
      "--------------------------------------------------\n",
      "--------------------------------------------------\n",
      "\t\t\t\t\t\t\t-----------------------------------------------------------\n",
      "\t\t\t\t\t\t\t Time for detection (Random Forest) : 0.51 seconds...\n",
      "\t\t\t\t\t\t\t-----------------------------------------------------------\n",
      "\n",
      "+ ==================================================================================================== +\n",
      "\u001b[1m\t\t\t5-For Decision Tree The Performance result is: \u001b[0m\n",
      "+ ==================================================================================================== +\n",
      "Root mean squared error (RMSE) :  0.06268940173182516\n",
      "--------------------------------------------------\n",
      "Mean absolute error (MAE) :  0.004085603112840466\n",
      "--------------------------------------------------\n",
      "--------------------------------------------------\n",
      "R2 score :  0.9999633330441169\n",
      "--------------------------------------------------\n",
      "--------------------------------------------------\n",
      "\t\t\t\t\t\t\t-----------------------------------------------------------\n",
      "\t\t\t\t\t\t\t Time for detection (Decision Tree) : 0.016 seconds...\n",
      "\t\t\t\t\t\t\t-----------------------------------------------------------\n",
      "\n"
     ]
    },
    {
     "data": {
      "text/html": [
       "<div>\n",
       "<style scoped>\n",
       "    .dataframe tbody tr th:only-of-type {\n",
       "        vertical-align: middle;\n",
       "    }\n",
       "\n",
       "    .dataframe tbody tr th {\n",
       "        vertical-align: top;\n",
       "    }\n",
       "\n",
       "    .dataframe thead th {\n",
       "        text-align: right;\n",
       "    }\n",
       "</style>\n",
       "<table border=\"1\" class=\"dataframe\">\n",
       "  <thead>\n",
       "    <tr style=\"text-align: right;\">\n",
       "      <th></th>\n",
       "      <th>Training Score</th>\n",
       "      <th>Testing Score</th>\n",
       "      <th>MAE</th>\n",
       "      <th>RMSE</th>\n",
       "      <th>R2 Score</th>\n",
       "    </tr>\n",
       "  </thead>\n",
       "  <tbody>\n",
       "    <tr>\n",
       "      <th>0</th>\n",
       "      <td>1.000000</td>\n",
       "      <td>1.000000</td>\n",
       "      <td>1.622740e-14</td>\n",
       "      <td>1.950337e-14</td>\n",
       "      <td>1.000000</td>\n",
       "    </tr>\n",
       "    <tr>\n",
       "      <th>1</th>\n",
       "      <td>1.000000</td>\n",
       "      <td>1.000000</td>\n",
       "      <td>1.981823e-05</td>\n",
       "      <td>2.457832e-05</td>\n",
       "      <td>1.000000</td>\n",
       "    </tr>\n",
       "    <tr>\n",
       "      <th>2</th>\n",
       "      <td>0.664153</td>\n",
       "      <td>0.491934</td>\n",
       "      <td>5.898872e+00</td>\n",
       "      <td>7.379327e+00</td>\n",
       "      <td>0.491934</td>\n",
       "    </tr>\n",
       "    <tr>\n",
       "      <th>3</th>\n",
       "      <td>1.000000</td>\n",
       "      <td>0.999999</td>\n",
       "      <td>6.605058e-04</td>\n",
       "      <td>7.589223e-03</td>\n",
       "      <td>0.999999</td>\n",
       "    </tr>\n",
       "    <tr>\n",
       "      <th>4</th>\n",
       "      <td>1.000000</td>\n",
       "      <td>0.999963</td>\n",
       "      <td>4.085603e-03</td>\n",
       "      <td>6.268940e-02</td>\n",
       "      <td>0.999963</td>\n",
       "    </tr>\n",
       "  </tbody>\n",
       "</table>\n",
       "</div>"
      ],
      "text/plain": [
       "   Training Score  Testing Score           MAE          RMSE  R2 Score\n",
       "0        1.000000       1.000000  1.622740e-14  1.950337e-14  1.000000\n",
       "1        1.000000       1.000000  1.981823e-05  2.457832e-05  1.000000\n",
       "2        0.664153       0.491934  5.898872e+00  7.379327e+00  0.491934\n",
       "3        1.000000       0.999999  6.605058e-04  7.589223e-03  0.999999\n",
       "4        1.000000       0.999963  4.085603e-03  6.268940e-02  0.999963"
      ]
     },
     "execution_count": 38,
     "metadata": {},
     "output_type": "execute_result"
    }
   ],
   "source": [
    "# Importing Models\n",
    "from sklearn.linear_model import LinearRegression\n",
    "from sklearn.linear_model import Ridge\n",
    "from sklearn.neighbors import KNeighborsRegressor\n",
    "from sklearn.ensemble import RandomForestRegressor\n",
    "from sklearn.tree import DecisionTreeRegressor\n",
    "\n",
    "# Importing evaluation modules\n",
    "from sklearn.metrics import r2_score, mean_absolute_error, mean_squared_error\n",
    "\n",
    "# check the performance on diffrent regressor\n",
    "models = []\n",
    "models.append(('LinearRegression', LinearRegression()))\n",
    "models.append(('Ridge', Ridge()))\n",
    "models.append(('KNeighborsRegressor', KNeighborsRegressor()))\n",
    "models.append(('Random Forest', RandomForestRegressor()))\n",
    "models.append(('Decision Tree', DecisionTreeRegressor()))\n",
    "\n",
    "\n",
    "\n",
    "names = [\"Linear Regression\", \"Ridge\", \"KNN\", \"Random Forest\", \"Decision Tree\"]\n",
    "\n",
    "\n",
    "\n",
    "train_l = []\n",
    "test_l = []\n",
    "mae_l = []\n",
    "rmse_l = []\n",
    "r2_l = []\n",
    "\n",
    "import time\n",
    "i = 0\n",
    "for name,model in models:\n",
    "    i = i+1\n",
    "    start_time = time.time()\n",
    "    \n",
    "    # Fitting model to the Training set\n",
    "    clf = model\n",
    "    clf.fit(X_train, y_train)\n",
    "    \n",
    "    # Scores of model\n",
    "    train = model.score(X_train, y_train)\n",
    "    test = model.score(X_test, y_test)\n",
    "    \n",
    "    train_l.append(train)\n",
    "    test_l.append(test)\n",
    "    \n",
    "    # predict values\n",
    "    predictions = clf.predict(X_test)\n",
    "    # RMSE\n",
    "    rmse = np.sqrt(mean_squared_error(y_test, predictions))\n",
    "    rmse_l.append(rmse)\n",
    "    # MAE\n",
    "    mae = mean_absolute_error(y_test,predictions)\n",
    "    mae_l.append(mae)\n",
    "    # R2 score\n",
    "    r2 = r2_score(y_test,predictions)\n",
    "    r2_l.append(r2)\n",
    "\n",
    "\n",
    "\n",
    "    print(\"+\",\"=\"*100,\"+\")\n",
    "    print('\\033[1m' + f\"\\t\\t\\t{i}-For {name} The Performance result is: \" + '\\033[0m')\n",
    "    print(\"+\",\"=\"*100,\"+\")\n",
    "    print('Root mean squared error (RMSE) : ', rmse)   \n",
    "    print(\"-\"*50)\n",
    "    print('Mean absolute error (MAE) : ', mae)\n",
    "    print(\"-\"*50)\n",
    "    #print('Max errors : ', m_errors)\n",
    "    print(\"-\"*50)\n",
    "    print('R2 score : ', r2)\n",
    "    print(\"-\"*50)\n",
    "   # print('cross validation accuracy : ', np.mean(scores))\n",
    "    print(\"-\"*50)\n",
    "\n",
    "\n",
    "    \n",
    "    print(\"\\t\\t\\t\\t\\t\\t\\t-----------------------------------------------------------\")\n",
    "    print(f\"\\t\\t\\t\\t\\t\\t\\t Time for detection ({name}) : {round((time.time() - start_time), 3)} seconds...\")\n",
    "    print(\"\\t\\t\\t\\t\\t\\t\\t-----------------------------------------------------------\")\n",
    "    print()\n",
    "    \n",
    "comp = pd.DataFrame({\"Training Score\": train_l, \"Testing Score\": test_l, \"MAE\": mae_l, \"RMSE\": rmse_l, \"R2 Score\": r2_l})\n",
    "comp\n",
    "\n",
    "\n"
   ]
  },
  {
   "cell_type": "code",
   "execution_count": 39,
   "metadata": {},
   "outputs": [
    {
     "data": {
      "text/html": [
       "<div>\n",
       "<style scoped>\n",
       "    .dataframe tbody tr th:only-of-type {\n",
       "        vertical-align: middle;\n",
       "    }\n",
       "\n",
       "    .dataframe tbody tr th {\n",
       "        vertical-align: top;\n",
       "    }\n",
       "\n",
       "    .dataframe thead th {\n",
       "        text-align: right;\n",
       "    }\n",
       "</style>\n",
       "<table border=\"1\" class=\"dataframe\">\n",
       "  <thead>\n",
       "    <tr style=\"text-align: right;\">\n",
       "      <th></th>\n",
       "      <th>Training Score</th>\n",
       "      <th>Testing Score</th>\n",
       "      <th>MAE</th>\n",
       "      <th>RMSE</th>\n",
       "      <th>R2 Score</th>\n",
       "    </tr>\n",
       "  </thead>\n",
       "  <tbody>\n",
       "    <tr>\n",
       "      <th>0</th>\n",
       "      <td>1.000000</td>\n",
       "      <td>1.000000</td>\n",
       "      <td>1.622740e-14</td>\n",
       "      <td>1.950337e-14</td>\n",
       "      <td>1.000000</td>\n",
       "    </tr>\n",
       "    <tr>\n",
       "      <th>1</th>\n",
       "      <td>1.000000</td>\n",
       "      <td>1.000000</td>\n",
       "      <td>1.981823e-05</td>\n",
       "      <td>2.457832e-05</td>\n",
       "      <td>1.000000</td>\n",
       "    </tr>\n",
       "    <tr>\n",
       "      <th>2</th>\n",
       "      <td>0.664153</td>\n",
       "      <td>0.491934</td>\n",
       "      <td>5.898872e+00</td>\n",
       "      <td>7.379327e+00</td>\n",
       "      <td>0.491934</td>\n",
       "    </tr>\n",
       "    <tr>\n",
       "      <th>3</th>\n",
       "      <td>1.000000</td>\n",
       "      <td>0.999999</td>\n",
       "      <td>6.605058e-04</td>\n",
       "      <td>7.589223e-03</td>\n",
       "      <td>0.999999</td>\n",
       "    </tr>\n",
       "    <tr>\n",
       "      <th>4</th>\n",
       "      <td>1.000000</td>\n",
       "      <td>0.999963</td>\n",
       "      <td>4.085603e-03</td>\n",
       "      <td>6.268940e-02</td>\n",
       "      <td>0.999963</td>\n",
       "    </tr>\n",
       "  </tbody>\n",
       "</table>\n",
       "</div>"
      ],
      "text/plain": [
       "   Training Score  Testing Score           MAE          RMSE  R2 Score\n",
       "0        1.000000       1.000000  1.622740e-14  1.950337e-14  1.000000\n",
       "1        1.000000       1.000000  1.981823e-05  2.457832e-05  1.000000\n",
       "2        0.664153       0.491934  5.898872e+00  7.379327e+00  0.491934\n",
       "3        1.000000       0.999999  6.605058e-04  7.589223e-03  0.999999\n",
       "4        1.000000       0.999963  4.085603e-03  6.268940e-02  0.999963"
      ]
     },
     "execution_count": 39,
     "metadata": {},
     "output_type": "execute_result"
    }
   ],
   "source": [
    "comp"
   ]
  },
  {
   "cell_type": "code",
   "execution_count": 40,
   "metadata": {},
   "outputs": [
    {
     "data": {
      "text/plain": [
       "Text(0.5, 1.0, 'MSE Comparison of Regression Models')"
      ]
     },
     "execution_count": 40,
     "metadata": {},
     "output_type": "execute_result"
    },
    {
     "data": {
      "image/png": "[encoded data removed]",
      "text/plain": [
       "<Figure size 432x288 with 1 Axes>"
      ]
     },
     "metadata": {
      "needs_background": "light"
     },
     "output_type": "display_data"
    }
   ],
   "source": [
    "comp.plot(kind = 'bar')\n",
    "plt.title(\"MSE Comparison of Regression Models\")\n"
   ]
  },
  {
   "cell_type": "code",
   "execution_count": 41,
   "metadata": {},
   "outputs": [
    {
     "data": {
      "text/plain": [
       "0    1.950337e-14\n",
       "1    2.457832e-05\n",
       "2    7.379327e+00\n",
       "3    7.589223e-03\n",
       "4    6.268940e-02\n",
       "Name: RMSE, dtype: float64"
      ]
     },
     "execution_count": 41,
     "metadata": {},
     "output_type": "execute_result"
    }
   ],
   "source": [
    "comp.RMSE[:]"
   ]
  },
  {
   "cell_type": "code",
   "execution_count": 42,
   "metadata": {},
   "outputs": [
    {
     "ename": "ValueError",
     "evalue": "shape mismatch: objects cannot be broadcast to a single shape.  Mismatch is between arg 0 with shape (8,) and arg 1 with shape (5,).",
     "output_type": "error",
     "traceback": [
      "\u001b[0;31m---------------------------------------------------------------------------\u001b[0m",
      "\u001b[0;31mValueError\u001b[0m                                Traceback (most recent call last)",
      "\u001b[0;32m<ipython-input-42-8bfb95e62002>\u001b[0m in \u001b[0;36m<module>\u001b[0;34m\u001b[0m\n\u001b[1;32m     12\u001b[0m \u001b[0mcolors\u001b[0m \u001b[0;34m=\u001b[0m \u001b[0;34m[\u001b[0m\u001b[0;34m'blue'\u001b[0m\u001b[0;34m,\u001b[0m \u001b[0;34m'orange'\u001b[0m\u001b[0;34m,\u001b[0m \u001b[0;34m'green'\u001b[0m\u001b[0;34m,\u001b[0m \u001b[0;34m'red'\u001b[0m\u001b[0;34m,\u001b[0m \u001b[0;34m'purple'\u001b[0m\u001b[0;34m,\u001b[0m\u001b[0;34m'green'\u001b[0m\u001b[0;34m,\u001b[0m \u001b[0;34m'red'\u001b[0m\u001b[0;34m,\u001b[0m \u001b[0;34m'purple'\u001b[0m\u001b[0;34m]\u001b[0m\u001b[0;34m\u001b[0m\u001b[0;34m\u001b[0m\u001b[0m\n\u001b[1;32m     13\u001b[0m \u001b[0;34m\u001b[0m\u001b[0m\n\u001b[0;32m---> 14\u001b[0;31m \u001b[0max1\u001b[0m\u001b[0;34m.\u001b[0m\u001b[0mbar\u001b[0m\u001b[0;34m(\u001b[0m\u001b[0mmodels\u001b[0m\u001b[0;34m,\u001b[0m \u001b[0mcomps\u001b[0m\u001b[0;34m,\u001b[0m \u001b[0mcolor\u001b[0m\u001b[0;34m=\u001b[0m\u001b[0mcolors\u001b[0m\u001b[0;34m)\u001b[0m\u001b[0;34m\u001b[0m\u001b[0;34m\u001b[0m\u001b[0m\n\u001b[0m\u001b[1;32m     15\u001b[0m \u001b[0max1\u001b[0m\u001b[0;34m.\u001b[0m\u001b[0mset_xlabel\u001b[0m\u001b[0;34m(\u001b[0m\u001b[0;34m\"Model\"\u001b[0m\u001b[0;34m)\u001b[0m\u001b[0;34m\u001b[0m\u001b[0;34m\u001b[0m\u001b[0m\n\u001b[1;32m     16\u001b[0m \u001b[0max1\u001b[0m\u001b[0;34m.\u001b[0m\u001b[0mset_ylabel\u001b[0m\u001b[0;34m(\u001b[0m\u001b[0;34m\"MSE\"\u001b[0m\u001b[0;34m)\u001b[0m\u001b[0;34m\u001b[0m\u001b[0;34m\u001b[0m\u001b[0m\n",
      "\u001b[0;32m/opt/anaconda3/lib/python3.8/site-packages/matplotlib/__init__.py\u001b[0m in \u001b[0;36minner\u001b[0;34m(ax, data, *args, **kwargs)\u001b[0m\n\u001b[1;32m   1436\u001b[0m     \u001b[0;32mdef\u001b[0m \u001b[0minner\u001b[0m\u001b[0;34m(\u001b[0m\u001b[0max\u001b[0m\u001b[0;34m,\u001b[0m \u001b[0;34m*\u001b[0m\u001b[0margs\u001b[0m\u001b[0;34m,\u001b[0m \u001b[0mdata\u001b[0m\u001b[0;34m=\u001b[0m\u001b[0;32mNone\u001b[0m\u001b[0;34m,\u001b[0m \u001b[0;34m**\u001b[0m\u001b[0mkwargs\u001b[0m\u001b[0;34m)\u001b[0m\u001b[0;34m:\u001b[0m\u001b[0;34m\u001b[0m\u001b[0;34m\u001b[0m\u001b[0m\n\u001b[1;32m   1437\u001b[0m         \u001b[0;32mif\u001b[0m \u001b[0mdata\u001b[0m \u001b[0;32mis\u001b[0m \u001b[0;32mNone\u001b[0m\u001b[0;34m:\u001b[0m\u001b[0;34m\u001b[0m\u001b[0;34m\u001b[0m\u001b[0m\n\u001b[0;32m-> 1438\u001b[0;31m             \u001b[0;32mreturn\u001b[0m \u001b[0mfunc\u001b[0m\u001b[0;34m(\u001b[0m\u001b[0max\u001b[0m\u001b[0;34m,\u001b[0m \u001b[0;34m*\u001b[0m\u001b[0mmap\u001b[0m\u001b[0;34m(\u001b[0m\u001b[0msanitize_sequence\u001b[0m\u001b[0;34m,\u001b[0m \u001b[0margs\u001b[0m\u001b[0;34m)\u001b[0m\u001b[0;34m,\u001b[0m \u001b[0;34m**\u001b[0m\u001b[0mkwargs\u001b[0m\u001b[0;34m)\u001b[0m\u001b[0;34m\u001b[0m\u001b[0;34m\u001b[0m\u001b[0m\n\u001b[0m\u001b[1;32m   1439\u001b[0m \u001b[0;34m\u001b[0m\u001b[0m\n\u001b[1;32m   1440\u001b[0m         \u001b[0mbound\u001b[0m \u001b[0;34m=\u001b[0m \u001b[0mnew_sig\u001b[0m\u001b[0;34m.\u001b[0m\u001b[0mbind\u001b[0m\u001b[0;34m(\u001b[0m\u001b[0max\u001b[0m\u001b[0;34m,\u001b[0m \u001b[0;34m*\u001b[0m\u001b[0margs\u001b[0m\u001b[0;34m,\u001b[0m \u001b[0;34m**\u001b[0m\u001b[0mkwargs\u001b[0m\u001b[0;34m)\u001b[0m\u001b[0;34m\u001b[0m\u001b[0;34m\u001b[0m\u001b[0m\n",
      "\u001b[0;32m/opt/anaconda3/lib/python3.8/site-packages/matplotlib/axes/_axes.py\u001b[0m in \u001b[0;36mbar\u001b[0;34m(self, x, height, width, bottom, align, **kwargs)\u001b[0m\n\u001b[1;32m   2428\u001b[0m                 \u001b[0myerr\u001b[0m \u001b[0;34m=\u001b[0m \u001b[0mself\u001b[0m\u001b[0;34m.\u001b[0m\u001b[0m_convert_dx\u001b[0m\u001b[0;34m(\u001b[0m\u001b[0myerr\u001b[0m\u001b[0;34m,\u001b[0m \u001b[0my0\u001b[0m\u001b[0;34m,\u001b[0m \u001b[0my\u001b[0m\u001b[0;34m,\u001b[0m \u001b[0mself\u001b[0m\u001b[0;34m.\u001b[0m\u001b[0mconvert_yunits\u001b[0m\u001b[0;34m)\u001b[0m\u001b[0;34m\u001b[0m\u001b[0;34m\u001b[0m\u001b[0m\n\u001b[1;32m   2429\u001b[0m \u001b[0;34m\u001b[0m\u001b[0m\n\u001b[0;32m-> 2430\u001b[0;31m         x, height, width, y, linewidth = np.broadcast_arrays(\n\u001b[0m\u001b[1;32m   2431\u001b[0m             \u001b[0;31m# Make args iterable too.\u001b[0m\u001b[0;34m\u001b[0m\u001b[0;34m\u001b[0m\u001b[0;34m\u001b[0m\u001b[0m\n\u001b[1;32m   2432\u001b[0m             np.atleast_1d(x), height, width, y, linewidth)\n",
      "\u001b[0;32m/opt/anaconda3/lib/python3.8/site-packages/numpy/core/overrides.py\u001b[0m in \u001b[0;36mbroadcast_arrays\u001b[0;34m(*args, **kwargs)\u001b[0m\n",
      "\u001b[0;32m/opt/anaconda3/lib/python3.8/site-packages/numpy/lib/stride_tricks.py\u001b[0m in \u001b[0;36mbroadcast_arrays\u001b[0;34m(subok, *args)\u001b[0m\n\u001b[1;32m    538\u001b[0m     \u001b[0margs\u001b[0m \u001b[0;34m=\u001b[0m \u001b[0;34m[\u001b[0m\u001b[0mnp\u001b[0m\u001b[0;34m.\u001b[0m\u001b[0marray\u001b[0m\u001b[0;34m(\u001b[0m\u001b[0m_m\u001b[0m\u001b[0;34m,\u001b[0m \u001b[0mcopy\u001b[0m\u001b[0;34m=\u001b[0m\u001b[0;32mFalse\u001b[0m\u001b[0;34m,\u001b[0m \u001b[0msubok\u001b[0m\u001b[0;34m=\u001b[0m\u001b[0msubok\u001b[0m\u001b[0;34m)\u001b[0m \u001b[0;32mfor\u001b[0m \u001b[0m_m\u001b[0m \u001b[0;32min\u001b[0m \u001b[0margs\u001b[0m\u001b[0;34m]\u001b[0m\u001b[0;34m\u001b[0m\u001b[0;34m\u001b[0m\u001b[0m\n\u001b[1;32m    539\u001b[0m \u001b[0;34m\u001b[0m\u001b[0m\n\u001b[0;32m--> 540\u001b[0;31m     \u001b[0mshape\u001b[0m \u001b[0;34m=\u001b[0m \u001b[0m_broadcast_shape\u001b[0m\u001b[0;34m(\u001b[0m\u001b[0;34m*\u001b[0m\u001b[0margs\u001b[0m\u001b[0;34m)\u001b[0m\u001b[0;34m\u001b[0m\u001b[0;34m\u001b[0m\u001b[0m\n\u001b[0m\u001b[1;32m    541\u001b[0m \u001b[0;34m\u001b[0m\u001b[0m\n\u001b[1;32m    542\u001b[0m     \u001b[0;32mif\u001b[0m \u001b[0mall\u001b[0m\u001b[0;34m(\u001b[0m\u001b[0marray\u001b[0m\u001b[0;34m.\u001b[0m\u001b[0mshape\u001b[0m \u001b[0;34m==\u001b[0m \u001b[0mshape\u001b[0m \u001b[0;32mfor\u001b[0m \u001b[0marray\u001b[0m \u001b[0;32min\u001b[0m \u001b[0margs\u001b[0m\u001b[0;34m)\u001b[0m\u001b[0;34m:\u001b[0m\u001b[0;34m\u001b[0m\u001b[0;34m\u001b[0m\u001b[0m\n",
      "\u001b[0;32m/opt/anaconda3/lib/python3.8/site-packages/numpy/lib/stride_tricks.py\u001b[0m in \u001b[0;36m_broadcast_shape\u001b[0;34m(*args)\u001b[0m\n\u001b[1;32m    420\u001b[0m     \u001b[0;31m# use the old-iterator because np.nditer does not handle size 0 arrays\u001b[0m\u001b[0;34m\u001b[0m\u001b[0;34m\u001b[0m\u001b[0;34m\u001b[0m\u001b[0m\n\u001b[1;32m    421\u001b[0m     \u001b[0;31m# consistently\u001b[0m\u001b[0;34m\u001b[0m\u001b[0;34m\u001b[0m\u001b[0;34m\u001b[0m\u001b[0m\n\u001b[0;32m--> 422\u001b[0;31m     \u001b[0mb\u001b[0m \u001b[0;34m=\u001b[0m \u001b[0mnp\u001b[0m\u001b[0;34m.\u001b[0m\u001b[0mbroadcast\u001b[0m\u001b[0;34m(\u001b[0m\u001b[0;34m*\u001b[0m\u001b[0margs\u001b[0m\u001b[0;34m[\u001b[0m\u001b[0;34m:\u001b[0m\u001b[0;36m32\u001b[0m\u001b[0;34m]\u001b[0m\u001b[0;34m)\u001b[0m\u001b[0;34m\u001b[0m\u001b[0;34m\u001b[0m\u001b[0m\n\u001b[0m\u001b[1;32m    423\u001b[0m     \u001b[0;31m# unfortunately, it cannot handle 32 or more arguments directly\u001b[0m\u001b[0;34m\u001b[0m\u001b[0;34m\u001b[0m\u001b[0;34m\u001b[0m\u001b[0m\n\u001b[1;32m    424\u001b[0m     \u001b[0;32mfor\u001b[0m \u001b[0mpos\u001b[0m \u001b[0;32min\u001b[0m \u001b[0mrange\u001b[0m\u001b[0;34m(\u001b[0m\u001b[0;36m32\u001b[0m\u001b[0;34m,\u001b[0m \u001b[0mlen\u001b[0m\u001b[0;34m(\u001b[0m\u001b[0margs\u001b[0m\u001b[0;34m)\u001b[0m\u001b[0;34m,\u001b[0m \u001b[0;36m31\u001b[0m\u001b[0;34m)\u001b[0m\u001b[0;34m:\u001b[0m\u001b[0;34m\u001b[0m\u001b[0;34m\u001b[0m\u001b[0m\n",
      "\u001b[0;31mValueError\u001b[0m: shape mismatch: objects cannot be broadcast to a single shape.  Mismatch is between arg 0 with shape (8,) and arg 1 with shape (5,)."
     ]
    },
    {
     "data": {
      "image/png": "[encoded data removed]",
      "text/plain": [
       "<Figure size 720x432 with 1 Axes>"
      ]
     },
     "metadata": {
      "needs_background": "light"
     },
     "output_type": "display_data"
    }
   ],
   "source": [
    "import matplotlib.pyplot as plt\n",
    "\n",
    "# Create list of MSEs and model names\n",
    "comps = comp.RMSE[:]\n",
    "models = [\"Ridge\",\"Linear Regression\", \"KNN\",\"Random Forest\", \"Decision Tree\", \"Gradient Descent\", \"Neural Network\",\"svm\"]\n",
    "\n",
    "\n",
    "\n",
    "# Plot bar chart of MSEs\n",
    "fig, ax1 = plt.subplots(figsize=(10, 6))\n",
    "# Set colors for each bar\n",
    "colors = ['blue', 'orange', 'green', 'red', 'purple','green', 'red', 'purple']\n",
    "\n",
    "ax1.bar(models, comps, color=colors)\n",
    "ax1.set_xlabel(\"Model\")\n",
    "ax1.set_ylabel(\"MSE\")\n",
    "\n",
    "# Create secondary axis for MSE values\n",
    "ax2 = ax1.twinx()\n",
    "ax2.set_ylabel(\"MSE Values\")\n",
    "ax2.plot(models, comps, 'o-', color='black', linewidth=2, markersize=12)\n",
    "\n",
    "plt.title(\"MSE Comparison of Regression Models\")\n",
    "plt.show()\n"
   ]
  },
  {
   "cell_type": "code",
   "execution_count": 44,
   "metadata": {},
   "outputs": [],
   "source": [
    "# Split the data into training and testing sets\n",
    "X = data.drop([ \"Program\",\"Genre_Capsule\",\"Genre_Culturel\" ,\"Genre_Info\",\"Genre_Music\",\"Genre_Politique\",\"Genre_Religieux\",\"Genre_Sport\",\"Genre_documentaires\",\"Genre_Series\", \"Broadcasting date\", \"Start time\"], axis=1)\n",
    "y = data[\"Number of viewers\"]\n",
    "X_train, X_test, y_train, y_test = train_test_split(X, y, test_size=0.2, random_state=42)"
   ]
  },
  {
   "cell_type": "code",
   "execution_count": 45,
   "metadata": {},
   "outputs": [
    {
     "name": "stdout",
     "output_type": "stream",
     "text": [
      "+ ==================================================================================================== +\n",
      "\u001b[1m\t\t\t1-For Ridge The Performance result is: \u001b[0m\n",
      "+ ==================================================================================================== +\n",
      "Root mean squared error (RMSE) :  2.6974315182376003e-09\n",
      "--------------------------------------------------\n",
      "Mean absolute error (MAE) :  2.1626722341193182e-09\n",
      "--------------------------------------------------\n",
      "--------------------------------------------------\n",
      "R2 score :  1.0\n",
      "--------------------------------------------------\n",
      "--------------------------------------------------\n",
      "\t\t\t\t\t\t\t-----------------------------------------------------------\n",
      "\t\t\t\t\t\t\t Time for detection (Ridge) : 0.011 seconds...\n",
      "\t\t\t\t\t\t\t-----------------------------------------------------------\n",
      "\n",
      "+ ==================================================================================================== +\n",
      "\u001b[1m\t\t\t2-For LinearRegression The Performance result is: \u001b[0m\n",
      "+ ==================================================================================================== +\n",
      "Root mean squared error (RMSE) :  2.3743063031064543e-12\n",
      "--------------------------------------------------\n",
      "Mean absolute error (MAE) :  2.051450233206204e-12\n",
      "--------------------------------------------------\n",
      "--------------------------------------------------\n",
      "R2 score :  1.0\n",
      "--------------------------------------------------\n",
      "--------------------------------------------------\n",
      "\t\t\t\t\t\t\t-----------------------------------------------------------\n",
      "\t\t\t\t\t\t\t Time for detection (LinearRegression) : 0.017 seconds...\n",
      "\t\t\t\t\t\t\t-----------------------------------------------------------\n",
      "\n",
      "+ ==================================================================================================== +\n",
      "\u001b[1m\t\t\t3-For KNeighborsRegressor The Performance result is: \u001b[0m\n",
      "+ ==================================================================================================== +\n",
      "Root mean squared error (RMSE) :  12.4315323314928\n",
      "--------------------------------------------------\n",
      "Mean absolute error (MAE) :  7.585408560311293\n",
      "--------------------------------------------------\n",
      "--------------------------------------------------\n",
      "R2 score :  0.9999981633850243\n",
      "--------------------------------------------------\n",
      "--------------------------------------------------\n",
      "\t\t\t\t\t\t\t-----------------------------------------------------------\n",
      "\t\t\t\t\t\t\t Time for detection (KNeighborsRegressor) : 0.041 seconds...\n",
      "\t\t\t\t\t\t\t-----------------------------------------------------------\n",
      "\n",
      "+ ==================================================================================================== +\n",
      "\u001b[1m\t\t\t4-For Random Forest The Performance result is: \u001b[0m\n",
      "+ ==================================================================================================== +\n",
      "Root mean squared error (RMSE) :  1104.22634254849\n",
      "--------------------------------------------------\n",
      "Mean absolute error (MAE) :  40.47420233463038\n",
      "--------------------------------------------------\n",
      "--------------------------------------------------\n",
      "R2 score :  0.9855094456345691\n",
      "--------------------------------------------------\n",
      "--------------------------------------------------\n",
      "\t\t\t\t\t\t\t-----------------------------------------------------------\n",
      "\t\t\t\t\t\t\t Time for detection (Random Forest) : 1.141 seconds...\n",
      "\t\t\t\t\t\t\t-----------------------------------------------------------\n",
      "\n",
      "+ ==================================================================================================== +\n",
      "\u001b[1m\t\t\t5-For Decision Tree The Performance result is: \u001b[0m\n",
      "+ ==================================================================================================== +\n",
      "Root mean squared error (RMSE) :  26.745012990169926\n",
      "--------------------------------------------------\n",
      "Mean absolute error (MAE) :  10.854085603112841\n",
      "--------------------------------------------------\n",
      "--------------------------------------------------\n",
      "R2 score :  0.9999914993052798\n",
      "--------------------------------------------------\n",
      "--------------------------------------------------\n",
      "\t\t\t\t\t\t\t-----------------------------------------------------------\n",
      "\t\t\t\t\t\t\t Time for detection (Decision Tree) : 0.026 seconds...\n",
      "\t\t\t\t\t\t\t-----------------------------------------------------------\n",
      "\n",
      "+ ==================================================================================================== +\n",
      "\u001b[1m\t\t\t6-For Stochastic Gradient Descent The Performance result is: \u001b[0m\n",
      "+ ==================================================================================================== +\n",
      "Root mean squared error (RMSE) :  3.396922650724875e+17\n",
      "--------------------------------------------------\n",
      "Mean absolute error (MAE) :  2.7613498241169587e+17\n",
      "--------------------------------------------------\n",
      "--------------------------------------------------\n",
      "R2 score :  -1.371324103037168e+27\n",
      "--------------------------------------------------\n",
      "--------------------------------------------------\n",
      "\t\t\t\t\t\t\t-----------------------------------------------------------\n",
      "\t\t\t\t\t\t\t Time for detection (Stochastic Gradient Descent) : 0.014 seconds...\n",
      "\t\t\t\t\t\t\t-----------------------------------------------------------\n",
      "\n",
      "+ ==================================================================================================== +\n",
      "\u001b[1m\t\t\t7-For Neural Network The Performance result is: \u001b[0m\n",
      "+ ==================================================================================================== +\n",
      "Root mean squared error (RMSE) :  12.939756284190185\n",
      "--------------------------------------------------\n",
      "Mean absolute error (MAE) :  10.005917065835966\n",
      "--------------------------------------------------\n",
      "--------------------------------------------------\n",
      "R2 score :  0.9999980101470336\n",
      "--------------------------------------------------\n",
      "--------------------------------------------------\n",
      "\t\t\t\t\t\t\t-----------------------------------------------------------\n",
      "\t\t\t\t\t\t\t Time for detection (Neural Network) : 0.549 seconds...\n",
      "\t\t\t\t\t\t\t-----------------------------------------------------------\n",
      "\n",
      "+ ==================================================================================================== +\n",
      "\u001b[1m\t\t\t8-For SVM The Performance result is: \u001b[0m\n",
      "+ ==================================================================================================== +\n",
      "Root mean squared error (RMSE) :  9305.20892180201\n",
      "--------------------------------------------------\n",
      "Mean absolute error (MAE) :  5330.419863780423\n",
      "--------------------------------------------------\n",
      "--------------------------------------------------\n",
      "R2 score :  -0.029013447760761535\n",
      "--------------------------------------------------\n",
      "--------------------------------------------------\n",
      "\t\t\t\t\t\t\t-----------------------------------------------------------\n",
      "\t\t\t\t\t\t\t Time for detection (SVM) : 2.713 seconds...\n",
      "\t\t\t\t\t\t\t-----------------------------------------------------------\n",
      "\n"
     ]
    },
    {
     "data": {
      "text/html": [
       "<div>\n",
       "<style scoped>\n",
       "    .dataframe tbody tr th:only-of-type {\n",
       "        vertical-align: middle;\n",
       "    }\n",
       "\n",
       "    .dataframe tbody tr th {\n",
       "        vertical-align: top;\n",
       "    }\n",
       "\n",
       "    .dataframe thead th {\n",
       "        text-align: right;\n",
       "    }\n",
       "</style>\n",
       "<table border=\"1\" class=\"dataframe\">\n",
       "  <thead>\n",
       "    <tr style=\"text-align: right;\">\n",
       "      <th></th>\n",
       "      <th>Training Score</th>\n",
       "      <th>Testing Score</th>\n",
       "      <th>MAE</th>\n",
       "      <th>RMSE</th>\n",
       "      <th>R2 Score</th>\n",
       "    </tr>\n",
       "  </thead>\n",
       "  <tbody>\n",
       "    <tr>\n",
       "      <th>0</th>\n",
       "      <td>1.000000e+00</td>\n",
       "      <td>1.000000e+00</td>\n",
       "      <td>2.162672e-09</td>\n",
       "      <td>2.697432e-09</td>\n",
       "      <td>1.000000e+00</td>\n",
       "    </tr>\n",
       "    <tr>\n",
       "      <th>1</th>\n",
       "      <td>1.000000e+00</td>\n",
       "      <td>1.000000e+00</td>\n",
       "      <td>2.051450e-12</td>\n",
       "      <td>2.374306e-12</td>\n",
       "      <td>1.000000e+00</td>\n",
       "    </tr>\n",
       "    <tr>\n",
       "      <th>2</th>\n",
       "      <td>9.665811e-01</td>\n",
       "      <td>9.999982e-01</td>\n",
       "      <td>7.585409e+00</td>\n",
       "      <td>1.243153e+01</td>\n",
       "      <td>9.999982e-01</td>\n",
       "    </tr>\n",
       "    <tr>\n",
       "      <th>3</th>\n",
       "      <td>9.945262e-01</td>\n",
       "      <td>9.855094e-01</td>\n",
       "      <td>4.047420e+01</td>\n",
       "      <td>1.104226e+03</td>\n",
       "      <td>9.855094e-01</td>\n",
       "    </tr>\n",
       "    <tr>\n",
       "      <th>4</th>\n",
       "      <td>1.000000e+00</td>\n",
       "      <td>9.999915e-01</td>\n",
       "      <td>1.085409e+01</td>\n",
       "      <td>2.674501e+01</td>\n",
       "      <td>9.999915e-01</td>\n",
       "    </tr>\n",
       "    <tr>\n",
       "      <th>5</th>\n",
       "      <td>-5.806793e+26</td>\n",
       "      <td>-1.371324e+27</td>\n",
       "      <td>2.761350e+17</td>\n",
       "      <td>3.396923e+17</td>\n",
       "      <td>-1.371324e+27</td>\n",
       "    </tr>\n",
       "    <tr>\n",
       "      <th>6</th>\n",
       "      <td>9.999997e-01</td>\n",
       "      <td>9.999980e-01</td>\n",
       "      <td>1.000592e+01</td>\n",
       "      <td>1.293976e+01</td>\n",
       "      <td>9.999980e-01</td>\n",
       "    </tr>\n",
       "    <tr>\n",
       "      <th>7</th>\n",
       "      <td>-8.654474e-03</td>\n",
       "      <td>-2.901345e-02</td>\n",
       "      <td>5.330420e+03</td>\n",
       "      <td>9.305209e+03</td>\n",
       "      <td>-2.901345e-02</td>\n",
       "    </tr>\n",
       "  </tbody>\n",
       "</table>\n",
       "</div>"
      ],
      "text/plain": [
       "   Training Score  Testing Score           MAE          RMSE      R2 Score\n",
       "0    1.000000e+00   1.000000e+00  2.162672e-09  2.697432e-09  1.000000e+00\n",
       "1    1.000000e+00   1.000000e+00  2.051450e-12  2.374306e-12  1.000000e+00\n",
       "2    9.665811e-01   9.999982e-01  7.585409e+00  1.243153e+01  9.999982e-01\n",
       "3    9.945262e-01   9.855094e-01  4.047420e+01  1.104226e+03  9.855094e-01\n",
       "4    1.000000e+00   9.999915e-01  1.085409e+01  2.674501e+01  9.999915e-01\n",
       "5   -5.806793e+26  -1.371324e+27  2.761350e+17  3.396923e+17 -1.371324e+27\n",
       "6    9.999997e-01   9.999980e-01  1.000592e+01  1.293976e+01  9.999980e-01\n",
       "7   -8.654474e-03  -2.901345e-02  5.330420e+03  9.305209e+03 -2.901345e-02"
      ]
     },
     "execution_count": 45,
     "metadata": {},
     "output_type": "execute_result"
    }
   ],
   "source": [
    "# Importing Models\n",
    "from sklearn.linear_model import LinearRegression\n",
    "from sklearn.linear_model import Ridge\n",
    "from sklearn.neighbors import KNeighborsRegressor\n",
    "from sklearn.ensemble import RandomForestRegressor\n",
    "from sklearn.tree import DecisionTreeRegressor\n",
    "\n",
    "# Importing evaluation modules\n",
    "from sklearn.metrics import r2_score, mean_absolute_error, mean_squared_error\n",
    "\n",
    "# check the performance on diffrent regressor\n",
    "models = []\n",
    "models.append(('Ridge', Ridge()))\n",
    "models.append(('LinearRegression', LinearRegression()))\n",
    "models.append(('KNeighborsRegressor', KNeighborsRegressor()))\n",
    "models.append(('Random Forest', RandomForestRegressor()))\n",
    "models.append(('Decision Tree', DecisionTreeRegressor()))\n",
    "models.append(('Stochastic Gradient Descent', SGDRegressor()))\n",
    "models.append(('Neural Network', MLPRegressor()))\n",
    "models.append(('SVM', SVR()))\n",
    "\n",
    "train_l = []\n",
    "test_l = []\n",
    "mae_l = []\n",
    "rmse_l = []\n",
    "r2_l = []\n",
    "\n",
    "import time\n",
    "i = 0\n",
    "for name,model in models:\n",
    "    i = i+1\n",
    "    start_time = time.time()\n",
    "    \n",
    "    # Fitting model to the Training set\n",
    "    clf = model\n",
    "    clf.fit(X_train, y_train)\n",
    "    \n",
    "    # Scores of model\n",
    "    train = model.score(X_train, y_train)\n",
    "    test = model.score(X_test, y_test)\n",
    "    \n",
    "    train_l.append(train)\n",
    "    test_l.append(test)\n",
    "    \n",
    "    # predict values\n",
    "    predictions = clf.predict(X_test)\n",
    "    # RMSE\n",
    "    rmse = np.sqrt(mean_squared_error(y_test, predictions))\n",
    "    rmse_l.append(rmse)\n",
    "    # MAE\n",
    "    mae = mean_absolute_error(y_test,predictions)\n",
    "    mae_l.append(mae)\n",
    "    # R2 score\n",
    "    r2 = r2_score(y_test,predictions)\n",
    "    r2_l.append(r2)\n",
    "\n",
    "\n",
    "\n",
    "    print(\"+\",\"=\"*100,\"+\")\n",
    "    print('\\033[1m' + f\"\\t\\t\\t{i}-For {name} The Performance result is: \" + '\\033[0m')\n",
    "    print(\"+\",\"=\"*100,\"+\")\n",
    "    print('Root mean squared error (RMSE) : ', rmse)   \n",
    "    print(\"-\"*50)\n",
    "    print('Mean absolute error (MAE) : ', mae)\n",
    "    print(\"-\"*50)\n",
    "    #print('Max errors : ', m_errors)\n",
    "    print(\"-\"*50)\n",
    "    print('R2 score : ', r2)\n",
    "    print(\"-\"*50)\n",
    "   # print('cross validation accuracy : ', np.mean(scores))\n",
    "    print(\"-\"*50)\n",
    "\n",
    "\n",
    "    \n",
    "    print(\"\\t\\t\\t\\t\\t\\t\\t-----------------------------------------------------------\")\n",
    "    print(f\"\\t\\t\\t\\t\\t\\t\\t Time for detection ({name}) : {round((time.time() - start_time), 3)} seconds...\")\n",
    "    print(\"\\t\\t\\t\\t\\t\\t\\t-----------------------------------------------------------\")\n",
    "    print()\n",
    "    \n",
    "comp = pd.DataFrame({\"Training Score\": train_l, \"Testing Score\": test_l, \"MAE\": mae_l, \"RMSE\": rmse_l, \"R2 Score\": r2_l})\n",
    "comp"
   ]
  },
  {
   "cell_type": "code",
   "execution_count": null,
   "metadata": {},
   "outputs": [],
   "source": []
  },
  {
   "cell_type": "code",
   "execution_count": 46,
   "metadata": {},
   "outputs": [
    {
     "name": "stdout",
     "output_type": "stream",
     "text": [
      "MSE :  4.2774083794341e-23\n",
      "R2 Score :  1.0\n"
     ]
    }
   ],
   "source": [
    "linear_model = LinearRegression()\n",
    "linear_model.fit(X_train,y_train)\n",
    "X_train_Prediction = linear_model.predict(X_train)\n",
    "print(\"MSE : \",mean_squared_error(y_train,X_train_Prediction))\n",
    "print(\"R2 Score : \",r2_score(y_train,X_train_Prediction))"
   ]
  },
  {
   "cell_type": "code",
   "execution_count": 47,
   "metadata": {},
   "outputs": [
    {
     "name": "stdout",
     "output_type": "stream",
     "text": [
      "Linear Regression MSE: 5.637330420971038e-24\n"
     ]
    }
   ],
   "source": [
    "lr = LinearRegression()\n",
    "lr.fit(X_train, y_train)\n",
    "y_pred = lr.predict(X_test)\n",
    "mse = mean_squared_error(y_test, y_pred)\n",
    "print(\"Linear Regression MSE:\", mse)"
   ]
  },
  {
   "cell_type": "code",
   "execution_count": 401,
   "metadata": {},
   "outputs": [
    {
     "name": "stdout",
     "output_type": "stream",
     "text": [
      "-9.139554968438496e-23\n"
     ]
    }
   ],
   "source": [
    "cross_linear = cross_val_score(linear_model,X_train,y_train,scoring=\"neg_mean_squared_error\",cv=5)\n",
    "mean_cross_linear = np.mean(cross_linear)\n",
    "print(mean_cross_linear)"
   ]
  },
  {
   "cell_type": "code",
   "execution_count": 402,
   "metadata": {},
   "outputs": [
    {
     "name": "stdout",
     "output_type": "stream",
     "text": [
      "R2 score: 1.0\n",
      "Adjusted R2 score: 1.0\n"
     ]
    }
   ],
   "source": [
    "# Calculate R2 score\n",
    "r2 = r2_score(y_test, y_pred)\n",
    "print(\"R2 score:\", r2)\n",
    "\n",
    "# Calculate number of observations and features\n",
    "n_obs = len(X_test)\n",
    "n_features = X_test.shape[1]\n",
    "\n",
    "# Calculate adjusted R2\n",
    "adj_r2 = 1 - ((1 - r2) * (n_obs - 1)) / (n_obs - n_features - 1)\n",
    "print(\"Adjusted R2 score:\", adj_r2)"
   ]
  },
  {
   "cell_type": "code",
   "execution_count": 403,
   "metadata": {},
   "outputs": [
    {
     "name": "stdout",
     "output_type": "stream",
     "text": [
      "Coefficient values: [ 1.00000000e+00 -8.99621150e-15  1.33003891e-13 -3.32999230e-15\n",
      " -6.85596953e-15 -2.97101927e-15 -2.14484985e-15 -1.04811979e-14]\n",
      "Intercept value: -2.7284841053187847e-10\n"
     ]
    }
   ],
   "source": [
    "print(\"Coefficient values:\", lr.coef_)\n",
    "print(\"Intercept value:\", lr.intercept_)"
   ]
  },
  {
   "cell_type": "code",
   "execution_count": 48,
   "metadata": {},
   "outputs": [
    {
     "data": {
      "text/html": [
       "<div>\n",
       "<style scoped>\n",
       "    .dataframe tbody tr th:only-of-type {\n",
       "        vertical-align: middle;\n",
       "    }\n",
       "\n",
       "    .dataframe tbody tr th {\n",
       "        vertical-align: top;\n",
       "    }\n",
       "\n",
       "    .dataframe thead th {\n",
       "        text-align: right;\n",
       "    }\n",
       "</style>\n",
       "<table border=\"1\" class=\"dataframe\">\n",
       "  <thead>\n",
       "    <tr style=\"text-align: right;\">\n",
       "      <th></th>\n",
       "      <th>Program</th>\n",
       "      <th>Number of viewers</th>\n",
       "      <th>Audience share (%)</th>\n",
       "      <th>Start time</th>\n",
       "      <th>Broadcasting date</th>\n",
       "      <th>Genre_Capsule</th>\n",
       "      <th>Genre_Culturel</th>\n",
       "      <th>Genre_Info</th>\n",
       "      <th>Genre_Music</th>\n",
       "      <th>Genre_Politique</th>\n",
       "      <th>Genre_Religieux</th>\n",
       "      <th>Genre_Series</th>\n",
       "      <th>Genre_Sport</th>\n",
       "      <th>Genre_documentaires</th>\n",
       "      <th>Broadcasting year</th>\n",
       "      <th>Broadcasting month</th>\n",
       "      <th>Broadcasting day</th>\n",
       "      <th>Start hour</th>\n",
       "      <th>Start minute</th>\n",
       "      <th>Start second</th>\n",
       "    </tr>\n",
       "  </thead>\n",
       "  <tbody>\n",
       "    <tr>\n",
       "      <th>0</th>\n",
       "      <td>Hiraf</td>\n",
       "      <td>163000</td>\n",
       "      <td>22.0</td>\n",
       "      <td>1900-01-01 21:15:00</td>\n",
       "      <td>2023-03-21</td>\n",
       "      <td>1</td>\n",
       "      <td>0</td>\n",
       "      <td>0</td>\n",
       "      <td>0</td>\n",
       "      <td>0</td>\n",
       "      <td>0</td>\n",
       "      <td>0</td>\n",
       "      <td>0</td>\n",
       "      <td>0</td>\n",
       "      <td>2023</td>\n",
       "      <td>3</td>\n",
       "      <td>21</td>\n",
       "      <td>21</td>\n",
       "      <td>15</td>\n",
       "      <td>0</td>\n",
       "    </tr>\n",
       "    <tr>\n",
       "      <th>1</th>\n",
       "      <td>Midadou chouaara</td>\n",
       "      <td>868000</td>\n",
       "      <td>13.8</td>\n",
       "      <td>1900-01-01 06:17:00</td>\n",
       "      <td>2023-03-20</td>\n",
       "      <td>0</td>\n",
       "      <td>1</td>\n",
       "      <td>0</td>\n",
       "      <td>0</td>\n",
       "      <td>0</td>\n",
       "      <td>0</td>\n",
       "      <td>0</td>\n",
       "      <td>0</td>\n",
       "      <td>0</td>\n",
       "      <td>2023</td>\n",
       "      <td>3</td>\n",
       "      <td>20</td>\n",
       "      <td>6</td>\n",
       "      <td>17</td>\n",
       "      <td>0</td>\n",
       "    </tr>\n",
       "    <tr>\n",
       "      <th>2</th>\n",
       "      <td>Fada Ryadi</td>\n",
       "      <td>681000</td>\n",
       "      <td>9.7</td>\n",
       "      <td>1900-01-01 07:10:00</td>\n",
       "      <td>2023-03-19</td>\n",
       "      <td>0</td>\n",
       "      <td>0</td>\n",
       "      <td>0</td>\n",
       "      <td>0</td>\n",
       "      <td>0</td>\n",
       "      <td>0</td>\n",
       "      <td>0</td>\n",
       "      <td>1</td>\n",
       "      <td>0</td>\n",
       "      <td>2023</td>\n",
       "      <td>3</td>\n",
       "      <td>19</td>\n",
       "      <td>7</td>\n",
       "      <td>10</td>\n",
       "      <td>0</td>\n",
       "    </tr>\n",
       "    <tr>\n",
       "      <th>3</th>\n",
       "      <td>Journal Télévisé</td>\n",
       "      <td>615000</td>\n",
       "      <td>44.9</td>\n",
       "      <td>1900-01-01 22:30:00</td>\n",
       "      <td>2023-03-18</td>\n",
       "      <td>0</td>\n",
       "      <td>0</td>\n",
       "      <td>1</td>\n",
       "      <td>0</td>\n",
       "      <td>0</td>\n",
       "      <td>0</td>\n",
       "      <td>0</td>\n",
       "      <td>0</td>\n",
       "      <td>0</td>\n",
       "      <td>2023</td>\n",
       "      <td>3</td>\n",
       "      <td>18</td>\n",
       "      <td>22</td>\n",
       "      <td>30</td>\n",
       "      <td>0</td>\n",
       "    </tr>\n",
       "    <tr>\n",
       "      <th>4</th>\n",
       "      <td>Agenda</td>\n",
       "      <td>868000</td>\n",
       "      <td>36.8</td>\n",
       "      <td>1900-01-01 19:39:00</td>\n",
       "      <td>2023-03-17</td>\n",
       "      <td>0</td>\n",
       "      <td>0</td>\n",
       "      <td>1</td>\n",
       "      <td>0</td>\n",
       "      <td>0</td>\n",
       "      <td>0</td>\n",
       "      <td>0</td>\n",
       "      <td>0</td>\n",
       "      <td>0</td>\n",
       "      <td>2023</td>\n",
       "      <td>3</td>\n",
       "      <td>17</td>\n",
       "      <td>19</td>\n",
       "      <td>39</td>\n",
       "      <td>0</td>\n",
       "    </tr>\n",
       "  </tbody>\n",
       "</table>\n",
       "</div>"
      ],
      "text/plain": [
       "            Program  Number of viewers  Audience share (%)  \\\n",
       "0             Hiraf             163000                22.0   \n",
       "1  Midadou chouaara             868000                13.8   \n",
       "2        Fada Ryadi             681000                 9.7   \n",
       "3  Journal Télévisé             615000                44.9   \n",
       "4            Agenda             868000                36.8   \n",
       "\n",
       "           Start time Broadcasting date  Genre_Capsule  Genre_Culturel  \\\n",
       "0 1900-01-01 21:15:00        2023-03-21              1               0   \n",
       "1 1900-01-01 06:17:00        2023-03-20              0               1   \n",
       "2 1900-01-01 07:10:00        2023-03-19              0               0   \n",
       "3 1900-01-01 22:30:00        2023-03-18              0               0   \n",
       "4 1900-01-01 19:39:00        2023-03-17              0               0   \n",
       "\n",
       "   Genre_Info  Genre_Music  Genre_Politique  Genre_Religieux  Genre_Series  \\\n",
       "0           0            0                0                0             0   \n",
       "1           0            0                0                0             0   \n",
       "2           0            0                0                0             0   \n",
       "3           1            0                0                0             0   \n",
       "4           1            0                0                0             0   \n",
       "\n",
       "   Genre_Sport  Genre_documentaires  Broadcasting year  Broadcasting month  \\\n",
       "0            0                    0               2023                   3   \n",
       "1            0                    0               2023                   3   \n",
       "2            1                    0               2023                   3   \n",
       "3            0                    0               2023                   3   \n",
       "4            0                    0               2023                   3   \n",
       "\n",
       "   Broadcasting day  Start hour  Start minute  Start second  \n",
       "0                21          21            15             0  \n",
       "1                20           6            17             0  \n",
       "2                19           7            10             0  \n",
       "3                18          22            30             0  \n",
       "4                17          19            39             0  "
      ]
     },
     "execution_count": 48,
     "metadata": {},
     "output_type": "execute_result"
    }
   ],
   "source": [
    "data.head()"
   ]
  },
  {
   "cell_type": "code",
   "execution_count": 49,
   "metadata": {},
   "outputs": [
    {
     "data": {
      "text/html": [
       "<div>\n",
       "<style scoped>\n",
       "    .dataframe tbody tr th:only-of-type {\n",
       "        vertical-align: middle;\n",
       "    }\n",
       "\n",
       "    .dataframe tbody tr th {\n",
       "        vertical-align: top;\n",
       "    }\n",
       "\n",
       "    .dataframe thead th {\n",
       "        text-align: right;\n",
       "    }\n",
       "</style>\n",
       "<table border=\"1\" class=\"dataframe\">\n",
       "  <thead>\n",
       "    <tr style=\"text-align: right;\">\n",
       "      <th></th>\n",
       "      <th>Program</th>\n",
       "      <th>Number of viewers</th>\n",
       "      <th>Audience share (%)</th>\n",
       "      <th>Start time</th>\n",
       "      <th>Broadcasting date</th>\n",
       "      <th>Genre_Capsule</th>\n",
       "      <th>Genre_Culturel</th>\n",
       "      <th>Genre_Info</th>\n",
       "      <th>Genre_Music</th>\n",
       "      <th>Genre_Politique</th>\n",
       "      <th>Genre_Religieux</th>\n",
       "      <th>Genre_Series</th>\n",
       "      <th>Genre_Sport</th>\n",
       "      <th>Genre_documentaires</th>\n",
       "      <th>Broadcasting year</th>\n",
       "      <th>Broadcasting month</th>\n",
       "      <th>Broadcasting day</th>\n",
       "      <th>Start hour</th>\n",
       "      <th>Start minute</th>\n",
       "      <th>Start second</th>\n",
       "    </tr>\n",
       "  </thead>\n",
       "  <tbody>\n",
       "    <tr>\n",
       "      <th>0</th>\n",
       "      <td>Hiraf</td>\n",
       "      <td>163000</td>\n",
       "      <td>22.0</td>\n",
       "      <td>1900-01-01 21:15:00</td>\n",
       "      <td>2023-03-21</td>\n",
       "      <td>1</td>\n",
       "      <td>0</td>\n",
       "      <td>0</td>\n",
       "      <td>0</td>\n",
       "      <td>0</td>\n",
       "      <td>0</td>\n",
       "      <td>0</td>\n",
       "      <td>0</td>\n",
       "      <td>0</td>\n",
       "      <td>2023</td>\n",
       "      <td>3</td>\n",
       "      <td>21</td>\n",
       "      <td>21</td>\n",
       "      <td>15</td>\n",
       "      <td>0</td>\n",
       "    </tr>\n",
       "    <tr>\n",
       "      <th>1</th>\n",
       "      <td>Midadou chouaara</td>\n",
       "      <td>868000</td>\n",
       "      <td>13.8</td>\n",
       "      <td>1900-01-01 06:17:00</td>\n",
       "      <td>2023-03-20</td>\n",
       "      <td>0</td>\n",
       "      <td>1</td>\n",
       "      <td>0</td>\n",
       "      <td>0</td>\n",
       "      <td>0</td>\n",
       "      <td>0</td>\n",
       "      <td>0</td>\n",
       "      <td>0</td>\n",
       "      <td>0</td>\n",
       "      <td>2023</td>\n",
       "      <td>3</td>\n",
       "      <td>20</td>\n",
       "      <td>6</td>\n",
       "      <td>17</td>\n",
       "      <td>0</td>\n",
       "    </tr>\n",
       "    <tr>\n",
       "      <th>2</th>\n",
       "      <td>Fada Ryadi</td>\n",
       "      <td>681000</td>\n",
       "      <td>9.7</td>\n",
       "      <td>1900-01-01 07:10:00</td>\n",
       "      <td>2023-03-19</td>\n",
       "      <td>0</td>\n",
       "      <td>0</td>\n",
       "      <td>0</td>\n",
       "      <td>0</td>\n",
       "      <td>0</td>\n",
       "      <td>0</td>\n",
       "      <td>0</td>\n",
       "      <td>1</td>\n",
       "      <td>0</td>\n",
       "      <td>2023</td>\n",
       "      <td>3</td>\n",
       "      <td>19</td>\n",
       "      <td>7</td>\n",
       "      <td>10</td>\n",
       "      <td>0</td>\n",
       "    </tr>\n",
       "    <tr>\n",
       "      <th>3</th>\n",
       "      <td>Journal Télévisé</td>\n",
       "      <td>615000</td>\n",
       "      <td>44.9</td>\n",
       "      <td>1900-01-01 22:30:00</td>\n",
       "      <td>2023-03-18</td>\n",
       "      <td>0</td>\n",
       "      <td>0</td>\n",
       "      <td>1</td>\n",
       "      <td>0</td>\n",
       "      <td>0</td>\n",
       "      <td>0</td>\n",
       "      <td>0</td>\n",
       "      <td>0</td>\n",
       "      <td>0</td>\n",
       "      <td>2023</td>\n",
       "      <td>3</td>\n",
       "      <td>18</td>\n",
       "      <td>22</td>\n",
       "      <td>30</td>\n",
       "      <td>0</td>\n",
       "    </tr>\n",
       "    <tr>\n",
       "      <th>4</th>\n",
       "      <td>Agenda</td>\n",
       "      <td>868000</td>\n",
       "      <td>36.8</td>\n",
       "      <td>1900-01-01 19:39:00</td>\n",
       "      <td>2023-03-17</td>\n",
       "      <td>0</td>\n",
       "      <td>0</td>\n",
       "      <td>1</td>\n",
       "      <td>0</td>\n",
       "      <td>0</td>\n",
       "      <td>0</td>\n",
       "      <td>0</td>\n",
       "      <td>0</td>\n",
       "      <td>0</td>\n",
       "      <td>2023</td>\n",
       "      <td>3</td>\n",
       "      <td>17</td>\n",
       "      <td>19</td>\n",
       "      <td>39</td>\n",
       "      <td>0</td>\n",
       "    </tr>\n",
       "    <tr>\n",
       "      <th>...</th>\n",
       "      <td>...</td>\n",
       "      <td>...</td>\n",
       "      <td>...</td>\n",
       "      <td>...</td>\n",
       "      <td>...</td>\n",
       "      <td>...</td>\n",
       "      <td>...</td>\n",
       "      <td>...</td>\n",
       "      <td>...</td>\n",
       "      <td>...</td>\n",
       "      <td>...</td>\n",
       "      <td>...</td>\n",
       "      <td>...</td>\n",
       "      <td>...</td>\n",
       "      <td>...</td>\n",
       "      <td>...</td>\n",
       "      <td>...</td>\n",
       "      <td>...</td>\n",
       "      <td>...</td>\n",
       "      <td>...</td>\n",
       "    </tr>\n",
       "    <tr>\n",
       "      <th>5135</th>\n",
       "      <td>Amnir</td>\n",
       "      <td>10344</td>\n",
       "      <td>48.0</td>\n",
       "      <td>1900-01-01 15:31:17</td>\n",
       "      <td>2021-12-03</td>\n",
       "      <td>0</td>\n",
       "      <td>0</td>\n",
       "      <td>0</td>\n",
       "      <td>0</td>\n",
       "      <td>0</td>\n",
       "      <td>0</td>\n",
       "      <td>0</td>\n",
       "      <td>0</td>\n",
       "      <td>1</td>\n",
       "      <td>2021</td>\n",
       "      <td>12</td>\n",
       "      <td>3</td>\n",
       "      <td>15</td>\n",
       "      <td>31</td>\n",
       "      <td>17</td>\n",
       "    </tr>\n",
       "    <tr>\n",
       "      <th>5136</th>\n",
       "      <td>Kadaya ramadaniya</td>\n",
       "      <td>9994</td>\n",
       "      <td>47.0</td>\n",
       "      <td>1900-01-01 15:09:28</td>\n",
       "      <td>2021-05-30</td>\n",
       "      <td>0</td>\n",
       "      <td>0</td>\n",
       "      <td>0</td>\n",
       "      <td>0</td>\n",
       "      <td>0</td>\n",
       "      <td>1</td>\n",
       "      <td>0</td>\n",
       "      <td>0</td>\n",
       "      <td>0</td>\n",
       "      <td>2021</td>\n",
       "      <td>5</td>\n",
       "      <td>30</td>\n",
       "      <td>15</td>\n",
       "      <td>9</td>\n",
       "      <td>28</td>\n",
       "    </tr>\n",
       "    <tr>\n",
       "      <th>5137</th>\n",
       "      <td>Hiraf</td>\n",
       "      <td>9299</td>\n",
       "      <td>30.0</td>\n",
       "      <td>1900-01-01 13:45:15</td>\n",
       "      <td>2021-07-30</td>\n",
       "      <td>1</td>\n",
       "      <td>0</td>\n",
       "      <td>0</td>\n",
       "      <td>0</td>\n",
       "      <td>0</td>\n",
       "      <td>0</td>\n",
       "      <td>0</td>\n",
       "      <td>0</td>\n",
       "      <td>0</td>\n",
       "      <td>2021</td>\n",
       "      <td>7</td>\n",
       "      <td>30</td>\n",
       "      <td>13</td>\n",
       "      <td>45</td>\n",
       "      <td>15</td>\n",
       "    </tr>\n",
       "    <tr>\n",
       "      <th>5138</th>\n",
       "      <td>Konoz mina sahrae</td>\n",
       "      <td>9669</td>\n",
       "      <td>10.0</td>\n",
       "      <td>1900-01-01 07:24:00</td>\n",
       "      <td>2022-10-25</td>\n",
       "      <td>0</td>\n",
       "      <td>1</td>\n",
       "      <td>0</td>\n",
       "      <td>0</td>\n",
       "      <td>0</td>\n",
       "      <td>0</td>\n",
       "      <td>0</td>\n",
       "      <td>0</td>\n",
       "      <td>0</td>\n",
       "      <td>2022</td>\n",
       "      <td>10</td>\n",
       "      <td>25</td>\n",
       "      <td>7</td>\n",
       "      <td>24</td>\n",
       "      <td>0</td>\n",
       "    </tr>\n",
       "    <tr>\n",
       "      <th>5139</th>\n",
       "      <td>Amnir</td>\n",
       "      <td>8997</td>\n",
       "      <td>20.0</td>\n",
       "      <td>1900-01-01 11:51:54</td>\n",
       "      <td>2021-09-05</td>\n",
       "      <td>0</td>\n",
       "      <td>0</td>\n",
       "      <td>0</td>\n",
       "      <td>0</td>\n",
       "      <td>0</td>\n",
       "      <td>0</td>\n",
       "      <td>0</td>\n",
       "      <td>0</td>\n",
       "      <td>1</td>\n",
       "      <td>2021</td>\n",
       "      <td>9</td>\n",
       "      <td>5</td>\n",
       "      <td>11</td>\n",
       "      <td>51</td>\n",
       "      <td>54</td>\n",
       "    </tr>\n",
       "  </tbody>\n",
       "</table>\n",
       "<p>5140 rows × 20 columns</p>\n",
       "</div>"
      ],
      "text/plain": [
       "                Program  Number of viewers  Audience share (%)  \\\n",
       "0                 Hiraf             163000                22.0   \n",
       "1      Midadou chouaara             868000                13.8   \n",
       "2            Fada Ryadi             681000                 9.7   \n",
       "3      Journal Télévisé             615000                44.9   \n",
       "4                Agenda             868000                36.8   \n",
       "...                 ...                ...                 ...   \n",
       "5135              Amnir              10344                48.0   \n",
       "5136  Kadaya ramadaniya               9994                47.0   \n",
       "5137              Hiraf               9299                30.0   \n",
       "5138  Konoz mina sahrae               9669                10.0   \n",
       "5139              Amnir               8997                20.0   \n",
       "\n",
       "              Start time Broadcasting date  Genre_Capsule  Genre_Culturel  \\\n",
       "0    1900-01-01 21:15:00        2023-03-21              1               0   \n",
       "1    1900-01-01 06:17:00        2023-03-20              0               1   \n",
       "2    1900-01-01 07:10:00        2023-03-19              0               0   \n",
       "3    1900-01-01 22:30:00        2023-03-18              0               0   \n",
       "4    1900-01-01 19:39:00        2023-03-17              0               0   \n",
       "...                  ...               ...            ...             ...   \n",
       "5135 1900-01-01 15:31:17        2021-12-03              0               0   \n",
       "5136 1900-01-01 15:09:28        2021-05-30              0               0   \n",
       "5137 1900-01-01 13:45:15        2021-07-30              1               0   \n",
       "5138 1900-01-01 07:24:00        2022-10-25              0               1   \n",
       "5139 1900-01-01 11:51:54        2021-09-05              0               0   \n",
       "\n",
       "      Genre_Info  Genre_Music  Genre_Politique  Genre_Religieux  Genre_Series  \\\n",
       "0              0            0                0                0             0   \n",
       "1              0            0                0                0             0   \n",
       "2              0            0                0                0             0   \n",
       "3              1            0                0                0             0   \n",
       "4              1            0                0                0             0   \n",
       "...          ...          ...              ...              ...           ...   \n",
       "5135           0            0                0                0             0   \n",
       "5136           0            0                0                1             0   \n",
       "5137           0            0                0                0             0   \n",
       "5138           0            0                0                0             0   \n",
       "5139           0            0                0                0             0   \n",
       "\n",
       "      Genre_Sport  Genre_documentaires  Broadcasting year  Broadcasting month  \\\n",
       "0               0                    0               2023                   3   \n",
       "1               0                    0               2023                   3   \n",
       "2               1                    0               2023                   3   \n",
       "3               0                    0               2023                   3   \n",
       "4               0                    0               2023                   3   \n",
       "...           ...                  ...                ...                 ...   \n",
       "5135            0                    1               2021                  12   \n",
       "5136            0                    0               2021                   5   \n",
       "5137            0                    0               2021                   7   \n",
       "5138            0                    0               2022                  10   \n",
       "5139            0                    1               2021                   9   \n",
       "\n",
       "      Broadcasting day  Start hour  Start minute  Start second  \n",
       "0                   21          21            15             0  \n",
       "1                   20           6            17             0  \n",
       "2                   19           7            10             0  \n",
       "3                   18          22            30             0  \n",
       "4                   17          19            39             0  \n",
       "...                ...         ...           ...           ...  \n",
       "5135                 3          15            31            17  \n",
       "5136                30          15             9            28  \n",
       "5137                30          13            45            15  \n",
       "5138                25           7            24             0  \n",
       "5139                 5          11            51            54  \n",
       "\n",
       "[5140 rows x 20 columns]"
      ]
     },
     "execution_count": 49,
     "metadata": {},
     "output_type": "execute_result"
    }
   ],
   "source": [
    "data"
   ]
  },
  {
   "cell_type": "code",
   "execution_count": 50,
   "metadata": {},
   "outputs": [
    {
     "name": "stdout",
     "output_type": "stream",
     "text": [
      "SGD MSE: 7.101161692022132e+33\n"
     ]
    }
   ],
   "source": [
    "# Stochastic Gradient Descent\n",
    "# Split the data into training and testing sets\n",
    "X = data.drop([ \"Program\",\"Genre_Capsule\",\"Genre_Culturel\" ,\"Genre_Info\",\"Genre_Music\",\"Genre_Politique\",\"Genre_Religieux\",\"Genre_Sport\",\"Genre_documentaires\",\"Genre_Series\", \"Broadcasting date\", \"Start time\"], axis=1)\n",
    "y = data[\"Number of viewers\"]\n",
    "X_train, X_test, y_train, y_test = train_test_split(X, y, test_size=0.2, random_state=42)\n",
    "sgd = SGDRegressor()\n",
    "sgd.fit(X_train, y_train)\n",
    "y_pred_scaled_sgd = sgd.predict(X_test)\n",
    "mse_sgd = mean_squared_error(y_test, y_pred_scaled_sgd)\n",
    "print(\"SGD MSE:\", mse_sgd)"
   ]
  },
  {
   "cell_type": "code",
   "execution_count": 51,
   "metadata": {},
   "outputs": [
    {
     "name": "stdout",
     "output_type": "stream",
     "text": [
      "SVM MSE: 187.82782101167317\n"
     ]
    }
   ],
   "source": [
    "clf = svm.SVC(kernel='linear') # Linear Kernel\n",
    "X = data.drop([ \"Program\",\"Genre_Capsule\",\"Genre_Culturel\" ,\"Genre_Info\",\"Genre_Music\",\"Genre_Politique\",\"Genre_Religieux\",\"Genre_Sport\",\"Genre_documentaires\",\"Genre_Series\", \"Broadcasting date\", \"Start time\"], axis=1)\n",
    "y = data[\"Number of viewers\"]\n",
    "X_train, X_test, y_train, y_test = train_test_split(X, y, test_size=0.2, random_state=42)\n",
    "clf.fit(X_train, y_train)\n",
    "y_pred = clf.predict(X_test)\n",
    "mse_svm = mean_squared_error(y_test, y_pred)\n",
    "print(\"SVM MSE:\", mse_svm)"
   ]
  },
  {
   "cell_type": "code",
   "execution_count": 52,
   "metadata": {},
   "outputs": [
    {
     "name": "stdout",
     "output_type": "stream",
     "text": [
      "Neural Network MSE: 199.69676132123865\n"
     ]
    }
   ],
   "source": [
    "# Neural Network\n",
    "nn = MLPRegressor()\n",
    "nn.fit(X_train, y_train)\n",
    "y_pred = nn.predict(X_test)\n",
    "mse_nn = mean_squared_error(y_test, y_pred)\n",
    "print(\"Neural Network MSE:\", mse_nn)"
   ]
  },
  {
   "cell_type": "code",
   "execution_count": null,
   "metadata": {},
   "outputs": [],
   "source": [
    "# Decision Tree\n",
    "dt = DecisionTreeRegressor()\n",
    "dt.fit(X_train, y_train)\n",
    "y_pred_scaled_dt = dt.predict(X_test)\n",
    "mse_dt = mean_squared_error(y_test, y_pred_scaled_dt)\n",
    "print(\"Decision Tree MSE:\", mse_dt)"
   ]
  },
  {
   "cell_type": "code",
   "execution_count": null,
   "metadata": {},
   "outputs": [],
   "source": [
    "# K Nearest Neighbors\n",
    "knn = KNeighborsRegressor()\n",
    "knn.fit(X_train, y_train)\n",
    "y_pred_scaled_knn = knn.predict(X_test)\n",
    "mse_knn = mean_squared_error(y_test, y_pred_scaled_knn)\n",
    "print(\"KNN MSE:\", mse_knn)"
   ]
  },
  {
   "cell_type": "code",
   "execution_count": null,
   "metadata": {},
   "outputs": [],
   "source": [
    "# Random Forest\n",
    "rf = RandomForestRegressor()\n",
    "rf.fit(X_train, y_train)\n",
    "y_pred_scaled_rf = rf.predict(X_test)\n",
    "mse_rf = mean_squared_error(y_test, y_pred_scaled_rf)\n",
    "print(\"Random Forest MSE:\", mse_rf)"
   ]
  },
  {
   "cell_type": "code",
   "execution_count": null,
   "metadata": {},
   "outputs": [],
   "source": [
    "svmreg_model = SVR()\n",
    "svmreg_model.fit(X_train,y_train)\n",
    "X_train_pred_svmreg = svmreg_model.predict(X_train)\n",
    "print(\"MSE : \",mean_squared_error(y_train,X_train_pred_svmreg))"
   ]
  },
  {
   "cell_type": "code",
   "execution_count": null,
   "metadata": {},
   "outputs": [],
   "source": [
    "cross_svmreg = cross_val_score(svmreg_model,X_train,y_train,scoring=\"neg_mean_squared_error\",cv=5)\n",
    "mean_cross_svmreg = np.mean(cross_svmreg)\n",
    "print(mean_cross_svmreg)"
   ]
  },
  {
   "cell_type": "code",
   "execution_count": null,
   "metadata": {},
   "outputs": [],
   "source": [
    "pk.dump(lr,open(\"TV_Predictor.pkl\",'wb'))"
   ]
  },
  {
   "cell_type": "code",
   "execution_count": null,
   "metadata": {},
   "outputs": [],
   "source": [
    "import matplotlib.pyplot as plt\n",
    "\n",
    "# Create list of MSEs and model names\n",
    "mses = [mse, mse_knn, mse_dt, mse_rf, mse_nn]\n",
    "models = [\"Linear Regression\", \"KNN\", \"Decision Tree\", \"Random Forest\", \"Neural Network\"]\n",
    "\n",
    "# Plot bar chart of MSEs\n",
    "fig, ax1 = plt.subplots(figsize=(10, 6))\n",
    "# Set colors for each bar\n",
    "colors = ['blue', 'orange', 'green', 'red', 'purple']\n",
    "\n",
    "ax1.bar(models, mses, color=colors)\n",
    "ax1.set_xlabel(\"Model\")\n",
    "ax1.set_ylabel(\"MSE\")\n",
    "\n",
    "# Create secondary axis for MSE values\n",
    "ax2 = ax1.twinx()\n",
    "ax2.set_ylabel(\"MSE Values\")\n",
    "ax2.plot(models, mses, 'o-', color='black', linewidth=2, markersize=12)\n",
    "\n",
    "plt.title(\"MSE Comparison of Regression Models\")\n",
    "plt.show()\n"
   ]
  },
  {
   "cell_type": "code",
   "execution_count": null,
   "metadata": {},
   "outputs": [],
   "source": []
  }
 ],
 "metadata": {
  "kernelspec": {
   "display_name": "Python 3",
   "language": "python",
   "name": "python3"
  },
  "language_info": {
   "codemirror_mode": {
    "name": "ipython",
    "version": 3
   },
   "file_extension": ".py",
   "mimetype": "text/x-python",
   "name": "python",
   "nbconvert_exporter": "python",
   "pygments_lexer": "ipython3",
   "version": "3.9.5"
  }
 },
 "nbformat": 4,
 "nbformat_minor": 4
}
