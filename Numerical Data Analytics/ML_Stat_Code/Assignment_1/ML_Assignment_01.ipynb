{
 "cells": [
  {
   "cell_type": "markdown",
   "id": "5b9e2944",
   "metadata": {},
   "source": [
    "# **Required Packages**"
   ]
  },
  {
   "cell_type": "code",
   "execution_count": null,
   "id": "c3d2a11d",
   "metadata": {},
   "outputs": [],
   "source": [
    "import pandas as pd             #package for data analysis\n",
    "import numpy as np              #package for handling numpy arrays\n",
    "import seaborn as sns           #package for data visualization\n",
    "import matplotlib.pyplot as plt #packae for data visualization\n",
    "import re                       #package for handling regular expression"
   ]
  },
  {
   "cell_type": "markdown",
   "id": "84d597cc",
   "metadata": {},
   "source": [
    "# **Reading the Data**"
   ]
  },
  {
   "cell_type": "code",
   "execution_count": null,
   "id": "02101de8",
   "metadata": {},
   "outputs": [],
   "source": [
    "data=pd.read_csv('DataET0.csv',delimiter=';')"
   ]
  },
  {
   "cell_type": "markdown",
   "id": "7158cd23",
   "metadata": {},
   "source": [
    "### **Data Display**"
   ]
  },
  {
   "cell_type": "code",
   "execution_count": null,
   "id": "589c9e81",
   "metadata": {},
   "outputs": [],
   "source": [
    "data.head()"
   ]
  },
  {
   "cell_type": "markdown",
   "id": "bf6048c7",
   "metadata": {},
   "source": [
    "### **Data Structure**"
   ]
  },
  {
   "cell_type": "code",
   "execution_count": null,
   "id": "38830066",
   "metadata": {},
   "outputs": [],
   "source": [
    "data.shape"
   ]
  },
  {
   "cell_type": "code",
   "execution_count": null,
   "id": "ff95c55d",
   "metadata": {},
   "outputs": [],
   "source": [
    "#no. of rows --> 1781 and no. of columns-->19"
   ]
  },
  {
   "cell_type": "markdown",
   "id": "22ddb76a",
   "metadata": {},
   "source": [
    "### **Features in the Data**"
   ]
  },
  {
   "cell_type": "code",
   "execution_count": null,
   "id": "84cc78fc",
   "metadata": {},
   "outputs": [],
   "source": [
    "data.columns"
   ]
  },
  {
   "cell_type": "markdown",
   "id": "ad66e042",
   "metadata": {},
   "source": [
    "### **Categorical Data Feature**"
   ]
  },
  {
   "cell_type": "code",
   "execution_count": null,
   "id": "263ad5a9",
   "metadata": {},
   "outputs": [],
   "source": [
    "data.select_dtypes(object).columns"
   ]
  },
  {
   "cell_type": "markdown",
   "id": "81a1a1bd",
   "metadata": {},
   "source": [
    "### **Data Description**"
   ]
  },
  {
   "cell_type": "markdown",
   "id": "a469dd26",
   "metadata": {},
   "source": [
    "### The dataset contain several meteorological variables recorded on a daily basis. The variables are:\n",
    "\n",
    "- moy_Temp[°C]: average temperature in degrees Celsius\n",
    "- max_Temp[°C]: maximum temperature in degrees Celsius\n",
    "- min_Temp[°C]: minimum temperature in degrees Celsius\n",
    "- moy_DewPoint[°C]: average dew point temperature in degrees Celsius\n",
    "- min_DewPoint[°C]: minimum dew point temperature in degrees Celsius\n",
    "- moy_SolarRadiation[W/m2]: average solar radiation in Watts per square meter\n",
    "- moy_VPD[kPa]: average vapor pressure deficit in kilopascals\n",
    "- min_VPD[kPa]: minimum vapor pressure deficit in kilopascals\n",
    "- moy_RelativeHumidity[%]: average relative humidity as a percentage\n",
    "- max_RelativeHumidity[%]: maximum relative humidity as a percentage\n",
    "- min_RelativeHumidity[%]: minimum relative humidity as a percentage\n",
    "- Somme_Precipitation[mm]: total precipitation in millimeters\n",
    "- moy_WindSpeed[m/s]: average wind speed in meters per second\n",
    "- max_WindSpeed[m/s]: maximum wind speed in meters per second\n",
    "- max_WindSpeedMax[m/s]: maximum wind gust speed in meters per second\n",
    "- ETP quotidien [mm]: daily evapotranspiration in millimeters"
   ]
  },
  {
   "cell_type": "markdown",
   "id": "81bbcdd0",
   "metadata": {},
   "source": [
    "This dataset provides daily meteorological observations of various parameters, which can be useful for a variety of applications related to weather and climate studies. The temperature variables (moy_Temp, max_Temp, min_Temp) provide information on the daily temperature range and average temperature, while the dew point variables (moy_DewPoint, min_DewPoint) give insight into the moisture content of the air. The solar radiation (moy_SolarRadiation) and vapor pressure deficit variables (moy_VPD, min_VPD) provide information on the energy balance and water vapor content of the atmosphere. The relative humidity variables (moy_RelativeHumidity, max_RelativeHumidity, min_RelativeHumidity) offer information on the amount of moisture in the air relative to its maximum capacity at a given temperature, and the precipitation variable (Somme_Precipitation) gives the total amount of precipitation on a given day. The wind speed variables (moy_WindSpeed, max_WindSpeed, max_WindSpeedMax) give an indication of the intensity of the wind, and the evapotranspiration variable (ETP quotidien) is a measure of the amount of water lost from the soil and vegetation through the combined processes of evaporation and transpiration. The year, month, and day variables provide the date of the observation. Overall, this dataset can be useful for various applications in agriculture, hydrology, climate modeling, and other fields that require high-resolution meteorological data."
   ]
  },
  {
   "cell_type": "markdown",
   "id": "b39916f8",
   "metadata": {},
   "source": [
    "### **Datatype  Anomaly Alert!**\n",
    "In our dataset, numerical feature values are inputed as strings, the data that should be of type interger or float is preseent in object data type. We will figure out this data type anomly problem later in this code. This is the main intuition to select this data because some single vlaue features contain huge strigs even in target feature."
   ]
  },
  {
   "cell_type": "markdown",
   "id": "f5139506",
   "metadata": {},
   "source": [
    "### **Numerical Data Feature**"
   ]
  },
  {
   "cell_type": "code",
   "execution_count": null,
   "id": "f8433edc",
   "metadata": {},
   "outputs": [],
   "source": [
    "data.select_dtypes(np.number).columns"
   ]
  },
  {
   "cell_type": "markdown",
   "id": "13f3aa72",
   "metadata": {},
   "source": [
    "# **Data Preprocessing**\n",
    "- Exploring Features Data Values and Data Types\n",
    "- Finding Null Values\n",
    "- Fill Missing Values\n",
    "- Data Normalization"
   ]
  },
  {
   "cell_type": "markdown",
   "id": "67bea6fb",
   "metadata": {},
   "source": [
    "### **Exploring Features Data Values and Data Types**"
   ]
  },
  {
   "cell_type": "code",
   "execution_count": null,
   "id": "b80ceb8a",
   "metadata": {},
   "outputs": [],
   "source": [
    "data.dtypes"
   ]
  },
  {
   "cell_type": "markdown",
   "id": "77144d7e",
   "metadata": {},
   "source": [
    "It is strange is to see our feature are numerical and should have numeric data type either int or float. But these features has object as ata type which refers to text type of data. We need to convert them into numerical data types."
   ]
  },
  {
   "cell_type": "markdown",
   "id": "f6ca6dd2",
   "metadata": {},
   "source": [
    "### **Checking Unique Values in the Data Feature**"
   ]
  },
  {
   "cell_type": "code",
   "execution_count": null,
   "id": "93736929",
   "metadata": {},
   "outputs": [],
   "source": [
    "feat_with_object_dtype=data.select_dtypes(np.object).columns\n",
    "for feature in feat_with_object_dtype:\n",
    "    print(f'{feature} : {data[feature].unique()}')"
   ]
  },
  {
   "cell_type": "markdown",
   "id": "3fb22a19",
   "metadata": {},
   "source": [
    "When we checked unique values in our data feature we find some feature with some irregular values.So we need to normalize them. This is the ['max_WindSpeedMax[m/s]','max_WindSpeed[m/s]','ETP quotidien [mm]','moy_WindSpeed[m/s]'] list of feature with irregular values"
   ]
  },
  {
   "cell_type": "markdown",
   "id": "623a7a89",
   "metadata": {},
   "source": [
    "### **Removing Irregular Data Values in the Features**"
   ]
  },
  {
   "cell_type": "code",
   "execution_count": null,
   "id": "9120f5a2",
   "metadata": {},
   "outputs": [],
   "source": [
    "feat_with_wrong_inputs=['max_WindSpeedMax[m/s]','max_WindSpeed[m/s]','ETP quotidien [mm]','moy_WindSpeed[m/s]']\n",
    "for feature in feat_with_wrong_inputs:\n",
    "    #data[feature]=data[feature].apply(lambda x:str(x))\n",
    "    data[feature]=data[feature].apply(lambda x: 0 if len(str(x))>3 else x)"
   ]
  },
  {
   "cell_type": "code",
   "execution_count": null,
   "id": "1b68e180",
   "metadata": {},
   "outputs": [],
   "source": [
    "data.isnull().sum()/data.shape[0]"
   ]
  },
  {
   "cell_type": "markdown",
   "id": "17e03b9d",
   "metadata": {},
   "source": [
    "### **Missing Values Imputation**"
   ]
  },
  {
   "cell_type": "code",
   "execution_count": null,
   "id": "4691f6ee",
   "metadata": {},
   "outputs": [],
   "source": [
    "feat_with_miss_val=['moy_WindSpeed[m/s]','max_WindSpeed[m/s]','max_WindSpeedMax[m/s]','ETP quotidien [mm]']\n",
    "for feature in feat_with_miss_val:\n",
    "    data[feature].fillna(0,inplace=True)"
   ]
  },
  {
   "cell_type": "markdown",
   "id": "657e02d0",
   "metadata": {},
   "source": [
    "### **Dropping Data Features**"
   ]
  },
  {
   "cell_type": "markdown",
   "id": "1b949fa6",
   "metadata": {},
   "source": [
    "If a data feature contains null values more than 30 percent then it is good to drop that feature otherwise that feature can alter final output. So we are going to drop two data feature.\n",
    "\n",
    "- moy_WindDirection[deg]\n",
    "- dernier_WindDirection[deg]"
   ]
  },
  {
   "cell_type": "code",
   "execution_count": null,
   "id": "a175a9cc",
   "metadata": {},
   "outputs": [],
   "source": [
    "data.drop(['moy_WindDirection[deg]','dernier_WindDirection[deg]'],axis=1,inplace=True)"
   ]
  },
  {
   "cell_type": "markdown",
   "id": "ccd7f4b3",
   "metadata": {},
   "source": [
    "Becaue our data feature contain numerical values in form of string so we need to convert them in numerical form."
   ]
  },
  {
   "cell_type": "code",
   "execution_count": null,
   "id": "5c818591",
   "metadata": {},
   "outputs": [],
   "source": [
    "for feature in data.select_dtypes(np.object).columns[1:]:\n",
    "    data[feature]=data[feature].apply(lambda x:re.sub(',','.',str(x)))\n",
    "    data[feature]=pd.to_numeric(data[feature])"
   ]
  },
  {
   "cell_type": "markdown",
   "id": "d7077a13",
   "metadata": {},
   "source": [
    "# **Regularized Data Types**"
   ]
  },
  {
   "cell_type": "code",
   "execution_count": null,
   "id": "35659453",
   "metadata": {},
   "outputs": [],
   "source": [
    "data.dtypes"
   ]
  },
  {
   "cell_type": "markdown",
   "id": "b4cdc3b6",
   "metadata": {},
   "source": [
    "### **Extracting Day,Month,Year From Date Feature**"
   ]
  },
  {
   "cell_type": "code",
   "execution_count": null,
   "id": "425d1e72",
   "metadata": {},
   "outputs": [],
   "source": [
    "data['Date/heure']=data['Date/heure'].apply(lambda x:str(x).split()[0])\n",
    "data['Date/heure']=pd.to_datetime(data['Date/heure'])\n",
    "data['year']=data['Date/heure'].dt.year\n",
    "data['month']=data['Date/heure'].dt.month\n",
    "data['day']=data['Date/heure'].dt.day\n",
    "data.drop(['Date/heure'],axis=1,inplace=True)"
   ]
  },
  {
   "cell_type": "markdown",
   "id": "7beb445e",
   "metadata": {},
   "source": [
    "### **Feature Correlation**"
   ]
  },
  {
   "cell_type": "code",
   "execution_count": null,
   "id": "d93705a5",
   "metadata": {},
   "outputs": [],
   "source": [
    "plt.figure(figsize=(20,10))\n",
    "corr_matrix = data.corr()\n",
    "sns.heatmap(corr_matrix, annot=True)\n",
    "plt.show"
   ]
  },
  {
   "cell_type": "markdown",
   "id": "36b0bc6c",
   "metadata": {},
   "source": [
    "Correlation: It is measurement of effect of one feature upon other feature. Its value lies between -1,1. 1 or positive values for more correlated(light boxes) and -1 or negative values for not correlated(dark boxes) feature\n"
   ]
  },
  {
   "cell_type": "markdown",
   "id": "4117746d",
   "metadata": {},
   "source": [
    "### **Normalized Data**"
   ]
  },
  {
   "cell_type": "code",
   "execution_count": null,
   "id": "a6004c30",
   "metadata": {},
   "outputs": [],
   "source": [
    "data"
   ]
  },
  {
   "cell_type": "markdown",
   "id": "a4fb1f14",
   "metadata": {},
   "source": [
    "# **Data Visualization**"
   ]
  },
  {
   "cell_type": "code",
   "execution_count": null,
   "id": "90491759",
   "metadata": {},
   "outputs": [],
   "source": [
    "avg_temps=data.groupby(['year']).mean()"
   ]
  },
  {
   "cell_type": "code",
   "execution_count": null,
   "id": "1fa4199c",
   "metadata": {},
   "outputs": [],
   "source": [
    "sns.lineplot(x=avg_temps.index,y=avg_temps['moy_Temp[°C]'],color='blue')\n",
    "plt.title('Average moy_Temp[°C] over the years')"
   ]
  },
  {
   "cell_type": "code",
   "execution_count": null,
   "id": "a208a5bf",
   "metadata": {},
   "outputs": [],
   "source": [
    "sns.lineplot(x=avg_temps.index,y=avg_temps['max_Temp[°C]'])\n",
    "plt.title('Average moy_Temp[°C] over the years')"
   ]
  },
  {
   "cell_type": "code",
   "execution_count": null,
   "id": "9c3e8a72",
   "metadata": {},
   "outputs": [],
   "source": [
    "sns.lineplot(x=avg_temps.index,y=avg_temps['min_Temp[°C]'],color='green')\n",
    "plt.title('Average min_Temp[°C] over the years')"
   ]
  },
  {
   "cell_type": "code",
   "execution_count": null,
   "id": "7255f167",
   "metadata": {},
   "outputs": [],
   "source": [
    "sns.lineplot(x=avg_temps.index,y=avg_temps['moy_DewPoint[°C]'],color='purple')\n",
    "plt.title('Average moy_DewPoint[°C] over the years')"
   ]
  },
  {
   "cell_type": "code",
   "execution_count": null,
   "id": "0c5753ca",
   "metadata": {},
   "outputs": [],
   "source": [
    "sns.lineplot(x=avg_temps.index,y=avg_temps['min_DewPoint[°C]'])\n",
    "plt.title('Average min_DewPoint[°C] over the years')"
   ]
  },
  {
   "cell_type": "code",
   "execution_count": null,
   "id": "43ec22c0",
   "metadata": {},
   "outputs": [],
   "source": [
    "sns.lineplot(x=avg_temps.index,y=avg_temps['moy_SolarRadiation[W/m2]'],color='red')\n",
    "plt.title('Average moy_SolarRadiation[W/m2] over the years')"
   ]
  },
  {
   "cell_type": "code",
   "execution_count": null,
   "id": "9bd5e51d",
   "metadata": {},
   "outputs": [],
   "source": [
    "sns.lineplot(x=avg_temps.index,y=avg_temps['moy_VPD[kPa]'],color='purple')\n",
    "plt.title('Average moy_VPD[kPa] over the years')"
   ]
  },
  {
   "cell_type": "code",
   "execution_count": null,
   "id": "141467bc",
   "metadata": {},
   "outputs": [],
   "source": [
    "sns.lineplot(x=avg_temps.index,y=avg_temps['min_VPD[kPa]'])\n",
    "plt.title('Average min_VPD[kPa] over the years')"
   ]
  },
  {
   "cell_type": "code",
   "execution_count": null,
   "id": "4b5c0237",
   "metadata": {},
   "outputs": [],
   "source": [
    "sns.lineplot(x=avg_temps.index,y=avg_temps['moy_RelativeHumidity[%]'],color='violet')\n",
    "plt.title('Average moy_RelativeHumidity[%] over the years')"
   ]
  },
  {
   "cell_type": "code",
   "execution_count": null,
   "id": "8c24597d",
   "metadata": {},
   "outputs": [],
   "source": [
    "sns.lineplot(x=avg_temps.index,y=avg_temps['max_RelativeHumidity[%]'],color='green')\n",
    "plt.title('Average max_RelativeHumidity[%] over the years')"
   ]
  },
  {
   "cell_type": "code",
   "execution_count": null,
   "id": "38a1bd47",
   "metadata": {},
   "outputs": [],
   "source": [
    "sns.lineplot(x=avg_temps.index,y=avg_temps['min_RelativeHumidity[%]'],color='black')\n",
    "plt.title('Average min_RelativeHumidity[%] over the years')"
   ]
  },
  {
   "cell_type": "code",
   "execution_count": null,
   "id": "7bb2c711",
   "metadata": {},
   "outputs": [],
   "source": [
    "sns.lineplot(x=avg_temps.index,y=avg_temps['Somme_Precipitation[mm]'])\n",
    "plt.title('Average Somme_Precipitation[mm] over the years')"
   ]
  },
  {
   "cell_type": "code",
   "execution_count": null,
   "id": "802042b3",
   "metadata": {},
   "outputs": [],
   "source": [
    "sns.lineplot(x=avg_temps.index,y=avg_temps['moy_WindSpeed[m/s]'],color='blue')\n",
    "plt.title('Average moy_WindSpeed[m/s] over the years')"
   ]
  },
  {
   "cell_type": "code",
   "execution_count": null,
   "id": "95094fef",
   "metadata": {},
   "outputs": [],
   "source": [
    "sns.lineplot(x=avg_temps.index,y=avg_temps['max_WindSpeed[m/s]'],color='green')\n",
    "plt.title('Average max_WindSpeed[m/s] over the years')"
   ]
  },
  {
   "cell_type": "code",
   "execution_count": null,
   "id": "bd03662c",
   "metadata": {},
   "outputs": [],
   "source": [
    "sns.lineplot(x=avg_temps.index,y=avg_temps['max_WindSpeedMax[m/s]'])\n",
    "plt.title('Average max_WindSpeedMax[m/s] over the years')"
   ]
  },
  {
   "cell_type": "code",
   "execution_count": null,
   "id": "c05cb719",
   "metadata": {},
   "outputs": [],
   "source": [
    "sns.lineplot(x=avg_temps.index,y=avg_temps['ETP quotidien [mm]'],color='purple')\n",
    "plt.title('Average ETP quotidien [mm] over the years')"
   ]
  },
  {
   "cell_type": "markdown",
   "id": "f445e665",
   "metadata": {},
   "source": []
  },
  {
   "cell_type": "markdown",
   "id": "704a7720",
   "metadata": {},
   "source": [
    "# **Hypothesis Testing**"
   ]
  },
  {
   "cell_type": "markdown",
   "id": "225b2ec5",
   "metadata": {},
   "source": [
    "---\n",
    "### lets try to find out impact of idependent features(X) on target feature y(ETP quotidien [mm]).\n",
    "---"
   ]
  },
  {
   "cell_type": "markdown",
   "id": "f7403402",
   "metadata": {},
   "source": [
    "# **Null Hypothesis:**\n",
    "There is no significant impact of independent features (X) on target feature ('ETP quotidien [mm]')"
   ]
  },
  {
   "cell_type": "markdown",
   "id": "05ddf5b2",
   "metadata": {},
   "source": [
    "# **Alternate Hypothesis:**\n",
    "There is significant impact of independent features (X) on target feature ('ETP quotidien [mm]')"
   ]
  },
  {
   "cell_type": "markdown",
   "id": "bba5d975",
   "metadata": {},
   "source": [
    "# **ETP quotidien [mm]** stands for \"Evapotranspiration Potentielle quotidienne in millimeters\" in French. \n",
    "It is a measure of the amount of water that could potentially be evaporated and transpired by a crop or vegetation in a day, assuming there is sufficient water available. ETP is an important factor in determining crop water requirements and irrigation scheduling. It is typically estimated using empirical equations that take into account factors such as temperature, humidity, wind speed, and solar radiation."
   ]
  },
  {
   "cell_type": "code",
   "execution_count": null,
   "id": "2053dc14",
   "metadata": {},
   "outputs": [],
   "source": [
    "y=data['ETP quotidien [mm]']"
   ]
  },
  {
   "cell_type": "code",
   "execution_count": null,
   "id": "dc015146",
   "metadata": {},
   "outputs": [],
   "source": [
    "columns=data.drop(['ETP quotidien [mm]'],axis=1).columns"
   ]
  },
  {
   "cell_type": "code",
   "execution_count": null,
   "id": "d076c90a",
   "metadata": {},
   "outputs": [],
   "source": [
    "in_significant_feat=[]"
   ]
  },
  {
   "cell_type": "markdown",
   "id": "e9804913",
   "metadata": {},
   "source": [
    "### **Applying T-Test**"
   ]
  },
  {
   "cell_type": "code",
   "execution_count": null,
   "id": "49c46254",
   "metadata": {},
   "outputs": [],
   "source": [
    "import scipy.stats as stats\n",
    "\n",
    "for col in columns:\n",
    "    t_stat, p_value = stats.ttest_ind(data[col],y)\n",
    "    if p_value < 0.05:\n",
    "        print(\"Reject null hypothesis. There is a significant impact of \"+col+\" on \"+\"ETP quotidien [mm]\")\n",
    "    else:\n",
    "        print(\"Fail to reject null hypothesis. There is no significant impact of \"+col+\" on \"+\"ETP quotidien [mm]\")\n",
    "        in_significant_feat.append(col)"
   ]
  },
  {
   "cell_type": "markdown",
   "id": "f949f9a1",
   "metadata": {},
   "source": [
    "# **Drop Insignificant Feautures**"
   ]
  },
  {
   "cell_type": "code",
   "execution_count": null,
   "id": "4245b5c8",
   "metadata": {},
   "outputs": [],
   "source": [
    "in_significant_feat\n",
    "# there is no insignificant input feature to drop"
   ]
  },
  {
   "cell_type": "markdown",
   "id": "d2ade3cb",
   "metadata": {},
   "source": [
    "# **Separating Dependent and Independent Feature**"
   ]
  },
  {
   "cell_type": "code",
   "execution_count": null,
   "id": "e326002e",
   "metadata": {},
   "outputs": [],
   "source": [
    "X=data.drop(['ETP quotidien [mm]'],axis=1)\n",
    "y=data['ETP quotidien [mm]']"
   ]
  },
  {
   "cell_type": "markdown",
   "id": "f5bea24a",
   "metadata": {},
   "source": [
    "# **Data Scalling by MinMax Scaler**"
   ]
  },
  {
   "cell_type": "code",
   "execution_count": null,
   "id": "8f41df85",
   "metadata": {},
   "outputs": [],
   "source": [
    "from sklearn.preprocessing import MinMaxScaler\n",
    "scaler = MinMaxScaler()\n",
    "X= scaler.fit_transform(X)"
   ]
  },
  {
   "cell_type": "markdown",
   "id": "39851a73",
   "metadata": {},
   "source": [
    "# **Note!**\n",
    "Fortunately or unfortunately there is not categorical features present in our selected data.\n",
    "This data is selected because it has mis-typed data that needs sufficient problem solving \n",
    "and data handling skills."
   ]
  },
  {
   "cell_type": "markdown",
   "id": "c858ad9a",
   "metadata": {},
   "source": [
    "# **Model Preparation**"
   ]
  },
  {
   "cell_type": "code",
   "execution_count": null,
   "id": "7c91798f",
   "metadata": {},
   "outputs": [],
   "source": [
    "from sklearn.model_selection import train_test_split"
   ]
  },
  {
   "cell_type": "code",
   "execution_count": null,
   "id": "2167cf64",
   "metadata": {},
   "outputs": [],
   "source": [
    "X_train,X_test,y_train,y_test=train_test_split(X,y,test_size=0.3) #splitting data into training and testin"
   ]
  },
  {
   "cell_type": "markdown",
   "id": "e5c54469",
   "metadata": {},
   "source": [
    "---\n",
    "## **Applying Machine Learning Models**\n",
    "---"
   ]
  },
  {
   "cell_type": "code",
   "execution_count": null,
   "id": "bcf9f535",
   "metadata": {
    "scrolled": true
   },
   "outputs": [],
   "source": [
    "# Applying Multiple Models\n",
    "from sklearn.linear_model import LinearRegression\n",
    "from sklearn.neighbors import KNeighborsRegressor\n",
    "from sklearn.svm import SVR\n",
    "#k-fold cross validation\n",
    "from sklearn.model_selection import KFold, cross_val_score\n",
    "\n",
    "\n",
    "# Importing evaluation modules\n",
    "from sklearn.metrics import r2_score, mean_absolute_error, mean_squared_error\n",
    "\n",
    "# check the performance on diffrent regressor\n",
    "models = []\n",
    "models.append(('LinearRegression', LinearRegression()))\n",
    "models.append(('KNeighborsRegressor', KNeighborsRegressor()))\n",
    "models.append(('SVMRegressor',SVR(C=1.0, epsilon=0.2)))\n",
    "\n",
    "# prepare the cross-validation procedure\n",
    "cv = KFold(n_splits=5, random_state=1, shuffle=True)\n",
    "\n",
    "train_l = []\n",
    "test_l = []\n",
    "mae_l = []\n",
    "rmse_l = []\n",
    "r2_l = []\n",
    "\n",
    "import time\n",
    "i = 0\n",
    "for name,model in models:\n",
    "    i = i+1\n",
    "    start_time = time.time()\n",
    "    \n",
    "    # Fitting model to the Training set\n",
    "    regressor = model\n",
    "    regressor.fit(X_train, y_train)\n",
    "    \n",
    "    # Scores of model\n",
    "    train = model.score(X_train, y_train)\n",
    "    test = model.score(X_test, y_test)\n",
    "    \n",
    "    train_l.append(train)\n",
    "    test_l.append(test)\n",
    "    \n",
    "    # predict values\n",
    "    predictions = regressor.predict(X_test)\n",
    "    # RMSE\n",
    "    rmse = np.sqrt(mean_squared_error(y_test, predictions))\n",
    "    rmse_l.append(rmse)\n",
    "    # MAE\n",
    "    mae = mean_absolute_error(y_test,predictions)\n",
    "    mae_l.append(mae)\n",
    "    # R2 score\n",
    "    r2 = r2_score(y_test,predictions)\n",
    "    r2_l.append(r2)\n",
    "    \n",
    "    # evaluate model\n",
    "    scores = cross_val_score(regressor, X, y, cv=cv, n_jobs=-1)\n",
    "    \n",
    "    \n",
    "\n",
    "\n",
    "    print(\"+\",\"=\"*100,\"+\")\n",
    "    print('\\033[1m' + f\"\\t\\t\\t{i}-For {name} The Performance result is: \" + '\\033[0m')\n",
    "    print(\"+\",\"=\"*100,\"+\")\n",
    "    print('Root mean squared error (RMSE) : ', rmse)   \n",
    "    print(\"-\"*50)\n",
    "    print('Mean absolute error (MAE) : ', mae)\n",
    "    print(\"-\"*50)\n",
    "    print('R2 score : ', r2)\n",
    "    print(\"-\"*50)\n",
    "    print('Avg Cross Validation Score : ', sum(scores)/len(scores))\n",
    "    print(\"-\"*50)\n",
    "    print(\"\\t\\t\\t\\t\\t\\t\\t-----------------------------------------------------------\")\n",
    "    print(f\"\\t\\t\\t\\t\\t\\t\\t Time for detection ({name}) : {round((time.time() - start_time), 3)} seconds...\")\n",
    "    print(\"\\t\\t\\t\\t\\t\\t\\t-----------------------------------------------------------\")\n",
    "    print()\n",
    "    \n",
    "comp = pd.DataFrame({\"Training Score\": train_l, \"Testing Score\": test_l, \"MAE\": mae_l, \"RMSE\": rmse_l, \"R2 Score\": r2_l})\n",
    "comp"
   ]
  },
  {
   "cell_type": "code",
   "execution_count": null,
   "id": "cfaf2880",
   "metadata": {},
   "outputs": [],
   "source": []
  }
 ],
 "metadata": {
  "kernelspec": {
   "display_name": "Python 3",
   "language": "python",
   "name": "python3"
  },
  "language_info": {
   "codemirror_mode": {
    "name": "ipython",
    "version": 3
   },
   "file_extension": ".py",
   "mimetype": "text/x-python",
   "name": "python",
   "nbconvert_exporter": "python",
   "pygments_lexer": "ipython3",
   "version": "3.9.5"
  }
 },
 "nbformat": 4,
 "nbformat_minor": 5
}
