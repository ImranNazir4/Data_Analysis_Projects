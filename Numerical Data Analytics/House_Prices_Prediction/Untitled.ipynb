{
 "cells": [
  {
   "cell_type": "code",
   "execution_count": 6,
   "id": "53288943",
   "metadata": {},
   "outputs": [],
   "source": [
    "import pandas as pd\n",
    "import numpy as np\n",
    "import seaborn as sns\n",
    "import matplotlib.pyplot as plt"
   ]
  },
  {
   "cell_type": "markdown",
   "id": "a619f800",
   "metadata": {},
   "source": [
    "# **1 - Problem Definition**"
   ]
  },
  {
   "cell_type": "markdown",
   "id": "14f95168",
   "metadata": {},
   "source": [
    "Create an ML model that can predict house prices effectively."
   ]
  },
  {
   "cell_type": "markdown",
   "id": "e757e29a",
   "metadata": {},
   "source": [
    "# **2 - Build Dataset**"
   ]
  },
  {
   "cell_type": "markdown",
   "id": "03d6f70a",
   "metadata": {},
   "source": [
    "## **Data Collection**"
   ]
  },
  {
   "cell_type": "code",
   "execution_count": null,
   "id": "62a2b43c",
   "metadata": {},
   "outputs": [],
   "source": []
  },
  {
   "cell_type": "code",
   "execution_count": 102,
   "id": "c7baf357",
   "metadata": {},
   "outputs": [],
   "source": [
    "houses_df=pd.read_csv('house_prices.csv')\n",
    "houses_df_1=pd.read_csv('house_prices_1.csv')"
   ]
  },
  {
   "cell_type": "markdown",
   "id": "37145bcd",
   "metadata": {},
   "source": [
    "1-Supervised Type of Data (Data with Target Variable)\n",
    "2-Unsupervised Type of Data (Data with no Target Variable)"
   ]
  },
  {
   "cell_type": "markdown",
   "id": "a3e8e1a0",
   "metadata": {},
   "source": [
    "### **Problem Type**"
   ]
  },
  {
   "cell_type": "code",
   "execution_count": null,
   "id": "814c9bf3",
   "metadata": {},
   "outputs": [],
   "source": [
    "We are given target feature 'SalesPrice'. So, this is supervised machine learning problem"
   ]
  },
  {
   "cell_type": "markdown",
   "id": "9912b95a",
   "metadata": {},
   "source": [
    "## **Data Inspection**"
   ]
  },
  {
   "cell_type": "markdown",
   "id": "2d0df84e",
   "metadata": {},
   "source": [
    "1- Check inconsistency in the data\n",
    "2- Outliers\n",
    "3- Data Transformation\n",
    "4- Fill missing values"
   ]
  },
  {
   "cell_type": "markdown",
   "id": "877c8191",
   "metadata": {},
   "source": [
    "### **Null Values**"
   ]
  },
  {
   "cell_type": "code",
   "execution_count": 117,
   "id": "e0fcd895",
   "metadata": {},
   "outputs": [
    {
     "data": {
      "text/plain": [
       "Id                0.000000\n",
       "Condition1        0.000000\n",
       "Condition2        0.000000\n",
       "BldgType          0.000000\n",
       "HouseStyle        0.000000\n",
       "OverallQual       0.000000\n",
       "OverallCond       0.000000\n",
       "YearBuilt         0.000000\n",
       "YearRemodAdd      0.000000\n",
       "RoofStyle         0.000000\n",
       "RoofMatl          0.000000\n",
       "ExterQual         0.000000\n",
       "ExterCond         0.000000\n",
       "Foundation        0.000000\n",
       "BsmtQual          0.000000\n",
       "BsmtCond          0.000000\n",
       "BsmtExposure      0.000000\n",
       "BsmtFinType1      0.000000\n",
       "BsmtFinSF1        0.000000\n",
       "BsmtFinType2      0.000000\n",
       "BsmtFinSF2        0.000000\n",
       "BsmtUnfSF         0.000000\n",
       "TotalBsmtSF       0.000000\n",
       "Heating           0.000000\n",
       "HeatingQC         0.000000\n",
       "CentralAir        0.000000\n",
       "Electrical        0.000000\n",
       "1stFlrSF          0.000000\n",
       "2ndFlrSF          0.000000\n",
       "LowQualFinSF      0.000000\n",
       "GrLivArea         0.000000\n",
       "BsmtFullBath      0.000000\n",
       "BsmtHalfBath      0.000000\n",
       "FullBath          0.000000\n",
       "HalfBath          0.000000\n",
       "BedroomAbvGr      0.000000\n",
       "KitchenAbvGr      0.000000\n",
       "KitchenQual       0.000000\n",
       "Fireplaces        0.000000\n",
       "FireplaceQu      44.205052\n",
       "GarageType        0.000000\n",
       "GarageYrBlt       0.000000\n",
       "GarageFinish      0.000000\n",
       "GarageCars        0.000000\n",
       "GarageArea        0.000000\n",
       "GarageQual        0.000000\n",
       "GarageCond        0.000000\n",
       "PavedDrive        0.000000\n",
       "PoolArea          0.000000\n",
       "PoolQC           99.479941\n",
       "Fence            80.609212\n",
       "MiscVal           0.000000\n",
       "MoSold            0.000000\n",
       "YrSold            0.000000\n",
       "SaleType          0.000000\n",
       "SaleCondition     0.000000\n",
       "SalePrice         0.000000\n",
       "dtype: float64"
      ]
     },
     "execution_count": 117,
     "metadata": {},
     "output_type": "execute_result"
    }
   ],
   "source": [
    "#plt.figure(figsize=(25,25))\n",
    "#sns.heatmap(houses_df.isnull())\n",
    "houses_df.isnull().sum()/houses_df.shape[0]*100"
   ]
  },
  {
   "cell_type": "markdown",
   "id": "12de971c",
   "metadata": {},
   "source": [
    "### **Hanlding Missing Values**"
   ]
  },
  {
   "cell_type": "markdown",
   "id": "7736e4a3",
   "metadata": {},
   "source": [
    "### Removing the Null values where their percentage is less than 10%"
   ]
  },
  {
   "cell_type": "code",
   "execution_count": 116,
   "id": "13568e41",
   "metadata": {},
   "outputs": [],
   "source": [
    "houses_df.dropna(axis=0,subset=['GarageYrBlt','GarageFinish','GarageQual','GarageCond','GarageCond','BsmtCond','BsmtCond','BsmtExposure','BsmtFinType2','Electrical','GarageType'],inplace=True)"
   ]
  },
  {
   "cell_type": "markdown",
   "id": "9d3f1eaf",
   "metadata": {},
   "source": [
    "### Categorical"
   ]
  },
  {
   "cell_type": "code",
   "execution_count": 84,
   "id": "af5d9710",
   "metadata": {},
   "outputs": [],
   "source": [
    "houses_df['Fence'].fillna('MnPrv',inplace=True)"
   ]
  },
  {
   "cell_type": "code",
   "execution_count": 75,
   "id": "591aa600",
   "metadata": {},
   "outputs": [
    {
     "data": {
      "text/plain": [
       "37"
      ]
     },
     "execution_count": 75,
     "metadata": {},
     "output_type": "execute_result"
    }
   ],
   "source": [
    "houses_df['BsmtQual'].isnull().sum()"
   ]
  },
  {
   "cell_type": "code",
   "execution_count": 83,
   "id": "df7cf98d",
   "metadata": {},
   "outputs": [
    {
     "data": {
      "text/plain": [
       "0    MnPrv\n",
       "dtype: object"
      ]
     },
     "execution_count": 83,
     "metadata": {},
     "output_type": "execute_result"
    }
   ],
   "source": [
    "houses_df['Fence'].mode()"
   ]
  },
  {
   "cell_type": "code",
   "execution_count": 35,
   "id": "76bf21a2",
   "metadata": {},
   "outputs": [],
   "source": [
    "copy_df=houses_df"
   ]
  },
  {
   "cell_type": "code",
   "execution_count": 71,
   "id": "ea04c0ec",
   "metadata": {},
   "outputs": [
    {
     "data": {
      "text/plain": [
       "0"
      ]
     },
     "execution_count": 71,
     "metadata": {},
     "output_type": "execute_result"
    }
   ],
   "source": [
    "copy_df.isnull().sum()"
   ]
  },
  {
   "cell_type": "code",
   "execution_count": 85,
   "id": "072096ba",
   "metadata": {},
   "outputs": [
    {
     "data": {
      "image/png": "[encoded data removed]",
      "text/plain": [
       "<Figure size 1152x648 with 1 Axes>"
      ]
     },
     "metadata": {
      "needs_background": "light"
     },
     "output_type": "display_data"
    }
   ],
   "source": [
    "plt.figure(figsize=(16,9))\n",
    "for i,var in enumerate(['Fence']):\n",
    "    plt.subplot(4,3,i+1)\n",
    "    plt.hist(houses_df[var],label=\"Impute\")\n",
    "    plt.hist(houses_df_1[var].dropna(),label=\"Original\")\n",
    "    \n",
    "    \n",
    "    plt.legend()"
   ]
  },
  {
   "cell_type": "markdown",
   "id": "62b80390",
   "metadata": {},
   "source": [
    "### **Summary Statistics**"
   ]
  },
  {
   "cell_type": "markdown",
   "id": "e1d0005f",
   "metadata": {},
   "source": [
    "1- Trends in data\n",
    "2- Scale of data\n",
    "3- Shape of data"
   ]
  },
  {
   "cell_type": "markdown",
   "id": "2140d4e0",
   "metadata": {},
   "source": [
    "IQR\n",
    "Mean\n",
    "Std\n",
    "...."
   ]
  },
  {
   "cell_type": "markdown",
   "id": "c53c0b28",
   "metadata": {},
   "source": [
    "### **Data Visualization**"
   ]
  },
  {
   "cell_type": "markdown",
   "id": "6705589d",
   "metadata": {},
   "source": [
    "1- Line charts\n",
    "2- Bar charts\n",
    "3- Pie charts\n",
    "4- Histograms\n",
    "....."
   ]
  },
  {
   "cell_type": "markdown",
   "id": "175b9c7f",
   "metadata": {},
   "source": [
    "# **3 - Model Training**"
   ]
  },
  {
   "cell_type": "markdown",
   "id": "e2f18b26",
   "metadata": {},
   "source": [
    "### **splitting the Data**"
   ]
  },
  {
   "cell_type": "markdown",
   "id": "f5beb034",
   "metadata": {},
   "source": [
    "-----------------------------Good Practice----------------------------------\n",
    "1- 80% Training\n",
    "2- 20% Testing"
   ]
  },
  {
   "cell_type": "markdown",
   "id": "295aeb3c",
   "metadata": {},
   "source": [
    "### **Model Selection**"
   ]
  },
  {
   "cell_type": "markdown",
   "id": "4439932b",
   "metadata": {},
   "source": [
    "# **4 - Model Evaluation**"
   ]
  },
  {
   "cell_type": "markdown",
   "id": "b929eb87",
   "metadata": {},
   "source": [
    "R-sqaure\n",
    "Precision\n",
    "Recall\n",
    "F1-Score\n",
    "Mean Absolute Error"
   ]
  },
  {
   "cell_type": "markdown",
   "id": "ee63be9e",
   "metadata": {},
   "source": [
    "here are 3 main metrics for model evaluation in regression: R Square/Adjusted R Square. Mean Square Error(MSE)/Root Mean Square Error(RMSE- Average error accros the dataset- this value should be low) Mean Absolute Error(MAE)"
   ]
  },
  {
   "cell_type": "markdown",
   "id": "69115a39",
   "metadata": {},
   "source": [
    "### **Loss Calculation**"
   ]
  },
  {
   "cell_type": "markdown",
   "id": "30f178af",
   "metadata": {},
   "source": [
    "### **Model Parameters Tuning**"
   ]
  },
  {
   "cell_type": "markdown",
   "id": "75884943",
   "metadata": {},
   "source": [
    "# **5 - Model Inference**"
   ]
  },
  {
   "cell_type": "markdown",
   "id": "d83ccd55",
   "metadata": {},
   "source": [
    "Making Predictions"
   ]
  },
  {
   "cell_type": "code",
   "execution_count": null,
   "id": "fa0931d4",
   "metadata": {},
   "outputs": [],
   "source": []
  }
 ],
 "metadata": {
  "kernelspec": {
   "display_name": "Python 3",
   "language": "python",
   "name": "python3"
  },
  "language_info": {
   "codemirror_mode": {
    "name": "ipython",
    "version": 3
   },
   "file_extension": ".py",
   "mimetype": "text/x-python",
   "name": "python",
   "nbconvert_exporter": "python",
   "pygments_lexer": "ipython3",
   "version": "3.9.5"
  }
 },
 "nbformat": 4,
 "nbformat_minor": 5
}
