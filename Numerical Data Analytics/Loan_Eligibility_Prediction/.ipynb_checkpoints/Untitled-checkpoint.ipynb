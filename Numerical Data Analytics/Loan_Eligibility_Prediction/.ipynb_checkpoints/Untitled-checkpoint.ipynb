{
 "cells": [
  {
   "cell_type": "code",
   "execution_count": 542,
   "id": "8dbebd48",
   "metadata": {},
   "outputs": [],
   "source": [
    "import pandas as pd\n",
    "import numpy as np\n",
    "import seaborn as sns\n",
    "import matplotlib.pyplot as plt\n",
    "from sklearn.metrics import accuracy_score,precision_score,recall_score,f1_score,confusion_matrix,classification_report, plot_confusion_matrix\n"
   ]
  },
  {
   "cell_type": "code",
   "execution_count": 751,
   "id": "81730457",
   "metadata": {},
   "outputs": [],
   "source": [
    "loan_df_train=pd.read_csv('LoanDatasets.csv')\n",
    "loan_df_test=pd.read_csv('LoanDataset_test.csv')"
   ]
  },
  {
   "cell_type": "code",
   "execution_count": 753,
   "id": "c9280a0c",
   "metadata": {},
   "outputs": [],
   "source": [
    "#Replacing Loan_Staus(Y,N) with 1,0 respectively\n",
    "loan_df_train['Loan_Status'].replace('N', 0,inplace=True)\n",
    "loan_df_train['Loan_Status'].replace('Y', 1,inplace=True)"
   ]
  },
  {
   "cell_type": "markdown",
   "id": "550056a7",
   "metadata": {},
   "source": [
    "# **Features in the Training Dataset**"
   ]
  },
  {
   "cell_type": "code",
   "execution_count": 748,
   "id": "2d99620b",
   "metadata": {},
   "outputs": [
    {
     "data": {
      "text/plain": [
       "Index(['Loan_ID', 'Gender', 'Married', 'Dependents', 'Education',\n",
       "       'Self_Employed', 'ApplicantIncome', 'CoapplicantIncome', 'LoanAmount',\n",
       "       'Loan_Amount_Term', 'Credit_History', 'Property_Area', 'Loan_Status'],\n",
       "      dtype='object')"
      ]
     },
     "execution_count": 748,
     "metadata": {},
     "output_type": "execute_result"
    }
   ],
   "source": [
    "loan_df_dev.columns"
   ]
  },
  {
   "cell_type": "markdown",
   "id": "da4a3c22",
   "metadata": {},
   "source": [
    "# **Checking Missing Values**"
   ]
  },
  {
   "cell_type": "code",
   "execution_count": 651,
   "id": "0bf120eb",
   "metadata": {},
   "outputs": [
    {
     "data": {
      "text/plain": [
       "Loan_ID               0\n",
       "Gender               13\n",
       "Married               3\n",
       "Dependents           15\n",
       "Education             0\n",
       "Self_Employed        33\n",
       "ApplicantIncome       0\n",
       "CoapplicantIncome     0\n",
       "LoanAmount           23\n",
       "Loan_Amount_Term     14\n",
       "Credit_History       51\n",
       "Property_Area         0\n",
       "Loan_Status           0\n",
       "dtype: int64"
      ]
     },
     "execution_count": 651,
     "metadata": {},
     "output_type": "execute_result"
    }
   ],
   "source": [
    "#missing values in the training dataset\n",
    "loan_df_train.isnull().sum()"
   ]
  },
  {
   "cell_type": "code",
   "execution_count": 652,
   "id": "7e345752",
   "metadata": {},
   "outputs": [
    {
     "data": {
      "text/plain": [
       "Loan_ID               0\n",
       "Gender               11\n",
       "Married               0\n",
       "Dependents           10\n",
       "Education             0\n",
       "Self_Employed        23\n",
       "ApplicantIncome       0\n",
       "CoapplicantIncome     0\n",
       "LoanAmount            5\n",
       "Loan_Amount_Term      6\n",
       "Credit_History       29\n",
       "Property_Area         0\n",
       "dtype: int64"
      ]
     },
     "execution_count": 652,
     "metadata": {},
     "output_type": "execute_result"
    }
   ],
   "source": [
    "#missing values in the test dataset\n",
    "loan_df_test.isnull().sum()"
   ]
  },
  {
   "cell_type": "markdown",
   "id": "efa97ba9",
   "metadata": {},
   "source": [
    "# **Filling Missing Values**"
   ]
  },
  {
   "cell_type": "markdown",
   "id": "7c648619",
   "metadata": {},
   "source": [
    "### **Filling Values in the Training Dataset**"
   ]
  },
  {
   "cell_type": "code",
   "execution_count": 653,
   "id": "dbf6057f",
   "metadata": {},
   "outputs": [],
   "source": [
    "loan_df_train['Gender'].fillna(loan_df_train['Gender'].mode()[0],inplace=True)"
   ]
  },
  {
   "cell_type": "code",
   "execution_count": 654,
   "id": "c6264d76",
   "metadata": {},
   "outputs": [],
   "source": [
    "loan_df_train['Married'].fillna(loan_df_train['Married'].mode()[0],inplace=True)"
   ]
  },
  {
   "cell_type": "code",
   "execution_count": 655,
   "id": "9c564cd8",
   "metadata": {},
   "outputs": [],
   "source": [
    "loan_df_train['Dependents'].fillna(loan_df_train['Dependents'].mode()[0],inplace=True)"
   ]
  },
  {
   "cell_type": "code",
   "execution_count": 656,
   "id": "d194f094",
   "metadata": {},
   "outputs": [],
   "source": [
    "loan_df_train['Self_Employed'].fillna(loan_df_train['Self_Employed'].mode()[0],inplace=True)"
   ]
  },
  {
   "cell_type": "code",
   "execution_count": 657,
   "id": "e5edac0b",
   "metadata": {},
   "outputs": [],
   "source": [
    "loan_df_train['CoapplicantIncome'].fillna(loan_df_train['CoapplicantIncome'].mean(),inplace=True)"
   ]
  },
  {
   "cell_type": "code",
   "execution_count": 658,
   "id": "2101b241",
   "metadata": {},
   "outputs": [],
   "source": [
    "loan_df_train['LoanAmount'].fillna(loan_df_train['LoanAmount'].mean(),inplace=True)"
   ]
  },
  {
   "cell_type": "code",
   "execution_count": 659,
   "id": "f8cfeef1",
   "metadata": {},
   "outputs": [],
   "source": [
    "loan_df_train['Loan_Amount_Term'].fillna(loan_df_train['Loan_Amount_Term'].mode()[0],inplace=True)"
   ]
  },
  {
   "cell_type": "code",
   "execution_count": 660,
   "id": "a5dc9a63",
   "metadata": {},
   "outputs": [],
   "source": [
    "loan_df_train['Credit_History'].fillna(loan_df_train['Credit_History'].mode()[0],inplace=True)"
   ]
  },
  {
   "cell_type": "markdown",
   "id": "9371adc0",
   "metadata": {},
   "source": [
    "### **Filling Missing Values in the Testing Dataset**"
   ]
  },
  {
   "cell_type": "code",
   "execution_count": 661,
   "id": "563634d4",
   "metadata": {},
   "outputs": [],
   "source": [
    "loan_df_test['Gender'].fillna(loan_df_test['Gender'].mode()[0],inplace=True)"
   ]
  },
  {
   "cell_type": "code",
   "execution_count": 662,
   "id": "7f53eb2e",
   "metadata": {},
   "outputs": [],
   "source": [
    "loan_df_test['Dependents'].fillna(loan_df_test['Dependents'].mode()[0],inplace=True)"
   ]
  },
  {
   "cell_type": "code",
   "execution_count": 663,
   "id": "c95cbae6",
   "metadata": {},
   "outputs": [],
   "source": [
    "loan_df_test['Self_Employed'].fillna(loan_df_test['Self_Employed'].mode()[0],inplace=True)"
   ]
  },
  {
   "cell_type": "code",
   "execution_count": 664,
   "id": "e489b0cf",
   "metadata": {},
   "outputs": [],
   "source": [
    "loan_df_test['Credit_History'].fillna(loan_df_test['Credit_History'].mode()[0],inplace=True)"
   ]
  },
  {
   "cell_type": "code",
   "execution_count": 665,
   "id": "ffacdf54",
   "metadata": {},
   "outputs": [],
   "source": [
    "loan_df_test['LoanAmount'].fillna(loan_df_test['LoanAmount'].mean(),inplace=True)"
   ]
  },
  {
   "cell_type": "code",
   "execution_count": 666,
   "id": "aeadcbe9",
   "metadata": {},
   "outputs": [],
   "source": [
    "loan_df_test['Loan_Amount_Term'].fillna(loan_df_test['Loan_Amount_Term'].mode()[0],inplace=True)"
   ]
  },
  {
   "cell_type": "markdown",
   "id": "fa27384b",
   "metadata": {},
   "source": [
    "# **Correlation Among Features of the Training Dataset**"
   ]
  },
  {
   "cell_type": "code",
   "execution_count": 754,
   "id": "dd0a67c7",
   "metadata": {},
   "outputs": [
    {
     "data": {
      "image/png": "[encoded data removed]",
      "text/plain": [
       "<Figure size 648x432 with 2 Axes>"
      ]
     },
     "metadata": {
      "needs_background": "light"
     },
     "output_type": "display_data"
    }
   ],
   "source": [
    "matrix = loan_df_train.corr()\n",
    "plt.figure(figsize=(9,6))\n",
    "sns.heatmap(matrix,vmax=.8,square=True,cmap='BuPu', annot = True)\n",
    "plt.show()"
   ]
  },
  {
   "cell_type": "markdown",
   "id": "b2df9453",
   "metadata": {},
   "source": [
    "We see that the most correlate variables are (ApplicantIncome — LoanAmount)(0.57) and (Credit_History — Loan_Status)(0.56)."
   ]
  },
  {
   "cell_type": "markdown",
   "id": "8ce21dc5",
   "metadata": {},
   "source": [
    "### **Loan_Status vs Gender**"
   ]
  },
  {
   "cell_type": "code",
   "execution_count": 721,
   "id": "e7fbce43",
   "metadata": {},
   "outputs": [
    {
     "data": {
      "image/png": "[encoded data removed]",
      "text/plain": [
       "<Figure size 1008x288 with 1 Axes>"
      ]
     },
     "metadata": {
      "needs_background": "light"
     },
     "output_type": "display_data"
    }
   ],
   "source": [
    "Gender=pd.crosstab(loan_df_train['Gender'],loan_df_train['Loan_Status'])\n",
    "Gender.div(Gender.sum(1).astype(float), axis=0).plot(kind='bar',stacked=True,figsize=(14,4))\n",
    "plt.show()"
   ]
  },
  {
   "cell_type": "code",
   "execution_count": null,
   "id": "460e1c25",
   "metadata": {},
   "outputs": [],
   "source": [
    "#we can see that gender does not effect the possibility of awarding bank loans too much."
   ]
  },
  {
   "cell_type": "markdown",
   "id": "6e52c1e5",
   "metadata": {},
   "source": [
    "### **Loan_Status vs Marital Status**"
   ]
  },
  {
   "cell_type": "code",
   "execution_count": 728,
   "id": "cbbb7b41",
   "metadata": {},
   "outputs": [
    {
     "data": {
      "image/png": "[encoded data removed]",
      "text/plain": [
       "<Figure size 1008x288 with 1 Axes>"
      ]
     },
     "metadata": {
      "needs_background": "light"
     },
     "output_type": "display_data"
    }
   ],
   "source": [
    "Married=pd.crosstab(loan_df_train['Married'],loan_df_train['Loan_Status'])\n",
    "Married.div(Married.sum(1).astype(float), axis=0).plot(kind='bar',stacked=True,figsize=(14,4))\n",
    "plt.show()"
   ]
  },
  {
   "cell_type": "code",
   "execution_count": 755,
   "id": "c157d8e8",
   "metadata": {},
   "outputs": [],
   "source": [
    "#we can see that Marital Status does not effect the possibility of awarding bank loan."
   ]
  },
  {
   "cell_type": "markdown",
   "id": "ba4815c0",
   "metadata": {},
   "source": [
    "### **Loan_Status vs Dependents**"
   ]
  },
  {
   "cell_type": "code",
   "execution_count": 726,
   "id": "e0d1496c",
   "metadata": {},
   "outputs": [
    {
     "data": {
      "image/png": "[encoded data removed]",
      "text/plain": [
       "<Figure size 1008x288 with 1 Axes>"
      ]
     },
     "metadata": {
      "needs_background": "light"
     },
     "output_type": "display_data"
    }
   ],
   "source": [
    "Dependents=pd.crosstab(loan_df_train['Dependents'],loan_df_train['Loan_Status'])\n",
    "Dependents.div(Dependents.sum(1).astype(float), axis=0).plot(kind='bar',stacked=True,figsize=(14,4))\n",
    "plt.show()"
   ]
  },
  {
   "cell_type": "code",
   "execution_count": 756,
   "id": "1de970c6",
   "metadata": {},
   "outputs": [],
   "source": [
    "#we can see that there not perfect influence of Dependents on the possibility of awarding bank loan."
   ]
  },
  {
   "cell_type": "markdown",
   "id": "89e026e8",
   "metadata": {},
   "source": [
    "### **Loan_Status vs Education**"
   ]
  },
  {
   "cell_type": "code",
   "execution_count": 727,
   "id": "3f89850d",
   "metadata": {},
   "outputs": [
    {
     "data": {
      "image/png": "[encoded data removed]",
      "text/plain": [
       "<Figure size 1008x288 with 1 Axes>"
      ]
     },
     "metadata": {
      "needs_background": "light"
     },
     "output_type": "display_data"
    }
   ],
   "source": [
    "Education=pd.crosstab(loan_df_train['Education'],loan_df_train['Loan_Status'])\n",
    "Education.div(Education.sum(1).astype(float), axis=0).plot(kind='bar',stacked=True,figsize=(14,4))\n",
    "plt.show()"
   ]
  },
  {
   "cell_type": "code",
   "execution_count": 757,
   "id": "b04ca686",
   "metadata": {},
   "outputs": [],
   "source": [
    "#he possibility of awarding bank loan has slight trend toward gradguated people."
   ]
  },
  {
   "cell_type": "markdown",
   "id": "8c8c8959",
   "metadata": {},
   "source": [
    "### **Loan_Status vs Self_Employed**"
   ]
  },
  {
   "cell_type": "code",
   "execution_count": 729,
   "id": "bc13d1c7",
   "metadata": {},
   "outputs": [
    {
     "data": {
      "image/png": "[encoded data removed]",
      "text/plain": [
       "<Figure size 1008x288 with 1 Axes>"
      ]
     },
     "metadata": {
      "needs_background": "light"
     },
     "output_type": "display_data"
    }
   ],
   "source": [
    "Self_Employed=pd.crosstab(loan_df_train['Self_Employed'],loan_df_train['Loan_Status'])\n",
    "Self_Employed.div(Self_Employed.sum(1).astype(float), axis=0).plot(kind='bar',stacked=True,figsize=(14,4))\n",
    "plt.show()"
   ]
  },
  {
   "cell_type": "code",
   "execution_count": null,
   "id": "6a1544c2",
   "metadata": {},
   "outputs": [],
   "source": [
    "#the possibility of awarding a loan does not depend on employment status."
   ]
  },
  {
   "cell_type": "markdown",
   "id": "cd6e3d7e",
   "metadata": {},
   "source": [
    "### **Loan_Status vs Credit History**"
   ]
  },
  {
   "cell_type": "code",
   "execution_count": 731,
   "id": "6cd5e506",
   "metadata": {},
   "outputs": [
    {
     "data": {
      "image/png": "[encoded data removed]",
      "text/plain": [
       "<Figure size 1008x288 with 1 Axes>"
      ]
     },
     "metadata": {
      "needs_background": "light"
     },
     "output_type": "display_data"
    }
   ],
   "source": [
    "Credit_History=pd.crosstab(loan_df_train['Credit_History'],loan_df_train['Loan_Status'])\n",
    "Credit_History.div(Credit_History.sum(1).astype(float), axis=0).plot(kind='bar',stacked=True,figsize=(14,4))\n",
    "plt.show()"
   ]
  },
  {
   "cell_type": "code",
   "execution_count": null,
   "id": "bffd0c22",
   "metadata": {},
   "outputs": [],
   "source": [
    "#Here we can see that loan is awarded to only those people who cleared past debts."
   ]
  },
  {
   "cell_type": "markdown",
   "id": "adbe8209",
   "metadata": {},
   "source": [
    "### **Loan_Status vs Property_Area**"
   ]
  },
  {
   "cell_type": "code",
   "execution_count": 734,
   "id": "45d7955d",
   "metadata": {},
   "outputs": [
    {
     "data": {
      "image/png": "[encoded data removed]",
      "text/plain": [
       "<Figure size 1008x288 with 1 Axes>"
      ]
     },
     "metadata": {
      "needs_background": "light"
     },
     "output_type": "display_data"
    }
   ],
   "source": [
    "Property_Area=pd.crosstab(loan_df_train['Property_Area'],loan_df_train['Loan_Status'])\n",
    "Property_Area.div(Property_Area.sum(1).astype(float), axis=0).plot(kind='bar',stacked=True,figsize=(14,4))\n",
    "plt.show()"
   ]
  },
  {
   "cell_type": "code",
   "execution_count": null,
   "id": "54e86e0a",
   "metadata": {},
   "outputs": [],
   "source": [
    "#Similarly, awarding of a loan does not depend on the property area."
   ]
  },
  {
   "cell_type": "markdown",
   "id": "c28eb42a",
   "metadata": {},
   "source": [
    "### **Distribution of Loan_Status**"
   ]
  },
  {
   "cell_type": "code",
   "execution_count": 740,
   "id": "0f212506",
   "metadata": {},
   "outputs": [
    {
     "name": "stderr",
     "output_type": "stream",
     "text": [
      "c:\\users\\zee tech\\appdata\\local\\programs\\python\\python39\\lib\\site-packages\\seaborn\\_decorators.py:36: FutureWarning: Pass the following variable as a keyword arg: x. From version 0.12, the only valid positional argument will be `data`, and passing other arguments without an explicit keyword will result in an error or misinterpretation.\n",
      "  warnings.warn(\n"
     ]
    },
    {
     "data": {
      "image/png": "[encoded data removed]",
      "text/plain": [
       "<Figure size 1008x288 with 1 Axes>"
      ]
     },
     "metadata": {
      "needs_background": "light"
     },
     "output_type": "display_data"
    }
   ],
   "source": [
    "plt.figure(figsize=(14,4))\n",
    "sns.countplot(loan_df_train['Loan_Status'])\n",
    "plt.show()"
   ]
  },
  {
   "cell_type": "markdown",
   "id": "2129c14a",
   "metadata": {},
   "source": [
    "# **Data Distributions and Outliers Detection**"
   ]
  },
  {
   "cell_type": "markdown",
   "id": "2639f593",
   "metadata": {},
   "source": [
    "Boxplot: Boxplot is a perfect way to identify the data distribution and outliers detection. It is very simple to understand. Anything outside two vertical bars is called an outlier (Outliers are the values that differ from most of the data values). The starting and end points of the blue box are the 25th and 75th quadrants. A line in the blue box represents the median of the dataset values."
   ]
  },
  {
   "cell_type": "code",
   "execution_count": 758,
   "id": "b2d8d416",
   "metadata": {},
   "outputs": [
    {
     "name": "stderr",
     "output_type": "stream",
     "text": [
      "c:\\users\\zee tech\\appdata\\local\\programs\\python\\python39\\lib\\site-packages\\seaborn\\_decorators.py:36: FutureWarning: Pass the following variable as a keyword arg: x. From version 0.12, the only valid positional argument will be `data`, and passing other arguments without an explicit keyword will result in an error or misinterpretation.\n",
      "  warnings.warn(\n"
     ]
    },
    {
     "data": {
      "image/png": "[encoded data removed]",
      "text/plain": [
       "<Figure size 1080x360 with 1 Axes>"
      ]
     },
     "metadata": {
      "needs_background": "light"
     },
     "output_type": "display_data"
    }
   ],
   "source": [
    "plt.figure(figsize=(15,5))\n",
    "sns.boxplot(loan_df_train['ApplicantIncome'])\n",
    "plt.title('ApplicantIncome Distribution')\n",
    "plt.show()"
   ]
  },
  {
   "cell_type": "code",
   "execution_count": 669,
   "id": "cfb658cf",
   "metadata": {},
   "outputs": [
    {
     "name": "stderr",
     "output_type": "stream",
     "text": [
      "c:\\users\\zee tech\\appdata\\local\\programs\\python\\python39\\lib\\site-packages\\seaborn\\_decorators.py:36: FutureWarning: Pass the following variable as a keyword arg: x. From version 0.12, the only valid positional argument will be `data`, and passing other arguments without an explicit keyword will result in an error or misinterpretation.\n",
      "  warnings.warn(\n"
     ]
    },
    {
     "data": {
      "image/png": "[encoded data removed]",
      "text/plain": [
       "<Figure size 1080x360 with 1 Axes>"
      ]
     },
     "metadata": {
      "needs_background": "light"
     },
     "output_type": "display_data"
    }
   ],
   "source": [
    "plt.figure(figsize=(15,5))\n",
    "sns.boxplot(loan_df_train['CoapplicantIncome'])\n",
    "plt.title('CoapplicantIncome Distribution')\n",
    "plt.show()"
   ]
  },
  {
   "cell_type": "code",
   "execution_count": 670,
   "id": "d38fa8a8",
   "metadata": {},
   "outputs": [
    {
     "name": "stderr",
     "output_type": "stream",
     "text": [
      "c:\\users\\zee tech\\appdata\\local\\programs\\python\\python39\\lib\\site-packages\\seaborn\\_decorators.py:36: FutureWarning: Pass the following variable as a keyword arg: x. From version 0.12, the only valid positional argument will be `data`, and passing other arguments without an explicit keyword will result in an error or misinterpretation.\n",
      "  warnings.warn(\n"
     ]
    },
    {
     "data": {
      "image/png": "[encoded data removed]",
      "text/plain": [
       "<Figure size 1080x360 with 1 Axes>"
      ]
     },
     "metadata": {
      "needs_background": "light"
     },
     "output_type": "display_data"
    }
   ],
   "source": [
    "plt.figure(figsize=(15,5))\n",
    "sns.boxplot(loan_df_train['LoanAmount'])\n",
    "plt.title('LoanAmount Distribution')\n",
    "plt.show()"
   ]
  },
  {
   "cell_type": "markdown",
   "id": "e6bc63bb",
   "metadata": {},
   "source": [
    "# **Outliers Removal and Data Normalization**"
   ]
  },
  {
   "cell_type": "markdown",
   "id": "206d7dbf",
   "metadata": {},
   "source": [
    "As there are most of outliers to we need to remove them by putting all the values under one scale. This is called data scalling."
   ]
  },
  {
   "cell_type": "code",
   "execution_count": 671,
   "id": "bac8b27a",
   "metadata": {},
   "outputs": [
    {
     "name": "stderr",
     "output_type": "stream",
     "text": [
      "c:\\users\\zee tech\\appdata\\local\\programs\\python\\python39\\lib\\site-packages\\pandas\\core\\arraylike.py:358: RuntimeWarning: divide by zero encountered in log\n",
      "  result = getattr(ufunc, method)(*inputs, **kwargs)\n"
     ]
    },
    {
     "data": {
      "text/plain": [
       "<AxesSubplot:>"
      ]
     },
     "execution_count": 671,
     "metadata": {},
     "output_type": "execute_result"
    },
    {
     "data": {
      "image/png": "[encoded data removed]",
      "text/plain": [
       "<Figure size 432x288 with 1 Axes>"
      ]
     },
     "metadata": {
      "needs_background": "light"
     },
     "output_type": "display_data"
    }
   ],
   "source": [
    "loan_df_train['ApplicantIncome']=np.log(loan_df_train['ApplicantIncome'])\n",
    "loan_df_test['ApplicantIncome']=np.log(loan_df_test['ApplicantIncome'])\n",
    "loan_df_train['ApplicantIncome'].hist()"
   ]
  },
  {
   "cell_type": "code",
   "execution_count": 672,
   "id": "5493b1bc",
   "metadata": {},
   "outputs": [
    {
     "data": {
      "text/plain": [
       "<AxesSubplot:>"
      ]
     },
     "execution_count": 672,
     "metadata": {},
     "output_type": "execute_result"
    },
    {
     "data": {
      "image/png": "[encoded data removed]",
      "text/plain": [
       "<Figure size 432x288 with 1 Axes>"
      ]
     },
     "metadata": {
      "needs_background": "light"
     },
     "output_type": "display_data"
    }
   ],
   "source": [
    "loan_df_train['LoanAmount']=np.log(loan_df_train['LoanAmount'])\n",
    "loan_df_test['LoanAmount']=np.log(loan_df_test['LoanAmount'])\n",
    "loan_df_train['LoanAmount'].hist()"
   ]
  },
  {
   "cell_type": "code",
   "execution_count": 674,
   "id": "4419929e",
   "metadata": {},
   "outputs": [],
   "source": [
    "loan_df_train['Loan_Amount_Term']=np.log(loan_df_train['Loan_Amount_Term'])\n",
    "loan_df_test['Loan_Amount_Term']=np.log(loan_df_test['Loan_Amount_Term'])"
   ]
  },
  {
   "cell_type": "markdown",
   "id": "d7108bd9",
   "metadata": {},
   "source": [
    "Data is now normally distributed"
   ]
  },
  {
   "cell_type": "markdown",
   "id": "e1bbc5a2",
   "metadata": {},
   "source": [
    "# **Categorical Data Encoding**"
   ]
  },
  {
   "cell_type": "markdown",
   "id": "024131ac",
   "metadata": {},
   "source": [
    "Our computer can work only with numbers. But our data contain text(categorical) data. Encoding is a method of converting categorical data into numbers. "
   ]
  },
  {
   "cell_type": "code",
   "execution_count": 678,
   "id": "d7eff0b1",
   "metadata": {},
   "outputs": [],
   "source": [
    "#spliting dependent and independent features of the training data\n",
    "X_train=loan_df_train.drop('Loan_Status',axis=1)\n",
    "y_train=loan_df_train['Loan_Status']"
   ]
  },
  {
   "cell_type": "code",
   "execution_count": 679,
   "id": "a52d4d67",
   "metadata": {},
   "outputs": [],
   "source": [
    "#removing unnessary features of the test data\n",
    "X_test=loan_df_test.drop('Loan_ID',axis=1)"
   ]
  },
  {
   "cell_type": "code",
   "execution_count": 680,
   "id": "5617ddb2",
   "metadata": {},
   "outputs": [],
   "source": [
    "#test dataset contains some infinite and too large values so that we need to remove them\n",
    "X_test = X_test[np.isfinite(X_test[['ApplicantIncome', 'CoapplicantIncome', 'LoanAmount','Loan_Amount_Term', 'Credit_History']]).all(1)]"
   ]
  },
  {
   "cell_type": "code",
   "execution_count": 681,
   "id": "f5eab149",
   "metadata": {},
   "outputs": [],
   "source": [
    "#separating numerical and categorical features of the training data\n",
    "X_train_cat_feat=X_train[['Gender', 'Married', 'Dependents', 'Education','Self_Employed', 'Property_Area']]\n",
    "X_train_num_feat=X_train[['ApplicantIncome', 'CoapplicantIncome', 'LoanAmount','Loan_Amount_Term', 'Credit_History']]"
   ]
  },
  {
   "cell_type": "code",
   "execution_count": 682,
   "id": "2188d164",
   "metadata": {},
   "outputs": [],
   "source": [
    "#separating numerical and categorical features of the testing data\n",
    "X_test_cat_feat=X_test[['Gender', 'Married', 'Dependents', 'Education','Self_Employed', 'Property_Area']]\n",
    "X_test_num_feat=X_test[['ApplicantIncome', 'CoapplicantIncome', 'LoanAmount','Loan_Amount_Term', 'Credit_History']]"
   ]
  },
  {
   "cell_type": "markdown",
   "id": "e589c467",
   "metadata": {},
   "source": [
    "### **Categorical Data Encoding with OneHotEncoder**"
   ]
  },
  {
   "cell_type": "code",
   "execution_count": null,
   "id": "8ab07f6b",
   "metadata": {},
   "outputs": [],
   "source": [
    "from sklearn.preprocessing import OneHotEncoder #python package for data encoding"
   ]
  },
  {
   "cell_type": "code",
   "execution_count": 683,
   "id": "ff47d69f",
   "metadata": {},
   "outputs": [],
   "source": [
    "encoder = OneHotEncoder(sparse=False)   #initialization of OneHotEncoder"
   ]
  },
  {
   "cell_type": "code",
   "execution_count": 684,
   "id": "5fbafc95",
   "metadata": {},
   "outputs": [],
   "source": [
    "#converting categorical feature of treaining data into numbers\n",
    "X_train_onehot = encoder.fit_transform(X_train_cat_feat)   "
   ]
  },
  {
   "cell_type": "code",
   "execution_count": 685,
   "id": "981ce2f4",
   "metadata": {},
   "outputs": [],
   "source": [
    "#converting categorical feature of testing data into numbers\n",
    "X_test_onehot = encoder.transform(X_test_cat_feat)"
   ]
  },
  {
   "cell_type": "code",
   "execution_count": 686,
   "id": "608c68ce",
   "metadata": {},
   "outputs": [],
   "source": [
    "X_train = np.hstack([X_train_onehot, X_train_num_feat])"
   ]
  },
  {
   "cell_type": "code",
   "execution_count": 687,
   "id": "17cd33db",
   "metadata": {},
   "outputs": [],
   "source": [
    "X_test=np.hstack([X_test_onehot,X_test_num_feat])"
   ]
  },
  {
   "cell_type": "markdown",
   "id": "306a4b87",
   "metadata": {},
   "source": [
    "# **Model Building**"
   ]
  },
  {
   "cell_type": "code",
   "execution_count": 690,
   "id": "e7e6a3e2",
   "metadata": {},
   "outputs": [],
   "source": [
    "# Importing Model\n",
    "from sklearn.linear_model import LogisticRegression"
   ]
  },
  {
   "cell_type": "code",
   "execution_count": 691,
   "id": "a60ec606",
   "metadata": {},
   "outputs": [],
   "source": [
    "lg=LogisticRegression() #model initialization"
   ]
  },
  {
   "cell_type": "code",
   "execution_count": 692,
   "id": "267aa6f0",
   "metadata": {},
   "outputs": [
    {
     "name": "stderr",
     "output_type": "stream",
     "text": [
      "c:\\users\\zee tech\\appdata\\local\\programs\\python\\python39\\lib\\site-packages\\sklearn\\linear_model\\_logistic.py:444: ConvergenceWarning: lbfgs failed to converge (status=1):\n",
      "STOP: TOTAL NO. of ITERATIONS REACHED LIMIT.\n",
      "\n",
      "Increase the number of iterations (max_iter) or scale the data as shown in:\n",
      "    https://scikit-learn.org/stable/modules/preprocessing.html\n",
      "Please also refer to the documentation for alternative solver options:\n",
      "    https://scikit-learn.org/stable/modules/linear_model.html#logistic-regression\n",
      "  n_iter_i = _check_optimize_result(\n"
     ]
    },
    {
     "data": {
      "text/html": [
       "<style>#sk-container-id-12 {color: black;background-color: white;}#sk-container-id-12 pre{padding: 0;}#sk-container-id-12 div.sk-toggleable {background-color: white;}#sk-container-id-12 label.sk-toggleable__label {cursor: pointer;display: block;width: 100%;margin-bottom: 0;padding: 0.3em;box-sizing: border-box;text-align: center;}#sk-container-id-12 label.sk-toggleable__label-arrow:before {content: \"▸\";float: left;margin-right: 0.25em;color: #696969;}#sk-container-id-12 label.sk-toggleable__label-arrow:hover:before {color: black;}#sk-container-id-12 div.sk-estimator:hover label.sk-toggleable__label-arrow:before {color: black;}#sk-container-id-12 div.sk-toggleable__content {max-height: 0;max-width: 0;overflow: hidden;text-align: left;background-color: #f0f8ff;}#sk-container-id-12 div.sk-toggleable__content pre {margin: 0.2em;color: black;border-radius: 0.25em;background-color: #f0f8ff;}#sk-container-id-12 input.sk-toggleable__control:checked~div.sk-toggleable__content {max-height: 200px;max-width: 100%;overflow: auto;}#sk-container-id-12 input.sk-toggleable__control:checked~label.sk-toggleable__label-arrow:before {content: \"▾\";}#sk-container-id-12 div.sk-estimator input.sk-toggleable__control:checked~label.sk-toggleable__label {background-color: #d4ebff;}#sk-container-id-12 div.sk-label input.sk-toggleable__control:checked~label.sk-toggleable__label {background-color: #d4ebff;}#sk-container-id-12 input.sk-hidden--visually {border: 0;clip: rect(1px 1px 1px 1px);clip: rect(1px, 1px, 1px, 1px);height: 1px;margin: -1px;overflow: hidden;padding: 0;position: absolute;width: 1px;}#sk-container-id-12 div.sk-estimator {font-family: monospace;background-color: #f0f8ff;border: 1px dotted black;border-radius: 0.25em;box-sizing: border-box;margin-bottom: 0.5em;}#sk-container-id-12 div.sk-estimator:hover {background-color: #d4ebff;}#sk-container-id-12 div.sk-parallel-item::after {content: \"\";width: 100%;border-bottom: 1px solid gray;flex-grow: 1;}#sk-container-id-12 div.sk-label:hover label.sk-toggleable__label {background-color: #d4ebff;}#sk-container-id-12 div.sk-serial::before {content: \"\";position: absolute;border-left: 1px solid gray;box-sizing: border-box;top: 0;bottom: 0;left: 50%;z-index: 0;}#sk-container-id-12 div.sk-serial {display: flex;flex-direction: column;align-items: center;background-color: white;padding-right: 0.2em;padding-left: 0.2em;position: relative;}#sk-container-id-12 div.sk-item {position: relative;z-index: 1;}#sk-container-id-12 div.sk-parallel {display: flex;align-items: stretch;justify-content: center;background-color: white;position: relative;}#sk-container-id-12 div.sk-item::before, #sk-container-id-12 div.sk-parallel-item::before {content: \"\";position: absolute;border-left: 1px solid gray;box-sizing: border-box;top: 0;bottom: 0;left: 50%;z-index: -1;}#sk-container-id-12 div.sk-parallel-item {display: flex;flex-direction: column;z-index: 1;position: relative;background-color: white;}#sk-container-id-12 div.sk-parallel-item:first-child::after {align-self: flex-end;width: 50%;}#sk-container-id-12 div.sk-parallel-item:last-child::after {align-self: flex-start;width: 50%;}#sk-container-id-12 div.sk-parallel-item:only-child::after {width: 0;}#sk-container-id-12 div.sk-dashed-wrapped {border: 1px dashed gray;margin: 0 0.4em 0.5em 0.4em;box-sizing: border-box;padding-bottom: 0.4em;background-color: white;}#sk-container-id-12 div.sk-label label {font-family: monospace;font-weight: bold;display: inline-block;line-height: 1.2em;}#sk-container-id-12 div.sk-label-container {text-align: center;}#sk-container-id-12 div.sk-container {/* jupyter's `normalize.less` sets `[hidden] { display: none; }` but bootstrap.min.css set `[hidden] { display: none !important; }` so we also need the `!important` here to be able to override the default hidden behavior on the sphinx rendered scikit-learn.org. See: https://github.com/scikit-learn/scikit-learn/issues/21755 */display: inline-block !important;position: relative;}#sk-container-id-12 div.sk-text-repr-fallback {display: none;}</style><div id=\"sk-container-id-12\" class=\"sk-top-container\"><div class=\"sk-text-repr-fallback\"><pre>LogisticRegression()</pre><b>In a Jupyter environment, please rerun this cell to show the HTML representation or trust the notebook. <br />On GitHub, the HTML representation is unable to render, please try loading this page with nbviewer.org.</b></div><div class=\"sk-container\" hidden><div class=\"sk-item\"><div class=\"sk-estimator sk-toggleable\"><input class=\"sk-toggleable__control sk-hidden--visually\" id=\"sk-estimator-id-12\" type=\"checkbox\" checked><label for=\"sk-estimator-id-12\" class=\"sk-toggleable__label sk-toggleable__label-arrow\">LogisticRegression</label><div class=\"sk-toggleable__content\"><pre>LogisticRegression()</pre></div></div></div></div></div>"
      ],
      "text/plain": [
       "LogisticRegression()"
      ]
     },
     "execution_count": 692,
     "metadata": {},
     "output_type": "execute_result"
    }
   ],
   "source": [
    "lg.fit(X_train,y_train)  #model training"
   ]
  },
  {
   "cell_type": "markdown",
   "id": "ae94e475",
   "metadata": {},
   "source": [
    "# **Model Testing on the Test Data**"
   ]
  },
  {
   "cell_type": "code",
   "execution_count": 699,
   "id": "474e7d40",
   "metadata": {},
   "outputs": [
    {
     "data": {
      "text/plain": [
       "array(['Y', 'Y', 'Y', 'Y', 'Y', 'Y', 'Y', 'N', 'Y', 'Y', 'Y', 'Y', 'Y',\n",
       "       'N', 'Y', 'Y', 'Y', 'Y', 'Y', 'Y', 'Y', 'Y', 'Y', 'Y', 'Y', 'Y',\n",
       "       'Y', 'Y', 'Y', 'Y', 'Y', 'Y', 'Y', 'Y', 'N', 'Y', 'Y', 'Y', 'Y',\n",
       "       'Y', 'Y', 'Y', 'Y', 'Y', 'Y', 'Y', 'Y', 'Y', 'Y', 'Y', 'Y', 'Y',\n",
       "       'Y', 'Y', 'N', 'Y', 'Y', 'N', 'Y', 'Y', 'Y', 'Y', 'N', 'Y', 'Y',\n",
       "       'N', 'N', 'Y', 'N', 'Y', 'Y', 'Y', 'Y', 'Y', 'Y', 'Y', 'Y', 'Y',\n",
       "       'Y', 'N', 'Y', 'N', 'Y', 'N', 'Y', 'Y', 'Y', 'Y', 'Y', 'Y', 'Y',\n",
       "       'Y', 'Y', 'N', 'Y', 'Y', 'Y', 'Y', 'Y', 'Y', 'N', 'Y', 'Y', 'Y',\n",
       "       'Y', 'N', 'Y', 'Y', 'Y', 'Y', 'Y', 'Y', 'Y', 'Y', 'Y', 'N', 'N',\n",
       "       'N', 'Y', 'Y', 'Y', 'N', 'N', 'Y', 'N', 'Y', 'Y', 'Y', 'Y', 'Y',\n",
       "       'Y', 'Y', 'Y', 'Y', 'Y', 'Y', 'Y', 'Y', 'N', 'Y', 'N', 'Y', 'Y',\n",
       "       'Y', 'Y', 'N', 'Y', 'Y', 'Y', 'Y', 'Y', 'N', 'Y', 'Y', 'Y', 'Y',\n",
       "       'Y', 'Y', 'Y', 'N', 'Y', 'Y', 'Y', 'N', 'N', 'Y', 'N', 'Y', 'Y',\n",
       "       'Y', 'Y', 'N', 'N', 'Y', 'Y', 'Y', 'Y', 'Y', 'Y', 'Y', 'Y', 'Y',\n",
       "       'Y', 'Y', 'Y', 'Y', 'Y', 'Y', 'Y', 'Y', 'N', 'N', 'Y', 'Y', 'N',\n",
       "       'Y', 'N', 'Y', 'Y', 'Y', 'Y', 'Y', 'Y', 'Y', 'Y', 'Y', 'Y', 'N',\n",
       "       'Y', 'N', 'Y', 'Y', 'Y', 'Y', 'Y', 'Y', 'Y', 'Y', 'Y', 'Y', 'Y',\n",
       "       'Y', 'N', 'Y', 'Y', 'Y', 'Y', 'N', 'Y', 'Y', 'Y', 'Y', 'Y', 'N',\n",
       "       'N', 'Y', 'Y', 'Y', 'Y', 'N', 'Y', 'N', 'Y', 'N', 'Y', 'Y', 'Y',\n",
       "       'Y', 'N', 'Y', 'Y', 'Y', 'Y', 'N', 'Y', 'Y', 'Y', 'Y', 'Y', 'Y',\n",
       "       'Y', 'Y', 'Y', 'Y', 'N', 'N', 'N', 'Y', 'Y', 'Y', 'Y', 'N', 'N',\n",
       "       'Y', 'Y', 'Y', 'N', 'Y', 'Y', 'Y', 'Y', 'Y', 'Y', 'Y', 'Y', 'Y',\n",
       "       'Y', 'Y', 'Y', 'Y', 'Y', 'N', 'Y', 'Y', 'Y', 'Y', 'Y', 'Y', 'Y',\n",
       "       'N', 'Y', 'Y', 'Y', 'Y', 'Y', 'Y', 'Y', 'Y', 'Y', 'N', 'Y', 'Y',\n",
       "       'Y', 'Y', 'Y', 'N', 'Y', 'Y', 'Y', 'Y', 'Y', 'Y', 'Y', 'N', 'Y',\n",
       "       'Y', 'Y', 'Y', 'Y', 'Y', 'Y', 'Y', 'Y', 'Y', 'Y', 'Y', 'Y', 'N',\n",
       "       'Y', 'Y', 'Y', 'Y', 'Y', 'Y', 'N', 'Y', 'Y', 'Y', 'Y', 'N', 'Y',\n",
       "       'Y', 'N', 'Y', 'Y', 'Y', 'Y', 'Y', 'Y', 'Y', 'Y', 'Y', 'Y', 'Y',\n",
       "       'Y'], dtype=object)"
      ]
     },
     "execution_count": 699,
     "metadata": {},
     "output_type": "execute_result"
    }
   ],
   "source": [
    "lg.predict(X_test)"
   ]
  },
  {
   "cell_type": "markdown",
   "id": "b4b0d0f3",
   "metadata": {},
   "source": [
    "# **Model Cross Validation Score on Training Data**"
   ]
  },
  {
   "cell_type": "code",
   "execution_count": null,
   "id": "98cf9bb5",
   "metadata": {},
   "outputs": [],
   "source": [
    "#python packages for cross validation score\n",
    "from sklearn.model_selection import KFold, cross_val_score"
   ]
  },
  {
   "cell_type": "code",
   "execution_count": 694,
   "id": "6d28b175",
   "metadata": {},
   "outputs": [],
   "source": [
    "# prepare the cross-validation procedure\n",
    "cv = KFold(n_splits=5, random_state=1, shuffle=True) #n_splits->number of splits of training data"
   ]
  },
  {
   "cell_type": "code",
   "execution_count": 695,
   "id": "0bc91a48",
   "metadata": {},
   "outputs": [],
   "source": [
    "scores = cross_val_score(lg, X_train, y_train, cv=cv, n_jobs=-1)"
   ]
  },
  {
   "cell_type": "code",
   "execution_count": 696,
   "id": "4be42044",
   "metadata": {},
   "outputs": [
    {
     "data": {
      "text/plain": [
       "array([0.81102362, 0.76190476, 0.80952381, 0.84920635, 0.82539683])"
      ]
     },
     "execution_count": 696,
     "metadata": {},
     "output_type": "execute_result"
    }
   ],
   "source": [
    "scores"
   ]
  }
 ],
 "metadata": {
  "kernelspec": {
   "display_name": "Python 3",
   "language": "python",
   "name": "python3"
  },
  "language_info": {
   "codemirror_mode": {
    "name": "ipython",
    "version": 3
   },
   "file_extension": ".py",
   "mimetype": "text/x-python",
   "name": "python",
   "nbconvert_exporter": "python",
   "pygments_lexer": "ipython3",
   "version": "3.9.5"
  }
 },
 "nbformat": 4,
 "nbformat_minor": 5
}
