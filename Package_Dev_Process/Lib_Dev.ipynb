{
 "cells": [
  {
   "cell_type": "code",
   "execution_count": 13,
   "id": "bc02904e",
   "metadata": {},
   "outputs": [],
   "source": [
    "import pandas as pd"
   ]
  },
  {
   "cell_type": "code",
   "execution_count": 8,
   "id": "78496a46",
   "metadata": {},
   "outputs": [],
   "source": [
    "from ml_pilot.feature_engineering import feature_engineering"
   ]
  },
  {
   "cell_type": "code",
   "execution_count": 11,
   "id": "a077814b",
   "metadata": {},
   "outputs": [
    {
     "data": {
      "text/html": [
       "<div>\n",
       "<style scoped>\n",
       "    .dataframe tbody tr th:only-of-type {\n",
       "        vertical-align: middle;\n",
       "    }\n",
       "\n",
       "    .dataframe tbody tr th {\n",
       "        vertical-align: top;\n",
       "    }\n",
       "\n",
       "    .dataframe thead th {\n",
       "        text-align: right;\n",
       "    }\n",
       "</style>\n",
       "<table border=\"1\" class=\"dataframe\">\n",
       "  <thead>\n",
       "    <tr style=\"text-align: right;\">\n",
       "      <th></th>\n",
       "      <th>Loan_ID</th>\n",
       "      <th>Gender</th>\n",
       "      <th>Married</th>\n",
       "      <th>Dependents</th>\n",
       "      <th>Education</th>\n",
       "      <th>Self_Employed</th>\n",
       "      <th>CoapplicantIncome</th>\n",
       "      <th>LoanAmount</th>\n",
       "      <th>Loan_Amount_Term</th>\n",
       "      <th>Credit_History</th>\n",
       "      <th>Property_Area</th>\n",
       "      <th>Loan_Status</th>\n",
       "    </tr>\n",
       "  </thead>\n",
       "  <tbody>\n",
       "    <tr>\n",
       "      <th>0</th>\n",
       "      <td>LP001002</td>\n",
       "      <td>Male</td>\n",
       "      <td>No</td>\n",
       "      <td>0</td>\n",
       "      <td>Graduate</td>\n",
       "      <td>No</td>\n",
       "      <td>0.0</td>\n",
       "      <td>NaN</td>\n",
       "      <td>360.0</td>\n",
       "      <td>1.0</td>\n",
       "      <td>Urban</td>\n",
       "      <td>Y</td>\n",
       "    </tr>\n",
       "    <tr>\n",
       "      <th>1</th>\n",
       "      <td>LP001003</td>\n",
       "      <td>Male</td>\n",
       "      <td>Yes</td>\n",
       "      <td>1</td>\n",
       "      <td>Graduate</td>\n",
       "      <td>No</td>\n",
       "      <td>1508.0</td>\n",
       "      <td>128.0</td>\n",
       "      <td>360.0</td>\n",
       "      <td>1.0</td>\n",
       "      <td>Rural</td>\n",
       "      <td>N</td>\n",
       "    </tr>\n",
       "    <tr>\n",
       "      <th>2</th>\n",
       "      <td>LP001005</td>\n",
       "      <td>Male</td>\n",
       "      <td>Yes</td>\n",
       "      <td>0</td>\n",
       "      <td>Graduate</td>\n",
       "      <td>Yes</td>\n",
       "      <td>0.0</td>\n",
       "      <td>66.0</td>\n",
       "      <td>360.0</td>\n",
       "      <td>1.0</td>\n",
       "      <td>Urban</td>\n",
       "      <td>Y</td>\n",
       "    </tr>\n",
       "    <tr>\n",
       "      <th>3</th>\n",
       "      <td>LP001006</td>\n",
       "      <td>Male</td>\n",
       "      <td>Yes</td>\n",
       "      <td>0</td>\n",
       "      <td>Not Graduate</td>\n",
       "      <td>No</td>\n",
       "      <td>2358.0</td>\n",
       "      <td>120.0</td>\n",
       "      <td>360.0</td>\n",
       "      <td>1.0</td>\n",
       "      <td>Urban</td>\n",
       "      <td>Y</td>\n",
       "    </tr>\n",
       "    <tr>\n",
       "      <th>4</th>\n",
       "      <td>LP001008</td>\n",
       "      <td>Male</td>\n",
       "      <td>No</td>\n",
       "      <td>0</td>\n",
       "      <td>Graduate</td>\n",
       "      <td>No</td>\n",
       "      <td>0.0</td>\n",
       "      <td>141.0</td>\n",
       "      <td>360.0</td>\n",
       "      <td>1.0</td>\n",
       "      <td>Urban</td>\n",
       "      <td>Y</td>\n",
       "    </tr>\n",
       "    <tr>\n",
       "      <th>...</th>\n",
       "      <td>...</td>\n",
       "      <td>...</td>\n",
       "      <td>...</td>\n",
       "      <td>...</td>\n",
       "      <td>...</td>\n",
       "      <td>...</td>\n",
       "      <td>...</td>\n",
       "      <td>...</td>\n",
       "      <td>...</td>\n",
       "      <td>...</td>\n",
       "      <td>...</td>\n",
       "      <td>...</td>\n",
       "    </tr>\n",
       "    <tr>\n",
       "      <th>626</th>\n",
       "      <td>LP001028</td>\n",
       "      <td>Male</td>\n",
       "      <td>Yes</td>\n",
       "      <td>2</td>\n",
       "      <td>Graduate</td>\n",
       "      <td>No</td>\n",
       "      <td>8106.0</td>\n",
       "      <td>200.0</td>\n",
       "      <td>360.0</td>\n",
       "      <td>1.0</td>\n",
       "      <td>Urban</td>\n",
       "      <td>Y</td>\n",
       "    </tr>\n",
       "    <tr>\n",
       "      <th>627</th>\n",
       "      <td>LP001029</td>\n",
       "      <td>Male</td>\n",
       "      <td>No</td>\n",
       "      <td>0</td>\n",
       "      <td>Graduate</td>\n",
       "      <td>No</td>\n",
       "      <td>2840.0</td>\n",
       "      <td>114.0</td>\n",
       "      <td>360.0</td>\n",
       "      <td>1.0</td>\n",
       "      <td>Rural</td>\n",
       "      <td>N</td>\n",
       "    </tr>\n",
       "    <tr>\n",
       "      <th>628</th>\n",
       "      <td>LP001030</td>\n",
       "      <td>Male</td>\n",
       "      <td>Yes</td>\n",
       "      <td>2</td>\n",
       "      <td>Graduate</td>\n",
       "      <td>No</td>\n",
       "      <td>1086.0</td>\n",
       "      <td>17.0</td>\n",
       "      <td>120.0</td>\n",
       "      <td>1.0</td>\n",
       "      <td>Urban</td>\n",
       "      <td>Y</td>\n",
       "    </tr>\n",
       "    <tr>\n",
       "      <th>629</th>\n",
       "      <td>LP001032</td>\n",
       "      <td>Male</td>\n",
       "      <td>No</td>\n",
       "      <td>0</td>\n",
       "      <td>Graduate</td>\n",
       "      <td>No</td>\n",
       "      <td>0.0</td>\n",
       "      <td>125.0</td>\n",
       "      <td>360.0</td>\n",
       "      <td>1.0</td>\n",
       "      <td>Urban</td>\n",
       "      <td>Y</td>\n",
       "    </tr>\n",
       "    <tr>\n",
       "      <th>630</th>\n",
       "      <td>LP001034</td>\n",
       "      <td>Male</td>\n",
       "      <td>No</td>\n",
       "      <td>1</td>\n",
       "      <td>Not Graduate</td>\n",
       "      <td>No</td>\n",
       "      <td>0.0</td>\n",
       "      <td>100.0</td>\n",
       "      <td>240.0</td>\n",
       "      <td>NaN</td>\n",
       "      <td>Urban</td>\n",
       "      <td>Y</td>\n",
       "    </tr>\n",
       "  </tbody>\n",
       "</table>\n",
       "<p>631 rows × 12 columns</p>\n",
       "</div>"
      ],
      "text/plain": [
       "      Loan_ID Gender Married Dependents     Education Self_Employed  \\\n",
       "0    LP001002   Male      No          0      Graduate            No   \n",
       "1    LP001003   Male     Yes          1      Graduate            No   \n",
       "2    LP001005   Male     Yes          0      Graduate           Yes   \n",
       "3    LP001006   Male     Yes          0  Not Graduate            No   \n",
       "4    LP001008   Male      No          0      Graduate            No   \n",
       "..        ...    ...     ...        ...           ...           ...   \n",
       "626  LP001028   Male     Yes          2      Graduate            No   \n",
       "627  LP001029   Male      No          0      Graduate            No   \n",
       "628  LP001030   Male     Yes          2      Graduate            No   \n",
       "629  LP001032   Male      No          0      Graduate            No   \n",
       "630  LP001034   Male      No          1  Not Graduate            No   \n",
       "\n",
       "     CoapplicantIncome  LoanAmount  Loan_Amount_Term  Credit_History  \\\n",
       "0                  0.0         NaN             360.0             1.0   \n",
       "1               1508.0       128.0             360.0             1.0   \n",
       "2                  0.0        66.0             360.0             1.0   \n",
       "3               2358.0       120.0             360.0             1.0   \n",
       "4                  0.0       141.0             360.0             1.0   \n",
       "..                 ...         ...               ...             ...   \n",
       "626             8106.0       200.0             360.0             1.0   \n",
       "627             2840.0       114.0             360.0             1.0   \n",
       "628             1086.0        17.0             120.0             1.0   \n",
       "629                0.0       125.0             360.0             1.0   \n",
       "630                0.0       100.0             240.0             NaN   \n",
       "\n",
       "    Property_Area Loan_Status  \n",
       "0           Urban           Y  \n",
       "1           Rural           N  \n",
       "2           Urban           Y  \n",
       "3           Urban           Y  \n",
       "4           Urban           Y  \n",
       "..            ...         ...  \n",
       "626         Urban           Y  \n",
       "627         Rural           N  \n",
       "628         Urban           Y  \n",
       "629         Urban           Y  \n",
       "630         Urban           Y  \n",
       "\n",
       "[631 rows x 12 columns]"
      ]
     },
     "execution_count": 11,
     "metadata": {},
     "output_type": "execute_result"
    }
   ],
   "source": [
    "feature_engineering.drop_features(df,[\"ApplicantIncome\"])"
   ]
  },
  {
   "cell_type": "code",
   "execution_count": 10,
   "id": "909394e3",
   "metadata": {},
   "outputs": [],
   "source": [
    "from custom_pkg_dmo.package1 import arithmetic as arith\n",
    "from custom_pkg_dmo.package2 import bitcompare as bits\n",
    "from custom_pkg_dmo.package2 import comparison as comp"
   ]
  },
  {
   "cell_type": "code",
   "execution_count": 11,
   "id": "a39de932",
   "metadata": {},
   "outputs": [
    {
     "data": {
      "text/plain": [
       "14557"
      ]
     },
     "execution_count": 11,
     "metadata": {},
     "output_type": "execute_result"
    }
   ],
   "source": [
    "arith.myadd(12234,2323)"
   ]
  },
  {
   "cell_type": "code",
   "execution_count": null,
   "id": "b8bfe7cb",
   "metadata": {},
   "outputs": [],
   "source": []
  },
  {
   "cell_type": "code",
   "execution_count": null,
   "id": "d262e428",
   "metadata": {},
   "outputs": [],
   "source": []
  },
  {
   "cell_type": "code",
   "execution_count": 12,
   "id": "d58fc893",
   "metadata": {},
   "outputs": [],
   "source": [
    "import sys\n",
    "#sys.path.append('C:/Users/Zee Tech/AppData/Local/Programs/Python/Python39/Scripts/custom_package')"
   ]
  },
  {
   "cell_type": "code",
   "execution_count": 2,
   "id": "5fc4e75b",
   "metadata": {},
   "outputs": [],
   "source": [
    "import module1 as m1\n",
    "import pandas as pd\n",
    "import seaborn as sns\n",
    "import numpy as np\n",
    "import matplotlib.pyplot as plt"
   ]
  },
  {
   "cell_type": "code",
   "execution_count": 3,
   "id": "9177efff",
   "metadata": {},
   "outputs": [],
   "source": [
    "df=pd.read_csv('LoanDatasets.csv')"
   ]
  },
  {
   "cell_type": "code",
   "execution_count": 7,
   "id": "fe9a658b",
   "metadata": {},
   "outputs": [
    {
     "name": "stderr",
     "output_type": "stream",
     "text": [
      "c:\\users\\zee tech\\appdata\\local\\programs\\python\\python39\\lib\\site-packages\\seaborn\\_decorators.py:36: FutureWarning: Pass the following variables as keyword args: x, y. From version 0.12, the only valid positional argument will be `data`, and passing other arguments without an explicit keyword will result in an error or misinterpretation.\n",
      "  warnings.warn(\n"
     ]
    },
    {
     "data": {
      "image/png": "[encoded data removed]",
      "text/plain": [
       "<Figure size 432x288 with 1 Axes>"
      ]
     },
     "metadata": {
      "needs_background": "light"
     },
     "output_type": "display_data"
    }
   ],
   "source": [
    "m1.null_summary(df)"
   ]
  },
  {
   "cell_type": "code",
   "execution_count": 8,
   "id": "d2e07528",
   "metadata": {},
   "outputs": [],
   "source": [
    "import imp"
   ]
  },
  {
   "cell_type": "code",
   "execution_count": 9,
   "id": "9b1ad8e1",
   "metadata": {},
   "outputs": [
    {
     "ename": "NameError",
     "evalue": "name 'module1' is not defined",
     "output_type": "error",
     "traceback": [
      "\u001b[1;31m---------------------------------------------------------------------------\u001b[0m",
      "\u001b[1;31mNameError\u001b[0m                                 Traceback (most recent call last)",
      "\u001b[1;32m<ipython-input-9-f1cffdf4ecf0>\u001b[0m in \u001b[0;36m<module>\u001b[1;34m\u001b[0m\n\u001b[1;32m----> 1\u001b[1;33m \u001b[0mimp\u001b[0m\u001b[1;33m.\u001b[0m\u001b[0mreload\u001b[0m\u001b[1;33m(\u001b[0m\u001b[0mmodule1\u001b[0m\u001b[1;33m)\u001b[0m\u001b[1;33m\u001b[0m\u001b[1;33m\u001b[0m\u001b[0m\n\u001b[0m",
      "\u001b[1;31mNameError\u001b[0m: name 'module1' is not defined"
     ]
    }
   ],
   "source": [
    "imp.reload(module1)"
   ]
  },
  {
   "cell_type": "code",
   "execution_count": 10,
   "id": "ca4fb3ab",
   "metadata": {},
   "outputs": [
    {
     "name": "stderr",
     "output_type": "stream",
     "text": [
      "c:\\users\\zee tech\\appdata\\local\\programs\\python\\python39\\lib\\site-packages\\seaborn\\_decorators.py:36: FutureWarning: Pass the following variable as a keyword arg: x. From version 0.12, the only valid positional argument will be `data`, and passing other arguments without an explicit keyword will result in an error or misinterpretation.\n",
      "  warnings.warn(\n"
     ]
    },
    {
     "data": {
      "text/plain": [
       "<AxesSubplot:ylabel='count'>"
      ]
     },
     "execution_count": 10,
     "metadata": {},
     "output_type": "execute_result"
    },
    {
     "data": {
      "image/png": "[encoded data removed]",
      "text/plain": [
       "<Figure size 432x288 with 1 Axes>"
      ]
     },
     "metadata": {
      "needs_background": "light"
     },
     "output_type": "display_data"
    }
   ],
   "source": [
    "sns.countplot(df.isnull().sum())"
   ]
  },
  {
   "cell_type": "code",
   "execution_count": 11,
   "id": "bd12c88d",
   "metadata": {},
   "outputs": [],
   "source": [
    "nulls=df.isnull().sum()"
   ]
  },
  {
   "cell_type": "code",
   "execution_count": 12,
   "id": "334afc63",
   "metadata": {},
   "outputs": [
    {
     "data": {
      "text/plain": [
       "pandas.core.series.Series"
      ]
     },
     "execution_count": 12,
     "metadata": {},
     "output_type": "execute_result"
    }
   ],
   "source": [
    "type(nulls)"
   ]
  },
  {
   "cell_type": "code",
   "execution_count": 13,
   "id": "c3c74b16",
   "metadata": {},
   "outputs": [
    {
     "data": {
      "text/plain": [
       "Index(['Loan_ID', 'Gender', 'Married', 'Dependents', 'Education',\n",
       "       'Self_Employed', 'ApplicantIncome', 'CoapplicantIncome', 'LoanAmount',\n",
       "       'Loan_Amount_Term', 'Credit_History', 'Property_Area', 'Loan_Status'],\n",
       "      dtype='object')"
      ]
     },
     "execution_count": 13,
     "metadata": {},
     "output_type": "execute_result"
    }
   ],
   "source": [
    "nulls.index"
   ]
  },
  {
   "cell_type": "code",
   "execution_count": 14,
   "id": "f77c3b6a",
   "metadata": {},
   "outputs": [
    {
     "data": {
      "text/plain": [
       "array([ 0, 13,  3, 15,  0, 33,  0,  0, 23, 14, 51,  0,  0], dtype=int64)"
      ]
     },
     "execution_count": 14,
     "metadata": {},
     "output_type": "execute_result"
    }
   ],
   "source": [
    "nulls.values"
   ]
  },
  {
   "cell_type": "code",
   "execution_count": 24,
   "id": "435577c2",
   "metadata": {},
   "outputs": [
    {
     "data": {
      "image/png": "[encoded data removed]",
      "text/plain": [
       "<Figure size 864x576 with 1 Axes>"
      ]
     },
     "metadata": {
      "needs_background": "light"
     },
     "output_type": "display_data"
    }
   ],
   "source": [
    "fig,ax = plt.subplots(figsize=(12,8))\n",
    "sns.barplot(x=nulls.values,y=nulls.index)\n",
    "for container in ax.containers:\n",
    "    ax.bar_label(container)\n",
    "ax.set(title=\"Summary of Null Values\")\n",
    "plt.show()"
   ]
  },
  {
   "cell_type": "code",
   "execution_count": 41,
   "id": "14a4f9f3",
   "metadata": {},
   "outputs": [],
   "source": [
    "def null_percent(data_frame,limit):\n",
    "    nulls_percent=data_frame.isnull().sum()/data_frame.shape[0]*100\n",
    "    return nulls_percent[nulls_percent<=limit]"
   ]
  },
  {
   "cell_type": "code",
   "execution_count": 42,
   "id": "68f79d6d",
   "metadata": {},
   "outputs": [
    {
     "data": {
      "text/plain": [
       "Loan_ID              0.000000\n",
       "Married              0.475436\n",
       "Education            0.000000\n",
       "ApplicantIncome      0.000000\n",
       "CoapplicantIncome    0.000000\n",
       "Property_Area        0.000000\n",
       "Loan_Status          0.000000\n",
       "dtype: float64"
      ]
     },
     "execution_count": 42,
     "metadata": {},
     "output_type": "execute_result"
    }
   ],
   "source": [
    "null_percent(df,2)"
   ]
  },
  {
   "cell_type": "code",
   "execution_count": 92,
   "id": "5586cf59",
   "metadata": {},
   "outputs": [],
   "source": [
    "def drop_features(data_frame,features,criteria=None,inplace=False):\n",
    "    if inplace==True and criteria==None:\n",
    "        return data_frame.drop(features,axis=1,inplace=True)\n",
    "    elif inplace==True and criteria==\"nan\":\n",
    "        nulls=data_frame.isnull().sum()/data_frame.shape[0]*100\n",
    "        return data_frame.drop(nulls[nulls>=30].index,axis=1,inplace=True)\n",
    "    elif inplace==False and criteria==None:\n",
    "        return data_frame.drop(features,axis=1)\n",
    "    else:\n",
    "        return data_frame.drop(features,axis=1)\n",
    "    "
   ]
  },
  {
   "cell_type": "code",
   "execution_count": 94,
   "id": "777e964b",
   "metadata": {},
   "outputs": [],
   "source": [
    "drop_features(df,[],inplace=True)"
   ]
  },
  {
   "cell_type": "code",
   "execution_count": 95,
   "id": "a54cac73",
   "metadata": {},
   "outputs": [
    {
     "ename": "IndentationError",
     "evalue": "expected an indented block (<ipython-input-95-4b7a1955895b>, line 1)",
     "output_type": "error",
     "traceback": [
      "\u001b[1;36m  File \u001b[1;32m\"<ipython-input-95-4b7a1955895b>\"\u001b[1;36m, line \u001b[1;32m1\u001b[0m\n\u001b[1;33m    def features_summary(df):\u001b[0m\n\u001b[1;37m                             ^\u001b[0m\n\u001b[1;31mIndentationError\u001b[0m\u001b[1;31m:\u001b[0m expected an indented block\n"
     ]
    }
   ],
   "source": [
    "def features_summary(df):"
   ]
  },
  {
   "cell_type": "code",
   "execution_count": 127,
   "id": "20ffa4f7",
   "metadata": {},
   "outputs": [],
   "source": [
    "# Function to perform all EDA\n",
    "def data_summary(df, name=\"\"):\n",
    "    # Printing basic detail of data like name, size, shape\n",
    "    print(f\"Data Summary\")\n",
    "    print(f\"Size {df.size}\")\n",
    "    print(f\"Features {df.shape[1]}\")\n",
    "    print(f\"Records {df.shape[0]}\")\n",
    "    print(\"=\"*100)\n",
    "\n",
    "    \n",
    "    # Getting Numerical and Categorical columns Separately\n",
    "    cat_cols = df.select_dtypes(np.object).columns\n",
    "    num_cols = df.select_dtypes(np.number).columns\n",
    "\n",
    "    # Printing the Numerical columns\n",
    "    print(\"Dataset has following Numerical columns...\")\n",
    "    for i, j in enumerate(num_cols):\n",
    "        print(f\" {i+1}) {j}\")\n",
    "    \n",
    "    print(\"=\"*100)\n",
    "    \n",
    "    # Printing the Categorical columns\n",
    "    print(\"Dataset has following Categorical columns...\")\n",
    "    for i, j in enumerate(cat_cols):\n",
    "        print(f\" {i+1}) {j}\")\n",
    "    \n",
    "    print(\"=\"*100)\n",
    "    \n",
    "    # Displaying statistical properties of data like mean, median, max, min\n",
    "    print(\"Statistical Properties of Data....\")\n",
    "    display(df.describe(include=\"all\"))\n",
    "    print(\"=\"*100)\n",
    "    \n",
    "    # Displaying correlation of numerical features\n",
    "    corr = df.corr(method=\"kendall\").style.background_gradient(\"YlOrRd_r\")\n",
    "    print(\"Correlation of Numerical features....\")\n",
    "    display(corr)\n",
    "    \n"
   ]
  },
  {
   "cell_type": "code",
   "execution_count": 128,
   "id": "0a3795fe",
   "metadata": {},
   "outputs": [
    {
     "name": "stdout",
     "output_type": "stream",
     "text": [
      "Data Summary\n",
      "Size 6941\n",
      "Features 11\n",
      "Records 631\n",
      "====================================================================================================\n",
      "Dataset has following Numerical columns...\n",
      " 1) ApplicantIncome\n",
      " 2) CoapplicantIncome\n",
      " 3) LoanAmount\n",
      " 4) Loan_Amount_Term\n",
      " 5) Credit_History\n",
      "====================================================================================================\n",
      "Dataset has following Categorical columns...\n",
      " 1) Loan_ID\n",
      " 2) Married\n",
      " 3) Dependents\n",
      " 4) Self_Employed\n",
      " 5) Property_Area\n",
      " 6) Loan_Status\n",
      "====================================================================================================\n",
      "Statistical Properties of Data....\n"
     ]
    },
    {
     "data": {
      "text/html": [
       "<div>\n",
       "<style scoped>\n",
       "    .dataframe tbody tr th:only-of-type {\n",
       "        vertical-align: middle;\n",
       "    }\n",
       "\n",
       "    .dataframe tbody tr th {\n",
       "        vertical-align: top;\n",
       "    }\n",
       "\n",
       "    .dataframe thead th {\n",
       "        text-align: right;\n",
       "    }\n",
       "</style>\n",
       "<table border=\"1\" class=\"dataframe\">\n",
       "  <thead>\n",
       "    <tr style=\"text-align: right;\">\n",
       "      <th></th>\n",
       "      <th>Loan_ID</th>\n",
       "      <th>Married</th>\n",
       "      <th>Dependents</th>\n",
       "      <th>Self_Employed</th>\n",
       "      <th>ApplicantIncome</th>\n",
       "      <th>CoapplicantIncome</th>\n",
       "      <th>LoanAmount</th>\n",
       "      <th>Loan_Amount_Term</th>\n",
       "      <th>Credit_History</th>\n",
       "      <th>Property_Area</th>\n",
       "      <th>Loan_Status</th>\n",
       "    </tr>\n",
       "  </thead>\n",
       "  <tbody>\n",
       "    <tr>\n",
       "      <th>count</th>\n",
       "      <td>631</td>\n",
       "      <td>628</td>\n",
       "      <td>616</td>\n",
       "      <td>598</td>\n",
       "      <td>631.000000</td>\n",
       "      <td>631.000000</td>\n",
       "      <td>608.000000</td>\n",
       "      <td>617.000000</td>\n",
       "      <td>580.000000</td>\n",
       "      <td>631</td>\n",
       "      <td>631</td>\n",
       "    </tr>\n",
       "    <tr>\n",
       "      <th>unique</th>\n",
       "      <td>614</td>\n",
       "      <td>2</td>\n",
       "      <td>4</td>\n",
       "      <td>2</td>\n",
       "      <td>NaN</td>\n",
       "      <td>NaN</td>\n",
       "      <td>NaN</td>\n",
       "      <td>NaN</td>\n",
       "      <td>NaN</td>\n",
       "      <td>3</td>\n",
       "      <td>2</td>\n",
       "    </tr>\n",
       "    <tr>\n",
       "      <th>top</th>\n",
       "      <td>LP001020</td>\n",
       "      <td>Yes</td>\n",
       "      <td>0</td>\n",
       "      <td>No</td>\n",
       "      <td>NaN</td>\n",
       "      <td>NaN</td>\n",
       "      <td>NaN</td>\n",
       "      <td>NaN</td>\n",
       "      <td>NaN</td>\n",
       "      <td>Semiurban</td>\n",
       "      <td>Y</td>\n",
       "    </tr>\n",
       "    <tr>\n",
       "      <th>freq</th>\n",
       "      <td>2</td>\n",
       "      <td>410</td>\n",
       "      <td>352</td>\n",
       "      <td>514</td>\n",
       "      <td>NaN</td>\n",
       "      <td>NaN</td>\n",
       "      <td>NaN</td>\n",
       "      <td>NaN</td>\n",
       "      <td>NaN</td>\n",
       "      <td>235</td>\n",
       "      <td>435</td>\n",
       "    </tr>\n",
       "    <tr>\n",
       "      <th>mean</th>\n",
       "      <td>NaN</td>\n",
       "      <td>NaN</td>\n",
       "      <td>NaN</td>\n",
       "      <td>NaN</td>\n",
       "      <td>5369.006339</td>\n",
       "      <td>1639.608431</td>\n",
       "      <td>146.222039</td>\n",
       "      <td>341.912480</td>\n",
       "      <td>0.844828</td>\n",
       "      <td>NaN</td>\n",
       "      <td>NaN</td>\n",
       "    </tr>\n",
       "    <tr>\n",
       "      <th>std</th>\n",
       "      <td>NaN</td>\n",
       "      <td>NaN</td>\n",
       "      <td>NaN</td>\n",
       "      <td>NaN</td>\n",
       "      <td>6044.222376</td>\n",
       "      <td>2928.261812</td>\n",
       "      <td>85.391289</td>\n",
       "      <td>65.026259</td>\n",
       "      <td>0.362381</td>\n",
       "      <td>NaN</td>\n",
       "      <td>NaN</td>\n",
       "    </tr>\n",
       "    <tr>\n",
       "      <th>min</th>\n",
       "      <td>NaN</td>\n",
       "      <td>NaN</td>\n",
       "      <td>NaN</td>\n",
       "      <td>NaN</td>\n",
       "      <td>150.000000</td>\n",
       "      <td>0.000000</td>\n",
       "      <td>9.000000</td>\n",
       "      <td>12.000000</td>\n",
       "      <td>0.000000</td>\n",
       "      <td>NaN</td>\n",
       "      <td>NaN</td>\n",
       "    </tr>\n",
       "    <tr>\n",
       "      <th>25%</th>\n",
       "      <td>NaN</td>\n",
       "      <td>NaN</td>\n",
       "      <td>NaN</td>\n",
       "      <td>NaN</td>\n",
       "      <td>2875.500000</td>\n",
       "      <td>0.000000</td>\n",
       "      <td>100.000000</td>\n",
       "      <td>360.000000</td>\n",
       "      <td>1.000000</td>\n",
       "      <td>NaN</td>\n",
       "      <td>NaN</td>\n",
       "    </tr>\n",
       "    <tr>\n",
       "      <th>50%</th>\n",
       "      <td>NaN</td>\n",
       "      <td>NaN</td>\n",
       "      <td>NaN</td>\n",
       "      <td>NaN</td>\n",
       "      <td>3800.000000</td>\n",
       "      <td>1213.000000</td>\n",
       "      <td>127.500000</td>\n",
       "      <td>360.000000</td>\n",
       "      <td>1.000000</td>\n",
       "      <td>NaN</td>\n",
       "      <td>NaN</td>\n",
       "    </tr>\n",
       "    <tr>\n",
       "      <th>75%</th>\n",
       "      <td>NaN</td>\n",
       "      <td>NaN</td>\n",
       "      <td>NaN</td>\n",
       "      <td>NaN</td>\n",
       "      <td>5763.000000</td>\n",
       "      <td>2318.000000</td>\n",
       "      <td>168.000000</td>\n",
       "      <td>360.000000</td>\n",
       "      <td>1.000000</td>\n",
       "      <td>NaN</td>\n",
       "      <td>NaN</td>\n",
       "    </tr>\n",
       "    <tr>\n",
       "      <th>max</th>\n",
       "      <td>NaN</td>\n",
       "      <td>NaN</td>\n",
       "      <td>NaN</td>\n",
       "      <td>NaN</td>\n",
       "      <td>81000.000000</td>\n",
       "      <td>41667.000000</td>\n",
       "      <td>700.000000</td>\n",
       "      <td>480.000000</td>\n",
       "      <td>1.000000</td>\n",
       "      <td>NaN</td>\n",
       "      <td>NaN</td>\n",
       "    </tr>\n",
       "  </tbody>\n",
       "</table>\n",
       "</div>"
      ],
      "text/plain": [
       "         Loan_ID Married Dependents Self_Employed  ApplicantIncome  \\\n",
       "count        631     628        616           598       631.000000   \n",
       "unique       614       2          4             2              NaN   \n",
       "top     LP001020     Yes          0            No              NaN   \n",
       "freq           2     410        352           514              NaN   \n",
       "mean         NaN     NaN        NaN           NaN      5369.006339   \n",
       "std          NaN     NaN        NaN           NaN      6044.222376   \n",
       "min          NaN     NaN        NaN           NaN       150.000000   \n",
       "25%          NaN     NaN        NaN           NaN      2875.500000   \n",
       "50%          NaN     NaN        NaN           NaN      3800.000000   \n",
       "75%          NaN     NaN        NaN           NaN      5763.000000   \n",
       "max          NaN     NaN        NaN           NaN     81000.000000   \n",
       "\n",
       "        CoapplicantIncome  LoanAmount  Loan_Amount_Term  Credit_History  \\\n",
       "count          631.000000  608.000000        617.000000      580.000000   \n",
       "unique                NaN         NaN               NaN             NaN   \n",
       "top                   NaN         NaN               NaN             NaN   \n",
       "freq                  NaN         NaN               NaN             NaN   \n",
       "mean          1639.608431  146.222039        341.912480        0.844828   \n",
       "std           2928.261812   85.391289         65.026259        0.362381   \n",
       "min              0.000000    9.000000         12.000000        0.000000   \n",
       "25%              0.000000  100.000000        360.000000        1.000000   \n",
       "50%           1213.000000  127.500000        360.000000        1.000000   \n",
       "75%           2318.000000  168.000000        360.000000        1.000000   \n",
       "max          41667.000000  700.000000        480.000000        1.000000   \n",
       "\n",
       "       Property_Area Loan_Status  \n",
       "count            631         631  \n",
       "unique             3           2  \n",
       "top        Semiurban           Y  \n",
       "freq             235         435  \n",
       "mean             NaN         NaN  \n",
       "std              NaN         NaN  \n",
       "min              NaN         NaN  \n",
       "25%              NaN         NaN  \n",
       "50%              NaN         NaN  \n",
       "75%              NaN         NaN  \n",
       "max              NaN         NaN  "
      ]
     },
     "metadata": {},
     "output_type": "display_data"
    },
    {
     "name": "stdout",
     "output_type": "stream",
     "text": [
      "====================================================================================================\n",
      "Correlation of Numerical features....\n"
     ]
    },
    {
     "data": {
      "text/html": [
       "<style  type=\"text/css\" >\n",
       "#T_cc09b_row0_col0,#T_cc09b_row1_col1,#T_cc09b_row2_col2,#T_cc09b_row3_col3,#T_cc09b_row4_col4{\n",
       "            background-color:  #ffffcc;\n",
       "            color:  #000000;\n",
       "        }#T_cc09b_row0_col1,#T_cc09b_row0_col3,#T_cc09b_row1_col0,#T_cc09b_row1_col4,#T_cc09b_row2_col4,#T_cc09b_row4_col2{\n",
       "            background-color:  #800026;\n",
       "            color:  #f1f1f1;\n",
       "        }#T_cc09b_row0_col2{\n",
       "            background-color:  #fc4f2a;\n",
       "            color:  #000000;\n",
       "        }#T_cc09b_row0_col4{\n",
       "            background-color:  #930026;\n",
       "            color:  #f1f1f1;\n",
       "        }#T_cc09b_row1_col2{\n",
       "            background-color:  #d30f20;\n",
       "            color:  #f1f1f1;\n",
       "        }#T_cc09b_row1_col3{\n",
       "            background-color:  #880026;\n",
       "            color:  #f1f1f1;\n",
       "        }#T_cc09b_row2_col0{\n",
       "            background-color:  #fd883b;\n",
       "            color:  #000000;\n",
       "        }#T_cc09b_row2_col1{\n",
       "            background-color:  #f54026;\n",
       "            color:  #f1f1f1;\n",
       "        }#T_cc09b_row2_col3{\n",
       "            background-color:  #9f0026;\n",
       "            color:  #f1f1f1;\n",
       "        }#T_cc09b_row3_col0{\n",
       "            background-color:  #c90823;\n",
       "            color:  #f1f1f1;\n",
       "        }#T_cc09b_row3_col1{\n",
       "            background-color:  #ce0c22;\n",
       "            color:  #f1f1f1;\n",
       "        }#T_cc09b_row3_col2{\n",
       "            background-color:  #950026;\n",
       "            color:  #f1f1f1;\n",
       "        }#T_cc09b_row3_col4{\n",
       "            background-color:  #8a0026;\n",
       "            color:  #f1f1f1;\n",
       "        }#T_cc09b_row4_col0{\n",
       "            background-color:  #d7121f;\n",
       "            color:  #f1f1f1;\n",
       "        }#T_cc09b_row4_col1{\n",
       "            background-color:  #cd0b22;\n",
       "            color:  #f1f1f1;\n",
       "        }#T_cc09b_row4_col3{\n",
       "            background-color:  #910026;\n",
       "            color:  #f1f1f1;\n",
       "        }</style><table id=\"T_cc09b_\" ><thead>    <tr>        <th class=\"blank level0\" ></th>        <th class=\"col_heading level0 col0\" >ApplicantIncome</th>        <th class=\"col_heading level0 col1\" >CoapplicantIncome</th>        <th class=\"col_heading level0 col2\" >LoanAmount</th>        <th class=\"col_heading level0 col3\" >Loan_Amount_Term</th>        <th class=\"col_heading level0 col4\" >Credit_History</th>    </tr></thead><tbody>\n",
       "                <tr>\n",
       "                        <th id=\"T_cc09b_level0_row0\" class=\"row_heading level0 row0\" >ApplicantIncome</th>\n",
       "                        <td id=\"T_cc09b_row0_col0\" class=\"data row0 col0\" >1.000000</td>\n",
       "                        <td id=\"T_cc09b_row0_col1\" class=\"data row0 col1\" >-0.227468</td>\n",
       "                        <td id=\"T_cc09b_row0_col2\" class=\"data row0 col2\" >0.374156</td>\n",
       "                        <td id=\"T_cc09b_row0_col3\" class=\"data row0 col3\" >-0.025879</td>\n",
       "                        <td id=\"T_cc09b_row0_col4\" class=\"data row0 col4\" >0.034664</td>\n",
       "            </tr>\n",
       "            <tr>\n",
       "                        <th id=\"T_cc09b_level0_row1\" class=\"row_heading level0 row1\" >CoapplicantIncome</th>\n",
       "                        <td id=\"T_cc09b_row1_col0\" class=\"data row1 col0\" >-0.227468</td>\n",
       "                        <td id=\"T_cc09b_row1_col1\" class=\"data row1 col1\" >1.000000</td>\n",
       "                        <td id=\"T_cc09b_row1_col2\" class=\"data row1 col2\" >0.193762</td>\n",
       "                        <td id=\"T_cc09b_row1_col3\" class=\"data row1 col3\" >-0.006069</td>\n",
       "                        <td id=\"T_cc09b_row1_col4\" class=\"data row1 col4\" >-0.007487</td>\n",
       "            </tr>\n",
       "            <tr>\n",
       "                        <th id=\"T_cc09b_level0_row2\" class=\"row_heading level0 row2\" >LoanAmount</th>\n",
       "                        <td id=\"T_cc09b_row2_col0\" class=\"data row2 col0\" >0.374156</td>\n",
       "                        <td id=\"T_cc09b_row2_col1\" class=\"data row2 col1\" >0.193762</td>\n",
       "                        <td id=\"T_cc09b_row2_col2\" class=\"data row2 col2\" >1.000000</td>\n",
       "                        <td id=\"T_cc09b_row2_col3\" class=\"data row2 col3\" >0.041545</td>\n",
       "                        <td id=\"T_cc09b_row2_col4\" class=\"data row2 col4\" >-0.005159</td>\n",
       "            </tr>\n",
       "            <tr>\n",
       "                        <th id=\"T_cc09b_level0_row3\" class=\"row_heading level0 row3\" >Loan_Amount_Term</th>\n",
       "                        <td id=\"T_cc09b_row3_col0\" class=\"data row3 col0\" >-0.025879</td>\n",
       "                        <td id=\"T_cc09b_row3_col1\" class=\"data row3 col1\" >-0.006069</td>\n",
       "                        <td id=\"T_cc09b_row3_col2\" class=\"data row3 col2\" >0.041545</td>\n",
       "                        <td id=\"T_cc09b_row3_col3\" class=\"data row3 col3\" >1.000000</td>\n",
       "                        <td id=\"T_cc09b_row3_col4\" class=\"data row3 col4\" >0.014081</td>\n",
       "            </tr>\n",
       "            <tr>\n",
       "                        <th id=\"T_cc09b_level0_row4\" class=\"row_heading level0 row4\" >Credit_History</th>\n",
       "                        <td id=\"T_cc09b_row4_col0\" class=\"data row4 col0\" >0.034664</td>\n",
       "                        <td id=\"T_cc09b_row4_col1\" class=\"data row4 col1\" >-0.007487</td>\n",
       "                        <td id=\"T_cc09b_row4_col2\" class=\"data row4 col2\" >-0.005159</td>\n",
       "                        <td id=\"T_cc09b_row4_col3\" class=\"data row4 col3\" >0.014081</td>\n",
       "                        <td id=\"T_cc09b_row4_col4\" class=\"data row4 col4\" >1.000000</td>\n",
       "            </tr>\n",
       "    </tbody></table>"
      ],
      "text/plain": [
       "<pandas.io.formats.style.Styler at 0x18c7fd53820>"
      ]
     },
     "metadata": {},
     "output_type": "display_data"
    }
   ],
   "source": [
    "perform_eda(df)"
   ]
  },
  {
   "cell_type": "code",
   "execution_count": 61,
   "id": "52a2749c",
   "metadata": {},
   "outputs": [],
   "source": [
    "def features_summary(data_frame):\n",
    "    # Getting Numerical and Categorical columns Separately\n",
    "    num_cols = df.select_dtypes(np.number).columns\n",
    "    for feature_name in num_cols:\n",
    "        print(f\"Exploring {str(feature_name).upper()}........\")\n",
    "        print(f\"Mean of {feature_name}     : {data_frame[feature_name].mean()}\")\n",
    "        print(f\"Median of {feature_name}   : {data_frame[feature_name].median()}\")\n",
    "        print(f\"Mode of {feature_name}     : {data_frame[feature_name].mode()}\")\n",
    "        print(f\"Variance of {feature_name} : {data_frame[feature_name].var()}\")\n",
    "        print(f\"Skewness of {feature_name} : {data_frame[feature_name].skew()}\")\n",
    "        print(f\"Maximum of {feature_name}  : {data_frame[feature_name].max()}\")\n",
    "        print(f\"Minimum of {feature_name}  : {data_frame[feature_name].min()}\")\n",
    "        # Drawing plots\n",
    "        plt.figure(figsize=(17, 4))\n",
    "        fig=plt.figure(figsize=(17, 4))\n",
    "        plt.subplot(131)\n",
    "        sns.kdeplot(data_frame[feature_name])\n",
    "        #boxplots\n",
    "        plt.subplot(132)\n",
    "        sns.boxplot(data_frame[feature_name])\n",
    "  "
   ]
  },
  {
   "cell_type": "code",
   "execution_count": 62,
   "id": "c98f1cdc",
   "metadata": {},
   "outputs": [
    {
     "name": "stdout",
     "output_type": "stream",
     "text": [
      "Exploring APPLICANTINCOME........\n",
      "Mean of ApplicantIncome     : 5369.006339144215\n",
      "Median of ApplicantIncome   : 3800.0\n",
      "Mode of ApplicantIncome     : 0    2500\n",
      "dtype: int64\n",
      "Variance of ApplicantIncome : 36532624.130118474\n",
      "Skewness of ApplicantIncome : 6.587714782914286\n",
      "Maximum of ApplicantIncome  : 81000\n",
      "Minimum of ApplicantIncome  : 150\n",
      "Exploring COAPPLICANTINCOME........\n",
      "Mean of CoapplicantIncome     : 1639.6084310438032\n",
      "Median of CoapplicantIncome   : 1213.0\n",
      "Mode of CoapplicantIncome     : 0    0.0\n",
      "dtype: float64\n",
      "Variance of CoapplicantIncome : 8574717.241521861\n",
      "Skewness of CoapplicantIncome : 7.323773218437848\n",
      "Maximum of CoapplicantIncome  : 41667.0\n",
      "Minimum of CoapplicantIncome  : 0.0\n",
      "Exploring LOANAMOUNT........\n",
      "Mean of LoanAmount     : 146.22203947368422\n",
      "Median of LoanAmount   : 127.5\n",
      "Mode of LoanAmount     : 0    120.0\n",
      "dtype: float64\n",
      "Variance of LoanAmount : 7291.672198799097\n",
      "Skewness of LoanAmount : 2.649337841192837\n",
      "Maximum of LoanAmount  : 700.0\n",
      "Minimum of LoanAmount  : 9.0\n"
     ]
    },
    {
     "name": "stderr",
     "output_type": "stream",
     "text": [
      "c:\\users\\zee tech\\appdata\\local\\programs\\python\\python39\\lib\\site-packages\\seaborn\\_decorators.py:36: FutureWarning: Pass the following variable as a keyword arg: x. From version 0.12, the only valid positional argument will be `data`, and passing other arguments without an explicit keyword will result in an error or misinterpretation.\n",
      "  warnings.warn(\n",
      "c:\\users\\zee tech\\appdata\\local\\programs\\python\\python39\\lib\\site-packages\\seaborn\\_decorators.py:36: FutureWarning: Pass the following variable as a keyword arg: x. From version 0.12, the only valid positional argument will be `data`, and passing other arguments without an explicit keyword will result in an error or misinterpretation.\n",
      "  warnings.warn(\n",
      "c:\\users\\zee tech\\appdata\\local\\programs\\python\\python39\\lib\\site-packages\\seaborn\\_decorators.py:36: FutureWarning: Pass the following variable as a keyword arg: x. From version 0.12, the only valid positional argument will be `data`, and passing other arguments without an explicit keyword will result in an error or misinterpretation.\n",
      "  warnings.warn(\n"
     ]
    },
    {
     "name": "stdout",
     "output_type": "stream",
     "text": [
      "Exploring LOAN_AMOUNT_TERM........\n",
      "Mean of Loan_Amount_Term     : 341.91247974068074\n",
      "Median of Loan_Amount_Term   : 360.0\n",
      "Mode of Loan_Amount_Term     : 0    360.0\n",
      "dtype: float64\n",
      "Variance of Loan_Amount_Term : 4228.414405691554\n",
      "Skewness of Loan_Amount_Term : -2.373521591211365\n",
      "Maximum of Loan_Amount_Term  : 480.0\n",
      "Minimum of Loan_Amount_Term  : 12.0\n",
      "Exploring CREDIT_HISTORY........\n",
      "Mean of Credit_History     : 0.8448275862068966\n",
      "Median of Credit_History   : 1.0\n",
      "Mode of Credit_History     : 0    1.0\n",
      "dtype: float64\n",
      "Variance of Credit_History : 0.13132035018760052\n",
      "Skewness of Credit_History : -1.9097043476578266\n",
      "Maximum of Credit_History  : 1.0\n",
      "Minimum of Credit_History  : 0.0\n"
     ]
    },
    {
     "name": "stderr",
     "output_type": "stream",
     "text": [
      "c:\\users\\zee tech\\appdata\\local\\programs\\python\\python39\\lib\\site-packages\\seaborn\\_decorators.py:36: FutureWarning: Pass the following variable as a keyword arg: x. From version 0.12, the only valid positional argument will be `data`, and passing other arguments without an explicit keyword will result in an error or misinterpretation.\n",
      "  warnings.warn(\n",
      "c:\\users\\zee tech\\appdata\\local\\programs\\python\\python39\\lib\\site-packages\\seaborn\\_decorators.py:36: FutureWarning: Pass the following variable as a keyword arg: x. From version 0.12, the only valid positional argument will be `data`, and passing other arguments without an explicit keyword will result in an error or misinterpretation.\n",
      "  warnings.warn(\n"
     ]
    },
    {
     "data": {
      "text/plain": [
       "<Figure size 1224x288 with 0 Axes>"
      ]
     },
     "metadata": {},
     "output_type": "display_data"
    },
    {
     "data": {
      "image/png": "[encoded data removed]",
      "text/plain": [
       "<Figure size 1224x288 with 2 Axes>"
      ]
     },
     "metadata": {
      "needs_background": "light"
     },
     "output_type": "display_data"
    },
    {
     "data": {
      "text/plain": [
       "<Figure size 1224x288 with 0 Axes>"
      ]
     },
     "metadata": {},
     "output_type": "display_data"
    },
    {
     "data": {
      "image/png": "[encoded data removed]",
      "text/plain": [
       "<Figure size 1224x288 with 2 Axes>"
      ]
     },
     "metadata": {
      "needs_background": "light"
     },
     "output_type": "display_data"
    },
    {
     "data": {
      "text/plain": [
       "<Figure size 1224x288 with 0 Axes>"
      ]
     },
     "metadata": {},
     "output_type": "display_data"
    },
    {
     "data": {
      "image/png": "[encoded data removed]",
      "text/plain": [
       "<Figure size 1224x288 with 2 Axes>"
      ]
     },
     "metadata": {
      "needs_background": "light"
     },
     "output_type": "display_data"
    },
    {
     "data": {
      "text/plain": [
       "<Figure size 1224x288 with 0 Axes>"
      ]
     },
     "metadata": {},
     "output_type": "display_data"
    },
    {
     "data": {
      "image/png": "[encoded data removed]",
      "text/plain": [
       "<Figure size 1224x288 with 2 Axes>"
      ]
     },
     "metadata": {
      "needs_background": "light"
     },
     "output_type": "display_data"
    },
    {
     "data": {
      "text/plain": [
       "<Figure size 1224x288 with 0 Axes>"
      ]
     },
     "metadata": {},
     "output_type": "display_data"
    },
    {
     "data": {
      "image/png": "[encoded data removed]",
      "text/plain": [
       "<Figure size 1224x288 with 2 Axes>"
      ]
     },
     "metadata": {
      "needs_background": "light"
     },
     "output_type": "display_data"
    }
   ],
   "source": [
    "features_summary(df)"
   ]
  },
  {
   "cell_type": "code",
   "execution_count": 39,
   "id": "6c8824b7",
   "metadata": {},
   "outputs": [],
   "source": [
    "# Function to explore continous features\n",
    "def explore_feature(feature_name):\n",
    "    # Printing details\n",
    "    print(f\"Exploring {str(feature_name).upper()}........\")\n",
    "    print(f\"Mean of {feature_name}     : {df[feature_name].mean()}\")\n",
    "    print(f\"Median of {feature_name}   : {df[feature_name].median()}\")\n",
    "    print(f\"Mode of {feature_name}     : {df[feature_name].mode()}\")\n",
    "    print(f\"Variance of {feature_name} : {df[feature_name].var()}\")\n",
    "    print(f\"Skewness of {feature_name} : {df[feature_name].skew()}\")\n",
    "    print(f\"Maximum of {feature_name}  : {df[feature_name].max()}\")\n",
    "    print(f\"Minimum of {feature_name}  : {df[feature_name].min()}\")\n",
    "    \n",
    "    # Drawing plots\n",
    "    plt.figure(figsize=(17, 4))\n",
    "    fig=plt.figure(figsize=(17, 4))\n",
    "    plt.subplot(131)\n",
    "    sns.kdeplot(df[feature_name])\n",
    "    \n",
    "    #boxplots\n",
    "    plt.subplot(132)\n",
    "    sns.boxplot(df[feature_name])"
   ]
  },
  {
   "cell_type": "code",
   "execution_count": 40,
   "id": "c8840fe2",
   "metadata": {},
   "outputs": [
    {
     "name": "stdout",
     "output_type": "stream",
     "text": [
      "Exploring APPLICANTINCOME........\n",
      "Mean of ApplicantIncome     : 5369.006339144215\n",
      "Median of ApplicantIncome   : 3800.0\n",
      "Mode of ApplicantIncome     : 0    2500\n",
      "dtype: int64\n",
      "Variance of ApplicantIncome : 36532624.130118474\n",
      "Skewness of ApplicantIncome : 6.587714782914286\n",
      "Maximum of ApplicantIncome  : 81000\n",
      "Minimum of ApplicantIncome  : 150\n"
     ]
    },
    {
     "name": "stderr",
     "output_type": "stream",
     "text": [
      "c:\\users\\zee tech\\appdata\\local\\programs\\python\\python39\\lib\\site-packages\\seaborn\\_decorators.py:36: FutureWarning: Pass the following variable as a keyword arg: x. From version 0.12, the only valid positional argument will be `data`, and passing other arguments without an explicit keyword will result in an error or misinterpretation.\n",
      "  warnings.warn(\n"
     ]
    },
    {
     "data": {
      "text/plain": [
       "<Figure size 1224x288 with 0 Axes>"
      ]
     },
     "metadata": {},
     "output_type": "display_data"
    },
    {
     "data": {
      "image/png": "[encoded data removed]",
      "text/plain": [
       "<Figure size 1224x288 with 2 Axes>"
      ]
     },
     "metadata": {
      "needs_background": "light"
     },
     "output_type": "display_data"
    }
   ],
   "source": [
    "explore_feature(\"ApplicantIncome\")"
   ]
  },
  {
   "cell_type": "code",
   "execution_count": 16,
   "id": "81d5ff49",
   "metadata": {},
   "outputs": [],
   "source": [
    "def features_summary(data_frame):\n",
    "    # Getting Numerical and Categorical columns Separately\n",
    "    num_cols = data_frame.select_dtypes(np.number).columns\n",
    "    for feature_name in num_cols:\n",
    "        print(f\"Exploring {str(feature_name).upper()}........\")\n",
    "        print(f\"Mean of {feature_name}     : {data_frame[feature_name].mean()}\")\n",
    "        print(f\"Median of {feature_name}   : {data_frame[feature_name].median()}\")\n",
    "        print(f\"Mode of {feature_name}     : {data_frame[feature_name].mode()}\")\n",
    "        print(f\"Variance of {feature_name} : {data_frame[feature_name].var()}\")\n",
    "        print(f\"Skewness of {feature_name} : {data_frame[feature_name].skew()}\")\n",
    "        print(f\"Maximum of {feature_name}  : {data_frame[feature_name].max()}\")\n",
    "        print(f\"Minimum of {feature_name}  : {data_frame[feature_name].min()}\")\n",
    "        # Drawing plots\n",
    "        plt.figure(figsize=(17, 4))\n",
    "        fig=plt.figure(figsize=(17, 4))\n",
    "        plt.subplot(131)\n",
    "        sns.kdeplot(data_frame[feature_name])\n",
    "        #boxplots\n",
    "        plt.subplot(132)\n",
    "        sns.boxplot(data_frame[feature_name])"
   ]
  },
  {
   "cell_type": "code",
   "execution_count": 17,
   "id": "22144726",
   "metadata": {},
   "outputs": [
    {
     "name": "stdout",
     "output_type": "stream",
     "text": [
      "Exploring APPLICANTINCOME........\n",
      "Mean of ApplicantIncome     : 5369.006339144215\n",
      "Median of ApplicantIncome   : 3800.0\n",
      "Mode of ApplicantIncome     : 0    2500\n",
      "dtype: int64\n",
      "Variance of ApplicantIncome : 36532624.130118474\n",
      "Skewness of ApplicantIncome : 6.587714782914286\n",
      "Maximum of ApplicantIncome  : 81000\n",
      "Minimum of ApplicantIncome  : 150\n"
     ]
    },
    {
     "name": "stderr",
     "output_type": "stream",
     "text": [
      "c:\\users\\zee tech\\appdata\\local\\programs\\python\\python39\\lib\\site-packages\\seaborn\\_decorators.py:36: FutureWarning: Pass the following variable as a keyword arg: x. From version 0.12, the only valid positional argument will be `data`, and passing other arguments without an explicit keyword will result in an error or misinterpretation.\n",
      "  warnings.warn(\n",
      "c:\\users\\zee tech\\appdata\\local\\programs\\python\\python39\\lib\\site-packages\\seaborn\\_decorators.py:36: FutureWarning: Pass the following variable as a keyword arg: x. From version 0.12, the only valid positional argument will be `data`, and passing other arguments without an explicit keyword will result in an error or misinterpretation.\n",
      "  warnings.warn(\n",
      "c:\\users\\zee tech\\appdata\\local\\programs\\python\\python39\\lib\\site-packages\\seaborn\\_decorators.py:36: FutureWarning: Pass the following variable as a keyword arg: x. From version 0.12, the only valid positional argument will be `data`, and passing other arguments without an explicit keyword will result in an error or misinterpretation.\n",
      "  warnings.warn(\n"
     ]
    },
    {
     "name": "stdout",
     "output_type": "stream",
     "text": [
      "Exploring COAPPLICANTINCOME........\n",
      "Mean of CoapplicantIncome     : 1639.6084310438032\n",
      "Median of CoapplicantIncome   : 1213.0\n",
      "Mode of CoapplicantIncome     : 0    0.0\n",
      "dtype: float64\n",
      "Variance of CoapplicantIncome : 8574717.241521861\n",
      "Skewness of CoapplicantIncome : 7.323773218437848\n",
      "Maximum of CoapplicantIncome  : 41667.0\n",
      "Minimum of CoapplicantIncome  : 0.0\n",
      "Exploring LOANAMOUNT........\n",
      "Mean of LoanAmount     : 146.22203947368422\n",
      "Median of LoanAmount   : 127.5\n",
      "Mode of LoanAmount     : 0    120.0\n",
      "dtype: float64\n",
      "Variance of LoanAmount : 7291.672198799097\n",
      "Skewness of LoanAmount : 2.649337841192837\n",
      "Maximum of LoanAmount  : 700.0\n",
      "Minimum of LoanAmount  : 9.0\n",
      "Exploring LOAN_AMOUNT_TERM........\n",
      "Mean of Loan_Amount_Term     : 341.91247974068074\n",
      "Median of Loan_Amount_Term   : 360.0\n",
      "Mode of Loan_Amount_Term     : 0    360.0\n",
      "dtype: float64\n",
      "Variance of Loan_Amount_Term : 4228.414405691554\n",
      "Skewness of Loan_Amount_Term : -2.373521591211365\n",
      "Maximum of Loan_Amount_Term  : 480.0\n",
      "Minimum of Loan_Amount_Term  : 12.0\n",
      "Exploring CREDIT_HISTORY........\n",
      "Mean of Credit_History     : 0.8448275862068966\n",
      "Median of Credit_History   : 1.0\n",
      "Mode of Credit_History     : 0    1.0\n",
      "dtype: float64\n",
      "Variance of Credit_History : 0.13132035018760052\n",
      "Skewness of Credit_History : -1.9097043476578266\n",
      "Maximum of Credit_History  : 1.0\n",
      "Minimum of Credit_History  : 0.0\n"
     ]
    },
    {
     "name": "stderr",
     "output_type": "stream",
     "text": [
      "c:\\users\\zee tech\\appdata\\local\\programs\\python\\python39\\lib\\site-packages\\seaborn\\_decorators.py:36: FutureWarning: Pass the following variable as a keyword arg: x. From version 0.12, the only valid positional argument will be `data`, and passing other arguments without an explicit keyword will result in an error or misinterpretation.\n",
      "  warnings.warn(\n",
      "c:\\users\\zee tech\\appdata\\local\\programs\\python\\python39\\lib\\site-packages\\seaborn\\_decorators.py:36: FutureWarning: Pass the following variable as a keyword arg: x. From version 0.12, the only valid positional argument will be `data`, and passing other arguments without an explicit keyword will result in an error or misinterpretation.\n",
      "  warnings.warn(\n"
     ]
    },
    {
     "data": {
      "text/plain": [
       "<Figure size 1224x288 with 0 Axes>"
      ]
     },
     "metadata": {},
     "output_type": "display_data"
    },
    {
     "data": {
      "image/png": "[encoded data removed]",
      "text/plain": [
       "<Figure size 1224x288 with 2 Axes>"
      ]
     },
     "metadata": {
      "needs_background": "light"
     },
     "output_type": "display_data"
    },
    {
     "data": {
      "text/plain": [
       "<Figure size 1224x288 with 0 Axes>"
      ]
     },
     "metadata": {},
     "output_type": "display_data"
    },
    {
     "data": {
      "image/png": "[encoded data removed]",
      "text/plain": [
       "<Figure size 1224x288 with 2 Axes>"
      ]
     },
     "metadata": {
      "needs_background": "light"
     },
     "output_type": "display_data"
    },
    {
     "data": {
      "text/plain": [
       "<Figure size 1224x288 with 0 Axes>"
      ]
     },
     "metadata": {},
     "output_type": "display_data"
    },
    {
     "data": {
      "image/png": "[encoded data removed]",
      "text/plain": [
       "<Figure size 1224x288 with 2 Axes>"
      ]
     },
     "metadata": {
      "needs_background": "light"
     },
     "output_type": "display_data"
    },
    {
     "data": {
      "text/plain": [
       "<Figure size 1224x288 with 0 Axes>"
      ]
     },
     "metadata": {},
     "output_type": "display_data"
    },
    {
     "data": {
      "image/png": "[encoded data removed]",
      "text/plain": [
       "<Figure size 1224x288 with 2 Axes>"
      ]
     },
     "metadata": {
      "needs_background": "light"
     },
     "output_type": "display_data"
    },
    {
     "data": {
      "text/plain": [
       "<Figure size 1224x288 with 0 Axes>"
      ]
     },
     "metadata": {},
     "output_type": "display_data"
    },
    {
     "data": {
      "image/png": "[encoded data removed]",
      "text/plain": [
       "<Figure size 1224x288 with 2 Axes>"
      ]
     },
     "metadata": {
      "needs_background": "light"
     },
     "output_type": "display_data"
    }
   ],
   "source": [
    "features_summary(df)"
   ]
  },
  {
   "cell_type": "code",
   "execution_count": 21,
   "id": "82d74980",
   "metadata": {},
   "outputs": [],
   "source": [
    "def null_percent(data_frame,limit):\n",
    "    '''\n",
    "    this function returns the feature that contains percentage \n",
    "    of null values greater than equal to limit\n",
    "    '''\n",
    "    nulls_percent=data_frame.isnull().sum()/data_frame.shape[0]*100\n",
    "    return nulls_percent[nulls_percent>=limit]"
   ]
  },
  {
   "cell_type": "code",
   "execution_count": 22,
   "id": "18cacf21",
   "metadata": {},
   "outputs": [
    {
     "data": {
      "text/plain": [
       "Gender              2.060222\n",
       "Dependents          2.377179\n",
       "Self_Employed       5.229794\n",
       "LoanAmount          3.645008\n",
       "Loan_Amount_Term    2.218700\n",
       "Credit_History      8.082409\n",
       "dtype: float64"
      ]
     },
     "execution_count": 22,
     "metadata": {},
     "output_type": "execute_result"
    }
   ],
   "source": [
    "null_percent(df,2)"
   ]
  },
  {
   "cell_type": "code",
   "execution_count": 23,
   "id": "421f406f",
   "metadata": {},
   "outputs": [],
   "source": [
    "import eda"
   ]
  },
  {
   "cell_type": "code",
   "execution_count": 26,
   "id": "7bab06ba",
   "metadata": {},
   "outputs": [
    {
     "data": {
      "text/plain": [
       "Gender              2.060222\n",
       "Dependents          2.377179\n",
       "Self_Employed       5.229794\n",
       "LoanAmount          3.645008\n",
       "Loan_Amount_Term    2.218700\n",
       "Credit_History      8.082409\n",
       "dtype: float64"
      ]
     },
     "execution_count": 26,
     "metadata": {},
     "output_type": "execute_result"
    }
   ],
   "source": [
    "eda.null_percent(df,2)"
   ]
  },
  {
   "cell_type": "code",
   "execution_count": null,
   "id": "8733e0dd",
   "metadata": {},
   "outputs": [],
   "source": []
  }
 ],
 "metadata": {
  "kernelspec": {
   "display_name": "Python 3",
   "language": "python",
   "name": "python3"
  },
  "language_info": {
   "codemirror_mode": {
    "name": "ipython",
    "version": 3
   },
   "file_extension": ".py",
   "mimetype": "text/x-python",
   "name": "python",
   "nbconvert_exporter": "python",
   "pygments_lexer": "ipython3",
   "version": "3.9.5"
  }
 },
 "nbformat": 4,
 "nbformat_minor": 5
}
