{
 "cells": [
  {
   "cell_type": "code",
   "execution_count": null,
   "id": "b5a4755c",
   "metadata": {},
   "outputs": [],
   "source": [
    "import pandas as pd\n",
    "import numpy as np\n",
    "import seaborn as sns\n",
    "import matplotlib.pyplot as plt"
   ]
  },
  {
   "cell_type": "code",
   "execution_count": null,
   "id": "528ae1d0",
   "metadata": {},
   "outputs": [],
   "source": [
    "df=pd.read_csv('bank-full.csv',delimiter=';')"
   ]
  },
  {
   "cell_type": "code",
   "execution_count": null,
   "id": "ec7d6ecf",
   "metadata": {},
   "outputs": [],
   "source": [
    "df"
   ]
  },
  {
   "cell_type": "code",
   "execution_count": null,
   "id": "bab64985",
   "metadata": {},
   "outputs": [],
   "source": [
    "df.select_dtypes(object).columns"
   ]
  },
  {
   "cell_type": "code",
   "execution_count": null,
   "id": "32b8ec09",
   "metadata": {},
   "outputs": [],
   "source": [
    "df.select_dtypes(np.number).columns"
   ]
  },
  {
   "cell_type": "code",
   "execution_count": null,
   "id": "3f9312da",
   "metadata": {},
   "outputs": [],
   "source": [
    "df.y.value_counts()"
   ]
  },
  {
   "cell_type": "code",
   "execution_count": null,
   "id": "f49efb9b",
   "metadata": {},
   "outputs": [],
   "source": [
    "df.columns"
   ]
  },
  {
   "cell_type": "code",
   "execution_count": null,
   "id": "626e64b4",
   "metadata": {},
   "outputs": [],
   "source": [
    "pd.crosstab(df['job'],df['y']).plot(kind='bar')"
   ]
  },
  {
   "cell_type": "code",
   "execution_count": null,
   "id": "8b62371e",
   "metadata": {},
   "outputs": [],
   "source": [
    "pd.crosstab(df['marital'],df['y']).plot(kind='bar')"
   ]
  },
  {
   "cell_type": "markdown",
   "id": "1a9deeb5",
   "metadata": {},
   "source": [
    "# Most Successful Month"
   ]
  },
  {
   "cell_type": "code",
   "execution_count": null,
   "id": "ccbc1a02",
   "metadata": {},
   "outputs": [],
   "source": [
    "df[df['y'].str.strip()=='yes']['month'].value_counts().plot()"
   ]
  },
  {
   "cell_type": "markdown",
   "id": "fbf9300c",
   "metadata": {},
   "source": [
    "# Un-successful Months"
   ]
  },
  {
   "cell_type": "code",
   "execution_count": null,
   "id": "e0ec48e4",
   "metadata": {},
   "outputs": [],
   "source": [
    "df[df['y'].str.strip()=='no']['month'].value_counts().plot()"
   ]
  },
  {
   "cell_type": "markdown",
   "id": "8739ba8b",
   "metadata": {},
   "source": [
    "# Most Successful Duration"
   ]
  },
  {
   "cell_type": "code",
   "execution_count": null,
   "id": "75871f8a",
   "metadata": {},
   "outputs": [],
   "source": [
    "df[df['y'].str.strip()=='yes']['duration'].value_counts()[0:10].plot(kind='barh',color='purple')"
   ]
  },
  {
   "cell_type": "markdown",
   "id": "66352a45",
   "metadata": {},
   "source": [
    "# Impact of Housing on Term Deposit by the Client"
   ]
  },
  {
   "cell_type": "code",
   "execution_count": null,
   "id": "f952e1b5",
   "metadata": {},
   "outputs": [],
   "source": [
    "pd.crosstab(df['housing'],df['y']).plot(kind='bar')"
   ]
  },
  {
   "cell_type": "code",
   "execution_count": null,
   "id": "acf1a36c",
   "metadata": {},
   "outputs": [],
   "source": [
    "pd.crosstab(df['marital'],df['poutcome']).plot(kind='bar',stacked=True)\n"
   ]
  },
  {
   "cell_type": "code",
   "execution_count": null,
   "id": "776a1526",
   "metadata": {},
   "outputs": [],
   "source": [
    "df.rename({'y':'term deposit'},axis=1,inplace=True)"
   ]
  },
  {
   "cell_type": "code",
   "execution_count": null,
   "id": "8c88dc4b",
   "metadata": {},
   "outputs": [],
   "source": [
    "# 11 pm est"
   ]
  },
  {
   "cell_type": "code",
   "execution_count": null,
   "id": "f5f66231",
   "metadata": {},
   "outputs": [],
   "source": [
    "pd.crosstab(df['campaign'],df['Term Deposit'])"
   ]
  },
  {
   "cell_type": "code",
   "execution_count": null,
   "id": "f38456a9",
   "metadata": {},
   "outputs": [],
   "source": [
    "df"
   ]
  },
  {
   "cell_type": "code",
   "execution_count": null,
   "id": "5b2c7b3d",
   "metadata": {},
   "outputs": [],
   "source": []
  },
  {
   "cell_type": "code",
   "execution_count": null,
   "id": "1b71b634",
   "metadata": {},
   "outputs": [],
   "source": []
  },
  {
   "cell_type": "code",
   "execution_count": null,
   "id": "ef1ac379",
   "metadata": {},
   "outputs": [],
   "source": [
    "sns.countplot(df[df['y'].str.strip()=='yes']['education'])"
   ]
  },
  {
   "cell_type": "code",
   "execution_count": null,
   "id": "a7c45811",
   "metadata": {},
   "outputs": [],
   "source": [
    "df[df['y'].str.strip()=='yes']['day'].value_counts().plot(kind='bar')"
   ]
  },
  {
   "cell_type": "code",
   "execution_count": null,
   "id": "88db6314",
   "metadata": {},
   "outputs": [],
   "source": [
    "df[df['y'].str.strip()=='no']['day'].value_counts().plot(kind='bar')"
   ]
  },
  {
   "cell_type": "code",
   "execution_count": null,
   "id": "3e5292e4",
   "metadata": {},
   "outputs": [],
   "source": [
    "df[df['y'].str.strip()=='yes']['month'].value_counts().plot(kind='bar')"
   ]
  },
  {
   "cell_type": "code",
   "execution_count": null,
   "id": "d3620d3f",
   "metadata": {},
   "outputs": [],
   "source": [
    "df[df['y'].str.strip()=='no']['month'].value_counts().plot(kind='bar')"
   ]
  },
  {
   "cell_type": "code",
   "execution_count": null,
   "id": "ab20283d",
   "metadata": {},
   "outputs": [],
   "source": [
    "df[['marital','education']].value_counts()"
   ]
  },
  {
   "cell_type": "code",
   "execution_count": null,
   "id": "51ba1422",
   "metadata": {},
   "outputs": [],
   "source": [
    "df.corr()"
   ]
  },
  {
   "cell_type": "code",
   "execution_count": null,
   "id": "a49a07f1",
   "metadata": {},
   "outputs": [],
   "source": []
  },
  {
   "cell_type": "markdown",
   "id": "27191228",
   "metadata": {},
   "source": [
    "> # Data Normalization"
   ]
  },
  {
   "cell_type": "code",
   "execution_count": null,
   "id": "9384b42d",
   "metadata": {},
   "outputs": [],
   "source": [
    "# Checking Values Distribution of Categorical features"
   ]
  },
  {
   "cell_type": "code",
   "execution_count": null,
   "id": "9efa8dec",
   "metadata": {},
   "outputs": [],
   "source": [
    "for cat_col in cat_cols:\n",
    "    print(f'{cat_col} === {df[[cat_col]].value_counts()}')\n",
    "    print('===============================================')"
   ]
  },
  {
   "cell_type": "markdown",
   "id": "7e365489",
   "metadata": {},
   "source": [
    "# Separating Dependent and Independent Features"
   ]
  },
  {
   "cell_type": "code",
   "execution_count": null,
   "id": "05a7ad25",
   "metadata": {},
   "outputs": [],
   "source": [
    "X=df.drop(['y'],axis=1)"
   ]
  },
  {
   "cell_type": "code",
   "execution_count": null,
   "id": "b90341eb",
   "metadata": {},
   "outputs": [],
   "source": [
    "y=df['y']"
   ]
  },
  {
   "cell_type": "code",
   "execution_count": null,
   "id": "c398360f",
   "metadata": {},
   "outputs": [],
   "source": [
    "X"
   ]
  },
  {
   "cell_type": "code",
   "execution_count": null,
   "id": "c30523d6",
   "metadata": {},
   "outputs": [],
   "source": [
    "y"
   ]
  },
  {
   "cell_type": "code",
   "execution_count": null,
   "id": "ef53a304",
   "metadata": {},
   "outputs": [],
   "source": [
    "num_cols=X.select_dtypes(np.number).columns    #selecting numerical features names"
   ]
  },
  {
   "cell_type": "code",
   "execution_count": null,
   "id": "e2ecec3f",
   "metadata": {},
   "outputs": [],
   "source": [
    "cat_cols=X.select_dtypes(object).columns       #selecting categorical feature names"
   ]
  },
  {
   "cell_type": "code",
   "execution_count": null,
   "id": "7a0f3485",
   "metadata": {},
   "outputs": [],
   "source": [
    "encoded_X=pd.get_dummies(X[cat_cols],drop_first=True)"
   ]
  },
  {
   "cell_type": "code",
   "execution_count": null,
   "id": "eccbf7ad",
   "metadata": {},
   "outputs": [],
   "source": [
    "encoded_X"
   ]
  },
  {
   "cell_type": "code",
   "execution_count": null,
   "id": "4b3de91c",
   "metadata": {},
   "outputs": [],
   "source": [
    "from sklearn.preprocessing import MinMaxScaler"
   ]
  },
  {
   "cell_type": "code",
   "execution_count": null,
   "id": "aeef5d1f",
   "metadata": {},
   "outputs": [],
   "source": [
    "scaler=MinMaxScaler()"
   ]
  },
  {
   "cell_type": "code",
   "execution_count": null,
   "id": "30a08574",
   "metadata": {},
   "outputs": [],
   "source": [
    "scaled_X=scaler.fit_transform(X[num_cols])"
   ]
  },
  {
   "cell_type": "code",
   "execution_count": null,
   "id": "8c6da400",
   "metadata": {},
   "outputs": [],
   "source": [
    "X=np.concatenate([scaled_X,encoded_X],axis=1)"
   ]
  },
  {
   "cell_type": "code",
   "execution_count": null,
   "id": "294759c6",
   "metadata": {},
   "outputs": [],
   "source": [
    "from sklearn.model_selection import train_test_split"
   ]
  },
  {
   "cell_type": "code",
   "execution_count": null,
   "id": "21444d94",
   "metadata": {},
   "outputs": [],
   "source": [
    "X_train,X_test,y_train,y_test=train_test_split(X,y,test_size=0.3,random_state=32)"
   ]
  },
  {
   "cell_type": "markdown",
   "id": "30a941d9",
   "metadata": {},
   "source": [
    "> # Model Development"
   ]
  },
  {
   "cell_type": "code",
   "execution_count": null,
   "id": "fbc99655",
   "metadata": {},
   "outputs": [],
   "source": [
    "# Importing Models\n",
    "from sklearn.linear_model import LogisticRegression\n",
    "from sklearn.model_selection import KFold, cross_val_score\n",
    "\n",
    "from sklearn.neighbors import KNeighborsClassifier\n",
    "from sklearn.ensemble import RandomForestClassifier\n",
    "#from sklearn.ensemble import AdaBoostClassifier\n",
    "from sklearn.tree import DecisionTreeClassifier\n",
    "from sklearn.naive_bayes import MultinomialNB\n",
    "from sklearn import svm\n",
    "# Importing Evaluation matrces\n",
    "from sklearn.metrics import accuracy_score,precision_score,recall_score,f1_score,confusion_matrix,classification_report, plot_confusion_matrix\n",
    "\n",
    "# check the performance on diffrent regressor\n",
    "models = []\n",
    "models.append(('Support Vector Classifier', svm.SVC()))\n",
    "models.append(('LogisitcRegression', LogisticRegression()))\n",
    "models.append(('KNeighborsClassifier', KNeighborsClassifier()))\n",
    "models.append(('RandomForestClassifier', RandomForestClassifier()))\n",
    "#models.append(('AdaBoostClassifier', AdaBoostClassifier()))\n",
    "models.append(('DecisionTreeClassifier', DecisionTreeClassifier()))\n",
    "\n",
    "\n",
    "# prepare the cross-validation procedure\n",
    "cv = KFold(n_splits=5, random_state=1, shuffle=True)\n",
    "\n",
    "# metrices to store performance\n",
    "acc = []\n",
    "pre = []\n",
    "f1 = []\n",
    "con = []\n",
    "rec = []\n",
    "\n",
    "\n",
    "import time\n",
    "i = 0\n",
    "for name,model in models:\n",
    "    i = i+1\n",
    "    start_time = time.time()\n",
    "    \n",
    "    # Fitting model to the Training set\n",
    "    clf = model\n",
    "    clf.fit(X_train, y_train)\n",
    "    \n",
    "    # predict values\n",
    "    y_pred = clf.predict(X_test)\n",
    "    \n",
    "    # Accuracy\n",
    "    accuracy = accuracy_score(y_test, y_pred)\n",
    "    acc.append(accuracy)\n",
    "    # Precision\n",
    "    precision = precision_score(y_test, y_pred, average=None)\n",
    "    pre.append(precision)\n",
    "    # Recall\n",
    "    recall = recall_score(y_test, y_pred, average=None)\n",
    "    rec.append(recall)\n",
    "    # F1 Score\n",
    "    f1_sco = f1_score(y_test, y_pred, average=None)\n",
    "    f1.append(f1_sco)\n",
    "    # Confusion Matrix\n",
    "    confusion_mat = confusion_matrix(y_test, y_pred)\n",
    "    con.append(confusion_mat)\n",
    "    # Report\n",
    "    report = classification_report(y_test, y_pred)\n",
    "    \n",
    "    # evaluate model\n",
    "    scores = cross_val_score(clf, X, y, cv=cv, n_jobs=-1)\n",
    "\n",
    "\n",
    "\n",
    "    print(\"+\",\"=\"*100,\"+\")\n",
    "    print('\\033[1m' + f\"\\t\\t\\t{i}-For {name} The Performance result is: \" + '\\033[0m')\n",
    "    print(\"+\",\"=\"*100,\"+\")\n",
    "    print('Accuracy : ', accuracy)   \n",
    "    print(\"-\"*50)\n",
    "    print('F1 : ', f1_sco)\n",
    "    print(\"-\"*50)\n",
    "    print('Reacll : ', recall)\n",
    "    print(\"-\"*50)\n",
    "    print('Precision : ', precision)\n",
    "    print(\"-\"*50)\n",
    "    print('cross validation accuracy : ', np.mean(scores))\n",
    "    print(\"-\"*50)\n",
    "    print('Confusion Matrix....\\n', confusion_mat)\n",
    "    print(\"-\"*50)\n",
    "    print('Classification Report....\\n', report)\n",
    "    print(\"-\"*50)\n",
    "    print('Plotting Confusion Matrix...\\n')\n",
    "    plot_confusion_matrix(clf, X_test, y_test)\n",
    "    plt.show()\n",
    "\n",
    "\n",
    "    \n",
    "    print(\"\\t\\t\\t\\t\\t\\t\\t-----------------------------------------------------------\")\n",
    "    print(f\"\\t\\t\\t\\t\\t\\t\\t Time for detection ({name}) : {round((time.time() - start_time), 3)} seconds...\")\n",
    "    print(\"\\t\\t\\t\\t\\t\\t\\t-----------------------------------------------------------\")\n",
    "    print()\n",
    "    \n",
    "pd.DataFrame({\"Model\": dict(models).keys(), \"Accuracy\": acc, \"Precision\": pre, \"Recall\": rec, \"F1_Score\": f1, \"Confusion Matrix\": con})"
   ]
  },
  {
   "cell_type": "code",
   "execution_count": null,
   "id": "571b6b83",
   "metadata": {},
   "outputs": [],
   "source": []
  },
  {
   "cell_type": "code",
   "execution_count": null,
   "id": "e0037110",
   "metadata": {},
   "outputs": [],
   "source": []
  }
 ],
 "metadata": {
  "kernelspec": {
   "display_name": "Python 3",
   "language": "python",
   "name": "python3"
  },
  "language_info": {
   "codemirror_mode": {
    "name": "ipython",
    "version": 3
   },
   "file_extension": ".py",
   "mimetype": "text/x-python",
   "name": "python",
   "nbconvert_exporter": "python",
   "pygments_lexer": "ipython3",
   "version": "3.9.5"
  }
 },
 "nbformat": 4,
 "nbformat_minor": 5
}
