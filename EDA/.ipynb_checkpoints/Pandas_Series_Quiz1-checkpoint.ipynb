{
 "cells": [
  {
   "cell_type": "code",
   "execution_count": 2,
   "id": "8d3ba05b",
   "metadata": {},
   "outputs": [],
   "source": [
    "import pandas as pd\n",
    "import numpy as np"
   ]
  },
  {
   "cell_type": "markdown",
   "id": "27b6896a",
   "metadata": {},
   "source": [
    "# Creating the Pandas Series"
   ]
  },
  {
   "cell_type": "code",
   "execution_count": null,
   "id": "c4862dd5",
   "metadata": {},
   "outputs": [],
   "source": [
    "### create pandas series for numrical indices"
   ]
  },
  {
   "cell_type": "code",
   "execution_count": null,
   "id": "fe92a2ba",
   "metadata": {},
   "outputs": [],
   "source": []
  },
  {
   "cell_type": "code",
   "execution_count": null,
   "id": "be3edd72",
   "metadata": {},
   "outputs": [],
   "source": [
    "### create pandas series in which both strings and numbers are present as index"
   ]
  },
  {
   "cell_type": "code",
   "execution_count": null,
   "id": "697eec1b",
   "metadata": {},
   "outputs": [],
   "source": []
  },
  {
   "cell_type": "code",
   "execution_count": null,
   "id": "6cc89555",
   "metadata": {},
   "outputs": [],
   "source": [
    "### create pandas series in which index contain empty values"
   ]
  },
  {
   "cell_type": "code",
   "execution_count": null,
   "id": "f5f311d0",
   "metadata": {},
   "outputs": [],
   "source": []
  },
  {
   "cell_type": "code",
   "execution_count": null,
   "id": "6c36cccd",
   "metadata": {},
   "outputs": [],
   "source": [
    "### create pandas series in which index should consists of random 5 no. between 10 to 50"
   ]
  },
  {
   "cell_type": "code",
   "execution_count": null,
   "id": "a5d79240",
   "metadata": {},
   "outputs": [],
   "source": []
  },
  {
   "cell_type": "markdown",
   "id": "908c5408",
   "metadata": {},
   "source": [
    "# Pandas Series Management"
   ]
  },
  {
   "cell_type": "code",
   "execution_count": 5,
   "id": "e44bbe44",
   "metadata": {},
   "outputs": [],
   "source": [
    "### how can we changes the indices of a series"
   ]
  },
  {
   "cell_type": "code",
   "execution_count": null,
   "id": "0727e891",
   "metadata": {},
   "outputs": [],
   "source": []
  },
  {
   "cell_type": "code",
   "execution_count": 6,
   "id": "33381f7b",
   "metadata": {},
   "outputs": [],
   "source": [
    "### How can we get list of series indices"
   ]
  },
  {
   "cell_type": "code",
   "execution_count": null,
   "id": "22b87d7c",
   "metadata": {},
   "outputs": [],
   "source": []
  },
  {
   "cell_type": "code",
   "execution_count": 7,
   "id": "711509fd",
   "metadata": {},
   "outputs": [],
   "source": [
    "### how can we get list of series values"
   ]
  },
  {
   "cell_type": "code",
   "execution_count": null,
   "id": "af462b77",
   "metadata": {},
   "outputs": [],
   "source": []
  },
  {
   "cell_type": "code",
   "execution_count": 8,
   "id": "43e3e6c6",
   "metadata": {},
   "outputs": [],
   "source": [
    "# Suppose we have series with numerical and string indices, write python code that converts\n",
    "#indices to the same data type"
   ]
  },
  {
   "cell_type": "code",
   "execution_count": null,
   "id": "1fcf5bba",
   "metadata": {},
   "outputs": [],
   "source": []
  },
  {
   "cell_type": "code",
   "execution_count": null,
   "id": "99060115",
   "metadata": {},
   "outputs": [],
   "source": [
    "# can we change the names of a series, if yes, then how"
   ]
  },
  {
   "cell_type": "code",
   "execution_count": null,
   "id": "def5d9d1",
   "metadata": {},
   "outputs": [],
   "source": []
  },
  {
   "cell_type": "code",
   "execution_count": 14,
   "id": "4a129fe5",
   "metadata": {},
   "outputs": [
    {
     "data": {
      "text/plain": [
       "1.0      1.0\n",
       "2.7      2.7\n",
       "9.0     54.0\n",
       "54.0     NaN\n",
       "dtype: float64"
      ]
     },
     "execution_count": 14,
     "metadata": {},
     "output_type": "execute_result"
    }
   ],
   "source": [
    "list1 = [1, 2.7, 54,np.nan]\n",
    "list2 = [1, 2.7, 9, 54]\n",
    "s = pd.Series(data=list1,index=list2)\n",
    "s"
   ]
  },
  {
   "cell_type": "code",
   "execution_count": 13,
   "id": "ae9b9bc8",
   "metadata": {},
   "outputs": [],
   "source": [
    "# consider above series\n",
    "# write python script for extractig the indices where null values are present"
   ]
  },
  {
   "cell_type": "markdown",
   "id": "38b145b6",
   "metadata": {},
   "source": [
    "# Accessiing Elements of Pandas Series"
   ]
  },
  {
   "cell_type": "code",
   "execution_count": 16,
   "id": "ee24f601",
   "metadata": {},
   "outputs": [],
   "source": [
    "names = ['Emma', 'Olivia', 'Ava', 'Isabella', 'Sophia', 'Charlotte', 'Mia', 'Amelia', 'Harper', 'Evelyn', \n",
    "         'Abigail', 'Emily', 'Elizabeth', 'Mila', 'Ella', 'Avery', 'Sofia', 'Camila', 'Aria', 'Scarlett', \n",
    "         'Victoria', 'Madison', 'Luna', 'Grace', 'Chloe']\n",
    "series=pd.Series(names)"
   ]
  },
  {
   "cell_type": "code",
   "execution_count": 17,
   "id": "556a6aa3",
   "metadata": {},
   "outputs": [
    {
     "data": {
      "text/plain": [
       "0          Emma\n",
       "1        Olivia\n",
       "2           Ava\n",
       "3      Isabella\n",
       "4        Sophia\n",
       "5     Charlotte\n",
       "6           Mia\n",
       "7        Amelia\n",
       "8        Harper\n",
       "9        Evelyn\n",
       "10      Abigail\n",
       "11        Emily\n",
       "12    Elizabeth\n",
       "13         Mila\n",
       "14         Ella\n",
       "15        Avery\n",
       "16        Sofia\n",
       "17       Camila\n",
       "18         Aria\n",
       "19     Scarlett\n",
       "20     Victoria\n",
       "21      Madison\n",
       "22         Luna\n",
       "23        Grace\n",
       "24        Chloe\n",
       "dtype: object"
      ]
     },
     "execution_count": 17,
     "metadata": {},
     "output_type": "execute_result"
    }
   ],
   "source": [
    "series"
   ]
  },
  {
   "cell_type": "markdown",
   "id": "b6be9902",
   "metadata": {},
   "source": [
    "### write outptut of followings"
   ]
  },
  {
   "cell_type": "code",
   "execution_count": null,
   "id": "237ba2ec",
   "metadata": {},
   "outputs": [],
   "source": [
    "#series[7]"
   ]
  },
  {
   "cell_type": "code",
   "execution_count": null,
   "id": "4521f5b7",
   "metadata": {},
   "outputs": [],
   "source": []
  },
  {
   "cell_type": "code",
   "execution_count": null,
   "id": "88516d98",
   "metadata": {},
   "outputs": [],
   "source": [
    "#series[3,2]"
   ]
  },
  {
   "cell_type": "code",
   "execution_count": null,
   "id": "bf623b74",
   "metadata": {},
   "outputs": [],
   "source": []
  },
  {
   "cell_type": "code",
   "execution_count": null,
   "id": "698faa8a",
   "metadata": {},
   "outputs": [],
   "source": [
    "#series[[3,2]]"
   ]
  },
  {
   "cell_type": "code",
   "execution_count": null,
   "id": "b63aaf48",
   "metadata": {},
   "outputs": [],
   "source": []
  },
  {
   "cell_type": "code",
   "execution_count": null,
   "id": "06f0150f",
   "metadata": {},
   "outputs": [],
   "source": [
    "#series.iloc[4]"
   ]
  },
  {
   "cell_type": "code",
   "execution_count": null,
   "id": "b4380cea",
   "metadata": {},
   "outputs": [],
   "source": []
  },
  {
   "cell_type": "code",
   "execution_count": null,
   "id": "7a401ed5",
   "metadata": {},
   "outputs": [],
   "source": [
    "#series.loc[3]"
   ]
  },
  {
   "cell_type": "code",
   "execution_count": null,
   "id": "2b10e846",
   "metadata": {},
   "outputs": [],
   "source": []
  },
  {
   "cell_type": "code",
   "execution_count": null,
   "id": "f420d553",
   "metadata": {},
   "outputs": [],
   "source": [
    "#series.iloc[[8,17]]"
   ]
  },
  {
   "cell_type": "code",
   "execution_count": null,
   "id": "3de1589d",
   "metadata": {},
   "outputs": [],
   "source": [
    "########################################################################################################"
   ]
  },
  {
   "cell_type": "code",
   "execution_count": 26,
   "id": "cd291bf2",
   "metadata": {},
   "outputs": [],
   "source": [
    "names = ['Emma', 'Olivia', 'Ava', 'Isabella', 'Sophia', 'Charlotte', 'Mia', 'Amelia', 'Harper', 'Evelyn', \n",
    "         'Abigail', 'Emily', 'Elizabeth', 'Mila', 'Ella', 'Avery', 'Sofia', 'Camila', 'Aria', 'Scarlett', \n",
    "         'Victoria', 'Madison', 'Luna', 'Grace', 'Chloe']\n",
    "values=np.random.randint(0,len(names),size=len(names))\n",
    "series=pd.Series(values,index=names)"
   ]
  },
  {
   "cell_type": "code",
   "execution_count": 27,
   "id": "0f808f54",
   "metadata": {},
   "outputs": [
    {
     "data": {
      "text/plain": [
       "Emma         14\n",
       "Olivia        7\n",
       "Ava          17\n",
       "Isabella      5\n",
       "Sophia       22\n",
       "Charlotte    22\n",
       "Mia           4\n",
       "Amelia        2\n",
       "Harper       23\n",
       "Evelyn       12\n",
       "Abigail      23\n",
       "Emily        10\n",
       "Elizabeth     3\n",
       "Mila         12\n",
       "Ella         13\n",
       "Avery         8\n",
       "Sofia        22\n",
       "Camila       18\n",
       "Aria          5\n",
       "Scarlett      0\n",
       "Victoria      4\n",
       "Madison      22\n",
       "Luna         21\n",
       "Grace        23\n",
       "Chloe         3\n",
       "dtype: int32"
      ]
     },
     "execution_count": 27,
     "metadata": {},
     "output_type": "execute_result"
    }
   ],
   "source": [
    "series"
   ]
  },
  {
   "cell_type": "code",
   "execution_count": null,
   "id": "2deffd88",
   "metadata": {},
   "outputs": [],
   "source": [
    "#series[['Emma', 'Aria']]"
   ]
  },
  {
   "cell_type": "code",
   "execution_count": null,
   "id": "0672f125",
   "metadata": {},
   "outputs": [],
   "source": []
  },
  {
   "cell_type": "code",
   "execution_count": null,
   "id": "0e69bfd1",
   "metadata": {},
   "outputs": [],
   "source": [
    "#series.iloc[[2,0]]"
   ]
  },
  {
   "cell_type": "code",
   "execution_count": null,
   "id": "dce6e381",
   "metadata": {},
   "outputs": [],
   "source": []
  },
  {
   "cell_type": "code",
   "execution_count": null,
   "id": "01b8bae5",
   "metadata": {},
   "outputs": [],
   "source": [
    "#series.loc['Elizabeth': 'Camila']"
   ]
  },
  {
   "cell_type": "code",
   "execution_count": null,
   "id": "635c8922",
   "metadata": {},
   "outputs": [],
   "source": []
  },
  {
   "cell_type": "code",
   "execution_count": null,
   "id": "086fb978",
   "metadata": {},
   "outputs": [],
   "source": [
    "#series.loc[5:15]"
   ]
  },
  {
   "cell_type": "code",
   "execution_count": null,
   "id": "378a8a7f",
   "metadata": {},
   "outputs": [],
   "source": []
  },
  {
   "cell_type": "code",
   "execution_count": null,
   "id": "b455c8df",
   "metadata": {},
   "outputs": [],
   "source": [
    "#series[1:4]"
   ]
  },
  {
   "cell_type": "code",
   "execution_count": null,
   "id": "b73c1b15",
   "metadata": {},
   "outputs": [],
   "source": []
  },
  {
   "cell_type": "code",
   "execution_count": null,
   "id": "6bdb3fb5",
   "metadata": {},
   "outputs": [],
   "source": [
    "#series['Grace':'Chloe':2]"
   ]
  },
  {
   "cell_type": "code",
   "execution_count": null,
   "id": "977d3289",
   "metadata": {},
   "outputs": [],
   "source": []
  },
  {
   "cell_type": "code",
   "execution_count": null,
   "id": "eaac29df",
   "metadata": {},
   "outputs": [],
   "source": [
    "#series['Abigail':'Avery':-1]"
   ]
  },
  {
   "cell_type": "code",
   "execution_count": null,
   "id": "aa8df158",
   "metadata": {},
   "outputs": [],
   "source": []
  },
  {
   "cell_type": "markdown",
   "id": "4bad3cce",
   "metadata": {},
   "source": [
    "# Misc Questions"
   ]
  },
  {
   "cell_type": "code",
   "execution_count": null,
   "id": "adb2680b",
   "metadata": {},
   "outputs": [],
   "source": [
    "### why it is recommended to use numerical ordered indices instead of strings and unordered numerical indices"
   ]
  },
  {
   "cell_type": "code",
   "execution_count": 15,
   "id": "b8506dd4",
   "metadata": {},
   "outputs": [],
   "source": [
    "### what is the difference between .nbytes and .size attributes of pandas series"
   ]
  },
  {
   "cell_type": "code",
   "execution_count": null,
   "id": "db3d3a2a",
   "metadata": {},
   "outputs": [],
   "source": []
  }
 ],
 "metadata": {
  "kernelspec": {
   "display_name": "Python 3",
   "language": "python",
   "name": "python3"
  },
  "language_info": {
   "codemirror_mode": {
    "name": "ipython",
    "version": 3
   },
   "file_extension": ".py",
   "mimetype": "text/x-python",
   "name": "python",
   "nbconvert_exporter": "python",
   "pygments_lexer": "ipython3",
   "version": "3.9.5"
  }
 },
 "nbformat": 4,
 "nbformat_minor": 5
}
