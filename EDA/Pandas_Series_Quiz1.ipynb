{
 "cells": [
  {
   "cell_type": "code",
   "execution_count": 2,
   "id": "800fb60e",
   "metadata": {},
   "outputs": [],
   "source": [
    "import pandas as pd\n",
    "import numpy as np"
   ]
  },
  {
   "cell_type": "markdown",
   "id": "8c0c9cfc",
   "metadata": {},
   "source": [
    "# Creating the Pandas Series"
   ]
  },
  {
   "cell_type": "code",
   "execution_count": null,
   "id": "27c0bf85",
   "metadata": {},
   "outputs": [],
   "source": [
    "### create pandas series for numrical indices"
   ]
  },
  {
   "cell_type": "code",
   "execution_count": null,
   "id": "5bef4824",
   "metadata": {},
   "outputs": [],
   "source": []
  },
  {
   "cell_type": "code",
   "execution_count": null,
   "id": "2bea0507",
   "metadata": {},
   "outputs": [],
   "source": [
    "### create pandas series in which both strings and numbers are present as index"
   ]
  },
  {
   "cell_type": "code",
   "execution_count": null,
   "id": "d6fbe18a",
   "metadata": {},
   "outputs": [],
   "source": []
  },
  {
   "cell_type": "code",
   "execution_count": null,
   "id": "dfc8d3ce",
   "metadata": {},
   "outputs": [],
   "source": [
    "### create pandas series in which index contain empty values"
   ]
  },
  {
   "cell_type": "code",
   "execution_count": null,
   "id": "bf83ce48",
   "metadata": {},
   "outputs": [],
   "source": []
  },
  {
   "cell_type": "code",
   "execution_count": null,
   "id": "bfa56afa",
   "metadata": {},
   "outputs": [],
   "source": [
    "### create pandas series in which index should consists of random 5 no. between 10 to 50"
   ]
  },
  {
   "cell_type": "code",
   "execution_count": null,
   "id": "fe3bb2d8",
   "metadata": {},
   "outputs": [],
   "source": []
  },
  {
   "cell_type": "markdown",
   "id": "ae95a7c2",
   "metadata": {},
   "source": [
    "# Pandas Series Management"
   ]
  },
  {
   "cell_type": "code",
   "execution_count": 5,
   "id": "93a75e29",
   "metadata": {},
   "outputs": [],
   "source": [
    "### how can we changes the indices of a series"
   ]
  },
  {
   "cell_type": "code",
   "execution_count": null,
   "id": "7948170a",
   "metadata": {},
   "outputs": [],
   "source": []
  },
  {
   "cell_type": "code",
   "execution_count": 6,
   "id": "5c4532c9",
   "metadata": {},
   "outputs": [],
   "source": [
    "### How can we get list of series indices"
   ]
  },
  {
   "cell_type": "code",
   "execution_count": null,
   "id": "9173cd0d",
   "metadata": {},
   "outputs": [],
   "source": []
  },
  {
   "cell_type": "code",
   "execution_count": 7,
   "id": "d3d07f76",
   "metadata": {},
   "outputs": [],
   "source": [
    "### how can we get list of series values"
   ]
  },
  {
   "cell_type": "code",
   "execution_count": null,
   "id": "eaf297f5",
   "metadata": {},
   "outputs": [],
   "source": []
  },
  {
   "cell_type": "code",
   "execution_count": 8,
   "id": "e4a5bea2",
   "metadata": {},
   "outputs": [],
   "source": [
    "# Suppose we have series with numerical and string indices, write python code that converts\n",
    "#indices to the same data type"
   ]
  },
  {
   "cell_type": "code",
   "execution_count": null,
   "id": "7e5e9d1e",
   "metadata": {},
   "outputs": [],
   "source": []
  },
  {
   "cell_type": "code",
   "execution_count": null,
   "id": "e8ae58cf",
   "metadata": {},
   "outputs": [],
   "source": [
    "# can we change the names of a series, if yes, then how"
   ]
  },
  {
   "cell_type": "code",
   "execution_count": null,
   "id": "f88be01c",
   "metadata": {},
   "outputs": [],
   "source": []
  },
  {
   "cell_type": "code",
   "execution_count": 14,
   "id": "ccc5876b",
   "metadata": {},
   "outputs": [
    {
     "data": {
      "text/plain": [
       "1.0      1.0\n",
       "2.7      2.7\n",
       "9.0     54.0\n",
       "54.0     NaN\n",
       "dtype: float64"
      ]
     },
     "execution_count": 14,
     "metadata": {},
     "output_type": "execute_result"
    }
   ],
   "source": [
    "list1 = [1, 2.7, 54,np.nan]\n",
    "list2 = [1, 2.7, 9, 54]\n",
    "s = pd.Series(data=list1,index=list2)\n",
    "s"
   ]
  },
  {
   "cell_type": "code",
   "execution_count": 13,
   "id": "47a2220a",
   "metadata": {},
   "outputs": [],
   "source": [
    "# consider above series\n",
    "# write python script for extractig the indices where null values are present"
   ]
  },
  {
   "cell_type": "markdown",
   "id": "b424898d",
   "metadata": {},
   "source": [
    "# Accessiing Elements of Pandas Series"
   ]
  },
  {
   "cell_type": "code",
   "execution_count": 16,
   "id": "99b7f355",
   "metadata": {},
   "outputs": [],
   "source": [
    "names = ['Emma', 'Olivia', 'Ava', 'Isabella', 'Sophia', 'Charlotte', 'Mia', 'Amelia', 'Harper', 'Evelyn', \n",
    "         'Abigail', 'Emily', 'Elizabeth', 'Mila', 'Ella', 'Avery', 'Sofia', 'Camila', 'Aria', 'Scarlett', \n",
    "         'Victoria', 'Madison', 'Luna', 'Grace', 'Chloe']\n",
    "series=pd.Series(names)"
   ]
  },
  {
   "cell_type": "code",
   "execution_count": 17,
   "id": "30be5fe8",
   "metadata": {},
   "outputs": [
    {
     "data": {
      "text/plain": [
       "0          Emma\n",
       "1        Olivia\n",
       "2           Ava\n",
       "3      Isabella\n",
       "4        Sophia\n",
       "5     Charlotte\n",
       "6           Mia\n",
       "7        Amelia\n",
       "8        Harper\n",
       "9        Evelyn\n",
       "10      Abigail\n",
       "11        Emily\n",
       "12    Elizabeth\n",
       "13         Mila\n",
       "14         Ella\n",
       "15        Avery\n",
       "16        Sofia\n",
       "17       Camila\n",
       "18         Aria\n",
       "19     Scarlett\n",
       "20     Victoria\n",
       "21      Madison\n",
       "22         Luna\n",
       "23        Grace\n",
       "24        Chloe\n",
       "dtype: object"
      ]
     },
     "execution_count": 17,
     "metadata": {},
     "output_type": "execute_result"
    }
   ],
   "source": [
    "series"
   ]
  },
  {
   "cell_type": "markdown",
   "id": "33911bc6",
   "metadata": {},
   "source": [
    "### write outptut of followings"
   ]
  },
  {
   "cell_type": "code",
   "execution_count": null,
   "id": "d59264be",
   "metadata": {},
   "outputs": [],
   "source": [
    "#series[7]"
   ]
  },
  {
   "cell_type": "code",
   "execution_count": null,
   "id": "e2b8180f",
   "metadata": {},
   "outputs": [],
   "source": []
  },
  {
   "cell_type": "code",
   "execution_count": null,
   "id": "8540f6ad",
   "metadata": {},
   "outputs": [],
   "source": [
    "#series[3,2]"
   ]
  },
  {
   "cell_type": "code",
   "execution_count": null,
   "id": "0360d3ea",
   "metadata": {},
   "outputs": [],
   "source": []
  },
  {
   "cell_type": "code",
   "execution_count": null,
   "id": "4086fed6",
   "metadata": {},
   "outputs": [],
   "source": [
    "#series[[3,2]]"
   ]
  },
  {
   "cell_type": "code",
   "execution_count": null,
   "id": "3f75dc72",
   "metadata": {},
   "outputs": [],
   "source": []
  },
  {
   "cell_type": "code",
   "execution_count": null,
   "id": "968039c3",
   "metadata": {},
   "outputs": [],
   "source": [
    "#series.iloc[4]"
   ]
  },
  {
   "cell_type": "code",
   "execution_count": null,
   "id": "bb323107",
   "metadata": {},
   "outputs": [],
   "source": []
  },
  {
   "cell_type": "code",
   "execution_count": null,
   "id": "4a830012",
   "metadata": {},
   "outputs": [],
   "source": [
    "#series.loc[3]"
   ]
  },
  {
   "cell_type": "code",
   "execution_count": null,
   "id": "eeb7008a",
   "metadata": {},
   "outputs": [],
   "source": []
  },
  {
   "cell_type": "code",
   "execution_count": null,
   "id": "b9e8c926",
   "metadata": {},
   "outputs": [],
   "source": [
    "#series.iloc[[8,17]]"
   ]
  },
  {
   "cell_type": "code",
   "execution_count": null,
   "id": "bc88b1e7",
   "metadata": {},
   "outputs": [],
   "source": [
    "########################################################################################################"
   ]
  },
  {
   "cell_type": "code",
   "execution_count": 26,
   "id": "e3d7dbb0",
   "metadata": {},
   "outputs": [],
   "source": [
    "names = ['Emma', 'Olivia', 'Ava', 'Isabella', 'Sophia', 'Charlotte', 'Mia', 'Amelia', 'Harper', 'Evelyn', \n",
    "         'Abigail', 'Emily', 'Elizabeth', 'Mila', 'Ella', 'Avery', 'Sofia', 'Camila', 'Aria', 'Scarlett', \n",
    "         'Victoria', 'Madison', 'Luna', 'Grace', 'Chloe']\n",
    "values=np.random.randint(0,len(names),size=len(names))\n",
    "series=pd.Series(values,index=names)"
   ]
  },
  {
   "cell_type": "code",
   "execution_count": 27,
   "id": "e42c2a37",
   "metadata": {},
   "outputs": [
    {
     "data": {
      "text/plain": [
       "Emma         14\n",
       "Olivia        7\n",
       "Ava          17\n",
       "Isabella      5\n",
       "Sophia       22\n",
       "Charlotte    22\n",
       "Mia           4\n",
       "Amelia        2\n",
       "Harper       23\n",
       "Evelyn       12\n",
       "Abigail      23\n",
       "Emily        10\n",
       "Elizabeth     3\n",
       "Mila         12\n",
       "Ella         13\n",
       "Avery         8\n",
       "Sofia        22\n",
       "Camila       18\n",
       "Aria          5\n",
       "Scarlett      0\n",
       "Victoria      4\n",
       "Madison      22\n",
       "Luna         21\n",
       "Grace        23\n",
       "Chloe         3\n",
       "dtype: int32"
      ]
     },
     "execution_count": 27,
     "metadata": {},
     "output_type": "execute_result"
    }
   ],
   "source": [
    "series"
   ]
  },
  {
   "cell_type": "code",
   "execution_count": null,
   "id": "34051744",
   "metadata": {},
   "outputs": [],
   "source": [
    "#series[['Emma', 'Aria']]"
   ]
  },
  {
   "cell_type": "code",
   "execution_count": null,
   "id": "0911b68c",
   "metadata": {},
   "outputs": [],
   "source": []
  },
  {
   "cell_type": "code",
   "execution_count": null,
   "id": "84402ad0",
   "metadata": {},
   "outputs": [],
   "source": [
    "#series.iloc[[2,0]]"
   ]
  },
  {
   "cell_type": "code",
   "execution_count": null,
   "id": "68114564",
   "metadata": {},
   "outputs": [],
   "source": []
  },
  {
   "cell_type": "code",
   "execution_count": null,
   "id": "7146d7e1",
   "metadata": {},
   "outputs": [],
   "source": [
    "#series.loc['Elizabeth': 'Camila']"
   ]
  },
  {
   "cell_type": "code",
   "execution_count": null,
   "id": "484933e1",
   "metadata": {},
   "outputs": [],
   "source": []
  },
  {
   "cell_type": "code",
   "execution_count": null,
   "id": "2ff6243a",
   "metadata": {},
   "outputs": [],
   "source": [
    "#series.loc[5:15]"
   ]
  },
  {
   "cell_type": "code",
   "execution_count": null,
   "id": "26f60b1f",
   "metadata": {},
   "outputs": [],
   "source": []
  },
  {
   "cell_type": "code",
   "execution_count": null,
   "id": "3f9ef7e2",
   "metadata": {},
   "outputs": [],
   "source": [
    "#series[1:4]"
   ]
  },
  {
   "cell_type": "code",
   "execution_count": null,
   "id": "efb41cd9",
   "metadata": {},
   "outputs": [],
   "source": []
  },
  {
   "cell_type": "code",
   "execution_count": null,
   "id": "63650a10",
   "metadata": {},
   "outputs": [],
   "source": [
    "#series['Grace':'Chloe':2]"
   ]
  },
  {
   "cell_type": "code",
   "execution_count": null,
   "id": "a46a70af",
   "metadata": {},
   "outputs": [],
   "source": []
  },
  {
   "cell_type": "code",
   "execution_count": null,
   "id": "d5983e13",
   "metadata": {},
   "outputs": [],
   "source": [
    "#series['Abigail':'Avery':-1]"
   ]
  },
  {
   "cell_type": "code",
   "execution_count": null,
   "id": "49ab9d65",
   "metadata": {},
   "outputs": [],
   "source": []
  },
  {
   "cell_type": "markdown",
   "id": "fcb9ce15",
   "metadata": {},
   "source": [
    "# Misc Questions"
   ]
  },
  {
   "cell_type": "code",
   "execution_count": null,
   "id": "81db0364",
   "metadata": {},
   "outputs": [],
   "source": [
    "### why it is recommended to use numerical ordered indices instead of strings and unordered numerical indices"
   ]
  },
  {
   "cell_type": "code",
   "execution_count": 15,
   "id": "ddd112ff",
   "metadata": {},
   "outputs": [],
   "source": [
    "### what is the difference between .nbytes and .size attributes of pandas series"
   ]
  },
  {
   "cell_type": "code",
   "execution_count": null,
   "id": "2f71c27d",
   "metadata": {},
   "outputs": [],
   "source": []
  }
 ],
 "metadata": {
  "kernelspec": {
   "display_name": "Python 3",
   "language": "python",
   "name": "python3"
  },
  "language_info": {
   "codemirror_mode": {
    "name": "ipython",
    "version": 3
   },
   "file_extension": ".py",
   "mimetype": "text/x-python",
   "name": "python",
   "nbconvert_exporter": "python",
   "pygments_lexer": "ipython3",
   "version": "3.9.5"
  }
 },
 "nbformat": 4,
 "nbformat_minor": 5
}
