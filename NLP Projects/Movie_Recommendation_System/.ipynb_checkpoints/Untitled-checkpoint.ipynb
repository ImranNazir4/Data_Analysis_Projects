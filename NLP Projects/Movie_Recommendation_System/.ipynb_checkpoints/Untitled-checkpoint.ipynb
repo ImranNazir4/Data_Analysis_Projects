{
 "cells": [
  {
   "cell_type": "code",
   "execution_count": 74,
   "id": "e05df6fd",
   "metadata": {},
   "outputs": [],
   "source": [
    "import pandas as pd\n",
    "import numpy as np\n",
    "import neattext as nt\n",
    "import seaborn as sns\n",
    "import matplotlib.pyplot as plt\n",
    "from sklearn.feature_extraction.text import CountVectorizer    #text vectorization using bag of words\n",
    "cvect=CountVectorizer()"
   ]
  },
  {
   "cell_type": "code",
   "execution_count": 75,
   "id": "e0873a9d",
   "metadata": {},
   "outputs": [
    {
     "data": {
      "text/plain": [
       "'1.1.2'"
      ]
     },
     "execution_count": 75,
     "metadata": {},
     "output_type": "execute_result"
    }
   ],
   "source": [
    "import sklearn\n",
    "sklearn.__version__"
   ]
  },
  {
   "cell_type": "code",
   "execution_count": 76,
   "id": "6b78ad35",
   "metadata": {},
   "outputs": [],
   "source": [
    "df=pd.read_csv('cleaned_moviesmerged.csv')"
   ]
  },
  {
   "cell_type": "code",
   "execution_count": 77,
   "id": "cce5364a",
   "metadata": {},
   "outputs": [],
   "source": [
    "df['genre_for_recommendation']=df['genre']   #we will group genre for taggig and these genre are needed to\n",
    "#recommend movies, so we create its copy with different name"
   ]
  },
  {
   "cell_type": "markdown",
   "id": "2d6128c7",
   "metadata": {},
   "source": [
    "# Genre Tagging"
   ]
  },
  {
   "cell_type": "markdown",
   "id": "f0e31516",
   "metadata": {},
   "source": [
    "### Creating Groups of Genres"
   ]
  },
  {
   "cell_type": "code",
   "execution_count": 78,
   "id": "6c50d80b",
   "metadata": {},
   "outputs": [],
   "source": [
    "df['genre']=df['genre'].str.strip() #removing extra spaces from genre text"
   ]
  },
  {
   "cell_type": "code",
   "execution_count": 79,
   "id": "0e57060c",
   "metadata": {},
   "outputs": [],
   "source": [
    "#comedy genre\n",
    "df['genre']=df['genre'].apply(lambda x:'comedy' if 'comedy' in str(x).strip() else x) "
   ]
  },
  {
   "cell_type": "code",
   "execution_count": 80,
   "id": "faa3bd59",
   "metadata": {},
   "outputs": [],
   "source": [
    "#action genre\n",
    "df['genre']=df['genre'].apply(lambda x:'action' if 'action' in str(x).strip() else x)"
   ]
  },
  {
   "cell_type": "code",
   "execution_count": 81,
   "id": "243a38f0",
   "metadata": {},
   "outputs": [],
   "source": [
    "#animation genre\n",
    "df['genre']=df['genre'].apply(lambda x:'animation' if 'animation' in str(x).strip() else x)"
   ]
  },
  {
   "cell_type": "code",
   "execution_count": 82,
   "id": "abab0f76",
   "metadata": {},
   "outputs": [],
   "source": [
    "#adventure genre\n",
    "df['genre']=df['genre'].apply(lambda x:'adventure' if 'adventure' in str(x).strip() else x)"
   ]
  },
  {
   "cell_type": "markdown",
   "id": "2da7bfdd",
   "metadata": {},
   "source": [
    "### Finalized Groups"
   ]
  },
  {
   "cell_type": "code",
   "execution_count": 83,
   "id": "a1a3a2df",
   "metadata": {},
   "outputs": [
    {
     "data": {
      "text/plain": [
       "comedy       2846\n",
       "action       2230\n",
       "adventure     332\n",
       "animation     190\n",
       "Name: genre, dtype: int64"
      ]
     },
     "execution_count": 83,
     "metadata": {},
     "output_type": "execute_result"
    }
   ],
   "source": [
    "df['genre'].value_counts()"
   ]
  },
  {
   "cell_type": "code",
   "execution_count": 84,
   "id": "df035f04",
   "metadata": {},
   "outputs": [],
   "source": [
    "# our data is imbalanced we will balance it using SMOTE"
   ]
  },
  {
   "cell_type": "markdown",
   "id": "528348ab",
   "metadata": {},
   "source": [
    "### Data Normalization"
   ]
  },
  {
   "cell_type": "code",
   "execution_count": 85,
   "id": "e79e51f8",
   "metadata": {},
   "outputs": [],
   "source": [
    "def data_merging(overview_text):\n",
    "    '''\n",
    "    this function convert list of tokens to stream of strings\n",
    "    and remove short words i.e of lenght 3\n",
    "    '''\n",
    "    overview_text=nt.remove_shortwords(overview_text,3)\n",
    "    return overview_text"
   ]
  },
  {
   "cell_type": "code",
   "execution_count": 86,
   "id": "a928a74a",
   "metadata": {},
   "outputs": [],
   "source": [
    "df['Tokenized_Overview']=df['Tokenized_Overview'].apply(lambda x:data_merging(x))"
   ]
  },
  {
   "cell_type": "markdown",
   "id": "a2f7a7e9",
   "metadata": {},
   "source": [
    "# Data Splitting into X and y"
   ]
  },
  {
   "cell_type": "code",
   "execution_count": 87,
   "id": "f85bcef1",
   "metadata": {},
   "outputs": [],
   "source": [
    "X=df['Tokenized_Overview']\n",
    "y=df['genre']"
   ]
  },
  {
   "cell_type": "markdown",
   "id": "0729a4ab",
   "metadata": {},
   "source": [
    "# Text Vectorization Using Bag of Words"
   ]
  },
  {
   "cell_type": "code",
   "execution_count": 88,
   "id": "38de73a2",
   "metadata": {},
   "outputs": [],
   "source": [
    "X=cvect.fit_transform(X)"
   ]
  },
  {
   "cell_type": "code",
   "execution_count": 89,
   "id": "5cc76bb1",
   "metadata": {},
   "outputs": [],
   "source": [
    "from sklearn.model_selection import train_test_split"
   ]
  },
  {
   "cell_type": "code",
   "execution_count": 90,
   "id": "6109d830",
   "metadata": {},
   "outputs": [],
   "source": [
    "X_train,X_test,y_train,y_test=train_test_split(X,y,test_size=0.3,random_state=42)"
   ]
  },
  {
   "cell_type": "markdown",
   "id": "760c77aa",
   "metadata": {},
   "source": [
    "# Balancing the Data"
   ]
  },
  {
   "cell_type": "code",
   "execution_count": 91,
   "id": "7f147b1e",
   "metadata": {},
   "outputs": [],
   "source": [
    "from imblearn.over_sampling import SMOTE   #package foe balancing the data\n",
    "sampler = SMOTE()\n",
    "X_train, y_train = sampler.fit_resample(X_train, y_train)  #balancing trainig and testing data"
   ]
  },
  {
   "cell_type": "code",
   "execution_count": 92,
   "id": "9a701c3a",
   "metadata": {},
   "outputs": [
    {
     "name": "stderr",
     "output_type": "stream",
     "text": [
      "c:\\users\\zee tech\\appdata\\local\\programs\\python\\python39\\lib\\site-packages\\seaborn\\_decorators.py:36: FutureWarning: Pass the following variable as a keyword arg: x. From version 0.12, the only valid positional argument will be `data`, and passing other arguments without an explicit keyword will result in an error or misinterpretation.\n",
      "  warnings.warn(\n"
     ]
    },
    {
     "data": {
      "text/plain": [
       "<AxesSubplot:xlabel='genre', ylabel='count'>"
      ]
     },
     "execution_count": 92,
     "metadata": {},
     "output_type": "execute_result"
    },
    {
     "data": {
      "image/png": "[encoded data removed]",
      "text/plain": [
       "<Figure size 432x288 with 1 Axes>"
      ]
     },
     "metadata": {
      "needs_background": "light"
     },
     "output_type": "display_data"
    }
   ],
   "source": [
    "sns.countplot(y_train)"
   ]
  },
  {
   "cell_type": "markdown",
   "id": "b4df83dc",
   "metadata": {},
   "source": [
    "# Applying ML Models"
   ]
  },
  {
   "cell_type": "code",
   "execution_count": 93,
   "id": "1bcb32ba",
   "metadata": {},
   "outputs": [
    {
     "name": "stdout",
     "output_type": "stream",
     "text": [
      "+ ==================================================================================================== +\n",
      "\u001b[1m\t\t\t1-For Support Vector Classifier The Performance result is: \u001b[0m\n",
      "+ ==================================================================================================== +\n",
      "Accuracy :  0.6678571428571428\n",
      "--------------------------------------------------\n",
      "F1 :  [0.63787375 0.13953488 0.13888889 0.74066496]\n",
      "--------------------------------------------------\n",
      "Reacll :  [0.57744361 0.09473684 0.08928571 0.83796296]\n",
      "--------------------------------------------------\n",
      "Precision :  [0.71243043 0.26470588 0.3125     0.66361137]\n",
      "--------------------------------------------------\n",
      "cross validation accuracy :  0.7483030128941658\n",
      "--------------------------------------------------\n",
      "Confusion Matrix....\n",
      " [[384   7   3 271]\n",
      " [ 28   9   2  56]\n",
      " [  9   2   5  40]\n",
      " [118  16   6 724]]\n",
      "--------------------------------------------------\n",
      "Classification Report....\n",
      "               precision    recall  f1-score   support\n",
      "\n",
      "      action       0.71      0.58      0.64       665\n",
      "   adventure       0.26      0.09      0.14        95\n",
      "   animation       0.31      0.09      0.14        56\n",
      "      comedy       0.66      0.84      0.74       864\n",
      "\n",
      "    accuracy                           0.67      1680\n",
      "   macro avg       0.49      0.40      0.41      1680\n",
      "weighted avg       0.65      0.67      0.65      1680\n",
      "\n",
      "--------------------------------------------------\n",
      "Plotting Confusion Matrix...\n",
      "\n"
     ]
    },
    {
     "name": "stderr",
     "output_type": "stream",
     "text": [
      "c:\\users\\zee tech\\appdata\\local\\programs\\python\\python39\\lib\\site-packages\\sklearn\\utils\\deprecation.py:87: FutureWarning: Function plot_confusion_matrix is deprecated; Function `plot_confusion_matrix` is deprecated in 1.0 and will be removed in 1.2. Use one of the class methods: ConfusionMatrixDisplay.from_predictions or ConfusionMatrixDisplay.from_estimator.\n",
      "  warnings.warn(msg, category=FutureWarning)\n"
     ]
    },
    {
     "data": {
      "image/png": "[encoded data removed]",
      "text/plain": [
       "<Figure size 432x288 with 2 Axes>"
      ]
     },
     "metadata": {
      "needs_background": "light"
     },
     "output_type": "display_data"
    },
    {
     "name": "stdout",
     "output_type": "stream",
     "text": [
      "\t\t\t\t\t\t\t-----------------------------------------------------------\n",
      "\t\t\t\t\t\t\t Time for detection (Support Vector Classifier) : 46.049 seconds...\n",
      "\t\t\t\t\t\t\t-----------------------------------------------------------\n",
      "\n"
     ]
    },
    {
     "name": "stderr",
     "output_type": "stream",
     "text": [
      "c:\\users\\zee tech\\appdata\\local\\programs\\python\\python39\\lib\\site-packages\\sklearn\\linear_model\\_logistic.py:444: ConvergenceWarning: lbfgs failed to converge (status=1):\n",
      "STOP: TOTAL NO. of ITERATIONS REACHED LIMIT.\n",
      "\n",
      "Increase the number of iterations (max_iter) or scale the data as shown in:\n",
      "    https://scikit-learn.org/stable/modules/preprocessing.html\n",
      "Please also refer to the documentation for alternative solver options:\n",
      "    https://scikit-learn.org/stable/modules/linear_model.html#logistic-regression\n",
      "  n_iter_i = _check_optimize_result(\n"
     ]
    },
    {
     "name": "stdout",
     "output_type": "stream",
     "text": [
      "+ ==================================================================================================== +\n",
      "\u001b[1m\t\t\t2-For LogisitcRegression The Performance result is: \u001b[0m\n",
      "+ ==================================================================================================== +\n",
      "Accuracy :  0.6857142857142857\n",
      "--------------------------------------------------\n",
      "F1 :  [0.72256098 0.26609442 0.25185185 0.75      ]\n",
      "--------------------------------------------------\n",
      "Reacll :  [0.71278195 0.32631579 0.30357143 0.72916667]\n",
      "--------------------------------------------------\n",
      "Precision :  [0.73261206 0.22463768 0.21518987 0.77205882]\n",
      "--------------------------------------------------\n",
      "cross validation accuracy :  0.7516965083620579\n",
      "--------------------------------------------------\n",
      "Confusion Matrix....\n",
      " [[474  40  21 130]\n",
      " [ 29  31   4  31]\n",
      " [  9   5  17  25]\n",
      " [135  62  37 630]]\n",
      "--------------------------------------------------\n",
      "Classification Report....\n",
      "               precision    recall  f1-score   support\n",
      "\n",
      "      action       0.73      0.71      0.72       665\n",
      "   adventure       0.22      0.33      0.27        95\n",
      "   animation       0.22      0.30      0.25        56\n",
      "      comedy       0.77      0.73      0.75       864\n",
      "\n",
      "    accuracy                           0.69      1680\n",
      "   macro avg       0.49      0.52      0.50      1680\n",
      "weighted avg       0.71      0.69      0.70      1680\n",
      "\n",
      "--------------------------------------------------\n",
      "Plotting Confusion Matrix...\n",
      "\n"
     ]
    },
    {
     "name": "stderr",
     "output_type": "stream",
     "text": [
      "c:\\users\\zee tech\\appdata\\local\\programs\\python\\python39\\lib\\site-packages\\sklearn\\utils\\deprecation.py:87: FutureWarning: Function plot_confusion_matrix is deprecated; Function `plot_confusion_matrix` is deprecated in 1.0 and will be removed in 1.2. Use one of the class methods: ConfusionMatrixDisplay.from_predictions or ConfusionMatrixDisplay.from_estimator.\n",
      "  warnings.warn(msg, category=FutureWarning)\n"
     ]
    },
    {
     "data": {
      "image/png": "[encoded data removed]",
      "text/plain": [
       "<Figure size 432x288 with 2 Axes>"
      ]
     },
     "metadata": {
      "needs_background": "light"
     },
     "output_type": "display_data"
    },
    {
     "name": "stdout",
     "output_type": "stream",
     "text": [
      "\t\t\t\t\t\t\t-----------------------------------------------------------\n",
      "\t\t\t\t\t\t\t Time for detection (LogisitcRegression) : 4.933 seconds...\n",
      "\t\t\t\t\t\t\t-----------------------------------------------------------\n",
      "\n",
      "+ ==================================================================================================== +\n",
      "\u001b[1m\t\t\t3-For Naive Bayes The Performance result is: \u001b[0m\n",
      "+ ==================================================================================================== +\n",
      "Accuracy :  0.7535714285714286\n",
      "--------------------------------------------------\n",
      "F1 :  [0.77582572 0.24324324 0.30927835 0.80496454]\n",
      "--------------------------------------------------\n",
      "Reacll :  [0.83007519 0.18947368 0.26785714 0.78819444]\n",
      "--------------------------------------------------\n",
      "Precision :  [0.72823219 0.33962264 0.36585366 0.82246377]\n",
      "--------------------------------------------------\n",
      "cross validation accuracy :  0.7659886058981233\n",
      "--------------------------------------------------\n",
      "Confusion Matrix....\n",
      " [[552  12  13  88]\n",
      " [ 39  18   3  35]\n",
      " [ 13   4  15  24]\n",
      " [154  19  10 681]]\n",
      "--------------------------------------------------\n",
      "Classification Report....\n",
      "               precision    recall  f1-score   support\n",
      "\n",
      "      action       0.73      0.83      0.78       665\n",
      "   adventure       0.34      0.19      0.24        95\n",
      "   animation       0.37      0.27      0.31        56\n",
      "      comedy       0.82      0.79      0.80       864\n",
      "\n",
      "    accuracy                           0.75      1680\n",
      "   macro avg       0.56      0.52      0.53      1680\n",
      "weighted avg       0.74      0.75      0.75      1680\n",
      "\n",
      "--------------------------------------------------\n",
      "Plotting Confusion Matrix...\n",
      "\n"
     ]
    },
    {
     "name": "stderr",
     "output_type": "stream",
     "text": [
      "c:\\users\\zee tech\\appdata\\local\\programs\\python\\python39\\lib\\site-packages\\sklearn\\utils\\deprecation.py:87: FutureWarning: Function plot_confusion_matrix is deprecated; Function `plot_confusion_matrix` is deprecated in 1.0 and will be removed in 1.2. Use one of the class methods: ConfusionMatrixDisplay.from_predictions or ConfusionMatrixDisplay.from_estimator.\n",
      "  warnings.warn(msg, category=FutureWarning)\n"
     ]
    },
    {
     "data": {
      "image/png": "[encoded data removed]",
      "text/plain": [
       "<Figure size 432x288 with 2 Axes>"
      ]
     },
     "metadata": {
      "needs_background": "light"
     },
     "output_type": "display_data"
    },
    {
     "name": "stdout",
     "output_type": "stream",
     "text": [
      "\t\t\t\t\t\t\t-----------------------------------------------------------\n",
      "\t\t\t\t\t\t\t Time for detection (Naive Bayes) : 0.507 seconds...\n",
      "\t\t\t\t\t\t\t-----------------------------------------------------------\n",
      "\n",
      "+ ==================================================================================================== +\n",
      "\u001b[1m\t\t\t4-For KNeighborsClassifier The Performance result is: \u001b[0m\n",
      "+ ==================================================================================================== +\n",
      "Accuracy :  0.13154761904761905\n",
      "--------------------------------------------------\n",
      "F1 :  [0.30439684 0.1120332  0.08791209 0.00917431]\n",
      "--------------------------------------------------\n",
      "Reacll :  [0.20300752 0.56842105 0.5        0.00462963]\n",
      "--------------------------------------------------\n",
      "Precision :  [0.60810811 0.06214039 0.04819277 0.5       ]\n",
      "--------------------------------------------------\n",
      "cross validation accuracy :  0.5437627665007022\n",
      "--------------------------------------------------\n",
      "Confusion Matrix....\n",
      " [[135 328 198   4]\n",
      " [  6  54  35   0]\n",
      " [  6  22  28   0]\n",
      " [ 75 465 320   4]]\n",
      "--------------------------------------------------\n",
      "Classification Report....\n",
      "               precision    recall  f1-score   support\n",
      "\n",
      "      action       0.61      0.20      0.30       665\n",
      "   adventure       0.06      0.57      0.11        95\n",
      "   animation       0.05      0.50      0.09        56\n",
      "      comedy       0.50      0.00      0.01       864\n",
      "\n",
      "    accuracy                           0.13      1680\n",
      "   macro avg       0.30      0.32      0.13      1680\n",
      "weighted avg       0.50      0.13      0.13      1680\n",
      "\n",
      "--------------------------------------------------\n",
      "Plotting Confusion Matrix...\n",
      "\n"
     ]
    },
    {
     "name": "stderr",
     "output_type": "stream",
     "text": [
      "c:\\users\\zee tech\\appdata\\local\\programs\\python\\python39\\lib\\site-packages\\sklearn\\utils\\deprecation.py:87: FutureWarning: Function plot_confusion_matrix is deprecated; Function `plot_confusion_matrix` is deprecated in 1.0 and will be removed in 1.2. Use one of the class methods: ConfusionMatrixDisplay.from_predictions or ConfusionMatrixDisplay.from_estimator.\n",
      "  warnings.warn(msg, category=FutureWarning)\n"
     ]
    },
    {
     "data": {
      "image/png": "[encoded data removed]",
      "text/plain": [
       "<Figure size 432x288 with 2 Axes>"
      ]
     },
     "metadata": {
      "needs_background": "light"
     },
     "output_type": "display_data"
    },
    {
     "name": "stdout",
     "output_type": "stream",
     "text": [
      "\t\t\t\t\t\t\t-----------------------------------------------------------\n",
      "\t\t\t\t\t\t\t Time for detection (KNeighborsClassifier) : 2.211 seconds...\n",
      "\t\t\t\t\t\t\t-----------------------------------------------------------\n",
      "\n",
      "+ ==================================================================================================== +\n",
      "\u001b[1m\t\t\t5-For RandomForestClassifier The Performance result is: \u001b[0m\n",
      "+ ==================================================================================================== +\n",
      "Accuracy :  0.6095238095238096\n",
      "--------------------------------------------------\n",
      "F1 :  [0.68613139 0.21705426 0.16410256 0.66363045]\n",
      "--------------------------------------------------\n",
      "Reacll :  [0.70676692 0.29473684 0.28571429 0.59027778]\n",
      "--------------------------------------------------\n",
      "Precision :  [0.66666667 0.17177914 0.11510791 0.75780089]\n",
      "--------------------------------------------------\n",
      "cross validation accuracy :  0.7315136282394995\n",
      "--------------------------------------------------\n",
      "Confusion Matrix....\n",
      " [[470  44  36 115]\n",
      " [ 36  28  10  21]\n",
      " [ 10   3  16  27]\n",
      " [189  88  77 510]]\n",
      "--------------------------------------------------\n",
      "Classification Report....\n",
      "               precision    recall  f1-score   support\n",
      "\n",
      "      action       0.67      0.71      0.69       665\n",
      "   adventure       0.17      0.29      0.22        95\n",
      "   animation       0.12      0.29      0.16        56\n",
      "      comedy       0.76      0.59      0.66       864\n",
      "\n",
      "    accuracy                           0.61      1680\n",
      "   macro avg       0.43      0.47      0.43      1680\n",
      "weighted avg       0.67      0.61      0.63      1680\n",
      "\n",
      "--------------------------------------------------\n",
      "Plotting Confusion Matrix...\n",
      "\n"
     ]
    },
    {
     "name": "stderr",
     "output_type": "stream",
     "text": [
      "c:\\users\\zee tech\\appdata\\local\\programs\\python\\python39\\lib\\site-packages\\sklearn\\utils\\deprecation.py:87: FutureWarning: Function plot_confusion_matrix is deprecated; Function `plot_confusion_matrix` is deprecated in 1.0 and will be removed in 1.2. Use one of the class methods: ConfusionMatrixDisplay.from_predictions or ConfusionMatrixDisplay.from_estimator.\n",
      "  warnings.warn(msg, category=FutureWarning)\n"
     ]
    },
    {
     "data": {
      "image/png": "[encoded data removed]",
      "text/plain": [
       "<Figure size 432x288 with 2 Axes>"
      ]
     },
     "metadata": {
      "needs_background": "light"
     },
     "output_type": "display_data"
    },
    {
     "name": "stdout",
     "output_type": "stream",
     "text": [
      "\t\t\t\t\t\t\t-----------------------------------------------------------\n",
      "\t\t\t\t\t\t\t Time for detection (RandomForestClassifier) : 114.192 seconds...\n",
      "\t\t\t\t\t\t\t-----------------------------------------------------------\n",
      "\n",
      "+ ==================================================================================================== +\n",
      "\u001b[1m\t\t\t6-For AdaBoostClassifier The Performance result is: \u001b[0m\n",
      "+ ==================================================================================================== +\n",
      "Accuracy :  0.4791666666666667\n",
      "--------------------------------------------------\n",
      "F1 :  [0.5625     0.13051823 0.22972973 0.55872595]\n",
      "--------------------------------------------------\n",
      "Reacll :  [0.50075188 0.35789474 0.30357143 0.48726852]\n",
      "--------------------------------------------------\n",
      "Precision :  [0.6416185  0.07981221 0.18478261 0.65474339]\n",
      "--------------------------------------------------\n",
      "cross validation accuracy :  0.5487694689135708\n",
      "--------------------------------------------------\n",
      "Confusion Matrix....\n",
      " [[333 147  19 166]\n",
      " [ 19  34   8  34]\n",
      " [  6  11  17  22]\n",
      " [161 234  48 421]]\n",
      "--------------------------------------------------\n",
      "Classification Report....\n",
      "               precision    recall  f1-score   support\n",
      "\n",
      "      action       0.64      0.50      0.56       665\n",
      "   adventure       0.08      0.36      0.13        95\n",
      "   animation       0.18      0.30      0.23        56\n",
      "      comedy       0.65      0.49      0.56       864\n",
      "\n",
      "    accuracy                           0.48      1680\n",
      "   macro avg       0.39      0.41      0.37      1680\n",
      "weighted avg       0.60      0.48      0.53      1680\n",
      "\n",
      "--------------------------------------------------\n",
      "Plotting Confusion Matrix...\n",
      "\n"
     ]
    },
    {
     "name": "stderr",
     "output_type": "stream",
     "text": [
      "c:\\users\\zee tech\\appdata\\local\\programs\\python\\python39\\lib\\site-packages\\sklearn\\utils\\deprecation.py:87: FutureWarning: Function plot_confusion_matrix is deprecated; Function `plot_confusion_matrix` is deprecated in 1.0 and will be removed in 1.2. Use one of the class methods: ConfusionMatrixDisplay.from_predictions or ConfusionMatrixDisplay.from_estimator.\n",
      "  warnings.warn(msg, category=FutureWarning)\n"
     ]
    },
    {
     "data": {
      "image/png": "[encoded data removed]",
      "text/plain": [
       "<Figure size 432x288 with 2 Axes>"
      ]
     },
     "metadata": {
      "needs_background": "light"
     },
     "output_type": "display_data"
    },
    {
     "name": "stdout",
     "output_type": "stream",
     "text": [
      "\t\t\t\t\t\t\t-----------------------------------------------------------\n",
      "\t\t\t\t\t\t\t Time for detection (AdaBoostClassifier) : 17.78 seconds...\n",
      "\t\t\t\t\t\t\t-----------------------------------------------------------\n",
      "\n",
      "+ ==================================================================================================== +\n",
      "\u001b[1m\t\t\t7-For DecisionTreeClassifier The Performance result is: \u001b[0m\n",
      "+ ==================================================================================================== +\n",
      "Accuracy :  0.4851190476190476\n",
      "--------------------------------------------------\n",
      "F1 :  [0.52648475 0.13166144 0.13846154 0.58371336]\n",
      "--------------------------------------------------\n",
      "Reacll :  [0.49323308 0.22105263 0.32142857 0.51851852]\n",
      "--------------------------------------------------\n",
      "Precision :  [0.56454389 0.09375    0.08823529 0.66766021]\n",
      "--------------------------------------------------\n",
      "cross validation accuracy :  0.6300465977275629\n",
      "--------------------------------------------------\n",
      "Confusion Matrix....\n",
      " [[328  98  62 177]\n",
      " [ 32  21  15  27]\n",
      " [ 10   9  18  19]\n",
      " [211  96 109 448]]\n",
      "--------------------------------------------------\n",
      "Classification Report....\n",
      "               precision    recall  f1-score   support\n",
      "\n",
      "      action       0.56      0.49      0.53       665\n",
      "   adventure       0.09      0.22      0.13        95\n",
      "   animation       0.09      0.32      0.14        56\n",
      "      comedy       0.67      0.52      0.58       864\n",
      "\n",
      "    accuracy                           0.49      1680\n",
      "   macro avg       0.35      0.39      0.35      1680\n",
      "weighted avg       0.58      0.49      0.52      1680\n",
      "\n",
      "--------------------------------------------------\n",
      "Plotting Confusion Matrix...\n",
      "\n"
     ]
    },
    {
     "name": "stderr",
     "output_type": "stream",
     "text": [
      "c:\\users\\zee tech\\appdata\\local\\programs\\python\\python39\\lib\\site-packages\\sklearn\\utils\\deprecation.py:87: FutureWarning: Function plot_confusion_matrix is deprecated; Function `plot_confusion_matrix` is deprecated in 1.0 and will be removed in 1.2. Use one of the class methods: ConfusionMatrixDisplay.from_predictions or ConfusionMatrixDisplay.from_estimator.\n",
      "  warnings.warn(msg, category=FutureWarning)\n"
     ]
    },
    {
     "data": {
      "image/png": "[encoded data removed]",
      "text/plain": [
       "<Figure size 432x288 with 2 Axes>"
      ]
     },
     "metadata": {
      "needs_background": "light"
     },
     "output_type": "display_data"
    },
    {
     "name": "stdout",
     "output_type": "stream",
     "text": [
      "\t\t\t\t\t\t\t-----------------------------------------------------------\n",
      "\t\t\t\t\t\t\t Time for detection (DecisionTreeClassifier) : 10.664 seconds...\n",
      "\t\t\t\t\t\t\t-----------------------------------------------------------\n",
      "\n"
     ]
    },
    {
     "data": {
      "text/html": [
       "<div>\n",
       "<style scoped>\n",
       "    .dataframe tbody tr th:only-of-type {\n",
       "        vertical-align: middle;\n",
       "    }\n",
       "\n",
       "    .dataframe tbody tr th {\n",
       "        vertical-align: top;\n",
       "    }\n",
       "\n",
       "    .dataframe thead th {\n",
       "        text-align: right;\n",
       "    }\n",
       "</style>\n",
       "<table border=\"1\" class=\"dataframe\">\n",
       "  <thead>\n",
       "    <tr style=\"text-align: right;\">\n",
       "      <th></th>\n",
       "      <th>Model</th>\n",
       "      <th>Accuracy</th>\n",
       "      <th>Precision</th>\n",
       "      <th>Recall</th>\n",
       "      <th>F1_Score</th>\n",
       "      <th>Confusion Matrix</th>\n",
       "    </tr>\n",
       "  </thead>\n",
       "  <tbody>\n",
       "    <tr>\n",
       "      <th>0</th>\n",
       "      <td>Support Vector Classifier</td>\n",
       "      <td>0.667857</td>\n",
       "      <td>[0.712430426716141, 0.2647058823529412, 0.3125...</td>\n",
       "      <td>[0.5774436090225564, 0.09473684210526316, 0.08...</td>\n",
       "      <td>[0.6378737541528239, 0.13953488372093023, 0.13...</td>\n",
       "      <td>[[384, 7, 3, 271], [28, 9, 2, 56], [9, 2, 5, 4...</td>\n",
       "    </tr>\n",
       "    <tr>\n",
       "      <th>1</th>\n",
       "      <td>LogisitcRegression</td>\n",
       "      <td>0.685714</td>\n",
       "      <td>[0.732612055641422, 0.2246376811594203, 0.2151...</td>\n",
       "      <td>[0.7127819548872181, 0.3263157894736842, 0.303...</td>\n",
       "      <td>[0.7225609756097561, 0.2660944206008584, 0.251...</td>\n",
       "      <td>[[474, 40, 21, 130], [29, 31, 4, 31], [9, 5, 1...</td>\n",
       "    </tr>\n",
       "    <tr>\n",
       "      <th>2</th>\n",
       "      <td>Naive Bayes</td>\n",
       "      <td>0.753571</td>\n",
       "      <td>[0.7282321899736148, 0.33962264150943394, 0.36...</td>\n",
       "      <td>[0.8300751879699249, 0.18947368421052632, 0.26...</td>\n",
       "      <td>[0.7758257203092059, 0.24324324324324328, 0.30...</td>\n",
       "      <td>[[552, 12, 13, 88], [39, 18, 3, 35], [13, 4, 1...</td>\n",
       "    </tr>\n",
       "    <tr>\n",
       "      <th>3</th>\n",
       "      <td>KNeighborsClassifier</td>\n",
       "      <td>0.131548</td>\n",
       "      <td>[0.6081081081081081, 0.06214039125431531, 0.04...</td>\n",
       "      <td>[0.20300751879699247, 0.5684210526315789, 0.5,...</td>\n",
       "      <td>[0.3043968432919955, 0.1120331950207469, 0.087...</td>\n",
       "      <td>[[135, 328, 198, 4], [6, 54, 35, 0], [6, 22, 2...</td>\n",
       "    </tr>\n",
       "    <tr>\n",
       "      <th>4</th>\n",
       "      <td>RandomForestClassifier</td>\n",
       "      <td>0.609524</td>\n",
       "      <td>[0.6666666666666666, 0.17177914110429449, 0.11...</td>\n",
       "      <td>[0.706766917293233, 0.29473684210526313, 0.285...</td>\n",
       "      <td>[0.6861313868613139, 0.21705426356589147, 0.16...</td>\n",
       "      <td>[[470, 44, 36, 115], [36, 28, 10, 21], [10, 3,...</td>\n",
       "    </tr>\n",
       "    <tr>\n",
       "      <th>5</th>\n",
       "      <td>AdaBoostClassifier</td>\n",
       "      <td>0.479167</td>\n",
       "      <td>[0.6416184971098265, 0.07981220657276995, 0.18...</td>\n",
       "      <td>[0.5007518796992482, 0.35789473684210527, 0.30...</td>\n",
       "      <td>[0.5625, 0.1305182341650672, 0.229729729729729...</td>\n",
       "      <td>[[333, 147, 19, 166], [19, 34, 8, 34], [6, 11,...</td>\n",
       "    </tr>\n",
       "    <tr>\n",
       "      <th>6</th>\n",
       "      <td>DecisionTreeClassifier</td>\n",
       "      <td>0.485119</td>\n",
       "      <td>[0.5645438898450946, 0.09375, 0.08823529411764...</td>\n",
       "      <td>[0.4932330827067669, 0.22105263157894736, 0.32...</td>\n",
       "      <td>[0.5264847512038523, 0.13166144200626959, 0.13...</td>\n",
       "      <td>[[328, 98, 62, 177], [32, 21, 15, 27], [10, 9,...</td>\n",
       "    </tr>\n",
       "  </tbody>\n",
       "</table>\n",
       "</div>"
      ],
      "text/plain": [
       "                       Model  Accuracy  \\\n",
       "0  Support Vector Classifier  0.667857   \n",
       "1         LogisitcRegression  0.685714   \n",
       "2                Naive Bayes  0.753571   \n",
       "3       KNeighborsClassifier  0.131548   \n",
       "4     RandomForestClassifier  0.609524   \n",
       "5         AdaBoostClassifier  0.479167   \n",
       "6     DecisionTreeClassifier  0.485119   \n",
       "\n",
       "                                           Precision  \\\n",
       "0  [0.712430426716141, 0.2647058823529412, 0.3125...   \n",
       "1  [0.732612055641422, 0.2246376811594203, 0.2151...   \n",
       "2  [0.7282321899736148, 0.33962264150943394, 0.36...   \n",
       "3  [0.6081081081081081, 0.06214039125431531, 0.04...   \n",
       "4  [0.6666666666666666, 0.17177914110429449, 0.11...   \n",
       "5  [0.6416184971098265, 0.07981220657276995, 0.18...   \n",
       "6  [0.5645438898450946, 0.09375, 0.08823529411764...   \n",
       "\n",
       "                                              Recall  \\\n",
       "0  [0.5774436090225564, 0.09473684210526316, 0.08...   \n",
       "1  [0.7127819548872181, 0.3263157894736842, 0.303...   \n",
       "2  [0.8300751879699249, 0.18947368421052632, 0.26...   \n",
       "3  [0.20300751879699247, 0.5684210526315789, 0.5,...   \n",
       "4  [0.706766917293233, 0.29473684210526313, 0.285...   \n",
       "5  [0.5007518796992482, 0.35789473684210527, 0.30...   \n",
       "6  [0.4932330827067669, 0.22105263157894736, 0.32...   \n",
       "\n",
       "                                            F1_Score  \\\n",
       "0  [0.6378737541528239, 0.13953488372093023, 0.13...   \n",
       "1  [0.7225609756097561, 0.2660944206008584, 0.251...   \n",
       "2  [0.7758257203092059, 0.24324324324324328, 0.30...   \n",
       "3  [0.3043968432919955, 0.1120331950207469, 0.087...   \n",
       "4  [0.6861313868613139, 0.21705426356589147, 0.16...   \n",
       "5  [0.5625, 0.1305182341650672, 0.229729729729729...   \n",
       "6  [0.5264847512038523, 0.13166144200626959, 0.13...   \n",
       "\n",
       "                                    Confusion Matrix  \n",
       "0  [[384, 7, 3, 271], [28, 9, 2, 56], [9, 2, 5, 4...  \n",
       "1  [[474, 40, 21, 130], [29, 31, 4, 31], [9, 5, 1...  \n",
       "2  [[552, 12, 13, 88], [39, 18, 3, 35], [13, 4, 1...  \n",
       "3  [[135, 328, 198, 4], [6, 54, 35, 0], [6, 22, 2...  \n",
       "4  [[470, 44, 36, 115], [36, 28, 10, 21], [10, 3,...  \n",
       "5  [[333, 147, 19, 166], [19, 34, 8, 34], [6, 11,...  \n",
       "6  [[328, 98, 62, 177], [32, 21, 15, 27], [10, 9,...  "
      ]
     },
     "execution_count": 93,
     "metadata": {},
     "output_type": "execute_result"
    }
   ],
   "source": [
    "# Importing Models\n",
    "from sklearn.linear_model import LogisticRegression\n",
    "from sklearn.model_selection import KFold, cross_val_score\n",
    "\n",
    "from sklearn.neighbors import KNeighborsClassifier\n",
    "from sklearn.ensemble import RandomForestClassifier\n",
    "from sklearn.ensemble import AdaBoostClassifier\n",
    "from sklearn.tree import DecisionTreeClassifier\n",
    "from sklearn.naive_bayes import MultinomialNB\n",
    "from sklearn import svm\n",
    "# Importing Evaluation matrces\n",
    "from sklearn.metrics import accuracy_score,precision_score,recall_score,f1_score,confusion_matrix,classification_report, plot_confusion_matrix\n",
    "\n",
    "# check the performance on diffrent regressor\n",
    "models = []\n",
    "models.append(('Support Vector Classifier', svm.SVC()))\n",
    "models.append(('LogisitcRegression', LogisticRegression()))\n",
    "models.append(('Naive Bayes', MultinomialNB()))\n",
    "models.append(('KNeighborsClassifier', KNeighborsClassifier()))\n",
    "models.append(('RandomForestClassifier', RandomForestClassifier()))\n",
    "models.append(('AdaBoostClassifier', AdaBoostClassifier()))\n",
    "models.append(('DecisionTreeClassifier', DecisionTreeClassifier()))\n",
    "\n",
    "\n",
    "# prepare the cross-validation procedure\n",
    "cv = KFold(n_splits=5, random_state=1, shuffle=True)\n",
    "\n",
    "# metrices to store performance\n",
    "acc = []\n",
    "pre = []\n",
    "f1 = []\n",
    "con = []\n",
    "rec = []\n",
    "\n",
    "\n",
    "import time\n",
    "i = 0\n",
    "for name,model in models:\n",
    "    i = i+1\n",
    "    start_time = time.time()\n",
    "    \n",
    "    # Fitting model to the Training set\n",
    "    clf = model\n",
    "    clf.fit(X_train, y_train)\n",
    "    \n",
    "    # predict values\n",
    "    y_pred = clf.predict(X_test)\n",
    "    \n",
    "    # Accuracy\n",
    "    accuracy = accuracy_score(y_test, y_pred)\n",
    "    acc.append(accuracy)\n",
    "    # Precision\n",
    "    precision = precision_score(y_test, y_pred, average=None)\n",
    "    pre.append(precision)\n",
    "    # Recall\n",
    "    recall = recall_score(y_test, y_pred, average=None)\n",
    "    rec.append(recall)\n",
    "    # F1 Score\n",
    "    f1_sco = f1_score(y_test, y_pred, average=None)\n",
    "    f1.append(f1_sco)\n",
    "    # Confusion Matrix\n",
    "    confusion_mat = confusion_matrix(y_test, y_pred)\n",
    "    con.append(confusion_mat)\n",
    "    # Report\n",
    "    report = classification_report(y_test, y_pred)\n",
    "    \n",
    "    # evaluate model\n",
    "    scores = cross_val_score(clf, X, y, cv=cv, n_jobs=-1)\n",
    "\n",
    "\n",
    "\n",
    "    print(\"+\",\"=\"*100,\"+\")\n",
    "    print('\\033[1m' + f\"\\t\\t\\t{i}-For {name} The Performance result is: \" + '\\033[0m')\n",
    "    print(\"+\",\"=\"*100,\"+\")\n",
    "    print('Accuracy : ', accuracy)   \n",
    "    print(\"-\"*50)\n",
    "    print('F1 : ', f1_sco)\n",
    "    print(\"-\"*50)\n",
    "    print('Reacll : ', recall)\n",
    "    print(\"-\"*50)\n",
    "    print('Precision : ', precision)\n",
    "    print(\"-\"*50)\n",
    "    print('cross validation accuracy : ', np.mean(scores))\n",
    "    print(\"-\"*50)\n",
    "    print('Confusion Matrix....\\n', confusion_mat)\n",
    "    print(\"-\"*50)\n",
    "    print('Classification Report....\\n', report)\n",
    "    print(\"-\"*50)\n",
    "    print('Plotting Confusion Matrix...\\n')\n",
    "    plot_confusion_matrix(clf, X_test, y_test)\n",
    "    plt.show()\n",
    "\n",
    "\n",
    "    \n",
    "    print(\"\\t\\t\\t\\t\\t\\t\\t-----------------------------------------------------------\")\n",
    "    print(f\"\\t\\t\\t\\t\\t\\t\\t Time for detection ({name}) : {round((time.time() - start_time), 3)} seconds...\")\n",
    "    print(\"\\t\\t\\t\\t\\t\\t\\t-----------------------------------------------------------\")\n",
    "    print()\n",
    "    \n",
    "pd.DataFrame({\"Model\": dict(models).keys(), \"Accuracy\": acc, \"Precision\": pre, \"Recall\": rec, \"F1_Score\": f1, \"Confusion Matrix\": con})"
   ]
  },
  {
   "cell_type": "markdown",
   "id": "c80e86d4",
   "metadata": {},
   "source": [
    "# Preparing Best Model"
   ]
  },
  {
   "cell_type": "code",
   "execution_count": 94,
   "id": "a98b1516",
   "metadata": {},
   "outputs": [],
   "source": [
    "clf=MultinomialNB()"
   ]
  },
  {
   "cell_type": "code",
   "execution_count": 95,
   "id": "90215043",
   "metadata": {},
   "outputs": [
    {
     "data": {
      "text/html": [
       "<style>#sk-container-id-4 {color: black;background-color: white;}#sk-container-id-4 pre{padding: 0;}#sk-container-id-4 div.sk-toggleable {background-color: white;}#sk-container-id-4 label.sk-toggleable__label {cursor: pointer;display: block;width: 100%;margin-bottom: 0;padding: 0.3em;box-sizing: border-box;text-align: center;}#sk-container-id-4 label.sk-toggleable__label-arrow:before {content: \"▸\";float: left;margin-right: 0.25em;color: #696969;}#sk-container-id-4 label.sk-toggleable__label-arrow:hover:before {color: black;}#sk-container-id-4 div.sk-estimator:hover label.sk-toggleable__label-arrow:before {color: black;}#sk-container-id-4 div.sk-toggleable__content {max-height: 0;max-width: 0;overflow: hidden;text-align: left;background-color: #f0f8ff;}#sk-container-id-4 div.sk-toggleable__content pre {margin: 0.2em;color: black;border-radius: 0.25em;background-color: #f0f8ff;}#sk-container-id-4 input.sk-toggleable__control:checked~div.sk-toggleable__content {max-height: 200px;max-width: 100%;overflow: auto;}#sk-container-id-4 input.sk-toggleable__control:checked~label.sk-toggleable__label-arrow:before {content: \"▾\";}#sk-container-id-4 div.sk-estimator input.sk-toggleable__control:checked~label.sk-toggleable__label {background-color: #d4ebff;}#sk-container-id-4 div.sk-label input.sk-toggleable__control:checked~label.sk-toggleable__label {background-color: #d4ebff;}#sk-container-id-4 input.sk-hidden--visually {border: 0;clip: rect(1px 1px 1px 1px);clip: rect(1px, 1px, 1px, 1px);height: 1px;margin: -1px;overflow: hidden;padding: 0;position: absolute;width: 1px;}#sk-container-id-4 div.sk-estimator {font-family: monospace;background-color: #f0f8ff;border: 1px dotted black;border-radius: 0.25em;box-sizing: border-box;margin-bottom: 0.5em;}#sk-container-id-4 div.sk-estimator:hover {background-color: #d4ebff;}#sk-container-id-4 div.sk-parallel-item::after {content: \"\";width: 100%;border-bottom: 1px solid gray;flex-grow: 1;}#sk-container-id-4 div.sk-label:hover label.sk-toggleable__label {background-color: #d4ebff;}#sk-container-id-4 div.sk-serial::before {content: \"\";position: absolute;border-left: 1px solid gray;box-sizing: border-box;top: 0;bottom: 0;left: 50%;z-index: 0;}#sk-container-id-4 div.sk-serial {display: flex;flex-direction: column;align-items: center;background-color: white;padding-right: 0.2em;padding-left: 0.2em;position: relative;}#sk-container-id-4 div.sk-item {position: relative;z-index: 1;}#sk-container-id-4 div.sk-parallel {display: flex;align-items: stretch;justify-content: center;background-color: white;position: relative;}#sk-container-id-4 div.sk-item::before, #sk-container-id-4 div.sk-parallel-item::before {content: \"\";position: absolute;border-left: 1px solid gray;box-sizing: border-box;top: 0;bottom: 0;left: 50%;z-index: -1;}#sk-container-id-4 div.sk-parallel-item {display: flex;flex-direction: column;z-index: 1;position: relative;background-color: white;}#sk-container-id-4 div.sk-parallel-item:first-child::after {align-self: flex-end;width: 50%;}#sk-container-id-4 div.sk-parallel-item:last-child::after {align-self: flex-start;width: 50%;}#sk-container-id-4 div.sk-parallel-item:only-child::after {width: 0;}#sk-container-id-4 div.sk-dashed-wrapped {border: 1px dashed gray;margin: 0 0.4em 0.5em 0.4em;box-sizing: border-box;padding-bottom: 0.4em;background-color: white;}#sk-container-id-4 div.sk-label label {font-family: monospace;font-weight: bold;display: inline-block;line-height: 1.2em;}#sk-container-id-4 div.sk-label-container {text-align: center;}#sk-container-id-4 div.sk-container {/* jupyter's `normalize.less` sets `[hidden] { display: none; }` but bootstrap.min.css set `[hidden] { display: none !important; }` so we also need the `!important` here to be able to override the default hidden behavior on the sphinx rendered scikit-learn.org. See: https://github.com/scikit-learn/scikit-learn/issues/21755 */display: inline-block !important;position: relative;}#sk-container-id-4 div.sk-text-repr-fallback {display: none;}</style><div id=\"sk-container-id-4\" class=\"sk-top-container\"><div class=\"sk-text-repr-fallback\"><pre>MultinomialNB()</pre><b>In a Jupyter environment, please rerun this cell to show the HTML representation or trust the notebook. <br />On GitHub, the HTML representation is unable to render, please try loading this page with nbviewer.org.</b></div><div class=\"sk-container\" hidden><div class=\"sk-item\"><div class=\"sk-estimator sk-toggleable\"><input class=\"sk-toggleable__control sk-hidden--visually\" id=\"sk-estimator-id-4\" type=\"checkbox\" checked><label for=\"sk-estimator-id-4\" class=\"sk-toggleable__label sk-toggleable__label-arrow\">MultinomialNB</label><div class=\"sk-toggleable__content\"><pre>MultinomialNB()</pre></div></div></div></div></div>"
      ],
      "text/plain": [
       "MultinomialNB()"
      ]
     },
     "execution_count": 95,
     "metadata": {},
     "output_type": "execute_result"
    }
   ],
   "source": [
    "clf.fit(X_train,y_train)"
   ]
  },
  {
   "cell_type": "markdown",
   "id": "91665616",
   "metadata": {},
   "source": [
    "### Confusion Matrix"
   ]
  },
  {
   "cell_type": "code",
   "execution_count": 32,
   "id": "9636acfc",
   "metadata": {},
   "outputs": [
    {
     "data": {
      "text/plain": [
       "array([[342,  92,  59, 172],\n",
       "       [ 29,  23,  17,  26],\n",
       "       [  8,  10,  18,  20],\n",
       "       [190, 144, 116, 414]], dtype=int64)"
      ]
     },
     "execution_count": 32,
     "metadata": {},
     "output_type": "execute_result"
    }
   ],
   "source": [
    "confusion_mat = confusion_matrix(y_test, y_pred)\n",
    "confusion_mat"
   ]
  },
  {
   "cell_type": "code",
   "execution_count": 30,
   "id": "a1197dcb",
   "metadata": {},
   "outputs": [
    {
     "name": "stderr",
     "output_type": "stream",
     "text": [
      "c:\\users\\zee tech\\appdata\\local\\programs\\python\\python39\\lib\\site-packages\\sklearn\\utils\\deprecation.py:87: FutureWarning: Function plot_confusion_matrix is deprecated; Function `plot_confusion_matrix` is deprecated in 1.0 and will be removed in 1.2. Use one of the class methods: ConfusionMatrixDisplay.from_predictions or ConfusionMatrixDisplay.from_estimator.\n",
      "  warnings.warn(msg, category=FutureWarning)\n"
     ]
    },
    {
     "data": {
      "image/png": "[encoded data removed]",
      "text/plain": [
       "<Figure size 432x288 with 2 Axes>"
      ]
     },
     "metadata": {
      "needs_background": "light"
     },
     "output_type": "display_data"
    }
   ],
   "source": [
    "plot_confusion_matrix(clf, X_test, y_test)\n",
    "plt.show()"
   ]
  },
  {
   "cell_type": "markdown",
   "id": "81894f1f",
   "metadata": {},
   "source": [
    "# Make Prediction By Input"
   ]
  },
  {
   "cell_type": "code",
   "execution_count": 98,
   "id": "59f801f4",
   "metadata": {},
   "outputs": [],
   "source": [
    "def tag_overview(overview):\n",
    "    x=cvect.transform([overview])\n",
    "    print(clf.predict(x))"
   ]
  },
  {
   "cell_type": "code",
   "execution_count": 99,
   "id": "35b74a6d",
   "metadata": {},
   "outputs": [
    {
     "name": "stdout",
     "output_type": "stream",
     "text": [
      "['comedy']\n"
     ]
    }
   ],
   "source": [
    "tag_overview('puss in boots discovers that his passion for adventure has taken its toll  he has burned through eight of his nine lives  leaving him with only one life left  puss sets out on an epic journey to find the mythical last wish and restore his nine lives ')"
   ]
  },
  {
   "cell_type": "code",
   "execution_count": null,
   "id": "4d990917",
   "metadata": {},
   "outputs": [],
   "source": []
  },
  {
   "cell_type": "code",
   "execution_count": null,
   "id": "e180e93c",
   "metadata": {},
   "outputs": [],
   "source": []
  },
  {
   "cell_type": "code",
   "execution_count": null,
   "id": "d613bcca",
   "metadata": {},
   "outputs": [],
   "source": []
  },
  {
   "cell_type": "markdown",
   "id": "f70657f1",
   "metadata": {},
   "source": [
    "# Movie Recommendation"
   ]
  },
  {
   "cell_type": "code",
   "execution_count": 4,
   "id": "dd12b771",
   "metadata": {},
   "outputs": [],
   "source": [
    "from sklearn.metrics.pairwise import cosine_similarity         #importing cosine similarity\n",
    "from sklearn.feature_extraction.text import CountVectorizer    #text vectorization using bag of words\n",
    "cv=CountVectorizer()"
   ]
  },
  {
   "cell_type": "code",
   "execution_count": 80,
   "id": "734af6fa",
   "metadata": {},
   "outputs": [],
   "source": [
    "def find_most_similar_genre(input_genre, df=df):\n",
    "    genre_list = df['genre_for_recommendation'].tolist()\n",
    "    vectorizer = TfidfVectorizer()\n",
    "    genre_matrix = vectorizer.fit_transform(genre_list)\n",
    "    input_vector = vectorizer.transform([input_genre])\n",
    "    similarities = cosine_similarity(input_vector, genre_matrix)\n",
    "    df['similarity']=similarities.flatten()\n",
    "    new_df=df.sort_values(by='similarity',ascending=False)\n",
    "    return new_df['title']"
   ]
  },
  {
   "cell_type": "code",
   "execution_count": 81,
   "id": "2ee69c79",
   "metadata": {},
   "outputs": [
    {
     "name": "stdout",
     "output_type": "stream",
     "text": [
      "Input Movive Genrecomdey\n"
     ]
    }
   ],
   "source": [
    "genre=input('Input Movive Genre')"
   ]
  },
  {
   "cell_type": "code",
   "execution_count": 82,
   "id": "95a90dfa",
   "metadata": {},
   "outputs": [
    {
     "data": {
      "text/plain": [
       "0               puss in boots: the last wish\n",
       "3729                                    okja\n",
       "3737    hk: hentai kamen 2 - abnormal crisis\n",
       "3736                 kidnapping mr. heineken\n",
       "3735                   my best friend's girl\n",
       "                        ...                 \n",
       "1864                        army of darkness\n",
       "1863                 avp: alien vs. predator\n",
       "1862                     legends of the fall\n",
       "1861                         the italian job\n",
       "5597                             piranha 3dd\n",
       "Name: title, Length: 5598, dtype: object"
      ]
     },
     "execution_count": 82,
     "metadata": {},
     "output_type": "execute_result"
    }
   ],
   "source": [
    "find_most_similar_genre(genre)"
   ]
  },
  {
   "cell_type": "code",
   "execution_count": null,
   "id": "5be29ba4",
   "metadata": {},
   "outputs": [],
   "source": [
    "stop_words = [\"the\", \"and\", \"a\", \"an\", \"to\", \"in\",\"of\", \"that\", \"it\", \"with\", \"as\", \"for\", \"was\", \"on\", \"is\", \"at\", \"by\", \"be\", \"this\", \"which\", \"or\", \"from\", \"but\", \"not\", \"are\", \"your\", \"all\", \"have\", \"new\", \"more\", \"an\", \"was\", \"we\", \"will\", \"home\", \"can\",\"Prerequisites:\",\"Corequisites:\",\"(2)\",\"(1)\", \"(3)\",\"us\"]"
   ]
  }
 ],
 "metadata": {
  "kernelspec": {
   "display_name": "Python 3",
   "language": "python",
   "name": "python3"
  },
  "language_info": {
   "codemirror_mode": {
    "name": "ipython",
    "version": 3
   },
   "file_extension": ".py",
   "mimetype": "text/x-python",
   "name": "python",
   "nbconvert_exporter": "python",
   "pygments_lexer": "ipython3",
   "version": "3.9.5"
  }
 },
 "nbformat": 4,
 "nbformat_minor": 5
}
