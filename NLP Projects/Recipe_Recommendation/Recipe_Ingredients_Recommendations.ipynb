{
 "cells": [
  {
   "cell_type": "code",
   "execution_count": 1,
   "id": "5bac3ce2",
   "metadata": {},
   "outputs": [],
   "source": [
    "import numpy as np # linear algebra\n",
    "import pandas as pd # data processing, CSV file I/O (e.g. pd.read_csv)\n",
    "import matplotlib.pyplot as plt      # creating visualizations their management\n",
    "from wordcloud import WordCloud      #for word clouds\n",
    "import seaborn as sns                #for visualizations\n",
    "import neattext as nt                #for text cleaning"
   ]
  },
  {
   "cell_type": "markdown",
   "id": "a61c6572",
   "metadata": {},
   "source": [
    "### **Reading the Data**"
   ]
  },
  {
   "cell_type": "code",
   "execution_count": 2,
   "id": "656dea7e",
   "metadata": {},
   "outputs": [
    {
     "data": {
      "text/html": [
       "<div>\n",
       "<style scoped>\n",
       "    .dataframe tbody tr th:only-of-type {\n",
       "        vertical-align: middle;\n",
       "    }\n",
       "\n",
       "    .dataframe tbody tr th {\n",
       "        vertical-align: top;\n",
       "    }\n",
       "\n",
       "    .dataframe thead th {\n",
       "        text-align: right;\n",
       "    }\n",
       "</style>\n",
       "<table border=\"1\" class=\"dataframe\">\n",
       "  <thead>\n",
       "    <tr style=\"text-align: right;\">\n",
       "      <th></th>\n",
       "      <th>name</th>\n",
       "      <th>id</th>\n",
       "      <th>minutes</th>\n",
       "      <th>contributor_id</th>\n",
       "      <th>submitted</th>\n",
       "      <th>tags</th>\n",
       "      <th>nutrition</th>\n",
       "      <th>n_steps</th>\n",
       "      <th>steps</th>\n",
       "      <th>description</th>\n",
       "      <th>ingredients</th>\n",
       "      <th>n_ingredients</th>\n",
       "    </tr>\n",
       "  </thead>\n",
       "  <tbody>\n",
       "    <tr>\n",
       "      <th>0</th>\n",
       "      <td>arriba   baked winter squash mexican style</td>\n",
       "      <td>137739</td>\n",
       "      <td>55</td>\n",
       "      <td>47892</td>\n",
       "      <td>2005-09-16</td>\n",
       "      <td>['60-minutes-or-less', 'time-to-make', 'course...</td>\n",
       "      <td>[51.5, 0.0, 13.0, 0.0, 2.0, 0.0, 4.0]</td>\n",
       "      <td>11</td>\n",
       "      <td>['make a choice and proceed with recipe', 'dep...</td>\n",
       "      <td>autumn is my favorite time of year to cook! th...</td>\n",
       "      <td>['winter squash', 'mexican seasoning', 'mixed ...</td>\n",
       "      <td>7</td>\n",
       "    </tr>\n",
       "    <tr>\n",
       "      <th>1</th>\n",
       "      <td>a bit different  breakfast pizza</td>\n",
       "      <td>31490</td>\n",
       "      <td>30</td>\n",
       "      <td>26278</td>\n",
       "      <td>2002-06-17</td>\n",
       "      <td>['30-minutes-or-less', 'time-to-make', 'course...</td>\n",
       "      <td>[173.4, 18.0, 0.0, 17.0, 22.0, 35.0, 1.0]</td>\n",
       "      <td>9</td>\n",
       "      <td>['preheat oven to 425 degrees f', 'press dough...</td>\n",
       "      <td>this recipe calls for the crust to be prebaked...</td>\n",
       "      <td>['prepared pizza crust', 'sausage patty', 'egg...</td>\n",
       "      <td>6</td>\n",
       "    </tr>\n",
       "  </tbody>\n",
       "</table>\n",
       "</div>"
      ],
      "text/plain": [
       "                                         name      id  minutes  \\\n",
       "0  arriba   baked winter squash mexican style  137739       55   \n",
       "1            a bit different  breakfast pizza   31490       30   \n",
       "\n",
       "   contributor_id   submitted  \\\n",
       "0           47892  2005-09-16   \n",
       "1           26278  2002-06-17   \n",
       "\n",
       "                                                tags  \\\n",
       "0  ['60-minutes-or-less', 'time-to-make', 'course...   \n",
       "1  ['30-minutes-or-less', 'time-to-make', 'course...   \n",
       "\n",
       "                                   nutrition  n_steps  \\\n",
       "0      [51.5, 0.0, 13.0, 0.0, 2.0, 0.0, 4.0]       11   \n",
       "1  [173.4, 18.0, 0.0, 17.0, 22.0, 35.0, 1.0]        9   \n",
       "\n",
       "                                               steps  \\\n",
       "0  ['make a choice and proceed with recipe', 'dep...   \n",
       "1  ['preheat oven to 425 degrees f', 'press dough...   \n",
       "\n",
       "                                         description  \\\n",
       "0  autumn is my favorite time of year to cook! th...   \n",
       "1  this recipe calls for the crust to be prebaked...   \n",
       "\n",
       "                                         ingredients  n_ingredients  \n",
       "0  ['winter squash', 'mexican seasoning', 'mixed ...              7  \n",
       "1  ['prepared pizza crust', 'sausage patty', 'egg...              6  "
      ]
     },
     "execution_count": 2,
     "metadata": {},
     "output_type": "execute_result"
    }
   ],
   "source": [
    "df=pd.read_csv('RAW_recipes.csv')\n",
    "df.head(2)"
   ]
  },
  {
   "cell_type": "markdown",
   "id": "f971cf7c",
   "metadata": {},
   "source": [
    "### **Data Preparation**"
   ]
  },
  {
   "cell_type": "code",
   "execution_count": 4,
   "id": "e068f2ba",
   "metadata": {},
   "outputs": [],
   "source": [
    "df['ingredients']=df['ingredients'].apply(lambda x:''.join(x.split(',')))\n",
    "df['ingredients']=df['ingredients'].apply(lambda x:nt.remove_special_characters(x))"
   ]
  },
  {
   "cell_type": "code",
   "execution_count": 9,
   "id": "3c31366b",
   "metadata": {},
   "outputs": [
    {
     "data": {
      "text/plain": [
       "'cucumber potato chopped tomato plain yogurt chat masala paprika salt'"
      ]
     },
     "execution_count": 9,
     "metadata": {},
     "output_type": "execute_result"
    }
   ],
   "source": [
    "df['ingredients'][100]"
   ]
  },
  {
   "cell_type": "markdown",
   "id": "a7910a0f",
   "metadata": {},
   "source": [
    "---\n",
    "### 20 Most Common Ingredients\n",
    "---"
   ]
  },
  {
   "cell_type": "code",
   "execution_count": 5,
   "id": "a8ae6867",
   "metadata": {},
   "outputs": [],
   "source": [
    "ingredients=''.join(df['ingredients'])  #creating copra of ingredients"
   ]
  },
  {
   "cell_type": "code",
   "execution_count": 9,
   "id": "1d3adadb",
   "metadata": {},
   "outputs": [],
   "source": [
    "from collections import Counter   #module for counting occurences of an item"
   ]
  },
  {
   "cell_type": "code",
   "execution_count": 10,
   "id": "68e3a610",
   "metadata": {},
   "outputs": [],
   "source": [
    "cnt=Counter()  #creating obeject of counter\n",
    "cnt.update(ingredients.split())   #counting occurrence of each ingredient"
   ]
  },
  {
   "cell_type": "code",
   "execution_count": 11,
   "id": "29673cd6",
   "metadata": {},
   "outputs": [],
   "source": [
    "cnt=cnt.most_common(20)   #selecting most common item occurence"
   ]
  },
  {
   "cell_type": "code",
   "execution_count": 12,
   "id": "7e9b5293",
   "metadata": {},
   "outputs": [],
   "source": [
    "x=[i[0] for i in cnt]\n",
    "y=[i[1] for i in cnt]"
   ]
  },
  {
   "cell_type": "code",
   "execution_count": 13,
   "id": "86e46e4e",
   "metadata": {},
   "outputs": [
    {
     "data": {
      "image/png": "[encoded data removed]",
      "text/plain": [
       "<Figure size 720x720 with 1 Axes>"
      ]
     },
     "metadata": {
      "needs_background": "light"
     },
     "output_type": "display_data"
    }
   ],
   "source": [
    "plt.figure(figsize=(10,10))\n",
    "sns.barplot(x=y,y=x,orient=\"h\" )\n",
    "plt.title(\"20 Most Common Ingredients\");"
   ]
  },
  {
   "cell_type": "markdown",
   "id": "ba6ca7ef",
   "metadata": {},
   "source": [
    "### **Word Cloud**"
   ]
  },
  {
   "cell_type": "code",
   "execution_count": 18,
   "id": "c0f959d4",
   "metadata": {},
   "outputs": [
    {
     "data": {
      "image/png": "[encoded data removed]",
      "text/plain": [
       "<Figure size 432x288 with 1 Axes>"
      ]
     },
     "metadata": {
      "needs_background": "light"
     },
     "output_type": "display_data"
    }
   ],
   "source": [
    "wordcloud = WordCloud(width=1500, height=800).generate(ingredients)\n",
    "plt.imshow(wordcloud, interpolation='bilinear')\n",
    "plt.axis(\"off\")\n",
    "plt.show()"
   ]
  },
  {
   "cell_type": "markdown",
   "id": "68188d0d",
   "metadata": {},
   "source": [
    "---\n",
    "----"
   ]
  },
  {
   "cell_type": "markdown",
   "id": "696dc835",
   "metadata": {},
   "source": [
    "---\n",
    "# **Method 1: Cosine Similarity**\n",
    "---"
   ]
  },
  {
   "cell_type": "code",
   "execution_count": 3,
   "id": "84c00171",
   "metadata": {},
   "outputs": [],
   "source": [
    "from sklearn.feature_extraction.text import TfidfVectorizer    #importing tf-idf for text vectorizer\n",
    "from sklearn.metrics.pairwise import cosine_similarity         #importing cosine similarity for text similarity\n",
    "# initialize TfidfVectorizer\n",
    "vectorizer = TfidfVectorizer()"
   ]
  },
  {
   "cell_type": "code",
   "execution_count": 4,
   "id": "93916e86",
   "metadata": {},
   "outputs": [],
   "source": [
    "def get_similar_recipe(ingredients,input_ingdnt):\n",
    "    # fit and transform the documents\n",
    "    tfidf_matrix = vectorizer.fit_transform([ingredients, input_ingdnt])\n",
    "    # compute cosine similarity between the documents\n",
    "    cosine_similarities = cosine_similarity(tfidf_matrix[0], tfidf_matrix[1]).flatten()\n",
    "    return cosine_similarities[0]*100"
   ]
  },
  {
   "cell_type": "markdown",
   "id": "38b5a900",
   "metadata": {},
   "source": [
    "### **Input Ingredients**"
   ]
  },
  {
   "cell_type": "code",
   "execution_count": 10,
   "id": "e0ac88e6",
   "metadata": {},
   "outputs": [
    {
     "name": "stdout",
     "output_type": "stream",
     "text": [
      "cucumber potato chopped tomato plain yogurt chat masala paprika salt\n"
     ]
    }
   ],
   "source": [
    "indgnt=input()"
   ]
  },
  {
   "cell_type": "markdown",
   "id": "a0df6dee",
   "metadata": {},
   "source": [
    "### **Note**\n",
    "It will take some time to complete its processing for each request due to huge amount of data, please bear it\n",
    "### **Alternate**\n",
    "Method No. 2"
   ]
  },
  {
   "cell_type": "code",
   "execution_count": 25,
   "id": "137550e2",
   "metadata": {},
   "outputs": [],
   "source": [
    "df['similarity']=df['ingredients'].apply(lambda x:get_similar_recipe(x,indgnt))"
   ]
  },
  {
   "cell_type": "markdown",
   "id": "970f0426",
   "metadata": {},
   "source": [
    "### **Results**"
   ]
  },
  {
   "cell_type": "code",
   "execution_count": 26,
   "id": "0768261c",
   "metadata": {},
   "outputs": [
    {
     "data": {
      "text/html": [
       "<div>\n",
       "<style scoped>\n",
       "    .dataframe tbody tr th:only-of-type {\n",
       "        vertical-align: middle;\n",
       "    }\n",
       "\n",
       "    .dataframe tbody tr th {\n",
       "        vertical-align: top;\n",
       "    }\n",
       "\n",
       "    .dataframe thead th {\n",
       "        text-align: right;\n",
       "    }\n",
       "</style>\n",
       "<table border=\"1\" class=\"dataframe\">\n",
       "  <thead>\n",
       "    <tr style=\"text-align: right;\">\n",
       "      <th></th>\n",
       "      <th>ingredients</th>\n",
       "      <th>name</th>\n",
       "      <th>tags</th>\n",
       "      <th>n_steps</th>\n",
       "      <th>steps</th>\n",
       "      <th>description</th>\n",
       "      <th>similarity</th>\n",
       "    </tr>\n",
       "  </thead>\n",
       "  <tbody>\n",
       "    <tr>\n",
       "      <th>0</th>\n",
       "      <td>winter squash mexican seasoning mixed spice ho...</td>\n",
       "      <td>arriba   baked winter squash mexican style</td>\n",
       "      <td>['60-minutes-or-less', 'time-to-make', 'course...</td>\n",
       "      <td>11</td>\n",
       "      <td>['make a choice and proceed with recipe', 'dep...</td>\n",
       "      <td>autumn is my favorite time of year to cook! th...</td>\n",
       "      <td>100.000000</td>\n",
       "    </tr>\n",
       "    <tr>\n",
       "      <th>98363</th>\n",
       "      <td>cabbage butter seasoning salt pepper olive oil</td>\n",
       "      <td>grilled cabbage by richard</td>\n",
       "      <td>['30-minutes-or-less', 'time-to-make', 'course...</td>\n",
       "      <td>6</td>\n",
       "      <td>['place each wedge in a separate piece of foil...</td>\n",
       "      <td>who's richard you say?  he's one of my dear fr...</td>\n",
       "      <td>40.711465</td>\n",
       "    </tr>\n",
       "    <tr>\n",
       "      <th>107508</th>\n",
       "      <td>honey olive oil</td>\n",
       "      <td>honey hair conditioner</td>\n",
       "      <td>['60-minutes-or-less', 'time-to-make', 'cuisin...</td>\n",
       "      <td>4</td>\n",
       "      <td>['using a small amount at a time work mixture ...</td>\n",
       "      <td>add a beautiful  shine to your hair</td>\n",
       "      <td>39.943950</td>\n",
       "    </tr>\n",
       "    <tr>\n",
       "      <th>138294</th>\n",
       "      <td>tomatoes flour salt pepper seasoning salt butt...</td>\n",
       "      <td>mom s fried red tomatoes</td>\n",
       "      <td>['30-minutes-or-less', 'time-to-make', 'course...</td>\n",
       "      <td>8</td>\n",
       "      <td>['cut tomatoes into thick slices', 'put aside'...</td>\n",
       "      <td>my mom's simple recipe.  easy, great and tasty...</td>\n",
       "      <td>39.166294</td>\n",
       "    </tr>\n",
       "    <tr>\n",
       "      <th>115741</th>\n",
       "      <td>garlic butter olive oil salt</td>\n",
       "      <td>julia child method of preparing garlic</td>\n",
       "      <td>['60-minutes-or-less', 'time-to-make', 'course...</td>\n",
       "      <td>8</td>\n",
       "      <td>['remove all the cloves of garlic from the hea...</td>\n",
       "      <td>i didn't learn this method by reading it any o...</td>\n",
       "      <td>38.755726</td>\n",
       "    </tr>\n",
       "    <tr>\n",
       "      <th>204062</th>\n",
       "      <td>italian seasoning salt olive oil</td>\n",
       "      <td>super easy flavored oil for bread</td>\n",
       "      <td>['15-minutes-or-less', 'time-to-make', 'course...</td>\n",
       "      <td>2</td>\n",
       "      <td>['combine all ingredients', 'use as dip for br...</td>\n",
       "      <td>very good!!!!</td>\n",
       "      <td>38.755726</td>\n",
       "    </tr>\n",
       "    <tr>\n",
       "      <th>78843</th>\n",
       "      <td>popcorn butter olive oil salt</td>\n",
       "      <td>ed s homemade microwave buttery popcorn</td>\n",
       "      <td>['15-minutes-or-less', 'time-to-make', 'course...</td>\n",
       "      <td>9</td>\n",
       "      <td>['pour popcorn in a paper lunch sack', 'add oi...</td>\n",
       "      <td>after much experimentation, this is my husband...</td>\n",
       "      <td>38.755726</td>\n",
       "    </tr>\n",
       "    <tr>\n",
       "      <th>143827</th>\n",
       "      <td>baguette olive oil seasoning salt</td>\n",
       "      <td>nif s quick baguette crisps</td>\n",
       "      <td>['30-minutes-or-less', 'time-to-make', 'course...</td>\n",
       "      <td>10</td>\n",
       "      <td>['preheat oven to 350f', 'place baguette slice...</td>\n",
       "      <td>i had half of a baguette left one day after ma...</td>\n",
       "      <td>38.755726</td>\n",
       "    </tr>\n",
       "    <tr>\n",
       "      <th>21769</th>\n",
       "      <td>dried garbanzo beans salt olive oil mixed spice</td>\n",
       "      <td>berber spice roasted chickpeas</td>\n",
       "      <td>['30-minutes-or-less', 'time-to-make', 'course...</td>\n",
       "      <td>15</td>\n",
       "      <td>['if using dried chickpeas: put rinsed chickpe...</td>\n",
       "      <td>local source. i used and recommend this spice ...</td>\n",
       "      <td>36.847993</td>\n",
       "    </tr>\n",
       "    <tr>\n",
       "      <th>224396</th>\n",
       "      <td>olive oil mixed greens honey balsamic vinegar ...</td>\n",
       "      <td>warm greens saute</td>\n",
       "      <td>['15-minutes-or-less', 'time-to-make', 'course...</td>\n",
       "      <td>5</td>\n",
       "      <td>['heat oil in 10 inch skillet', 'add greens', ...</td>\n",
       "      <td>this side dish is a favorite of ours.</td>\n",
       "      <td>36.847993</td>\n",
       "    </tr>\n",
       "  </tbody>\n",
       "</table>\n",
       "</div>"
      ],
      "text/plain": [
       "                                              ingredients  \\\n",
       "0       winter squash mexican seasoning mixed spice ho...   \n",
       "98363      cabbage butter seasoning salt pepper olive oil   \n",
       "107508                                    honey olive oil   \n",
       "138294  tomatoes flour salt pepper seasoning salt butt...   \n",
       "115741                       garlic butter olive oil salt   \n",
       "204062                   italian seasoning salt olive oil   \n",
       "78843                       popcorn butter olive oil salt   \n",
       "143827                  baguette olive oil seasoning salt   \n",
       "21769     dried garbanzo beans salt olive oil mixed spice   \n",
       "224396  olive oil mixed greens honey balsamic vinegar ...   \n",
       "\n",
       "                                              name  \\\n",
       "0       arriba   baked winter squash mexican style   \n",
       "98363                   grilled cabbage by richard   \n",
       "107508                      honey hair conditioner   \n",
       "138294                    mom s fried red tomatoes   \n",
       "115741      julia child method of preparing garlic   \n",
       "204062           super easy flavored oil for bread   \n",
       "78843      ed s homemade microwave buttery popcorn   \n",
       "143827                 nif s quick baguette crisps   \n",
       "21769               berber spice roasted chickpeas   \n",
       "224396                           warm greens saute   \n",
       "\n",
       "                                                     tags  n_steps  \\\n",
       "0       ['60-minutes-or-less', 'time-to-make', 'course...       11   \n",
       "98363   ['30-minutes-or-less', 'time-to-make', 'course...        6   \n",
       "107508  ['60-minutes-or-less', 'time-to-make', 'cuisin...        4   \n",
       "138294  ['30-minutes-or-less', 'time-to-make', 'course...        8   \n",
       "115741  ['60-minutes-or-less', 'time-to-make', 'course...        8   \n",
       "204062  ['15-minutes-or-less', 'time-to-make', 'course...        2   \n",
       "78843   ['15-minutes-or-less', 'time-to-make', 'course...        9   \n",
       "143827  ['30-minutes-or-less', 'time-to-make', 'course...       10   \n",
       "21769   ['30-minutes-or-less', 'time-to-make', 'course...       15   \n",
       "224396  ['15-minutes-or-less', 'time-to-make', 'course...        5   \n",
       "\n",
       "                                                    steps  \\\n",
       "0       ['make a choice and proceed with recipe', 'dep...   \n",
       "98363   ['place each wedge in a separate piece of foil...   \n",
       "107508  ['using a small amount at a time work mixture ...   \n",
       "138294  ['cut tomatoes into thick slices', 'put aside'...   \n",
       "115741  ['remove all the cloves of garlic from the hea...   \n",
       "204062  ['combine all ingredients', 'use as dip for br...   \n",
       "78843   ['pour popcorn in a paper lunch sack', 'add oi...   \n",
       "143827  ['preheat oven to 350f', 'place baguette slice...   \n",
       "21769   ['if using dried chickpeas: put rinsed chickpe...   \n",
       "224396  ['heat oil in 10 inch skillet', 'add greens', ...   \n",
       "\n",
       "                                              description  similarity  \n",
       "0       autumn is my favorite time of year to cook! th...  100.000000  \n",
       "98363   who's richard you say?  he's one of my dear fr...   40.711465  \n",
       "107508                add a beautiful  shine to your hair   39.943950  \n",
       "138294  my mom's simple recipe.  easy, great and tasty...   39.166294  \n",
       "115741  i didn't learn this method by reading it any o...   38.755726  \n",
       "204062                                      very good!!!!   38.755726  \n",
       "78843   after much experimentation, this is my husband...   38.755726  \n",
       "143827  i had half of a baguette left one day after ma...   38.755726  \n",
       "21769   local source. i used and recommend this spice ...   36.847993  \n",
       "224396              this side dish is a favorite of ours.   36.847993  "
      ]
     },
     "execution_count": 26,
     "metadata": {},
     "output_type": "execute_result"
    }
   ],
   "source": [
    "df.sort_values(by=['similarity'],ascending=False)[['ingredients','name','tags','n_steps','steps','description','similarity']][0:10]"
   ]
  },
  {
   "cell_type": "markdown",
   "id": "284ac23a",
   "metadata": {},
   "source": [
    "---------\n",
    "-----------"
   ]
  },
  {
   "cell_type": "markdown",
   "id": "199a1cee",
   "metadata": {},
   "source": [
    "---\n",
    "# 2nd Method: K-Nearest Neighbors Classifier\n",
    "---"
   ]
  },
  {
   "cell_type": "markdown",
   "id": "ab2196a4",
   "metadata": {},
   "source": [
    "### **Recommendation System:**\n",
    "K-Nearest Neighbors (KNN) algorithm is a simple and effective machine learning model used in recommendation systems. It can be used for content-based filtering and collaborative filtering, handling large and complex datasets, and providing accurate recommendations. KNN does not assume any underlying distribution of data and can be combined with other algorithms to improve performance. It is widely used in e-commerce, social media, and music streaming, and content recommendation systems, helping users find relevant items and improving business metrics. Overall, KNN is an important tool in the field of recommendation systems."
   ]
  },
  {
   "cell_type": "markdown",
   "id": "05320638",
   "metadata": {},
   "source": [
    "---\n",
    "# **Model Development**\n",
    "---"
   ]
  },
  {
   "cell_type": "code",
   "execution_count": 5,
   "id": "f278848c",
   "metadata": {},
   "outputs": [],
   "source": [
    "from sklearn.neighbors import NearestNeighbors #importing NearestNeighbors"
   ]
  },
  {
   "cell_type": "code",
   "execution_count": 6,
   "id": "8883081c",
   "metadata": {},
   "outputs": [],
   "source": [
    "knn=NearestNeighbors()            #creating object of knn"
   ]
  },
  {
   "cell_type": "code",
   "execution_count": 7,
   "id": "2f768483",
   "metadata": {},
   "outputs": [],
   "source": [
    "# initialize TfidfVectorizer\n",
    "vectorizer = TfidfVectorizer()"
   ]
  },
  {
   "cell_type": "code",
   "execution_count": 8,
   "id": "369eb036",
   "metadata": {},
   "outputs": [],
   "source": [
    "X=vectorizer.fit_transform(df['ingredients'])   #vectorizer the text in ingredients"
   ]
  },
  {
   "cell_type": "code",
   "execution_count": 9,
   "id": "89073acb",
   "metadata": {},
   "outputs": [
    {
     "data": {
      "text/html": [
       "<style>#sk-container-id-1 {color: black;background-color: white;}#sk-container-id-1 pre{padding: 0;}#sk-container-id-1 div.sk-toggleable {background-color: white;}#sk-container-id-1 label.sk-toggleable__label {cursor: pointer;display: block;width: 100%;margin-bottom: 0;padding: 0.3em;box-sizing: border-box;text-align: center;}#sk-container-id-1 label.sk-toggleable__label-arrow:before {content: \"▸\";float: left;margin-right: 0.25em;color: #696969;}#sk-container-id-1 label.sk-toggleable__label-arrow:hover:before {color: black;}#sk-container-id-1 div.sk-estimator:hover label.sk-toggleable__label-arrow:before {color: black;}#sk-container-id-1 div.sk-toggleable__content {max-height: 0;max-width: 0;overflow: hidden;text-align: left;background-color: #f0f8ff;}#sk-container-id-1 div.sk-toggleable__content pre {margin: 0.2em;color: black;border-radius: 0.25em;background-color: #f0f8ff;}#sk-container-id-1 input.sk-toggleable__control:checked~div.sk-toggleable__content {max-height: 200px;max-width: 100%;overflow: auto;}#sk-container-id-1 input.sk-toggleable__control:checked~label.sk-toggleable__label-arrow:before {content: \"▾\";}#sk-container-id-1 div.sk-estimator input.sk-toggleable__control:checked~label.sk-toggleable__label {background-color: #d4ebff;}#sk-container-id-1 div.sk-label input.sk-toggleable__control:checked~label.sk-toggleable__label {background-color: #d4ebff;}#sk-container-id-1 input.sk-hidden--visually {border: 0;clip: rect(1px 1px 1px 1px);clip: rect(1px, 1px, 1px, 1px);height: 1px;margin: -1px;overflow: hidden;padding: 0;position: absolute;width: 1px;}#sk-container-id-1 div.sk-estimator {font-family: monospace;background-color: #f0f8ff;border: 1px dotted black;border-radius: 0.25em;box-sizing: border-box;margin-bottom: 0.5em;}#sk-container-id-1 div.sk-estimator:hover {background-color: #d4ebff;}#sk-container-id-1 div.sk-parallel-item::after {content: \"\";width: 100%;border-bottom: 1px solid gray;flex-grow: 1;}#sk-container-id-1 div.sk-label:hover label.sk-toggleable__label {background-color: #d4ebff;}#sk-container-id-1 div.sk-serial::before {content: \"\";position: absolute;border-left: 1px solid gray;box-sizing: border-box;top: 0;bottom: 0;left: 50%;z-index: 0;}#sk-container-id-1 div.sk-serial {display: flex;flex-direction: column;align-items: center;background-color: white;padding-right: 0.2em;padding-left: 0.2em;position: relative;}#sk-container-id-1 div.sk-item {position: relative;z-index: 1;}#sk-container-id-1 div.sk-parallel {display: flex;align-items: stretch;justify-content: center;background-color: white;position: relative;}#sk-container-id-1 div.sk-item::before, #sk-container-id-1 div.sk-parallel-item::before {content: \"\";position: absolute;border-left: 1px solid gray;box-sizing: border-box;top: 0;bottom: 0;left: 50%;z-index: -1;}#sk-container-id-1 div.sk-parallel-item {display: flex;flex-direction: column;z-index: 1;position: relative;background-color: white;}#sk-container-id-1 div.sk-parallel-item:first-child::after {align-self: flex-end;width: 50%;}#sk-container-id-1 div.sk-parallel-item:last-child::after {align-self: flex-start;width: 50%;}#sk-container-id-1 div.sk-parallel-item:only-child::after {width: 0;}#sk-container-id-1 div.sk-dashed-wrapped {border: 1px dashed gray;margin: 0 0.4em 0.5em 0.4em;box-sizing: border-box;padding-bottom: 0.4em;background-color: white;}#sk-container-id-1 div.sk-label label {font-family: monospace;font-weight: bold;display: inline-block;line-height: 1.2em;}#sk-container-id-1 div.sk-label-container {text-align: center;}#sk-container-id-1 div.sk-container {/* jupyter's `normalize.less` sets `[hidden] { display: none; }` but bootstrap.min.css set `[hidden] { display: none !important; }` so we also need the `!important` here to be able to override the default hidden behavior on the sphinx rendered scikit-learn.org. See: https://github.com/scikit-learn/scikit-learn/issues/21755 */display: inline-block !important;position: relative;}#sk-container-id-1 div.sk-text-repr-fallback {display: none;}</style><div id=\"sk-container-id-1\" class=\"sk-top-container\"><div class=\"sk-text-repr-fallback\"><pre>NearestNeighbors(metric=&#x27;cosine&#x27;, n_neighbors=10)</pre><b>In a Jupyter environment, please rerun this cell to show the HTML representation or trust the notebook. <br />On GitHub, the HTML representation is unable to render, please try loading this page with nbviewer.org.</b></div><div class=\"sk-container\" hidden><div class=\"sk-item\"><div class=\"sk-estimator sk-toggleable\"><input class=\"sk-toggleable__control sk-hidden--visually\" id=\"sk-estimator-id-1\" type=\"checkbox\" checked><label for=\"sk-estimator-id-1\" class=\"sk-toggleable__label sk-toggleable__label-arrow\">NearestNeighbors</label><div class=\"sk-toggleable__content\"><pre>NearestNeighbors(metric=&#x27;cosine&#x27;, n_neighbors=10)</pre></div></div></div></div></div>"
      ],
      "text/plain": [
       "NearestNeighbors(metric='cosine', n_neighbors=10)"
      ]
     },
     "execution_count": 9,
     "metadata": {},
     "output_type": "execute_result"
    }
   ],
   "source": [
    "# Train KNN model\n",
    "k = 10 # number of nearest neighbors to consider\n",
    "knn_model = NearestNeighbors(n_neighbors=k, metric='cosine')\n",
    "knn_model.fit(X)"
   ]
  },
  {
   "cell_type": "markdown",
   "id": "961f0223",
   "metadata": {},
   "source": [
    "### **Taking Ingredients as Input from User**"
   ]
  },
  {
   "cell_type": "code",
   "execution_count": 16,
   "id": "30cfdfb7",
   "metadata": {},
   "outputs": [
    {
     "name": "stdout",
     "output_type": "stream",
     "text": [
      "cucumber potato chopped tomato plain yogurt chat masala paprika salt\n"
     ]
    }
   ],
   "source": [
    "input_ing=input()"
   ]
  },
  {
   "cell_type": "code",
   "execution_count": 17,
   "id": "59e601de",
   "metadata": {},
   "outputs": [],
   "source": [
    "x=vectorizer.transform([input_ing])   #vectorizing input ingredients"
   ]
  },
  {
   "cell_type": "code",
   "execution_count": 18,
   "id": "1b99f863",
   "metadata": {},
   "outputs": [],
   "source": [
    "similiarity, indices = knn_model.kneighbors(x, n_neighbors=10)   #getting 10 similar ingredients"
   ]
  },
  {
   "cell_type": "markdown",
   "id": "45acc812",
   "metadata": {},
   "source": [
    "### **Results**"
   ]
  },
  {
   "cell_type": "code",
   "execution_count": 22,
   "id": "efdc3485",
   "metadata": {
    "scrolled": true
   },
   "outputs": [
    {
     "data": {
      "text/html": [
       "<div>\n",
       "<style scoped>\n",
       "    .dataframe tbody tr th:only-of-type {\n",
       "        vertical-align: middle;\n",
       "    }\n",
       "\n",
       "    .dataframe tbody tr th {\n",
       "        vertical-align: top;\n",
       "    }\n",
       "\n",
       "    .dataframe thead th {\n",
       "        text-align: right;\n",
       "    }\n",
       "</style>\n",
       "<table border=\"1\" class=\"dataframe\">\n",
       "  <thead>\n",
       "    <tr style=\"text-align: right;\">\n",
       "      <th></th>\n",
       "      <th>ingredients</th>\n",
       "      <th>name</th>\n",
       "      <th>tags</th>\n",
       "      <th>n_steps</th>\n",
       "      <th>steps</th>\n",
       "      <th>description</th>\n",
       "    </tr>\n",
       "  </thead>\n",
       "  <tbody>\n",
       "    <tr>\n",
       "      <th>100</th>\n",
       "      <td>cucumber potato chopped tomato plain yogurt ch...</td>\n",
       "      <td>tide me over   indian chaat  simple veggie salad</td>\n",
       "      <td>['15-minutes-or-less', 'time-to-make', 'course...</td>\n",
       "      <td>4</td>\n",
       "      <td>['toss everything well in a serving bowl', 'gr...</td>\n",
       "      <td>this version of the famous indian chaat (prono...</td>\n",
       "    </tr>\n",
       "    <tr>\n",
       "      <th>165336</th>\n",
       "      <td>potatoes vegetable oil salt lemon juice scalli...</td>\n",
       "      <td>potatoes with chaat masala</td>\n",
       "      <td>['60-minutes-or-less', 'time-to-make', 'course...</td>\n",
       "      <td>5</td>\n",
       "      <td>['preheat oven to 450 degrees', 'combine potat...</td>\n",
       "      <td>these are very good, low-fat potatoes. you can...</td>\n",
       "    </tr>\n",
       "    <tr>\n",
       "      <th>148672</th>\n",
       "      <td>orange juice cocacola chat masala salt ice</td>\n",
       "      <td>orange bloom</td>\n",
       "      <td>['15-minutes-or-less', 'time-to-make', 'course...</td>\n",
       "      <td>1</td>\n",
       "      <td>['mix all ingredients']</td>\n",
       "      <td>orange juice with a twist</td>\n",
       "    </tr>\n",
       "    <tr>\n",
       "      <th>47135</th>\n",
       "      <td>chickpeas coarse sea salt chat masala olive oi...</td>\n",
       "      <td>chickpea poppers</td>\n",
       "      <td>['60-minutes-or-less', 'time-to-make', 'prepar...</td>\n",
       "      <td>22</td>\n",
       "      <td>['heat the oven to 425 degrees f', 'drain the ...</td>\n",
       "      <td>found this in our local newspaper, the orlando...</td>\n",
       "    </tr>\n",
       "    <tr>\n",
       "      <th>179819</th>\n",
       "      <td>allpurpose flour oil water potatoes cumin seed...</td>\n",
       "      <td>samosas   indian savoury pies</td>\n",
       "      <td>['weeknight', 'time-to-make', 'course', 'main-...</td>\n",
       "      <td>30</td>\n",
       "      <td>['---the dough---', 'mix and rub oil into the ...</td>\n",
       "      <td>posted in answer to a request. it seems a litt...</td>\n",
       "    </tr>\n",
       "    <tr>\n",
       "      <th>38453</th>\n",
       "      <td>canned chickpeas onion salt potatoes tomatoes ...</td>\n",
       "      <td>channa chaat</td>\n",
       "      <td>['60-minutes-or-less', 'time-to-make', 'course...</td>\n",
       "      <td>12</td>\n",
       "      <td>['rinse chickpeas and place in a large bowl', ...</td>\n",
       "      <td>this is a traditional recipe originally from p...</td>\n",
       "    </tr>\n",
       "    <tr>\n",
       "      <th>4177</th>\n",
       "      <td>curds potatoes mint leaves green chili ground ...</td>\n",
       "      <td>aloo ka raita   potatoes in yogurt</td>\n",
       "      <td>['15-minutes-or-less', 'time-to-make', 'course...</td>\n",
       "      <td>7</td>\n",
       "      <td>['add the salt , pepper powder , chaat masala ...</td>\n",
       "      <td>i tasted this raita at a lunch party and just ...</td>\n",
       "    </tr>\n",
       "    <tr>\n",
       "      <th>38428</th>\n",
       "      <td>chana potato tomatoes coriander leaves green c...</td>\n",
       "      <td>chana  chickpeas  chaat</td>\n",
       "      <td>['30-minutes-or-less', 'time-to-make', 'course...</td>\n",
       "      <td>9</td>\n",
       "      <td>['boil and cut the potato into cubes', 'finely...</td>\n",
       "      <td>from the</td>\n",
       "    </tr>\n",
       "    <tr>\n",
       "      <th>67952</th>\n",
       "      <td>cucumber salt plain yogurt chili powder ground...</td>\n",
       "      <td>cucumber raita  super simple  quick and easy</td>\n",
       "      <td>['60-minutes-or-less', 'time-to-make', 'course...</td>\n",
       "      <td>5</td>\n",
       "      <td>['drain the grated cucumber well so that you s...</td>\n",
       "      <td>another adapted recipe from one of my favourit...</td>\n",
       "    </tr>\n",
       "    <tr>\n",
       "      <th>187686</th>\n",
       "      <td>potatoes salt oil coriander powder chat masala...</td>\n",
       "      <td>sindhi aloo  potato  took</td>\n",
       "      <td>['60-minutes-or-less', 'time-to-make', 'course...</td>\n",
       "      <td>13</td>\n",
       "      <td>['peel potatoes and cut into large cubes', 'po...</td>\n",
       "      <td>this is one of our traditional (sindhi) specia...</td>\n",
       "    </tr>\n",
       "  </tbody>\n",
       "</table>\n",
       "</div>"
      ],
      "text/plain": [
       "                                              ingredients  \\\n",
       "100     cucumber potato chopped tomato plain yogurt ch...   \n",
       "165336  potatoes vegetable oil salt lemon juice scalli...   \n",
       "148672         orange juice cocacola chat masala salt ice   \n",
       "47135   chickpeas coarse sea salt chat masala olive oi...   \n",
       "179819  allpurpose flour oil water potatoes cumin seed...   \n",
       "38453   canned chickpeas onion salt potatoes tomatoes ...   \n",
       "4177    curds potatoes mint leaves green chili ground ...   \n",
       "38428   chana potato tomatoes coriander leaves green c...   \n",
       "67952   cucumber salt plain yogurt chili powder ground...   \n",
       "187686  potatoes salt oil coriander powder chat masala...   \n",
       "\n",
       "                                                    name  \\\n",
       "100     tide me over   indian chaat  simple veggie salad   \n",
       "165336                        potatoes with chaat masala   \n",
       "148672                                      orange bloom   \n",
       "47135                                   chickpea poppers   \n",
       "179819                     samosas   indian savoury pies   \n",
       "38453                                       channa chaat   \n",
       "4177                  aloo ka raita   potatoes in yogurt   \n",
       "38428                            chana  chickpeas  chaat   \n",
       "67952       cucumber raita  super simple  quick and easy   \n",
       "187686                         sindhi aloo  potato  took   \n",
       "\n",
       "                                                     tags  n_steps  \\\n",
       "100     ['15-minutes-or-less', 'time-to-make', 'course...        4   \n",
       "165336  ['60-minutes-or-less', 'time-to-make', 'course...        5   \n",
       "148672  ['15-minutes-or-less', 'time-to-make', 'course...        1   \n",
       "47135   ['60-minutes-or-less', 'time-to-make', 'prepar...       22   \n",
       "179819  ['weeknight', 'time-to-make', 'course', 'main-...       30   \n",
       "38453   ['60-minutes-or-less', 'time-to-make', 'course...       12   \n",
       "4177    ['15-minutes-or-less', 'time-to-make', 'course...        7   \n",
       "38428   ['30-minutes-or-less', 'time-to-make', 'course...        9   \n",
       "67952   ['60-minutes-or-less', 'time-to-make', 'course...        5   \n",
       "187686  ['60-minutes-or-less', 'time-to-make', 'course...       13   \n",
       "\n",
       "                                                    steps  \\\n",
       "100     ['toss everything well in a serving bowl', 'gr...   \n",
       "165336  ['preheat oven to 450 degrees', 'combine potat...   \n",
       "148672                            ['mix all ingredients']   \n",
       "47135   ['heat the oven to 425 degrees f', 'drain the ...   \n",
       "179819  ['---the dough---', 'mix and rub oil into the ...   \n",
       "38453   ['rinse chickpeas and place in a large bowl', ...   \n",
       "4177    ['add the salt , pepper powder , chaat masala ...   \n",
       "38428   ['boil and cut the potato into cubes', 'finely...   \n",
       "67952   ['drain the grated cucumber well so that you s...   \n",
       "187686  ['peel potatoes and cut into large cubes', 'po...   \n",
       "\n",
       "                                              description  \n",
       "100     this version of the famous indian chaat (prono...  \n",
       "165336  these are very good, low-fat potatoes. you can...  \n",
       "148672                          orange juice with a twist  \n",
       "47135   found this in our local newspaper, the orlando...  \n",
       "179819  posted in answer to a request. it seems a litt...  \n",
       "38453   this is a traditional recipe originally from p...  \n",
       "4177    i tasted this raita at a lunch party and just ...  \n",
       "38428                                           from the   \n",
       "67952   another adapted recipe from one of my favourit...  \n",
       "187686  this is one of our traditional (sindhi) specia...  "
      ]
     },
     "execution_count": 22,
     "metadata": {},
     "output_type": "execute_result"
    }
   ],
   "source": [
    "df.iloc[indices.flatten()[:]][['ingredients','name','tags','n_steps','steps','description']]"
   ]
  },
  {
   "cell_type": "markdown",
   "id": "2214f47d",
   "metadata": {},
   "source": [
    "---\n",
    "---"
   ]
  },
  {
   "cell_type": "code",
   "execution_count": 12,
   "id": "4243ee23",
   "metadata": {},
   "outputs": [
    {
     "name": "stdout",
     "output_type": "stream",
     "text": [
      "{}\n"
     ]
    }
   ],
   "source": [
    "from googletrans import Translator\n",
    "\n",
    "metrics = [\n",
    "    \"Sales by Region\",\n",
    "    \"Monthly Revenue\",\n",
    "    \"Yearly Sales Trends\",\n",
    "    \"Top Selling Products\",\n",
    "    \"Daily Web Traffic\",\n",
    "    \"Website Bounce Rates\",\n",
    "    \"Monthly Expenses\",\n",
    "    \"Yearly Budget\",\n",
    "    \"Cash Flow Analysis\",\n",
    "    \"Balance Sheet\",\n",
    "    \"Financial Ratios\",\n",
    "    \"Inventory Turnover\",\n",
    "    \"Sales Forecasting\",\n",
    "    \"Website Heatmap\",\n",
    "    \"User Demographics\",\n",
    "    \"Customer Churn Rates\",\n",
    "    \"Brand Reputation\",\n",
    "    \"Email Open Rates\",\n",
    "    \"Cost Per Acquisition\",\n",
    "    \"Cost Per Click\",\n",
    "    \"Cost Per Impression\",\n",
    "    \"Ad Conversion Rates\",\n",
    "    \"Email Marketing ROI\",\n",
    "    \"Mobile App Downloads\",\n",
    "    \"App Store Rankings\",\n",
    "    \"App Retention Rates\",\n",
    "    \"App Usage by Feature\",\n",
    "    \"App User Behavior\",\n",
    "    \"App Monetization\",\n",
    "    \"E-commerce Metrics\",\n",
    "    \"Average Order Value\",\n",
    "    \"Email List Growth\",\n",
    "    \"Product Performance\",\n",
    "    \"Brand Positioning\",\n",
    "    \"Consumer Price Index\",\n",
    "    \"Unemployment Rate\",\n",
    "    \"Inflation Rate\",\n",
    "    \"Manufacturing Index\",\n",
    "    \"Retail Sales Index\",\n",
    "    \"Interest Rates\",\n",
    "    \"Exchange Rates\",\n",
    "    \"Oil Prices\",\n",
    "    \"Commodity Prices\",\n",
    "    \"Demographic Analysis\",\n",
    "    \"Population Growth\",\n",
    "    \"Migration Patterns\",\n",
    "    \"Income Distribution\",\n",
    "    \"Education Levels\",\n",
    "    \"Healthcare Trends\",\n",
    "    \"Environmental Impact\",\n",
    "    \"Corporate Governance\",\n",
    "    \"Investor Relations\",\n",
    "    \"Dividend Yield\",\n",
    "    \"Earnings per Share\",\n",
    "    \"Debt-to-Equity Ratio\",\n",
    "    \"Return on Equity\",\n",
    "    \"Profit Margin\",\n",
    "    \"Return on Assets\",\n",
    "    \"Net Income\",\n",
    "    \"Asset Turnover\",\n",
    "    \"Current Ratio\",\n",
    "    \"Quick Ratio\",\n",
    "    \"Working Capital\",\n",
    "    \"Free Cash Flow\",\n",
    "    \"Net Promoter Score\",\n",
    "    \"Product Mix Analysis\",\n",
    "    \"Purchasing Metrics\"\n",
    "]\n",
    "\n",
    "languages = ['en', 'es', 'fr', 'de', 'it', 'pt', 'ja', 'ko', 'zh-cn', 'ru']\n",
    "\n",
    "translator = Translator()\n",
    "\n",
    "translations = {}\n",
    "\n",
    "for lang in languages:\n",
    "    try:\n",
    "        translations[lang] = [translator.translate(metric, dest=lang).text for metric in metrics]\n",
    "    except:\n",
    "        pass\n",
    "    \n",
    "print(translations)\n"
   ]
  },
  {
   "cell_type": "code",
   "execution_count": null,
   "id": "cf4c09cd",
   "metadata": {},
   "outputs": [],
   "source": []
  }
 ],
 "metadata": {
  "kernelspec": {
   "display_name": "Python 3",
   "language": "python",
   "name": "python3"
  },
  "language_info": {
   "codemirror_mode": {
    "name": "ipython",
    "version": 3
   },
   "file_extension": ".py",
   "mimetype": "text/x-python",
   "name": "python",
   "nbconvert_exporter": "python",
   "pygments_lexer": "ipython3",
   "version": "3.9.5"
  }
 },
 "nbformat": 4,
 "nbformat_minor": 5
}
