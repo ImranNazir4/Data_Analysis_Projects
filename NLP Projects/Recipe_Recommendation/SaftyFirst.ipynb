{
 "cells": [
  {
   "cell_type": "markdown",
   "id": "83cc3440",
   "metadata": {},
   "source": [
    "# Personalized Food Recipes"
   ]
  },
  {
   "cell_type": "markdown",
   "id": "d824590c",
   "metadata": {},
   "source": [
    "## Import Food.com Data"
   ]
  },
  {
   "cell_type": "code",
   "execution_count": 1,
   "id": "0a496c57",
   "metadata": {},
   "outputs": [],
   "source": [
    "# Imports for Project\n",
    "import pandas as pd\n",
    "from tensorflow import keras\n",
    "import numpy as np"
   ]
  },
  {
   "cell_type": "code",
   "execution_count": 2,
   "id": "7a9d9add",
   "metadata": {},
   "outputs": [],
   "source": [
    "# Load data\n",
    "df_interactions = pd.read_csv('RAW_interactions.csv')\n",
    "df_recipes = pd.read_csv('RAW_recipes.csv')"
   ]
  },
  {
   "cell_type": "code",
   "execution_count": 3,
   "id": "61a34981",
   "metadata": {},
   "outputs": [
    {
     "data": {
      "text/html": [
       "<div>\n",
       "<style scoped>\n",
       "    .dataframe tbody tr th:only-of-type {\n",
       "        vertical-align: middle;\n",
       "    }\n",
       "\n",
       "    .dataframe tbody tr th {\n",
       "        vertical-align: top;\n",
       "    }\n",
       "\n",
       "    .dataframe thead th {\n",
       "        text-align: right;\n",
       "    }\n",
       "</style>\n",
       "<table border=\"1\" class=\"dataframe\">\n",
       "  <thead>\n",
       "    <tr style=\"text-align: right;\">\n",
       "      <th></th>\n",
       "      <th>user_id</th>\n",
       "      <th>recipe_id</th>\n",
       "      <th>date</th>\n",
       "      <th>rating</th>\n",
       "      <th>review</th>\n",
       "    </tr>\n",
       "  </thead>\n",
       "  <tbody>\n",
       "    <tr>\n",
       "      <th>0</th>\n",
       "      <td>38094</td>\n",
       "      <td>40893</td>\n",
       "      <td>2003-02-17</td>\n",
       "      <td>4</td>\n",
       "      <td>Great with a salad. Cooked on top of stove for...</td>\n",
       "    </tr>\n",
       "  </tbody>\n",
       "</table>\n",
       "</div>"
      ],
      "text/plain": [
       "   user_id  recipe_id        date  rating  \\\n",
       "0    38094      40893  2003-02-17       4   \n",
       "\n",
       "                                              review  \n",
       "0  Great with a salad. Cooked on top of stove for...  "
      ]
     },
     "execution_count": 3,
     "metadata": {},
     "output_type": "execute_result"
    }
   ],
   "source": [
    "# Print interactions\n",
    "df_interactions[:1]"
   ]
  },
  {
   "cell_type": "code",
   "execution_count": 4,
   "id": "9e0e4d30",
   "metadata": {},
   "outputs": [
    {
     "data": {
      "text/html": [
       "<div>\n",
       "<style scoped>\n",
       "    .dataframe tbody tr th:only-of-type {\n",
       "        vertical-align: middle;\n",
       "    }\n",
       "\n",
       "    .dataframe tbody tr th {\n",
       "        vertical-align: top;\n",
       "    }\n",
       "\n",
       "    .dataframe thead th {\n",
       "        text-align: right;\n",
       "    }\n",
       "</style>\n",
       "<table border=\"1\" class=\"dataframe\">\n",
       "  <thead>\n",
       "    <tr style=\"text-align: right;\">\n",
       "      <th></th>\n",
       "      <th>name</th>\n",
       "      <th>recipe_id</th>\n",
       "      <th>minutes</th>\n",
       "      <th>contributor_id</th>\n",
       "      <th>submitted</th>\n",
       "      <th>tags</th>\n",
       "      <th>nutrition</th>\n",
       "      <th>n_steps</th>\n",
       "      <th>steps</th>\n",
       "      <th>description</th>\n",
       "      <th>ingredients</th>\n",
       "      <th>n_ingredients</th>\n",
       "    </tr>\n",
       "  </thead>\n",
       "  <tbody>\n",
       "    <tr>\n",
       "      <th>0</th>\n",
       "      <td>arriba   baked winter squash mexican style</td>\n",
       "      <td>137739</td>\n",
       "      <td>55</td>\n",
       "      <td>47892</td>\n",
       "      <td>2005-09-16</td>\n",
       "      <td>['60-minutes-or-less', 'time-to-make', 'course...</td>\n",
       "      <td>[51.5, 0.0, 13.0, 0.0, 2.0, 0.0, 4.0]</td>\n",
       "      <td>11</td>\n",
       "      <td>['make a choice and proceed with recipe', 'dep...</td>\n",
       "      <td>autumn is my favorite time of year to cook! th...</td>\n",
       "      <td>['winter squash', 'mexican seasoning', 'mixed ...</td>\n",
       "      <td>7</td>\n",
       "    </tr>\n",
       "  </tbody>\n",
       "</table>\n",
       "</div>"
      ],
      "text/plain": [
       "                                         name  recipe_id  minutes  \\\n",
       "0  arriba   baked winter squash mexican style     137739       55   \n",
       "\n",
       "   contributor_id   submitted  \\\n",
       "0           47892  2005-09-16   \n",
       "\n",
       "                                                tags  \\\n",
       "0  ['60-minutes-or-less', 'time-to-make', 'course...   \n",
       "\n",
       "                               nutrition  n_steps  \\\n",
       "0  [51.5, 0.0, 13.0, 0.0, 2.0, 0.0, 4.0]       11   \n",
       "\n",
       "                                               steps  \\\n",
       "0  ['make a choice and proceed with recipe', 'dep...   \n",
       "\n",
       "                                         description  \\\n",
       "0  autumn is my favorite time of year to cook! th...   \n",
       "\n",
       "                                         ingredients  n_ingredients  \n",
       "0  ['winter squash', 'mexican seasoning', 'mixed ...              7  "
      ]
     },
     "execution_count": 4,
     "metadata": {},
     "output_type": "execute_result"
    }
   ],
   "source": [
    "# Rename id column of recipec to recipe_id for further joining interactions\n",
    "df_recipes = df_recipes.rename(columns = {'id':'recipe_id'})\n",
    "df_recipes[:1]"
   ]
  },
  {
   "cell_type": "code",
   "execution_count": 5,
   "id": "772861e2",
   "metadata": {},
   "outputs": [
    {
     "data": {
      "text/html": [
       "<div>\n",
       "<style scoped>\n",
       "    .dataframe tbody tr th:only-of-type {\n",
       "        vertical-align: middle;\n",
       "    }\n",
       "\n",
       "    .dataframe tbody tr th {\n",
       "        vertical-align: top;\n",
       "    }\n",
       "\n",
       "    .dataframe thead th {\n",
       "        text-align: right;\n",
       "    }\n",
       "</style>\n",
       "<table border=\"1\" class=\"dataframe\">\n",
       "  <thead>\n",
       "    <tr style=\"text-align: right;\">\n",
       "      <th></th>\n",
       "      <th>user_id</th>\n",
       "      <th>recipe_id</th>\n",
       "      <th>date</th>\n",
       "      <th>rating</th>\n",
       "      <th>review</th>\n",
       "      <th>name</th>\n",
       "      <th>minutes</th>\n",
       "      <th>contributor_id</th>\n",
       "      <th>submitted</th>\n",
       "      <th>tags</th>\n",
       "      <th>nutrition</th>\n",
       "      <th>n_steps</th>\n",
       "      <th>steps</th>\n",
       "      <th>description</th>\n",
       "      <th>ingredients</th>\n",
       "      <th>n_ingredients</th>\n",
       "    </tr>\n",
       "  </thead>\n",
       "  <tbody>\n",
       "    <tr>\n",
       "      <th>0</th>\n",
       "      <td>38094</td>\n",
       "      <td>40893</td>\n",
       "      <td>2003-02-17</td>\n",
       "      <td>4</td>\n",
       "      <td>Great with a salad. Cooked on top of stove for...</td>\n",
       "      <td>white bean   green chile pepper soup</td>\n",
       "      <td>495</td>\n",
       "      <td>1533</td>\n",
       "      <td>2002-09-21</td>\n",
       "      <td>['weeknight', 'time-to-make', 'course', 'main-...</td>\n",
       "      <td>[204.8, 5.0, 9.0, 26.0, 24.0, 2.0, 10.0]</td>\n",
       "      <td>4</td>\n",
       "      <td>['combine beans , onion , chilies , 1 / 2 teas...</td>\n",
       "      <td>easy soup for the crockpot.</td>\n",
       "      <td>['great northern beans', 'yellow onion', 'dice...</td>\n",
       "      <td>9</td>\n",
       "    </tr>\n",
       "  </tbody>\n",
       "</table>\n",
       "</div>"
      ],
      "text/plain": [
       "   user_id  recipe_id        date  rating  \\\n",
       "0    38094      40893  2003-02-17       4   \n",
       "\n",
       "                                              review  \\\n",
       "0  Great with a salad. Cooked on top of stove for...   \n",
       "\n",
       "                                   name  minutes  contributor_id   submitted  \\\n",
       "0  white bean   green chile pepper soup      495            1533  2002-09-21   \n",
       "\n",
       "                                                tags  \\\n",
       "0  ['weeknight', 'time-to-make', 'course', 'main-...   \n",
       "\n",
       "                                  nutrition  n_steps  \\\n",
       "0  [204.8, 5.0, 9.0, 26.0, 24.0, 2.0, 10.0]        4   \n",
       "\n",
       "                                               steps  \\\n",
       "0  ['combine beans , onion , chilies , 1 / 2 teas...   \n",
       "\n",
       "                   description  \\\n",
       "0  easy soup for the crockpot.   \n",
       "\n",
       "                                         ingredients  n_ingredients  \n",
       "0  ['great northern beans', 'yellow onion', 'dice...              9  "
      ]
     },
     "execution_count": 5,
     "metadata": {},
     "output_type": "execute_result"
    }
   ],
   "source": [
    "# Joining df_interactions and df_recipes \n",
    "df_merged = pd.merge(df_interactions, df_recipes, on='recipe_id')\n",
    "df_merged[:1]"
   ]
  },
  {
   "cell_type": "code",
   "execution_count": 6,
   "id": "b020baee",
   "metadata": {},
   "outputs": [
    {
     "data": {
      "text/plain": [
       "(1132367, 16)"
      ]
     },
     "execution_count": 6,
     "metadata": {},
     "output_type": "execute_result"
    }
   ],
   "source": [
    "# Check shape\n",
    "df_merged.shape"
   ]
  },
  {
   "cell_type": "code",
   "execution_count": 7,
   "id": "55c367f5",
   "metadata": {
    "scrolled": true
   },
   "outputs": [
    {
     "data": {
      "text/plain": [
       "user_id               0\n",
       "recipe_id             0\n",
       "date                  0\n",
       "rating                0\n",
       "review              169\n",
       "name                  1\n",
       "minutes               0\n",
       "contributor_id        0\n",
       "submitted             0\n",
       "tags                  0\n",
       "nutrition             0\n",
       "n_steps               0\n",
       "steps                 0\n",
       "description       23510\n",
       "ingredients           0\n",
       "n_ingredients         0\n",
       "dtype: int64"
      ]
     },
     "execution_count": 7,
     "metadata": {},
     "output_type": "execute_result"
    }
   ],
   "source": [
    "# Check for NaNs\n",
    "df_merged.isnull().sum()"
   ]
  },
  {
   "cell_type": "code",
   "execution_count": 8,
   "id": "859af74a",
   "metadata": {},
   "outputs": [
    {
     "data": {
      "text/plain": [
       "(1132198, 16)"
      ]
     },
     "execution_count": 8,
     "metadata": {},
     "output_type": "execute_result"
    }
   ],
   "source": [
    "# Delete NaNs\n",
    "df_merged.dropna(subset=['review'], inplace=True)\n",
    "df_merged.shape"
   ]
  },
  {
   "cell_type": "code",
   "execution_count": 9,
   "id": "20c86df2",
   "metadata": {},
   "outputs": [
    {
     "data": {
      "text/html": [
       "<div>\n",
       "<style scoped>\n",
       "    .dataframe tbody tr th:only-of-type {\n",
       "        vertical-align: middle;\n",
       "    }\n",
       "\n",
       "    .dataframe tbody tr th {\n",
       "        vertical-align: top;\n",
       "    }\n",
       "\n",
       "    .dataframe thead th {\n",
       "        text-align: right;\n",
       "    }\n",
       "</style>\n",
       "<table border=\"1\" class=\"dataframe\">\n",
       "  <thead>\n",
       "    <tr style=\"text-align: right;\">\n",
       "      <th></th>\n",
       "      <th>user_id</th>\n",
       "      <th>name</th>\n",
       "      <th>recipe_id</th>\n",
       "      <th>ingredients</th>\n",
       "      <th>n_ingredients</th>\n",
       "      <th>n_steps</th>\n",
       "      <th>nutrition</th>\n",
       "      <th>review</th>\n",
       "    </tr>\n",
       "  </thead>\n",
       "  <tbody>\n",
       "    <tr>\n",
       "      <th>0</th>\n",
       "      <td>38094</td>\n",
       "      <td>white bean   green chile pepper soup</td>\n",
       "      <td>40893</td>\n",
       "      <td>['great northern beans', 'yellow onion', 'dice...</td>\n",
       "      <td>9</td>\n",
       "      <td>4</td>\n",
       "      <td>[204.8, 5.0, 9.0, 26.0, 24.0, 2.0, 10.0]</td>\n",
       "      <td>Great with a salad. Cooked on top of stove for...</td>\n",
       "    </tr>\n",
       "  </tbody>\n",
       "</table>\n",
       "</div>"
      ],
      "text/plain": [
       "   user_id                                  name  recipe_id  \\\n",
       "0    38094  white bean   green chile pepper soup      40893   \n",
       "\n",
       "                                         ingredients  n_ingredients  n_steps  \\\n",
       "0  ['great northern beans', 'yellow onion', 'dice...              9        4   \n",
       "\n",
       "                                  nutrition  \\\n",
       "0  [204.8, 5.0, 9.0, 26.0, 24.0, 2.0, 10.0]   \n",
       "\n",
       "                                              review  \n",
       "0  Great with a salad. Cooked on top of stove for...  "
      ]
     },
     "execution_count": 9,
     "metadata": {},
     "output_type": "execute_result"
    }
   ],
   "source": [
    "# Substract Data to smaller Form\n",
    "df_compact = df_merged[['user_id', 'name', 'recipe_id', 'ingredients', 'n_ingredients', 'n_steps', 'nutrition','review']]\n",
    "df_compact[:1]"
   ]
  },
  {
   "cell_type": "code",
   "execution_count": 10,
   "id": "2f3d3cee",
   "metadata": {},
   "outputs": [
    {
     "data": {
      "text/plain": [
       "user_id           int64\n",
       "name             object\n",
       "recipe_id         int64\n",
       "ingredients      object\n",
       "n_ingredients     int64\n",
       "n_steps           int64\n",
       "nutrition        object\n",
       "review           object\n",
       "dtype: object"
      ]
     },
     "execution_count": 10,
     "metadata": {},
     "output_type": "execute_result"
    }
   ],
   "source": [
    "# Check Data Types\n",
    "df_compact.dtypes"
   ]
  },
  {
   "cell_type": "markdown",
   "id": "14b041f7",
   "metadata": {},
   "source": [
    "## Clean Data"
   ]
  },
  {
   "cell_type": "code",
   "execution_count": 11,
   "id": "8a929c9b",
   "metadata": {},
   "outputs": [
    {
     "data": {
      "text/plain": [
       "(1092089, 8)"
      ]
     },
     "execution_count": 11,
     "metadata": {},
     "output_type": "execute_result"
    }
   ],
   "source": [
    "# Restrict to recipes with at least 3 steps\n",
    "df_n_steps_restricted = df_compact[df_compact.n_steps >=3]\n",
    "df_n_steps_restricted.shape"
   ]
  },
  {
   "cell_type": "code",
   "execution_count": 12,
   "id": "b1bcead7",
   "metadata": {},
   "outputs": [
    {
     "data": {
      "text/plain": [
       "(1084934, 8)"
      ]
     },
     "execution_count": 12,
     "metadata": {},
     "output_type": "execute_result"
    }
   ],
   "source": [
    "# Restrit to at least 4 and no more than 20 ingredients\n",
    "df_n_ingredients_restricted =df_n_steps_restricted[df_n_steps_restricted.n_ingredients >=4]\n",
    "df_n_ingredients_restricted =df_n_steps_restricted[df_n_steps_restricted.n_ingredients <=20]\n",
    "df_n_ingredients_restricted.shape\n"
   ]
  },
  {
   "cell_type": "code",
   "execution_count": 13,
   "id": "adace494",
   "metadata": {},
   "outputs": [
    {
     "data": {
      "text/plain": [
       "(1084934, 8)"
      ]
     },
     "execution_count": 13,
     "metadata": {},
     "output_type": "execute_result"
    }
   ],
   "source": [
    "# Sort Data per User_ID\n",
    "df_sorted = df_n_ingredients_restricted.sort_values(by=['user_id'])\n",
    "df_sorted.shape"
   ]
  },
  {
   "cell_type": "code",
   "execution_count": 14,
   "id": "56d26d07",
   "metadata": {},
   "outputs": [
    {
     "data": {
      "text/plain": [
       "(831736, 8)"
      ]
     },
     "execution_count": 14,
     "metadata": {},
     "output_type": "execute_result"
    }
   ],
   "source": [
    "# Create new DataFrame with Views having 5 or more Reviews\n",
    "df_cleaned = df_sorted.groupby('user_id').filter(lambda x: len(x)>=5)\n",
    "df_cleaned.shape"
   ]
  },
  {
   "cell_type": "code",
   "execution_count": 15,
   "id": "8a05c12f",
   "metadata": {},
   "outputs": [
    {
     "data": {
      "text/html": [
       "<div>\n",
       "<style scoped>\n",
       "    .dataframe tbody tr th:only-of-type {\n",
       "        vertical-align: middle;\n",
       "    }\n",
       "\n",
       "    .dataframe tbody tr th {\n",
       "        vertical-align: top;\n",
       "    }\n",
       "\n",
       "    .dataframe thead th {\n",
       "        text-align: right;\n",
       "    }\n",
       "</style>\n",
       "<table border=\"1\" class=\"dataframe\">\n",
       "  <thead>\n",
       "    <tr style=\"text-align: right;\">\n",
       "      <th></th>\n",
       "      <th>name</th>\n",
       "      <th>ingredients</th>\n",
       "      <th>nutrition</th>\n",
       "    </tr>\n",
       "  </thead>\n",
       "  <tbody>\n",
       "    <tr>\n",
       "      <th>892328</th>\n",
       "      <td>famous walper spinach salad</td>\n",
       "      <td>['fresh spinach', 'whipping cream', 'white vin...</td>\n",
       "      <td>[289.2, 42.0, 2.0, 8.0, 11.0, 77.0, 2.0]</td>\n",
       "    </tr>\n",
       "    <tr>\n",
       "      <th>784943</th>\n",
       "      <td>beef casserole and dumplings</td>\n",
       "      <td>['steak', 'onion', 'carrots', 'parsnip', 'flou...</td>\n",
       "      <td>[280.4, 17.0, 15.0, 38.0, 23.0, 23.0, 11.0]</td>\n",
       "    </tr>\n",
       "    <tr>\n",
       "      <th>326034</th>\n",
       "      <td>bacon and cheese egg appetizers</td>\n",
       "      <td>['hardboiled egg', 'mayonnaise', 'crisp bacon'...</td>\n",
       "      <td>[101.9, 11.0, 2.0, 8.0, 15.0, 13.0, 0.0]</td>\n",
       "    </tr>\n",
       "    <tr>\n",
       "      <th>217851</th>\n",
       "      <td>super stuffed taters</td>\n",
       "      <td>['baking potatoes', 'milk', 'butter', 'salt', ...</td>\n",
       "      <td>[364.7, 36.0, 5.0, 26.0, 18.0, 74.0, 10.0]</td>\n",
       "    </tr>\n",
       "    <tr>\n",
       "      <th>253068</th>\n",
       "      <td>marna s killer rib rub</td>\n",
       "      <td>['brown sugar', 'paprika', 'onion powder', 'ga...</td>\n",
       "      <td>[113.1, 1.0, 85.0, 36.0, 3.0, 0.0, 9.0]</td>\n",
       "    </tr>\n",
       "  </tbody>\n",
       "</table>\n",
       "</div>"
      ],
      "text/plain": [
       "                                   name  \\\n",
       "892328      famous walper spinach salad   \n",
       "784943     beef casserole and dumplings   \n",
       "326034  bacon and cheese egg appetizers   \n",
       "217851             super stuffed taters   \n",
       "253068           marna s killer rib rub   \n",
       "\n",
       "                                              ingredients  \\\n",
       "892328  ['fresh spinach', 'whipping cream', 'white vin...   \n",
       "784943  ['steak', 'onion', 'carrots', 'parsnip', 'flou...   \n",
       "326034  ['hardboiled egg', 'mayonnaise', 'crisp bacon'...   \n",
       "217851  ['baking potatoes', 'milk', 'butter', 'salt', ...   \n",
       "253068  ['brown sugar', 'paprika', 'onion powder', 'ga...   \n",
       "\n",
       "                                          nutrition  \n",
       "892328     [289.2, 42.0, 2.0, 8.0, 11.0, 77.0, 2.0]  \n",
       "784943  [280.4, 17.0, 15.0, 38.0, 23.0, 23.0, 11.0]  \n",
       "326034     [101.9, 11.0, 2.0, 8.0, 15.0, 13.0, 0.0]  \n",
       "217851   [364.7, 36.0, 5.0, 26.0, 18.0, 74.0, 10.0]  \n",
       "253068      [113.1, 1.0, 85.0, 36.0, 3.0, 0.0, 9.0]  "
      ]
     },
     "execution_count": 15,
     "metadata": {},
     "output_type": "execute_result"
    }
   ],
   "source": [
    "# Create new DataFrame with necessary columns\n",
    "df = df_cleaned[['name', 'ingredients', 'nutrition']]\n",
    "df[:5]"
   ]
  },
  {
   "cell_type": "code",
   "execution_count": 16,
   "id": "a31124ea",
   "metadata": {
    "scrolled": true
   },
   "outputs": [
    {
     "data": {
      "text/html": [
       "<div>\n",
       "<style scoped>\n",
       "    .dataframe tbody tr th:only-of-type {\n",
       "        vertical-align: middle;\n",
       "    }\n",
       "\n",
       "    .dataframe tbody tr th {\n",
       "        vertical-align: top;\n",
       "    }\n",
       "\n",
       "    .dataframe thead th {\n",
       "        text-align: right;\n",
       "    }\n",
       "</style>\n",
       "<table border=\"1\" class=\"dataframe\">\n",
       "  <thead>\n",
       "    <tr style=\"text-align: right;\">\n",
       "      <th></th>\n",
       "      <th>name</th>\n",
       "      <th>ingredients</th>\n",
       "      <th>nutrition</th>\n",
       "    </tr>\n",
       "  </thead>\n",
       "  <tbody>\n",
       "    <tr>\n",
       "      <th>860527</th>\n",
       "      <td>carrot relish</td>\n",
       "      <td>['carrots', 'granulated sugar', 'fresh lemon j...</td>\n",
       "      <td>[79.2, 0.0, 57.0, 2.0, 1.0, 0.0, 6.0]</td>\n",
       "    </tr>\n",
       "    <tr>\n",
       "      <th>929230</th>\n",
       "      <td>sticken chicken</td>\n",
       "      <td>['chicken thighs', 'flour', 'garlic salt', 'pa...</td>\n",
       "      <td>[512.8, 33.0, 145.0, 48.0, 56.0, 30.0, 16.0]</td>\n",
       "    </tr>\n",
       "    <tr>\n",
       "      <th>533373</th>\n",
       "      <td>tortilla omelet wrap</td>\n",
       "      <td>['eggs', 'half-and-half', 'salt and pepper', '...</td>\n",
       "      <td>[706.6, 64.0, 13.0, 35.0, 80.0, 96.0, 13.0]</td>\n",
       "    </tr>\n",
       "    <tr>\n",
       "      <th>489237</th>\n",
       "      <td>chicken breast with white wine and mushroom cr...</td>\n",
       "      <td>['chicken breasts', 'olive oil', 'salt', 'pepp...</td>\n",
       "      <td>[486.2, 55.0, 6.0, 6.0, 67.0, 80.0, 1.0]</td>\n",
       "    </tr>\n",
       "    <tr>\n",
       "      <th>271805</th>\n",
       "      <td>crock pot normandy pork with apples  shallots ...</td>\n",
       "      <td>['pork shoulder', 'apples', 'shallots', 'balsa...</td>\n",
       "      <td>[658.8, 73.0, 29.0, 8.0, 64.0, 98.0, 8.0]</td>\n",
       "    </tr>\n",
       "    <tr>\n",
       "      <th>...</th>\n",
       "      <td>...</td>\n",
       "      <td>...</td>\n",
       "      <td>...</td>\n",
       "    </tr>\n",
       "    <tr>\n",
       "      <th>850437</th>\n",
       "      <td>grilled tofu with grapefruit and avocado salsa</td>\n",
       "      <td>['firm tofu', 'red grapefruits', 'navel orange...</td>\n",
       "      <td>[208.0, 13.0, 75.0, 8.0, 9.0, 6.0, 10.0]</td>\n",
       "    </tr>\n",
       "    <tr>\n",
       "      <th>1105848</th>\n",
       "      <td>broccoli and tofu with spicy peanut sauce</td>\n",
       "      <td>['firm tofu', 'broccoli', 'peanut oil', 'onion...</td>\n",
       "      <td>[457.5, 40.0, 90.0, 68.0, 47.0, 26.0, 13.0]</td>\n",
       "    </tr>\n",
       "    <tr>\n",
       "      <th>574647</th>\n",
       "      <td>fresh peach brown sugar pie</td>\n",
       "      <td>['pie crusts', 'sugar', 'brown sugar', 'flour'...</td>\n",
       "      <td>[3014.6, 222.0, 875.0, 99.0, 63.0, 222.0, 137.0]</td>\n",
       "    </tr>\n",
       "    <tr>\n",
       "      <th>131251</th>\n",
       "      <td>tea marbled eggs</td>\n",
       "      <td>['eggs', 'black tea', 'cinnamon sticks', 'star...</td>\n",
       "      <td>[79.9, 7.0, 4.0, 16.0, 13.0, 7.0, 0.0]</td>\n",
       "    </tr>\n",
       "    <tr>\n",
       "      <th>814271</th>\n",
       "      <td>monterey chicken rolls</td>\n",
       "      <td>['boneless skinless chicken breasts', 'montere...</td>\n",
       "      <td>[455.6, 42.0, 4.0, 30.0, 78.0, 55.0, 3.0]</td>\n",
       "    </tr>\n",
       "  </tbody>\n",
       "</table>\n",
       "<p>665389 rows × 3 columns</p>\n",
       "</div>"
      ],
      "text/plain": [
       "                                                      name  \\\n",
       "860527                                       carrot relish   \n",
       "929230                                     sticken chicken   \n",
       "533373                                tortilla omelet wrap   \n",
       "489237   chicken breast with white wine and mushroom cr...   \n",
       "271805   crock pot normandy pork with apples  shallots ...   \n",
       "...                                                    ...   \n",
       "850437      grilled tofu with grapefruit and avocado salsa   \n",
       "1105848          broccoli and tofu with spicy peanut sauce   \n",
       "574647                         fresh peach brown sugar pie   \n",
       "131251                                    tea marbled eggs   \n",
       "814271                              monterey chicken rolls   \n",
       "\n",
       "                                               ingredients  \\\n",
       "860527   ['carrots', 'granulated sugar', 'fresh lemon j...   \n",
       "929230   ['chicken thighs', 'flour', 'garlic salt', 'pa...   \n",
       "533373   ['eggs', 'half-and-half', 'salt and pepper', '...   \n",
       "489237   ['chicken breasts', 'olive oil', 'salt', 'pepp...   \n",
       "271805   ['pork shoulder', 'apples', 'shallots', 'balsa...   \n",
       "...                                                    ...   \n",
       "850437   ['firm tofu', 'red grapefruits', 'navel orange...   \n",
       "1105848  ['firm tofu', 'broccoli', 'peanut oil', 'onion...   \n",
       "574647   ['pie crusts', 'sugar', 'brown sugar', 'flour'...   \n",
       "131251   ['eggs', 'black tea', 'cinnamon sticks', 'star...   \n",
       "814271   ['boneless skinless chicken breasts', 'montere...   \n",
       "\n",
       "                                                nutrition  \n",
       "860527              [79.2, 0.0, 57.0, 2.0, 1.0, 0.0, 6.0]  \n",
       "929230       [512.8, 33.0, 145.0, 48.0, 56.0, 30.0, 16.0]  \n",
       "533373        [706.6, 64.0, 13.0, 35.0, 80.0, 96.0, 13.0]  \n",
       "489237           [486.2, 55.0, 6.0, 6.0, 67.0, 80.0, 1.0]  \n",
       "271805          [658.8, 73.0, 29.0, 8.0, 64.0, 98.0, 8.0]  \n",
       "...                                                   ...  \n",
       "850437           [208.0, 13.0, 75.0, 8.0, 9.0, 6.0, 10.0]  \n",
       "1105848       [457.5, 40.0, 90.0, 68.0, 47.0, 26.0, 13.0]  \n",
       "574647   [3014.6, 222.0, 875.0, 99.0, 63.0, 222.0, 137.0]  \n",
       "131251             [79.9, 7.0, 4.0, 16.0, 13.0, 7.0, 0.0]  \n",
       "814271          [455.6, 42.0, 4.0, 30.0, 78.0, 55.0, 3.0]  \n",
       "\n",
       "[665389 rows x 3 columns]"
      ]
     },
     "execution_count": 16,
     "metadata": {},
     "output_type": "execute_result"
    }
   ],
   "source": [
    "# Split train and test data\n",
    "df_train = df.sample(frac=0.8, random_state=42)\n",
    "idx_train = df_train.index.tolist()\n",
    "idx_test = list(set(df.index.tolist())-set(df_train.index.tolist()))\n",
    "df_test = df.loc[idx_test]\n",
    "df_train"
   ]
  },
  {
   "cell_type": "markdown",
   "id": "f787a0ca",
   "metadata": {},
   "source": [
    "## Text Processing for RNN"
   ]
  },
  {
   "cell_type": "code",
   "execution_count": 17,
   "id": "87c89650",
   "metadata": {},
   "outputs": [],
   "source": [
    "# Generate text sequences\n",
    "import re\n",
    "\n",
    "def generate_sequences_single_text(text, train_len):\n",
    "    \n",
    "    # Create empty list that will contain all text sequences from one review\n",
    "    sequences = []\n",
    "\n",
    "    # Create a list that contains the review as lower case tokens\n",
    "    words = [word.lower() for word in text.split() if re.match('[a-zA-Z]', word)]\n",
    "    \n",
    "    for i in range(train_len, len(words)):\n",
    "\n",
    "        # Create a text sequence with sliding window\n",
    "        seq = words[i-train_len:i]\n",
    "\n",
    "        # Add sequence to list\n",
    "        sequences.append(seq)\n",
    "        \n",
    "    return sequences\n",
    "\n",
    "def generate_sequences(data, train_len):\n",
    "    text_sequences = []\n",
    "    \n",
    "    for d in list(data):\n",
    "    \n",
    "        # Use function generate_sequences on text\n",
    "        seq = generate_sequences_single_text(d, train_len)\n",
    "\n",
    "        if len(seq) > train_len: \n",
    "\n",
    "            # Add list of sequences to text_sequences and text_labels\n",
    "            text_sequences += seq\n",
    "    return text_sequences"
   ]
  },
  {
   "cell_type": "code",
   "execution_count": 18,
   "id": "9197183e",
   "metadata": {},
   "outputs": [],
   "source": [
    "train_len = 10+1 # Länge der Inputsequenz + 1 Label\n",
    "train_sequences = generate_sequences(df_train['ingredients'], train_len)\n",
    "test_sequences = generate_sequences(df_test['ingredients'], train_len)"
   ]
  },
  {
   "cell_type": "markdown",
   "id": "3dd4884f",
   "metadata": {},
   "source": [
    "## Create Model"
   ]
  },
  {
   "cell_type": "code",
   "execution_count": 19,
   "id": "c35f6ea3",
   "metadata": {},
   "outputs": [],
   "source": [
    "from keras.preprocessing.text import Tokenizer\n",
    "from tensorflow.keras.preprocessing.sequence import pad_sequences\n",
    "from keras.layers import Embedding, LSTM, Dense, Bidirectional\n",
    "from keras.models import Sequential"
   ]
  },
  {
   "cell_type": "code",
   "execution_count": 20,
   "id": "a2c5cc03",
   "metadata": {},
   "outputs": [],
   "source": [
    "# Tokenize the text sequences\n",
    "tokenizer = Tokenizer()\n",
    "tokenizer.fit_on_texts(train_sequences)"
   ]
  },
  {
   "cell_type": "code",
   "execution_count": 21,
   "id": "acf0fa03",
   "metadata": {},
   "outputs": [],
   "source": [
    "# Convert the text sequences to numerical sequences\n",
    "train_sequences = tokenizer.texts_to_sequences(train_sequences)\n",
    "test_sequences = tokenizer.texts_to_sequences(test_sequences)"
   ]
  },
  {
   "cell_type": "code",
   "execution_count": 22,
   "id": "32a510db",
   "metadata": {
    "scrolled": true
   },
   "outputs": [],
   "source": [
    "# Pad the numerical sequences to have equal length\n",
    "train_padded = pad_sequences(train_sequences, maxlen=train_len, padding='pre')\n",
    "test_padded = pad_sequences(test_sequences, maxlen=train_len, padding='pre')"
   ]
  },
  {
   "cell_type": "code",
   "execution_count": 23,
   "id": "182e5b63",
   "metadata": {},
   "outputs": [],
   "source": [
    "# Define the input shape of the model\n",
    "input_shape = (train_len, )"
   ]
  },
  {
   "cell_type": "code",
   "execution_count": 24,
   "id": "14cb30b8",
   "metadata": {},
   "outputs": [],
   "source": [
    "# Define the model\n",
    "model = Sequential()"
   ]
  },
  {
   "cell_type": "code",
   "execution_count": 25,
   "id": "e5470b26",
   "metadata": {},
   "outputs": [],
   "source": [
    "# Add an embedding layer\n",
    "model.add(Embedding(input_dim=len(tokenizer.word_index) + 1, output_dim=100, input_length=train_len))"
   ]
  },
  {
   "cell_type": "code",
   "execution_count": 26,
   "id": "27701462",
   "metadata": {},
   "outputs": [],
   "source": [
    "# Add a bidirectional LSTM layer\n",
    "\n",
    "model.add(Bidirectional(LSTM(128, return_sequences=False)))"
   ]
  },
  {
   "cell_type": "code",
   "execution_count": 27,
   "id": "3cdf3439",
   "metadata": {},
   "outputs": [],
   "source": [
    "# Add a dense layer with sigmoid activation function\n",
    "model.add(Dense(1, activation='sigmoid'))"
   ]
  },
  {
   "cell_type": "code",
   "execution_count": 28,
   "id": "8fbefd9f",
   "metadata": {},
   "outputs": [],
   "source": [
    "# Compile the model\n",
    "model.compile(loss='categorical_crossentropy', optimizer='adam', metrics=['accuracy'])"
   ]
  },
  {
   "cell_type": "code",
   "execution_count": 29,
   "id": "fa28674a",
   "metadata": {},
   "outputs": [],
   "source": [
    "# Store sequences as sublists of original\n",
    "train_labels = []\n",
    "for seq in train_sequences:\n",
    "    train_labels.append(seq[-1])\n",
    "    \n",
    "test_labels = []\n",
    "for seq in test_sequences:\n",
    "    test_labels.append(seq[-1])\n",
    "\n",
    "train_sequences = [seq[:-1] for seq in train_sequences]\n",
    "test_sequences = [seq[:-1] for seq in test_sequences]\n",
    "\n",
    "train_labels = np.array(train_labels)\n",
    "test_labels = np.array(test_labels)"
   ]
  },
  {
   "cell_type": "code",
   "execution_count": 30,
   "id": "f91a1a84",
   "metadata": {},
   "outputs": [
    {
     "name": "stdout",
     "output_type": "stream",
     "text": [
      "Epoch 1/10\n",
      "102/102 [==============================] - 4s 19ms/step - loss: 0.0000e+00 - accuracy: 0.0573 - val_loss: 0.0000e+00 - val_accuracy: 0.0655\n",
      "Epoch 2/10\n",
      "102/102 [==============================] - 1s 14ms/step - loss: 0.0000e+00 - accuracy: 0.0574 - val_loss: 0.0000e+00 - val_accuracy: 0.0655\n",
      "Epoch 3/10\n",
      "102/102 [==============================] - 2s 15ms/step - loss: 0.0000e+00 - accuracy: 0.0574 - val_loss: 0.0000e+00 - val_accuracy: 0.0655\n",
      "Epoch 4/10\n",
      "102/102 [==============================] - 2s 20ms/step - loss: 0.0000e+00 - accuracy: 0.0574 - val_loss: 0.0000e+00 - val_accuracy: 0.0655\n",
      "Epoch 5/10\n",
      "102/102 [==============================] - 2s 18ms/step - loss: 0.0000e+00 - accuracy: 0.0574 - val_loss: 0.0000e+00 - val_accuracy: 0.0655\n",
      "Epoch 6/10\n",
      "102/102 [==============================] - 2s 18ms/step - loss: 0.0000e+00 - accuracy: 0.0574 - val_loss: 0.0000e+00 - val_accuracy: 0.0655\n",
      "Epoch 7/10\n",
      "102/102 [==============================] - 2s 16ms/step - loss: 0.0000e+00 - accuracy: 0.0574 - val_loss: 0.0000e+00 - val_accuracy: 0.0655\n",
      "Epoch 8/10\n",
      "102/102 [==============================] - 2s 15ms/step - loss: 0.0000e+00 - accuracy: 0.0574 - val_loss: 0.0000e+00 - val_accuracy: 0.0655\n",
      "Epoch 9/10\n",
      "102/102 [==============================] - 2s 15ms/step - loss: 0.0000e+00 - accuracy: 0.0574 - val_loss: 0.0000e+00 - val_accuracy: 0.0655\n",
      "Epoch 10/10\n",
      "102/102 [==============================] - 2s 15ms/step - loss: 0.0000e+00 - accuracy: 0.0574 - val_loss: 0.0000e+00 - val_accuracy: 0.0655\n"
     ]
    },
    {
     "data": {
      "text/plain": [
       "<keras.callbacks.History at 0x1e0e13a2ee0>"
      ]
     },
     "execution_count": 30,
     "metadata": {},
     "output_type": "execute_result"
    }
   ],
   "source": [
    "# Train the model\n",
    "model.fit(train_padded, train_labels, epochs=10, batch_size=128, validation_split=0.2)"
   ]
  },
  {
   "cell_type": "code",
   "execution_count": null,
   "id": "aece4f69",
   "metadata": {},
   "outputs": [],
   "source": []
  },
  {
   "cell_type": "code",
   "execution_count": null,
   "id": "e4a1bb9e",
   "metadata": {},
   "outputs": [],
   "source": []
  },
  {
   "cell_type": "raw",
   "id": "9ea4eccd",
   "metadata": {},
   "source": []
  }
 ],
 "metadata": {
  "kernelspec": {
   "display_name": "Python 3",
   "language": "python",
   "name": "python3"
  },
  "language_info": {
   "codemirror_mode": {
    "name": "ipython",
    "version": 3
   },
   "file_extension": ".py",
   "mimetype": "text/x-python",
   "name": "python",
   "nbconvert_exporter": "python",
   "pygments_lexer": "ipython3",
   "version": "3.9.5"
  }
 },
 "nbformat": 4,
 "nbformat_minor": 5
}
