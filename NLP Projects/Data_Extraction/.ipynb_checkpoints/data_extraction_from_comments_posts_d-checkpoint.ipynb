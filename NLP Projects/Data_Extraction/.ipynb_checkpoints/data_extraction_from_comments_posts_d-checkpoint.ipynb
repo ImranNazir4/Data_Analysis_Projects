{
 "cells": [
  {
   "cell_type": "markdown",
   "metadata": {
    "id": "4GBZgHxm61A1"
   },
   "source": [
    "Necessaary Dependencies"
   ]
  },
  {
   "cell_type": "code",
   "execution_count": null,
   "metadata": {
    "colab": {
     "base_uri": "https://localhost:8080/"
    },
    "id": "TW1tejGwe6Tk",
    "outputId": "87cceeda-2c30-4293-bf3e-2700e27cdd92"
   },
   "outputs": [
    {
     "name": "stdout",
     "output_type": "stream",
     "text": [
      "Looking in indexes: https://pypi.org/simple, https://us-python.pkg.dev/colab-wheels/public/simple/\n",
      "Collecting translators\n",
      "  Downloading translators-5.5.0-py3-none-any.whl (30 kB)\n",
      "Collecting PyExecJS>=1.5.1\n",
      "  Downloading PyExecJS-1.5.1.tar.gz (13 kB)\n",
      "Collecting pathos>=0.2.9\n",
      "  Downloading pathos-0.3.0-py3-none-any.whl (79 kB)\n",
      "\u001b[K     |████████████████████████████████| 79 kB 4.4 MB/s \n",
      "\u001b[?25hCollecting cryptography>=38.0.1\n",
      "  Downloading cryptography-38.0.3-cp36-abi3-manylinux_2_24_x86_64.whl (4.1 MB)\n",
      "\u001b[K     |████████████████████████████████| 4.1 MB 48.7 MB/s \n",
      "\u001b[?25hRequirement already satisfied: lxml>=4.9.1 in /usr/local/lib/python3.7/dist-packages (from translators) (4.9.1)\n",
      "Collecting requests>=2.28.1\n",
      "  Downloading requests-2.28.1-py3-none-any.whl (62 kB)\n",
      "\u001b[K     |████████████████████████████████| 62 kB 647 kB/s \n",
      "\u001b[?25hRequirement already satisfied: cffi>=1.12 in /usr/local/lib/python3.7/dist-packages (from cryptography>=38.0.1->translators) (1.15.1)\n",
      "Requirement already satisfied: pycparser in /usr/local/lib/python3.7/dist-packages (from cffi>=1.12->cryptography>=38.0.1->translators) (2.21)\n",
      "Collecting multiprocess>=0.70.14\n",
      "  Downloading multiprocess-0.70.14-py37-none-any.whl (115 kB)\n",
      "\u001b[K     |████████████████████████████████| 115 kB 53.1 MB/s \n",
      "\u001b[?25hCollecting ppft>=1.7.6.6\n",
      "  Downloading ppft-1.7.6.6-py3-none-any.whl (52 kB)\n",
      "\u001b[K     |████████████████████████████████| 52 kB 428 kB/s \n",
      "\u001b[?25hCollecting pox>=0.3.2\n",
      "  Downloading pox-0.3.2-py3-none-any.whl (29 kB)\n",
      "Requirement already satisfied: dill>=0.3.6 in /usr/local/lib/python3.7/dist-packages (from pathos>=0.2.9->translators) (0.3.6)\n",
      "Requirement already satisfied: six>=1.10.0 in /usr/local/lib/python3.7/dist-packages (from PyExecJS>=1.5.1->translators) (1.15.0)\n",
      "Requirement already satisfied: charset-normalizer<3,>=2 in /usr/local/lib/python3.7/dist-packages (from requests>=2.28.1->translators) (2.1.1)\n",
      "Requirement already satisfied: certifi>=2017.4.17 in /usr/local/lib/python3.7/dist-packages (from requests>=2.28.1->translators) (2022.9.24)\n",
      "Requirement already satisfied: idna<4,>=2.5 in /usr/local/lib/python3.7/dist-packages (from requests>=2.28.1->translators) (2.10)\n",
      "Requirement already satisfied: urllib3<1.27,>=1.21.1 in /usr/local/lib/python3.7/dist-packages (from requests>=2.28.1->translators) (1.24.3)\n",
      "Building wheels for collected packages: PyExecJS\n",
      "  Building wheel for PyExecJS (setup.py) ... \u001b[?25l\u001b[?25hdone\n",
      "  Created wheel for PyExecJS: filename=PyExecJS-1.5.1-py3-none-any.whl size=14596 sha256=6f9ccc86a786b0bcac9b5375b54de0b3dd7720467e108fb6258adaa663479128\n",
      "  Stored in directory: /root/.cache/pip/wheels/9a/ee/03/da5c0b4a8c13362beeb844eb913bbe58a89bde1de2b9157007\n",
      "Successfully built PyExecJS\n",
      "Installing collected packages: ppft, pox, multiprocess, requests, PyExecJS, pathos, cryptography, translators\n",
      "  Attempting uninstall: requests\n",
      "    Found existing installation: requests 2.23.0\n",
      "    Uninstalling requests-2.23.0:\n",
      "      Successfully uninstalled requests-2.23.0\n",
      "Successfully installed PyExecJS-1.5.1 cryptography-38.0.3 multiprocess-0.70.14 pathos-0.3.0 pox-0.3.2 ppft-1.7.6.6 requests-2.28.1 translators-5.5.0\n",
      "Looking in indexes: https://pypi.org/simple, https://us-python.pkg.dev/colab-wheels/public/simple/\n",
      "Collecting neattext\n",
      "  Downloading neattext-0.1.3-py3-none-any.whl (114 kB)\n",
      "\u001b[K     |████████████████████████████████| 114 kB 15.5 MB/s \n",
      "\u001b[?25hInstalling collected packages: neattext\n",
      "Successfully installed neattext-0.1.3\n",
      "Looking in indexes: https://pypi.org/simple, https://us-python.pkg.dev/colab-wheels/public/simple/\n",
      "Collecting langdetect\n",
      "  Downloading langdetect-1.0.9.tar.gz (981 kB)\n",
      "\u001b[K     |████████████████████████████████| 981 kB 15.6 MB/s \n",
      "\u001b[?25hRequirement already satisfied: six in /usr/local/lib/python3.7/dist-packages (from langdetect) (1.15.0)\n",
      "Building wheels for collected packages: langdetect\n",
      "  Building wheel for langdetect (setup.py) ... \u001b[?25l\u001b[?25hdone\n",
      "  Created wheel for langdetect: filename=langdetect-1.0.9-py3-none-any.whl size=993242 sha256=1de0fb0fbe7bfa35279639bea2c573ba3cd678f1d491359b865e18afcb3c2189\n",
      "  Stored in directory: /root/.cache/pip/wheels/c5/96/8a/f90c59ed25d75e50a8c10a1b1c2d4c402e4dacfa87f3aff36a\n",
      "Successfully built langdetect\n",
      "Installing collected packages: langdetect\n",
      "Successfully installed langdetect-1.0.9\n",
      "Looking in indexes: https://pypi.org/simple, https://us-python.pkg.dev/colab-wheels/public/simple/\n",
      "Collecting demoji\n",
      "  Downloading demoji-1.1.0-py3-none-any.whl (42 kB)\n",
      "\u001b[K     |████████████████████████████████| 42 kB 1.5 MB/s \n",
      "\u001b[?25hInstalling collected packages: demoji\n",
      "Successfully installed demoji-1.1.0\n"
     ]
    }
   ],
   "source": [
    "!pip install translators\n",
    "!pip install neattext\n",
    "!pip install langdetect\n",
    "#!pip install advertools\n",
    "!pip install demoji"
   ]
  },
  {
   "cell_type": "markdown",
   "metadata": {
    "id": "Uu-dvEJD66yI"
   },
   "source": [
    "Importing Dependencies"
   ]
  },
  {
   "cell_type": "code",
   "execution_count": null,
   "metadata": {
    "colab": {
     "base_uri": "https://localhost:8080/"
    },
    "id": "hQwGISP9bxEv",
    "outputId": "7137f2cf-628c-4a24-82e6-1655451c22d4"
   },
   "outputs": [
    {
     "name": "stderr",
     "output_type": "stream",
     "text": [
      "Using state Groningen server backend.\n"
     ]
    }
   ],
   "source": [
    "import pandas as pd\n",
    "import neattext as nt\n",
    "import translators as ts\n",
    "#import advertools as adv\n",
    "from langdetect import detect\n",
    "import re\n",
    "import demoji"
   ]
  },
  {
   "cell_type": "markdown",
   "metadata": {
    "id": "BYK0F-gy7AJ4"
   },
   "source": [
    "Reading the Data File"
   ]
  },
  {
   "cell_type": "code",
   "execution_count": null,
   "metadata": {
    "id": "B6pCUVZydeHW"
   },
   "outputs": [],
   "source": [
    "df=pd.read_csv('CommentsForAnalysis.csv',encoding='utf-8')"
   ]
  },
  {
   "cell_type": "code",
   "execution_count": null,
   "metadata": {
    "colab": {
     "base_uri": "https://localhost:8080/"
    },
    "id": "XENLz8p4a6pB",
    "outputId": "3eb44c4f-ed37-453c-ef33-e3458653d359"
   },
   "outputs": [
    {
     "data": {
      "text/plain": [
       "Index(['commentId', 'message'], dtype='object')"
      ]
     },
     "execution_count": 12,
     "metadata": {},
     "output_type": "execute_result"
    }
   ],
   "source": [
    "df.columns"
   ]
  },
  {
   "cell_type": "markdown",
   "metadata": {
    "id": "RbKNNoCQ7GZe"
   },
   "source": [
    "Emojis Extraction"
   ]
  },
  {
   "cell_type": "code",
   "execution_count": null,
   "metadata": {
    "id": "6K35T2Z7C6ZK"
   },
   "outputs": [],
   "source": [
    "emj_list=[]"
   ]
  },
  {
   "cell_type": "code",
   "execution_count": null,
   "metadata": {
    "id": "sWoSdc8qq10e"
   },
   "outputs": [],
   "source": [
    "def extract_emojis_desc(text):\n",
    "  emj_list=[]\n",
    "  emojis=demoji.findall(text)\n",
    "  for emoji in emojis.values():\n",
    "    emj_list.append(emoji)\n",
    "  return emj_list"
   ]
  },
  {
   "cell_type": "code",
   "execution_count": null,
   "metadata": {
    "id": "cdP1efqJduwp"
   },
   "outputs": [],
   "source": [
    "def extract_emojis(text):\n",
    "  emj=demoji.findall(text)\n",
    "  return ','.join(emj.keys())"
   ]
  },
  {
   "cell_type": "code",
   "execution_count": null,
   "metadata": {
    "id": "ONQVtJfIem7S"
   },
   "outputs": [],
   "source": [
    "df['emojis']=df['message'].apply(lambda x:extract_emojis(str(x)))"
   ]
  },
  {
   "cell_type": "code",
   "execution_count": null,
   "metadata": {
    "id": "_FDPNrK7zXyZ"
   },
   "outputs": [],
   "source": [
    "df['emojis_description']=df['message'].apply(lambda x:','.join(extract_emojis_desc(str(x))))"
   ]
  },
  {
   "cell_type": "markdown",
   "metadata": {
    "id": "MnFBhdP-7PyS"
   },
   "source": [
    "Hashtags Extraction"
   ]
  },
  {
   "cell_type": "code",
   "execution_count": null,
   "metadata": {
    "id": "W_gHx1AGgMi-"
   },
   "outputs": [],
   "source": [
    "def extract_hastags(text):\n",
    "  hashtags = re.findall(\"#([a-zA-Z0-9_]{1,50})\", text)\n",
    "  return ','.join(hashtags)"
   ]
  },
  {
   "cell_type": "code",
   "execution_count": null,
   "metadata": {
    "id": "bz68vQcj7Tus"
   },
   "outputs": [],
   "source": [
    "df['hashtags']=df['message'].apply(lambda x:extract_hastags(str(x)))"
   ]
  },
  {
   "cell_type": "markdown",
   "metadata": {
    "id": "2z0MUjXR7WU1"
   },
   "source": [
    "User Handles Extraction"
   ]
  },
  {
   "cell_type": "code",
   "execution_count": null,
   "metadata": {
    "id": "Ir_5-K0nhAbw"
   },
   "outputs": [],
   "source": [
    "def extract_handles(text):\n",
    "  user_handles = re.findall(\"@[A-Za-z0-9_]+\",text)\n",
    "  return ','.join(user_handles)"
   ]
  },
  {
   "cell_type": "code",
   "execution_count": null,
   "metadata": {
    "id": "HrqTi2dmha5K"
   },
   "outputs": [],
   "source": [
    "df['user_handles']=df['message'].apply(lambda x:extract_handles(str(x)))"
   ]
  },
  {
   "cell_type": "markdown",
   "metadata": {
    "id": "M3MgdviY7glz"
   },
   "source": [
    "Translation Using Google Translator"
   ]
  },
  {
   "cell_type": "code",
   "execution_count": null,
   "metadata": {
    "id": "exY_BueIh2Z0"
   },
   "outputs": [],
   "source": [
    "import translators as ts"
   ]
  },
  {
   "cell_type": "markdown",
   "metadata": {
    "id": "x8qqoQTr7tnB"
   },
   "source": [
    "Text Cleaning Before Translation"
   ]
  },
  {
   "cell_type": "code",
   "execution_count": null,
   "metadata": {
    "id": "J4L4-5FFptfA"
   },
   "outputs": [],
   "source": [
    "def remove_emoji(text):\n",
    "  emojis=demoji.findall(text)\n",
    "  for emoji in emojis.keys():\n",
    "    text=text.replace(emoji,'')\n",
    "  return text"
   ]
  },
  {
   "cell_type": "code",
   "execution_count": null,
   "metadata": {
    "id": "mc8oB2m4n7KD"
   },
   "outputs": [],
   "source": [
    "def text_cleaning(text):\n",
    "  text=remove_emoji(text)\n",
    "  text=text.replace('_', '')\n",
    "  text=re.sub(r'\\\\n', '', text)\n",
    "  text=nt.remove_emojis(text)\n",
    "  text=nt.remove_numbers(text)\n",
    "  text=nt.remove_urls(text)\n",
    "  text=nt.remove_multiple_spaces(text)\n",
    "  text=nt.remove_hashtags(text)\n",
    "  text=nt.remove_bad_quotes(text)\n",
    "  text=nt.remove_userhandles(text)\n",
    "  return text"
   ]
  },
  {
   "cell_type": "code",
   "execution_count": 1,
   "metadata": {
    "colab": {
     "base_uri": "https://localhost:8080/",
     "height": 171
    },
    "id": "sNyaICYY6YEL",
    "outputId": "36b5b541-8e90-4248-9690-cd0ce05a4d69"
   },
   "outputs": [
    {
     "ename": "NameError",
     "evalue": "ignored",
     "output_type": "error",
     "traceback": [
      "\u001b[0;31m---------------------------------------------------------------------------\u001b[0m",
      "\u001b[0;31mNameError\u001b[0m                                 Traceback (most recent call last)",
      "\u001b[0;32m<ipython-input-1-3eca2c7876c1>\u001b[0m in \u001b[0;36m<module>\u001b[0;34m\u001b[0m\n\u001b[0;32m----> 1\u001b[0;31m \u001b[0mdf\u001b[0m\u001b[0;34m[\u001b[0m\u001b[0;34m'cleaned text'\u001b[0m\u001b[0;34m]\u001b[0m\u001b[0;34m=\u001b[0m\u001b[0mdf\u001b[0m\u001b[0;34m[\u001b[0m\u001b[0;34m'message'\u001b[0m\u001b[0;34m]\u001b[0m\u001b[0;34m.\u001b[0m\u001b[0mapply\u001b[0m\u001b[0;34m(\u001b[0m\u001b[0;32mlambda\u001b[0m \u001b[0mx\u001b[0m\u001b[0;34m:\u001b[0m\u001b[0mtext_cleaning\u001b[0m\u001b[0;34m(\u001b[0m\u001b[0mstr\u001b[0m\u001b[0;34m(\u001b[0m\u001b[0mx\u001b[0m\u001b[0;34m)\u001b[0m\u001b[0;34m)\u001b[0m\u001b[0;34m)\u001b[0m\u001b[0;34m\u001b[0m\u001b[0;34m\u001b[0m\u001b[0m\n\u001b[0m",
      "\u001b[0;31mNameError\u001b[0m: name 'df' is not defined"
     ]
    }
   ],
   "source": [
    "df['cleaned text']=df['message'].apply(lambda x:text_cleaning(str(x)))"
   ]
  },
  {
   "cell_type": "code",
   "execution_count": null,
   "metadata": {
    "id": "mY-5FmTyluZU"
   },
   "outputs": [],
   "source": [
    "def translator(text):\n",
    "  try:\n",
    "    lang=detect(text)\n",
    "    if lang!='en' and len(text)<5000:\n",
    "      trans_text=ts.google(text,to_language='en')\n",
    "      return trans_text\n",
    "  except:\n",
    "    return text"
   ]
  },
  {
   "cell_type": "code",
   "execution_count": null,
   "metadata": {
    "colab": {
     "base_uri": "https://localhost:8080/",
     "height": 171
    },
    "id": "GXVH1Ipmmom-",
    "outputId": "1421d680-6ada-421e-ea2a-c2f20ee491b7"
   },
   "outputs": [
    {
     "ename": "NameError",
     "evalue": "ignored",
     "output_type": "error",
     "traceback": [
      "\u001b[0;31m---------------------------------------------------------------------------\u001b[0m",
      "\u001b[0;31mNameError\u001b[0m                                 Traceback (most recent call last)",
      "\u001b[0;32m<ipython-input-2-f148a6bf715b>\u001b[0m in \u001b[0;36m<module>\u001b[0;34m\u001b[0m\n\u001b[0;32m----> 1\u001b[0;31m \u001b[0mdf\u001b[0m\u001b[0;34m[\u001b[0m\u001b[0;34m'translated_message'\u001b[0m\u001b[0;34m]\u001b[0m\u001b[0;34m=\u001b[0m\u001b[0mdf\u001b[0m\u001b[0;34m[\u001b[0m\u001b[0;34m'cleaned_message'\u001b[0m\u001b[0;34m]\u001b[0m\u001b[0;34m[\u001b[0m\u001b[0;36m0\u001b[0m\u001b[0;34m:\u001b[0m\u001b[0;36m100\u001b[0m\u001b[0;34m]\u001b[0m\u001b[0;34m.\u001b[0m\u001b[0mapply\u001b[0m\u001b[0;34m(\u001b[0m\u001b[0;32mlambda\u001b[0m \u001b[0mx\u001b[0m\u001b[0;34m:\u001b[0m\u001b[0mtranslator\u001b[0m\u001b[0;34m(\u001b[0m\u001b[0mstr\u001b[0m\u001b[0;34m(\u001b[0m\u001b[0mx\u001b[0m\u001b[0;34m)\u001b[0m\u001b[0;34m)\u001b[0m\u001b[0;34m)\u001b[0m\u001b[0;34m\u001b[0m\u001b[0;34m\u001b[0m\u001b[0m\n\u001b[0m",
      "\u001b[0;31mNameError\u001b[0m: name 'df' is not defined"
     ]
    }
   ],
   "source": [
    "df['translated text']=df['cleaned text'].apply(lambda x:translator(str(x)))"
   ]
  },
  {
   "cell_type": "code",
   "execution_count": null,
   "metadata": {
    "id": "KAjhx8xlwjuL"
   },
   "outputs": [],
   "source": [
    "df.to_excel('write_Desired_file_name.xlsx')"
   ]
  }
 ],
 "metadata": {
  "colab": {
   "provenance": []
  },
  "kernelspec": {
   "display_name": "Python 3",
   "language": "python",
   "name": "python3"
  },
  "language_info": {
   "codemirror_mode": {
    "name": "ipython",
    "version": 3
   },
   "file_extension": ".py",
   "mimetype": "text/x-python",
   "name": "python",
   "nbconvert_exporter": "python",
   "pygments_lexer": "ipython3",
   "version": "3.9.5"
  }
 },
 "nbformat": 4,
 "nbformat_minor": 1
}
