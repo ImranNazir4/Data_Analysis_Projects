{
  "cells": [
    {
      "cell_type": "code",
      "execution_count": null,
      "metadata": {
        "colab": {
          "base_uri": "https://localhost:8080/"
        },
        "id": "TW1tejGwe6Tk",
        "outputId": "87cceeda-2c30-4293-bf3e-2700e27cdd92"
      },
      "outputs": [
        {
          "output_type": "stream",
          "name": "stdout",
          "text": [
            "Looking in indexes: https://pypi.org/simple, https://us-python.pkg.dev/colab-wheels/public/simple/\n",
            "Collecting translators\n",
            "  Downloading translators-5.5.0-py3-none-any.whl (30 kB)\n",
            "Collecting PyExecJS>=1.5.1\n",
            "  Downloading PyExecJS-1.5.1.tar.gz (13 kB)\n",
            "Collecting pathos>=0.2.9\n",
            "  Downloading pathos-0.3.0-py3-none-any.whl (79 kB)\n",
            "\u001b[K     |████████████████████████████████| 79 kB 4.4 MB/s \n",
            "\u001b[?25hCollecting cryptography>=38.0.1\n",
            "  Downloading cryptography-38.0.3-cp36-abi3-manylinux_2_24_x86_64.whl (4.1 MB)\n",
            "\u001b[K     |████████████████████████████████| 4.1 MB 48.7 MB/s \n",
            "\u001b[?25hRequirement already satisfied: lxml>=4.9.1 in /usr/local/lib/python3.7/dist-packages (from translators) (4.9.1)\n",
            "Collecting requests>=2.28.1\n",
            "  Downloading requests-2.28.1-py3-none-any.whl (62 kB)\n",
            "\u001b[K     |████████████████████████████████| 62 kB 647 kB/s \n",
            "\u001b[?25hRequirement already satisfied: cffi>=1.12 in /usr/local/lib/python3.7/dist-packages (from cryptography>=38.0.1->translators) (1.15.1)\n",
            "Requirement already satisfied: pycparser in /usr/local/lib/python3.7/dist-packages (from cffi>=1.12->cryptography>=38.0.1->translators) (2.21)\n",
            "Collecting multiprocess>=0.70.14\n",
            "  Downloading multiprocess-0.70.14-py37-none-any.whl (115 kB)\n",
            "\u001b[K     |████████████████████████████████| 115 kB 53.1 MB/s \n",
            "\u001b[?25hCollecting ppft>=1.7.6.6\n",
            "  Downloading ppft-1.7.6.6-py3-none-any.whl (52 kB)\n",
            "\u001b[K     |████████████████████████████████| 52 kB 428 kB/s \n",
            "\u001b[?25hCollecting pox>=0.3.2\n",
            "  Downloading pox-0.3.2-py3-none-any.whl (29 kB)\n",
            "Requirement already satisfied: dill>=0.3.6 in /usr/local/lib/python3.7/dist-packages (from pathos>=0.2.9->translators) (0.3.6)\n",
            "Requirement already satisfied: six>=1.10.0 in /usr/local/lib/python3.7/dist-packages (from PyExecJS>=1.5.1->translators) (1.15.0)\n",
            "Requirement already satisfied: charset-normalizer<3,>=2 in /usr/local/lib/python3.7/dist-packages (from requests>=2.28.1->translators) (2.1.1)\n",
            "Requirement already satisfied: certifi>=2017.4.17 in /usr/local/lib/python3.7/dist-packages (from requests>=2.28.1->translators) (2022.9.24)\n",
            "Requirement already satisfied: idna<4,>=2.5 in /usr/local/lib/python3.7/dist-packages (from requests>=2.28.1->translators) (2.10)\n",
            "Requirement already satisfied: urllib3<1.27,>=1.21.1 in /usr/local/lib/python3.7/dist-packages (from requests>=2.28.1->translators) (1.24.3)\n",
            "Building wheels for collected packages: PyExecJS\n",
            "  Building wheel for PyExecJS (setup.py) ... \u001b[?25l\u001b[?25hdone\n",
            "  Created wheel for PyExecJS: filename=PyExecJS-1.5.1-py3-none-any.whl size=14596 sha256=6f9ccc86a786b0bcac9b5375b54de0b3dd7720467e108fb6258adaa663479128\n",
            "  Stored in directory: /root/.cache/pip/wheels/9a/ee/03/da5c0b4a8c13362beeb844eb913bbe58a89bde1de2b9157007\n",
            "Successfully built PyExecJS\n",
            "Installing collected packages: ppft, pox, multiprocess, requests, PyExecJS, pathos, cryptography, translators\n",
            "  Attempting uninstall: requests\n",
            "    Found existing installation: requests 2.23.0\n",
            "    Uninstalling requests-2.23.0:\n",
            "      Successfully uninstalled requests-2.23.0\n",
            "Successfully installed PyExecJS-1.5.1 cryptography-38.0.3 multiprocess-0.70.14 pathos-0.3.0 pox-0.3.2 ppft-1.7.6.6 requests-2.28.1 translators-5.5.0\n",
            "Looking in indexes: https://pypi.org/simple, https://us-python.pkg.dev/colab-wheels/public/simple/\n",
            "Collecting neattext\n",
            "  Downloading neattext-0.1.3-py3-none-any.whl (114 kB)\n",
            "\u001b[K     |████████████████████████████████| 114 kB 15.5 MB/s \n",
            "\u001b[?25hInstalling collected packages: neattext\n",
            "Successfully installed neattext-0.1.3\n",
            "Looking in indexes: https://pypi.org/simple, https://us-python.pkg.dev/colab-wheels/public/simple/\n",
            "Collecting langdetect\n",
            "  Downloading langdetect-1.0.9.tar.gz (981 kB)\n",
            "\u001b[K     |████████████████████████████████| 981 kB 15.6 MB/s \n",
            "\u001b[?25hRequirement already satisfied: six in /usr/local/lib/python3.7/dist-packages (from langdetect) (1.15.0)\n",
            "Building wheels for collected packages: langdetect\n",
            "  Building wheel for langdetect (setup.py) ... \u001b[?25l\u001b[?25hdone\n",
            "  Created wheel for langdetect: filename=langdetect-1.0.9-py3-none-any.whl size=993242 sha256=1de0fb0fbe7bfa35279639bea2c573ba3cd678f1d491359b865e18afcb3c2189\n",
            "  Stored in directory: /root/.cache/pip/wheels/c5/96/8a/f90c59ed25d75e50a8c10a1b1c2d4c402e4dacfa87f3aff36a\n",
            "Successfully built langdetect\n",
            "Installing collected packages: langdetect\n",
            "Successfully installed langdetect-1.0.9\n",
            "Looking in indexes: https://pypi.org/simple, https://us-python.pkg.dev/colab-wheels/public/simple/\n",
            "Collecting demoji\n",
            "  Downloading demoji-1.1.0-py3-none-any.whl (42 kB)\n",
            "\u001b[K     |████████████████████████████████| 42 kB 1.5 MB/s \n",
            "\u001b[?25hInstalling collected packages: demoji\n",
            "Successfully installed demoji-1.1.0\n"
          ]
        }
      ],
      "source": [
        "!pip install translators\n",
        "!pip install neattext\n",
        "!pip install langdetect\n",
        "#!pip install advertools\n",
        "!pip install demoji"
      ]
    },
    {
      "cell_type": "code",
      "execution_count": null,
      "metadata": {
        "id": "hQwGISP9bxEv",
        "colab": {
          "base_uri": "https://localhost:8080/"
        },
        "outputId": "7137f2cf-628c-4a24-82e6-1655451c22d4"
      },
      "outputs": [
        {
          "output_type": "stream",
          "name": "stderr",
          "text": [
            "Using state Groningen server backend.\n"
          ]
        }
      ],
      "source": [
        "import pandas as pd\n",
        "import neattext as nt\n",
        "import translators as ts\n",
        "#import advertools as adv\n",
        "import re\n",
        "import demoji"
      ]
    },
    {
      "cell_type": "code",
      "execution_count": null,
      "metadata": {
        "id": "B6pCUVZydeHW"
      },
      "outputs": [],
      "source": [
        "df=pd.read_csv('CommentsForAnalysis.csv',encoding='utf-8')"
      ]
    },
    {
      "cell_type": "code",
      "execution_count": null,
      "metadata": {
        "id": "XENLz8p4a6pB",
        "colab": {
          "base_uri": "https://localhost:8080/"
        },
        "outputId": "3eb44c4f-ed37-453c-ef33-e3458653d359"
      },
      "outputs": [
        {
          "output_type": "execute_result",
          "data": {
            "text/plain": [
              "Index(['commentId', 'message'], dtype='object')"
            ]
          },
          "metadata": {},
          "execution_count": 12
        }
      ],
      "source": [
        "df.columns"
      ]
    },
    {
      "cell_type": "code",
      "execution_count": null,
      "metadata": {
        "id": "6K35T2Z7C6ZK"
      },
      "outputs": [],
      "source": [
        "emj_list=[]"
      ]
    },
    {
      "cell_type": "code",
      "execution_count": null,
      "metadata": {
        "id": "sWoSdc8qq10e"
      },
      "outputs": [],
      "source": [
        "def extract_emojis_desc(text):\n",
        "  emj_list=[]\n",
        "  emojis=demoji.findall(text)\n",
        "  for emoji in emojis.values():\n",
        "    emj_list.append(emoji)\n",
        "  return emj_list"
      ]
    },
    {
      "cell_type": "code",
      "execution_count": null,
      "metadata": {
        "id": "cdP1efqJduwp"
      },
      "outputs": [],
      "source": [
        "def extract_emojis(text):\n",
        "  emj=demoji.findall(text)\n",
        "  return ','.join(emj.keys())"
      ]
    },
    {
      "cell_type": "code",
      "execution_count": null,
      "metadata": {
        "id": "ONQVtJfIem7S"
      },
      "outputs": [],
      "source": [
        "df['emojis']=df['message'].apply(lambda x:extract_emojis(str(x)))"
      ]
    },
    {
      "cell_type": "code",
      "execution_count": null,
      "metadata": {
        "id": "_FDPNrK7zXyZ"
      },
      "outputs": [],
      "source": [
        "df['emojis_description']=df['message'].apply(lambda x:','.join(extract_emojis_desc(str(x))))"
      ]
    },
    {
      "cell_type": "code",
      "execution_count": null,
      "metadata": {
        "id": "W_gHx1AGgMi-"
      },
      "outputs": [],
      "source": [
        "def extract_hastags(text):\n",
        "  hashtags = re.findall(\"#([a-zA-Z0-9_]{1,50})\", text)\n",
        "  return ','.join(hashtags)"
      ]
    },
    {
      "cell_type": "code",
      "execution_count": null,
      "metadata": {
        "id": "Ir_5-K0nhAbw"
      },
      "outputs": [],
      "source": [
        "def extract_handles(text):\n",
        "  user_handles = re.findall(\"@[A-Za-z0-9_]+\",text)\n",
        "  return ','.join(user_handles)"
      ]
    },
    {
      "cell_type": "code",
      "execution_count": null,
      "metadata": {
        "id": "iSBUX38lhN_g"
      },
      "outputs": [],
      "source": [
        "df['hashtags']=df['message'].apply(lambda x:extract_hastags(str(x)))"
      ]
    },
    {
      "cell_type": "code",
      "execution_count": null,
      "metadata": {
        "id": "HrqTi2dmha5K"
      },
      "outputs": [],
      "source": [
        "df['user_handles']=df['message'].apply(lambda x:extract_handles(str(x)))"
      ]
    },
    {
      "cell_type": "code",
      "source": [
        "df.shape"
      ],
      "metadata": {
        "colab": {
          "base_uri": "https://localhost:8080/"
        },
        "id": "gE-Tq2mDqjX0",
        "outputId": "512a088f-9c8c-4890-a147-777c2b7cfffa"
      },
      "execution_count": null,
      "outputs": [
        {
          "output_type": "execute_result",
          "data": {
            "text/plain": [
              "(2264197, 6)"
            ]
          },
          "metadata": {},
          "execution_count": 23
        }
      ]
    },
    {
      "cell_type": "code",
      "source": [
        "df[0:1000000].to_excel('cleaned_without_translation_comments_m1.xlsx')"
      ],
      "metadata": {
        "id": "3Gf_Oe1oulCj"
      },
      "execution_count": null,
      "outputs": []
    },
    {
      "cell_type": "code",
      "source": [
        "df[1000000:2000000].to_excel('cleaned_without_translation_comments_m2.xlsx')"
      ],
      "metadata": {
        "id": "_hxvrHEluf4S"
      },
      "execution_count": null,
      "outputs": []
    },
    {
      "cell_type": "code",
      "source": [
        "df[2000000:2264197].to_excel('cleaned_without_translation_comments_m3.xlsx')"
      ],
      "metadata": {
        "id": "a28ezhUrudiJ"
      },
      "execution_count": null,
      "outputs": []
    },
    {
      "cell_type": "code",
      "source": [],
      "metadata": {
        "id": "Wok6IY8ruczE"
      },
      "execution_count": null,
      "outputs": []
    },
    {
      "cell_type": "code",
      "source": [],
      "metadata": {
        "id": "sDfJVa_Tucg8"
      },
      "execution_count": null,
      "outputs": []
    },
    {
      "cell_type": "code",
      "execution_count": null,
      "metadata": {
        "id": "exY_BueIh2Z0"
      },
      "outputs": [],
      "source": [
        "import translators as ts"
      ]
    },
    {
      "cell_type": "code",
      "execution_count": null,
      "metadata": {
        "colab": {
          "base_uri": "https://localhost:8080/"
        },
        "id": "lNorubc2l4z7",
        "outputId": "42066ae2-54a4-4e05-8b09-3641d92f7c65"
      },
      "outputs": [
        {
          "output_type": "stream",
          "name": "stdout",
          "text": [
            "cy\n"
          ]
        }
      ],
      "source": [
        "from langdetect import detect\n",
        "# Specifying the language for\n",
        "# detection\n",
        "text=\"Mae'r llwynog brown cyflym yn neidio dros y ci diog.\"\n",
        "print(detect(\"Mae'r llwynog brown cyflym yn neidio dros y ci diog.\"))"
      ]
    },
    {
      "cell_type": "code",
      "execution_count": null,
      "metadata": {
        "id": "J4L4-5FFptfA"
      },
      "outputs": [],
      "source": [
        "def remove_emoji(text):\n",
        "  emojis=demoji.findall(text)\n",
        "  for emoji in emojis.keys():\n",
        "    text=text.replace(emoji,'')\n",
        "  return text"
      ]
    },
    {
      "cell_type": "code",
      "execution_count": null,
      "metadata": {
        "id": "mc8oB2m4n7KD"
      },
      "outputs": [],
      "source": [
        "def text_cleaning(text):\n",
        "  text=remove_emoji(text)\n",
        "  text=text.replace('_', '')\n",
        "  text=re.sub(r'\\\\n', '', text)\n",
        "  #text=re.sub(r'//', '', text)\n",
        "  #text=nt.remove_special_characters(text)\n",
        "  text=nt.remove_emojis(text)\n",
        "  text=nt.remove_numbers(text)\n",
        "  text=nt.remove_urls(text)\n",
        "  text=nt.remove_multiple_spaces(text)\n",
        "  text=nt.remove_hashtags(text)\n",
        "  text=nt.remove_bad_quotes(text)\n",
        "  text=nt.remove_userhandles(text)\n",
        "  return text"
      ]
    },
    {
      "cell_type": "code",
      "execution_count": null,
      "metadata": {
        "id": "sNyaICYY6YEL"
      },
      "outputs": [],
      "source": [
        "df['cleaned_message']=df['message'][1000000:2000000].apply(lambda x:text_cleaning(str(x)))"
      ]
    },
    {
      "cell_type": "code",
      "source": [
        "df['cleaned_message']=df['message'][2000000:2264197].apply(lambda x:text_cleaning(str(x)))"
      ],
      "metadata": {
        "id": "0BMe51wKbrNZ"
      },
      "execution_count": null,
      "outputs": []
    },
    {
      "cell_type": "code",
      "source": [],
      "metadata": {
        "id": "PX9yndt6brKi"
      },
      "execution_count": null,
      "outputs": []
    },
    {
      "cell_type": "code",
      "source": [
        "def  get_str_len(text):\n",
        "  if len(text) in [543926,478037,249828,224178,201185,155166,147583,121784,66024,47538,39528,36746,34548,33166,28148]:\n",
        "    return ''\n",
        "  else:\n",
        "   return text"
      ],
      "metadata": {
        "id": "DKZxMQyD71xY"
      },
      "execution_count": null,
      "outputs": []
    },
    {
      "cell_type": "code",
      "source": [
        "df['cleaned_message']=df['cleaned_message'].apply(lambda x:get_str_len(x))"
      ],
      "metadata": {
        "id": "1R8k8Q4N76MQ"
      },
      "execution_count": null,
      "outputs": []
    },
    {
      "cell_type": "code",
      "execution_count": null,
      "metadata": {
        "id": "mY-5FmTyluZU"
      },
      "outputs": [],
      "source": [
        "def translator(text):\n",
        "  try:\n",
        "    trans_text=ts.google(text,to_language='en')\n",
        "    return trans_text\n",
        "  except:\n",
        "    return text"
      ]
    },
    {
      "cell_type": "code",
      "execution_count": null,
      "metadata": {
        "id": "GXVH1Ipmmom-",
        "colab": {
          "base_uri": "https://localhost:8080/",
          "height": 171
        },
        "outputId": "1421d680-6ada-421e-ea2a-c2f20ee491b7"
      },
      "outputs": [
        {
          "output_type": "error",
          "ename": "NameError",
          "evalue": "ignored",
          "traceback": [
            "\u001b[0;31m---------------------------------------------------------------------------\u001b[0m",
            "\u001b[0;31mNameError\u001b[0m                                 Traceback (most recent call last)",
            "\u001b[0;32m<ipython-input-2-f148a6bf715b>\u001b[0m in \u001b[0;36m<module>\u001b[0;34m\u001b[0m\n\u001b[0;32m----> 1\u001b[0;31m \u001b[0mdf\u001b[0m\u001b[0;34m[\u001b[0m\u001b[0;34m'translated_message'\u001b[0m\u001b[0;34m]\u001b[0m\u001b[0;34m=\u001b[0m\u001b[0mdf\u001b[0m\u001b[0;34m[\u001b[0m\u001b[0;34m'cleaned_message'\u001b[0m\u001b[0;34m]\u001b[0m\u001b[0;34m[\u001b[0m\u001b[0;36m0\u001b[0m\u001b[0;34m:\u001b[0m\u001b[0;36m100\u001b[0m\u001b[0;34m]\u001b[0m\u001b[0;34m.\u001b[0m\u001b[0mapply\u001b[0m\u001b[0;34m(\u001b[0m\u001b[0;32mlambda\u001b[0m \u001b[0mx\u001b[0m\u001b[0;34m:\u001b[0m\u001b[0mtranslator\u001b[0m\u001b[0;34m(\u001b[0m\u001b[0mstr\u001b[0m\u001b[0;34m(\u001b[0m\u001b[0mx\u001b[0m\u001b[0;34m)\u001b[0m\u001b[0;34m)\u001b[0m\u001b[0;34m)\u001b[0m\u001b[0;34m\u001b[0m\u001b[0;34m\u001b[0m\u001b[0m\n\u001b[0m",
            "\u001b[0;31mNameError\u001b[0m: name 'df' is not defined"
          ]
        }
      ],
      "source": [
        "df['translated_message']=df['cleaned_message'][0:100].apply(lambda x:translator(str(x)))"
      ]
    },
    {
      "cell_type": "code",
      "source": [
        "df['translated_message']=df['cleaned_message'][100000:200000].apply(lambda x:translator(str(x)))"
      ],
      "metadata": {
        "id": "zvK57M_YXfam"
      },
      "execution_count": null,
      "outputs": []
    },
    {
      "cell_type": "code",
      "source": [
        "df['translated_message']=df['cleaned_message'][200000:300000].apply(lambda x:translator(str(x)))"
      ],
      "metadata": {
        "id": "qvc5dHJVXfHB"
      },
      "execution_count": null,
      "outputs": []
    },
    {
      "cell_type": "code",
      "source": [
        "df['translated_message']=df['cleaned_message'][16500:17000].apply(lambda x:translator(str(x)))"
      ],
      "metadata": {
        "id": "PHguuVbpBo_o"
      },
      "execution_count": null,
      "outputs": []
    },
    {
      "cell_type": "code",
      "source": [
        "df['translated_message']=df['cleaned_message'][17000:17500].apply(lambda x:translator(str(x)))"
      ],
      "metadata": {
        "id": "9KIAzjOKBqi8"
      },
      "execution_count": null,
      "outputs": []
    },
    {
      "cell_type": "code",
      "source": [
        "df['translated_message']=df['cleaned_message'][17500:18000].apply(lambda x:translator(str(x)))"
      ],
      "metadata": {
        "id": "q979_-ZjBqWV"
      },
      "execution_count": null,
      "outputs": []
    },
    {
      "cell_type": "code",
      "source": [
        "df['translated_message']=df['cleaned_message'][18000:18500].apply(lambda x:translator(str(x)))"
      ],
      "metadata": {
        "id": "mYw9ctnhBoyc"
      },
      "execution_count": null,
      "outputs": []
    },
    {
      "cell_type": "code",
      "source": [
        "df['translated_message']=df['cleaned_message'][18500:19000].apply(lambda x:translator(str(x)))"
      ],
      "metadata": {
        "id": "97kgt0zaQ6md"
      },
      "execution_count": null,
      "outputs": []
    },
    {
      "cell_type": "code",
      "source": [
        "df['translated_message']=df['cleaned_message'][19000:19500].apply(lambda x:translator(str(x)))"
      ],
      "metadata": {
        "id": "XLENV6JaQ6Y6"
      },
      "execution_count": null,
      "outputs": []
    },
    {
      "cell_type": "code",
      "source": [
        "df['translated_message']=df['cleaned_message'][19500:20000].apply(lambda x:translator(str(x)))"
      ],
      "metadata": {
        "id": "a8zJudw9Q6Lr"
      },
      "execution_count": null,
      "outputs": []
    },
    {
      "cell_type": "code",
      "source": [
        "df.to_excel('analysis2_15k_to_20000records_done.xlsx')"
      ],
      "metadata": {
        "id": "hRRkJa2OQ5-v"
      },
      "execution_count": null,
      "outputs": []
    },
    {
      "cell_type": "code",
      "source": [
        "df['translated_message']=df['cleaned_message'][3000:4000].apply(lambda x:translator(str(x)))"
      ],
      "metadata": {
        "id": "WOOl7msuXe0X",
        "colab": {
          "base_uri": "https://localhost:8080/",
          "height": 398
        },
        "outputId": "201d1f20-0ffe-4b41-cce1-2aa4b26b222d"
      },
      "execution_count": null,
      "outputs": [
        {
          "output_type": "error",
          "ename": "HTTPError",
          "evalue": "ignored",
          "traceback": [
            "\u001b[0;31m---------------------------------------------------------------------------\u001b[0m",
            "\u001b[0;31mHTTPError\u001b[0m                                 Traceback (most recent call last)",
            "\u001b[0;32m<ipython-input-28-e017fe544e24>\u001b[0m in \u001b[0;36m<module>\u001b[0;34m\u001b[0m\n\u001b[0;32m----> 1\u001b[0;31m \u001b[0mdf\u001b[0m\u001b[0;34m[\u001b[0m\u001b[0;34m'translated_message'\u001b[0m\u001b[0;34m]\u001b[0m\u001b[0;34m=\u001b[0m\u001b[0mdf\u001b[0m\u001b[0;34m[\u001b[0m\u001b[0;34m'cleaned_message'\u001b[0m\u001b[0;34m]\u001b[0m\u001b[0;34m[\u001b[0m\u001b[0;36m3000\u001b[0m\u001b[0;34m:\u001b[0m\u001b[0;36m4000\u001b[0m\u001b[0;34m]\u001b[0m\u001b[0;34m.\u001b[0m\u001b[0mapply\u001b[0m\u001b[0;34m(\u001b[0m\u001b[0;32mlambda\u001b[0m \u001b[0mx\u001b[0m\u001b[0;34m:\u001b[0m\u001b[0mtranslator\u001b[0m\u001b[0;34m(\u001b[0m\u001b[0mstr\u001b[0m\u001b[0;34m(\u001b[0m\u001b[0mx\u001b[0m\u001b[0;34m)\u001b[0m\u001b[0;34m)\u001b[0m\u001b[0;34m)\u001b[0m\u001b[0;34m\u001b[0m\u001b[0;34m\u001b[0m\u001b[0m\n\u001b[0m",
            "\u001b[0;32m/usr/local/lib/python3.7/dist-packages/pandas/core/series.py\u001b[0m in \u001b[0;36mapply\u001b[0;34m(self, func, convert_dtype, args, **kwargs)\u001b[0m\n\u001b[1;32m   4355\u001b[0m         \u001b[0mdtype\u001b[0m\u001b[0;34m:\u001b[0m \u001b[0mfloat64\u001b[0m\u001b[0;34m\u001b[0m\u001b[0;34m\u001b[0m\u001b[0m\n\u001b[1;32m   4356\u001b[0m         \"\"\"\n\u001b[0;32m-> 4357\u001b[0;31m         \u001b[0;32mreturn\u001b[0m \u001b[0mSeriesApply\u001b[0m\u001b[0;34m(\u001b[0m\u001b[0mself\u001b[0m\u001b[0;34m,\u001b[0m \u001b[0mfunc\u001b[0m\u001b[0;34m,\u001b[0m \u001b[0mconvert_dtype\u001b[0m\u001b[0;34m,\u001b[0m \u001b[0margs\u001b[0m\u001b[0;34m,\u001b[0m \u001b[0mkwargs\u001b[0m\u001b[0;34m)\u001b[0m\u001b[0;34m.\u001b[0m\u001b[0mapply\u001b[0m\u001b[0;34m(\u001b[0m\u001b[0;34m)\u001b[0m\u001b[0;34m\u001b[0m\u001b[0;34m\u001b[0m\u001b[0m\n\u001b[0m\u001b[1;32m   4358\u001b[0m \u001b[0;34m\u001b[0m\u001b[0m\n\u001b[1;32m   4359\u001b[0m     def _reduce(\n",
            "\u001b[0;32m/usr/local/lib/python3.7/dist-packages/pandas/core/apply.py\u001b[0m in \u001b[0;36mapply\u001b[0;34m(self)\u001b[0m\n\u001b[1;32m   1041\u001b[0m             \u001b[0;32mreturn\u001b[0m \u001b[0mself\u001b[0m\u001b[0;34m.\u001b[0m\u001b[0mapply_str\u001b[0m\u001b[0;34m(\u001b[0m\u001b[0;34m)\u001b[0m\u001b[0;34m\u001b[0m\u001b[0;34m\u001b[0m\u001b[0m\n\u001b[1;32m   1042\u001b[0m \u001b[0;34m\u001b[0m\u001b[0m\n\u001b[0;32m-> 1043\u001b[0;31m         \u001b[0;32mreturn\u001b[0m \u001b[0mself\u001b[0m\u001b[0;34m.\u001b[0m\u001b[0mapply_standard\u001b[0m\u001b[0;34m(\u001b[0m\u001b[0;34m)\u001b[0m\u001b[0;34m\u001b[0m\u001b[0;34m\u001b[0m\u001b[0m\n\u001b[0m\u001b[1;32m   1044\u001b[0m \u001b[0;34m\u001b[0m\u001b[0m\n\u001b[1;32m   1045\u001b[0m     \u001b[0;32mdef\u001b[0m \u001b[0magg\u001b[0m\u001b[0;34m(\u001b[0m\u001b[0mself\u001b[0m\u001b[0;34m)\u001b[0m\u001b[0;34m:\u001b[0m\u001b[0;34m\u001b[0m\u001b[0;34m\u001b[0m\u001b[0m\n",
            "\u001b[0;32m/usr/local/lib/python3.7/dist-packages/pandas/core/apply.py\u001b[0m in \u001b[0;36mapply_standard\u001b[0;34m(self)\u001b[0m\n\u001b[1;32m   1099\u001b[0m                     \u001b[0mvalues\u001b[0m\u001b[0;34m,\u001b[0m\u001b[0;34m\u001b[0m\u001b[0;34m\u001b[0m\u001b[0m\n\u001b[1;32m   1100\u001b[0m                     \u001b[0mf\u001b[0m\u001b[0;34m,\u001b[0m  \u001b[0;31m# type: ignore[arg-type]\u001b[0m\u001b[0;34m\u001b[0m\u001b[0;34m\u001b[0m\u001b[0m\n\u001b[0;32m-> 1101\u001b[0;31m                     \u001b[0mconvert\u001b[0m\u001b[0;34m=\u001b[0m\u001b[0mself\u001b[0m\u001b[0;34m.\u001b[0m\u001b[0mconvert_dtype\u001b[0m\u001b[0;34m,\u001b[0m\u001b[0;34m\u001b[0m\u001b[0;34m\u001b[0m\u001b[0m\n\u001b[0m\u001b[1;32m   1102\u001b[0m                 )\n\u001b[1;32m   1103\u001b[0m \u001b[0;34m\u001b[0m\u001b[0m\n",
            "\u001b[0;32m/usr/local/lib/python3.7/dist-packages/pandas/_libs/lib.pyx\u001b[0m in \u001b[0;36mpandas._libs.lib.map_infer\u001b[0;34m()\u001b[0m\n",
            "\u001b[0;32m<ipython-input-28-e017fe544e24>\u001b[0m in \u001b[0;36m<lambda>\u001b[0;34m(x)\u001b[0m\n\u001b[0;32m----> 1\u001b[0;31m \u001b[0mdf\u001b[0m\u001b[0;34m[\u001b[0m\u001b[0;34m'translated_message'\u001b[0m\u001b[0;34m]\u001b[0m\u001b[0;34m=\u001b[0m\u001b[0mdf\u001b[0m\u001b[0;34m[\u001b[0m\u001b[0;34m'cleaned_message'\u001b[0m\u001b[0;34m]\u001b[0m\u001b[0;34m[\u001b[0m\u001b[0;36m3000\u001b[0m\u001b[0;34m:\u001b[0m\u001b[0;36m4000\u001b[0m\u001b[0;34m]\u001b[0m\u001b[0;34m.\u001b[0m\u001b[0mapply\u001b[0m\u001b[0;34m(\u001b[0m\u001b[0;32mlambda\u001b[0m \u001b[0mx\u001b[0m\u001b[0;34m:\u001b[0m\u001b[0mtranslator\u001b[0m\u001b[0;34m(\u001b[0m\u001b[0mstr\u001b[0m\u001b[0;34m(\u001b[0m\u001b[0mx\u001b[0m\u001b[0;34m)\u001b[0m\u001b[0;34m)\u001b[0m\u001b[0;34m)\u001b[0m\u001b[0;34m\u001b[0m\u001b[0;34m\u001b[0m\u001b[0m\n\u001b[0m",
            "\u001b[0;32m<ipython-input-22-404a1da32f6d>\u001b[0m in \u001b[0;36mtranslator\u001b[0;34m(text)\u001b[0m\n\u001b[1;32m      1\u001b[0m \u001b[0;32mdef\u001b[0m \u001b[0mtranslator\u001b[0m\u001b[0;34m(\u001b[0m\u001b[0mtext\u001b[0m\u001b[0;34m)\u001b[0m\u001b[0;34m:\u001b[0m\u001b[0;34m\u001b[0m\u001b[0;34m\u001b[0m\u001b[0m\n\u001b[0;32m----> 2\u001b[0;31m   \u001b[0mtrans_text\u001b[0m\u001b[0;34m=\u001b[0m\u001b[0mts\u001b[0m\u001b[0;34m.\u001b[0m\u001b[0mgoogle\u001b[0m\u001b[0;34m(\u001b[0m\u001b[0mtext\u001b[0m\u001b[0;34m,\u001b[0m\u001b[0mto_language\u001b[0m\u001b[0;34m=\u001b[0m\u001b[0;34m'en'\u001b[0m\u001b[0;34m)\u001b[0m\u001b[0;34m\u001b[0m\u001b[0;34m\u001b[0m\u001b[0m\n\u001b[0m\u001b[1;32m      3\u001b[0m   \u001b[0;32mreturn\u001b[0m \u001b[0mtrans_text\u001b[0m\u001b[0;34m\u001b[0m\u001b[0;34m\u001b[0m\u001b[0m\n",
            "\u001b[0;32m/usr/local/lib/python3.7/dist-packages/translators/servers.py\u001b[0m in \u001b[0;36mgoogle_api\u001b[0;34m(self, query_text, from_language, to_language, **kwargs)\u001b[0m\n\u001b[1;32m    430\u001b[0m             \u001b[0mrpc_data\u001b[0m \u001b[0;34m=\u001b[0m \u001b[0murllib\u001b[0m\u001b[0;34m.\u001b[0m\u001b[0mparse\u001b[0m\u001b[0;34m.\u001b[0m\u001b[0murlencode\u001b[0m\u001b[0;34m(\u001b[0m\u001b[0mrpc_data\u001b[0m\u001b[0;34m)\u001b[0m\u001b[0;34m\u001b[0m\u001b[0;34m\u001b[0m\u001b[0m\n\u001b[1;32m    431\u001b[0m             \u001b[0mr\u001b[0m \u001b[0;34m=\u001b[0m \u001b[0mss\u001b[0m\u001b[0;34m.\u001b[0m\u001b[0mpost\u001b[0m\u001b[0;34m(\u001b[0m\u001b[0mself\u001b[0m\u001b[0;34m.\u001b[0m\u001b[0mapi_url\u001b[0m\u001b[0;34m,\u001b[0m \u001b[0mheaders\u001b[0m\u001b[0;34m=\u001b[0m\u001b[0mself\u001b[0m\u001b[0;34m.\u001b[0m\u001b[0mapi_headers\u001b[0m\u001b[0;34m,\u001b[0m \u001b[0mdata\u001b[0m\u001b[0;34m=\u001b[0m\u001b[0mrpc_data\u001b[0m\u001b[0;34m,\u001b[0m \u001b[0mtimeout\u001b[0m\u001b[0;34m=\u001b[0m\u001b[0mtimeout\u001b[0m\u001b[0;34m,\u001b[0m \u001b[0mproxies\u001b[0m\u001b[0;34m=\u001b[0m\u001b[0mproxies\u001b[0m\u001b[0;34m)\u001b[0m\u001b[0;34m\u001b[0m\u001b[0;34m\u001b[0m\u001b[0m\n\u001b[0;32m--> 432\u001b[0;31m             \u001b[0mr\u001b[0m\u001b[0;34m.\u001b[0m\u001b[0mraise_for_status\u001b[0m\u001b[0;34m(\u001b[0m\u001b[0;34m)\u001b[0m\u001b[0;34m\u001b[0m\u001b[0;34m\u001b[0m\u001b[0m\n\u001b[0m\u001b[1;32m    433\u001b[0m             \u001b[0mjson_data\u001b[0m \u001b[0;34m=\u001b[0m \u001b[0mjson\u001b[0m\u001b[0;34m.\u001b[0m\u001b[0mloads\u001b[0m\u001b[0;34m(\u001b[0m\u001b[0mr\u001b[0m\u001b[0;34m.\u001b[0m\u001b[0mtext\u001b[0m\u001b[0;34m[\u001b[0m\u001b[0;36m6\u001b[0m\u001b[0;34m:\u001b[0m\u001b[0;34m]\u001b[0m\u001b[0;34m)\u001b[0m\u001b[0;34m\u001b[0m\u001b[0;34m\u001b[0m\u001b[0m\n\u001b[1;32m    434\u001b[0m             \u001b[0mdata\u001b[0m \u001b[0;34m=\u001b[0m \u001b[0mjson\u001b[0m\u001b[0;34m.\u001b[0m\u001b[0mloads\u001b[0m\u001b[0;34m(\u001b[0m\u001b[0mjson_data\u001b[0m\u001b[0;34m[\u001b[0m\u001b[0;36m0\u001b[0m\u001b[0;34m]\u001b[0m\u001b[0;34m[\u001b[0m\u001b[0;36m2\u001b[0m\u001b[0;34m]\u001b[0m\u001b[0;34m)\u001b[0m\u001b[0;34m\u001b[0m\u001b[0;34m\u001b[0m\u001b[0m\n",
            "\u001b[0;32m/usr/local/lib/python3.7/dist-packages/requests/models.py\u001b[0m in \u001b[0;36mraise_for_status\u001b[0;34m(self)\u001b[0m\n\u001b[1;32m   1019\u001b[0m \u001b[0;34m\u001b[0m\u001b[0m\n\u001b[1;32m   1020\u001b[0m         \u001b[0;32mif\u001b[0m \u001b[0mhttp_error_msg\u001b[0m\u001b[0;34m:\u001b[0m\u001b[0;34m\u001b[0m\u001b[0;34m\u001b[0m\u001b[0m\n\u001b[0;32m-> 1021\u001b[0;31m             \u001b[0;32mraise\u001b[0m \u001b[0mHTTPError\u001b[0m\u001b[0;34m(\u001b[0m\u001b[0mhttp_error_msg\u001b[0m\u001b[0;34m,\u001b[0m \u001b[0mresponse\u001b[0m\u001b[0;34m=\u001b[0m\u001b[0mself\u001b[0m\u001b[0;34m)\u001b[0m\u001b[0;34m\u001b[0m\u001b[0;34m\u001b[0m\u001b[0m\n\u001b[0m\u001b[1;32m   1022\u001b[0m \u001b[0;34m\u001b[0m\u001b[0m\n\u001b[1;32m   1023\u001b[0m     \u001b[0;32mdef\u001b[0m \u001b[0mclose\u001b[0m\u001b[0;34m(\u001b[0m\u001b[0mself\u001b[0m\u001b[0;34m)\u001b[0m\u001b[0;34m:\u001b[0m\u001b[0;34m\u001b[0m\u001b[0;34m\u001b[0m\u001b[0m\n",
            "\u001b[0;31mHTTPError\u001b[0m: 429 Client Error: Too Many Requests for url: https://www.google.com/sorry/index?continue=https://translate.google.com/_/TranslateWebserverUi/data/batchexecute&q=EgQjwurCGOukiJwGIjB9SdZ_W1lMHMUdVFNxFtbz_shL92Fgb9sqUWvO1QVegt0bqDDOXmCz_ys1tLJymIMyAXI"
          ]
        }
      ]
    },
    {
      "cell_type": "code",
      "source": [
        "df['translated_message']=df['cleaned_message'][4000:5000].apply(lambda x:translator(str(x)))"
      ],
      "metadata": {
        "id": "8wIWPYniXeeA"
      },
      "execution_count": null,
      "outputs": []
    },
    {
      "cell_type": "code",
      "source": [],
      "metadata": {
        "id": "ZS8VBoRO8qa9"
      },
      "execution_count": null,
      "outputs": []
    },
    {
      "cell_type": "code",
      "source": [],
      "metadata": {
        "id": "n2KjwxEo8qXV"
      },
      "execution_count": null,
      "outputs": []
    },
    {
      "cell_type": "code",
      "source": [],
      "metadata": {
        "id": "IKZxHmm48qU8"
      },
      "execution_count": null,
      "outputs": []
    },
    {
      "cell_type": "code",
      "source": [],
      "metadata": {
        "id": "3Xm0CdpM8qQM"
      },
      "execution_count": null,
      "outputs": []
    },
    {
      "cell_type": "code",
      "source": [],
      "metadata": {
        "id": "iXizxDdY8qLq"
      },
      "execution_count": null,
      "outputs": []
    },
    {
      "cell_type": "code",
      "source": [],
      "metadata": {
        "id": "LhNcT5ua8qCZ"
      },
      "execution_count": null,
      "outputs": []
    },
    {
      "cell_type": "code",
      "source": [],
      "metadata": {
        "id": "tya4dq818p1U"
      },
      "execution_count": null,
      "outputs": []
    },
    {
      "cell_type": "code",
      "source": [],
      "metadata": {
        "id": "cX2beiA18po4"
      },
      "execution_count": null,
      "outputs": []
    },
    {
      "cell_type": "code",
      "source": [],
      "metadata": {
        "id": "bdLYdtlO8pcb"
      },
      "execution_count": null,
      "outputs": []
    },
    {
      "cell_type": "code",
      "source": [],
      "metadata": {
        "id": "oI4Da7rQ8pHW"
      },
      "execution_count": null,
      "outputs": []
    },
    {
      "cell_type": "code",
      "source": [],
      "metadata": {
        "id": "qP3MNZXg8o50"
      },
      "execution_count": null,
      "outputs": []
    },
    {
      "cell_type": "code",
      "source": [
        "str_len=[]"
      ],
      "metadata": {
        "id": "Ny8cKWEjhFs9"
      },
      "execution_count": null,
      "outputs": []
    },
    {
      "cell_type": "code",
      "source": [
        "def  get_str_len(text):\n",
        "  if len(text) in [543926,478037,249828,224178,201185,155166,147583,121784,66024,47538,39528,36746,34548,33166,28148]:\n",
        "    return ''\n",
        "  else:\n",
        "   return text"
      ],
      "metadata": {
        "id": "TbMOlKQLhFci"
      },
      "execution_count": null,
      "outputs": []
    },
    {
      "cell_type": "code",
      "source": [
        "df['cleaned_message']=df['cleaned_message'].apply(lambda x:get_str_len(x))"
      ],
      "metadata": {
        "id": "DgLgomSMhXzY"
      },
      "execution_count": null,
      "outputs": []
    },
    {
      "cell_type": "code",
      "source": [
        "df.to_excel('without_translation_analsysis2.xlsx')"
      ],
      "metadata": {
        "id": "RtBpYd5jHnZx"
      },
      "execution_count": null,
      "outputs": []
    },
    {
      "cell_type": "code",
      "source": [
        "str_len.sort(reverse=True)"
      ],
      "metadata": {
        "id": "uBZeic3mhoTl"
      },
      "execution_count": null,
      "outputs": []
    },
    {
      "cell_type": "code",
      "source": [
        "[543926,478037,249828,224178,201185,155166,147583,121784,66024,47538,39528,36746,34548,33166,28148]"
      ],
      "metadata": {
        "id": "SujF4lAUlv81"
      },
      "execution_count": null,
      "outputs": []
    },
    {
      "cell_type": "code",
      "source": [
        "str_len[0:100]"
      ],
      "metadata": {
        "colab": {
          "base_uri": "https://localhost:8080/"
        },
        "id": "ZvsBo0d-kpg3",
        "outputId": "39444709-b3ee-4a36-e052-cbf3cfec93c9"
      },
      "execution_count": null,
      "outputs": [
        {
          "output_type": "execute_result",
          "data": {
            "text/plain": [
              "[543926,\n",
              " 478037,\n",
              " 249828,\n",
              " 224178,\n",
              " 201185,\n",
              " 155166,\n",
              " 147583,\n",
              " 121784,\n",
              " 66024,\n",
              " 47538,\n",
              " 39528,\n",
              " 36746,\n",
              " 34548,\n",
              " 33166,\n",
              " 28148,\n",
              " 4435,\n",
              " 2652,\n",
              " 2193,\n",
              " 2186,\n",
              " 2174,\n",
              " 2167,\n",
              " 2166,\n",
              " 2162,\n",
              " 2151,\n",
              " 2126,\n",
              " 2116,\n",
              " 2097,\n",
              " 2081,\n",
              " 2058,\n",
              " 2042,\n",
              " 2042,\n",
              " 2038,\n",
              " 2037,\n",
              " 2016,\n",
              " 2009,\n",
              " 2003,\n",
              " 1998,\n",
              " 1988,\n",
              " 1988,\n",
              " 1986,\n",
              " 1979,\n",
              " 1968,\n",
              " 1958,\n",
              " 1951,\n",
              " 1903,\n",
              " 1894,\n",
              " 1872,\n",
              " 1867,\n",
              " 1855,\n",
              " 1838,\n",
              " 1838,\n",
              " 1824,\n",
              " 1818,\n",
              " 1805,\n",
              " 1803,\n",
              " 1802,\n",
              " 1791,\n",
              " 1790,\n",
              " 1786,\n",
              " 1785,\n",
              " 1774,\n",
              " 1767,\n",
              " 1741,\n",
              " 1725,\n",
              " 1724,\n",
              " 1717,\n",
              " 1669,\n",
              " 1668,\n",
              " 1668,\n",
              " 1664,\n",
              " 1658,\n",
              " 1657,\n",
              " 1652,\n",
              " 1639,\n",
              " 1635,\n",
              " 1630,\n",
              " 1621,\n",
              " 1602,\n",
              " 1599,\n",
              " 1598,\n",
              " 1597,\n",
              " 1595,\n",
              " 1590,\n",
              " 1589,\n",
              " 1578,\n",
              " 1571,\n",
              " 1553,\n",
              " 1552,\n",
              " 1552,\n",
              " 1551,\n",
              " 1549,\n",
              " 1547,\n",
              " 1545,\n",
              " 1531,\n",
              " 1530,\n",
              " 1528,\n",
              " 1523,\n",
              " 1521,\n",
              " 1519,\n",
              " 1518]"
            ]
          },
          "metadata": {},
          "execution_count": 90
        }
      ]
    },
    {
      "cell_type": "code",
      "source": [
        "max(df['cleaned_message'].str.len())"
      ],
      "metadata": {
        "colab": {
          "base_uri": "https://localhost:8080/"
        },
        "id": "yRgNZj2dgScD",
        "outputId": "2bbecf46-709f-4fd7-bd23-79d3a2ebb7f5"
      },
      "execution_count": null,
      "outputs": [
        {
          "output_type": "execute_result",
          "data": {
            "text/plain": [
              "1067528"
            ]
          },
          "metadata": {},
          "execution_count": 60
        }
      ]
    },
    {
      "cell_type": "code",
      "execution_count": null,
      "metadata": {
        "id": "KDCJFkG6HlL0"
      },
      "outputs": [],
      "source": [
        "df['cleaned_message'].to_excel('cleaned_message.xlsx')"
      ]
    },
    {
      "cell_type": "code",
      "execution_count": null,
      "metadata": {
        "id": "2Tsrsb7ZmxXc"
      },
      "outputs": [],
      "source": [
        "df[['translated_message','user_handles','hashtags','emojis','emojis_description']].to_excel('right_sample.xlsx')"
      ]
    },
    {
      "cell_type": "code",
      "execution_count": null,
      "metadata": {
        "colab": {
          "base_uri": "https://localhost:8080/",
          "height": 754
        },
        "id": "d8sNX33cnFDe",
        "outputId": "953d0d4a-846d-4f7d-9c35-ddc2972d3492"
      },
      "outputs": [
        {
          "data": {
            "text/html": [
              "\n",
              "  <div id=\"df-52af7e77-6eec-4a03-af5b-6e3afbf73845\">\n",
              "    <div class=\"colab-df-container\">\n",
              "      <div>\n",
              "<style scoped>\n",
              "    .dataframe tbody tr th:only-of-type {\n",
              "        vertical-align: middle;\n",
              "    }\n",
              "\n",
              "    .dataframe tbody tr th {\n",
              "        vertical-align: top;\n",
              "    }\n",
              "\n",
              "    .dataframe thead th {\n",
              "        text-align: right;\n",
              "    }\n",
              "</style>\n",
              "<table border=\"1\" class=\"dataframe\">\n",
              "  <thead>\n",
              "    <tr style=\"text-align: right;\">\n",
              "      <th></th>\n",
              "      <th>Text</th>\n",
              "      <th>translated_message</th>\n",
              "      <th>handles</th>\n",
              "      <th>hashtags</th>\n",
              "      <th>emojis</th>\n",
              "    </tr>\n",
              "  </thead>\n",
              "  <tbody>\n",
              "    <tr>\n",
              "      <th>0</th>\n",
              "      <td>Anyone wants cherries for Valentine's Day ? 🌸🍒...</td>\n",
              "      <td>Anyone wants cherries for Valentine's Day ?   ...</td>\n",
              "      <td>[]</td>\n",
              "      <td>[petitejoy, morningslikethese, livecolorfully,...</td>\n",
              "      <td>{'emoji': [[], [], [], [], [], [], [], [], [],...</td>\n",
              "    </tr>\n",
              "    <tr>\n",
              "      <th>1</th>\n",
              "      <td>I wonder what my „this is her“ photo is 🎟\\n___...</td>\n",
              "      <td>I wonder what my „this is her  photo is       ...</td>\n",
              "      <td>[]</td>\n",
              "      <td>[petitejoy, morningslikethese, livecolorfully,...</td>\n",
              "      <td>{'emoji': [[], [], [], [], [], [], [], [], [],...</td>\n",
              "    </tr>\n",
              "    <tr>\n",
              "      <th>2</th>\n",
              "      <td>Wanna be my valentine? ❤️@loungeunderwear \\n__...</td>\n",
              "      <td>Wanna be my valentine?                        ...</td>\n",
              "      <td>[@loungeunderwear]</td>\n",
              "      <td>[petitejoy, morningslikethese, livecolorfully,...</td>\n",
              "      <td>{'emoji': [[], [], [], [], [], [], [], [], [],...</td>\n",
              "    </tr>\n",
              "    <tr>\n",
              "      <th>3</th>\n",
              "      <td>Swipe for a cute ass pic 💫\\n___\\n\\n #petitejoy...</td>\n",
              "      <td>Swipe for a cute ass pic                      ...</td>\n",
              "      <td>[]</td>\n",
              "      <td>[petitejoy, morningslikethese, livecolorfully,...</td>\n",
              "      <td>{'emoji': [[], [], [], [], [], [], [], [], [],...</td>\n",
              "    </tr>\n",
              "    <tr>\n",
              "      <th>4</th>\n",
              "      <td>I'm happier than ever 🍀\\nWish I could explain ...</td>\n",
              "      <td>I'm happier than ever Wish I could explain it ...</td>\n",
              "      <td>[]</td>\n",
              "      <td>[petitejoy, morningslikethese, livecolorfully,...</td>\n",
              "      <td>{'emoji': [[], [], [], [], [], [], [], [], [],...</td>\n",
              "    </tr>\n",
              "    <tr>\n",
              "      <th>5</th>\n",
              "      <td>hi , u can call me lexi 🍬\\n____\\n\\n#petitejoy ...</td>\n",
              "      <td>hi , u can call me lexi                       ...</td>\n",
              "      <td>[]</td>\n",
              "      <td>[petitejoy, morningslikethese, livecolorfully,...</td>\n",
              "      <td>{'emoji': [[], [], [], [], [], [], [], [], [],...</td>\n",
              "    </tr>\n",
              "    <tr>\n",
              "      <th>6</th>\n",
              "      <td>Just me, @loungeunderwear &amp; a cute lil halo 😇 ...</td>\n",
              "      <td>Just me,   &amp; a cute lil halo                  ...</td>\n",
              "      <td>[@loungeunderwear]</td>\n",
              "      <td>[petitejoy, morningslikethese, livecolorfully,...</td>\n",
              "      <td>{'emoji': [[], [], [], [], [], [], [], [], [],...</td>\n",
              "    </tr>\n",
              "    <tr>\n",
              "      <th>7</th>\n",
              "      <td>up, up in the sky 🍬\\n____\\n\\n#petitejoy #morni...</td>\n",
              "      <td>up, up in the sky                             ...</td>\n",
              "      <td>[]</td>\n",
              "      <td>[petitejoy, morningslikethese, livecolorfully,...</td>\n",
              "      <td>{'emoji': [[], [], [], [], [], [], [], [], [],...</td>\n",
              "    </tr>\n",
              "    <tr>\n",
              "      <th>8</th>\n",
              "      <td>On fridays we wear pink 💘 @loungeunderwear ✨\\n...</td>\n",
              "      <td>On fridays we wear pink                       ...</td>\n",
              "      <td>[@loungeunderwear]</td>\n",
              "      <td>[reel, reels, reelsinstagram, reelitfeelit, re...</td>\n",
              "      <td>{'emoji': [[], [], [], [], [], [], [], [], [],...</td>\n",
              "    </tr>\n",
              "    <tr>\n",
              "      <th>9</th>\n",
              "      <td>So buttery brown and tantalizing 🍊\\n____\\n\\n #...</td>\n",
              "      <td>So buttery brown and tantalizing              ...</td>\n",
              "      <td>[]</td>\n",
              "      <td>[petitejoy, morningslikethese, livecolorfully,...</td>\n",
              "      <td>{'emoji': [[], [], [], [], [], [], [], [], [],...</td>\n",
              "    </tr>\n",
              "  </tbody>\n",
              "</table>\n",
              "</div>\n",
              "      <button class=\"colab-df-convert\" onclick=\"convertToInteractive('df-52af7e77-6eec-4a03-af5b-6e3afbf73845')\"\n",
              "              title=\"Convert this dataframe to an interactive table.\"\n",
              "              style=\"display:none;\">\n",
              "        \n",
              "  <svg xmlns=\"http://www.w3.org/2000/svg\" height=\"24px\"viewBox=\"0 0 24 24\"\n",
              "       width=\"24px\">\n",
              "    <path d=\"M0 0h24v24H0V0z\" fill=\"none\"/>\n",
              "    <path d=\"M18.56 5.44l.94 2.06.94-2.06 2.06-.94-2.06-.94-.94-2.06-.94 2.06-2.06.94zm-11 1L8.5 8.5l.94-2.06 2.06-.94-2.06-.94L8.5 2.5l-.94 2.06-2.06.94zm10 10l.94 2.06.94-2.06 2.06-.94-2.06-.94-.94-2.06-.94 2.06-2.06.94z\"/><path d=\"M17.41 7.96l-1.37-1.37c-.4-.4-.92-.59-1.43-.59-.52 0-1.04.2-1.43.59L10.3 9.45l-7.72 7.72c-.78.78-.78 2.05 0 2.83L4 21.41c.39.39.9.59 1.41.59.51 0 1.02-.2 1.41-.59l7.78-7.78 2.81-2.81c.8-.78.8-2.07 0-2.86zM5.41 20L4 18.59l7.72-7.72 1.47 1.35L5.41 20z\"/>\n",
              "  </svg>\n",
              "      </button>\n",
              "      \n",
              "  <style>\n",
              "    .colab-df-container {\n",
              "      display:flex;\n",
              "      flex-wrap:wrap;\n",
              "      gap: 12px;\n",
              "    }\n",
              "\n",
              "    .colab-df-convert {\n",
              "      background-color: #E8F0FE;\n",
              "      border: none;\n",
              "      border-radius: 50%;\n",
              "      cursor: pointer;\n",
              "      display: none;\n",
              "      fill: #1967D2;\n",
              "      height: 32px;\n",
              "      padding: 0 0 0 0;\n",
              "      width: 32px;\n",
              "    }\n",
              "\n",
              "    .colab-df-convert:hover {\n",
              "      background-color: #E2EBFA;\n",
              "      box-shadow: 0px 1px 2px rgba(60, 64, 67, 0.3), 0px 1px 3px 1px rgba(60, 64, 67, 0.15);\n",
              "      fill: #174EA6;\n",
              "    }\n",
              "\n",
              "    [theme=dark] .colab-df-convert {\n",
              "      background-color: #3B4455;\n",
              "      fill: #D2E3FC;\n",
              "    }\n",
              "\n",
              "    [theme=dark] .colab-df-convert:hover {\n",
              "      background-color: #434B5C;\n",
              "      box-shadow: 0px 1px 3px 1px rgba(0, 0, 0, 0.15);\n",
              "      filter: drop-shadow(0px 1px 2px rgba(0, 0, 0, 0.3));\n",
              "      fill: #FFFFFF;\n",
              "    }\n",
              "  </style>\n",
              "\n",
              "      <script>\n",
              "        const buttonEl =\n",
              "          document.querySelector('#df-52af7e77-6eec-4a03-af5b-6e3afbf73845 button.colab-df-convert');\n",
              "        buttonEl.style.display =\n",
              "          google.colab.kernel.accessAllowed ? 'block' : 'none';\n",
              "\n",
              "        async function convertToInteractive(key) {\n",
              "          const element = document.querySelector('#df-52af7e77-6eec-4a03-af5b-6e3afbf73845');\n",
              "          const dataTable =\n",
              "            await google.colab.kernel.invokeFunction('convertToInteractive',\n",
              "                                                     [key], {});\n",
              "          if (!dataTable) return;\n",
              "\n",
              "          const docLinkHtml = 'Like what you see? Visit the ' +\n",
              "            '<a target=\"_blank\" href=https://colab.research.google.com/notebooks/data_table.ipynb>data table notebook</a>'\n",
              "            + ' to learn more about interactive tables.';\n",
              "          element.innerHTML = '';\n",
              "          dataTable['output_type'] = 'display_data';\n",
              "          await google.colab.output.renderOutput(dataTable, element);\n",
              "          const docLink = document.createElement('div');\n",
              "          docLink.innerHTML = docLinkHtml;\n",
              "          element.appendChild(docLink);\n",
              "        }\n",
              "      </script>\n",
              "    </div>\n",
              "  </div>\n",
              "  "
            ],
            "text/plain": [
              "                                                Text  \\\n",
              "0  Anyone wants cherries for Valentine's Day ? 🌸🍒...   \n",
              "1  I wonder what my „this is her“ photo is 🎟\\n___...   \n",
              "2  Wanna be my valentine? ❤️@loungeunderwear \\n__...   \n",
              "3  Swipe for a cute ass pic 💫\\n___\\n\\n #petitejoy...   \n",
              "4  I'm happier than ever 🍀\\nWish I could explain ...   \n",
              "5  hi , u can call me lexi 🍬\\n____\\n\\n#petitejoy ...   \n",
              "6  Just me, @loungeunderwear & a cute lil halo 😇 ...   \n",
              "7  up, up in the sky 🍬\\n____\\n\\n#petitejoy #morni...   \n",
              "8  On fridays we wear pink 💘 @loungeunderwear ✨\\n...   \n",
              "9  So buttery brown and tantalizing 🍊\\n____\\n\\n #...   \n",
              "\n",
              "                                  translated_message             handles  \\\n",
              "0  Anyone wants cherries for Valentine's Day ?   ...                  []   \n",
              "1  I wonder what my „this is her  photo is       ...                  []   \n",
              "2  Wanna be my valentine?                        ...  [@loungeunderwear]   \n",
              "3  Swipe for a cute ass pic                      ...                  []   \n",
              "4  I'm happier than ever Wish I could explain it ...                  []   \n",
              "5  hi , u can call me lexi                       ...                  []   \n",
              "6  Just me,   & a cute lil halo                  ...  [@loungeunderwear]   \n",
              "7  up, up in the sky                             ...                  []   \n",
              "8  On fridays we wear pink                       ...  [@loungeunderwear]   \n",
              "9  So buttery brown and tantalizing              ...                  []   \n",
              "\n",
              "                                            hashtags  \\\n",
              "0  [petitejoy, morningslikethese, livecolorfully,...   \n",
              "1  [petitejoy, morningslikethese, livecolorfully,...   \n",
              "2  [petitejoy, morningslikethese, livecolorfully,...   \n",
              "3  [petitejoy, morningslikethese, livecolorfully,...   \n",
              "4  [petitejoy, morningslikethese, livecolorfully,...   \n",
              "5  [petitejoy, morningslikethese, livecolorfully,...   \n",
              "6  [petitejoy, morningslikethese, livecolorfully,...   \n",
              "7  [petitejoy, morningslikethese, livecolorfully,...   \n",
              "8  [reel, reels, reelsinstagram, reelitfeelit, re...   \n",
              "9  [petitejoy, morningslikethese, livecolorfully,...   \n",
              "\n",
              "                                              emojis  \n",
              "0  {'emoji': [[], [], [], [], [], [], [], [], [],...  \n",
              "1  {'emoji': [[], [], [], [], [], [], [], [], [],...  \n",
              "2  {'emoji': [[], [], [], [], [], [], [], [], [],...  \n",
              "3  {'emoji': [[], [], [], [], [], [], [], [], [],...  \n",
              "4  {'emoji': [[], [], [], [], [], [], [], [], [],...  \n",
              "5  {'emoji': [[], [], [], [], [], [], [], [], [],...  \n",
              "6  {'emoji': [[], [], [], [], [], [], [], [], [],...  \n",
              "7  {'emoji': [[], [], [], [], [], [], [], [], [],...  \n",
              "8  {'emoji': [[], [], [], [], [], [], [], [], [],...  \n",
              "9  {'emoji': [[], [], [], [], [], [], [], [], [],...  "
            ]
          },
          "execution_count": 120,
          "metadata": {},
          "output_type": "execute_result"
        }
      ],
      "source": [
        "df[['Text','translated_message','user_handles','hashtags','emojis']][0:10]"
      ]
    },
    {
      "cell_type": "code",
      "execution_count": null,
      "metadata": {
        "colab": {
          "base_uri": "https://localhost:8080/"
        },
        "id": "jj9c3Luox5ae",
        "outputId": "59a8e745-a62a-4ace-d1ed-5f247b5444eb"
      },
      "outputs": [
        {
          "data": {
            "text/plain": [
              "0        Anyone wants cherries for Valentine's Day ?   ...\n",
              "1        I wonder what my „this is her  photo is       ...\n",
              "2                                   Wanna be my valentine?\n",
              "3        Swipe for a cute ass pic                      ...\n",
              "4        I'm happier than ever Wish I could explain it ...\n",
              "                               ...                        \n",
              "23569                                                  NaN\n",
              "23570                                                  NaN\n",
              "23571                                                  NaN\n",
              "23572                                                  NaN\n",
              "23573                                                  NaN\n",
              "Name: translated_message, Length: 23574, dtype: object"
            ]
          },
          "execution_count": 75,
          "metadata": {},
          "output_type": "execute_result"
        }
      ],
      "source": [
        "df.translated_message"
      ]
    },
    {
      "cell_type": "code",
      "execution_count": null,
      "metadata": {
        "colab": {
          "base_uri": "https://localhost:8080/"
        },
        "id": "cNOqtRIR-xB9",
        "outputId": "a248ca98-1e99-450e-b332-b60b4e0a44a4"
      },
      "outputs": [
        {
          "data": {
            "text/plain": [
              "0        Anyone wants cherries for Valentine's Day ? 🌸🍒...\n",
              "1        I wonder what my „this is her“ photo is 🎟\\n___...\n",
              "2        Wanna be my valentine? ❤️@loungeunderwear \\n__...\n",
              "3        Swipe for a cute ass pic 💫\\n___\\n\\n #petitejoy...\n",
              "4        I'm happier than ever 🍀\\nWish I could explain ...\n",
              "                               ...                        \n",
              "23569    Werbung/Anzeige Denim days ⚡️missing maaa Bæ @...\n",
              "23570    Werbung/Anzeige & los gehts mit den kuscheln P...\n",
              "23571    Werbung 🕊 heute hatte ich einen wunderschönen ...\n",
              "23572    Werbung | Summer days with my beautiful bestie...\n",
              "23573    Happiest noodle ☝🏽 in cooperation with @cluse ...\n",
              "Name: Text, Length: 23574, dtype: object"
            ]
          },
          "execution_count": 71,
          "metadata": {},
          "output_type": "execute_result"
        }
      ],
      "source": [
        "df.Text"
      ]
    },
    {
      "cell_type": "code",
      "execution_count": null,
      "metadata": {
        "colab": {
          "base_uri": "https://localhost:8080/"
        },
        "id": "xZ5WzvT_jh2w",
        "outputId": "27aac87b-093e-4c31-ab05-56a47587a5ed"
      },
      "outputs": [
        {
          "name": "stdout",
          "output_type": "stream",
          "text": [
            "Looking in indexes: https://pypi.org/simple, https://us-python.pkg.dev/colab-wheels/public/simple/\n",
            "Collecting demoji\n",
            "  Downloading demoji-1.1.0-py3-none-any.whl (42 kB)\n",
            "\u001b[K     |████████████████████████████████| 42 kB 669 kB/s \n",
            "\u001b[?25hInstalling collected packages: demoji\n",
            "Successfully installed demoji-1.1.0\n"
          ]
        }
      ],
      "source": [
        "!pip install demoji"
      ]
    },
    {
      "cell_type": "code",
      "execution_count": null,
      "metadata": {
        "id": "oiknVzu1wY55"
      },
      "outputs": [],
      "source": [
        "import demoji"
      ]
    },
    {
      "cell_type": "code",
      "execution_count": null,
      "metadata": {
        "id": "50cjm4lzwOZV"
      },
      "outputs": [],
      "source": [
        " tweet = \"\"\"\\\n",
        "... #startspreadingthenews yankees win great start by 🎅🏾 going 5strong innings with 5k’s🔥 🐂\n",
        "... solo homerun 🌋🌋 with 2 solo homeruns and👹 3run homerun… 🤡 🚣🏼 👨🏽‍⚖️ with rbi’s … 🔥🔥\n",
        "... 🇲🇽 and 🇳🇮 to close the game🔥🔥!!!….\n",
        "... WHAT A GAME!!..\n",
        "... \"\"\"\n",
        "text= demoji.findall(tweet)"
      ]
    },
    {
      "cell_type": "code",
      "execution_count": null,
      "metadata": {
        "colab": {
          "base_uri": "https://localhost:8080/"
        },
        "id": "ZKTJRem2wWdz",
        "outputId": "db3b549b-77aa-49e7-be6c-139f9d95fc15"
      },
      "outputs": [
        {
          "data": {
            "text/plain": [
              "{'👨🏽\\u200d⚖️': 'man judge: medium skin tone',\n",
              " '🎅🏾': 'Santa Claus: medium-dark skin tone',\n",
              " '🐂': 'ox',\n",
              " '🚣🏼': 'person rowing boat: medium-light skin tone',\n",
              " '🌋': 'volcano',\n",
              " '🤡': 'clown face',\n",
              " '🇲🇽': 'flag: Mexico',\n",
              " '🇳🇮': 'flag: Nicaragua',\n",
              " '🔥': 'fire',\n",
              " '👹': 'ogre'}"
            ]
          },
          "execution_count": 125,
          "metadata": {},
          "output_type": "execute_result"
        }
      ],
      "source": [
        "text"
      ]
    },
    {
      "cell_type": "code",
      "execution_count": null,
      "metadata": {
        "colab": {
          "base_uri": "https://localhost:8080/",
          "height": 72
        },
        "id": "6x0trpvJwetR",
        "outputId": "43bf5bc2-d626-4ba8-9a10-0203baeb27ec"
      },
      "outputs": [
        {
          "data": {
            "application/vnd.google.colaboratory.intrinsic+json": {
              "type": "string"
            },
            "text/plain": [
              "'#startspreadingthenews yankees win great start by 🎅🏾 going 5strong innings with 5k’s🔥 🐂\\nsolo homerun 🌋🌋 with 2 solo homeruns and👹 3run homerun… 🤡 🚣🏼 👨🏽\\u200d⚖️ with rbi’s … 🔥🔥\\n🇲🇽 and 🇳🇮 to close the game🔥🔥!!!….\\nWHAT A GAME!!..\\n'"
            ]
          },
          "execution_count": 126,
          "metadata": {},
          "output_type": "execute_result"
        }
      ],
      "source": [
        "tweet"
      ]
    },
    {
      "cell_type": "code",
      "execution_count": null,
      "metadata": {
        "id": "KAjhx8xlwjuL"
      },
      "outputs": [],
      "source": []
    }
  ],
  "metadata": {
    "colab": {
      "provenance": []
    },
    "kernelspec": {
      "display_name": "Python 3",
      "name": "python3"
    },
    "language_info": {
      "name": "python"
    }
  },
  "nbformat": 4,
  "nbformat_minor": 0
}