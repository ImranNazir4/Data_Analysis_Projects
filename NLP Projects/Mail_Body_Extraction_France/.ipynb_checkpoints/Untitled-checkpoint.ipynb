{
 "cells": [
  {
   "cell_type": "code",
   "execution_count": 1,
   "id": "41b52b1b",
   "metadata": {},
   "outputs": [],
   "source": [
    "import pandas as pd\n",
    "import re\n",
    "import os"
   ]
  },
  {
   "cell_type": "code",
   "execution_count": 6,
   "id": "5ec801e5",
   "metadata": {},
   "outputs": [],
   "source": [
    "files=os.listdir()[2:-2]"
   ]
  },
  {
   "cell_type": "code",
   "execution_count": 7,
   "id": "323d9147",
   "metadata": {},
   "outputs": [
    {
     "data": {
      "text/plain": [
       "['TexteBrut4.txt',\n",
       " 'TexteBrut5.txt',\n",
       " 'TexteBrut6.txt',\n",
       " 'TexteBrut7.txt',\n",
       " 'TexteBrut8.txt']"
      ]
     },
     "execution_count": 7,
     "metadata": {},
     "output_type": "execute_result"
    }
   ],
   "source": [
    "files"
   ]
  },
  {
   "cell_type": "code",
   "execution_count": 8,
   "id": "e9f82361",
   "metadata": {},
   "outputs": [],
   "source": [
    "files_list=[]"
   ]
  },
  {
   "cell_type": "code",
   "execution_count": 9,
   "id": "c6528273",
   "metadata": {},
   "outputs": [],
   "source": [
    "for file in files:\n",
    "    f=open(file,'r')\n",
    "    f=f.read()\n",
    "    files_list.append(f)"
   ]
  },
  {
   "cell_type": "code",
   "execution_count": 10,
   "id": "3494de74",
   "metadata": {},
   "outputs": [],
   "source": [
    "files_df=pd.DataFrame(files_list)"
   ]
  },
  {
   "cell_type": "code",
   "execution_count": 11,
   "id": "3084a35e",
   "metadata": {},
   "outputs": [],
   "source": [
    "files_df.columns=['Mail Text']"
   ]
  },
  {
   "cell_type": "code",
   "execution_count": 25,
   "id": "5035e1b1",
   "metadata": {},
   "outputs": [],
   "source": [
    "def get_mail_body(text):\n",
    "    start_index=text.find('Sujet')\n",
    "    end_index = text.find('De :',start_index)\n",
    "    match = re.search(rgx, text)\n",
    "    end_index= match.start()\n",
    "    print(end_index)\n",
    "    return 9\n",
    "    #return text[start_index:end_index]"
   ]
  },
  {
   "cell_type": "code",
   "execution_count": 26,
   "id": "fcbcc983",
   "metadata": {},
   "outputs": [
    {
     "name": "stdout",
     "output_type": "stream",
     "text": [
      "287\n",
      "---------------\n",
      "165\n",
      "264\n",
      "---------------\n",
      "148\n",
      "479\n",
      "---------------\n",
      "315\n",
      "266\n",
      "---------------\n",
      "134\n",
      "451\n",
      "---------------\n",
      "243\n"
     ]
    }
   ],
   "source": [
    "files_df['Mail Body']=files_df['Mail Text'].apply(lambda x:get_mail_body(str(x)))"
   ]
  },
  {
   "cell_type": "code",
   "execution_count": null,
   "id": "6c99c013",
   "metadata": {},
   "outputs": [],
   "source": []
  },
  {
   "cell_type": "code",
   "execution_count": 11,
   "id": "4fd92dab",
   "metadata": {},
   "outputs": [
    {
     "name": "stdout",
     "output_type": "stream",
     "text": [
      "Sujet : RE: Votre adhÃ©sion prÃ©voyance - BEF\n",
      "\n",
      "Bonjour,\n",
      "\n",
      "Je ne vous ai pas oubliÃ©, mais je suis toujours dans lâ€™attente de rÃ©ponse de la part du client.\n",
      "Une relance vient de lui Ã©tre envoyÃ©e a Iâ€™instant.\n",
      "\n",
      "Je ne manquerais pas de revenir vers vous dÃ©s que jâ€™obtiens un retour de sa part, ou pour vous\n",
      "transmettre la proposition dâ€™adhÃ©sion signÃ©e.\n",
      "\n",
      "Restant a votre disposition,\n",
      "\n",
      "Cordialement,\n",
      "Absente le mercredi\n",
      "\n",
      "\n",
      " \n",
      "\n",
      "(du lund! au vendredi de Sh a 72h)\n",
      "\n",
      "\n",
      "\n",
      " \n",
      "\n",
      " \n",
      "\n",
      "\n",
      "--------------------------------------------------------------------------------\n",
      "Sujet : [600204] 01/01/2022 - 2830613001197 - ME\n",
      "\n",
      "ALE\n",
      "\n",
      "Commentaires de l'Agent bert :\n",
      "\n",
      "Merci de prendre ce dossier en charge.\n",
      "\n",
      "merci de vÃ©rifier la cotisation de l'assurÃ©e.\n",
      "\n",
      "Information sur le client :\n",
      "\n",
      "Type d'Acteur : Particulier\n",
      "\n",
      "\n",
      "PrÃ©nom : \n",
      "Nom : \n",
      "\n",
      "Email : amte.net\n",
      "\n",
      "Description de la requÃ©te :\n",
      "\n",
      "Attention, mail de gestion technique. Ce mail contient des donnÃ©es personnelles client et des donnÃ©es de santÃ©.\n",
      "Bonjour,\n",
      "\n",
      "Vous trouverez ci-dessous les Ã©lÃ©ments afin de traiter la demande dÃ©posÃ©e par le client le 01-01-2022 sur son espace\n",
      "client ainsi que ci-joint le document envoyÃ©.\n",
      "\n",
      "Bonjour, je souhaiterais annuler mon contrat santÃ© numÃ©ro 58641816 car je ne comprends pas pourquoi chaque mois\n",
      "le prÃ©levement sera de 105 euros. En effet je vous informe que je vais faire opposition a ce prÃ©lÃ©vement car ma\n",
      "_x000C_Page 2\n",
      "\n",
      "sommne est bien trop importante. Dans I'attente de votre retour. Cordialement. MÃ©ric AmÃ©lie\n",
      "DonnÃ©es pour traitement de la demande :\n",
      "\n",
      "Nom et prÃ©nom du souscripteur : M\n",
      "\n",
      "Adresse e-mail du souscripteur: \n",
      "\n",
      "NÂ° de sÃ©curitÃ© sociale (sans la clÃ©) : \n",
      "\n",
      "BG prestation du souscripteur : BGsanteaccueil\n",
      "\n",
      "Bien cordialement,\n",
      "\n",
      "Espace client SANTE\n",
      "\n",
      "Id Quieto :\n",
      "\n",
      "\n",
      "\n",
      "Classification Quieto :\n",
      "\n",
      "6 - divers affiliation\n",
      "\n",
      "Ce message et toutes les piÃ©ces jointes sont confidentiels et Ã©tablis a l'intention exclusive de son destinataire. Si vous\n",
      "n'en Ã©tes pas le destinataire, merci de contacter lâ€™expÃ©diteur et d'en supprimer toute copic. Toute utilisation de ce\n",
      "message non conforme a sa destination, toute diffusion ou toute publication, totale ou partielle, est interdite, sauf\n",
      "autorisation expresse. AG2R LA MONDIALE dÃ©cline toute responsabilitÃ© concernant un prÃ©judice liÃ© a un incident\n",
      "de sÃ©curitÃ©, d'intÃ©gritÃ©, de virus ou a un retard dans la transmission. De plus, ce message n'a aucune valeur\n",
      "contractuelle ou juridique ; en particulier, aucune transaction ne peut Ã©tre basÃ©e exclusivement sur des emails.\n",
      "\n",
      "SiÃ©ge social : GIE AG2R, membre du groupe AG2R LA MONDIALE - 14-16 Boulevard Malesherbes - 75379 Paris\n",
      "cedex 08 â€” www.ag2rlamondiale fr\n",
      "_x000C_Attention, mail de gestion technique. Ce mail contient des donnÃ©es personnelles client et des donnÃ©es de santÃ©.\n",
      "Bonjour,\n",
      "\n",
      "Vous trouverez ci-dessous les Ã©lÃ©ments afin de traiter la demande dÃ©posÃ©e par le client le 01-01-2022 sur son espace client\n",
      "ainsi que ci-joint le document envoyÃ©.\n",
      "\n",
      "Bonjour, je souhaiterais annuler mon contrat santÃ© numÃ©ro 51816 car je ne comprends pas pourquoi chaque mois le\n",
      "prÃ©lÃ©vement sera de 105 euros. En effet je vous informe que je vais faire opposition a ce prÃ©lÃ©vement car ma somme est\n",
      "bien trop importante. Dans I'attente de votre retour. Cordialement. MÃ©lie\n",
      "\n",
      "DonnÃ©es pour traitement de la demande :\n",
      "\n",
      "Nom et prÃ©nom du souscripteur : ME\n",
      "Adresse e-mail du souscripteur: ame.net\n",
      "NÂ° de sÃ©curitÃ© sociale (sans la clÃ©) : \n",
      "\n",
      "BG prestation du souscripteur : BGsanteaccueil\n",
      "\n",
      "Bien cordialement,\n",
      "Espace client SANTE\n",
      "_x000C\n",
      "--------------------------------------------------------------------------------\n",
      "Sujet : Re: LK - invaliditÃ© - Dossier Car8792\n",
      "\n",
      "Bonjour,\n",
      "\n",
      "Je me permets de vous Ã©crire pour savoir ou en ai le traitement de mon dossier.\n",
      "Je vous | ai transmis fin octobre avec toutes les piÃ©ces justificatives.\n",
      "\n",
      "Merci pour votre retour.\n",
      "\n",
      "TrÃ©s belle annÃ©e 2022.\n",
      "Mme BE\n",
      "\n",
      "Le lun. 15 nov. 2021 a 14:17, BGE\n",
      "<pree.fr> a Ã©crit :\n",
      "\n",
      "Bonjour Madame,\n",
      "\n",
      "Vous nous interrogez au sujet du formulaire de demande de prestations invaliditÃ©.\n",
      "\n",
      "Concernant la reprise dâ€™une activitÃ© professionnelle au sein dâ€™une entreprise, il convient dâ€™indiquer la\n",
      "date du dÃ©but de votre invaliditÃ©.\n",
      "\n",
      "| faudra nous transmettre la copie de votre bulletin de salaire du mois dâ€™octobre 2021.\n",
      "\n",
      "La page 2 du formulaire est 4 complÃ©ter par votre employeur, nous lui adresserons directement.\n",
      "\n",
      "Nous restons a votre Ã©coute et a votre disposition.\n",
      "_x000C_Page 2\n",
      "\n",
      "Bien sincÃ©rement,\n",
      "\n",
      "[=]\n",
      "\n",
      "L\n",
      "\n",
      "59\n",
      "\n",
      "Tel. 0222 (appel non surtaxÃ©)\n",
      "\n",
      "DÃ©couvrez tout \n",
      "sur notre site et nos rÃ©seaux sociaux\n",
      "\n",
      "El Ls] l=] L=]\n",
      "\n",
      " \n",
      "\n",
      "\n",
      "--------------------------------------------------------------------------------\n"
     ]
    }
   ],
   "source": [
    "for body in files_df['Mail Body']:\n",
    "    print(body)\n",
    "    print('--------------------------------------------------------------------------------')"
   ]
  },
  {
   "cell_type": "code",
   "execution_count": 12,
   "id": "5b181ebc",
   "metadata": {},
   "outputs": [],
   "source": [
    "files_df['Mail Body'].to_excel('Mail_Body.xlsx')"
   ]
  },
  {
   "cell_type": "code",
   "execution_count": 17,
   "id": "2d3ec0e3",
   "metadata": {},
   "outputs": [
    {
     "data": {
      "text/html": [
       "<div>\n",
       "<style scoped>\n",
       "    .dataframe tbody tr th:only-of-type {\n",
       "        vertical-align: middle;\n",
       "    }\n",
       "\n",
       "    .dataframe tbody tr th {\n",
       "        vertical-align: top;\n",
       "    }\n",
       "\n",
       "    .dataframe thead th {\n",
       "        text-align: right;\n",
       "    }\n",
       "</style>\n",
       "<table border=\"1\" class=\"dataframe\">\n",
       "  <thead>\n",
       "    <tr style=\"text-align: right;\">\n",
       "      <th></th>\n",
       "      <th>Mail Text</th>\n",
       "      <th>Mail Body</th>\n",
       "    </tr>\n",
       "  </thead>\n",
       "  <tbody>\n",
       "    <tr>\n",
       "      <th>0</th>\n",
       "      <td>Page 1\\n\\nFrom: \"BG DL SP Adhesions\" &lt;Bg_dl_&gt;\\...</td>\n",
       "      <td>Sujet : RE: Votre adhÃ©sion prÃ©voyance - BEF\\...</td>\n",
       "    </tr>\n",
       "    <tr>\n",
       "      <th>1</th>\n",
       "      <td>Page 1\\n\\nFrom: \"BG D\" &lt;Bg_e.fr&gt;\\nDate: 4 Jan ...</td>\n",
       "      <td>Sujet : [600204] 01/01/2022 - 2830613001197 - ...</td>\n",
       "    </tr>\n",
       "    <tr>\n",
       "      <th>2</th>\n",
       "      <td>Page 1\\n\\nFrom: \"BG e.fr&gt;\\nDate: 2 Jan 2022 19...</td>\n",
       "      <td>Sujet : Re: LK - invaliditÃ© - Dossier Car8792...</td>\n",
       "    </tr>\n",
       "  </tbody>\n",
       "</table>\n",
       "</div>"
      ],
      "text/plain": [
       "                                           Mail Text  \\\n",
       "0  Page 1\\n\\nFrom: \"BG DL SP Adhesions\" <Bg_dl_>\\...   \n",
       "1  Page 1\\n\\nFrom: \"BG D\" <Bg_e.fr>\\nDate: 4 Jan ...   \n",
       "2  Page 1\\n\\nFrom: \"BG e.fr>\\nDate: 2 Jan 2022 19...   \n",
       "\n",
       "                                           Mail Body  \n",
       "0  Sujet : RE: Votre adhÃ©sion prÃ©voyance - BEF\\...  \n",
       "1  Sujet : [600204] 01/01/2022 - 2830613001197 - ...  \n",
       "2  Sujet : Re: LK - invaliditÃ© - Dossier Car8792...  "
      ]
     },
     "execution_count": 17,
     "metadata": {},
     "output_type": "execute_result"
    }
   ],
   "source": [
    "files_df"
   ]
  },
  {
   "cell_type": "code",
   "execution_count": 12,
   "id": "4f7e3953",
   "metadata": {},
   "outputs": [],
   "source": [
    "rgx='\\w[De]\\s:\\s\\w+[\\w@#$%^&*()_+-=\\[\\]{}\\\\|;:,.<\\/?~\\s]+>'"
   ]
  },
  {
   "cell_type": "code",
   "execution_count": null,
   "id": "ae57cea2",
   "metadata": {},
   "outputs": [],
   "source": []
  },
  {
   "cell_type": "code",
   "execution_count": 9,
   "id": "d8b31f8e",
   "metadata": {},
   "outputs": [],
   "source": [
    "text='''De : Cann@gmail.com>\n",
    "De : Cal.com>\n",
    "De : BG CG fr>'''"
   ]
  },
  {
   "cell_type": "code",
   "execution_count": 10,
   "id": "22816439",
   "metadata": {},
   "outputs": [
    {
     "data": {
      "text/plain": [
       "'A\\nA\\nA'"
      ]
     },
     "execution_count": 10,
     "metadata": {},
     "output_type": "execute_result"
    }
   ],
   "source": [
    "re.sub(rgx,'A',text)"
   ]
  },
  {
   "cell_type": "code",
   "execution_count": 13,
   "id": "c1352aa4",
   "metadata": {},
   "outputs": [
    {
     "data": {
      "text/plain": [
       "3"
      ]
     },
     "execution_count": 13,
     "metadata": {},
     "output_type": "execute_result"
    }
   ],
   "source": [
    "len(list((12,23,234)))"
   ]
  },
  {
   "cell_type": "code",
   "execution_count": 14,
   "id": "686d2662",
   "metadata": {},
   "outputs": [],
   "source": [
    "s='coding'"
   ]
  },
  {
   "cell_type": "code",
   "execution_count": 15,
   "id": "71659da4",
   "metadata": {},
   "outputs": [
    {
     "data": {
      "text/plain": [
       "''"
      ]
     },
     "execution_count": 15,
     "metadata": {},
     "output_type": "execute_result"
    }
   ],
   "source": [
    "s[10::]"
   ]
  },
  {
   "cell_type": "code",
   "execution_count": null,
   "id": "96ed4ec4",
   "metadata": {},
   "outputs": [],
   "source": []
  }
 ],
 "metadata": {
  "kernelspec": {
   "display_name": "Python 3",
   "language": "python",
   "name": "python3"
  },
  "language_info": {
   "codemirror_mode": {
    "name": "ipython",
    "version": 3
   },
   "file_extension": ".py",
   "mimetype": "text/x-python",
   "name": "python",
   "nbconvert_exporter": "python",
   "pygments_lexer": "ipython3",
   "version": "3.9.5"
  }
 },
 "nbformat": 4,
 "nbformat_minor": 5
}
