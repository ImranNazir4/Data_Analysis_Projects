{
 "cells": [
  {
   "cell_type": "code",
   "execution_count": 6,
   "id": "2ea40481",
   "metadata": {},
   "outputs": [],
   "source": [
    "import spacy\n",
    "\n",
    "nlp = spacy.load('en_core_web_sm')\n",
    "\n",
    "def get_sentiment(comments):\n",
    "    sentiments = {}\n",
    "    for comment in comments:\n",
    "        doc = nlp(comment)\n",
    "        for chunk in doc.noun_chunks:\n",
    "            aspect = chunk.text\n",
    "            sentiment = 0\n",
    "            for child in chunk.root.children:\n",
    "                if child.dep_ == 'neg':\n",
    "                    sentiment -= 1\n",
    "                elif child.dep_ == 'pos':\n",
    "                    sentiment += 1\n",
    "            if aspect not in sentiments:\n",
    "                sentiments[aspect] = []\n",
    "            sentiments[aspect].append(sentiment)\n",
    "    return sentiments\n",
    "\n",
    "# Test the function with a list of comments\n",
    "comments = [\n",
    "    'I love the camera on this phone',\n",
    "    'The battery life is terrible',\n",
    "    'The display is gorgeous',\n",
    "    'I hate this phone',\n",
    "]\n",
    "\n",
    "sentiments = get_sentiment(comments)\n"
   ]
  },
  {
   "cell_type": "code",
   "execution_count": 7,
   "id": "71b07b33",
   "metadata": {},
   "outputs": [
    {
     "data": {
      "text/plain": [
       "{'I': [0, 0],\n",
       " 'the camera': [0],\n",
       " 'this phone': [0, 0],\n",
       " 'The battery life': [0],\n",
       " 'The display': [0]}"
      ]
     },
     "execution_count": 7,
     "metadata": {},
     "output_type": "execute_result"
    }
   ],
   "source": [
    "sentiments"
   ]
  },
  {
   "cell_type": "code",
   "execution_count": null,
   "id": "2d016bac",
   "metadata": {},
   "outputs": [],
   "source": []
  }
 ],
 "metadata": {
  "kernelspec": {
   "display_name": "Python 3",
   "language": "python",
   "name": "python3"
  },
  "language_info": {
   "codemirror_mode": {
    "name": "ipython",
    "version": 3
   },
   "file_extension": ".py",
   "mimetype": "text/x-python",
   "name": "python",
   "nbconvert_exporter": "python",
   "pygments_lexer": "ipython3",
   "version": "3.9.5"
  }
 },
 "nbformat": 4,
 "nbformat_minor": 5
}
