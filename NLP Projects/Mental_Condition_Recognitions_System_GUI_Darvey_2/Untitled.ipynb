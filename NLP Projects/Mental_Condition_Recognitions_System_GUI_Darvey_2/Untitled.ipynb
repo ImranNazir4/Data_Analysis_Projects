{
 "cells": [
  {
   "cell_type": "code",
   "execution_count": 1,
   "id": "de8a0658",
   "metadata": {},
   "outputs": [],
   "source": [
    "import pandas as pd"
   ]
  },
  {
   "cell_type": "code",
   "execution_count": 11,
   "id": "74a00f45",
   "metadata": {},
   "outputs": [],
   "source": [
    "df=pd.read_csv('symptoms.csv')"
   ]
  },
  {
   "cell_type": "code",
   "execution_count": 18,
   "id": "756b24ea",
   "metadata": {},
   "outputs": [],
   "source": [
    "new=df[df['symptoms'].str.len()<50]"
   ]
  },
  {
   "cell_type": "code",
   "execution_count": 19,
   "id": "9b46ecd1",
   "metadata": {},
   "outputs": [
    {
     "data": {
      "text/plain": [
       "9          I don't feel well. ,To feel better.,,,no infom\n",
       "106     I am struggling with my mental health,,,,no infom\n",
       "111                                          ,,,,no infom\n",
       "131                                          ,,,,no infom\n",
       "137                  Going through a bad time,,,,no infom\n",
       "182                                          ,,,,no infom\n",
       "188                                          ,,,,no infom\n",
       "205                                          ,,,,no infom\n",
       "213                                          ,,,,no infom\n",
       "278                  Na - could I please see Dani,Na,,,Na\n",
       "279                Feeling hopeless,Some peace,,,no infom\n",
       "332                                          ,,,,no infom\n",
       "402                                          ,,,,no infom\n",
       "410                  Panic attacks, anxiety. ,,,,no infom\n",
       "411                                          ,,,,no infom\n",
       "415                                          ,,,,no infom\n",
       "417                                          ,,,,no infom\n",
       "427                                          ,,,,no infom\n",
       "469                                          ,,,,no infom\n",
       "526                                          ,,,,no infom\n",
       "544                                          ,,,,no infom\n",
       "583                                          ,,,,no infom\n",
       "601                                          ,,,,no infom\n",
       "695                                          ,,,,no infom\n",
       "854                                          ,,,,no infom\n",
       "860                                          ,,,,no infom\n",
       "961           anxiety,help with my anxiety,no,no,no infom\n",
       "963                                          ,,,,no infom\n",
       "964                                          ,,,,no infom\n",
       "965     My GP says I should. ,Just some help. ,,,no infom\n",
       "988                                          ,,,,no infom\n",
       "1006                                         ,,,,no infom\n",
       "1032                                         ,,,,no infom\n",
       "1044                                         ,,,,no infom\n",
       "1116                                         ,,,,no infom\n",
       "1268                                         ,,,,no infom\n",
       "1291                                suicidal ,,,,no infom\n",
       "1297                     I feel I need help.,support,,,no\n",
       "1303                                         ,,,,no infom\n",
       "1315                    Sarah recommended SST,,,,no infom\n",
       "1316                   Single session therapy,,,,no infom\n",
       "1371                                         ,,,,no infom\n",
       "1403           I think I was raped a year ago,,,,no infom\n",
       "1427                                         ,,,,no infom\n",
       "Name: symptoms, dtype: object"
      ]
     },
     "execution_count": 19,
     "metadata": {},
     "output_type": "execute_result"
    }
   ],
   "source": [
    "new['symptoms']"
   ]
  },
  {
   "cell_type": "code",
   "execution_count": null,
   "id": "beb1b961",
   "metadata": {},
   "outputs": [],
   "source": []
  }
 ],
 "metadata": {
  "kernelspec": {
   "display_name": "Python 3",
   "language": "python",
   "name": "python3"
  },
  "language_info": {
   "codemirror_mode": {
    "name": "ipython",
    "version": 3
   },
   "file_extension": ".py",
   "mimetype": "text/x-python",
   "name": "python",
   "nbconvert_exporter": "python",
   "pygments_lexer": "ipython3",
   "version": "3.9.5"
  }
 },
 "nbformat": 4,
 "nbformat_minor": 5
}
