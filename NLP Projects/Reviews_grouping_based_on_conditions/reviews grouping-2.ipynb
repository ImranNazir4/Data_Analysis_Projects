{
 "cells": [
  {
   "cell_type": "markdown",
   "metadata": {
    "cell_id": "380752da63b94e40906d63d34cdf23bc",
    "deepnote_cell_type": "text-cell-h1",
    "formattedRanges": [],
    "is_collapsed": false,
    "tags": []
   },
   "source": [
    "# App Reviews Grouping"
   ]
  },
  {
   "cell_type": "markdown",
   "metadata": {
    "cell_id": "3cfd450fd0684c2aaafb1e5a1543b9d9",
    "deepnote_cell_type": "text-cell-h1",
    "formattedRanges": [],
    "is_collapsed": false,
    "tags": []
   },
   "source": [
    "# 1- Initialization"
   ]
  },
  {
   "cell_type": "code",
   "execution_count": 1,
   "metadata": {
    "cell_id": "b886dc4047c842738086b302d3a46d7e",
    "deepnote_cell_type": "code",
    "deepnote_to_be_reexecuted": false,
    "execution_millis": 2805,
    "execution_start": 1673444478379,
    "source_hash": "705b984b",
    "tags": []
   },
   "outputs": [
    {
     "name": "stdout",
     "output_type": "stream",
     "text": [
      "Requirement already satisfied: pandas in /shared-libs/python3.9/py/lib/python3.9/site-packages (1.2.5)\n",
      "Requirement already satisfied: pytz>=2017.3 in /shared-libs/python3.9/py/lib/python3.9/site-packages (from pandas) (2022.5)\n",
      "Requirement already satisfied: python-dateutil>=2.7.3 in /shared-libs/python3.9/py-core/lib/python3.9/site-packages (from pandas) (2.8.2)\n",
      "Requirement already satisfied: numpy>=1.16.5 in /shared-libs/python3.9/py/lib/python3.9/site-packages (from pandas) (1.23.4)\n",
      "Requirement already satisfied: six>=1.5 in /shared-libs/python3.9/py-core/lib/python3.9/site-packages (from python-dateutil>=2.7.3->pandas) (1.16.0)\n",
      "\u001b[33mWARNING: Running pip as the 'root' user can result in broken permissions and conflicting behaviour with the system package manager. It is recommended to use a virtual environment instead: https://pip.pypa.io/warnings/venv\u001b[0m\u001b[33m\n",
      "\u001b[0m\u001b[33mWARNING: You are using pip version 22.0.4; however, version 22.3.1 is available.\n",
      "You should consider upgrading via the '/usr/local/bin/python -m pip install --upgrade pip' command.\u001b[0m\u001b[33m\n",
      "\u001b[0mNote: you may need to restart the kernel to use updated packages.\n"
     ]
    }
   ],
   "source": [
    "pip install pandas\n",
    "pip install openpyxl \n",
    "pip install demoji"
   ]
  },
  {
   "cell_type": "markdown",
   "metadata": {
    "cell_id": "e101d9932e044e14a5bcd36cf03466f9",
    "deepnote_cell_type": "text-cell-h1",
    "formattedRanges": [
     {
      "fromCodePoint": 0,
      "marks": {
       "bold": true
      },
      "toCodePoint": 20,
      "type": "marks"
     }
    ],
    "is_collapsed": false,
    "tags": []
   },
   "source": [
    "# Zero-Shot Classifier"
   ]
  },
  {
   "cell_type": "code",
   "execution_count": 1,
   "metadata": {
    "cell_id": "73a892239bfa42fe8a4cc104ec1ea1d7",
    "deepnote_cell_type": "code",
    "deepnote_to_be_reexecuted": false,
    "execution_millis": 21628,
    "execution_start": 1673444483647,
    "source_hash": "8229009a",
    "tags": []
   },
   "outputs": [
    {
     "data": {
      "application/vnd.jupyter.widget-view+json": {
       "model_id": "f7ec1793b75b4caa9dee4a25aeee2eea",
       "version_major": 2,
       "version_minor": 0
      },
      "text/plain": [
       "Downloading pytorch_model.bin:   0%|          | 0.00/1.52G [00:00<?, ?B/s]"
      ]
     },
     "metadata": {},
     "output_type": "display_data"
    },
    {
     "data": {
      "application/vnd.jupyter.widget-view+json": {
       "model_id": "c1bf54271b45475ea2c6ac052241b2bc",
       "version_major": 2,
       "version_minor": 0
      },
      "text/plain": [
       "Downloading tokenizer_config.json:   0%|          | 0.00/26.0 [00:00<?, ?B/s]"
      ]
     },
     "metadata": {},
     "output_type": "display_data"
    },
    {
     "data": {
      "application/vnd.jupyter.widget-view+json": {
       "model_id": "6c479ab45eff48c7a0c3d37c8de82911",
       "version_major": 2,
       "version_minor": 0
      },
      "text/plain": [
       "Downloading vocab.json:   0%|          | 0.00/878k [00:00<?, ?B/s]"
      ]
     },
     "metadata": {},
     "output_type": "display_data"
    },
    {
     "data": {
      "application/vnd.jupyter.widget-view+json": {
       "model_id": "542b79a41d7b4e3e87ba71c038c4d8e0",
       "version_major": 2,
       "version_minor": 0
      },
      "text/plain": [
       "Downloading merges.txt:   0%|          | 0.00/446k [00:00<?, ?B/s]"
      ]
     },
     "metadata": {},
     "output_type": "display_data"
    },
    {
     "data": {
      "application/vnd.jupyter.widget-view+json": {
       "model_id": "efecb9769e4e4d45be15ad211773241b",
       "version_major": 2,
       "version_minor": 0
      },
      "text/plain": [
       "Downloading tokenizer.json:   0%|          | 0.00/1.29M [00:00<?, ?B/s]"
      ]
     },
     "metadata": {},
     "output_type": "display_data"
    }
   ],
   "source": [
    "from transformers import pipeline\n",
    "classifier = pipeline(\"zero-shot-classification\",\n",
    "                      model=\"facebook/bart-large-mnli\")\n"
   ]
  },
  {
   "cell_type": "code",
   "execution_count": 2,
   "metadata": {
    "cell_id": "854d65794ea6418a8edddc8d494242ca",
    "deepnote_cell_type": "code",
    "deepnote_to_be_reexecuted": false,
    "execution_millis": 243,
    "execution_start": 1673444505273,
    "source_hash": "6cb2c0b0",
    "tags": []
   },
   "outputs": [
    {
     "data": {
      "text/html": [
       "<div>\n",
       "<style scoped>\n",
       "    .dataframe tbody tr th:only-of-type {\n",
       "        vertical-align: middle;\n",
       "    }\n",
       "\n",
       "    .dataframe tbody tr th {\n",
       "        vertical-align: top;\n",
       "    }\n",
       "\n",
       "    .dataframe thead th {\n",
       "        text-align: right;\n",
       "    }\n",
       "</style>\n",
       "<table border=\"1\" class=\"dataframe\">\n",
       "  <thead>\n",
       "    <tr style=\"text-align: right;\">\n",
       "      <th></th>\n",
       "      <th>ID</th>\n",
       "      <th>Date</th>\n",
       "      <th>AppName</th>\n",
       "      <th>Review</th>\n",
       "      <th>Rating</th>\n",
       "      <th>Unnamed: 5</th>\n",
       "    </tr>\n",
       "  </thead>\n",
       "  <tbody>\n",
       "    <tr>\n",
       "      <th>0</th>\n",
       "      <td>6</td>\n",
       "      <td>2021-02-06 10:38:31</td>\n",
       "      <td>CapCut - Video Editor</td>\n",
       "      <td>-\\nAfter you exit the app and then open it aga...</td>\n",
       "      <td>4</td>\n",
       "      <td>NaN</td>\n",
       "    </tr>\n",
       "    <tr>\n",
       "      <th>1</th>\n",
       "      <td>8</td>\n",
       "      <td>2022-01-22 08:56:35</td>\n",
       "      <td>CapCut - Video Editor</td>\n",
       "      <td>- actual motion blur not just a an effect.\\n-m...</td>\n",
       "      <td>4</td>\n",
       "      <td>NaN</td>\n",
       "    </tr>\n",
       "    <tr>\n",
       "      <th>2</th>\n",
       "      <td>61</td>\n",
       "      <td>2021-04-15 01:11:20</td>\n",
       "      <td>CapCut - Video Editor</td>\n",
       "      <td>:v it gud lol</td>\n",
       "      <td>5</td>\n",
       "      <td>NaN</td>\n",
       "    </tr>\n",
       "    <tr>\n",
       "      <th>3</th>\n",
       "      <td>155</td>\n",
       "      <td>2021-12-06 03:24:56</td>\n",
       "      <td>CapCut - Video Editor</td>\n",
       "      <td>。。。。。。。。。。。。。。。。。。。。。\\nIm Going To Try To Make...</td>\n",
       "      <td>5</td>\n",
       "      <td>NaN</td>\n",
       "    </tr>\n",
       "    <tr>\n",
       "      <th>4</th>\n",
       "      <td>156</td>\n",
       "      <td>2021-08-07 06:00:46</td>\n",
       "      <td>CapCut - Video Editor</td>\n",
       "      <td>꧁ 𝑏𝑒𝑠𝑡 𝑡𝑤𝑒𝑒𝑛𝑖𝑛𝑔 𝑎𝑝𝑝 ( ˘ ³˘)♥︎ ꧂</td>\n",
       "      <td>5</td>\n",
       "      <td>NaN</td>\n",
       "    </tr>\n",
       "  </tbody>\n",
       "</table>\n",
       "</div>"
      ],
      "text/plain": [
       "    ID                 Date                AppName  \\\n",
       "0    6  2021-02-06 10:38:31  CapCut - Video Editor   \n",
       "1    8  2022-01-22 08:56:35  CapCut - Video Editor   \n",
       "2   61  2021-04-15 01:11:20  CapCut - Video Editor   \n",
       "3  155  2021-12-06 03:24:56  CapCut - Video Editor   \n",
       "4  156  2021-08-07 06:00:46  CapCut - Video Editor   \n",
       "\n",
       "                                              Review  Rating  Unnamed: 5  \n",
       "0  -\\nAfter you exit the app and then open it aga...       4         NaN  \n",
       "1  - actual motion blur not just a an effect.\\n-m...       4         NaN  \n",
       "2                                      :v it gud lol       5         NaN  \n",
       "3  。。。。。。。。。。。。。。。。。。。。。\\nIm Going To Try To Make...       5         NaN  \n",
       "4                    ꧁ 𝑏𝑒𝑠𝑡 𝑡𝑤𝑒𝑒𝑛𝑖𝑛𝑔 𝑎𝑝𝑝 ( ˘ ³˘)♥︎ ꧂       5         NaN  "
      ]
     },
     "execution_count": 2,
     "metadata": {},
     "output_type": "execute_result"
    }
   ],
   "source": [
    "import pandas as pd                     #python package for data analysis\n",
    "import numpy as np                      #python package for handling arrays \n",
    "import demoji                           #python package for dealing with emojis\n",
    "df = pd.read_excel(\"test.xlsx\")        #reading the data file and converting into tabular form with pandas\n",
    "df.head()                              #displaying top 5 records of the data"
   ]
  },
  {
   "cell_type": "code",
   "execution_count": 2,
   "metadata": {},
   "outputs": [],
   "source": [
    "# Function to perform all EDA\n",
    "def perform_eda(df, name=\"\"):\n",
    "    # Printing basic detail of data like name, size, shape\n",
    "    print(f\"EDA of {str(name)} Data....\")\n",
    "    print(f\"Size {df.size}\")\n",
    "    print(f\"Columns {df.shape[1]}\")\n",
    "    print(f\"Records {df.shape[0]}\")\n",
    "    print(\"=\"*50)\n",
    "    \n",
    "    # Printing top 5 records of data\n",
    "    print(\"First Look of Data....\")\n",
    "    display(df.head())\n",
    "    print(\"=\"*50)\n",
    "    \n",
    "    # Getting Numerical and Categorical columns Separately\n",
    "    cat_cols = df.select_dtypes(np.object).columns\n",
    "    num_cols = df.select_dtypes(np.number).columns\n",
    "\n",
    "    # Printing the Numerical columns\n",
    "    print(\"Dataset has following Numerical columns...\")\n",
    "    for i, j in enumerate(num_cols):\n",
    "        print(f\" {i+1}) {j}\")\n",
    "\n",
    "    # Printing the Categorical columns\n",
    "    print(\"\\n\\nDataset has following Categorical columns...\")\n",
    "    for i, j in enumerate(cat_cols):\n",
    "        print(f\" {i+1}) {j}\")\n",
    "    \n",
    "    # Printing info of data like data type, non null values\n",
    "    print(\"=\"*50)\n",
    "    print(\"Information of Data....\")\n",
    "    print(df.info())\n",
    "    print(\"=\"*50)\n",
    "    "
   ]
  },
  {
   "cell_type": "markdown",
   "metadata": {},
   "source": [
    "# Data Summary"
   ]
  },
  {
   "cell_type": "code",
   "execution_count": 3,
   "metadata": {},
   "outputs": [
    {
     "name": "stdout",
     "output_type": "stream",
     "text": [
      "EDA of  Data....\n",
      "Size 180\n",
      "Columns 6\n",
      "Records 30\n",
      "==================================================\n",
      "First Look of Data....\n"
     ]
    },
    {
     "data": {
      "text/html": [
       "<div>\n",
       "<style scoped>\n",
       "    .dataframe tbody tr th:only-of-type {\n",
       "        vertical-align: middle;\n",
       "    }\n",
       "\n",
       "    .dataframe tbody tr th {\n",
       "        vertical-align: top;\n",
       "    }\n",
       "\n",
       "    .dataframe thead th {\n",
       "        text-align: right;\n",
       "    }\n",
       "</style>\n",
       "<table border=\"1\" class=\"dataframe\">\n",
       "  <thead>\n",
       "    <tr style=\"text-align: right;\">\n",
       "      <th></th>\n",
       "      <th>ID</th>\n",
       "      <th>Date</th>\n",
       "      <th>AppName</th>\n",
       "      <th>Review</th>\n",
       "      <th>Rating</th>\n",
       "      <th>Unnamed: 5</th>\n",
       "    </tr>\n",
       "  </thead>\n",
       "  <tbody>\n",
       "    <tr>\n",
       "      <th>0</th>\n",
       "      <td>6</td>\n",
       "      <td>2021-02-06 10:38:31</td>\n",
       "      <td>CapCut - Video Editor</td>\n",
       "      <td>-\\nAfter you exit the app and then open it aga...</td>\n",
       "      <td>4</td>\n",
       "      <td>NaN</td>\n",
       "    </tr>\n",
       "    <tr>\n",
       "      <th>1</th>\n",
       "      <td>8</td>\n",
       "      <td>2022-01-22 08:56:35</td>\n",
       "      <td>CapCut - Video Editor</td>\n",
       "      <td>- actual motion blur not just a an effect.\\n-m...</td>\n",
       "      <td>4</td>\n",
       "      <td>NaN</td>\n",
       "    </tr>\n",
       "    <tr>\n",
       "      <th>2</th>\n",
       "      <td>61</td>\n",
       "      <td>2021-04-15 01:11:20</td>\n",
       "      <td>CapCut - Video Editor</td>\n",
       "      <td>:v it gud lol</td>\n",
       "      <td>5</td>\n",
       "      <td>NaN</td>\n",
       "    </tr>\n",
       "    <tr>\n",
       "      <th>3</th>\n",
       "      <td>155</td>\n",
       "      <td>2021-12-06 03:24:56</td>\n",
       "      <td>CapCut - Video Editor</td>\n",
       "      <td>。。。。。。。。。。。。。。。。。。。。。\\nIm Going To Try To Make...</td>\n",
       "      <td>5</td>\n",
       "      <td>NaN</td>\n",
       "    </tr>\n",
       "    <tr>\n",
       "      <th>4</th>\n",
       "      <td>156</td>\n",
       "      <td>2021-08-07 06:00:46</td>\n",
       "      <td>CapCut - Video Editor</td>\n",
       "      <td>꧁ 𝑏𝑒𝑠𝑡 𝑡𝑤𝑒𝑒𝑛𝑖𝑛𝑔 𝑎𝑝𝑝 ( ˘ ³˘)♥︎ ꧂</td>\n",
       "      <td>5</td>\n",
       "      <td>NaN</td>\n",
       "    </tr>\n",
       "  </tbody>\n",
       "</table>\n",
       "</div>"
      ],
      "text/plain": [
       "    ID                 Date                AppName  \\\n",
       "0    6  2021-02-06 10:38:31  CapCut - Video Editor   \n",
       "1    8  2022-01-22 08:56:35  CapCut - Video Editor   \n",
       "2   61  2021-04-15 01:11:20  CapCut - Video Editor   \n",
       "3  155  2021-12-06 03:24:56  CapCut - Video Editor   \n",
       "4  156  2021-08-07 06:00:46  CapCut - Video Editor   \n",
       "\n",
       "                                              Review  Rating  Unnamed: 5  \n",
       "0  -\\nAfter you exit the app and then open it aga...       4         NaN  \n",
       "1  - actual motion blur not just a an effect.\\n-m...       4         NaN  \n",
       "2                                      :v it gud lol       5         NaN  \n",
       "3  。。。。。。。。。。。。。。。。。。。。。\\nIm Going To Try To Make...       5         NaN  \n",
       "4                    ꧁ 𝑏𝑒𝑠𝑡 𝑡𝑤𝑒𝑒𝑛𝑖𝑛𝑔 𝑎𝑝𝑝 ( ˘ ³˘)♥︎ ꧂       5         NaN  "
      ]
     },
     "metadata": {},
     "output_type": "display_data"
    },
    {
     "name": "stdout",
     "output_type": "stream",
     "text": [
      "==================================================\n",
      "Dataset has following Numerical columns...\n",
      " 1) ID\n",
      " 2) Rating\n",
      " 3) Unnamed: 5\n",
      "\n",
      "\n",
      "Dataset has following Categorical columns...\n",
      " 1) Date\n",
      " 2) AppName\n",
      " 3) Review\n",
      "==================================================\n",
      "Information of Data....\n",
      "<class 'pandas.core.frame.DataFrame'>\n",
      "RangeIndex: 30 entries, 0 to 29\n",
      "Data columns (total 6 columns):\n",
      " #   Column      Non-Null Count  Dtype  \n",
      "---  ------      --------------  -----  \n",
      " 0   ID          30 non-null     int64  \n",
      " 1   Date        30 non-null     object \n",
      " 2   AppName     30 non-null     object \n",
      " 3   Review      30 non-null     object \n",
      " 4   Rating      30 non-null     int64  \n",
      " 5   Unnamed: 5  0 non-null      float64\n",
      "dtypes: float64(1), int64(2), object(3)\n",
      "memory usage: 1.5+ KB\n",
      "None\n",
      "==================================================\n"
     ]
    }
   ],
   "source": [
    "perform_eda(df)"
   ]
  },
  {
   "cell_type": "code",
   "execution_count": 4,
   "metadata": {
    "cell_id": "a4f8bbf15fc043e5827dd932cd5b0042",
    "deepnote_cell_type": "code",
    "deepnote_table_loading": false,
    "deepnote_table_state": {
     "filters": [],
     "pageIndex": 0,
     "pageSize": 50,
     "sortBy": []
    },
    "deepnote_to_be_reexecuted": false,
    "execution_millis": 29982,
    "execution_start": 1673444505516,
    "source_hash": "2e1db226",
    "tags": []
   },
   "outputs": [
    {
     "ename": "NameError",
     "evalue": "name 'classifier' is not defined",
     "output_type": "error",
     "traceback": [
      "\u001b[1;31m---------------------------------------------------------------------------\u001b[0m",
      "\u001b[1;31mNameError\u001b[0m                                 Traceback (most recent call last)",
      "\u001b[1;32m<ipython-input-4-4c5b152e535a>\u001b[0m in \u001b[0;36m<module>\u001b[1;34m\u001b[0m\n\u001b[0;32m      9\u001b[0m  \u001b[0md\u001b[0m\u001b[1;33m=\u001b[0m \u001b[1;33m{\u001b[0m\u001b[1;33m}\u001b[0m\u001b[1;33m\u001b[0m\u001b[1;33m\u001b[0m\u001b[0m\n\u001b[0;32m     10\u001b[0m  \u001b[0msequence\u001b[0m \u001b[1;33m=\u001b[0m \u001b[0mrow\u001b[0m\u001b[1;33m[\u001b[0m\u001b[1;34m'Review'\u001b[0m\u001b[1;33m]\u001b[0m\u001b[1;33m\u001b[0m\u001b[1;33m\u001b[0m\u001b[0m\n\u001b[1;32m---> 11\u001b[1;33m  \u001b[0mresult1\u001b[0m \u001b[1;33m=\u001b[0m \u001b[0mclassifier\u001b[0m\u001b[1;33m(\u001b[0m\u001b[0msequence\u001b[0m\u001b[1;33m,\u001b[0m \u001b[0mlabels1\u001b[0m\u001b[1;33m,\u001b[0m \u001b[0mmulti_class\u001b[0m\u001b[1;33m=\u001b[0m\u001b[1;32mTrue\u001b[0m\u001b[1;33m)\u001b[0m\u001b[1;33m\u001b[0m\u001b[1;33m\u001b[0m\u001b[0m\n\u001b[0m\u001b[0;32m     12\u001b[0m  \u001b[0mresult2\u001b[0m \u001b[1;33m=\u001b[0m \u001b[0mclassifier\u001b[0m\u001b[1;33m(\u001b[0m\u001b[0msequence\u001b[0m\u001b[1;33m,\u001b[0m \u001b[0mlabels2\u001b[0m\u001b[1;33m,\u001b[0m \u001b[0mmulti_class\u001b[0m\u001b[1;33m=\u001b[0m\u001b[1;32mTrue\u001b[0m\u001b[1;33m)\u001b[0m\u001b[1;33m\u001b[0m\u001b[1;33m\u001b[0m\u001b[0m\n\u001b[0;32m     13\u001b[0m  \u001b[0mtemp\u001b[0m \u001b[1;33m=\u001b[0m \u001b[0mlist\u001b[0m\u001b[1;33m(\u001b[0m\u001b[0mmap\u001b[0m\u001b[1;33m(\u001b[0m\u001b[0mresult1\u001b[0m\u001b[1;33m.\u001b[0m\u001b[0mget\u001b[0m\u001b[1;33m,\u001b[0m \u001b[0mfilter_keys\u001b[0m\u001b[1;33m)\u001b[0m\u001b[1;33m)\u001b[0m\u001b[1;33m\u001b[0m\u001b[1;33m\u001b[0m\u001b[0m\n",
      "\u001b[1;31mNameError\u001b[0m: name 'classifier' is not defined"
     ]
    }
   ],
   "source": [
    "labels1 = ['Feature Request', 'Information Giving', 'Problem Discovery']\n",
    "labels2 = ['Positive', 'Negtive']\n",
    "filter_keys = ['labels']\n",
    "#result={}\n",
    "#result[0]= classifier(sequence_to_classify, candidate_labels)\n",
    "#result[0]\n",
    "output=[]\n",
    "for index, row in df.iterrows():\n",
    " d= {}\n",
    " sequence = row['Review']\n",
    " result1 = classifier(sequence, labels1, multi_class=True)\n",
    " result2 = classifier(sequence, labels2, multi_class=True)\n",
    " temp = list(map(result1.get, filter_keys))\n",
    " temp2 = list(map(result2.get, filter_keys))\n",
    " d['ID']= row['ID']\n",
    " d['AppName']= row['AppName']\n",
    " d['Date']= row['Date']\n",
    " d['Rating']= row['Rating']\n",
    " d['Review'] = row['Review']\n",
    " d['Aspect label'] = temp[0][0]\n",
    " d['sentiment label']= temp2[0][0]\n",
    " output.append(d) \n",
    "\n",
    " #convert the list of dictionary into pandas DataFrame\n",
    "new = pd.DataFrame(output)\n",
    "new\n"
   ]
  },
  {
   "cell_type": "code",
   "execution_count": 3,
   "metadata": {},
   "outputs": [],
   "source": [
    "new=pd.read_csv('results.csv')"
   ]
  },
  {
   "cell_type": "code",
   "execution_count": 4,
   "metadata": {},
   "outputs": [],
   "source": [
    "tokens_up_lim=250       #setting upper limit of tokens\n",
    "tokens_low_lim=4        #setting lower limit of tokens"
   ]
  },
  {
   "cell_type": "code",
   "execution_count": 5,
   "metadata": {},
   "outputs": [],
   "source": [
    "def remove_emoji(text):\n",
    "    '''\n",
    "    this function remove the emojis from text so that we\n",
    "    can find number of token withot emoji\n",
    "    '''\n",
    "    emojis=demoji.findall(text)\n",
    "    for emoji in emojis.keys():\n",
    "        text=text.replace(emoji,'')\n",
    "    return text"
   ]
  },
  {
   "cell_type": "code",
   "execution_count": 6,
   "metadata": {},
   "outputs": [],
   "source": [
    "def reviews_filter(text):\n",
    "    '''\n",
    "    this function filter out all the reviews that follows:\n",
    "    1-no of tokens between 4 and 250\n",
    "    2- Not only emojis in the review text\n",
    "    '''\n",
    "    results=remove_emoji(text)\n",
    "    no_of_tokens=len(results.split())\n",
    "    if no_of_tokens>= tokens_low_lim and no_of_tokens <=tokens_up_lim:\n",
    "        return text"
   ]
  },
  {
   "cell_type": "code",
   "execution_count": 7,
   "metadata": {},
   "outputs": [],
   "source": [
    "new['Filtered Reviews']=new['Review'].apply(lambda x: reviews_filter(str(x)))"
   ]
  },
  {
   "cell_type": "markdown",
   "metadata": {},
   "source": [
    "# Results"
   ]
  },
  {
   "cell_type": "code",
   "execution_count": 8,
   "metadata": {},
   "outputs": [
    {
     "data": {
      "text/plain": [
       "0     -\\nAfter you exit the app and then open it aga...\n",
       "1     - actual motion blur not just a an effect.\\n-m...\n",
       "2                                         :v it gud lol\n",
       "3     。。。。。。。。。。。。。。。。。。。。。\\nIm Going To Try To Make...\n",
       "4                       ꧁ 𝑏𝑒𝑠𝑡 𝑡𝑤𝑒𝑒𝑛𝑖𝑛𝑔 𝑎𝑝𝑝 ( ˘ ³˘)♥︎ ꧂\n",
       "5                           “Add beats” aren’t working.\n",
       "6     “CapCut needs access to the album for editing ...\n",
       "7     “Insufficient storage clean up some photos & t...\n",
       "8     (I’m using iPad Pro if it matters)Ok so I’m no...\n",
       "9     •No in-app purchases\\n•No watermark\\n•Extract ...\n",
       "10    ° Capcut is amazing is so many ways, it’s very...\n",
       "11    ✝️🔯⛎♌️♑️☪️🕎♈️♍️♒️♓️♎️♉️☯️🕉♊️♏️🆔♐️♋️🛐✡️ search ...\n",
       "12                     ✨Best editing app in the world✨💅\n",
       "13    Adddd Graphs please it will make the app 10x b...\n",
       "14    ADDING GRAPHS AND ACTUAL KEY FRAMES WOULD BE G...\n",
       "15    adding smooth slowmo & tracking blur might rly...\n",
       "16    After a while it starts to glitch and lag out ...\n",
       "17    After all the videos I used to make compared t...\n",
       "18    After being 5 minutes on this app it’s so fun ...\n",
       "19    After I cut the video where the beats are and ...\n",
       "20    After I edit a video and make another one , th...\n",
       "21    after working on an edit for an hour the video...\n",
       "22    Ah yes well if it isn’t the app where I can ma...\n",
       "23    ah yes, the most used editing app used in a LO...\n",
       "24    AHH I have been yawing this app forever and I ...\n",
       "25    AHH I have used this app for so long and it wo...\n",
       "26    all fonts i try to import say file not support...\n",
       "27    All I ask from you is that you make the slomo ...\n",
       "28    All I gotta say is it’s better than video star...\n",
       "29                  all i have to say is i hate you!!!!\n",
       "Name: Filtered Reviews, dtype: object"
      ]
     },
     "execution_count": 8,
     "metadata": {},
     "output_type": "execute_result"
    }
   ],
   "source": [
    "new['Filtered Reviews']"
   ]
  },
  {
   "cell_type": "markdown",
   "metadata": {},
   "source": [
    "# Creating Groups"
   ]
  },
  {
   "cell_type": "code",
   "execution_count": 125,
   "metadata": {},
   "outputs": [],
   "source": [
    "#creating 4 groups as per requirements\n",
    "reviews_per_group=len(new['Filtered Reviews'])//4+len(new['Filtered Reviews'])%4"
   ]
  },
  {
   "cell_type": "code",
   "execution_count": 130,
   "metadata": {},
   "outputs": [],
   "source": [
    "groups_df=[]"
   ]
  },
  {
   "cell_type": "code",
   "execution_count": 131,
   "metadata": {},
   "outputs": [],
   "source": [
    "#this code slice the filtered Reviews into 4 groups\n",
    "for i,j in  enumerate(range(0, len(new['Filtered Reviews']), reviews_per_group)):\n",
    "    grp=new['Filtered Reviews'][j:j +reviews_per_group]\n",
    "    grp=pd.DataFrame(grp)\n",
    "    grp.columns=[f'Group {i}']\n",
    "    groups_df.append(grp)"
   ]
  },
  {
   "cell_type": "code",
   "execution_count": 169,
   "metadata": {},
   "outputs": [],
   "source": [
    "l0=groups_df[0]['Group 0'].tolist()\n",
    "l0=pd.DataFrame(l0)\n",
    "l1=groups_df[1]['Group 1'].tolist()\n",
    "l1=pd.DataFrame(l1)\n",
    "l2=groups_df[2]['Group 2'].tolist()\n",
    "l2=pd.DataFrame(l2)\n",
    "l3=groups_df[3]['Group 3'].tolist()\n",
    "l3=pd.DataFrame(l3)"
   ]
  },
  {
   "cell_type": "code",
   "execution_count": 175,
   "metadata": {},
   "outputs": [],
   "source": [
    "groups=pd.concat([l0,l1,l2,l3],axis=1)"
   ]
  },
  {
   "cell_type": "code",
   "execution_count": 176,
   "metadata": {},
   "outputs": [],
   "source": [
    "groups.columns=['Group 0','Group 1','Group 2','Group 3']"
   ]
  },
  {
   "cell_type": "code",
   "execution_count": 178,
   "metadata": {},
   "outputs": [
    {
     "data": {
      "text/html": [
       "<div>\n",
       "<style scoped>\n",
       "    .dataframe tbody tr th:only-of-type {\n",
       "        vertical-align: middle;\n",
       "    }\n",
       "\n",
       "    .dataframe tbody tr th {\n",
       "        vertical-align: top;\n",
       "    }\n",
       "\n",
       "    .dataframe thead th {\n",
       "        text-align: right;\n",
       "    }\n",
       "</style>\n",
       "<table border=\"1\" class=\"dataframe\">\n",
       "  <thead>\n",
       "    <tr style=\"text-align: right;\">\n",
       "      <th></th>\n",
       "      <th>Group 0</th>\n",
       "      <th>Group 1</th>\n",
       "      <th>Group 2</th>\n",
       "      <th>Group 3</th>\n",
       "    </tr>\n",
       "  </thead>\n",
       "  <tbody>\n",
       "    <tr>\n",
       "      <th>0</th>\n",
       "      <td>-\\nAfter you exit the app and then open it aga...</td>\n",
       "      <td>•No in-app purchases\\n•No watermark\\n•Extract ...</td>\n",
       "      <td>After being 5 minutes on this app it’s so fun ...</td>\n",
       "      <td>All I ask from you is that you make the slomo ...</td>\n",
       "    </tr>\n",
       "    <tr>\n",
       "      <th>1</th>\n",
       "      <td>- actual motion blur not just a an effect.\\n-m...</td>\n",
       "      <td>° Capcut is amazing is so many ways, it’s very...</td>\n",
       "      <td>After I cut the video where the beats are and ...</td>\n",
       "      <td>All I gotta say is it’s better than video star...</td>\n",
       "    </tr>\n",
       "    <tr>\n",
       "      <th>2</th>\n",
       "      <td>:v it gud lol</td>\n",
       "      <td>✝️🔯⛎♌️♑️☪️🕎♈️♍️♒️♓️♎️♉️☯️🕉♊️♏️🆔♐️♋️🛐✡️ search ...</td>\n",
       "      <td>After I edit a video and make another one , th...</td>\n",
       "      <td>all i have to say is i hate you!!!!</td>\n",
       "    </tr>\n",
       "    <tr>\n",
       "      <th>3</th>\n",
       "      <td>。。。。。。。。。。。。。。。。。。。。。\\nIm Going To Try To Make...</td>\n",
       "      <td>✨Best editing app in the world✨💅</td>\n",
       "      <td>after working on an edit for an hour the video...</td>\n",
       "      <td>NaN</td>\n",
       "    </tr>\n",
       "    <tr>\n",
       "      <th>4</th>\n",
       "      <td>꧁ 𝑏𝑒𝑠𝑡 𝑡𝑤𝑒𝑒𝑛𝑖𝑛𝑔 𝑎𝑝𝑝 ( ˘ ³˘)♥︎ ꧂</td>\n",
       "      <td>Adddd Graphs please it will make the app 10x b...</td>\n",
       "      <td>Ah yes well if it isn’t the app where I can ma...</td>\n",
       "      <td>NaN</td>\n",
       "    </tr>\n",
       "    <tr>\n",
       "      <th>5</th>\n",
       "      <td>“Add beats” aren’t working.</td>\n",
       "      <td>ADDING GRAPHS AND ACTUAL KEY FRAMES WOULD BE G...</td>\n",
       "      <td>ah yes, the most used editing app used in a LO...</td>\n",
       "      <td>NaN</td>\n",
       "    </tr>\n",
       "    <tr>\n",
       "      <th>6</th>\n",
       "      <td>“CapCut needs access to the album for editing ...</td>\n",
       "      <td>adding smooth slowmo &amp; tracking blur might rly...</td>\n",
       "      <td>AHH I have been yawing this app forever and I ...</td>\n",
       "      <td>NaN</td>\n",
       "    </tr>\n",
       "    <tr>\n",
       "      <th>7</th>\n",
       "      <td>“Insufficient storage clean up some photos &amp; t...</td>\n",
       "      <td>After a while it starts to glitch and lag out ...</td>\n",
       "      <td>AHH I have used this app for so long and it wo...</td>\n",
       "      <td>NaN</td>\n",
       "    </tr>\n",
       "    <tr>\n",
       "      <th>8</th>\n",
       "      <td>(I’m using iPad Pro if it matters)Ok so I’m no...</td>\n",
       "      <td>After all the videos I used to make compared t...</td>\n",
       "      <td>all fonts i try to import say file not support...</td>\n",
       "      <td>NaN</td>\n",
       "    </tr>\n",
       "  </tbody>\n",
       "</table>\n",
       "</div>"
      ],
      "text/plain": [
       "                                             Group 0  \\\n",
       "0  -\\nAfter you exit the app and then open it aga...   \n",
       "1  - actual motion blur not just a an effect.\\n-m...   \n",
       "2                                      :v it gud lol   \n",
       "3  。。。。。。。。。。。。。。。。。。。。。\\nIm Going To Try To Make...   \n",
       "4                    ꧁ 𝑏𝑒𝑠𝑡 𝑡𝑤𝑒𝑒𝑛𝑖𝑛𝑔 𝑎𝑝𝑝 ( ˘ ³˘)♥︎ ꧂   \n",
       "5                        “Add beats” aren’t working.   \n",
       "6  “CapCut needs access to the album for editing ...   \n",
       "7  “Insufficient storage clean up some photos & t...   \n",
       "8  (I’m using iPad Pro if it matters)Ok so I’m no...   \n",
       "\n",
       "                                             Group 1  \\\n",
       "0  •No in-app purchases\\n•No watermark\\n•Extract ...   \n",
       "1  ° Capcut is amazing is so many ways, it’s very...   \n",
       "2  ✝️🔯⛎♌️♑️☪️🕎♈️♍️♒️♓️♎️♉️☯️🕉♊️♏️🆔♐️♋️🛐✡️ search ...   \n",
       "3                   ✨Best editing app in the world✨💅   \n",
       "4  Adddd Graphs please it will make the app 10x b...   \n",
       "5  ADDING GRAPHS AND ACTUAL KEY FRAMES WOULD BE G...   \n",
       "6  adding smooth slowmo & tracking blur might rly...   \n",
       "7  After a while it starts to glitch and lag out ...   \n",
       "8  After all the videos I used to make compared t...   \n",
       "\n",
       "                                             Group 2  \\\n",
       "0  After being 5 minutes on this app it’s so fun ...   \n",
       "1  After I cut the video where the beats are and ...   \n",
       "2  After I edit a video and make another one , th...   \n",
       "3  after working on an edit for an hour the video...   \n",
       "4  Ah yes well if it isn’t the app where I can ma...   \n",
       "5  ah yes, the most used editing app used in a LO...   \n",
       "6  AHH I have been yawing this app forever and I ...   \n",
       "7  AHH I have used this app for so long and it wo...   \n",
       "8  all fonts i try to import say file not support...   \n",
       "\n",
       "                                             Group 3  \n",
       "0  All I ask from you is that you make the slomo ...  \n",
       "1  All I gotta say is it’s better than video star...  \n",
       "2                all i have to say is i hate you!!!!  \n",
       "3                                                NaN  \n",
       "4                                                NaN  \n",
       "5                                                NaN  \n",
       "6                                                NaN  \n",
       "7                                                NaN  \n",
       "8                                                NaN  "
      ]
     },
     "execution_count": 178,
     "metadata": {},
     "output_type": "execute_result"
    }
   ],
   "source": [
    "groups"
   ]
  },
  {
   "cell_type": "markdown",
   "metadata": {
    "created_in_deepnote_cell": true,
    "deepnote_cell_type": "markdown",
    "tags": []
   },
   "source": [
    "<a style='text-decoration:none;line-height:16px;display:flex;color:#5B5B62;padding:10px;justify-content:end;' href='https://deepnote.com?utm_source=created-in-deepnote-cell&projectId=c2b12320-9148-49cb-81da-f45d7694199a' target=\"_blank\">\n",
    "<img alt='Created in deepnote.com' style='display:inline;max-height:16px;margin:0px;margin-right:7.5px;' src='data:image/svg+xml;base64,PD94bWwgdmVyc2lvbj0iMS4wIiBlbmNvZGluZz0iVVRGLTgiPz4KPHN2ZyB3aWR0aD0iODBweCIgaGVpZ2h0PSI4MHB4IiB2aWV3Qm94PSIwIDAgODAgODAiIHZlcnNpb249IjEuMSIgeG1sbnM9Imh0dHA6Ly93d3cudzMub3JnLzIwMDAvc3ZnIiB4bWxuczp4bGluaz0iaHR0cDovL3d3dy53My5vcmcvMTk5OS94bGluayI+CiAgICA8IS0tIEdlbmVyYXRvcjogU2tldGNoIDU0LjEgKDc2NDkwKSAtIGh0dHBzOi8vc2tldGNoYXBwLmNvbSAtLT4KICAgIDx0aXRsZT5Hcm91cCAzPC90aXRsZT4KICAgIDxkZXNjPkNyZWF0ZWQgd2l0aCBTa2V0Y2guPC9kZXNjPgogICAgPGcgaWQ9IkxhbmRpbmciIHN0cm9rZT0ibm9uZSIgc3Ryb2tlLXdpZHRoPSIxIiBmaWxsPSJub25lIiBmaWxsLXJ1bGU9ImV2ZW5vZGQiPgogICAgICAgIDxnIGlkPSJBcnRib2FyZCIgdHJhbnNmb3JtPSJ0cmFuc2xhdGUoLTEyMzUuMDAwMDAwLCAtNzkuMDAwMDAwKSI+CiAgICAgICAgICAgIDxnIGlkPSJHcm91cC0zIiB0cmFuc2Zvcm09InRyYW5zbGF0ZSgxMjM1LjAwMDAwMCwgNzkuMDAwMDAwKSI+CiAgICAgICAgICAgICAgICA8cG9seWdvbiBpZD0iUGF0aC0yMCIgZmlsbD0iIzAyNjVCNCIgcG9pbnRzPSIyLjM3NjIzNzYyIDgwIDM4LjA0NzY2NjcgODAgNTcuODIxNzgyMiA3My44MDU3NTkyIDU3LjgyMTc4MjIgMzIuNzU5MjczOSAzOS4xNDAyMjc4IDMxLjY4MzE2ODMiPjwvcG9seWdvbj4KICAgICAgICAgICAgICAgIDxwYXRoIGQ9Ik0zNS4wMDc3MTgsODAgQzQyLjkwNjIwMDcsNzYuNDU0OTM1OCA0Ny41NjQ5MTY3LDcxLjU0MjI2NzEgNDguOTgzODY2LDY1LjI2MTk5MzkgQzUxLjExMjI4OTksNTUuODQxNTg0MiA0MS42NzcxNzk1LDQ5LjIxMjIyODQgMjUuNjIzOTg0Niw0OS4yMTIyMjg0IEMyNS40ODQ5Mjg5LDQ5LjEyNjg0NDggMjkuODI2MTI5Niw0My4yODM4MjQ4IDM4LjY0NzU4NjksMzEuNjgzMTY4MyBMNzIuODcxMjg3MSwzMi41NTQ0MjUgTDY1LjI4MDk3Myw2Ny42NzYzNDIxIEw1MS4xMTIyODk5LDc3LjM3NjE0NCBMMzUuMDA3NzE4LDgwIFoiIGlkPSJQYXRoLTIyIiBmaWxsPSIjMDAyODY4Ij48L3BhdGg+CiAgICAgICAgICAgICAgICA8cGF0aCBkPSJNMCwzNy43MzA0NDA1IEwyNy4xMTQ1MzcsMC4yNTcxMTE0MzYgQzYyLjM3MTUxMjMsLTEuOTkwNzE3MDEgODAsMTAuNTAwMzkyNyA4MCwzNy43MzA0NDA1IEM4MCw2NC45NjA0ODgyIDY0Ljc3NjUwMzgsNzkuMDUwMzQxNCAzNC4zMjk1MTEzLDgwIEM0Ny4wNTUzNDg5LDc3LjU2NzA4MDggNTMuNDE4MjY3Nyw3MC4zMTM2MTAzIDUzLjQxODI2NzcsNTguMjM5NTg4NSBDNTMuNDE4MjY3Nyw0MC4xMjg1NTU3IDM2LjMwMzk1NDQsMzcuNzMwNDQwNSAyNS4yMjc0MTcsMzcuNzMwNDQwNSBDMTcuODQzMDU4NiwzNy43MzA0NDA1IDkuNDMzOTE5NjYsMzcuNzMwNDQwNSAwLDM3LjczMDQ0MDUgWiIgaWQ9IlBhdGgtMTkiIGZpbGw9IiMzNzkzRUYiPjwvcGF0aD4KICAgICAgICAgICAgPC9nPgogICAgICAgIDwvZz4KICAgIDwvZz4KPC9zdmc+' > </img>\n",
    "Created in <span style='font-weight:600;margin-left:4px;'>Deepnote</span></a>"
   ]
  }
 ],
 "metadata": {
  "deepnote": {},
  "deepnote_execution_queue": [],
  "deepnote_full_width": false,
  "deepnote_notebook_id": "340787e17c1f47c4ab3f1b6cecb518ec",
  "kernelspec": {
   "display_name": "Python 3",
   "language": "python",
   "name": "python3"
  },
  "language_info": {
   "codemirror_mode": {
    "name": "ipython",
    "version": 3
   },
   "file_extension": ".py",
   "mimetype": "text/x-python",
   "name": "python",
   "nbconvert_exporter": "python",
   "pygments_lexer": "ipython3",
   "version": "3.9.5"
  }
 },
 "nbformat": 4,
 "nbformat_minor": 1
}
