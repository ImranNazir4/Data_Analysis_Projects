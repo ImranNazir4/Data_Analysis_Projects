{
 "cells": [
  {
   "cell_type": "markdown",
   "id": "44bf52f7",
   "metadata": {},
   "source": [
    "# Installing Dependencies"
   ]
  },
  {
   "cell_type": "code",
   "execution_count": 100,
   "id": "1de8e4f7",
   "metadata": {},
   "outputs": [
    {
     "name": "stderr",
     "output_type": "stream",
     "text": [
      "WARNING: There was an error checking the latest version of pip.\n",
      "WARNING: There was an error checking the latest version of pip.\n"
     ]
    }
   ],
   "source": [
    "!pip install -q neattext\n",
    "!pip install -q pandas"
   ]
  },
  {
   "cell_type": "markdown",
   "id": "935aa7bc",
   "metadata": {},
   "source": [
    "# Importing Dependencies"
   ]
  },
  {
   "cell_type": "code",
   "execution_count": 1,
   "id": "45e24658",
   "metadata": {},
   "outputs": [],
   "source": [
    "import pandas as pd\n",
    "import neattext as nt"
   ]
  },
  {
   "cell_type": "markdown",
   "id": "a05b0009",
   "metadata": {},
   "source": [
    "# Reading the Dataset"
   ]
  },
  {
   "cell_type": "code",
   "execution_count": 2,
   "id": "ea1d4fdf",
   "metadata": {},
   "outputs": [
    {
     "name": "stderr",
     "output_type": "stream",
     "text": [
      "c:\\users\\zee tech\\appdata\\local\\programs\\python\\python39\\lib\\site-packages\\IPython\\core\\interactiveshell.py:3169: DtypeWarning: Columns (46,50,51,66,67,68,91,92,93,96,100,101,104,105,106,107,108,109,141,162,166,167,172,173,184,185,242,243,249,267,268,269,271,272,273) have mixed types.Specify dtype option on import or set low_memory=False.\n",
      "  has_raised = await self.run_ast_nodes(code_ast.body, cell_name,\n"
     ]
    }
   ],
   "source": [
    "df=pd.read_csv('Amz-Products-Data-2023-03-13-ProductFinder.csv')"
   ]
  },
  {
   "cell_type": "markdown",
   "id": "579415fe",
   "metadata": {},
   "source": [
    "# View of Dataset"
   ]
  },
  {
   "cell_type": "code",
   "execution_count": 3,
   "id": "541bf9d8",
   "metadata": {},
   "outputs": [
    {
     "data": {
      "text/html": [
       "<div>\n",
       "<style scoped>\n",
       "    .dataframe tbody tr th:only-of-type {\n",
       "        vertical-align: middle;\n",
       "    }\n",
       "\n",
       "    .dataframe tbody tr th {\n",
       "        vertical-align: top;\n",
       "    }\n",
       "\n",
       "    .dataframe thead th {\n",
       "        text-align: right;\n",
       "    }\n",
       "</style>\n",
       "<table border=\"1\" class=\"dataframe\">\n",
       "  <thead>\n",
       "    <tr style=\"text-align: right;\">\n",
       "      <th></th>\n",
       "      <th>Locale</th>\n",
       "      <th>Image</th>\n",
       "      <th>Title</th>\n",
       "      <th>Sales Rank: Current</th>\n",
       "      <th>Sales Rank: 30 days avg.</th>\n",
       "      <th>Sales Rank: 90 days avg.</th>\n",
       "      <th>Sales Rank: 180 days avg.</th>\n",
       "      <th>Sales Rank: 30 days drop %</th>\n",
       "      <th>Sales Rank: 90 days drop %</th>\n",
       "      <th>Sales Rank: Lowest</th>\n",
       "      <th>...</th>\n",
       "      <th>One Time Coupon: Absolute</th>\n",
       "      <th>One Time Coupon: Percentage</th>\n",
       "      <th>Subscribe and Save Coupon: Percentage</th>\n",
       "      <th>Buy Box Used 🚚: Lowest</th>\n",
       "      <th>Buy Box Used 🚚: Highest</th>\n",
       "      <th>Buy Box Used Seller</th>\n",
       "      <th>Buy Box Used: Is FBA</th>\n",
       "      <th>Buy Box Used: Condition</th>\n",
       "      <th>New, Prime exclusive: Lowest</th>\n",
       "      <th>New, Prime exclusive: Highest</th>\n",
       "    </tr>\n",
       "  </thead>\n",
       "  <tbody>\n",
       "    <tr>\n",
       "      <th>0</th>\n",
       "      <td>com</td>\n",
       "      <td>https://images-na.ssl-images-amazon.com/images...</td>\n",
       "      <td>Mademark x Daria - Quinn - VP of the Fashion C...</td>\n",
       "      <td>113514.0</td>\n",
       "      <td>112719.0</td>\n",
       "      <td>109131.0</td>\n",
       "      <td>107231.0</td>\n",
       "      <td>-1 %</td>\n",
       "      <td>-4 %</td>\n",
       "      <td>95572</td>\n",
       "      <td>...</td>\n",
       "      <td>-</td>\n",
       "      <td>-</td>\n",
       "      <td>-</td>\n",
       "      <td>NaN</td>\n",
       "      <td>NaN</td>\n",
       "      <td>NaN</td>\n",
       "      <td>no</td>\n",
       "      <td>NaN</td>\n",
       "      <td>NaN</td>\n",
       "      <td>NaN</td>\n",
       "    </tr>\n",
       "    <tr>\n",
       "      <th>1</th>\n",
       "      <td>com</td>\n",
       "      <td>https://images-na.ssl-images-amazon.com/images...</td>\n",
       "      <td>Disney Men's Cars 3 Lightning McQueen Graphic ...</td>\n",
       "      <td>113883.0</td>\n",
       "      <td>128709.0</td>\n",
       "      <td>126036.0</td>\n",
       "      <td>134081.0</td>\n",
       "      <td>12 %</td>\n",
       "      <td>10 %</td>\n",
       "      <td>20363</td>\n",
       "      <td>...</td>\n",
       "      <td>-</td>\n",
       "      <td>-</td>\n",
       "      <td>-</td>\n",
       "      <td>NaN</td>\n",
       "      <td>NaN</td>\n",
       "      <td>NaN</td>\n",
       "      <td>no</td>\n",
       "      <td>NaN</td>\n",
       "      <td>NaN</td>\n",
       "      <td>NaN</td>\n",
       "    </tr>\n",
       "  </tbody>\n",
       "</table>\n",
       "<p>2 rows × 274 columns</p>\n",
       "</div>"
      ],
      "text/plain": [
       "  Locale                                              Image  \\\n",
       "0    com  https://images-na.ssl-images-amazon.com/images...   \n",
       "1    com  https://images-na.ssl-images-amazon.com/images...   \n",
       "\n",
       "                                               Title  Sales Rank: Current  \\\n",
       "0  Mademark x Daria - Quinn - VP of the Fashion C...             113514.0   \n",
       "1  Disney Men's Cars 3 Lightning McQueen Graphic ...             113883.0   \n",
       "\n",
       "   Sales Rank: 30 days avg.  Sales Rank: 90 days avg.  \\\n",
       "0                  112719.0                  109131.0   \n",
       "1                  128709.0                  126036.0   \n",
       "\n",
       "   Sales Rank: 180 days avg. Sales Rank: 30 days drop %  \\\n",
       "0                   107231.0                       -1 %   \n",
       "1                   134081.0                       12 %   \n",
       "\n",
       "  Sales Rank: 90 days drop %  Sales Rank: Lowest  ...  \\\n",
       "0                       -4 %               95572  ...   \n",
       "1                       10 %               20363  ...   \n",
       "\n",
       "   One Time Coupon: Absolute  One Time Coupon: Percentage  \\\n",
       "0                          -                            -   \n",
       "1                          -                            -   \n",
       "\n",
       "   Subscribe and Save Coupon: Percentage  Buy Box Used 🚚: Lowest  \\\n",
       "0                                      -                     NaN   \n",
       "1                                      -                     NaN   \n",
       "\n",
       "  Buy Box Used 🚚: Highest Buy Box Used Seller  Buy Box Used: Is FBA  \\\n",
       "0                     NaN                 NaN                    no   \n",
       "1                     NaN                 NaN                    no   \n",
       "\n",
       "   Buy Box Used: Condition  New, Prime exclusive: Lowest  \\\n",
       "0                      NaN                           NaN   \n",
       "1                      NaN                           NaN   \n",
       "\n",
       "   New, Prime exclusive: Highest  \n",
       "0                            NaN  \n",
       "1                            NaN  \n",
       "\n",
       "[2 rows x 274 columns]"
      ]
     },
     "execution_count": 3,
     "metadata": {},
     "output_type": "execute_result"
    }
   ],
   "source": [
    "df.head(2)"
   ]
  },
  {
   "cell_type": "code",
   "execution_count": 4,
   "id": "f1c7f614",
   "metadata": {},
   "outputs": [],
   "source": [
    "extracted_results=[]"
   ]
  },
  {
   "cell_type": "code",
   "execution_count": 5,
   "id": "0acd9e9a",
   "metadata": {},
   "outputs": [],
   "source": [
    "def extract_products(themes,save=False):\n",
    "    for theme in themes:\n",
    "        extracted_results=[]\n",
    "        for i,prod_title in enumerate(df['Title'].values):\n",
    "            if theme.lower() in prod_title.lower():\n",
    "               # print(df.loc[i,'Title'])\n",
    "               extracted_results.append(i)\n",
    "        theme_words=nt.remove_stopwords(theme)\n",
    "        for word in theme_words.split():\n",
    "            for i,prod_title in enumerate(df['Title'].values):\n",
    "                if word.lower() in prod_title.lower():\n",
    "                    extracted_results.append(i)\n",
    "                   # print(1)\n",
    "                  # print(df.loc[i,'Title'])\n",
    "        if save==True:\n",
    "            df.loc[extracted_results].drop_duplicates().to_csv(f'{theme}.csv')"
   ]
  },
  {
   "cell_type": "markdown",
   "id": "9d78c651",
   "metadata": {},
   "source": [
    "# Single Theme"
   ]
  },
  {
   "cell_type": "code",
   "execution_count": 6,
   "id": "c369460d",
   "metadata": {},
   "outputs": [],
   "source": [
    "extract_products(['Saint Patrick'],save=False)  #pass save==True if you want to save the results"
   ]
  },
  {
   "cell_type": "markdown",
   "id": "bdafb0cf",
   "metadata": {},
   "source": [
    "# Multiple Themes"
   ]
  },
  {
   "cell_type": "code",
   "execution_count": 7,
   "id": "b18bff71",
   "metadata": {},
   "outputs": [],
   "source": [
    "extract_products(['Saint Patrick','30th Birthday'],save=True) \n",
    "#you can add more themes in single quotes separated by comma\n",
    "#pass save==True if you want to save the results"
   ]
  },
  {
   "cell_type": "code",
   "execution_count": null,
   "id": "e5332bc4",
   "metadata": {},
   "outputs": [],
   "source": []
  }
 ],
 "metadata": {
  "kernelspec": {
   "display_name": "Python 3",
   "language": "python",
   "name": "python3"
  },
  "language_info": {
   "codemirror_mode": {
    "name": "ipython",
    "version": 3
   },
   "file_extension": ".py",
   "mimetype": "text/x-python",
   "name": "python",
   "nbconvert_exporter": "python",
   "pygments_lexer": "ipython3",
   "version": "3.9.5"
  }
 },
 "nbformat": 4,
 "nbformat_minor": 5
}
