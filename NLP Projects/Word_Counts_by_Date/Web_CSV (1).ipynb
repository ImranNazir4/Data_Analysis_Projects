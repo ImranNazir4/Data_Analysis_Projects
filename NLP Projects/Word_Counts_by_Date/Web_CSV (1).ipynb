{
  "nbformat": 4,
  "nbformat_minor": 0,
  "metadata": {
    "colab": {
      "provenance": []
    },
    "kernelspec": {
      "name": "python3",
      "display_name": "Python 3"
    },
    "language_info": {
      "name": "python"
    }
  },
  "cells": [
    {
      "cell_type": "markdown",
      "metadata": {
        "id": "LWh8lD1BMuDY"
      },
      "source": [
        "# Dataframe from CSV on the web\n",
        "\n",
        "by Koenraad De Smedt at UiB\n",
        "\n"
      ]
    },
    {
      "cell_type": "markdown",
      "metadata": {
        "id": "caiDd7jGrL1U"
      },
      "source": [
        "---\n",
        "The CSV format is a plain text representation of a table, where lines are rows and columns (or fields) are separated by a designated delimiter, often a *comma*. If the delimiter is a *tab* (tabulator character), the format is often called TSV.\n",
        "\n",
        "Based on data from a real research project, this notebook shows how to:\n",
        "\n",
        "1.  Make a Pandas dataframe from a CSV (or TSV) file on the web\n",
        "2.  Make a series by taking a column from a dataframe\n",
        "3.  Sort a series\n",
        "3.  Select rows based on matching values\n",
        "4.  Count and plot values.\n",
        "\n",
        "We will use an online dataset which contains a list of new Norwegian compounds with *korona-* or *corona-*, such as *koronasyk* or *coronavirusfamilien*. The dataset has three columns:\n",
        "\n",
        "1. The name of the newspaper in which the compound first occurred\n",
        "2. The date of first occurrence\n",
        "3. The second part of the compound (after *korona-* or *corona-*).\n",
        "\n",
        "More information at https://github.com/clarino/corona/tree/master/corona21.\n",
        "\n",
        "---"
      ]
    },
    {
      "cell_type": "markdown",
      "source": [
        "## Read dataframe from CSV on Web"
      ],
      "metadata": {
        "id": "1Gryhj_d35oS"
      }
    },
    {
      "cell_type": "code",
      "metadata": {
        "id": "0JWt46c6Jr8L"
      },
      "source": [
        "import pandas as pd\n",
        "corona_url = 'https://raw.githubusercontent.com/clarino/corona/master/corona21/korona-compounds-forms.csv'"
      ],
      "execution_count": 1,
      "outputs": []
    },
    {
      "cell_type": "markdown",
      "metadata": {
        "id": "W21o5H3HJrOV"
      },
      "source": [
        "We read this online dataset into a Pandas dataframe. The separator is a *tab* character. This dataset does not contain a header (i.e. a line with column names) so we have to name the columns explicitly."
      ]
    },
    {
      "cell_type": "code",
      "metadata": {
        "id": "ozGpI5Z7MliD",
        "outputId": "3e889c7d-af75-4a45-f919-fab53a67fd31",
        "colab": {
          "base_uri": "https://localhost:8080/",
          "height": 423
        }
      },
      "source": [
        "occurrences = pd.read_csv(corona_url, sep='\\t', header=None)\n",
        "occurrences.columns = ['source', 'date', 'word']\n",
        "occurrences"
      ],
      "execution_count": 2,
      "outputs": [
        {
          "output_type": "execute_result",
          "data": {
            "text/plain": [
              "     source      date            word\n",
              "0        VG  20/01/09           virus\n",
              "1        VG  20/01/09         viruset\n",
              "2        AP  20/01/16   virusfamilien\n",
              "3        DB  20/01/21        familien\n",
              "4        AP  20/01/21  virusutbruddet\n",
              "...     ...       ...             ...\n",
              "3007     VG  21/03/07     konfliktene\n",
              "3008     VG  21/03/07      konflikter\n",
              "3009     AP  21/03/07    litteraturen\n",
              "3010     SA  21/03/07          plater\n",
              "3011     AA  21/03/08       svineriet\n",
              "\n",
              "[3012 rows x 3 columns]"
            ],
            "text/html": [
              "\n",
              "  <div id=\"df-677b0152-9db7-4e0d-8539-545bb5385b21\">\n",
              "    <div class=\"colab-df-container\">\n",
              "      <div>\n",
              "<style scoped>\n",
              "    .dataframe tbody tr th:only-of-type {\n",
              "        vertical-align: middle;\n",
              "    }\n",
              "\n",
              "    .dataframe tbody tr th {\n",
              "        vertical-align: top;\n",
              "    }\n",
              "\n",
              "    .dataframe thead th {\n",
              "        text-align: right;\n",
              "    }\n",
              "</style>\n",
              "<table border=\"1\" class=\"dataframe\">\n",
              "  <thead>\n",
              "    <tr style=\"text-align: right;\">\n",
              "      <th></th>\n",
              "      <th>source</th>\n",
              "      <th>date</th>\n",
              "      <th>word</th>\n",
              "    </tr>\n",
              "  </thead>\n",
              "  <tbody>\n",
              "    <tr>\n",
              "      <th>0</th>\n",
              "      <td>VG</td>\n",
              "      <td>20/01/09</td>\n",
              "      <td>virus</td>\n",
              "    </tr>\n",
              "    <tr>\n",
              "      <th>1</th>\n",
              "      <td>VG</td>\n",
              "      <td>20/01/09</td>\n",
              "      <td>viruset</td>\n",
              "    </tr>\n",
              "    <tr>\n",
              "      <th>2</th>\n",
              "      <td>AP</td>\n",
              "      <td>20/01/16</td>\n",
              "      <td>virusfamilien</td>\n",
              "    </tr>\n",
              "    <tr>\n",
              "      <th>3</th>\n",
              "      <td>DB</td>\n",
              "      <td>20/01/21</td>\n",
              "      <td>familien</td>\n",
              "    </tr>\n",
              "    <tr>\n",
              "      <th>4</th>\n",
              "      <td>AP</td>\n",
              "      <td>20/01/21</td>\n",
              "      <td>virusutbruddet</td>\n",
              "    </tr>\n",
              "    <tr>\n",
              "      <th>...</th>\n",
              "      <td>...</td>\n",
              "      <td>...</td>\n",
              "      <td>...</td>\n",
              "    </tr>\n",
              "    <tr>\n",
              "      <th>3007</th>\n",
              "      <td>VG</td>\n",
              "      <td>21/03/07</td>\n",
              "      <td>konfliktene</td>\n",
              "    </tr>\n",
              "    <tr>\n",
              "      <th>3008</th>\n",
              "      <td>VG</td>\n",
              "      <td>21/03/07</td>\n",
              "      <td>konflikter</td>\n",
              "    </tr>\n",
              "    <tr>\n",
              "      <th>3009</th>\n",
              "      <td>AP</td>\n",
              "      <td>21/03/07</td>\n",
              "      <td>litteraturen</td>\n",
              "    </tr>\n",
              "    <tr>\n",
              "      <th>3010</th>\n",
              "      <td>SA</td>\n",
              "      <td>21/03/07</td>\n",
              "      <td>plater</td>\n",
              "    </tr>\n",
              "    <tr>\n",
              "      <th>3011</th>\n",
              "      <td>AA</td>\n",
              "      <td>21/03/08</td>\n",
              "      <td>svineriet</td>\n",
              "    </tr>\n",
              "  </tbody>\n",
              "</table>\n",
              "<p>3012 rows × 3 columns</p>\n",
              "</div>\n",
              "      <button class=\"colab-df-convert\" onclick=\"convertToInteractive('df-677b0152-9db7-4e0d-8539-545bb5385b21')\"\n",
              "              title=\"Convert this dataframe to an interactive table.\"\n",
              "              style=\"display:none;\">\n",
              "        \n",
              "  <svg xmlns=\"http://www.w3.org/2000/svg\" height=\"24px\"viewBox=\"0 0 24 24\"\n",
              "       width=\"24px\">\n",
              "    <path d=\"M0 0h24v24H0V0z\" fill=\"none\"/>\n",
              "    <path d=\"M18.56 5.44l.94 2.06.94-2.06 2.06-.94-2.06-.94-.94-2.06-.94 2.06-2.06.94zm-11 1L8.5 8.5l.94-2.06 2.06-.94-2.06-.94L8.5 2.5l-.94 2.06-2.06.94zm10 10l.94 2.06.94-2.06 2.06-.94-2.06-.94-.94-2.06-.94 2.06-2.06.94z\"/><path d=\"M17.41 7.96l-1.37-1.37c-.4-.4-.92-.59-1.43-.59-.52 0-1.04.2-1.43.59L10.3 9.45l-7.72 7.72c-.78.78-.78 2.05 0 2.83L4 21.41c.39.39.9.59 1.41.59.51 0 1.02-.2 1.41-.59l7.78-7.78 2.81-2.81c.8-.78.8-2.07 0-2.86zM5.41 20L4 18.59l7.72-7.72 1.47 1.35L5.41 20z\"/>\n",
              "  </svg>\n",
              "      </button>\n",
              "      \n",
              "  <style>\n",
              "    .colab-df-container {\n",
              "      display:flex;\n",
              "      flex-wrap:wrap;\n",
              "      gap: 12px;\n",
              "    }\n",
              "\n",
              "    .colab-df-convert {\n",
              "      background-color: #E8F0FE;\n",
              "      border: none;\n",
              "      border-radius: 50%;\n",
              "      cursor: pointer;\n",
              "      display: none;\n",
              "      fill: #1967D2;\n",
              "      height: 32px;\n",
              "      padding: 0 0 0 0;\n",
              "      width: 32px;\n",
              "    }\n",
              "\n",
              "    .colab-df-convert:hover {\n",
              "      background-color: #E2EBFA;\n",
              "      box-shadow: 0px 1px 2px rgba(60, 64, 67, 0.3), 0px 1px 3px 1px rgba(60, 64, 67, 0.15);\n",
              "      fill: #174EA6;\n",
              "    }\n",
              "\n",
              "    [theme=dark] .colab-df-convert {\n",
              "      background-color: #3B4455;\n",
              "      fill: #D2E3FC;\n",
              "    }\n",
              "\n",
              "    [theme=dark] .colab-df-convert:hover {\n",
              "      background-color: #434B5C;\n",
              "      box-shadow: 0px 1px 3px 1px rgba(0, 0, 0, 0.15);\n",
              "      filter: drop-shadow(0px 1px 2px rgba(0, 0, 0, 0.3));\n",
              "      fill: #FFFFFF;\n",
              "    }\n",
              "  </style>\n",
              "\n",
              "      <script>\n",
              "        const buttonEl =\n",
              "          document.querySelector('#df-677b0152-9db7-4e0d-8539-545bb5385b21 button.colab-df-convert');\n",
              "        buttonEl.style.display =\n",
              "          google.colab.kernel.accessAllowed ? 'block' : 'none';\n",
              "\n",
              "        async function convertToInteractive(key) {\n",
              "          const element = document.querySelector('#df-677b0152-9db7-4e0d-8539-545bb5385b21');\n",
              "          const dataTable =\n",
              "            await google.colab.kernel.invokeFunction('convertToInteractive',\n",
              "                                                     [key], {});\n",
              "          if (!dataTable) return;\n",
              "\n",
              "          const docLinkHtml = 'Like what you see? Visit the ' +\n",
              "            '<a target=\"_blank\" href=https://colab.research.google.com/notebooks/data_table.ipynb>data table notebook</a>'\n",
              "            + ' to learn more about interactive tables.';\n",
              "          element.innerHTML = '';\n",
              "          dataTable['output_type'] = 'display_data';\n",
              "          await google.colab.output.renderOutput(dataTable, element);\n",
              "          const docLink = document.createElement('div');\n",
              "          docLink.innerHTML = docLinkHtml;\n",
              "          element.appendChild(docLink);\n",
              "        }\n",
              "      </script>\n",
              "    </div>\n",
              "  </div>\n",
              "  "
            ]
          },
          "metadata": {},
          "execution_count": 2
        }
      ]
    },
    {
      "cell_type": "markdown",
      "source": [
        "## Sort series from column"
      ],
      "metadata": {
        "id": "J9bbwFy84A9J"
      }
    },
    {
      "cell_type": "markdown",
      "metadata": {
        "id": "xvj7pTFz3bpP"
      },
      "source": [
        "We can now perform various operations on this dataset. For instance, we can extract only the `'word'` column. Taking a single column results in *series*, which is a one-dimensional data structure with axis labels. "
      ]
    },
    {
      "cell_type": "code",
      "metadata": {
        "id": "Cn0r0PLa53pS",
        "outputId": "a2abc709-b2b5-49bb-c5e0-2225f11302fe",
        "colab": {
          "base_uri": "https://localhost:8080/"
        }
      },
      "source": [
        "words = occurrences['word']\n",
        "words"
      ],
      "execution_count": 3,
      "outputs": [
        {
          "output_type": "execute_result",
          "data": {
            "text/plain": [
              "0                virus\n",
              "1              viruset\n",
              "2        virusfamilien\n",
              "3             familien\n",
              "4       virusutbruddet\n",
              "             ...      \n",
              "3007       konfliktene\n",
              "3008        konflikter\n",
              "3009      litteraturen\n",
              "3010            plater\n",
              "3011         svineriet\n",
              "Name: word, Length: 3012, dtype: object"
            ]
          },
          "metadata": {},
          "execution_count": 3
        }
      ]
    },
    {
      "cell_type": "code",
      "source": [
        "type(words)"
      ],
      "metadata": {
        "id": "TasnFbrS4sIf",
        "outputId": "202c1795-e2ce-47ae-96e6-057e2a051756",
        "colab": {
          "base_uri": "https://localhost:8080/"
        }
      },
      "execution_count": 4,
      "outputs": [
        {
          "output_type": "execute_result",
          "data": {
            "text/plain": [
              "pandas.core.series.Series"
            ]
          },
          "metadata": {},
          "execution_count": 4
        }
      ]
    },
    {
      "cell_type": "markdown",
      "source": [
        "The series can be sorted if the values are of the same type. If the values are strings, sorting will be alphabetic. If they are numbers, sorting will be numeric. If the values are a combination of types, sorting does not make sense and may therefore not work."
      ],
      "metadata": {
        "id": "De20m7ziQ3T4"
      }
    },
    {
      "cell_type": "code",
      "source": [
        "words_sorted = words.sort_values()\n",
        "words_sorted"
      ],
      "metadata": {
        "id": "Q6AEV2jwQ2Kk",
        "outputId": "cf9fac3e-698e-4902-901f-0d636df8b036",
        "colab": {
          "base_uri": "https://localhost:8080/"
        }
      },
      "execution_count": 5,
      "outputs": [
        {
          "output_type": "execute_result",
          "data": {
            "text/plain": [
              "608       17.mai\n",
              "1718          19\n",
              "1719          20\n",
              "1256      adferd\n",
              "1943    advarsel\n",
              "          ...   \n",
              "2892         økt\n",
              "1996          øl\n",
              "503         ølet\n",
              "2737     ølmemer\n",
              "416       øvelse\n",
              "Name: word, Length: 3012, dtype: object"
            ]
          },
          "metadata": {},
          "execution_count": 5
        }
      ]
    },
    {
      "cell_type": "markdown",
      "metadata": {
        "id": "jfC4FwmcAVzo"
      },
      "source": [
        "The series can also be sorted by other criteria, such as the length of the values, if they are strings, for instance. In order to do this, we use a *lambda function* which specifies the sorting criterion. This lambda function coerces each value `x` to a string by `.str` and then uses `.len` to take the string’s length."
      ]
    },
    {
      "cell_type": "code",
      "metadata": {
        "id": "SfA8J7q__2U3",
        "outputId": "109e561e-a14e-4c1b-c421-a1489fe22e02",
        "colab": {
          "base_uri": "https://localhost:8080/"
        }
      },
      "source": [
        "words_sorted = words.sort_values(key=lambda x: x.str.len())\n",
        "words_sorted"
      ],
      "execution_count": 6,
      "outputs": [
        {
          "output_type": "execute_result",
          "data": {
            "text/plain": [
              "1996                                 øl\n",
              "1012                                 tv\n",
              "1793                                 de\n",
              "2646                                 em\n",
              "1718                                 19\n",
              "                     ...               \n",
              "2570             vaksinegjennombruddene\n",
              "2569             vaksinasjonsprogrammet\n",
              "1957            fastsydenskamklimaangst\n",
              "1832           kriseninvesteringsbanken\n",
              "2209    legevakt/luftveismottak/telefon\n",
              "Name: word, Length: 3012, dtype: object"
            ]
          },
          "metadata": {},
          "execution_count": 6
        }
      ]
    },
    {
      "cell_type": "markdown",
      "metadata": {
        "id": "EWny2gShA0UU"
      },
      "source": [
        "Note that each line still has its original index label. Suppose we want to take the longest word, which is at the top. The label `[0]` still refers to the original first row, but if we want to take the first row in the new ordering, we have to use `.iloc[0]` instead."
      ]
    },
    {
      "cell_type": "code",
      "metadata": {
        "id": "6pU0L5I4Auwh",
        "outputId": "784f806f-7304-4398-a257-4921d12d5cdc",
        "colab": {
          "base_uri": "https://localhost:8080/"
        }
      },
      "source": [
        "print(words_sorted[0])\n",
        "print(words_sorted.loc[0])\n",
        "print(words_sorted.iloc[0])"
      ],
      "execution_count": 7,
      "outputs": [
        {
          "output_type": "stream",
          "name": "stdout",
          "text": [
            "virus\n",
            "virus\n",
            "øl\n"
          ]
        }
      ]
    },
    {
      "cell_type": "markdown",
      "metadata": {
        "id": "STk0s0HkCGeb"
      },
      "source": [
        "### Exercise\n",
        "\n",
        "*   How can you obtain the last word in the sorted series? Try.\n",
        "\n",
        "---"
      ]
    },
    {
      "cell_type": "markdown",
      "source": [
        "## Match values"
      ],
      "metadata": {
        "id": "sS74KjOM4FqO"
      }
    },
    {
      "cell_type": "markdown",
      "metadata": {
        "id": "fiIk91e96Pvf"
      },
      "source": [
        "Suppose we want to know which proportion of new words contain *virus*. We select only rows which match a string (or regular expression)."
      ]
    },
    {
      "cell_type": "code",
      "metadata": {
        "id": "mMYB-KjI6OLS",
        "outputId": "c27b4ec5-1ea7-4b47-dc3e-6056e0d42ad3",
        "colab": {
          "base_uri": "https://localhost:8080/"
        }
      },
      "source": [
        "virus_words = words[words.str.match('virus')] # regex match\n",
        "print(virus_words)\n",
        "print(len(virus_words)/len(words))"
      ],
      "execution_count": 8,
      "outputs": [
        {
          "output_type": "stream",
          "name": "stdout",
          "text": [
            "0                  virus\n",
            "1                viruset\n",
            "2          virusfamilien\n",
            "4         virusutbruddet\n",
            "5          virusvaksiner\n",
            "              ...       \n",
            "2876           viruspigg\n",
            "2918             viruste\n",
            "2947    virusprotokoller\n",
            "2974         virusplager\n",
            "3003     virusmutasjoner\n",
            "Name: word, Length: 168, dtype: object\n",
            "0.055776892430278883\n"
          ]
        }
      ]
    },
    {
      "cell_type": "markdown",
      "metadata": {
        "id": "Plr35pQs7W3x"
      },
      "source": [
        "We can limit the precision of the proportion in terms of the number of decimals that are printed. There are several ways of doing that. Here we use a *formatted string literal* (also called *f-string*)."
      ]
    },
    {
      "cell_type": "code",
      "metadata": {
        "id": "hjNjs28h7hF9",
        "outputId": "88b80486-3514-44c7-9609-ed3d81f962e0",
        "colab": {
          "base_uri": "https://localhost:8080/"
        }
      },
      "source": [
        "print(f'{len(virus_words)/len(words)*100:.2f} percent')"
      ],
      "execution_count": 9,
      "outputs": [
        {
          "output_type": "stream",
          "name": "stdout",
          "text": [
            "5.58 percent\n"
          ]
        }
      ]
    },
    {
      "cell_type": "markdown",
      "metadata": {
        "id": "tsfTCHvA8NQ4"
      },
      "source": [
        "### Exercise\n",
        "\n",
        "*   Select only words containing virus followed by at least five arbitrary characters. How many are there?\n",
        "\n",
        "---"
      ]
    },
    {
      "cell_type": "markdown",
      "source": [
        "## Value counts"
      ],
      "metadata": {
        "id": "xVUGNl734UgD"
      }
    },
    {
      "cell_type": "markdown",
      "metadata": {
        "id": "E1BVTOfj9Hlx"
      },
      "source": [
        "In which newspapers were new words first observed? To get an overview, we can count the number of times each newspaper source occurs in the dataset. Pandas has an easy way of counting values. This results in a frequency list which has the form of a series with the newspapers as indices."
      ]
    },
    {
      "cell_type": "code",
      "source": [
        "source_counts = occurrences['source'].value_counts()\n",
        "source_counts"
      ],
      "metadata": {
        "id": "Sa1u37nKfj4U",
        "outputId": "c6cdd43a-70c5-4ca5-d3f8-69d872abe584",
        "colab": {
          "base_uri": "https://localhost:8080/"
        }
      },
      "execution_count": 10,
      "outputs": [
        {
          "output_type": "execute_result",
          "data": {
            "text/plain": [
              "VG    696\n",
              "DB    518\n",
              "AA    439\n",
              "DA    371\n",
              "AP    271\n",
              "SA    239\n",
              "DN    176\n",
              "BT    158\n",
              "NL    111\n",
              "FV     33\n",
              "Name: source, dtype: int64"
            ]
          },
          "metadata": {},
          "execution_count": 10
        }
      ]
    },
    {
      "cell_type": "markdown",
      "source": [
        "Plot these counts. We could import `matplotlib.pyplot`, but Pandas has an easier `plot` method."
      ],
      "metadata": {
        "id": "QbULzzqeeqEC"
      }
    },
    {
      "cell_type": "code",
      "source": [
        "source_counts.plot(kind='bar', title=\"Corona compound counts per newspaper\")"
      ],
      "metadata": {
        "id": "Yxvu2GnfhC3n",
        "outputId": "98aa1036-e5cd-4dde-d17f-e6079f805de6",
        "colab": {
          "base_uri": "https://localhost:8080/",
          "height": 304
        }
      },
      "execution_count": 11,
      "outputs": [
        {
          "output_type": "execute_result",
          "data": {
            "text/plain": [
              "<Axes: title={'center': 'Corona compound counts per newspaper'}>"
            ]
          },
          "metadata": {},
          "execution_count": 11
        },
        {
          "output_type": "display_data",
          "data": {
            "text/plain": [
              "<Figure size 432x288 with 1 Axes>"
            ],
            "image/png": "[encoded data removed]"
          },
          "metadata": {
            "needs_background": "light"
          }
        }
      ]
    },
    {
      "cell_type": "markdown",
      "metadata": {
        "id": "oKR_-HrV95OI"
      },
      "source": [
        "### Exercise\n",
        "\n",
        "*  Sort the value counts of the sources in *ascending* order. Check the [documentation for `.value_counts`](https://pandas.pydata.org/pandas-docs/stable/reference/api/pandas.Series.value_counts.html). Then plot again."
      ]
    },
    {
      "cell_type": "markdown",
      "source": [
        "# **Getting New Words**"
      ],
      "metadata": {
        "id": "EfyEAxU2g_-w"
      }
    },
    {
      "cell_type": "code",
      "source": [
        "# grouping all the words by date\n",
        "words_group=occurrences.groupby('date')['word'].apply(' '.join).reset_index(name='Words by date')"
      ],
      "metadata": {
        "id": "kKqi2dzGSeBu"
      },
      "execution_count": 12,
      "outputs": []
    },
    {
      "cell_type": "code",
      "source": [
        "import numpy as np   #package for handling arrrays and fast mathematical operations"
      ],
      "metadata": {
        "id": "2GcxFUhOaLCb"
      },
      "execution_count": 13,
      "outputs": []
    },
    {
      "cell_type": "code",
      "source": [
        "def get_new_words(words):\n",
        "  words=words.split()    #splitting gropued words based on space\n",
        "  new_words=np.unique(words)   #finding new words\n",
        "  return len(new_words)        #finding new lenght of new words\n"
      ],
      "metadata": {
        "id": "Wpcm2PNmaBtg"
      },
      "execution_count": 14,
      "outputs": []
    },
    {
      "cell_type": "code",
      "source": [
        "words_group['new words count']=words_group['Words by date'].apply(lambda x:get_new_words(x))"
      ],
      "metadata": {
        "id": "z7K_lJ_leuU-"
      },
      "execution_count": 15,
      "outputs": []
    },
    {
      "cell_type": "code",
      "source": [
        "#sorting the words group based on their counts in descending order\n",
        "data=words_group.sort_values(by=['new words count'],ascending=False)[0:10]  #selecting the top 10 data records"
      ],
      "metadata": {
        "id": "VggdIbshVxX6"
      },
      "execution_count": 19,
      "outputs": []
    },
    {
      "cell_type": "code",
      "source": [
        "data"
      ],
      "metadata": {
        "colab": {
          "base_uri": "https://localhost:8080/",
          "height": 363
        },
        "id": "8WRKGPXw3J2T",
        "outputId": "de990a92-2945-428d-dfe1-3e0b0a599964"
      },
      "execution_count": 20,
      "outputs": [
        {
          "output_type": "execute_result",
          "data": {
            "text/plain": [
              "        date                                      Words by date  \\\n",
              "48  20/03/18  analyse ansvarlig arbeid baren blinde bot buds...   \n",
              "50  20/03/20  17.mai bestemmelser briefing dagene dans detek...   \n",
              "54  20/03/24  avdelingen avdelinger belastede brev diskusjon...   \n",
              "42  20/03/12  anslag arbeidet bakrusen bekymringen forbehold...   \n",
              "43  20/03/13  asyl avlysningene bidrag boom diagnostikk fest...   \n",
              "55  20/03/25  arbeidsledighet avdeling beskjed beskyttes bøl...   \n",
              "56  20/03/26  aggresjonen avstanden blogger bryllup bussen d...   \n",
              "40  20/03/10  analyser avbestillinger avlysninger delen dugn...   \n",
              "62  20/04/01  alvoret bøter challenge diktatoren fasen forbu...   \n",
              "46  20/03/16  avgjørelsene bedragere bekjempelsen dugnaden d...   \n",
              "\n",
              "    new words count  \n",
              "48               52  \n",
              "50               51  \n",
              "54               45  \n",
              "42               44  \n",
              "43               44  \n",
              "55               42  \n",
              "56               37  \n",
              "40               37  \n",
              "62               36  \n",
              "46               36  "
            ],
            "text/html": [
              "\n",
              "  <div id=\"df-4e1ed9b3-68b8-432c-8c68-d7c5d8872f6e\">\n",
              "    <div class=\"colab-df-container\">\n",
              "      <div>\n",
              "<style scoped>\n",
              "    .dataframe tbody tr th:only-of-type {\n",
              "        vertical-align: middle;\n",
              "    }\n",
              "\n",
              "    .dataframe tbody tr th {\n",
              "        vertical-align: top;\n",
              "    }\n",
              "\n",
              "    .dataframe thead th {\n",
              "        text-align: right;\n",
              "    }\n",
              "</style>\n",
              "<table border=\"1\" class=\"dataframe\">\n",
              "  <thead>\n",
              "    <tr style=\"text-align: right;\">\n",
              "      <th></th>\n",
              "      <th>date</th>\n",
              "      <th>Words by date</th>\n",
              "      <th>new words count</th>\n",
              "    </tr>\n",
              "  </thead>\n",
              "  <tbody>\n",
              "    <tr>\n",
              "      <th>48</th>\n",
              "      <td>20/03/18</td>\n",
              "      <td>analyse ansvarlig arbeid baren blinde bot buds...</td>\n",
              "      <td>52</td>\n",
              "    </tr>\n",
              "    <tr>\n",
              "      <th>50</th>\n",
              "      <td>20/03/20</td>\n",
              "      <td>17.mai bestemmelser briefing dagene dans detek...</td>\n",
              "      <td>51</td>\n",
              "    </tr>\n",
              "    <tr>\n",
              "      <th>54</th>\n",
              "      <td>20/03/24</td>\n",
              "      <td>avdelingen avdelinger belastede brev diskusjon...</td>\n",
              "      <td>45</td>\n",
              "    </tr>\n",
              "    <tr>\n",
              "      <th>42</th>\n",
              "      <td>20/03/12</td>\n",
              "      <td>anslag arbeidet bakrusen bekymringen forbehold...</td>\n",
              "      <td>44</td>\n",
              "    </tr>\n",
              "    <tr>\n",
              "      <th>43</th>\n",
              "      <td>20/03/13</td>\n",
              "      <td>asyl avlysningene bidrag boom diagnostikk fest...</td>\n",
              "      <td>44</td>\n",
              "    </tr>\n",
              "    <tr>\n",
              "      <th>55</th>\n",
              "      <td>20/03/25</td>\n",
              "      <td>arbeidsledighet avdeling beskjed beskyttes bøl...</td>\n",
              "      <td>42</td>\n",
              "    </tr>\n",
              "    <tr>\n",
              "      <th>56</th>\n",
              "      <td>20/03/26</td>\n",
              "      <td>aggresjonen avstanden blogger bryllup bussen d...</td>\n",
              "      <td>37</td>\n",
              "    </tr>\n",
              "    <tr>\n",
              "      <th>40</th>\n",
              "      <td>20/03/10</td>\n",
              "      <td>analyser avbestillinger avlysninger delen dugn...</td>\n",
              "      <td>37</td>\n",
              "    </tr>\n",
              "    <tr>\n",
              "      <th>62</th>\n",
              "      <td>20/04/01</td>\n",
              "      <td>alvoret bøter challenge diktatoren fasen forbu...</td>\n",
              "      <td>36</td>\n",
              "    </tr>\n",
              "    <tr>\n",
              "      <th>46</th>\n",
              "      <td>20/03/16</td>\n",
              "      <td>avgjørelsene bedragere bekjempelsen dugnaden d...</td>\n",
              "      <td>36</td>\n",
              "    </tr>\n",
              "  </tbody>\n",
              "</table>\n",
              "</div>\n",
              "      <button class=\"colab-df-convert\" onclick=\"convertToInteractive('df-4e1ed9b3-68b8-432c-8c68-d7c5d8872f6e')\"\n",
              "              title=\"Convert this dataframe to an interactive table.\"\n",
              "              style=\"display:none;\">\n",
              "        \n",
              "  <svg xmlns=\"http://www.w3.org/2000/svg\" height=\"24px\"viewBox=\"0 0 24 24\"\n",
              "       width=\"24px\">\n",
              "    <path d=\"M0 0h24v24H0V0z\" fill=\"none\"/>\n",
              "    <path d=\"M18.56 5.44l.94 2.06.94-2.06 2.06-.94-2.06-.94-.94-2.06-.94 2.06-2.06.94zm-11 1L8.5 8.5l.94-2.06 2.06-.94-2.06-.94L8.5 2.5l-.94 2.06-2.06.94zm10 10l.94 2.06.94-2.06 2.06-.94-2.06-.94-.94-2.06-.94 2.06-2.06.94z\"/><path d=\"M17.41 7.96l-1.37-1.37c-.4-.4-.92-.59-1.43-.59-.52 0-1.04.2-1.43.59L10.3 9.45l-7.72 7.72c-.78.78-.78 2.05 0 2.83L4 21.41c.39.39.9.59 1.41.59.51 0 1.02-.2 1.41-.59l7.78-7.78 2.81-2.81c.8-.78.8-2.07 0-2.86zM5.41 20L4 18.59l7.72-7.72 1.47 1.35L5.41 20z\"/>\n",
              "  </svg>\n",
              "      </button>\n",
              "      \n",
              "  <style>\n",
              "    .colab-df-container {\n",
              "      display:flex;\n",
              "      flex-wrap:wrap;\n",
              "      gap: 12px;\n",
              "    }\n",
              "\n",
              "    .colab-df-convert {\n",
              "      background-color: #E8F0FE;\n",
              "      border: none;\n",
              "      border-radius: 50%;\n",
              "      cursor: pointer;\n",
              "      display: none;\n",
              "      fill: #1967D2;\n",
              "      height: 32px;\n",
              "      padding: 0 0 0 0;\n",
              "      width: 32px;\n",
              "    }\n",
              "\n",
              "    .colab-df-convert:hover {\n",
              "      background-color: #E2EBFA;\n",
              "      box-shadow: 0px 1px 2px rgba(60, 64, 67, 0.3), 0px 1px 3px 1px rgba(60, 64, 67, 0.15);\n",
              "      fill: #174EA6;\n",
              "    }\n",
              "\n",
              "    [theme=dark] .colab-df-convert {\n",
              "      background-color: #3B4455;\n",
              "      fill: #D2E3FC;\n",
              "    }\n",
              "\n",
              "    [theme=dark] .colab-df-convert:hover {\n",
              "      background-color: #434B5C;\n",
              "      box-shadow: 0px 1px 3px 1px rgba(0, 0, 0, 0.15);\n",
              "      filter: drop-shadow(0px 1px 2px rgba(0, 0, 0, 0.3));\n",
              "      fill: #FFFFFF;\n",
              "    }\n",
              "  </style>\n",
              "\n",
              "      <script>\n",
              "        const buttonEl =\n",
              "          document.querySelector('#df-4e1ed9b3-68b8-432c-8c68-d7c5d8872f6e button.colab-df-convert');\n",
              "        buttonEl.style.display =\n",
              "          google.colab.kernel.accessAllowed ? 'block' : 'none';\n",
              "\n",
              "        async function convertToInteractive(key) {\n",
              "          const element = document.querySelector('#df-4e1ed9b3-68b8-432c-8c68-d7c5d8872f6e');\n",
              "          const dataTable =\n",
              "            await google.colab.kernel.invokeFunction('convertToInteractive',\n",
              "                                                     [key], {});\n",
              "          if (!dataTable) return;\n",
              "\n",
              "          const docLinkHtml = 'Like what you see? Visit the ' +\n",
              "            '<a target=\"_blank\" href=https://colab.research.google.com/notebooks/data_table.ipynb>data table notebook</a>'\n",
              "            + ' to learn more about interactive tables.';\n",
              "          element.innerHTML = '';\n",
              "          dataTable['output_type'] = 'display_data';\n",
              "          await google.colab.output.renderOutput(dataTable, element);\n",
              "          const docLink = document.createElement('div');\n",
              "          docLink.innerHTML = docLinkHtml;\n",
              "          element.appendChild(docLink);\n",
              "        }\n",
              "      </script>\n",
              "    </div>\n",
              "  </div>\n",
              "  "
            ]
          },
          "metadata": {},
          "execution_count": 20
        }
      ]
    },
    {
      "cell_type": "code",
      "source": [
        "import matplotlib.pyplot as plt"
      ],
      "metadata": {
        "id": "btHUZrfyZ-iS"
      },
      "execution_count": 18,
      "outputs": []
    },
    {
      "cell_type": "code",
      "source": [
        "plt.figure(figsize=(15,5))\n",
        "plt.bar(data.date,data['new words count'])\n",
        "plt.title('New Words Count by Date')"
      ],
      "metadata": {
        "colab": {
          "base_uri": "https://localhost:8080/",
          "height": 353
        },
        "id": "mGuKXhdy295F",
        "outputId": "da78eda2-a2ae-4a18-d8ab-187beddddb71"
      },
      "execution_count": 25,
      "outputs": [
        {
          "output_type": "execute_result",
          "data": {
            "text/plain": [
              "Text(0.5, 1.0, 'New Words Count by Date')"
            ]
          },
          "metadata": {},
          "execution_count": 25
        },
        {
          "output_type": "display_data",
          "data": {
            "text/plain": [
              "<Figure size 1080x360 with 1 Axes>"
            ],
            "image/png": "[encoded data removed]"
          },
          "metadata": {
            "needs_background": "light"
          }
        }
      ]
    },
    {
      "cell_type": "code",
      "source": [],
      "metadata": {
        "id": "YRDkztkP3VGT"
      },
      "execution_count": null,
      "outputs": []
    }
  ]
}