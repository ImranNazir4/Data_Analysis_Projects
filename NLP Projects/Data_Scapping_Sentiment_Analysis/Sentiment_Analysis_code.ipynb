{
 "cells": [
  {
   "cell_type": "markdown",
   "id": "d995b229",
   "metadata": {},
   "source": [
    "# **Importing Necessary Packages**"
   ]
  },
  {
   "cell_type": "code",
   "execution_count": 36,
   "id": "6667ea45",
   "metadata": {},
   "outputs": [],
   "source": [
    "import pandas as pd           #package for data analysis\n",
    "import seaborn as sns         #package for data visualization\n",
    "import neattext as nt         #package for text cleaning\n",
    "from textblob import TextBlob #package for sentiment analysis"
   ]
  },
  {
   "cell_type": "markdown",
   "id": "235676e0",
   "metadata": {},
   "source": [
    "# **Reading the Data**"
   ]
  },
  {
   "cell_type": "code",
   "execution_count": 49,
   "id": "03ed09ed",
   "metadata": {},
   "outputs": [],
   "source": [
    "data=pd.read_excel('scrapped_data.xlsx')   #data reading wit help of pandas read_csv method"
   ]
  },
  {
   "cell_type": "markdown",
   "id": "3a77b58c",
   "metadata": {},
   "source": [
    "# **View of Data**"
   ]
  },
  {
   "cell_type": "code",
   "execution_count": 50,
   "id": "6b932a7e",
   "metadata": {},
   "outputs": [
    {
     "data": {
      "text/html": [
       "<div>\n",
       "<style scoped>\n",
       "    .dataframe tbody tr th:only-of-type {\n",
       "        vertical-align: middle;\n",
       "    }\n",
       "\n",
       "    .dataframe tbody tr th {\n",
       "        vertical-align: top;\n",
       "    }\n",
       "\n",
       "    .dataframe thead th {\n",
       "        text-align: right;\n",
       "    }\n",
       "</style>\n",
       "<table border=\"1\" class=\"dataframe\">\n",
       "  <thead>\n",
       "    <tr style=\"text-align: right;\">\n",
       "      <th></th>\n",
       "      <th>comment</th>\n",
       "      <th>date</th>\n",
       "      <th>profile url</th>\n",
       "      <th>usersname</th>\n",
       "    </tr>\n",
       "  </thead>\n",
       "  <tbody>\n",
       "    <tr>\n",
       "      <th>0</th>\n",
       "      <td>I like newsletters that tell me about new rele...</td>\n",
       "      <td>3 mo. ago</td>\n",
       "      <td>https://www.reddit.com/user/facebook57/</td>\n",
       "      <td>facebook57</td>\n",
       "    </tr>\n",
       "    <tr>\n",
       "      <th>1</th>\n",
       "      <td>Lol. I promise I’m just trying to find great n...</td>\n",
       "      <td>3 mo. ago</td>\n",
       "      <td>https://www.reddit.com/user/greyhound1296/</td>\n",
       "      <td>greyhound1296</td>\n",
       "    </tr>\n",
       "    <tr>\n",
       "      <th>2</th>\n",
       "      <td>Go on bandcamp and follow your favorite artist...</td>\n",
       "      <td>3 mo. ago</td>\n",
       "      <td>https://www.reddit.com/user/AnKoP/</td>\n",
       "      <td>AnKoP</td>\n",
       "    </tr>\n",
       "    <tr>\n",
       "      <th>3</th>\n",
       "      <td>First Floor is the best it gets, IMO.</td>\n",
       "      <td>3 mo. ago</td>\n",
       "      <td>https://www.reddit.com/user/Nonomomomo2/</td>\n",
       "      <td>Nonomomomo2</td>\n",
       "    </tr>\n",
       "    <tr>\n",
       "      <th>4</th>\n",
       "      <td>Nice! And what do they usually send as a conte...</td>\n",
       "      <td>3 mo. ago</td>\n",
       "      <td>https://www.reddit.com/user/greyhound1296/</td>\n",
       "      <td>greyhound1296</td>\n",
       "    </tr>\n",
       "  </tbody>\n",
       "</table>\n",
       "</div>"
      ],
      "text/plain": [
       "                                             comment       date  \\\n",
       "0  I like newsletters that tell me about new rele...  3 mo. ago   \n",
       "1  Lol. I promise I’m just trying to find great n...  3 mo. ago   \n",
       "2  Go on bandcamp and follow your favorite artist...  3 mo. ago   \n",
       "3              First Floor is the best it gets, IMO.  3 mo. ago   \n",
       "4  Nice! And what do they usually send as a conte...  3 mo. ago   \n",
       "\n",
       "                                  profile url      usersname  \n",
       "0     https://www.reddit.com/user/facebook57/     facebook57  \n",
       "1  https://www.reddit.com/user/greyhound1296/  greyhound1296  \n",
       "2          https://www.reddit.com/user/AnKoP/          AnKoP  \n",
       "3    https://www.reddit.com/user/Nonomomomo2/    Nonomomomo2  \n",
       "4  https://www.reddit.com/user/greyhound1296/  greyhound1296  "
      ]
     },
     "execution_count": 50,
     "metadata": {},
     "output_type": "execute_result"
    }
   ],
   "source": [
    "data.head() #top 5 records of our data"
   ]
  },
  {
   "cell_type": "markdown",
   "id": "eb3972b4",
   "metadata": {},
   "source": [
    "# **Data Cleaning**"
   ]
  },
  {
   "cell_type": "code",
   "execution_count": 51,
   "id": "bad61355",
   "metadata": {},
   "outputs": [],
   "source": [
    "def text_cleaning(text):\n",
    "    text=nt.remove_special_characters(text)  #removing special characters i.e #,@,!....\n",
    "    text=nt.remove_emojis(text)               #remove emojis\n",
    "    text=nt.fix_contractions(text)  #i.e I'm to I am\n",
    "    text=text.lower()     #lower casing the text\n",
    "    return text"
   ]
  },
  {
   "cell_type": "code",
   "execution_count": 52,
   "id": "a13e7182",
   "metadata": {},
   "outputs": [],
   "source": [
    "data['comment']=data['comment'].apply(lambda x:text_cleaning(str(x))) #applying data cleanig"
   ]
  },
  {
   "cell_type": "code",
   "execution_count": 53,
   "id": "9e5f9124",
   "metadata": {},
   "outputs": [],
   "source": [
    " #Create a function to get the polarity\n",
    " def getPolarity(text):\n",
    "   return TextBlob(text).sentiment.polarity #calculating polarity of the sentence"
   ]
  },
  {
   "cell_type": "code",
   "execution_count": 54,
   "id": "d77abb6f",
   "metadata": {},
   "outputs": [],
   "source": [
    "data['polarity'] = data['comment'].apply(lambda x:getPolarity(x)) #getting polarity of comments"
   ]
  },
  {
   "cell_type": "markdown",
   "id": "c7a0ed75",
   "metadata": {},
   "source": [
    " what is sentence polarity: Sentence polarity is the amount of positive or negative sentiment in a sentence. Its value ranges between [-1,1]. As the polarity value approaches 1, a sentence considered more positive. similar sentence is considered negative if the polarity score tends towards -1 and considered neutral if the polarity score is 0."
   ]
  },
  {
   "cell_type": "code",
   "execution_count": 55,
   "id": "df5e7fe8",
   "metadata": {},
   "outputs": [],
   "source": [
    " def getsentiment(polarity):\n",
    "  if polarity < 0:     #sentiment is negative if polarity less than 0\n",
    "    return 'Negative'\n",
    "  elif polarity == 0:  #sentiment is neutal if polarity is equal to 0\n",
    "    return 'Neutral'\n",
    "  else:\n",
    "    return 'Positive'  #sentiment is negative if polarity greater than 0"
   ]
  },
  {
   "cell_type": "code",
   "execution_count": 56,
   "id": "34614c48",
   "metadata": {},
   "outputs": [],
   "source": [
    "data['sentiment'] = data['polarity'].apply(lambda x:getsentiment(x))  #finding sentiment against sentence polarity"
   ]
  },
  {
   "cell_type": "markdown",
   "id": "f287ef57",
   "metadata": {},
   "source": [
    "# **Data Visualization**"
   ]
  },
  {
   "cell_type": "code",
   "execution_count": 57,
   "id": "1110a564",
   "metadata": {},
   "outputs": [
    {
     "name": "stderr",
     "output_type": "stream",
     "text": [
      "c:\\users\\zee tech\\appdata\\local\\programs\\python\\python39\\lib\\site-packages\\seaborn\\_decorators.py:36: FutureWarning: Pass the following variable as a keyword arg: x. From version 0.12, the only valid positional argument will be `data`, and passing other arguments without an explicit keyword will result in an error or misinterpretation.\n",
      "  warnings.warn(\n"
     ]
    },
    {
     "data": {
      "text/plain": [
       "<AxesSubplot:xlabel='sentiment', ylabel='count'>"
      ]
     },
     "execution_count": 57,
     "metadata": {},
     "output_type": "execute_result"
    },
    {
     "data": {
      "image/png": "[encoded data removed]",
      "text/plain": [
       "<Figure size 432x288 with 1 Axes>"
      ]
     },
     "metadata": {
      "needs_background": "light"
     },
     "output_type": "display_data"
    }
   ],
   "source": [
    "sns.countplot(data['sentiment'])   #distribution of sentiments"
   ]
  },
  {
   "cell_type": "markdown",
   "id": "84d02246",
   "metadata": {},
   "source": [
    "# **Saving the Results**"
   ]
  },
  {
   "cell_type": "code",
   "execution_count": 48,
   "id": "1e2a330a",
   "metadata": {},
   "outputs": [],
   "source": [
    "data[['comment','sentiment','polarity']].to_excel('comments_sentiment_analysis_data_revised.xlsx')"
   ]
  },
  {
   "cell_type": "code",
   "execution_count": null,
   "id": "2f657819",
   "metadata": {},
   "outputs": [],
   "source": []
  }
 ],
 "metadata": {
  "kernelspec": {
   "display_name": "Python 3",
   "language": "python",
   "name": "python3"
  },
  "language_info": {
   "codemirror_mode": {
    "name": "ipython",
    "version": 3
   },
   "file_extension": ".py",
   "mimetype": "text/x-python",
   "name": "python",
   "nbconvert_exporter": "python",
   "pygments_lexer": "ipython3",
   "version": "3.9.5"
  }
 },
 "nbformat": 4,
 "nbformat_minor": 5
}
