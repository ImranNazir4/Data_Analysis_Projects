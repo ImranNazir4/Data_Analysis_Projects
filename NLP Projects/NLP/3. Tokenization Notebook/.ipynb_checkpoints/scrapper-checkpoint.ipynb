{
 "cells": [
  {
   "cell_type": "code",
   "execution_count": 9,
   "id": "eeeabb8d",
   "metadata": {},
   "outputs": [],
   "source": [
    "import pandas as pd\n",
    "import re"
   ]
  },
  {
   "cell_type": "code",
   "execution_count": 21,
   "id": "677e887e",
   "metadata": {
    "scrolled": true
   },
   "outputs": [
    {
     "name": "stdout",
     "output_type": "stream",
     "text": [
      "                                               tweets  label\n",
      "0   If it were not for Allah checking some people ...      1\n",
      "1   Pliz spread this to as far as you can The Mess...      1\n",
      "2   So when you meet those who disbelieve in battl...      1\n",
      "3   iraqi soldiers and Sahwaat militias killed in ...      1\n",
      "4    Madinah were attacked by the ISIS may Allah p...      0\n",
      "..                                                ...    ...\n",
      "95  ShaykhulIslam Ibn Taymiyyah said The scholars ...      1\n",
      "96   Im starting to buy into the idea that ISIS is...      0\n",
      "97  this is the fast time attacked in my motherlan...      0\n",
      "98    ALLAHU AKBAR Rafidah Scum sent directly to Hell      1\n",
      "99   and today People celebrate their liberator th...      1\n",
      "\n",
      "[100 rows x 2 columns]\n"
     ]
    },
    {
     "ename": "TypeError",
     "evalue": "unhashable type: 'list'",
     "output_type": "error",
     "traceback": [
      "\u001b[0;31m---------------------------------------------------------------------------\u001b[0m",
      "\u001b[0;31mTypeError\u001b[0m                                 Traceback (most recent call last)",
      "Cell \u001b[0;32mIn[21], line 10\u001b[0m\n\u001b[1;32m      7\u001b[0m     words \u001b[38;5;241m=\u001b[39m processed_text\u001b[38;5;241m.\u001b[39msplit()\n\u001b[1;32m      8\u001b[0m     words_list\u001b[38;5;241m.\u001b[39mappend(words)\n\u001b[0;32m---> 10\u001b[0m vocabulary \u001b[38;5;241m=\u001b[39m \u001b[38;5;28;43mset\u001b[39;49m\u001b[43m(\u001b[49m\u001b[43mwords_list\u001b[49m\u001b[43m)\u001b[49m\n\u001b[1;32m     11\u001b[0m \u001b[38;5;28mprint\u001b[39m(vocabulary)\n",
      "\u001b[0;31mTypeError\u001b[0m: unhashable type: 'list'"
     ]
    }
   ],
   "source": [
    "excel_file = 'Fold_1.xlsx'\n",
    "df = pd.read_excel(excel_file)\n",
    "text = ' '.join(df[col].astype(str) for col in df.columns)\n",
    "processed_text = re.sub(r'\\W+', ' ', text).lower()\n",
    "words = processed_text.split()\n",
    "vocabulary = set(words)\n"
   ]
  },
  {
   "cell_type": "code",
   "execution_count": null,
   "id": "c077bf9d",
   "metadata": {},
   "outputs": [],
   "source": []
  }
 ],
 "metadata": {
  "kernelspec": {
   "display_name": "Python 3 (ipykernel)",
   "language": "python",
   "name": "python3"
  },
  "language_info": {
   "codemirror_mode": {
    "name": "ipython",
    "version": 3
   },
   "file_extension": ".py",
   "mimetype": "text/x-python",
   "name": "python",
   "nbconvert_exporter": "python",
   "pygments_lexer": "ipython3",
   "version": "3.10.10"
  }
 },
 "nbformat": 4,
 "nbformat_minor": 5
}
