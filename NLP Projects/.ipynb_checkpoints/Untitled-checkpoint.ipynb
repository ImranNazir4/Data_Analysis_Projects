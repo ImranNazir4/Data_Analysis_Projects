{
 "cells": [
  {
   "cell_type": "markdown",
   "id": "e25467f4",
   "metadata": {},
   "source": [
    "# Importing Dependencies"
   ]
  },
  {
   "cell_type": "code",
   "execution_count": 7,
   "id": "9ac2e58f",
   "metadata": {},
   "outputs": [],
   "source": [
    "import pandas as pd\n",
    "import numpy as np\n",
    "import seaborn as sns\n",
    "import matplotlib.pyplot as plt\n",
    "import os\n",
    "import docx2txt"
   ]
  },
  {
   "cell_type": "code",
   "execution_count": 45,
   "id": "7aa32c00",
   "metadata": {},
   "outputs": [],
   "source": [
    "files=os.listdir('./Anonymous_CVs/')"
   ]
  },
  {
   "cell_type": "code",
   "execution_count": 6,
   "id": "a72b8d1b",
   "metadata": {},
   "outputs": [],
   "source": [
    "def read_bulk_docx(document,file_name):\n",
    "    resumes_data=dict()\n",
    "    document= docx2txt.process(document)\n",
    "    doc_text = str(document)\n",
    "    resumes_data[file_name]=document\n",
    "    df=pd.DataFrame(resumes_data.items(),columns=['Resume Name','Resume Text'])\n",
    "    return df"
   ]
  },
  {
   "cell_type": "code",
   "execution_count": 20,
   "id": "3e8bef24",
   "metadata": {},
   "outputs": [],
   "source": [
    "documents=[]"
   ]
  },
  {
   "cell_type": "code",
   "execution_count": 46,
   "id": "9d64a8c8",
   "metadata": {},
   "outputs": [
    {
     "name": "stdout",
     "output_type": "stream",
     "text": [
      "./Anonymous_CVs/CV1.docx\n",
      "./Anonymous_CVs/CV2.docx\n",
      "./Anonymous_CVs/CV3.docx\n",
      "./Anonymous_CVs/CV4.docx\n",
      "./Anonymous_CVs/CV5.docx\n",
      "./Anonymous_CVs/CV7.docx\n",
      "./Anonymous_CVs/CV8.docx\n",
      "./Anonymous_CVs/~$CV6.docx\n"
     ]
    }
   ],
   "source": [
    "for file in files:\n",
    "    print('./Anonymous_CVs/'+file)\n",
    "   # document= docx2txt.process('./Anonymous_CVs/CV1.docx')\n",
    "    #documents.append(document)"
   ]
  },
  {
   "cell_type": "code",
   "execution_count": 41,
   "id": "672fa80a",
   "metadata": {},
   "outputs": [],
   "source": [
    "df=pd.DataFrame([document],columns=['Documents'])"
   ]
  },
  {
   "cell_type": "code",
   "execution_count": 42,
   "id": "3ea95187",
   "metadata": {},
   "outputs": [
    {
     "data": {
      "text/html": [
       "<div>\n",
       "<style scoped>\n",
       "    .dataframe tbody tr th:only-of-type {\n",
       "        vertical-align: middle;\n",
       "    }\n",
       "\n",
       "    .dataframe tbody tr th {\n",
       "        vertical-align: top;\n",
       "    }\n",
       "\n",
       "    .dataframe thead th {\n",
       "        text-align: right;\n",
       "    }\n",
       "</style>\n",
       "<table border=\"1\" class=\"dataframe\">\n",
       "  <thead>\n",
       "    <tr style=\"text-align: right;\">\n",
       "      <th></th>\n",
       "      <th>Documents</th>\n",
       "    </tr>\n",
       "  </thead>\n",
       "  <tbody>\n",
       "    <tr>\n",
       "      <th>0</th>\n",
       "      <td>Donald Petrovich\\n\\nEmail: DonaldPetrovich@gma...</td>\n",
       "    </tr>\n",
       "  </tbody>\n",
       "</table>\n",
       "</div>"
      ],
      "text/plain": [
       "                                           Documents\n",
       "0  Donald Petrovich\\n\\nEmail: DonaldPetrovich@gma..."
      ]
     },
     "execution_count": 42,
     "metadata": {},
     "output_type": "execute_result"
    }
   ],
   "source": [
    "df"
   ]
  },
  {
   "cell_type": "code",
   "execution_count": 33,
   "id": "5a01e470",
   "metadata": {},
   "outputs": [
    {
     "name": "stdout",
     "output_type": "stream",
     "text": [
      "CV1.docx\n",
      "CV2.docx\n",
      "CV3.docx\n",
      "CV4.docx\n",
      "CV5.docx\n",
      "CV6.docx\n",
      "CV7.docx\n",
      "CV8.docx\n",
      "~$CV6.docx\n"
     ]
    }
   ],
   "source": [
    "for f in files:\n",
    "    print(f)"
   ]
  },
  {
   "cell_type": "code",
   "execution_count": null,
   "id": "810273d6",
   "metadata": {},
   "outputs": [],
   "source": []
  }
 ],
 "metadata": {
  "kernelspec": {
   "display_name": "Python 3",
   "language": "python",
   "name": "python3"
  },
  "language_info": {
   "codemirror_mode": {
    "name": "ipython",
    "version": 3
   },
   "file_extension": ".py",
   "mimetype": "text/x-python",
   "name": "python",
   "nbconvert_exporter": "python",
   "pygments_lexer": "ipython3",
   "version": "3.9.5"
  }
 },
 "nbformat": 4,
 "nbformat_minor": 5
}
