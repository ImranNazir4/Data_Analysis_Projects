{
 "cells": [
  {
   "cell_type": "code",
   "execution_count": 1,
   "id": "798d77b2",
   "metadata": {},
   "outputs": [],
   "source": [
    "import pandas as pd\n",
    "import numpy as np\n",
    "import seaborn as sns\n",
    "import matplotlib.pyplot as plt\n",
    "import neattext as nt\n",
    "from textblob import TextBlob    #package for sentiment analysis of short sentences"
   ]
  },
  {
   "cell_type": "markdown",
   "id": "a619f800",
   "metadata": {},
   "source": [
    "# **1 - Problem Definition**"
   ]
  },
  {
   "cell_type": "markdown",
   "id": "e757e29a",
   "metadata": {},
   "source": [
    "# **2 - Build Dataset**"
   ]
  },
  {
   "cell_type": "markdown",
   "id": "03d6f70a",
   "metadata": {},
   "source": [
    "### **Data Collection**"
   ]
  },
  {
   "cell_type": "markdown",
   "id": "37145bcd",
   "metadata": {},
   "source": [
    "1-Supervised Type of Data (Data with Target Variable)\n",
    "2-Unsupervised Type of Data (Data with no Target Variable)"
   ]
  },
  {
   "cell_type": "code",
   "execution_count": 2,
   "id": "6b790be8",
   "metadata": {},
   "outputs": [],
   "source": [
    "df0=pd.read_csv('nyt_topic_0.csv')\n",
    "df1=pd.read_csv('nyt_topic_1.csv')\n",
    "df2=pd.read_csv('nyt_topic_2.csv')"
   ]
  },
  {
   "cell_type": "code",
   "execution_count": 3,
   "id": "52ab43d2",
   "metadata": {},
   "outputs": [],
   "source": [
    "df3=pd.read_csv('twitter_topic_0.csv')\n",
    "df4=pd.read_csv('twitter_topic_1.csv')\n",
    "df5=pd.read_csv('twitter_topic_2.csv')\n",
    "df6=pd.read_csv('twitter_topic_3.csv')\n",
    "df7=pd.read_csv('twitter_topic_4.csv')"
   ]
  },
  {
   "cell_type": "code",
   "execution_count": 4,
   "id": "f5e6b6d2",
   "metadata": {},
   "outputs": [],
   "source": [
    "sop_df_prmry=pd.concat([df0,df1,df2],axis=0)\n",
    "sop_df_scndry=pd.concat([df3,df4,df5,df6,df7],axis=0)"
   ]
  },
  {
   "cell_type": "code",
   "execution_count": 5,
   "id": "f991d7b7",
   "metadata": {},
   "outputs": [],
   "source": [
    "df=sop_df_prmry.copy()"
   ]
  },
  {
   "cell_type": "markdown",
   "id": "5f6eb88b",
   "metadata": {},
   "source": [
    "### Problem Type"
   ]
  },
  {
   "cell_type": "markdown",
   "id": "64f345af",
   "metadata": {},
   "source": [
    "Target variable is categorical so it is a classifical problem"
   ]
  },
  {
   "cell_type": "markdown",
   "id": "9912b95a",
   "metadata": {},
   "source": [
    "### **Data Inspection**"
   ]
  },
  {
   "cell_type": "markdown",
   "id": "2d0df84e",
   "metadata": {},
   "source": [
    "1- Check inconsistency in the data\n",
    "2- Outliers\n",
    "3- Data Transformation\n",
    "4- Fill missing values"
   ]
  },
  {
   "cell_type": "markdown",
   "id": "bd6287a4",
   "metadata": {},
   "source": [
    "### Checking Percentage of Missing Values"
   ]
  },
  {
   "cell_type": "code",
   "execution_count": 6,
   "id": "a4fd52ec",
   "metadata": {},
   "outputs": [
    {
     "data": {
      "text/plain": [
       "text     0.000000\n",
       "label    0.158672\n",
       "dtype: float64"
      ]
     },
     "execution_count": 6,
     "metadata": {},
     "output_type": "execute_result"
    }
   ],
   "source": [
    "sop_df_prmry.isnull().sum()/sop_df_prmry.shape[0]"
   ]
  },
  {
   "cell_type": "code",
   "execution_count": 7,
   "id": "f59b56cb",
   "metadata": {},
   "outputs": [
    {
     "data": {
      "text/plain": [
       "text     0.000000\n",
       "label    0.073333\n",
       "dtype: float64"
      ]
     },
     "execution_count": 7,
     "metadata": {},
     "output_type": "execute_result"
    }
   ],
   "source": [
    "sop_df_scndry.isnull().sum()/sop_df_scndry.shape[0]"
   ]
  },
  {
   "cell_type": "markdown",
   "id": "2a7f930f",
   "metadata": {},
   "source": [
    "### Filling Missing Values "
   ]
  },
  {
   "cell_type": "code",
   "execution_count": 8,
   "id": "cddcf7c8",
   "metadata": {},
   "outputs": [],
   "source": [
    "sop_df_prmry['label'].fillna(sop_df_prmry['label'].value_counts().index[0],inplace=True)"
   ]
  },
  {
   "cell_type": "code",
   "execution_count": 9,
   "id": "b399802d",
   "metadata": {},
   "outputs": [],
   "source": [
    "sop_df_scndry['label'].fillna(sop_df_scndry['label'].value_counts().index[0],inplace=True)"
   ]
  },
  {
   "cell_type": "markdown",
   "id": "c8c6e293",
   "metadata": {},
   "source": [
    "### Data After Imputation of Missing Values"
   ]
  },
  {
   "cell_type": "code",
   "execution_count": 10,
   "id": "4a563846",
   "metadata": {},
   "outputs": [
    {
     "data": {
      "text/plain": [
       "<matplotlib.legend.Legend at 0x20e104bfc10>"
      ]
     },
     "execution_count": 10,
     "metadata": {},
     "output_type": "execute_result"
    },
    {
     "data": {
      "image/png": "[encoded data removed]",
      "text/plain": [
       "<Figure size 432x288 with 1 Axes>"
      ]
     },
     "metadata": {
      "needs_background": "light"
     },
     "output_type": "display_data"
    }
   ],
   "source": [
    "#primary dataset\n",
    "plt.hist(sop_df_prmry[\"label\"],label=\"Impute\")\n",
    "plt.hist(df[\"label\"].dropna(),label=\"Original\")\n",
    "plt.legend()"
   ]
  },
  {
   "cell_type": "code",
   "execution_count": 11,
   "id": "f047918c",
   "metadata": {},
   "outputs": [
    {
     "data": {
      "text/plain": [
       "<matplotlib.legend.Legend at 0x20e105d5580>"
      ]
     },
     "execution_count": 11,
     "metadata": {},
     "output_type": "execute_result"
    },
    {
     "data": {
      "image/png": "[encoded data removed]",
      "text/plain": [
       "<Figure size 432x288 with 1 Axes>"
      ]
     },
     "metadata": {
      "needs_background": "light"
     },
     "output_type": "display_data"
    }
   ],
   "source": [
    "#secondary dataset\n",
    "plt.hist(sop_df_scndry[\"label\"],label=\"Impute\")\n",
    "plt.hist(df[\"label\"].dropna(),label=\"Original\")\n",
    "plt.legend()"
   ]
  },
  {
   "cell_type": "markdown",
   "id": "62b80390",
   "metadata": {},
   "source": [
    "### **Summary Statistics**"
   ]
  },
  {
   "cell_type": "markdown",
   "id": "521d4538",
   "metadata": {},
   "source": [
    "### Data Shape"
   ]
  },
  {
   "cell_type": "code",
   "execution_count": 12,
   "id": "d2d0a86c",
   "metadata": {},
   "outputs": [
    {
     "data": {
      "text/plain": [
       "(813, 2)"
      ]
     },
     "execution_count": 12,
     "metadata": {},
     "output_type": "execute_result"
    }
   ],
   "source": [
    "#primary dataset\n",
    "sop_df_prmry.shape"
   ]
  },
  {
   "cell_type": "code",
   "execution_count": 13,
   "id": "e7227da4",
   "metadata": {},
   "outputs": [
    {
     "data": {
      "text/plain": [
       "(1500, 2)"
      ]
     },
     "execution_count": 13,
     "metadata": {},
     "output_type": "execute_result"
    }
   ],
   "source": [
    "#secondary dataset\n",
    "sop_df_scndry.shape"
   ]
  },
  {
   "cell_type": "markdown",
   "id": "50000c46",
   "metadata": {},
   "source": [
    "### Data Summary"
   ]
  },
  {
   "cell_type": "code",
   "execution_count": 14,
   "id": "c8454537",
   "metadata": {},
   "outputs": [
    {
     "data": {
      "text/html": [
       "<div>\n",
       "<style scoped>\n",
       "    .dataframe tbody tr th:only-of-type {\n",
       "        vertical-align: middle;\n",
       "    }\n",
       "\n",
       "    .dataframe tbody tr th {\n",
       "        vertical-align: top;\n",
       "    }\n",
       "\n",
       "    .dataframe thead th {\n",
       "        text-align: right;\n",
       "    }\n",
       "</style>\n",
       "<table border=\"1\" class=\"dataframe\">\n",
       "  <thead>\n",
       "    <tr style=\"text-align: right;\">\n",
       "      <th></th>\n",
       "      <th>text</th>\n",
       "      <th>label</th>\n",
       "    </tr>\n",
       "  </thead>\n",
       "  <tbody>\n",
       "    <tr>\n",
       "      <th>count</th>\n",
       "      <td>813</td>\n",
       "      <td>813</td>\n",
       "    </tr>\n",
       "    <tr>\n",
       "      <th>unique</th>\n",
       "      <td>511</td>\n",
       "      <td>3</td>\n",
       "    </tr>\n",
       "    <tr>\n",
       "      <th>top</th>\n",
       "      <td>Some restaurant patrons talk up a storm with e...</td>\n",
       "      <td>vaccination</td>\n",
       "    </tr>\n",
       "    <tr>\n",
       "      <th>freq</th>\n",
       "      <td>3</td>\n",
       "      <td>580</td>\n",
       "    </tr>\n",
       "  </tbody>\n",
       "</table>\n",
       "</div>"
      ],
      "text/plain": [
       "                                                     text        label\n",
       "count                                                 813          813\n",
       "unique                                                511            3\n",
       "top     Some restaurant patrons talk up a storm with e...  vaccination\n",
       "freq                                                    3          580"
      ]
     },
     "execution_count": 14,
     "metadata": {},
     "output_type": "execute_result"
    }
   ],
   "source": [
    "#primary dataset\n",
    "sop_df_prmry.describe()"
   ]
  },
  {
   "cell_type": "code",
   "execution_count": 15,
   "id": "5e762a3e",
   "metadata": {},
   "outputs": [
    {
     "data": {
      "text/html": [
       "<div>\n",
       "<style scoped>\n",
       "    .dataframe tbody tr th:only-of-type {\n",
       "        vertical-align: middle;\n",
       "    }\n",
       "\n",
       "    .dataframe tbody tr th {\n",
       "        vertical-align: top;\n",
       "    }\n",
       "\n",
       "    .dataframe thead th {\n",
       "        text-align: right;\n",
       "    }\n",
       "</style>\n",
       "<table border=\"1\" class=\"dataframe\">\n",
       "  <thead>\n",
       "    <tr style=\"text-align: right;\">\n",
       "      <th></th>\n",
       "      <th>text</th>\n",
       "      <th>label</th>\n",
       "    </tr>\n",
       "  </thead>\n",
       "  <tbody>\n",
       "    <tr>\n",
       "      <th>count</th>\n",
       "      <td>1500</td>\n",
       "      <td>1500</td>\n",
       "    </tr>\n",
       "    <tr>\n",
       "      <th>unique</th>\n",
       "      <td>1493</td>\n",
       "      <td>3</td>\n",
       "    </tr>\n",
       "    <tr>\n",
       "      <th>top</th>\n",
       "      <td>STUDIES SHOW MORPHINE MILLIGRAM EQUIVALENT (MM...</td>\n",
       "      <td>vaccination</td>\n",
       "    </tr>\n",
       "    <tr>\n",
       "      <th>freq</th>\n",
       "      <td>5</td>\n",
       "      <td>969</td>\n",
       "    </tr>\n",
       "  </tbody>\n",
       "</table>\n",
       "</div>"
      ],
      "text/plain": [
       "                                                     text        label\n",
       "count                                                1500         1500\n",
       "unique                                               1493            3\n",
       "top     STUDIES SHOW MORPHINE MILLIGRAM EQUIVALENT (MM...  vaccination\n",
       "freq                                                    5          969"
      ]
     },
     "execution_count": 15,
     "metadata": {},
     "output_type": "execute_result"
    }
   ],
   "source": [
    "#secondary dataset\n",
    "sop_df_scndry.describe()"
   ]
  },
  {
   "cell_type": "markdown",
   "id": "7fdf5246",
   "metadata": {},
   "source": [
    "### Text Cleaning"
   ]
  },
  {
   "cell_type": "code",
   "execution_count": 16,
   "id": "4ba9cea3",
   "metadata": {},
   "outputs": [],
   "source": [
    "def text_cleaning(text):\n",
    "    text=nt.fix_contractions(text)\n",
    "    text=nt.remove_puncts(text)\n",
    "    text=nt.remove_bad_quotes(text)\n",
    "    text=nt.remove_emojis(text)\n",
    "    text=nt.remove_numbers(text)\n",
    "    text=nt.remove_multiple_spaces(text)\n",
    "    text=nt.remove_non_ascii(text)\n",
    "    text=nt.remove_userhandles(text)\n",
    "    return text"
   ]
  },
  {
   "cell_type": "code",
   "execution_count": 17,
   "id": "7e2f3916",
   "metadata": {},
   "outputs": [],
   "source": [
    "sop_df_prmry['label']=sop_df_prmry['label'].apply(lambda x:text_cleaning(x))"
   ]
  },
  {
   "cell_type": "code",
   "execution_count": 18,
   "id": "c0120f81",
   "metadata": {},
   "outputs": [],
   "source": [
    "sop_df_scndry['label']=sop_df_scndry['label'].apply(lambda x:text_cleaning(x))"
   ]
  },
  {
   "cell_type": "code",
   "execution_count": 79,
   "id": "442178d2",
   "metadata": {},
   "outputs": [],
   "source": [
    "sop_df_prmry['vaccination']=sop_df_prmry['label']=='vaccination'\n",
    "sop_df_scndry['vaccination']=sop_df_scndry['label']=='vaccination'"
   ]
  },
  {
   "cell_type": "code",
   "execution_count": 80,
   "id": "ee783349",
   "metadata": {},
   "outputs": [
    {
     "data": {
      "text/plain": [
       "0       True\n",
       "1       True\n",
       "2       True\n",
       "3      False\n",
       "4       True\n",
       "       ...  \n",
       "295    False\n",
       "296    False\n",
       "297     True\n",
       "298    False\n",
       "299    False\n",
       "Name: vaccination, Length: 813, dtype: bool"
      ]
     },
     "execution_count": 80,
     "metadata": {},
     "output_type": "execute_result"
    }
   ],
   "source": [
    "sop_df_prmry['vaccination']"
   ]
  },
  {
   "cell_type": "markdown",
   "id": "91a05061",
   "metadata": {},
   "source": [
    "### Text Vectorization"
   ]
  },
  {
   "cell_type": "code",
   "execution_count": 81,
   "id": "616563d5",
   "metadata": {},
   "outputs": [],
   "source": [
    "from sklearn.model_selection import train_test_split"
   ]
  },
  {
   "cell_type": "code",
   "execution_count": 82,
   "id": "486460db",
   "metadata": {},
   "outputs": [],
   "source": [
    "X=sop_df_prmry['text']\n",
    "y=sop_df_prmry['vaccination']"
   ]
  },
  {
   "cell_type": "code",
   "execution_count": 83,
   "id": "3481b047",
   "metadata": {},
   "outputs": [],
   "source": [
    "X_train,X_test,y_train,y_test=train_test_split(X,y,test_size=0.3,random_state=42)"
   ]
  },
  {
   "cell_type": "code",
   "execution_count": 84,
   "id": "cc4fa0b9",
   "metadata": {},
   "outputs": [],
   "source": [
    "from sklearn.feature_extraction.text import CountVectorizer\n",
    "count_vect = CountVectorizer()\n",
    "X_train = count_vect.fit_transform(X_train)\n",
    "X_test = count_vect.transform(X_test)"
   ]
  },
  {
   "cell_type": "code",
   "execution_count": 85,
   "id": "615de3a4",
   "metadata": {},
   "outputs": [],
   "source": [
    "X_secondary=sop_df_scndry['text']"
   ]
  },
  {
   "cell_type": "code",
   "execution_count": 86,
   "id": "c87e89f1",
   "metadata": {},
   "outputs": [],
   "source": [
    "X_secondary = count_vect.transform(X_secondary)"
   ]
  },
  {
   "cell_type": "code",
   "execution_count": 87,
   "id": "14f8992f",
   "metadata": {},
   "outputs": [],
   "source": [
    "y_secondary=sop_df_scndry['vaccination']"
   ]
  },
  {
   "cell_type": "code",
   "execution_count": 88,
   "id": "37312b33",
   "metadata": {},
   "outputs": [],
   "source": [
    "from imblearn.over_sampling import SMOTE   #package foe balancing the data\n",
    "sampler = SMOTE()\n",
    "X_train, y_train = sampler.fit_resample(X_train, y_train)  #balancing trainig and testing data"
   ]
  },
  {
   "cell_type": "code",
   "execution_count": 89,
   "id": "71aab28d",
   "metadata": {},
   "outputs": [
    {
     "name": "stderr",
     "output_type": "stream",
     "text": [
      "c:\\users\\zee tech\\appdata\\local\\programs\\python\\python39\\lib\\site-packages\\seaborn\\_decorators.py:36: FutureWarning: Pass the following variable as a keyword arg: x. From version 0.12, the only valid positional argument will be `data`, and passing other arguments without an explicit keyword will result in an error or misinterpretation.\n",
      "  warnings.warn(\n"
     ]
    },
    {
     "data": {
      "text/plain": [
       "<AxesSubplot:xlabel='vaccination', ylabel='count'>"
      ]
     },
     "execution_count": 89,
     "metadata": {},
     "output_type": "execute_result"
    },
    {
     "data": {
      "image/png": "[encoded data removed]",
      "text/plain": [
       "<Figure size 576x360 with 1 Axes>"
      ]
     },
     "metadata": {},
     "output_type": "display_data"
    }
   ],
   "source": [
    "sns.countplot(y_train)"
   ]
  },
  {
   "cell_type": "markdown",
   "id": "175b9c7f",
   "metadata": {},
   "source": [
    "# **3 - Model Training and Testing**"
   ]
  },
  {
   "cell_type": "code",
   "execution_count": 67,
   "id": "38c0b7b3",
   "metadata": {},
   "outputs": [],
   "source": [
    "from sklearn.naive_bayes import MultinomialNB\n",
    "clf = MultinomialNB().fit(X_train, y_train)"
   ]
  },
  {
   "cell_type": "code",
   "execution_count": 68,
   "id": "31357468",
   "metadata": {},
   "outputs": [
    {
     "data": {
      "text/plain": [
       "array([ True, False,  True, False,  True,  True, False,  True, False,\n",
       "       False,  True, False,  True,  True, False,  True,  True,  True,\n",
       "        True,  True, False,  True,  True,  True,  True, False,  True,\n",
       "       False,  True,  True,  True, False,  True,  True, False,  True,\n",
       "        True,  True, False,  True,  True, False,  True,  True,  True,\n",
       "        True, False, False,  True,  True,  True,  True, False,  True,\n",
       "        True, False,  True,  True,  True, False,  True, False,  True,\n",
       "        True, False, False,  True,  True,  True,  True,  True,  True,\n",
       "        True, False,  True, False,  True, False,  True,  True,  True,\n",
       "        True, False, False,  True,  True,  True,  True, False,  True,\n",
       "        True,  True,  True,  True,  True,  True,  True, False, False,\n",
       "       False,  True,  True,  True,  True, False,  True, False,  True,\n",
       "        True,  True,  True, False, False, False,  True,  True,  True,\n",
       "        True,  True,  True,  True, False, False,  True,  True,  True,\n",
       "       False, False,  True, False,  True, False, False,  True, False,\n",
       "       False,  True, False,  True,  True, False, False,  True, False,\n",
       "       False,  True,  True, False,  True,  True,  True,  True,  True,\n",
       "        True,  True, False,  True,  True, False, False,  True,  True,\n",
       "       False,  True, False,  True, False,  True, False,  True,  True,\n",
       "        True,  True,  True, False, False, False, False, False,  True,\n",
       "        True, False,  True,  True, False,  True,  True, False,  True,\n",
       "        True,  True, False, False,  True, False,  True, False,  True,\n",
       "        True,  True, False, False,  True, False,  True,  True,  True,\n",
       "        True,  True,  True,  True, False, False, False,  True,  True,\n",
       "        True,  True,  True,  True,  True, False,  True, False,  True,\n",
       "        True,  True,  True,  True, False,  True,  True, False,  True,\n",
       "        True,  True, False,  True,  True, False,  True,  True,  True,\n",
       "        True])"
      ]
     },
     "execution_count": 68,
     "metadata": {},
     "output_type": "execute_result"
    }
   ],
   "source": [
    "clf.predict(X_test)"
   ]
  },
  {
   "cell_type": "markdown",
   "id": "71b1a136",
   "metadata": {},
   "source": [
    "### Model Training Accuracy on Primary Data"
   ]
  },
  {
   "cell_type": "code",
   "execution_count": 69,
   "id": "be36fcac",
   "metadata": {},
   "outputs": [
    {
     "data": {
      "text/plain": [
       "0.9205378973105135"
      ]
     },
     "execution_count": 69,
     "metadata": {},
     "output_type": "execute_result"
    }
   ],
   "source": [
    "clf.score(X_train, y_train)"
   ]
  },
  {
   "cell_type": "code",
   "execution_count": 70,
   "id": "96d8f839",
   "metadata": {},
   "outputs": [],
   "source": [
    "from sklearn.metrics import plot_confusion_matrix"
   ]
  },
  {
   "cell_type": "markdown",
   "id": "a8673bfc",
   "metadata": {},
   "source": [
    "### Model Score on Primary Test Data"
   ]
  },
  {
   "cell_type": "code",
   "execution_count": 71,
   "id": "5feee41a",
   "metadata": {},
   "outputs": [
    {
     "data": {
      "text/plain": [
       "0.7991803278688525"
      ]
     },
     "execution_count": 71,
     "metadata": {},
     "output_type": "execute_result"
    }
   ],
   "source": [
    "clf.score(X_test, y_test)"
   ]
  },
  {
   "cell_type": "code",
   "execution_count": 95,
   "id": "cd4fea6a",
   "metadata": {},
   "outputs": [],
   "source": [
    "y_pred = clf.predict(X_test)\n",
    "    \n",
    "    # Accuracy\n",
    "accuracy = accuracy_score(y_test, y_pred)\n",
    "    "
   ]
  },
  {
   "cell_type": "code",
   "execution_count": 98,
   "id": "5738e88c",
   "metadata": {},
   "outputs": [],
   "source": [
    "y_pred=clf.predict(X_secondary)"
   ]
  },
  {
   "cell_type": "code",
   "execution_count": 99,
   "id": "839db44a",
   "metadata": {},
   "outputs": [
    {
     "data": {
      "text/plain": [
       "0.48133333333333334"
      ]
     },
     "execution_count": 99,
     "metadata": {},
     "output_type": "execute_result"
    }
   ],
   "source": [
    " accuracy_score(y_secondary, y_pred)"
   ]
  },
  {
   "cell_type": "markdown",
   "id": "e63d3e4c",
   "metadata": {},
   "source": [
    "### Model Scores on Secondary Data"
   ]
  },
  {
   "cell_type": "code",
   "execution_count": 72,
   "id": "d492d222",
   "metadata": {},
   "outputs": [
    {
     "data": {
      "text/plain": [
       "0.7286666666666667"
      ]
     },
     "execution_count": 72,
     "metadata": {},
     "output_type": "execute_result"
    }
   ],
   "source": [
    "clf.score(X_secondary, y_secondary)"
   ]
  },
  {
   "cell_type": "markdown",
   "id": "a92a4c1e",
   "metadata": {},
   "source": [
    "# Feature Engineering"
   ]
  },
  {
   "cell_type": "markdown",
   "id": "6aa61eda",
   "metadata": {},
   "source": [
    "We added three attributes of the text feature that are Sentiment of the text, emotion of the text,and group of the text it belongs to(Kmeans Clustering)."
   ]
  },
  {
   "cell_type": "code",
   "execution_count": 119,
   "id": "ee55f33e",
   "metadata": {},
   "outputs": [],
   "source": [
    "sop_df_prmry=pd.read_csv('sop_prmry.csv')\n",
    "sop_df_scndry=pd.read_csv('sop_scndry.csv')"
   ]
  },
  {
   "cell_type": "code",
   "execution_count": 120,
   "id": "9d7a8286",
   "metadata": {},
   "outputs": [],
   "source": [
    "sop_df_scndry['text']=sop_df_scndry['text'].apply(lambda x:nt.remove_urls(x))"
   ]
  },
  {
   "cell_type": "markdown",
   "id": "84de0d4a",
   "metadata": {},
   "source": [
    "### Adding Sentiment Feature in the dataset"
   ]
  },
  {
   "cell_type": "code",
   "execution_count": 121,
   "id": "c55c1512",
   "metadata": {},
   "outputs": [],
   "source": [
    "#Create a function to get the polarity\n",
    "def getPolarity(text):\n",
    "    return TextBlob(text).sentiment.polarity"
   ]
  },
  {
   "cell_type": "code",
   "execution_count": 122,
   "id": "3d16134e",
   "metadata": {},
   "outputs": [],
   "source": [
    "sop_df_prmry['polarity']=sop_df_prmry['text'].apply(lambda x:getPolarity(x))\n",
    "sop_df_scndry['polarity']=sop_df_scndry['text'].apply(lambda x:getPolarity(x))"
   ]
  },
  {
   "cell_type": "code",
   "execution_count": 123,
   "id": "a5f7fe53",
   "metadata": {},
   "outputs": [],
   "source": [
    "def getSentimentTag(score):\n",
    "    if score < 0:\n",
    "        return 0\n",
    "    elif score >=0:\n",
    "        return 1"
   ]
  },
  {
   "cell_type": "code",
   "execution_count": 124,
   "id": "f8df5cac",
   "metadata": {},
   "outputs": [],
   "source": [
    "sop_df_prmry['sentiment_tag']=sop_df_prmry['polarity'].apply(lambda x:getSentimentTag(x))\n",
    "sop_df_scndry['sentiment_tag']=sop_df_scndry['polarity'].apply(lambda x:getSentimentTag(x))"
   ]
  },
  {
   "cell_type": "markdown",
   "id": "2dced74f",
   "metadata": {},
   "source": [
    "### Adding Emotion Feature in the dataset"
   ]
  },
  {
   "cell_type": "code",
   "execution_count": null,
   "id": "152e14fd",
   "metadata": {},
   "outputs": [],
   "source": [
    "! pip install transformers -q\n",
    "from transformers import pipeline\n",
    "emotion = pipeline('sentiment-analysis', model='arpanghoshal/EmoRoBERTa')"
   ]
  },
  {
   "cell_type": "code",
   "execution_count": null,
   "id": "906caac3",
   "metadata": {},
   "outputs": [],
   "source": [
    "sop_df_prmry['Emotions']=sop_df_prmry['text'].apply(emotion)\n",
    "sop_df_scndry['Emotions']=sop_df_scndry['text'].apply(emotion)"
   ]
  },
  {
   "cell_type": "code",
   "execution_count": 125,
   "id": "a63a938e",
   "metadata": {},
   "outputs": [],
   "source": [
    "def extract_em(em_dict):\n",
    "  return em_dict[0]['label'] \n",
    "  # print(em_dict[0]['label'])"
   ]
  },
  {
   "cell_type": "code",
   "execution_count": 126,
   "id": "6ba16c83",
   "metadata": {},
   "outputs": [
    {
     "ename": "TypeError",
     "evalue": "string indices must be integers",
     "output_type": "error",
     "traceback": [
      "\u001b[1;31m---------------------------------------------------------------------------\u001b[0m",
      "\u001b[1;31mTypeError\u001b[0m                                 Traceback (most recent call last)",
      "\u001b[1;32m<ipython-input-126-5b87bdcd8acb>\u001b[0m in \u001b[0;36m<module>\u001b[1;34m\u001b[0m\n\u001b[1;32m----> 1\u001b[1;33m \u001b[0msop_df_prmry\u001b[0m\u001b[1;33m[\u001b[0m\u001b[1;34m'Emotions_Label'\u001b[0m\u001b[1;33m]\u001b[0m\u001b[1;33m=\u001b[0m\u001b[0msop_df_prmry\u001b[0m\u001b[1;33m[\u001b[0m\u001b[1;34m'Emotions'\u001b[0m\u001b[1;33m]\u001b[0m\u001b[1;33m.\u001b[0m\u001b[0mapply\u001b[0m\u001b[1;33m(\u001b[0m\u001b[1;32mlambda\u001b[0m \u001b[0mx\u001b[0m\u001b[1;33m:\u001b[0m\u001b[0mextract_em\u001b[0m\u001b[1;33m(\u001b[0m\u001b[0mx\u001b[0m\u001b[1;33m)\u001b[0m\u001b[1;33m)\u001b[0m\u001b[1;33m\u001b[0m\u001b[1;33m\u001b[0m\u001b[0m\n\u001b[0m\u001b[0;32m      2\u001b[0m \u001b[0msop_df_scndry\u001b[0m\u001b[1;33m[\u001b[0m\u001b[1;34m'Emotions_Label'\u001b[0m\u001b[1;33m]\u001b[0m\u001b[1;33m=\u001b[0m\u001b[0msop_df_scndry\u001b[0m\u001b[1;33m[\u001b[0m\u001b[1;34m'Emotions'\u001b[0m\u001b[1;33m]\u001b[0m\u001b[1;33m.\u001b[0m\u001b[0mapply\u001b[0m\u001b[1;33m(\u001b[0m\u001b[1;32mlambda\u001b[0m \u001b[0mx\u001b[0m\u001b[1;33m:\u001b[0m\u001b[0mextract_em\u001b[0m\u001b[1;33m(\u001b[0m\u001b[0mx\u001b[0m\u001b[1;33m)\u001b[0m\u001b[1;33m)\u001b[0m\u001b[1;33m\u001b[0m\u001b[1;33m\u001b[0m\u001b[0m\n",
      "\u001b[1;32mc:\\users\\zee tech\\appdata\\local\\programs\\python\\python39\\lib\\site-packages\\pandas\\core\\series.py\u001b[0m in \u001b[0;36mapply\u001b[1;34m(self, func, convert_dtype, args, **kwds)\u001b[0m\n\u001b[0;32m   4136\u001b[0m             \u001b[1;32melse\u001b[0m\u001b[1;33m:\u001b[0m\u001b[1;33m\u001b[0m\u001b[1;33m\u001b[0m\u001b[0m\n\u001b[0;32m   4137\u001b[0m                 \u001b[0mvalues\u001b[0m \u001b[1;33m=\u001b[0m \u001b[0mself\u001b[0m\u001b[1;33m.\u001b[0m\u001b[0mastype\u001b[0m\u001b[1;33m(\u001b[0m\u001b[0mobject\u001b[0m\u001b[1;33m)\u001b[0m\u001b[1;33m.\u001b[0m\u001b[0m_values\u001b[0m\u001b[1;33m\u001b[0m\u001b[1;33m\u001b[0m\u001b[0m\n\u001b[1;32m-> 4138\u001b[1;33m                 \u001b[0mmapped\u001b[0m \u001b[1;33m=\u001b[0m \u001b[0mlib\u001b[0m\u001b[1;33m.\u001b[0m\u001b[0mmap_infer\u001b[0m\u001b[1;33m(\u001b[0m\u001b[0mvalues\u001b[0m\u001b[1;33m,\u001b[0m \u001b[0mf\u001b[0m\u001b[1;33m,\u001b[0m \u001b[0mconvert\u001b[0m\u001b[1;33m=\u001b[0m\u001b[0mconvert_dtype\u001b[0m\u001b[1;33m)\u001b[0m\u001b[1;33m\u001b[0m\u001b[1;33m\u001b[0m\u001b[0m\n\u001b[0m\u001b[0;32m   4139\u001b[0m \u001b[1;33m\u001b[0m\u001b[0m\n\u001b[0;32m   4140\u001b[0m         \u001b[1;32mif\u001b[0m \u001b[0mlen\u001b[0m\u001b[1;33m(\u001b[0m\u001b[0mmapped\u001b[0m\u001b[1;33m)\u001b[0m \u001b[1;32mand\u001b[0m \u001b[0misinstance\u001b[0m\u001b[1;33m(\u001b[0m\u001b[0mmapped\u001b[0m\u001b[1;33m[\u001b[0m\u001b[1;36m0\u001b[0m\u001b[1;33m]\u001b[0m\u001b[1;33m,\u001b[0m \u001b[0mSeries\u001b[0m\u001b[1;33m)\u001b[0m\u001b[1;33m:\u001b[0m\u001b[1;33m\u001b[0m\u001b[1;33m\u001b[0m\u001b[0m\n",
      "\u001b[1;32mpandas\\_libs\\lib.pyx\u001b[0m in \u001b[0;36mpandas._libs.lib.map_infer\u001b[1;34m()\u001b[0m\n",
      "\u001b[1;32m<ipython-input-126-5b87bdcd8acb>\u001b[0m in \u001b[0;36m<lambda>\u001b[1;34m(x)\u001b[0m\n\u001b[1;32m----> 1\u001b[1;33m \u001b[0msop_df_prmry\u001b[0m\u001b[1;33m[\u001b[0m\u001b[1;34m'Emotions_Label'\u001b[0m\u001b[1;33m]\u001b[0m\u001b[1;33m=\u001b[0m\u001b[0msop_df_prmry\u001b[0m\u001b[1;33m[\u001b[0m\u001b[1;34m'Emotions'\u001b[0m\u001b[1;33m]\u001b[0m\u001b[1;33m.\u001b[0m\u001b[0mapply\u001b[0m\u001b[1;33m(\u001b[0m\u001b[1;32mlambda\u001b[0m \u001b[0mx\u001b[0m\u001b[1;33m:\u001b[0m\u001b[0mextract_em\u001b[0m\u001b[1;33m(\u001b[0m\u001b[0mx\u001b[0m\u001b[1;33m)\u001b[0m\u001b[1;33m)\u001b[0m\u001b[1;33m\u001b[0m\u001b[1;33m\u001b[0m\u001b[0m\n\u001b[0m\u001b[0;32m      2\u001b[0m \u001b[0msop_df_scndry\u001b[0m\u001b[1;33m[\u001b[0m\u001b[1;34m'Emotions_Label'\u001b[0m\u001b[1;33m]\u001b[0m\u001b[1;33m=\u001b[0m\u001b[0msop_df_scndry\u001b[0m\u001b[1;33m[\u001b[0m\u001b[1;34m'Emotions'\u001b[0m\u001b[1;33m]\u001b[0m\u001b[1;33m.\u001b[0m\u001b[0mapply\u001b[0m\u001b[1;33m(\u001b[0m\u001b[1;32mlambda\u001b[0m \u001b[0mx\u001b[0m\u001b[1;33m:\u001b[0m\u001b[0mextract_em\u001b[0m\u001b[1;33m(\u001b[0m\u001b[0mx\u001b[0m\u001b[1;33m)\u001b[0m\u001b[1;33m)\u001b[0m\u001b[1;33m\u001b[0m\u001b[1;33m\u001b[0m\u001b[0m\n",
      "\u001b[1;32m<ipython-input-125-539752e3fc43>\u001b[0m in \u001b[0;36mextract_em\u001b[1;34m(em_dict)\u001b[0m\n\u001b[0;32m      1\u001b[0m \u001b[1;32mdef\u001b[0m \u001b[0mextract_em\u001b[0m\u001b[1;33m(\u001b[0m\u001b[0mem_dict\u001b[0m\u001b[1;33m)\u001b[0m\u001b[1;33m:\u001b[0m\u001b[1;33m\u001b[0m\u001b[1;33m\u001b[0m\u001b[0m\n\u001b[1;32m----> 2\u001b[1;33m   \u001b[1;32mreturn\u001b[0m \u001b[0mem_dict\u001b[0m\u001b[1;33m[\u001b[0m\u001b[1;36m0\u001b[0m\u001b[1;33m]\u001b[0m\u001b[1;33m[\u001b[0m\u001b[1;34m'label'\u001b[0m\u001b[1;33m]\u001b[0m\u001b[1;33m\u001b[0m\u001b[1;33m\u001b[0m\u001b[0m\n\u001b[0m\u001b[0;32m      3\u001b[0m   \u001b[1;31m# print(em_dict[0]['label'])\u001b[0m\u001b[1;33m\u001b[0m\u001b[1;33m\u001b[0m\u001b[1;33m\u001b[0m\u001b[0m\n",
      "\u001b[1;31mTypeError\u001b[0m: string indices must be integers"
     ]
    }
   ],
   "source": [
    "sop_df_prmry['Emotions_Label']=sop_df_prmry['Emotions'].apply(lambda x:extract_em(x))\n",
    "sop_df_scndry['Emotions_Label']=sop_df_scndry['Emotions'].apply(lambda x:extract_em(x))"
   ]
  },
  {
   "cell_type": "code",
   "execution_count": 127,
   "id": "1f0e5c27",
   "metadata": {},
   "outputs": [],
   "source": [
    "neg_feelings=['disapproval','confusion','annoyance','sadness','disappointment','anger','fear','nervousness','grief'\n",
    "'embarrassment','remorse']"
   ]
  },
  {
   "cell_type": "code",
   "execution_count": 128,
   "id": "db06d7fc",
   "metadata": {},
   "outputs": [],
   "source": [
    "def emotion_label_to_number(emotion):\n",
    "    if emotion in neg_feelings:\n",
    "        return 0\n",
    "    else:\n",
    "        return 1"
   ]
  },
  {
   "cell_type": "code",
   "execution_count": 129,
   "id": "f49bbc91",
   "metadata": {},
   "outputs": [],
   "source": [
    "sop_df_prmry['Emotion_jf']=sop_df_prmry['Emotions_Label'].apply(lambda x:emotion_label_to_number(x))\n",
    "sop_df_scndry['Emotion_jf']=sop_df_scndry['Emotions_Label'].apply(lambda x:emotion_label_to_number(x))"
   ]
  },
  {
   "cell_type": "code",
   "execution_count": 130,
   "id": "a2c2fcb1",
   "metadata": {},
   "outputs": [],
   "source": [
    "sop_df_prmry=sop_df_prmry[['text','sentiment_tag','cluster','Emotion_jf','label']]\n",
    "sop_df_scndry=sop_df_scndry[['text','sentiment_tag','cluster','Emotion_jf','label']]"
   ]
  },
  {
   "cell_type": "markdown",
   "id": "c1f42a16",
   "metadata": {},
   "source": [
    "### Kmeans Clustering"
   ]
  },
  {
   "cell_type": "code",
   "execution_count": null,
   "id": "797b61a3",
   "metadata": {},
   "outputs": [],
   "source": [
    "from sklearn.cluster import KMeans  "
   ]
  },
  {
   "cell_type": "code",
   "execution_count": null,
   "id": "702a74b0",
   "metadata": {},
   "outputs": [],
   "source": [
    "count_vect = CountVectorizer()\n",
    "X_primary = count_vect.fit_transform(sop_df_prmry.text)\n",
    "X_secondary = count_vect.fit_transform(sop_df_scndry.text)"
   ]
  },
  {
   "cell_type": "code",
   "execution_count": null,
   "id": "1619e7ad",
   "metadata": {},
   "outputs": [],
   "source": [
    "sop_df_prmry['cluster']=kmeans.fit_predict(X_primary)\n",
    "sop_df_scndry['cluster']=kmeans.fit_predict(X_secondary)"
   ]
  },
  {
   "cell_type": "code",
   "execution_count": 169,
   "id": "7933ff00",
   "metadata": {},
   "outputs": [],
   "source": [
    "sop_df_prmry['label'].fillna(sop_df_prmry['label'].value_counts().index[0],inplace=True)\n",
    "sop_df_scndry['label'].fillna(sop_df_scndry['label'].value_counts().index[0],inplace=True)"
   ]
  },
  {
   "cell_type": "code",
   "execution_count": 170,
   "id": "238f47dd",
   "metadata": {},
   "outputs": [],
   "source": [
    "sop_df_prmry['text']=sop_df_prmry['text'].apply(lambda x:text_cleaning(x))\n",
    "sop_df_scndry['text']=sop_df_scndry['text'].apply(lambda x:text_cleaning(x))"
   ]
  },
  {
   "cell_type": "code",
   "execution_count": 131,
   "id": "0642aca8",
   "metadata": {},
   "outputs": [],
   "source": [
    "sop_df_prmry['vaccination']=sop_df_prmry['label']=='vaccination'\n",
    "sop_df_scndry['vaccination']=sop_df_scndry['label']=='vaccination'"
   ]
  },
  {
   "cell_type": "code",
   "execution_count": 132,
   "id": "dbf43612",
   "metadata": {},
   "outputs": [],
   "source": [
    "X=sop_df_prmry.drop(['vaccination'],axis=1)\n",
    "y=sop_df_prmry['vaccination']"
   ]
  },
  {
   "cell_type": "code",
   "execution_count": 133,
   "id": "62facaaa",
   "metadata": {},
   "outputs": [
    {
     "data": {
      "text/html": [
       "<div>\n",
       "<style scoped>\n",
       "    .dataframe tbody tr th:only-of-type {\n",
       "        vertical-align: middle;\n",
       "    }\n",
       "\n",
       "    .dataframe tbody tr th {\n",
       "        vertical-align: top;\n",
       "    }\n",
       "\n",
       "    .dataframe thead th {\n",
       "        text-align: right;\n",
       "    }\n",
       "</style>\n",
       "<table border=\"1\" class=\"dataframe\">\n",
       "  <thead>\n",
       "    <tr style=\"text-align: right;\">\n",
       "      <th></th>\n",
       "      <th>text</th>\n",
       "      <th>sentiment_tag</th>\n",
       "      <th>cluster</th>\n",
       "      <th>Emotion_jf</th>\n",
       "      <th>label</th>\n",
       "    </tr>\n",
       "  </thead>\n",
       "  <tbody>\n",
       "    <tr>\n",
       "      <th>0</th>\n",
       "      <td>this was predicted in the spring</td>\n",
       "      <td>1</td>\n",
       "      <td>0</td>\n",
       "      <td>1</td>\n",
       "      <td>NaN</td>\n",
       "    </tr>\n",
       "    <tr>\n",
       "      <th>1</th>\n",
       "      <td>insist on vaccinations or make them stay home ...</td>\n",
       "      <td>1</td>\n",
       "      <td>0</td>\n",
       "      <td>1</td>\n",
       "      <td>vaccination</td>\n",
       "    </tr>\n",
       "    <tr>\n",
       "      <th>2</th>\n",
       "      <td>if employers can make a drug test mandatory as...</td>\n",
       "      <td>1</td>\n",
       "      <td>0</td>\n",
       "      <td>1</td>\n",
       "      <td>vaccination</td>\n",
       "    </tr>\n",
       "    <tr>\n",
       "      <th>3</th>\n",
       "      <td>dozens to hundreds of people crowding together...</td>\n",
       "      <td>0</td>\n",
       "      <td>0</td>\n",
       "      <td>1</td>\n",
       "      <td>masking and distancing</td>\n",
       "    </tr>\n",
       "    <tr>\n",
       "      <th>4</th>\n",
       "      <td>if people were bleeding out their eyes and ear...</td>\n",
       "      <td>0</td>\n",
       "      <td>0</td>\n",
       "      <td>1</td>\n",
       "      <td>vaccination</td>\n",
       "    </tr>\n",
       "    <tr>\n",
       "      <th>...</th>\n",
       "      <td>...</td>\n",
       "      <td>...</td>\n",
       "      <td>...</td>\n",
       "      <td>...</td>\n",
       "      <td>...</td>\n",
       "    </tr>\n",
       "    <tr>\n",
       "      <th>808</th>\n",
       "      <td>i went out for lunch yesterday with a friend i...</td>\n",
       "      <td>0</td>\n",
       "      <td>0</td>\n",
       "      <td>0</td>\n",
       "      <td>masking and distancing</td>\n",
       "    </tr>\n",
       "    <tr>\n",
       "      <th>809</th>\n",
       "      <td>even a year and a half later i do not understa...</td>\n",
       "      <td>1</td>\n",
       "      <td>1</td>\n",
       "      <td>1</td>\n",
       "      <td>masking and distancing</td>\n",
       "    </tr>\n",
       "    <tr>\n",
       "      <th>810</th>\n",
       "      <td>let me get this straight vaccinated people are...</td>\n",
       "      <td>1</td>\n",
       "      <td>0</td>\n",
       "      <td>1</td>\n",
       "      <td>vaccination</td>\n",
       "    </tr>\n",
       "    <tr>\n",
       "      <th>811</th>\n",
       "      <td>i have not suffered from a cold or the flu for...</td>\n",
       "      <td>0</td>\n",
       "      <td>0</td>\n",
       "      <td>1</td>\n",
       "      <td>masking and distancing</td>\n",
       "    </tr>\n",
       "    <tr>\n",
       "      <th>812</th>\n",
       "      <td>i cannot understand why people are still stand...</td>\n",
       "      <td>1</td>\n",
       "      <td>0</td>\n",
       "      <td>1</td>\n",
       "      <td>masking and distancing</td>\n",
       "    </tr>\n",
       "  </tbody>\n",
       "</table>\n",
       "<p>813 rows × 5 columns</p>\n",
       "</div>"
      ],
      "text/plain": [
       "                                                  text  sentiment_tag  \\\n",
       "0                     this was predicted in the spring              1   \n",
       "1    insist on vaccinations or make them stay home ...              1   \n",
       "2    if employers can make a drug test mandatory as...              1   \n",
       "3    dozens to hundreds of people crowding together...              0   \n",
       "4    if people were bleeding out their eyes and ear...              0   \n",
       "..                                                 ...            ...   \n",
       "808  i went out for lunch yesterday with a friend i...              0   \n",
       "809  even a year and a half later i do not understa...              1   \n",
       "810  let me get this straight vaccinated people are...              1   \n",
       "811  i have not suffered from a cold or the flu for...              0   \n",
       "812  i cannot understand why people are still stand...              1   \n",
       "\n",
       "     cluster  Emotion_jf                   label  \n",
       "0          0           1                     NaN  \n",
       "1          0           1             vaccination  \n",
       "2          0           1             vaccination  \n",
       "3          0           1  masking and distancing  \n",
       "4          0           1             vaccination  \n",
       "..       ...         ...                     ...  \n",
       "808        0           0  masking and distancing  \n",
       "809        1           1  masking and distancing  \n",
       "810        0           1             vaccination  \n",
       "811        0           1  masking and distancing  \n",
       "812        0           1  masking and distancing  \n",
       "\n",
       "[813 rows x 5 columns]"
      ]
     },
     "execution_count": 133,
     "metadata": {},
     "output_type": "execute_result"
    }
   ],
   "source": [
    "X"
   ]
  },
  {
   "cell_type": "code",
   "execution_count": 134,
   "id": "41f501cf",
   "metadata": {},
   "outputs": [],
   "source": [
    "X_secondary=sop_df_scndry.drop(['vaccination'],axis=1)\n",
    "y_secondary=sop_df_scndry['vaccination']"
   ]
  },
  {
   "cell_type": "code",
   "execution_count": 135,
   "id": "bf339ead",
   "metadata": {},
   "outputs": [],
   "source": [
    "from sklearn.feature_extraction.text import CountVectorizer\n",
    "count_vect = CountVectorizer()\n",
    "text_vect = count_vect.fit_transform(X.text)\n",
    "text_vect_secondary=count_vect.transform(X_secondary.text)\n",
    "\n",
    "#X_test.text = count_vect.transform(X_test.text)"
   ]
  },
  {
   "cell_type": "code",
   "execution_count": 136,
   "id": "0be19acd",
   "metadata": {},
   "outputs": [],
   "source": [
    "numeric_feat = X[[\"sentiment_tag\", \"cluster\", \"Emotion_jf\"]].values"
   ]
  },
  {
   "cell_type": "code",
   "execution_count": 137,
   "id": "2753a95f",
   "metadata": {},
   "outputs": [],
   "source": [
    "numeric_feat_sec=X_secondary[[\"sentiment_tag\", \"cluster\", \"Emotion_jf\"]].values"
   ]
  },
  {
   "cell_type": "code",
   "execution_count": 139,
   "id": "cea7fef3",
   "metadata": {},
   "outputs": [],
   "source": [
    "X = np.hstack([text_vect.toarray(), numeric_feat])"
   ]
  },
  {
   "cell_type": "code",
   "execution_count": 140,
   "id": "12892e8b",
   "metadata": {},
   "outputs": [],
   "source": [
    "X_secondary=np.hstack([text_vect_secondary.toarray(), numeric_feat_sec])"
   ]
  },
  {
   "cell_type": "code",
   "execution_count": 141,
   "id": "dfd23c21",
   "metadata": {},
   "outputs": [],
   "source": [
    "X_train,X_test,y_train,y_test=train_test_split(X,y,test_size=0.3,random_state=42)"
   ]
  },
  {
   "cell_type": "code",
   "execution_count": 142,
   "id": "68e21e06",
   "metadata": {},
   "outputs": [],
   "source": [
    "from sklearn.naive_bayes import MultinomialNB\n",
    "clf = MultinomialNB().fit(X_train, y_train)"
   ]
  },
  {
   "cell_type": "markdown",
   "id": "43edc5bb",
   "metadata": {},
   "source": [
    "### Model Accuracy on Primary Training Data"
   ]
  },
  {
   "cell_type": "code",
   "execution_count": 143,
   "id": "460e5971",
   "metadata": {},
   "outputs": [
    {
     "data": {
      "text/plain": [
       "0.9437609841827768"
      ]
     },
     "execution_count": 143,
     "metadata": {},
     "output_type": "execute_result"
    }
   ],
   "source": [
    "clf.score(X_train,y_train)"
   ]
  },
  {
   "cell_type": "markdown",
   "id": "f7397e78",
   "metadata": {},
   "source": [
    "### Model Accuracy on Primary Test Data"
   ]
  },
  {
   "cell_type": "code",
   "execution_count": 147,
   "id": "b1c6af43",
   "metadata": {},
   "outputs": [],
   "source": [
    "y_pred=clf.predict(X_test)"
   ]
  },
  {
   "cell_type": "code",
   "execution_count": 144,
   "id": "1977dfa1",
   "metadata": {},
   "outputs": [
    {
     "data": {
      "text/plain": [
       "0.8155737704918032"
      ]
     },
     "execution_count": 144,
     "metadata": {},
     "output_type": "execute_result"
    }
   ],
   "source": [
    "clf.score(X_test,y_test)"
   ]
  },
  {
   "cell_type": "code",
   "execution_count": 149,
   "id": "d6dfc81b",
   "metadata": {},
   "outputs": [
    {
     "data": {
      "text/plain": [
       "0.8155737704918032"
      ]
     },
     "execution_count": 149,
     "metadata": {},
     "output_type": "execute_result"
    }
   ],
   "source": [
    "    # Accuracy\n",
    "accuracy_score(y_test, y_pred)"
   ]
  },
  {
   "cell_type": "markdown",
   "id": "49238108",
   "metadata": {},
   "source": [
    "### Model Accuracy on Secondary data"
   ]
  },
  {
   "cell_type": "code",
   "execution_count": 145,
   "id": "e56a262f",
   "metadata": {},
   "outputs": [
    {
     "data": {
      "text/plain": [
       "0.6533333333333333"
      ]
     },
     "execution_count": 145,
     "metadata": {},
     "output_type": "execute_result"
    }
   ],
   "source": [
    "clf.score(X_secondary,y_secondary)"
   ]
  },
  {
   "cell_type": "code",
   "execution_count": 150,
   "id": "f61ef0f3",
   "metadata": {},
   "outputs": [],
   "source": [
    "y_pred=clf.predict(X_secondary)"
   ]
  },
  {
   "cell_type": "code",
   "execution_count": 151,
   "id": "12059b95",
   "metadata": {},
   "outputs": [
    {
     "data": {
      "text/plain": [
       "0.6533333333333333"
      ]
     },
     "execution_count": 151,
     "metadata": {},
     "output_type": "execute_result"
    }
   ],
   "source": [
    "accuracy_score(y_secondary, y_pred)"
   ]
  },
  {
   "cell_type": "code",
   "execution_count": null,
   "id": "25e5c824",
   "metadata": {},
   "outputs": [],
   "source": []
  }
 ],
 "metadata": {
  "kernelspec": {
   "display_name": "Python 3",
   "language": "python",
   "name": "python3"
  },
  "language_info": {
   "codemirror_mode": {
    "name": "ipython",
    "version": 3
   },
   "file_extension": ".py",
   "mimetype": "text/x-python",
   "name": "python",
   "nbconvert_exporter": "python",
   "pygments_lexer": "ipython3",
   "version": "3.9.5"
  }
 },
 "nbformat": 4,
 "nbformat_minor": 5
}
