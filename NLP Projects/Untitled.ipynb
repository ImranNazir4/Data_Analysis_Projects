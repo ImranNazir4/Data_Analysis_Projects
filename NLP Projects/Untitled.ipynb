{
 "cells": [
  {
   "cell_type": "code",
   "execution_count": 1,
   "id": "f6056ff9",
   "metadata": {},
   "outputs": [
    {
     "name": "stderr",
     "output_type": "stream",
     "text": [
      "[nltk_data] Downloading package opinion_lexicon to C:\\Users\\Zee\n",
      "[nltk_data]     Tech\\AppData\\Roaming\\nltk_data...\n",
      "[nltk_data]   Package opinion_lexicon is already up-to-date!\n"
     ]
    },
    {
     "name": "stdout",
     "output_type": "stream",
     "text": [
      "Document: I love this product, it's amazing!\n",
      "Sentiment: Positive\n",
      "\n",
      "Document: This movie was terrible, I hated it.\n",
      "Sentiment: Negative\n",
      "\n",
      "Document: The weather is okay, neither good nor bad.\n",
      "Sentiment: Neutral\n",
      "\n"
     ]
    }
   ],
   "source": [
    "import nltk\n",
    "\n",
    "# Step 1: Load the sentiment lexicon\n",
    "nltk.download('opinion_lexicon')\n",
    "from nltk.corpus import opinion_lexicon\n",
    "\n",
    "positive_words = set(opinion_lexicon.positive())\n",
    "negative_words = set(opinion_lexicon.negative())\n",
    "\n",
    "# Step 2: Tokenization (assuming you have a list of text documents)\n",
    "documents = [\n",
    "    \"I love this product, it's amazing!\",\n",
    "    \"This movie was terrible, I hated it.\",\n",
    "    \"The weather is okay, neither good nor bad.\"\n",
    "]\n",
    "\n",
    "tokenized_documents = [nltk.word_tokenize(doc.lower()) for doc in documents]\n",
    "\n",
    "# Step 3-6: Word Sentiment Scoring and Aggregation\n",
    "sentiment_scores = []\n",
    "for doc in tokenized_documents:\n",
    "    doc_score = 0\n",
    "    for word in doc:\n",
    "        if word in positive_words:\n",
    "            doc_score += 1\n",
    "        elif word in negative_words:\n",
    "            doc_score -= 1\n",
    "    sentiment_scores.append(doc_score)\n",
    "\n",
    "# Step 7: Thresholding and Classification\n",
    "threshold = 0  # Define your threshold here\n",
    "\n",
    "classified_documents = []\n",
    "for score in sentiment_scores:\n",
    "    if score > threshold:\n",
    "        classified_documents.append(\"Positive\")\n",
    "    elif score < threshold:\n",
    "        classified_documents.append(\"Negative\")\n",
    "    else:\n",
    "        classified_documents.append(\"Neutral\")\n",
    "\n",
    "# Step 8: Print the results\n",
    "for doc, sentiment in zip(documents, classified_documents):\n",
    "    print(\"Document:\", doc)\n",
    "    print(\"Sentiment:\", sentiment)\n",
    "    print()\n"
   ]
  },
  {
   "cell_type": "code",
   "execution_count": 4,
   "id": "6100de4d",
   "metadata": {},
   "outputs": [
    {
     "data": {
      "text/plain": [
       "4783"
      ]
     },
     "execution_count": 4,
     "metadata": {},
     "output_type": "execute_result"
    }
   ],
   "source": [
    "len(negative_words)"
   ]
  },
  {
   "cell_type": "code",
   "execution_count": null,
   "id": "2b448a9f",
   "metadata": {},
   "outputs": [],
   "source": []
  }
 ],
 "metadata": {
  "kernelspec": {
   "display_name": "Python 3",
   "language": "python",
   "name": "python3"
  },
  "language_info": {
   "codemirror_mode": {
    "name": "ipython",
    "version": 3
   },
   "file_extension": ".py",
   "mimetype": "text/x-python",
   "name": "python",
   "nbconvert_exporter": "python",
   "pygments_lexer": "ipython3",
   "version": "3.9.5"
  }
 },
 "nbformat": 4,
 "nbformat_minor": 5
}
