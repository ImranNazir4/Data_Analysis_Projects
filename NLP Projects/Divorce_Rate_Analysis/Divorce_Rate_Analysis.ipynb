{
 "cells": [
  {
   "cell_type": "code",
   "execution_count": 1,
   "id": "c013278f",
   "metadata": {},
   "outputs": [],
   "source": [
    "import pandas as pd\n",
    "import numpy as np"
   ]
  },
  {
   "cell_type": "code",
   "execution_count": 270,
   "id": "803a3280",
   "metadata": {},
   "outputs": [],
   "source": [
    "divorce_df=pd.read_excel('Divocre Rata Analysis.xlsx')"
   ]
  },
  {
   "cell_type": "code",
   "execution_count": 271,
   "id": "a08999ef",
   "metadata": {},
   "outputs": [
    {
     "data": {
      "text/plain": [
       "Man's City                        0\n",
       "Woman's City                      0\n",
       "Man Age                           0\n",
       "Woman Age                         0\n",
       "Man's Education                   0\n",
       "Woman's Education                 0\n",
       "Man's Monthly Income              0\n",
       "Woman's Working Status            0\n",
       "Woman's Job Type                  0\n",
       "Family System                     0\n",
       "Relation with Spouse              0\n",
       "No. of children                   0\n",
       "Husband Drug Status (yes, no)     1\n",
       "Marriage Type                     1\n",
       "Reason of Divorce                 2\n",
       "Reasons from Man Sdie            15\n",
       "Reasons                           0\n",
       "Reasons from Woman Side           6\n",
       "Span of Marriage Life             1\n",
       "Marriage No. of Male              0\n",
       "Submission ID                     3\n",
       "Marriage No. of Female            0\n",
       "dtype: int64"
      ]
     },
     "execution_count": 271,
     "metadata": {},
     "output_type": "execute_result"
    }
   ],
   "source": [
    "divorce_df.isnull().sum()"
   ]
  },
  {
   "cell_type": "code",
   "execution_count": 272,
   "id": "a03b2ec7",
   "metadata": {},
   "outputs": [],
   "source": [
    "target_data=divorce_df.iloc[:,2:-5]"
   ]
  },
  {
   "cell_type": "code",
   "execution_count": 273,
   "id": "6694bee3",
   "metadata": {},
   "outputs": [
    {
     "data": {
      "text/plain": [
       "Index(['Man Age', 'Woman Age', 'Man's Education', 'Woman's Education',\n",
       "       'Man's Monthly Income', 'Woman's Working Status', 'Woman's Job Type',\n",
       "       'Family System', 'Relation with Spouse', 'No. of children',\n",
       "       'Husband Drug Status (yes, no)', 'Marriage Type', 'Reason of Divorce',\n",
       "       'Reasons from Man Sdie', 'Reasons'],\n",
       "      dtype='object')"
      ]
     },
     "execution_count": 273,
     "metadata": {},
     "output_type": "execute_result"
    }
   ],
   "source": [
    "target_data.columns"
   ]
  },
  {
   "cell_type": "code",
   "execution_count": 274,
   "id": "2055813b",
   "metadata": {},
   "outputs": [],
   "source": [
    "target_data.drop(['No. of children','Reason of Divorce',\n",
    "       'Reasons from Man Sdie'],axis=1,inplace=True)"
   ]
  },
  {
   "cell_type": "code",
   "execution_count": null,
   "id": "e0d94d7f",
   "metadata": {},
   "outputs": [],
   "source": []
  },
  {
   "cell_type": "code",
   "execution_count": 275,
   "id": "cada56dd",
   "metadata": {},
   "outputs": [],
   "source": [
    "target_data['Husband Drug Status (yes, no)']=target_data['Husband Drug Status (yes, no)'].apply(lambda x: 0 if x=='Yes' else 1 )"
   ]
  },
  {
   "cell_type": "code",
   "execution_count": 276,
   "id": "b6a0b7a1",
   "metadata": {},
   "outputs": [],
   "source": [
    "target_data['Woman\\'s Working Status']=target_data['Woman\\'s Working Status'].apply(lambda x: 0 if x=='House wife' else 1 )"
   ]
  },
  {
   "cell_type": "code",
   "execution_count": 277,
   "id": "6de1d10b",
   "metadata": {},
   "outputs": [],
   "source": [
    "target_data['Woman\\'s Job Type']=target_data['Woman\\'s Job Type'].apply(lambda x: 0 if x=='N\\A' else 1 )"
   ]
  },
  {
   "cell_type": "code",
   "execution_count": 278,
   "id": "6ced67fd",
   "metadata": {},
   "outputs": [],
   "source": [
    "target_data['Family System']=target_data['Family System'].apply(lambda x: 0 if x=='Combine' else 1 )"
   ]
  },
  {
   "cell_type": "code",
   "execution_count": 279,
   "id": "ea390337",
   "metadata": {},
   "outputs": [],
   "source": [
    "target_data['Relation with Spouse']=target_data['Relation with Spouse'].apply(lambda x: 0 if x=='Unkown' else 1 )"
   ]
  },
  {
   "cell_type": "code",
   "execution_count": 280,
   "id": "2d04a23e",
   "metadata": {},
   "outputs": [],
   "source": [
    "target_data['Marriage Type']=target_data['Marriage Type'].apply(lambda x: 0 if x=='Arrange' else 1 )"
   ]
  },
  {
   "cell_type": "code",
   "execution_count": 281,
   "id": "881cb302",
   "metadata": {},
   "outputs": [
    {
     "data": {
      "text/html": [
       "<div>\n",
       "<style scoped>\n",
       "    .dataframe tbody tr th:only-of-type {\n",
       "        vertical-align: middle;\n",
       "    }\n",
       "\n",
       "    .dataframe tbody tr th {\n",
       "        vertical-align: top;\n",
       "    }\n",
       "\n",
       "    .dataframe thead th {\n",
       "        text-align: right;\n",
       "    }\n",
       "</style>\n",
       "<table border=\"1\" class=\"dataframe\">\n",
       "  <thead>\n",
       "    <tr style=\"text-align: right;\">\n",
       "      <th></th>\n",
       "      <th>Man Age</th>\n",
       "      <th>Woman Age</th>\n",
       "      <th>Man's Education</th>\n",
       "      <th>Woman's Education</th>\n",
       "      <th>Man's Monthly Income</th>\n",
       "      <th>Woman's Working Status</th>\n",
       "      <th>Woman's Job Type</th>\n",
       "      <th>Family System</th>\n",
       "      <th>Relation with Spouse</th>\n",
       "      <th>Husband Drug Status (yes, no)</th>\n",
       "      <th>Marriage Type</th>\n",
       "      <th>Reasons</th>\n",
       "    </tr>\n",
       "  </thead>\n",
       "  <tbody>\n",
       "    <tr>\n",
       "      <th>0</th>\n",
       "      <td>22</td>\n",
       "      <td>18</td>\n",
       "      <td>5</td>\n",
       "      <td>5</td>\n",
       "      <td>20000</td>\n",
       "      <td>0</td>\n",
       "      <td>0</td>\n",
       "      <td>0</td>\n",
       "      <td>0</td>\n",
       "      <td>1</td>\n",
       "      <td>0</td>\n",
       "      <td>intervention of wife family ,dead threats to w...</td>\n",
       "    </tr>\n",
       "    <tr>\n",
       "      <th>1</th>\n",
       "      <td>24</td>\n",
       "      <td>24</td>\n",
       "      <td>10</td>\n",
       "      <td>16</td>\n",
       "      <td>90000</td>\n",
       "      <td>1</td>\n",
       "      <td>1</td>\n",
       "      <td>1</td>\n",
       "      <td>1</td>\n",
       "      <td>1</td>\n",
       "      <td>1</td>\n",
       "      <td>no child,financial problems,, job lost</td>\n",
       "    </tr>\n",
       "  </tbody>\n",
       "</table>\n",
       "</div>"
      ],
      "text/plain": [
       "   Man Age  Woman Age  Man's Education  Woman's Education  \\\n",
       "0       22         18                5                  5   \n",
       "1       24         24               10                 16   \n",
       "\n",
       "   Man's Monthly Income  Woman's Working Status  Woman's Job Type  \\\n",
       "0                 20000                       0                 0   \n",
       "1                 90000                       1                 1   \n",
       "\n",
       "   Family System  Relation with Spouse  Husband Drug Status (yes, no)  \\\n",
       "0              0                     0                              1   \n",
       "1              1                     1                              1   \n",
       "\n",
       "   Marriage Type                                            Reasons  \n",
       "0              0  intervention of wife family ,dead threats to w...  \n",
       "1              1             no child,financial problems,, job lost  "
      ]
     },
     "execution_count": 281,
     "metadata": {},
     "output_type": "execute_result"
    }
   ],
   "source": [
    "target_data.head(2)"
   ]
  },
  {
   "cell_type": "code",
   "execution_count": 282,
   "id": "38c76d0c",
   "metadata": {},
   "outputs": [
    {
     "data": {
      "text/plain": [
       "Man Age                          0\n",
       "Woman Age                        0\n",
       "Man's Education                  0\n",
       "Woman's Education                0\n",
       "Man's Monthly Income             0\n",
       "Woman's Working Status           0\n",
       "Woman's Job Type                 0\n",
       "Family System                    0\n",
       "Relation with Spouse             0\n",
       "Husband Drug Status (yes, no)    0\n",
       "Marriage Type                    0\n",
       "Reasons                          0\n",
       "dtype: int64"
      ]
     },
     "execution_count": 282,
     "metadata": {},
     "output_type": "execute_result"
    }
   ],
   "source": [
    "target_data.isnull().sum()"
   ]
  },
  {
   "cell_type": "code",
   "execution_count": 283,
   "id": "d655c65d",
   "metadata": {},
   "outputs": [],
   "source": [
    "target_data['lable']=0"
   ]
  },
  {
   "cell_type": "code",
   "execution_count": 284,
   "id": "6db36db8",
   "metadata": {},
   "outputs": [],
   "source": [
    "from sklearn.feature_extraction.text import CountVectorizer"
   ]
  },
  {
   "cell_type": "code",
   "execution_count": 285,
   "id": "0a2612fa",
   "metadata": {},
   "outputs": [],
   "source": [
    "########################################################################################################"
   ]
  },
  {
   "cell_type": "code",
   "execution_count": 286,
   "id": "0419fae8",
   "metadata": {},
   "outputs": [],
   "source": [
    "success_df=pd.read_excel('Success Full Marriage Analysis.xlsx')"
   ]
  },
  {
   "cell_type": "code",
   "execution_count": 287,
   "id": "0c0ebda7",
   "metadata": {},
   "outputs": [
    {
     "data": {
      "text/plain": [
       "Gender                                                  0\n",
       "Boy's City                                              3\n",
       "Girl's City                                             1\n",
       "Boy's Age (Agr apko idea ha)                            0\n",
       "Girl's Age (Agr apko idea ha)                           0\n",
       "Boy's Education                                         0\n",
       "Girl's Education                                        0\n",
       "Boy's Monthly Income                                    0\n",
       "Girl's status (house wife, job holder)                  0\n",
       "Woman's Job Type                                        0\n",
       "Family System                                           0\n",
       "Relation with Spouse                                    0\n",
       "No of children                                         15\n",
       "Husband Drug Status (yes, no)                           0\n",
       "Marriage Type                                           0\n",
       "Span of Marriage Life(Shaadi ko kitny saal ho gaye)     0\n",
       "Marriage No (First, 2nd, 3rd marriage)                  0\n",
       "Why your marriage is Successful?                        0\n",
       "Submission ID                                           0\n",
       "Reasons                                                 0\n",
       "dtype: int64"
      ]
     },
     "execution_count": 287,
     "metadata": {},
     "output_type": "execute_result"
    }
   ],
   "source": [
    "success_df.isnull().sum()"
   ]
  },
  {
   "cell_type": "code",
   "execution_count": 288,
   "id": "2a7ef19c",
   "metadata": {},
   "outputs": [],
   "source": [
    "success_df=success_df.iloc[:,3:]"
   ]
  },
  {
   "cell_type": "code",
   "execution_count": 289,
   "id": "997bb43b",
   "metadata": {},
   "outputs": [
    {
     "data": {
      "text/plain": [
       "Index(['Boy's Age (Agr apko idea ha)', 'Girl's Age (Agr apko idea ha)',\n",
       "       'Boy's Education', 'Girl's Education', 'Boy's Monthly Income',\n",
       "       'Girl's status (house wife, job holder)', 'Woman's Job Type',\n",
       "       'Family System', 'Relation with Spouse', 'No of children',\n",
       "       'Husband Drug Status (yes, no)', 'Marriage Type',\n",
       "       'Span of Marriage Life(Shaadi ko kitny saal ho gaye)',\n",
       "       'Marriage No (First, 2nd, 3rd marriage)',\n",
       "       'Why your marriage is Successful?', 'Submission ID', 'Reasons'],\n",
       "      dtype='object')"
      ]
     },
     "execution_count": 289,
     "metadata": {},
     "output_type": "execute_result"
    }
   ],
   "source": [
    "success_df.columns"
   ]
  },
  {
   "cell_type": "code",
   "execution_count": 290,
   "id": "fe0fde54",
   "metadata": {},
   "outputs": [],
   "source": [
    "success_df['Husband Drug Status (yes, no)']=success_df['Husband Drug Status (yes, no)'].apply(lambda x: 0 if x=='Yes' else 1 )\n",
    "success_df['Girl\\'s status (house wife, job holder)']=success_df['Girl\\'s status (house wife, job holder)'].apply(lambda x: 0 if x=='House wife' else 1 )\n",
    "success_df['Woman\\'s Job Type']=success_df['Woman\\'s Job Type'].apply(lambda x: 0 if x=='N\\A' else 1 )\n",
    "success_df['Family System']=success_df['Family System'].apply(lambda x: 0 if x=='Combine' else 1 )\n",
    "success_df['Relation with Spouse']=success_df['Relation with Spouse'].apply(lambda x: 0 if x=='Unkown' else 1 )\n",
    "success_df['Marriage Type']=success_df['Marriage Type'].apply(lambda x: 0 if x=='Arrange' else 1 )"
   ]
  },
  {
   "cell_type": "code",
   "execution_count": 291,
   "id": "722697ee",
   "metadata": {},
   "outputs": [],
   "source": [
    "success_df['lable']=1"
   ]
  },
  {
   "cell_type": "code",
   "execution_count": 292,
   "id": "5515a175",
   "metadata": {},
   "outputs": [],
   "source": [
    "success_df.drop(['Marriage No (First, 2nd, 3rd marriage)','Submission ID'\n",
    "                 ,'No of children','Why your marriage is Successful?','Span of Marriage Life(Shaadi ko kitny saal ho gaye)'\n",
    "                ],axis=1,inplace=True)"
   ]
  },
  {
   "cell_type": "code",
   "execution_count": 293,
   "id": "c5489e93",
   "metadata": {},
   "outputs": [],
   "source": [
    "success_df.columns=target_data.columns"
   ]
  },
  {
   "cell_type": "code",
   "execution_count": 294,
   "id": "77aeb647",
   "metadata": {},
   "outputs": [],
   "source": [
    "df=pd.concat([success_df,target_data])"
   ]
  },
  {
   "cell_type": "code",
   "execution_count": 295,
   "id": "a43bf3be",
   "metadata": {},
   "outputs": [
    {
     "data": {
      "text/plain": [
       "Man Age                          0\n",
       "Woman Age                        0\n",
       "Man's Education                  0\n",
       "Woman's Education                0\n",
       "Man's Monthly Income             0\n",
       "Woman's Working Status           0\n",
       "Woman's Job Type                 0\n",
       "Family System                    0\n",
       "Relation with Spouse             0\n",
       "Husband Drug Status (yes, no)    0\n",
       "Marriage Type                    0\n",
       "Reasons                          0\n",
       "lable                            0\n",
       "dtype: int64"
      ]
     },
     "execution_count": 295,
     "metadata": {},
     "output_type": "execute_result"
    }
   ],
   "source": [
    "df.isnull().sum()"
   ]
  },
  {
   "cell_type": "code",
   "execution_count": 296,
   "id": "8046f50b",
   "metadata": {},
   "outputs": [],
   "source": [
    "sparse_df=vectorizer.fit_transform(df.Reasons)"
   ]
  },
  {
   "cell_type": "code",
   "execution_count": 297,
   "id": "11fdaa5b",
   "metadata": {},
   "outputs": [],
   "source": [
    "sparse_df = pd.DataFrame(sparse_df.toarray())"
   ]
  },
  {
   "cell_type": "code",
   "execution_count": 298,
   "id": "2d4b3cb1",
   "metadata": {},
   "outputs": [],
   "source": [
    "sparse_df=sparse_df.reset_index(drop=True)"
   ]
  },
  {
   "cell_type": "code",
   "execution_count": 299,
   "id": "abdaa32f",
   "metadata": {},
   "outputs": [],
   "source": [
    "df.drop('Reasons',axis=1,inplace=True)"
   ]
  },
  {
   "cell_type": "code",
   "execution_count": 300,
   "id": "9d64360d",
   "metadata": {},
   "outputs": [],
   "source": [
    "df=df.reset_index(drop=True)"
   ]
  },
  {
   "cell_type": "code",
   "execution_count": 301,
   "id": "a408ffb1",
   "metadata": {},
   "outputs": [],
   "source": [
    "df=pd.concat([df,sparse_df],axis=1)"
   ]
  },
  {
   "cell_type": "code",
   "execution_count": 302,
   "id": "d511ccc4",
   "metadata": {},
   "outputs": [],
   "source": [
    "df = df.sample(frac=1).reset_index(drop=True)"
   ]
  },
  {
   "cell_type": "code",
   "execution_count": 303,
   "id": "c8091afd",
   "metadata": {},
   "outputs": [],
   "source": [
    "X=df.drop('lable',axis=1)"
   ]
  },
  {
   "cell_type": "code",
   "execution_count": 304,
   "id": "21370142",
   "metadata": {},
   "outputs": [],
   "source": [
    "y=df['lable']"
   ]
  },
  {
   "cell_type": "code",
   "execution_count": 305,
   "id": "a0647679",
   "metadata": {},
   "outputs": [
    {
     "data": {
      "text/plain": [
       "0     0\n",
       "1     1\n",
       "2     1\n",
       "3     0\n",
       "4     0\n",
       "     ..\n",
       "64    0\n",
       "65    0\n",
       "66    1\n",
       "67    0\n",
       "68    1\n",
       "Name: lable, Length: 69, dtype: int64"
      ]
     },
     "execution_count": 305,
     "metadata": {},
     "output_type": "execute_result"
    }
   ],
   "source": [
    "y"
   ]
  },
  {
   "cell_type": "code",
   "execution_count": 309,
   "id": "3038e637",
   "metadata": {},
   "outputs": [],
   "source": [
    "import matplotlib.pyplot as plt"
   ]
  },
  {
   "cell_type": "code",
   "execution_count": 310,
   "id": "9e78257e",
   "metadata": {},
   "outputs": [],
   "source": [
    "from sklearn.model_selection import train_test_split"
   ]
  },
  {
   "cell_type": "code",
   "execution_count": 311,
   "id": "44ef3ce3",
   "metadata": {},
   "outputs": [],
   "source": [
    "X_train,X_test,y_train,y_test=train_test_split(X,y,test_size=0.2,stratify=y,random_state=23)"
   ]
  },
  {
   "cell_type": "code",
   "execution_count": 312,
   "id": "c61c1450",
   "metadata": {},
   "outputs": [
    {
     "name": "stderr",
     "output_type": "stream",
     "text": [
      "c:\\users\\zee tech\\appdata\\local\\programs\\python\\python39\\lib\\site-packages\\sklearn\\utils\\validation.py:1858: FutureWarning: Feature names only support names that are all strings. Got feature names with dtypes: ['int', 'str']. An error will be raised in 1.2.\n",
      "  warnings.warn(\n",
      "c:\\users\\zee tech\\appdata\\local\\programs\\python\\python39\\lib\\site-packages\\sklearn\\utils\\validation.py:1858: FutureWarning: Feature names only support names that are all strings. Got feature names with dtypes: ['int', 'str']. An error will be raised in 1.2.\n",
      "  warnings.warn(\n",
      "c:\\users\\zee tech\\appdata\\local\\programs\\python\\python39\\lib\\site-packages\\sklearn\\metrics\\_classification.py:1334: UndefinedMetricWarning: Precision is ill-defined and being set to 0.0 in labels with no predicted samples. Use `zero_division` parameter to control this behavior.\n",
      "  _warn_prf(average, modifier, msg_start, len(result))\n",
      "c:\\users\\zee tech\\appdata\\local\\programs\\python\\python39\\lib\\site-packages\\sklearn\\metrics\\_classification.py:1334: UndefinedMetricWarning: Precision and F-score are ill-defined and being set to 0.0 in labels with no predicted samples. Use `zero_division` parameter to control this behavior.\n",
      "  _warn_prf(average, modifier, msg_start, len(result))\n",
      "c:\\users\\zee tech\\appdata\\local\\programs\\python\\python39\\lib\\site-packages\\sklearn\\metrics\\_classification.py:1334: UndefinedMetricWarning: Precision and F-score are ill-defined and being set to 0.0 in labels with no predicted samples. Use `zero_division` parameter to control this behavior.\n",
      "  _warn_prf(average, modifier, msg_start, len(result))\n",
      "c:\\users\\zee tech\\appdata\\local\\programs\\python\\python39\\lib\\site-packages\\sklearn\\metrics\\_classification.py:1334: UndefinedMetricWarning: Precision and F-score are ill-defined and being set to 0.0 in labels with no predicted samples. Use `zero_division` parameter to control this behavior.\n",
      "  _warn_prf(average, modifier, msg_start, len(result))\n",
      "c:\\users\\zee tech\\appdata\\local\\programs\\python\\python39\\lib\\site-packages\\sklearn\\utils\\deprecation.py:87: FutureWarning: Function plot_confusion_matrix is deprecated; Function `plot_confusion_matrix` is deprecated in 1.0 and will be removed in 1.2. Use one of the class methods: ConfusionMatrixDisplay.from_predictions or ConfusionMatrixDisplay.from_estimator.\n",
      "  warnings.warn(msg, category=FutureWarning)\n",
      "c:\\users\\zee tech\\appdata\\local\\programs\\python\\python39\\lib\\site-packages\\sklearn\\utils\\validation.py:1858: FutureWarning: Feature names only support names that are all strings. Got feature names with dtypes: ['int', 'str']. An error will be raised in 1.2.\n",
      "  warnings.warn(\n"
     ]
    },
    {
     "name": "stdout",
     "output_type": "stream",
     "text": [
      "+ ==================================================================================================== +\n",
      "\u001b[1m\t\t\t1-For Support Vector Classifier The Performance result is: \u001b[0m\n",
      "+ ==================================================================================================== +\n",
      "Accuracy :  0.5714285714285714\n",
      "--------------------------------------------------\n",
      "F1 :  [0.         0.72727273]\n",
      "--------------------------------------------------\n",
      "Reacll :  [0. 1.]\n",
      "--------------------------------------------------\n",
      "Precision :  [0.         0.57142857]\n",
      "--------------------------------------------------\n",
      "cross validation accuracy :  0.4956043956043956\n",
      "--------------------------------------------------\n",
      "Confusion Matrix....\n",
      " [[0 6]\n",
      " [0 8]]\n",
      "--------------------------------------------------\n",
      "Classification Report....\n",
      "               precision    recall  f1-score   support\n",
      "\n",
      "           0       0.00      0.00      0.00         6\n",
      "           1       0.57      1.00      0.73         8\n",
      "\n",
      "    accuracy                           0.57        14\n",
      "   macro avg       0.29      0.50      0.36        14\n",
      "weighted avg       0.33      0.57      0.42        14\n",
      "\n",
      "--------------------------------------------------\n",
      "Plotting Confusion Matrix...\n",
      "\n"
     ]
    },
    {
     "data": {
      "image/png": "[encoded data removed]",
      "text/plain": [
       "<Figure size 432x288 with 2 Axes>"
      ]
     },
     "metadata": {
      "needs_background": "light"
     },
     "output_type": "display_data"
    },
    {
     "name": "stdout",
     "output_type": "stream",
     "text": [
      "\t\t\t\t\t\t\t-----------------------------------------------------------\n",
      "\t\t\t\t\t\t\t Time for detection (Support Vector Classifier) : 0.285 seconds...\n",
      "\t\t\t\t\t\t\t-----------------------------------------------------------\n",
      "\n"
     ]
    },
    {
     "name": "stderr",
     "output_type": "stream",
     "text": [
      "c:\\users\\zee tech\\appdata\\local\\programs\\python\\python39\\lib\\site-packages\\sklearn\\utils\\validation.py:1858: FutureWarning: Feature names only support names that are all strings. Got feature names with dtypes: ['int', 'str']. An error will be raised in 1.2.\n",
      "  warnings.warn(\n",
      "c:\\users\\zee tech\\appdata\\local\\programs\\python\\python39\\lib\\site-packages\\sklearn\\linear_model\\_logistic.py:444: ConvergenceWarning: lbfgs failed to converge (status=1):\n",
      "STOP: TOTAL NO. of ITERATIONS REACHED LIMIT.\n",
      "\n",
      "Increase the number of iterations (max_iter) or scale the data as shown in:\n",
      "    https://scikit-learn.org/stable/modules/preprocessing.html\n",
      "Please also refer to the documentation for alternative solver options:\n",
      "    https://scikit-learn.org/stable/modules/linear_model.html#logistic-regression\n",
      "  n_iter_i = _check_optimize_result(\n",
      "c:\\users\\zee tech\\appdata\\local\\programs\\python\\python39\\lib\\site-packages\\sklearn\\utils\\validation.py:1858: FutureWarning: Feature names only support names that are all strings. Got feature names with dtypes: ['int', 'str']. An error will be raised in 1.2.\n",
      "  warnings.warn(\n",
      "c:\\users\\zee tech\\appdata\\local\\programs\\python\\python39\\lib\\site-packages\\sklearn\\utils\\deprecation.py:87: FutureWarning: Function plot_confusion_matrix is deprecated; Function `plot_confusion_matrix` is deprecated in 1.0 and will be removed in 1.2. Use one of the class methods: ConfusionMatrixDisplay.from_predictions or ConfusionMatrixDisplay.from_estimator.\n",
      "  warnings.warn(msg, category=FutureWarning)\n",
      "c:\\users\\zee tech\\appdata\\local\\programs\\python\\python39\\lib\\site-packages\\sklearn\\utils\\validation.py:1858: FutureWarning: Feature names only support names that are all strings. Got feature names with dtypes: ['int', 'str']. An error will be raised in 1.2.\n",
      "  warnings.warn(\n"
     ]
    },
    {
     "name": "stdout",
     "output_type": "stream",
     "text": [
      "+ ==================================================================================================== +\n",
      "\u001b[1m\t\t\t2-For LogisitcRegression The Performance result is: \u001b[0m\n",
      "+ ==================================================================================================== +\n",
      "Accuracy :  0.9285714285714286\n",
      "--------------------------------------------------\n",
      "F1 :  [0.92307692 0.93333333]\n",
      "--------------------------------------------------\n",
      "Reacll :  [1.    0.875]\n",
      "--------------------------------------------------\n",
      "Precision :  [0.85714286 1.        ]\n",
      "--------------------------------------------------\n",
      "cross validation accuracy :  0.8241758241758242\n",
      "--------------------------------------------------\n",
      "Confusion Matrix....\n",
      " [[6 0]\n",
      " [1 7]]\n",
      "--------------------------------------------------\n",
      "Classification Report....\n",
      "               precision    recall  f1-score   support\n",
      "\n",
      "           0       0.86      1.00      0.92         6\n",
      "           1       1.00      0.88      0.93         8\n",
      "\n",
      "    accuracy                           0.93        14\n",
      "   macro avg       0.93      0.94      0.93        14\n",
      "weighted avg       0.94      0.93      0.93        14\n",
      "\n",
      "--------------------------------------------------\n",
      "Plotting Confusion Matrix...\n",
      "\n"
     ]
    },
    {
     "data": {
      "image/png": "[encoded data removed]",
      "text/plain": [
       "<Figure size 432x288 with 2 Axes>"
      ]
     },
     "metadata": {
      "needs_background": "light"
     },
     "output_type": "display_data"
    },
    {
     "name": "stdout",
     "output_type": "stream",
     "text": [
      "\t\t\t\t\t\t\t-----------------------------------------------------------\n",
      "\t\t\t\t\t\t\t Time for detection (LogisitcRegression) : 0.633 seconds...\n",
      "\t\t\t\t\t\t\t-----------------------------------------------------------\n",
      "\n",
      "+"
     ]
    },
    {
     "name": "stderr",
     "output_type": "stream",
     "text": [
      "c:\\users\\zee tech\\appdata\\local\\programs\\python\\python39\\lib\\site-packages\\sklearn\\utils\\validation.py:1858: FutureWarning: Feature names only support names that are all strings. Got feature names with dtypes: ['int', 'str']. An error will be raised in 1.2.\n",
      "  warnings.warn(\n",
      "c:\\users\\zee tech\\appdata\\local\\programs\\python\\python39\\lib\\site-packages\\sklearn\\utils\\validation.py:1858: FutureWarning: Feature names only support names that are all strings. Got feature names with dtypes: ['int', 'str']. An error will be raised in 1.2.\n",
      "  warnings.warn(\n"
     ]
    },
    {
     "name": "stdout",
     "output_type": "stream",
     "text": [
      " ==================================================================================================== +\n",
      "\u001b[1m\t\t\t3-For KNeighborsClassifier The Performance result is: \u001b[0m\n",
      "+ ==================================================================================================== +\n",
      "Accuracy :  0.7142857142857143\n",
      "--------------------------------------------------\n",
      "F1 :  [0.5 0.8]\n",
      "--------------------------------------------------\n",
      "Reacll :  [0.33333333 1.        ]\n",
      "--------------------------------------------------\n",
      "Precision :  [1.         0.66666667]\n",
      "--------------------------------------------------\n",
      "cross validation accuracy :  0.6252747252747253\n",
      "--------------------------------------------------\n",
      "Confusion Matrix....\n",
      " [[2 4]\n",
      " [0 8]]\n",
      "--------------------------------------------------\n",
      "Classification Report....\n",
      "               precision    recall  f1-score   support\n",
      "\n",
      "           0       1.00      0.33      0.50         6\n",
      "           1       0.67      1.00      0.80         8\n",
      "\n",
      "    accuracy                           0.71        14\n",
      "   macro avg       0.83      0.67      0.65        14\n",
      "weighted avg       0.81      0.71      0.67        14\n",
      "\n",
      "--------------------------------------------------\n",
      "Plotting Confusion Matrix...\n",
      "\n"
     ]
    },
    {
     "name": "stderr",
     "output_type": "stream",
     "text": [
      "c:\\users\\zee tech\\appdata\\local\\programs\\python\\python39\\lib\\site-packages\\sklearn\\utils\\deprecation.py:87: FutureWarning: Function plot_confusion_matrix is deprecated; Function `plot_confusion_matrix` is deprecated in 1.0 and will be removed in 1.2. Use one of the class methods: ConfusionMatrixDisplay.from_predictions or ConfusionMatrixDisplay.from_estimator.\n",
      "  warnings.warn(msg, category=FutureWarning)\n",
      "c:\\users\\zee tech\\appdata\\local\\programs\\python\\python39\\lib\\site-packages\\sklearn\\utils\\validation.py:1858: FutureWarning: Feature names only support names that are all strings. Got feature names with dtypes: ['int', 'str']. An error will be raised in 1.2.\n",
      "  warnings.warn(\n"
     ]
    },
    {
     "data": {
      "image/png": "[encoded data removed]",
      "text/plain": [
       "<Figure size 432x288 with 2 Axes>"
      ]
     },
     "metadata": {
      "needs_background": "light"
     },
     "output_type": "display_data"
    },
    {
     "name": "stderr",
     "output_type": "stream",
     "text": [
      "c:\\users\\zee tech\\appdata\\local\\programs\\python\\python39\\lib\\site-packages\\sklearn\\utils\\validation.py:1858: FutureWarning: Feature names only support names that are all strings. Got feature names with dtypes: ['int', 'str']. An error will be raised in 1.2.\n",
      "  warnings.warn(\n"
     ]
    },
    {
     "name": "stdout",
     "output_type": "stream",
     "text": [
      "\t\t\t\t\t\t\t-----------------------------------------------------------\n",
      "\t\t\t\t\t\t\t Time for detection (KNeighborsClassifier) : 0.397 seconds...\n",
      "\t\t\t\t\t\t\t-----------------------------------------------------------\n",
      "\n"
     ]
    },
    {
     "name": "stderr",
     "output_type": "stream",
     "text": [
      "c:\\users\\zee tech\\appdata\\local\\programs\\python\\python39\\lib\\site-packages\\sklearn\\utils\\validation.py:1858: FutureWarning: Feature names only support names that are all strings. Got feature names with dtypes: ['int', 'str']. An error will be raised in 1.2.\n",
      "  warnings.warn(\n"
     ]
    },
    {
     "name": "stdout",
     "output_type": "stream",
     "text": [
      "+ ==================================================================================================== +\n",
      "\u001b[1m\t\t\t4-For RandomForestClassifier The Performance result is: \u001b[0m\n",
      "+ ==================================================================================================== +\n",
      "Accuracy :  0.9285714285714286\n",
      "--------------------------------------------------\n",
      "F1 :  [0.90909091 0.94117647]\n",
      "--------------------------------------------------\n",
      "Reacll :  [0.83333333 1.        ]\n",
      "--------------------------------------------------\n",
      "Precision :  [1.         0.88888889]\n",
      "--------------------------------------------------\n",
      "cross validation accuracy :  0.9571428571428571\n",
      "--------------------------------------------------\n",
      "Confusion Matrix....\n",
      " [[5 1]\n",
      " [0 8]]\n",
      "--------------------------------------------------\n",
      "Classification Report....\n",
      "               precision    recall  f1-score   support\n",
      "\n",
      "           0       1.00      0.83      0.91         6\n",
      "           1       0.89      1.00      0.94         8\n",
      "\n",
      "    accuracy                           0.93        14\n",
      "   macro avg       0.94      0.92      0.93        14\n",
      "weighted avg       0.94      0.93      0.93        14\n",
      "\n",
      "--------------------------------------------------\n",
      "Plotting Confusion Matrix...\n",
      "\n"
     ]
    },
    {
     "name": "stderr",
     "output_type": "stream",
     "text": [
      "c:\\users\\zee tech\\appdata\\local\\programs\\python\\python39\\lib\\site-packages\\sklearn\\utils\\deprecation.py:87: FutureWarning: Function plot_confusion_matrix is deprecated; Function `plot_confusion_matrix` is deprecated in 1.0 and will be removed in 1.2. Use one of the class methods: ConfusionMatrixDisplay.from_predictions or ConfusionMatrixDisplay.from_estimator.\n",
      "  warnings.warn(msg, category=FutureWarning)\n",
      "c:\\users\\zee tech\\appdata\\local\\programs\\python\\python39\\lib\\site-packages\\sklearn\\utils\\validation.py:1858: FutureWarning: Feature names only support names that are all strings. Got feature names with dtypes: ['int', 'str']. An error will be raised in 1.2.\n",
      "  warnings.warn(\n"
     ]
    },
    {
     "data": {
      "image/png": "[encoded data removed]",
      "text/plain": [
       "<Figure size 432x288 with 2 Axes>"
      ]
     },
     "metadata": {
      "needs_background": "light"
     },
     "output_type": "display_data"
    },
    {
     "name": "stdout",
     "output_type": "stream",
     "text": [
      "\t\t\t\t\t\t\t-----------------------------------------------------------\n",
      "\t\t\t\t\t\t\t Time for detection (RandomForestClassifier) : 1.146 seconds...\n",
      "\t\t\t\t\t\t\t-----------------------------------------------------------\n",
      "\n"
     ]
    },
    {
     "name": "stderr",
     "output_type": "stream",
     "text": [
      "c:\\users\\zee tech\\appdata\\local\\programs\\python\\python39\\lib\\site-packages\\sklearn\\utils\\validation.py:1858: FutureWarning: Feature names only support names that are all strings. Got feature names with dtypes: ['int', 'str']. An error will be raised in 1.2.\n",
      "  warnings.warn(\n",
      "c:\\users\\zee tech\\appdata\\local\\programs\\python\\python39\\lib\\site-packages\\sklearn\\utils\\validation.py:1858: FutureWarning: Feature names only support names that are all strings. Got feature names with dtypes: ['int', 'str']. An error will be raised in 1.2.\n",
      "  warnings.warn(\n"
     ]
    },
    {
     "name": "stdout",
     "output_type": "stream",
     "text": [
      "+ ==================================================================================================== +\n",
      "\u001b[1m\t\t\t5-For AdaBoostClassifier The Performance result is: \u001b[0m\n",
      "+ ==================================================================================================== +\n",
      "Accuracy :  0.9285714285714286\n",
      "--------------------------------------------------\n",
      "F1 :  [0.90909091 0.94117647]\n",
      "--------------------------------------------------\n",
      "Reacll :  [0.83333333 1.        ]\n",
      "--------------------------------------------------\n",
      "Precision :  [1.         0.88888889]\n",
      "--------------------------------------------------\n",
      "cross validation accuracy :  0.9428571428571428\n",
      "--------------------------------------------------\n",
      "Confusion Matrix....\n",
      " [[5 1]\n",
      " [0 8]]\n",
      "--------------------------------------------------\n",
      "Classification Report....\n",
      "               precision    recall  f1-score   support\n",
      "\n",
      "           0       1.00      0.83      0.91         6\n",
      "           1       0.89      1.00      0.94         8\n",
      "\n",
      "    accuracy                           0.93        14\n",
      "   macro avg       0.94      0.92      0.93        14\n",
      "weighted avg       0.94      0.93      0.93        14\n",
      "\n",
      "--------------------------------------------------\n",
      "Plotting Confusion Matrix...\n",
      "\n"
     ]
    },
    {
     "name": "stderr",
     "output_type": "stream",
     "text": [
      "c:\\users\\zee tech\\appdata\\local\\programs\\python\\python39\\lib\\site-packages\\sklearn\\utils\\deprecation.py:87: FutureWarning: Function plot_confusion_matrix is deprecated; Function `plot_confusion_matrix` is deprecated in 1.0 and will be removed in 1.2. Use one of the class methods: ConfusionMatrixDisplay.from_predictions or ConfusionMatrixDisplay.from_estimator.\n",
      "  warnings.warn(msg, category=FutureWarning)\n",
      "c:\\users\\zee tech\\appdata\\local\\programs\\python\\python39\\lib\\site-packages\\sklearn\\utils\\validation.py:1858: FutureWarning: Feature names only support names that are all strings. Got feature names with dtypes: ['int', 'str']. An error will be raised in 1.2.\n",
      "  warnings.warn(\n"
     ]
    },
    {
     "data": {
      "image/png": "[encoded data removed]",
      "text/plain": [
       "<Figure size 432x288 with 2 Axes>"
      ]
     },
     "metadata": {
      "needs_background": "light"
     },
     "output_type": "display_data"
    },
    {
     "name": "stdout",
     "output_type": "stream",
     "text": [
      "\t\t\t\t\t\t\t-----------------------------------------------------------\n",
      "\t\t\t\t\t\t\t Time for detection (AdaBoostClassifier) : 0.737 seconds...\n",
      "\t\t\t\t\t\t\t-----------------------------------------------------------\n",
      "\n",
      "+ ==================================================================================================== +\n",
      "\u001b[1m\t\t\t6-For DecisionTreeClassifier The Performance result is: \u001b[0m\n",
      "+ ==================================================================================================== +\n",
      "Accuracy :  1.0\n",
      "--------------------------------------------------\n",
      "F1 :  [1. 1.]\n",
      "--------------------------------------------------\n",
      "Reacll :  [1. 1.]\n",
      "--------------------------------------------------\n",
      "Precision :  [1. 1.]\n",
      "--------------------------------------------------\n",
      "cross validation accuracy :  0.8989010989010989\n",
      "--------------------------------------------------\n",
      "Confusion Matrix....\n",
      " [[6 0]\n",
      " [0 8]]\n",
      "--------------------------------------------------\n",
      "Classification Report....\n",
      "               precision    recall  f1-score   support\n",
      "\n",
      "           0       1.00      1.00      1.00         6\n",
      "           1       1.00      1.00      1.00         8\n",
      "\n",
      "    accuracy                           1.00        14\n",
      "   macro avg       1.00      1.00      1.00        14\n",
      "weighted avg       1.00      1.00      1.00        14\n",
      "\n",
      "--------------------------------------------------\n",
      "Plotting Confusion Matrix...\n",
      "\n"
     ]
    },
    {
     "name": "stderr",
     "output_type": "stream",
     "text": [
      "c:\\users\\zee tech\\appdata\\local\\programs\\python\\python39\\lib\\site-packages\\sklearn\\utils\\validation.py:1858: FutureWarning: Feature names only support names that are all strings. Got feature names with dtypes: ['int', 'str']. An error will be raised in 1.2.\n",
      "  warnings.warn(\n",
      "c:\\users\\zee tech\\appdata\\local\\programs\\python\\python39\\lib\\site-packages\\sklearn\\utils\\validation.py:1858: FutureWarning: Feature names only support names that are all strings. Got feature names with dtypes: ['int', 'str']. An error will be raised in 1.2.\n",
      "  warnings.warn(\n",
      "c:\\users\\zee tech\\appdata\\local\\programs\\python\\python39\\lib\\site-packages\\sklearn\\utils\\deprecation.py:87: FutureWarning: Function plot_confusion_matrix is deprecated; Function `plot_confusion_matrix` is deprecated in 1.0 and will be removed in 1.2. Use one of the class methods: ConfusionMatrixDisplay.from_predictions or ConfusionMatrixDisplay.from_estimator.\n",
      "  warnings.warn(msg, category=FutureWarning)\n",
      "c:\\users\\zee tech\\appdata\\local\\programs\\python\\python39\\lib\\site-packages\\sklearn\\utils\\validation.py:1858: FutureWarning: Feature names only support names that are all strings. Got feature names with dtypes: ['int', 'str']. An error will be raised in 1.2.\n",
      "  warnings.warn(\n"
     ]
    },
    {
     "data": {
      "image/png": "[encoded data removed]",
      "text/plain": [
       "<Figure size 432x288 with 2 Axes>"
      ]
     },
     "metadata": {
      "needs_background": "light"
     },
     "output_type": "display_data"
    },
    {
     "name": "stdout",
     "output_type": "stream",
     "text": [
      "\t\t\t\t\t\t\t-----------------------------------------------------------\n",
      "\t\t\t\t\t\t\t Time for detection (DecisionTreeClassifier) : 0.248 seconds...\n",
      "\t\t\t\t\t\t\t-----------------------------------------------------------\n",
      "\n"
     ]
    },
    {
     "data": {
      "text/html": [
       "<div>\n",
       "<style scoped>\n",
       "    .dataframe tbody tr th:only-of-type {\n",
       "        vertical-align: middle;\n",
       "    }\n",
       "\n",
       "    .dataframe tbody tr th {\n",
       "        vertical-align: top;\n",
       "    }\n",
       "\n",
       "    .dataframe thead th {\n",
       "        text-align: right;\n",
       "    }\n",
       "</style>\n",
       "<table border=\"1\" class=\"dataframe\">\n",
       "  <thead>\n",
       "    <tr style=\"text-align: right;\">\n",
       "      <th></th>\n",
       "      <th>Model</th>\n",
       "      <th>Accuracy</th>\n",
       "      <th>Precision</th>\n",
       "      <th>Recall</th>\n",
       "      <th>F1_Score</th>\n",
       "      <th>Confusion Matrix</th>\n",
       "    </tr>\n",
       "  </thead>\n",
       "  <tbody>\n",
       "    <tr>\n",
       "      <th>0</th>\n",
       "      <td>Support Vector Classifier</td>\n",
       "      <td>0.571429</td>\n",
       "      <td>[0.0, 0.5714285714285714]</td>\n",
       "      <td>[0.0, 1.0]</td>\n",
       "      <td>[0.0, 0.7272727272727273]</td>\n",
       "      <td>[[0, 6], [0, 8]]</td>\n",
       "    </tr>\n",
       "    <tr>\n",
       "      <th>1</th>\n",
       "      <td>LogisitcRegression</td>\n",
       "      <td>0.928571</td>\n",
       "      <td>[0.8571428571428571, 1.0]</td>\n",
       "      <td>[1.0, 0.875]</td>\n",
       "      <td>[0.923076923076923, 0.9333333333333333]</td>\n",
       "      <td>[[6, 0], [1, 7]]</td>\n",
       "    </tr>\n",
       "    <tr>\n",
       "      <th>2</th>\n",
       "      <td>KNeighborsClassifier</td>\n",
       "      <td>0.714286</td>\n",
       "      <td>[1.0, 0.6666666666666666]</td>\n",
       "      <td>[0.3333333333333333, 1.0]</td>\n",
       "      <td>[0.5, 0.8]</td>\n",
       "      <td>[[2, 4], [0, 8]]</td>\n",
       "    </tr>\n",
       "    <tr>\n",
       "      <th>3</th>\n",
       "      <td>RandomForestClassifier</td>\n",
       "      <td>0.928571</td>\n",
       "      <td>[1.0, 0.8888888888888888]</td>\n",
       "      <td>[0.8333333333333334, 1.0]</td>\n",
       "      <td>[0.9090909090909091, 0.9411764705882353]</td>\n",
       "      <td>[[5, 1], [0, 8]]</td>\n",
       "    </tr>\n",
       "    <tr>\n",
       "      <th>4</th>\n",
       "      <td>AdaBoostClassifier</td>\n",
       "      <td>0.928571</td>\n",
       "      <td>[1.0, 0.8888888888888888]</td>\n",
       "      <td>[0.8333333333333334, 1.0]</td>\n",
       "      <td>[0.9090909090909091, 0.9411764705882353]</td>\n",
       "      <td>[[5, 1], [0, 8]]</td>\n",
       "    </tr>\n",
       "    <tr>\n",
       "      <th>5</th>\n",
       "      <td>DecisionTreeClassifier</td>\n",
       "      <td>1.000000</td>\n",
       "      <td>[1.0, 1.0]</td>\n",
       "      <td>[1.0, 1.0]</td>\n",
       "      <td>[1.0, 1.0]</td>\n",
       "      <td>[[6, 0], [0, 8]]</td>\n",
       "    </tr>\n",
       "  </tbody>\n",
       "</table>\n",
       "</div>"
      ],
      "text/plain": [
       "                       Model  Accuracy                  Precision  \\\n",
       "0  Support Vector Classifier  0.571429  [0.0, 0.5714285714285714]   \n",
       "1         LogisitcRegression  0.928571  [0.8571428571428571, 1.0]   \n",
       "2       KNeighborsClassifier  0.714286  [1.0, 0.6666666666666666]   \n",
       "3     RandomForestClassifier  0.928571  [1.0, 0.8888888888888888]   \n",
       "4         AdaBoostClassifier  0.928571  [1.0, 0.8888888888888888]   \n",
       "5     DecisionTreeClassifier  1.000000                 [1.0, 1.0]   \n",
       "\n",
       "                      Recall                                  F1_Score  \\\n",
       "0                 [0.0, 1.0]                 [0.0, 0.7272727272727273]   \n",
       "1               [1.0, 0.875]   [0.923076923076923, 0.9333333333333333]   \n",
       "2  [0.3333333333333333, 1.0]                                [0.5, 0.8]   \n",
       "3  [0.8333333333333334, 1.0]  [0.9090909090909091, 0.9411764705882353]   \n",
       "4  [0.8333333333333334, 1.0]  [0.9090909090909091, 0.9411764705882353]   \n",
       "5                 [1.0, 1.0]                                [1.0, 1.0]   \n",
       "\n",
       "   Confusion Matrix  \n",
       "0  [[0, 6], [0, 8]]  \n",
       "1  [[6, 0], [1, 7]]  \n",
       "2  [[2, 4], [0, 8]]  \n",
       "3  [[5, 1], [0, 8]]  \n",
       "4  [[5, 1], [0, 8]]  \n",
       "5  [[6, 0], [0, 8]]  "
      ]
     },
     "execution_count": 312,
     "metadata": {},
     "output_type": "execute_result"
    }
   ],
   "source": [
    "# Importing Models\n",
    "from sklearn.linear_model import LogisticRegression\n",
    "from sklearn.model_selection import KFold, cross_val_score\n",
    "\n",
    "from sklearn.neighbors import KNeighborsClassifier\n",
    "from sklearn.ensemble import RandomForestClassifier\n",
    "from sklearn.ensemble import AdaBoostClassifier\n",
    "from sklearn.tree import DecisionTreeClassifier\n",
    "from sklearn.naive_bayes import MultinomialNB\n",
    "from sklearn import svm\n",
    "# Importing Evaluation matrces\n",
    "from sklearn.metrics import accuracy_score,precision_score,recall_score,f1_score,confusion_matrix,classification_report, plot_confusion_matrix\n",
    "\n",
    "# check the performance on diffrent regressor\n",
    "models = []\n",
    "models.append(('Support Vector Classifier', svm.SVC()))\n",
    "models.append(('LogisitcRegression', LogisticRegression()))\n",
    "models.append(('KNeighborsClassifier', KNeighborsClassifier()))\n",
    "models.append(('RandomForestClassifier', RandomForestClassifier()))\n",
    "models.append(('AdaBoostClassifier', AdaBoostClassifier()))\n",
    "models.append(('DecisionTreeClassifier', DecisionTreeClassifier()))\n",
    "\n",
    "\n",
    "# prepare the cross-validation procedure\n",
    "cv = KFold(n_splits=5, random_state=1, shuffle=True)\n",
    "\n",
    "# metrices to store performance\n",
    "acc = []\n",
    "pre = []\n",
    "f1 = []\n",
    "con = []\n",
    "rec = []\n",
    "\n",
    "\n",
    "import time\n",
    "i = 0\n",
    "for name,model in models:\n",
    "    i = i+1\n",
    "    start_time = time.time()\n",
    "    \n",
    "    # Fitting model to the Training set\n",
    "    clf = model\n",
    "    clf.fit(X_train, y_train)\n",
    "    \n",
    "    # predict values\n",
    "    y_pred = clf.predict(X_test)\n",
    "    \n",
    "    # Accuracy\n",
    "    accuracy = accuracy_score(y_test, y_pred)\n",
    "    acc.append(accuracy)\n",
    "    # Precision\n",
    "    precision = precision_score(y_test, y_pred, average=None)\n",
    "    pre.append(precision)\n",
    "    # Recall\n",
    "    recall = recall_score(y_test, y_pred, average=None)\n",
    "    rec.append(recall)\n",
    "    # F1 Score\n",
    "    f1_sco = f1_score(y_test, y_pred, average=None)\n",
    "    f1.append(f1_sco)\n",
    "    # Confusion Matrix\n",
    "    confusion_mat = confusion_matrix(y_test, y_pred)\n",
    "    con.append(confusion_mat)\n",
    "    # Report\n",
    "    report = classification_report(y_test, y_pred)\n",
    "    \n",
    "    # evaluate model\n",
    "    scores = cross_val_score(clf, X, y, cv=cv, n_jobs=-1)\n",
    "\n",
    "\n",
    "\n",
    "    print(\"+\",\"=\"*100,\"+\")\n",
    "    print('\\033[1m' + f\"\\t\\t\\t{i}-For {name} The Performance result is: \" + '\\033[0m')\n",
    "    print(\"+\",\"=\"*100,\"+\")\n",
    "    print('Accuracy : ', accuracy)   \n",
    "    print(\"-\"*50)\n",
    "    print('F1 : ', f1_sco)\n",
    "    print(\"-\"*50)\n",
    "    print('Reacll : ', recall)\n",
    "    print(\"-\"*50)\n",
    "    print('Precision : ', precision)\n",
    "    print(\"-\"*50)\n",
    "    print('cross validation accuracy : ', np.mean(scores))\n",
    "    print(\"-\"*50)\n",
    "    print('Confusion Matrix....\\n', confusion_mat)\n",
    "    print(\"-\"*50)\n",
    "    print('Classification Report....\\n', report)\n",
    "    print(\"-\"*50)\n",
    "    print('Plotting Confusion Matrix...\\n')\n",
    "    plot_confusion_matrix(clf, X_test, y_test)\n",
    "    plt.show()\n",
    "\n",
    "\n",
    "    \n",
    "    print(\"\\t\\t\\t\\t\\t\\t\\t-----------------------------------------------------------\")\n",
    "    print(f\"\\t\\t\\t\\t\\t\\t\\t Time for detection ({name}) : {round((time.time() - start_time), 3)} seconds...\")\n",
    "    print(\"\\t\\t\\t\\t\\t\\t\\t-----------------------------------------------------------\")\n",
    "    print()\n",
    "    \n",
    "pd.DataFrame({\"Model\": dict(models).keys(), \"Accuracy\": acc, \"Precision\": pre, \"Recall\": rec, \"F1_Score\": f1, \"Confusion Matrix\": con})"
   ]
  },
  {
   "cell_type": "code",
   "execution_count": null,
   "id": "e25c0b51",
   "metadata": {},
   "outputs": [],
   "source": []
  },
  {
   "cell_type": "code",
   "execution_count": null,
   "id": "e3fe4068",
   "metadata": {},
   "outputs": [],
   "source": []
  }
 ],
 "metadata": {
  "kernelspec": {
   "display_name": "Python 3",
   "language": "python",
   "name": "python3"
  },
  "language_info": {
   "codemirror_mode": {
    "name": "ipython",
    "version": 3
   },
   "file_extension": ".py",
   "mimetype": "text/x-python",
   "name": "python",
   "nbconvert_exporter": "python",
   "pygments_lexer": "ipython3",
   "version": "3.9.5"
  }
 },
 "nbformat": 4,
 "nbformat_minor": 5
}
