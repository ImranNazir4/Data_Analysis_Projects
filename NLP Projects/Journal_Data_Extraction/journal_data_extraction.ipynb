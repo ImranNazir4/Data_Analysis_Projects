{
 "cells": [
  {
   "cell_type": "markdown",
   "id": "c1e7a4e2",
   "metadata": {},
   "source": [
    "### Necessary Packages"
   ]
  },
  {
   "cell_type": "code",
   "execution_count": 33,
   "id": "aa2a4a35",
   "metadata": {},
   "outputs": [],
   "source": [
    "import re\n",
    "import pandas as pd\n",
    "import numpy as np"
   ]
  },
  {
   "cell_type": "code",
   "execution_count": 34,
   "id": "56150185",
   "metadata": {},
   "outputs": [],
   "source": [
    "text=\"\"\"\n",
    "CosineSine Barnacles Algorithm Optimizer with disruption operator for global optimization and automatic data clustering p.117993, Expert .Systems with Applications, 207-2022, https://doi.org/10.1016/j.eswa.2022.117993,\n",
    "Feature Selection Based on Modified Bio-inspired Atomic Orbital Search Using Arithmetic Optimization and Opposite-Based Learning, Cognitive Computation, 2022, 6-10022-022-https://doi.org/10.1007/s12559,\n",
    "Human activity recognition in IoHT applications using arithmetic optimization algorithm and deep inglearn, Measurement, 199-2022, https://doi.org/10.1016/j.measurement.2022.111445,\n",
    "Multi-ResAtt: Multilevel Residual Network with Attention for Human Activity Recognition Using Wearable Sensors, IEEE Transactions on Industrial Informatics, 2022, 10.1109/TII.2022.3165875,\n",
    "A multi-leader Harris hawk optimization based on differential evolution for feature selection and prediction influenza viruses H1N1, Artificial Intelligence Review, 4/55-2022, 3-10075-021-https://doi.org/10.1007/s1046,\n",
    "Real-time epileptic seizure recognition using Bayesian genetic whale optimizer and adaptive machine learning, Future Generation Computer Systems, 27-2022, https://doi.org/10.1016/j.future.2021.09.03,\n",
    "Modified marine predators algorithm for feature selection: case study metabolomics, Knowledge and Information Systems, 1/64-2022, w-01641-021-https://doi.org/10.1007/s10115\n",
    "\"\"\""
   ]
  },
  {
   "cell_type": "markdown",
   "id": "4b494d6d",
   "metadata": {},
   "source": [
    "# Data Extraction Process"
   ]
  },
  {
   "cell_type": "code",
   "execution_count": 35,
   "id": "71951410",
   "metadata": {},
   "outputs": [],
   "source": [
    "journals_text=text.split(\",\")"
   ]
  },
  {
   "cell_type": "code",
   "execution_count": 36,
   "id": "f4599c24",
   "metadata": {},
   "outputs": [],
   "source": [
    "journal_details=[]"
   ]
  },
  {
   "cell_type": "code",
   "execution_count": 37,
   "id": "756aeb1a",
   "metadata": {},
   "outputs": [],
   "source": [
    "k=0\n",
    "for i in journals_text[::4]:\n",
    "    journal_details.append(journals_text[k:k+4])\n",
    "    k=k+4"
   ]
  },
  {
   "cell_type": "code",
   "execution_count": 38,
   "id": "fc92921b",
   "metadata": {},
   "outputs": [],
   "source": [
    "df_list=[]"
   ]
  },
  {
   "cell_type": "code",
   "execution_count": 39,
   "id": "bab81193",
   "metadata": {},
   "outputs": [],
   "source": [
    "for i in journal_details:\n",
    "    df=pd.DataFrame([i])\n",
    "    df_list.append(df)"
   ]
  },
  {
   "cell_type": "code",
   "execution_count": 40,
   "id": "30d584ff",
   "metadata": {},
   "outputs": [],
   "source": [
    "df=pd.concat(df_list)"
   ]
  },
  {
   "cell_type": "code",
   "execution_count": 41,
   "id": "66d2f512",
   "metadata": {},
   "outputs": [],
   "source": [
    "df.columns=[\"Research Title\",\"Journal Title\",\"Issue/Volume Year of Publication\",\"DOI\"]"
   ]
  },
  {
   "cell_type": "code",
   "execution_count": 42,
   "id": "0aa8e8fb",
   "metadata": {},
   "outputs": [
    {
     "data": {
      "text/html": [
       "<div>\n",
       "<style scoped>\n",
       "    .dataframe tbody tr th:only-of-type {\n",
       "        vertical-align: middle;\n",
       "    }\n",
       "\n",
       "    .dataframe tbody tr th {\n",
       "        vertical-align: top;\n",
       "    }\n",
       "\n",
       "    .dataframe thead th {\n",
       "        text-align: right;\n",
       "    }\n",
       "</style>\n",
       "<table border=\"1\" class=\"dataframe\">\n",
       "  <thead>\n",
       "    <tr style=\"text-align: right;\">\n",
       "      <th></th>\n",
       "      <th>Research Title</th>\n",
       "      <th>Journal Title</th>\n",
       "      <th>Issue/Volume Year of Publication</th>\n",
       "      <th>DOI</th>\n",
       "    </tr>\n",
       "  </thead>\n",
       "  <tbody>\n",
       "    <tr>\n",
       "      <th>0</th>\n",
       "      <td>\\nCosineSine Barnacles Algorithm Optimizer wit...</td>\n",
       "      <td>Expert .Systems with Applications</td>\n",
       "      <td>207-2022</td>\n",
       "      <td>https://doi.org/10.1016/j.eswa.2022.117993</td>\n",
       "    </tr>\n",
       "    <tr>\n",
       "      <th>0</th>\n",
       "      <td>\\nFeature Selection Based on Modified Bio-insp...</td>\n",
       "      <td>Cognitive Computation</td>\n",
       "      <td>2022</td>\n",
       "      <td>6-10022-022-https://doi.org/10.1007/s12559</td>\n",
       "    </tr>\n",
       "    <tr>\n",
       "      <th>0</th>\n",
       "      <td>\\nHuman activity recognition in IoHT applicati...</td>\n",
       "      <td>Measurement</td>\n",
       "      <td>199-2022</td>\n",
       "      <td>https://doi.org/10.1016/j.measurement.2022.11...</td>\n",
       "    </tr>\n",
       "    <tr>\n",
       "      <th>0</th>\n",
       "      <td>\\nMulti-ResAtt: Multilevel Residual Network wi...</td>\n",
       "      <td>IEEE Transactions on Industrial Informatics</td>\n",
       "      <td>2022</td>\n",
       "      <td>10.1109/TII.2022.3165875</td>\n",
       "    </tr>\n",
       "    <tr>\n",
       "      <th>0</th>\n",
       "      <td>\\nA multi-leader Harris hawk optimization base...</td>\n",
       "      <td>Artificial Intelligence Review</td>\n",
       "      <td>4/55-2022</td>\n",
       "      <td>3-10075-021-https://doi.org/10.1007/s1046</td>\n",
       "    </tr>\n",
       "    <tr>\n",
       "      <th>0</th>\n",
       "      <td>\\nReal-time epileptic seizure recognition usin...</td>\n",
       "      <td>Future Generation Computer Systems</td>\n",
       "      <td>27-2022</td>\n",
       "      <td>https://doi.org/10.1016/j.future.2021.09.03</td>\n",
       "    </tr>\n",
       "    <tr>\n",
       "      <th>0</th>\n",
       "      <td>\\nModified marine predators algorithm for feat...</td>\n",
       "      <td>Knowledge and Information Systems</td>\n",
       "      <td>1/64-2022</td>\n",
       "      <td>w-01641-021-https://doi.org/10.1007/s10115\\n</td>\n",
       "    </tr>\n",
       "  </tbody>\n",
       "</table>\n",
       "</div>"
      ],
      "text/plain": [
       "                                      Research Title  \\\n",
       "0  \\nCosineSine Barnacles Algorithm Optimizer wit...   \n",
       "0  \\nFeature Selection Based on Modified Bio-insp...   \n",
       "0  \\nHuman activity recognition in IoHT applicati...   \n",
       "0  \\nMulti-ResAtt: Multilevel Residual Network wi...   \n",
       "0  \\nA multi-leader Harris hawk optimization base...   \n",
       "0  \\nReal-time epileptic seizure recognition usin...   \n",
       "0  \\nModified marine predators algorithm for feat...   \n",
       "\n",
       "                                  Journal Title  \\\n",
       "0             Expert .Systems with Applications   \n",
       "0                         Cognitive Computation   \n",
       "0                                   Measurement   \n",
       "0   IEEE Transactions on Industrial Informatics   \n",
       "0                Artificial Intelligence Review   \n",
       "0            Future Generation Computer Systems   \n",
       "0             Knowledge and Information Systems   \n",
       "\n",
       "  Issue/Volume Year of Publication  \\\n",
       "0                         207-2022   \n",
       "0                             2022   \n",
       "0                         199-2022   \n",
       "0                             2022   \n",
       "0                        4/55-2022   \n",
       "0                          27-2022   \n",
       "0                        1/64-2022   \n",
       "\n",
       "                                                 DOI  \n",
       "0         https://doi.org/10.1016/j.eswa.2022.117993  \n",
       "0         6-10022-022-https://doi.org/10.1007/s12559  \n",
       "0   https://doi.org/10.1016/j.measurement.2022.11...  \n",
       "0                           10.1109/TII.2022.3165875  \n",
       "0          3-10075-021-https://doi.org/10.1007/s1046  \n",
       "0        https://doi.org/10.1016/j.future.2021.09.03  \n",
       "0       w-01641-021-https://doi.org/10.1007/s10115\\n  "
      ]
     },
     "execution_count": 42,
     "metadata": {},
     "output_type": "execute_result"
    }
   ],
   "source": [
    "df"
   ]
  },
  {
   "cell_type": "markdown",
   "id": "437c1cc2",
   "metadata": {},
   "source": [
    "# Data Formatting"
   ]
  },
  {
   "cell_type": "code",
   "execution_count": 43,
   "id": "44106b04",
   "metadata": {},
   "outputs": [],
   "source": [
    "df[\"Research Title\"]=df[\"Research Title\"].apply(lambda x:re.sub(\"\\n\",\"\",x))\n",
    "df[\"DOI\"]=df[\"DOI\"].apply(lambda x:re.sub(\"\\n\",\"\",x))"
   ]
  },
  {
   "cell_type": "code",
   "execution_count": 46,
   "id": "26fff215",
   "metadata": {},
   "outputs": [],
   "source": [
    "df=df.reset_index(drop=True)"
   ]
  },
  {
   "cell_type": "markdown",
   "id": "0d999227",
   "metadata": {},
   "source": [
    "# Final Results"
   ]
  },
  {
   "cell_type": "code",
   "execution_count": 47,
   "id": "ddf57bb0",
   "metadata": {},
   "outputs": [
    {
     "data": {
      "text/html": [
       "<div>\n",
       "<style scoped>\n",
       "    .dataframe tbody tr th:only-of-type {\n",
       "        vertical-align: middle;\n",
       "    }\n",
       "\n",
       "    .dataframe tbody tr th {\n",
       "        vertical-align: top;\n",
       "    }\n",
       "\n",
       "    .dataframe thead th {\n",
       "        text-align: right;\n",
       "    }\n",
       "</style>\n",
       "<table border=\"1\" class=\"dataframe\">\n",
       "  <thead>\n",
       "    <tr style=\"text-align: right;\">\n",
       "      <th></th>\n",
       "      <th>Research Title</th>\n",
       "      <th>Journal Title</th>\n",
       "      <th>Issue/Volume Year of Publication</th>\n",
       "      <th>DOI</th>\n",
       "    </tr>\n",
       "  </thead>\n",
       "  <tbody>\n",
       "    <tr>\n",
       "      <th>0</th>\n",
       "      <td>CosineSine Barnacles Algorithm Optimizer with ...</td>\n",
       "      <td>Expert .Systems with Applications</td>\n",
       "      <td>207-2022</td>\n",
       "      <td>https://doi.org/10.1016/j.eswa.2022.117993</td>\n",
       "    </tr>\n",
       "    <tr>\n",
       "      <th>1</th>\n",
       "      <td>Feature Selection Based on Modified Bio-inspir...</td>\n",
       "      <td>Cognitive Computation</td>\n",
       "      <td>2022</td>\n",
       "      <td>6-10022-022-https://doi.org/10.1007/s12559</td>\n",
       "    </tr>\n",
       "    <tr>\n",
       "      <th>2</th>\n",
       "      <td>Human activity recognition in IoHT application...</td>\n",
       "      <td>Measurement</td>\n",
       "      <td>199-2022</td>\n",
       "      <td>https://doi.org/10.1016/j.measurement.2022.11...</td>\n",
       "    </tr>\n",
       "    <tr>\n",
       "      <th>3</th>\n",
       "      <td>Multi-ResAtt: Multilevel Residual Network with...</td>\n",
       "      <td>IEEE Transactions on Industrial Informatics</td>\n",
       "      <td>2022</td>\n",
       "      <td>10.1109/TII.2022.3165875</td>\n",
       "    </tr>\n",
       "    <tr>\n",
       "      <th>4</th>\n",
       "      <td>A multi-leader Harris hawk optimization based ...</td>\n",
       "      <td>Artificial Intelligence Review</td>\n",
       "      <td>4/55-2022</td>\n",
       "      <td>3-10075-021-https://doi.org/10.1007/s1046</td>\n",
       "    </tr>\n",
       "    <tr>\n",
       "      <th>5</th>\n",
       "      <td>Real-time epileptic seizure recognition using ...</td>\n",
       "      <td>Future Generation Computer Systems</td>\n",
       "      <td>27-2022</td>\n",
       "      <td>https://doi.org/10.1016/j.future.2021.09.03</td>\n",
       "    </tr>\n",
       "    <tr>\n",
       "      <th>6</th>\n",
       "      <td>Modified marine predators algorithm for featur...</td>\n",
       "      <td>Knowledge and Information Systems</td>\n",
       "      <td>1/64-2022</td>\n",
       "      <td>w-01641-021-https://doi.org/10.1007/s10115</td>\n",
       "    </tr>\n",
       "  </tbody>\n",
       "</table>\n",
       "</div>"
      ],
      "text/plain": [
       "                                      Research Title  \\\n",
       "0  CosineSine Barnacles Algorithm Optimizer with ...   \n",
       "1  Feature Selection Based on Modified Bio-inspir...   \n",
       "2  Human activity recognition in IoHT application...   \n",
       "3  Multi-ResAtt: Multilevel Residual Network with...   \n",
       "4  A multi-leader Harris hawk optimization based ...   \n",
       "5  Real-time epileptic seizure recognition using ...   \n",
       "6  Modified marine predators algorithm for featur...   \n",
       "\n",
       "                                  Journal Title  \\\n",
       "0             Expert .Systems with Applications   \n",
       "1                         Cognitive Computation   \n",
       "2                                   Measurement   \n",
       "3   IEEE Transactions on Industrial Informatics   \n",
       "4                Artificial Intelligence Review   \n",
       "5            Future Generation Computer Systems   \n",
       "6             Knowledge and Information Systems   \n",
       "\n",
       "  Issue/Volume Year of Publication  \\\n",
       "0                         207-2022   \n",
       "1                             2022   \n",
       "2                         199-2022   \n",
       "3                             2022   \n",
       "4                        4/55-2022   \n",
       "5                          27-2022   \n",
       "6                        1/64-2022   \n",
       "\n",
       "                                                 DOI  \n",
       "0         https://doi.org/10.1016/j.eswa.2022.117993  \n",
       "1         6-10022-022-https://doi.org/10.1007/s12559  \n",
       "2   https://doi.org/10.1016/j.measurement.2022.11...  \n",
       "3                           10.1109/TII.2022.3165875  \n",
       "4          3-10075-021-https://doi.org/10.1007/s1046  \n",
       "5        https://doi.org/10.1016/j.future.2021.09.03  \n",
       "6         w-01641-021-https://doi.org/10.1007/s10115  "
      ]
     },
     "execution_count": 47,
     "metadata": {},
     "output_type": "execute_result"
    }
   ],
   "source": [
    "df"
   ]
  },
  {
   "cell_type": "markdown",
   "id": "8dfd257e",
   "metadata": {},
   "source": [
    "# Saving Results in the Excel File"
   ]
  },
  {
   "cell_type": "code",
   "execution_count": 48,
   "id": "08d19249",
   "metadata": {},
   "outputs": [],
   "source": [
    "df.to_excel(\"journal_extracted_results.xlsx\")"
   ]
  },
  {
   "cell_type": "code",
   "execution_count": null,
   "id": "edebfa60",
   "metadata": {},
   "outputs": [],
   "source": []
  }
 ],
 "metadata": {
  "kernelspec": {
   "display_name": "Python 3",
   "language": "python",
   "name": "python3"
  },
  "language_info": {
   "codemirror_mode": {
    "name": "ipython",
    "version": 3
   },
   "file_extension": ".py",
   "mimetype": "text/x-python",
   "name": "python",
   "nbconvert_exporter": "python",
   "pygments_lexer": "ipython3",
   "version": "3.9.5"
  }
 },
 "nbformat": 4,
 "nbformat_minor": 5
}
