{
 "cells": [
  {
   "cell_type": "markdown",
   "id": "c1e7a4e2",
   "metadata": {},
   "source": [
    "### Necessary Packages"
   ]
  },
  {
   "cell_type": "code",
   "execution_count": 15,
   "id": "aa2a4a35",
   "metadata": {},
   "outputs": [],
   "source": [
    "import re\n",
    "import pandas as pd\n",
    "import numpy as np"
   ]
  },
  {
   "cell_type": "code",
   "execution_count": 16,
   "id": "3a608c76",
   "metadata": {},
   "outputs": [
    {
     "ename": "ImportError",
     "evalue": "failed to find libmagic.  Check your installation",
     "output_type": "error",
     "traceback": [
      "\u001b[1;31m---------------------------------------------------------------------------\u001b[0m",
      "\u001b[1;31mImportError\u001b[0m                               Traceback (most recent call last)",
      "\u001b[1;32m<ipython-input-16-f7496c788cba>\u001b[0m in \u001b[0;36m<module>\u001b[1;34m\u001b[0m\n\u001b[1;32m----> 1\u001b[1;33m \u001b[1;32mfrom\u001b[0m \u001b[0mrefextract\u001b[0m \u001b[1;32mimport\u001b[0m \u001b[0mextract_references_from_file\u001b[0m\u001b[1;33m\u001b[0m\u001b[1;33m\u001b[0m\u001b[0m\n\u001b[0m\u001b[0;32m      2\u001b[0m \u001b[0mreference\u001b[0m \u001b[1;33m=\u001b[0m \u001b[0mextract_references_from_file\u001b[0m\u001b[1;33m(\u001b[0m\u001b[1;34m\"some/fulltext/1503.07589v1.pdf\"\u001b[0m\u001b[1;33m)\u001b[0m\u001b[1;33m\u001b[0m\u001b[1;33m\u001b[0m\u001b[0m\n",
      "\u001b[1;32mc:\\users\\zee tech\\appdata\\local\\programs\\python\\python39\\lib\\site-packages\\refextract\\__init__.py\u001b[0m in \u001b[0;36m<module>\u001b[1;34m\u001b[0m\n\u001b[0;32m     24\u001b[0m \u001b[1;34m\"\"\"Refextract.\"\"\"\u001b[0m\u001b[1;33m\u001b[0m\u001b[1;33m\u001b[0m\u001b[0m\n\u001b[0;32m     25\u001b[0m \u001b[1;33m\u001b[0m\u001b[0m\n\u001b[1;32m---> 26\u001b[1;33m from .references.api import (\n\u001b[0m\u001b[0;32m     27\u001b[0m     \u001b[0mextract_journal_reference\u001b[0m\u001b[1;33m,\u001b[0m\u001b[1;33m\u001b[0m\u001b[1;33m\u001b[0m\u001b[0m\n\u001b[0;32m     28\u001b[0m     \u001b[0mextract_references_from_file\u001b[0m\u001b[1;33m,\u001b[0m\u001b[1;33m\u001b[0m\u001b[1;33m\u001b[0m\u001b[0m\n",
      "\u001b[1;32mc:\\users\\zee tech\\appdata\\local\\programs\\python\\python39\\lib\\site-packages\\refextract\\references\\api.py\u001b[0m in \u001b[0;36m<module>\u001b[1;34m\u001b[0m\n\u001b[0;32m     31\u001b[0m \u001b[1;32mimport\u001b[0m \u001b[0mos\u001b[0m\u001b[1;33m\u001b[0m\u001b[1;33m\u001b[0m\u001b[0m\n\u001b[0;32m     32\u001b[0m \u001b[1;32mimport\u001b[0m \u001b[0mrequests\u001b[0m\u001b[1;33m\u001b[0m\u001b[1;33m\u001b[0m\u001b[0m\n\u001b[1;32m---> 33\u001b[1;33m \u001b[1;32mimport\u001b[0m \u001b[0mmagic\u001b[0m\u001b[1;33m\u001b[0m\u001b[1;33m\u001b[0m\u001b[0m\n\u001b[0m\u001b[0;32m     34\u001b[0m \u001b[1;33m\u001b[0m\u001b[0m\n\u001b[0;32m     35\u001b[0m \u001b[1;32mfrom\u001b[0m \u001b[0mtempfile\u001b[0m \u001b[1;32mimport\u001b[0m \u001b[0mmkstemp\u001b[0m\u001b[1;33m\u001b[0m\u001b[1;33m\u001b[0m\u001b[0m\n",
      "\u001b[1;32mc:\\users\\zee tech\\appdata\\local\\programs\\python\\python39\\lib\\site-packages\\magic\\__init__.py\u001b[0m in \u001b[0;36m<module>\u001b[1;34m\u001b[0m\n\u001b[0;32m    207\u001b[0m \u001b[1;33m\u001b[0m\u001b[0m\n\u001b[0;32m    208\u001b[0m \u001b[1;32mfrom\u001b[0m \u001b[1;33m.\u001b[0m \u001b[1;32mimport\u001b[0m \u001b[0mloader\u001b[0m\u001b[1;33m\u001b[0m\u001b[1;33m\u001b[0m\u001b[0m\n\u001b[1;32m--> 209\u001b[1;33m \u001b[0mlibmagic\u001b[0m \u001b[1;33m=\u001b[0m \u001b[0mloader\u001b[0m\u001b[1;33m.\u001b[0m\u001b[0mload_lib\u001b[0m\u001b[1;33m(\u001b[0m\u001b[1;33m)\u001b[0m\u001b[1;33m\u001b[0m\u001b[1;33m\u001b[0m\u001b[0m\n\u001b[0m\u001b[0;32m    210\u001b[0m \u001b[1;33m\u001b[0m\u001b[0m\n\u001b[0;32m    211\u001b[0m \u001b[0mmagic_t\u001b[0m \u001b[1;33m=\u001b[0m \u001b[0mctypes\u001b[0m\u001b[1;33m.\u001b[0m\u001b[0mc_void_p\u001b[0m\u001b[1;33m\u001b[0m\u001b[1;33m\u001b[0m\u001b[0m\n",
      "\u001b[1;32mc:\\users\\zee tech\\appdata\\local\\programs\\python\\python39\\lib\\site-packages\\magic\\loader.py\u001b[0m in \u001b[0;36mload_lib\u001b[1;34m()\u001b[0m\n\u001b[0;32m     47\u001b[0m   \u001b[1;32melse\u001b[0m\u001b[1;33m:\u001b[0m\u001b[1;33m\u001b[0m\u001b[1;33m\u001b[0m\u001b[0m\n\u001b[0;32m     48\u001b[0m     \u001b[1;31m# It is better to raise an ImportError since we are importing magic module\u001b[0m\u001b[1;33m\u001b[0m\u001b[1;33m\u001b[0m\u001b[1;33m\u001b[0m\u001b[0m\n\u001b[1;32m---> 49\u001b[1;33m     \u001b[1;32mraise\u001b[0m \u001b[0mImportError\u001b[0m\u001b[1;33m(\u001b[0m\u001b[1;34m'failed to find libmagic.  Check your installation'\u001b[0m\u001b[1;33m)\u001b[0m\u001b[1;33m\u001b[0m\u001b[1;33m\u001b[0m\u001b[0m\n\u001b[0m\u001b[0;32m     50\u001b[0m \u001b[1;33m\u001b[0m\u001b[0m\n",
      "\u001b[1;31mImportError\u001b[0m: failed to find libmagic.  Check your installation"
     ]
    }
   ],
   "source": [
    "from refextract import extract_references_from_file\n",
    "reference = extract_references_from_file(\"some/fulltext/1503.07589v1.pdf\")"
   ]
  },
  {
   "cell_type": "code",
   "execution_count": 9,
   "id": "74547ae6",
   "metadata": {},
   "outputs": [],
   "source": [
    "text=\"\"\"\n",
    "[J1] Al-qaness, M.A., Ewees, A.A., Fan, H., Abualigah, L. and Abd Elaziz, M., 2022. Boosted ANFIS\n",
    "model using augmented marine predator algorithm with mutation operators for wind power\n",
    "forecasting. Applied Energy, 314, p.118851.\n",
    "[J2] Abd Elaziz, M., Ghoneimi, A., Elsheikh, A.H., Abualigah, L., Bakry, A. and Nabih, M., 2022.\n",
    "Predicting Shale Volume from Seismic Traces Using Modified Random Vector Functional Link\n",
    "Based on Transient Search Optimization Model: A Case Study from Netherlands North\n",
    "Sea. Natural Resources Research, pp.1-17.\n",
    "[J3] Yousri, D., Mohamed Abd Elaziz, Abualigah, L., Oliva, D., Al-Qaness, M.A. and Ewees, A.A.,\n",
    "2021. COVID-19 X-ray images classification based on enhanced fractional-order cuckoo search\n",
    "optimizer using heavy-tailed distributions. Applied Soft Computing, 101, p.107052.\n",
    "[J4] Al-Qaness, M.A., Saba, A.I., Elsheikh, A.H., Mohamed Abd Elaziz,, Ibrahim, R.A., Lu, S.,\n",
    "Hemedan, A.A., Shanmugan, S. and Ewees, A.A., 2021. Efficient artificial intelligence forecasting\n",
    "models for COVID-19 outbreak in Russia and Brazil. Process Safety and Environmental\n",
    "Protection, 149, pp.399-409.Mohamed Abd Elaziz C.V.\n",
    "\"\"\""
   ]
  },
  {
   "cell_type": "code",
   "execution_count": 10,
   "id": "e8b57f33",
   "metadata": {},
   "outputs": [],
   "source": [
    "text=re.sub(\"[+[J0-9]+]\",\"\",text)"
   ]
  },
  {
   "cell_type": "code",
   "execution_count": 11,
   "id": "27b0acde",
   "metadata": {},
   "outputs": [
    {
     "data": {
      "text/plain": [
       "'\\n Al-qaness, M.A., Ewees, A.A., Fan, H., Abualigah, L. and Abd Elaziz, M., 2022. Boosted ANFIS\\nmodel using augmented marine predator algorithm with mutation operators for wind power\\nforecasting. Applied Energy, 314, p.118851.\\n Abd Elaziz, M., Ghoneimi, A., Elsheikh, A.H., Abualigah, L., Bakry, A. and Nabih, M., 2022.\\nPredicting Shale Volume from Seismic Traces Using Modified Random Vector Functional Link\\nBased on Transient Search Optimization Model: A Case Study from Netherlands North\\nSea. Natural Resources Research, pp.1-17.\\n Yousri, D., Mohamed Abd Elaziz, Abualigah, L., Oliva, D., Al-Qaness, M.A. and Ewees, A.A.,\\n2021. COVID-19 X-ray images classification based on enhanced fractional-order cuckoo search\\noptimizer using heavy-tailed distributions. Applied Soft Computing, 101, p.107052.\\n Al-Qaness, M.A., Saba, A.I., Elsheikh, A.H., Mohamed Abd Elaziz,, Ibrahim, R.A., Lu, S.,\\nHemedan, A.A., Shanmugan, S. and Ewees, A.A., 2021. Efficient artificial intelligence forecasting\\nmodels for COVID-19 outbreak in Russia and Brazil. Process Safety and Environmental\\nProtection, 149, pp.399-409.Mohamed Abd Elaziz C.V.\\n'"
      ]
     },
     "execution_count": 11,
     "metadata": {},
     "output_type": "execute_result"
    }
   ],
   "source": [
    "text"
   ]
  },
  {
   "cell_type": "markdown",
   "id": "4b494d6d",
   "metadata": {},
   "source": [
    "# Data Extraction Process"
   ]
  },
  {
   "cell_type": "code",
   "execution_count": 17,
   "id": "71951410",
   "metadata": {},
   "outputs": [],
   "source": [
    "journals_text=text.split(\",\")"
   ]
  },
  {
   "cell_type": "code",
   "execution_count": 18,
   "id": "78ae62aa",
   "metadata": {},
   "outputs": [
    {
     "data": {
      "text/plain": [
       "['\\nCosineSine Barnacles Algorithm Optimizer with disruption operator for global optimization and automatic data clustering p.117993',\n",
       " ' Expert .Systems with Applications',\n",
       " ' 207-2022',\n",
       " ' https://doi.org/10.1016/j.eswa.2022.117993',\n",
       " '\\nFeature Selection Based on Modified Bio-inspired Atomic Orbital Search Using Arithmetic Optimization and Opposite-Based Learning',\n",
       " ' Cognitive Computation',\n",
       " ' 2022',\n",
       " ' 6-10022-022-https://doi.org/10.1007/s12559',\n",
       " '\\nHuman activity recognition in IoHT applications using arithmetic optimization algorithm and deep inglearn',\n",
       " ' Measurement',\n",
       " ' 199-2022',\n",
       " ' https://doi.org/10.1016/j.measurement.2022.111445',\n",
       " '\\nMulti-ResAtt: Multilevel Residual Network with Attention for Human Activity Recognition Using Wearable Sensors',\n",
       " ' IEEE Transactions on Industrial Informatics',\n",
       " ' 2022',\n",
       " ' 10.1109/TII.2022.3165875',\n",
       " '\\nA multi-leader Harris hawk optimization based on differential evolution for feature selection and prediction influenza viruses H1N1',\n",
       " ' Artificial Intelligence Review',\n",
       " ' 4/55-2022',\n",
       " ' 3-10075-021-https://doi.org/10.1007/s1046',\n",
       " '\\nReal-time epileptic seizure recognition using Bayesian genetic whale optimizer and adaptive machine learning',\n",
       " ' Future Generation Computer Systems',\n",
       " ' 27-2022',\n",
       " ' https://doi.org/10.1016/j.future.2021.09.03',\n",
       " '\\nModified marine predators algorithm for feature selection: case study metabolomics',\n",
       " ' Knowledge and Information Systems',\n",
       " ' 1/64-2022',\n",
       " ' w-01641-021-https://doi.org/10.1007/s10115\\n']"
      ]
     },
     "execution_count": 18,
     "metadata": {},
     "output_type": "execute_result"
    }
   ],
   "source": [
    "journals_text"
   ]
  },
  {
   "cell_type": "code",
   "execution_count": 19,
   "id": "f4599c24",
   "metadata": {},
   "outputs": [],
   "source": [
    "journal_details=[]"
   ]
  },
  {
   "cell_type": "code",
   "execution_count": 20,
   "id": "756aeb1a",
   "metadata": {},
   "outputs": [],
   "source": [
    "k=0\n",
    "for i in journals_text[::4]:\n",
    "    journal_details.append(journals_text[k:k+4])\n",
    "    k=k+4"
   ]
  },
  {
   "cell_type": "code",
   "execution_count": 21,
   "id": "9583f8d1",
   "metadata": {},
   "outputs": [
    {
     "data": {
      "text/plain": [
       "[['\\nCosineSine Barnacles Algorithm Optimizer with disruption operator for global optimization and automatic data clustering p.117993',\n",
       "  ' Expert .Systems with Applications',\n",
       "  ' 207-2022',\n",
       "  ' https://doi.org/10.1016/j.eswa.2022.117993'],\n",
       " ['\\nFeature Selection Based on Modified Bio-inspired Atomic Orbital Search Using Arithmetic Optimization and Opposite-Based Learning',\n",
       "  ' Cognitive Computation',\n",
       "  ' 2022',\n",
       "  ' 6-10022-022-https://doi.org/10.1007/s12559'],\n",
       " ['\\nHuman activity recognition in IoHT applications using arithmetic optimization algorithm and deep inglearn',\n",
       "  ' Measurement',\n",
       "  ' 199-2022',\n",
       "  ' https://doi.org/10.1016/j.measurement.2022.111445'],\n",
       " ['\\nMulti-ResAtt: Multilevel Residual Network with Attention for Human Activity Recognition Using Wearable Sensors',\n",
       "  ' IEEE Transactions on Industrial Informatics',\n",
       "  ' 2022',\n",
       "  ' 10.1109/TII.2022.3165875'],\n",
       " ['\\nA multi-leader Harris hawk optimization based on differential evolution for feature selection and prediction influenza viruses H1N1',\n",
       "  ' Artificial Intelligence Review',\n",
       "  ' 4/55-2022',\n",
       "  ' 3-10075-021-https://doi.org/10.1007/s1046'],\n",
       " ['\\nReal-time epileptic seizure recognition using Bayesian genetic whale optimizer and adaptive machine learning',\n",
       "  ' Future Generation Computer Systems',\n",
       "  ' 27-2022',\n",
       "  ' https://doi.org/10.1016/j.future.2021.09.03'],\n",
       " ['\\nModified marine predators algorithm for feature selection: case study metabolomics',\n",
       "  ' Knowledge and Information Systems',\n",
       "  ' 1/64-2022',\n",
       "  ' w-01641-021-https://doi.org/10.1007/s10115\\n']]"
      ]
     },
     "execution_count": 21,
     "metadata": {},
     "output_type": "execute_result"
    }
   ],
   "source": [
    "journal_details"
   ]
  },
  {
   "cell_type": "code",
   "execution_count": 22,
   "id": "fc92921b",
   "metadata": {},
   "outputs": [],
   "source": [
    "df_list=[]"
   ]
  },
  {
   "cell_type": "code",
   "execution_count": 23,
   "id": "bab81193",
   "metadata": {},
   "outputs": [],
   "source": [
    "for i in journal_details:\n",
    "    df=pd.DataFrame([i])\n",
    "    df_list.append(df)"
   ]
  },
  {
   "cell_type": "code",
   "execution_count": 24,
   "id": "30d584ff",
   "metadata": {},
   "outputs": [],
   "source": [
    "df=pd.concat(df_list)"
   ]
  },
  {
   "cell_type": "code",
   "execution_count": 25,
   "id": "66d2f512",
   "metadata": {},
   "outputs": [],
   "source": [
    "df.columns=[\"Research Title\",\"Journal Title\",\"Issue/Volume Year of Publication\",\"DOI\"]"
   ]
  },
  {
   "cell_type": "code",
   "execution_count": 26,
   "id": "0aa8e8fb",
   "metadata": {},
   "outputs": [
    {
     "data": {
      "text/html": [
       "<div>\n",
       "<style scoped>\n",
       "    .dataframe tbody tr th:only-of-type {\n",
       "        vertical-align: middle;\n",
       "    }\n",
       "\n",
       "    .dataframe tbody tr th {\n",
       "        vertical-align: top;\n",
       "    }\n",
       "\n",
       "    .dataframe thead th {\n",
       "        text-align: right;\n",
       "    }\n",
       "</style>\n",
       "<table border=\"1\" class=\"dataframe\">\n",
       "  <thead>\n",
       "    <tr style=\"text-align: right;\">\n",
       "      <th></th>\n",
       "      <th>Research Title</th>\n",
       "      <th>Journal Title</th>\n",
       "      <th>Issue/Volume Year of Publication</th>\n",
       "      <th>DOI</th>\n",
       "    </tr>\n",
       "  </thead>\n",
       "  <tbody>\n",
       "    <tr>\n",
       "      <th>0</th>\n",
       "      <td>\\nCosineSine Barnacles Algorithm Optimizer wit...</td>\n",
       "      <td>Expert .Systems with Applications</td>\n",
       "      <td>207-2022</td>\n",
       "      <td>https://doi.org/10.1016/j.eswa.2022.117993</td>\n",
       "    </tr>\n",
       "    <tr>\n",
       "      <th>0</th>\n",
       "      <td>\\nFeature Selection Based on Modified Bio-insp...</td>\n",
       "      <td>Cognitive Computation</td>\n",
       "      <td>2022</td>\n",
       "      <td>6-10022-022-https://doi.org/10.1007/s12559</td>\n",
       "    </tr>\n",
       "    <tr>\n",
       "      <th>0</th>\n",
       "      <td>\\nHuman activity recognition in IoHT applicati...</td>\n",
       "      <td>Measurement</td>\n",
       "      <td>199-2022</td>\n",
       "      <td>https://doi.org/10.1016/j.measurement.2022.11...</td>\n",
       "    </tr>\n",
       "    <tr>\n",
       "      <th>0</th>\n",
       "      <td>\\nMulti-ResAtt: Multilevel Residual Network wi...</td>\n",
       "      <td>IEEE Transactions on Industrial Informatics</td>\n",
       "      <td>2022</td>\n",
       "      <td>10.1109/TII.2022.3165875</td>\n",
       "    </tr>\n",
       "    <tr>\n",
       "      <th>0</th>\n",
       "      <td>\\nA multi-leader Harris hawk optimization base...</td>\n",
       "      <td>Artificial Intelligence Review</td>\n",
       "      <td>4/55-2022</td>\n",
       "      <td>3-10075-021-https://doi.org/10.1007/s1046</td>\n",
       "    </tr>\n",
       "    <tr>\n",
       "      <th>0</th>\n",
       "      <td>\\nReal-time epileptic seizure recognition usin...</td>\n",
       "      <td>Future Generation Computer Systems</td>\n",
       "      <td>27-2022</td>\n",
       "      <td>https://doi.org/10.1016/j.future.2021.09.03</td>\n",
       "    </tr>\n",
       "    <tr>\n",
       "      <th>0</th>\n",
       "      <td>\\nModified marine predators algorithm for feat...</td>\n",
       "      <td>Knowledge and Information Systems</td>\n",
       "      <td>1/64-2022</td>\n",
       "      <td>w-01641-021-https://doi.org/10.1007/s10115\\n</td>\n",
       "    </tr>\n",
       "  </tbody>\n",
       "</table>\n",
       "</div>"
      ],
      "text/plain": [
       "                                      Research Title  \\\n",
       "0  \\nCosineSine Barnacles Algorithm Optimizer wit...   \n",
       "0  \\nFeature Selection Based on Modified Bio-insp...   \n",
       "0  \\nHuman activity recognition in IoHT applicati...   \n",
       "0  \\nMulti-ResAtt: Multilevel Residual Network wi...   \n",
       "0  \\nA multi-leader Harris hawk optimization base...   \n",
       "0  \\nReal-time epileptic seizure recognition usin...   \n",
       "0  \\nModified marine predators algorithm for feat...   \n",
       "\n",
       "                                  Journal Title  \\\n",
       "0             Expert .Systems with Applications   \n",
       "0                         Cognitive Computation   \n",
       "0                                   Measurement   \n",
       "0   IEEE Transactions on Industrial Informatics   \n",
       "0                Artificial Intelligence Review   \n",
       "0            Future Generation Computer Systems   \n",
       "0             Knowledge and Information Systems   \n",
       "\n",
       "  Issue/Volume Year of Publication  \\\n",
       "0                         207-2022   \n",
       "0                             2022   \n",
       "0                         199-2022   \n",
       "0                             2022   \n",
       "0                        4/55-2022   \n",
       "0                          27-2022   \n",
       "0                        1/64-2022   \n",
       "\n",
       "                                                 DOI  \n",
       "0         https://doi.org/10.1016/j.eswa.2022.117993  \n",
       "0         6-10022-022-https://doi.org/10.1007/s12559  \n",
       "0   https://doi.org/10.1016/j.measurement.2022.11...  \n",
       "0                           10.1109/TII.2022.3165875  \n",
       "0          3-10075-021-https://doi.org/10.1007/s1046  \n",
       "0        https://doi.org/10.1016/j.future.2021.09.03  \n",
       "0       w-01641-021-https://doi.org/10.1007/s10115\\n  "
      ]
     },
     "execution_count": 26,
     "metadata": {},
     "output_type": "execute_result"
    }
   ],
   "source": [
    "df"
   ]
  },
  {
   "cell_type": "markdown",
   "id": "437c1cc2",
   "metadata": {},
   "source": [
    "# Data Formatting"
   ]
  },
  {
   "cell_type": "code",
   "execution_count": 27,
   "id": "44106b04",
   "metadata": {},
   "outputs": [],
   "source": [
    "df[\"Research Title\"]=df[\"Research Title\"].apply(lambda x:re.sub(\"\\n\",\"\",x))\n",
    "df[\"DOI\"]=df[\"DOI\"].apply(lambda x:re.sub(\"\\n\",\"\",x))"
   ]
  },
  {
   "cell_type": "code",
   "execution_count": 28,
   "id": "26fff215",
   "metadata": {},
   "outputs": [],
   "source": [
    "df=df.reset_index(drop=True)"
   ]
  },
  {
   "cell_type": "markdown",
   "id": "0d999227",
   "metadata": {},
   "source": [
    "# Final Results"
   ]
  },
  {
   "cell_type": "code",
   "execution_count": 29,
   "id": "ddf57bb0",
   "metadata": {},
   "outputs": [
    {
     "data": {
      "text/html": [
       "<div>\n",
       "<style scoped>\n",
       "    .dataframe tbody tr th:only-of-type {\n",
       "        vertical-align: middle;\n",
       "    }\n",
       "\n",
       "    .dataframe tbody tr th {\n",
       "        vertical-align: top;\n",
       "    }\n",
       "\n",
       "    .dataframe thead th {\n",
       "        text-align: right;\n",
       "    }\n",
       "</style>\n",
       "<table border=\"1\" class=\"dataframe\">\n",
       "  <thead>\n",
       "    <tr style=\"text-align: right;\">\n",
       "      <th></th>\n",
       "      <th>Research Title</th>\n",
       "      <th>Journal Title</th>\n",
       "      <th>Issue/Volume Year of Publication</th>\n",
       "      <th>DOI</th>\n",
       "    </tr>\n",
       "  </thead>\n",
       "  <tbody>\n",
       "    <tr>\n",
       "      <th>0</th>\n",
       "      <td>CosineSine Barnacles Algorithm Optimizer with ...</td>\n",
       "      <td>Expert .Systems with Applications</td>\n",
       "      <td>207-2022</td>\n",
       "      <td>https://doi.org/10.1016/j.eswa.2022.117993</td>\n",
       "    </tr>\n",
       "    <tr>\n",
       "      <th>1</th>\n",
       "      <td>Feature Selection Based on Modified Bio-inspir...</td>\n",
       "      <td>Cognitive Computation</td>\n",
       "      <td>2022</td>\n",
       "      <td>6-10022-022-https://doi.org/10.1007/s12559</td>\n",
       "    </tr>\n",
       "    <tr>\n",
       "      <th>2</th>\n",
       "      <td>Human activity recognition in IoHT application...</td>\n",
       "      <td>Measurement</td>\n",
       "      <td>199-2022</td>\n",
       "      <td>https://doi.org/10.1016/j.measurement.2022.11...</td>\n",
       "    </tr>\n",
       "    <tr>\n",
       "      <th>3</th>\n",
       "      <td>Multi-ResAtt: Multilevel Residual Network with...</td>\n",
       "      <td>IEEE Transactions on Industrial Informatics</td>\n",
       "      <td>2022</td>\n",
       "      <td>10.1109/TII.2022.3165875</td>\n",
       "    </tr>\n",
       "    <tr>\n",
       "      <th>4</th>\n",
       "      <td>A multi-leader Harris hawk optimization based ...</td>\n",
       "      <td>Artificial Intelligence Review</td>\n",
       "      <td>4/55-2022</td>\n",
       "      <td>3-10075-021-https://doi.org/10.1007/s1046</td>\n",
       "    </tr>\n",
       "    <tr>\n",
       "      <th>5</th>\n",
       "      <td>Real-time epileptic seizure recognition using ...</td>\n",
       "      <td>Future Generation Computer Systems</td>\n",
       "      <td>27-2022</td>\n",
       "      <td>https://doi.org/10.1016/j.future.2021.09.03</td>\n",
       "    </tr>\n",
       "    <tr>\n",
       "      <th>6</th>\n",
       "      <td>Modified marine predators algorithm for featur...</td>\n",
       "      <td>Knowledge and Information Systems</td>\n",
       "      <td>1/64-2022</td>\n",
       "      <td>w-01641-021-https://doi.org/10.1007/s10115</td>\n",
       "    </tr>\n",
       "  </tbody>\n",
       "</table>\n",
       "</div>"
      ],
      "text/plain": [
       "                                      Research Title  \\\n",
       "0  CosineSine Barnacles Algorithm Optimizer with ...   \n",
       "1  Feature Selection Based on Modified Bio-inspir...   \n",
       "2  Human activity recognition in IoHT application...   \n",
       "3  Multi-ResAtt: Multilevel Residual Network with...   \n",
       "4  A multi-leader Harris hawk optimization based ...   \n",
       "5  Real-time epileptic seizure recognition using ...   \n",
       "6  Modified marine predators algorithm for featur...   \n",
       "\n",
       "                                  Journal Title  \\\n",
       "0             Expert .Systems with Applications   \n",
       "1                         Cognitive Computation   \n",
       "2                                   Measurement   \n",
       "3   IEEE Transactions on Industrial Informatics   \n",
       "4                Artificial Intelligence Review   \n",
       "5            Future Generation Computer Systems   \n",
       "6             Knowledge and Information Systems   \n",
       "\n",
       "  Issue/Volume Year of Publication  \\\n",
       "0                         207-2022   \n",
       "1                             2022   \n",
       "2                         199-2022   \n",
       "3                             2022   \n",
       "4                        4/55-2022   \n",
       "5                          27-2022   \n",
       "6                        1/64-2022   \n",
       "\n",
       "                                                 DOI  \n",
       "0         https://doi.org/10.1016/j.eswa.2022.117993  \n",
       "1         6-10022-022-https://doi.org/10.1007/s12559  \n",
       "2   https://doi.org/10.1016/j.measurement.2022.11...  \n",
       "3                           10.1109/TII.2022.3165875  \n",
       "4          3-10075-021-https://doi.org/10.1007/s1046  \n",
       "5        https://doi.org/10.1016/j.future.2021.09.03  \n",
       "6         w-01641-021-https://doi.org/10.1007/s10115  "
      ]
     },
     "execution_count": 29,
     "metadata": {},
     "output_type": "execute_result"
    }
   ],
   "source": [
    "df"
   ]
  },
  {
   "cell_type": "markdown",
   "id": "8dfd257e",
   "metadata": {},
   "source": [
    "# Saving Results in the Excel File"
   ]
  },
  {
   "cell_type": "code",
   "execution_count": 48,
   "id": "08d19249",
   "metadata": {},
   "outputs": [],
   "source": [
    "df.to_excel(\"journal_extracted_results.xlsx\")"
   ]
  },
  {
   "cell_type": "code",
   "execution_count": null,
   "id": "edebfa60",
   "metadata": {},
   "outputs": [],
   "source": []
  }
 ],
 "metadata": {
  "kernelspec": {
   "display_name": "Python 3",
   "language": "python",
   "name": "python3"
  },
  "language_info": {
   "codemirror_mode": {
    "name": "ipython",
    "version": 3
   },
   "file_extension": ".py",
   "mimetype": "text/x-python",
   "name": "python",
   "nbconvert_exporter": "python",
   "pygments_lexer": "ipython3",
   "version": "3.9.5"
  }
 },
 "nbformat": 4,
 "nbformat_minor": 5
}
