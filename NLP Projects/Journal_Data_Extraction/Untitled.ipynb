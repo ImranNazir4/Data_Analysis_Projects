{
 "cells": [
  {
   "cell_type": "code",
   "execution_count": 1,
   "id": "aa2a4a35",
   "metadata": {},
   "outputs": [
    {
     "name": "stdout",
     "output_type": "stream",
     "text": [
      "No match found.\n"
     ]
    }
   ],
   "source": [
    "\n",
    "import re\n",
    "\n",
    "text = \"CosineSine Barnacles Algorithm Optimizer with disruption operator for global optimization and automatic data clustering p.117993, Expert .Systems with Applications, 207-2022, https://doi.org/10.1016/j.eswa.2022.117993\"\n",
    "\n",
    "# Define a regular expression pattern to extract the journal title, year of publishing, and site of publishing\n",
    "pattern = re.compile(r\"(.*), (.*), (\\d{4})-(\\d{4}), (.*)\")\n",
    "\n",
    "# Search for a match in the text\n",
    "match = re.search(pattern, text)\n",
    "\n",
    "# If a match was found, extract the information and store it in separate variables\n",
    "if match:\n",
    "    journal_title = match.group(2)\n",
    "    year_of_publishing = int(match.group(3))\n",
    "    site_of_publishing = match.group(5)\n",
    "\n",
    "    # Print the results\n",
    "    print(\"Journal Title:\", journal_title)\n",
    "    print(\"Year of Publishing:\", year_of_publishing)\n",
    "    print(\"Site of Publishing:\", site_of_publishing)\n",
    "else:\n",
    "    print(\"No match found.\")"
   ]
  },
  {
   "cell_type": "code",
   "execution_count": 4,
   "id": "eae97e1a",
   "metadata": {},
   "outputs": [
    {
     "name": "stdout",
     "output_type": "stream",
     "text": [
      "Journal Title: Cognitive Computation\n",
      "Year of Publishing: 2022\n",
      "Site of Publishing:  https://doi.org/10.1016/j.eswa.2022.117993\n"
     ]
    }
   ],
   "source": [
    "text = \"Feature Selection Based on Modified Bio-inspired Atomic Orbital Search Using Arithmetic Optimization and Opposite-Based Learning, Cognitive Computation, 2022, 6-10022-022-https://doi.org/10.1007/s12559\"\n",
    "\n",
    "\n",
    "# Split the text by comma\n",
    "elements = text.split(\",\")\n",
    "\n",
    "# Get the journal title by stripping whitespaces from the second element\n",
    "#journal_title = elements[1].strip()\n",
    "\n",
    "# Get the year of publishing by splitting the third element by \"-\", then taking the second element and converting it to an integer\n",
    "#year_of_publishing = int(elements[2].split(\"-\")[1])\n",
    "\n",
    "# Get the site of publishing by taking the fourth element\n",
    "#site_of_publishing = elements[3]\n",
    "\n",
    "# Print the results\n",
    "print(\"Journal Title:\", journal_title)\n",
    "print(\"Year of Publishing:\", year_of_publishing)\n",
    "print(\"Site of Publishing:\", site_of_publishing)\n"
   ]
  },
  {
   "cell_type": "code",
   "execution_count": null,
   "id": "56150185",
   "metadata": {},
   "outputs": [],
   "source": []
  }
 ],
 "metadata": {
  "kernelspec": {
   "display_name": "Python 3",
   "language": "python",
   "name": "python3"
  },
  "language_info": {
   "codemirror_mode": {
    "name": "ipython",
    "version": 3
   },
   "file_extension": ".py",
   "mimetype": "text/x-python",
   "name": "python",
   "nbconvert_exporter": "python",
   "pygments_lexer": "ipython3",
   "version": "3.9.5"
  }
 },
 "nbformat": 4,
 "nbformat_minor": 5
}
