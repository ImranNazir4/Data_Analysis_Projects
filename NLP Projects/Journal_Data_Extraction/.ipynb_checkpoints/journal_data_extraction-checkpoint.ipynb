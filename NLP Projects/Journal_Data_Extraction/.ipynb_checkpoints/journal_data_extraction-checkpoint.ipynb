{
 "cells": [
  {
   "cell_type": "code",
   "execution_count": 10,
   "id": "aa2a4a35",
   "metadata": {},
   "outputs": [],
   "source": [
    "import re\n",
    "import pandas as pd\n",
    "import numpy as np"
   ]
  },
  {
   "cell_type": "code",
   "execution_count": 4,
   "id": "56150185",
   "metadata": {},
   "outputs": [],
   "source": [
    "text=\"\"\"\n",
    "CosineSine Barnacles Algorithm Optimizer with disruption operator for global optimization and automatic data clustering p.117993, Expert .Systems with Applications, 207-2022, https://doi.org/10.1016/j.eswa.2022.117993,\n",
    "Feature Selection Based on Modified Bio-inspired Atomic Orbital Search Using Arithmetic Optimization and Opposite-Based Learning, Cognitive Computation, 2022, 6-10022-022-https://doi.org/10.1007/s12559,\n",
    "Human activity recognition in IoHT applications using arithmetic optimization algorithm and deep inglearn, Measurement, 199-2022, https://doi.org/10.1016/j.measurement.2022.111445,\n",
    "Multi-ResAtt: Multilevel Residual Network with Attention for Human Activity Recognition Using Wearable Sensors, IEEE Transactions on Industrial Informatics, 2022, 10.1109/TII.2022.3165875,\n",
    "A multi-leader Harris hawk optimization based on differential evolution for feature selection and prediction influenza viruses H1N1, Artificial Intelligence Review, 4/55-2022, 3-10075-021-https://doi.org/10.1007/s1046,\n",
    "Real-time epileptic seizure recognition using Bayesian genetic whale optimizer and adaptive machine learning, Future Generation Computer Systems, 27-2022, https://doi.org/10.1016/j.future.2021.09.03,\n",
    "Modified marine predators algorithm for feature selection: case study metabolomics, Knowledge and Information Systems, 1/64-2022, w-01641-021-https://doi.org/10.1007/s10115\n",
    "\"\"\""
   ]
  },
  {
   "cell_type": "code",
   "execution_count": 5,
   "id": "71951410",
   "metadata": {},
   "outputs": [],
   "source": [
    "journals_text=text.split(\",\")"
   ]
  },
  {
   "cell_type": "code",
   "execution_count": 6,
   "id": "f4599c24",
   "metadata": {},
   "outputs": [],
   "source": [
    "journal_details=[]"
   ]
  },
  {
   "cell_type": "code",
   "execution_count": 9,
   "id": "756aeb1a",
   "metadata": {},
   "outputs": [],
   "source": [
    "k=0\n",
    "for i in journals_text[::4]:\n",
    "    journal_details.append(journals_text[k:k+4])\n",
    "    k=k+4"
   ]
  },
  {
   "cell_type": "code",
   "execution_count": 12,
   "id": "fc92921b",
   "metadata": {},
   "outputs": [],
   "source": [
    "df_list=[]"
   ]
  },
  {
   "cell_type": "code",
   "execution_count": 15,
   "id": "bab81193",
   "metadata": {},
   "outputs": [],
   "source": [
    "for i in journal_details:\n",
    "    df=pd.DataFrame([i])\n",
    "    df_list.append(df)"
   ]
  },
  {
   "cell_type": "code",
   "execution_count": 16,
   "id": "30d584ff",
   "metadata": {},
   "outputs": [],
   "source": [
    "df=pd.concat(df_list)"
   ]
  },
  {
   "cell_type": "code",
   "execution_count": 17,
   "id": "66d2f512",
   "metadata": {},
   "outputs": [
    {
     "data": {
      "text/html": [
       "<div>\n",
       "<style scoped>\n",
       "    .dataframe tbody tr th:only-of-type {\n",
       "        vertical-align: middle;\n",
       "    }\n",
       "\n",
       "    .dataframe tbody tr th {\n",
       "        vertical-align: top;\n",
       "    }\n",
       "\n",
       "    .dataframe thead th {\n",
       "        text-align: right;\n",
       "    }\n",
       "</style>\n",
       "<table border=\"1\" class=\"dataframe\">\n",
       "  <thead>\n",
       "    <tr style=\"text-align: right;\">\n",
       "      <th></th>\n",
       "      <th>0</th>\n",
       "      <th>1</th>\n",
       "      <th>2</th>\n",
       "      <th>3</th>\n",
       "    </tr>\n",
       "  </thead>\n",
       "  <tbody>\n",
       "    <tr>\n",
       "      <th>0</th>\n",
       "      <td>\\nCosineSine Barnacles Algorithm Optimizer wit...</td>\n",
       "      <td>Expert .Systems with Applications</td>\n",
       "      <td>207-2022</td>\n",
       "      <td>https://doi.org/10.1016/j.eswa.2022.117993</td>\n",
       "    </tr>\n",
       "    <tr>\n",
       "      <th>0</th>\n",
       "      <td>\\nFeature Selection Based on Modified Bio-insp...</td>\n",
       "      <td>Cognitive Computation</td>\n",
       "      <td>2022</td>\n",
       "      <td>6-10022-022-https://doi.org/10.1007/s12559</td>\n",
       "    </tr>\n",
       "    <tr>\n",
       "      <th>0</th>\n",
       "      <td>\\nHuman activity recognition in IoHT applicati...</td>\n",
       "      <td>Measurement</td>\n",
       "      <td>199-2022</td>\n",
       "      <td>https://doi.org/10.1016/j.measurement.2022.11...</td>\n",
       "    </tr>\n",
       "    <tr>\n",
       "      <th>0</th>\n",
       "      <td>\\nMulti-ResAtt: Multilevel Residual Network wi...</td>\n",
       "      <td>IEEE Transactions on Industrial Informatics</td>\n",
       "      <td>2022</td>\n",
       "      <td>10.1109/TII.2022.3165875</td>\n",
       "    </tr>\n",
       "    <tr>\n",
       "      <th>0</th>\n",
       "      <td>\\nA multi-leader Harris hawk optimization base...</td>\n",
       "      <td>Artificial Intelligence Review</td>\n",
       "      <td>4/55-2022</td>\n",
       "      <td>3-10075-021-https://doi.org/10.1007/s1046</td>\n",
       "    </tr>\n",
       "    <tr>\n",
       "      <th>0</th>\n",
       "      <td>\\nReal-time epileptic seizure recognition usin...</td>\n",
       "      <td>Future Generation Computer Systems</td>\n",
       "      <td>27-2022</td>\n",
       "      <td>https://doi.org/10.1016/j.future.2021.09.03</td>\n",
       "    </tr>\n",
       "    <tr>\n",
       "      <th>0</th>\n",
       "      <td>\\nModified marine predators algorithm for feat...</td>\n",
       "      <td>Knowledge and Information Systems</td>\n",
       "      <td>1/64-2022</td>\n",
       "      <td>w-01641-021-https://doi.org/10.1007/s10115\\n</td>\n",
       "    </tr>\n",
       "  </tbody>\n",
       "</table>\n",
       "</div>"
      ],
      "text/plain": [
       "                                                   0  \\\n",
       "0  \\nCosineSine Barnacles Algorithm Optimizer wit...   \n",
       "0  \\nFeature Selection Based on Modified Bio-insp...   \n",
       "0  \\nHuman activity recognition in IoHT applicati...   \n",
       "0  \\nMulti-ResAtt: Multilevel Residual Network wi...   \n",
       "0  \\nA multi-leader Harris hawk optimization base...   \n",
       "0  \\nReal-time epileptic seizure recognition usin...   \n",
       "0  \\nModified marine predators algorithm for feat...   \n",
       "\n",
       "                                              1           2  \\\n",
       "0             Expert .Systems with Applications    207-2022   \n",
       "0                         Cognitive Computation        2022   \n",
       "0                                   Measurement    199-2022   \n",
       "0   IEEE Transactions on Industrial Informatics        2022   \n",
       "0                Artificial Intelligence Review   4/55-2022   \n",
       "0            Future Generation Computer Systems     27-2022   \n",
       "0             Knowledge and Information Systems   1/64-2022   \n",
       "\n",
       "                                                   3  \n",
       "0         https://doi.org/10.1016/j.eswa.2022.117993  \n",
       "0         6-10022-022-https://doi.org/10.1007/s12559  \n",
       "0   https://doi.org/10.1016/j.measurement.2022.11...  \n",
       "0                           10.1109/TII.2022.3165875  \n",
       "0          3-10075-021-https://doi.org/10.1007/s1046  \n",
       "0        https://doi.org/10.1016/j.future.2021.09.03  \n",
       "0       w-01641-021-https://doi.org/10.1007/s10115\\n  "
      ]
     },
     "execution_count": 17,
     "metadata": {},
     "output_type": "execute_result"
    }
   ],
   "source": [
    "df.columns=[\"\",\"\",\"\",\"\"]"
   ]
  },
  {
   "cell_type": "code",
   "execution_count": null,
   "id": "73aefc2b",
   "metadata": {},
   "outputs": [],
   "source": []
  }
 ],
 "metadata": {
  "kernelspec": {
   "display_name": "Python 3",
   "language": "python",
   "name": "python3"
  },
  "language_info": {
   "codemirror_mode": {
    "name": "ipython",
    "version": 3
   },
   "file_extension": ".py",
   "mimetype": "text/x-python",
   "name": "python",
   "nbconvert_exporter": "python",
   "pygments_lexer": "ipython3",
   "version": "3.9.5"
  }
 },
 "nbformat": 4,
 "nbformat_minor": 5
}
