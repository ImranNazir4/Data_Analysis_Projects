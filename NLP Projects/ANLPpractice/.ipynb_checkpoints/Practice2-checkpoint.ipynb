{
 "cells": [
  {
   "cell_type": "markdown",
   "id": "7806f960",
   "metadata": {},
   "source": [
    "# NLE / ANLP \n",
    "\n",
    "## Practice Computer-based Examination"
   ]
  },
  {
   "cell_type": "code",
   "execution_count": null,
   "id": "477f08bd",
   "metadata": {},
   "outputs": [],
   "source": [
    "###update your candidate number here\n",
    "candidate_number=11111111\n"
   ]
  },
  {
   "cell_type": "markdown",
   "id": "01a71354",
   "metadata": {},
   "source": [
    "### Question 2\n",
    "This question is about word-cooccurences, collocations and distributional similarity. \n",
    "\n",
    "Throughout this question, reference will be made to the sample of English stored in text1 (Lewis Carroll's Alice in Wonderland) - a sample of which is output below."
   ]
  },
  {
   "cell_type": "code",
   "execution_count": null,
   "id": "d6bb6560",
   "metadata": {},
   "outputs": [],
   "source": [
    "###Run this cell.  Do not change the code in this cell\n",
    "from nltk.tokenize import sent_tokenize, word_tokenize\n",
    "from nltk.corpus import gutenberg\n",
    "\n",
    "def get_text(filename='carroll-alice.txt'):\n",
    "    text=gutenberg.raw(filename)\n",
    "    sentences=sent_tokenize(text)\n",
    "    tokenized=[word_tokenize(sent.lower()) for sent in sentences]\n",
    "    normalised=[[\"Nth\" if (token.endswith((\"nd\",\"st\",\"th\")) and token[:-2].isdigit()) else token for token in sent] for sent in tokenized]\n",
    "    normalised=[[\"NUM\" if token.isdigit() else token for token in sent] for sent in normalised]\n",
    "    filtered=[[word for word in sent if word.isalpha()] for sent in normalised]\n",
    "    return filtered\n",
    "\n",
    "text1=get_text()\n",
    "text1[:10]"
   ]
  },
  {
   "cell_type": "markdown",
   "id": "c09f9470",
   "metadata": {},
   "source": [
    "a) Explain what each step in the get_text() function does. [10 marks]"
   ]
  },
  {
   "cell_type": "markdown",
   "id": "881ff844",
   "metadata": {},
   "source": []
  },
  {
   "cell_type": "markdown",
   "id": "0a54a53c",
   "metadata": {},
   "source": [
    "b) Write code to find how frequently each word occurs in the corpus.  Display the 10 most frequently occuring words together with their associated frequencies.\n",
    "\n",
    "[5 marks]"
   ]
  },
  {
   "cell_type": "code",
   "execution_count": null,
   "id": "f7bf2168",
   "metadata": {},
   "outputs": [],
   "source": []
  },
  {
   "cell_type": "markdown",
   "id": "dea5f713",
   "metadata": {},
   "source": [
    "c) \n",
    "\n",
    "i) Write code to find the probability of word A occurring given that the previous word in the sentence was word B\n",
    "\n",
    "ii) Use your code to find P(\"rabbit\"|\"white\")?\n",
    "\n",
    "[9 marks]"
   ]
  },
  {
   "cell_type": "code",
   "execution_count": null,
   "id": "49c7303e",
   "metadata": {},
   "outputs": [],
   "source": []
  },
  {
   "cell_type": "code",
   "execution_count": null,
   "id": "16b770bf",
   "metadata": {},
   "outputs": [],
   "source": []
  },
  {
   "cell_type": "code",
   "execution_count": null,
   "id": "61ed5da6",
   "metadata": {},
   "outputs": [],
   "source": []
  },
  {
   "cell_type": "markdown",
   "id": "16fbe941",
   "metadata": {},
   "source": [
    "d) Explain how and why Positive Pointwise Mutual Information (PPMI) can be used to identify collocations. [5 marks]"
   ]
  },
  {
   "cell_type": "markdown",
   "id": "a175b210",
   "metadata": {},
   "source": []
  },
  {
   "cell_type": "markdown",
   "id": "ad2c4cff",
   "metadata": {},
   "source": [
    "e) Using a PPMI calculation to justify your answer, is \"white rabbit\" a collocation in this corpus? [8 marks]\n"
   ]
  },
  {
   "cell_type": "code",
   "execution_count": null,
   "id": "acf0b652",
   "metadata": {},
   "outputs": [],
   "source": []
  },
  {
   "cell_type": "markdown",
   "id": "b0f3a4c6",
   "metadata": {},
   "source": []
  },
  {
   "cell_type": "markdown",
   "id": "aa6085b0",
   "metadata": {},
   "source": [
    "f) Explain how to find the 10 words which are most distributionally similar to a given target word. [8 marks]"
   ]
  },
  {
   "cell_type": "markdown",
   "id": "7ddcbb0a",
   "metadata": {},
   "source": []
  },
  {
   "cell_type": "markdown",
   "id": "01974601",
   "metadata": {},
   "source": [
    "g) Give examples of words you might expect to find in the neighbourhood of\n",
    "i) \"rabbit\"\n",
    "ii) \"party\"\n",
    "when a distributional similarity method is applied to a general corpus (e.g., Wikipedia) and when it is applied to this specific corpus (\"Alice in Wonderland\")\n",
    "Justify your answer.\n",
    "\n",
    "[5 marks]"
   ]
  },
  {
   "cell_type": "markdown",
   "id": "acb9fd4a",
   "metadata": {},
   "source": []
  },
  {
   "cell_type": "code",
   "execution_count": null,
   "id": "7124380e",
   "metadata": {},
   "outputs": [],
   "source": []
  }
 ],
 "metadata": {
  "kernelspec": {
   "display_name": "Python 3",
   "language": "python",
   "name": "python3"
  },
  "language_info": {
   "codemirror_mode": {
    "name": "ipython",
    "version": 3
   },
   "file_extension": ".py",
   "mimetype": "text/x-python",
   "name": "python",
   "nbconvert_exporter": "python",
   "pygments_lexer": "ipython3",
   "version": "3.9.5"
  }
 },
 "nbformat": 4,
 "nbformat_minor": 5
}
