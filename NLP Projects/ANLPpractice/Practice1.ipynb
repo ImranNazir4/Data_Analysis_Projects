{
 "cells": [
  {
   "cell_type": "markdown",
   "id": "70d13be4",
   "metadata": {},
   "source": [
    "# NLE / ANLP \n",
    "\n",
    "## Practice Computer-based Examination"
   ]
  },
  {
   "cell_type": "code",
   "execution_count": null,
   "id": "e8154178",
   "metadata": {},
   "outputs": [],
   "source": [
    "###update your candidate number here\n",
    "candidate_number=11111111\n"
   ]
  },
  {
   "cell_type": "markdown",
   "id": "d4ab7d97",
   "metadata": {},
   "source": [
    "### Question 1\n",
    "This question is about lexical and distributional semantics.  \n",
    "\n",
    "Throughout this question, reference will be made to the English sentence stored in sentence1 and output below."
   ]
  },
  {
   "cell_type": "code",
   "execution_count": 1,
   "id": "4265b57f",
   "metadata": {},
   "outputs": [
    {
     "name": "stdout",
     "output_type": "stream",
     "text": [
      "A crane is a type of machine, generally equipped with a hoist rope, wire ropes or chains, and sheaves, that can be used both to lift and lower materials and to move them horizontally.\n"
     ]
    }
   ],
   "source": [
    "###Run this cell.  Do not change the code in this cell\n",
    "\n",
    "##import wordnet\n",
    "from nltk.corpus import wordnet as wn\n",
    "\n",
    "##set up sentence1 text\n",
    "sentence1=\"A crane is a type of machine, generally equipped with a hoist rope, wire ropes or chains, and sheaves, that can be used both to lift and lower materials and to move them horizontally.\"\n",
    "print(sentence1)"
   ]
  },
  {
   "cell_type": "markdown",
   "id": "71a3cd81",
   "metadata": {},
   "source": [
    "a)Use code to carry out each of the following pre-processing steps in turn on the sentence in sentence1.  Display the result after each step is applied.  Apply each subsequent step to the result of the previous step. **[10 marks]**\n",
    "\n",
    "i) case normalisation"
   ]
  },
  {
   "cell_type": "code",
   "execution_count": null,
   "id": "58920ed1",
   "metadata": {},
   "outputs": [],
   "source": []
  },
  {
   "cell_type": "markdown",
   "id": "02dbca5a",
   "metadata": {},
   "source": [
    "ii) tokenization"
   ]
  },
  {
   "cell_type": "code",
   "execution_count": null,
   "id": "5de500ee",
   "metadata": {},
   "outputs": [],
   "source": []
  },
  {
   "cell_type": "markdown",
   "id": "e0f0002c",
   "metadata": {},
   "source": [
    "iii) punctuation removal "
   ]
  },
  {
   "cell_type": "code",
   "execution_count": null,
   "id": "002be43d",
   "metadata": {},
   "outputs": [],
   "source": []
  },
  {
   "cell_type": "markdown",
   "id": "12af746d",
   "metadata": {},
   "source": [
    "iv) stopword removal"
   ]
  },
  {
   "cell_type": "code",
   "execution_count": null,
   "id": "60cd9305",
   "metadata": {},
   "outputs": [],
   "source": []
  },
  {
   "cell_type": "markdown",
   "id": "2a7beb08",
   "metadata": {},
   "source": [
    "v) lemmatization"
   ]
  },
  {
   "cell_type": "code",
   "execution_count": null,
   "id": "78574be5",
   "metadata": {},
   "outputs": [],
   "source": []
  },
  {
   "cell_type": "markdown",
   "id": "55daccb2",
   "metadata": {},
   "source": [
    "b) How many tokens and how many types are there in the sentence after pre-processing? **[2 marks]**"
   ]
  },
  {
   "cell_type": "code",
   "execution_count": null,
   "id": "f30ab225",
   "metadata": {},
   "outputs": [],
   "source": []
  },
  {
   "cell_type": "markdown",
   "id": "3d9695b1",
   "metadata": {},
   "source": [
    "c) For each of the word types identified above, use code to determine how many senses it has in WordNet as\n",
    "i) a noun, ii) a verb, iii) an adjective, iv) an adverb.  Display your results in a table. **[8 marks]**"
   ]
  },
  {
   "cell_type": "code",
   "execution_count": null,
   "id": "ecbd2b12",
   "metadata": {},
   "outputs": [],
   "source": []
  },
  {
   "cell_type": "code",
   "execution_count": null,
   "id": "b6ffa16f",
   "metadata": {},
   "outputs": [],
   "source": []
  },
  {
   "cell_type": "markdown",
   "id": "7357cdc2",
   "metadata": {},
   "source": [
    "ii) According to your results, which words in the sentence are monosemous? **[2 marks]**"
   ]
  },
  {
   "cell_type": "markdown",
   "id": "f6df8f57",
   "metadata": {},
   "source": []
  },
  {
   "cell_type": "markdown",
   "id": "4d0fa3a2",
   "metadata": {},
   "source": [
    "d)i) Explain how the path-length similarity measure can be used to calculate the similarity of two noun concepts in WordNet. **[6 marks]**\n"
   ]
  },
  {
   "cell_type": "markdown",
   "id": "8c9702d7",
   "metadata": {},
   "source": []
  },
  {
   "cell_type": "markdown",
   "id": "efea9fd9",
   "metadata": {},
   "source": [
    "ii) Use code to calculate the path-length similarity of the nouns *wire* and *rope* **[6 marks]**"
   ]
  },
  {
   "cell_type": "code",
   "execution_count": null,
   "id": "51200254",
   "metadata": {},
   "outputs": [],
   "source": []
  },
  {
   "cell_type": "code",
   "execution_count": null,
   "id": "14d57c03",
   "metadata": {},
   "outputs": [],
   "source": []
  },
  {
   "cell_type": "markdown",
   "id": "b7d7da45",
   "metadata": {},
   "source": [
    "iii) Use code to identify the lowest common subsumer, c, of *sheaf* and *hoist* in WordNet.  Print out the definition of this concept, c. **[6 marks]**"
   ]
  },
  {
   "cell_type": "code",
   "execution_count": null,
   "id": "8c6d1095",
   "metadata": {},
   "outputs": [],
   "source": []
  },
  {
   "cell_type": "code",
   "execution_count": null,
   "id": "7ff4ea00",
   "metadata": {},
   "outputs": [],
   "source": []
  },
  {
   "cell_type": "markdown",
   "id": "d894e522",
   "metadata": {},
   "source": [
    "e) Describe a method which might be used to attempt to disambiguate all of the words in a sentence.  Make sure you include any resources that are required by the method.  How well do you think the method will work on each of the words *crane*, *rope* and *lift* in sentence1.  Justify your answer. **[10 marks]**"
   ]
  },
  {
   "cell_type": "markdown",
   "id": "61069f84",
   "metadata": {},
   "source": []
  }
 ],
 "metadata": {
  "kernelspec": {
   "display_name": "Python 3",
   "language": "python",
   "name": "python3"
  },
  "language_info": {
   "codemirror_mode": {
    "name": "ipython",
    "version": 3
   },
   "file_extension": ".py",
   "mimetype": "text/x-python",
   "name": "python",
   "nbconvert_exporter": "python",
   "pygments_lexer": "ipython3",
   "version": "3.9.5"
  }
 },
 "nbformat": 4,
 "nbformat_minor": 5
}
