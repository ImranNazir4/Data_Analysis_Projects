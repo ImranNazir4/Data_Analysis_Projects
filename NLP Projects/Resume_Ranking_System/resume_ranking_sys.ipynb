{
 "cells": [
  {
   "cell_type": "markdown",
   "id": "eba1f694",
   "metadata": {},
   "source": [
    "---\n",
    "# Importing Necessary Dependencies\n",
    "---"
   ]
  },
  {
   "cell_type": "code",
   "execution_count": 1,
   "id": "47508eec",
   "metadata": {},
   "outputs": [],
   "source": [
    "import pandas as pd      #package for data analysis\n",
    "import neattext as nt    #package for text cleaning\n",
    "import os                #package for dealing with system paths\n",
    "import PyPDF2           #package for data extraction from pdf\n",
    "import docx2txt         #python package for data extraction from word file"
   ]
  },
  {
   "cell_type": "markdown",
   "id": "25e785ee",
   "metadata": {},
   "source": [
    "---\n",
    "# Data Extraction from Resumes\n",
    "---"
   ]
  },
  {
   "cell_type": "code",
   "execution_count": 2,
   "id": "220ca27c",
   "metadata": {},
   "outputs": [],
   "source": [
    "def extract_text(filename):\n",
    "    \"\"\"\n",
    "    Extracts text from PDFs and Word docs.\n",
    "    \"\"\"\n",
    "    _, ext = os.path.splitext(filename)\n",
    "    if ext == '.pdf':\n",
    "        with open(filename, 'rb') as file:\n",
    "            text=''\n",
    "             # Create a PDF reader object\n",
    "            reader = PyPDF2.PdfFileReader(file)\n",
    "            # Get the number of pages in the PDF\n",
    "            num_pages = reader.getNumPages()\n",
    "            # Loop through each page in the PDF\n",
    "            for page_num in range(num_pages):\n",
    "                # Get the current page\n",
    "                page = reader.getPage(page_num)\n",
    "                # Extract the text from the current page\n",
    "                text += page.extractText()\n",
    "                return text\n",
    "    elif ext == '.docx':\n",
    "        document= docx2txt.process(filename)\n",
    "        doc_text = str(document)\n",
    "        return doc_text\n",
    "\n",
    "def read_files(directory):\n",
    "    \"\"\"\n",
    "    Reads all files in a directory and extracts text from PDFs and Word docs.\n",
    "    Returns a dictionary of file names and text.\n",
    "    \"\"\"\n",
    "    files = {}\n",
    "    for filename in os.listdir(directory):\n",
    "        filepath = os.path.join(directory, filename)\n",
    "        if os.path.isfile(filepath):\n",
    "            text = extract_text(filepath)\n",
    "            if text:\n",
    "                files[filename] = text\n",
    "    return files\n",
    "\n",
    "# Example usage\n",
    "directory = './'\n",
    "files = read_files(directory)\n",
    "df=pd.DataFrame(files.items())"
   ]
  },
  {
   "cell_type": "code",
   "execution_count": 3,
   "id": "77089a68",
   "metadata": {},
   "outputs": [],
   "source": [
    "df.columns=['resume_name','resume_text']"
   ]
  },
  {
   "cell_type": "markdown",
   "id": "f3bc54a5",
   "metadata": {},
   "source": [
    "---\n",
    "# Personal Informations Extraction\n",
    "---"
   ]
  },
  {
   "cell_type": "markdown",
   "id": "9ec7998d",
   "metadata": {},
   "source": [
    "### Emails and Phone No. Extraxtion"
   ]
  },
  {
   "cell_type": "code",
   "execution_count": 4,
   "id": "78e82b6d",
   "metadata": {},
   "outputs": [],
   "source": [
    "df['candidate_email']=df['resume_text'].apply(lambda x:'|'.join(nt.extract_emails(x)))\n",
    "df['candidate_email']=df['candidate_email'].apply(lambda x:[email for email  in x.split(\"|\")][0])\n",
    "df['candidate_phone']=df['resume_text'].apply(lambda x:'|'.join(nt.extract_phone_numbers(x)))\n",
    "df['candidate_phone']=df['candidate_phone'].apply(lambda x:[phone for phone  in x.split(\"|\")][0])"
   ]
  },
  {
   "cell_type": "code",
   "execution_count": 5,
   "id": "9a187ac3",
   "metadata": {},
   "outputs": [
    {
     "data": {
      "text/html": [
       "<div>\n",
       "<style scoped>\n",
       "    .dataframe tbody tr th:only-of-type {\n",
       "        vertical-align: middle;\n",
       "    }\n",
       "\n",
       "    .dataframe tbody tr th {\n",
       "        vertical-align: top;\n",
       "    }\n",
       "\n",
       "    .dataframe thead th {\n",
       "        text-align: right;\n",
       "    }\n",
       "</style>\n",
       "<table border=\"1\" class=\"dataframe\">\n",
       "  <thead>\n",
       "    <tr style=\"text-align: right;\">\n",
       "      <th></th>\n",
       "      <th>resume_name</th>\n",
       "      <th>candidate_phone</th>\n",
       "      <th>candidate_email</th>\n",
       "    </tr>\n",
       "  </thead>\n",
       "  <tbody>\n",
       "    <tr>\n",
       "      <th>0</th>\n",
       "      <td>coolfreecv_resume_en_01.docx</td>\n",
       "      <td>+923067326316</td>\n",
       "      <td>imrnazir8@gmail.com</td>\n",
       "    </tr>\n",
       "    <tr>\n",
       "      <th>1</th>\n",
       "      <td>CV1.docx</td>\n",
       "      <td></td>\n",
       "      <td></td>\n",
       "    </tr>\n",
       "    <tr>\n",
       "      <th>2</th>\n",
       "      <td>CV10.docx</td>\n",
       "      <td>(222) 949-5578</td>\n",
       "      <td>SharaArmour@gmail.com</td>\n",
       "    </tr>\n",
       "    <tr>\n",
       "      <th>3</th>\n",
       "      <td>CV11.docx</td>\n",
       "      <td>(254) 844-5629</td>\n",
       "      <td>JudyWelch@gmail.com</td>\n",
       "    </tr>\n",
       "    <tr>\n",
       "      <th>4</th>\n",
       "      <td>CV12.docx</td>\n",
       "      <td>(627) 367-2287</td>\n",
       "      <td>WilliamBaltazar@gmail.com</td>\n",
       "    </tr>\n",
       "    <tr>\n",
       "      <th>5</th>\n",
       "      <td>CV13.docx</td>\n",
       "      <td>(433) 686-6674</td>\n",
       "      <td>SusanVillanueva@gmail.com</td>\n",
       "    </tr>\n",
       "    <tr>\n",
       "      <th>6</th>\n",
       "      <td>CV14.docx</td>\n",
       "      <td></td>\n",
       "      <td>LeonDean@gmail.com</td>\n",
       "    </tr>\n",
       "    <tr>\n",
       "      <th>7</th>\n",
       "      <td>CV15.docx</td>\n",
       "      <td>(545) 885-2686</td>\n",
       "      <td>BettyRedden@gmail.com</td>\n",
       "    </tr>\n",
       "    <tr>\n",
       "      <th>8</th>\n",
       "      <td>CV16.docx</td>\n",
       "      <td>(863) 435-4986</td>\n",
       "      <td>LanceDuffie@gmail.com</td>\n",
       "    </tr>\n",
       "    <tr>\n",
       "      <th>9</th>\n",
       "      <td>CV17.docx</td>\n",
       "      <td></td>\n",
       "      <td></td>\n",
       "    </tr>\n",
       "    <tr>\n",
       "      <th>10</th>\n",
       "      <td>CV18.docx</td>\n",
       "      <td>(745) 483-4946</td>\n",
       "      <td>HowardAnderson@gmail.com</td>\n",
       "    </tr>\n",
       "    <tr>\n",
       "      <th>11</th>\n",
       "      <td>CV19.docx</td>\n",
       "      <td>(289) 863-9669</td>\n",
       "      <td>FredStewart@gmail.com</td>\n",
       "    </tr>\n",
       "    <tr>\n",
       "      <th>12</th>\n",
       "      <td>CV2.docx</td>\n",
       "      <td>(922) 679-9797</td>\n",
       "      <td>HelenGrant@gmail.com</td>\n",
       "    </tr>\n",
       "    <tr>\n",
       "      <th>13</th>\n",
       "      <td>CV20.docx</td>\n",
       "      <td>(636) 638-4737</td>\n",
       "      <td>JerryBode@gmail.com</td>\n",
       "    </tr>\n",
       "    <tr>\n",
       "      <th>14</th>\n",
       "      <td>CV3.docx</td>\n",
       "      <td>(786) 324-2395</td>\n",
       "      <td>ClarencePrice@gmail.com</td>\n",
       "    </tr>\n",
       "    <tr>\n",
       "      <th>15</th>\n",
       "      <td>CV4.docx</td>\n",
       "      <td>(979) 879-2326</td>\n",
       "      <td>JenniferGillman@gmail.com</td>\n",
       "    </tr>\n",
       "    <tr>\n",
       "      <th>16</th>\n",
       "      <td>CV5.docx</td>\n",
       "      <td>(937) 794-8772</td>\n",
       "      <td>BonniePelt@gmail.com</td>\n",
       "    </tr>\n",
       "    <tr>\n",
       "      <th>17</th>\n",
       "      <td>CV6.docx</td>\n",
       "      <td>(685) 682-3747</td>\n",
       "      <td>VirgilRasmussen@gmail.com</td>\n",
       "    </tr>\n",
       "    <tr>\n",
       "      <th>18</th>\n",
       "      <td>CV7.docx</td>\n",
       "      <td>(526) 372-3648</td>\n",
       "      <td>GayleHawkins@gmail.com</td>\n",
       "    </tr>\n",
       "    <tr>\n",
       "      <th>19</th>\n",
       "      <td>CV8.docx</td>\n",
       "      <td>(745) 368-7944</td>\n",
       "      <td>DonaldBritt@gmail.com</td>\n",
       "    </tr>\n",
       "    <tr>\n",
       "      <th>20</th>\n",
       "      <td>CV9.docx</td>\n",
       "      <td>(873) 929-6922</td>\n",
       "      <td>CarmenNakata@gmail.com</td>\n",
       "    </tr>\n",
       "    <tr>\n",
       "      <th>21</th>\n",
       "      <td>Imran_Nazir_002_MPhil_DS_NLP.docx</td>\n",
       "      <td>+923067326316</td>\n",
       "      <td>imrnazir8@gmail.com</td>\n",
       "    </tr>\n",
       "  </tbody>\n",
       "</table>\n",
       "</div>"
      ],
      "text/plain": [
       "                          resume_name candidate_phone  \\\n",
       "0        coolfreecv_resume_en_01.docx   +923067326316   \n",
       "1                            CV1.docx                   \n",
       "2                           CV10.docx  (222) 949-5578   \n",
       "3                           CV11.docx  (254) 844-5629   \n",
       "4                           CV12.docx  (627) 367-2287   \n",
       "5                           CV13.docx  (433) 686-6674   \n",
       "6                           CV14.docx                   \n",
       "7                           CV15.docx  (545) 885-2686   \n",
       "8                           CV16.docx  (863) 435-4986   \n",
       "9                           CV17.docx                   \n",
       "10                          CV18.docx  (745) 483-4946   \n",
       "11                          CV19.docx  (289) 863-9669   \n",
       "12                           CV2.docx  (922) 679-9797   \n",
       "13                          CV20.docx  (636) 638-4737   \n",
       "14                           CV3.docx  (786) 324-2395   \n",
       "15                           CV4.docx  (979) 879-2326   \n",
       "16                           CV5.docx  (937) 794-8772   \n",
       "17                           CV6.docx  (685) 682-3747   \n",
       "18                           CV7.docx  (526) 372-3648   \n",
       "19                           CV8.docx  (745) 368-7944   \n",
       "20                           CV9.docx  (873) 929-6922   \n",
       "21  Imran_Nazir_002_MPhil_DS_NLP.docx   +923067326316   \n",
       "\n",
       "              candidate_email  \n",
       "0         imrnazir8@gmail.com  \n",
       "1                              \n",
       "2       SharaArmour@gmail.com  \n",
       "3         JudyWelch@gmail.com  \n",
       "4   WilliamBaltazar@gmail.com  \n",
       "5   SusanVillanueva@gmail.com  \n",
       "6          LeonDean@gmail.com  \n",
       "7       BettyRedden@gmail.com  \n",
       "8       LanceDuffie@gmail.com  \n",
       "9                              \n",
       "10   HowardAnderson@gmail.com  \n",
       "11      FredStewart@gmail.com  \n",
       "12       HelenGrant@gmail.com  \n",
       "13        JerryBode@gmail.com  \n",
       "14    ClarencePrice@gmail.com  \n",
       "15  JenniferGillman@gmail.com  \n",
       "16       BonniePelt@gmail.com  \n",
       "17  VirgilRasmussen@gmail.com  \n",
       "18     GayleHawkins@gmail.com  \n",
       "19      DonaldBritt@gmail.com  \n",
       "20     CarmenNakata@gmail.com  \n",
       "21        imrnazir8@gmail.com  "
      ]
     },
     "execution_count": 5,
     "metadata": {},
     "output_type": "execute_result"
    }
   ],
   "source": [
    "df[['resume_name','candidate_phone','candidate_email']]"
   ]
  },
  {
   "cell_type": "markdown",
   "id": "82f5a10f",
   "metadata": {},
   "source": [
    "### Text Formatting"
   ]
  },
  {
   "cell_type": "code",
   "execution_count": 6,
   "id": "004ece51",
   "metadata": {},
   "outputs": [],
   "source": [
    "def resume_text_formatting(resume_text):\n",
    "    resume_text=resume_text.split('\\n')\n",
    "    resume_text=[line.strip() for line in resume_text if len(line)>3]\n",
    "    return ' $ '.join(resume_text)"
   ]
  },
  {
   "cell_type": "code",
   "execution_count": 7,
   "id": "fe4fcd02",
   "metadata": {},
   "outputs": [],
   "source": [
    "df['f_resume_text']=df['resume_text'].apply(lambda x:resume_text_formatting(x))"
   ]
  },
  {
   "cell_type": "markdown",
   "id": "0115d1ed",
   "metadata": {},
   "source": [
    "### Links Extraction"
   ]
  },
  {
   "cell_type": "code",
   "execution_count": 8,
   "id": "267f032a",
   "metadata": {},
   "outputs": [],
   "source": [
    "links=[]"
   ]
  },
  {
   "cell_type": "code",
   "execution_count": 9,
   "id": "716e460e",
   "metadata": {},
   "outputs": [],
   "source": [
    "def get_links(resume_text):\n",
    "    links=[]\n",
    "    return nt.extract_urls(resume_text)"
   ]
  },
  {
   "cell_type": "code",
   "execution_count": 10,
   "id": "2f630581",
   "metadata": {},
   "outputs": [],
   "source": [
    "df['links']=df['f_resume_text'].apply(lambda x:get_links(x))"
   ]
  },
  {
   "cell_type": "markdown",
   "id": "fc55fc3a",
   "metadata": {},
   "source": [
    "---\n",
    "# Resume Ranking\n",
    "---"
   ]
  },
  {
   "cell_type": "markdown",
   "id": "05b8626c",
   "metadata": {},
   "source": [
    "### Predefined Evaluation Metrics"
   ]
  },
  {
   "cell_type": "code",
   "execution_count": 11,
   "id": "0a65d4c8",
   "metadata": {},
   "outputs": [],
   "source": [
    "ds_tech_skills=pd.read_csv(\"data_science_skills.csv\",index_col=0)\n",
    "ds_education=pd.read_csv(\"data_science_educations.csv\",index_col=0)\n",
    "ds_experiences=pd.read_csv(\"data_science_experiences.csv\",index_col=0)\n",
    "soft_skills=pd.read_csv(\"soft_skills.csv\",index_col=0)\n",
    "ds_certificates=pd.read_csv(\"data_science_certificates.csv\",index_col=0)"
   ]
  },
  {
   "cell_type": "code",
   "execution_count": 12,
   "id": "2f28886d",
   "metadata": {},
   "outputs": [],
   "source": [
    "from sklearn.feature_extraction.text import TfidfVectorizer    #importing tf-idf for text vectorizer\n",
    "from sklearn.metrics.pairwise import cosine_similarity         #importing cosine similarity for text similarity\n",
    "# initialize TfidfVectorizer\n",
    "vectorizer = TfidfVectorizer()"
   ]
  },
  {
   "cell_type": "code",
   "execution_count": 13,
   "id": "66ac95e0",
   "metadata": {},
   "outputs": [],
   "source": [
    "similar_educations=[]\n",
    "education_simlrty_score=[]\n",
    "education_rank={}"
   ]
  },
  {
   "cell_type": "code",
   "execution_count": 14,
   "id": "8010677d",
   "metadata": {},
   "outputs": [],
   "source": [
    "def get_similar_educations(resume_text,educations):\n",
    "    '''\n",
    "    this function gets predefined educations and find most similar educations from candidate resume.\n",
    "    it calculates average similarity score between predefined educations and candidate education.\n",
    "    It return the results only if candidate education 80% matches with predefined educations\n",
    "    '''\n",
    "    similar_educations=[]\n",
    "    education_simlrty_score=[]\n",
    "    education_rank={}\n",
    "    for line in resume_text.split('$'):\n",
    "        for edu in educations:\n",
    "            # fit and transform the documents\n",
    "            tfidf_matrix = vectorizer.fit_transform([line, edu])\n",
    "            # compute cosine similarity between the documents\n",
    "            cosine_similarities = cosine_similarity(tfidf_matrix[0], tfidf_matrix[1]).flatten()\n",
    "            cosine_similarities=cosine_similarities[0]\n",
    "            if cosine_similarities>=0.80:\n",
    "                education_simlrty_score.append(cosine_similarities)\n",
    "                similar_educations.append(line)\n",
    "                print(line,edu,cosine_similarities)\n",
    "    temp=sum(education_simlrty_score)/len((educations))\n",
    "    education_rank[temp]=similar_educations\n",
    "    return education_rank"
   ]
  },
  {
   "cell_type": "code",
   "execution_count": 15,
   "id": "8d9d0385",
   "metadata": {},
   "outputs": [
    {
     "name": "stdout",
     "output_type": "stream",
     "text": [
      " Bachelor of Computer Science  Bachelor of Science in Computer Science 0.8344777154850027\n",
      " Bachelor of Computer Science  Bachelor of Science in Computer Science 0.8344777154850027\n",
      " Bachelor of Computer Science  Bachelor of Science in Computer Science 0.8344777154850027\n",
      " Bachelor of Computer Science  Bachelor of Science in Computer Science 0.8344777154850027\n"
     ]
    }
   ],
   "source": [
    "df['education_score']=df['f_resume_text'].apply(lambda x:get_similar_educations(x,ds_education.values.reshape(-1)))"
   ]
  },
  {
   "cell_type": "code",
   "execution_count": 16,
   "id": "804613e9",
   "metadata": {},
   "outputs": [],
   "source": [
    "similar_certificates=[]\n",
    "certificates_simlrty_score=[]\n",
    "certificates_rank={}"
   ]
  },
  {
   "cell_type": "code",
   "execution_count": 17,
   "id": "3ebd26db",
   "metadata": {},
   "outputs": [],
   "source": [
    "def get_similar_certifications(resume_text,certificates):\n",
    "    '''\n",
    "    this function gets predefined certificates and find most similar certificates from candidate resume.\n",
    "    it calculates average similarity score between predefined certificates and candidate certificates.\n",
    "    It return the results only if candidate certificates 80% matches with predefined certificates\n",
    "    '''\n",
    "    similar_ceritificates=[]\n",
    "    ceritificates_simlrty_score=[]\n",
    "    ceritificates_rank={}\n",
    "    for line in resume_text.split('$'):\n",
    "        for cert in certificates:\n",
    "            # fit and transform the documents\n",
    "            tfidf_matrix = vectorizer.fit_transform([line, cert])\n",
    "            # compute cosine similarity between the documents\n",
    "            cosine_similarities = cosine_similarity(tfidf_matrix[0], tfidf_matrix[1]).flatten()\n",
    "            cosine_similarities=cosine_similarities[0]\n",
    "            if cosine_similarities>=0.80:\n",
    "                certificates_simlrty_score.append(cosine_similarities)\n",
    "                similar_certificates.append(line)\n",
    "               # print(line,cert,cosine_similarities)\n",
    "    temp=sum(certificates_simlrty_score)/len((certificates))\n",
    "    certificates_rank[temp]=similar_ceritificates\n",
    "    return certificates_rank"
   ]
  },
  {
   "cell_type": "code",
   "execution_count": 18,
   "id": "8de3c165",
   "metadata": {},
   "outputs": [
    {
     "name": "stdout",
     "output_type": "stream",
     "text": [
      " IBM Data Science Professional Certificate  IBM Data Science Professional Certificate 1.0000000000000002\n",
      " Microsoft Certified: Azure Data Scientist Associate  Microsoft Certified: Azure Data Scientist Associate 1.0000000000000002\n",
      " Google Data Analytics Professional Certificate  Google Data Analytics Professional Certificate 1.0000000000000002\n",
      " Cloudera Certified Data Analyst  Cloudera Certified Data Analyst 1.0\n",
      " DataCamp Certified Data Scientist  DataCamp Certified Data Scientist 1.0\n",
      " Python Institute Certified Data Science Associate  Python Institute Certified Data Science Associate 1.0000000000000002\n",
      " Hortonworks Certified Associate (HCA) for Apache Hadoop  Hortonworks Certified Associate (HCA) for Apache Hadoop 1.0000000000000004\n",
      " SAS Certified Big Data Professional  SAS Certified Big Data Professional 1.0000000000000002\n",
      " Amazon Web Services (AWS) Certified Data Analytics - Specialty  Amazon Web Services (AWS) Certified Data Analytics - Specialty 1.0000000000000002\n"
     ]
    }
   ],
   "source": [
    "df['certificates_score']=df['f_resume_text'].apply(lambda x:get_similar_certifications(x,ds_certificates.values.reshape(-1)))"
   ]
  },
  {
   "cell_type": "code",
   "execution_count": 19,
   "id": "586d4e6c",
   "metadata": {},
   "outputs": [],
   "source": [
    "similar_experiences=[]\n",
    "experiences_simlrty_score=[]\n",
    "experiences_rank={}"
   ]
  },
  {
   "cell_type": "code",
   "execution_count": 20,
   "id": "e81b3ebf",
   "metadata": {},
   "outputs": [],
   "source": [
    "def get_similar_experiences(resume_text,experiences):\n",
    "    '''\n",
    "    this function gets predefined experiences and find most similar experiences from candidate resume.\n",
    "    it calculates average similarity score between predefined experiences and candidate experiences.\n",
    "    It return the results only if candidate experiences 80% matches with predefined experiences\n",
    "    '''\n",
    "    similar_experiences=[]\n",
    "    experiences_simlrty_score=[]\n",
    "    experiences_rank={}\n",
    "    for line in resume_text.split('$'):\n",
    "        for expr in experiences:\n",
    "            # fit and transform the documents\n",
    "            tfidf_matrix = vectorizer.fit_transform([line, expr])\n",
    "            # compute cosine similarity between the documents\n",
    "            cosine_similarities = cosine_similarity(tfidf_matrix[0], tfidf_matrix[1]).flatten()\n",
    "            cosine_similarities=cosine_similarities[0]\n",
    "            if cosine_similarities>=0.80:\n",
    "                experiences_simlrty_score.append(cosine_similarities)\n",
    "                similar_experiences.append(line)\n",
    "               # print(line,expr,cosine_similarities)\n",
    "    temp=sum(experiences_simlrty_score)/len((experiences))\n",
    "    experiences_rank[temp]=similar_experiences\n",
    "    return experiences_rank"
   ]
  },
  {
   "cell_type": "code",
   "execution_count": 21,
   "id": "4cfc24c3",
   "metadata": {},
   "outputs": [
    {
     "name": "stdout",
     "output_type": "stream",
     "text": [
      " Experience with Python programming and data analysis libraries such as Pandas, NumPy, and SciPy  Experience with Python programming and data analysis libraries such as Pandas, NumPy, and SciPy 1.0\n",
      " Proficiency in SQL and experience with databases such as MySQL, PostgreSQL, or Oracle  Proficiency in SQL and experience with databases such as MySQL, PostgreSQL, or Oracle 1.0000000000000007\n",
      " Familiarity with machine learning algorithms and frameworks such as scikit-learn, TensorFlow, or PyTorch  Familiarity with machine learning algorithms and frameworks such as scikit-learn, TensorFlow, or PyTorch 1.0000000000000007\n",
      " Ability to work with large and complex datasets, and to clean and preprocess data as necessary  Ability to work with large and complex datasets, and to clean and preprocess data as necessary 1.0\n",
      " Experience with data visualization tools such as Tableau, D3.js, or Matplotlib  Experience with data visualization tools such as Tableau, D3.js, or Matplotlib 1.0000000000000002\n",
      " Strong problem-solving skills and ability to communicate findings to technical and non-technical stakeholders  Strong problem-solving skills and ability to communicate findings to technical and non-technical stakeholders 1.0000000000000002\n",
      " Experience with cloud computing platforms such as AWS, Google Cloud Platform, or Azure  Experience with cloud computing platforms such as AWS, Google Cloud Platform, or Azure 1.0\n",
      " Knowledge of statistics and experimental design  Knowledge of statistics and experimental design 1.0000000000000002\n",
      " Experience with natural language processing (NLP) or computer vision (CV) is a plus  Experience with natural language processing (NLP) or computer vision (CV) is a plus 1.0000000000000002\n",
      " Ability to work independently and as part of a team in a fast-paced, deadline-driven environment  Ability to work independently and as part of a team in a fast-paced, deadline-driven environment 0.9999999999999999\n"
     ]
    }
   ],
   "source": [
    "df['experience_score']=df['f_resume_text'].apply(lambda x:get_similar_experiences(x,ds_experiences.values.reshape(-1)))"
   ]
  },
  {
   "cell_type": "code",
   "execution_count": 22,
   "id": "3a6843cb",
   "metadata": {},
   "outputs": [],
   "source": [
    "tech_skills_rank=0\n",
    "soft_skills_rank=0"
   ]
  },
  {
   "cell_type": "code",
   "execution_count": 23,
   "id": "3d59ffe0",
   "metadata": {},
   "outputs": [],
   "source": [
    "def check_tech_skills(resume_text,tech_skills):\n",
    "    #checking the predefined skill is present in candidate resume or not\n",
    "    tech_skills_rank=0\n",
    "    for skill in tech_skills:\n",
    "        if skill[0] in resume_text:\n",
    "            tech_skills_rank+=1\n",
    "    return tech_skills_rank/len(tech_skills)"
   ]
  },
  {
   "cell_type": "code",
   "execution_count": 24,
   "id": "a7dfdad0",
   "metadata": {},
   "outputs": [],
   "source": [
    "def check_soft_skills(resume_text,soft_skills):\n",
    "    #checking the predefined soft skill is present in candidate resume or not\n",
    "    soft_skills_rank=0\n",
    "    for skill in soft_skills:\n",
    "        if skill[0] in resume_text:\n",
    "            soft_skills_rank+=1\n",
    "    return soft_skills_rank/len(soft_skills)"
   ]
  },
  {
   "cell_type": "code",
   "execution_count": 25,
   "id": "9b1bd26b",
   "metadata": {},
   "outputs": [],
   "source": [
    "df['tech_skills_score']=df['f_resume_text'].apply(lambda x:check_tech_skills(x,ds_tech_skills.values.reshape(-1)))"
   ]
  },
  {
   "cell_type": "code",
   "execution_count": 26,
   "id": "134415f0",
   "metadata": {},
   "outputs": [],
   "source": [
    "df['soft_skills_score']=df['f_resume_text'].apply(lambda x:check_soft_skills(x,soft_skills.values.reshape(-1)))"
   ]
  },
  {
   "cell_type": "markdown",
   "id": "493f2418",
   "metadata": {},
   "source": [
    "---\n",
    "# Final Resutls\n",
    "---"
   ]
  },
  {
   "cell_type": "code",
   "execution_count": null,
   "id": "29c549ac",
   "metadata": {},
   "outputs": [],
   "source": [
    "#the results are sorted on score of skills,mean a candidate who has most similar skills, will stand on top"
   ]
  },
  {
   "cell_type": "code",
   "execution_count": 28,
   "id": "c04f57e6",
   "metadata": {},
   "outputs": [],
   "source": [
    "results=df[['resume_name','candidate_phone','candidate_email','links', 'tech_skills_score','soft_skills_score','education_score', 'certificates_score','experience_score']].sort_values(by=['tech_skills_score'],ascending=False)"
   ]
  },
  {
   "cell_type": "code",
   "execution_count": 31,
   "id": "cd23afae",
   "metadata": {},
   "outputs": [
    {
     "data": {
      "text/html": [
       "<div>\n",
       "<style scoped>\n",
       "    .dataframe tbody tr th:only-of-type {\n",
       "        vertical-align: middle;\n",
       "    }\n",
       "\n",
       "    .dataframe tbody tr th {\n",
       "        vertical-align: top;\n",
       "    }\n",
       "\n",
       "    .dataframe thead th {\n",
       "        text-align: right;\n",
       "    }\n",
       "</style>\n",
       "<table border=\"1\" class=\"dataframe\">\n",
       "  <thead>\n",
       "    <tr style=\"text-align: right;\">\n",
       "      <th></th>\n",
       "      <th>resume_name</th>\n",
       "      <th>candidate_phone</th>\n",
       "      <th>candidate_email</th>\n",
       "      <th>links</th>\n",
       "      <th>tech_skills_score</th>\n",
       "      <th>soft_skills_score</th>\n",
       "      <th>education_score</th>\n",
       "      <th>certificates_score</th>\n",
       "      <th>experience_score</th>\n",
       "    </tr>\n",
       "  </thead>\n",
       "  <tbody>\n",
       "    <tr>\n",
       "      <th>11</th>\n",
       "      <td>CV19.docx</td>\n",
       "      <td>(289) 863-9669</td>\n",
       "      <td>FredStewart@gmail.com</td>\n",
       "      <td>[]</td>\n",
       "      <td>1.0</td>\n",
       "      <td>1.0</td>\n",
       "      <td>{0.0: []}</td>\n",
       "      <td>{0.0: []}</td>\n",
       "      <td>{0.0: []}</td>\n",
       "    </tr>\n",
       "    <tr>\n",
       "      <th>20</th>\n",
       "      <td>CV9.docx</td>\n",
       "      <td>(873) 929-6922</td>\n",
       "      <td>CarmenNakata@gmail.com</td>\n",
       "      <td>[]</td>\n",
       "      <td>1.0</td>\n",
       "      <td>1.0</td>\n",
       "      <td>{0.0: []}</td>\n",
       "      <td>{0.0: []}</td>\n",
       "      <td>{0.0: []}</td>\n",
       "    </tr>\n",
       "  </tbody>\n",
       "</table>\n",
       "</div>"
      ],
      "text/plain": [
       "   resume_name candidate_phone         candidate_email links  \\\n",
       "11   CV19.docx  (289) 863-9669   FredStewart@gmail.com    []   \n",
       "20    CV9.docx  (873) 929-6922  CarmenNakata@gmail.com    []   \n",
       "\n",
       "    tech_skills_score  soft_skills_score education_score certificates_score  \\\n",
       "11                1.0                1.0       {0.0: []}          {0.0: []}   \n",
       "20                1.0                1.0       {0.0: []}          {0.0: []}   \n",
       "\n",
       "   experience_score  \n",
       "11        {0.0: []}  \n",
       "20        {0.0: []}  "
      ]
     },
     "execution_count": 31,
     "metadata": {},
     "output_type": "execute_result"
    }
   ],
   "source": [
    "results[0:2]"
   ]
  },
  {
   "cell_type": "markdown",
   "id": "ca48bc65",
   "metadata": {},
   "source": [
    "---\n",
    "# Savin the Results\n",
    "---"
   ]
  },
  {
   "cell_type": "code",
   "execution_count": 1,
   "id": "cd93c00d",
   "metadata": {},
   "outputs": [],
   "source": []
  },
  {
   "cell_type": "code",
   "execution_count": 36,
   "id": "272816b0",
   "metadata": {},
   "outputs": [],
   "source": [
    "for candidate in range(10): #it will save the details of top 10 candidates in csv form \n",
    "    results.to_csv(results.iloc[candidate,]['resume_name'].split('.')[0]+'.csv')"
   ]
  },
  {
   "cell_type": "code",
   "execution_count": null,
   "id": "6fc534a8",
   "metadata": {},
   "outputs": [],
   "source": []
  }
 ],
 "metadata": {
  "kernelspec": {
   "display_name": "Python 3",
   "language": "python",
   "name": "python3"
  },
  "language_info": {
   "codemirror_mode": {
    "name": "ipython",
    "version": 3
   },
   "file_extension": ".py",
   "mimetype": "text/x-python",
   "name": "python",
   "nbconvert_exporter": "python",
   "pygments_lexer": "ipython3",
   "version": "3.9.5"
  }
 },
 "nbformat": 4,
 "nbformat_minor": 5
}
