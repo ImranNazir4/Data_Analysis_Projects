{
 "cells": [
  {
   "cell_type": "code",
   "execution_count": 43,
   "id": "08fd78ef",
   "metadata": {},
   "outputs": [],
   "source": [
    "import sqlite3\n",
    "import pandas as pd"
   ]
  },
  {
   "cell_type": "code",
   "execution_count": 2,
   "id": "3b3e3234",
   "metadata": {},
   "outputs": [],
   "source": [
    "conn= sqlite3.connect('criteria.db')\n",
    "c = conn.cursor()\n",
    "def create_ds_skills():\n",
    "    c.execute('CREATE TABLE IF NOT EXISTS ds_skills(skill_id INTEGER PRIMARY KEY,skill TEXT)')\n",
    "create_ds_skills()"
   ]
  },
  {
   "cell_type": "code",
   "execution_count": 3,
   "id": "fe3a410c",
   "metadata": {},
   "outputs": [],
   "source": [
    "conn= sqlite3.connect('criteria.db')\n",
    "c = conn.cursor()\n",
    "def add_ds_skills(skill_id,skill):\n",
    "    c.execute('INSERT INTO ds_skills(skill_id,skill) VALUES (?,?)',(skill_id,skill))\n",
    "    conn.commit()"
   ]
  },
  {
   "cell_type": "code",
   "execution_count": 4,
   "id": "4da220a6",
   "metadata": {},
   "outputs": [],
   "source": [
    "ds_skills=[('Data Analysis', 1),\n",
    "    ('Data Visualization', 2),\n",
    "    ('Machine Learning', 3),\n",
    "    ('Statistical Modeling', 4),\n",
    "    ('Predictive Analytics', 5),\n",
    "    ('Data Mining', 6),\n",
    "    ('Natural Language Processing', 7),\n",
    "    ('Deep Learning', 8),\n",
    "    ('Neural Networks',9),\n",
    "    ('Artificial Intelligence',10),\n",
    "    ('Big Data Analytics',11),\n",
    "    ('Time Series Analysis',12),\n",
    "    ('Regression Analysis', 13),\n",
    "    ('Clustering', 14),\n",
    "    ('Classification', 15),\n",
    "    ('Sentiment Analysis',16),\n",
    "    ('Text Analytics', 17),\n",
    "    ('Image Processing', 18),\n",
    "    ('Web Scraping', 19),\n",
    "    ('Data Cleaning', 20),\n",
    "    ('Data Wrangling', 21),\n",
    "    ('Data Preprocessing',22),\n",
    "    ('Feature Engineering', 23),\n",
    "    ('Dimensionality Reduction',24),\n",
    "    ('Ensemble Methods', 25),\n",
    "    ('Model Evaluation', 26),\n",
    "    ('Model Selection', 27),\n",
    "    ('Hyperparameter Tuning',28),\n",
    "    ('Reinforcement Learning', 29),\n",
    "    ('Bayesian Inference',30)]\n"
   ]
  },
  {
   "cell_type": "code",
   "execution_count": 5,
   "id": "4822d494",
   "metadata": {},
   "outputs": [],
   "source": [
    "for skill in ds_skills:\n",
    "   # print(skill)\n",
    "    add_ds_skills(skill[1], skill[0])"
   ]
  },
  {
   "cell_type": "code",
   "execution_count": null,
   "id": "be5bfb5a",
   "metadata": {},
   "outputs": [],
   "source": []
  },
  {
   "cell_type": "code",
   "execution_count": 6,
   "id": "bdd7c90f",
   "metadata": {},
   "outputs": [],
   "source": [
    "def view_all_skills():\n",
    "    c.execute(\"SELECT * FROM ds_skills\")\n",
    "    data=c.fetchall()\n",
    "    return data"
   ]
  },
  {
   "cell_type": "code",
   "execution_count": 31,
   "id": "e4fd9a56",
   "metadata": {},
   "outputs": [],
   "source": [
    "skills=view_all_skills()"
   ]
  },
  {
   "cell_type": "code",
   "execution_count": 27,
   "id": "9c2471cc",
   "metadata": {},
   "outputs": [],
   "source": [
    "conn= sqlite3.connect('criteria.db')\n",
    "c = conn.cursor()\n",
    "def update_ds_skills(skill_id,skill):\n",
    "    c.execute(\"UPDATE ds_skills SET skill=? WHERE skill_id=?\",(skill,skill_id))\n",
    "    conn.commit()"
   ]
  },
  {
   "cell_type": "code",
   "execution_count": 29,
   "id": "6a24ccbc",
   "metadata": {},
   "outputs": [],
   "source": [
    "update_ds_skills(1,'Data')"
   ]
  },
  {
   "cell_type": "code",
   "execution_count": null,
   "id": "9279452d",
   "metadata": {},
   "outputs": [],
   "source": []
  },
  {
   "cell_type": "code",
   "execution_count": 10,
   "id": "aa08169a",
   "metadata": {},
   "outputs": [],
   "source": [
    "conn= sqlite3.connect('criteria.db')\n",
    "c = conn.cursor()\n",
    "def create_ds_education():\n",
    "    c.execute('CREATE TABLE IF NOT EXISTS ds_education(education_id INTEGER PRIMARY KEY,education TEXT)')\n",
    "create_ds_education()"
   ]
  },
  {
   "cell_type": "code",
   "execution_count": 11,
   "id": "4c81d8d1",
   "metadata": {},
   "outputs": [],
   "source": [
    "data_science_education = [('Bachelor of Science in Computer Science',1), \n",
    "                         ('Master of Science in Data Science',2), \n",
    "                         ('Master of Information and Data Science',3), \n",
    "                         ('Postgraduate Diploma in Data Science', 4),\n",
    "                         ('Professional Certificate in Data Science',5),\n",
    "                         ('Bachelor of Science in Computer Statistics',6),\n",
    "                         ('Bachelor of Science in Computer Mathematics',7),\n",
    "                         ( 'Ph.D. in computer science',8),\n",
    "                         ]\n"
   ]
  },
  {
   "cell_type": "code",
   "execution_count": 12,
   "id": "a4567908",
   "metadata": {},
   "outputs": [],
   "source": [
    "conn= sqlite3.connect('criteria.db')\n",
    "c = conn.cursor()\n",
    "def add_ds_education(education_id,education):\n",
    "    c.execute('INSERT INTO ds_education(education_id,education) VALUES (?,?)',(education_id,education))\n",
    "    conn.commit()"
   ]
  },
  {
   "cell_type": "code",
   "execution_count": 14,
   "id": "9a3018fa",
   "metadata": {},
   "outputs": [],
   "source": [
    "for education in data_science_education:\n",
    "    add_ds_education(education[1],education[0])"
   ]
  },
  {
   "cell_type": "code",
   "execution_count": 32,
   "id": "9cf346b4",
   "metadata": {},
   "outputs": [],
   "source": [
    "conn= sqlite3.connect('criteria.db')\n",
    "c = conn.cursor()\n",
    "def update_ds_education(education_id,education):\n",
    "    c.execute(\"UPDATE ds_education SET education=? WHERE education_id=?\",(education,education_id))\n",
    "    conn.commit()"
   ]
  },
  {
   "cell_type": "code",
   "execution_count": 33,
   "id": "f7be2043",
   "metadata": {},
   "outputs": [],
   "source": [
    "update_ds_education(1,\"fsdf\")"
   ]
  },
  {
   "cell_type": "code",
   "execution_count": 34,
   "id": "8be88554",
   "metadata": {},
   "outputs": [],
   "source": [
    "def view_all_educations():\n",
    "    c.execute(\"SELECT * FROM ds_education\")\n",
    "    data=c.fetchall()\n",
    "    return data"
   ]
  },
  {
   "cell_type": "code",
   "execution_count": 35,
   "id": "312cfa8d",
   "metadata": {},
   "outputs": [
    {
     "data": {
      "text/plain": [
       "[(1, 'fsdf'),\n",
       " (2, 'Master of Science in Data Science'),\n",
       " (3, 'Master of Information and Data Science'),\n",
       " (4, 'Postgraduate Diploma in Data Science'),\n",
       " (5, 'Professional Certificate in Data Science'),\n",
       " (6, 'Bachelor of Science in Computer Statistics'),\n",
       " (7, 'Bachelor of Science in Computer Mathematics'),\n",
       " (8, 'Ph.D. in computer science')]"
      ]
     },
     "execution_count": 35,
     "metadata": {},
     "output_type": "execute_result"
    }
   ],
   "source": [
    "view_all_educations()"
   ]
  },
  {
   "cell_type": "code",
   "execution_count": 36,
   "id": "137eaea9",
   "metadata": {},
   "outputs": [],
   "source": [
    "conn= sqlite3.connect('criteria.db')\n",
    "c = conn.cursor()\n",
    "def create_soft_skills():\n",
    "    c.execute('CREATE TABLE IF NOT EXISTS soft_skills(s_sklill_id INTEGER PRIMARY KEY,s_skill TEXT)')\n",
    "create_soft_skills()"
   ]
  },
  {
   "cell_type": "code",
   "execution_count": 37,
   "id": "d66c4ac9",
   "metadata": {},
   "outputs": [],
   "source": [
    "soft_skills = [(\"Problem-solving skills\",1),\n",
    "   ( \"Attention to detail\",2),\n",
    "    (\"Communication skills (both written and verbal)\",3),\n",
    "    (\"Time management skills\",4),\n",
    "    (\"Ability to work independently and in a team\",5),\n",
    "    (\"Adaptability and flexibility\",6),\n",
    "    (\"Continuous learning and self-improvement\",7),\n",
    "    (\"Customer service skills\",8),\n",
    "    (\"Creative thinking\",9),\n",
    "    (\"Interpersonal skills\",10),\n",
    "    (\"Leadership skills\",11),\n",
    "    (\"Project management skills\",12),\n",
    "    (\"Collaboration skills\",13),\n",
    "    (\"Teamwork skills\",14),\n",
    "    (\"Negotiation skills\",15),\n",
    "    (\"Decision-making skills\",16),\n",
    "    (\"Innovation skills\",17),\n",
    "    (\"Empathy and emotional intelligence\",18),\n",
    "    (\"Networking skills\",19),\n",
    "    (\"Presentation skills\",20),\n",
    "    (\"Strategic thinking\",21),\n",
    "    (\"Goal-oriented mindset\",22),\n",
    "    (\"Organizational skills\",23),\n",
    "    (\"Analytical skills\",24),\n",
    "    (\"Critical thinking\",25),\n",
    "    (\"Curiosity\",26),\n",
    "    (\"Positive attitude\",27),\n",
    "    (\"Humility\",28),\n",
    "    (\"Patience\",29)]\n"
   ]
  },
  {
   "cell_type": "code",
   "execution_count": 38,
   "id": "066b6845",
   "metadata": {},
   "outputs": [],
   "source": [
    "conn= sqlite3.connect('criteria.db')\n",
    "c = conn.cursor()\n",
    "def add_soft_skils(s_skill_id,s_skill):\n",
    "    c.execute('INSERT INTO soft_skills(s_sklill_id,s_skill) VALUES (?,?)',(s_skill_id,s_skill))\n",
    "    conn.commit()"
   ]
  },
  {
   "cell_type": "code",
   "execution_count": 39,
   "id": "6e2b3ca7",
   "metadata": {},
   "outputs": [],
   "source": [
    "for s_skill in soft_skills:\n",
    "    add_soft_skils(s_skill[1],s_skill[0])"
   ]
  },
  {
   "cell_type": "code",
   "execution_count": 40,
   "id": "d1653906",
   "metadata": {},
   "outputs": [],
   "source": [
    "def view_all_s_skills():\n",
    "    c.execute(\"SELECT * FROM soft_skills\")\n",
    "    data=c.fetchall()\n",
    "    return data"
   ]
  },
  {
   "cell_type": "code",
   "execution_count": 41,
   "id": "a7b907d8",
   "metadata": {
    "collapsed": true
   },
   "outputs": [
    {
     "data": {
      "text/plain": [
       "[(1, 'Problem-solving skills'),\n",
       " (2, 'Attention to detail'),\n",
       " (3, 'Communication skills (both written and verbal)'),\n",
       " (4, 'Time management skills'),\n",
       " (5, 'Ability to work independently and in a team'),\n",
       " (6, 'Adaptability and flexibility'),\n",
       " (7, 'Continuous learning and self-improvement'),\n",
       " (8, 'Customer service skills'),\n",
       " (9, 'Creative thinking'),\n",
       " (10, 'Interpersonal skills'),\n",
       " (11, 'Leadership skills'),\n",
       " (12, 'Project management skills'),\n",
       " (13, 'Collaboration skills'),\n",
       " (14, 'Teamwork skills'),\n",
       " (15, 'Negotiation skills'),\n",
       " (16, 'Decision-making skills'),\n",
       " (17, 'Innovation skills'),\n",
       " (18, 'Empathy and emotional intelligence'),\n",
       " (19, 'Networking skills'),\n",
       " (20, 'Presentation skills'),\n",
       " (21, 'Strategic thinking'),\n",
       " (22, 'Goal-oriented mindset'),\n",
       " (23, 'Organizational skills'),\n",
       " (24, 'Analytical skills'),\n",
       " (25, 'Critical thinking'),\n",
       " (26, 'Curiosity'),\n",
       " (27, 'Positive attitude'),\n",
       " (28, 'Humility'),\n",
       " (29, 'Patience')]"
      ]
     },
     "execution_count": 41,
     "metadata": {},
     "output_type": "execute_result"
    }
   ],
   "source": [
    "view_all_s_skills()"
   ]
  },
  {
   "cell_type": "code",
   "execution_count": null,
   "id": "c859c6f2",
   "metadata": {},
   "outputs": [],
   "source": []
  },
  {
   "cell_type": "code",
   "execution_count": null,
   "id": "9968ea7a",
   "metadata": {},
   "outputs": [],
   "source": []
  },
  {
   "cell_type": "code",
   "execution_count": null,
   "id": "bc46eee1",
   "metadata": {},
   "outputs": [],
   "source": []
  },
  {
   "cell_type": "code",
   "execution_count": null,
   "id": "6daf644e",
   "metadata": {},
   "outputs": [],
   "source": []
  },
  {
   "cell_type": "code",
   "execution_count": null,
   "id": "fa394346",
   "metadata": {},
   "outputs": [],
   "source": []
  },
  {
   "cell_type": "code",
   "execution_count": null,
   "id": "03c98e1e",
   "metadata": {},
   "outputs": [],
   "source": []
  },
  {
   "cell_type": "code",
   "execution_count": null,
   "id": "a8b4137c",
   "metadata": {},
   "outputs": [],
   "source": []
  },
  {
   "cell_type": "code",
   "execution_count": null,
   "id": "dd606621",
   "metadata": {},
   "outputs": [],
   "source": []
  },
  {
   "cell_type": "code",
   "execution_count": null,
   "id": "7b1e1d75",
   "metadata": {},
   "outputs": [],
   "source": []
  },
  {
   "cell_type": "code",
   "execution_count": null,
   "id": "aff4b05a",
   "metadata": {},
   "outputs": [],
   "source": []
  },
  {
   "cell_type": "code",
   "execution_count": null,
   "id": "5bd06590",
   "metadata": {},
   "outputs": [],
   "source": []
  },
  {
   "cell_type": "code",
   "execution_count": null,
   "id": "dbac1a53",
   "metadata": {},
   "outputs": [],
   "source": []
  },
  {
   "cell_type": "code",
   "execution_count": null,
   "id": "5ce5b32f",
   "metadata": {},
   "outputs": [],
   "source": []
  },
  {
   "cell_type": "code",
   "execution_count": null,
   "id": "5f1c161d",
   "metadata": {},
   "outputs": [],
   "source": []
  },
  {
   "cell_type": "code",
   "execution_count": null,
   "id": "a0e6c4f4",
   "metadata": {},
   "outputs": [],
   "source": []
  },
  {
   "cell_type": "code",
   "execution_count": 88,
   "id": "dccbaed4",
   "metadata": {},
   "outputs": [],
   "source": [
    "import neattext as nt"
   ]
  },
  {
   "cell_type": "code",
   "execution_count": 90,
   "id": "ad0d6481",
   "metadata": {},
   "outputs": [],
   "source": [
    "import os\n",
    "import PyPDF2\n",
    "import docx2txt\n",
    "import pandas as pd\n",
    "\n",
    "def extract_text(filename):\n",
    "    \"\"\"\n",
    "    Extracts text from PDFs and Word docs.\n",
    "    \"\"\"\n",
    "    _, ext = os.path.splitext(filename)\n",
    "    if ext == '.pdf':\n",
    "        with open(filename, 'rb') as file:\n",
    "            text=''\n",
    "             # Create a PDF reader object\n",
    "            reader = PyPDF2.PdfFileReader(file)\n",
    "            # Get the number of pages in the PDF\n",
    "            num_pages = reader.getNumPages()\n",
    "            # Loop through each page in the PDF\n",
    "            for page_num in range(num_pages):\n",
    "                # Get the current page\n",
    "                page = reader.getPage(page_num)\n",
    "                # Extract the text from the current page\n",
    "                text += page.extractText()\n",
    "                return text\n",
    "    elif ext == '.docx':\n",
    "        document= docx2txt.process(filename)\n",
    "        doc_text = str(document)\n",
    "        return doc_text\n",
    "\n",
    "def read_files(directory):\n",
    "    \"\"\"\n",
    "    Reads all files in a directory and extracts text from PDFs and Word docs.\n",
    "    Returns a dictionary of file names and text.\n",
    "    \"\"\"\n",
    "    files = {}\n",
    "    for filename in os.listdir(directory):\n",
    "        filepath = os.path.join(directory, filename)\n",
    "        if os.path.isfile(filepath):\n",
    "            text = extract_text(filepath)\n",
    "            if text:\n",
    "                files[filename] = text\n",
    "    return files\n",
    "\n",
    "# Example usage\n",
    "directory = './'\n",
    "files = read_files(directory)\n",
    "df=pd.DataFrame(files.items())\n",
    "#print(files)\n"
   ]
  },
  {
   "cell_type": "code",
   "execution_count": 91,
   "id": "cc9f4acc",
   "metadata": {},
   "outputs": [],
   "source": [
    "df.columns=['resume_name','resume_text']"
   ]
  },
  {
   "cell_type": "code",
   "execution_count": 92,
   "id": "a416ef3e",
   "metadata": {},
   "outputs": [],
   "source": [
    "df['candidate_email']=df['resume_text'].apply(lambda x:'|'.join(nt.extract_emails(x)))\n",
    "df['candidate_email']=df['candidate_email'].apply(lambda x:[email for email  in x.split(\"|\")][0])\n",
    "df['candidate_phone']=df['resume_text'].apply(lambda x:'|'.join(nt.extract_phone_numbers(x)))\n",
    "df['candidate_phone']=df['candidate_phone'].apply(lambda x:[phone for phone  in x.split(\"|\")][0])"
   ]
  },
  {
   "cell_type": "code",
   "execution_count": 93,
   "id": "1d810f57",
   "metadata": {},
   "outputs": [
    {
     "data": {
      "text/html": [
       "<div>\n",
       "<style scoped>\n",
       "    .dataframe tbody tr th:only-of-type {\n",
       "        vertical-align: middle;\n",
       "    }\n",
       "\n",
       "    .dataframe tbody tr th {\n",
       "        vertical-align: top;\n",
       "    }\n",
       "\n",
       "    .dataframe thead th {\n",
       "        text-align: right;\n",
       "    }\n",
       "</style>\n",
       "<table border=\"1\" class=\"dataframe\">\n",
       "  <thead>\n",
       "    <tr style=\"text-align: right;\">\n",
       "      <th></th>\n",
       "      <th>resume_name</th>\n",
       "      <th>candidate_phone</th>\n",
       "      <th>candidate_email</th>\n",
       "    </tr>\n",
       "  </thead>\n",
       "  <tbody>\n",
       "    <tr>\n",
       "      <th>0</th>\n",
       "      <td>3. ChartOCR_Data_Extraction_From_Charts_Images...</td>\n",
       "      <td></td>\n",
       "      <td></td>\n",
       "    </tr>\n",
       "    <tr>\n",
       "      <th>1</th>\n",
       "      <td>Applied_Machine_Learning_Assignment_1_2023.pdf</td>\n",
       "      <td></td>\n",
       "      <td></td>\n",
       "    </tr>\n",
       "    <tr>\n",
       "      <th>2</th>\n",
       "      <td>CV1.docx</td>\n",
       "      <td></td>\n",
       "      <td></td>\n",
       "    </tr>\n",
       "    <tr>\n",
       "      <th>3</th>\n",
       "      <td>CV10.docx</td>\n",
       "      <td>(222) 949-5578</td>\n",
       "      <td>SharaArmour@gmail.com</td>\n",
       "    </tr>\n",
       "    <tr>\n",
       "      <th>4</th>\n",
       "      <td>CV11.docx</td>\n",
       "      <td>(254) 844-5629</td>\n",
       "      <td>JudyWelch@gmail.com</td>\n",
       "    </tr>\n",
       "    <tr>\n",
       "      <th>5</th>\n",
       "      <td>CV11.pdf</td>\n",
       "      <td></td>\n",
       "      <td>Q@7</td>\n",
       "    </tr>\n",
       "    <tr>\n",
       "      <th>6</th>\n",
       "      <td>CV12.docx</td>\n",
       "      <td>(627) 367-2287</td>\n",
       "      <td>WilliamBaltazar@gmail.com</td>\n",
       "    </tr>\n",
       "    <tr>\n",
       "      <th>7</th>\n",
       "      <td>CV13.docx</td>\n",
       "      <td>(433) 686-6674</td>\n",
       "      <td>SusanVillanueva@gmail.com</td>\n",
       "    </tr>\n",
       "    <tr>\n",
       "      <th>8</th>\n",
       "      <td>CV14.docx</td>\n",
       "      <td></td>\n",
       "      <td>LeonDean@gmail.com</td>\n",
       "    </tr>\n",
       "    <tr>\n",
       "      <th>9</th>\n",
       "      <td>CV15.docx</td>\n",
       "      <td>(545) 885-2686</td>\n",
       "      <td>BettyRedden@gmail.com</td>\n",
       "    </tr>\n",
       "    <tr>\n",
       "      <th>10</th>\n",
       "      <td>CV16.docx</td>\n",
       "      <td>(863) 435-4986</td>\n",
       "      <td>LanceDuffie@gmail.com</td>\n",
       "    </tr>\n",
       "    <tr>\n",
       "      <th>11</th>\n",
       "      <td>CV17.docx</td>\n",
       "      <td></td>\n",
       "      <td></td>\n",
       "    </tr>\n",
       "    <tr>\n",
       "      <th>12</th>\n",
       "      <td>CV18.docx</td>\n",
       "      <td>(745) 483-4946</td>\n",
       "      <td>HowardAnderson@gmail.com</td>\n",
       "    </tr>\n",
       "    <tr>\n",
       "      <th>13</th>\n",
       "      <td>CV19.docx</td>\n",
       "      <td>(289) 863-9669</td>\n",
       "      <td>FredStewart@gmail.com</td>\n",
       "    </tr>\n",
       "    <tr>\n",
       "      <th>14</th>\n",
       "      <td>CV2.docx</td>\n",
       "      <td>(922) 679-9797</td>\n",
       "      <td>HelenGrant@gmail.com</td>\n",
       "    </tr>\n",
       "    <tr>\n",
       "      <th>15</th>\n",
       "      <td>CV2.pdf</td>\n",
       "      <td>4 6( ) 4 7</td>\n",
       "      <td></td>\n",
       "    </tr>\n",
       "    <tr>\n",
       "      <th>16</th>\n",
       "      <td>CV20.docx</td>\n",
       "      <td>(636) 638-4737</td>\n",
       "      <td>JerryBode@gmail.com</td>\n",
       "    </tr>\n",
       "    <tr>\n",
       "      <th>17</th>\n",
       "      <td>CV3.docx</td>\n",
       "      <td>(786) 324-2395</td>\n",
       "      <td>ClarencePrice@gmail.com</td>\n",
       "    </tr>\n",
       "    <tr>\n",
       "      <th>18</th>\n",
       "      <td>CV4.docx</td>\n",
       "      <td>(979) 879-2326</td>\n",
       "      <td>JenniferGillman@gmail.com</td>\n",
       "    </tr>\n",
       "    <tr>\n",
       "      <th>19</th>\n",
       "      <td>CV5.docx</td>\n",
       "      <td>(937) 794-8772</td>\n",
       "      <td>BonniePelt@gmail.com</td>\n",
       "    </tr>\n",
       "    <tr>\n",
       "      <th>20</th>\n",
       "      <td>CV6.docx</td>\n",
       "      <td>(685) 682-3747</td>\n",
       "      <td>VirgilRasmussen@gmail.com</td>\n",
       "    </tr>\n",
       "    <tr>\n",
       "      <th>21</th>\n",
       "      <td>CV6.pdf</td>\n",
       "      <td></td>\n",
       "      <td></td>\n",
       "    </tr>\n",
       "    <tr>\n",
       "      <th>22</th>\n",
       "      <td>CV7.docx</td>\n",
       "      <td>(526) 372-3648</td>\n",
       "      <td>GayleHawkins@gmail.com</td>\n",
       "    </tr>\n",
       "    <tr>\n",
       "      <th>23</th>\n",
       "      <td>CV8.docx</td>\n",
       "      <td>(745) 368-7944</td>\n",
       "      <td>DonaldBritt@gmail.com</td>\n",
       "    </tr>\n",
       "    <tr>\n",
       "      <th>24</th>\n",
       "      <td>CV9.docx</td>\n",
       "      <td>(873) 929-6922</td>\n",
       "      <td>CarmenNakata@gmail.com</td>\n",
       "    </tr>\n",
       "  </tbody>\n",
       "</table>\n",
       "</div>"
      ],
      "text/plain": [
       "                                          resume_name candidate_phone  \\\n",
       "0   3. ChartOCR_Data_Extraction_From_Charts_Images...                   \n",
       "1      Applied_Machine_Learning_Assignment_1_2023.pdf                   \n",
       "2                                            CV1.docx                   \n",
       "3                                           CV10.docx  (222) 949-5578   \n",
       "4                                           CV11.docx  (254) 844-5629   \n",
       "5                                            CV11.pdf                   \n",
       "6                                           CV12.docx  (627) 367-2287   \n",
       "7                                           CV13.docx  (433) 686-6674   \n",
       "8                                           CV14.docx                   \n",
       "9                                           CV15.docx  (545) 885-2686   \n",
       "10                                          CV16.docx  (863) 435-4986   \n",
       "11                                          CV17.docx                   \n",
       "12                                          CV18.docx  (745) 483-4946   \n",
       "13                                          CV19.docx  (289) 863-9669   \n",
       "14                                           CV2.docx  (922) 679-9797   \n",
       "15                                            CV2.pdf      4 6( ) 4 7   \n",
       "16                                          CV20.docx  (636) 638-4737   \n",
       "17                                           CV3.docx  (786) 324-2395   \n",
       "18                                           CV4.docx  (979) 879-2326   \n",
       "19                                           CV5.docx  (937) 794-8772   \n",
       "20                                           CV6.docx  (685) 682-3747   \n",
       "21                                            CV6.pdf                   \n",
       "22                                           CV7.docx  (526) 372-3648   \n",
       "23                                           CV8.docx  (745) 368-7944   \n",
       "24                                           CV9.docx  (873) 929-6922   \n",
       "\n",
       "              candidate_email  \n",
       "0                              \n",
       "1                              \n",
       "2                              \n",
       "3       SharaArmour@gmail.com  \n",
       "4         JudyWelch@gmail.com  \n",
       "5                         Q@7  \n",
       "6   WilliamBaltazar@gmail.com  \n",
       "7   SusanVillanueva@gmail.com  \n",
       "8          LeonDean@gmail.com  \n",
       "9       BettyRedden@gmail.com  \n",
       "10      LanceDuffie@gmail.com  \n",
       "11                             \n",
       "12   HowardAnderson@gmail.com  \n",
       "13      FredStewart@gmail.com  \n",
       "14       HelenGrant@gmail.com  \n",
       "15                             \n",
       "16        JerryBode@gmail.com  \n",
       "17    ClarencePrice@gmail.com  \n",
       "18  JenniferGillman@gmail.com  \n",
       "19       BonniePelt@gmail.com  \n",
       "20  VirgilRasmussen@gmail.com  \n",
       "21                             \n",
       "22     GayleHawkins@gmail.com  \n",
       "23      DonaldBritt@gmail.com  \n",
       "24     CarmenNakata@gmail.com  "
      ]
     },
     "execution_count": 93,
     "metadata": {},
     "output_type": "execute_result"
    }
   ],
   "source": [
    "df[['resume_name','candidate_phone','candidate_email']]"
   ]
  },
  {
   "cell_type": "code",
   "execution_count": 94,
   "id": "871c859e",
   "metadata": {},
   "outputs": [],
   "source": [
    "skills=view_all_skills()"
   ]
  },
  {
   "cell_type": "code",
   "execution_count": 95,
   "id": "ec7fb7d8",
   "metadata": {},
   "outputs": [
    {
     "data": {
      "text/plain": [
       "61"
      ]
     },
     "execution_count": 95,
     "metadata": {},
     "output_type": "execute_result"
    }
   ],
   "source": [
    "len(skills)"
   ]
  },
  {
   "cell_type": "code",
   "execution_count": 96,
   "id": "834090f0",
   "metadata": {},
   "outputs": [],
   "source": [
    "skills_rank=0"
   ]
  },
  {
   "cell_type": "code",
   "execution_count": 97,
   "id": "573ab003",
   "metadata": {},
   "outputs": [],
   "source": [
    "experiences_rank=0"
   ]
  },
  {
   "cell_type": "code",
   "execution_count": 98,
   "id": "49a847a3",
   "metadata": {},
   "outputs": [],
   "source": [
    "def check_skils(resume_text):\n",
    "    skills_rank=0\n",
    "    for skill in skills:\n",
    "        #print(skill[0])\n",
    "        if skill[0] in resume_text:\n",
    "            #print(1)\n",
    "            skills_rank+=1\n",
    "    return skills_rank/len(skills)*100"
   ]
  },
  {
   "cell_type": "code",
   "execution_count": 99,
   "id": "25ff3258",
   "metadata": {},
   "outputs": [
    {
     "data": {
      "text/plain": [
       "96.72131147540983"
      ]
     },
     "execution_count": 99,
     "metadata": {},
     "output_type": "execute_result"
    }
   ],
   "source": [
    "check_skils(text)"
   ]
  },
  {
   "cell_type": "code",
   "execution_count": null,
   "id": "3402e5c4",
   "metadata": {},
   "outputs": [],
   "source": []
  },
  {
   "cell_type": "code",
   "execution_count": 100,
   "id": "5fd62702",
   "metadata": {},
   "outputs": [],
   "source": [
    "df['skills_rank']=df['resume_text'].apply(lambda x:check_skils(x))\n",
    "df['skills_rank']=df['resume_text'].apply(lambda x:check_skils(x))"
   ]
  },
  {
   "cell_type": "code",
   "execution_count": 101,
   "id": "118a0f07",
   "metadata": {},
   "outputs": [
    {
     "data": {
      "text/html": [
       "<div>\n",
       "<style scoped>\n",
       "    .dataframe tbody tr th:only-of-type {\n",
       "        vertical-align: middle;\n",
       "    }\n",
       "\n",
       "    .dataframe tbody tr th {\n",
       "        vertical-align: top;\n",
       "    }\n",
       "\n",
       "    .dataframe thead th {\n",
       "        text-align: right;\n",
       "    }\n",
       "</style>\n",
       "<table border=\"1\" class=\"dataframe\">\n",
       "  <thead>\n",
       "    <tr style=\"text-align: right;\">\n",
       "      <th></th>\n",
       "      <th>candidate_email</th>\n",
       "      <th>candidate_phone</th>\n",
       "      <th>skills_rank</th>\n",
       "    </tr>\n",
       "  </thead>\n",
       "  <tbody>\n",
       "    <tr>\n",
       "      <th>2</th>\n",
       "      <td></td>\n",
       "      <td></td>\n",
       "      <td>100.000000</td>\n",
       "    </tr>\n",
       "    <tr>\n",
       "      <th>12</th>\n",
       "      <td>HowardAnderson@gmail.com</td>\n",
       "      <td>(745) 483-4946</td>\n",
       "      <td>4.918033</td>\n",
       "    </tr>\n",
       "    <tr>\n",
       "      <th>8</th>\n",
       "      <td>LeonDean@gmail.com</td>\n",
       "      <td></td>\n",
       "      <td>3.278689</td>\n",
       "    </tr>\n",
       "    <tr>\n",
       "      <th>14</th>\n",
       "      <td>HelenGrant@gmail.com</td>\n",
       "      <td>(922) 679-9797</td>\n",
       "      <td>0.000000</td>\n",
       "    </tr>\n",
       "    <tr>\n",
       "      <th>23</th>\n",
       "      <td>DonaldBritt@gmail.com</td>\n",
       "      <td>(745) 368-7944</td>\n",
       "      <td>0.000000</td>\n",
       "    </tr>\n",
       "    <tr>\n",
       "      <th>22</th>\n",
       "      <td>GayleHawkins@gmail.com</td>\n",
       "      <td>(526) 372-3648</td>\n",
       "      <td>0.000000</td>\n",
       "    </tr>\n",
       "    <tr>\n",
       "      <th>21</th>\n",
       "      <td></td>\n",
       "      <td></td>\n",
       "      <td>0.000000</td>\n",
       "    </tr>\n",
       "    <tr>\n",
       "      <th>20</th>\n",
       "      <td>VirgilRasmussen@gmail.com</td>\n",
       "      <td>(685) 682-3747</td>\n",
       "      <td>0.000000</td>\n",
       "    </tr>\n",
       "    <tr>\n",
       "      <th>19</th>\n",
       "      <td>BonniePelt@gmail.com</td>\n",
       "      <td>(937) 794-8772</td>\n",
       "      <td>0.000000</td>\n",
       "    </tr>\n",
       "    <tr>\n",
       "      <th>18</th>\n",
       "      <td>JenniferGillman@gmail.com</td>\n",
       "      <td>(979) 879-2326</td>\n",
       "      <td>0.000000</td>\n",
       "    </tr>\n",
       "    <tr>\n",
       "      <th>17</th>\n",
       "      <td>ClarencePrice@gmail.com</td>\n",
       "      <td>(786) 324-2395</td>\n",
       "      <td>0.000000</td>\n",
       "    </tr>\n",
       "    <tr>\n",
       "      <th>16</th>\n",
       "      <td>JerryBode@gmail.com</td>\n",
       "      <td>(636) 638-4737</td>\n",
       "      <td>0.000000</td>\n",
       "    </tr>\n",
       "    <tr>\n",
       "      <th>15</th>\n",
       "      <td></td>\n",
       "      <td>4 6( ) 4 7</td>\n",
       "      <td>0.000000</td>\n",
       "    </tr>\n",
       "    <tr>\n",
       "      <th>0</th>\n",
       "      <td></td>\n",
       "      <td></td>\n",
       "      <td>0.000000</td>\n",
       "    </tr>\n",
       "    <tr>\n",
       "      <th>13</th>\n",
       "      <td>FredStewart@gmail.com</td>\n",
       "      <td>(289) 863-9669</td>\n",
       "      <td>0.000000</td>\n",
       "    </tr>\n",
       "    <tr>\n",
       "      <th>1</th>\n",
       "      <td></td>\n",
       "      <td></td>\n",
       "      <td>0.000000</td>\n",
       "    </tr>\n",
       "    <tr>\n",
       "      <th>11</th>\n",
       "      <td></td>\n",
       "      <td></td>\n",
       "      <td>0.000000</td>\n",
       "    </tr>\n",
       "    <tr>\n",
       "      <th>10</th>\n",
       "      <td>LanceDuffie@gmail.com</td>\n",
       "      <td>(863) 435-4986</td>\n",
       "      <td>0.000000</td>\n",
       "    </tr>\n",
       "    <tr>\n",
       "      <th>9</th>\n",
       "      <td>BettyRedden@gmail.com</td>\n",
       "      <td>(545) 885-2686</td>\n",
       "      <td>0.000000</td>\n",
       "    </tr>\n",
       "    <tr>\n",
       "      <th>7</th>\n",
       "      <td>SusanVillanueva@gmail.com</td>\n",
       "      <td>(433) 686-6674</td>\n",
       "      <td>0.000000</td>\n",
       "    </tr>\n",
       "    <tr>\n",
       "      <th>6</th>\n",
       "      <td>WilliamBaltazar@gmail.com</td>\n",
       "      <td>(627) 367-2287</td>\n",
       "      <td>0.000000</td>\n",
       "    </tr>\n",
       "    <tr>\n",
       "      <th>5</th>\n",
       "      <td>Q@7</td>\n",
       "      <td></td>\n",
       "      <td>0.000000</td>\n",
       "    </tr>\n",
       "    <tr>\n",
       "      <th>4</th>\n",
       "      <td>JudyWelch@gmail.com</td>\n",
       "      <td>(254) 844-5629</td>\n",
       "      <td>0.000000</td>\n",
       "    </tr>\n",
       "    <tr>\n",
       "      <th>3</th>\n",
       "      <td>SharaArmour@gmail.com</td>\n",
       "      <td>(222) 949-5578</td>\n",
       "      <td>0.000000</td>\n",
       "    </tr>\n",
       "    <tr>\n",
       "      <th>24</th>\n",
       "      <td>CarmenNakata@gmail.com</td>\n",
       "      <td>(873) 929-6922</td>\n",
       "      <td>0.000000</td>\n",
       "    </tr>\n",
       "  </tbody>\n",
       "</table>\n",
       "</div>"
      ],
      "text/plain": [
       "              candidate_email candidate_phone  skills_rank\n",
       "2                                               100.000000\n",
       "12   HowardAnderson@gmail.com  (745) 483-4946     4.918033\n",
       "8          LeonDean@gmail.com                     3.278689\n",
       "14       HelenGrant@gmail.com  (922) 679-9797     0.000000\n",
       "23      DonaldBritt@gmail.com  (745) 368-7944     0.000000\n",
       "22     GayleHawkins@gmail.com  (526) 372-3648     0.000000\n",
       "21                                                0.000000\n",
       "20  VirgilRasmussen@gmail.com  (685) 682-3747     0.000000\n",
       "19       BonniePelt@gmail.com  (937) 794-8772     0.000000\n",
       "18  JenniferGillman@gmail.com  (979) 879-2326     0.000000\n",
       "17    ClarencePrice@gmail.com  (786) 324-2395     0.000000\n",
       "16        JerryBode@gmail.com  (636) 638-4737     0.000000\n",
       "15                                 4 6( ) 4 7     0.000000\n",
       "0                                                 0.000000\n",
       "13      FredStewart@gmail.com  (289) 863-9669     0.000000\n",
       "1                                                 0.000000\n",
       "11                                                0.000000\n",
       "10      LanceDuffie@gmail.com  (863) 435-4986     0.000000\n",
       "9       BettyRedden@gmail.com  (545) 885-2686     0.000000\n",
       "7   SusanVillanueva@gmail.com  (433) 686-6674     0.000000\n",
       "6   WilliamBaltazar@gmail.com  (627) 367-2287     0.000000\n",
       "5                         Q@7                     0.000000\n",
       "4         JudyWelch@gmail.com  (254) 844-5629     0.000000\n",
       "3       SharaArmour@gmail.com  (222) 949-5578     0.000000\n",
       "24     CarmenNakata@gmail.com  (873) 929-6922     0.000000"
      ]
     },
     "execution_count": 101,
     "metadata": {},
     "output_type": "execute_result"
    }
   ],
   "source": [
    "df=df.sort_values(by=['skills_rank'],ascending=False)\n",
    "df[['candidate_email','candidate_phone','skills_rank']]"
   ]
  },
  {
   "cell_type": "code",
   "execution_count": null,
   "id": "4904501a",
   "metadata": {},
   "outputs": [],
   "source": []
  },
  {
   "cell_type": "code",
   "execution_count": null,
   "id": "41ed25c0",
   "metadata": {},
   "outputs": [],
   "source": []
  },
  {
   "cell_type": "code",
   "execution_count": null,
   "id": "ed63afb1",
   "metadata": {},
   "outputs": [],
   "source": []
  },
  {
   "cell_type": "code",
   "execution_count": null,
   "id": "34b35927",
   "metadata": {},
   "outputs": [],
   "source": []
  },
  {
   "cell_type": "code",
   "execution_count": null,
   "id": "f72cde9e",
   "metadata": {},
   "outputs": [],
   "source": []
  },
  {
   "cell_type": "code",
   "execution_count": null,
   "id": "4ca4728c",
   "metadata": {},
   "outputs": [],
   "source": []
  },
  {
   "cell_type": "code",
   "execution_count": null,
   "id": "86f47935",
   "metadata": {},
   "outputs": [],
   "source": []
  },
  {
   "cell_type": "code",
   "execution_count": null,
   "id": "66ad6cc0",
   "metadata": {},
   "outputs": [],
   "source": []
  },
  {
   "cell_type": "code",
   "execution_count": null,
   "id": "723c4d52",
   "metadata": {},
   "outputs": [],
   "source": []
  },
  {
   "cell_type": "code",
   "execution_count": null,
   "id": "38a43cd0",
   "metadata": {},
   "outputs": [],
   "source": []
  },
  {
   "cell_type": "code",
   "execution_count": null,
   "id": "c30c4cad",
   "metadata": {},
   "outputs": [],
   "source": []
  },
  {
   "cell_type": "code",
   "execution_count": null,
   "id": "025e30f6",
   "metadata": {},
   "outputs": [],
   "source": []
  },
  {
   "cell_type": "code",
   "execution_count": null,
   "id": "07f701a6",
   "metadata": {},
   "outputs": [],
   "source": []
  },
  {
   "cell_type": "code",
   "execution_count": null,
   "id": "0af3d880",
   "metadata": {},
   "outputs": [],
   "source": []
  },
  {
   "cell_type": "code",
   "execution_count": null,
   "id": "21d1e040",
   "metadata": {},
   "outputs": [],
   "source": []
  },
  {
   "cell_type": "code",
   "execution_count": null,
   "id": "51fb2146",
   "metadata": {},
   "outputs": [],
   "source": []
  },
  {
   "cell_type": "code",
   "execution_count": null,
   "id": "07e0768b",
   "metadata": {},
   "outputs": [],
   "source": []
  },
  {
   "cell_type": "code",
   "execution_count": null,
   "id": "ee6b05c7",
   "metadata": {},
   "outputs": [],
   "source": []
  },
  {
   "cell_type": "code",
   "execution_count": null,
   "id": "f3ec1316",
   "metadata": {},
   "outputs": [],
   "source": []
  },
  {
   "cell_type": "code",
   "execution_count": null,
   "id": "d9095caa",
   "metadata": {},
   "outputs": [],
   "source": []
  },
  {
   "cell_type": "code",
   "execution_count": null,
   "id": "9ec4c832",
   "metadata": {},
   "outputs": [],
   "source": []
  },
  {
   "cell_type": "code",
   "execution_count": 2,
   "id": "6f33664e",
   "metadata": {},
   "outputs": [],
   "source": [
    "soft_skills=[]"
   ]
  },
  {
   "cell_type": "code",
   "execution_count": 3,
   "id": "ec2f4c7d",
   "metadata": {},
   "outputs": [],
   "source": [
    "certificates=[]"
   ]
  },
  {
   "cell_type": "code",
   "execution_count": 4,
   "id": "b64f7bd7",
   "metadata": {},
   "outputs": [],
   "source": [
    "educations=[]"
   ]
  },
  {
   "cell_type": "code",
   "execution_count": null,
   "id": "5d2777ec",
   "metadata": {},
   "outputs": [],
   "source": []
  },
  {
   "cell_type": "code",
   "execution_count": null,
   "id": "e15f1a8d",
   "metadata": {},
   "outputs": [],
   "source": []
  },
  {
   "cell_type": "code",
   "execution_count": 8,
   "id": "f55e4e37",
   "metadata": {},
   "outputs": [],
   "source": []
  },
  {
   "cell_type": "code",
   "execution_count": null,
   "id": "3c04710e",
   "metadata": {},
   "outputs": [],
   "source": []
  }
 ],
 "metadata": {
  "kernelspec": {
   "display_name": "Python 3",
   "language": "python",
   "name": "python3"
  },
  "language_info": {
   "codemirror_mode": {
    "name": "ipython",
    "version": 3
   },
   "file_extension": ".py",
   "mimetype": "text/x-python",
   "name": "python",
   "nbconvert_exporter": "python",
   "pygments_lexer": "ipython3",
   "version": "3.9.5"
  }
 },
 "nbformat": 4,
 "nbformat_minor": 5
}
