{
 "cells": [
  {
   "cell_type": "markdown",
   "id": "e973c94c",
   "metadata": {},
   "source": [
    "---\n",
    "# Installing Necessary Dependencies\n",
    "---"
   ]
  },
  {
   "cell_type": "code",
   "execution_count": null,
   "id": "4cec15b4",
   "metadata": {},
   "outputs": [],
   "source": [
    "!pip install -q PyPDF2\n",
    "!pip install -q neattext"
   ]
  },
  {
   "cell_type": "markdown",
   "id": "cfadf028",
   "metadata": {},
   "source": [
    "---\n",
    "# Importingg Dependencies\n",
    "---"
   ]
  },
  {
   "cell_type": "code",
   "execution_count": 78,
   "id": "84bcdb22",
   "metadata": {},
   "outputs": [],
   "source": [
    "import pandas as pd         #python package for data analysis\n",
    "import os                   #python package for dealing with system files and directories\n",
    "import re\n",
    "import neattext as nt\n",
    "import PyPDF2"
   ]
  },
  {
   "cell_type": "code",
   "execution_count": 9,
   "id": "94bbe537",
   "metadata": {},
   "outputs": [],
   "source": [
    "pdf_files=os.listdir()    #list pdf files\n",
    "pdfs_text={}              #creating storage for pdfs text"
   ]
  },
  {
   "cell_type": "code",
   "execution_count": 7,
   "id": "c685a15e",
   "metadata": {},
   "outputs": [
    {
     "data": {
      "text/plain": [
       "['.ipynb_checkpoints',\n",
       " 'Intel (1).pdf',\n",
       " 'Osram.pdf',\n",
       " 'Python Assessment.xlsx',\n",
       " 'Untitled.ipynb']"
      ]
     },
     "execution_count": 7,
     "metadata": {},
     "output_type": "execute_result"
    }
   ],
   "source": [
    "pdf_files"
   ]
  },
  {
   "cell_type": "code",
   "execution_count": 67,
   "id": "101a27af",
   "metadata": {},
   "outputs": [
    {
     "name": "stderr",
     "output_type": "stream",
     "text": [
      "UserWarning: Page.extractText is deprecated and will be removed in PyPDF2 2.0.0. Use Page.extract_text instead. [_page.py:1003]\n"
     ]
    }
   ],
   "source": [
    "for file in pdf_files:             #iterating each file\n",
    "    if '.pdf' in file:             #selecting a file if it is pdf file\n",
    "        pdf_file=open(file, 'rb')\n",
    "        # Create a PDF reader object\n",
    "        pdf_reader = PyPDF2.PdfFileReader(pdf_file)\n",
    "        # Get the number of pages in the PDF file\n",
    "        num_pages = pdf_reader.getNumPages()\n",
    "        for page_num in range(num_pages):\n",
    "            # Get the page object\n",
    "            page_obj = pdf_reader.getPage(page_num)\n",
    "            # Extract the text from the page\n",
    "            page_text = page_obj.extractText()\n",
    "        pdfs_text[file]=page_text"
   ]
  },
  {
   "cell_type": "code",
   "execution_count": 68,
   "id": "c83803be",
   "metadata": {},
   "outputs": [
    {
     "data": {
      "text/plain": [
       "{'Intel (1).pdf': \"So I'd say, overall, yes, we would have probably liked to have less platform transitions than this has induced, but so far, the response from customers\\nis they're going through those transitions with us. They're seeing value in those transitions. And particularly, as I say, as we look out to the Sapphire\\nRapids generation, there's a lot of value in there with some of the major, major enhancements that are part of that.\\nObviously, as we look further out in time, having more platform stability in the architecture, I think, is something we're striving for. And I think as\\nwe lay out the '23, '24, '25 road map directions to the industry, you'll start to see that theme much more seminally, right, centered in the road map.\\nAlso, I think as we get all aspects of our core leadership, our vector AI leadership, process leadership, all of those start to come into play, I think we'll\\nsee a very nice view of how that platform architecture lays out over time.\\nTony Balow\\n - Intel Corporation - \\nSenior Director of IR\\nPat, you have closing thoughts for the call?\\nPatrick P. Gelsinger\\n - Intel Corporation - \\nCEO & Director\\nWell, hey, first, I just want to again say thank you to everybody for joining my first call back as the CEO of VMware. One opportunity, last opportunity\\nto say Intel is back. We're firing on all cylinders. Our best days are ahead of us. We're investing for the future. We're executing, and we're just getting\\nstarted. Look forward to our next quarterly call with you.\\nTony Balow\\n - Intel Corporation - \\nSenior Director of IR\\nThanks, Pat. Thank you all for joining today. Operator, could you please close the call?\\nOperator\\nThis concludes today's conference call. Thank you for participating. You may now disconnect.\\nDISCLAIMER\\nRefinitiv reserves the right to make changes to documents, content, or other information on this web site without obligation to notify any person of such changes.\\nIn the conference calls upon which Event Transcripts are based, companies may make projections or other forward-looking statements regarding a variety of items. Such forward-looking statements are based upon\\ncurrent expectations and involve risks and uncertainties. Actual results may differ materially from those stated in any forward-looking statement based on a number of important factors and risks, which are more\\nspecifically identified in the companies' most recent SEC filings. Although the companies may indicate and believe that the assumptions underlying the forward-looking statements are reasonable, any of the\\nassumptions could prove inaccurate or incorrect and, therefore, there can be no assurance that the results contemplated in the forward-looking statements will be realized.\\nTHE INFORMATION CONTAINED IN EVENT TRANSCRIPTS IS A TEXTUAL REPRESENTATION OF THE APPLICABLE COMPANY'S CONFERENCE CALL AND WHILE EFFORTS ARE MADE TO PROVIDE AN ACCURATE TRANSCRIPTION,\\nTHERE MAY BE MATERIAL ERRORS, OMISSIONS, OR INACCURACIES IN THE REPORTING OF THE SUBSTANCE OF THE CONFERENCE CALLS. IN NO WAY DOES REFINITIV OR THE APPLICABLE COMPANY ASSUME ANY\\nRESPONSIBILITY FOR ANY INVESTMENT OR OTHER DECISIONS MADE BASED UPON THE INFORMATION PROVIDED ON THIS WEB SITE OR IN ANY EVENT TRANSCRIPT. USERS ARE ADVISED TO REVIEW THE APPLICABLE\\nCOMPANY'S CONFERENCE CALL ITSELF AND THE APPLICABLE COMPANY'S SEC FILINGS BEFORE MAKING ANY INVESTMENT OR OTHER DECISIONS.\\n©2021, Refinitiv. All Rights Reserved. \\n14652502-2021-04-26T06:56:15.893\\n16\\nREFINITIV STREETEVENTS | \\nwww.refinitiv.com\\n | \\nContact Us\\n©2021 Refinitiv. All rights reserved. Republication or redistribution of Refinitiv content, including by framing or similar means, is prohibited without the prior written\\nconsent of Refinitiv. 'Refinitiv' and the Refinitiv logo are registered trademarks of Refinitiv and its affiliated companies.\\nAPRIL 22, 2021 / 9:00PM, INTC.OQ - Q1 2021 Intel Corp Earnings Call\\n\",\n",
       " 'Osram.pdf': \"DISCLAIMER\\nRefinitiv reserves the right to make changes to documents, content, or other information on this web site without obligation to notify any person of such changes.\\nIn the conference calls upon which Event Transcripts are based, companies may make projections or other forward-looking statements regarding a variety of items. Such forward-looking statements are based upon\\ncurrent expectations and involve risks and uncertainties. Actual results may differ materially from those stated in any forward-looking statement based on a number of important factors and risks, which are more\\nspecifically identified in the companies' most recent SEC filings. Although the companies may indicate and believe that the assumptions underlying the forward-looking statements are reasonable, any of the\\nassumptions could prove inaccurate or incorrect and, therefore, there can be no assurance that the results contemplated in the forward-looking statements will be realized.\\nTHE INFORMATION CONTAINED IN EVENT TRANSCRIPTS IS A TEXTUAL REPRESENTATION OF THE APPLICABLE COMPANY'S CONFERENCE CALL AND WHILE EFFORTS ARE MADE TO PROVIDE AN ACCURATE TRANSCRIPTION,\\nTHERE MAY BE MATERIAL ERRORS, OMISSIONS, OR INACCURACIES IN THE REPORTING OF THE SUBSTANCE OF THE CONFERENCE CALLS. IN NO WAY DOES REFINITIV OR THE APPLICABLE COMPANY ASSUME ANY\\nRESPONSIBILITY FOR ANY INVESTMENT OR OTHER DECISIONS MADE BASED UPON THE INFORMATION PROVIDED ON THIS WEB SITE OR IN ANY EVENT TRANSCRIPT. USERS ARE ADVISED TO REVIEW THE APPLICABLE\\nCOMPANY'S CONFERENCE CALL ITSELF AND THE APPLICABLE COMPANY'S SEC FILINGS BEFORE MAKING ANY INVESTMENT OR OTHER DECISIONS.\\n©2021, Refinitiv. All Rights Reserved. \\n13616297-2021-02-09T15:36:48\\n12\\nREFINITIV STREETEVENTS | \\nwww.refinitiv.com\\n | \\nContact Us\\n©2021 Refinitiv. All rights reserved. Republication or redistribution of Refinitiv content, including by framing or similar means, is prohibited without the prior written\\nconsent of Refinitiv. 'Refinitiv' and the Refinitiv logo are registered trademarks of Refinitiv and its affiliated companies.\\nFEBRUARY 09, 2021 / 1:00PM, OSRn.DE - Q1 2021 Osram Licht AG Earnings Call\\n\"}"
      ]
     },
     "execution_count": 68,
     "metadata": {},
     "output_type": "execute_result"
    }
   ],
   "source": [
    "pdfs_text"
   ]
  },
  {
   "cell_type": "markdown",
   "id": "b08aad21",
   "metadata": {},
   "source": [
    "---\n",
    "# Creating Pandas DataFrame\n",
    "---"
   ]
  },
  {
   "cell_type": "code",
   "execution_count": 69,
   "id": "f85d6355",
   "metadata": {},
   "outputs": [],
   "source": [
    "pdf_df=pd.DataFrame(pdfs_text.values(),columns=['pdf_text'])"
   ]
  },
  {
   "cell_type": "code",
   "execution_count": 70,
   "id": "72792aae",
   "metadata": {},
   "outputs": [
    {
     "data": {
      "text/html": [
       "<div>\n",
       "<style scoped>\n",
       "    .dataframe tbody tr th:only-of-type {\n",
       "        vertical-align: middle;\n",
       "    }\n",
       "\n",
       "    .dataframe tbody tr th {\n",
       "        vertical-align: top;\n",
       "    }\n",
       "\n",
       "    .dataframe thead th {\n",
       "        text-align: right;\n",
       "    }\n",
       "</style>\n",
       "<table border=\"1\" class=\"dataframe\">\n",
       "  <thead>\n",
       "    <tr style=\"text-align: right;\">\n",
       "      <th></th>\n",
       "      <th>pdf_text</th>\n",
       "    </tr>\n",
       "  </thead>\n",
       "  <tbody>\n",
       "    <tr>\n",
       "      <th>0</th>\n",
       "      <td>So I'd say, overall, yes, we would have probab...</td>\n",
       "    </tr>\n",
       "    <tr>\n",
       "      <th>1</th>\n",
       "      <td>DISCLAIMER\\nRefinitiv reserves the right to ma...</td>\n",
       "    </tr>\n",
       "  </tbody>\n",
       "</table>\n",
       "</div>"
      ],
      "text/plain": [
       "                                            pdf_text\n",
       "0  So I'd say, overall, yes, we would have probab...\n",
       "1  DISCLAIMER\\nRefinitiv reserves the right to ma..."
      ]
     },
     "execution_count": 70,
     "metadata": {},
     "output_type": "execute_result"
    }
   ],
   "source": [
    "pdf_df"
   ]
  },
  {
   "cell_type": "markdown",
   "id": "ff20f206",
   "metadata": {},
   "source": [
    "---\n",
    "# Prepprocessing\n",
    "---"
   ]
  },
  {
   "cell_type": "code",
   "execution_count": 79,
   "id": "5c18c963",
   "metadata": {},
   "outputs": [],
   "source": [
    "def preprocessing(text):\n",
    "    text=nt.remove_urls(text)               #removing urls\n",
    "    text=nt.fix_contractions(text)          # I'm  ->> I am\n",
    "    text=nt.remove_special_characters(text) #removing special characters\n",
    "    text=nt.remove_numbers(text)            #removing numbers\n",
    "    text=nt.remove_stopwords(text)          #removing stopwords\n",
    "    text=nt.remove_shortwords(text,3)       #removing short words i.e(length 3)\n",
    "    return text"
   ]
  },
  {
   "cell_type": "code",
   "execution_count": 80,
   "id": "244267cf",
   "metadata": {},
   "outputs": [],
   "source": [
    "pdf_df['cleaned_text']=pdf_df['pdf_text'].apply(lambda x:preprocessing(x))"
   ]
  },
  {
   "cell_type": "markdown",
   "id": "393760a4",
   "metadata": {},
   "source": [
    "---\n",
    "# Cleaned Text\n",
    "---"
   ]
  },
  {
   "cell_type": "code",
   "execution_count": 51,
   "id": "aea3b90a",
   "metadata": {},
   "outputs": [
    {
     "data": {
      "text/plain": [
       "'overall probably liked platform transitions induced response customers going transitions seeing value transitions particularly look sapphire rapids generation value major major enhancements that obviously look time platform stability architecture think striving think road directions industry start theme seminally right centered road also think aspects core leadership vector leadership process leadership start come play think nice view platform architecture lays time tony balow intel corporation senior director closing thoughts call patrick gelsinger intel corporation director well first want thank everybody joining vmware opportunity opportunity intel back firing cylinders best days ahead investing future executing getting started look forward quarterly tony balow intel corporation senior director thanks thank joining today operator close call operator concludes today conference call thank participating disconnect disclaimer refinitiv reserves right changes documents content information site obligation notify person changes conference calls event transcripts based companies projections forward looking statements variety items forward looking statements based current expectations involve risks uncertainties actual results differ materially stated forward looking statement based number important factors risks specifically identified companies recent filings companies indicate believe assumptions underlying forward looking statements reasonable assumptions prove inaccurate incorrect therefore assurance results contemplated forward looking statements realized information contained event transcripts textual representation applicable company conference efforts provide accurate transcription material errors omissions inaccuracies reporting substance conference calls refinitiv applicable company assume responsibility investment decisions based information provided site event transcript users advised review applicable company conference applicable company filings making investment decisions 2021 refinitiv rights reserved 14652502 2021 26t06 refinitiv streetevents contact 2021 refinitiv rights reserved republication redistribution refinitiv content including framing similar means prohibited prior written consent refinitiv arefinitiv refinitiv logo registered trademarks refinitiv affiliated companies april 2021 00pm intc 2021 intel corp earnings'"
      ]
     },
     "execution_count": 51,
     "metadata": {},
     "output_type": "execute_result"
    }
   ],
   "source": [
    "pdf_df['cleaned_text'][0]"
   ]
  }
 ],
 "metadata": {
  "kernelspec": {
   "display_name": "Python 3",
   "language": "python",
   "name": "python3"
  },
  "language_info": {
   "codemirror_mode": {
    "name": "ipython",
    "version": 3
   },
   "file_extension": ".py",
   "mimetype": "text/x-python",
   "name": "python",
   "nbconvert_exporter": "python",
   "pygments_lexer": "ipython3",
   "version": "3.9.5"
  }
 },
 "nbformat": 4,
 "nbformat_minor": 5
}
