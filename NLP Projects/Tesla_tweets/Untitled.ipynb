{
 "cells": [
  {
   "cell_type": "code",
   "execution_count": 44,
   "id": "7f70441c",
   "metadata": {},
   "outputs": [],
   "source": [
    "import pandas as pd\n",
    "import re\n",
    "import neattext as nt"
   ]
  },
  {
   "cell_type": "code",
   "execution_count": 90,
   "id": "f6d123c8",
   "metadata": {},
   "outputs": [],
   "source": [
    "df=pd.read_csv('Tesla.csv',usecols=['date','place', 'tweet', 'language', 'hashtags', 'day','nlikes', 'nreplies',\n",
    "       'nretweets'])"
   ]
  },
  {
   "cell_type": "code",
   "execution_count": 91,
   "id": "902ee927",
   "metadata": {},
   "outputs": [],
   "source": [
    "df.tweet=df.tweet.apply(lambda x:re.sub(r'(http://[^\"\\s]+)|(@\\w+)','',x))"
   ]
  },
  {
   "cell_type": "code",
   "execution_count": 92,
   "id": "d4af6d49",
   "metadata": {},
   "outputs": [],
   "source": [
    "df.tweet=df.tweet.apply(lambda x:re.sub(r'(http://[^\"\\s]+)|(#\\w+)','',x))"
   ]
  },
  {
   "cell_type": "code",
   "execution_count": 93,
   "id": "dc54f7fc",
   "metadata": {},
   "outputs": [],
   "source": [
    "df.tweet=df.tweet.apply(lambda x:nt.remove_special_characters(x))"
   ]
  },
  {
   "cell_type": "code",
   "execution_count": 94,
   "id": "963bff15",
   "metadata": {},
   "outputs": [],
   "source": [
    "df.tweet=df.tweet.apply(lambda x:nt.remove_urls(x))"
   ]
  },
  {
   "cell_type": "code",
   "execution_count": 95,
   "id": "78625ddf",
   "metadata": {},
   "outputs": [],
   "source": [
    "df.tweet=df.tweet.apply(lambda x:nt.remove_multiple_spaces(x))"
   ]
  },
  {
   "cell_type": "code",
   "execution_count": 96,
   "id": "5266d2c8",
   "metadata": {},
   "outputs": [],
   "source": [
    "df.tweet=df.tweet.apply(lambda x:x.strip())"
   ]
  },
  {
   "cell_type": "code",
   "execution_count": 97,
   "id": "3f158aa2",
   "metadata": {},
   "outputs": [],
   "source": [
    "pd.set_option('display.max_colwidth',50)"
   ]
  },
  {
   "cell_type": "code",
   "execution_count": 98,
   "id": "9dbc364a",
   "metadata": {},
   "outputs": [
    {
     "data": {
      "text/plain": [
       "0        I have six 4 of them still live at home being ...\n",
       "1        Then go for your dozen kids you are just missi...\n",
       "2        about buying a country You could turn it into ...\n",
       "3        Actual receipts and yet you havent asked anyon...\n",
       "4        Tesla wall battery for the save Power went out...\n",
       "                               ...                        \n",
       "10011    Dude only said he is buying twitter to sell 8 ...\n",
       "10012                                   Give me your Tesla\n",
       "10013    Sebuah keluarga yang setia kepada Tesla bertuk...\n",
       "10014    Chick Fil A should definitely go public they s...\n",
       "10015                   Fossil fuels Like coal natural gas\n",
       "Name: tweet, Length: 10016, dtype: object"
      ]
     },
     "execution_count": 98,
     "metadata": {},
     "output_type": "execute_result"
    }
   ],
   "source": [
    "df.tweet"
   ]
  },
  {
   "cell_type": "code",
   "execution_count": 99,
   "id": "a7b41d70",
   "metadata": {},
   "outputs": [
    {
     "data": {
      "text/plain": [
       "Index(['date', 'place', 'tweet', 'language', 'hashtags', 'day', 'nlikes',\n",
       "       'nreplies', 'nretweets'],\n",
       "      dtype='object')"
      ]
     },
     "execution_count": 99,
     "metadata": {},
     "output_type": "execute_result"
    }
   ],
   "source": [
    "df.columns"
   ]
  },
  {
   "cell_type": "code",
   "execution_count": 102,
   "id": "6b91680a",
   "metadata": {},
   "outputs": [
    {
     "data": {
      "text/plain": [
       "2022-07-11 16:58:09    6\n",
       "2022-07-11 16:58:12    5\n",
       "2022-07-11 16:58:11    5\n",
       "2022-07-11 16:35:09    5\n",
       "2022-07-11 10:30:00    4\n",
       "                      ..\n",
       "2022-07-11 16:01:42    1\n",
       "2022-07-11 12:34:34    1\n",
       "2022-07-11 16:02:26    1\n",
       "2022-07-11 13:50:40    1\n",
       "2022-07-11 06:48:19    1\n",
       "Name: date, Length: 8768, dtype: int64"
      ]
     },
     "execution_count": 102,
     "metadata": {},
     "output_type": "execute_result"
    }
   ],
   "source": [
    "df['date'].value_counts()"
   ]
  },
  {
   "cell_type": "code",
   "execution_count": 101,
   "id": "c37224ef",
   "metadata": {},
   "outputs": [
    {
     "data": {
      "text/plain": [
       "en     7358\n",
       "es      518\n",
       "de      349\n",
       "ja      269\n",
       "und     218\n",
       "fr      206\n",
       "tr      188\n",
       "qme     111\n",
       "pl      100\n",
       "in       81\n",
       "pt       80\n",
       "nl       77\n",
       "it       63\n",
       "ca       33\n",
       "ko       29\n",
       "zh       27\n",
       "qam      26\n",
       "et       23\n",
       "da       22\n",
       "ar       20\n",
       "cs       20\n",
       "tl       20\n",
       "no       19\n",
       "sv       18\n",
       "fi       17\n",
       "eu       13\n",
       "el       12\n",
       "ht       12\n",
       "uk       10\n",
       "hi       10\n",
       "hu       10\n",
       "ru        8\n",
       "lv        7\n",
       "sl        7\n",
       "is        6\n",
       "ro        6\n",
       "th        5\n",
       "te        4\n",
       "qht       2\n",
       "lt        2\n",
       "cy        2\n",
       "vi        2\n",
       "ne        1\n",
       "ur        1\n",
       "kn        1\n",
       "ml        1\n",
       "gu        1\n",
       "bg        1\n",
       "Name: language, dtype: int64"
      ]
     },
     "execution_count": 101,
     "metadata": {},
     "output_type": "execute_result"
    }
   ],
   "source": [
    "df.language.value_counts()"
   ]
  },
  {
   "cell_type": "code",
   "execution_count": null,
   "id": "5e69ff17",
   "metadata": {},
   "outputs": [],
   "source": []
  }
 ],
 "metadata": {
  "kernelspec": {
   "display_name": "Python 3",
   "language": "python",
   "name": "python3"
  },
  "language_info": {
   "codemirror_mode": {
    "name": "ipython",
    "version": 3
   },
   "file_extension": ".py",
   "mimetype": "text/x-python",
   "name": "python",
   "nbconvert_exporter": "python",
   "pygments_lexer": "ipython3",
   "version": "3.9.5"
  }
 },
 "nbformat": 4,
 "nbformat_minor": 5
}
