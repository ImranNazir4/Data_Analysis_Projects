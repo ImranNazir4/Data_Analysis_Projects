{
  "cells": [
    {
      "cell_type": "markdown",
      "metadata": {
        "id": "uxyARJY46vKO"
      },
      "source": [
        "### snscrape"
      ]
    },
    {
      "cell_type": "markdown",
      "metadata": {
        "id": "zkPEhJn_Kga0"
      },
      "source": [
        "- Twitter is also known for being an abundant source of publc text data (perhaps even more so than Reddit).\n",
        "- For this tutorial, we'll look at using the [snscrape scraper](https://github.com/JustAnotherArchivist/snscrape), which allows us to retreive tweets that contain specific words, phrases, and hashtags.\n",
        "- In the slides, we talked about how to setup a Twitter App and get a API keys.\n",
        "    - You should add your own keys below and then run the code block to set your keys:"
      ]
    },
    {
      "cell_type": "markdown",
      "source": [
        "\n",
        "\n",
        "---\n",
        "\n",
        "\n",
        "\n",
        "---\n",
        "\n"
      ],
      "metadata": {
        "id": "65zz7hg4mS_Y"
      }
    },
    {
      "cell_type": "markdown",
      "metadata": {
        "id": "Yv5g0fzugV-F"
      },
      "source": [
        "# **Installing snscrape:**"
      ]
    },
    {
      "cell_type": "code",
      "execution_count": null,
      "metadata": {
        "id": "_F6zB9qxgV-F"
      },
      "outputs": [],
      "source": [
        "!pip3 install snscrape"
      ]
    },
    {
      "cell_type": "code",
      "source": [
        "import os"
      ],
      "metadata": {
        "id": "0qZXyXLchnwZ"
      },
      "execution_count": null,
      "outputs": []
    },
    {
      "cell_type": "markdown",
      "metadata": {
        "id": "5ozTZ-ahgV-F"
      },
      "source": [
        "# **Running snscrape from command line:**"
      ]
    },
    {
      "cell_type": "code",
      "execution_count": null,
      "metadata": {
        "id": "ps-ss8W2gV-G"
      },
      "outputs": [],
      "source": [
        "#snscrape --jsonl --progress --max-results 100 --since 2022-01-01 twitter-search \"chatgpt filter:verified lang:en until:2023-01-02\" > tweets.json"
      ]
    },
    {
      "cell_type": "markdown",
      "metadata": {
        "tags": [],
        "id": "AGsxzZ6NgV-G"
      },
      "source": [
        "# A simple python code to scrape Twitter using snscrape"
      ]
    },
    {
      "cell_type": "code",
      "execution_count": null,
      "metadata": {
        "id": "p64CR2m2gV-H"
      },
      "outputs": [],
      "source": [
        "os.system('snscrape --jsonl --progress --max-results 100000 --since 2022-01-01 twitter-search \"chatgpt filter:verified lang:en until:2023-01-02\" > tweets.json')"
      ]
    },
    {
      "cell_type": "markdown",
      "source": [
        "# **Installing Dependencies**"
      ],
      "metadata": {
        "id": "4GOBBPNWxAYG"
      }
    },
    {
      "cell_type": "code",
      "source": [
        "!pip install -q neattext\n",
        "!pip install -q textblob==0.17.1"
      ],
      "metadata": {
        "id": "noiKLYcomoaG"
      },
      "execution_count": null,
      "outputs": []
    },
    {
      "cell_type": "markdown",
      "source": [
        "# **Importing Dependencies**"
      ],
      "metadata": {
        "id": "1EBBu7ShxQOs"
      }
    },
    {
      "cell_type": "code",
      "source": [
        "import pandas as pd                           #package for data analysis\n",
        "import numpy as np                            #package for handling arrays \n",
        "import matplotlib.pyplot as plt               #package for data visualizations\n",
        "import neattext as nt                         #package for text cleaning\n",
        "import seaborn as sns                         #package for data visualization"
      ],
      "metadata": {
        "id": "3tyDiDMUmbim"
      },
      "execution_count": null,
      "outputs": []
    },
    {
      "cell_type": "markdown",
      "source": [
        "# **Reading the Dataset**"
      ],
      "metadata": {
        "id": "fnAP5u2HxVlu"
      }
    },
    {
      "cell_type": "code",
      "source": [
        "df=pd.read_json(\"tweets.json\",lines=True)"
      ],
      "metadata": {
        "id": "9clPU9t4mbfu"
      },
      "execution_count": null,
      "outputs": []
    },
    {
      "cell_type": "markdown",
      "source": [
        "# **Feature of the Dataset**"
      ],
      "metadata": {
        "id": "4bc20a4ziZD7"
      }
    },
    {
      "cell_type": "code",
      "source": [
        "df.columns"
      ],
      "metadata": {
        "id": "RKe9jUetmbck"
      },
      "execution_count": null,
      "outputs": []
    },
    {
      "cell_type": "code",
      "source": [
        "df.rename({'renderedContent':'tweet_text'},axis=1,inplace=True)   #renaming feature name renderedContent to tweet_text"
      ],
      "metadata": {
        "id": "lSaIPeIambYO"
      },
      "execution_count": null,
      "outputs": []
    },
    {
      "cell_type": "markdown",
      "source": [
        "# **Data Preprocessing**"
      ],
      "metadata": {
        "id": "B04aXdrQxakC"
      }
    },
    {
      "cell_type": "code",
      "source": [
        "def text_preprocessing(text):\n",
        "  text=nt.fix_contractions(text)     #I'm -> I am\n",
        "  text=nt.remove_urls(text)          #removing urls\n",
        "  text=nt.remove_non_ascii(text)     #removing non-ascii characters\n",
        "  text=nt.remove_userhandles(text)   #removing urserhandles\n",
        "  text=nt.remove_hashtags(text)      #removing hashtags\n",
        "  text=nt.remove_multiple_spaces(text)  #removing multiple spaces\n",
        "  return text\n",
        "  "
      ],
      "metadata": {
        "id": "euguyGcspIoi"
      },
      "execution_count": null,
      "outputs": []
    },
    {
      "cell_type": "code",
      "source": [
        "df.tweet_text=df.tweet_text.apply(lambda x:text_preprocessing(x))"
      ],
      "metadata": {
        "id": "Wx4IF2zJqBKA"
      },
      "execution_count": null,
      "outputs": []
    },
    {
      "cell_type": "markdown",
      "source": [
        "# **Sentiment Analysis**"
      ],
      "metadata": {
        "id": "C7JdJ0ymxj2r"
      }
    },
    {
      "cell_type": "code",
      "source": [
        "from textblob import TextBlob   #special package for short sentence sentiment analysis"
      ],
      "metadata": {
        "id": "gib8fXFwmbGj"
      },
      "execution_count": null,
      "outputs": []
    },
    {
      "cell_type": "code",
      "source": [
        "def sentiment_polarity(text):\n",
        "  '''\n",
        "  this fucntion calculates polarity of each tweet\n",
        "  '''\n",
        "  text=TextBlob(text)\n",
        "  return text.sentiment.polarity"
      ],
      "metadata": {
        "id": "yt0duqVOmbDT"
      },
      "execution_count": null,
      "outputs": []
    },
    {
      "cell_type": "code",
      "source": [
        "df['sentiment_polarity']=df.tweet_text.apply(lambda x:sentiment_polarity(x))"
      ],
      "metadata": {
        "id": "pvpnBT2ombAK"
      },
      "execution_count": null,
      "outputs": []
    },
    {
      "cell_type": "code",
      "source": [
        "def sentiment_tag(polarity):\n",
        "  '''\n",
        "  this function assigns sentiment tag according to its polarity\n",
        "  '''\n",
        "  if polarity>0:\n",
        "        return 'positive'\n",
        "  elif polarity<0:\n",
        "        return 'negative'\n",
        "  else:\n",
        "    return 'neutral'"
      ],
      "metadata": {
        "id": "8jLannnJma8a"
      },
      "execution_count": null,
      "outputs": []
    },
    {
      "cell_type": "code",
      "source": [
        "df['sentiment_tag']=df['sentiment_polarity'].apply(lambda x:sentiment_tag(x))"
      ],
      "metadata": {
        "id": "HrQ3KiLuma4j"
      },
      "execution_count": null,
      "outputs": []
    },
    {
      "cell_type": "code",
      "source": [
        "sns.countplot(x=df['sentiment_tag'])\n",
        "plt.title('Sentiment Distribution')\n",
        "plt.show()"
      ],
      "metadata": {
        "id": "cSs9DR0ljy-A"
      },
      "execution_count": null,
      "outputs": []
    },
    {
      "cell_type": "markdown",
      "source": [
        "# **Word Cloud Visualizaiton**"
      ],
      "metadata": {
        "id": "Pq-M2qFXjiWo"
      }
    },
    {
      "cell_type": "code",
      "source": [
        "from wordcloud import WordCloud"
      ],
      "metadata": {
        "id": "Z4pHxh19mayS"
      },
      "execution_count": null,
      "outputs": []
    },
    {
      "cell_type": "code",
      "source": [
        "all_words = ' '.join(df['sentiment_tag'])\n",
        "wordcloud = WordCloud(width=800, height=500, random_state=21, max_font_size=110).generate(all_words)\n",
        "\n",
        "plt.figure(figsize=(10, 7))\n",
        "plt.imshow(wordcloud, interpolation=\"bilinear\")\n",
        "plt.axis('off')\n",
        "plt.show()"
      ],
      "metadata": {
        "id": "eYL9TctlmavJ"
      },
      "execution_count": null,
      "outputs": []
    },
    {
      "cell_type": "markdown",
      "source": [
        "# **Emotion Analysis**"
      ],
      "metadata": {
        "id": "VjLR62c-kEpU"
      }
    },
    {
      "cell_type": "code",
      "source": [
        "!pip install -q transformers \n",
        "from transformers import pipeline\n",
        "emotion = pipeline('sentiment-analysis', model='arpanghoshal/EmoRoBERTa')"
      ],
      "metadata": {
        "id": "9ah4eCyc_S-D"
      },
      "execution_count": null,
      "outputs": []
    },
    {
      "cell_type": "code",
      "source": [
        "df['Emotions']=df['tweet_text'].apply(emotion)"
      ],
      "metadata": {
        "id": "0qODeili_S6j"
      },
      "execution_count": null,
      "outputs": []
    },
    {
      "cell_type": "code",
      "source": [
        "def extract_em(em_dict):\n",
        "  return em_dict[0]['label'] "
      ],
      "metadata": {
        "id": "s_uffdzt_S2n"
      },
      "execution_count": null,
      "outputs": []
    },
    {
      "cell_type": "code",
      "source": [
        "df['Emotions_Label']=df['Emotions'].apply(lambda x:extract_em(x))"
      ],
      "metadata": {
        "id": "inWq0pgo_SzO"
      },
      "execution_count": null,
      "outputs": []
    },
    {
      "cell_type": "code",
      "source": [
        "plt.figure(figsize=(20,10))\n",
        "sns.countplot(x=df['Emotions_Label'])\n",
        "plt.title('Emotions Distribution')"
      ],
      "metadata": {
        "id": "04slEmA2_Su8"
      },
      "execution_count": null,
      "outputs": []
    },
    {
      "cell_type": "markdown",
      "source": [
        "# **Postprocessing**"
      ],
      "metadata": {
        "id": "Ws4enW8bkQET"
      }
    },
    {
      "cell_type": "code",
      "source": [
        "df['tweet_text']=df['tweet_text'].apply(lambda x:nt.remove_special_characters(x))\n",
        "df['tweet_text']=df['tweet_text'].apply(lambda x:nt.remove_numbers(x))\n",
        "df['tweet_text']=df['tweet_text'].apply(lambda x:nt.remove_stopwords(x))\n",
        "df['tweet_text']=df['tweet_text'].apply(lambda x:nt.remove_shortwords(x,3))"
      ],
      "metadata": {
        "id": "fTQxqovrvquc"
      },
      "execution_count": null,
      "outputs": []
    },
    {
      "cell_type": "code",
      "source": [
        "all_words = ' '.join(df['tweet_text'])\n",
        "wordcloud = WordCloud(width=800, height=500, random_state=21, max_font_size=110).generate(all_words)\n",
        "\n",
        "plt.figure(figsize=(10, 7))\n",
        "plt.imshow(wordcloud, interpolation=\"bilinear\")\n",
        "plt.axis('off')\n",
        "plt.show()"
      ],
      "metadata": {
        "id": "Lgs4yNwcmaq0"
      },
      "execution_count": null,
      "outputs": []
    },
    {
      "cell_type": "code",
      "source": [
        "df.columns"
      ],
      "metadata": {
        "id": "NnqidSUuman9"
      },
      "execution_count": null,
      "outputs": []
    },
    {
      "cell_type": "markdown",
      "source": [
        "# **Tweets by Month**"
      ],
      "metadata": {
        "id": "rlTSmv7q12X2"
      }
    },
    {
      "cell_type": "code",
      "source": [
        "df.index=df.date"
      ],
      "metadata": {
        "id": "JD9A6jow0YH6"
      },
      "execution_count": null,
      "outputs": []
    },
    {
      "cell_type": "code",
      "source": [
        "tweets_by_month=df.loc[:,'tweet_text'].resample('m').count()"
      ],
      "metadata": {
        "id": "CgCMF6dE0rZ8"
      },
      "execution_count": null,
      "outputs": []
    },
    {
      "cell_type": "code",
      "source": [
        "tweets_by_month.plot()"
      ],
      "metadata": {
        "id": "u_Ut0fp401Gc"
      },
      "execution_count": null,
      "outputs": []
    },
    {
      "cell_type": "code",
      "source": [
        "plt.figure(figsize=(20,5))\n",
        "sns.barplot(x=df['sourceLabel'].value_counts()[0:10].index,y=df['sourceLabel'].value_counts()[0:10].values)\n",
        "plt.title('Tweet Sources')"
      ],
      "metadata": {
        "id": "Ef68-kdtmak1"
      },
      "execution_count": null,
      "outputs": []
    },
    {
      "cell_type": "code",
      "source": [
        "corpus=''.join(df['tweet_text'])"
      ],
      "metadata": {
        "id": "PL4By2V0maQY"
      },
      "execution_count": null,
      "outputs": []
    },
    {
      "cell_type": "code",
      "source": [
        "#corpus=[word for word in corpus.split()]\n",
        "corpus=list(corpus.split())"
      ],
      "metadata": {
        "id": "0NS8r04S6f16"
      },
      "execution_count": null,
      "outputs": []
    },
    {
      "cell_type": "code",
      "source": [
        "import gensim.corpora as corpora\n",
        "# Create Dictionary\n",
        "id2word = corpora.Dictionary([corpus])\n",
        "# Create Corpus\n",
        "texts = [corpus]\n",
        "# Term Document Frequency\n",
        "corpus = [id2word.doc2bow(text) for text in texts]\n"
      ],
      "metadata": {
        "id": "sD90vFLTmaM1"
      },
      "execution_count": null,
      "outputs": []
    },
    {
      "cell_type": "markdown",
      "source": [
        "# **Topic Modelling**"
      ],
      "metadata": {
        "id": "NJtbGUClkclc"
      }
    },
    {
      "cell_type": "code",
      "source": [
        "import gensim"
      ],
      "metadata": {
        "id": "RGFYa5Xp81Jk"
      },
      "execution_count": null,
      "outputs": []
    },
    {
      "cell_type": "code",
      "source": [
        "# number of topics\n",
        "num_topics = 10\n",
        "# Build LDA model\n",
        "lda_model = gensim.models.LdaMulticore(corpus=corpus,\n",
        "                                       id2word=id2word,\n",
        "                                      num_topics=100)\n"
      ],
      "metadata": {
        "id": "2BACiO0VmaIm"
      },
      "execution_count": null,
      "outputs": []
    },
    {
      "cell_type": "code",
      "source": [
        "# Print the Keyword in the 10 topics\n",
        "lda_model.print_topics()"
      ],
      "metadata": {
        "id": "DDyLsTCMmaDE"
      },
      "execution_count": null,
      "outputs": []
    },
    {
      "cell_type": "code",
      "source": [],
      "metadata": {
        "id": "fUNqzeyM-AYZ"
      },
      "execution_count": null,
      "outputs": []
    },
    {
      "cell_type": "code",
      "source": [],
      "metadata": {
        "id": "93pfIVzr-AUk"
      },
      "execution_count": null,
      "outputs": []
    },
    {
      "cell_type": "code",
      "source": [],
      "metadata": {
        "id": "NQ0zaHiL-AQx"
      },
      "execution_count": null,
      "outputs": []
    },
    {
      "cell_type": "markdown",
      "source": [
        "\n",
        "\n",
        "---\n",
        "\n",
        "\n",
        "\n",
        "---\n",
        "\n"
      ],
      "metadata": {
        "id": "-kR200z-k7lf"
      }
    }
  ],
  "metadata": {
    "colab": {
      "private_outputs": true,
      "provenance": []
    },
    "kernelspec": {
      "display_name": "Python 3 (ipykernel)",
      "language": "python",
      "name": "python3"
    },
    "language_info": {
      "codemirror_mode": {
        "name": "ipython",
        "version": 3
      },
      "file_extension": ".py",
      "mimetype": "text/x-python",
      "name": "python",
      "nbconvert_exporter": "python",
      "pygments_lexer": "ipython3",
      "version": "3.8.16"
    }
  },
  "nbformat": 4,
  "nbformat_minor": 0
}