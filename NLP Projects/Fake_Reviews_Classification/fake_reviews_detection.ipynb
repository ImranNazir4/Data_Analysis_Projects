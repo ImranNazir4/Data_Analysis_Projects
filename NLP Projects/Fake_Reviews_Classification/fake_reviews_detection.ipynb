{
 "cells": [
  {
   "cell_type": "markdown",
   "id": "f82b0878",
   "metadata": {},
   "source": [
    "---\n",
    "# **Installing Dependencies**\n",
    "---"
   ]
  },
  {
   "cell_type": "code",
   "execution_count": null,
   "id": "da859a19",
   "metadata": {},
   "outputs": [],
   "source": [
    "!pip install -q neattext"
   ]
  },
  {
   "cell_type": "markdown",
   "id": "90d9ba5f",
   "metadata": {},
   "source": [
    "---\n",
    "# **Importing Necessary Dependencies**\n",
    "---"
   ]
  },
  {
   "cell_type": "code",
   "execution_count": 9,
   "id": "7b82cfa2",
   "metadata": {},
   "outputs": [],
   "source": [
    "import pandas as pd                   #package for data analysis\n",
    "import numpy as np                    #package for fast data manipulations\n",
    "import neattext as nt                 #package for text cleaning"
   ]
  },
  {
   "cell_type": "code",
   "execution_count": 10,
   "id": "8e798001",
   "metadata": {},
   "outputs": [],
   "source": [
    "df=pd.read_csv('amazon_reviews.csv')"
   ]
  },
  {
   "cell_type": "code",
   "execution_count": 11,
   "id": "750d8157",
   "metadata": {},
   "outputs": [
    {
     "data": {
      "text/plain": [
       "Index(['Unnamed: 0', 'marketplace', 'customer_id', 'review_id', 'product_id',\n",
       "       'product_parent', 'product_title', 'product_category', 'star_rating',\n",
       "       'helpful_votes', 'total_votes', 'vine', 'verified_purchase',\n",
       "       'review_headline', 'review_body', 'review_date'],\n",
       "      dtype='object')"
      ]
     },
     "execution_count": 11,
     "metadata": {},
     "output_type": "execute_result"
    }
   ],
   "source": [
    "df.columns"
   ]
  },
  {
   "cell_type": "markdown",
   "id": "b101ba6a",
   "metadata": {},
   "source": [
    "### **Marking Review as Fake if its Lenght is 15 Characters or less, repeating, and Verified Purcahes=0**"
   ]
  },
  {
   "cell_type": "code",
   "execution_count": 12,
   "id": "650f7ed3",
   "metadata": {},
   "outputs": [],
   "source": [
    "df['fake_review']=df.apply(lambda x: 1 if len(str(x['review_body']))<=15 or x['verified_purchase']==0  else 0,axis=1)"
   ]
  },
  {
   "cell_type": "code",
   "execution_count": 13,
   "id": "83c9e287",
   "metadata": {},
   "outputs": [
    {
     "data": {
      "text/plain": [
       "0    100322\n",
       "1     29678\n",
       "Name: fake_review, dtype: int64"
      ]
     },
     "execution_count": 13,
     "metadata": {},
     "output_type": "execute_result"
    }
   ],
   "source": [
    "df['fake_review'].value_counts()"
   ]
  },
  {
   "cell_type": "markdown",
   "id": "6df326d4",
   "metadata": {},
   "source": [
    "### **Checking Customer Id in the Review**"
   ]
  },
  {
   "cell_type": "code",
   "execution_count": 14,
   "id": "090383dd",
   "metadata": {},
   "outputs": [],
   "source": [
    "temp=df.apply(lambda x: 1 if str(x['customer_id']) in str(x['review_body']) else 0,axis=1)"
   ]
  },
  {
   "cell_type": "code",
   "execution_count": 15,
   "id": "326ee352",
   "metadata": {},
   "outputs": [
    {
     "data": {
      "text/plain": [
       "0    130000\n",
       "dtype: int64"
      ]
     },
     "execution_count": 15,
     "metadata": {},
     "output_type": "execute_result"
    }
   ],
   "source": [
    "temp.value_counts()  #no review that contain customer_id"
   ]
  },
  {
   "cell_type": "markdown",
   "id": "9d753b5b",
   "metadata": {},
   "source": [
    "### **Text Preprocessing**"
   ]
  },
  {
   "cell_type": "code",
   "execution_count": 16,
   "id": "2b55e399",
   "metadata": {},
   "outputs": [],
   "source": [
    "def text_preprocessing(text):\n",
    "  text=nt.fix_contractions(text)     #I'm -> I am\n",
    "  text=nt.remove_urls(text)          #removing urls\n",
    "  text=nt.remove_non_ascii(text)     #removing non-ascii characters\n",
    "  text=nt.remove_userhandles(text)   #removing urserhandles\n",
    "  text=nt.remove_hashtags(text)      #removing hashtags\n",
    "  text=nt.remove_multiple_spaces(text)  #removing multiple spaces\n",
    "  return text\n",
    "  "
   ]
  },
  {
   "cell_type": "code",
   "execution_count": 17,
   "id": "05778c64",
   "metadata": {},
   "outputs": [],
   "source": [
    "df['cleaned_review_body']=df.review_body.apply(lambda x:text_preprocessing(str(x)))"
   ]
  },
  {
   "cell_type": "markdown",
   "id": "cf1c7dee",
   "metadata": {},
   "source": [
    "### **Sentiment Analysis**"
   ]
  },
  {
   "cell_type": "code",
   "execution_count": 18,
   "id": "9ccd57e1",
   "metadata": {},
   "outputs": [],
   "source": [
    "from textblob import TextBlob   #special package for short sentence sentiment analysis"
   ]
  },
  {
   "cell_type": "code",
   "execution_count": 19,
   "id": "a9323f46",
   "metadata": {},
   "outputs": [],
   "source": [
    "def sentiment_polarity(text):\n",
    "  '''\n",
    "  this fucntion calculates polarity of each tweet\n",
    "  '''\n",
    "  text=TextBlob(text)\n",
    "  return text.sentiment.polarity"
   ]
  },
  {
   "cell_type": "code",
   "execution_count": 20,
   "id": "1d338164",
   "metadata": {},
   "outputs": [],
   "source": [
    "df['sentiment_polarity']=df.cleaned_review_body.apply(lambda x:sentiment_polarity(x))"
   ]
  },
  {
   "cell_type": "code",
   "execution_count": 21,
   "id": "6ade80f3",
   "metadata": {},
   "outputs": [],
   "source": [
    "def sentiment_tag(polarity):\n",
    "  '''\n",
    "  this function assigns sentiment tag according to its polarity\n",
    "  '''\n",
    "  if polarity>0:\n",
    "        return 'positive'\n",
    "  elif polarity<0:\n",
    "        return 'negative'\n",
    "  else:\n",
    "    return 'neutral'"
   ]
  },
  {
   "cell_type": "code",
   "execution_count": 22,
   "id": "6647b6bb",
   "metadata": {},
   "outputs": [],
   "source": [
    "df['sentiment_tag']=df['sentiment_polarity'].apply(lambda x:sentiment_tag(x))"
   ]
  },
  {
   "cell_type": "markdown",
   "id": "50f3e822",
   "metadata": {},
   "source": [
    "### **Checking Sentiment and Review Rating Clash**"
   ]
  },
  {
   "cell_type": "code",
   "execution_count": 23,
   "id": "4d8cdd64",
   "metadata": {},
   "outputs": [],
   "source": [
    "#Marking Reviews as Fake if it has 5 star rating but have negative setiment"
   ]
  },
  {
   "cell_type": "code",
   "execution_count": 24,
   "id": "4d7f225b",
   "metadata": {},
   "outputs": [],
   "source": [
    "temp=df.apply(lambda x: 1 if  x['sentiment_tag']=='negative' and x['star_rating']==5 else 0,axis=1)"
   ]
  },
  {
   "cell_type": "code",
   "execution_count": 25,
   "id": "fecbfb31",
   "metadata": {},
   "outputs": [
    {
     "data": {
      "text/plain": [
       "0    126739\n",
       "1      3261\n",
       "dtype: int64"
      ]
     },
     "execution_count": 25,
     "metadata": {},
     "output_type": "execute_result"
    }
   ],
   "source": [
    "temp.value_counts()"
   ]
  },
  {
   "cell_type": "code",
   "execution_count": 26,
   "id": "1b05afc1",
   "metadata": {},
   "outputs": [],
   "source": [
    "indices=df[(df['sentiment_tag']=='negative') & (df['star_rating']==5)].index"
   ]
  },
  {
   "cell_type": "code",
   "execution_count": 27,
   "id": "10229f62",
   "metadata": {},
   "outputs": [],
   "source": [
    "df.loc[indices,'fake_review']=1"
   ]
  },
  {
   "cell_type": "code",
   "execution_count": 28,
   "id": "2b356f6d",
   "metadata": {},
   "outputs": [
    {
     "data": {
      "text/plain": [
       "0    97511\n",
       "1    32489\n",
       "Name: fake_review, dtype: int64"
      ]
     },
     "execution_count": 28,
     "metadata": {},
     "output_type": "execute_result"
    }
   ],
   "source": [
    "df['fake_review'].value_counts()"
   ]
  },
  {
   "cell_type": "code",
   "execution_count": 29,
   "id": "7019966e",
   "metadata": {},
   "outputs": [],
   "source": [
    "df.to_csv('fake_reviews.csv')"
   ]
  },
  {
   "cell_type": "markdown",
   "id": "f8b785d3",
   "metadata": {},
   "source": [
    "### **Is product category mentioned in Review text**"
   ]
  },
  {
   "cell_type": "code",
   "execution_count": 30,
   "id": "796e5ce9",
   "metadata": {},
   "outputs": [],
   "source": [
    "temp=df.apply(lambda x: 1 if x['product_id'] in str(x['review_body']) else 0,axis=1)"
   ]
  },
  {
   "cell_type": "code",
   "execution_count": 31,
   "id": "ced093b3",
   "metadata": {},
   "outputs": [
    {
     "data": {
      "text/plain": [
       "0    129890\n",
       "1       110\n",
       "dtype: int64"
      ]
     },
     "execution_count": 31,
     "metadata": {},
     "output_type": "execute_result"
    }
   ],
   "source": [
    "temp.value_counts()"
   ]
  },
  {
   "cell_type": "code",
   "execution_count": 32,
   "id": "e242070c",
   "metadata": {},
   "outputs": [],
   "source": [
    "#only 110 reviews are with product category so it is not a good criteria for marking a review as fake or legit"
   ]
  },
  {
   "cell_type": "code",
   "execution_count": 33,
   "id": "c31675d5",
   "metadata": {},
   "outputs": [
    {
     "data": {
      "text/plain": [
       "0    97511\n",
       "1    32489\n",
       "Name: fake_review, dtype: int64"
      ]
     },
     "execution_count": 33,
     "metadata": {},
     "output_type": "execute_result"
    }
   ],
   "source": [
    "df['fake_review'].value_counts()"
   ]
  },
  {
   "cell_type": "code",
   "execution_count": null,
   "id": "a7fcea07",
   "metadata": {},
   "outputs": [],
   "source": []
  },
  {
   "cell_type": "code",
   "execution_count": null,
   "id": "ab2e0f9f",
   "metadata": {},
   "outputs": [],
   "source": []
  }
 ],
 "metadata": {
  "kernelspec": {
   "display_name": "Python 3",
   "language": "python",
   "name": "python3"
  },
  "language_info": {
   "codemirror_mode": {
    "name": "ipython",
    "version": 3
   },
   "file_extension": ".py",
   "mimetype": "text/x-python",
   "name": "python",
   "nbconvert_exporter": "python",
   "pygments_lexer": "ipython3",
   "version": "3.9.5"
  }
 },
 "nbformat": 4,
 "nbformat_minor": 5
}
