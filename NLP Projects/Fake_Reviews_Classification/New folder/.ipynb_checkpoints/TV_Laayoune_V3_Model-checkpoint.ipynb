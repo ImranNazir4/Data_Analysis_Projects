{
 "cells": [
  {
   "cell_type": "code",
   "execution_count": 1,
   "metadata": {},
   "outputs": [],
   "source": [
    "import pandas as pd\n",
    "import numpy as np\n",
    "import seaborn as sns\n",
    "import matplotlib.pyplot as plt \n",
    "from sklearn.preprocessing import StandardScaler\n",
    "from sklearn.linear_model import LinearRegression\n",
    "from sklearn.neighbors import KNeighborsRegressor\n",
    "from sklearn.tree import DecisionTreeRegressor\n",
    "from sklearn.ensemble import RandomForestRegressor\n",
    "from sklearn.linear_model import SGDRegressor\n",
    "from sklearn.neural_network import MLPRegressor\n",
    "from sklearn.metrics import r2_score, mean_absolute_error, mean_squared_error\n",
    "from sklearn.model_selection import train_test_split, cross_val_score, GridSearchCV\n",
    "from sklearn.svm import SVR\n",
    "from sklearn import svm\n",
    "import pickle as pk"
   ]
  },
  {
   "cell_type": "code",
   "execution_count": 6,
   "metadata": {},
   "outputs": [],
   "source": [
    "# Load the dataset\n",
    "data = pd.read_csv(r'TV_Laayoune_Data.csv')"
   ]
  },
  {
   "cell_type": "code",
   "execution_count": 7,
   "metadata": {},
   "outputs": [],
   "source": [
    "del data[\"Unnamed: 0\"]"
   ]
  },
  {
   "cell_type": "code",
   "execution_count": 8,
   "metadata": {},
   "outputs": [
    {
     "data": {
      "text/html": [
       "<div>\n",
       "<style scoped>\n",
       "    .dataframe tbody tr th:only-of-type {\n",
       "        vertical-align: middle;\n",
       "    }\n",
       "\n",
       "    .dataframe tbody tr th {\n",
       "        vertical-align: top;\n",
       "    }\n",
       "\n",
       "    .dataframe thead th {\n",
       "        text-align: right;\n",
       "    }\n",
       "</style>\n",
       "<table border=\"1\" class=\"dataframe\">\n",
       "  <thead>\n",
       "    <tr style=\"text-align: right;\">\n",
       "      <th></th>\n",
       "      <th>Program</th>\n",
       "      <th>Genre</th>\n",
       "      <th>Number of viewers</th>\n",
       "      <th>Audience share (%)</th>\n",
       "      <th>Start time</th>\n",
       "      <th>Broadcasting date</th>\n",
       "    </tr>\n",
       "  </thead>\n",
       "  <tbody>\n",
       "    <tr>\n",
       "      <th>0</th>\n",
       "      <td>Hiraf</td>\n",
       "      <td>Capsule</td>\n",
       "      <td>163000</td>\n",
       "      <td>22.0</td>\n",
       "      <td>21:15:00</td>\n",
       "      <td>2023-03-21</td>\n",
       "    </tr>\n",
       "    <tr>\n",
       "      <th>1</th>\n",
       "      <td>Midadou chouaara</td>\n",
       "      <td>Culturel</td>\n",
       "      <td>868000</td>\n",
       "      <td>13.8</td>\n",
       "      <td>06:17:00</td>\n",
       "      <td>2023-03-20</td>\n",
       "    </tr>\n",
       "    <tr>\n",
       "      <th>2</th>\n",
       "      <td>Fada Ryadi</td>\n",
       "      <td>Sport</td>\n",
       "      <td>681000</td>\n",
       "      <td>9.7</td>\n",
       "      <td>07:10:00</td>\n",
       "      <td>2023-03-19</td>\n",
       "    </tr>\n",
       "    <tr>\n",
       "      <th>3</th>\n",
       "      <td>Journal Télévisé</td>\n",
       "      <td>Info</td>\n",
       "      <td>615000</td>\n",
       "      <td>44.9</td>\n",
       "      <td>22:30:00</td>\n",
       "      <td>2023-03-18</td>\n",
       "    </tr>\n",
       "    <tr>\n",
       "      <th>4</th>\n",
       "      <td>Agenda</td>\n",
       "      <td>Info</td>\n",
       "      <td>868000</td>\n",
       "      <td>36.8</td>\n",
       "      <td>19:39:00</td>\n",
       "      <td>2023-03-17</td>\n",
       "    </tr>\n",
       "  </tbody>\n",
       "</table>\n",
       "</div>"
      ],
      "text/plain": [
       "            Program     Genre  Number of viewers  Audience share (%)  \\\n",
       "0             Hiraf   Capsule             163000                22.0   \n",
       "1  Midadou chouaara  Culturel             868000                13.8   \n",
       "2        Fada Ryadi     Sport             681000                 9.7   \n",
       "3  Journal Télévisé      Info             615000                44.9   \n",
       "4            Agenda      Info             868000                36.8   \n",
       "\n",
       "  Start time Broadcasting date  \n",
       "0   21:15:00        2023-03-21  \n",
       "1   06:17:00        2023-03-20  \n",
       "2   07:10:00        2023-03-19  \n",
       "3   22:30:00        2023-03-18  \n",
       "4   19:39:00        2023-03-17  "
      ]
     },
     "execution_count": 8,
     "metadata": {},
     "output_type": "execute_result"
    }
   ],
   "source": [
    "data.head()"
   ]
  },
  {
   "cell_type": "code",
   "execution_count": 46,
   "metadata": {},
   "outputs": [
    {
     "data": {
      "text/plain": [
       "<AxesSubplot:>"
      ]
     },
     "execution_count": 46,
     "metadata": {},
     "output_type": "execute_result"
    },
    {
     "data": {
      "image/png": "[encoded data removed]",
      "text/plain": [
       "<Figure size 432x288 with 1 Axes>"
      ]
     },
     "metadata": {
      "needs_background": "light"
     },
     "output_type": "display_data"
    }
   ],
   "source": [
    "data[[\"Audience share (%)\",\"Number of viewers\"]].plot()"
   ]
  },
  {
   "cell_type": "code",
   "execution_count": 9,
   "metadata": {},
   "outputs": [
    {
     "data": {
      "text/plain": [
       "Program                object\n",
       "Genre                  object\n",
       "Number of viewers       int64\n",
       "Audience share (%)    float64\n",
       "Start time             object\n",
       "Broadcasting date      object\n",
       "dtype: object"
      ]
     },
     "execution_count": 9,
     "metadata": {},
     "output_type": "execute_result"
    }
   ],
   "source": [
    "data.dtypes"
   ]
  },
  {
   "cell_type": "code",
   "execution_count": 10,
   "metadata": {},
   "outputs": [
    {
     "data": {
      "text/plain": [
       "Program               0\n",
       "Genre                 0\n",
       "Number of viewers     0\n",
       "Audience share (%)    0\n",
       "Start time            0\n",
       "Broadcasting date     0\n",
       "dtype: int64"
      ]
     },
     "execution_count": 10,
     "metadata": {},
     "output_type": "execute_result"
    }
   ],
   "source": [
    "data.isnull().sum()"
   ]
  },
  {
   "cell_type": "code",
   "execution_count": 11,
   "metadata": {},
   "outputs": [
    {
     "data": {
      "text/plain": [
       "<AxesSubplot:>"
      ]
     },
     "execution_count": 11,
     "metadata": {},
     "output_type": "execute_result"
    },
    {
     "data": {
      "image/png": "[encoded data removed]",
      "text/plain": [
       "<Figure size 432x288 with 1 Axes>"
      ]
     },
     "metadata": {
      "needs_background": "light"
     },
     "output_type": "display_data"
    }
   ],
   "source": [
    "sns.heatmap(data.isnull(),yticklabels=False,cbar=False,cmap='viridis')"
   ]
  },
  {
   "cell_type": "code",
   "execution_count": 12,
   "metadata": {},
   "outputs": [
    {
     "data": {
      "text/plain": [
       "0"
      ]
     },
     "execution_count": 12,
     "metadata": {},
     "output_type": "execute_result"
    }
   ],
   "source": [
    "data.duplicated().sum()"
   ]
  },
  {
   "cell_type": "markdown",
   "metadata": {},
   "source": [
    "# No duplicate values found!"
   ]
  },
  {
   "cell_type": "code",
   "execution_count": 13,
   "metadata": {},
   "outputs": [
    {
     "data": {
      "text/html": [
       "<div>\n",
       "<style scoped>\n",
       "    .dataframe tbody tr th:only-of-type {\n",
       "        vertical-align: middle;\n",
       "    }\n",
       "\n",
       "    .dataframe tbody tr th {\n",
       "        vertical-align: top;\n",
       "    }\n",
       "\n",
       "    .dataframe thead th {\n",
       "        text-align: right;\n",
       "    }\n",
       "</style>\n",
       "<table border=\"1\" class=\"dataframe\">\n",
       "  <thead>\n",
       "    <tr style=\"text-align: right;\">\n",
       "      <th></th>\n",
       "      <th>Program</th>\n",
       "      <th>Genre</th>\n",
       "      <th>Number of viewers</th>\n",
       "      <th>Audience share (%)</th>\n",
       "      <th>Start time</th>\n",
       "      <th>Broadcasting date</th>\n",
       "    </tr>\n",
       "  </thead>\n",
       "  <tbody>\n",
       "    <tr>\n",
       "      <th>0</th>\n",
       "      <td>Hiraf</td>\n",
       "      <td>Capsule</td>\n",
       "      <td>163000</td>\n",
       "      <td>22.0</td>\n",
       "      <td>21:15:00</td>\n",
       "      <td>2023-03-21</td>\n",
       "    </tr>\n",
       "    <tr>\n",
       "      <th>1</th>\n",
       "      <td>Midadou chouaara</td>\n",
       "      <td>Culturel</td>\n",
       "      <td>868000</td>\n",
       "      <td>13.8</td>\n",
       "      <td>06:17:00</td>\n",
       "      <td>2023-03-20</td>\n",
       "    </tr>\n",
       "    <tr>\n",
       "      <th>2</th>\n",
       "      <td>Fada Ryadi</td>\n",
       "      <td>Sport</td>\n",
       "      <td>681000</td>\n",
       "      <td>9.7</td>\n",
       "      <td>07:10:00</td>\n",
       "      <td>2023-03-19</td>\n",
       "    </tr>\n",
       "    <tr>\n",
       "      <th>3</th>\n",
       "      <td>Journal Télévisé</td>\n",
       "      <td>Info</td>\n",
       "      <td>615000</td>\n",
       "      <td>44.9</td>\n",
       "      <td>22:30:00</td>\n",
       "      <td>2023-03-18</td>\n",
       "    </tr>\n",
       "    <tr>\n",
       "      <th>4</th>\n",
       "      <td>Agenda</td>\n",
       "      <td>Info</td>\n",
       "      <td>868000</td>\n",
       "      <td>36.8</td>\n",
       "      <td>19:39:00</td>\n",
       "      <td>2023-03-17</td>\n",
       "    </tr>\n",
       "    <tr>\n",
       "      <th>...</th>\n",
       "      <td>...</td>\n",
       "      <td>...</td>\n",
       "      <td>...</td>\n",
       "      <td>...</td>\n",
       "      <td>...</td>\n",
       "      <td>...</td>\n",
       "    </tr>\n",
       "    <tr>\n",
       "      <th>1012</th>\n",
       "      <td>alfich</td>\n",
       "      <td>Culturel</td>\n",
       "      <td>17570</td>\n",
       "      <td>23.0</td>\n",
       "      <td>12:40:00</td>\n",
       "      <td>2022-03-10</td>\n",
       "    </tr>\n",
       "    <tr>\n",
       "      <th>1013</th>\n",
       "      <td>sibak kawafi</td>\n",
       "      <td>Culturel</td>\n",
       "      <td>27336</td>\n",
       "      <td>20.0</td>\n",
       "      <td>06:35:00</td>\n",
       "      <td>2022-03-27</td>\n",
       "    </tr>\n",
       "    <tr>\n",
       "      <th>1014</th>\n",
       "      <td>Quiz Quran</td>\n",
       "      <td>Religieux</td>\n",
       "      <td>26035</td>\n",
       "      <td>38.0</td>\n",
       "      <td>17:53:00</td>\n",
       "      <td>2022-02-10</td>\n",
       "    </tr>\n",
       "    <tr>\n",
       "      <th>1015</th>\n",
       "      <td>Maa Naha</td>\n",
       "      <td>Culturel</td>\n",
       "      <td>17691</td>\n",
       "      <td>31.0</td>\n",
       "      <td>19:15:00</td>\n",
       "      <td>2022-05-12</td>\n",
       "    </tr>\n",
       "    <tr>\n",
       "      <th>1016</th>\n",
       "      <td>Mahattat</td>\n",
       "      <td>documentaires</td>\n",
       "      <td>600</td>\n",
       "      <td>10.0</td>\n",
       "      <td>23:15:00</td>\n",
       "      <td>2023-02-07</td>\n",
       "    </tr>\n",
       "  </tbody>\n",
       "</table>\n",
       "<p>1017 rows × 6 columns</p>\n",
       "</div>"
      ],
      "text/plain": [
       "               Program          Genre  Number of viewers  Audience share (%)  \\\n",
       "0                Hiraf        Capsule             163000                22.0   \n",
       "1     Midadou chouaara       Culturel             868000                13.8   \n",
       "2           Fada Ryadi          Sport             681000                 9.7   \n",
       "3     Journal Télévisé           Info             615000                44.9   \n",
       "4               Agenda           Info             868000                36.8   \n",
       "...                ...            ...                ...                 ...   \n",
       "1012            alfich       Culturel              17570                23.0   \n",
       "1013      sibak kawafi       Culturel              27336                20.0   \n",
       "1014        Quiz Quran      Religieux              26035                38.0   \n",
       "1015          Maa Naha       Culturel              17691                31.0   \n",
       "1016          Mahattat  documentaires                600                10.0   \n",
       "\n",
       "     Start time Broadcasting date  \n",
       "0      21:15:00        2023-03-21  \n",
       "1      06:17:00        2023-03-20  \n",
       "2      07:10:00        2023-03-19  \n",
       "3      22:30:00        2023-03-18  \n",
       "4      19:39:00        2023-03-17  \n",
       "...         ...               ...  \n",
       "1012   12:40:00        2022-03-10  \n",
       "1013   06:35:00        2022-03-27  \n",
       "1014   17:53:00        2022-02-10  \n",
       "1015   19:15:00        2022-05-12  \n",
       "1016   23:15:00        2023-02-07  \n",
       "\n",
       "[1017 rows x 6 columns]"
      ]
     },
     "execution_count": 13,
     "metadata": {},
     "output_type": "execute_result"
    }
   ],
   "source": [
    "data"
   ]
  },
  {
   "cell_type": "code",
   "execution_count": 14,
   "metadata": {},
   "outputs": [
    {
     "data": {
      "text/plain": [
       "Culturel         450\n",
       "Info             201\n",
       "Music             89\n",
       "Religieux         65\n",
       "Capsule           62\n",
       "Politique         57\n",
       "Sport             33\n",
       "documentaires     31\n",
       "feuilleton        29\n",
       "Name: Genre, dtype: int64"
      ]
     },
     "execution_count": 14,
     "metadata": {},
     "output_type": "execute_result"
    }
   ],
   "source": [
    "data.Genre.value_counts()"
   ]
  },
  {
   "cell_type": "code",
   "execution_count": 15,
   "metadata": {},
   "outputs": [
    {
     "name": "stderr",
     "output_type": "stream",
     "text": [
      "c:\\users\\zee tech\\appdata\\local\\programs\\python\\python39\\lib\\site-packages\\seaborn\\_decorators.py:36: FutureWarning: Pass the following variable as a keyword arg: x. From version 0.12, the only valid positional argument will be `data`, and passing other arguments without an explicit keyword will result in an error or misinterpretation.\n",
      "  warnings.warn(\n"
     ]
    },
    {
     "data": {
      "text/plain": [
       "[Text(0, 0, 'Capsule'),\n",
       " Text(1, 0, 'Culturel'),\n",
       " Text(2, 0, 'Sport'),\n",
       " Text(3, 0, 'Info'),\n",
       " Text(4, 0, 'Music'),\n",
       " Text(5, 0, 'documentaires'),\n",
       " Text(6, 0, 'Religieux'),\n",
       " Text(7, 0, 'Politique'),\n",
       " Text(8, 0, 'feuilleton')]"
      ]
     },
     "execution_count": 15,
     "metadata": {},
     "output_type": "execute_result"
    },
    {
     "data": {
      "image/png": "[encoded data removed]",
      "text/plain": [
       "<Figure size 432x288 with 1 Axes>"
      ]
     },
     "metadata": {
      "needs_background": "light"
     },
     "output_type": "display_data"
    }
   ],
   "source": [
    "ax= sns.countplot(data['Genre'])\n",
    "ax.set_xticklabels(ax.get_xticklabels(),rotation = 30)"
   ]
  },
  {
   "cell_type": "code",
   "execution_count": 16,
   "metadata": {},
   "outputs": [
    {
     "data": {
      "image/png": "[encoded data removed]",
      "text/plain": [
       "<Figure size 1080x720 with 4 Axes>"
      ]
     },
     "metadata": {
      "needs_background": "light"
     },
     "output_type": "display_data"
    }
   ],
   "source": [
    "fig,ax = plt.subplots(2,2,figsize = (15,10))\n",
    "\n",
    "sns.boxplot(x = 'Genre', y = 'Audience share (%)', data = data,ax=ax[0,0])\n",
    "ax[0,0].set_title('Genre_Culturel vs Audience share (%)')\n",
    "\n",
    "\n",
    "sns.boxplot(x = 'Genre', y = 'Number of viewers', data = data,ax=ax[1,0])\n",
    "ax[1,0].set_title('Genre vs Number of viewers')\n",
    "\n",
    "plt.tight_layout()\n",
    "plt.show()"
   ]
  },
  {
   "cell_type": "code",
   "execution_count": 17,
   "metadata": {},
   "outputs": [],
   "source": [
    "# Convert non-numeric data to numeric data using one-hot encoding\n",
    "data = pd.get_dummies(data, columns=[\"Genre\"])"
   ]
  },
  {
   "cell_type": "code",
   "execution_count": 18,
   "metadata": {},
   "outputs": [
    {
     "data": {
      "text/html": [
       "<div>\n",
       "<style scoped>\n",
       "    .dataframe tbody tr th:only-of-type {\n",
       "        vertical-align: middle;\n",
       "    }\n",
       "\n",
       "    .dataframe tbody tr th {\n",
       "        vertical-align: top;\n",
       "    }\n",
       "\n",
       "    .dataframe thead th {\n",
       "        text-align: right;\n",
       "    }\n",
       "</style>\n",
       "<table border=\"1\" class=\"dataframe\">\n",
       "  <thead>\n",
       "    <tr style=\"text-align: right;\">\n",
       "      <th></th>\n",
       "      <th>Program</th>\n",
       "      <th>Number of viewers</th>\n",
       "      <th>Audience share (%)</th>\n",
       "      <th>Start time</th>\n",
       "      <th>Broadcasting date</th>\n",
       "      <th>Genre_Capsule</th>\n",
       "      <th>Genre_Culturel</th>\n",
       "      <th>Genre_Info</th>\n",
       "      <th>Genre_Music</th>\n",
       "      <th>Genre_Politique</th>\n",
       "      <th>Genre_Religieux</th>\n",
       "      <th>Genre_Sport</th>\n",
       "      <th>Genre_documentaires</th>\n",
       "      <th>Genre_feuilleton</th>\n",
       "    </tr>\n",
       "  </thead>\n",
       "  <tbody>\n",
       "    <tr>\n",
       "      <th>0</th>\n",
       "      <td>Hiraf</td>\n",
       "      <td>163000</td>\n",
       "      <td>22.0</td>\n",
       "      <td>21:15:00</td>\n",
       "      <td>2023-03-21</td>\n",
       "      <td>1</td>\n",
       "      <td>0</td>\n",
       "      <td>0</td>\n",
       "      <td>0</td>\n",
       "      <td>0</td>\n",
       "      <td>0</td>\n",
       "      <td>0</td>\n",
       "      <td>0</td>\n",
       "      <td>0</td>\n",
       "    </tr>\n",
       "    <tr>\n",
       "      <th>1</th>\n",
       "      <td>Midadou chouaara</td>\n",
       "      <td>868000</td>\n",
       "      <td>13.8</td>\n",
       "      <td>06:17:00</td>\n",
       "      <td>2023-03-20</td>\n",
       "      <td>0</td>\n",
       "      <td>1</td>\n",
       "      <td>0</td>\n",
       "      <td>0</td>\n",
       "      <td>0</td>\n",
       "      <td>0</td>\n",
       "      <td>0</td>\n",
       "      <td>0</td>\n",
       "      <td>0</td>\n",
       "    </tr>\n",
       "    <tr>\n",
       "      <th>2</th>\n",
       "      <td>Fada Ryadi</td>\n",
       "      <td>681000</td>\n",
       "      <td>9.7</td>\n",
       "      <td>07:10:00</td>\n",
       "      <td>2023-03-19</td>\n",
       "      <td>0</td>\n",
       "      <td>0</td>\n",
       "      <td>0</td>\n",
       "      <td>0</td>\n",
       "      <td>0</td>\n",
       "      <td>0</td>\n",
       "      <td>1</td>\n",
       "      <td>0</td>\n",
       "      <td>0</td>\n",
       "    </tr>\n",
       "    <tr>\n",
       "      <th>3</th>\n",
       "      <td>Journal Télévisé</td>\n",
       "      <td>615000</td>\n",
       "      <td>44.9</td>\n",
       "      <td>22:30:00</td>\n",
       "      <td>2023-03-18</td>\n",
       "      <td>0</td>\n",
       "      <td>0</td>\n",
       "      <td>1</td>\n",
       "      <td>0</td>\n",
       "      <td>0</td>\n",
       "      <td>0</td>\n",
       "      <td>0</td>\n",
       "      <td>0</td>\n",
       "      <td>0</td>\n",
       "    </tr>\n",
       "    <tr>\n",
       "      <th>4</th>\n",
       "      <td>Agenda</td>\n",
       "      <td>868000</td>\n",
       "      <td>36.8</td>\n",
       "      <td>19:39:00</td>\n",
       "      <td>2023-03-17</td>\n",
       "      <td>0</td>\n",
       "      <td>0</td>\n",
       "      <td>1</td>\n",
       "      <td>0</td>\n",
       "      <td>0</td>\n",
       "      <td>0</td>\n",
       "      <td>0</td>\n",
       "      <td>0</td>\n",
       "      <td>0</td>\n",
       "    </tr>\n",
       "  </tbody>\n",
       "</table>\n",
       "</div>"
      ],
      "text/plain": [
       "            Program  Number of viewers  Audience share (%) Start time  \\\n",
       "0             Hiraf             163000                22.0   21:15:00   \n",
       "1  Midadou chouaara             868000                13.8   06:17:00   \n",
       "2        Fada Ryadi             681000                 9.7   07:10:00   \n",
       "3  Journal Télévisé             615000                44.9   22:30:00   \n",
       "4            Agenda             868000                36.8   19:39:00   \n",
       "\n",
       "  Broadcasting date  Genre_Capsule  Genre_Culturel  Genre_Info  Genre_Music  \\\n",
       "0        2023-03-21              1               0           0            0   \n",
       "1        2023-03-20              0               1           0            0   \n",
       "2        2023-03-19              0               0           0            0   \n",
       "3        2023-03-18              0               0           1            0   \n",
       "4        2023-03-17              0               0           1            0   \n",
       "\n",
       "   Genre_Politique  Genre_Religieux  Genre_Sport  Genre_documentaires  \\\n",
       "0                0                0            0                    0   \n",
       "1                0                0            0                    0   \n",
       "2                0                0            1                    0   \n",
       "3                0                0            0                    0   \n",
       "4                0                0            0                    0   \n",
       "\n",
       "   Genre_feuilleton  \n",
       "0                 0  \n",
       "1                 0  \n",
       "2                 0  \n",
       "3                 0  \n",
       "4                 0  "
      ]
     },
     "execution_count": 18,
     "metadata": {},
     "output_type": "execute_result"
    }
   ],
   "source": [
    "data.head()"
   ]
  },
  {
   "cell_type": "code",
   "execution_count": 19,
   "metadata": {},
   "outputs": [
    {
     "data": {
      "image/png": "[encoded data removed]",
      "text/plain": [
       "<Figure size 1080x720 with 4 Axes>"
      ]
     },
     "metadata": {
      "needs_background": "light"
     },
     "output_type": "display_data"
    }
   ],
   "source": [
    "fig,ax = plt.subplots(2,2,figsize = (15,10))\n",
    "\n",
    "sns.boxplot(x = 'Genre_Culturel', y = 'Audience share (%)', data = data,ax=ax[0,0])\n",
    "ax[0,0].set_title('Genre_Culturel vs Audience share (%)')\n",
    "\n",
    "sns.boxplot(x = 'Genre_Sport', y = 'Audience share (%)', data = data,ax=ax[0,1])\n",
    "ax[0,1].set_title('Genre_Sport vs Audience share (%)')\n",
    "\n",
    "sns.boxplot(x = 'Genre_Music', y = 'Audience share (%)', data = data,ax=ax[1,0])\n",
    "ax[1,0].set_title('Genre_Music vs Audience share (%)')\n",
    "\n",
    "sns.boxplot(x = 'Genre_Info', y = 'Audience share (%)', data = data,ax=ax[1,1])\n",
    "ax[1,1].set_title('Genre_Info vs Audience share (%)')\n",
    "\n",
    "plt.tight_layout()\n",
    "plt.show()"
   ]
  },
  {
   "cell_type": "code",
   "execution_count": 20,
   "metadata": {},
   "outputs": [],
   "source": [
    "data['Broadcasting date'] = data['Broadcasting date'].astype('datetime64[ns]')"
   ]
  },
  {
   "cell_type": "code",
   "execution_count": 21,
   "metadata": {},
   "outputs": [
    {
     "data": {
      "text/plain": [
       "Program                        object\n",
       "Number of viewers               int64\n",
       "Audience share (%)            float64\n",
       "Start time                     object\n",
       "Broadcasting date      datetime64[ns]\n",
       "Genre_Capsule                   uint8\n",
       "Genre_Culturel                  uint8\n",
       "Genre_Info                      uint8\n",
       "Genre_Music                     uint8\n",
       "Genre_Politique                 uint8\n",
       "Genre_Religieux                 uint8\n",
       "Genre_Sport                     uint8\n",
       "Genre_documentaires             uint8\n",
       "Genre_feuilleton                uint8\n",
       "dtype: object"
      ]
     },
     "execution_count": 21,
     "metadata": {},
     "output_type": "execute_result"
    }
   ],
   "source": [
    "data.dtypes"
   ]
  },
  {
   "cell_type": "code",
   "execution_count": 22,
   "metadata": {},
   "outputs": [],
   "source": [
    "# Convert the \"Broadcasting date\" column to datetime format\n",
    "data[\"Broadcasting date\"] = pd.to_datetime(data[\"Broadcasting date\"], format=\"%d/%m/%Y\")"
   ]
  },
  {
   "cell_type": "code",
   "execution_count": 23,
   "metadata": {},
   "outputs": [
    {
     "data": {
      "text/plain": [
       "Program                        object\n",
       "Number of viewers               int64\n",
       "Audience share (%)            float64\n",
       "Start time                     object\n",
       "Broadcasting date      datetime64[ns]\n",
       "Genre_Capsule                   uint8\n",
       "Genre_Culturel                  uint8\n",
       "Genre_Info                      uint8\n",
       "Genre_Music                     uint8\n",
       "Genre_Politique                 uint8\n",
       "Genre_Religieux                 uint8\n",
       "Genre_Sport                     uint8\n",
       "Genre_documentaires             uint8\n",
       "Genre_feuilleton                uint8\n",
       "dtype: object"
      ]
     },
     "execution_count": 23,
     "metadata": {},
     "output_type": "execute_result"
    }
   ],
   "source": [
    "data.dtypes"
   ]
  },
  {
   "cell_type": "code",
   "execution_count": 24,
   "metadata": {},
   "outputs": [
    {
     "data": {
      "text/html": [
       "<div>\n",
       "<style scoped>\n",
       "    .dataframe tbody tr th:only-of-type {\n",
       "        vertical-align: middle;\n",
       "    }\n",
       "\n",
       "    .dataframe tbody tr th {\n",
       "        vertical-align: top;\n",
       "    }\n",
       "\n",
       "    .dataframe thead th {\n",
       "        text-align: right;\n",
       "    }\n",
       "</style>\n",
       "<table border=\"1\" class=\"dataframe\">\n",
       "  <thead>\n",
       "    <tr style=\"text-align: right;\">\n",
       "      <th></th>\n",
       "      <th>Program</th>\n",
       "      <th>Number of viewers</th>\n",
       "      <th>Audience share (%)</th>\n",
       "      <th>Start time</th>\n",
       "      <th>Broadcasting date</th>\n",
       "      <th>Genre_Capsule</th>\n",
       "      <th>Genre_Culturel</th>\n",
       "      <th>Genre_Info</th>\n",
       "      <th>Genre_Music</th>\n",
       "      <th>Genre_Politique</th>\n",
       "      <th>Genre_Religieux</th>\n",
       "      <th>Genre_Sport</th>\n",
       "      <th>Genre_documentaires</th>\n",
       "      <th>Genre_feuilleton</th>\n",
       "    </tr>\n",
       "  </thead>\n",
       "  <tbody>\n",
       "    <tr>\n",
       "      <th>0</th>\n",
       "      <td>Hiraf</td>\n",
       "      <td>163000</td>\n",
       "      <td>22.0</td>\n",
       "      <td>21:15:00</td>\n",
       "      <td>2023-03-21</td>\n",
       "      <td>1</td>\n",
       "      <td>0</td>\n",
       "      <td>0</td>\n",
       "      <td>0</td>\n",
       "      <td>0</td>\n",
       "      <td>0</td>\n",
       "      <td>0</td>\n",
       "      <td>0</td>\n",
       "      <td>0</td>\n",
       "    </tr>\n",
       "    <tr>\n",
       "      <th>1</th>\n",
       "      <td>Midadou chouaara</td>\n",
       "      <td>868000</td>\n",
       "      <td>13.8</td>\n",
       "      <td>06:17:00</td>\n",
       "      <td>2023-03-20</td>\n",
       "      <td>0</td>\n",
       "      <td>1</td>\n",
       "      <td>0</td>\n",
       "      <td>0</td>\n",
       "      <td>0</td>\n",
       "      <td>0</td>\n",
       "      <td>0</td>\n",
       "      <td>0</td>\n",
       "      <td>0</td>\n",
       "    </tr>\n",
       "    <tr>\n",
       "      <th>2</th>\n",
       "      <td>Fada Ryadi</td>\n",
       "      <td>681000</td>\n",
       "      <td>9.7</td>\n",
       "      <td>07:10:00</td>\n",
       "      <td>2023-03-19</td>\n",
       "      <td>0</td>\n",
       "      <td>0</td>\n",
       "      <td>0</td>\n",
       "      <td>0</td>\n",
       "      <td>0</td>\n",
       "      <td>0</td>\n",
       "      <td>1</td>\n",
       "      <td>0</td>\n",
       "      <td>0</td>\n",
       "    </tr>\n",
       "    <tr>\n",
       "      <th>3</th>\n",
       "      <td>Journal Télévisé</td>\n",
       "      <td>615000</td>\n",
       "      <td>44.9</td>\n",
       "      <td>22:30:00</td>\n",
       "      <td>2023-03-18</td>\n",
       "      <td>0</td>\n",
       "      <td>0</td>\n",
       "      <td>1</td>\n",
       "      <td>0</td>\n",
       "      <td>0</td>\n",
       "      <td>0</td>\n",
       "      <td>0</td>\n",
       "      <td>0</td>\n",
       "      <td>0</td>\n",
       "    </tr>\n",
       "    <tr>\n",
       "      <th>4</th>\n",
       "      <td>Agenda</td>\n",
       "      <td>868000</td>\n",
       "      <td>36.8</td>\n",
       "      <td>19:39:00</td>\n",
       "      <td>2023-03-17</td>\n",
       "      <td>0</td>\n",
       "      <td>0</td>\n",
       "      <td>1</td>\n",
       "      <td>0</td>\n",
       "      <td>0</td>\n",
       "      <td>0</td>\n",
       "      <td>0</td>\n",
       "      <td>0</td>\n",
       "      <td>0</td>\n",
       "    </tr>\n",
       "  </tbody>\n",
       "</table>\n",
       "</div>"
      ],
      "text/plain": [
       "            Program  Number of viewers  Audience share (%) Start time  \\\n",
       "0             Hiraf             163000                22.0   21:15:00   \n",
       "1  Midadou chouaara             868000                13.8   06:17:00   \n",
       "2        Fada Ryadi             681000                 9.7   07:10:00   \n",
       "3  Journal Télévisé             615000                44.9   22:30:00   \n",
       "4            Agenda             868000                36.8   19:39:00   \n",
       "\n",
       "  Broadcasting date  Genre_Capsule  Genre_Culturel  Genre_Info  Genre_Music  \\\n",
       "0        2023-03-21              1               0           0            0   \n",
       "1        2023-03-20              0               1           0            0   \n",
       "2        2023-03-19              0               0           0            0   \n",
       "3        2023-03-18              0               0           1            0   \n",
       "4        2023-03-17              0               0           1            0   \n",
       "\n",
       "   Genre_Politique  Genre_Religieux  Genre_Sport  Genre_documentaires  \\\n",
       "0                0                0            0                    0   \n",
       "1                0                0            0                    0   \n",
       "2                0                0            1                    0   \n",
       "3                0                0            0                    0   \n",
       "4                0                0            0                    0   \n",
       "\n",
       "   Genre_feuilleton  \n",
       "0                 0  \n",
       "1                 0  \n",
       "2                 0  \n",
       "3                 0  \n",
       "4                 0  "
      ]
     },
     "execution_count": 24,
     "metadata": {},
     "output_type": "execute_result"
    }
   ],
   "source": [
    "data.head()"
   ]
  },
  {
   "cell_type": "code",
   "execution_count": 25,
   "metadata": {},
   "outputs": [],
   "source": [
    "# Create separate columns for year, month, and day\n",
    "data[\"Broadcasting year\"] = data[\"Broadcasting date\"].dt.year\n",
    "data[\"Broadcasting month\"] = data[\"Broadcasting date\"].dt.month\n",
    "data[\"Broadcasting day\"] = data[\"Broadcasting date\"].dt.day\n",
    "\n",
    "# Convert the \"Start time\" column to datetime format\n",
    "data[\"Start time\"] = pd.to_datetime(data[\"Start time\"], format=\"%H:%M:%S\")\n",
    "\n",
    "# Create separate columns for hour, minute, and second\n",
    "data[\"Start hour\"] = data[\"Start time\"].dt.hour\n",
    "data[\"Start minute\"] = data[\"Start time\"].dt.minute\n",
    "data[\"Start second\"] = data[\"Start time\"].dt.second"
   ]
  },
  {
   "cell_type": "code",
   "execution_count": 26,
   "metadata": {},
   "outputs": [
    {
     "data": {
      "text/html": [
       "<div>\n",
       "<style scoped>\n",
       "    .dataframe tbody tr th:only-of-type {\n",
       "        vertical-align: middle;\n",
       "    }\n",
       "\n",
       "    .dataframe tbody tr th {\n",
       "        vertical-align: top;\n",
       "    }\n",
       "\n",
       "    .dataframe thead th {\n",
       "        text-align: right;\n",
       "    }\n",
       "</style>\n",
       "<table border=\"1\" class=\"dataframe\">\n",
       "  <thead>\n",
       "    <tr style=\"text-align: right;\">\n",
       "      <th></th>\n",
       "      <th>Program</th>\n",
       "      <th>Number of viewers</th>\n",
       "      <th>Audience share (%)</th>\n",
       "      <th>Start time</th>\n",
       "      <th>Broadcasting date</th>\n",
       "      <th>Genre_Capsule</th>\n",
       "      <th>Genre_Culturel</th>\n",
       "      <th>Genre_Info</th>\n",
       "      <th>Genre_Music</th>\n",
       "      <th>Genre_Politique</th>\n",
       "      <th>Genre_Religieux</th>\n",
       "      <th>Genre_Sport</th>\n",
       "      <th>Genre_documentaires</th>\n",
       "      <th>Genre_feuilleton</th>\n",
       "      <th>Broadcasting year</th>\n",
       "      <th>Broadcasting month</th>\n",
       "      <th>Broadcasting day</th>\n",
       "      <th>Start hour</th>\n",
       "      <th>Start minute</th>\n",
       "      <th>Start second</th>\n",
       "    </tr>\n",
       "  </thead>\n",
       "  <tbody>\n",
       "    <tr>\n",
       "      <th>0</th>\n",
       "      <td>Hiraf</td>\n",
       "      <td>163000</td>\n",
       "      <td>22.0</td>\n",
       "      <td>1900-01-01 21:15:00</td>\n",
       "      <td>2023-03-21</td>\n",
       "      <td>1</td>\n",
       "      <td>0</td>\n",
       "      <td>0</td>\n",
       "      <td>0</td>\n",
       "      <td>0</td>\n",
       "      <td>0</td>\n",
       "      <td>0</td>\n",
       "      <td>0</td>\n",
       "      <td>0</td>\n",
       "      <td>2023</td>\n",
       "      <td>3</td>\n",
       "      <td>21</td>\n",
       "      <td>21</td>\n",
       "      <td>15</td>\n",
       "      <td>0</td>\n",
       "    </tr>\n",
       "    <tr>\n",
       "      <th>1</th>\n",
       "      <td>Midadou chouaara</td>\n",
       "      <td>868000</td>\n",
       "      <td>13.8</td>\n",
       "      <td>1900-01-01 06:17:00</td>\n",
       "      <td>2023-03-20</td>\n",
       "      <td>0</td>\n",
       "      <td>1</td>\n",
       "      <td>0</td>\n",
       "      <td>0</td>\n",
       "      <td>0</td>\n",
       "      <td>0</td>\n",
       "      <td>0</td>\n",
       "      <td>0</td>\n",
       "      <td>0</td>\n",
       "      <td>2023</td>\n",
       "      <td>3</td>\n",
       "      <td>20</td>\n",
       "      <td>6</td>\n",
       "      <td>17</td>\n",
       "      <td>0</td>\n",
       "    </tr>\n",
       "    <tr>\n",
       "      <th>2</th>\n",
       "      <td>Fada Ryadi</td>\n",
       "      <td>681000</td>\n",
       "      <td>9.7</td>\n",
       "      <td>1900-01-01 07:10:00</td>\n",
       "      <td>2023-03-19</td>\n",
       "      <td>0</td>\n",
       "      <td>0</td>\n",
       "      <td>0</td>\n",
       "      <td>0</td>\n",
       "      <td>0</td>\n",
       "      <td>0</td>\n",
       "      <td>1</td>\n",
       "      <td>0</td>\n",
       "      <td>0</td>\n",
       "      <td>2023</td>\n",
       "      <td>3</td>\n",
       "      <td>19</td>\n",
       "      <td>7</td>\n",
       "      <td>10</td>\n",
       "      <td>0</td>\n",
       "    </tr>\n",
       "    <tr>\n",
       "      <th>3</th>\n",
       "      <td>Journal Télévisé</td>\n",
       "      <td>615000</td>\n",
       "      <td>44.9</td>\n",
       "      <td>1900-01-01 22:30:00</td>\n",
       "      <td>2023-03-18</td>\n",
       "      <td>0</td>\n",
       "      <td>0</td>\n",
       "      <td>1</td>\n",
       "      <td>0</td>\n",
       "      <td>0</td>\n",
       "      <td>0</td>\n",
       "      <td>0</td>\n",
       "      <td>0</td>\n",
       "      <td>0</td>\n",
       "      <td>2023</td>\n",
       "      <td>3</td>\n",
       "      <td>18</td>\n",
       "      <td>22</td>\n",
       "      <td>30</td>\n",
       "      <td>0</td>\n",
       "    </tr>\n",
       "    <tr>\n",
       "      <th>4</th>\n",
       "      <td>Agenda</td>\n",
       "      <td>868000</td>\n",
       "      <td>36.8</td>\n",
       "      <td>1900-01-01 19:39:00</td>\n",
       "      <td>2023-03-17</td>\n",
       "      <td>0</td>\n",
       "      <td>0</td>\n",
       "      <td>1</td>\n",
       "      <td>0</td>\n",
       "      <td>0</td>\n",
       "      <td>0</td>\n",
       "      <td>0</td>\n",
       "      <td>0</td>\n",
       "      <td>0</td>\n",
       "      <td>2023</td>\n",
       "      <td>3</td>\n",
       "      <td>17</td>\n",
       "      <td>19</td>\n",
       "      <td>39</td>\n",
       "      <td>0</td>\n",
       "    </tr>\n",
       "  </tbody>\n",
       "</table>\n",
       "</div>"
      ],
      "text/plain": [
       "            Program  Number of viewers  Audience share (%)  \\\n",
       "0             Hiraf             163000                22.0   \n",
       "1  Midadou chouaara             868000                13.8   \n",
       "2        Fada Ryadi             681000                 9.7   \n",
       "3  Journal Télévisé             615000                44.9   \n",
       "4            Agenda             868000                36.8   \n",
       "\n",
       "           Start time Broadcasting date  Genre_Capsule  Genre_Culturel  \\\n",
       "0 1900-01-01 21:15:00        2023-03-21              1               0   \n",
       "1 1900-01-01 06:17:00        2023-03-20              0               1   \n",
       "2 1900-01-01 07:10:00        2023-03-19              0               0   \n",
       "3 1900-01-01 22:30:00        2023-03-18              0               0   \n",
       "4 1900-01-01 19:39:00        2023-03-17              0               0   \n",
       "\n",
       "   Genre_Info  Genre_Music  Genre_Politique  Genre_Religieux  Genre_Sport  \\\n",
       "0           0            0                0                0            0   \n",
       "1           0            0                0                0            0   \n",
       "2           0            0                0                0            1   \n",
       "3           1            0                0                0            0   \n",
       "4           1            0                0                0            0   \n",
       "\n",
       "   Genre_documentaires  Genre_feuilleton  Broadcasting year  \\\n",
       "0                    0                 0               2023   \n",
       "1                    0                 0               2023   \n",
       "2                    0                 0               2023   \n",
       "3                    0                 0               2023   \n",
       "4                    0                 0               2023   \n",
       "\n",
       "   Broadcasting month  Broadcasting day  Start hour  Start minute  \\\n",
       "0                   3                21          21            15   \n",
       "1                   3                20           6            17   \n",
       "2                   3                19           7            10   \n",
       "3                   3                18          22            30   \n",
       "4                   3                17          19            39   \n",
       "\n",
       "   Start second  \n",
       "0             0  \n",
       "1             0  \n",
       "2             0  \n",
       "3             0  \n",
       "4             0  "
      ]
     },
     "execution_count": 26,
     "metadata": {},
     "output_type": "execute_result"
    }
   ],
   "source": [
    "data.head()"
   ]
  },
  {
   "cell_type": "code",
   "execution_count": 27,
   "metadata": {},
   "outputs": [
    {
     "data": {
      "text/plain": [
       "28"
      ]
     },
     "execution_count": 27,
     "metadata": {},
     "output_type": "execute_result"
    }
   ],
   "source": [
    "len(data.Program.value_counts())"
   ]
  },
  {
   "cell_type": "code",
   "execution_count": 28,
   "metadata": {},
   "outputs": [
    {
     "data": {
      "text/plain": [
       "array(['Hiraf', 'Midadou chouaara', 'Fada Ryadi', 'Journal Télévisé',\n",
       "       'Agenda', 'Sahafatou Al ousbouaa', 'Touratak Lak', 'Tarab',\n",
       "       'Nabdou Al Moujtamaa', 'Mina Dakira sahraouya', 'Mara oa Al Hayat',\n",
       "       'Amnir', 'Kadaya ramadaniya', 'Konoz mina sahrae',\n",
       "       'Sahil aljanoubi', 'Maa Nass', 'Mina alassima',\n",
       "       'Aljamal bima hamal', 'samar albidan', 'Assrisser Dahbo',\n",
       "       'Makam mina tarab hassani', 'layali lafrig',\n",
       "       'bissmilahi lahi namdeh', 'alfich', 'sibak kawafi', 'Quiz Quran',\n",
       "       'Maa Naha', 'Mahattat'], dtype=object)"
      ]
     },
     "execution_count": 28,
     "metadata": {},
     "output_type": "execute_result"
    }
   ],
   "source": [
    "data.Program.unique()"
   ]
  },
  {
   "cell_type": "code",
   "execution_count": 29,
   "metadata": {},
   "outputs": [],
   "source": [
    "Max_Program = data['Program'].value_counts().sort_values(ascending=False)[0:20]\n",
    "Max_Program.name = 'Count'\n",
    "Max_Program.index.name = 'Programs'"
   ]
  },
  {
   "cell_type": "code",
   "execution_count": 30,
   "metadata": {},
   "outputs": [
    {
     "data": {
      "image/png": "[encoded data removed]",
      "text/plain": [
       "<Figure size 1008x576 with 1 Axes>"
      ]
     },
     "metadata": {
      "needs_background": "light"
     },
     "output_type": "display_data"
    }
   ],
   "source": [
    "fig = plt.figure(figsize=(14,8))\n",
    "sns.barplot(x=Max_Program.index,y= Max_Program)\n",
    "plt.tight_layout()"
   ]
  },
  {
   "cell_type": "code",
   "execution_count": 31,
   "metadata": {},
   "outputs": [
    {
     "data": {
      "text/plain": [
       "0    567\n",
       "1    450\n",
       "Name: Genre_Culturel, dtype: int64"
      ]
     },
     "execution_count": 31,
     "metadata": {},
     "output_type": "execute_result"
    }
   ],
   "source": [
    "data.Genre_Culturel.value_counts()"
   ]
  },
  {
   "cell_type": "code",
   "execution_count": 32,
   "metadata": {},
   "outputs": [
    {
     "name": "stderr",
     "output_type": "stream",
     "text": [
      "c:\\users\\zee tech\\appdata\\local\\programs\\python\\python39\\lib\\site-packages\\seaborn\\_decorators.py:36: FutureWarning: Pass the following variable as a keyword arg: x. From version 0.12, the only valid positional argument will be `data`, and passing other arguments without an explicit keyword will result in an error or misinterpretation.\n",
      "  warnings.warn(\n"
     ]
    },
    {
     "data": {
      "text/plain": [
       "<AxesSubplot:xlabel='Genre_Culturel', ylabel='count'>"
      ]
     },
     "execution_count": 32,
     "metadata": {},
     "output_type": "execute_result"
    },
    {
     "data": {
      "image/png": "[encoded data removed]",
      "text/plain": [
       "<Figure size 432x288 with 1 Axes>"
      ]
     },
     "metadata": {
      "needs_background": "light"
     },
     "output_type": "display_data"
    }
   ],
   "source": [
    "sns.countplot(data['Genre_Culturel'])"
   ]
  },
  {
   "cell_type": "code",
   "execution_count": 33,
   "metadata": {},
   "outputs": [
    {
     "data": {
      "text/plain": [
       "Index(['Program', 'Number of viewers', 'Audience share (%)', 'Start time',\n",
       "       'Broadcasting date', 'Genre_Capsule', 'Genre_Culturel', 'Genre_Info',\n",
       "       'Genre_Music', 'Genre_Politique', 'Genre_Religieux', 'Genre_Sport',\n",
       "       'Genre_documentaires', 'Genre_feuilleton', 'Broadcasting year',\n",
       "       'Broadcasting month', 'Broadcasting day', 'Start hour', 'Start minute',\n",
       "       'Start second'],\n",
       "      dtype='object')"
      ]
     },
     "execution_count": 33,
     "metadata": {},
     "output_type": "execute_result"
    }
   ],
   "source": [
    "data.columns"
   ]
  },
  {
   "cell_type": "code",
   "execution_count": 34,
   "metadata": {},
   "outputs": [
    {
     "data": {
      "image/png": "[encoded data removed]",
      "text/plain": [
       "<Figure size 864x576 with 20 Axes>"
      ]
     },
     "metadata": {
      "needs_background": "light"
     },
     "output_type": "display_data"
    }
   ],
   "source": [
    "data.hist(figsize=(12,8),bins=30)\n",
    "plt.tight_layout()"
   ]
  },
  {
   "cell_type": "code",
   "execution_count": null,
   "metadata": {},
   "outputs": [],
   "source": []
  },
  {
   "cell_type": "code",
   "execution_count": 35,
   "metadata": {},
   "outputs": [],
   "source": [
    "def bivariate_analysis(x):\n",
    "    plt.figure(figsize=(10,6))\n",
    "    ax = sns.regplot(x=x, y='Number of viewers',data=data)\n",
    "    ax.set_title(\"Used \"+x, fontsize=25)\n",
    "    ax.set_xlabel(x, fontsize=20)\n",
    "    ax.set_ylabel('Number of viewers', fontsize=20)\n",
    "    plt.locator_params(axis='x', nbins=10)"
   ]
  },
  {
   "cell_type": "code",
   "execution_count": 36,
   "metadata": {},
   "outputs": [
    {
     "data": {
      "image/png": "[encoded data removed]",
      "text/plain": [
       "<Figure size 720x432 with 1 Axes>"
      ]
     },
     "metadata": {
      "needs_background": "light"
     },
     "output_type": "display_data"
    }
   ],
   "source": [
    "bivariate_analysis(\"Genre_Capsule\")\n",
    "plt.tight_layout()"
   ]
  },
  {
   "cell_type": "code",
   "execution_count": 37,
   "metadata": {},
   "outputs": [
    {
     "ename": "KeyError",
     "evalue": "'Genre_Cultural'",
     "output_type": "error",
     "traceback": [
      "\u001b[1;31m---------------------------------------------------------------------------\u001b[0m",
      "\u001b[1;31mKeyError\u001b[0m                                  Traceback (most recent call last)",
      "\u001b[1;32mc:\\users\\zee tech\\appdata\\local\\programs\\python\\python39\\lib\\site-packages\\pandas\\core\\indexes\\base.py\u001b[0m in \u001b[0;36mget_loc\u001b[1;34m(self, key, method, tolerance)\u001b[0m\n\u001b[0;32m   3080\u001b[0m             \u001b[1;32mtry\u001b[0m\u001b[1;33m:\u001b[0m\u001b[1;33m\u001b[0m\u001b[1;33m\u001b[0m\u001b[0m\n\u001b[1;32m-> 3081\u001b[1;33m                 \u001b[1;32mreturn\u001b[0m \u001b[0mself\u001b[0m\u001b[1;33m.\u001b[0m\u001b[0m_engine\u001b[0m\u001b[1;33m.\u001b[0m\u001b[0mget_loc\u001b[0m\u001b[1;33m(\u001b[0m\u001b[0mcasted_key\u001b[0m\u001b[1;33m)\u001b[0m\u001b[1;33m\u001b[0m\u001b[1;33m\u001b[0m\u001b[0m\n\u001b[0m\u001b[0;32m   3082\u001b[0m             \u001b[1;32mexcept\u001b[0m \u001b[0mKeyError\u001b[0m \u001b[1;32mas\u001b[0m \u001b[0merr\u001b[0m\u001b[1;33m:\u001b[0m\u001b[1;33m\u001b[0m\u001b[1;33m\u001b[0m\u001b[0m\n",
      "\u001b[1;32mpandas\\_libs\\index.pyx\u001b[0m in \u001b[0;36mpandas._libs.index.IndexEngine.get_loc\u001b[1;34m()\u001b[0m\n",
      "\u001b[1;32mpandas\\_libs\\index.pyx\u001b[0m in \u001b[0;36mpandas._libs.index.IndexEngine.get_loc\u001b[1;34m()\u001b[0m\n",
      "\u001b[1;32mpandas\\_libs\\hashtable_class_helper.pxi\u001b[0m in \u001b[0;36mpandas._libs.hashtable.PyObjectHashTable.get_item\u001b[1;34m()\u001b[0m\n",
      "\u001b[1;32mpandas\\_libs\\hashtable_class_helper.pxi\u001b[0m in \u001b[0;36mpandas._libs.hashtable.PyObjectHashTable.get_item\u001b[1;34m()\u001b[0m\n",
      "\u001b[1;31mKeyError\u001b[0m: 'Genre_Cultural'",
      "\nThe above exception was the direct cause of the following exception:\n",
      "\u001b[1;31mKeyError\u001b[0m                                  Traceback (most recent call last)",
      "\u001b[1;32m<ipython-input-37-b5ed3fe398b2>\u001b[0m in \u001b[0;36m<module>\u001b[1;34m\u001b[0m\n\u001b[0;32m      1\u001b[0m \u001b[0mcols\u001b[0m \u001b[1;33m=\u001b[0m \u001b[1;33m[\u001b[0m\u001b[1;34m\"Genre_Capsule\"\u001b[0m\u001b[1;33m,\u001b[0m \u001b[1;34m\"Genre_Cultural\"\u001b[0m\u001b[1;33m,\u001b[0m\u001b[1;34m\"Genre_Info\"\u001b[0m\u001b[1;33m,\u001b[0m\u001b[1;34m\"Genre_Music\"\u001b[0m\u001b[1;33m,\u001b[0m\u001b[1;34m\"Genre_Politique\"\u001b[0m\u001b[1;33m,\u001b[0m\u001b[1;34m\"Genre_Religieux\"\u001b[0m\u001b[1;33m,\u001b[0m\u001b[1;34m\"Genre_Sport\"\u001b[0m\u001b[1;33m,\u001b[0m \u001b[1;34m\"Genre_documentaires\"\u001b[0m\u001b[1;33m,\u001b[0m\u001b[1;34m\"Gen_feuilleton\"\u001b[0m\u001b[1;33m]\u001b[0m\u001b[1;33m\u001b[0m\u001b[1;33m\u001b[0m\u001b[0m\n\u001b[0;32m      2\u001b[0m \u001b[1;32mfor\u001b[0m \u001b[0mx\u001b[0m \u001b[1;32min\u001b[0m \u001b[0mcols\u001b[0m\u001b[1;33m:\u001b[0m\u001b[1;33m\u001b[0m\u001b[1;33m\u001b[0m\u001b[0m\n\u001b[1;32m----> 3\u001b[1;33m     \u001b[0mbivariate_analysis\u001b[0m\u001b[1;33m(\u001b[0m\u001b[0mx\u001b[0m\u001b[1;33m)\u001b[0m\u001b[1;33m\u001b[0m\u001b[1;33m\u001b[0m\u001b[0m\n\u001b[0m\u001b[0;32m      4\u001b[0m \u001b[0mplt\u001b[0m\u001b[1;33m.\u001b[0m\u001b[0mtight_layout\u001b[0m\u001b[1;33m(\u001b[0m\u001b[1;33m)\u001b[0m\u001b[1;33m\u001b[0m\u001b[1;33m\u001b[0m\u001b[0m\n",
      "\u001b[1;32m<ipython-input-35-c6ead3bc45bb>\u001b[0m in \u001b[0;36mbivariate_analysis\u001b[1;34m(x)\u001b[0m\n\u001b[0;32m      1\u001b[0m \u001b[1;32mdef\u001b[0m \u001b[0mbivariate_analysis\u001b[0m\u001b[1;33m(\u001b[0m\u001b[0mx\u001b[0m\u001b[1;33m)\u001b[0m\u001b[1;33m:\u001b[0m\u001b[1;33m\u001b[0m\u001b[1;33m\u001b[0m\u001b[0m\n\u001b[0;32m      2\u001b[0m     \u001b[0mplt\u001b[0m\u001b[1;33m.\u001b[0m\u001b[0mfigure\u001b[0m\u001b[1;33m(\u001b[0m\u001b[0mfigsize\u001b[0m\u001b[1;33m=\u001b[0m\u001b[1;33m(\u001b[0m\u001b[1;36m10\u001b[0m\u001b[1;33m,\u001b[0m\u001b[1;36m6\u001b[0m\u001b[1;33m)\u001b[0m\u001b[1;33m)\u001b[0m\u001b[1;33m\u001b[0m\u001b[1;33m\u001b[0m\u001b[0m\n\u001b[1;32m----> 3\u001b[1;33m     \u001b[0max\u001b[0m \u001b[1;33m=\u001b[0m \u001b[0msns\u001b[0m\u001b[1;33m.\u001b[0m\u001b[0mregplot\u001b[0m\u001b[1;33m(\u001b[0m\u001b[0mx\u001b[0m\u001b[1;33m=\u001b[0m\u001b[0mx\u001b[0m\u001b[1;33m,\u001b[0m \u001b[0my\u001b[0m\u001b[1;33m=\u001b[0m\u001b[1;34m'Number of viewers'\u001b[0m\u001b[1;33m,\u001b[0m\u001b[0mdata\u001b[0m\u001b[1;33m=\u001b[0m\u001b[0mdata\u001b[0m\u001b[1;33m)\u001b[0m\u001b[1;33m\u001b[0m\u001b[1;33m\u001b[0m\u001b[0m\n\u001b[0m\u001b[0;32m      4\u001b[0m     \u001b[0max\u001b[0m\u001b[1;33m.\u001b[0m\u001b[0mset_title\u001b[0m\u001b[1;33m(\u001b[0m\u001b[1;34m\"Used \"\u001b[0m\u001b[1;33m+\u001b[0m\u001b[0mx\u001b[0m\u001b[1;33m,\u001b[0m \u001b[0mfontsize\u001b[0m\u001b[1;33m=\u001b[0m\u001b[1;36m25\u001b[0m\u001b[1;33m)\u001b[0m\u001b[1;33m\u001b[0m\u001b[1;33m\u001b[0m\u001b[0m\n\u001b[0;32m      5\u001b[0m     \u001b[0max\u001b[0m\u001b[1;33m.\u001b[0m\u001b[0mset_xlabel\u001b[0m\u001b[1;33m(\u001b[0m\u001b[0mx\u001b[0m\u001b[1;33m,\u001b[0m \u001b[0mfontsize\u001b[0m\u001b[1;33m=\u001b[0m\u001b[1;36m20\u001b[0m\u001b[1;33m)\u001b[0m\u001b[1;33m\u001b[0m\u001b[1;33m\u001b[0m\u001b[0m\n",
      "\u001b[1;32mc:\\users\\zee tech\\appdata\\local\\programs\\python\\python39\\lib\\site-packages\\seaborn\\_decorators.py\u001b[0m in \u001b[0;36minner_f\u001b[1;34m(*args, **kwargs)\u001b[0m\n\u001b[0;32m     44\u001b[0m             )\n\u001b[0;32m     45\u001b[0m         \u001b[0mkwargs\u001b[0m\u001b[1;33m.\u001b[0m\u001b[0mupdate\u001b[0m\u001b[1;33m(\u001b[0m\u001b[1;33m{\u001b[0m\u001b[0mk\u001b[0m\u001b[1;33m:\u001b[0m \u001b[0marg\u001b[0m \u001b[1;32mfor\u001b[0m \u001b[0mk\u001b[0m\u001b[1;33m,\u001b[0m \u001b[0marg\u001b[0m \u001b[1;32min\u001b[0m \u001b[0mzip\u001b[0m\u001b[1;33m(\u001b[0m\u001b[0msig\u001b[0m\u001b[1;33m.\u001b[0m\u001b[0mparameters\u001b[0m\u001b[1;33m,\u001b[0m \u001b[0margs\u001b[0m\u001b[1;33m)\u001b[0m\u001b[1;33m}\u001b[0m\u001b[1;33m)\u001b[0m\u001b[1;33m\u001b[0m\u001b[1;33m\u001b[0m\u001b[0m\n\u001b[1;32m---> 46\u001b[1;33m         \u001b[1;32mreturn\u001b[0m \u001b[0mf\u001b[0m\u001b[1;33m(\u001b[0m\u001b[1;33m**\u001b[0m\u001b[0mkwargs\u001b[0m\u001b[1;33m)\u001b[0m\u001b[1;33m\u001b[0m\u001b[1;33m\u001b[0m\u001b[0m\n\u001b[0m\u001b[0;32m     47\u001b[0m     \u001b[1;32mreturn\u001b[0m \u001b[0minner_f\u001b[0m\u001b[1;33m\u001b[0m\u001b[1;33m\u001b[0m\u001b[0m\n\u001b[0;32m     48\u001b[0m \u001b[1;33m\u001b[0m\u001b[0m\n",
      "\u001b[1;32mc:\\users\\zee tech\\appdata\\local\\programs\\python\\python39\\lib\\site-packages\\seaborn\\regression.py\u001b[0m in \u001b[0;36mregplot\u001b[1;34m(x, y, data, x_estimator, x_bins, x_ci, scatter, fit_reg, ci, n_boot, units, seed, order, logistic, lowess, robust, logx, x_partial, y_partial, truncate, dropna, x_jitter, y_jitter, label, color, marker, scatter_kws, line_kws, ax)\u001b[0m\n\u001b[0;32m    824\u001b[0m ):\n\u001b[0;32m    825\u001b[0m \u001b[1;33m\u001b[0m\u001b[0m\n\u001b[1;32m--> 826\u001b[1;33m     plotter = _RegressionPlotter(x, y, data, x_estimator, x_bins, x_ci,\n\u001b[0m\u001b[0;32m    827\u001b[0m                                  \u001b[0mscatter\u001b[0m\u001b[1;33m,\u001b[0m \u001b[0mfit_reg\u001b[0m\u001b[1;33m,\u001b[0m \u001b[0mci\u001b[0m\u001b[1;33m,\u001b[0m \u001b[0mn_boot\u001b[0m\u001b[1;33m,\u001b[0m \u001b[0munits\u001b[0m\u001b[1;33m,\u001b[0m \u001b[0mseed\u001b[0m\u001b[1;33m,\u001b[0m\u001b[1;33m\u001b[0m\u001b[1;33m\u001b[0m\u001b[0m\n\u001b[0;32m    828\u001b[0m                                  \u001b[0morder\u001b[0m\u001b[1;33m,\u001b[0m \u001b[0mlogistic\u001b[0m\u001b[1;33m,\u001b[0m \u001b[0mlowess\u001b[0m\u001b[1;33m,\u001b[0m \u001b[0mrobust\u001b[0m\u001b[1;33m,\u001b[0m \u001b[0mlogx\u001b[0m\u001b[1;33m,\u001b[0m\u001b[1;33m\u001b[0m\u001b[1;33m\u001b[0m\u001b[0m\n",
      "\u001b[1;32mc:\\users\\zee tech\\appdata\\local\\programs\\python\\python39\\lib\\site-packages\\seaborn\\regression.py\u001b[0m in \u001b[0;36m__init__\u001b[1;34m(self, x, y, data, x_estimator, x_bins, x_ci, scatter, fit_reg, ci, n_boot, units, seed, order, logistic, lowess, robust, logx, x_partial, y_partial, truncate, dropna, x_jitter, y_jitter, color, label)\u001b[0m\n\u001b[0;32m    107\u001b[0m \u001b[1;33m\u001b[0m\u001b[0m\n\u001b[0;32m    108\u001b[0m         \u001b[1;31m# Extract the data vals from the arguments or passed dataframe\u001b[0m\u001b[1;33m\u001b[0m\u001b[1;33m\u001b[0m\u001b[1;33m\u001b[0m\u001b[0m\n\u001b[1;32m--> 109\u001b[1;33m         self.establish_variables(data, x=x, y=y, units=units,\n\u001b[0m\u001b[0;32m    110\u001b[0m                                  x_partial=x_partial, y_partial=y_partial)\n\u001b[0;32m    111\u001b[0m \u001b[1;33m\u001b[0m\u001b[0m\n",
      "\u001b[1;32mc:\\users\\zee tech\\appdata\\local\\programs\\python\\python39\\lib\\site-packages\\seaborn\\regression.py\u001b[0m in \u001b[0;36mestablish_variables\u001b[1;34m(self, data, **kws)\u001b[0m\n\u001b[0;32m     44\u001b[0m         \u001b[1;32mfor\u001b[0m \u001b[0mvar\u001b[0m\u001b[1;33m,\u001b[0m \u001b[0mval\u001b[0m \u001b[1;32min\u001b[0m \u001b[0mkws\u001b[0m\u001b[1;33m.\u001b[0m\u001b[0mitems\u001b[0m\u001b[1;33m(\u001b[0m\u001b[1;33m)\u001b[0m\u001b[1;33m:\u001b[0m\u001b[1;33m\u001b[0m\u001b[1;33m\u001b[0m\u001b[0m\n\u001b[0;32m     45\u001b[0m             \u001b[1;32mif\u001b[0m \u001b[0misinstance\u001b[0m\u001b[1;33m(\u001b[0m\u001b[0mval\u001b[0m\u001b[1;33m,\u001b[0m \u001b[0mstr\u001b[0m\u001b[1;33m)\u001b[0m\u001b[1;33m:\u001b[0m\u001b[1;33m\u001b[0m\u001b[1;33m\u001b[0m\u001b[0m\n\u001b[1;32m---> 46\u001b[1;33m                 \u001b[0mvector\u001b[0m \u001b[1;33m=\u001b[0m \u001b[0mdata\u001b[0m\u001b[1;33m[\u001b[0m\u001b[0mval\u001b[0m\u001b[1;33m]\u001b[0m\u001b[1;33m\u001b[0m\u001b[1;33m\u001b[0m\u001b[0m\n\u001b[0m\u001b[0;32m     47\u001b[0m             \u001b[1;32melif\u001b[0m \u001b[0misinstance\u001b[0m\u001b[1;33m(\u001b[0m\u001b[0mval\u001b[0m\u001b[1;33m,\u001b[0m \u001b[0mlist\u001b[0m\u001b[1;33m)\u001b[0m\u001b[1;33m:\u001b[0m\u001b[1;33m\u001b[0m\u001b[1;33m\u001b[0m\u001b[0m\n\u001b[0;32m     48\u001b[0m                 \u001b[0mvector\u001b[0m \u001b[1;33m=\u001b[0m \u001b[0mnp\u001b[0m\u001b[1;33m.\u001b[0m\u001b[0masarray\u001b[0m\u001b[1;33m(\u001b[0m\u001b[0mval\u001b[0m\u001b[1;33m)\u001b[0m\u001b[1;33m\u001b[0m\u001b[1;33m\u001b[0m\u001b[0m\n",
      "\u001b[1;32mc:\\users\\zee tech\\appdata\\local\\programs\\python\\python39\\lib\\site-packages\\pandas\\core\\frame.py\u001b[0m in \u001b[0;36m__getitem__\u001b[1;34m(self, key)\u001b[0m\n\u001b[0;32m   3022\u001b[0m             \u001b[1;32mif\u001b[0m \u001b[0mself\u001b[0m\u001b[1;33m.\u001b[0m\u001b[0mcolumns\u001b[0m\u001b[1;33m.\u001b[0m\u001b[0mnlevels\u001b[0m \u001b[1;33m>\u001b[0m \u001b[1;36m1\u001b[0m\u001b[1;33m:\u001b[0m\u001b[1;33m\u001b[0m\u001b[1;33m\u001b[0m\u001b[0m\n\u001b[0;32m   3023\u001b[0m                 \u001b[1;32mreturn\u001b[0m \u001b[0mself\u001b[0m\u001b[1;33m.\u001b[0m\u001b[0m_getitem_multilevel\u001b[0m\u001b[1;33m(\u001b[0m\u001b[0mkey\u001b[0m\u001b[1;33m)\u001b[0m\u001b[1;33m\u001b[0m\u001b[1;33m\u001b[0m\u001b[0m\n\u001b[1;32m-> 3024\u001b[1;33m             \u001b[0mindexer\u001b[0m \u001b[1;33m=\u001b[0m \u001b[0mself\u001b[0m\u001b[1;33m.\u001b[0m\u001b[0mcolumns\u001b[0m\u001b[1;33m.\u001b[0m\u001b[0mget_loc\u001b[0m\u001b[1;33m(\u001b[0m\u001b[0mkey\u001b[0m\u001b[1;33m)\u001b[0m\u001b[1;33m\u001b[0m\u001b[1;33m\u001b[0m\u001b[0m\n\u001b[0m\u001b[0;32m   3025\u001b[0m             \u001b[1;32mif\u001b[0m \u001b[0mis_integer\u001b[0m\u001b[1;33m(\u001b[0m\u001b[0mindexer\u001b[0m\u001b[1;33m)\u001b[0m\u001b[1;33m:\u001b[0m\u001b[1;33m\u001b[0m\u001b[1;33m\u001b[0m\u001b[0m\n\u001b[0;32m   3026\u001b[0m                 \u001b[0mindexer\u001b[0m \u001b[1;33m=\u001b[0m \u001b[1;33m[\u001b[0m\u001b[0mindexer\u001b[0m\u001b[1;33m]\u001b[0m\u001b[1;33m\u001b[0m\u001b[1;33m\u001b[0m\u001b[0m\n",
      "\u001b[1;32mc:\\users\\zee tech\\appdata\\local\\programs\\python\\python39\\lib\\site-packages\\pandas\\core\\indexes\\base.py\u001b[0m in \u001b[0;36mget_loc\u001b[1;34m(self, key, method, tolerance)\u001b[0m\n\u001b[0;32m   3081\u001b[0m                 \u001b[1;32mreturn\u001b[0m \u001b[0mself\u001b[0m\u001b[1;33m.\u001b[0m\u001b[0m_engine\u001b[0m\u001b[1;33m.\u001b[0m\u001b[0mget_loc\u001b[0m\u001b[1;33m(\u001b[0m\u001b[0mcasted_key\u001b[0m\u001b[1;33m)\u001b[0m\u001b[1;33m\u001b[0m\u001b[1;33m\u001b[0m\u001b[0m\n\u001b[0;32m   3082\u001b[0m             \u001b[1;32mexcept\u001b[0m \u001b[0mKeyError\u001b[0m \u001b[1;32mas\u001b[0m \u001b[0merr\u001b[0m\u001b[1;33m:\u001b[0m\u001b[1;33m\u001b[0m\u001b[1;33m\u001b[0m\u001b[0m\n\u001b[1;32m-> 3083\u001b[1;33m                 \u001b[1;32mraise\u001b[0m \u001b[0mKeyError\u001b[0m\u001b[1;33m(\u001b[0m\u001b[0mkey\u001b[0m\u001b[1;33m)\u001b[0m \u001b[1;32mfrom\u001b[0m \u001b[0merr\u001b[0m\u001b[1;33m\u001b[0m\u001b[1;33m\u001b[0m\u001b[0m\n\u001b[0m\u001b[0;32m   3084\u001b[0m \u001b[1;33m\u001b[0m\u001b[0m\n\u001b[0;32m   3085\u001b[0m         \u001b[1;32mif\u001b[0m \u001b[0mtolerance\u001b[0m \u001b[1;32mis\u001b[0m \u001b[1;32mnot\u001b[0m \u001b[1;32mNone\u001b[0m\u001b[1;33m:\u001b[0m\u001b[1;33m\u001b[0m\u001b[1;33m\u001b[0m\u001b[0m\n",
      "\u001b[1;31mKeyError\u001b[0m: 'Genre_Cultural'"
     ]
    },
    {
     "data": {
      "image/png": "[encoded data removed]",
      "text/plain": [
       "<Figure size 720x432 with 1 Axes>"
      ]
     },
     "metadata": {
      "needs_background": "light"
     },
     "output_type": "display_data"
    },
    {
     "data": {
      "text/plain": [
       "<Figure size 720x432 with 0 Axes>"
      ]
     },
     "metadata": {},
     "output_type": "display_data"
    }
   ],
   "source": [
    "cols = [\"Genre_Capsule\", \"Genre_Cultural\",\"Genre_Info\",\"Genre_Music\",\"Genre_Politique\",\"Genre_Religieux\",\"Genre_Sport\", \"Genre_documentaires\",\"Gen_feuilleton\"]\n",
    "for x in cols:\n",
    "    bivariate_analysis(x)\n",
    "plt.tight_layout()"
   ]
  },
  {
   "cell_type": "code",
   "execution_count": 38,
   "metadata": {},
   "outputs": [
    {
     "data": {
      "text/plain": [
       "<AxesSubplot:>"
      ]
     },
     "execution_count": 38,
     "metadata": {},
     "output_type": "execute_result"
    },
    {
     "data": {
      "image/png": "[encoded data removed]",
      "text/plain": [
       "<Figure size 864x576 with 2 Axes>"
      ]
     },
     "metadata": {
      "needs_background": "light"
     },
     "output_type": "display_data"
    }
   ],
   "source": [
    "fig = plt.figure(figsize=(12,8))\n",
    "sns.heatmap(data.corr(),annot=True)"
   ]
  },
  {
   "cell_type": "code",
   "execution_count": 51,
   "metadata": {},
   "outputs": [],
   "source": [
    "# Split the data into training and testing sets\n",
    "X = data.drop([ \"Program\",\"Genre_Capsule\",\"Genre_Culturel\" ,\"Genre_Info\",\"Genre_Music\",\"Genre_Politique\",\"Genre_Religieux\",\"Genre_Sport\",\"Genre_documentaires\",\"Genre_feuilleton\", \"Broadcasting date\", \"Start time\"], axis=1)\n",
    "y = data[[\"Audience share (%)\"]]\n",
    "X_train, X_test, y_train, y_test = train_test_split(X, y, test_size=0.2, random_state=42)"
   ]
  },
  {
   "cell_type": "code",
   "execution_count": 52,
   "metadata": {},
   "outputs": [
    {
     "name": "stdout",
     "output_type": "stream",
     "text": [
      "+ ==================================================================================================== +\n",
      "\u001b[1m\t\t\t1-For Ridge The Performance result is: \u001b[0m\n",
      "+ ==================================================================================================== +\n",
      "Root mean squared error (RMSE) :  0.0001812619645922368\n",
      "--------------------------------------------------\n",
      "Mean absolute error (MAE) :  0.00015454538749056843\n",
      "--------------------------------------------------\n",
      "--------------------------------------------------\n",
      "R2 score :  0.9999999992347701\n",
      "--------------------------------------------------\n",
      "--------------------------------------------------\n",
      "\t\t\t\t\t\t\t-----------------------------------------------------------\n",
      "\t\t\t\t\t\t\t Time for detection (Ridge) : 0.033 seconds...\n",
      "\t\t\t\t\t\t\t-----------------------------------------------------------\n",
      "\n",
      "+ ==================================================================================================== +\n",
      "\u001b[1m\t\t\t2-For LinearRegression The Performance result is: \u001b[0m\n",
      "+ ==================================================================================================== +\n",
      "Root mean squared error (RMSE) :  9.601481702562974e-15\n",
      "--------------------------------------------------\n",
      "Mean absolute error (MAE) :  6.826783147499002e-15\n",
      "--------------------------------------------------\n",
      "--------------------------------------------------\n",
      "R2 score :  1.0\n",
      "--------------------------------------------------\n",
      "--------------------------------------------------\n",
      "\t\t\t\t\t\t\t-----------------------------------------------------------\n",
      "\t\t\t\t\t\t\t Time for detection (LinearRegression) : 0.026 seconds...\n",
      "\t\t\t\t\t\t\t-----------------------------------------------------------\n",
      "\n",
      "+ ==================================================================================================== +\n",
      "\u001b[1m\t\t\t3-For KNeighborsRegressor The Performance result is: \u001b[0m\n",
      "+ ==================================================================================================== +\n",
      "Root mean squared error (RMSE) :  7.159957278873535\n",
      "--------------------------------------------------\n",
      "Mean absolute error (MAE) :  6.092156862745097\n",
      "--------------------------------------------------\n",
      "--------------------------------------------------\n",
      "R2 score :  -0.19398643574380703\n",
      "--------------------------------------------------\n",
      "--------------------------------------------------\n",
      "\t\t\t\t\t\t\t-----------------------------------------------------------\n",
      "\t\t\t\t\t\t\t Time for detection (KNeighborsRegressor) : 0.032 seconds...\n",
      "\t\t\t\t\t\t\t-----------------------------------------------------------\n",
      "\n"
     ]
    },
    {
     "name": "stderr",
     "output_type": "stream",
     "text": [
      "<ipython-input-52-c32640f76a5f>:33: DataConversionWarning: A column-vector y was passed when a 1d array was expected. Please change the shape of y to (n_samples,), for example using ravel().\n",
      "  clf.fit(X_train, y_train)\n"
     ]
    },
    {
     "name": "stdout",
     "output_type": "stream",
     "text": [
      "+ ==================================================================================================== +\n",
      "\u001b[1m\t\t\t4-For Random Forest The Performance result is: \u001b[0m\n",
      "+ ==================================================================================================== +\n",
      "Root mean squared error (RMSE) :  0.27316060419883836\n",
      "--------------------------------------------------\n",
      "Mean absolute error (MAE) :  0.01985294117647047\n",
      "--------------------------------------------------\n",
      "--------------------------------------------------\n",
      "R2 score :  0.9982621405080548\n",
      "--------------------------------------------------\n",
      "--------------------------------------------------\n",
      "\t\t\t\t\t\t\t-----------------------------------------------------------\n",
      "\t\t\t\t\t\t\t Time for detection (Random Forest) : 0.304 seconds...\n",
      "\t\t\t\t\t\t\t-----------------------------------------------------------\n",
      "\n",
      "+ ==================================================================================================== +\n",
      "\u001b[1m\t\t\t5-For Decision Tree The Performance result is: \u001b[0m\n",
      "+ ==================================================================================================== +\n",
      "Root mean squared error (RMSE) :  0.2730546163854618\n",
      "--------------------------------------------------\n",
      "Mean absolute error (MAE) :  0.019117647058823524\n",
      "--------------------------------------------------\n",
      "--------------------------------------------------\n",
      "R2 score :  0.9982634888444616\n",
      "--------------------------------------------------\n",
      "--------------------------------------------------\n",
      "\t\t\t\t\t\t\t-----------------------------------------------------------\n",
      "\t\t\t\t\t\t\t Time for detection (Decision Tree) : 0.026 seconds...\n",
      "\t\t\t\t\t\t\t-----------------------------------------------------------\n",
      "\n"
     ]
    },
    {
     "data": {
      "text/html": [
       "<div>\n",
       "<style scoped>\n",
       "    .dataframe tbody tr th:only-of-type {\n",
       "        vertical-align: middle;\n",
       "    }\n",
       "\n",
       "    .dataframe tbody tr th {\n",
       "        vertical-align: top;\n",
       "    }\n",
       "\n",
       "    .dataframe thead th {\n",
       "        text-align: right;\n",
       "    }\n",
       "</style>\n",
       "<table border=\"1\" class=\"dataframe\">\n",
       "  <thead>\n",
       "    <tr style=\"text-align: right;\">\n",
       "      <th></th>\n",
       "      <th>Training Score</th>\n",
       "      <th>Testing Score</th>\n",
       "      <th>MAE</th>\n",
       "      <th>RMSE</th>\n",
       "      <th>R2 Score</th>\n",
       "    </tr>\n",
       "  </thead>\n",
       "  <tbody>\n",
       "    <tr>\n",
       "      <th>0</th>\n",
       "      <td>1.000000</td>\n",
       "      <td>1.000000</td>\n",
       "      <td>1.545454e-04</td>\n",
       "      <td>1.812620e-04</td>\n",
       "      <td>1.000000</td>\n",
       "    </tr>\n",
       "    <tr>\n",
       "      <th>1</th>\n",
       "      <td>1.000000</td>\n",
       "      <td>1.000000</td>\n",
       "      <td>6.826783e-15</td>\n",
       "      <td>9.601482e-15</td>\n",
       "      <td>1.000000</td>\n",
       "    </tr>\n",
       "    <tr>\n",
       "      <th>2</th>\n",
       "      <td>0.232524</td>\n",
       "      <td>-0.193986</td>\n",
       "      <td>6.092157e+00</td>\n",
       "      <td>7.159957e+00</td>\n",
       "      <td>-0.193986</td>\n",
       "    </tr>\n",
       "    <tr>\n",
       "      <th>3</th>\n",
       "      <td>0.999888</td>\n",
       "      <td>0.998262</td>\n",
       "      <td>1.985294e-02</td>\n",
       "      <td>2.731606e-01</td>\n",
       "      <td>0.998262</td>\n",
       "    </tr>\n",
       "    <tr>\n",
       "      <th>4</th>\n",
       "      <td>1.000000</td>\n",
       "      <td>0.998263</td>\n",
       "      <td>1.911765e-02</td>\n",
       "      <td>2.730546e-01</td>\n",
       "      <td>0.998263</td>\n",
       "    </tr>\n",
       "  </tbody>\n",
       "</table>\n",
       "</div>"
      ],
      "text/plain": [
       "   Training Score  Testing Score           MAE          RMSE  R2 Score\n",
       "0        1.000000       1.000000  1.545454e-04  1.812620e-04  1.000000\n",
       "1        1.000000       1.000000  6.826783e-15  9.601482e-15  1.000000\n",
       "2        0.232524      -0.193986  6.092157e+00  7.159957e+00 -0.193986\n",
       "3        0.999888       0.998262  1.985294e-02  2.731606e-01  0.998262\n",
       "4        1.000000       0.998263  1.911765e-02  2.730546e-01  0.998263"
      ]
     },
     "execution_count": 52,
     "metadata": {},
     "output_type": "execute_result"
    }
   ],
   "source": [
    "# Importing Models\n",
    "from sklearn.linear_model import LinearRegression\n",
    "from sklearn.linear_model import Ridge\n",
    "from sklearn.neighbors import KNeighborsRegressor\n",
    "from sklearn.ensemble import RandomForestRegressor\n",
    "from sklearn.tree import DecisionTreeRegressor\n",
    "\n",
    "# Importing evaluation modules\n",
    "from sklearn.metrics import r2_score, mean_absolute_error, mean_squared_error\n",
    "\n",
    "# check the performance on diffrent regressor\n",
    "models = []\n",
    "models.append(('Ridge', Ridge()))\n",
    "models.append(('LinearRegression', LinearRegression()))\n",
    "models.append(('KNeighborsRegressor', KNeighborsRegressor()))\n",
    "models.append(('Random Forest', RandomForestRegressor()))\n",
    "models.append(('Decision Tree', DecisionTreeRegressor()))\n",
    "\n",
    "train_l = []\n",
    "test_l = []\n",
    "mae_l = []\n",
    "rmse_l = []\n",
    "r2_l = []\n",
    "\n",
    "import time\n",
    "i = 0\n",
    "for name,model in models:\n",
    "    i = i+1\n",
    "    start_time = time.time()\n",
    "    \n",
    "    # Fitting model to the Training set\n",
    "    clf = model\n",
    "    clf.fit(X_train, y_train)\n",
    "    \n",
    "    # Scores of model\n",
    "    train = model.score(X_train, y_train)\n",
    "    test = model.score(X_test, y_test)\n",
    "    \n",
    "    train_l.append(train)\n",
    "    test_l.append(test)\n",
    "    \n",
    "    # predict values\n",
    "    predictions = clf.predict(X_test)\n",
    "    # RMSE\n",
    "    rmse = np.sqrt(mean_squared_error(y_test, predictions))\n",
    "    rmse_l.append(rmse)\n",
    "    # MAE\n",
    "    mae = mean_absolute_error(y_test,predictions)\n",
    "    mae_l.append(mae)\n",
    "    # R2 score\n",
    "    r2 = r2_score(y_test,predictions)\n",
    "    r2_l.append(r2)\n",
    "\n",
    "\n",
    "\n",
    "    print(\"+\",\"=\"*100,\"+\")\n",
    "    print('\\033[1m' + f\"\\t\\t\\t{i}-For {name} The Performance result is: \" + '\\033[0m')\n",
    "    print(\"+\",\"=\"*100,\"+\")\n",
    "    print('Root mean squared error (RMSE) : ', rmse)   \n",
    "    print(\"-\"*50)\n",
    "    print('Mean absolute error (MAE) : ', mae)\n",
    "    print(\"-\"*50)\n",
    "    #print('Max errors : ', m_errors)\n",
    "    print(\"-\"*50)\n",
    "    print('R2 score : ', r2)\n",
    "    print(\"-\"*50)\n",
    "   # print('cross validation accuracy : ', np.mean(scores))\n",
    "    print(\"-\"*50)\n",
    "\n",
    "\n",
    "    \n",
    "    print(\"\\t\\t\\t\\t\\t\\t\\t-----------------------------------------------------------\")\n",
    "    print(f\"\\t\\t\\t\\t\\t\\t\\t Time for detection ({name}) : {round((time.time() - start_time), 3)} seconds...\")\n",
    "    print(\"\\t\\t\\t\\t\\t\\t\\t-----------------------------------------------------------\")\n",
    "    print()\n",
    "    \n",
    "comp = pd.DataFrame({\"Training Score\": train_l, \"Testing Score\": test_l, \"MAE\": mae_l, \"RMSE\": rmse_l, \"R2 Score\": r2_l})\n",
    "comp"
   ]
  },
  {
   "cell_type": "code",
   "execution_count": 49,
   "metadata": {},
   "outputs": [],
   "source": [
    "# Split the data into training and testing sets\n",
    "X = data.drop([ \"Program\",\"Genre_Capsule\",\"Genre_Culturel\" ,\"Genre_Info\",\"Genre_Music\",\"Genre_Politique\",\"Genre_Religieux\",\"Genre_Sport\",\"Genre_documentaires\",\"Genre_feuilleton\", \"Broadcasting date\", \"Start time\"], axis=1)\n",
    "y = data[\"Number of viewers\"]\n",
    "X_train, X_test, y_train, y_test = train_test_split(X, y, test_size=0.2, random_state=42)"
   ]
  },
  {
   "cell_type": "code",
   "execution_count": 50,
   "metadata": {},
   "outputs": [
    {
     "name": "stdout",
     "output_type": "stream",
     "text": [
      "+ ==================================================================================================== +\n",
      "\u001b[1m\t\t\t1-For Ridge The Performance result is: \u001b[0m\n",
      "+ ==================================================================================================== +\n",
      "Root mean squared error (RMSE) :  1.9354953886280366e-08\n",
      "--------------------------------------------------\n",
      "Mean absolute error (MAE) :  5.5135173812125096e-09\n",
      "--------------------------------------------------\n",
      "--------------------------------------------------\n",
      "R2 score :  1.0\n",
      "--------------------------------------------------\n",
      "--------------------------------------------------\n",
      "\t\t\t\t\t\t\t-----------------------------------------------------------\n",
      "\t\t\t\t\t\t\t Time for detection (Ridge) : 0.02 seconds...\n",
      "\t\t\t\t\t\t\t-----------------------------------------------------------\n",
      "\n",
      "+ ==================================================================================================== +\n",
      "\u001b[1m\t\t\t2-For LinearRegression The Performance result is: \u001b[0m\n",
      "+ ==================================================================================================== +\n",
      "Root mean squared error (RMSE) :  4.299764326959221e-11\n",
      "--------------------------------------------------\n",
      "Mean absolute error (MAE) :  1.4605414916706436e-11\n",
      "--------------------------------------------------\n",
      "--------------------------------------------------\n",
      "R2 score :  1.0\n",
      "--------------------------------------------------\n",
      "--------------------------------------------------\n",
      "\t\t\t\t\t\t\t-----------------------------------------------------------\n",
      "\t\t\t\t\t\t\t Time for detection (LinearRegression) : 0.018 seconds...\n",
      "\t\t\t\t\t\t\t-----------------------------------------------------------\n",
      "\n",
      "+ ==================================================================================================== +\n",
      "\u001b[1m\t\t\t3-For KNeighborsRegressor The Performance result is: \u001b[0m\n",
      "+ ==================================================================================================== +\n",
      "Root mean squared error (RMSE) :  2646.65902646203\n",
      "--------------------------------------------------\n",
      "Mean absolute error (MAE) :  204.40980392156854\n",
      "--------------------------------------------------\n",
      "--------------------------------------------------\n",
      "R2 score :  0.9959537651526882\n",
      "--------------------------------------------------\n",
      "--------------------------------------------------\n",
      "\t\t\t\t\t\t\t-----------------------------------------------------------\n",
      "\t\t\t\t\t\t\t Time for detection (KNeighborsRegressor) : 0.022 seconds...\n",
      "\t\t\t\t\t\t\t-----------------------------------------------------------\n",
      "\n",
      "+ ==================================================================================================== +\n",
      "\u001b[1m\t\t\t4-For Random Forest The Performance result is: \u001b[0m\n",
      "+ ==================================================================================================== +\n",
      "Root mean squared error (RMSE) :  5151.055946661162\n",
      "--------------------------------------------------\n",
      "Mean absolute error (MAE) :  383.5347058823531\n",
      "--------------------------------------------------\n",
      "--------------------------------------------------\n",
      "R2 score :  0.9846733361736263\n",
      "--------------------------------------------------\n",
      "--------------------------------------------------\n",
      "\t\t\t\t\t\t\t-----------------------------------------------------------\n",
      "\t\t\t\t\t\t\t Time for detection (Random Forest) : 0.493 seconds...\n",
      "\t\t\t\t\t\t\t-----------------------------------------------------------\n",
      "\n",
      "+ ==================================================================================================== +\n",
      "\u001b[1m\t\t\t5-For Decision Tree The Performance result is: \u001b[0m\n",
      "+ ==================================================================================================== +\n",
      "Root mean squared error (RMSE) :  4201.155486478527\n",
      "--------------------------------------------------\n",
      "Mean absolute error (MAE) :  328.79411764705884\n",
      "--------------------------------------------------\n",
      "--------------------------------------------------\n",
      "R2 score :  0.9898048737423601\n",
      "--------------------------------------------------\n",
      "--------------------------------------------------\n",
      "\t\t\t\t\t\t\t-----------------------------------------------------------\n",
      "\t\t\t\t\t\t\t Time for detection (Decision Tree) : 0.015 seconds...\n",
      "\t\t\t\t\t\t\t-----------------------------------------------------------\n",
      "\n"
     ]
    },
    {
     "data": {
      "text/html": [
       "<div>\n",
       "<style scoped>\n",
       "    .dataframe tbody tr th:only-of-type {\n",
       "        vertical-align: middle;\n",
       "    }\n",
       "\n",
       "    .dataframe tbody tr th {\n",
       "        vertical-align: top;\n",
       "    }\n",
       "\n",
       "    .dataframe thead th {\n",
       "        text-align: right;\n",
       "    }\n",
       "</style>\n",
       "<table border=\"1\" class=\"dataframe\">\n",
       "  <thead>\n",
       "    <tr style=\"text-align: right;\">\n",
       "      <th></th>\n",
       "      <th>Training Score</th>\n",
       "      <th>Testing Score</th>\n",
       "      <th>MAE</th>\n",
       "      <th>RMSE</th>\n",
       "      <th>R2 Score</th>\n",
       "    </tr>\n",
       "  </thead>\n",
       "  <tbody>\n",
       "    <tr>\n",
       "      <th>0</th>\n",
       "      <td>1.000000</td>\n",
       "      <td>1.000000</td>\n",
       "      <td>5.513517e-09</td>\n",
       "      <td>1.935495e-08</td>\n",
       "      <td>1.000000</td>\n",
       "    </tr>\n",
       "    <tr>\n",
       "      <th>1</th>\n",
       "      <td>1.000000</td>\n",
       "      <td>1.000000</td>\n",
       "      <td>1.460541e-11</td>\n",
       "      <td>4.299764e-11</td>\n",
       "      <td>1.000000</td>\n",
       "    </tr>\n",
       "    <tr>\n",
       "      <th>2</th>\n",
       "      <td>0.935463</td>\n",
       "      <td>0.995954</td>\n",
       "      <td>2.044098e+02</td>\n",
       "      <td>2.646659e+03</td>\n",
       "      <td>0.995954</td>\n",
       "    </tr>\n",
       "    <tr>\n",
       "      <th>3</th>\n",
       "      <td>0.991432</td>\n",
       "      <td>0.984673</td>\n",
       "      <td>3.835347e+02</td>\n",
       "      <td>5.151056e+03</td>\n",
       "      <td>0.984673</td>\n",
       "    </tr>\n",
       "    <tr>\n",
       "      <th>4</th>\n",
       "      <td>1.000000</td>\n",
       "      <td>0.989805</td>\n",
       "      <td>3.287941e+02</td>\n",
       "      <td>4.201155e+03</td>\n",
       "      <td>0.989805</td>\n",
       "    </tr>\n",
       "  </tbody>\n",
       "</table>\n",
       "</div>"
      ],
      "text/plain": [
       "   Training Score  Testing Score           MAE          RMSE  R2 Score\n",
       "0        1.000000       1.000000  5.513517e-09  1.935495e-08  1.000000\n",
       "1        1.000000       1.000000  1.460541e-11  4.299764e-11  1.000000\n",
       "2        0.935463       0.995954  2.044098e+02  2.646659e+03  0.995954\n",
       "3        0.991432       0.984673  3.835347e+02  5.151056e+03  0.984673\n",
       "4        1.000000       0.989805  3.287941e+02  4.201155e+03  0.989805"
      ]
     },
     "execution_count": 50,
     "metadata": {},
     "output_type": "execute_result"
    }
   ],
   "source": [
    "# Importing Models\n",
    "from sklearn.linear_model import LinearRegression\n",
    "from sklearn.linear_model import Ridge\n",
    "from sklearn.neighbors import KNeighborsRegressor\n",
    "from sklearn.ensemble import RandomForestRegressor\n",
    "from sklearn.tree import DecisionTreeRegressor\n",
    "\n",
    "# Importing evaluation modules\n",
    "from sklearn.metrics import r2_score, mean_absolute_error, mean_squared_error\n",
    "\n",
    "# check the performance on diffrent regressor\n",
    "models = []\n",
    "models.append(('Ridge', Ridge()))\n",
    "models.append(('LinearRegression', LinearRegression()))\n",
    "models.append(('KNeighborsRegressor', KNeighborsRegressor()))\n",
    "models.append(('Random Forest', RandomForestRegressor()))\n",
    "models.append(('Decision Tree', DecisionTreeRegressor()))\n",
    "\n",
    "train_l = []\n",
    "test_l = []\n",
    "mae_l = []\n",
    "rmse_l = []\n",
    "r2_l = []\n",
    "\n",
    "import time\n",
    "i = 0\n",
    "for name,model in models:\n",
    "    i = i+1\n",
    "    start_time = time.time()\n",
    "    \n",
    "    # Fitting model to the Training set\n",
    "    clf = model\n",
    "    clf.fit(X_train, y_train)\n",
    "    \n",
    "    # Scores of model\n",
    "    train = model.score(X_train, y_train)\n",
    "    test = model.score(X_test, y_test)\n",
    "    \n",
    "    train_l.append(train)\n",
    "    test_l.append(test)\n",
    "    \n",
    "    # predict values\n",
    "    predictions = clf.predict(X_test)\n",
    "    # RMSE\n",
    "    rmse = np.sqrt(mean_squared_error(y_test, predictions))\n",
    "    rmse_l.append(rmse)\n",
    "    # MAE\n",
    "    mae = mean_absolute_error(y_test,predictions)\n",
    "    mae_l.append(mae)\n",
    "    # R2 score\n",
    "    r2 = r2_score(y_test,predictions)\n",
    "    r2_l.append(r2)\n",
    "\n",
    "\n",
    "\n",
    "    print(\"+\",\"=\"*100,\"+\")\n",
    "    print('\\033[1m' + f\"\\t\\t\\t{i}-For {name} The Performance result is: \" + '\\033[0m')\n",
    "    print(\"+\",\"=\"*100,\"+\")\n",
    "    print('Root mean squared error (RMSE) : ', rmse)   \n",
    "    print(\"-\"*50)\n",
    "    print('Mean absolute error (MAE) : ', mae)\n",
    "    print(\"-\"*50)\n",
    "    #print('Max errors : ', m_errors)\n",
    "    print(\"-\"*50)\n",
    "    print('R2 score : ', r2)\n",
    "    print(\"-\"*50)\n",
    "   # print('cross validation accuracy : ', np.mean(scores))\n",
    "    print(\"-\"*50)\n",
    "\n",
    "\n",
    "    \n",
    "    print(\"\\t\\t\\t\\t\\t\\t\\t-----------------------------------------------------------\")\n",
    "    print(f\"\\t\\t\\t\\t\\t\\t\\t Time for detection ({name}) : {round((time.time() - start_time), 3)} seconds...\")\n",
    "    print(\"\\t\\t\\t\\t\\t\\t\\t-----------------------------------------------------------\")\n",
    "    print()\n",
    "    \n",
    "comp = pd.DataFrame({\"Training Score\": train_l, \"Testing Score\": test_l, \"MAE\": mae_l, \"RMSE\": rmse_l, \"R2 Score\": r2_l})\n",
    "comp"
   ]
  },
  {
   "cell_type": "code",
   "execution_count": null,
   "metadata": {},
   "outputs": [],
   "source": [
    "linear_model = LinearRegression()\n",
    "linear_model.fit(X_train,y_train)\n",
    "X_train_Prediction = linear_model.predict(X_train)\n",
    "print(\"MSE : \",mean_squared_error(y_train,X_train_Prediction))\n",
    "print(\"R2 Score : \",r2_score(y_train,X_train_Prediction))"
   ]
  },
  {
   "cell_type": "code",
   "execution_count": null,
   "metadata": {},
   "outputs": [],
   "source": [
    "lr = LinearRegression()\n",
    "lr.fit(X_train, y_train)\n",
    "y_pred = lr.predict(X_test)\n",
    "mse = mean_squared_error(y_test, y_pred)\n",
    "print(\"Linear Regression MSE:\", mse)"
   ]
  },
  {
   "cell_type": "code",
   "execution_count": null,
   "metadata": {},
   "outputs": [],
   "source": [
    "cross_linear = cross_val_score(linear_model,X_train,y_train,scoring=\"neg_mean_squared_error\",cv=5)\n",
    "mean_cross_linear = np.mean(cross_linear)\n",
    "print(mean_cross_linear)"
   ]
  },
  {
   "cell_type": "code",
   "execution_count": null,
   "metadata": {},
   "outputs": [],
   "source": [
    "# Calculate R2 score\n",
    "r2 = r2_score(y_test, y_pred)\n",
    "print(\"R2 score:\", r2)\n",
    "\n",
    "# Calculate number of observations and features\n",
    "n_obs = len(X_test)\n",
    "n_features = X_test.shape[1]\n",
    "\n",
    "# Calculate adjusted R2\n",
    "adj_r2 = 1 - ((1 - r2) * (n_obs - 1)) / (n_obs - n_features - 1)\n",
    "print(\"Adjusted R2 score:\", adj_r2)"
   ]
  },
  {
   "cell_type": "code",
   "execution_count": null,
   "metadata": {},
   "outputs": [],
   "source": [
    "print(\"Coefficient values:\", lr.coef_)\n",
    "print(\"Intercept value:\", lr.intercept_)"
   ]
  },
  {
   "cell_type": "code",
   "execution_count": null,
   "metadata": {},
   "outputs": [],
   "source": [
    "data.head()"
   ]
  },
  {
   "cell_type": "code",
   "execution_count": 3,
   "metadata": {},
   "outputs": [
    {
     "name": "stdout",
     "output_type": "stream",
     "text": [
      "Gen_Capsule\n",
      "Gen_Culturel\n",
      "Gen_Info\n",
      "Gen_Music\n",
      "Gen_Politique\n",
      "Gen_Religieux\n",
      "Gen_Sport\n",
      "Genre_documentaires\n",
      "Gen_feuilleton\n"
     ]
    }
   ],
   "source": [
    "a=input(\"Gen_Capsule\", )\n",
    "b=input(\"Gen_Culturel\",)\n",
    "d=input(\"Gen_Info\",)\n",
    "e=input(\"Gen_Music\",)\n",
    "f=input(\"Gen_Politique\",)\n",
    "g=input(\"Gen_Religieux\",)\n",
    "h=input(\"Gen_Sport\",)\n",
    "i=input(\"Genre_documentaires\",)\n",
    "j=input(\"Gen_feuilleton\", )"
   ]
  },
  {
   "cell_type": "code",
   "execution_count": 4,
   "metadata": {},
   "outputs": [
    {
     "name": "stdout",
     "output_type": "stream",
     "text": [
      "Broadcasting date\n",
      "Start time\n"
     ]
    }
   ],
   "source": [
    "k=input(\"Broadcasting date\", )\n",
    "l=input(\"Start time\", )"
   ]
  },
  {
   "cell_type": "code",
   "execution_count": 5,
   "metadata": {},
   "outputs": [
    {
     "ename": "NameError",
     "evalue": "name 'data' is not defined",
     "output_type": "error",
     "traceback": [
      "\u001b[1;31m---------------------------------------------------------------------------\u001b[0m",
      "\u001b[1;31mNameError\u001b[0m                                 Traceback (most recent call last)",
      "\u001b[1;32m<ipython-input-5-c5d84736ba45>\u001b[0m in \u001b[0;36m<module>\u001b[1;34m\u001b[0m\n\u001b[1;32m----> 1\u001b[1;33m \u001b[0mdata\u001b[0m\u001b[1;33m\u001b[0m\u001b[1;33m\u001b[0m\u001b[0m\n\u001b[0m",
      "\u001b[1;31mNameError\u001b[0m: name 'data' is not defined"
     ]
    }
   ],
   "source": [
    "data"
   ]
  },
  {
   "cell_type": "code",
   "execution_count": 183,
   "metadata": {},
   "outputs": [
    {
     "name": "stdout",
     "output_type": "stream",
     "text": [
      "SGD MSE: 7.070167212937068e+34\n"
     ]
    }
   ],
   "source": [
    "# Stochastic Gradient Descent\n",
    "# Split the data into training and testing sets\n",
    "X = data.drop([ \"Program\",\"Genre_Capsule\",\"Genre_Culturel\" ,\"Genre_Info\",\"Genre_Music\",\"Genre_Politique\",\"Genre_Religieux\",\"Genre_Sport\",\"Genre_documentaires\",\"Genre_feuilleton\", \"Broadcasting date\", \"Start time\"], axis=1)\n",
    "y = data[\"Number of viewers\"]\n",
    "X_train, X_test, y_train, y_test = train_test_split(X, y, test_size=0.2, random_state=42)\n",
    "sgd = SGDRegressor()\n",
    "sgd.fit(X_train, y_train)\n",
    "y_pred_scaled_sgd = sgd.predict(X_test)\n",
    "mse_sgd = mean_squared_error(y_test, y_pred_scaled_sgd)\n",
    "print(\"SGD MSE:\", mse_sgd)"
   ]
  },
  {
   "cell_type": "code",
   "execution_count": 190,
   "metadata": {},
   "outputs": [
    {
     "name": "stdout",
     "output_type": "stream",
     "text": [
      "SVM MSE: 17647595.480392158\n"
     ]
    }
   ],
   "source": [
    "clf = svm.SVC(kernel='linear') # Linear Kernel\n",
    "X = data.drop([ \"Program\",\"Genre_Capsule\",\"Genre_Culturel\" ,\"Genre_Info\",\"Genre_Music\",\"Genre_Politique\",\"Genre_Religieux\",\"Genre_Sport\",\"Genre_documentaires\",\"Genre_feuilleton\", \"Broadcasting date\", \"Start time\"], axis=1)\n",
    "y = data[\"Number of viewers\"]\n",
    "X_train, X_test, y_train, y_test = train_test_split(X, y, test_size=0.2, random_state=42)\n",
    "clf.fit(X_train, y_train)\n",
    "y_pred = clf.predict(X_test)\n",
    "mse_svm = mean_squared_error(y_test, y_pred)\n",
    "print(\"SVM MSE:\", mse_svm)"
   ]
  },
  {
   "cell_type": "code",
   "execution_count": 191,
   "metadata": {},
   "outputs": [
    {
     "name": "stdout",
     "output_type": "stream",
     "text": [
      "Neural Network MSE: 22.575450305575803\n"
     ]
    },
    {
     "name": "stderr",
     "output_type": "stream",
     "text": [
      "/opt/anaconda3/lib/python3.8/site-packages/sklearn/neural_network/_multilayer_perceptron.py:702: ConvergenceWarning: Stochastic Optimizer: Maximum iterations (200) reached and the optimization hasn't converged yet.\n",
      "  warnings.warn(\n"
     ]
    }
   ],
   "source": [
    "# Neural Network\n",
    "nn = MLPRegressor()\n",
    "nn.fit(X_train, y_train)\n",
    "y_pred = nn.predict(X_test)\n",
    "mse_nn = mean_squared_error(y_test, y_pred)\n",
    "print(\"Neural Network MSE:\", mse_nn)"
   ]
  },
  {
   "cell_type": "code",
   "execution_count": 186,
   "metadata": {},
   "outputs": [
    {
     "name": "stdout",
     "output_type": "stream",
     "text": [
      "Decision Tree MSE: 17649872.19117647\n"
     ]
    }
   ],
   "source": [
    "# Decision Tree\n",
    "dt = DecisionTreeRegressor()\n",
    "dt.fit(X_train, y_train)\n",
    "y_pred_scaled_dt = dt.predict(X_test)\n",
    "mse_dt = mean_squared_error(y_test, y_pred_scaled_dt)\n",
    "print(\"Decision Tree MSE:\", mse_dt)"
   ]
  },
  {
   "cell_type": "code",
   "execution_count": 187,
   "metadata": {},
   "outputs": [
    {
     "name": "stdout",
     "output_type": "stream",
     "text": [
      "KNN MSE: 7004804.00235294\n"
     ]
    }
   ],
   "source": [
    "# K Nearest Neighbors\n",
    "knn = KNeighborsRegressor()\n",
    "knn.fit(X_train, y_train)\n",
    "y_pred_scaled_knn = knn.predict(X_test)\n",
    "mse_knn = mean_squared_error(y_test, y_pred_scaled_knn)\n",
    "print(\"KNN MSE:\", mse_knn)"
   ]
  },
  {
   "cell_type": "code",
   "execution_count": 192,
   "metadata": {},
   "outputs": [
    {
     "name": "stdout",
     "output_type": "stream",
     "text": [
      "MSE :  2752839672.347865\n"
     ]
    }
   ],
   "source": [
    "svmreg_model = SVR()\n",
    "svmreg_model.fit(X_train,y_train)\n",
    "X_train_pred_svmreg = svmreg_model.predict(X_train)\n",
    "print(\"MSE : \",mean_squared_error(y_train,X_train_pred_svmreg))"
   ]
  },
  {
   "cell_type": "code",
   "execution_count": 193,
   "metadata": {},
   "outputs": [
    {
     "name": "stdout",
     "output_type": "stream",
     "text": [
      "-2756631759.466462\n"
     ]
    }
   ],
   "source": [
    "cross_svmreg = cross_val_score(svmreg_model,X_train,y_train,scoring=\"neg_mean_squared_error\",cv=5)\n",
    "mean_cross_svmreg = np.mean(cross_svmreg)\n",
    "print(mean_cross_svmreg)"
   ]
  },
  {
   "cell_type": "code",
   "execution_count": 196,
   "metadata": {},
   "outputs": [],
   "source": [
    "pk.dump(lr,open(\"TV_Predictor.pkl\",'wb'))"
   ]
  },
  {
   "cell_type": "code",
   "execution_count": 197,
   "metadata": {},
   "outputs": [
    {
     "ename": "NameError",
     "evalue": "name 'sc' is not defined",
     "output_type": "error",
     "traceback": [
      "\u001b[0;31m---------------------------------------------------------------------------\u001b[0m",
      "\u001b[0;31mNameError\u001b[0m                                 Traceback (most recent call last)",
      "\u001b[0;32m<ipython-input-197-86ac6c600b67>\u001b[0m in \u001b[0;36m<module>\u001b[0;34m\u001b[0m\n\u001b[0;32m----> 1\u001b[0;31m \u001b[0mpk\u001b[0m\u001b[0;34m.\u001b[0m\u001b[0mdump\u001b[0m\u001b[0;34m(\u001b[0m\u001b[0msc\u001b[0m\u001b[0;34m,\u001b[0m\u001b[0mopen\u001b[0m\u001b[0;34m(\u001b[0m\u001b[0;34m\"Scaler.pkl\"\u001b[0m\u001b[0;34m,\u001b[0m\u001b[0;34m'wb'\u001b[0m\u001b[0;34m)\u001b[0m\u001b[0;34m)\u001b[0m\u001b[0;34m\u001b[0m\u001b[0;34m\u001b[0m\u001b[0m\n\u001b[0m",
      "\u001b[0;31mNameError\u001b[0m: name 'sc' is not defined"
     ]
    }
   ],
   "source": [
    "pk.dump(sc,open(\"Scaler.pkl\",'wb'))"
   ]
  },
  {
   "cell_type": "code",
   "execution_count": null,
   "metadata": {},
   "outputs": [],
   "source": []
  }
 ],
 "metadata": {
  "kernelspec": {
   "display_name": "Python 3",
   "language": "python",
   "name": "python3"
  },
  "language_info": {
   "codemirror_mode": {
    "name": "ipython",
    "version": 3
   },
   "file_extension": ".py",
   "mimetype": "text/x-python",
   "name": "python",
   "nbconvert_exporter": "python",
   "pygments_lexer": "ipython3",
   "version": "3.9.5"
  }
 },
 "nbformat": 4,
 "nbformat_minor": 4
}
