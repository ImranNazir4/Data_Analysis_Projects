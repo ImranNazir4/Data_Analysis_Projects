{
 "cells": [
  {
   "cell_type": "markdown",
   "id": "f82b0878",
   "metadata": {},
   "source": [
    "---\n",
    "# **Installing Dependencies**\n",
    "---"
   ]
  },
  {
   "cell_type": "code",
   "execution_count": null,
   "id": "da859a19",
   "metadata": {},
   "outputs": [],
   "source": [
    "!pip install -q neattext"
   ]
  },
  {
   "cell_type": "markdown",
   "id": "90d9ba5f",
   "metadata": {},
   "source": [
    "---\n",
    "# **Importing Necessary Dependencies**\n",
    "---"
   ]
  },
  {
   "cell_type": "code",
   "execution_count": 1,
   "id": "7b82cfa2",
   "metadata": {},
   "outputs": [],
   "source": [
    "import pandas as pd                   #package for data analysis\n",
    "import numpy as np                    #package for fast data manipulations\n",
    "import neattext as nt                 #package for text cleaning"
   ]
  },
  {
   "cell_type": "code",
   "execution_count": 2,
   "id": "8e798001",
   "metadata": {},
   "outputs": [],
   "source": [
    "df=pd.read_csv('amazon_reviews.csv')"
   ]
  },
  {
   "cell_type": "code",
   "execution_count": 3,
   "id": "750d8157",
   "metadata": {},
   "outputs": [
    {
     "data": {
      "text/plain": [
       "Index(['Unnamed: 0', 'marketplace', 'customer_id', 'review_id', 'product_id',\n",
       "       'product_parent', 'product_title', 'product_category', 'star_rating',\n",
       "       'helpful_votes', 'total_votes', 'vine', 'verified_purchase',\n",
       "       'review_headline', 'review_body', 'review_date'],\n",
       "      dtype='object')"
      ]
     },
     "execution_count": 3,
     "metadata": {},
     "output_type": "execute_result"
    }
   ],
   "source": [
    "df.columns"
   ]
  },
  {
   "cell_type": "markdown",
   "id": "b101ba6a",
   "metadata": {},
   "source": [
    "### **Marking Review as Fake if its Lenght is 15 Characters or less, repeating, and Verified Purcahes=0**"
   ]
  },
  {
   "cell_type": "code",
   "execution_count": 4,
   "id": "650f7ed3",
   "metadata": {},
   "outputs": [],
   "source": [
    "df['fake_review']=df.apply(lambda x: 1 if len(str(x['review_body']))<=15 or x['verified_purchase']==0  else 0,axis=1)"
   ]
  },
  {
   "cell_type": "code",
   "execution_count": 5,
   "id": "4f8e6499",
   "metadata": {},
   "outputs": [
    {
     "data": {
      "text/plain": [
       "\"These Really Do Work Great, But You Do Need To Know a Few Things.  I've Been Using Mine For a Few Years Now.  First, I Paid a Few Dollars Less For Mine and The Price Has Jumped.  They're All Imported, so Try to Find Either a Cheaper One or One That's Extremely Well Made.  This One is Made Well Enough, If You're Careful.  This Thing Can Cut You, So Don't Let Some Kid Use It, &#34;Because It Looks Like Fun!!&#34;  You Need A Pineapple That's Big Enough.  I Can't Tell You How Many Times I Went to Wal-Mart or the Grocery Store and Their Pineapples were Just Too Small of a Diameter.  It HAS to Be Big Enough.  It's Better To Have Some Waste on The Inside Of The Husk.<br /><br />When I'm Finished Using The Pineapple Corer, Then I Cut Up the Husk Of The Pineapple To Get The Rest Of The Pineapple Cut Up and I Save The Core of the Pineapple To Go Into My Iced Tea Pitcher or Drink Pitcher (That's How They Do It In Hawaii)  When I Was In Hawaii, They Never Threw Away The Core, They Always Used It For Something.  Sometimes, They Even Grilled It, Although I've Never Tried That.  But, I Know They Did It With Honey and Some Kind of Teriyaki  People Have Also Left Chunks of Pineapple on the Husk and Grilled it Meat Side Down on the Grill.  Then, They Eat The Chunks of Grilled Pineapple and Use The Husks Like a Little Bowl..  You Don't Grill The Husk Part.  You Can Also Keep The Husk Whole, Like a Bowl and Take the Center Core Out, Then Fill It Full Of Fruit Salad or Use it as a Drink Container or Dessert Container.<br /><br />Someone Told Me They Like To Make Pineapple Greek Yogurt and Fill It, Then Freeze It a Short Time.  I've Never Tried That.  I've Made Pineapple Cheesecake and That's Delicious, but I Know It's Tricky Working With Pineapple Sometimes.  You Know, If You've Ever Tried to Make Jello & Put Pineapple In.  YIKES!!! The Bromelain in the Pineapple Keeps Your Gelatin From Setting.  It is a Great Anti-Inflammatory & Helps Your Digestive Tract & Tummy Feel Better, But That Same Enzyme Interferes with Your Jello Setting Up.<br /><br />When Washing These, Be Extra Carful and Wash Them Separate.  I Use Tooth Picks, to Get the Pineapple Out That Gets Stuck In The Little Crevices.  I Always Put The Parts Back Into The Box & Make Sure Everything is Dry.  So, That's It.  Make Sure Your Pineapple is Big Enough.  Get All Your Pineapple To Work For You.  Clean Your Corer and Protect Your Hands.  That's It.  Thank You For Reading.Same Enzyme Interferes with Your Jello Setting Up.<br /><br />When Washing These, Be Extra Carful and Wash Them Separate.  I Use Tooth Picks, to Get the Pineapple Out That Gets Stuck In The Little Crevices.  I Always Put The Parts Back Into The Box & Make Sure Everything is Dry.  So, That's It.  Make Sure Your Pineapple is Big Enough.  Get All Your Pineapple To Work For You.  Clean Your Corer and Protect Your Hands.  That's It.  Thank You For Reading.\""
      ]
     },
     "execution_count": 5,
     "metadata": {},
     "output_type": "execute_result"
    }
   ],
   "source": [
    "df['review_body'].apply(lambda x:nt.ext)"
   ]
  },
  {
   "cell_type": "code",
   "execution_count": 5,
   "id": "83c9e287",
   "metadata": {},
   "outputs": [
    {
     "data": {
      "text/plain": [
       "0    100322\n",
       "1     29678\n",
       "Name: fake_review, dtype: int64"
      ]
     },
     "execution_count": 5,
     "metadata": {},
     "output_type": "execute_result"
    }
   ],
   "source": [
    "df['fake_review'].value_counts()"
   ]
  },
  {
   "cell_type": "markdown",
   "id": "6df326d4",
   "metadata": {},
   "source": [
    "### **Checking Customer Id in the Review**"
   ]
  },
  {
   "cell_type": "code",
   "execution_count": 1,
   "id": "090383dd",
   "metadata": {},
   "outputs": [
    {
     "ename": "NameError",
     "evalue": "name 'df' is not defined",
     "output_type": "error",
     "traceback": [
      "\u001b[1;31m---------------------------------------------------------------------------\u001b[0m",
      "\u001b[1;31mNameError\u001b[0m                                 Traceback (most recent call last)",
      "\u001b[1;32m<ipython-input-1-077df310edb7>\u001b[0m in \u001b[0;36m<module>\u001b[1;34m\u001b[0m\n\u001b[1;32m----> 1\u001b[1;33m \u001b[0mtemp\u001b[0m\u001b[1;33m=\u001b[0m\u001b[0mdf\u001b[0m\u001b[1;33m.\u001b[0m\u001b[0mapply\u001b[0m\u001b[1;33m(\u001b[0m\u001b[1;32mlambda\u001b[0m \u001b[0mx\u001b[0m\u001b[1;33m:\u001b[0m \u001b[1;36m1\u001b[0m \u001b[1;32mif\u001b[0m \u001b[0mstr\u001b[0m\u001b[1;33m(\u001b[0m\u001b[0mx\u001b[0m\u001b[1;33m[\u001b[0m\u001b[1;34m'customer_id'\u001b[0m\u001b[1;33m]\u001b[0m\u001b[1;33m)\u001b[0m \u001b[1;32min\u001b[0m \u001b[0mstr\u001b[0m\u001b[1;33m(\u001b[0m\u001b[0mx\u001b[0m\u001b[1;33m[\u001b[0m\u001b[1;34m'review_body'\u001b[0m\u001b[1;33m]\u001b[0m\u001b[1;33m)\u001b[0m \u001b[1;32melse\u001b[0m \u001b[1;36m0\u001b[0m\u001b[1;33m,\u001b[0m\u001b[0maxis\u001b[0m\u001b[1;33m=\u001b[0m\u001b[1;36m1\u001b[0m\u001b[1;33m)\u001b[0m\u001b[1;33m\u001b[0m\u001b[1;33m\u001b[0m\u001b[0m\n\u001b[0m",
      "\u001b[1;31mNameError\u001b[0m: name 'df' is not defined"
     ]
    }
   ],
   "source": [
    "temp=df.apply(lambda x: 1 if str(x['customer_id']) in str(x['review_body']) else 0,axis=1)"
   ]
  },
  {
   "cell_type": "code",
   "execution_count": 7,
   "id": "326ee352",
   "metadata": {},
   "outputs": [
    {
     "data": {
      "text/plain": [
       "0    130000\n",
       "dtype: int64"
      ]
     },
     "execution_count": 7,
     "metadata": {},
     "output_type": "execute_result"
    }
   ],
   "source": [
    "temp.value_counts()  #no review that contain customer_id"
   ]
  },
  {
   "cell_type": "markdown",
   "id": "9d753b5b",
   "metadata": {},
   "source": [
    "### **Text Preprocessing**"
   ]
  },
  {
   "cell_type": "code",
   "execution_count": 8,
   "id": "2b55e399",
   "metadata": {},
   "outputs": [],
   "source": [
    "def text_preprocessing(text):\n",
    "  text=nt.fix_contractions(text)     #I'm -> I am\n",
    "  text=nt.remove_urls(text)          #removing urls\n",
    "  text=nt.remove_non_ascii(text)     #removing non-ascii characters\n",
    "  text=nt.remove_userhandles(text)   #removing urserhandles\n",
    "  text=nt.remove_hashtags(text)      #removing hashtags\n",
    "  text=nt.remove_multiple_spaces(text)  #removing multiple spaces\n",
    "  return text\n",
    "  "
   ]
  },
  {
   "cell_type": "code",
   "execution_count": 9,
   "id": "05778c64",
   "metadata": {},
   "outputs": [],
   "source": [
    "df['cleaned_review_body']=df.review_body.apply(lambda x:text_preprocessing(str(x)))"
   ]
  },
  {
   "cell_type": "markdown",
   "id": "cf1c7dee",
   "metadata": {},
   "source": [
    "### **Sentiment Analysis**"
   ]
  },
  {
   "cell_type": "code",
   "execution_count": 10,
   "id": "9ccd57e1",
   "metadata": {},
   "outputs": [],
   "source": [
    "from textblob import TextBlob   #special package for short sentence sentiment analysis"
   ]
  },
  {
   "cell_type": "code",
   "execution_count": 11,
   "id": "a9323f46",
   "metadata": {},
   "outputs": [],
   "source": [
    "def sentiment_polarity(text):\n",
    "  '''\n",
    "  this fucntion calculates polarity of each tweet\n",
    "  '''\n",
    "  text=TextBlob(text)\n",
    "  return text.sentiment.polarity"
   ]
  },
  {
   "cell_type": "code",
   "execution_count": 12,
   "id": "1d338164",
   "metadata": {},
   "outputs": [],
   "source": [
    "df['sentiment_polarity']=df.cleaned_review_body.apply(lambda x:sentiment_polarity(x))"
   ]
  },
  {
   "cell_type": "code",
   "execution_count": 13,
   "id": "6ade80f3",
   "metadata": {},
   "outputs": [],
   "source": [
    "def sentiment_tag(polarity):\n",
    "  '''\n",
    "  this function assigns sentiment tag according to its polarity\n",
    "  '''\n",
    "  if polarity>0:\n",
    "        return 'positive'\n",
    "  elif polarity<0:\n",
    "        return 'negative'\n",
    "  else:\n",
    "    return 'neutral'"
   ]
  },
  {
   "cell_type": "code",
   "execution_count": 14,
   "id": "6647b6bb",
   "metadata": {},
   "outputs": [],
   "source": [
    "df['sentiment_tag']=df['sentiment_polarity'].apply(lambda x:sentiment_tag(x))"
   ]
  },
  {
   "cell_type": "markdown",
   "id": "50f3e822",
   "metadata": {},
   "source": [
    "### **Checking Sentiment and Review Rating Clash**"
   ]
  },
  {
   "cell_type": "code",
   "execution_count": 15,
   "id": "4d8cdd64",
   "metadata": {},
   "outputs": [],
   "source": [
    "#Marking Reviews as Fake if it has 5 star rating but have negative setiment"
   ]
  },
  {
   "cell_type": "code",
   "execution_count": 16,
   "id": "4d7f225b",
   "metadata": {},
   "outputs": [],
   "source": [
    "temp=df.apply(lambda x: 1 if  x['sentiment_tag']=='negative' and x['star_rating']==5 else 0,axis=1)"
   ]
  },
  {
   "cell_type": "code",
   "execution_count": 17,
   "id": "fecbfb31",
   "metadata": {},
   "outputs": [
    {
     "data": {
      "text/plain": [
       "0    126739\n",
       "1      3261\n",
       "dtype: int64"
      ]
     },
     "execution_count": 17,
     "metadata": {},
     "output_type": "execute_result"
    }
   ],
   "source": [
    "temp.value_counts()"
   ]
  },
  {
   "cell_type": "code",
   "execution_count": 18,
   "id": "1b05afc1",
   "metadata": {},
   "outputs": [],
   "source": [
    "indices=df[(df['sentiment_tag']=='negative') & (df['star_rating']==5)].index"
   ]
  },
  {
   "cell_type": "code",
   "execution_count": 19,
   "id": "10229f62",
   "metadata": {},
   "outputs": [],
   "source": [
    "df.loc[indices,'fake_review']=1"
   ]
  },
  {
   "cell_type": "code",
   "execution_count": 20,
   "id": "2b356f6d",
   "metadata": {},
   "outputs": [
    {
     "data": {
      "text/plain": [
       "0    97511\n",
       "1    32489\n",
       "Name: fake_review, dtype: int64"
      ]
     },
     "execution_count": 20,
     "metadata": {},
     "output_type": "execute_result"
    }
   ],
   "source": [
    "df['fake_review'].value_counts()"
   ]
  },
  {
   "cell_type": "code",
   "execution_count": 24,
   "id": "7019966e",
   "metadata": {},
   "outputs": [],
   "source": [
    "df.to_csv('fake_reviews.csv')"
   ]
  },
  {
   "cell_type": "markdown",
   "id": "f8b785d3",
   "metadata": {},
   "source": [
    "### **Is product category mentioned in Review text**"
   ]
  },
  {
   "cell_type": "code",
   "execution_count": 21,
   "id": "796e5ce9",
   "metadata": {},
   "outputs": [],
   "source": [
    "temp=df.apply(lambda x: 1 if x['product_id'] in str(x['review_body']) else 0,axis=1)"
   ]
  },
  {
   "cell_type": "code",
   "execution_count": 22,
   "id": "ced093b3",
   "metadata": {},
   "outputs": [
    {
     "data": {
      "text/plain": [
       "0    129890\n",
       "1       110\n",
       "dtype: int64"
      ]
     },
     "execution_count": 22,
     "metadata": {},
     "output_type": "execute_result"
    }
   ],
   "source": [
    "temp.value_counts()"
   ]
  },
  {
   "cell_type": "code",
   "execution_count": 23,
   "id": "e242070c",
   "metadata": {},
   "outputs": [],
   "source": [
    "#only 110 reviews are with product category so it is not a good criteria for marking a review as fake or legit"
   ]
  },
  {
   "cell_type": "code",
   "execution_count": null,
   "id": "c31675d5",
   "metadata": {},
   "outputs": [],
   "source": []
  },
  {
   "cell_type": "code",
   "execution_count": null,
   "id": "a7fcea07",
   "metadata": {},
   "outputs": [],
   "source": []
  },
  {
   "cell_type": "code",
   "execution_count": null,
   "id": "ab2e0f9f",
   "metadata": {},
   "outputs": [],
   "source": []
  }
 ],
 "metadata": {
  "kernelspec": {
   "display_name": "Python 3",
   "language": "python",
   "name": "python3"
  },
  "language_info": {
   "codemirror_mode": {
    "name": "ipython",
    "version": 3
   },
   "file_extension": ".py",
   "mimetype": "text/x-python",
   "name": "python",
   "nbconvert_exporter": "python",
   "pygments_lexer": "ipython3",
   "version": "3.9.5"
  }
 },
 "nbformat": 4,
 "nbformat_minor": 5
}
