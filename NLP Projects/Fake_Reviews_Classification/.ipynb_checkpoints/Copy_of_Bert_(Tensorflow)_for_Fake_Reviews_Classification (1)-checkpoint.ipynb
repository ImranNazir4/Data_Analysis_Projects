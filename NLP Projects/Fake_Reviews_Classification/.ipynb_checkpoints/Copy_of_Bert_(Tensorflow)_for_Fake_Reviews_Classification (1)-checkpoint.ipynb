{
 "cells": [
  {
   "cell_type": "code",
   "execution_count": null,
   "metadata": {
    "colab": {
     "base_uri": "https://localhost:8080/"
    },
    "id": "u4cJyVJoJxGe",
    "outputId": "bdb20399-954a-4f1d-aa13-81ec4010207e"
   },
   "outputs": [
    {
     "name": "stderr",
     "output_type": "stream",
     "text": [
      "WARNING: Ignoring invalid distribution -rotobuf (c:\\users\\zee tech\\appdata\\local\\programs\\python\\python39\\lib\\site-packages)\n",
      "WARNING: Ignoring invalid distribution -pacy (c:\\users\\zee tech\\appdata\\local\\programs\\python\\python39\\lib\\site-packages)\n",
      "WARNING: Ignoring invalid distribution -illow (c:\\users\\zee tech\\appdata\\local\\programs\\python\\python39\\lib\\site-packages)\n",
      "WARNING: Ignoring invalid distribution -rotobuf (c:\\users\\zee tech\\appdata\\local\\programs\\python\\python39\\lib\\site-packages)\n",
      "WARNING: Ignoring invalid distribution -pacy (c:\\users\\zee tech\\appdata\\local\\programs\\python\\python39\\lib\\site-packages)\n",
      "WARNING: Ignoring invalid distribution -illow (c:\\users\\zee tech\\appdata\\local\\programs\\python\\python39\\lib\\site-packages)\n",
      "WARNING: Ignoring invalid distribution -rotobuf (c:\\users\\zee tech\\appdata\\local\\programs\\python\\python39\\lib\\site-packages)\n",
      "WARNING: Ignoring invalid distribution -pacy (c:\\users\\zee tech\\appdata\\local\\programs\\python\\python39\\lib\\site-packages)\n",
      "WARNING: Ignoring invalid distribution -illow (c:\\users\\zee tech\\appdata\\local\\programs\\python\\python39\\lib\\site-packages)\n",
      "WARNING: Ignoring invalid distribution -rotobuf (c:\\users\\zee tech\\appdata\\local\\programs\\python\\python39\\lib\\site-packages)\n",
      "WARNING: Ignoring invalid distribution -pacy (c:\\users\\zee tech\\appdata\\local\\programs\\python\\python39\\lib\\site-packages)\n",
      "WARNING: Ignoring invalid distribution -illow (c:\\users\\zee tech\\appdata\\local\\programs\\python\\python39\\lib\\site-packages)\n",
      "WARNING: Ignoring invalid distribution -rotobuf (c:\\users\\zee tech\\appdata\\local\\programs\\python\\python39\\lib\\site-packages)\n",
      "WARNING: Ignoring invalid distribution -pacy (c:\\users\\zee tech\\appdata\\local\\programs\\python\\python39\\lib\\site-packages)\n",
      "WARNING: Ignoring invalid distribution -illow (c:\\users\\zee tech\\appdata\\local\\programs\\python\\python39\\lib\\site-packages)\n",
      "WARNING: Ignoring invalid distribution -rotobuf (c:\\users\\zee tech\\appdata\\local\\programs\\python\\python39\\lib\\site-packages)\n",
      "WARNING: Ignoring invalid distribution -pacy (c:\\users\\zee tech\\appdata\\local\\programs\\python\\python39\\lib\\site-packages)\n",
      "WARNING: Ignoring invalid distribution -illow (c:\\users\\zee tech\\appdata\\local\\programs\\python\\python39\\lib\\site-packages)\n",
      "WARNING: You are using pip version 21.3.1; however, version 23.0.1 is available.\n",
      "You should consider upgrading via the 'c:\\users\\zee tech\\appdata\\local\\programs\\python\\python39\\python.exe -m pip install --upgrade pip' command.\n",
      "WARNING: Ignoring invalid distribution -rotobuf (c:\\users\\zee tech\\appdata\\local\\programs\\python\\python39\\lib\\site-packages)\n",
      "WARNING: Ignoring invalid distribution -pacy (c:\\users\\zee tech\\appdata\\local\\programs\\python\\python39\\lib\\site-packages)\n",
      "WARNING: Ignoring invalid distribution -illow (c:\\users\\zee tech\\appdata\\local\\programs\\python\\python39\\lib\\site-packages)\n",
      "WARNING: Ignoring invalid distribution -rotobuf (c:\\users\\zee tech\\appdata\\local\\programs\\python\\python39\\lib\\site-packages)\n",
      "WARNING: Ignoring invalid distribution -pacy (c:\\users\\zee tech\\appdata\\local\\programs\\python\\python39\\lib\\site-packages)\n",
      "WARNING: Ignoring invalid distribution -illow (c:\\users\\zee tech\\appdata\\local\\programs\\python\\python39\\lib\\site-packages)\n",
      "WARNING: Ignoring invalid distribution -rotobuf (c:\\users\\zee tech\\appdata\\local\\programs\\python\\python39\\lib\\site-packages)\n",
      "WARNING: Ignoring invalid distribution -pacy (c:\\users\\zee tech\\appdata\\local\\programs\\python\\python39\\lib\\site-packages)\n",
      "WARNING: Ignoring invalid distribution -illow (c:\\users\\zee tech\\appdata\\local\\programs\\python\\python39\\lib\\site-packages)\n",
      "WARNING: Ignoring invalid distribution -rotobuf (c:\\users\\zee tech\\appdata\\local\\programs\\python\\python39\\lib\\site-packages)\n",
      "WARNING: Ignoring invalid distribution -pacy (c:\\users\\zee tech\\appdata\\local\\programs\\python\\python39\\lib\\site-packages)\n",
      "WARNING: Ignoring invalid distribution -illow (c:\\users\\zee tech\\appdata\\local\\programs\\python\\python39\\lib\\site-packages)\n",
      "WARNING: Ignoring invalid distribution -rotobuf (c:\\users\\zee tech\\appdata\\local\\programs\\python\\python39\\lib\\site-packages)\n",
      "WARNING: Ignoring invalid distribution -pacy (c:\\users\\zee tech\\appdata\\local\\programs\\python\\python39\\lib\\site-packages)\n",
      "WARNING: Ignoring invalid distribution -illow (c:\\users\\zee tech\\appdata\\local\\programs\\python\\python39\\lib\\site-packages)\n",
      "WARNING: Ignoring invalid distribution -rotobuf (c:\\users\\zee tech\\appdata\\local\\programs\\python\\python39\\lib\\site-packages)\n",
      "WARNING: Ignoring invalid distribution -pacy (c:\\users\\zee tech\\appdata\\local\\programs\\python\\python39\\lib\\site-packages)\n",
      "WARNING: Ignoring invalid distribution -illow (c:\\users\\zee tech\\appdata\\local\\programs\\python\\python39\\lib\\site-packages)\n",
      "WARNING: You are using pip version 21.3.1; however, version 23.0.1 is available.\n",
      "You should consider upgrading via the 'c:\\users\\zee tech\\appdata\\local\\programs\\python\\python39\\python.exe -m pip install --upgrade pip' command.\n"
     ]
    }
   ],
   "source": [
    "!pip install -q transformers\n",
    "!pip install -q neattext"
   ]
  },
  {
   "cell_type": "code",
   "execution_count": null,
   "metadata": {
    "colab": {
     "base_uri": "https://localhost:8080/"
    },
    "id": "JJ74WW-6xyHF",
    "outputId": "838f5eef-6801-4ef2-c94b-3a1dd3d89f43"
   },
   "outputs": [
    {
     "name": "stderr",
     "output_type": "stream",
     "text": [
      "WARNING: Ignoring invalid distribution -rotobuf (c:\\users\\zee tech\\appdata\\local\\programs\\python\\python39\\lib\\site-packages)\n",
      "WARNING: Ignoring invalid distribution -pacy (c:\\users\\zee tech\\appdata\\local\\programs\\python\\python39\\lib\\site-packages)\n",
      "WARNING: Ignoring invalid distribution -illow (c:\\users\\zee tech\\appdata\\local\\programs\\python\\python39\\lib\\site-packages)\n",
      "WARNING: Ignoring invalid distribution -rotobuf (c:\\users\\zee tech\\appdata\\local\\programs\\python\\python39\\lib\\site-packages)\n",
      "WARNING: Ignoring invalid distribution -pacy (c:\\users\\zee tech\\appdata\\local\\programs\\python\\python39\\lib\\site-packages)\n",
      "WARNING: Ignoring invalid distribution -illow (c:\\users\\zee tech\\appdata\\local\\programs\\python\\python39\\lib\\site-packages)\n",
      "WARNING: Ignoring invalid distribution -rotobuf (c:\\users\\zee tech\\appdata\\local\\programs\\python\\python39\\lib\\site-packages)\n",
      "WARNING: Ignoring invalid distribution -pacy (c:\\users\\zee tech\\appdata\\local\\programs\\python\\python39\\lib\\site-packages)\n",
      "WARNING: Ignoring invalid distribution -illow (c:\\users\\zee tech\\appdata\\local\\programs\\python\\python39\\lib\\site-packages)\n",
      "WARNING: Ignoring invalid distribution -rotobuf (c:\\users\\zee tech\\appdata\\local\\programs\\python\\python39\\lib\\site-packages)\n",
      "WARNING: Ignoring invalid distribution -pacy (c:\\users\\zee tech\\appdata\\local\\programs\\python\\python39\\lib\\site-packages)\n",
      "WARNING: Ignoring invalid distribution -illow (c:\\users\\zee tech\\appdata\\local\\programs\\python\\python39\\lib\\site-packages)\n",
      "WARNING: Ignoring invalid distribution -rotobuf (c:\\users\\zee tech\\appdata\\local\\programs\\python\\python39\\lib\\site-packages)\n",
      "WARNING: Ignoring invalid distribution -pacy (c:\\users\\zee tech\\appdata\\local\\programs\\python\\python39\\lib\\site-packages)\n",
      "WARNING: Ignoring invalid distribution -illow (c:\\users\\zee tech\\appdata\\local\\programs\\python\\python39\\lib\\site-packages)\n",
      "WARNING: Ignoring invalid distribution -rotobuf (c:\\users\\zee tech\\appdata\\local\\programs\\python\\python39\\lib\\site-packages)\n",
      "WARNING: Ignoring invalid distribution -pacy (c:\\users\\zee tech\\appdata\\local\\programs\\python\\python39\\lib\\site-packages)\n",
      "WARNING: Ignoring invalid distribution -illow (c:\\users\\zee tech\\appdata\\local\\programs\\python\\python39\\lib\\site-packages)\n",
      "WARNING: You are using pip version 21.3.1; however, version 23.0.1 is available.\n",
      "You should consider upgrading via the 'c:\\users\\zee tech\\appdata\\local\\programs\\python\\python39\\python.exe -m pip install --upgrade pip' command.\n"
     ]
    }
   ],
   "source": [
    "!pip install -q protobuf==3.19.3"
   ]
  },
  {
   "cell_type": "code",
   "execution_count": null,
   "metadata": {
    "colab": {
     "base_uri": "https://localhost:8080/",
     "height": 218
    },
    "id": "qJBVgcPGJ7h1",
    "outputId": "2c29fa46-86d6-4f8a-f85c-56ec725fc942"
   },
   "outputs": [],
   "source": [
    "import os\n",
    "import pandas as pd\n",
    "import transformers\n",
    "import numpy as np\n",
    "import neattext as nt\n",
    "import tensorflow as tf\n",
    "from transformers import TFBertModel, BertTokenizer\n",
    "\n",
    "#from google.colab import drive\n",
    "#drive.mount('/content/drive')"
   ]
  },
  {
   "cell_type": "code",
   "execution_count": null,
   "metadata": {
    "id": "G2vPRj42MwXy"
   },
   "outputs": [],
   "source": [
    "path = r\"/content/drive/MyDrive/fake_reviews\"\n",
    "s=os.chdir(path)"
   ]
  },
  {
   "cell_type": "code",
   "execution_count": null,
   "metadata": {
    "colab": {
     "base_uri": "https://localhost:8080/",
     "height": 289
    },
    "id": "plB5rRT3UaNM",
    "outputId": "438aaffb-f3ef-4c5d-e77c-c0096444ead8"
   },
   "outputs": [],
   "source": [
    "# Load the dataset\n",
    "df = pd.read_csv('amazon_reviews.csv')\n",
    "df.dropna(inplace=True)\n",
    "df.head(2)"
   ]
  },
  {
   "cell_type": "markdown",
   "metadata": {
    "id": "nn2WRUy0OGgO"
   },
   "source": [
    "### **Marking Review as Fake if its Lenght is 15 Characters or less, repeating, and Verified Purcahes=0**"
   ]
  },
  {
   "cell_type": "code",
   "execution_count": null,
   "metadata": {
    "id": "oDTCJaX4NwZV"
   },
   "outputs": [],
   "source": [
    "df['fake_review']=df.apply(lambda x: 1 if len(str(x['review_body']))<=15 or x['verified_purchase']==0  else 0,axis=1)"
   ]
  },
  {
   "cell_type": "markdown",
   "metadata": {
    "id": "RHvh62akOV_f"
   },
   "source": [
    "### **Checking Customer Id in the Review**"
   ]
  },
  {
   "cell_type": "code",
   "execution_count": null,
   "metadata": {
    "colab": {
     "base_uri": "https://localhost:8080/"
    },
    "id": "0Sbv5HJYNwW0",
    "outputId": "29c277b6-6ed9-4bbc-c482-1b1b1ec605f0"
   },
   "outputs": [
    {
     "data": {
      "text/plain": [
       "0    129964\n",
       "dtype: int64"
      ]
     },
     "execution_count": 7,
     "metadata": {},
     "output_type": "execute_result"
    }
   ],
   "source": [
    "temp=df.apply(lambda x: 1 if str(x['customer_id']) in str(x['review_body']) else 0,axis=1)\n",
    "temp.value_counts()"
   ]
  },
  {
   "cell_type": "markdown",
   "metadata": {
    "id": "mlJYAb4GOigd"
   },
   "source": [
    "### **Text Preprocessing**"
   ]
  },
  {
   "cell_type": "code",
   "execution_count": null,
   "metadata": {
    "id": "HE01g640NwUA"
   },
   "outputs": [],
   "source": [
    "def text_preprocessing(text):\n",
    "  text=nt.fix_contractions(text)     #I'm -> I am\n",
    "  text=nt.remove_urls(text)          #removing urls\n",
    "  text=nt.remove_non_ascii(text)     #removing non-ascii characters\n",
    "  text=nt.remove_numbers(text)       #removing numbers\n",
    "  text=nt.remove_multiple_spaces(text)  #removing multiple spaces\n",
    "  return text\n",
    "  "
   ]
  },
  {
   "cell_type": "code",
   "execution_count": null,
   "metadata": {
    "id": "pC6GNP9SNwRX"
   },
   "outputs": [],
   "source": [
    "df['cleaned_review_body']=df.review_body.apply(lambda x:text_preprocessing(str(x)))"
   ]
  },
  {
   "cell_type": "markdown",
   "metadata": {
    "id": "FsU2MM6wPI0p"
   },
   "source": [
    "### **Sentiment Analysis**"
   ]
  },
  {
   "cell_type": "code",
   "execution_count": null,
   "metadata": {
    "id": "Ta2RqwYCNwNm"
   },
   "outputs": [],
   "source": [
    "from textblob import TextBlob   #special package for short sentence sentiment analysis"
   ]
  },
  {
   "cell_type": "code",
   "execution_count": null,
   "metadata": {
    "id": "NIH3UFkJNwLJ"
   },
   "outputs": [],
   "source": [
    "def sentiment_polarity(text):\n",
    "  '''\n",
    "  this fucntion calculates polarity of each tweet\n",
    "  '''\n",
    "  text=TextBlob(text)\n",
    "  return text.sentiment.polarity"
   ]
  },
  {
   "cell_type": "code",
   "execution_count": null,
   "metadata": {
    "id": "zcfz_nZbNwIL"
   },
   "outputs": [],
   "source": [
    "df['sentiment_polarity']=df.cleaned_review_body.apply(lambda x:sentiment_polarity(x))"
   ]
  },
  {
   "cell_type": "code",
   "execution_count": null,
   "metadata": {
    "id": "qDP_0EJNNwEc"
   },
   "outputs": [],
   "source": [
    "def sentiment_tag(polarity):\n",
    "  '''\n",
    "  this function assigns sentiment tag according to its polarity\n",
    "  '''\n",
    "  if polarity>0:\n",
    "        return 'positive'\n",
    "  elif polarity<0:\n",
    "        return 'negative'\n",
    "  else:\n",
    "    return 'neutral'"
   ]
  },
  {
   "cell_type": "code",
   "execution_count": null,
   "metadata": {
    "id": "dgTP9K0UNwAm"
   },
   "outputs": [],
   "source": [
    "df['sentiment_tag']=df['sentiment_polarity'].apply(lambda x:sentiment_tag(x))"
   ]
  },
  {
   "cell_type": "markdown",
   "metadata": {
    "id": "RKYNTRrfPZJZ"
   },
   "source": [
    "### **Checking Sentiment and Review Rating Clash**"
   ]
  },
  {
   "cell_type": "code",
   "execution_count": null,
   "metadata": {
    "id": "694ZtqW6Nv-H"
   },
   "outputs": [],
   "source": [
    "#Marking Reviews as Fake if it has 5 star rating but have negative setiment"
   ]
  },
  {
   "cell_type": "code",
   "execution_count": null,
   "metadata": {
    "id": "9S5eDmeeNv6w"
   },
   "outputs": [],
   "source": [
    "temp=df.apply(lambda x: 1 if  x['sentiment_tag']=='negative' and x['star_rating']==5 else 0,axis=1)"
   ]
  },
  {
   "cell_type": "code",
   "execution_count": null,
   "metadata": {
    "colab": {
     "base_uri": "https://localhost:8080/"
    },
    "id": "wn_msR4vNv4P",
    "outputId": "1dffa125-f5c4-4128-edb2-06b224e0cb20"
   },
   "outputs": [
    {
     "data": {
      "text/plain": [
       "0    126705\n",
       "1      3259\n",
       "dtype: int64"
      ]
     },
     "execution_count": 17,
     "metadata": {},
     "output_type": "execute_result"
    }
   ],
   "source": [
    "temp.value_counts()"
   ]
  },
  {
   "cell_type": "code",
   "execution_count": null,
   "metadata": {
    "id": "eZCTeyy6Nv0s"
   },
   "outputs": [],
   "source": [
    "indices=df[(df['sentiment_tag']=='negative') & (df['star_rating']==5)].index"
   ]
  },
  {
   "cell_type": "code",
   "execution_count": null,
   "metadata": {
    "id": "rs1yPPKvNvyI"
   },
   "outputs": [],
   "source": [
    "df.loc[indices,'fake_review']=1"
   ]
  },
  {
   "cell_type": "code",
   "execution_count": null,
   "metadata": {
    "colab": {
     "base_uri": "https://localhost:8080/"
    },
    "id": "01IS_n-dNvuq",
    "outputId": "1c5ad27d-279a-404f-a48d-27935840d97a"
   },
   "outputs": [
    {
     "data": {
      "text/plain": [
       "0    97511\n",
       "1    32453\n",
       "Name: fake_review, dtype: int64"
      ]
     },
     "execution_count": 20,
     "metadata": {},
     "output_type": "execute_result"
    }
   ],
   "source": [
    "df['fake_review'].value_counts()"
   ]
  },
  {
   "cell_type": "markdown",
   "metadata": {
    "id": "ZjKDfZt8PxH-"
   },
   "source": [
    "### **Is product category mentioned in Review text**"
   ]
  },
  {
   "cell_type": "code",
   "execution_count": null,
   "metadata": {
    "id": "TYzXRUr7NvsR"
   },
   "outputs": [],
   "source": [
    "temp=df.apply(lambda x: 1 if x['product_id'] in str(x['review_body']) else 0,axis=1)"
   ]
  },
  {
   "cell_type": "code",
   "execution_count": null,
   "metadata": {
    "colab": {
     "base_uri": "https://localhost:8080/"
    },
    "id": "xh4ZE6GzNvpK",
    "outputId": "728cd562-2fb3-4033-f8b7-02134d31afe8"
   },
   "outputs": [
    {
     "data": {
      "text/plain": [
       "0    129854\n",
       "1       110\n",
       "dtype: int64"
      ]
     },
     "execution_count": 22,
     "metadata": {},
     "output_type": "execute_result"
    }
   ],
   "source": [
    "temp.value_counts()"
   ]
  },
  {
   "cell_type": "code",
   "execution_count": null,
   "metadata": {
    "id": "n5NPru4BNvmK"
   },
   "outputs": [],
   "source": [
    "def postprocessing(text):\n",
    "  text=nt.remove_stopwords(text)\n",
    "  text=nt.remove_special_characters(text)\n",
    "  text=nt.remove_emojis(text)\n",
    "  text=text=nt.remove_shortwords(text,3)\n",
    "  return text"
   ]
  },
  {
   "cell_type": "code",
   "execution_count": null,
   "metadata": {
    "id": "9ZoZdwJmNvjt"
   },
   "outputs": [],
   "source": [
    "df['cleaned_review_body']=df['cleaned_review_body'].apply(lambda x:postprocessing(str(x)))"
   ]
  },
  {
   "cell_type": "code",
   "execution_count": null,
   "metadata": {
    "colab": {
     "base_uri": "https://localhost:8080/",
     "height": 252,
     "referenced_widgets": [
      "b89a988d0b65470ca64c7587727bfc4a",
      "ff4bd26cd3df4c95b63f484cbf840759",
      "8880bb7760db42fd93261911ae57cbf1",
      "501e9a6be0154f61903053285ed278d6",
      "100d1ebfab0b423ea8d81f7ddf3f0207",
      "f87323d93fa54204be1136f6b335162a",
      "ed9911dd2c2e48de8403ba65930d57c8",
      "e1e18abf21e941ecab238c1efcea7751",
      "7bd4ff4e78644daab2c82671431d4663",
      "7b268f31f1094d5a909b9f671bc8b027",
      "6536cb05b43e4015b563b9deb257a2fe",
      "5a527d393c6d42d7a50892fa3ffdfe0d",
      "800deeea50bb4011a9086f4df2cb3ced",
      "9edd074d63c7493cb22437a574b7ff9e",
      "936453f7bfc148ceb41c821e42b197eb",
      "4f956a2dc6c8401986633263762f4e3e",
      "f62a316553214c18bad1135a258bb768",
      "79d144ccab744ede929f6a01b795a154",
      "93c4422646fe4958888079dd390e8ea2",
      "9ca0e62c6d6c4b0abc6b5f2aa5c56e1a",
      "8842b93ead074e7fbf55561ad2ebd1b3",
      "f0c16d034a064197b2f50f97bb672c15",
      "4cd1828cec284c64b76b2f9b9c8681ca",
      "66792d6e8d544ed1be1b2b1fa269f0d4",
      "a0e769029e0845f5819543fb52d0d728",
      "36daf0fa0b8c4e5cbaecb341c2adf1ba",
      "dcc712896ffa49068fcfa27034ad6d94",
      "f63b85ae26d34addb67fb8cab48b0341",
      "37fc05f6f63642959fc3d53de8903bb7",
      "8bd4882285c04528aad0ed1d37488e11",
      "20af16343c144b968b195a5a359155e4",
      "117a0ed8fbf9489ba763736553f11e31",
      "801e73463a2e4649af2b19efc2147bf1",
      "d76756478bce4cbe87cc66ae3dd1b18e",
      "c96820b0fc8a40a6b12a906e62ccc525",
      "9a287223b36a462d905ac85c093da569",
      "9d79609bdbaf413b8879539f2682fa50",
      "1e6eca36f7fd41cb87882470088ddc6d",
      "867089363b114948b8c970edaad01f4e",
      "4e3de066897f43918cad94837d1b3af6",
      "dcdd715b14a24818bce8e1880b564839",
      "6197337f02e041a48b91ca2576e876b7",
      "e8873596a99b46559ab90e774e6cccd5",
      "6d8610893c5a42199d256a55774cb384"
     ]
    },
    "id": "3DUTzveeUOa4",
    "outputId": "4f4e386d-a9b0-4bf8-a4d2-8b091a8b1860"
   },
   "outputs": [
    {
     "data": {
      "application/vnd.jupyter.widget-view+json": {
       "model_id": "b89a988d0b65470ca64c7587727bfc4a",
       "version_major": 2,
       "version_minor": 0
      },
      "text/plain": [
       "Downloading config.json:   0%|          | 0.00/570 [00:00<?, ?B/s]"
      ]
     },
     "metadata": {},
     "output_type": "display_data"
    },
    {
     "data": {
      "application/vnd.jupyter.widget-view+json": {
       "model_id": "5a527d393c6d42d7a50892fa3ffdfe0d",
       "version_major": 2,
       "version_minor": 0
      },
      "text/plain": [
       "Downloading tf_model.h5:   0%|          | 0.00/511M [00:00<?, ?B/s]"
      ]
     },
     "metadata": {},
     "output_type": "display_data"
    },
    {
     "name": "stderr",
     "output_type": "stream",
     "text": [
      "Some layers from the model checkpoint at bert-base-uncased were not used when initializing TFBertModel: ['nsp___cls', 'mlm___cls']\n",
      "- This IS expected if you are initializing TFBertModel from the checkpoint of a model trained on another task or with another architecture (e.g. initializing a BertForSequenceClassification model from a BertForPreTraining model).\n",
      "- This IS NOT expected if you are initializing TFBertModel from the checkpoint of a model that you expect to be exactly identical (initializing a BertForSequenceClassification model from a BertForSequenceClassification model).\n",
      "All the layers of TFBertModel were initialized from the model checkpoint at bert-base-uncased.\n",
      "If your task is similar to the task the model of the checkpoint was trained on, you can already use TFBertModel for predictions without further training.\n"
     ]
    },
    {
     "data": {
      "application/vnd.jupyter.widget-view+json": {
       "model_id": "4cd1828cec284c64b76b2f9b9c8681ca",
       "version_major": 2,
       "version_minor": 0
      },
      "text/plain": [
       "Downloading vocab.txt:   0%|          | 0.00/226k [00:00<?, ?B/s]"
      ]
     },
     "metadata": {},
     "output_type": "display_data"
    },
    {
     "data": {
      "application/vnd.jupyter.widget-view+json": {
       "model_id": "d76756478bce4cbe87cc66ae3dd1b18e",
       "version_major": 2,
       "version_minor": 0
      },
      "text/plain": [
       "Downloading tokenizer_config.json:   0%|          | 0.00/28.0 [00:00<?, ?B/s]"
      ]
     },
     "metadata": {},
     "output_type": "display_data"
    }
   ],
   "source": [
    "# Load the BERT model and tokenizer\n",
    "bert_model = TFBertModel.from_pretrained('bert-base-uncased')\n",
    "tokenizer = BertTokenizer.from_pretrained('bert-base-uncased')\n",
    "\n",
    "# Define a function to tokenize text\n",
    "def tokenize_text(text, max_length):\n",
    "    tokens = tokenizer.encode_plus(text,\n",
    "                                   max_length=max_length,\n",
    "                                   truncation=True,\n",
    "                                   padding='max_length',\n",
    "                                   add_special_tokens=True,\n",
    "                                   return_token_type_ids=False,\n",
    "                                   return_attention_mask=True,\n",
    "                                   return_tensors='np')\n",
    "    return {'input_ids': tokens['input_ids'][0],\n",
    "            'attention_mask': tokens['attention_mask'][0]}"
   ]
  },
  {
   "cell_type": "code",
   "execution_count": null,
   "metadata": {
    "id": "lSuN2fVI8FsP"
   },
   "outputs": [],
   "source": [
    "fake_df=df[df[\"fake_review\"]==1]"
   ]
  },
  {
   "cell_type": "code",
   "execution_count": null,
   "metadata": {
    "id": "zQ_9jMW38Qkg"
   },
   "outputs": [],
   "source": [
    "legit_df=df[df[\"fake_review\"]==0][:fake_df.shape[0]]"
   ]
  },
  {
   "cell_type": "code",
   "execution_count": null,
   "metadata": {
    "id": "JDtTWyxa81f9"
   },
   "outputs": [],
   "source": [
    "combine_df=pd.concat([fake_df,legit_df])"
   ]
  },
  {
   "cell_type": "code",
   "execution_count": null,
   "metadata": {
    "colab": {
     "base_uri": "https://localhost:8080/"
    },
    "id": "ddorMytO9OjC",
    "outputId": "3a7d2899-e534-4639-cae0-42a4314e34fe"
   },
   "outputs": [
    {
     "data": {
      "text/plain": [
       "0    32453\n",
       "1    32453\n",
       "Name: fake_review, dtype: int64"
      ]
     },
     "execution_count": 29,
     "metadata": {},
     "output_type": "execute_result"
    }
   ],
   "source": [
    "combine_df[\"fake_review\"].value_counts()"
   ]
  },
  {
   "cell_type": "code",
   "execution_count": null,
   "metadata": {
    "colab": {
     "base_uri": "https://localhost:8080/"
    },
    "id": "SfRMNitkQ9uW",
    "outputId": "83caa4a3-73ed-43b6-a932-2b60386aced6"
   },
   "outputs": [
    {
     "name": "stderr",
     "output_type": "stream",
     "text": [
      "<ipython-input-30-a5f3972e4376>:5: SettingWithCopyWarning: \n",
      "A value is trying to be set on a copy of a slice from a DataFrame\n",
      "\n",
      "See the caveats in the documentation: https://pandas.pydata.org/pandas-docs/stable/user_guide/indexing.html#returning-a-view-versus-a-copy\n",
      "  df1.dropna(inplace=True)\n"
     ]
    }
   ],
   "source": [
    "# Load the data\n",
    "max_length = 128\n",
    "#df = pd.read_csv('fake_reviews.csv')\n",
    "df1 = combine_df[[\"cleaned_review_body\", \"fake_review\"]]\n",
    "df1.dropna(inplace=True)"
   ]
  },
  {
   "cell_type": "code",
   "execution_count": null,
   "metadata": {
    "id": "BdO5y-zCLLwN"
   },
   "outputs": [],
   "source": [
    "X = df1['cleaned_review_body'].apply(lambda x: tokenize_text(x, max_length)).tolist()\n",
    "y = df1['fake_review'].values.tolist()\n",
    "\n",
    "# Create input features and target labels\n",
    "X_input_ids = np.array([x['input_ids'] for x in X])\n",
    "X_attention_mask = np.array([x['attention_mask'] for x in X])\n",
    "y = tf.constant(y, dtype=tf.int32)"
   ]
  },
  {
   "cell_type": "code",
   "execution_count": null,
   "metadata": {
    "id": "c-YipAkbTE58"
   },
   "outputs": [],
   "source": [
    "# Define the BERT model architecture\n",
    "bert_inputs = {'input_ids': tf.keras.layers.Input(shape=(max_length,), dtype=tf.int32),\n",
    "               'attention_mask': tf.keras.layers.Input(shape=(max_length,), dtype=tf.int32)}\n",
    "bert_output = bert_model(bert_inputs)['last_hidden_state'][:, 0, :]\n",
    "output = tf.keras.layers.Dense(1, activation='sigmoid')(bert_output)"
   ]
  },
  {
   "cell_type": "code",
   "execution_count": null,
   "metadata": {
    "id": "d9SW4b2HUzh0"
   },
   "outputs": [],
   "source": [
    "# Split the data into training and validation sets\n",
    "train_size = int(0.8 * len(df))\n",
    "batch_size = 32\n",
    "train_dataset = tf.data.Dataset.from_tensor_slices(({'input_ids': X_input_ids[:train_size],\n",
    "                                                     'attention_mask': X_attention_mask[:train_size]},\n",
    "                                                    y[:train_size])).batch(batch_size)\n",
    "val_dataset = tf.data.Dataset.from_tensor_slices(({'input_ids': X_input_ids[train_size:],\n",
    "                                                   'attention_mask': X_attention_mask[train_size:]},\n",
    "                                                  y[train_size:])).batch(batch_size)"
   ]
  },
  {
   "cell_type": "code",
   "execution_count": null,
   "metadata": {
    "colab": {
     "base_uri": "https://localhost:8080/"
    },
    "id": "CLVKyib1TE23",
    "outputId": "9c0323d0-0f06-4cc4-ccbd-50088183bae9"
   },
   "outputs": [
    {
     "name": "stdout",
     "output_type": "stream",
     "text": [
      "Model: \"model\"\n",
      "__________________________________________________________________________________________________\n",
      "Layer (type)                    Output Shape         Param #     Connected to                     \n",
      "==================================================================================================\n",
      "input_2 (InputLayer)            [(None, 128)]        0                                            \n",
      "__________________________________________________________________________________________________\n",
      "input_1 (InputLayer)            [(None, 128)]        0                                            \n",
      "__________________________________________________________________________________________________\n",
      "tf_bert_model (TFBertModel)     TFBaseModelOutputWit 109482240   input_2[0][0]                    \n",
      "                                                                 input_1[0][0]                    \n",
      "__________________________________________________________________________________________________\n",
      "tf.__operators__.getitem (Slici (None, 768)          0           tf_bert_model[0][0]              \n",
      "__________________________________________________________________________________________________\n",
      "dense (Dense)                   (None, 1)            769         tf.__operators__.getitem[0][0]   \n",
      "==================================================================================================\n",
      "Total params: 109,483,009\n",
      "Trainable params: 109,483,009\n",
      "Non-trainable params: 0\n",
      "__________________________________________________________________________________________________\n",
      "None\n"
     ]
    },
    {
     "name": "stderr",
     "output_type": "stream",
     "text": [
      "c:\\users\\zee tech\\appdata\\local\\programs\\python\\python39\\lib\\site-packages\\keras\\optimizer_v2\\optimizer_v2.py:355: UserWarning: The `lr` argument is deprecated, use `learning_rate` instead.\n",
      "  warnings.warn(\n"
     ]
    }
   ],
   "source": [
    "model = tf.keras.models.Model(inputs=bert_inputs, outputs=output)\n",
    "print(model.summary())\n",
    "# Compile the model\n",
    "optimizer = tf.keras.optimizers.Adam(lr=0.001)\n",
    "loss = tf.keras.losses.BinaryCrossentropy()\n",
    "metric = tf.keras.metrics.BinaryAccuracy()\n",
    "model.compile(optimizer=optimizer, loss=loss, metrics=[metric])"
   ]
  },
  {
   "cell_type": "code",
   "execution_count": null,
   "metadata": {
    "colab": {
     "base_uri": "https://localhost:8080/"
    },
    "id": "VnpvvqToTExW",
    "outputId": "6fcf5c5f-6733-4811-b372-db70e62fe4f8"
   },
   "outputs": [
    {
     "name": "stdout",
     "output_type": "stream",
     "text": [
      "Epoch 1/5\n",
      "WARNING:tensorflow:Gradients do not exist for variables ['tf_bert_model/bert/pooler/dense/kernel:0', 'tf_bert_model/bert/pooler/dense/bias:0'] when minimizing the loss.\n",
      "WARNING:tensorflow:Gradients do not exist for variables ['tf_bert_model/bert/pooler/dense/kernel:0', 'tf_bert_model/bert/pooler/dense/bias:0'] when minimizing the loss.\n",
      "   2/2029 [..............................] - ETA: 134:11:21 - loss: 0.6016 - binary_accuracy: 0.5000    "
     ]
    }
   ],
   "source": [
    "# Train the model\n",
    "epochs = 5\n",
    "model.fit(train_dataset, epochs=epochs,validation_data=val_dataset)"
   ]
  },
  {
   "cell_type": "code",
   "execution_count": null,
   "metadata": {
    "colab": {
     "base_uri": "https://localhost:8080/"
    },
    "id": "-r27fWpKVJPy",
    "outputId": "e3e6e173-c507-46b0-ab09-ab64b03f749e"
   },
   "outputs": [
    {
     "name": "stderr",
     "output_type": "stream",
     "text": [
      "WARNING:absl:Found untraced functions such as embeddings_layer_call_fn, embeddings_layer_call_and_return_conditional_losses, encoder_layer_call_fn, encoder_layer_call_and_return_conditional_losses, pooler_layer_call_fn while saving (showing 5 of 420). These functions will not be directly callable after loading.\n"
     ]
    }
   ],
   "source": [
    "# Save the model\n",
    "model.save('bert_model')"
   ]
  },
  {
   "cell_type": "code",
   "execution_count": null,
   "metadata": {
    "id": "hKdVsHsmdJum"
   },
   "outputs": [],
   "source": [
    "new_texts=fake_df[\"cleaned_review_body\"][:100].values"
   ]
  },
  {
   "cell_type": "code",
   "execution_count": null,
   "metadata": {
    "colab": {
     "base_uri": "https://localhost:8080/"
    },
    "id": "QSFHfU1Yddde",
    "outputId": "b80e35b6-6586-45a9-d73e-d4dd3052e033"
   },
   "outputs": [
    {
     "data": {
      "text/plain": [
       "array(['large', 'great', 'perfect', 'great',\n",
       "       'pretty colorthese glamorise bras amazingthey hold long complaint think band rolls downbut universal issue think',\n",
       "       'second tank ordered wear often wash receive compliments them',\n",
       "       'jacket amazon simply worst jacket bought bought jacket teenage daughter color above color person worse thick fluffy like looks literally thin mailed mailer size manila envelope thought mistake unfortunately mistakebr wanted daughter nice jacket years saved money thinking north face good reputation embarrassing talk product great unveiling thin uninsulated little cinch sakbr save time money buying returning person determined style brand wallet thank',\n",
       "       'great love print probably order again', 'awesome style love',\n",
       "       'received rfid blocking leather wallet thing noticed pebbled texture soft love flip window makes showing identification quick convenientdo worry leaving behind also navy blue stripe patterns inside billfold section nice touch credit card slots pack plastic slim design bulky here course rfid protection built wallet best feature nice worry scanning devices wireless identity theft',\n",
       "       'love wallet thing noticed soft flexible wallets tend stiff completely empty flexible comfortable pocket wallets leather soft pebbled texture itbr wallet nice look lining inside black white striped thought interesting grew pretty quickly edges wallet rough seams donebr this wallet plenty room hold need like spots cash papers back like able cash separate possible wallets rfid blocking great additional feature appreciatebr love wallet myself great wallet giftingbr received item discount exchange honest review',\n",
       "       'size size perfectly comfortable feels like wearing practically nothing wore club dress forgot wearing tatas cleavage simple clean worn probably future',\n",
       "       'fine',\n",
       "       'super nice comfortable socksi colors loved itbr thanks great service',\n",
       "       'cute dress advised cute dress runs very small size definitely need order couple sizes sizes larger normal shorter expected sheer definitely wear slip definitely cute dress wear',\n",
       "       'love tank fits size smaller suggest ordering size great quality tank',\n",
       "       'pants great thingit right color apparently grey means khaki businessbr seriousness great loved gotten right color',\n",
       "       'dress looks great wrap hides tummy bulge suck stomach wear girdle wish came colors',\n",
       "       'high quality shirt quick shipping', 'puerto rican flag',\n",
       "       'love love love shirt fits good comfy',\n",
       "       'thanks clear jewelry drawer loving item',\n",
       "       'comfy usually wear house think pull long which awesome soft flowy comfy different colors thought pull outside house',\n",
       "       'cute stretchy patten shown default worn numerous times super comfortable cute stretchy foldover waist allows adjustments length hips',\n",
       "       'great detail cheap',\n",
       "       'purchased winter white like like henley style neckline comfy cute wrong blair clothing',\n",
       "       'great curvy build sexy quality fabric love',\n",
       "       'excellent warmer heat settings great size warmer perfect portable happy',\n",
       "       'wanted learn play learning loves guitar light fromhim tell produce good sound',\n",
       "       'eastern washington universitys mascot eagle bulldog whoops',\n",
       "       'best',\n",
       "       'beautiful organizer fixed wall bathroom looks good nail polish different body lotions hair products mandy room different things shipping fast love',\n",
       "       'love clever design',\n",
       "       'love denim wash past year jeans look longer issues fading like normal detergents little goes long stuff lasted nearly year',\n",
       "       'cheap material properly extremely through worth price',\n",
       "       'right house picture kraken house greyjoy',\n",
       "       'wifes review productbr amazon little skeptical hopeful makeup eyeshadow tends weaknes wanted large range colors hoping pigmented disappointed shadows beautiful easy blend super vibrant like super high brands',\n",
       "       'quality pretty good wear usually wear size small mebr received item discounted price exchange honest unbiased review',\n",
       "       'runs small need tiny waist wear style adorable buttons front fully lined ordered large size chart normally wear inches small waist orange white colors pretty style length great sizing offbr received product discount exchange unbiased review opinions ownbr ordered cotton heather grey skirt normally wear perfect zipper works well thick waist pleats look cute pockets falls knee cute comfortable',\n",
       "       'sadly wear small straps small butt sucks wanted feel fabric felt like correctly cheaplybr bought discount honest review',\n",
       "       'looking forward skirt looked nice suspenders picture come suspenders skirt runs small able comfortably wear size issue suspenders nice skirt stretchy polyester feel buttons sewn securely they going fall received discount exchange honest unbiased review',\n",
       "       'bought wife little baggy likes',\n",
       "       'like shirt light weight cling skin thing like boxy pictured works work everyone',\n",
       "       'received shirt nice shirt material extremely soft lightweight cute little decorative pocket front fits good comfortable wear love material clingy shirt longer other grey tiffany color turquoise pretty colors look like pictures long sleeve grey lace back fits good little heavier weight material shirts lace dresses littlebr disclaimer received item discount honest review',\n",
       "       'cotton spandex form fitting tank adjustable removeable straps great tank wardrobe worn tops dresses straps snug fitting strapless kinda machine wash gentle tumble ordered size chart normally wear size tight fitting comfortablebr received product discount exchange unbiased review opinions',\n",
       "       'stars purchased product discounted price exchange honest review',\n",
       "       'cute fits little chest like style cute nice material cheap',\n",
       "       'great quality like colors more vibrant pictured fits smaller expected usually wear fits perfectly mebr received item discounted price exchange honest unbiased review',\n",
       "       'racist protest nypd ashamed yourselves', 'design stolen olipop',\n",
       "       'exactly ecpected great hoop easy mount install',\n",
       "       'dress amazing love comfy sexy', 'beautiful dress color',\n",
       "       'bought help organize kids play hats dress costume trunk full rates makes easy access wanting easily',\n",
       "       'lovely especially nice family bike ride great speed safe childrens ride family trips hiking trips rides lovely',\n",
       "       'everyday helps dirty clothes clean clothes organized easy like fold moving',\n",
       "       'love thing perfect clothes storage knows talking',\n",
       "       'great muscles work specifically athletes works great little spasms tend helps increase speed love',\n",
       "       'different comfortable perfect',\n",
       "       'love chair comfortable easy away',\n",
       "       'comfortable soft easy install love sleep',\n",
       "       'nice socksgood qualitygood pricerecommended',\n",
       "       'general skeptical purchasing sports products online prefer buying things trying seeing person looking picture loved color options pretty made admit texture color better picture great product amazing quality best running socks ever highly recommend product',\n",
       "       'year burlesque need exist also think definition cami needs looked again thanks product',\n",
       "       'shirt amazing compliments night wore comfortable light fits little great working outbr recieved item exchange honest review',\n",
       "       'deez shirt best', 'like deez nutson shirt',\n",
       "       'perfect smile devistating loss brother week',\n",
       "       'light weight tshirt good workout casual wear soft feel touch good qualitybr asinbuzmp basics mens single jeysey weave halfsleeves casual stripes tshirt',\n",
       "       'perfect blazer fits right good quality',\n",
       "       'fabulous fits makeup practical easy carry',\n",
       "       'best travel case owned spacious room travel love compartments easily accessable looks tidy sleek time definitely recommend',\n",
       "       'favorite body shaper tried sorts waist cinchers shapers recently honestly tell little leery accepting free sample offered chance review knew main reason zipper rest ones tried hook tedious ribs skin look great uncomfortable difficulty sitting bending them nice stretchy material soft interior beige color size ordered little bigger need according handy chart product pagebr what love body shaper smooth piece hook closure crotch area fits tight gets compressed evenly advertised inches waist does zipper little bulges worn clothing like fact shoulder straps lift bust compress sides evenly enhance look defy gravity sexiest tailored body shaper favorite outfit look slimmer feel comfortable looking fabulousbr recommend enthusiastically definitely prefer waist corsets shapers',\n",
       "       'love this perfect hoodie', 'comfortable soft wearing fits super',\n",
       "       'great love much want saying back like skirt stretchable great skirt purchase',\n",
       "       'came quickly fantastic product exactly needed loved color asinbsg feelingirl womens adjustable waist trimmer belt stomach body wrap lumbar support trim curves strengthen tummy improve posture belly burning size beige',\n",
       "       'small fits usually wear mediumlarge large safe fits tighter expected cutebr received item discount honest review',\n",
       "       'ordered natural color sheer small went size chart ordered large cute style warm lightweight shorter picture waist pocketsbr received product discount exchange unbiased review opinions ownbr purchased thick thin womens tunic sweater went size love size perfect length sleeves perfectly length tunic reaches inches knee need wear tank underneath open weaves cream color little taupe side flecks pinkish orange fits looks good',\n",
       "       'great nice fabric highly recommend suit',\n",
       "       'seeing suit buried closet wear girlfriend said going parents wedding anniversary party funeral interview asked find inexpensive wear once said ordered charcoal grey alain dupetit heard before package arrived promptly didnt bother suit party surprise suit excellent form right ready worn ironing fabric felt nice touch girlfriend commented nicely tailored girlfriend arrived party parents told looked handsome something critical said before thats later getting food buffet womansomeone leaguecame asked wanted wanted party swimming hotel pool mind kind thing happens fugly christian grey thought misunderstood heavily accented english repeated slowly enunciating word shock anything girlfriend came introduced attractive woman mothers distant cousins daughter visiting france experience truly understand phrase clothes realize dont spend fortune look like million bucks definitely going order suits brand',\n",
       "       'amazing suit cant believe cheap costs good suit seen sure alain dupetit thanks making item',\n",
       "       'super careful ordering clothes online sure check sizing chart couple times making selectionbr when dress arrived daughter excited right sadly bigger expected openings shorter length however likes dress half battle teens going wear leggings takes care length issue openings wear dark tank warm outside light sweater temps start fallbr other sizing difference like dress form fitting skirt free flowing swishes walks apparently good thing teen girls figurebr left rating dress super cute sizing issue able work aroundbr promotional discounted product provided review',\n",
       "       'dress nice great quality usually wear mediumlarge ordered large small',\n",
       "       'size waist hips size small size form fitting otherwise mistake barely small dress like trying squeeze bodycon dress stretch considering tight dress probably needed large however considering probably needed medium highly disappointed photo depict dress tight supposed loose flowy like bodycon dress otherwise material dress pretty nice washed plan dress promotional price exchange review going return dress worth keeping discount sadly',\n",
       "       'disclaimeri received product return honest reviewbr loved admit expecting fabric super comfy soft darker picture looks gorgeous shipping fast received earlier expected happy overall thing kept giving stars missing button deal considering button probably button leads thing pretty good overall smaller chest buttoned understand dress fault bigger chest problem dresses shirts wanted fellow busty ladies consideration buying happy definitely wearing times',\n",
       "       'super cute summer dress nice light worn plain love style cuter personbr received item discount unbiased review',\n",
       "       'love dress looks exactly like picture small determined loose weight wear',\n",
       "       'dress arrived days order sealed plastic check threads neatly nicely done good fabric thick kind cheap thin fabric gave star tiny problem wear ordered extra small bust size small size kinda flat chested wear cute dress padding thumbs upbr disclaimeri item discounted price return honest unbiased review',\n",
       "       'love dress fits amazing great soft material size chart true size received product discount exchange honest review chris',\n",
       "       'wore dress party today complimented light flowy able wear shorts incase wind picked flowy loose tell wearing shorts underneath comfortable loose kept check sure exposed great casual dress going warm pair sandals sneakers denim jacket dressed chunky belt cute strappywedge heels date night outfit',\n",
       "       'great quality style unfortunately small curvy woman return described seller received discount reviewing product',\n",
       "       'great quality shirt thin through sizing good ordered xlarge husband looks like picture product listing received product deep discount return honest review',\n",
       "       'ordered size small perfectly female shirt quality nice thick anything love shirt received product deep discount return honest review',\n",
       "       'bought kangaroo pajamas girlfriend small size little large prefers cozy super adorable good quality fabric soft feels premium liked kangaroo version pocket adorable joey that included things easy access wish joey velcro help attached keeps flopping over easy pockets deeper secure tried pretty well legs little short based pictures impression intended down want order size update pictures better idea fitbr update attached pictures little awkwardly think fits better average sized adultsbr received discount honest review totally going order',\n",
       "       'fantastic great fabric super soft buttons head piece sits super cute onbr received item discount unbiased review',\n",
       "       'beautiful sister wears public gets lots compliments made easy gets warm easily little short calves deal loves itbr received discount honest review',\n",
       "       'spectacular model love thsee jammies',\n",
       "       'good grief adorable pjsbr made thick soft fleece extremely roomy definitely winter definitely texas winter legs little short torso little long looks cute wide bought small self probably order like imagine skin tight rule calling cosplay sure order looks cute bigbr buttons front butt flap cute tail daughter favorite pair pjsbr received discount product testing reviewing purposes honest unbiased opinion',\n",
       "       'cool tshirt'], dtype=object)"
      ]
     },
     "execution_count": 42,
     "metadata": {},
     "output_type": "execute_result"
    }
   ],
   "source": [
    "new_texts"
   ]
  },
  {
   "cell_type": "code",
   "execution_count": null,
   "metadata": {
    "colab": {
     "base_uri": "https://localhost:8080/"
    },
    "id": "GeVJ9dlyTEup",
    "outputId": "1bcb2291-ec9a-4f5d-ba26-bf18b6b858e4"
   },
   "outputs": [
    {
     "name": "stdout",
     "output_type": "stream",
     "text": [
      "4/4 [==============================] - 4s 196ms/step\n",
      "[[2.4927215e-06]\n",
      " [2.4927215e-06]\n",
      " [2.4927215e-06]\n",
      " [2.4927215e-06]\n",
      " [2.4927215e-06]\n",
      " [2.4927215e-06]\n",
      " [2.4927215e-06]\n",
      " [2.4927215e-06]\n",
      " [2.4927215e-06]\n",
      " [2.4927215e-06]\n",
      " [2.4927215e-06]\n",
      " [2.4927215e-06]\n",
      " [2.4927215e-06]\n",
      " [2.4927215e-06]\n",
      " [2.4927215e-06]\n",
      " [2.4927215e-06]\n",
      " [2.4927215e-06]\n",
      " [2.4927215e-06]\n",
      " [2.4927215e-06]\n",
      " [2.4927215e-06]\n",
      " [2.4927215e-06]\n",
      " [2.4927215e-06]\n",
      " [2.4927215e-06]\n",
      " [2.4927215e-06]\n",
      " [2.4927215e-06]\n",
      " [2.4927215e-06]\n",
      " [2.4927215e-06]\n",
      " [2.4927215e-06]\n",
      " [2.4927215e-06]\n",
      " [2.4927215e-06]\n",
      " [2.4927215e-06]\n",
      " [2.4927215e-06]\n",
      " [2.4927215e-06]\n",
      " [2.4927215e-06]\n",
      " [2.4927215e-06]\n",
      " [2.4927215e-06]\n",
      " [2.4927215e-06]\n",
      " [2.4927215e-06]\n",
      " [2.4927215e-06]\n",
      " [2.4927215e-06]\n",
      " [2.4927215e-06]\n",
      " [2.4927215e-06]\n",
      " [2.4927215e-06]\n",
      " [2.4927215e-06]\n",
      " [2.4927215e-06]\n",
      " [2.4927215e-06]\n",
      " [2.4927215e-06]\n",
      " [2.4927215e-06]\n",
      " [2.4927215e-06]\n",
      " [2.4927215e-06]\n",
      " [2.4927215e-06]\n",
      " [2.4927215e-06]\n",
      " [2.4927215e-06]\n",
      " [2.4927215e-06]\n",
      " [2.4927215e-06]\n",
      " [2.4927215e-06]\n",
      " [2.4927215e-06]\n",
      " [2.4927215e-06]\n",
      " [2.4927215e-06]\n",
      " [2.4927215e-06]\n",
      " [2.4927215e-06]\n",
      " [2.4927215e-06]\n",
      " [2.4927215e-06]\n",
      " [2.4927215e-06]\n",
      " [2.4927215e-06]\n",
      " [2.4927215e-06]\n",
      " [2.4927215e-06]\n",
      " [2.4927215e-06]\n",
      " [2.4927215e-06]\n",
      " [2.4927215e-06]\n",
      " [2.4927215e-06]\n",
      " [2.4927215e-06]\n",
      " [2.4927215e-06]\n",
      " [2.4927215e-06]\n",
      " [2.4927215e-06]\n",
      " [2.4927215e-06]\n",
      " [2.4927215e-06]\n",
      " [2.4927215e-06]\n",
      " [2.4927215e-06]\n",
      " [2.4927215e-06]\n",
      " [2.4927215e-06]\n",
      " [2.4927215e-06]\n",
      " [2.4927215e-06]\n",
      " [2.4927215e-06]\n",
      " [2.4927215e-06]\n",
      " [2.4927215e-06]\n",
      " [2.4927215e-06]\n",
      " [2.4927215e-06]\n",
      " [2.4927215e-06]\n",
      " [2.4927215e-06]\n",
      " [2.4927215e-06]\n",
      " [2.4927215e-06]\n",
      " [2.4927215e-06]\n",
      " [2.4927215e-06]\n",
      " [2.4927192e-06]\n",
      " [2.4927215e-06]\n",
      " [2.4927215e-06]\n",
      " [2.4927215e-06]\n",
      " [2.4927215e-06]\n",
      " [2.4927215e-06]]\n"
     ]
    }
   ],
   "source": [
    "# Load the model\n",
    "loaded_model = tf.keras.models.load_model('bert_model', custom_objects={'TFBertModel': TFBertModel})\n",
    "\n",
    "# Make predictions on new data\n",
    "#new_texts = ['This product is amazing!', 'This product is terrible!']\n",
    "new_X = [tokenize_text(text, max_length) for text in new_texts]\n",
    "new_X_input_ids = np.array([x['input_ids'] for x in new_X])\n",
    "new_X_attention_mask = np.array([x['attention_mask'] for x in new_X])\n",
    "\n",
    "new_predictions = loaded_model.predict({'input_ids': new_X_input_ids, 'attention_mask': new_X_attention_mask})\n",
    "print(new_predictions)"
   ]
  },
  {
   "cell_type": "code",
   "execution_count": null,
   "metadata": {
    "id": "Xq2pI0EuZ_Tm"
   },
   "outputs": [],
   "source": []
  }
 ],
 "metadata": {
  "accelerator": "GPU",
  "colab": {
   "machine_shape": "hm",
   "provenance": []
  },
  "gpuClass": "standard",
  "kernelspec": {
   "display_name": "Python 3",
   "language": "python",
   "name": "python3"
  },
  "language_info": {
   "codemirror_mode": {
    "name": "ipython",
    "version": 3
   },
   "file_extension": ".py",
   "mimetype": "text/x-python",
   "name": "python",
   "nbconvert_exporter": "python",
   "pygments_lexer": "ipython3",
   "version": "3.9.5"
  },
  "widgets": {
   "application/vnd.jupyter.widget-state+json": {
    "100d1ebfab0b423ea8d81f7ddf3f0207": {
     "model_module": "@jupyter-widgets/base",
     "model_module_version": "1.2.0",
     "model_name": "LayoutModel",
     "state": {
      "_model_module": "@jupyter-widgets/base",
      "_model_module_version": "1.2.0",
      "_model_name": "LayoutModel",
      "_view_count": null,
      "_view_module": "@jupyter-widgets/base",
      "_view_module_version": "1.2.0",
      "_view_name": "LayoutView",
      "align_content": null,
      "align_items": null,
      "align_self": null,
      "border": null,
      "bottom": null,
      "display": null,
      "flex": null,
      "flex_flow": null,
      "grid_area": null,
      "grid_auto_columns": null,
      "grid_auto_flow": null,
      "grid_auto_rows": null,
      "grid_column": null,
      "grid_gap": null,
      "grid_row": null,
      "grid_template_areas": null,
      "grid_template_columns": null,
      "grid_template_rows": null,
      "height": null,
      "justify_content": null,
      "justify_items": null,
      "left": null,
      "margin": null,
      "max_height": null,
      "max_width": null,
      "min_height": null,
      "min_width": null,
      "object_fit": null,
      "object_position": null,
      "order": null,
      "overflow": null,
      "overflow_x": null,
      "overflow_y": null,
      "padding": null,
      "right": null,
      "top": null,
      "visibility": null,
      "width": null
     }
    },
    "117a0ed8fbf9489ba763736553f11e31": {
     "model_module": "@jupyter-widgets/base",
     "model_module_version": "1.2.0",
     "model_name": "LayoutModel",
     "state": {
      "_model_module": "@jupyter-widgets/base",
      "_model_module_version": "1.2.0",
      "_model_name": "LayoutModel",
      "_view_count": null,
      "_view_module": "@jupyter-widgets/base",
      "_view_module_version": "1.2.0",
      "_view_name": "LayoutView",
      "align_content": null,
      "align_items": null,
      "align_self": null,
      "border": null,
      "bottom": null,
      "display": null,
      "flex": null,
      "flex_flow": null,
      "grid_area": null,
      "grid_auto_columns": null,
      "grid_auto_flow": null,
      "grid_auto_rows": null,
      "grid_column": null,
      "grid_gap": null,
      "grid_row": null,
      "grid_template_areas": null,
      "grid_template_columns": null,
      "grid_template_rows": null,
      "height": null,
      "justify_content": null,
      "justify_items": null,
      "left": null,
      "margin": null,
      "max_height": null,
      "max_width": null,
      "min_height": null,
      "min_width": null,
      "object_fit": null,
      "object_position": null,
      "order": null,
      "overflow": null,
      "overflow_x": null,
      "overflow_y": null,
      "padding": null,
      "right": null,
      "top": null,
      "visibility": null,
      "width": null
     }
    },
    "1e6eca36f7fd41cb87882470088ddc6d": {
     "model_module": "@jupyter-widgets/base",
     "model_module_version": "1.2.0",
     "model_name": "LayoutModel",
     "state": {
      "_model_module": "@jupyter-widgets/base",
      "_model_module_version": "1.2.0",
      "_model_name": "LayoutModel",
      "_view_count": null,
      "_view_module": "@jupyter-widgets/base",
      "_view_module_version": "1.2.0",
      "_view_name": "LayoutView",
      "align_content": null,
      "align_items": null,
      "align_self": null,
      "border": null,
      "bottom": null,
      "display": null,
      "flex": null,
      "flex_flow": null,
      "grid_area": null,
      "grid_auto_columns": null,
      "grid_auto_flow": null,
      "grid_auto_rows": null,
      "grid_column": null,
      "grid_gap": null,
      "grid_row": null,
      "grid_template_areas": null,
      "grid_template_columns": null,
      "grid_template_rows": null,
      "height": null,
      "justify_content": null,
      "justify_items": null,
      "left": null,
      "margin": null,
      "max_height": null,
      "max_width": null,
      "min_height": null,
      "min_width": null,
      "object_fit": null,
      "object_position": null,
      "order": null,
      "overflow": null,
      "overflow_x": null,
      "overflow_y": null,
      "padding": null,
      "right": null,
      "top": null,
      "visibility": null,
      "width": null
     }
    },
    "20af16343c144b968b195a5a359155e4": {
     "model_module": "@jupyter-widgets/controls",
     "model_module_version": "1.5.0",
     "model_name": "ProgressStyleModel",
     "state": {
      "_model_module": "@jupyter-widgets/controls",
      "_model_module_version": "1.5.0",
      "_model_name": "ProgressStyleModel",
      "_view_count": null,
      "_view_module": "@jupyter-widgets/base",
      "_view_module_version": "1.2.0",
      "_view_name": "StyleView",
      "bar_color": null,
      "description_width": ""
     }
    },
    "36daf0fa0b8c4e5cbaecb341c2adf1ba": {
     "model_module": "@jupyter-widgets/controls",
     "model_module_version": "1.5.0",
     "model_name": "HTMLModel",
     "state": {
      "_dom_classes": [],
      "_model_module": "@jupyter-widgets/controls",
      "_model_module_version": "1.5.0",
      "_model_name": "HTMLModel",
      "_view_count": null,
      "_view_module": "@jupyter-widgets/controls",
      "_view_module_version": "1.5.0",
      "_view_name": "HTMLView",
      "description": "",
      "description_tooltip": null,
      "layout": "IPY_MODEL_117a0ed8fbf9489ba763736553f11e31",
      "placeholder": "​",
      "style": "IPY_MODEL_801e73463a2e4649af2b19efc2147bf1",
      "value": " 226k/226k [00:00&lt;00:00, 283kB/s]"
     }
    },
    "37fc05f6f63642959fc3d53de8903bb7": {
     "model_module": "@jupyter-widgets/controls",
     "model_module_version": "1.5.0",
     "model_name": "DescriptionStyleModel",
     "state": {
      "_model_module": "@jupyter-widgets/controls",
      "_model_module_version": "1.5.0",
      "_model_name": "DescriptionStyleModel",
      "_view_count": null,
      "_view_module": "@jupyter-widgets/base",
      "_view_module_version": "1.2.0",
      "_view_name": "StyleView",
      "description_width": ""
     }
    },
    "4cd1828cec284c64b76b2f9b9c8681ca": {
     "model_module": "@jupyter-widgets/controls",
     "model_module_version": "1.5.0",
     "model_name": "HBoxModel",
     "state": {
      "_dom_classes": [],
      "_model_module": "@jupyter-widgets/controls",
      "_model_module_version": "1.5.0",
      "_model_name": "HBoxModel",
      "_view_count": null,
      "_view_module": "@jupyter-widgets/controls",
      "_view_module_version": "1.5.0",
      "_view_name": "HBoxView",
      "box_style": "",
      "children": [
       "IPY_MODEL_66792d6e8d544ed1be1b2b1fa269f0d4",
       "IPY_MODEL_a0e769029e0845f5819543fb52d0d728",
       "IPY_MODEL_36daf0fa0b8c4e5cbaecb341c2adf1ba"
      ],
      "layout": "IPY_MODEL_dcc712896ffa49068fcfa27034ad6d94"
     }
    },
    "4e3de066897f43918cad94837d1b3af6": {
     "model_module": "@jupyter-widgets/controls",
     "model_module_version": "1.5.0",
     "model_name": "DescriptionStyleModel",
     "state": {
      "_model_module": "@jupyter-widgets/controls",
      "_model_module_version": "1.5.0",
      "_model_name": "DescriptionStyleModel",
      "_view_count": null,
      "_view_module": "@jupyter-widgets/base",
      "_view_module_version": "1.2.0",
      "_view_name": "StyleView",
      "description_width": ""
     }
    },
    "4f956a2dc6c8401986633263762f4e3e": {
     "model_module": "@jupyter-widgets/base",
     "model_module_version": "1.2.0",
     "model_name": "LayoutModel",
     "state": {
      "_model_module": "@jupyter-widgets/base",
      "_model_module_version": "1.2.0",
      "_model_name": "LayoutModel",
      "_view_count": null,
      "_view_module": "@jupyter-widgets/base",
      "_view_module_version": "1.2.0",
      "_view_name": "LayoutView",
      "align_content": null,
      "align_items": null,
      "align_self": null,
      "border": null,
      "bottom": null,
      "display": null,
      "flex": null,
      "flex_flow": null,
      "grid_area": null,
      "grid_auto_columns": null,
      "grid_auto_flow": null,
      "grid_auto_rows": null,
      "grid_column": null,
      "grid_gap": null,
      "grid_row": null,
      "grid_template_areas": null,
      "grid_template_columns": null,
      "grid_template_rows": null,
      "height": null,
      "justify_content": null,
      "justify_items": null,
      "left": null,
      "margin": null,
      "max_height": null,
      "max_width": null,
      "min_height": null,
      "min_width": null,
      "object_fit": null,
      "object_position": null,
      "order": null,
      "overflow": null,
      "overflow_x": null,
      "overflow_y": null,
      "padding": null,
      "right": null,
      "top": null,
      "visibility": null,
      "width": null
     }
    },
    "501e9a6be0154f61903053285ed278d6": {
     "model_module": "@jupyter-widgets/controls",
     "model_module_version": "1.5.0",
     "model_name": "HTMLModel",
     "state": {
      "_dom_classes": [],
      "_model_module": "@jupyter-widgets/controls",
      "_model_module_version": "1.5.0",
      "_model_name": "HTMLModel",
      "_view_count": null,
      "_view_module": "@jupyter-widgets/controls",
      "_view_module_version": "1.5.0",
      "_view_name": "HTMLView",
      "description": "",
      "description_tooltip": null,
      "layout": "IPY_MODEL_7b268f31f1094d5a909b9f671bc8b027",
      "placeholder": "​",
      "style": "IPY_MODEL_6536cb05b43e4015b563b9deb257a2fe",
      "value": " 570/570 [00:00&lt;00:00, 9.67kB/s]"
     }
    },
    "5a527d393c6d42d7a50892fa3ffdfe0d": {
     "model_module": "@jupyter-widgets/controls",
     "model_module_version": "1.5.0",
     "model_name": "HBoxModel",
     "state": {
      "_dom_classes": [],
      "_model_module": "@jupyter-widgets/controls",
      "_model_module_version": "1.5.0",
      "_model_name": "HBoxModel",
      "_view_count": null,
      "_view_module": "@jupyter-widgets/controls",
      "_view_module_version": "1.5.0",
      "_view_name": "HBoxView",
      "box_style": "",
      "children": [
       "IPY_MODEL_800deeea50bb4011a9086f4df2cb3ced",
       "IPY_MODEL_9edd074d63c7493cb22437a574b7ff9e",
       "IPY_MODEL_936453f7bfc148ceb41c821e42b197eb"
      ],
      "layout": "IPY_MODEL_4f956a2dc6c8401986633263762f4e3e"
     }
    },
    "6197337f02e041a48b91ca2576e876b7": {
     "model_module": "@jupyter-widgets/controls",
     "model_module_version": "1.5.0",
     "model_name": "ProgressStyleModel",
     "state": {
      "_model_module": "@jupyter-widgets/controls",
      "_model_module_version": "1.5.0",
      "_model_name": "ProgressStyleModel",
      "_view_count": null,
      "_view_module": "@jupyter-widgets/base",
      "_view_module_version": "1.2.0",
      "_view_name": "StyleView",
      "bar_color": null,
      "description_width": ""
     }
    },
    "6536cb05b43e4015b563b9deb257a2fe": {
     "model_module": "@jupyter-widgets/controls",
     "model_module_version": "1.5.0",
     "model_name": "DescriptionStyleModel",
     "state": {
      "_model_module": "@jupyter-widgets/controls",
      "_model_module_version": "1.5.0",
      "_model_name": "DescriptionStyleModel",
      "_view_count": null,
      "_view_module": "@jupyter-widgets/base",
      "_view_module_version": "1.2.0",
      "_view_name": "StyleView",
      "description_width": ""
     }
    },
    "66792d6e8d544ed1be1b2b1fa269f0d4": {
     "model_module": "@jupyter-widgets/controls",
     "model_module_version": "1.5.0",
     "model_name": "HTMLModel",
     "state": {
      "_dom_classes": [],
      "_model_module": "@jupyter-widgets/controls",
      "_model_module_version": "1.5.0",
      "_model_name": "HTMLModel",
      "_view_count": null,
      "_view_module": "@jupyter-widgets/controls",
      "_view_module_version": "1.5.0",
      "_view_name": "HTMLView",
      "description": "",
      "description_tooltip": null,
      "layout": "IPY_MODEL_f63b85ae26d34addb67fb8cab48b0341",
      "placeholder": "​",
      "style": "IPY_MODEL_37fc05f6f63642959fc3d53de8903bb7",
      "value": "Downloading vocab.txt: 100%"
     }
    },
    "6d8610893c5a42199d256a55774cb384": {
     "model_module": "@jupyter-widgets/controls",
     "model_module_version": "1.5.0",
     "model_name": "DescriptionStyleModel",
     "state": {
      "_model_module": "@jupyter-widgets/controls",
      "_model_module_version": "1.5.0",
      "_model_name": "DescriptionStyleModel",
      "_view_count": null,
      "_view_module": "@jupyter-widgets/base",
      "_view_module_version": "1.2.0",
      "_view_name": "StyleView",
      "description_width": ""
     }
    },
    "79d144ccab744ede929f6a01b795a154": {
     "model_module": "@jupyter-widgets/controls",
     "model_module_version": "1.5.0",
     "model_name": "DescriptionStyleModel",
     "state": {
      "_model_module": "@jupyter-widgets/controls",
      "_model_module_version": "1.5.0",
      "_model_name": "DescriptionStyleModel",
      "_view_count": null,
      "_view_module": "@jupyter-widgets/base",
      "_view_module_version": "1.2.0",
      "_view_name": "StyleView",
      "description_width": ""
     }
    },
    "7b268f31f1094d5a909b9f671bc8b027": {
     "model_module": "@jupyter-widgets/base",
     "model_module_version": "1.2.0",
     "model_name": "LayoutModel",
     "state": {
      "_model_module": "@jupyter-widgets/base",
      "_model_module_version": "1.2.0",
      "_model_name": "LayoutModel",
      "_view_count": null,
      "_view_module": "@jupyter-widgets/base",
      "_view_module_version": "1.2.0",
      "_view_name": "LayoutView",
      "align_content": null,
      "align_items": null,
      "align_self": null,
      "border": null,
      "bottom": null,
      "display": null,
      "flex": null,
      "flex_flow": null,
      "grid_area": null,
      "grid_auto_columns": null,
      "grid_auto_flow": null,
      "grid_auto_rows": null,
      "grid_column": null,
      "grid_gap": null,
      "grid_row": null,
      "grid_template_areas": null,
      "grid_template_columns": null,
      "grid_template_rows": null,
      "height": null,
      "justify_content": null,
      "justify_items": null,
      "left": null,
      "margin": null,
      "max_height": null,
      "max_width": null,
      "min_height": null,
      "min_width": null,
      "object_fit": null,
      "object_position": null,
      "order": null,
      "overflow": null,
      "overflow_x": null,
      "overflow_y": null,
      "padding": null,
      "right": null,
      "top": null,
      "visibility": null,
      "width": null
     }
    },
    "7bd4ff4e78644daab2c82671431d4663": {
     "model_module": "@jupyter-widgets/controls",
     "model_module_version": "1.5.0",
     "model_name": "ProgressStyleModel",
     "state": {
      "_model_module": "@jupyter-widgets/controls",
      "_model_module_version": "1.5.0",
      "_model_name": "ProgressStyleModel",
      "_view_count": null,
      "_view_module": "@jupyter-widgets/base",
      "_view_module_version": "1.2.0",
      "_view_name": "StyleView",
      "bar_color": null,
      "description_width": ""
     }
    },
    "800deeea50bb4011a9086f4df2cb3ced": {
     "model_module": "@jupyter-widgets/controls",
     "model_module_version": "1.5.0",
     "model_name": "HTMLModel",
     "state": {
      "_dom_classes": [],
      "_model_module": "@jupyter-widgets/controls",
      "_model_module_version": "1.5.0",
      "_model_name": "HTMLModel",
      "_view_count": null,
      "_view_module": "@jupyter-widgets/controls",
      "_view_module_version": "1.5.0",
      "_view_name": "HTMLView",
      "description": "",
      "description_tooltip": null,
      "layout": "IPY_MODEL_f62a316553214c18bad1135a258bb768",
      "placeholder": "​",
      "style": "IPY_MODEL_79d144ccab744ede929f6a01b795a154",
      "value": "Downloading tf_model.h5: 100%"
     }
    },
    "801e73463a2e4649af2b19efc2147bf1": {
     "model_module": "@jupyter-widgets/controls",
     "model_module_version": "1.5.0",
     "model_name": "DescriptionStyleModel",
     "state": {
      "_model_module": "@jupyter-widgets/controls",
      "_model_module_version": "1.5.0",
      "_model_name": "DescriptionStyleModel",
      "_view_count": null,
      "_view_module": "@jupyter-widgets/base",
      "_view_module_version": "1.2.0",
      "_view_name": "StyleView",
      "description_width": ""
     }
    },
    "867089363b114948b8c970edaad01f4e": {
     "model_module": "@jupyter-widgets/base",
     "model_module_version": "1.2.0",
     "model_name": "LayoutModel",
     "state": {
      "_model_module": "@jupyter-widgets/base",
      "_model_module_version": "1.2.0",
      "_model_name": "LayoutModel",
      "_view_count": null,
      "_view_module": "@jupyter-widgets/base",
      "_view_module_version": "1.2.0",
      "_view_name": "LayoutView",
      "align_content": null,
      "align_items": null,
      "align_self": null,
      "border": null,
      "bottom": null,
      "display": null,
      "flex": null,
      "flex_flow": null,
      "grid_area": null,
      "grid_auto_columns": null,
      "grid_auto_flow": null,
      "grid_auto_rows": null,
      "grid_column": null,
      "grid_gap": null,
      "grid_row": null,
      "grid_template_areas": null,
      "grid_template_columns": null,
      "grid_template_rows": null,
      "height": null,
      "justify_content": null,
      "justify_items": null,
      "left": null,
      "margin": null,
      "max_height": null,
      "max_width": null,
      "min_height": null,
      "min_width": null,
      "object_fit": null,
      "object_position": null,
      "order": null,
      "overflow": null,
      "overflow_x": null,
      "overflow_y": null,
      "padding": null,
      "right": null,
      "top": null,
      "visibility": null,
      "width": null
     }
    },
    "8842b93ead074e7fbf55561ad2ebd1b3": {
     "model_module": "@jupyter-widgets/base",
     "model_module_version": "1.2.0",
     "model_name": "LayoutModel",
     "state": {
      "_model_module": "@jupyter-widgets/base",
      "_model_module_version": "1.2.0",
      "_model_name": "LayoutModel",
      "_view_count": null,
      "_view_module": "@jupyter-widgets/base",
      "_view_module_version": "1.2.0",
      "_view_name": "LayoutView",
      "align_content": null,
      "align_items": null,
      "align_self": null,
      "border": null,
      "bottom": null,
      "display": null,
      "flex": null,
      "flex_flow": null,
      "grid_area": null,
      "grid_auto_columns": null,
      "grid_auto_flow": null,
      "grid_auto_rows": null,
      "grid_column": null,
      "grid_gap": null,
      "grid_row": null,
      "grid_template_areas": null,
      "grid_template_columns": null,
      "grid_template_rows": null,
      "height": null,
      "justify_content": null,
      "justify_items": null,
      "left": null,
      "margin": null,
      "max_height": null,
      "max_width": null,
      "min_height": null,
      "min_width": null,
      "object_fit": null,
      "object_position": null,
      "order": null,
      "overflow": null,
      "overflow_x": null,
      "overflow_y": null,
      "padding": null,
      "right": null,
      "top": null,
      "visibility": null,
      "width": null
     }
    },
    "8880bb7760db42fd93261911ae57cbf1": {
     "model_module": "@jupyter-widgets/controls",
     "model_module_version": "1.5.0",
     "model_name": "FloatProgressModel",
     "state": {
      "_dom_classes": [],
      "_model_module": "@jupyter-widgets/controls",
      "_model_module_version": "1.5.0",
      "_model_name": "FloatProgressModel",
      "_view_count": null,
      "_view_module": "@jupyter-widgets/controls",
      "_view_module_version": "1.5.0",
      "_view_name": "ProgressView",
      "bar_style": "success",
      "description": "",
      "description_tooltip": null,
      "layout": "IPY_MODEL_e1e18abf21e941ecab238c1efcea7751",
      "max": 570,
      "min": 0,
      "orientation": "horizontal",
      "style": "IPY_MODEL_7bd4ff4e78644daab2c82671431d4663",
      "value": 570
     }
    },
    "8bd4882285c04528aad0ed1d37488e11": {
     "model_module": "@jupyter-widgets/base",
     "model_module_version": "1.2.0",
     "model_name": "LayoutModel",
     "state": {
      "_model_module": "@jupyter-widgets/base",
      "_model_module_version": "1.2.0",
      "_model_name": "LayoutModel",
      "_view_count": null,
      "_view_module": "@jupyter-widgets/base",
      "_view_module_version": "1.2.0",
      "_view_name": "LayoutView",
      "align_content": null,
      "align_items": null,
      "align_self": null,
      "border": null,
      "bottom": null,
      "display": null,
      "flex": null,
      "flex_flow": null,
      "grid_area": null,
      "grid_auto_columns": null,
      "grid_auto_flow": null,
      "grid_auto_rows": null,
      "grid_column": null,
      "grid_gap": null,
      "grid_row": null,
      "grid_template_areas": null,
      "grid_template_columns": null,
      "grid_template_rows": null,
      "height": null,
      "justify_content": null,
      "justify_items": null,
      "left": null,
      "margin": null,
      "max_height": null,
      "max_width": null,
      "min_height": null,
      "min_width": null,
      "object_fit": null,
      "object_position": null,
      "order": null,
      "overflow": null,
      "overflow_x": null,
      "overflow_y": null,
      "padding": null,
      "right": null,
      "top": null,
      "visibility": null,
      "width": null
     }
    },
    "936453f7bfc148ceb41c821e42b197eb": {
     "model_module": "@jupyter-widgets/controls",
     "model_module_version": "1.5.0",
     "model_name": "HTMLModel",
     "state": {
      "_dom_classes": [],
      "_model_module": "@jupyter-widgets/controls",
      "_model_module_version": "1.5.0",
      "_model_name": "HTMLModel",
      "_view_count": null,
      "_view_module": "@jupyter-widgets/controls",
      "_view_module_version": "1.5.0",
      "_view_name": "HTMLView",
      "description": "",
      "description_tooltip": null,
      "layout": "IPY_MODEL_8842b93ead074e7fbf55561ad2ebd1b3",
      "placeholder": "​",
      "style": "IPY_MODEL_f0c16d034a064197b2f50f97bb672c15",
      "value": " 511M/511M [02:36&lt;00:00, 3.35MB/s]"
     }
    },
    "93c4422646fe4958888079dd390e8ea2": {
     "model_module": "@jupyter-widgets/base",
     "model_module_version": "1.2.0",
     "model_name": "LayoutModel",
     "state": {
      "_model_module": "@jupyter-widgets/base",
      "_model_module_version": "1.2.0",
      "_model_name": "LayoutModel",
      "_view_count": null,
      "_view_module": "@jupyter-widgets/base",
      "_view_module_version": "1.2.0",
      "_view_name": "LayoutView",
      "align_content": null,
      "align_items": null,
      "align_self": null,
      "border": null,
      "bottom": null,
      "display": null,
      "flex": null,
      "flex_flow": null,
      "grid_area": null,
      "grid_auto_columns": null,
      "grid_auto_flow": null,
      "grid_auto_rows": null,
      "grid_column": null,
      "grid_gap": null,
      "grid_row": null,
      "grid_template_areas": null,
      "grid_template_columns": null,
      "grid_template_rows": null,
      "height": null,
      "justify_content": null,
      "justify_items": null,
      "left": null,
      "margin": null,
      "max_height": null,
      "max_width": null,
      "min_height": null,
      "min_width": null,
      "object_fit": null,
      "object_position": null,
      "order": null,
      "overflow": null,
      "overflow_x": null,
      "overflow_y": null,
      "padding": null,
      "right": null,
      "top": null,
      "visibility": null,
      "width": null
     }
    },
    "9a287223b36a462d905ac85c093da569": {
     "model_module": "@jupyter-widgets/controls",
     "model_module_version": "1.5.0",
     "model_name": "FloatProgressModel",
     "state": {
      "_dom_classes": [],
      "_model_module": "@jupyter-widgets/controls",
      "_model_module_version": "1.5.0",
      "_model_name": "FloatProgressModel",
      "_view_count": null,
      "_view_module": "@jupyter-widgets/controls",
      "_view_module_version": "1.5.0",
      "_view_name": "ProgressView",
      "bar_style": "success",
      "description": "",
      "description_tooltip": null,
      "layout": "IPY_MODEL_dcdd715b14a24818bce8e1880b564839",
      "max": 28,
      "min": 0,
      "orientation": "horizontal",
      "style": "IPY_MODEL_6197337f02e041a48b91ca2576e876b7",
      "value": 28
     }
    },
    "9ca0e62c6d6c4b0abc6b5f2aa5c56e1a": {
     "model_module": "@jupyter-widgets/controls",
     "model_module_version": "1.5.0",
     "model_name": "ProgressStyleModel",
     "state": {
      "_model_module": "@jupyter-widgets/controls",
      "_model_module_version": "1.5.0",
      "_model_name": "ProgressStyleModel",
      "_view_count": null,
      "_view_module": "@jupyter-widgets/base",
      "_view_module_version": "1.2.0",
      "_view_name": "StyleView",
      "bar_color": null,
      "description_width": ""
     }
    },
    "9d79609bdbaf413b8879539f2682fa50": {
     "model_module": "@jupyter-widgets/controls",
     "model_module_version": "1.5.0",
     "model_name": "HTMLModel",
     "state": {
      "_dom_classes": [],
      "_model_module": "@jupyter-widgets/controls",
      "_model_module_version": "1.5.0",
      "_model_name": "HTMLModel",
      "_view_count": null,
      "_view_module": "@jupyter-widgets/controls",
      "_view_module_version": "1.5.0",
      "_view_name": "HTMLView",
      "description": "",
      "description_tooltip": null,
      "layout": "IPY_MODEL_e8873596a99b46559ab90e774e6cccd5",
      "placeholder": "​",
      "style": "IPY_MODEL_6d8610893c5a42199d256a55774cb384",
      "value": " 28.0/28.0 [00:00&lt;00:00, 1.00kB/s]"
     }
    },
    "9edd074d63c7493cb22437a574b7ff9e": {
     "model_module": "@jupyter-widgets/controls",
     "model_module_version": "1.5.0",
     "model_name": "FloatProgressModel",
     "state": {
      "_dom_classes": [],
      "_model_module": "@jupyter-widgets/controls",
      "_model_module_version": "1.5.0",
      "_model_name": "FloatProgressModel",
      "_view_count": null,
      "_view_module": "@jupyter-widgets/controls",
      "_view_module_version": "1.5.0",
      "_view_name": "ProgressView",
      "bar_style": "success",
      "description": "",
      "description_tooltip": null,
      "layout": "IPY_MODEL_93c4422646fe4958888079dd390e8ea2",
      "max": 536063208,
      "min": 0,
      "orientation": "horizontal",
      "style": "IPY_MODEL_9ca0e62c6d6c4b0abc6b5f2aa5c56e1a",
      "value": 536063208
     }
    },
    "a0e769029e0845f5819543fb52d0d728": {
     "model_module": "@jupyter-widgets/controls",
     "model_module_version": "1.5.0",
     "model_name": "FloatProgressModel",
     "state": {
      "_dom_classes": [],
      "_model_module": "@jupyter-widgets/controls",
      "_model_module_version": "1.5.0",
      "_model_name": "FloatProgressModel",
      "_view_count": null,
      "_view_module": "@jupyter-widgets/controls",
      "_view_module_version": "1.5.0",
      "_view_name": "ProgressView",
      "bar_style": "success",
      "description": "",
      "description_tooltip": null,
      "layout": "IPY_MODEL_8bd4882285c04528aad0ed1d37488e11",
      "max": 231508,
      "min": 0,
      "orientation": "horizontal",
      "style": "IPY_MODEL_20af16343c144b968b195a5a359155e4",
      "value": 231508
     }
    },
    "b89a988d0b65470ca64c7587727bfc4a": {
     "model_module": "@jupyter-widgets/controls",
     "model_module_version": "1.5.0",
     "model_name": "HBoxModel",
     "state": {
      "_dom_classes": [],
      "_model_module": "@jupyter-widgets/controls",
      "_model_module_version": "1.5.0",
      "_model_name": "HBoxModel",
      "_view_count": null,
      "_view_module": "@jupyter-widgets/controls",
      "_view_module_version": "1.5.0",
      "_view_name": "HBoxView",
      "box_style": "",
      "children": [
       "IPY_MODEL_ff4bd26cd3df4c95b63f484cbf840759",
       "IPY_MODEL_8880bb7760db42fd93261911ae57cbf1",
       "IPY_MODEL_501e9a6be0154f61903053285ed278d6"
      ],
      "layout": "IPY_MODEL_100d1ebfab0b423ea8d81f7ddf3f0207"
     }
    },
    "c96820b0fc8a40a6b12a906e62ccc525": {
     "model_module": "@jupyter-widgets/controls",
     "model_module_version": "1.5.0",
     "model_name": "HTMLModel",
     "state": {
      "_dom_classes": [],
      "_model_module": "@jupyter-widgets/controls",
      "_model_module_version": "1.5.0",
      "_model_name": "HTMLModel",
      "_view_count": null,
      "_view_module": "@jupyter-widgets/controls",
      "_view_module_version": "1.5.0",
      "_view_name": "HTMLView",
      "description": "",
      "description_tooltip": null,
      "layout": "IPY_MODEL_867089363b114948b8c970edaad01f4e",
      "placeholder": "​",
      "style": "IPY_MODEL_4e3de066897f43918cad94837d1b3af6",
      "value": "Downloading tokenizer_config.json: 100%"
     }
    },
    "d76756478bce4cbe87cc66ae3dd1b18e": {
     "model_module": "@jupyter-widgets/controls",
     "model_module_version": "1.5.0",
     "model_name": "HBoxModel",
     "state": {
      "_dom_classes": [],
      "_model_module": "@jupyter-widgets/controls",
      "_model_module_version": "1.5.0",
      "_model_name": "HBoxModel",
      "_view_count": null,
      "_view_module": "@jupyter-widgets/controls",
      "_view_module_version": "1.5.0",
      "_view_name": "HBoxView",
      "box_style": "",
      "children": [
       "IPY_MODEL_c96820b0fc8a40a6b12a906e62ccc525",
       "IPY_MODEL_9a287223b36a462d905ac85c093da569",
       "IPY_MODEL_9d79609bdbaf413b8879539f2682fa50"
      ],
      "layout": "IPY_MODEL_1e6eca36f7fd41cb87882470088ddc6d"
     }
    },
    "dcc712896ffa49068fcfa27034ad6d94": {
     "model_module": "@jupyter-widgets/base",
     "model_module_version": "1.2.0",
     "model_name": "LayoutModel",
     "state": {
      "_model_module": "@jupyter-widgets/base",
      "_model_module_version": "1.2.0",
      "_model_name": "LayoutModel",
      "_view_count": null,
      "_view_module": "@jupyter-widgets/base",
      "_view_module_version": "1.2.0",
      "_view_name": "LayoutView",
      "align_content": null,
      "align_items": null,
      "align_self": null,
      "border": null,
      "bottom": null,
      "display": null,
      "flex": null,
      "flex_flow": null,
      "grid_area": null,
      "grid_auto_columns": null,
      "grid_auto_flow": null,
      "grid_auto_rows": null,
      "grid_column": null,
      "grid_gap": null,
      "grid_row": null,
      "grid_template_areas": null,
      "grid_template_columns": null,
      "grid_template_rows": null,
      "height": null,
      "justify_content": null,
      "justify_items": null,
      "left": null,
      "margin": null,
      "max_height": null,
      "max_width": null,
      "min_height": null,
      "min_width": null,
      "object_fit": null,
      "object_position": null,
      "order": null,
      "overflow": null,
      "overflow_x": null,
      "overflow_y": null,
      "padding": null,
      "right": null,
      "top": null,
      "visibility": null,
      "width": null
     }
    },
    "dcdd715b14a24818bce8e1880b564839": {
     "model_module": "@jupyter-widgets/base",
     "model_module_version": "1.2.0",
     "model_name": "LayoutModel",
     "state": {
      "_model_module": "@jupyter-widgets/base",
      "_model_module_version": "1.2.0",
      "_model_name": "LayoutModel",
      "_view_count": null,
      "_view_module": "@jupyter-widgets/base",
      "_view_module_version": "1.2.0",
      "_view_name": "LayoutView",
      "align_content": null,
      "align_items": null,
      "align_self": null,
      "border": null,
      "bottom": null,
      "display": null,
      "flex": null,
      "flex_flow": null,
      "grid_area": null,
      "grid_auto_columns": null,
      "grid_auto_flow": null,
      "grid_auto_rows": null,
      "grid_column": null,
      "grid_gap": null,
      "grid_row": null,
      "grid_template_areas": null,
      "grid_template_columns": null,
      "grid_template_rows": null,
      "height": null,
      "justify_content": null,
      "justify_items": null,
      "left": null,
      "margin": null,
      "max_height": null,
      "max_width": null,
      "min_height": null,
      "min_width": null,
      "object_fit": null,
      "object_position": null,
      "order": null,
      "overflow": null,
      "overflow_x": null,
      "overflow_y": null,
      "padding": null,
      "right": null,
      "top": null,
      "visibility": null,
      "width": null
     }
    },
    "e1e18abf21e941ecab238c1efcea7751": {
     "model_module": "@jupyter-widgets/base",
     "model_module_version": "1.2.0",
     "model_name": "LayoutModel",
     "state": {
      "_model_module": "@jupyter-widgets/base",
      "_model_module_version": "1.2.0",
      "_model_name": "LayoutModel",
      "_view_count": null,
      "_view_module": "@jupyter-widgets/base",
      "_view_module_version": "1.2.0",
      "_view_name": "LayoutView",
      "align_content": null,
      "align_items": null,
      "align_self": null,
      "border": null,
      "bottom": null,
      "display": null,
      "flex": null,
      "flex_flow": null,
      "grid_area": null,
      "grid_auto_columns": null,
      "grid_auto_flow": null,
      "grid_auto_rows": null,
      "grid_column": null,
      "grid_gap": null,
      "grid_row": null,
      "grid_template_areas": null,
      "grid_template_columns": null,
      "grid_template_rows": null,
      "height": null,
      "justify_content": null,
      "justify_items": null,
      "left": null,
      "margin": null,
      "max_height": null,
      "max_width": null,
      "min_height": null,
      "min_width": null,
      "object_fit": null,
      "object_position": null,
      "order": null,
      "overflow": null,
      "overflow_x": null,
      "overflow_y": null,
      "padding": null,
      "right": null,
      "top": null,
      "visibility": null,
      "width": null
     }
    },
    "e8873596a99b46559ab90e774e6cccd5": {
     "model_module": "@jupyter-widgets/base",
     "model_module_version": "1.2.0",
     "model_name": "LayoutModel",
     "state": {
      "_model_module": "@jupyter-widgets/base",
      "_model_module_version": "1.2.0",
      "_model_name": "LayoutModel",
      "_view_count": null,
      "_view_module": "@jupyter-widgets/base",
      "_view_module_version": "1.2.0",
      "_view_name": "LayoutView",
      "align_content": null,
      "align_items": null,
      "align_self": null,
      "border": null,
      "bottom": null,
      "display": null,
      "flex": null,
      "flex_flow": null,
      "grid_area": null,
      "grid_auto_columns": null,
      "grid_auto_flow": null,
      "grid_auto_rows": null,
      "grid_column": null,
      "grid_gap": null,
      "grid_row": null,
      "grid_template_areas": null,
      "grid_template_columns": null,
      "grid_template_rows": null,
      "height": null,
      "justify_content": null,
      "justify_items": null,
      "left": null,
      "margin": null,
      "max_height": null,
      "max_width": null,
      "min_height": null,
      "min_width": null,
      "object_fit": null,
      "object_position": null,
      "order": null,
      "overflow": null,
      "overflow_x": null,
      "overflow_y": null,
      "padding": null,
      "right": null,
      "top": null,
      "visibility": null,
      "width": null
     }
    },
    "ed9911dd2c2e48de8403ba65930d57c8": {
     "model_module": "@jupyter-widgets/controls",
     "model_module_version": "1.5.0",
     "model_name": "DescriptionStyleModel",
     "state": {
      "_model_module": "@jupyter-widgets/controls",
      "_model_module_version": "1.5.0",
      "_model_name": "DescriptionStyleModel",
      "_view_count": null,
      "_view_module": "@jupyter-widgets/base",
      "_view_module_version": "1.2.0",
      "_view_name": "StyleView",
      "description_width": ""
     }
    },
    "f0c16d034a064197b2f50f97bb672c15": {
     "model_module": "@jupyter-widgets/controls",
     "model_module_version": "1.5.0",
     "model_name": "DescriptionStyleModel",
     "state": {
      "_model_module": "@jupyter-widgets/controls",
      "_model_module_version": "1.5.0",
      "_model_name": "DescriptionStyleModel",
      "_view_count": null,
      "_view_module": "@jupyter-widgets/base",
      "_view_module_version": "1.2.0",
      "_view_name": "StyleView",
      "description_width": ""
     }
    },
    "f62a316553214c18bad1135a258bb768": {
     "model_module": "@jupyter-widgets/base",
     "model_module_version": "1.2.0",
     "model_name": "LayoutModel",
     "state": {
      "_model_module": "@jupyter-widgets/base",
      "_model_module_version": "1.2.0",
      "_model_name": "LayoutModel",
      "_view_count": null,
      "_view_module": "@jupyter-widgets/base",
      "_view_module_version": "1.2.0",
      "_view_name": "LayoutView",
      "align_content": null,
      "align_items": null,
      "align_self": null,
      "border": null,
      "bottom": null,
      "display": null,
      "flex": null,
      "flex_flow": null,
      "grid_area": null,
      "grid_auto_columns": null,
      "grid_auto_flow": null,
      "grid_auto_rows": null,
      "grid_column": null,
      "grid_gap": null,
      "grid_row": null,
      "grid_template_areas": null,
      "grid_template_columns": null,
      "grid_template_rows": null,
      "height": null,
      "justify_content": null,
      "justify_items": null,
      "left": null,
      "margin": null,
      "max_height": null,
      "max_width": null,
      "min_height": null,
      "min_width": null,
      "object_fit": null,
      "object_position": null,
      "order": null,
      "overflow": null,
      "overflow_x": null,
      "overflow_y": null,
      "padding": null,
      "right": null,
      "top": null,
      "visibility": null,
      "width": null
     }
    },
    "f63b85ae26d34addb67fb8cab48b0341": {
     "model_module": "@jupyter-widgets/base",
     "model_module_version": "1.2.0",
     "model_name": "LayoutModel",
     "state": {
      "_model_module": "@jupyter-widgets/base",
      "_model_module_version": "1.2.0",
      "_model_name": "LayoutModel",
      "_view_count": null,
      "_view_module": "@jupyter-widgets/base",
      "_view_module_version": "1.2.0",
      "_view_name": "LayoutView",
      "align_content": null,
      "align_items": null,
      "align_self": null,
      "border": null,
      "bottom": null,
      "display": null,
      "flex": null,
      "flex_flow": null,
      "grid_area": null,
      "grid_auto_columns": null,
      "grid_auto_flow": null,
      "grid_auto_rows": null,
      "grid_column": null,
      "grid_gap": null,
      "grid_row": null,
      "grid_template_areas": null,
      "grid_template_columns": null,
      "grid_template_rows": null,
      "height": null,
      "justify_content": null,
      "justify_items": null,
      "left": null,
      "margin": null,
      "max_height": null,
      "max_width": null,
      "min_height": null,
      "min_width": null,
      "object_fit": null,
      "object_position": null,
      "order": null,
      "overflow": null,
      "overflow_x": null,
      "overflow_y": null,
      "padding": null,
      "right": null,
      "top": null,
      "visibility": null,
      "width": null
     }
    },
    "f87323d93fa54204be1136f6b335162a": {
     "model_module": "@jupyter-widgets/base",
     "model_module_version": "1.2.0",
     "model_name": "LayoutModel",
     "state": {
      "_model_module": "@jupyter-widgets/base",
      "_model_module_version": "1.2.0",
      "_model_name": "LayoutModel",
      "_view_count": null,
      "_view_module": "@jupyter-widgets/base",
      "_view_module_version": "1.2.0",
      "_view_name": "LayoutView",
      "align_content": null,
      "align_items": null,
      "align_self": null,
      "border": null,
      "bottom": null,
      "display": null,
      "flex": null,
      "flex_flow": null,
      "grid_area": null,
      "grid_auto_columns": null,
      "grid_auto_flow": null,
      "grid_auto_rows": null,
      "grid_column": null,
      "grid_gap": null,
      "grid_row": null,
      "grid_template_areas": null,
      "grid_template_columns": null,
      "grid_template_rows": null,
      "height": null,
      "justify_content": null,
      "justify_items": null,
      "left": null,
      "margin": null,
      "max_height": null,
      "max_width": null,
      "min_height": null,
      "min_width": null,
      "object_fit": null,
      "object_position": null,
      "order": null,
      "overflow": null,
      "overflow_x": null,
      "overflow_y": null,
      "padding": null,
      "right": null,
      "top": null,
      "visibility": null,
      "width": null
     }
    },
    "ff4bd26cd3df4c95b63f484cbf840759": {
     "model_module": "@jupyter-widgets/controls",
     "model_module_version": "1.5.0",
     "model_name": "HTMLModel",
     "state": {
      "_dom_classes": [],
      "_model_module": "@jupyter-widgets/controls",
      "_model_module_version": "1.5.0",
      "_model_name": "HTMLModel",
      "_view_count": null,
      "_view_module": "@jupyter-widgets/controls",
      "_view_module_version": "1.5.0",
      "_view_name": "HTMLView",
      "description": "",
      "description_tooltip": null,
      "layout": "IPY_MODEL_f87323d93fa54204be1136f6b335162a",
      "placeholder": "​",
      "style": "IPY_MODEL_ed9911dd2c2e48de8403ba65930d57c8",
      "value": "Downloading config.json: 100%"
     }
    }
   }
  }
 },
 "nbformat": 4,
 "nbformat_minor": 1
}
