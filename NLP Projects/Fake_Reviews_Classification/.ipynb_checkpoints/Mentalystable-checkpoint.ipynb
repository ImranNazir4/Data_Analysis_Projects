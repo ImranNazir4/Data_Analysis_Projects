{
 "cells": [
  {
   "cell_type": "code",
   "execution_count": 356,
   "id": "9311a232",
   "metadata": {},
   "outputs": [],
   "source": [
    "import pandas as pd\n",
    "import numpy as np\n",
    "from tqdm.auto import tqdm\n",
    "import tensorflow as tf\n",
    "from tensorflow.keras import *\n",
    "from tensorflow.keras.layers import *\n",
    "from tensorflow.keras.callbacks import *\n",
    "from transformers import BertTokenizer\n",
    "import re\n",
    "from sklearn.preprocessing import LabelEncoder\n",
    "import category_encoders as ce\n",
    "import matplotlib.pyplot as plt\n",
    "plt.style.use('ggplot')"
   ]
  },
  {
   "cell_type": "code",
   "execution_count": 357,
   "id": "f0df7831",
   "metadata": {},
   "outputs": [],
   "source": [
    "le = LabelEncoder()\n",
    "df = pd.read_excel('./deptweet_dataset.xlsx', header=0, index_col=None)\n",
    "df = df[df['confidence_score'] >= 0.65]\n",
    "df = df.loc[(df['label'] != 'non-depressed') | (df['confidence_score'] >= 0.8)]\n",
    "df['label'] = df['label'].replace({'mild': 'depressed', 'moderate': 'depressed', 'severe': 'depressed'})\n",
    "df = df.loc[:, ['tweet', 'label']]\n",
    "df = df.dropna()\n",
    "df['label_origin'] = df['label']"
   ]
  },
  {
   "cell_type": "code",
   "execution_count": 358,
   "id": "5f46109c",
   "metadata": {},
   "outputs": [
    {
     "data": {
      "text/plain": [
       "non-depressed    23515\n",
       "depressed         7747\n",
       "Name: label, dtype: int64"
      ]
     },
     "execution_count": 358,
     "metadata": {},
     "output_type": "execute_result"
    }
   ],
   "source": [
    "df['label'].value_counts()"
   ]
  },
  {
   "cell_type": "code",
   "execution_count": 359,
   "id": "58177009",
   "metadata": {},
   "outputs": [],
   "source": [
    "label_counts = 2"
   ]
  },
  {
   "cell_type": "code",
   "execution_count": 360,
   "id": "d78a0138",
   "metadata": {},
   "outputs": [],
   "source": [
    "df['label'] = le.fit_transform(df['label'])"
   ]
  },
  {
   "cell_type": "code",
   "execution_count": 361,
   "id": "d514c611",
   "metadata": {},
   "outputs": [
    {
     "data": {
      "text/plain": [
       "non-depressed    23515\n",
       "depressed         7747\n",
       "Name: label_origin, dtype: int64"
      ]
     },
     "execution_count": 361,
     "metadata": {},
     "output_type": "execute_result"
    }
   ],
   "source": [
    "df['label_origin'].value_counts()"
   ]
  },
  {
   "cell_type": "code",
   "execution_count": 362,
   "id": "f9d4b34c",
   "metadata": {},
   "outputs": [
    {
     "data": {
      "text/html": [
       "<div>\n",
       "<style scoped>\n",
       "    .dataframe tbody tr th:only-of-type {\n",
       "        vertical-align: middle;\n",
       "    }\n",
       "\n",
       "    .dataframe tbody tr th {\n",
       "        vertical-align: top;\n",
       "    }\n",
       "\n",
       "    .dataframe thead th {\n",
       "        text-align: right;\n",
       "    }\n",
       "</style>\n",
       "<table border=\"1\" class=\"dataframe\">\n",
       "  <thead>\n",
       "    <tr style=\"text-align: right;\">\n",
       "      <th></th>\n",
       "      <th>tweet</th>\n",
       "      <th>label</th>\n",
       "      <th>label_origin</th>\n",
       "    </tr>\n",
       "  </thead>\n",
       "  <tbody>\n",
       "    <tr>\n",
       "      <th>1</th>\n",
       "      <td>. Yeah, I can see that. My stuff is not depression tho, it's scattered focus, hard to concentrate for long or medium periods.</td>\n",
       "      <td>1</td>\n",
       "      <td>non-depressed</td>\n",
       "    </tr>\n",
       "    <tr>\n",
       "      <th>2</th>\n",
       "      <td>My focus has been scattered lately between different games, work/lack of work, dog, depression, etc.</td>\n",
       "      <td>0</td>\n",
       "      <td>depressed</td>\n",
       "    </tr>\n",
       "    <tr>\n",
       "      <th>3</th>\n",
       "      <td>I don't always think it equals depression, though; I think it sometimes shows one's focus has become cluttered or scattered</td>\n",
       "      <td>1</td>\n",
       "      <td>non-depressed</td>\n",
       "    </tr>\n",
       "    <tr>\n",
       "      <th>4</th>\n",
       "      <td>That show was ghastly! It had such an air of washed-out desolation, I think it taught me what depression is. Also: fish falling off cliffs</td>\n",
       "      <td>1</td>\n",
       "      <td>non-depressed</td>\n",
       "    </tr>\n",
       "    <tr>\n",
       "      <th>5</th>\n",
       "      <td>Am unsure where begin. My focus is scattered. Staying in this state feels unacceptable &amp;amp; like a slippery slope towards depression. I’d rather not. So, 2018, let’s make it count.</td>\n",
       "      <td>0</td>\n",
       "      <td>depressed</td>\n",
       "    </tr>\n",
       "    <tr>\n",
       "      <th>6</th>\n",
       "      <td>Stress &amp;amp; anxiety had me withdrawn from the people I most love. My dreams scattered and I was hopeless. My focus had shifted totally. Only focused on my failures &amp;amp; how I'm valueless, amounted to nothing ... Suffered severely from depression  https://t.co/wswiSsqDbC</td>\n",
       "      <td>0</td>\n",
       "      <td>depressed</td>\n",
       "    </tr>\n",
       "    <tr>\n",
       "      <th>8</th>\n",
       "      <td>My kids say this to me now, after 12yrs of , but they're remembering the downtrodden, shy, single but coping mother of children who had low self-worth &amp;amp; lacked confidence in herself, before her breakthrough into authentic spirited self! They don't recognise me💞</td>\n",
       "      <td>0</td>\n",
       "      <td>depressed</td>\n",
       "    </tr>\n",
       "    <tr>\n",
       "      <th>9</th>\n",
       "      <td>Help me figure out the truth behind this.  Depression hit you harder ... 1- If you are originally a happy go lucky person                      Than 2- If you are originally a low spirited person  Like for 1           Retweet for 2</td>\n",
       "      <td>1</td>\n",
       "      <td>non-depressed</td>\n",
       "    </tr>\n",
       "    <tr>\n",
       "      <th>10</th>\n",
       "      <td>I love this poem, but it's the title that rings in my head whenever my focus is scattered by depression, anxiety, stress—the darknesses that haunt.  https://t.co/faqAL4ms6x</td>\n",
       "      <td>1</td>\n",
       "      <td>non-depressed</td>\n",
       "    </tr>\n",
       "    <tr>\n",
       "      <th>11</th>\n",
       "      <td>If you find some lively &amp;amp; energetic person suddenly converting in gloomy,sad,depressed,low spirited.just observe them.He or she might be suffering from depression.Try to understand them,talk to them &amp;amp; help them in taking medical help and letting them come out from this condition.</td>\n",
       "      <td>1</td>\n",
       "      <td>non-depressed</td>\n",
       "    </tr>\n",
       "    <tr>\n",
       "      <th>12</th>\n",
       "      <td>Lack of focus &amp;amp; vision will lead you to depression, low self esteem and living a mediocre life of scattered results 🕯🔦 • • You can’t become a professional Rugby player and a professional…  https://t.co/vsgKF4cI6U</td>\n",
       "      <td>1</td>\n",
       "      <td>non-depressed</td>\n",
       "    </tr>\n",
       "    <tr>\n",
       "      <th>14</th>\n",
       "      <td>Its mainly focused on helping shinji out of depression The player will be able to take shinji on dates to multiple places You can find the outfits scattered around and meet with people I am still writing most of the plot  I plan on making some cooking on it too</td>\n",
       "      <td>1</td>\n",
       "      <td>non-depressed</td>\n",
       "    </tr>\n",
       "    <tr>\n",
       "      <th>15</th>\n",
       "      <td>Omg I so did not want to workout today. I was overtired and I just wanted to sleep! I noticed how I was slowly slipping into depression and feeling overwhelmed with all the stuff going on everywhere that I've been…  https://t.co/nJLrVoaaQH</td>\n",
       "      <td>0</td>\n",
       "      <td>depressed</td>\n",
       "    </tr>\n",
       "    <tr>\n",
       "      <th>16</th>\n",
       "      <td>Jumping in randomly so I hope you don't mind. This happens/happened to me a lot. Despite missing a lot of sleep still having trouble getting to sleep. Part of it is being overtired and once you miss the optimal time to sleep your body is like fuck it the other is depression ❤️.</td>\n",
       "      <td>0</td>\n",
       "      <td>depressed</td>\n",
       "    </tr>\n",
       "    <tr>\n",
       "      <th>18</th>\n",
       "      <td>i'm overtired because i slept for eleven hours, dreaming of murders and fires, twinkle twinkle dying star, i find you quite afar... i call it self care, but it's really just isolation fueled by depression and my frustration...</td>\n",
       "      <td>0</td>\n",
       "      <td>depressed</td>\n",
       "    </tr>\n",
       "    <tr>\n",
       "      <th>19</th>\n",
       "      <td>I'm so sorry. I cry when I'm overtired. I've read that when people are sleep deprived they start to get symptoms of Fibromyalgia, which I have and believe is very much related to lack of restorative/delta wave sleep. Aches, pain, fatigue, depression, exhaustion, etc. :(</td>\n",
       "      <td>0</td>\n",
       "      <td>depressed</td>\n",
       "    </tr>\n",
       "    <tr>\n",
       "      <th>20</th>\n",
       "      <td>I get 4-15 hours depending. 4-6 is enough to function. 7-10 is full restful usually. 11-15 I'm either hella rested or overtired.  Part of my much sleep is bad sleep and depression. But also I really enjoy dreams. I have very detailed dreams usually. Recall can be an issue.</td>\n",
       "      <td>0</td>\n",
       "      <td>depressed</td>\n",
       "    </tr>\n",
       "    <tr>\n",
       "      <th>21</th>\n",
       "      <td>I had terrible Sunday night depression until I was 20-25. For some reason it’s gone now; but there are odd things that seem to help: tv on (not music); good lighting (not too dim and definitely not cool light); and try to never be overtired...</td>\n",
       "      <td>0</td>\n",
       "      <td>depressed</td>\n",
       "    </tr>\n",
       "    <tr>\n",
       "      <th>22</th>\n",
       "      <td>Another night of ‘Am I crying because?’ A. The raw pain of being so unhappy all the time. B. My Depression. C. I’m overtired. D. All of the above.</td>\n",
       "      <td>0</td>\n",
       "      <td>depressed</td>\n",
       "    </tr>\n",
       "    <tr>\n",
       "      <th>23</th>\n",
       "      <td>Just found copy of a letter to my 82 yr old uncle’s GP from consultant. U was low spirited and ataxic. Recommend referral to psychiatrist to treat ‘endogenous depression with ECT’   Letter from 1993 Vancouver Dr but really?</td>\n",
       "      <td>1</td>\n",
       "      <td>non-depressed</td>\n",
       "    </tr>\n",
       "    <tr>\n",
       "      <th>24</th>\n",
       "      <td>Yup.  I have really down cycles w/ more typical depression symptoms. But I also experience it as feeling generally hopefully, but w/ brain fog, scattered energy, struggling to focus.</td>\n",
       "      <td>0</td>\n",
       "      <td>depressed</td>\n",
       "    </tr>\n",
       "    <tr>\n",
       "      <th>26</th>\n",
       "      <td>Postpartum  can have several causes. As a first-time mom it can be hard to tell what the signs are. You may think that these feelings are a normal part of being a new mom. You might think that you're overtired and that in time the feelings might pass. (1/3) 👇</td>\n",
       "      <td>1</td>\n",
       "      <td>non-depressed</td>\n",
       "    </tr>\n",
       "    <tr>\n",
       "      <th>27</th>\n",
       "      <td>I think the issue tends to be that many women suffer frm underlying postpartum depression on different spectrums that goes undiagnosed which on top of just havin a baby, both parents are OVERtired and overall stressed. All of those factors combined definitely tests a relationship</td>\n",
       "      <td>1</td>\n",
       "      <td>non-depressed</td>\n",
       "    </tr>\n",
       "    <tr>\n",
       "      <th>28</th>\n",
       "      <td>Tropical Depression 19  spinning just SE of Miami with 35mph winds. May be able to strengthen 4mph to named Tropical Storm status but breezy &amp;amp; heavy scattered rains the main focus for South FL. Likely strengthens in the Gulf.  11Sept20 7pEDT  https://t.co/HaPXxSp8u5</td>\n",
       "      <td>1</td>\n",
       "      <td>non-depressed</td>\n",
       "    </tr>\n",
       "    <tr>\n",
       "      <th>29</th>\n",
       "      <td>overall i'm just getting to the \"overtired\" level and depression is rearing its ugly head and Iida helps. lol. (As does Kakashi :') )</td>\n",
       "      <td>0</td>\n",
       "      <td>depressed</td>\n",
       "    </tr>\n",
       "    <tr>\n",
       "      <th>30</th>\n",
       "      <td>Lrt that’s me showing up to lukes place after (hopefully) dragging myself out of bed early to get photo editing done before goin over. But it’s 1:20am and im STILL AWAKE LMFAOOOO but depression Bad so if I’m super overtired I’ll be too tired to eb sad 😎😎😎 checkmate</td>\n",
       "      <td>0</td>\n",
       "      <td>depressed</td>\n",
       "    </tr>\n",
       "    <tr>\n",
       "      <th>32</th>\n",
       "      <td>This next part of my story talks about scattered focus and anxiety. Next one talks about depression and becoming one with your craft. Should I make one album to reflect all this or break into two? 🤔</td>\n",
       "      <td>1</td>\n",
       "      <td>non-depressed</td>\n",
       "    </tr>\n",
       "    <tr>\n",
       "      <th>33</th>\n",
       "      <td>Being overtired all the time is a symptom of depression that I’ve gone through myself. If it’s at the point you’re saying something like this, a doctor or therapist can help a ton. It did for me. Message me if you need to talk.</td>\n",
       "      <td>1</td>\n",
       "      <td>non-depressed</td>\n",
       "    </tr>\n",
       "    <tr>\n",
       "      <th>34</th>\n",
       "      <td>so many ppl have followed me in the past week or so probably thanks to raye ❤️ sorry i haven't been posting a lot, this hellscape doesn't help my depression &amp;amp; my thoughts have been very scattered recently. i want to focus on more rf threads in the future so bare with me!</td>\n",
       "      <td>0</td>\n",
       "      <td>depressed</td>\n",
       "    </tr>\n",
       "    <tr>\n",
       "      <th>36</th>\n",
       "      <td>Despite this awful day trying to play sleep catch up with a horribly overtired baby and my spouse's depression flaring up again, I got over 2200 words written in NaNo. I've never had words fly out of my fingers this fast or this easy. I'm honestly shocked - but happy!</td>\n",
       "      <td>1</td>\n",
       "      <td>non-depressed</td>\n",
       "    </tr>\n",
       "    <tr>\n",
       "      <th>37</th>\n",
       "      <td>Oh yes depression probably has a lot to do with it too.. uhh... I usually look around and look at items/people and what they remind me of or color the item is. When I’m really overtired I get unfairly loony tho haha all giggly and just outright weird</td>\n",
       "      <td>0</td>\n",
       "      <td>depressed</td>\n",
       "    </tr>\n",
       "    <tr>\n",
       "      <th>38</th>\n",
       "      <td>No matter who you are a millionaire , an entrepreneur, doctor , employee home maker or a student .. you may feel &amp;amp; low spirited.. it’s ok not to be ok      https://t.co/qfDn7GZ06G  https://t.co/gphCm1NrNB</td>\n",
       "      <td>1</td>\n",
       "      <td>non-depressed</td>\n",
       "    </tr>\n",
       "    <tr>\n",
       "      <th>40</th>\n",
       "      <td>Idk i know im just overtired but this whole major depression every time i have any kind of painflare is beans and i dont like it  I try to deal with what im dealt but i cant help but be upset at how unfair life is sometimes</td>\n",
       "      <td>0</td>\n",
       "      <td>depressed</td>\n",
       "    </tr>\n",
       "    <tr>\n",
       "      <th>41</th>\n",
       "      <td>Our Precious Snow Flower I can't express the word about the affection I focus on you. You saved my scattered life with your songs. You saved me from depression and loneliness. Snow Flower  is the trademark of your love on ARMY.I feel it.  https://t.co/ny5W96bNpK</td>\n",
       "      <td>1</td>\n",
       "      <td>non-depressed</td>\n",
       "    </tr>\n",
       "    <tr>\n",
       "      <th>42</th>\n",
       "      <td>I have a headache and I'm overtired and I can't tell if it's depression, my period, burnout or my body fighting this infection.... or maybe this is just my normal state of being now, what is life</td>\n",
       "      <td>1</td>\n",
       "      <td>non-depressed</td>\n",
       "    </tr>\n",
       "    <tr>\n",
       "      <th>43</th>\n",
       "      <td>situation like being raped, human trafficking, murdered etc. That being said I'm just living a normal teenage life by turning 20 this year. Not knowing what is \"depression\" , \"low self esteem\" , \"free spirited\" feels like... Other are facing A LOT MORE BULLSHIT THAN ME!!!!!!!!!!!</td>\n",
       "      <td>1</td>\n",
       "      <td>non-depressed</td>\n",
       "    </tr>\n",
       "    <tr>\n",
       "      <th>44</th>\n",
       "      <td>I want to have my natural painkiller and antidepressant back, so I can stop being in pain, immobile, and depressed.</td>\n",
       "      <td>0</td>\n",
       "      <td>depressed</td>\n",
       "    </tr>\n",
       "    <tr>\n",
       "      <th>45</th>\n",
       "      <td>What you just described here sounds like depression. What you've described below with the change in your sleep pattern could be lack of sleep and being overtired which can often be a trigger for depression. Perhaps try a bit of St John's Wort tea as a bit of a pick me up?</td>\n",
       "      <td>1</td>\n",
       "      <td>non-depressed</td>\n",
       "    </tr>\n",
       "    <tr>\n",
       "      <th>46</th>\n",
       "      <td>Thank u.  I've got dysmythia depression anyway so I'm used to it but now I'm all over the place.   I do have a goal each day. I completed my goal for today which was trouser repair.  I've done the mangoes now.  Is anyone struggling with being overtired in this lockdown?</td>\n",
       "      <td>0</td>\n",
       "      <td>depressed</td>\n",
       "    </tr>\n",
       "    <tr>\n",
       "      <th>47</th>\n",
       "      <td>Been depressed and immobile for so long I've unlocked a new symptom, I can't focus on things farther than~30 feet. Sure hope that isn't permanent!</td>\n",
       "      <td>0</td>\n",
       "      <td>depressed</td>\n",
       "    </tr>\n",
       "    <tr>\n",
       "      <th>48</th>\n",
       "      <td>I will never understand how people have such a lack of empathy. Maybe it is just me, but it is so saddening to hear people be so cruel. - Overtired after work thoughts battling through depression</td>\n",
       "      <td>1</td>\n",
       "      <td>non-depressed</td>\n",
       "    </tr>\n",
       "    <tr>\n",
       "      <th>50</th>\n",
       "      <td>I rlly take 225mg of Effexor every day  just so that I can still feel depressed as fuck and be an immobile lump, I’m just not actively planning out sewerside attempts in my head 🥰</td>\n",
       "      <td>0</td>\n",
       "      <td>depressed</td>\n",
       "    </tr>\n",
       "    <tr>\n",
       "      <th>51</th>\n",
       "      <td>Depressed and immobile me: ok but how can we make this better?  *drinks monster iced tea* Me: *same but energized, depressed, and immobile* 🙃🙃🙃</td>\n",
       "      <td>0</td>\n",
       "      <td>depressed</td>\n",
       "    </tr>\n",
       "    <tr>\n",
       "      <th>54</th>\n",
       "      <td>1 year ago I was depressed af and damn near immobile but I was still strolling the streets of England and eating delicious food.   😢 I miss traveling. I miss my body being strong and well enough to chase my kid around a park. I miss picking up 50p donuts at the co-op at the</td>\n",
       "      <td>0</td>\n",
       "      <td>depressed</td>\n",
       "    </tr>\n",
       "    <tr>\n",
       "      <th>55</th>\n",
       "      <td>tbh i find the whole “yr worth is dependent on yr productivity” bit useless personally, like i hate being full of ideas but not using them, i hate not having a productive channel. it’s not what defines my self-worth, but i don’t feel good about being depressed and immobile either</td>\n",
       "      <td>0</td>\n",
       "      <td>depressed</td>\n",
       "    </tr>\n",
       "    <tr>\n",
       "      <th>56</th>\n",
       "      <td>High levels of exhaustion mess with your head big time. Like you can have the best day but if you're overtired, depression just runs into the room like \"HEEEEEEEEEEEEY also you suck!\"  Like we get it, I'm depressed, do you have the sh*t on every parade? 🙄</td>\n",
       "      <td>0</td>\n",
       "      <td>depressed</td>\n",
       "    </tr>\n",
       "    <tr>\n",
       "      <th>57</th>\n",
       "      <td>Me? Depressed? I’m the furthest thing from depressed. Could a depressed person wake up in the mornings and feel the deep vast existential dread that renders me immobile on the days in which I have to go to school?</td>\n",
       "      <td>0</td>\n",
       "      <td>depressed</td>\n",
       "    </tr>\n",
       "    <tr>\n",
       "      <th>58</th>\n",
       "      <td>haha 70/30 chance I’m living in my parents basement next fall, immobile depressed and medically helpless   i wanna die🥲🙃</td>\n",
       "      <td>0</td>\n",
       "      <td>depressed</td>\n",
       "    </tr>\n",
       "    <tr>\n",
       "      <th>59</th>\n",
       "      <td>You can do it-stay strong! My depression and anxiety are getting the best of me this week-feeling very down and out of it...I know I have a s*** load of stuff going on, and I’m overtired too...I feel defeated, but I won’t give up, and neither should you 🙏🏻</td>\n",
       "      <td>0</td>\n",
       "      <td>depressed</td>\n",
       "    </tr>\n",
       "    <tr>\n",
       "      <th>60</th>\n",
       "      <td>Today has been a challenging and sad day which always amplifies depression and anxiety. My thoughts have felt very scattered today but I’m hoping a good night’s sleep will help cure the blues and allow for a little more focus tomorrow.</td>\n",
       "      <td>1</td>\n",
       "      <td>non-depressed</td>\n",
       "    </tr>\n",
       "    <tr>\n",
       "      <th>61</th>\n",
       "      <td>I'm great supporter of  but completely out of question for people severely depressed enough for ECT- they're some combination of unable to think clearly/immobile/jumping out of skin agitated/numb/sleepless/emaciated/delusional.</td>\n",
       "      <td>1</td>\n",
       "      <td>non-depressed</td>\n",
       "    </tr>\n",
       "    <tr>\n",
       "      <th>62</th>\n",
       "      <td>I haven't felt this feeling in almost a year--the absolute dread of waking up, that anxious-depression of being overtired and not having enough sleep.  I've enjoyed waking up and not having to go anywhere. But I feel the despair of reality setting back in, little by little.  https://t.co/9bHbbNi3wb</td>\n",
       "      <td>0</td>\n",
       "      <td>depressed</td>\n",
       "    </tr>\n",
       "    <tr>\n",
       "      <th>64</th>\n",
       "      <td>I am floored that my food allergy test came back all negative today. It must be the gluten. I literally have to reintroduce wheat and gluten into my diet to be tested adequately but I know it’s gonna make me so immobile n depressed 😭 at least I’ll know tho</td>\n",
       "      <td>1</td>\n",
       "      <td>non-depressed</td>\n",
       "    </tr>\n",
       "    <tr>\n",
       "      <th>65</th>\n",
       "      <td>burnout can affect autistic people in all kinds of ways (again with the spectrum). some of these include becoming depressed, immobile, non-speaking for a period of time, or even just serious fatigue.</td>\n",
       "      <td>1</td>\n",
       "      <td>non-depressed</td>\n",
       "    </tr>\n",
       "    <tr>\n",
       "      <th>66</th>\n",
       "      <td>be so isolated. A week is all I need to be disgusted with the depressed me, but imagine a person who has never felt that at all? I’m sorry but there is no way they will tolerate my depressed self and the self destruction I partake in</td>\n",
       "      <td>0</td>\n",
       "      <td>depressed</td>\n",
       "    </tr>\n",
       "    <tr>\n",
       "      <th>67</th>\n",
       "      <td>It's just upsetting that people in your home gets mad at u for being unproductive, yeah ok fine I'm depressed and trying not to self destruct while you're here triggering my emotional stability... Yeah I guess self destruction is the best way to die</td>\n",
       "      <td>0</td>\n",
       "      <td>depressed</td>\n",
       "    </tr>\n",
       "    <tr>\n",
       "      <th>69</th>\n",
       "      <td>me: I mentally and physically need a break from dance. I am so burnt out and my back needs to heal.  also me, after 2 days of cancelled classes &amp;amp; rehearsals: *depressed and immobile in bed unable to do the lightest schoolwork, back hurts even more from not moving*</td>\n",
       "      <td>0</td>\n",
       "      <td>depressed</td>\n",
       "    </tr>\n",
       "    <tr>\n",
       "      <th>70</th>\n",
       "      <td>Good thing about me being immobile this last month is that I lost weight bc I was depressed and can’t really cook lmao love that tho</td>\n",
       "      <td>0</td>\n",
       "      <td>depressed</td>\n",
       "    </tr>\n",
       "    <tr>\n",
       "      <th>71</th>\n",
       "      <td>my 600lb life is kind of sad, the daughter of this one immobile woman had scars on her wrists and the woman was so depressed</td>\n",
       "      <td>0</td>\n",
       "      <td>depressed</td>\n",
       "    </tr>\n",
       "    <tr>\n",
       "      <th>72</th>\n",
       "      <td>I broke my ankle so I was using all the immobile time to be depressed about it.  'cept today.  Today, and all future immobile days, I'll rebuild my stream/brand until it's something I'm passionate about again.</td>\n",
       "      <td>1</td>\n",
       "      <td>non-depressed</td>\n",
       "    </tr>\n",
       "    <tr>\n",
       "      <th>73</th>\n",
       "      <td>if he doesn’t sound depressed and on the edge of self destruction I DONT WANT IT hffjggn</td>\n",
       "      <td>1</td>\n",
       "      <td>non-depressed</td>\n",
       "    </tr>\n",
       "    <tr>\n",
       "      <th>74</th>\n",
       "      <td>I hate the cycle of self destruction that dysphoria brings on.  Haven’t shaved in a few days, now I’m too depressed to do anything, now I haven’t shaved in a couple weeks, and now I’m way too depressed to do anything, and now I haven’t shaved in a month, and now I just wanna die.</td>\n",
       "      <td>0</td>\n",
       "      <td>depressed</td>\n",
       "    </tr>\n",
       "    <tr>\n",
       "      <th>75</th>\n",
       "      <td>i’m like why am i so depressed and immobile / doomscrolling? turns out when you forget to take your meds for five days (so you can drink and smoke weed every night) you feel like shit lol oopsies 😎</td>\n",
       "      <td>0</td>\n",
       "      <td>depressed</td>\n",
       "    </tr>\n",
       "    <tr>\n",
       "      <th>76</th>\n",
       "      <td>8 days ago I ran 5 miles and today I can’t do a lap around my studio apt. I’m isolated, immobile, depressed, scared, underweight, and in pain. But u know what? I just started a 24 hr horror movie marathon with shaved legs and a large pizza because I’m making today my little bitch</td>\n",
       "      <td>0</td>\n",
       "      <td>depressed</td>\n",
       "    </tr>\n",
       "    <tr>\n",
       "      <th>77</th>\n",
       "      <td>you’re depressed &amp;amp; miserable. i get it. but when your teeth are rotting in your mouth &amp;amp; you have a dentist bill you can’t afford you’ll feel worse. so, erase the shame around it, but also make sure you encourage ppl to take care of themselves, instead of praising self destruction</td>\n",
       "      <td>1</td>\n",
       "      <td>non-depressed</td>\n",
       "    </tr>\n",
       "    <tr>\n",
       "      <th>78</th>\n",
       "      <td>This movie should have been . A movie about the depressed immigrant bent on his self-destruction.  It would have been a classic.  Someone should redo all Imtiaz Ali Films. All except Jab We Met and Highway.   https://t.co/FRhsk3xONk</td>\n",
       "      <td>1</td>\n",
       "      <td>non-depressed</td>\n",
       "    </tr>\n",
       "    <tr>\n",
       "      <th>79</th>\n",
       "      <td>Many people (kids or adults) are suffering from depression right now. Some are fighting silently while others are overtired and wanna end their life. So be nice to all the people around you. They might be one of them.</td>\n",
       "      <td>1</td>\n",
       "      <td>non-depressed</td>\n",
       "    </tr>\n",
       "    <tr>\n",
       "      <th>81</th>\n",
       "      <td>Half of my tiktok fyp is Bojack horseman content and that makes me wanna rewatch it but like,,, I know it will make me so depressed that I will be immobile for months</td>\n",
       "      <td>1</td>\n",
       "      <td>non-depressed</td>\n",
       "    </tr>\n",
       "    <tr>\n",
       "      <th>82</th>\n",
       "      <td>I think Mickey would have still ended up in prison and depressed, but Linda was the catalyst for the final scenes. But if Linda had not been there, Mickey would probably have gone on a different path of self-destruction, as Sammy would still be a bad influence. (Fan perspective)</td>\n",
       "      <td>1</td>\n",
       "      <td>non-depressed</td>\n",
       "    </tr>\n",
       "    <tr>\n",
       "      <th>84</th>\n",
       "      <td>you mean depressed and overeating because his ties with epstein are being revealed</td>\n",
       "      <td>1</td>\n",
       "      <td>non-depressed</td>\n",
       "    </tr>\n",
       "    <tr>\n",
       "      <th>85</th>\n",
       "      <td>It started before I was diagnosed. I had so much anxiety worrying that I was lazy as I was getting sicker and sicker.  I had all these different problems and no real explanation.  I got sick or immobile over and over. I was and still am severely depressed.</td>\n",
       "      <td>0</td>\n",
       "      <td>depressed</td>\n",
       "    </tr>\n",
       "    <tr>\n",
       "      <th>86</th>\n",
       "      <td>olivia rodrigo’s album takes me back to when my ex dumped me. i have been reliving that heartbreak all over again. a pro of this is i’m on a level of depressed where i’m not overeating. i’m calling this the olivia rodrigo sour diet</td>\n",
       "      <td>0</td>\n",
       "      <td>depressed</td>\n",
       "    </tr>\n",
       "    <tr>\n",
       "      <th>88</th>\n",
       "      <td>It would be like going from waid's run to the next storyline: ah yeah, here we go again. I love that being depressed af and self-destruction are kind of the point of daredevils character, but let matt murdock &amp;amp; co be happy this one time, ffs.</td>\n",
       "      <td>1</td>\n",
       "      <td>non-depressed</td>\n",
       "    </tr>\n",
       "    <tr>\n",
       "      <th>89</th>\n",
       "      <td>Just a sad , depressed boy. Lost and confused. No direction. But I choose self destruction as it provides temporary happiness. And if that’s all I get in that moment, then it’s all I ask for. Sorry friends and family.</td>\n",
       "      <td>0</td>\n",
       "      <td>depressed</td>\n",
       "    </tr>\n",
       "    <tr>\n",
       "      <th>90</th>\n",
       "      <td>Blocked and unblocked people to force them to unfollow me. I do things like that because I'm a massive idiot. Emotionally disturbed. Failure, loser, reject, you name it. Depressed. Fits of rage. Fits of anxiety. Self destruction.</td>\n",
       "      <td>0</td>\n",
       "      <td>depressed</td>\n",
       "    </tr>\n",
       "    <tr>\n",
       "      <th>91</th>\n",
       "      <td>tbh im quite depressed all the time. i cry for no reason, have panic attack at least once per day, have nightmare every night and barely eat my food. either dont eat at all or overeating too much.</td>\n",
       "      <td>0</td>\n",
       "      <td>depressed</td>\n",
       "    </tr>\n",
       "    <tr>\n",
       "      <th>92</th>\n",
       "      <td>No one:  Absolutely no one:   My depressed ass: Urgh, life is pointless, nothing matters and I’m always tired. Also, I can’t sleep, I’m overeating and none of my old hobbies interest me.  https://t.co/2fMdaN9BxE</td>\n",
       "      <td>0</td>\n",
       "      <td>depressed</td>\n",
       "    </tr>\n",
       "    <tr>\n",
       "      <th>93</th>\n",
       "      <td>When I’m overtired my mental health ACTS UP and my family is visiting and I’m not getting any rest so my anxiety and my depression are running absolutely wild</td>\n",
       "      <td>0</td>\n",
       "      <td>depressed</td>\n",
       "    </tr>\n",
       "    <tr>\n",
       "      <th>94</th>\n",
       "      <td>Gary Barlow: Overeating makes me depressed  https://t.co/56r1VcToOg  https://t.co/xRCi7Xphy9</td>\n",
       "      <td>1</td>\n",
       "      <td>non-depressed</td>\n",
       "    </tr>\n",
       "    <tr>\n",
       "      <th>95</th>\n",
       "      <td>Gary Barlow: Overeating makes me depressed - Gary Barlow says overeating makes him feel \"depressed\".  The Take That star has battled with his weight in the past and has revealed that he avoids eating too many carbs and limits his alcohol intake to keep in shape. He told The Su...</td>\n",
       "      <td>1</td>\n",
       "      <td>non-depressed</td>\n",
       "    </tr>\n",
       "    <tr>\n",
       "      <th>97</th>\n",
       "      <td>Depressed bitch tweet incoming - - - - - - Hehe one trigger and ✨self destruction mode✨is activateddddddd, oh how I love my dad and the way he almost always manages to make me feel bad about myself and my life</td>\n",
       "      <td>0</td>\n",
       "      <td>depressed</td>\n",
       "    </tr>\n",
       "    <tr>\n",
       "      <th>98</th>\n",
       "      <td>Oh damn she's just playing a whole mid 2000s Playlist Can I teach that class instead?  Tomorrow my students are just going to get an overtired me with a birthday hat on playing a depression Playlist</td>\n",
       "      <td>1</td>\n",
       "      <td>non-depressed</td>\n",
       "    </tr>\n",
       "    <tr>\n",
       "      <th>99</th>\n",
       "      <td>am i overeating cause i’m depressed or am i depressed cause i’m overeating .....</td>\n",
       "      <td>0</td>\n",
       "      <td>depressed</td>\n",
       "    </tr>\n",
       "    <tr>\n",
       "      <th>100</th>\n",
       "      <td>I lost 40 lbs once I got away from my abusive ex-boyfriend. It was so much harder to lose weight with him bc I was so depressed and alternated between overeating and starving myself.</td>\n",
       "      <td>0</td>\n",
       "      <td>depressed</td>\n",
       "    </tr>\n",
       "    <tr>\n",
       "      <th>101</th>\n",
       "      <td>Yes, it expresses a desire for self-destruction. Thankfully I do slim down when I'm depressed, as everything tastes like cinder so why bother. Is your body beach ready?  https://t.co/wyFN6Hz3TH</td>\n",
       "      <td>0</td>\n",
       "      <td>depressed</td>\n",
       "    </tr>\n",
       "    <tr>\n",
       "      <th>103</th>\n",
       "      <td>men i think suck a dick and fuck themselves in ignroance acting depressed being fake using drugs and overdrinking &amp;amp; overeating and despise whtie becuase they arent acting whtie and dont use their breain to be whtie so they can be respected and be a man in life instead of ignroant</td>\n",
       "      <td>1</td>\n",
       "      <td>non-depressed</td>\n",
       "    </tr>\n",
       "    <tr>\n",
       "      <th>104</th>\n",
       "      <td>I haven’t spoken to my friends since they left. I’m depressed and dealing with this by overeating and isolating myself</td>\n",
       "      <td>0</td>\n",
       "      <td>depressed</td>\n",
       "    </tr>\n",
       "    <tr>\n",
       "      <th>105</th>\n",
       "      <td>went to bed at 5am for absolutely no valid reason but I have a feeling it was a way to ~indulge~ in self destruction bc i feel very fuckin depressed when I wake up late</td>\n",
       "      <td>0</td>\n",
       "      <td>depressed</td>\n",
       "    </tr>\n",
       "    <tr>\n",
       "      <th>107</th>\n",
       "      <td>I don’t mean to torment you or anything but hypothetically you could be super depressed often without at least me knowing  https://t.co/P3AGuTVOBZ</td>\n",
       "      <td>1</td>\n",
       "      <td>non-depressed</td>\n",
       "    </tr>\n",
       "    <tr>\n",
       "      <th>108</th>\n",
       "      <td>Nobody understands this kind of torment and daily pain that never goes way unless i get medicine and its making me so depressed when i cant.  :( why???</td>\n",
       "      <td>0</td>\n",
       "      <td>depressed</td>\n",
       "    </tr>\n",
       "    <tr>\n",
       "      <th>110</th>\n",
       "      <td>feeling like shit bcuz my depressed unmotivated ass has been overeating + not exercising for the last two days,,, like yesterday i can pretend was a 'metabolism day' but wtf am i doing in bed today  like i woke us at 12 and left my bed only to eat and shit</td>\n",
       "      <td>0</td>\n",
       "      <td>depressed</td>\n",
       "    </tr>\n",
       "    <tr>\n",
       "      <th>112</th>\n",
       "      <td>ngl being unmedicated and depressed was way more fun than being medicated and bipolar. i crave self-destruction.</td>\n",
       "      <td>0</td>\n",
       "      <td>depressed</td>\n",
       "    </tr>\n",
       "    <tr>\n",
       "      <th>113</th>\n",
       "      <td>Mikey: Having self destruction and went to total depressed after kenchin died  Also mikey: Still went depressed even kenchin alive  I really dont get it 😂😂</td>\n",
       "      <td>1</td>\n",
       "      <td>non-depressed</td>\n",
       "    </tr>\n",
       "    <tr>\n",
       "      <th>115</th>\n",
       "      <td>Coincidentally I'm reading Mindhunter and apparently men with mommy issues tend to become serial rapists and killers and the like. Men with daddy issues? Probably depressed anxious losers with self-destruction tendencies. No dice.</td>\n",
       "      <td>1</td>\n",
       "      <td>non-depressed</td>\n",
       "    </tr>\n",
       "    <tr>\n",
       "      <th>116</th>\n",
       "      <td>after Johnny Marr heard Morrissey's lyrics for \"Some Girls Are Bigger Than Others\" (great lyrics, I'd say), he \"spent two weeks ... locked in a room, sat immobile and depressed in the same chair, eating very little and suffering vomiting fits.\"</td>\n",
       "      <td>1</td>\n",
       "      <td>non-depressed</td>\n",
       "    </tr>\n",
       "    <tr>\n",
       "      <th>117</th>\n",
       "      <td>Sort of. 20 years ago I was depressed after being house-bound for 3 months following surgery. When back at work I closed my office door &amp;amp; didn't answer the phone all morning. Sat on a couch immobile til lunch. New job &amp;amp; meds helped me recover.</td>\n",
       "      <td>1</td>\n",
       "      <td>non-depressed</td>\n",
       "    </tr>\n",
       "    <tr>\n",
       "      <th>119</th>\n",
       "      <td>I feel this - I find myself becoming emotional and nearly immobile for hours after experiencing or observing unkindness/ unfairness/ cruelty - like I am deeply depressed or checked out.</td>\n",
       "      <td>0</td>\n",
       "      <td>depressed</td>\n",
       "    </tr>\n",
       "    <tr>\n",
       "      <th>122</th>\n",
       "      <td>That's exactly what I did my man  Following their advice I was a depressed, injured, immobile overweight late teen - before I figured it myself and never looked back - then started the mma 💪</td>\n",
       "      <td>1</td>\n",
       "      <td>non-depressed</td>\n",
       "    </tr>\n",
       "    <tr>\n",
       "      <th>123</th>\n",
       "      <td>76ERS- I FEEL FOR THE BEST FAN BASE IN PROFESSIONAL SPORTS, PHILLY FANS ARE LOYAL TO THE EXTENT OF SELF DESTRUCTION,DEPRESSED &amp;amp; LIGHTER IN THE POCKET! I KNOW U DONT WANT TO HEAR THIS BUT THERE WILL NEVER BE A CHAMPIONSHIP IN PHILLY WITH EMBIID,&amp;amp; SIMMONS ON THE SAME TEAM!!!!!</td>\n",
       "      <td>1</td>\n",
       "      <td>non-depressed</td>\n",
       "    </tr>\n",
       "    <tr>\n",
       "      <th>124</th>\n",
       "      <td>its a gamble between eating maintenance cals, being too depressed to eat, and overeating :/ and i cant even care enough to Try to restrict lower when theres sm other shit going on in my life</td>\n",
       "      <td>0</td>\n",
       "      <td>depressed</td>\n",
       "    </tr>\n",
       "  </tbody>\n",
       "</table>\n",
       "</div>"
      ],
      "text/plain": [
       "                                                                                                                                                                                                                                                                                                           tweet  \\\n",
       "1                                                                                                                                                                                  . Yeah, I can see that. My stuff is not depression tho, it's scattered focus, hard to concentrate for long or medium periods.   \n",
       "2                                                                                                                                                                                                           My focus has been scattered lately between different games, work/lack of work, dog, depression, etc.   \n",
       "3                                                                                                                                                                                    I don't always think it equals depression, though; I think it sometimes shows one's focus has become cluttered or scattered   \n",
       "4                                                                                                                                                                     That show was ghastly! It had such an air of washed-out desolation, I think it taught me what depression is. Also: fish falling off cliffs   \n",
       "5                                                                                                                          Am unsure where begin. My focus is scattered. Staying in this state feels unacceptable &amp; like a slippery slope towards depression. I’d rather not. So, 2018, let’s make it count.   \n",
       "6                               Stress &amp; anxiety had me withdrawn from the people I most love. My dreams scattered and I was hopeless. My focus had shifted totally. Only focused on my failures &amp; how I'm valueless, amounted to nothing ... Suffered severely from depression  https://t.co/wswiSsqDbC   \n",
       "8                                      My kids say this to me now, after 12yrs of , but they're remembering the downtrodden, shy, single but coping mother of children who had low self-worth &amp; lacked confidence in herself, before her breakthrough into authentic spirited self! They don't recognise me💞   \n",
       "9                                                                         Help me figure out the truth behind this.  Depression hit you harder ... 1- If you are originally a happy go lucky person                      Than 2- If you are originally a low spirited person  Like for 1           Retweet for 2   \n",
       "10                                                                                                                                  I love this poem, but it's the title that rings in my head whenever my focus is scattered by depression, anxiety, stress—the darknesses that haunt.  https://t.co/faqAL4ms6x   \n",
       "11              If you find some lively &amp; energetic person suddenly converting in gloomy,sad,depressed,low spirited.just observe them.He or she might be suffering from depression.Try to understand them,talk to them &amp; help them in taking medical help and letting them come out from this condition.   \n",
       "12                                                                                      Lack of focus &amp; vision will lead you to depression, low self esteem and living a mediocre life of scattered results 🕯🔦 • • You can’t become a professional Rugby player and a professional…  https://t.co/vsgKF4cI6U   \n",
       "14                                         Its mainly focused on helping shinji out of depression The player will be able to take shinji on dates to multiple places You can find the outfits scattered around and meet with people I am still writing most of the plot  I plan on making some cooking on it too   \n",
       "15                                                               Omg I so did not want to workout today. I was overtired and I just wanted to sleep! I noticed how I was slowly slipping into depression and feeling overwhelmed with all the stuff going on everywhere that I've been…  https://t.co/nJLrVoaaQH   \n",
       "16                        Jumping in randomly so I hope you don't mind. This happens/happened to me a lot. Despite missing a lot of sleep still having trouble getting to sleep. Part of it is being overtired and once you miss the optimal time to sleep your body is like fuck it the other is depression ❤️.   \n",
       "18                                                                            i'm overtired because i slept for eleven hours, dreaming of murders and fires, twinkle twinkle dying star, i find you quite afar... i call it self care, but it's really just isolation fueled by depression and my frustration...   \n",
       "19                                I'm so sorry. I cry when I'm overtired. I've read that when people are sleep deprived they start to get symptoms of Fibromyalgia, which I have and believe is very much related to lack of restorative/delta wave sleep. Aches, pain, fatigue, depression, exhaustion, etc. :(   \n",
       "20                             I get 4-15 hours depending. 4-6 is enough to function. 7-10 is full restful usually. 11-15 I'm either hella rested or overtired.  Part of my much sleep is bad sleep and depression. But also I really enjoy dreams. I have very detailed dreams usually. Recall can be an issue.   \n",
       "21                                                           I had terrible Sunday night depression until I was 20-25. For some reason it’s gone now; but there are odd things that seem to help: tv on (not music); good lighting (not too dim and definitely not cool light); and try to never be overtired...   \n",
       "22                                                                                                                                                            Another night of ‘Am I crying because?’ A. The raw pain of being so unhappy all the time. B. My Depression. C. I’m overtired. D. All of the above.   \n",
       "23                                                                               Just found copy of a letter to my 82 yr old uncle’s GP from consultant. U was low spirited and ataxic. Recommend referral to psychiatrist to treat ‘endogenous depression with ECT’   Letter from 1993 Vancouver Dr but really?   \n",
       "24                                                                                                                        Yup.  I have really down cycles w/ more typical depression symptoms. But I also experience it as feeling generally hopefully, but w/ brain fog, scattered energy, struggling to focus.   \n",
       "26                                           Postpartum  can have several causes. As a first-time mom it can be hard to tell what the signs are. You may think that these feelings are a normal part of being a new mom. You might think that you're overtired and that in time the feelings might pass. (1/3) 👇   \n",
       "27                      I think the issue tends to be that many women suffer frm underlying postpartum depression on different spectrums that goes undiagnosed which on top of just havin a baby, both parents are OVERtired and overall stressed. All of those factors combined definitely tests a relationship   \n",
       "28                                Tropical Depression 19  spinning just SE of Miami with 35mph winds. May be able to strengthen 4mph to named Tropical Storm status but breezy &amp; heavy scattered rains the main focus for South FL. Likely strengthens in the Gulf.  11Sept20 7pEDT  https://t.co/HaPXxSp8u5   \n",
       "29                                                                                                                                                                         overall i'm just getting to the \"overtired\" level and depression is rearing its ugly head and Iida helps. lol. (As does Kakashi :') )   \n",
       "30                                     Lrt that’s me showing up to lukes place after (hopefully) dragging myself out of bed early to get photo editing done before goin over. But it’s 1:20am and im STILL AWAKE LMFAOOOO but depression Bad so if I’m super overtired I’ll be too tired to eb sad 😎😎😎 checkmate   \n",
       "32                                                                                                        This next part of my story talks about scattered focus and anxiety. Next one talks about depression and becoming one with your craft. Should I make one album to reflect all this or break into two? 🤔   \n",
       "33                                                                           Being overtired all the time is a symptom of depression that I’ve gone through myself. If it’s at the point you’re saying something like this, a doctor or therapist can help a ton. It did for me. Message me if you need to talk.   \n",
       "34                           so many ppl have followed me in the past week or so probably thanks to raye ❤️ sorry i haven't been posting a lot, this hellscape doesn't help my depression &amp; my thoughts have been very scattered recently. i want to focus on more rf threads in the future so bare with me!   \n",
       "36                                  Despite this awful day trying to play sleep catch up with a horribly overtired baby and my spouse's depression flaring up again, I got over 2200 words written in NaNo. I've never had words fly out of my fingers this fast or this easy. I'm honestly shocked - but happy!   \n",
       "37                                                    Oh yes depression probably has a lot to do with it too.. uhh... I usually look around and look at items/people and what they remind me of or color the item is. When I’m really overtired I get unfairly loony tho haha all giggly and just outright weird   \n",
       "38                                                                                              No matter who you are a millionaire , an entrepreneur, doctor , employee home maker or a student .. you may feel &amp; low spirited.. it’s ok not to be ok      https://t.co/qfDn7GZ06G  https://t.co/gphCm1NrNB   \n",
       "40                                                                               Idk i know im just overtired but this whole major depression every time i have any kind of painflare is beans and i dont like it  I try to deal with what im dealt but i cant help but be upset at how unfair life is sometimes   \n",
       "41                                        Our Precious Snow Flower I can't express the word about the affection I focus on you. You saved my scattered life with your songs. You saved me from depression and loneliness. Snow Flower  is the trademark of your love on ARMY.I feel it.  https://t.co/ny5W96bNpK   \n",
       "42                                                                                                           I have a headache and I'm overtired and I can't tell if it's depression, my period, burnout or my body fighting this infection.... or maybe this is just my normal state of being now, what is life   \n",
       "43                      situation like being raped, human trafficking, murdered etc. That being said I'm just living a normal teenage life by turning 20 this year. Not knowing what is \"depression\" , \"low self esteem\" , \"free spirited\" feels like... Other are facing A LOT MORE BULLSHIT THAN ME!!!!!!!!!!!   \n",
       "44                                                                                                                                                                                           I want to have my natural painkiller and antidepressant back, so I can stop being in pain, immobile, and depressed.   \n",
       "45                              What you just described here sounds like depression. What you've described below with the change in your sleep pattern could be lack of sleep and being overtired which can often be a trigger for depression. Perhaps try a bit of St John's Wort tea as a bit of a pick me up?   \n",
       "46                                Thank u.  I've got dysmythia depression anyway so I'm used to it but now I'm all over the place.   I do have a goal each day. I completed my goal for today which was trouser repair.  I've done the mangoes now.  Is anyone struggling with being overtired in this lockdown?   \n",
       "47                                                                                                                                                            Been depressed and immobile for so long I've unlocked a new symptom, I can't focus on things farther than~30 feet. Sure hope that isn't permanent!   \n",
       "48                                                                                                           I will never understand how people have such a lack of empathy. Maybe it is just me, but it is so saddening to hear people be so cruel. - Overtired after work thoughts battling through depression   \n",
       "50                                                                                                                           I rlly take 225mg of Effexor every day  just so that I can still feel depressed as fuck and be an immobile lump, I’m just not actively planning out sewerside attempts in my head 🥰   \n",
       "51                                                                                                                                                               Depressed and immobile me: ok but how can we make this better?  *drinks monster iced tea* Me: *same but energized, depressed, and immobile* 🙃🙃🙃   \n",
       "54                            1 year ago I was depressed af and damn near immobile but I was still strolling the streets of England and eating delicious food.   😢 I miss traveling. I miss my body being strong and well enough to chase my kid around a park. I miss picking up 50p donuts at the co-op at the   \n",
       "55                      tbh i find the whole “yr worth is dependent on yr productivity” bit useless personally, like i hate being full of ideas but not using them, i hate not having a productive channel. it’s not what defines my self-worth, but i don’t feel good about being depressed and immobile either   \n",
       "56                                               High levels of exhaustion mess with your head big time. Like you can have the best day but if you're overtired, depression just runs into the room like \"HEEEEEEEEEEEEY also you suck!\"  Like we get it, I'm depressed, do you have the sh*t on every parade? 🙄   \n",
       "57                                                                                         Me? Depressed? I’m the furthest thing from depressed. Could a depressed person wake up in the mornings and feel the deep vast existential dread that renders me immobile on the days in which I have to go to school?   \n",
       "58                                                                                                                                                                                      haha 70/30 chance I’m living in my parents basement next fall, immobile depressed and medically helpless   i wanna die🥲🙃   \n",
       "59                                              You can do it-stay strong! My depression and anxiety are getting the best of me this week-feeling very down and out of it...I know I have a s*** load of stuff going on, and I’m overtired too...I feel defeated, but I won’t give up, and neither should you 🙏🏻   \n",
       "60                                                                   Today has been a challenging and sad day which always amplifies depression and anxiety. My thoughts have felt very scattered today but I’m hoping a good night’s sleep will help cure the blues and allow for a little more focus tomorrow.   \n",
       "61                                                                           I'm great supporter of  but completely out of question for people severely depressed enough for ECT- they're some combination of unable to think clearly/immobile/jumping out of skin agitated/numb/sleepless/emaciated/delusional.   \n",
       "62   I haven't felt this feeling in almost a year--the absolute dread of waking up, that anxious-depression of being overtired and not having enough sleep.  I've enjoyed waking up and not having to go anywhere. But I feel the despair of reality setting back in, little by little.  https://t.co/9bHbbNi3wb   \n",
       "64                                              I am floored that my food allergy test came back all negative today. It must be the gluten. I literally have to reintroduce wheat and gluten into my diet to be tested adequately but I know it’s gonna make me so immobile n depressed 😭 at least I’ll know tho   \n",
       "65                                                                                                       burnout can affect autistic people in all kinds of ways (again with the spectrum). some of these include becoming depressed, immobile, non-speaking for a period of time, or even just serious fatigue.   \n",
       "66                                                                     be so isolated. A week is all I need to be disgusted with the depressed me, but imagine a person who has never felt that at all? I’m sorry but there is no way they will tolerate my depressed self and the self destruction I partake in   \n",
       "67                                                     It's just upsetting that people in your home gets mad at u for being unproductive, yeah ok fine I'm depressed and trying not to self destruct while you're here triggering my emotional stability... Yeah I guess self destruction is the best way to die   \n",
       "69                                  me: I mentally and physically need a break from dance. I am so burnt out and my back needs to heal.  also me, after 2 days of cancelled classes &amp; rehearsals: *depressed and immobile in bed unable to do the lightest schoolwork, back hurts even more from not moving*   \n",
       "70                                                                                                                                                                          Good thing about me being immobile this last month is that I lost weight bc I was depressed and can’t really cook lmao love that tho   \n",
       "71                                                                                                                                                                                  my 600lb life is kind of sad, the daughter of this one immobile woman had scars on her wrists and the woman was so depressed   \n",
       "72                                                                                             I broke my ankle so I was using all the immobile time to be depressed about it.  'cept today.  Today, and all future immobile days, I'll rebuild my stream/brand until it's something I'm passionate about again.   \n",
       "73                                                                                                                                                                                                                      if he doesn’t sound depressed and on the edge of self destruction I DONT WANT IT hffjggn   \n",
       "74                      I hate the cycle of self destruction that dysphoria brings on.  Haven’t shaved in a few days, now I’m too depressed to do anything, now I haven’t shaved in a couple weeks, and now I’m way too depressed to do anything, and now I haven’t shaved in a month, and now I just wanna die.   \n",
       "75                                                                                                         i’m like why am i so depressed and immobile / doomscrolling? turns out when you forget to take your meds for five days (so you can drink and smoke weed every night) you feel like shit lol oopsies 😎   \n",
       "76                      8 days ago I ran 5 miles and today I can’t do a lap around my studio apt. I’m isolated, immobile, depressed, scared, underweight, and in pain. But u know what? I just started a 24 hr horror movie marathon with shaved legs and a large pizza because I’m making today my little bitch   \n",
       "77              you’re depressed &amp; miserable. i get it. but when your teeth are rotting in your mouth &amp; you have a dentist bill you can’t afford you’ll feel worse. so, erase the shame around it, but also make sure you encourage ppl to take care of themselves, instead of praising self destruction   \n",
       "78                                                                      This movie should have been . A movie about the depressed immigrant bent on his self-destruction.  It would have been a classic.  Someone should redo all Imtiaz Ali Films. All except Jab We Met and Highway.   https://t.co/FRhsk3xONk   \n",
       "79                                                                                     Many people (kids or adults) are suffering from depression right now. Some are fighting silently while others are overtired and wanna end their life. So be nice to all the people around you. They might be one of them.   \n",
       "81                                                                                                                                        Half of my tiktok fyp is Bojack horseman content and that makes me wanna rewatch it but like,,, I know it will make me so depressed that I will be immobile for months   \n",
       "82                       I think Mickey would have still ended up in prison and depressed, but Linda was the catalyst for the final scenes. But if Linda had not been there, Mickey would probably have gone on a different path of self-destruction, as Sammy would still be a bad influence. (Fan perspective)   \n",
       "84                                                                                                                                                                                                                            you mean depressed and overeating because his ties with epstein are being revealed   \n",
       "85                                              It started before I was diagnosed. I had so much anxiety worrying that I was lazy as I was getting sicker and sicker.  I had all these different problems and no real explanation.  I got sick or immobile over and over. I was and still am severely depressed.   \n",
       "86                                                                       olivia rodrigo’s album takes me back to when my ex dumped me. i have been reliving that heartbreak all over again. a pro of this is i’m on a level of depressed where i’m not overeating. i’m calling this the olivia rodrigo sour diet   \n",
       "88                                                        It would be like going from waid's run to the next storyline: ah yeah, here we go again. I love that being depressed af and self-destruction are kind of the point of daredevils character, but let matt murdock &amp; co be happy this one time, ffs.   \n",
       "89                                                                                     Just a sad , depressed boy. Lost and confused. No direction. But I choose self destruction as it provides temporary happiness. And if that’s all I get in that moment, then it’s all I ask for. Sorry friends and family.   \n",
       "90                                                                         Blocked and unblocked people to force them to unfollow me. I do things like that because I'm a massive idiot. Emotionally disturbed. Failure, loser, reject, you name it. Depressed. Fits of rage. Fits of anxiety. Self destruction.   \n",
       "91                                                                                                          tbh im quite depressed all the time. i cry for no reason, have panic attack at least once per day, have nightmare every night and barely eat my food. either dont eat at all or overeating too much.   \n",
       "92                                                                                           No one:  Absolutely no one:   My depressed ass: Urgh, life is pointless, nothing matters and I’m always tired. Also, I can’t sleep, I’m overeating and none of my old hobbies interest me.  https://t.co/2fMdaN9BxE   \n",
       "93                                                                                                                                                When I’m overtired my mental health ACTS UP and my family is visiting and I’m not getting any rest so my anxiety and my depression are running absolutely wild   \n",
       "94                                                                                                                                                                                                                  Gary Barlow: Overeating makes me depressed  https://t.co/56r1VcToOg  https://t.co/xRCi7Xphy9   \n",
       "95                      Gary Barlow: Overeating makes me depressed - Gary Barlow says overeating makes him feel \"depressed\".  The Take That star has battled with his weight in the past and has revealed that he avoids eating too many carbs and limits his alcohol intake to keep in shape. He told The Su...   \n",
       "97                                                                                             Depressed bitch tweet incoming - - - - - - Hehe one trigger and ✨self destruction mode✨is activateddddddd, oh how I love my dad and the way he almost always manages to make me feel bad about myself and my life   \n",
       "98                                                                                                        Oh damn she's just playing a whole mid 2000s Playlist Can I teach that class instead?  Tomorrow my students are just going to get an overtired me with a birthday hat on playing a depression Playlist   \n",
       "99                                                                                                                                                                                                                              am i overeating cause i’m depressed or am i depressed cause i’m overeating .....   \n",
       "100                                                                                                                       I lost 40 lbs once I got away from my abusive ex-boyfriend. It was so much harder to lose weight with him bc I was so depressed and alternated between overeating and starving myself.   \n",
       "101                                                                                                            Yes, it expresses a desire for self-destruction. Thankfully I do slim down when I'm depressed, as everything tastes like cinder so why bother. Is your body beach ready?  https://t.co/wyFN6Hz3TH   \n",
       "103                 men i think suck a dick and fuck themselves in ignroance acting depressed being fake using drugs and overdrinking &amp; overeating and despise whtie becuase they arent acting whtie and dont use their breain to be whtie so they can be respected and be a man in life instead of ignroant   \n",
       "104                                                                                                                                                                                       I haven’t spoken to my friends since they left. I’m depressed and dealing with this by overeating and isolating myself   \n",
       "105                                                                                                                                     went to bed at 5am for absolutely no valid reason but I have a feeling it was a way to ~indulge~ in self destruction bc i feel very fuckin depressed when I wake up late   \n",
       "107                                                                                                                                                           I don’t mean to torment you or anything but hypothetically you could be super depressed often without at least me knowing  https://t.co/P3AGuTVOBZ   \n",
       "108                                                                                                                                                      Nobody understands this kind of torment and daily pain that never goes way unless i get medicine and its making me so depressed when i cant.  :( why???   \n",
       "110                                             feeling like shit bcuz my depressed unmotivated ass has been overeating + not exercising for the last two days,,, like yesterday i can pretend was a 'metabolism day' but wtf am i doing in bed today  like i woke us at 12 and left my bed only to eat and shit   \n",
       "112                                                                                                                                                                                             ngl being unmedicated and depressed was way more fun than being medicated and bipolar. i crave self-destruction.   \n",
       "113                                                                                                                                                  Mikey: Having self destruction and went to total depressed after kenchin died  Also mikey: Still went depressed even kenchin alive  I really dont get it 😂😂   \n",
       "115                                                                       Coincidentally I'm reading Mindhunter and apparently men with mommy issues tend to become serial rapists and killers and the like. Men with daddy issues? Probably depressed anxious losers with self-destruction tendencies. No dice.   \n",
       "116                                                         after Johnny Marr heard Morrissey's lyrics for \"Some Girls Are Bigger Than Others\" (great lyrics, I'd say), he \"spent two weeks ... locked in a room, sat immobile and depressed in the same chair, eating very little and suffering vomiting fits.\"   \n",
       "117                                                  Sort of. 20 years ago I was depressed after being house-bound for 3 months following surgery. When back at work I closed my office door &amp; didn't answer the phone all morning. Sat on a couch immobile til lunch. New job &amp; meds helped me recover.   \n",
       "119                                                                                                                    I feel this - I find myself becoming emotional and nearly immobile for hours after experiencing or observing unkindness/ unfairness/ cruelty - like I am deeply depressed or checked out.   \n",
       "122                                                                                                               That's exactly what I did my man  Following their advice I was a depressed, injured, immobile overweight late teen - before I figured it myself and never looked back - then started the mma 💪   \n",
       "123                  76ERS- I FEEL FOR THE BEST FAN BASE IN PROFESSIONAL SPORTS, PHILLY FANS ARE LOYAL TO THE EXTENT OF SELF DESTRUCTION,DEPRESSED &amp; LIGHTER IN THE POCKET! I KNOW U DONT WANT TO HEAR THIS BUT THERE WILL NEVER BE A CHAMPIONSHIP IN PHILLY WITH EMBIID,&amp; SIMMONS ON THE SAME TEAM!!!!!   \n",
       "124                                                                                                               its a gamble between eating maintenance cals, being too depressed to eat, and overeating :/ and i cant even care enough to Try to restrict lower when theres sm other shit going on in my life   \n",
       "\n",
       "     label   label_origin  \n",
       "1        1  non-depressed  \n",
       "2        0      depressed  \n",
       "3        1  non-depressed  \n",
       "4        1  non-depressed  \n",
       "5        0      depressed  \n",
       "6        0      depressed  \n",
       "8        0      depressed  \n",
       "9        1  non-depressed  \n",
       "10       1  non-depressed  \n",
       "11       1  non-depressed  \n",
       "12       1  non-depressed  \n",
       "14       1  non-depressed  \n",
       "15       0      depressed  \n",
       "16       0      depressed  \n",
       "18       0      depressed  \n",
       "19       0      depressed  \n",
       "20       0      depressed  \n",
       "21       0      depressed  \n",
       "22       0      depressed  \n",
       "23       1  non-depressed  \n",
       "24       0      depressed  \n",
       "26       1  non-depressed  \n",
       "27       1  non-depressed  \n",
       "28       1  non-depressed  \n",
       "29       0      depressed  \n",
       "30       0      depressed  \n",
       "32       1  non-depressed  \n",
       "33       1  non-depressed  \n",
       "34       0      depressed  \n",
       "36       1  non-depressed  \n",
       "37       0      depressed  \n",
       "38       1  non-depressed  \n",
       "40       0      depressed  \n",
       "41       1  non-depressed  \n",
       "42       1  non-depressed  \n",
       "43       1  non-depressed  \n",
       "44       0      depressed  \n",
       "45       1  non-depressed  \n",
       "46       0      depressed  \n",
       "47       0      depressed  \n",
       "48       1  non-depressed  \n",
       "50       0      depressed  \n",
       "51       0      depressed  \n",
       "54       0      depressed  \n",
       "55       0      depressed  \n",
       "56       0      depressed  \n",
       "57       0      depressed  \n",
       "58       0      depressed  \n",
       "59       0      depressed  \n",
       "60       1  non-depressed  \n",
       "61       1  non-depressed  \n",
       "62       0      depressed  \n",
       "64       1  non-depressed  \n",
       "65       1  non-depressed  \n",
       "66       0      depressed  \n",
       "67       0      depressed  \n",
       "69       0      depressed  \n",
       "70       0      depressed  \n",
       "71       0      depressed  \n",
       "72       1  non-depressed  \n",
       "73       1  non-depressed  \n",
       "74       0      depressed  \n",
       "75       0      depressed  \n",
       "76       0      depressed  \n",
       "77       1  non-depressed  \n",
       "78       1  non-depressed  \n",
       "79       1  non-depressed  \n",
       "81       1  non-depressed  \n",
       "82       1  non-depressed  \n",
       "84       1  non-depressed  \n",
       "85       0      depressed  \n",
       "86       0      depressed  \n",
       "88       1  non-depressed  \n",
       "89       0      depressed  \n",
       "90       0      depressed  \n",
       "91       0      depressed  \n",
       "92       0      depressed  \n",
       "93       0      depressed  \n",
       "94       1  non-depressed  \n",
       "95       1  non-depressed  \n",
       "97       0      depressed  \n",
       "98       1  non-depressed  \n",
       "99       0      depressed  \n",
       "100      0      depressed  \n",
       "101      0      depressed  \n",
       "103      1  non-depressed  \n",
       "104      0      depressed  \n",
       "105      0      depressed  \n",
       "107      1  non-depressed  \n",
       "108      0      depressed  \n",
       "110      0      depressed  \n",
       "112      0      depressed  \n",
       "113      1  non-depressed  \n",
       "115      1  non-depressed  \n",
       "116      1  non-depressed  \n",
       "117      1  non-depressed  \n",
       "119      0      depressed  \n",
       "122      1  non-depressed  \n",
       "123      1  non-depressed  \n",
       "124      0      depressed  "
      ]
     },
     "execution_count": 362,
     "metadata": {},
     "output_type": "execute_result"
    }
   ],
   "source": [
    "pd.set_option('display.max_columns', None)\n",
    "pd.set_option('display.max_rows', None)\n",
    "pd.set_option('display.max_colwidth', None)\n",
    "\n",
    "df.head(100)"
   ]
  },
  {
   "cell_type": "markdown",
   "id": "f04a76bc",
   "metadata": {},
   "source": [
    "## Preprocessing Steps"
   ]
  },
  {
   "cell_type": "markdown",
   "id": "3d2b0c77",
   "metadata": {},
   "source": [
    "### 1. Remove URLs , Hashtags and Mentions"
   ]
  },
  {
   "cell_type": "code",
   "execution_count": 363,
   "id": "1b34808f",
   "metadata": {},
   "outputs": [
    {
     "data": {
      "text/plain": [
       "'Yup.  I have really down cycles w/ more typical depression symptoms. But I also experience it as feeling generally hopefully, but w/ brain fog, scattered energy, struggling to focus.'"
      ]
     },
     "execution_count": 363,
     "metadata": {},
     "output_type": "execute_result"
    }
   ],
   "source": [
    "df[\"tweet\"].iloc[20]"
   ]
  },
  {
   "cell_type": "code",
   "execution_count": 364,
   "id": "898f51a0",
   "metadata": {},
   "outputs": [],
   "source": [
    "def remove_urls_hashtags_mentions(tweet):\n",
    "    tweet = re.sub(r'https?://\\S+|www\\.\\S+', '', tweet)\n",
    "    tweet = re.sub(r'@\\S+|#\\S+', '', tweet)\n",
    "    return tweet\n",
    "\n",
    "# Apply remove_urls() function to tweet column\n",
    "df[\"tweet\"] = df[\"tweet\"].astype(str).apply(lambda x: remove_urls_hashtags_mentions(x))"
   ]
  },
  {
   "cell_type": "markdown",
   "id": "6297cd96",
   "metadata": {},
   "source": [
    "### 2. Replace emojis and emoticons with their meaning"
   ]
  },
  {
   "cell_type": "code",
   "execution_count": 365,
   "id": "4169b34d",
   "metadata": {},
   "outputs": [],
   "source": [
    "import emot \n",
    "import emoji"
   ]
  },
  {
   "cell_type": "code",
   "execution_count": 366,
   "id": "3dfb7c0a",
   "metadata": {},
   "outputs": [
    {
     "data": {
      "text/plain": [
       "\"I haven't felt this feeling in almost a year--the absolute dread of waking up, that anxious-depression of being overtired and not having enough sleep.  I've enjoyed waking up and not having to go anywhere. But I feel the despair of reality setting back in, little by little.  \""
      ]
     },
     "execution_count": 366,
     "metadata": {},
     "output_type": "execute_result"
    }
   ],
   "source": [
    "df[\"tweet\"].iloc[51]"
   ]
  },
  {
   "cell_type": "code",
   "execution_count": 367,
   "id": "b92611f4",
   "metadata": {},
   "outputs": [],
   "source": [
    "#Replace emojis with their meaning\n",
    "def replace_emojis_with_desc(tweet):\n",
    "    tweet = emoji.demojize(tweet)\n",
    "    return tweet"
   ]
  },
  {
   "cell_type": "code",
   "execution_count": 368,
   "id": "14aecf64",
   "metadata": {},
   "outputs": [],
   "source": [
    "df[\"tweet\"] = df[\"tweet\"].astype(str).apply(lambda x: replace_emojis_with_desc(x))"
   ]
  },
  {
   "cell_type": "code",
   "execution_count": 369,
   "id": "001971b2",
   "metadata": {},
   "outputs": [
    {
     "data": {
      "text/plain": [
       "\"I haven't felt this feeling in almost a year--the absolute dread of waking up, that anxious-depression of being overtired and not having enough sleep.  I've enjoyed waking up and not having to go anywhere. But I feel the despair of reality setting back in, little by little.  \""
      ]
     },
     "execution_count": 369,
     "metadata": {},
     "output_type": "execute_result"
    }
   ],
   "source": [
    "df[\"tweet\"].iloc[51]"
   ]
  },
  {
   "cell_type": "code",
   "execution_count": 370,
   "id": "af522075",
   "metadata": {},
   "outputs": [],
   "source": [
    "import emot \n",
    "#create emot object\n",
    "emot_obj = emot.core.emot()\n",
    "\n",
    "# function to convert emoticons to meanings\n",
    "def replace_emoticons_with_desc(tweet):\n",
    "    result = emot_obj.emoticons(tweet)\n",
    "    if result['flag']:\n",
    "        for i, emoticon in enumerate(result['value']):\n",
    "            # replace emoticon with its meaning\n",
    "            emot_mean = re.split(', | or ', result['mean'][i])[0]\n",
    "            tweet = tweet.replace(emoticon, emot_mean)\n",
    "    return tweet\n",
    "\n",
    "# apply function to dataframe\n",
    "df['tweet'] = df['tweet'].apply(replace_emoticons_with_desc)"
   ]
  },
  {
   "cell_type": "code",
   "execution_count": 371,
   "id": "5349bcf1",
   "metadata": {},
   "outputs": [
    {
     "data": {
      "text/plain": [
       "\"I haven't felt this feeling in almost a year--the absolute dread of waking up, that anxious-depression of being overtired and not having enough sleep.  I've enjoyed waking up and not having to go anywhere. But I feel the despair of reality setting back in, little by little.  \""
      ]
     },
     "execution_count": 371,
     "metadata": {},
     "output_type": "execute_result"
    }
   ],
   "source": [
    "df[\"tweet\"].iloc[51]"
   ]
  },
  {
   "cell_type": "markdown",
   "id": "ef64afda",
   "metadata": {},
   "source": [
    "### Balancing Dataset"
   ]
  },
  {
   "cell_type": "code",
   "execution_count": 372,
   "id": "ef7f4853",
   "metadata": {},
   "outputs": [
    {
     "data": {
      "text/plain": [
       "non-depressed    23515\n",
       "depressed         7747\n",
       "Name: label_origin, dtype: int64"
      ]
     },
     "execution_count": 372,
     "metadata": {},
     "output_type": "execute_result"
    }
   ],
   "source": [
    "df['label_origin'].value_counts()"
   ]
  },
  {
   "cell_type": "code",
   "execution_count": 373,
   "id": "72e09cbe",
   "metadata": {},
   "outputs": [],
   "source": [
    "df = df.drop(df[df['label_origin'] == 'non-depressed'].sample(n=18000).index)"
   ]
  },
  {
   "cell_type": "code",
   "execution_count": 374,
   "id": "94ef6364",
   "metadata": {},
   "outputs": [
    {
     "data": {
      "text/plain": [
       "depressed        7747\n",
       "non-depressed    5515\n",
       "Name: label_origin, dtype: int64"
      ]
     },
     "execution_count": 374,
     "metadata": {},
     "output_type": "execute_result"
    }
   ],
   "source": [
    "df['label_origin'].value_counts()"
   ]
  },
  {
   "cell_type": "markdown",
   "id": "e7b1ba2e",
   "metadata": {},
   "source": [
    "### 3. Tokenize using BertTokenizer"
   ]
  },
  {
   "cell_type": "code",
   "execution_count": 375,
   "id": "79f5bcdd",
   "metadata": {},
   "outputs": [],
   "source": [
    "tokenizer = BertTokenizer.from_pretrained('bert-base-cased')"
   ]
  },
  {
   "cell_type": "code",
   "execution_count": 376,
   "id": "98e5b935",
   "metadata": {},
   "outputs": [
    {
     "data": {
      "text/plain": [
       "'Gary Barlow: Overeating makes me depressed    '"
      ]
     },
     "execution_count": 376,
     "metadata": {},
     "output_type": "execute_result"
    }
   ],
   "source": [
    "df[\"tweet\"].iloc[51]"
   ]
  },
  {
   "cell_type": "code",
   "execution_count": 377,
   "id": "3965a462",
   "metadata": {},
   "outputs": [],
   "source": [
    "token = tokenizer.encode_plus(\n",
    "    df['tweet'].iloc[51],\n",
    "    max_length = 100,\n",
    "    truncation=True,\n",
    "    padding='max_length',\n",
    "    add_special_tokens=True,\n",
    "    return_tensors='tf'\n",
    ")"
   ]
  },
  {
   "cell_type": "code",
   "execution_count": 378,
   "id": "18eb9a8b",
   "metadata": {},
   "outputs": [
    {
     "data": {
      "text/plain": [
       "{'input_ids': <tf.Tensor: shape=(1, 100), dtype=int32, numpy=\n",
       "array([[  101,  4926, 19124,   131,  3278, 13448,  1158,  2228,  1143,\n",
       "        15941,   102,     0,     0,     0,     0,     0,     0,     0,\n",
       "            0,     0,     0,     0,     0,     0,     0,     0,     0,\n",
       "            0,     0,     0,     0,     0,     0,     0,     0,     0,\n",
       "            0,     0,     0,     0,     0,     0,     0,     0,     0,\n",
       "            0,     0,     0,     0,     0,     0,     0,     0,     0,\n",
       "            0,     0,     0,     0,     0,     0,     0,     0,     0,\n",
       "            0,     0,     0,     0,     0,     0,     0,     0,     0,\n",
       "            0,     0,     0,     0,     0,     0,     0,     0,     0,\n",
       "            0,     0,     0,     0,     0,     0,     0,     0,     0,\n",
       "            0,     0,     0,     0,     0,     0,     0,     0,     0,\n",
       "            0]])>, 'token_type_ids': <tf.Tensor: shape=(1, 100), dtype=int32, numpy=\n",
       "array([[0, 0, 0, 0, 0, 0, 0, 0, 0, 0, 0, 0, 0, 0, 0, 0, 0, 0, 0, 0, 0, 0,\n",
       "        0, 0, 0, 0, 0, 0, 0, 0, 0, 0, 0, 0, 0, 0, 0, 0, 0, 0, 0, 0, 0, 0,\n",
       "        0, 0, 0, 0, 0, 0, 0, 0, 0, 0, 0, 0, 0, 0, 0, 0, 0, 0, 0, 0, 0, 0,\n",
       "        0, 0, 0, 0, 0, 0, 0, 0, 0, 0, 0, 0, 0, 0, 0, 0, 0, 0, 0, 0, 0, 0,\n",
       "        0, 0, 0, 0, 0, 0, 0, 0, 0, 0, 0, 0]])>, 'attention_mask': <tf.Tensor: shape=(1, 100), dtype=int32, numpy=\n",
       "array([[1, 1, 1, 1, 1, 1, 1, 1, 1, 1, 1, 0, 0, 0, 0, 0, 0, 0, 0, 0, 0, 0,\n",
       "        0, 0, 0, 0, 0, 0, 0, 0, 0, 0, 0, 0, 0, 0, 0, 0, 0, 0, 0, 0, 0, 0,\n",
       "        0, 0, 0, 0, 0, 0, 0, 0, 0, 0, 0, 0, 0, 0, 0, 0, 0, 0, 0, 0, 0, 0,\n",
       "        0, 0, 0, 0, 0, 0, 0, 0, 0, 0, 0, 0, 0, 0, 0, 0, 0, 0, 0, 0, 0, 0,\n",
       "        0, 0, 0, 0, 0, 0, 0, 0, 0, 0, 0, 0]])>}"
      ]
     },
     "execution_count": 378,
     "metadata": {},
     "output_type": "execute_result"
    }
   ],
   "source": [
    "token"
   ]
  },
  {
   "cell_type": "code",
   "execution_count": 379,
   "id": "2c4844c6",
   "metadata": {},
   "outputs": [],
   "source": [
    "X_input_ids = np.zeros((len(df), 100))\n",
    "X_attn_masks = np.zeros((len(df), 100))"
   ]
  },
  {
   "cell_type": "code",
   "execution_count": 380,
   "id": "02693e21",
   "metadata": {},
   "outputs": [
    {
     "data": {
      "text/plain": [
       "(13262, 100)"
      ]
     },
     "execution_count": 380,
     "metadata": {},
     "output_type": "execute_result"
    }
   ],
   "source": [
    "X_input_ids.shape"
   ]
  },
  {
   "cell_type": "code",
   "execution_count": 381,
   "id": "5bc6ab24",
   "metadata": {},
   "outputs": [],
   "source": [
    "def generate_training_data(df, ids, masks,tokenizer):\n",
    "    for i, text in tqdm(enumerate(df['tweet'])):\n",
    "        tokenized_text = tokenizer.encode_plus(\n",
    "            text,\n",
    "            max_length = 100,\n",
    "            truncation=True,\n",
    "            padding='max_length',\n",
    "            add_special_tokens=True,\n",
    "            return_tensors='tf'\n",
    "        )\n",
    "        ids[i,:] = tokenized_text.input_ids\n",
    "        masks[i,:] = tokenized_text.attention_mask\n",
    "    return ids, masks"
   ]
  },
  {
   "cell_type": "code",
   "execution_count": 382,
   "id": "5d899a8c",
   "metadata": {},
   "outputs": [
    {
     "data": {
      "application/vnd.jupyter.widget-view+json": {
       "model_id": "a38f8a9a30a84cfbad4e58b7a379a709",
       "version_major": 2,
       "version_minor": 0
      },
      "text/plain": [
       "0it [00:00, ?it/s]"
      ]
     },
     "metadata": {},
     "output_type": "display_data"
    }
   ],
   "source": [
    "X_input_ids, X_atttn_masks = generate_training_data(df, X_input_ids, X_attn_masks, tokenizer)"
   ]
  },
  {
   "cell_type": "code",
   "execution_count": 383,
   "id": "67bf538c",
   "metadata": {},
   "outputs": [],
   "source": [
    "labels = np.zeros((len(df), label_counts))"
   ]
  },
  {
   "cell_type": "code",
   "execution_count": 384,
   "id": "2d114667",
   "metadata": {},
   "outputs": [],
   "source": [
    "labels[np.arange(len(df)), df['label'].values] = 1"
   ]
  },
  {
   "cell_type": "code",
   "execution_count": 385,
   "id": "94507838",
   "metadata": {},
   "outputs": [
    {
     "data": {
      "text/plain": [
       "array([[0., 1.],\n",
       "       [1., 0.],\n",
       "       [0., 1.],\n",
       "       ...,\n",
       "       [0., 1.],\n",
       "       [0., 1.],\n",
       "       [0., 1.]])"
      ]
     },
     "execution_count": 385,
     "metadata": {},
     "output_type": "execute_result"
    }
   ],
   "source": [
    "labels"
   ]
  },
  {
   "cell_type": "code",
   "execution_count": 386,
   "id": "cc73f2ad",
   "metadata": {},
   "outputs": [],
   "source": [
    "dataset = tf.data.Dataset.from_tensor_slices((X_input_ids, X_attn_masks, labels))"
   ]
  },
  {
   "cell_type": "code",
   "execution_count": 387,
   "id": "e985ffba",
   "metadata": {},
   "outputs": [
    {
     "data": {
      "text/plain": [
       "<_TakeDataset element_spec=(TensorSpec(shape=(100,), dtype=tf.float64, name=None), TensorSpec(shape=(100,), dtype=tf.float64, name=None), TensorSpec(shape=(2,), dtype=tf.float64, name=None))>"
      ]
     },
     "execution_count": 387,
     "metadata": {},
     "output_type": "execute_result"
    }
   ],
   "source": [
    "dataset.take(1)"
   ]
  },
  {
   "cell_type": "code",
   "execution_count": 388,
   "id": "4c061217",
   "metadata": {},
   "outputs": [],
   "source": [
    "def SentimentDatasetMapFunction(input_ids, attn_masks, labels):\n",
    "    return({\n",
    "    'input_ids': input_ids,\n",
    "    'attention_mask': attn_masks\n",
    "    }, labels)"
   ]
  },
  {
   "cell_type": "code",
   "execution_count": 389,
   "id": "c05a4112",
   "metadata": {},
   "outputs": [],
   "source": [
    "dataset = dataset.map(SentimentDatasetMapFunction)"
   ]
  },
  {
   "cell_type": "code",
   "execution_count": 390,
   "id": "231a5ca7",
   "metadata": {},
   "outputs": [
    {
     "data": {
      "text/plain": [
       "<_TakeDataset element_spec=({'input_ids': TensorSpec(shape=(100,), dtype=tf.float64, name=None), 'attention_mask': TensorSpec(shape=(100,), dtype=tf.float64, name=None)}, TensorSpec(shape=(2,), dtype=tf.float64, name=None))>"
      ]
     },
     "execution_count": 390,
     "metadata": {},
     "output_type": "execute_result"
    }
   ],
   "source": [
    "dataset.take(1)"
   ]
  },
  {
   "cell_type": "code",
   "execution_count": 391,
   "id": "2aba9096",
   "metadata": {},
   "outputs": [],
   "source": [
    "dataset = dataset.shuffle(100).batch(16, drop_remainder = True)"
   ]
  },
  {
   "cell_type": "code",
   "execution_count": 392,
   "id": "171d8d05",
   "metadata": {},
   "outputs": [],
   "source": [
    "p = 0.8\n",
    "train_size = int((len(df)//16)*p)"
   ]
  },
  {
   "cell_type": "code",
   "execution_count": 393,
   "id": "c64143cf",
   "metadata": {},
   "outputs": [
    {
     "data": {
      "text/plain": [
       "662"
      ]
     },
     "execution_count": 393,
     "metadata": {},
     "output_type": "execute_result"
    }
   ],
   "source": [
    "train_size"
   ]
  },
  {
   "cell_type": "code",
   "execution_count": 394,
   "id": "d6b58a34",
   "metadata": {},
   "outputs": [],
   "source": [
    "train_dataset = dataset.take(train_size)\n",
    "val_dataset = dataset.skip(train_size)"
   ]
  },
  {
   "cell_type": "code",
   "execution_count": 395,
   "id": "e6794b0e",
   "metadata": {},
   "outputs": [],
   "source": [
    "from transformers import TFBertModel"
   ]
  },
  {
   "cell_type": "code",
   "execution_count": 396,
   "id": "ea4d167d",
   "metadata": {},
   "outputs": [
    {
     "name": "stderr",
     "output_type": "stream",
     "text": [
      "Some layers from the model checkpoint at bert-base-cased were not used when initializing TFBertModel: ['nsp___cls', 'mlm___cls']\n",
      "- This IS expected if you are initializing TFBertModel from the checkpoint of a model trained on another task or with another architecture (e.g. initializing a BertForSequenceClassification model from a BertForPreTraining model).\n",
      "- This IS NOT expected if you are initializing TFBertModel from the checkpoint of a model that you expect to be exactly identical (initializing a BertForSequenceClassification model from a BertForSequenceClassification model).\n",
      "All the layers of TFBertModel were initialized from the model checkpoint at bert-base-cased.\n",
      "If your task is similar to the task the model of the checkpoint was trained on, you can already use TFBertModel for predictions without further training.\n"
     ]
    }
   ],
   "source": [
    "bert_model = TFBertModel.from_pretrained('bert-base-cased')"
   ]
  },
  {
   "cell_type": "code",
   "execution_count": 404,
   "id": "ae111a67",
   "metadata": {},
   "outputs": [
    {
     "name": "stdout",
     "output_type": "stream",
     "text": [
      "Model: \"model_7\"\n",
      "__________________________________________________________________________________________________\n",
      " Layer (type)                   Output Shape         Param #     Connected to                     \n",
      "==================================================================================================\n",
      " input_ids (InputLayer)         [(None, 100)]        0           []                               \n",
      "                                                                                                  \n",
      " attention_mask (InputLayer)    [(None, 100)]        0           []                               \n",
      "                                                                                                  \n",
      " bert (TFBertMainLayer)         TFBaseModelOutputWi  108310272   ['input_ids[0][0]',              \n",
      "                                thPoolingAndCrossAt               'attention_mask[0][0]']         \n",
      "                                tentions(last_hidde                                               \n",
      "                                n_state=(None, 100,                                               \n",
      "                                 768),                                                            \n",
      "                                 pooler_output=(Non                                               \n",
      "                                e, 768),                                                          \n",
      "                                 past_key_values=No                                               \n",
      "                                ne, hidden_states=N                                               \n",
      "                                one, attentions=Non                                               \n",
      "                                e, cross_attentions                                               \n",
      "                                =None)                                                            \n",
      "                                                                                                  \n",
      " intermediate_layer (Dense)     (None, 1024)         787456      ['bert[2][1]']                   \n",
      "                                                                                                  \n",
      " output_layer (Dense)           (None, 2)            2050        ['intermediate_layer[0][0]']     \n",
      "                                                                                                  \n",
      "==================================================================================================\n",
      "Total params: 109,099,778\n",
      "Trainable params: 109,099,778\n",
      "Non-trainable params: 0\n",
      "__________________________________________________________________________________________________\n"
     ]
    }
   ],
   "source": [
    "\n",
    "# defining 2 input layers for input_ids and attn_masks\n",
    "input_ids = tf.keras.layers.Input(shape=(100,), name='input_ids', dtype='int32')\n",
    "attn_masks = tf.keras.layers.Input(shape=(100,), name='attention_mask', dtype='int32')\n",
    "\n",
    "bert_embds = bert_model.bert(input_ids, attention_mask=attn_masks)[1] # 0 -> activation layer (3D), 1 -> pooled output layer (2D)\n",
    "intermediate_layer = tf.keras.layers.Dense(1024, activation='relu', name='intermediate_layer')(bert_embds)\n",
    "output_layer = tf.keras.layers.Dense(label_counts, activation='softmax', name='output_layer')(intermediate_layer) # softmax -> calcs probs of classes\n",
    "\n",
    "sentiment_model = tf.keras.Model(inputs=[input_ids, attn_masks], outputs=output_layer)\n",
    "sentiment_model.summary()\n",
    "     "
   ]
  },
  {
   "cell_type": "code",
   "execution_count": 405,
   "id": "425f5f01",
   "metadata": {},
   "outputs": [],
   "source": [
    "from keras import backend as K\n",
    "\n",
    "def balanced_recall(y_true, y_pred):\n",
    "    \"\"\"This function calculates the balanced recall metric\n",
    "    recall = TP / (TP + FN)\n",
    "    \"\"\"\n",
    "    recall_by_class = 0\n",
    "    # iterate over each predicted class to get class-specific metric\n",
    "    for i in range(y_pred.shape[1]):\n",
    "        y_pred_class = y_pred[:, i]\n",
    "        y_true_class = y_true[:, i]\n",
    "        true_positives = K.sum(K.round(K.clip(y_true_class * y_pred_class, 0, 1)))\n",
    "        possible_positives = K.sum(K.round(K.clip(y_true_class, 0, 1)))\n",
    "        recall = true_positives / (possible_positives + K.epsilon())\n",
    "        recall_by_class = recall_by_class + recall\n",
    "    return recall_by_class / y_pred.shape[1]\n",
    "\n",
    "def balanced_precision(y_true, y_pred):\n",
    "    \"\"\"This function calculates the balanced precision metric\n",
    "    precision = TP / (TP + FP)\n",
    "    \"\"\"\n",
    "    precision_by_class = 0\n",
    "    # iterate over each predicted class to get class-specific metric\n",
    "    for i in range(y_pred.shape[1]):\n",
    "        y_pred_class = y_pred[:, i]\n",
    "        y_true_class = y_true[:, i]\n",
    "        true_positives = K.sum(K.round(K.clip(y_true_class * y_pred_class, 0, 1)))\n",
    "        predicted_positives = K.sum(K.round(K.clip(y_pred_class, 0, 1)))\n",
    "        precision = true_positives / (predicted_positives + K.epsilon())\n",
    "        precision_by_class = precision_by_class + precision\n",
    "    # return average balanced metric for each class\n",
    "    return precision_by_class / y_pred.shape[1]\n",
    "\n",
    "def balanced_f1_score(y_true, y_pred):\n",
    "    \"\"\"This function calculates the F1 score metric\"\"\"\n",
    "    precision = balanced_precision(y_true, y_pred)\n",
    "    recall = balanced_recall(y_true, y_pred)\n",
    "    return 2 * ((precision * recall) / (precision + recall + K.epsilon()))"
   ]
  },
  {
   "cell_type": "code",
   "execution_count": 406,
   "id": "f6295dfe",
   "metadata": {},
   "outputs": [],
   "source": [
    "n_epochs = 2\n",
    "METRICS = [\n",
    "      tf.keras.metrics.CategoricalAccuracy(name=\"accuracy\"),\n",
    "      balanced_recall,\n",
    "      balanced_precision,\n",
    "      balanced_f1_score\n",
    "]\n",
    "\n",
    "earlystop_callback = tf.keras.callbacks.EarlyStopping(monitor = \"loss\", \n",
    "                                                      patience = 3,\n",
    "                                                      restore_best_weights = True)"
   ]
  },
  {
   "cell_type": "code",
   "execution_count": 407,
   "id": "85d2c7ce",
   "metadata": {},
   "outputs": [],
   "source": [
    "optim = tf.keras.optimizers.Adam(\n",
    "    learning_rate=0.001,\n",
    "    beta_1=0.9)\n",
    "loss_func = tf.keras.losses.CategoricalCrossentropy()\n",
    "acc = tf.keras.metrics.CategoricalAccuracy('accuracy')"
   ]
  },
  {
   "cell_type": "code",
   "execution_count": 408,
   "id": "5621f07a",
   "metadata": {},
   "outputs": [],
   "source": [
    "sentiment_model.compile(optimizer=optim, loss=loss_func, metrics=METRICS)"
   ]
  },
  {
   "cell_type": "code",
   "execution_count": 409,
   "id": "84e64e4b",
   "metadata": {},
   "outputs": [
    {
     "name": "stdout",
     "output_type": "stream",
     "text": [
      "Epoch 1/2\n",
      "662/662 [==============================] - 2457s 4s/step - loss: 0.7368 - accuracy: 0.5933 - balanced_recall: 0.4998 - balanced_precision: 0.2967 - balanced_f1_score: 0.3655 - val_loss: 0.7889 - val_accuracy: 0.3818 - val_balanced_recall: 0.4970 - val_balanced_precision: 0.1909 - val_balanced_f1_score: 0.2639\n",
      "Epoch 2/2\n",
      "662/662 [==============================] - 2476s 4s/step - loss: 0.6568 - accuracy: 0.6355 - balanced_recall: 0.5000 - balanced_precision: 0.3177 - balanced_f1_score: 0.3847 - val_loss: 0.7891 - val_accuracy: 0.3818 - val_balanced_recall: 0.4940 - val_balanced_precision: 0.1909 - val_balanced_f1_score: 0.2618\n"
     ]
    }
   ],
   "source": [
    "hist = sentiment_model.fit(train_dataset,\n",
    "                validation_data=val_dataset,\n",
    "                epochs=n_epochs,\n",
    "                callbacks=[earlystop_callback])"
   ]
  },
  {
   "cell_type": "code",
   "execution_count": 412,
   "id": "9f6d81e4",
   "metadata": {},
   "outputs": [
    {
     "name": "stderr",
     "output_type": "stream",
     "text": [
      "WARNING:absl:Found untraced functions such as _update_step_xla, embeddings_layer_call_fn, embeddings_layer_call_and_return_conditional_losses, encoder_layer_call_fn, encoder_layer_call_and_return_conditional_losses while saving (showing 5 of 421). These functions will not be directly callable after loading.\n"
     ]
    },
    {
     "name": "stdout",
     "output_type": "stream",
     "text": [
      "INFO:tensorflow:Assets written to: sentiment_model\\assets\n"
     ]
    },
    {
     "name": "stderr",
     "output_type": "stream",
     "text": [
      "INFO:tensorflow:Assets written to: sentiment_model\\assets\n"
     ]
    }
   ],
   "source": [
    "sentiment_model.save('sentiment_model')"
   ]
  },
  {
   "cell_type": "code",
   "execution_count": 413,
   "id": "b7e34dfb",
   "metadata": {},
   "outputs": [
    {
     "data": {
      "image/png": "[encoded data removed]",
      "text/plain": [
       "<Figure size 2160x360 with 5 Axes>"
      ]
     },
     "metadata": {},
     "output_type": "display_data"
    }
   ],
   "source": [
    "x = list(range(1, n_epochs+1))\n",
    "metric_list = list(hist.history.keys())\n",
    "num_metrics = int(len(metric_list)/2)\n",
    "\n",
    "fig, ax = plt.subplots(nrows=1, ncols=num_metrics, figsize=(30, 5))\n",
    "\n",
    "for i in range(0, num_metrics):\n",
    "  ax[i].plot(x, hist.history[metric_list[i]], marker=\"o\", label=metric_list[i].replace(\"_\", \" \"))\n",
    "  ax[i].plot(x, hist.history[metric_list[i+num_metrics]], marker=\"o\", label=metric_list[i+num_metrics].replace(\"_\", \" \"))\n",
    "  ax[i].set_xlabel(\"epochs\",fontsize=14)\n",
    "  ax[i].set_title(metric_list[i].replace(\"_\", \" \"),fontsize=20)\n",
    "  ax[i].legend(loc=\"lower left\")"
   ]
  },
  {
   "cell_type": "code",
   "execution_count": 418,
   "id": "65dd2847",
   "metadata": {},
   "outputs": [],
   "source": [
    "\n",
    "def prepare_data(input_text, tokenizer):\n",
    "    token = tokenizer.encode_plus(\n",
    "        input_text,\n",
    "        max_length=100, \n",
    "        truncation=True, \n",
    "        padding='max_length', \n",
    "        add_special_tokens=True,\n",
    "        return_tensors='tf'\n",
    "    )\n",
    "    return {\n",
    "        'input_ids': tf.cast(token.input_ids, tf.float64),\n",
    "        'attention_mask': tf.cast(token.attention_mask, tf.float64)\n",
    "    }\n",
    "\n",
    "def make_prediction(model, processed_data, classes=['non-depressed', 'depressed']):\n",
    "    probs = model.predict(processed_data)[0]\n",
    "    classes[np.argmax(probs)]\n",
    "    print(probs)\n",
    "    return classes[np.argmax(probs)]"
   ]
  },
  {
   "cell_type": "code",
   "execution_count": 422,
   "id": "30c7155d",
   "metadata": {},
   "outputs": [
    {
     "name": "stdout",
     "output_type": "stream",
     "text": [
      "Enter status here: 27-07-2021 This marks the end of my journey. A journey worst than death. The year 2018-2021 were the worst years of my life. I went through abuse,character assassination,depression, bullying suicidal thoughts, self destruction family issues and much more.\n",
      "1/1 [==============================] - 0s 258ms/step\n",
      "[0.6281252  0.37187478]\n",
      "Predicted Sentiment: non-depressed\n"
     ]
    }
   ],
   "source": [
    "input_text = input('Enter status here: ')\n",
    "processed_data = prepare_data(input_text, tokenizer)\n",
    "result = make_prediction(sentiment_model, processed_data=processed_data)\n",
    "print(f\"Predicted Sentiment: {result}\")"
   ]
  },
  {
   "cell_type": "code",
   "execution_count": null,
   "id": "3e625395",
   "metadata": {},
   "outputs": [],
   "source": []
  }
 ],
 "metadata": {
  "kernelspec": {
   "display_name": "Python 3",
   "language": "python",
   "name": "python3"
  },
  "language_info": {
   "codemirror_mode": {
    "name": "ipython",
    "version": 3
   },
   "file_extension": ".py",
   "mimetype": "text/x-python",
   "name": "python",
   "nbconvert_exporter": "python",
   "pygments_lexer": "ipython3",
   "version": "3.9.5"
  }
 },
 "nbformat": 4,
 "nbformat_minor": 5
}
