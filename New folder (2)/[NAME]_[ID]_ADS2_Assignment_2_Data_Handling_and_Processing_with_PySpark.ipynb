{
 "cells": [
  {
   "cell_type": "markdown",
   "metadata": {
    "id": "ViQdeQ5m1E2Z"
   },
   "source": [
    "# ADS2 - Assignment 2 - Data Handling and Processing with PySpark\n",
    "\n",
    "In this assignment, you will be analysing the popularity of films and TV shows on the streaming platform, Netflix. Using your knowledge of PySpark DataFrames and Spark SQL, you will produce a number of \"downstream\" data products to analyse trends in global streaming habits.\n",
    "\n",
    "Download the dataset from this [Kaggle](https://www.kaggle.com/dhruvildave/netflix-top-10-tv-shows-and-films) page. A copy of the `all_weeks_countries.csv` file is also available on the canvas page for this assignment.\n",
    "\n",
    "Your task is to load in the data and produce a number of \"downstream\" data products and plots as described below.\n",
    "\n",
    "The PySpark installation and setup is provided below for conveinience."
   ]
  },
  {
   "cell_type": "code",
   "execution_count": null,
   "metadata": {
    "id": "5lb-Z7ZM8O3s"
   },
   "outputs": [],
   "source": [
    "# Apache Spark uses Java, so first we must install that\n",
    "!apt-get install openjdk-8-jdk-headless -qq > /dev/null"
   ]
  },
  {
   "cell_type": "code",
   "execution_count": null,
   "metadata": {
    "id": "ixa72o938SKP"
   },
   "outputs": [],
   "source": [
    "# Mount Google Drive and unpack Spark\n",
    "from google.colab import drive\n",
    "drive.mount('/content/drive')\n",
    "!tar xzf /content/drive/MyDrive/spark-3.3.0-bin-hadoop3.tgz"
   ]
  },
  {
   "cell_type": "code",
   "execution_count": null,
   "metadata": {
    "id": "yWT7_XiQ8V6u"
   },
   "outputs": [],
   "source": [
    "# Set up environment variables\n",
    "import os\n",
    "os.environ[\"JAVA_HOME\"] = \"/usr/lib/jvm/java-8-openjdk-amd64\"\n",
    "os.environ[\"SPARK_HOME\"] = \"/content/spark-3.3.0-bin-hadoop3\""
   ]
  },
  {
   "cell_type": "code",
   "execution_count": null,
   "metadata": {
    "id": "UPSvq-aj8Z_k"
   },
   "outputs": [],
   "source": [
    "# Install findspark, which helps python locate the psyspark module files\n",
    "!pip install -q findspark\n",
    "import findspark\n",
    "findspark.init()"
   ]
  },
  {
   "cell_type": "code",
   "execution_count": null,
   "metadata": {
    "id": "kXT8Q_IO8cVe"
   },
   "outputs": [],
   "source": [
    "# Finally, we initialse a \"SparkSession\", which handles the computations\n",
    "from pyspark.sql import SparkSession\n",
    "spark = SparkSession.builder\\\n",
    "        .master(\"local\")\\\n",
    "        .appName(\"Colab\")\\\n",
    "        .config('spark.ui.port', '4050')\\\n",
    "        .getOrCreate()"
   ]
  },
  {
   "cell_type": "markdown",
   "metadata": {
    "id": "yfW6RnY_GZpE"
   },
   "source": [
    "# Exercise 1 - Data Preparation (5 Marks)\n",
    "\n",
    "\n",
    "1.   Load the `all_weeks_countries.csv` into your Colab Notebook as a DataFrame.\n",
    "2.   Create two separate DataFrames for Films and TV.\n",
    "3.   For the Films data, drop the column containing the season names.\n",
    "4.   For the TV data, replace any null values in the season name column with the show name."
   ]
  },
  {
   "cell_type": "code",
   "execution_count": 12,
   "metadata": {
    "id": "adZdlbyGL7Mj"
   },
   "outputs": [],
   "source": [
    "# pyspark.sql.functions countains all the transformations and actions you will\n",
    "# need\n",
    "from pyspark.sql import functions as F\n",
    "import matplotlib.pyplot as plt"
   ]
  },
  {
   "cell_type": "code",
   "execution_count": 2,
   "metadata": {
    "id": "I7PS8iZgqwjt"
   },
   "outputs": [
    {
     "name": "stdout",
     "output_type": "stream",
     "text": [
      "+------------+------------+----------+--------+-----------+--------------------+--------------------+--------------------------+\n",
      "|country_name|country_iso2|      week|category|weekly_rank|          show_title|        season_title|cumulative_weeks_in_top_10|\n",
      "+------------+------------+----------+--------+-----------+--------------------+--------------------+--------------------------+\n",
      "|   Argentina|          AR|2022-08-21|   Films|          1|      Look Both Ways|                null|                         1|\n",
      "|   Argentina|          AR|2022-08-21|   Films|          2|           Day Shift|                null|                         2|\n",
      "|   Argentina|          AR|2022-08-21|   Films|          3|Bank Robbers: The...|                null|                         2|\n",
      "|   Argentina|          AR|2022-08-21|   Films|          4|   The Next 365 Days|                null|                         1|\n",
      "|   Argentina|          AR|2022-08-21|   Films|          5|The Angry Birds M...|                null|                         1|\n",
      "|   Argentina|          AR|2022-08-21|   Films|          6|       Purple Hearts|                null|                         4|\n",
      "|   Argentina|          AR|2022-08-21|   Films|          7|      River Runs Red|                null|                         1|\n",
      "|   Argentina|          AR|2022-08-21|   Films|          8|                1917|                null|                         2|\n",
      "|   Argentina|          AR|2022-08-21|   Films|          9|  Code Name: Emperor|                null|                         2|\n",
      "|   Argentina|          AR|2022-08-21|   Films|         10|           Royalteen|                null|                         1|\n",
      "|   Argentina|          AR|2022-08-21|      TV|          1| Pasión de Gavilanes|Pasión de Gavilan...|                         5|\n",
      "|   Argentina|          AR|2022-08-21|      TV|          2|        Another Self|Another Self: Sea...|                         4|\n",
      "|   Argentina|          AR|2022-08-21|      TV|          3| Pasión de Gavilanes|Pasión de Gavilan...|                        58|\n",
      "|   Argentina|          AR|2022-08-21|      TV|          4|            Manifest|  Manifest: Season 1|                         6|\n",
      "|   Argentina|          AR|2022-08-21|      TV|          5|         The Sandman|The Sandman: Seas...|                         3|\n",
      "|   Argentina|          AR|2022-08-21|      TV|          6|Extraordinary Att...|Extraordinary Att...|                         2|\n",
      "|   Argentina|          AR|2022-08-21|      TV|          7|           High Heat| High Heat: Season 1|                         1|\n",
      "|   Argentina|          AR|2022-08-21|      TV|          8|            Manifest|  Manifest: Season 2|                         5|\n",
      "|   Argentina|          AR|2022-08-21|      TV|          9|            Manifest|  Manifest: Season 3|                         4|\n",
      "|   Argentina|          AR|2022-08-21|      TV|         10|   Never Have I Ever|Never Have I Ever...|                         2|\n",
      "+------------+------------+----------+--------+-----------+--------------------+--------------------+--------------------------+\n",
      "only showing top 20 rows\n",
      "\n"
     ]
    }
   ],
   "source": [
    "### Load the all_weeks_countries.csv into your Colab Notebook as a DataFrame.\n",
    "from pyspark.sql import SparkSession\n",
    "spark = SparkSession.builder.appName(\"ReadCSV\").getOrCreate()\n",
    "# Read CSV file\n",
    "df = spark.read.csv(\"all-weeks-countries.csv\", header=True, inferSchema=True)\n",
    "# Show the first 20 rows\n",
    "df.show()"
   ]
  },
  {
   "cell_type": "code",
   "execution_count": 3,
   "metadata": {
    "id": "aOKWP2lgu7p4"
   },
   "outputs": [
    {
     "name": "stdout",
     "output_type": "stream",
     "text": [
      "root\n",
      " |-- country_name: string (nullable = true)\n",
      " |-- country_iso2: string (nullable = true)\n",
      " |-- week: date (nullable = true)\n",
      " |-- category: string (nullable = true)\n",
      " |-- weekly_rank: integer (nullable = true)\n",
      " |-- show_title: string (nullable = true)\n",
      " |-- season_title: string (nullable = true)\n",
      " |-- cumulative_weeks_in_top_10: integer (nullable = true)\n",
      "\n",
      "+------------+------------+----------+--------+-----------+--------------------+--------------------+--------------------------+\n",
      "|country_name|country_iso2|      week|category|weekly_rank|          show_title|        season_title|cumulative_weeks_in_top_10|\n",
      "+------------+------------+----------+--------+-----------+--------------------+--------------------+--------------------------+\n",
      "|   Argentina|          AR|2022-08-21|   Films|          1|      Look Both Ways|                null|                         1|\n",
      "|   Argentina|          AR|2022-08-21|   Films|          2|           Day Shift|                null|                         2|\n",
      "|   Argentina|          AR|2022-08-21|   Films|          3|Bank Robbers: The...|                null|                         2|\n",
      "|   Argentina|          AR|2022-08-21|   Films|          4|   The Next 365 Days|                null|                         1|\n",
      "|   Argentina|          AR|2022-08-21|   Films|          5|The Angry Birds M...|                null|                         1|\n",
      "|   Argentina|          AR|2022-08-21|   Films|          6|       Purple Hearts|                null|                         4|\n",
      "|   Argentina|          AR|2022-08-21|   Films|          7|      River Runs Red|                null|                         1|\n",
      "|   Argentina|          AR|2022-08-21|   Films|          8|                1917|                null|                         2|\n",
      "|   Argentina|          AR|2022-08-21|   Films|          9|  Code Name: Emperor|                null|                         2|\n",
      "|   Argentina|          AR|2022-08-21|   Films|         10|           Royalteen|                null|                         1|\n",
      "|   Argentina|          AR|2022-08-21|      TV|          1| Pasión de Gavilanes|Pasión de Gavilan...|                         5|\n",
      "|   Argentina|          AR|2022-08-21|      TV|          2|        Another Self|Another Self: Sea...|                         4|\n",
      "|   Argentina|          AR|2022-08-21|      TV|          3| Pasión de Gavilanes|Pasión de Gavilan...|                        58|\n",
      "|   Argentina|          AR|2022-08-21|      TV|          4|            Manifest|  Manifest: Season 1|                         6|\n",
      "|   Argentina|          AR|2022-08-21|      TV|          5|         The Sandman|The Sandman: Seas...|                         3|\n",
      "|   Argentina|          AR|2022-08-21|      TV|          6|Extraordinary Att...|Extraordinary Att...|                         2|\n",
      "|   Argentina|          AR|2022-08-21|      TV|          7|           High Heat| High Heat: Season 1|                         1|\n",
      "|   Argentina|          AR|2022-08-21|      TV|          8|            Manifest|  Manifest: Season 2|                         5|\n",
      "|   Argentina|          AR|2022-08-21|      TV|          9|            Manifest|  Manifest: Season 3|                         4|\n",
      "|   Argentina|          AR|2022-08-21|      TV|         10|   Never Have I Ever|Never Have I Ever...|                         2|\n",
      "+------------+------------+----------+--------+-----------+--------------------+--------------------+--------------------------+\n",
      "only showing top 20 rows\n",
      "\n"
     ]
    }
   ],
   "source": [
    "### Display the table and its schema\n",
    "df.printSchema()\n",
    "# Display the table\n",
    "df.show()"
   ]
  },
  {
   "cell_type": "code",
   "execution_count": 4,
   "metadata": {
    "id": "O0SB_TfWfrIH"
   },
   "outputs": [
    {
     "name": "stdout",
     "output_type": "stream",
     "text": [
      "+------------+------------+----------+--------+-----------+--------------------+------------+--------------------------+\n",
      "|country_name|country_iso2|      week|category|weekly_rank|          show_title|season_title|cumulative_weeks_in_top_10|\n",
      "+------------+------------+----------+--------+-----------+--------------------+------------+--------------------------+\n",
      "|   Argentina|          AR|2022-08-21|   Films|          1|      Look Both Ways|        null|                         1|\n",
      "|   Argentina|          AR|2022-08-21|   Films|          2|           Day Shift|        null|                         2|\n",
      "|   Argentina|          AR|2022-08-21|   Films|          3|Bank Robbers: The...|        null|                         2|\n",
      "|   Argentina|          AR|2022-08-21|   Films|          4|   The Next 365 Days|        null|                         1|\n",
      "|   Argentina|          AR|2022-08-21|   Films|          5|The Angry Birds M...|        null|                         1|\n",
      "|   Argentina|          AR|2022-08-21|   Films|          6|       Purple Hearts|        null|                         4|\n",
      "|   Argentina|          AR|2022-08-21|   Films|          7|      River Runs Red|        null|                         1|\n",
      "|   Argentina|          AR|2022-08-21|   Films|          8|                1917|        null|                         2|\n",
      "|   Argentina|          AR|2022-08-21|   Films|          9|  Code Name: Emperor|        null|                         2|\n",
      "|   Argentina|          AR|2022-08-21|   Films|         10|           Royalteen|        null|                         1|\n",
      "|   Argentina|          AR|2022-08-14|   Films|          1|Bank Robbers: The...|        null|                         1|\n",
      "|   Argentina|          AR|2022-08-14|   Films|          2|       Purple Hearts|        null|                         3|\n",
      "|   Argentina|          AR|2022-08-14|   Films|          3|                1917|        null|                         1|\n",
      "|   Argentina|          AR|2022-08-14|   Films|          4|           Day Shift|        null|                         1|\n",
      "|   Argentina|          AR|2022-08-14|   Films|          5|  Code Name: Emperor|        null|                         1|\n",
      "|   Argentina|          AR|2022-08-14|   Films|          6|              Carter|        null|                         2|\n",
      "|   Argentina|          AR|2022-08-14|   Films|          7|          Recurrence|        null|                         3|\n",
      "|   Argentina|          AR|2022-08-14|   Films|          8|      Wedding Season|        null|                         2|\n",
      "|   Argentina|          AR|2022-08-14|   Films|          9|        Dreamkatcher|        null|                         1|\n",
      "|   Argentina|          AR|2022-08-14|   Films|         10|        The Gray Man|        null|                         4|\n",
      "+------------+------------+----------+--------+-----------+--------------------+------------+--------------------------+\n",
      "only showing top 20 rows\n",
      "\n",
      "+------------+------------+----------+--------+-----------+--------------------+--------------------+--------------------------+\n",
      "|country_name|country_iso2|      week|category|weekly_rank|          show_title|        season_title|cumulative_weeks_in_top_10|\n",
      "+------------+------------+----------+--------+-----------+--------------------+--------------------+--------------------------+\n",
      "|   Argentina|          AR|2022-08-21|      TV|          1| Pasión de Gavilanes|Pasión de Gavilan...|                         5|\n",
      "|   Argentina|          AR|2022-08-21|      TV|          2|        Another Self|Another Self: Sea...|                         4|\n",
      "|   Argentina|          AR|2022-08-21|      TV|          3| Pasión de Gavilanes|Pasión de Gavilan...|                        58|\n",
      "|   Argentina|          AR|2022-08-21|      TV|          4|            Manifest|  Manifest: Season 1|                         6|\n",
      "|   Argentina|          AR|2022-08-21|      TV|          5|         The Sandman|The Sandman: Seas...|                         3|\n",
      "|   Argentina|          AR|2022-08-21|      TV|          6|Extraordinary Att...|Extraordinary Att...|                         2|\n",
      "|   Argentina|          AR|2022-08-21|      TV|          7|           High Heat| High Heat: Season 1|                         1|\n",
      "|   Argentina|          AR|2022-08-21|      TV|          8|            Manifest|  Manifest: Season 2|                         5|\n",
      "|   Argentina|          AR|2022-08-21|      TV|          9|            Manifest|  Manifest: Season 3|                         4|\n",
      "|   Argentina|          AR|2022-08-21|      TV|         10|   Never Have I Ever|Never Have I Ever...|                         2|\n",
      "|   Argentina|          AR|2022-08-14|      TV|          1| Pasión de Gavilanes|Pasión de Gavilan...|                         4|\n",
      "|   Argentina|          AR|2022-08-14|      TV|          2|        Another Self|Another Self: Sea...|                         3|\n",
      "|   Argentina|          AR|2022-08-14|      TV|          3|         The Sandman|The Sandman: Seas...|                         2|\n",
      "|   Argentina|          AR|2022-08-14|      TV|          4| Pasión de Gavilanes|Pasión de Gavilan...|                        57|\n",
      "|   Argentina|          AR|2022-08-14|      TV|          5|            Manifest|  Manifest: Season 1|                         5|\n",
      "|   Argentina|          AR|2022-08-14|      TV|          6|Extraordinary Att...|Extraordinary Att...|                         1|\n",
      "|   Argentina|          AR|2022-08-14|      TV|          7|                Alba|      Alba: Season 1|                         5|\n",
      "|   Argentina|          AR|2022-08-14|      TV|          8|            Manifest|  Manifest: Season 2|                         4|\n",
      "|   Argentina|          AR|2022-08-14|      TV|          9|            Manifest|  Manifest: Season 3|                         3|\n",
      "|   Argentina|          AR|2022-08-14|      TV|         10|   Never Have I Ever|Never Have I Ever...|                         1|\n",
      "+------------+------------+----------+--------+-----------+--------------------+--------------------+--------------------------+\n",
      "only showing top 20 rows\n",
      "\n"
     ]
    }
   ],
   "source": [
    "### Seperate the data into two DataFrames for Films and TV\n",
    "films_df = df.filter(df[\"category\"] == \"Films\")\n",
    "tv_df = df.filter(df[\"category\"] == \"TV\")\n",
    "\n",
    "# Display the two DataFrames\n",
    "films_df.show()\n",
    "tv_df.show()"
   ]
  },
  {
   "cell_type": "code",
   "execution_count": 5,
   "metadata": {
    "id": "L6LsKVYSfvAt"
   },
   "outputs": [
    {
     "name": "stdout",
     "output_type": "stream",
     "text": [
      "+------------+------------+----------+--------+-----------+--------------------+--------------------------+\n",
      "|country_name|country_iso2|      week|category|weekly_rank|          show_title|cumulative_weeks_in_top_10|\n",
      "+------------+------------+----------+--------+-----------+--------------------+--------------------------+\n",
      "|   Argentina|          AR|2022-08-21|   Films|          1|      Look Both Ways|                         1|\n",
      "|   Argentina|          AR|2022-08-21|   Films|          2|           Day Shift|                         2|\n",
      "|   Argentina|          AR|2022-08-21|   Films|          3|Bank Robbers: The...|                         2|\n",
      "|   Argentina|          AR|2022-08-21|   Films|          4|   The Next 365 Days|                         1|\n",
      "|   Argentina|          AR|2022-08-21|   Films|          5|The Angry Birds M...|                         1|\n",
      "|   Argentina|          AR|2022-08-21|   Films|          6|       Purple Hearts|                         4|\n",
      "|   Argentina|          AR|2022-08-21|   Films|          7|      River Runs Red|                         1|\n",
      "|   Argentina|          AR|2022-08-21|   Films|          8|                1917|                         2|\n",
      "|   Argentina|          AR|2022-08-21|   Films|          9|  Code Name: Emperor|                         2|\n",
      "|   Argentina|          AR|2022-08-21|   Films|         10|           Royalteen|                         1|\n",
      "|   Argentina|          AR|2022-08-14|   Films|          1|Bank Robbers: The...|                         1|\n",
      "|   Argentina|          AR|2022-08-14|   Films|          2|       Purple Hearts|                         3|\n",
      "|   Argentina|          AR|2022-08-14|   Films|          3|                1917|                         1|\n",
      "|   Argentina|          AR|2022-08-14|   Films|          4|           Day Shift|                         1|\n",
      "|   Argentina|          AR|2022-08-14|   Films|          5|  Code Name: Emperor|                         1|\n",
      "|   Argentina|          AR|2022-08-14|   Films|          6|              Carter|                         2|\n",
      "|   Argentina|          AR|2022-08-14|   Films|          7|          Recurrence|                         3|\n",
      "|   Argentina|          AR|2022-08-14|   Films|          8|      Wedding Season|                         2|\n",
      "|   Argentina|          AR|2022-08-14|   Films|          9|        Dreamkatcher|                         1|\n",
      "|   Argentina|          AR|2022-08-14|   Films|         10|        The Gray Man|                         4|\n",
      "+------------+------------+----------+--------+-----------+--------------------+--------------------------+\n",
      "only showing top 20 rows\n",
      "\n"
     ]
    }
   ],
   "source": [
    "### Drop the 'season_title' column from the Films DataFrame, display the table\n",
    "films_df = films_df.drop(\"season_title\")\n",
    "\n",
    "# Display the updated Films DataFrame\n",
    "films_df.show()"
   ]
  },
  {
   "cell_type": "code",
   "execution_count": 6,
   "metadata": {
    "id": "53ApWu9fLARn",
    "scrolled": true
   },
   "outputs": [
    {
     "name": "stdout",
     "output_type": "stream",
     "text": [
      "+------------+------------+----------+--------+-----------+--------------------+--------------------+--------------------------+\n",
      "|country_name|country_iso2|      week|category|weekly_rank|          show_title|        season_title|cumulative_weeks_in_top_10|\n",
      "+------------+------------+----------+--------+-----------+--------------------+--------------------+--------------------------+\n",
      "|   Argentina|          AR|2022-08-21|      TV|          1| Pasión de Gavilanes|Pasión de Gavilan...|                         5|\n",
      "|   Argentina|          AR|2022-08-21|      TV|          2|        Another Self|Another Self: Sea...|                         4|\n",
      "|   Argentina|          AR|2022-08-21|      TV|          3| Pasión de Gavilanes|Pasión de Gavilan...|                        58|\n",
      "|   Argentina|          AR|2022-08-21|      TV|          4|            Manifest|  Manifest: Season 1|                         6|\n",
      "|   Argentina|          AR|2022-08-21|      TV|          5|         The Sandman|The Sandman: Seas...|                         3|\n",
      "|   Argentina|          AR|2022-08-21|      TV|          6|Extraordinary Att...|Extraordinary Att...|                         2|\n",
      "|   Argentina|          AR|2022-08-21|      TV|          7|           High Heat| High Heat: Season 1|                         1|\n",
      "|   Argentina|          AR|2022-08-21|      TV|          8|            Manifest|  Manifest: Season 2|                         5|\n",
      "|   Argentina|          AR|2022-08-21|      TV|          9|            Manifest|  Manifest: Season 3|                         4|\n",
      "|   Argentina|          AR|2022-08-21|      TV|         10|   Never Have I Ever|Never Have I Ever...|                         2|\n",
      "|   Argentina|          AR|2022-08-14|      TV|          1| Pasión de Gavilanes|Pasión de Gavilan...|                         4|\n",
      "|   Argentina|          AR|2022-08-14|      TV|          2|        Another Self|Another Self: Sea...|                         3|\n",
      "|   Argentina|          AR|2022-08-14|      TV|          3|         The Sandman|The Sandman: Seas...|                         2|\n",
      "|   Argentina|          AR|2022-08-14|      TV|          4| Pasión de Gavilanes|Pasión de Gavilan...|                        57|\n",
      "|   Argentina|          AR|2022-08-14|      TV|          5|            Manifest|  Manifest: Season 1|                         5|\n",
      "|   Argentina|          AR|2022-08-14|      TV|          6|Extraordinary Att...|Extraordinary Att...|                         1|\n",
      "|   Argentina|          AR|2022-08-14|      TV|          7|                Alba|      Alba: Season 1|                         5|\n",
      "|   Argentina|          AR|2022-08-14|      TV|          8|            Manifest|  Manifest: Season 2|                         4|\n",
      "|   Argentina|          AR|2022-08-14|      TV|          9|            Manifest|  Manifest: Season 3|                         3|\n",
      "|   Argentina|          AR|2022-08-14|      TV|         10|   Never Have I Ever|Never Have I Ever...|                         1|\n",
      "+------------+------------+----------+--------+-----------+--------------------+--------------------+--------------------------+\n",
      "only showing top 20 rows\n",
      "\n"
     ]
    }
   ],
   "source": [
    "### Replace any null values in 'season_name' in the TV DataFrame with the\n",
    "### corresponding 'show_name', display the table\n",
    "tv_df = tv_df.withColumn('season_title', F.coalesce(tv_df['season_title'], tv_df['show_title']))\n",
    "\n",
    "# Show the updated table\n",
    "tv_df.show()"
   ]
  },
  {
   "cell_type": "code",
   "execution_count": 7,
   "metadata": {},
   "outputs": [
    {
     "data": {
      "text/plain": [
       "0"
      ]
     },
     "execution_count": 7,
     "metadata": {},
     "output_type": "execute_result"
    }
   ],
   "source": [
    "null_count = tv_df.filter(tv_df[\"season_title\"].isNull()).count()\n",
    "null_count"
   ]
  },
  {
   "cell_type": "markdown",
   "metadata": {
    "id": "rAHZm5_9IzTn"
   },
   "source": [
    "# Exercise 2 - Most popular films by country (10 Marks)\n",
    "\n",
    "1.   For each country in the data, find the highest rank each film reached, and the number of weeks it spent in the top 10. (4 marks)\n",
    "2.   Produce a DataFrame that contains the film which spent the most time in each country's top 10. (4 marks)\n",
    "3.   Produce a pie chart which shows how many countries the most popular films occurred in. (2 marks)\n"
   ]
  },
  {
   "cell_type": "code",
   "execution_count": 8,
   "metadata": {},
   "outputs": [
    {
     "name": "stdout",
     "output_type": "stream",
     "text": [
      "+-------------+----------------+-------------------------------+\n",
      "| country_name|min(weekly_rank)|max(cumulative_weeks_in_top_10)|\n",
      "+-------------+----------------+-------------------------------+\n",
      "|     Malaysia|               1|                             23|\n",
      "|      Germany|               1|                             16|\n",
      "|       Jordan|               1|                             42|\n",
      "|     Maldives|               1|                             19|\n",
      "|       France|               1|                             13|\n",
      "|       Greece|               1|                             14|\n",
      "|    Argentina|               1|                             58|\n",
      "|      Belgium|               1|                             13|\n",
      "|      Ecuador|               1|                             60|\n",
      "|      Finland|               1|                             18|\n",
      "|New Caledonia|               1|                             16|\n",
      "|    Nicaragua|               1|                             60|\n",
      "|      Bahamas|               1|                             33|\n",
      "|        India|               1|                             39|\n",
      "|       Kuwait|               1|                             23|\n",
      "|        Malta|               1|                             13|\n",
      "|        Chile|               1|                             54|\n",
      "|   Martinique|               1|                             19|\n",
      "|      Croatia|               1|                             15|\n",
      "|      Bolivia|               1|                             57|\n",
      "+-------------+----------------+-------------------------------+\n",
      "only showing top 20 rows\n",
      "\n"
     ]
    }
   ],
   "source": [
    "# Group the data by country_name and show_title, and aggregate the weekly_rank and cumulative_weeks_in_top_10 columns\n",
    "result = df.groupBy(\"country_name\").agg(F.min(\"weekly_rank\"), F.max(\"cumulative_weeks_in_top_10\"))\n",
    "\n",
    "# Show the result\n",
    "result.show()"
   ]
  },
  {
   "cell_type": "code",
   "execution_count": 9,
   "metadata": {},
   "outputs": [
    {
     "name": "stdout",
     "output_type": "stream",
     "text": [
      "+--------------+--------+-------------------------------+\n",
      "|  country_name|category|max(cumulative_weeks_in_top_10)|\n",
      "+--------------+--------+-------------------------------+\n",
      "|       Ireland|   Films|                              7|\n",
      "|        Canada|   Films|                              7|\n",
      "|         Chile|   Films|                              8|\n",
      "|        Israel|   Films|                             10|\n",
      "|     Argentina|   Films|                              7|\n",
      "|       Hungary|   Films|                             18|\n",
      "|       Belgium|   Films|                              8|\n",
      "|      Maldives|   Films|                             14|\n",
      "|Czech Republic|   Films|                             14|\n",
      "|   Netherlands|   Films|                              6|\n",
      "|     Nicaragua|   Films|                              9|\n",
      "|         Japan|   Films|                             11|\n",
      "|        Mexico|   Films|                             12|\n",
      "|    Costa Rica|   Films|                             10|\n",
      "| New Caledonia|   Films|                              8|\n",
      "|       Germany|   Films|                             13|\n",
      "|        Brazil|   Films|                              7|\n",
      "|      Colombia|   Films|                             12|\n",
      "|   El Salvador|   Films|                             11|\n",
      "|    Luxembourg|   Films|                              8|\n",
      "+--------------+--------+-------------------------------+\n",
      "only showing top 20 rows\n",
      "\n"
     ]
    }
   ],
   "source": [
    "result = films_df.groupBy(\"country_name\",\"category\").agg(F.max(\"cumulative_weeks_in_top_10\"))\n",
    "\n",
    "# Show the result\n",
    "result.show()"
   ]
  },
  {
   "cell_type": "code",
   "execution_count": 10,
   "metadata": {},
   "outputs": [
    {
     "name": "stdout",
     "output_type": "stream",
     "text": [
      "+------------+-------------------------------+\n",
      "|country_name|max(cumulative_weeks_in_top_10)|\n",
      "+------------+-------------------------------+\n",
      "|    Malaysia|                             14|\n",
      "|     Germany|                             13|\n",
      "|      Jordan|                             14|\n",
      "|    Maldives|                             14|\n",
      "|      France|                              6|\n",
      "|      Greece|                              7|\n",
      "|   Argentina|                              7|\n",
      "|     Belgium|                              8|\n",
      "|     Ecuador|                              9|\n",
      "|     Finland|                              8|\n",
      "+------------+-------------------------------+\n",
      "only showing top 10 rows\n",
      "\n"
     ]
    }
   ],
   "source": [
    "result = films_df.groupBy(\"country_name\").agg(F.max(\"cumulative_weeks_in_top_10\"))\n",
    "\n",
    "# Show the result\n",
    "result.show(10)\n",
    "pdf = result.toPandas()[0:10]"
   ]
  },
  {
   "cell_type": "code",
   "execution_count": 13,
   "metadata": {},
   "outputs": [
    {
     "data": {
      "text/plain": [
       "<Figure size 1296x360 with 0 Axes>"
      ]
     },
     "metadata": {},
     "output_type": "display_data"
    },
    {
     "data": {
      "image/png": "[encoded data removed]",
      "text/plain": [
       "<Figure size 720x720 with 1 Axes>"
      ]
     },
     "metadata": {},
     "output_type": "display_data"
    }
   ],
   "source": [
    "plt.figure(figsize=(18,5))\n",
    "pdf.plot(kind='pie', y='max(cumulative_weeks_in_top_10)', \n",
    "         labels=pdf['country_name'], autopct='%1.1f%%',figsize=(10,10),legend=False)\n",
    "\n",
    "# Show the pie chart\n",
    "plt.show()"
   ]
  },
  {
   "cell_type": "code",
   "execution_count": 14,
   "metadata": {
    "id": "8SGNNEcOKLhX"
   },
   "outputs": [],
   "source": [
    "### Group the data by 'country_name' and 'show_title' and find the highest\n",
    "### weekly rank and total weeks spent in the top 10 for each film, display the\n",
    "### data\n",
    "# .groupBy, .agg, F.max, F.min, .sort, .show\n",
    "\n"
   ]
  },
  {
   "cell_type": "code",
   "execution_count": 15,
   "metadata": {},
   "outputs": [
    {
     "name": "stdout",
     "output_type": "stream",
     "text": [
      "+------------+-----------------+----------------+-------------------------------+\n",
      "|country_name|       show_title|min(weekly_rank)|sum(cumulative_weeks_in_top_10)|\n",
      "+------------+-----------------+----------------+-------------------------------+\n",
      "|   Australia|        Bloodshot|               1|                              3|\n",
      "|   Australia|          Traffik|               9|                              1|\n",
      "|   Australia|Godzilla vs. Kong|               2|                              3|\n",
      "|     Bahamas|       The Healer|               6|                              1|\n",
      "|     Bahamas|  The Hurt Locker|               8|                              1|\n",
      "+------------+-----------------+----------------+-------------------------------+\n",
      "only showing top 5 rows\n",
      "\n"
     ]
    }
   ],
   "source": [
    "highest_rating_df = films_df.groupBy(\"country_name\", \"show_title\").agg(F.min(\"weekly_rank\"),F.sum(\"cumulative_weeks_in_top_10\"))\n",
    "# Display the resulting DataFrame\n",
    "highest_rating_df.show(5)"
   ]
  },
  {
   "cell_type": "markdown",
   "metadata": {
    "id": "dwmCkbhhWFdG"
   },
   "source": [
    "Produce a DataFrame which shows, for each country, the most popular film by the number of weeks it spent in the top 10, how many weeks that film was in the top 10, and the highest weekly rank it reached."
   ]
  },
  {
   "cell_type": "code",
   "execution_count": 16,
   "metadata": {},
   "outputs": [
    {
     "name": "stdout",
     "output_type": "stream",
     "text": [
      "+------------+--------------------+---------------+------------+\n",
      "|country_name|          show_title|weeks_in_top_10|highest_rank|\n",
      "+------------+--------------------+---------------+------------+\n",
      "|   Argentina|  Sonic the Hedgehog|              7|           1|\n",
      "|   Argentina|Hotel Transylvani...|              6|           2|\n",
      "|   Argentina|                Vivo|              5|           3|\n",
      "|   Argentina| The Tinder Swindler|              5|           1|\n",
      "|   Argentina|       Don't Look Up|              5|           1|\n",
      "|   Argentina|       The Sea Beast|              5|           1|\n",
      "|   Argentina| Back to the Outback|              5|           3|\n",
      "|   Argentina|The Secret Life o...|              5|           1|\n",
      "|   Argentina|            All Hail|              5|           1|\n",
      "|   Argentina|    The Unforgivable|              5|           1|\n",
      "|   Argentina|    The Adam Project|              4|           1|\n",
      "|   Argentina|      Chernobyl 1986|              4|           1|\n",
      "|   Argentina|Fear Street Part ...|              4|           3|\n",
      "|   Argentina|       Purple Hearts|              4|           1|\n",
      "|   Argentina|               Venom|              4|           1|\n",
      "|   Argentina|        The Gray Man|              4|           1|\n",
      "|   Argentina|   Through My Window|              4|           1|\n",
      "|   Argentina|              Hustle|              4|           1|\n",
      "|   Argentina|        The Ice Road|              4|           2|\n",
      "|   Argentina|     The Equalizer 2|              4|           2|\n",
      "+------------+--------------------+---------------+------------+\n",
      "only showing top 20 rows\n",
      "\n"
     ]
    }
   ],
   "source": [
    "# group by country and show title, and aggregate the max weeks and min weekly rank\n",
    "top_films_by_country = (\n",
    "    films_df.groupBy(['country_name', 'show_title'])\n",
    "      .agg(F.max('cumulative_weeks_in_top_10').alias('weeks_in_top_10'), \n",
    "           F.min('weekly_rank').alias('highest_rank'))\n",
    ")\n",
    "\n",
    "# sort by country and weeks in descending order\n",
    "top_films_by_country = (\n",
    "    top_films_by_country.sort(['country_name', 'weeks_in_top_10'], ascending=[True, False])\n",
    ")\n",
    "\n",
    "# display the resulting table\n",
    "top_films_by_country.show()"
   ]
  },
  {
   "cell_type": "code",
   "execution_count": 17,
   "metadata": {
    "id": "KTkWmAhdWs4Y"
   },
   "outputs": [],
   "source": [
    "### Find the film that spent the most time in each country's top 10 list.\n",
    "### Produce and display a table showing that information, along with the number\n",
    "### of weeks spent in the top 10, and the highest weekly ranking\n",
    "# .groupBy, .sort, .desc, .agg, F.first, .show\n",
    "\n"
   ]
  },
  {
   "cell_type": "code",
   "execution_count": 18,
   "metadata": {},
   "outputs": [
    {
     "name": "stdout",
     "output_type": "stream",
     "text": [
      "+------------------+--------------------+---------------+------------+\n",
      "|      country_name|   most_popular_film|weeks_in_top_10|highest_rank|\n",
      "+------------------+--------------------+---------------+------------+\n",
      "|         Argentina| Pasión de Gavilanes|           1726|           1|\n",
      "|         Australia|     Stranger Things|            236|           1|\n",
      "|           Austria|     Stranger Things|            226|           1|\n",
      "|           Bahamas|SpongeBob SquareP...|            571|           3|\n",
      "|           Bahrain|     Stranger Things|            187|           1|\n",
      "|        Bangladesh|     Stranger Things|            267|           1|\n",
      "|           Belgium|     Stranger Things|            236|           1|\n",
      "|           Bolivia| Pasión de Gavilanes|           1668|           1|\n",
      "|            Brazil|         Chiquititas|           1326|           2|\n",
      "|          Bulgaria|     Stranger Things|            290|           1|\n",
      "|            Canada|     Stranger Things|            200|           1|\n",
      "|             Chile|Yo soy Betty, la fea|           1485|           1|\n",
      "|          Colombia|Pablo Escobar, el...|           1830|           2|\n",
      "|        Costa Rica| Pasión de Gavilanes|           1845|           1|\n",
      "|           Croatia|     Stranger Things|            246|           1|\n",
      "|            Cyprus|     The Good Doctor|            454|           1|\n",
      "|    Czech Republic|         Money Heist|            336|           1|\n",
      "|           Denmark|     Stranger Things|            217|           1|\n",
      "|Dominican Republic| Pasión de Gavilanes|           1845|           1|\n",
      "|           Ecuador| Pasión de Gavilanes|           1845|           1|\n",
      "+------------------+--------------------+---------------+------------+\n",
      "only showing top 20 rows\n",
      "\n"
     ]
    }
   ],
   "source": [
    "\n",
    "# group by country name and show title, and calculate number of weeks and highest weekly rank\n",
    "df_agg = df.groupBy('country_name', 'show_title').agg(\n",
    "    F.sum('cumulative_weeks_in_top_10').alias('weeks_in_top_10'),\n",
    "    F.min('weekly_rank').alias('highest_rank')\n",
    ")\n",
    "\n",
    "# sort by number of weeks spent in top 10 in descending order\n",
    "df_sorted = df_agg.sort(F.desc('weeks_in_top_10'))\n",
    "\n",
    "# select only the rows with the highest number of weeks spent in top 10 for each country\n",
    "df_result = df_sorted.groupBy('country_name').agg(\n",
    "    F.first('show_title').alias('most_popular_film'),\n",
    "    F.max('weeks_in_top_10').alias('weeks_in_top_10'),\n",
    "    F.first('highest_rank').alias('highest_rank')\n",
    ")\n",
    "\n",
    "# display the result\n",
    "df_result.show()\n"
   ]
  },
  {
   "cell_type": "markdown",
   "metadata": {
    "id": "k-2OKNgAgb3j"
   },
   "source": [
    "Group the DataFrame by `season_title` and count the number of countries where each season is the most popular. Convert the DataFrame to Pandas, and use the `DataFrame.plot.pie` method to produce a pie chart of the most popular shows."
   ]
  },
  {
   "cell_type": "code",
   "execution_count": 20,
   "metadata": {},
   "outputs": [
    {
     "name": "stdout",
     "output_type": "stream",
     "text": [
      "+--------------------+-------------+------------+\n",
      "|        season_title|num_countries|highest_rank|\n",
      "+--------------------+-------------+------------+\n",
      "|       You: Season 3|           94|          10|\n",
      "|Squid Game: Season 1|           94|          10|\n",
      "|Sex Education: Se...|           94|          10|\n",
      "|All of Us Are Dea...|           94|          10|\n",
      "|                null|           94|          10|\n",
      "|The Witcher: Seas...|           94|          10|\n",
      "|Inventing Anna: L...|           94|          10|\n",
      "|Emily in Paris: S...|           94|          10|\n",
      "|Resident Evil: Se...|           93|          10|\n",
      "| Money Heist: Part 5|           93|          10|\n",
      "|The Sandman: Seas...|           93|          10|\n",
      "|   Stranger Things 4|           93|          10|\n",
      "|  Sex/Life: Season 1|           93|          10|\n",
      "| Hellbound: Season 1|           93|          10|\n",
      "|Maid: Limited Series|           93|          10|\n",
      "|Bridgerton: Season 2|           93|          10|\n",
      "|The Umbrella Acad...|           91|          10|\n",
      "|   My Name: Season 1|           91|          10|\n",
      "|Vikings: Valhalla...|           91|          10|\n",
      "|   Stranger Things 2|           91|          10|\n",
      "+--------------------+-------------+------------+\n",
      "only showing top 20 rows\n",
      "\n"
     ]
    }
   ],
   "source": [
    "most_popular_season = (df.groupBy(\"season_title\")\n",
    "                      .agg(F.countDistinct(\"country_name\").alias(\"num_countries\"), \n",
    "                           F.max(\"weekly_rank\").alias(\"highest_rank\"))\n",
    "                      .orderBy(F.col(\"num_countries\").desc())\n",
    "                     )\n",
    "most_popular_season.show()\n"
   ]
  },
  {
   "cell_type": "code",
   "execution_count": 21,
   "metadata": {
    "id": "VeaR2m8HenIY"
   },
   "outputs": [
    {
     "data": {
      "image/png": "[encoded data removed]",
      "text/plain": [
       "<Figure size 720x720 with 1 Axes>"
      ]
     },
     "metadata": {},
     "output_type": "display_data"
    }
   ],
   "source": [
    "### Convert the DataFrame to a Pandas DataFrame, and display it as a pie chart\n",
    "# .toPandas, .plot.pie\n",
    "pdf = most_popular_season.toPandas()[0:10]\n",
    "pdf.plot(kind='pie', y='num_countries', \n",
    "         labels=pdf['season_title'], autopct='%1.1f%%',figsize=(10,10),legend=False)\n",
    "\n",
    "# Show the pie chart\n",
    "plt.show()"
   ]
  },
  {
   "cell_type": "markdown",
   "metadata": {
    "id": "_YOKr4khadrB"
   },
   "source": [
    "# Exercise 3 - Most popular shows by country (10 Marks)\n",
    "\n",
    "\n",
    "1.   Calculate the number of weeks each TV show spent in each country's top 10, across all seasons, such that you don't double count a show when two or more seasons appear in one week. (5 marks)\n",
    "2.   Produce a DataFrame that contains the show which spent the most time in each country's top 10. (5 marks)"
   ]
  },
  {
   "cell_type": "code",
   "execution_count": 22,
   "metadata": {},
   "outputs": [
    {
     "name": "stdout",
     "output_type": "stream",
     "text": [
      "+------------+--------------------+---------------+------------+\n",
      "|country_name|          show_title|weeks_in_top_10|highest_rank|\n",
      "+------------+--------------------+---------------+------------+\n",
      "|   Argentina| 42 Days of Darkness|              2|          10|\n",
      "|   Argentina|AlRawabi School f...|              2|          10|\n",
      "|   Argentina|                Alba|              5|           7|\n",
      "|   Argentina| Alice in Borderland|              1|           8|\n",
      "|   Argentina|  All of Us Are Dead|              6|           9|\n",
      "|   Argentina|        Almost Happy|              2|           7|\n",
      "|   Argentina|Anatomy of a Scandal|              3|           6|\n",
      "|   Argentina|        Another Self|              4|          10|\n",
      "|   Argentina|              Arcane|              3|           7|\n",
      "|   Argentina|          Archive 81|              1|           4|\n",
      "|   Argentina|            Atypical|              3|          10|\n",
      "|   Argentina|           Blindspot|              1|          10|\n",
      "|   Argentina|Boruto: Naruto Ne...|              1|           9|\n",
      "|   Argentina|          Bridgerton|              7|           9|\n",
      "|   Argentina|Café con aroma de...|             30|           9|\n",
      "|   Argentina|            Capitani|              1|           7|\n",
      "|   Argentina|           Clickbait|              5|           8|\n",
      "|   Argentina|           Cobra Kai|              4|           9|\n",
      "|   Argentina|           Control Z|              2|           9|\n",
      "|   Argentina|         Dark Desire|              4|          10|\n",
      "+------------+--------------------+---------------+------------+\n",
      "only showing top 20 rows\n",
      "\n"
     ]
    }
   ],
   "source": [
    "grouped_data = tv_df.groupBy('country_name', 'show_title') \\\n",
    "    .agg(F.count('week').alias('weeks_in_top_10'),\n",
    "         F.max('weekly_rank').alias('highest_rank')) \\\n",
    "    .orderBy('country_name', 'show_title')\n",
    "\n",
    "grouped_data.show()\n"
   ]
  },
  {
   "cell_type": "code",
   "execution_count": 23,
   "metadata": {},
   "outputs": [
    {
     "name": "stdout",
     "output_type": "stream",
     "text": [
      "+------------+--------------------+---------+--------+\n",
      "|country_name|          show_title|max_weeks|max_rank|\n",
      "+------------+--------------------+---------+--------+\n",
      "|   Argentina|The Transporter R...|        1|       8|\n",
      "|   Argentina|       In Good Hands|        2|       1|\n",
      "|   Argentina|       He's All That|        3|       2|\n",
      "|   Argentina|      Emily in Paris|        4|       3|\n",
      "|   Argentina|            Intimacy|        5|       2|\n",
      "|   Argentina|      Inventing Anna|        6|       2|\n",
      "|   Argentina|                 You|        7|       1|\n",
      "|   Argentina|The Snitch Cartel...|        9|       1|\n",
      "|   Argentina|Newly Rich, Newly...|       10|       1|\n",
      "|   Argentina|          Squid Game|       11|       1|\n",
      "|   Argentina|         Rebelde Way|       12|       7|\n",
      "|   Argentina|   The Queen of Flow|       25|       1|\n",
      "|   Argentina|Café con aroma de...|       30|       1|\n",
      "|   Argentina|Yo soy Betty, la fea|       31|       6|\n",
      "|   Argentina| Pasión de Gavilanes|       58|       1|\n",
      "|   Australia|             Traffik|        1|       9|\n",
      "|   Australia|           Bloodshot|        2|       1|\n",
      "|   Australia|The Ultimatum: Ma...|        3|       2|\n",
      "|   Australia|     Sweet Magnolias|        4|       1|\n",
      "|   Australia|Anatomy of a Scandal|        5|       1|\n",
      "+------------+--------------------+---------+--------+\n",
      "only showing top 20 rows\n",
      "\n"
     ]
    }
   ],
   "source": [
    "# group the DataFrame by country and show_title, and aggregate the maximum cumulative weeks\n",
    "# and highest weekly ranking for each show in each country\n",
    "grouped = df.groupBy('country_name', 'show_title') \\\n",
    "    .agg(F.max('cumulative_weeks_in_top_10').alias('max_weeks'),\n",
    "         F.min('weekly_rank').alias('max_rank'))\n",
    "\n",
    "# sort the DataFrame by country and the number of cumulative weeks in descending order,\n",
    "# and drop duplicates to keep only the shows with the maximum number of weeks for each country\n",
    "max_weeks_df = grouped.orderBy(['country_name', 'max_weeks'], ascending=[True, False]) \\\n",
    "    .dropDuplicates(['country_name', 'max_weeks']) \\\n",
    "    .select('country_name', 'show_title', 'max_weeks', 'max_rank')\n",
    "\n",
    "# show the resulting DataFrame\n",
    "max_weeks_df.show()\n"
   ]
  },
  {
   "cell_type": "code",
   "execution_count": 24,
   "metadata": {
    "id": "T4KuEbwgbJar"
   },
   "outputs": [],
   "source": [
    "### Group the data by 'country_name' and 'show_title' and count the number of\n",
    "### weeks each show appears in each country's top 10 lists, as well as the\n",
    "### highest weekly ranking. Display the data.\n",
    "# .groupBy, .agg, F.count_distinct, F.min, .sort, .show\n",
    "\n"
   ]
  },
  {
   "cell_type": "code",
   "execution_count": 25,
   "metadata": {},
   "outputs": [
    {
     "name": "stdout",
     "output_type": "stream",
     "text": [
      "+------------+--------------------+---------------+------------+\n",
      "|country_name|          show_title|weeks_in_top_10|highest_rank|\n",
      "+------------+--------------------+---------------+------------+\n",
      "|   Argentina|13 Hours: The Sec...|              2|           4|\n",
      "|   Argentina|                1917|              2|           3|\n",
      "|   Argentina|                 211|              1|           4|\n",
      "|   Argentina|  365 Days: This Day|              2|           1|\n",
      "|   Argentina|      40 Years Young|              1|           8|\n",
      "|   Argentina| 42 Days of Darkness|              2|           8|\n",
      "|   Argentina|47 Meters Down: U...|              2|           5|\n",
      "|   Argentina|         7 Prisoners|              2|           5|\n",
      "|   Argentina|A Boy Called Chri...|              2|           6|\n",
      "|   Argentina|A California Chri...|              1|           4|\n",
      "|   Argentina|A Castle For Chri...|              2|           7|\n",
      "|   Argentina|A Classic Horror ...|              1|          10|\n",
      "|   Argentina|     A Dog's Journey|              2|           5|\n",
      "|   Argentina|    A Dog's Way Home|              1|           6|\n",
      "|   Argentina|     A Perfect Enemy|              1|           7|\n",
      "|   Argentina|       A Perfect Fit|              1|           6|\n",
      "|   Argentina|   A Perfect Pairing|              3|           2|\n",
      "|   Argentina|   A Score to Settle|              2|           3|\n",
      "|   Argentina|          Abominable|              3|           4|\n",
      "|   Argentina|Afterlife of the ...|              2|           3|\n",
      "+------------+--------------------+---------------+------------+\n",
      "only showing top 20 rows\n",
      "\n"
     ]
    }
   ],
   "source": [
    "grouped_df = df.groupBy('country_name', 'show_title') \\\n",
    "              .agg(F.countDistinct('week').alias('weeks_in_top_10'),\n",
    "                   F.min('weekly_rank').alias('highest_rank')) \\\n",
    "              .sort('country_name', 'show_title')\n",
    "\n",
    "grouped_df.show()\n"
   ]
  },
  {
   "cell_type": "code",
   "execution_count": 26,
   "metadata": {
    "id": "kenFjaaR9pLp"
   },
   "outputs": [],
   "source": [
    "### Find the show that spent the most time in each country's top 10 list.\n",
    "### Produce and display a table showing that information, along with the number\n",
    "### of weeks spent in the top 10, and the highest weekly ranking\n",
    "# .groupBy, .sort, .desc, .agg, F.first, .show\n",
    "\n"
   ]
  },
  {
   "cell_type": "code",
   "execution_count": 28,
   "metadata": {},
   "outputs": [
    {
     "name": "stdout",
     "output_type": "stream",
     "text": [
      "+------------------+--------------------+---------------+-------------------+\n",
      "|      country_name|   most_popular_show|weeks_in_top_10|highest_weekly_rank|\n",
      "+------------------+--------------------+---------------+-------------------+\n",
      "|         Argentina| Pasión de Gavilanes|           1726|                 10|\n",
      "|         Australia|     Stranger Things|            236|                 10|\n",
      "|           Austria|     Stranger Things|            226|                 10|\n",
      "|           Bahamas|SpongeBob SquareP...|            571|                 10|\n",
      "|           Bahrain|     Stranger Things|            187|                  9|\n",
      "|        Bangladesh|     Stranger Things|            267|                 10|\n",
      "|           Belgium|     Stranger Things|            236|                  9|\n",
      "|           Bolivia| Pasión de Gavilanes|           1668|                 10|\n",
      "|            Brazil|         Chiquititas|           1326|                 10|\n",
      "|          Bulgaria|     Stranger Things|            290|                 10|\n",
      "|            Canada|     Stranger Things|            200|                 10|\n",
      "|             Chile|Yo soy Betty, la fea|           1485|                  7|\n",
      "|          Colombia|Pablo Escobar, el...|           1830|                  8|\n",
      "|        Costa Rica| Pasión de Gavilanes|           1845|                 10|\n",
      "|           Croatia|     Stranger Things|            246|                 10|\n",
      "|            Cyprus|     The Good Doctor|            454|                 10|\n",
      "|    Czech Republic|         Money Heist|            336|                 10|\n",
      "|           Denmark|     Stranger Things|            217|                 10|\n",
      "|Dominican Republic| Pasión de Gavilanes|           1845|                 10|\n",
      "|           Ecuador| Pasión de Gavilanes|           1845|                  7|\n",
      "+------------------+--------------------+---------------+-------------------+\n",
      "only showing top 20 rows\n",
      "\n"
     ]
    }
   ],
   "source": [
    "result = (\n",
    "    df.groupBy('country_name', 'show_title')\n",
    "        .agg(F.sum('cumulative_weeks_in_top_10').alias('total_weeks_in_top_10'),\n",
    "             F.max('weekly_rank').alias('highest_weekly_rank'))\n",
    "        .orderBy(F.col('total_weeks_in_top_10').desc())\n",
    "        .groupBy('country_name')\n",
    "        .agg(F.first('show_title').alias('most_popular_show'),\n",
    "             F.max('total_weeks_in_top_10').alias('weeks_in_top_10'),\n",
    "             F.first('highest_weekly_rank').alias('highest_weekly_rank'))\n",
    "        .orderBy('country_name')\n",
    ")\n",
    "\n",
    "result.show()"
   ]
  },
  {
   "cell_type": "code",
   "execution_count": null,
   "metadata": {},
   "outputs": [],
   "source": []
  },
  {
   "cell_type": "code",
   "execution_count": null,
   "metadata": {},
   "outputs": [],
   "source": []
  }
 ],
 "metadata": {
  "colab": {
   "provenance": []
  },
  "kernelspec": {
   "display_name": "Python 3",
   "language": "python",
   "name": "python3"
  },
  "language_info": {
   "codemirror_mode": {
    "name": "ipython",
    "version": 3
   },
   "file_extension": ".py",
   "mimetype": "text/x-python",
   "name": "python",
   "nbconvert_exporter": "python",
   "pygments_lexer": "ipython3",
   "version": "3.9.5"
  }
 },
 "nbformat": 4,
 "nbformat_minor": 1
}
