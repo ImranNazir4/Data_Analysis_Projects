{
 "cells": [
  {
   "cell_type": "markdown",
   "metadata": {
    "id": "ViQdeQ5m1E2Z"
   },
   "source": [
    "# ADS2 - Assignment 2 - Data Handling and Processing with PySpark\n",
    "\n",
    "In this assignment, you will be analysing the popularity of films and TV shows on the streaming platform, Netflix. Using your knowledge of PySpark DataFrames and Spark SQL, you will produce a number of \"downstream\" data products to analyse trends in global streaming habits.\n",
    "\n",
    "Download the dataset from this [Kaggle](https://www.kaggle.com/dhruvildave/netflix-top-10-tv-shows-and-films) page. A copy of the `all_weeks_countries.csv` file is also available on the canvas page for this assignment.\n",
    "\n",
    "Your task is to load in the data and produce a number of \"downstream\" data products and plots as described below.\n",
    "\n",
    "The PySpark installation and setup is provided below for conveinience."
   ]
  },
  {
   "cell_type": "code",
   "execution_count": null,
   "metadata": {
    "id": "5lb-Z7ZM8O3s"
   },
   "outputs": [],
   "source": [
    "# Apache Spark uses Java, so first we must install that\n",
    "!apt-get install openjdk-8-jdk-headless -qq > /dev/null"
   ]
  },
  {
   "cell_type": "code",
   "execution_count": null,
   "metadata": {
    "id": "ixa72o938SKP"
   },
   "outputs": [],
   "source": [
    "# Mount Google Drive and unpack Spark\n",
    "from google.colab import drive\n",
    "drive.mount('/content/drive')\n",
    "!tar xzf /content/drive/MyDrive/spark-3.3.0-bin-hadoop3.tgz"
   ]
  },
  {
   "cell_type": "code",
   "execution_count": null,
   "metadata": {
    "id": "yWT7_XiQ8V6u"
   },
   "outputs": [],
   "source": [
    "# Set up environment variables\n",
    "import os\n",
    "os.environ[\"JAVA_HOME\"] = \"/usr/lib/jvm/java-8-openjdk-amd64\"\n",
    "os.environ[\"SPARK_HOME\"] = \"/content/spark-3.3.0-bin-hadoop3\""
   ]
  },
  {
   "cell_type": "code",
   "execution_count": null,
   "metadata": {
    "id": "UPSvq-aj8Z_k"
   },
   "outputs": [],
   "source": [
    "# Install findspark, which helps python locate the psyspark module files\n",
    "!pip install -q findspark\n",
    "import findspark\n",
    "findspark.init()"
   ]
  },
  {
   "cell_type": "code",
   "execution_count": null,
   "metadata": {
    "id": "kXT8Q_IO8cVe"
   },
   "outputs": [],
   "source": [
    "# Finally, we initialse a \"SparkSession\", which handles the computations\n",
    "from pyspark.sql import SparkSession\n",
    "spark = SparkSession.builder\\\n",
    "        .master(\"local\")\\\n",
    "        .appName(\"Colab\")\\\n",
    "        .config('spark.ui.port', '4050')\\\n",
    "        .getOrCreate()"
   ]
  },
  {
   "cell_type": "markdown",
   "metadata": {
    "id": "yfW6RnY_GZpE"
   },
   "source": [
    "# Exercise 1 - Data Preparation (5 Marks)\n",
    "\n",
    "\n",
    "1.   Load the `all_weeks_countries.csv` into your Colab Notebook as a DataFrame.\n",
    "2.   Create two separate DataFrames for Films and TV.\n",
    "3.   For the Films data, drop the column containing the season names.\n",
    "4.   For the TV data, replace any null values in the season name column with the show name."
   ]
  },
  {
   "cell_type": "code",
   "execution_count": 2,
   "metadata": {
    "id": "adZdlbyGL7Mj"
   },
   "outputs": [],
   "source": [
    "# pyspark.sql.functions countains all the transformations and actions you will\n",
    "# need\n",
    "from pyspark.sql import functions as F"
   ]
  },
  {
   "cell_type": "code",
   "execution_count": 53,
   "metadata": {},
   "outputs": [],
   "source": [
    "import pandas as pd\n",
    "import numpy as np"
   ]
  },
  {
   "cell_type": "code",
   "execution_count": 44,
   "metadata": {},
   "outputs": [],
   "source": [
    "df=pd.read_csv(\"all-weeks-countries.csv\")"
   ]
  },
  {
   "cell_type": "code",
   "execution_count": 52,
   "metadata": {},
   "outputs": [
    {
     "data": {
      "text/plain": [
       "0          True\n",
       "1          True\n",
       "2          True\n",
       "3          True\n",
       "4          True\n",
       "          ...  \n",
       "112295    False\n",
       "112296    False\n",
       "112297    False\n",
       "112298    False\n",
       "112299    False\n",
       "Name: season_title, Length: 112300, dtype: bool"
      ]
     },
     "execution_count": 52,
     "metadata": {},
     "output_type": "execute_result"
    }
   ],
   "source": [
    "df[\"season_title\"].isnull()"
   ]
  },
  {
   "cell_type": "code",
   "execution_count": 64,
   "metadata": {},
   "outputs": [
    {
     "data": {
      "text/plain": [
       "float"
      ]
     },
     "execution_count": 64,
     "metadata": {},
     "output_type": "execute_result"
    }
   ],
   "source": [
    "type(np.nan)"
   ]
  },
  {
   "cell_type": "code",
   "execution_count": 68,
   "metadata": {},
   "outputs": [
    {
     "name": "stderr",
     "output_type": "stream",
     "text": [
      "<ipython-input-68-58d090daebc3>:1: DeprecationWarning: `np.float` is a deprecated alias for the builtin `float`. To silence this warning, use `float` by itself. Doing this will not modify any behavior and is safe. If you specifically wanted the numpy scalar type, use `np.float64` here.\n",
      "Deprecated in NumPy 1.20; for more details and guidance: https://numpy.org/devdocs/release/1.20.0-notes.html#deprecations\n",
      "  df.apply(lambda x: x[\"show_title\"] if type(x[\"season_title\"])==np.float else x[\"season_title\"],axis=1)\n"
     ]
    },
    {
     "data": {
      "text/plain": [
       "0                             Look Both Ways\n",
       "1                                  Day Shift\n",
       "2         Bank Robbers: The Last Great Heist\n",
       "3                          The Next 365 Days\n",
       "4                    The Angry Birds Movie 2\n",
       "                         ...                \n",
       "112295                  Reply 1988: Season 1\n",
       "112296               Nevertheless,: Season 1\n",
       "112297           Too Hot to Handle: Season 2\n",
       "112298          Record of Ragnarok: Season 1\n",
       "112299        Crash Landing on You: Season 1\n",
       "Length: 112300, dtype: object"
      ]
     },
     "execution_count": 68,
     "metadata": {},
     "output_type": "execute_result"
    }
   ],
   "source": [
    "df.apply(lambda x: x[\"show_title\"] if type(x[\"season_title\"])==np.float else x[\"season_title\"],axis=1)"
   ]
  },
  {
   "cell_type": "code",
   "execution_count": 57,
   "metadata": {},
   "outputs": [
    {
     "data": {
      "text/html": [
       "<div>\n",
       "<style scoped>\n",
       "    .dataframe tbody tr th:only-of-type {\n",
       "        vertical-align: middle;\n",
       "    }\n",
       "\n",
       "    .dataframe tbody tr th {\n",
       "        vertical-align: top;\n",
       "    }\n",
       "\n",
       "    .dataframe thead th {\n",
       "        text-align: right;\n",
       "    }\n",
       "</style>\n",
       "<table border=\"1\" class=\"dataframe\">\n",
       "  <thead>\n",
       "    <tr style=\"text-align: right;\">\n",
       "      <th></th>\n",
       "      <th>country_name</th>\n",
       "      <th>country_iso2</th>\n",
       "      <th>week</th>\n",
       "      <th>category</th>\n",
       "      <th>weekly_rank</th>\n",
       "      <th>show_title</th>\n",
       "      <th>season_title</th>\n",
       "      <th>cumulative_weeks_in_top_10</th>\n",
       "      <th>A</th>\n",
       "    </tr>\n",
       "  </thead>\n",
       "  <tbody>\n",
       "    <tr>\n",
       "      <th>0</th>\n",
       "      <td>Argentina</td>\n",
       "      <td>AR</td>\n",
       "      <td>2022-08-21</td>\n",
       "      <td>Films</td>\n",
       "      <td>1</td>\n",
       "      <td>Look Both Ways</td>\n",
       "      <td>NaN</td>\n",
       "      <td>1</td>\n",
       "      <td>NaN</td>\n",
       "    </tr>\n",
       "    <tr>\n",
       "      <th>1</th>\n",
       "      <td>Argentina</td>\n",
       "      <td>AR</td>\n",
       "      <td>2022-08-21</td>\n",
       "      <td>Films</td>\n",
       "      <td>2</td>\n",
       "      <td>Day Shift</td>\n",
       "      <td>NaN</td>\n",
       "      <td>2</td>\n",
       "      <td>NaN</td>\n",
       "    </tr>\n",
       "    <tr>\n",
       "      <th>2</th>\n",
       "      <td>Argentina</td>\n",
       "      <td>AR</td>\n",
       "      <td>2022-08-21</td>\n",
       "      <td>Films</td>\n",
       "      <td>3</td>\n",
       "      <td>Bank Robbers: The Last Great Heist</td>\n",
       "      <td>NaN</td>\n",
       "      <td>2</td>\n",
       "      <td>NaN</td>\n",
       "    </tr>\n",
       "    <tr>\n",
       "      <th>3</th>\n",
       "      <td>Argentina</td>\n",
       "      <td>AR</td>\n",
       "      <td>2022-08-21</td>\n",
       "      <td>Films</td>\n",
       "      <td>4</td>\n",
       "      <td>The Next 365 Days</td>\n",
       "      <td>NaN</td>\n",
       "      <td>1</td>\n",
       "      <td>NaN</td>\n",
       "    </tr>\n",
       "    <tr>\n",
       "      <th>4</th>\n",
       "      <td>Argentina</td>\n",
       "      <td>AR</td>\n",
       "      <td>2022-08-21</td>\n",
       "      <td>Films</td>\n",
       "      <td>5</td>\n",
       "      <td>The Angry Birds Movie 2</td>\n",
       "      <td>NaN</td>\n",
       "      <td>1</td>\n",
       "      <td>NaN</td>\n",
       "    </tr>\n",
       "    <tr>\n",
       "      <th>...</th>\n",
       "      <td>...</td>\n",
       "      <td>...</td>\n",
       "      <td>...</td>\n",
       "      <td>...</td>\n",
       "      <td>...</td>\n",
       "      <td>...</td>\n",
       "      <td>...</td>\n",
       "      <td>...</td>\n",
       "      <td>...</td>\n",
       "    </tr>\n",
       "    <tr>\n",
       "      <th>112295</th>\n",
       "      <td>Vietnam</td>\n",
       "      <td>VN</td>\n",
       "      <td>2021-07-04</td>\n",
       "      <td>TV</td>\n",
       "      <td>6</td>\n",
       "      <td>Reply 1988</td>\n",
       "      <td>Reply 1988: Season 1</td>\n",
       "      <td>1</td>\n",
       "      <td>Reply 1988: Season 1</td>\n",
       "    </tr>\n",
       "    <tr>\n",
       "      <th>112296</th>\n",
       "      <td>Vietnam</td>\n",
       "      <td>VN</td>\n",
       "      <td>2021-07-04</td>\n",
       "      <td>TV</td>\n",
       "      <td>7</td>\n",
       "      <td>Nevertheless,</td>\n",
       "      <td>Nevertheless,: Season 1</td>\n",
       "      <td>1</td>\n",
       "      <td>Nevertheless,: Season 1</td>\n",
       "    </tr>\n",
       "    <tr>\n",
       "      <th>112297</th>\n",
       "      <td>Vietnam</td>\n",
       "      <td>VN</td>\n",
       "      <td>2021-07-04</td>\n",
       "      <td>TV</td>\n",
       "      <td>8</td>\n",
       "      <td>Too Hot to Handle</td>\n",
       "      <td>Too Hot to Handle: Season 2</td>\n",
       "      <td>1</td>\n",
       "      <td>Too Hot to Handle: Season 2</td>\n",
       "    </tr>\n",
       "    <tr>\n",
       "      <th>112298</th>\n",
       "      <td>Vietnam</td>\n",
       "      <td>VN</td>\n",
       "      <td>2021-07-04</td>\n",
       "      <td>TV</td>\n",
       "      <td>9</td>\n",
       "      <td>Record of Ragnarok</td>\n",
       "      <td>Record of Ragnarok: Season 1</td>\n",
       "      <td>1</td>\n",
       "      <td>Record of Ragnarok: Season 1</td>\n",
       "    </tr>\n",
       "    <tr>\n",
       "      <th>112299</th>\n",
       "      <td>Vietnam</td>\n",
       "      <td>VN</td>\n",
       "      <td>2021-07-04</td>\n",
       "      <td>TV</td>\n",
       "      <td>10</td>\n",
       "      <td>Crash Landing on You</td>\n",
       "      <td>Crash Landing on You: Season 1</td>\n",
       "      <td>1</td>\n",
       "      <td>Crash Landing on You: Season 1</td>\n",
       "    </tr>\n",
       "  </tbody>\n",
       "</table>\n",
       "<p>112300 rows × 9 columns</p>\n",
       "</div>"
      ],
      "text/plain": [
       "       country_name country_iso2        week category  weekly_rank  \\\n",
       "0         Argentina           AR  2022-08-21    Films            1   \n",
       "1         Argentina           AR  2022-08-21    Films            2   \n",
       "2         Argentina           AR  2022-08-21    Films            3   \n",
       "3         Argentina           AR  2022-08-21    Films            4   \n",
       "4         Argentina           AR  2022-08-21    Films            5   \n",
       "...             ...          ...         ...      ...          ...   \n",
       "112295      Vietnam           VN  2021-07-04       TV            6   \n",
       "112296      Vietnam           VN  2021-07-04       TV            7   \n",
       "112297      Vietnam           VN  2021-07-04       TV            8   \n",
       "112298      Vietnam           VN  2021-07-04       TV            9   \n",
       "112299      Vietnam           VN  2021-07-04       TV           10   \n",
       "\n",
       "                                show_title                    season_title  \\\n",
       "0                           Look Both Ways                             NaN   \n",
       "1                                Day Shift                             NaN   \n",
       "2       Bank Robbers: The Last Great Heist                             NaN   \n",
       "3                        The Next 365 Days                             NaN   \n",
       "4                  The Angry Birds Movie 2                             NaN   \n",
       "...                                    ...                             ...   \n",
       "112295                          Reply 1988            Reply 1988: Season 1   \n",
       "112296                       Nevertheless,         Nevertheless,: Season 1   \n",
       "112297                   Too Hot to Handle     Too Hot to Handle: Season 2   \n",
       "112298                  Record of Ragnarok    Record of Ragnarok: Season 1   \n",
       "112299                Crash Landing on You  Crash Landing on You: Season 1   \n",
       "\n",
       "        cumulative_weeks_in_top_10                               A  \n",
       "0                                1                             NaN  \n",
       "1                                2                             NaN  \n",
       "2                                2                             NaN  \n",
       "3                                1                             NaN  \n",
       "4                                1                             NaN  \n",
       "...                            ...                             ...  \n",
       "112295                           1            Reply 1988: Season 1  \n",
       "112296                           1         Nevertheless,: Season 1  \n",
       "112297                           1     Too Hot to Handle: Season 2  \n",
       "112298                           1    Record of Ragnarok: Season 1  \n",
       "112299                           1  Crash Landing on You: Season 1  \n",
       "\n",
       "[112300 rows x 9 columns]"
      ]
     },
     "execution_count": 57,
     "metadata": {},
     "output_type": "execute_result"
    }
   ],
   "source": [
    "df"
   ]
  },
  {
   "cell_type": "code",
   "execution_count": null,
   "metadata": {},
   "outputs": [],
   "source": []
  },
  {
   "cell_type": "code",
   "execution_count": null,
   "metadata": {},
   "outputs": [],
   "source": []
  },
  {
   "cell_type": "code",
   "execution_count": null,
   "metadata": {},
   "outputs": [],
   "source": []
  },
  {
   "cell_type": "code",
   "execution_count": null,
   "metadata": {},
   "outputs": [],
   "source": []
  },
  {
   "cell_type": "code",
   "execution_count": null,
   "metadata": {},
   "outputs": [],
   "source": []
  },
  {
   "cell_type": "code",
   "execution_count": null,
   "metadata": {},
   "outputs": [],
   "source": []
  },
  {
   "cell_type": "code",
   "execution_count": null,
   "metadata": {},
   "outputs": [],
   "source": []
  },
  {
   "cell_type": "code",
   "execution_count": null,
   "metadata": {},
   "outputs": [],
   "source": []
  },
  {
   "cell_type": "code",
   "execution_count": null,
   "metadata": {},
   "outputs": [],
   "source": []
  },
  {
   "cell_type": "code",
   "execution_count": null,
   "metadata": {},
   "outputs": [],
   "source": []
  },
  {
   "cell_type": "code",
   "execution_count": null,
   "metadata": {},
   "outputs": [],
   "source": []
  },
  {
   "cell_type": "code",
   "execution_count": null,
   "metadata": {},
   "outputs": [],
   "source": []
  },
  {
   "cell_type": "code",
   "execution_count": null,
   "metadata": {},
   "outputs": [],
   "source": []
  },
  {
   "cell_type": "code",
   "execution_count": null,
   "metadata": {},
   "outputs": [],
   "source": []
  },
  {
   "cell_type": "code",
   "execution_count": null,
   "metadata": {},
   "outputs": [],
   "source": []
  },
  {
   "cell_type": "code",
   "execution_count": null,
   "metadata": {},
   "outputs": [],
   "source": []
  },
  {
   "cell_type": "code",
   "execution_count": null,
   "metadata": {},
   "outputs": [],
   "source": []
  },
  {
   "cell_type": "code",
   "execution_count": 69,
   "metadata": {
    "id": "I7PS8iZgqwjt"
   },
   "outputs": [
    {
     "name": "stdout",
     "output_type": "stream",
     "text": [
      "+------------+------------+----------+--------+-----------+--------------------+--------------------+--------------------------+\n",
      "|country_name|country_iso2|      week|category|weekly_rank|          show_title|        season_title|cumulative_weeks_in_top_10|\n",
      "+------------+------------+----------+--------+-----------+--------------------+--------------------+--------------------------+\n",
      "|   Argentina|          AR|2022-08-21|   Films|          1|      Look Both Ways|                null|                         1|\n",
      "|   Argentina|          AR|2022-08-21|   Films|          2|           Day Shift|                null|                         2|\n",
      "|   Argentina|          AR|2022-08-21|   Films|          3|Bank Robbers: The...|                null|                         2|\n",
      "|   Argentina|          AR|2022-08-21|   Films|          4|   The Next 365 Days|                null|                         1|\n",
      "|   Argentina|          AR|2022-08-21|   Films|          5|The Angry Birds M...|                null|                         1|\n",
      "|   Argentina|          AR|2022-08-21|   Films|          6|       Purple Hearts|                null|                         4|\n",
      "|   Argentina|          AR|2022-08-21|   Films|          7|      River Runs Red|                null|                         1|\n",
      "|   Argentina|          AR|2022-08-21|   Films|          8|                1917|                null|                         2|\n",
      "|   Argentina|          AR|2022-08-21|   Films|          9|  Code Name: Emperor|                null|                         2|\n",
      "|   Argentina|          AR|2022-08-21|   Films|         10|           Royalteen|                null|                         1|\n",
      "|   Argentina|          AR|2022-08-21|      TV|          1| Pasión de Gavilanes|Pasión de Gavilan...|                         5|\n",
      "|   Argentina|          AR|2022-08-21|      TV|          2|        Another Self|Another Self: Sea...|                         4|\n",
      "|   Argentina|          AR|2022-08-21|      TV|          3| Pasión de Gavilanes|Pasión de Gavilan...|                        58|\n",
      "|   Argentina|          AR|2022-08-21|      TV|          4|            Manifest|  Manifest: Season 1|                         6|\n",
      "|   Argentina|          AR|2022-08-21|      TV|          5|         The Sandman|The Sandman: Seas...|                         3|\n",
      "|   Argentina|          AR|2022-08-21|      TV|          6|Extraordinary Att...|Extraordinary Att...|                         2|\n",
      "|   Argentina|          AR|2022-08-21|      TV|          7|           High Heat| High Heat: Season 1|                         1|\n",
      "|   Argentina|          AR|2022-08-21|      TV|          8|            Manifest|  Manifest: Season 2|                         5|\n",
      "|   Argentina|          AR|2022-08-21|      TV|          9|            Manifest|  Manifest: Season 3|                         4|\n",
      "|   Argentina|          AR|2022-08-21|      TV|         10|   Never Have I Ever|Never Have I Ever...|                         2|\n",
      "+------------+------------+----------+--------+-----------+--------------------+--------------------+--------------------------+\n",
      "only showing top 20 rows\n",
      "\n"
     ]
    }
   ],
   "source": [
    "### Load the all_weeks_countries.csv into your Colab Notebook as a DataFrame.\n",
    "from pyspark.sql import SparkSession\n",
    "\n",
    "spark = SparkSession.builder.appName(\"ReadCSV\").getOrCreate()\n",
    "\n",
    "# Read CSV file\n",
    "df = spark.read.csv(\"all-weeks-countries.csv\", header=True, inferSchema=True)\n",
    "\n",
    "# Show the first 20 rows\n",
    "df.show(20)\n"
   ]
  },
  {
   "cell_type": "code",
   "execution_count": 70,
   "metadata": {
    "id": "aOKWP2lgu7p4"
   },
   "outputs": [
    {
     "name": "stdout",
     "output_type": "stream",
     "text": [
      "root\n",
      " |-- country_name: string (nullable = true)\n",
      " |-- country_iso2: string (nullable = true)\n",
      " |-- week: date (nullable = true)\n",
      " |-- category: string (nullable = true)\n",
      " |-- weekly_rank: integer (nullable = true)\n",
      " |-- show_title: string (nullable = true)\n",
      " |-- season_title: string (nullable = true)\n",
      " |-- cumulative_weeks_in_top_10: integer (nullable = true)\n",
      "\n",
      "+------------+------------+----------+--------+-----------+--------------------+--------------------+--------------------------+\n",
      "|country_name|country_iso2|      week|category|weekly_rank|          show_title|        season_title|cumulative_weeks_in_top_10|\n",
      "+------------+------------+----------+--------+-----------+--------------------+--------------------+--------------------------+\n",
      "|   Argentina|          AR|2022-08-21|   Films|          1|      Look Both Ways|                null|                         1|\n",
      "|   Argentina|          AR|2022-08-21|   Films|          2|           Day Shift|                null|                         2|\n",
      "|   Argentina|          AR|2022-08-21|   Films|          3|Bank Robbers: The...|                null|                         2|\n",
      "|   Argentina|          AR|2022-08-21|   Films|          4|   The Next 365 Days|                null|                         1|\n",
      "|   Argentina|          AR|2022-08-21|   Films|          5|The Angry Birds M...|                null|                         1|\n",
      "|   Argentina|          AR|2022-08-21|   Films|          6|       Purple Hearts|                null|                         4|\n",
      "|   Argentina|          AR|2022-08-21|   Films|          7|      River Runs Red|                null|                         1|\n",
      "|   Argentina|          AR|2022-08-21|   Films|          8|                1917|                null|                         2|\n",
      "|   Argentina|          AR|2022-08-21|   Films|          9|  Code Name: Emperor|                null|                         2|\n",
      "|   Argentina|          AR|2022-08-21|   Films|         10|           Royalteen|                null|                         1|\n",
      "|   Argentina|          AR|2022-08-21|      TV|          1| Pasión de Gavilanes|Pasión de Gavilan...|                         5|\n",
      "|   Argentina|          AR|2022-08-21|      TV|          2|        Another Self|Another Self: Sea...|                         4|\n",
      "|   Argentina|          AR|2022-08-21|      TV|          3| Pasión de Gavilanes|Pasión de Gavilan...|                        58|\n",
      "|   Argentina|          AR|2022-08-21|      TV|          4|            Manifest|  Manifest: Season 1|                         6|\n",
      "|   Argentina|          AR|2022-08-21|      TV|          5|         The Sandman|The Sandman: Seas...|                         3|\n",
      "|   Argentina|          AR|2022-08-21|      TV|          6|Extraordinary Att...|Extraordinary Att...|                         2|\n",
      "|   Argentina|          AR|2022-08-21|      TV|          7|           High Heat| High Heat: Season 1|                         1|\n",
      "|   Argentina|          AR|2022-08-21|      TV|          8|            Manifest|  Manifest: Season 2|                         5|\n",
      "|   Argentina|          AR|2022-08-21|      TV|          9|            Manifest|  Manifest: Season 3|                         4|\n",
      "|   Argentina|          AR|2022-08-21|      TV|         10|   Never Have I Ever|Never Have I Ever...|                         2|\n",
      "+------------+------------+----------+--------+-----------+--------------------+--------------------+--------------------------+\n",
      "only showing top 20 rows\n",
      "\n"
     ]
    }
   ],
   "source": [
    "### Display the table and its schema\n",
    "df.printSchema()\n",
    "# Display the table\n",
    "df.show()"
   ]
  },
  {
   "cell_type": "code",
   "execution_count": 71,
   "metadata": {},
   "outputs": [
    {
     "data": {
      "text/plain": [
       "['country_name',\n",
       " 'country_iso2',\n",
       " 'week',\n",
       " 'category',\n",
       " 'weekly_rank',\n",
       " 'show_title',\n",
       " 'season_title',\n",
       " 'cumulative_weeks_in_top_10']"
      ]
     },
     "execution_count": 71,
     "metadata": {},
     "output_type": "execute_result"
    }
   ],
   "source": [
    "df.columns"
   ]
  },
  {
   "cell_type": "code",
   "execution_count": 72,
   "metadata": {
    "id": "O0SB_TfWfrIH"
   },
   "outputs": [
    {
     "name": "stdout",
     "output_type": "stream",
     "text": [
      "+------------+------------+----------+--------+-----------+--------------------+------------+--------------------------+\n",
      "|country_name|country_iso2|      week|category|weekly_rank|          show_title|season_title|cumulative_weeks_in_top_10|\n",
      "+------------+------------+----------+--------+-----------+--------------------+------------+--------------------------+\n",
      "|   Argentina|          AR|2022-08-21|   Films|          1|      Look Both Ways|        null|                         1|\n",
      "|   Argentina|          AR|2022-08-21|   Films|          2|           Day Shift|        null|                         2|\n",
      "|   Argentina|          AR|2022-08-21|   Films|          3|Bank Robbers: The...|        null|                         2|\n",
      "|   Argentina|          AR|2022-08-21|   Films|          4|   The Next 365 Days|        null|                         1|\n",
      "|   Argentina|          AR|2022-08-21|   Films|          5|The Angry Birds M...|        null|                         1|\n",
      "|   Argentina|          AR|2022-08-21|   Films|          6|       Purple Hearts|        null|                         4|\n",
      "|   Argentina|          AR|2022-08-21|   Films|          7|      River Runs Red|        null|                         1|\n",
      "|   Argentina|          AR|2022-08-21|   Films|          8|                1917|        null|                         2|\n",
      "|   Argentina|          AR|2022-08-21|   Films|          9|  Code Name: Emperor|        null|                         2|\n",
      "|   Argentina|          AR|2022-08-21|   Films|         10|           Royalteen|        null|                         1|\n",
      "|   Argentina|          AR|2022-08-14|   Films|          1|Bank Robbers: The...|        null|                         1|\n",
      "|   Argentina|          AR|2022-08-14|   Films|          2|       Purple Hearts|        null|                         3|\n",
      "|   Argentina|          AR|2022-08-14|   Films|          3|                1917|        null|                         1|\n",
      "|   Argentina|          AR|2022-08-14|   Films|          4|           Day Shift|        null|                         1|\n",
      "|   Argentina|          AR|2022-08-14|   Films|          5|  Code Name: Emperor|        null|                         1|\n",
      "|   Argentina|          AR|2022-08-14|   Films|          6|              Carter|        null|                         2|\n",
      "|   Argentina|          AR|2022-08-14|   Films|          7|          Recurrence|        null|                         3|\n",
      "|   Argentina|          AR|2022-08-14|   Films|          8|      Wedding Season|        null|                         2|\n",
      "|   Argentina|          AR|2022-08-14|   Films|          9|        Dreamkatcher|        null|                         1|\n",
      "|   Argentina|          AR|2022-08-14|   Films|         10|        The Gray Man|        null|                         4|\n",
      "+------------+------------+----------+--------+-----------+--------------------+------------+--------------------------+\n",
      "only showing top 20 rows\n",
      "\n",
      "+------------+------------+----------+--------+-----------+--------------------+--------------------+--------------------------+\n",
      "|country_name|country_iso2|      week|category|weekly_rank|          show_title|        season_title|cumulative_weeks_in_top_10|\n",
      "+------------+------------+----------+--------+-----------+--------------------+--------------------+--------------------------+\n",
      "|   Argentina|          AR|2022-08-21|      TV|          1| Pasión de Gavilanes|Pasión de Gavilan...|                         5|\n",
      "|   Argentina|          AR|2022-08-21|      TV|          2|        Another Self|Another Self: Sea...|                         4|\n",
      "|   Argentina|          AR|2022-08-21|      TV|          3| Pasión de Gavilanes|Pasión de Gavilan...|                        58|\n",
      "|   Argentina|          AR|2022-08-21|      TV|          4|            Manifest|  Manifest: Season 1|                         6|\n",
      "|   Argentina|          AR|2022-08-21|      TV|          5|         The Sandman|The Sandman: Seas...|                         3|\n",
      "|   Argentina|          AR|2022-08-21|      TV|          6|Extraordinary Att...|Extraordinary Att...|                         2|\n",
      "|   Argentina|          AR|2022-08-21|      TV|          7|           High Heat| High Heat: Season 1|                         1|\n",
      "|   Argentina|          AR|2022-08-21|      TV|          8|            Manifest|  Manifest: Season 2|                         5|\n",
      "|   Argentina|          AR|2022-08-21|      TV|          9|            Manifest|  Manifest: Season 3|                         4|\n",
      "|   Argentina|          AR|2022-08-21|      TV|         10|   Never Have I Ever|Never Have I Ever...|                         2|\n",
      "|   Argentina|          AR|2022-08-14|      TV|          1| Pasión de Gavilanes|Pasión de Gavilan...|                         4|\n",
      "|   Argentina|          AR|2022-08-14|      TV|          2|        Another Self|Another Self: Sea...|                         3|\n",
      "|   Argentina|          AR|2022-08-14|      TV|          3|         The Sandman|The Sandman: Seas...|                         2|\n",
      "|   Argentina|          AR|2022-08-14|      TV|          4| Pasión de Gavilanes|Pasión de Gavilan...|                        57|\n",
      "|   Argentina|          AR|2022-08-14|      TV|          5|            Manifest|  Manifest: Season 1|                         5|\n",
      "|   Argentina|          AR|2022-08-14|      TV|          6|Extraordinary Att...|Extraordinary Att...|                         1|\n",
      "|   Argentina|          AR|2022-08-14|      TV|          7|                Alba|      Alba: Season 1|                         5|\n",
      "|   Argentina|          AR|2022-08-14|      TV|          8|            Manifest|  Manifest: Season 2|                         4|\n",
      "|   Argentina|          AR|2022-08-14|      TV|          9|            Manifest|  Manifest: Season 3|                         3|\n",
      "|   Argentina|          AR|2022-08-14|      TV|         10|   Never Have I Ever|Never Have I Ever...|                         1|\n",
      "+------------+------------+----------+--------+-----------+--------------------+--------------------+--------------------------+\n",
      "only showing top 20 rows\n",
      "\n"
     ]
    }
   ],
   "source": [
    "### Seperate the data into two DataFrames for Films and TV\n",
    "films_df = df.filter(df[\"category\"] == \"Films\")\n",
    "tv_df = df.filter(df[\"category\"] == \"TV\")\n",
    "\n",
    "# Display the two DataFrames\n",
    "films_df.show()\n",
    "tv_df.show()"
   ]
  },
  {
   "cell_type": "code",
   "execution_count": 73,
   "metadata": {
    "id": "L6LsKVYSfvAt"
   },
   "outputs": [
    {
     "name": "stdout",
     "output_type": "stream",
     "text": [
      "+------------+------------+----------+--------+-----------+--------------------+--------------------------+\n",
      "|country_name|country_iso2|      week|category|weekly_rank|          show_title|cumulative_weeks_in_top_10|\n",
      "+------------+------------+----------+--------+-----------+--------------------+--------------------------+\n",
      "|   Argentina|          AR|2022-08-21|   Films|          1|      Look Both Ways|                         1|\n",
      "|   Argentina|          AR|2022-08-21|   Films|          2|           Day Shift|                         2|\n",
      "|   Argentina|          AR|2022-08-21|   Films|          3|Bank Robbers: The...|                         2|\n",
      "|   Argentina|          AR|2022-08-21|   Films|          4|   The Next 365 Days|                         1|\n",
      "|   Argentina|          AR|2022-08-21|   Films|          5|The Angry Birds M...|                         1|\n",
      "|   Argentina|          AR|2022-08-21|   Films|          6|       Purple Hearts|                         4|\n",
      "|   Argentina|          AR|2022-08-21|   Films|          7|      River Runs Red|                         1|\n",
      "|   Argentina|          AR|2022-08-21|   Films|          8|                1917|                         2|\n",
      "|   Argentina|          AR|2022-08-21|   Films|          9|  Code Name: Emperor|                         2|\n",
      "|   Argentina|          AR|2022-08-21|   Films|         10|           Royalteen|                         1|\n",
      "|   Argentina|          AR|2022-08-14|   Films|          1|Bank Robbers: The...|                         1|\n",
      "|   Argentina|          AR|2022-08-14|   Films|          2|       Purple Hearts|                         3|\n",
      "|   Argentina|          AR|2022-08-14|   Films|          3|                1917|                         1|\n",
      "|   Argentina|          AR|2022-08-14|   Films|          4|           Day Shift|                         1|\n",
      "|   Argentina|          AR|2022-08-14|   Films|          5|  Code Name: Emperor|                         1|\n",
      "|   Argentina|          AR|2022-08-14|   Films|          6|              Carter|                         2|\n",
      "|   Argentina|          AR|2022-08-14|   Films|          7|          Recurrence|                         3|\n",
      "|   Argentina|          AR|2022-08-14|   Films|          8|      Wedding Season|                         2|\n",
      "|   Argentina|          AR|2022-08-14|   Films|          9|        Dreamkatcher|                         1|\n",
      "|   Argentina|          AR|2022-08-14|   Films|         10|        The Gray Man|                         4|\n",
      "+------------+------------+----------+--------+-----------+--------------------+--------------------------+\n",
      "only showing top 20 rows\n",
      "\n"
     ]
    }
   ],
   "source": [
    "### Drop the 'season_title' column from the Films DataFrame, display the table\n",
    "\n",
    "films_df = films_df.drop(\"season_title\")\n",
    "\n",
    "# Display the updated Films DataFrame\n",
    "films_df.show()"
   ]
  },
  {
   "cell_type": "code",
   "execution_count": 103,
   "metadata": {},
   "outputs": [],
   "source": [
    "null_count = TV.filter(TV[\"season_title\"].isNull()).count()"
   ]
  },
  {
   "cell_type": "code",
   "execution_count": 104,
   "metadata": {},
   "outputs": [
    {
     "data": {
      "text/plain": [
       "0"
      ]
     },
     "execution_count": 104,
     "metadata": {},
     "output_type": "execute_result"
    }
   ],
   "source": [
    "null_count"
   ]
  },
  {
   "cell_type": "code",
   "execution_count": 105,
   "metadata": {},
   "outputs": [
    {
     "name": "stdout",
     "output_type": "stream",
     "text": [
      "+------------+------------+----------+--------+-----------+-------------------+--------------------+--------------------------+\n",
      "|country_name|country_iso2|      week|category|weekly_rank|         show_title|        season_title|cumulative_weeks_in_top_10|\n",
      "+------------+------------+----------+--------+-----------+-------------------+--------------------+--------------------------+\n",
      "|   Argentina|          AR|2022-08-21|      TV|          1|Pasión de Gavilanes|Pasión de Gavilan...|                         5|\n",
      "+------------+------------+----------+--------+-----------+-------------------+--------------------+--------------------------+\n",
      "only showing top 1 row\n",
      "\n"
     ]
    }
   ],
   "source": []
  },
  {
   "cell_type": "code",
   "execution_count": 102,
   "metadata": {},
   "outputs": [],
   "source": [
    "# Save the table in CSV format\n"
   ]
  },
  {
   "cell_type": "code",
   "execution_count": 106,
   "metadata": {
    "id": "53ApWu9fLARn"
   },
   "outputs": [
    {
     "name": "stdout",
     "output_type": "stream",
     "text": [
      "+------------+------------+----------+--------+-----------+-------------------+--------------------+--------------------------+\n",
      "|country_name|country_iso2|      week|category|weekly_rank|         show_title|        season_title|cumulative_weeks_in_top_10|\n",
      "+------------+------------+----------+--------+-----------+-------------------+--------------------+--------------------------+\n",
      "|   Argentina|          AR|2022-08-21|      TV|          1|Pasión de Gavilanes|Pasión de Gavilan...|                         5|\n",
      "+------------+------------+----------+--------+-----------+-------------------+--------------------+--------------------------+\n",
      "only showing top 1 row\n",
      "\n"
     ]
    }
   ],
   "source": [
    "### Replace any null values in 'season_name' in the TV DataFrame with the\n",
    "### corresponding 'show_name', display the table\n",
    "\n",
    "#from pyspark.sql.functions import coalesce\n",
    "\n",
    "# Replace null values in 'season_name' with 'show_name'\n",
    "tv_df = tv_df.withColumn('season_title', F.coalesce(tv_df['season_title'], tv_df['show_title']))\n",
    "\n",
    "# Show the updated table\n",
    "tv_df.show(1)\n"
   ]
  },
  {
   "cell_type": "markdown",
   "metadata": {
    "id": "rAHZm5_9IzTn"
   },
   "source": [
    "# Exercise 2 - Most popular films by country (10 Marks)\n",
    "\n",
    "1.   For each country in the data, find the highest rank each film reached, and the number of weeks it spent in the top 10. (4 marks)\n",
    "2.   Produce a DataFrame that contains the film which spent the most time in each country's top 10. (4 marks)\n",
    "3.   Produce a pie chart which shows how many countries the most popular films occurred in. (2 marks)\n"
   ]
  },
  {
   "cell_type": "code",
   "execution_count": null,
   "metadata": {
    "id": "8SGNNEcOKLhX"
   },
   "outputs": [],
   "source": [
    "### Group the data by 'country_name' and 'show_title' and find the highest\n",
    "### weekly rank and total weeks spent in the top 10 for each film, display the\n",
    "### data\n",
    "# .groupBy, .agg, F.max, F.min, .sort, .show\n",
    "\n"
   ]
  },
  {
   "cell_type": "code",
   "execution_count": 82,
   "metadata": {},
   "outputs": [
    {
     "name": "stdout",
     "output_type": "stream",
     "text": [
      "+--------------+--------------------+----------------+\n",
      "|  country_name|          show_title|max(weekly_rank)|\n",
      "+--------------+--------------------+----------------+\n",
      "|       Austria|            For Life|               9|\n",
      "|       Austria|Demon Slayer: Kim...|               8|\n",
      "|       Bahamas|        Virgin River|              10|\n",
      "|       Bahamas|   The Longest Night|               4|\n",
      "|       Bahrain|       L.A.’s Finest|               9|\n",
      "|       Belgium|          After Life|               9|\n",
      "|       Bolivia|      Inventing Anna|               9|\n",
      "|       Bolivia|The King's Affection|              10|\n",
      "|       Bolivia|The Snitch Cartel...|               9|\n",
      "|        Brazil|Cúmplices de um R...|              10|\n",
      "|      Bulgaria|          True Story|               6|\n",
      "|      Bulgaria|           Big Mouth|               7|\n",
      "|         Chile|            Intimacy|               4|\n",
      "|      Colombia|              Arcane|               7|\n",
      "|      Colombia|               Lupin|               9|\n",
      "|        Cyprus|   You Don't Know Me|               8|\n",
      "|Czech Republic|Love, Death & Robots|              10|\n",
      "|       Denmark|Pokémon Master Jo...|              10|\n",
      "|       Ecuador|         Rebelde Way|              10|\n",
      "|       Finland|      The Good Place|               8|\n",
      "+--------------+--------------------+----------------+\n",
      "only showing top 20 rows\n",
      "\n"
     ]
    }
   ],
   "source": [
    "highest_rating_df = tv_df.groupBy(\"country_name\", \"show_title\").agg(F.max(\"weekly_rank\"))\n",
    "\n",
    "# Display the resulting DataFrame\n",
    "highest_rating_df.show()"
   ]
  },
  {
   "cell_type": "code",
   "execution_count": 88,
   "metadata": {},
   "outputs": [
    {
     "name": "stdout",
     "output_type": "stream",
     "text": [
      "+--------------+--------------------+----------------+\n",
      "|  country_name|          show_title|max(weekly_rank)|\n",
      "+--------------+--------------------+----------------+\n",
      "|    Bangladesh|         Thirty-Nine|              10|\n",
      "|      Honduras|My ID is Gangnam ...|              10|\n",
      "|        Canada|Hunter X Hunter (...|              10|\n",
      "|       Bolivia|The King's Affection|              10|\n",
      "|         Chile|     Stranger Things|              10|\n",
      "|Czech Republic|Love, Death & Robots|              10|\n",
      "|      Colombia|     Stranger Things|              10|\n",
      "|       Ecuador|         Rebelde Way|              10|\n",
      "|        Cyprus|       The Blacklist|              10|\n",
      "|       Iceland|      Disenchantment|              10|\n",
      "|         Egypt|                Alba|              10|\n",
      "|     Lithuania|       Love Is Blind|              10|\n",
      "|       Finland|     The Good Doctor|              10|\n",
      "|     Mauritius|          Good Girls|              10|\n",
      "|       Hungary|       Downton Abbey|              10|\n",
      "|     Mauritius|               Elite|              10|\n",
      "|     Nicaragua|   Business Proposal|              10|\n",
      "|       Bahamas|        Virgin River|              10|\n",
      "|       Austria|WWII in Color: Ro...|              10|\n",
      "|       Denmark|Pokémon Master Jo...|              10|\n",
      "+--------------+--------------------+----------------+\n",
      "only showing top 20 rows\n",
      "\n"
     ]
    }
   ],
   "source": [
    "highest_rating_df=highest_rating_df.sort(\"max(weekly_rank)\",ascending=False)\n",
    "highest_rating_df.show()"
   ]
  },
  {
   "cell_type": "markdown",
   "metadata": {
    "id": "dwmCkbhhWFdG"
   },
   "source": [
    "Produce a DataFrame which shows, for each country, the most popular film by the number of weeks it spent in the top 10, how many weeks that film was in the top 10, and the highest weekly rank it reached."
   ]
  },
  {
   "cell_type": "code",
   "execution_count": null,
   "metadata": {
    "id": "KTkWmAhdWs4Y"
   },
   "outputs": [],
   "source": [
    "### Find the film that spent the most time in each country's top 10 list.\n",
    "### Produce and display a table showing that information, along with the number\n",
    "### of weeks spent in the top 10, and the highest weekly ranking\n",
    "# .groupBy, .sort, .desc, .agg, F.first, .show\n",
    "\n"
   ]
  },
  {
   "cell_type": "code",
   "execution_count": null,
   "metadata": {},
   "outputs": [],
   "source": []
  },
  {
   "cell_type": "markdown",
   "metadata": {
    "id": "k-2OKNgAgb3j"
   },
   "source": [
    "Group the DataFrame by `season_title` and count the number of countries where each season is the most popular. Convert the DataFrame to Pandas, and use the `DataFrame.plot.pie` method to produce a pie chart of the most popular shows."
   ]
  },
  {
   "cell_type": "code",
   "execution_count": null,
   "metadata": {
    "id": "VeaR2m8HenIY"
   },
   "outputs": [],
   "source": [
    "### Convert the DataFrame to a Pandas DataFrame, and display it as a pie chart\n",
    "# .toPandas, .plot.pie\n",
    "\n"
   ]
  },
  {
   "cell_type": "markdown",
   "metadata": {
    "id": "_YOKr4khadrB"
   },
   "source": [
    "# Exercise 3 - Most popular shows by country (10 Marks)\n",
    "\n",
    "\n",
    "1.   Calculate the number of weeks each TV show spent in each country's top 10, across all seasons, such that you don't double count a show when two or more seasons appear in one week. (5 marks)\n",
    "2.   Produce a DataFrame that contains the show which spent the most time in each country's top 10. (5 marks)"
   ]
  },
  {
   "cell_type": "code",
   "execution_count": null,
   "metadata": {
    "id": "T4KuEbwgbJar"
   },
   "outputs": [],
   "source": [
    "### Group the data by 'country_name' and 'show_title' and count the number of\n",
    "### weeks each show appears in each country's top 10 lists, as well as the\n",
    "### highest weekly ranking. Display the data.\n",
    "# .groupBy, .agg, F.count_distinct, F.min, .sort, .show\n",
    "\n"
   ]
  },
  {
   "cell_type": "code",
   "execution_count": null,
   "metadata": {
    "id": "kenFjaaR9pLp"
   },
   "outputs": [],
   "source": [
    "### Find the show that spent the most time in each country's top 10 list.\n",
    "### Produce and display a table showing that information, along with the number\n",
    "### of weeks spent in the top 10, and the highest weekly ranking\n",
    "# .groupBy, .sort, .desc, .agg, F.first, .show\n",
    "\n"
   ]
  }
 ],
 "metadata": {
  "colab": {
   "provenance": []
  },
  "kernelspec": {
   "display_name": "Python 3",
   "language": "python",
   "name": "python3"
  },
  "language_info": {
   "codemirror_mode": {
    "name": "ipython",
    "version": 3
   },
   "file_extension": ".py",
   "mimetype": "text/x-python",
   "name": "python",
   "nbconvert_exporter": "python",
   "pygments_lexer": "ipython3",
   "version": "3.9.5"
  }
 },
 "nbformat": 4,
 "nbformat_minor": 1
}
