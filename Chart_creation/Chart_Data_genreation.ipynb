{
 "cells": [
  {
   "cell_type": "markdown",
   "metadata": {},
   "source": [
    "# Dependencies"
   ]
  },
  {
   "cell_type": "code",
   "execution_count": 1,
   "metadata": {
    "id": "5P0hyz-aCu15"
   },
   "outputs": [],
   "source": [
    "import matplotlib.pyplot as plt\n",
    "import numpy as np\n",
    "import seaborn as sns\n",
    "import pandas as pd"
   ]
  },
  {
   "cell_type": "markdown",
   "metadata": {},
   "source": [
    "# Setting Charts Width and Height"
   ]
  },
  {
   "cell_type": "code",
   "execution_count": 13,
   "metadata": {
    "id": "PUj663cD4tKf"
   },
   "outputs": [],
   "source": [
    "width = 500 / 72.0\n",
    "height = 500 / 72.0"
   ]
  },
  {
   "cell_type": "code",
   "execution_count": 14,
   "metadata": {
    "id": "dJhAUHcH7qg7"
   },
   "outputs": [],
   "source": [
    "y=np.random.randint(0,1000,size=(200,500))"
   ]
  },
  {
   "cell_type": "code",
   "execution_count": 15,
   "metadata": {
    "id": "8r6dhi6z9Xlp"
   },
   "outputs": [],
   "source": [
    "import random\n",
    "business_words = [\"revenue\", \"profit\", \"marketing\",\"sales\", \"customer\", \"product\", \n",
    "                  \"brand\", \"strategy\", \"market\",\"investment\", \"analysis\", \"finance\",\n",
    "                  \"leadership\", \"management\", \"innovation\",\"entrepreneur\", \"startup\", \"risk\", \n",
    "                  \"venture\", \"cash flow\", \"budget\", \"forecast\",\"valuation\", \"merger\", \"acquisition\", \"partnership\", \n",
    "                  \"negotiation\", \"contract\", \"legal\",\"regulation\",'ML','Big Data','Data Mining','Data Cleaning',   \n",
    "                  'Data Wrangling','Churn Analysis','CLV','Cross-Selling','Up-Selling','SEO','PPC','CPC','CPA','CRO','CRM','ROI','KPIs','CTR','Afghanistan', 'Albania', 'Algeria', 'Andorra', 'Angola',  'Chile', 'China', 'Colombia',\n",
    "                        'Comoros', 'Congo', 'Congo, Republic of the', 'Costa Rica', \n",
    "                        'Cuba', 'Cyprus', 'Czech Republic', 'Denmark', 'Djibouti', 'Dominica', 'Dominican Republic', \n",
    "                        'Ecuador', 'Egypt','Guyana', 'Haiti', 'Honduras', 'Hungary', 'Iceland', 'India',\n",
    "                        'Indonesia', 'Iran', 'Iraq', 'Ireland','Italy', 'Jamaica', 'Japan', 'Jordan', 'Kazakhstan', 'Kenya', 'Kiribati', 'Kosovo', 'Kuwait', 'Kyrgyzstan', 'Laos',\n",
    "                        'Micronesia', 'Moldova', 'Monaco', 'Mongolia', 'Montenegro', 'Morocco', 'Mozambique', 'Myanmar', 'Namibia', 'Nauru',\n",
    "                        'Nepal', 'Netherlands', 'New Zealand', 'Nicaragua', 'Niger', 'Nigeria', 'North Korea', 'North Macedonia', 'Norway',\n",
    "                        'Oman', 'Pakistan', 'Palau', 'Palestine', 'Panama', 'Papua New Guinea', 'Paraguay', 'Peru', 'Philippines', 'Poland',\n",
    "                        'Portugal', 'Qatar', 'Romania', 'Russia', 'Rwanda', 'Saint Kitts and Nevis', 'Saint Lucia',\n",
    "                        'Saint Vincent and the Grenadines', 'Samoa', 'San Marino',  'Singapore', 'Slovakia', 'Slovenia', 'Somalia',\n",
    "                        'South Africa','GDP', 'inflation','market demand','market supply',  'p-value',\n",
    "                  'age structure',    'birth rate','death rate', 'life expectancy', 'migration', \n",
    "                  'urbanization', 'census','tariffs', 'exchange rate','globalization', 'supply chain', 'comparative advantage',\n",
    "                  'economic growth', 'fiscal policy','monetary policy', 'central bank', 'interest rate',\n",
    "                  'deflation', 'credit score','mortgage',    'credit card', 'payment gateway', 'e-commerce', \n",
    "                  'viral marketing', 'digital advertising', 'big data', 'data mining','cloud computing', 'cybersecurity', 'blockchain', 'cryptocurrency', \n",
    "                  'smart contract',    'virtual reality', 'augmented reality','sharing economy', 'gig economy', 'remote work','sustainability','global warming', \n",
    "                  'climate change','fossil fuels', 'natural resources', \n",
    "                  'public health', 'vaccination', 'pandemic','healthcare system', 'health insurance',    'mental health', 'well-being', \n",
    "                  'gender equality', 'racial justice','human rights', 'foreign aid','peacekeeping', 'terrorism', \n",
    "                  'refugees','AI','CS','CS 101', 'DS', 'Algo', 'DM', 'Comp Org', 'OS', 'CN', 'DB', 'AI', 'ML', 'CV', 'NLP',\n",
    "                    'SE', 'CG', 'Web Dev','App Dev', 'HCI', 'Sec', 'Comp Arch', 'Compilers','CV','CCNA', 'CCNP', 'CCIE', 'CEH', 'CISSP', 'CISA', 'CISM', 'CRISC', \n",
    "                    'CGEIT', 'PMP', 'CAPM', 'PMI-ACP','ITIL', 'CompTIA A+', 'MCSE', 'MCSD', 'MCSA', \n",
    "                    'MCTS', 'MCITP', 'MCP','USA', 'UK', 'UAE', 'EU', 'UN', 'NATO', 'ASEAN', 'BRICS', \n",
    "                    'G20', 'G7', 'WHO', 'UNESCO', 'IAEA','WTO', 'FAO', 'IMF', 'ICAO','ITU', 'OECD', 'OPEC', 'ADB', 'AFDB', 'BIS', 'ECB', 'EIB',\n",
    "                    'IADB','IBRD', 'IDA', 'IFC', 'ILO', 'IMF', 'IMO', 'IOC', 'IPCC','ITU', 'NATO', 'NEPAD', 'NSG', 'OECD','OIF', 'OPEC', 'OSCE', 'SAARC', \n",
    "                    'SCO', 'UN', 'UNESCO', 'UNHCR', 'UNICEF', 'UNIDO', 'UNWTO', 'WBG','WCO', 'WFTU', 'WMO', 'WPO', 'WTO', 'NPT', 'CTBT', 'CWC', 'NPT', \n",
    "                    'START', 'OSCE', 'UNASUR', 'AU','CARICOM', 'CEFTA', 'CIS', 'EAEC','EAEU', 'EAS', 'ECOWAS', 'EEU', 'EFTA', 'EU', 'G20', 'GCC',\n",
    "                    'NATO', 'OAS', 'OIC', 'OIF', 'OSCE', 'SAARC', 'SCO', 'UNASUR','ASEAN', 'ASEM', 'BIMSTEC', 'CD','CIS', 'EAEC', 'EAEU', 'EAS',\n",
    "                    'ECOWAS', 'EEU', 'EFTA', 'EU', 'G7', 'G20', 'GCC', 'OAS', 'OIC','OSCE','SAARC', 'SCO', 'UNASUR'\n",
    "]"
   ]
  },
  {
   "cell_type": "code",
   "execution_count": 24,
   "metadata": {
    "id": "SgRiitGZ4gZj"
   },
   "outputs": [],
   "source": [
    "x=np.array(business_words)"
   ]
  },
  {
   "cell_type": "code",
   "execution_count": 25,
   "metadata": {},
   "outputs": [
    {
     "data": {
      "text/plain": [
       "343"
      ]
     },
     "execution_count": 25,
     "metadata": {},
     "output_type": "execute_result"
    }
   ],
   "source": [
    "x.size"
   ]
  },
  {
   "cell_type": "markdown",
   "metadata": {
    "id": "qhV73_-G0A3c"
   },
   "source": [
    "# **Vertical Bar Charts**"
   ]
  },
  {
   "cell_type": "code",
   "execution_count": 27,
   "metadata": {
    "colab": {
     "base_uri": "https://localhost:8080/",
     "height": 962
    },
    "id": "9A74Mlzo9Y4B",
    "outputId": "98974854-19be-4a32-9f87-c8a4a49f8b84"
   },
   "outputs": [
    {
     "data": {
      "image/png": "[encoded data removed]",
      "text/plain": [
       "<Figure size 500x500 with 1 Axes>"
      ]
     },
     "metadata": {
      "needs_background": "light"
     },
     "output_type": "display_data"
    },
    {
     "data": {
      "text/plain": [
       "<Figure size 432x288 with 0 Axes>"
      ]
     },
     "metadata": {},
     "output_type": "display_data"
    }
   ],
   "source": [
    "for i in range(1):\n",
    "  # Select 5 random values from the array\n",
    "  x_values =x.flatten() [np.random.choice(x.size, 5, replace=False)]\n",
    "  y_values = y.flatten()[np.random.choice(y.size, 5, replace=False)]\n",
    "  plt.figure(figsize=(width,height))\n",
    "  sns.barplot(x=x_values,y=y_values)\n",
    "  plt.title(f\"Vertical Bar Chart {i+1}\")\n",
    "  plt.xlabel(\"X Label\",labelpad = 20)\n",
    "  plt.ylabel(\"Y Label\",labelpad = 20)\n",
    "  plt.show()\n",
    "  plt.savefig(f'./vertical_bar_charts/Bar Chart {i+1}.png')"
   ]
  },
  {
   "cell_type": "markdown",
   "metadata": {
    "id": "qWVC6CjD1sMZ"
   },
   "source": [
    "# **Bar Chart with Rotated Labels**"
   ]
  },
  {
   "cell_type": "code",
   "execution_count": 21,
   "metadata": {
    "colab": {
     "base_uri": "https://localhost:8080/",
     "height": 532
    },
    "id": "vVtkH3uU1nLX",
    "outputId": "1ce90d81-343f-46b6-8c35-5fd85168cd23"
   },
   "outputs": [
    {
     "data": {
      "image/png": "[encoded data removed]",
      "text/plain": [
       "<Figure size 500x500 with 1 Axes>"
      ]
     },
     "metadata": {
      "needs_background": "light"
     },
     "output_type": "display_data"
    },
    {
     "data": {
      "text/plain": [
       "<Figure size 432x288 with 0 Axes>"
      ]
     },
     "metadata": {},
     "output_type": "display_data"
    }
   ],
   "source": [
    "for i in range(1):\n",
    "  # Select 5 random values from the array\n",
    "  x_values =x.flatten() [np.random.choice(x.size, 5, replace=False)]\n",
    "  y_values = y.flatten()[np.random.choice(y.size, 5, replace=False)]\n",
    "  plt.figure(figsize=(width,height))\n",
    "  sns.barplot(x=x_values,y=y_values)\n",
    "  plt.xticks(rotation=45)\n",
    "  plt.title(f\"Bar Chart with Rotated Labels {i+1}\")\n",
    "  plt.xlabel(\"X Label\",labelpad = 10)\n",
    "  plt.ylabel(\"Y Label\",labelpad = 20)\n",
    "  plt.show()\n",
    "  plt.savefig(f'./vertical_bar_charts/Bar Chart with rotation {i+1}.png')"
   ]
  },
  {
   "cell_type": "markdown",
   "metadata": {
    "id": "rLBs3Z360JWd"
   },
   "source": [
    "# **Horizontal Bar Charts**"
   ]
  },
  {
   "cell_type": "code",
   "execution_count": 28,
   "metadata": {
    "colab": {
     "base_uri": "https://localhost:8080/",
     "height": 494
    },
    "id": "Jtwdx2XhDbA4",
    "outputId": "d6676574-6801-40b2-ca24-1a8f2d98ced7"
   },
   "outputs": [
    {
     "data": {
      "image/png": "[encoded data removed]",
      "text/plain": [
       "<Figure size 500x500 with 1 Axes>"
      ]
     },
     "metadata": {
      "needs_background": "light"
     },
     "output_type": "display_data"
    },
    {
     "data": {
      "text/plain": [
       "<Figure size 432x288 with 0 Axes>"
      ]
     },
     "metadata": {},
     "output_type": "display_data"
    }
   ],
   "source": [
    "for i in range(1):\n",
    "  # Select 5 random values from the array\n",
    "  x_values =x.flatten() [np.random.choice(x.size, 5, replace=False)]\n",
    "  y_values = y.flatten()[np.random.choice(y.size, 5, replace=False)]\n",
    "  plt.figure(figsize=(width,height))\n",
    "  sns.barplot(y=x_values,x=y_values)\n",
    "  plt.title(f\"Horizontal Bar Chart {i+1}\")\n",
    "  plt.xlabel(\"X Label\",labelpad = 10)\n",
    "  plt.ylabel(\"Y Label\",labelpad = 20)\n",
    "  plt.show()\n",
    "  plt.savefig(f'./horiznontal_bar_charts/Horizontal Bar Chart{i+1}.png')"
   ]
  },
  {
   "cell_type": "markdown",
   "metadata": {
    "id": "9-RQQsUw0dQ_"
   },
   "source": [
    "# **Vertical Stacked Bar Charts**"
   ]
  },
  {
   "cell_type": "code",
   "execution_count": 29,
   "metadata": {
    "colab": {
     "base_uri": "https://localhost:8080/",
     "height": 335
    },
    "id": "mcA7i6oM0ctk",
    "outputId": "f531aebb-ce4d-4053-85e2-ada600f73d6a"
   },
   "outputs": [
    {
     "data": {
      "text/plain": [
       "<Figure size 500x500 with 0 Axes>"
      ]
     },
     "metadata": {},
     "output_type": "display_data"
    },
    {
     "data": {
      "image/png": "[encoded data removed]",
      "text/plain": [
       "<Figure size 432x288 with 1 Axes>"
      ]
     },
     "metadata": {
      "needs_background": "light"
     },
     "output_type": "display_data"
    },
    {
     "data": {
      "text/plain": [
       "<Figure size 432x288 with 0 Axes>"
      ]
     },
     "metadata": {},
     "output_type": "display_data"
    }
   ],
   "source": [
    "for i in range(1):\n",
    "  labels=x.flatten()[np.random.choice(x.size, 3, replace=False)]\n",
    "  data = {'Category':labels, \n",
    "          labels[0]: np.random.choice(y.size, 3, replace=False), \n",
    "          labels[1]: np.random.choice(y.size, 3, replace=False),\n",
    "          labels[2]: np.random.choice(y.size, 3, replace=False)}\n",
    "  df = pd.DataFrame(data)\n",
    "  plt.figure(figsize=(width,height))\n",
    "  df.plot(kind='bar', stacked=True, color=['red', 'skyblue', 'green'])\n",
    "  plt.title(f\"Vertical Stacked Bar Chart {i+1}\")\n",
    "  plt.xlabel(\"X Label\",labelpad = 10)\n",
    "  plt.ylabel(\"Y Label\",labelpad = 20)\n",
    "  plt.show()\n",
    "  plt.savefig(f'./vertical_stacked_bar_charts/Stacked Bar Chart{i+1}.png')"
   ]
  },
  {
   "cell_type": "markdown",
   "metadata": {
    "id": "Rh_RnIia8RMk"
   },
   "source": [
    "# **Horizontal Stacked Bar Chart**"
   ]
  },
  {
   "cell_type": "code",
   "execution_count": 30,
   "metadata": {
    "colab": {
     "base_uri": "https://localhost:8080/",
     "height": 338
    },
    "id": "jXMXwDOB8Jdo",
    "outputId": "8a0a2614-f190-4b62-d643-d40e267c078a"
   },
   "outputs": [
    {
     "data": {
      "text/plain": [
       "<Figure size 500x500 with 0 Axes>"
      ]
     },
     "metadata": {},
     "output_type": "display_data"
    },
    {
     "data": {
      "image/png": "[encoded data removed]",
      "text/plain": [
       "<Figure size 432x288 with 1 Axes>"
      ]
     },
     "metadata": {
      "needs_background": "light"
     },
     "output_type": "display_data"
    },
    {
     "data": {
      "text/plain": [
       "<Figure size 432x288 with 0 Axes>"
      ]
     },
     "metadata": {},
     "output_type": "display_data"
    }
   ],
   "source": [
    "for i in range(1):\n",
    "  labels=x.flatten()[np.random.choice(x.size, 3, replace=False)]\n",
    "  data = {'Category':labels, \n",
    "          labels[0]: np.random.choice(y.size, 3, replace=False), \n",
    "          labels[1]: np.random.choice(y.size, 3, replace=False),\n",
    "          labels[2]: np.random.choice(y.size, 3, replace=False)}\n",
    "  df = pd.DataFrame(data)\n",
    "  plt.figure(figsize=(width,height))\n",
    "  df.plot.barh(stacked=True, color=['red', 'skyblue', 'green'])\n",
    "  plt.title(f\"Horizontal Stacked Bar Chart {i+1}\")\n",
    "  plt.xlabel(\"X Label\",labelpad = 10)\n",
    "  plt.ylabel(\"Y Label\",labelpad = 20)\n",
    "  plt.show()\n",
    "  plt.savefig(f'./horizontal_stacked_bar_charts/Horizontal Stacked Bar Chart{i+1}.png')"
   ]
  },
  {
   "cell_type": "markdown",
   "metadata": {
    "id": "0bDlyPD6B4ST"
   },
   "source": [
    "# **PIE Chart**"
   ]
  },
  {
   "cell_type": "code",
   "execution_count": 17,
   "metadata": {
    "colab": {
     "base_uri": "https://localhost:8080/",
     "height": 442
    },
    "id": "HrSKqzmY7E2b",
    "outputId": "f6808630-4bf0-47fd-8330-fcd08c1f79d0"
   },
   "outputs": [
    {
     "data": {
      "image/png": "[encoded data removed]",
      "text/plain": [
       "<Figure size 500x500 with 1 Axes>"
      ]
     },
     "metadata": {},
     "output_type": "display_data"
    },
    {
     "data": {
      "text/plain": [
       "<Figure size 432x288 with 0 Axes>"
      ]
     },
     "metadata": {},
     "output_type": "display_data"
    }
   ],
   "source": [
    "for i in range(1):\n",
    "  plt.figure(figsize=(width,height))\n",
    "  x_values =x.flatten() [np.random.choice(x.size, 5, replace=False)]\n",
    "  y_values = y.flatten()[np.random.choice(y.size, 5, replace=False)]\n",
    "  plt.pie(y_values, labels = x_values)\n",
    "  plt.title(f\"Pie Chart {i+1}\")\n",
    "  plt.show()\n",
    "  plt.savefig(f'./pie_charts/Pie Chart{i+1}.png')"
   ]
  },
  {
   "cell_type": "code",
   "execution_count": null,
   "metadata": {
    "id": "I57IhIBV9ibi"
   },
   "outputs": [],
   "source": []
  }
 ],
 "metadata": {
  "accelerator": "GPU",
  "colab": {
   "provenance": []
  },
  "kernelspec": {
   "display_name": "Python 3",
   "language": "python",
   "name": "python3"
  },
  "language_info": {
   "codemirror_mode": {
    "name": "ipython",
    "version": 3
   },
   "file_extension": ".py",
   "mimetype": "text/x-python",
   "name": "python",
   "nbconvert_exporter": "python",
   "pygments_lexer": "ipython3",
   "version": "3.9.5"
  }
 },
 "nbformat": 4,
 "nbformat_minor": 1
}
