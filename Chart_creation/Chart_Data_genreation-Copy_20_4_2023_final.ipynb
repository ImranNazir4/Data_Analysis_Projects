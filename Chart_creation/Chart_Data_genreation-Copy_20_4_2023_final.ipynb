{
 "cells": [
  {
   "cell_type": "markdown",
   "metadata": {},
   "source": [
    "# Dependencies"
   ]
  },
  {
   "cell_type": "code",
   "execution_count": null,
   "metadata": {
    "id": "5P0hyz-aCu15"
   },
   "outputs": [],
   "source": [
    "import matplotlib.pyplot as plt\n",
    "import numpy as np\n",
    "import seaborn as sns\n",
    "import pandas as pd\n",
    "import random\n",
    "%matplotlib inline"
   ]
  },
  {
   "cell_type": "markdown",
   "metadata": {},
   "source": [
    "# Reading the Chart Titles"
   ]
  },
  {
   "cell_type": "code",
   "execution_count": null,
   "metadata": {},
   "outputs": [],
   "source": [
    "chart_titles=pd.read_csv('chart_titles.csv')"
   ]
  },
  {
   "cell_type": "code",
   "execution_count": null,
   "metadata": {},
   "outputs": [],
   "source": [
    "chart_titles=np.array(chart_titles.values).reshape(-1)"
   ]
  },
  {
   "cell_type": "code",
   "execution_count": null,
   "metadata": {},
   "outputs": [],
   "source": [
    "chart_titles.size"
   ]
  },
  {
   "cell_type": "markdown",
   "metadata": {},
   "source": [
    "# Setting Charts Width and Height"
   ]
  },
  {
   "cell_type": "code",
   "execution_count": null,
   "metadata": {
    "id": "PUj663cD4tKf"
   },
   "outputs": [],
   "source": [
    "width = 500 / 72.0\n",
    "height = 500 / 72.0"
   ]
  },
  {
   "cell_type": "code",
   "execution_count": null,
   "metadata": {
    "id": "dJhAUHcH7qg7"
   },
   "outputs": [],
   "source": [
    "y=np.random.randint(0,1000,size=(200,500))"
   ]
  },
  {
   "cell_type": "code",
   "execution_count": null,
   "metadata": {},
   "outputs": [],
   "source": [
    "import nltk\n",
    "from nltk.corpus import words\n",
    "import random\n",
    "nltk.download('words')\n",
    "word_list = words.words()\n",
    "# generate 2000 random words\n",
    "random_words = [random.choice(word_list) for i in range(2000)]\n",
    "#filtering those words which have length of 10 or less\n",
    "random_words = [word for word in random_words if len(word)<=10]\n",
    "#print(random_words)"
   ]
  },
  {
   "cell_type": "code",
   "execution_count": null,
   "metadata": {
    "id": "SgRiitGZ4gZj"
   },
   "outputs": [],
   "source": [
    "x=np.array(random_words)"
   ]
  },
  {
   "cell_type": "markdown",
   "metadata": {
    "id": "qhV73_-G0A3c"
   },
   "source": [
    "# **Vertical Bar Charts**"
   ]
  },
  {
   "cell_type": "code",
   "execution_count": null,
   "metadata": {},
   "outputs": [],
   "source": [
    "num_bars=np.random.randint(3,10,1000)\n",
    "bars=[np.random.choice(num_bars, 1, replace=False)]"
   ]
  },
  {
   "cell_type": "code",
   "execution_count": null,
   "metadata": {},
   "outputs": [],
   "source": [
    "#chart styles\n",
    "styles=['Solarize_Light2',\n",
    " 'bmh',\n",
    " 'classic',\n",
    " 'dark_background',\n",
    " 'fast',\n",
    " 'fivethirtyeight',\n",
    " 'ggplot',\n",
    " 'grayscale',\n",
    " 'seaborn',\n",
    " 'seaborn-bright',\n",
    " 'seaborn-colorblind',\n",
    " 'seaborn-dark',\n",
    " 'seaborn-dark-palette',\n",
    " 'seaborn-darkgrid',\n",
    " 'seaborn-deep',\n",
    " 'seaborn-muted',\n",
    " 'seaborn-notebook',\n",
    " 'seaborn-paper',\n",
    " 'seaborn-pastel',\n",
    " 'seaborn-poster',\n",
    " 'seaborn-talk',\n",
    " 'seaborn-ticks',\n",
    " 'seaborn-white',\n",
    " 'seaborn-whitegrid',\n",
    " 'tableau-colorblind10']\n",
    "styles=np.array(styles)"
   ]
  },
  {
   "cell_type": "code",
   "execution_count": null,
   "metadata": {},
   "outputs": [],
   "source": [
    "def convert_range(value):\n",
    "    if 15 <= value <= 30:\n",
    "        return value\n",
    "    else:\n",
    "        return value%10+10"
   ]
  },
  {
   "cell_type": "code",
   "execution_count": null,
   "metadata": {},
   "outputs": [],
   "source": [
    "font_styles=['normal', 'italic','oblique']\n",
    "font_styles=np.array(font_styles)\n",
    "font_style=[np.random.choice(font_styles, 1, replace=False)]"
   ]
  },
  {
   "cell_type": "code",
   "execution_count": null,
   "metadata": {
    "colab": {
     "base_uri": "https://localhost:8080/",
     "height": 962
    },
    "id": "9A74Mlzo9Y4B",
    "outputId": "98974854-19be-4a32-9f87-c8a4a49f8b84"
   },
   "outputs": [],
   "source": [
    "for i in range(100):\n",
    "  # Select 5 random values from the array\n",
    "  bars=[np.random.choice(num_bars, 1, replace=False)]\n",
    "  x_values =x.flatten()[np.random.choice(x.size, bars[0], replace=False)]\n",
    "  y_values = y.flatten()[np.random.choice(y.size, bars[0], replace=False)]\n",
    "  title_values=chart_titles[np.random.choice(chart_titles.size, 3, replace=False)]\n",
    "  if bars[0]<=3:\n",
    "      fig,ax = plt.subplots(figsize=(bars[0]+2,bars[0]+4))\n",
    "  else:\n",
    "      fig,ax = plt.subplots(figsize=(bars[0]+2,bars[0]))\n",
    "  sns.barplot(x=x_values,y=y_values)\n",
    "  if i%2==0:\n",
    "      for container in ax.containers:\n",
    "            ax.bar_label(container)\n",
    "  font_style=[np.random.choice(font_styles, 1, replace=False)]\n",
    "  plt.title(title_values[0],fontsize=convert_range(i),style=font_style[0][0])\n",
    "  plt.xlabel(title_values[1],labelpad = 20,fontsize=convert_range(i),style=font_style[0][0])\n",
    "  plt.ylabel(title_values[2],labelpad = 20,fontsize=convert_range(i),style=font_style[0][0])\n",
    "  #plt.annotate()\n",
    "  plt.xticks(rotation=i)\n",
    "  if i%2==0:\n",
    "      plt.grid(True)\n",
    "  style=[np.random.choice(styles, 1, replace=False)]\n",
    "  plt.style.use(style[0][0])\n",
    "  plt.savefig(f'./bar_charts/vBar Chart {i+1}.png')\n",
    "  plt.show();\n",
    "  plt.close();\n"
   ]
  },
  {
   "cell_type": "markdown",
   "metadata": {
    "id": "rLBs3Z360JWd"
   },
   "source": [
    "# **Horizontal Bar Charts**"
   ]
  },
  {
   "cell_type": "code",
   "execution_count": null,
   "metadata": {
    "colab": {
     "base_uri": "https://localhost:8080/",
     "height": 494
    },
    "id": "Jtwdx2XhDbA4",
    "outputId": "d6676574-6801-40b2-ca24-1a8f2d98ced7"
   },
   "outputs": [],
   "source": [
    "for i in range(10):\n",
    "  # Select 5 random values from the array\n",
    "  bars=[np.random.choice(num_bars, 1, replace=False)]\n",
    "  x_values =x.flatten()[np.random.choice(x.size, bars[0], replace=False)]\n",
    "  y_values = y.flatten()[np.random.choice(y.size, bars[0], replace=False)]\n",
    "  title_values=chart_titles[np.random.choice(chart_titles.size, 3, replace=False)]\n",
    "  if bars[0]<=3:\n",
    "      fig,ax = plt.subplots(figsize=(bars[0]+2,bars[0]+4))\n",
    "  else:\n",
    "      fig,ax = plt.subplots(figsize=(bars[0]+2,bars[0]))\n",
    "  sns.barplot(y=x_values,x=y_values)\n",
    "  if i%2==0:\n",
    "      for container in ax.containers:\n",
    "            ax.bar_label(container)\n",
    "  font_style=[np.random.choice(font_styles, 1, replace=False)]\n",
    "  plt.title(title_values[0],fontsize=convert_range(i),style=font_style[0][0])\n",
    "  plt.xlabel(title_values[1],labelpad = 20,fontsize=convert_range(i),style=font_style[0][0])\n",
    "  plt.ylabel(title_values[2],labelpad = 20,fontsize=convert_range(i),style=font_style[0][0])\n",
    "  #plt.annotate()\n",
    "  plt.xticks(rotation=i)\n",
    "  if i%2==0:\n",
    "      plt.grid(True)\n",
    "  style=[np.random.choice(styles, 1, replace=False)]\n",
    "  plt.style.use(style[0][0])\n",
    "  plt.savefig(f'./bar_charts/hBar Chart {i+1}.png')\n",
    "  plt.show();\n",
    "  plt.close();\n"
   ]
  },
  {
   "cell_type": "markdown",
   "metadata": {},
   "source": [
    "# **Line Charts**"
   ]
  },
  {
   "cell_type": "code",
   "execution_count": null,
   "metadata": {},
   "outputs": [],
   "source": [
    "line_categories=np.random.randint(6,15,1000)"
   ]
  },
  {
   "cell_type": "code",
   "execution_count": null,
   "metadata": {},
   "outputs": [],
   "source": [
    "mrkrs=['o','v','^','<','>','1','2','3','4','8','s','p','P','*','h','H','+','x','X','D','d','|','_']"
   ]
  },
  {
   "cell_type": "code",
   "execution_count": null,
   "metadata": {},
   "outputs": [],
   "source": [
    "clrs=['b','g','r','c','m','y','k']"
   ]
  },
  {
   "cell_type": "code",
   "execution_count": null,
   "metadata": {},
   "outputs": [],
   "source": [
    "lin_style=['-','--','-.',':']"
   ]
  },
  {
   "cell_type": "code",
   "execution_count": null,
   "metadata": {},
   "outputs": [],
   "source": [
    "mrk=[np.random.choice(mrkrs, 1, replace=False)]"
   ]
  },
  {
   "cell_type": "code",
   "execution_count": null,
   "metadata": {},
   "outputs": [],
   "source": [
    "line_width=np.random.randint(1,6)"
   ]
  },
  {
   "cell_type": "code",
   "execution_count": null,
   "metadata": {},
   "outputs": [],
   "source": [
    "for i in range(10):\n",
    "  # Select 5 random values from the array\n",
    "  mrk=[np.random.choice(mrkrs, 1, replace=False)]\n",
    "  color=[np.random.choice(clrs, 1, replace=False)]\n",
    "  ls=[np.random.choice(lin_style, 1, replace=False)]\n",
    "  line_width=np.random.randint(1,6)\n",
    "  categories=[np.random.choice(line_categories, 1, replace=False)]\n",
    "  x_values =x.flatten()[np.random.choice(x.size, bars[0], replace=False)]\n",
    "  y_values = y.flatten()[np.random.choice(y.size, bars[0], replace=False)]\n",
    "  title_values=chart_titles[np.random.choice(chart_titles.size, 3, replace=False)]\n",
    "  if bars[0]<=5:\n",
    "      fig,ax = plt.subplots(figsize=(categories[0]+1,categories[0]+2))\n",
    "  else:\n",
    "      fig,ax = plt.subplots(figsize=(categories[0]+2,categories[0]))\n",
    "  ax.plot(x_values,y_values,marker=mrk[0][0],color=color[0][0],ls=ls[0][0],lw=line_width)\n",
    "  font_style=[np.random.choice(font_styles, 1, replace=False)]\n",
    "  plt.title(title_values[0],fontsize=convert_range(i),style=font_style[0][0])\n",
    "  plt.xlabel(title_values[1],labelpad = 20,fontsize=convert_range(i),style=font_style[0][0])\n",
    "  plt.ylabel(title_values[2],labelpad = 20,fontsize=convert_range(i),style=font_style[0][0])\n",
    "  #plt.annotate()\n",
    "  plt.xticks(rotation=i)\n",
    "  if i%2==0:\n",
    "      plt.grid(True)\n",
    "  style=[np.random.choice(styles, 1, replace=False)]\n",
    "  plt.style.use(style[0][0])\n",
    "  plt.savefig(f'./line_charts/sLine Chart {i+1}.png')\n",
    "  plt.show();\n",
    "  plt.close();\n"
   ]
  },
  {
   "cell_type": "code",
   "execution_count": null,
   "metadata": {},
   "outputs": [],
   "source": [
    "for i in range(10):\n",
    "  # Select 5 random values from the array\n",
    "  mrk=[np.random.choice(mrkrs, 1, replace=False)]\n",
    "  color=[np.random.choice(clrs, 1, replace=False)]\n",
    "  ls=[np.random.choice(lin_style, 1, replace=False)]\n",
    "  line_width=np.random.randint(1,6)\n",
    "  categories=[np.random.choice(num_bars, 1, replace=False)]\n",
    "  x_values =x.flatten()[np.random.choice(x.size, bars[0], replace=False)]\n",
    "  y_values = y.flatten()[np.random.choice(y.size, bars[0], replace=False)]\n",
    "  title_values=chart_titles[np.random.choice(chart_titles.size, 3, replace=False)]\n",
    "  if bars[0]<=5:\n",
    "      fig,ax = plt.subplots(figsize=(categories[0]+1,categories[0]+2))\n",
    "  else:\n",
    "      fig,ax = plt.subplots(figsize=(categories[0]+2,categories[0]))\n",
    "  ax.plot(x_values,y_values,marker=mrk[0][0],color=color[0][0],ls=ls[0][0],lw=line_width)\n",
    "\n",
    "  y_values = y.flatten()[np.random.choice(y.size, bars[0], replace=False)]\n",
    "  mrk=[np.random.choice(mrkrs, 2, replace=False)]\n",
    "  color=[np.random.choice(clrs, 2, replace=False)]\n",
    "  ls=[np.random.choice(lin_style, 2, replace=False)]\n",
    "  ax.plot(x_values,y_values,marker=mrk[0][1],color=color[0][1],ls=ls[0][1],lw=line_width)\n",
    "  font_style=[np.random.choice(font_styles, 1, replace=False)]\n",
    "  plt.title(title_values[0],fontsize=convert_range(i),style=font_style[0][0])\n",
    "  plt.xlabel(title_values[1],labelpad = 20,fontsize=convert_range(i),style=font_style[0][0])\n",
    "  plt.ylabel(title_values[2],labelpad = 20,fontsize=convert_range(i),style=font_style[0][0])\n",
    "  #plt.annotate()\n",
    "  plt.xticks(rotation=i)\n",
    "  if i%2==0:\n",
    "      plt.grid(True)\n",
    "  style=[np.random.choice(styles, 1, replace=False)]\n",
    "  plt.style.use(style[0][0])\n",
    "  plt.savefig(f'./line_charts/mLine Chart {i+1}.png')\n",
    "  plt.show();\n",
    "  plt.close();\n"
   ]
  },
  {
   "cell_type": "markdown",
   "metadata": {
    "id": "0bDlyPD6B4ST"
   },
   "source": [
    "# **PIE Chart**"
   ]
  },
  {
   "cell_type": "code",
   "execution_count": null,
   "metadata": {},
   "outputs": [],
   "source": [
    "categories=np.random.randint(3,10,1000)"
   ]
  },
  {
   "cell_type": "code",
   "execution_count": null,
   "metadata": {},
   "outputs": [],
   "source": [
    "for i in range(10):\n",
    "  # Select 5 random values from the array\n",
    "  cats=[np.random.choice(categories, 1, replace=False)]\n",
    "  x_values =x.flatten()[np.random.choice(x.size, cats[0], replace=False)]\n",
    "  y_values = y.flatten()[np.random.choice(y.size, cats[0], replace=False)]\n",
    "  title_values=chart_titles[np.random.choice(chart_titles.size, 3, replace=False)]\n",
    "  if bars[0]<=3:\n",
    "      fig,ax = plt.subplots(figsize=(cats[0]+2,cats[0]+4))\n",
    "  else:\n",
    "      fig,ax = plt.subplots(figsize=(cats[0]+2,cats[0]))\n",
    "  plt.pie(x=y_values,labels=x_values)\n",
    "  font_style=[np.random.choice(font_styles, 1, replace=False)]\n",
    "  plt.title(title_values[0],style=font_style[0][0])\n",
    "  if i%2==0:\n",
    "      plt.grid(True)\n",
    "  style=[np.random.choice(styles, 1, replace=False)]\n",
    "  plt.style.use(style[0][0])\n",
    "  plt.savefig(f'./pie_charts/Pie Chart {i+1}.png')\n",
    "  plt.show();\n",
    "  plt.close();\n"
   ]
  },
  {
   "cell_type": "code",
   "execution_count": null,
   "metadata": {},
   "outputs": [],
   "source": []
  },
  {
   "cell_type": "code",
   "execution_count": null,
   "metadata": {},
   "outputs": [],
   "source": [
    "style=[np.random.choice(styles, 1, replace=False)]\n",
    "style"
   ]
  },
  {
   "cell_type": "code",
   "execution_count": null,
   "metadata": {},
   "outputs": [],
   "source": [
    "for i in range(10):\n",
    "  # Select 5 random values from the array\n",
    "  cats=[np.random.choice(categories, 1, replace=False)]\n",
    "  x_values =x.flatten()[np.random.choice(x.size, cats[0], replace=False)]\n",
    "  y_values = y.flatten()[np.random.choice(y.size, cats[0], replace=False)]\n",
    "  title_values=chart_titles[np.random.choice(chart_titles.size, 3, replace=False)]\n",
    "  if bars[0]<=3:\n",
    "      fig,ax = plt.subplots(figsize=(cats[0]+2,cats[0]+4))\n",
    "  else:\n",
    "      fig,ax = plt.subplots(figsize=(cats[0]+2,cats[0]))\n",
    "  plt.pie(x=y_values,labels=x_values,autopct='%.1f%%')\n",
    "  font_style=[np.random.choice(font_styles, 1, replace=False)]\n",
    "  plt.title(title_values[0],style=font_style[0][0])\n",
    "  plt.savefig(f'./pie_charts/fPie Chart {i+1}.png')\n",
    "  if i%2==0:\n",
    "      plt.grid(True)\n",
    "  style=[np.random.choice(styles, 1, replace=False)]\n",
    "  plt.style.use(style[0][0])\n",
    "  plt.show();\n",
    "  plt.close();\n"
   ]
  },
  {
   "cell_type": "code",
   "execution_count": null,
   "metadata": {},
   "outputs": [],
   "source": []
  },
  {
   "cell_type": "code",
   "execution_count": null,
   "metadata": {},
   "outputs": [],
   "source": [
    "num_bars=np.random.randint(3,10,1000)\n",
    "bars=[np.random.choice(num_bars, 1, replace=False)]\n",
    "bar_type=['bar','barh']"
   ]
  },
  {
   "cell_type": "code",
   "execution_count": null,
   "metadata": {},
   "outputs": [],
   "source": [
    "for i in range(10000):\n",
    "  bars=[np.random.choice(num_bars, 1, replace=False)]\n",
    "  b_type=[np.random.choice(bar_type, 1, replace=False)]\n",
    "  labels=x.flatten()[np.random.choice(x.size, bars[0], replace=False)]\n",
    "  data={}\n",
    "  for i in range(0,bars[0][0]):\n",
    "    data[i]=np.random.choice(y.size, bars[0], replace=False)\n",
    "  df = pd.DataFrame(data)\n",
    "  df.plot(kind=b_type[0][0], stacked=True)\n",
    "  plt.gcf().set_size_inches(10, 6)\n",
    "  title_values=chart_titles[np.random.choice(chart_titles.size, 3, replace=False)]\n",
    "  font_style=[np.random.choice(font_styles, 1, replace=False)]\n",
    "  plt.title(title_values[0],fontsize=convert_range(i),style=font_style[0][0])\n",
    "  plt.xlabel(title_values[1],labelpad = 10,fontsize=convert_range(i),style=font_style[0][0])\n",
    "  plt.ylabel(title_values[2],labelpad = 10,fontsize=convert_range(i),style=font_style[0][0])\n",
    "  plt.savefig(f'./stacked_bar_charts/Stacked Bar Chart{i+1}.png')\n",
    "  if i%2==0:\n",
    "      plt.grid(True)\n",
    "  style=[np.random.choice(styles, 1, replace=False)]\n",
    "  plt.style.use(style[0][0])\n",
    "  plt.show();"
   ]
  },
  {
   "cell_type": "code",
   "execution_count": null,
   "metadata": {},
   "outputs": [],
   "source": []
  },
  {
   "cell_type": "code",
   "execution_count": null,
   "metadata": {},
   "outputs": [],
   "source": []
  }
 ],
 "metadata": {
  "accelerator": "GPU",
  "colab": {
   "provenance": []
  },
  "kernelspec": {
   "display_name": "Python 3",
   "language": "python",
   "name": "python3"
  },
  "language_info": {
   "codemirror_mode": {
    "name": "ipython",
    "version": 3
   },
   "file_extension": ".py",
   "mimetype": "text/x-python",
   "name": "python",
   "nbconvert_exporter": "python",
   "pygments_lexer": "ipython3",
   "version": "3.9.5"
  }
 },
 "nbformat": 4,
 "nbformat_minor": 1
}
