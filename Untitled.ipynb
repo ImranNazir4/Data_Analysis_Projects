{
 "cells": [
  {
   "cell_type": "code",
   "execution_count": 1,
   "id": "486f34fc",
   "metadata": {},
   "outputs": [],
   "source": [
    "import pandas as pd\n",
    "import spacy"
   ]
  },
  {
   "cell_type": "code",
   "execution_count": 18,
   "id": "eb160602",
   "metadata": {},
   "outputs": [],
   "source": [
    "df=pd.read_excel(\"Book1.xlsx\")"
   ]
  },
  {
   "cell_type": "code",
   "execution_count": 19,
   "id": "ddb500e2",
   "metadata": {},
   "outputs": [],
   "source": [
    "nlp=spacy.load(\"en_core_web_sm\")"
   ]
  },
  {
   "cell_type": "code",
   "execution_count": 21,
   "id": "aee6db83",
   "metadata": {},
   "outputs": [
    {
     "data": {
      "text/html": [
       "<div>\n",
       "<style scoped>\n",
       "    .dataframe tbody tr th:only-of-type {\n",
       "        vertical-align: middle;\n",
       "    }\n",
       "\n",
       "    .dataframe tbody tr th {\n",
       "        vertical-align: top;\n",
       "    }\n",
       "\n",
       "    .dataframe thead th {\n",
       "        text-align: right;\n",
       "    }\n",
       "</style>\n",
       "<table border=\"1\" class=\"dataframe\">\n",
       "  <thead>\n",
       "    <tr style=\"text-align: right;\">\n",
       "      <th></th>\n",
       "      <th>Table 1</th>\n",
       "    </tr>\n",
       "  </thead>\n",
       "  <tbody>\n",
       "    <tr>\n",
       "      <th>0</th>\n",
       "      <td>2002-2004 Mercedes C240 C320 Wagon Driver Side...</td>\n",
       "    </tr>\n",
       "    <tr>\n",
       "      <th>1</th>\n",
       "      <td>2003-2007 Saab 9-3 Tail Light Driver Left Side</td>\n",
       "    </tr>\n",
       "    <tr>\n",
       "      <th>2</th>\n",
       "      <td>06-07 Explorer Mountaineer 4.0L ECU ECM PCM En...</td>\n",
       "    </tr>\n",
       "    <tr>\n",
       "      <th>3</th>\n",
       "      <td>03_04 CHEVY TAHOE SILVERADO NAVIGATION RADIO S...</td>\n",
       "    </tr>\n",
       "    <tr>\n",
       "      <th>4</th>\n",
       "      <td>✅ 10 11 12 13 14 15 Toyota Prius Hybrid UPPER ...</td>\n",
       "    </tr>\n",
       "    <tr>\n",
       "      <th>5</th>\n",
       "      <td>11_2015 CHEVROLET CRUZE PIONEER AUDIO STEREO S...</td>\n",
       "    </tr>\n",
       "    <tr>\n",
       "      <th>6</th>\n",
       "      <td>CADILLAC DEVILLE OEM FRONT DRIVER SIDE MASTER ...</td>\n",
       "    </tr>\n",
       "    <tr>\n",
       "      <th>7</th>\n",
       "      <td>15 16 17 18 19 LINCOLN MKC DRIVER &amp; PASSENGER ...</td>\n",
       "    </tr>\n",
       "    <tr>\n",
       "      <th>8</th>\n",
       "      <td>2007-2009 HONDA CIVIC HYBRID ABS BRAKE PUMP MO...</td>\n",
       "    </tr>\n",
       "    <tr>\n",
       "      <th>9</th>\n",
       "      <td>04-09 AUDI A8 ANTI LOCK BRAKE BRAKES ABS MOTOR...</td>\n",
       "    </tr>\n",
       "    <tr>\n",
       "      <th>10</th>\n",
       "      <td>2002/2008 BMW 750LI 760LI Power Door Mirror Ri...</td>\n",
       "    </tr>\n",
       "    <tr>\n",
       "      <th>11</th>\n",
       "      <td>2009-2013 Volvo XC60 Right Door Power Mirror M...</td>\n",
       "    </tr>\n",
       "    <tr>\n",
       "      <th>12</th>\n",
       "      <td>08-10 BMW 5 SERIES A/C HEATER TEMPERATURE CLIM...</td>\n",
       "    </tr>\n",
       "    <tr>\n",
       "      <th>13</th>\n",
       "      <td>2004-2006 Cadillac CTS SRX Transmission Comput...</td>\n",
       "    </tr>\n",
       "    <tr>\n",
       "      <th>14</th>\n",
       "      <td>2012 2013 2014 2015 Toyota Prius C AC Heater M...</td>\n",
       "    </tr>\n",
       "    <tr>\n",
       "      <th>15</th>\n",
       "      <td>02-04 ACURA RL NAVIGATION SCREEN GPS DISPLAY C...</td>\n",
       "    </tr>\n",
       "    <tr>\n",
       "      <th>16</th>\n",
       "      <td>Ignition Switch Key Hole Bezel Ring Fits IMPAL...</td>\n",
       "    </tr>\n",
       "    <tr>\n",
       "      <th>17</th>\n",
       "      <td>Info Center Information Digital Fits 1994 CHRY...</td>\n",
       "    </tr>\n",
       "    <tr>\n",
       "      <th>18</th>\n",
       "      <td>2014 F150 Speedometer Instrument Gauge Cluster...</td>\n",
       "    </tr>\n",
       "    <tr>\n",
       "      <th>19</th>\n",
       "      <td>10 11 Chevrolet Equinox AC / Heat Climate &amp; Ra...</td>\n",
       "    </tr>\n",
       "    <tr>\n",
       "      <th>20</th>\n",
       "      <td>04-08 Mercedes-Benz SL500 Power Door Mirror Pa...</td>\n",
       "    </tr>\n",
       "    <tr>\n",
       "      <th>21</th>\n",
       "      <td>2014-2016 VOLVO S60 V60 RIGHT DAYTIME RUNNING ...</td>\n",
       "    </tr>\n",
       "    <tr>\n",
       "      <th>22</th>\n",
       "      <td>✅ 04-06 Nissan Quest Instrument Speedometer Cl...</td>\n",
       "    </tr>\n",
       "    <tr>\n",
       "      <th>23</th>\n",
       "      <td>Auto Temperature Climate Control Digital 55900...</td>\n",
       "    </tr>\n",
       "    <tr>\n",
       "      <th>24</th>\n",
       "      <td>07-2013 MERCEDES W221 S63 AMG S550 STEERING CO...</td>\n",
       "    </tr>\n",
       "  </tbody>\n",
       "</table>\n",
       "</div>"
      ],
      "text/plain": [
       "                                              Table 1\n",
       "0   2002-2004 Mercedes C240 C320 Wagon Driver Side...\n",
       "1      2003-2007 Saab 9-3 Tail Light Driver Left Side\n",
       "2   06-07 Explorer Mountaineer 4.0L ECU ECM PCM En...\n",
       "3   03_04 CHEVY TAHOE SILVERADO NAVIGATION RADIO S...\n",
       "4   ✅ 10 11 12 13 14 15 Toyota Prius Hybrid UPPER ...\n",
       "5   11_2015 CHEVROLET CRUZE PIONEER AUDIO STEREO S...\n",
       "6   CADILLAC DEVILLE OEM FRONT DRIVER SIDE MASTER ...\n",
       "7   15 16 17 18 19 LINCOLN MKC DRIVER & PASSENGER ...\n",
       "8   2007-2009 HONDA CIVIC HYBRID ABS BRAKE PUMP MO...\n",
       "9   04-09 AUDI A8 ANTI LOCK BRAKE BRAKES ABS MOTOR...\n",
       "10  2002/2008 BMW 750LI 760LI Power Door Mirror Ri...\n",
       "11  2009-2013 Volvo XC60 Right Door Power Mirror M...\n",
       "12  08-10 BMW 5 SERIES A/C HEATER TEMPERATURE CLIM...\n",
       "13  2004-2006 Cadillac CTS SRX Transmission Comput...\n",
       "14  2012 2013 2014 2015 Toyota Prius C AC Heater M...\n",
       "15  02-04 ACURA RL NAVIGATION SCREEN GPS DISPLAY C...\n",
       "16  Ignition Switch Key Hole Bezel Ring Fits IMPAL...\n",
       "17  Info Center Information Digital Fits 1994 CHRY...\n",
       "18  2014 F150 Speedometer Instrument Gauge Cluster...\n",
       "19  10 11 Chevrolet Equinox AC / Heat Climate & Ra...\n",
       "20  04-08 Mercedes-Benz SL500 Power Door Mirror Pa...\n",
       "21  2014-2016 VOLVO S60 V60 RIGHT DAYTIME RUNNING ...\n",
       "22  ✅ 04-06 Nissan Quest Instrument Speedometer Cl...\n",
       "23  Auto Temperature Climate Control Digital 55900...\n",
       "24  07-2013 MERCEDES W221 S63 AMG S550 STEERING CO..."
      ]
     },
     "execution_count": 21,
     "metadata": {},
     "output_type": "execute_result"
    }
   ],
   "source": [
    "df"
   ]
  },
  {
   "cell_type": "code",
   "execution_count": 27,
   "id": "ee5e2609",
   "metadata": {},
   "outputs": [],
   "source": [
    "doc=nlp(df[\"Table 1\"][0])"
   ]
  },
  {
   "cell_type": "code",
   "execution_count": 28,
   "id": "89cb97a2",
   "metadata": {},
   "outputs": [
    {
     "data": {
      "text/plain": [
       "(2002-2004, Mercedes, C240, Wagon)"
      ]
     },
     "execution_count": 28,
     "metadata": {},
     "output_type": "execute_result"
    }
   ],
   "source": [
    "doc.ents"
   ]
  },
  {
   "cell_type": "code",
   "execution_count": null,
   "id": "db4a860f",
   "metadata": {},
   "outputs": [],
   "source": []
  }
 ],
 "metadata": {
  "kernelspec": {
   "display_name": "Python 3",
   "language": "python",
   "name": "python3"
  },
  "language_info": {
   "codemirror_mode": {
    "name": "ipython",
    "version": 3
   },
   "file_extension": ".py",
   "mimetype": "text/x-python",
   "name": "python",
   "nbconvert_exporter": "python",
   "pygments_lexer": "ipython3",
   "version": "3.9.5"
  }
 },
 "nbformat": 4,
 "nbformat_minor": 5
}
