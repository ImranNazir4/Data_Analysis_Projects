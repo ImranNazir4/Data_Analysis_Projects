{
 "cells": [
  {
   "cell_type": "markdown",
   "id": "c3b94ea9-ebaa-4fad-ab1f-d48af704eb55",
   "metadata": {},
   "source": [
    "<img src=\"mmu.png\" style=\"height: 80px;\" align=left> "
   ]
  },
  {
   "cell_type": "markdown",
   "id": "9d1b9887-e90d-477a-aac9-b80781f97ebb",
   "metadata": {},
   "source": [
    "# Load Libraries"
   ]
  },
  {
   "cell_type": "code",
   "execution_count": 1,
   "id": "04702c03-fdce-4782-b9c8-3c069e1f18b5",
   "metadata": {},
   "outputs": [],
   "source": [
    "import pandas as pd\n",
    "import numpy as np\n",
    "import seaborn as sns\n",
    "import matplotlib.pyplot as plt"
   ]
  },
  {
   "cell_type": "markdown",
   "id": "3c6e36a9-741c-497a-832e-47983a0e7d85",
   "metadata": {
    "tags": []
   },
   "source": [
    "# Load Dataset"
   ]
  },
  {
   "cell_type": "code",
   "execution_count": 2,
   "id": "3bc16e58-5182-4a7f-a366-262b2b7302c6",
   "metadata": {},
   "outputs": [],
   "source": [
    "data=pd.read_csv('data.csv')"
   ]
  },
  {
   "cell_type": "markdown",
   "id": "0825a6d7-6376-49cb-9c2f-95977348175c",
   "metadata": {},
   "source": [
    "### QUESTION 1: Identifying top-5 business/retail [5%]\n",
    "\n",
    "The objective of this question is to identify FIVE most frequently found business/retail. Suppose the dataset consists of only 3 records with each record has a location information (lat/lon). Execute the following steps:\n",
    "\n",
    "Step 1: extract all business/retail within 2km from a location. Since you have only 3 records (locations), you need to loop for 3 times. You should expect that different locations result in different retail/business.\n",
    "\n",
    "Step 2: count the frequently for each business/retail for each location. Example as follow:\n",
    "- Location 1 = [McD, KFC, CIMB, McD, Starbucks, CoffeeBean, Nandos, BananaLeaf]\n",
    "- Location 2 = [McD, Starbucks, PizzaHut, Domino, Maybank, CoffeeBean, BananaLeaf]\n",
    "- Location 3 = [McD, CoffeeBean, Maybank, Pizzahut, ChildrenHouse, Subway, Tealive]\n",
    "\n",
    "Step 3: Count and sort the locations. \n",
    "When you do a count for each retail/business, you will have:\n",
    "McD(4), KFC(1), CIMB(1), MMU(1), Starbucks(2), CoffeeBean(3), Subway(1), BananaLeaf(2)....etc. You should then SORT descendingly according to the count. From the list, pick top-3 retail/business. These 3 retail/business are then the 3 new columns for the original dataset.  \n",
    "\n",
    "Step 4: Append the original table with the new columns with count. The table should look like:\n",
    "\n",
    "| Location | ... | McD | CoffeeBean | BananaLeaf |\n",
    "| --- | --- | --- | --- | --- |\n",
    "| 1   | ... | 2 | 1 | 1 |\n",
    "| 2   | ... | 1 | 1 | 1 |\n",
    "| 3   | ... | 1 | 1 | 0 |\n",
    "\n",
    "\n",
    "Step 5: For each location, set \"1\" to indicate existence of that retail/business at that particular location and \"0\" otherwise. So, finally, the original dataset would have 3 new columns appended. The table should look like the following:\n",
    "\n",
    "| Location | ... | McD | CoffeeBean | BananaLeaf |\n",
    "| --- | --- | --- | --- | --- |\n",
    "| 1   | ... | 1 | 1 | 1 |\n",
    "| 2   | ... | 1 | 1 | 1 |\n",
    "| 3   | ... | 1 | 1 | 0 |\n",
    "\n",
    "Notes:\n",
    "\n",
    "- you can extract the business/retail from yellowpages (https://www.yellowpages.my/) or through Google Places API. Becareful that using Google API may need you to pay. Check and plan properly to avoid unnecessary inconvenience. Both the lecturer and the tutor are NOT responsible for any payment incurred when doing this project.\n"
   ]
  },
  {
   "cell_type": "code",
   "execution_count": null,
   "id": "6f837e61-5aca-4cf1-a287-90ff13a91dd7",
   "metadata": {},
   "outputs": [],
   "source": []
  },
  {
   "cell_type": "markdown",
   "id": "c639908f-da7e-413e-b901-77fe0600c07b",
   "metadata": {},
   "source": [
    "### QUESTION 2: Streamlit with map with location profile [5%]\n",
    "\n",
    "Create a streamlit with interactive map. When a location is selected, the map will zoom into that location. Provide 3 charts with (i) count of top-5 retail/business, (ii) average monthly family expenses for address within 2km from the selected location, (iii) Count for different types of occupation."
   ]
  },
  {
   "cell_type": "code",
   "execution_count": 4,
   "id": "34efc188-34a3-448b-b9de-e9f73a662410",
   "metadata": {},
   "outputs": [
    {
     "data": {
      "text/plain": [
       "Index(['Age', 'Gender', 'MaritalStatus', 'SmokerStatus', 'LifeStyle',\n",
       "       'LanguageSpoken', 'Education', 'Race', 'Nationality',\n",
       "       'MovingToNewCompany', 'Occupation', 'Telco', 'ResidentialType',\n",
       "       'NoofDependent', 'FamilyExpenses_monthly', 'AnnualSalary', 'Need1',\n",
       "       'Need2', 'PurchasedPlan1', 'Transport', 'PurchasedPlan2',\n",
       "       'MedicalComplication', 'lat', 'lon'],\n",
       "      dtype='object')"
      ]
     },
     "execution_count": 4,
     "metadata": {},
     "output_type": "execute_result"
    }
   ],
   "source": [
    "data.columns"
   ]
  },
  {
   "cell_type": "markdown",
   "id": "e5cf7f56-ee2a-4636-8d78-55d3ad640383",
   "metadata": {
    "tags": []
   },
   "source": []
  },
  {
   "cell_type": "code",
   "execution_count": 6,
   "id": "38e6f8cd",
   "metadata": {},
   "outputs": [],
   "source": [
    "import geopy.distance"
   ]
  },
  {
   "cell_type": "code",
   "execution_count": null,
   "id": "0ed91399",
   "metadata": {},
   "outputs": [],
   "source": [
    "geopy.distance.geodesic().km"
   ]
  },
  {
   "cell_type": "code",
   "execution_count": null,
   "id": "d4094956",
   "metadata": {},
   "outputs": [],
   "source": [
    "def find_distance(lat,lon):\n",
    "    "
   ]
  },
  {
   "cell_type": "code",
   "execution_count": 14,
   "id": "2e66d97c-6d27-47d9-944b-7594bfacea5d",
   "metadata": {},
   "outputs": [
    {
     "data": {
      "text/plain": [
       "lat       lon       \n",
       "3.085255  101.643096    1\n",
       "3.167347  101.703712    1\n",
       "3.170898  101.672798    1\n",
       "3.170551  101.689779    1\n",
       "3.170437  101.732796    1\n",
       "                       ..\n",
       "3.129249  101.670158    1\n",
       "3.129201  101.757563    1\n",
       "3.128964  101.693179    1\n",
       "3.128535  101.697364    1\n",
       "3.217850  101.730389    1\n",
       "Length: 500, dtype: int64"
      ]
     },
     "execution_count": 14,
     "metadata": {},
     "output_type": "execute_result"
    }
   ],
   "source": [
    " data[['lat','lon']].value_counts()"
   ]
  },
  {
   "cell_type": "markdown",
   "id": "f6885fb5-2132-47b1-8eaa-71636bc45acf",
   "metadata": {
    "tags": []
   },
   "source": []
  },
  {
   "cell_type": "code",
   "execution_count": null,
   "id": "ffedb712-c92a-48c1-afa0-c7edadde6ce8",
   "metadata": {},
   "outputs": [],
   "source": []
  },
  {
   "cell_type": "markdown",
   "id": "5060dd8a-806c-4b06-bc40-ef0dc1b8b9ce",
   "metadata": {
    "tags": []
   },
   "source": []
  },
  {
   "cell_type": "code",
   "execution_count": 13,
   "id": "aeaa5540-330e-46d1-a2ab-7a3b3031a75d",
   "metadata": {},
   "outputs": [
    {
     "name": "stderr",
     "output_type": "stream",
     "text": [
      "c:\\users\\zee tech\\appdata\\local\\programs\\python\\python39\\lib\\site-packages\\geopandas\\plotting.py:693: UserWarning: The GeoDataFrame you are attempting to plot is empty. Nothing has been displayed.\n",
      "  warnings.warn(\n"
     ]
    },
    {
     "data": {
      "image/png": "[encoded data removed]",
      "text/plain": [
       "<Figure size 720x720 with 1 Axes>"
      ]
     },
     "metadata": {
      "needs_background": "light"
     },
     "output_type": "display_data"
    }
   ],
   "source": [
    "# Step 3: Plot the cities onto the map\n",
    "# We mostly use the code from before --- we still want the country borders plotted --- and we add a command to plot the cities\n",
    "fig, gax = plt.subplots(figsize=(10,10))\n",
    "\n",
    "# By only plotting rows in which the continent is 'South America' we only plot, well, South America.\n",
    "world.query(\"continent == 'Malasiya'\").plot(ax = gax, edgecolor='black', color='white')\n",
    "\n",
    "# This plot the cities. It's the same syntax, but we are plotting from a different GeoDataFrame. I want the\n",
    "# cities as pale red dots.\n",
    "gdf.plot(ax=gax, color='red', alpha = 0.5)\n",
    "\n",
    "gax.set_xlabel('longitude')\n",
    "gax.set_ylabel('latitude')\n",
    "gax.set_title('South America')\n",
    "\n",
    "# Kill the spines...\n",
    "gax.spines['top'].set_visible(False)\n",
    "gax.spines['right'].set_visible(False)\n",
    "\n",
    "# ...or get rid of all the axis. Is it important to know the lat and long?\n",
    "# plt.axis('off')\n",
    "\n",
    "\n",
    "# Label the cities\n",
    "for x, y in zip(data['lon'], data['lat']):\n",
    "    gax.annotate('',xy=(x,y), xytext=(4,4), textcoords='offset points')\n",
    "\n",
    "plt.show()\n"
   ]
  },
  {
   "cell_type": "markdown",
   "id": "e827b3a3-3635-48c5-be9b-52157ecd5a15",
   "metadata": {
    "tags": []
   },
   "source": []
  },
  {
   "cell_type": "code",
   "execution_count": null,
   "id": "f4254680-cd2e-41dd-b623-fb9aaa382f54",
   "metadata": {},
   "outputs": [],
   "source": []
  },
  {
   "cell_type": "markdown",
   "id": "d2af838e-bc7b-473b-ae10-fddf70c3e2e1",
   "metadata": {
    "jp-MarkdownHeadingCollapsed": true,
    "tags": []
   },
   "source": []
  },
  {
   "cell_type": "markdown",
   "id": "6112708a-0e56-40f0-befa-6f5dd8152d7b",
   "metadata": {
    "tags": []
   },
   "source": []
  },
  {
   "cell_type": "code",
   "execution_count": null,
   "id": "530ba8b4-8c11-4951-89f7-699ae58c39cd",
   "metadata": {},
   "outputs": [],
   "source": []
  },
  {
   "cell_type": "markdown",
   "id": "e3d03249-f1c4-45bb-9fa7-b0b5c3bf3870",
   "metadata": {
    "tags": []
   },
   "source": []
  },
  {
   "cell_type": "markdown",
   "id": "0a5e4d91-9688-4734-bbde-fe93c650db8e",
   "metadata": {
    "tags": []
   },
   "source": []
  },
  {
   "cell_type": "code",
   "execution_count": null,
   "id": "00271f82-e12b-4b2c-8495-5de6f709e25d",
   "metadata": {},
   "outputs": [],
   "source": []
  },
  {
   "cell_type": "markdown",
   "id": "26b14fc0-ed45-439b-92af-9fdd8bec13fa",
   "metadata": {
    "jp-MarkdownHeadingCollapsed": true,
    "tags": []
   },
   "source": []
  },
  {
   "cell_type": "markdown",
   "id": "980986fa-1c8e-4644-a904-490b1a45a9de",
   "metadata": {
    "tags": []
   },
   "source": []
  },
  {
   "cell_type": "code",
   "execution_count": null,
   "id": "52900586-aa60-4140-b577-f4007ec40291",
   "metadata": {},
   "outputs": [],
   "source": []
  },
  {
   "cell_type": "markdown",
   "id": "e64703b1-3b36-4c5f-8b6e-a5d30b3e8d6c",
   "metadata": {
    "tags": []
   },
   "source": []
  },
  {
   "cell_type": "markdown",
   "id": "6edfba26-8a55-4598-be24-869ebfad8d81",
   "metadata": {
    "tags": []
   },
   "source": []
  },
  {
   "cell_type": "code",
   "execution_count": null,
   "id": "bf06512a-c464-4c3d-85ab-c458bc7e0649",
   "metadata": {},
   "outputs": [],
   "source": []
  },
  {
   "cell_type": "markdown",
   "id": "fab36aa4-5a9a-4f85-8b41-54b05b93af0d",
   "metadata": {
    "tags": []
   },
   "source": []
  },
  {
   "cell_type": "markdown",
   "id": "f49ac9da-13c0-4d7d-9c36-12c1c6a30be4",
   "metadata": {},
   "source": []
  },
  {
   "cell_type": "code",
   "execution_count": null,
   "id": "93494580-a74d-4e77-b96f-b5618f35800c",
   "metadata": {},
   "outputs": [],
   "source": []
  },
  {
   "cell_type": "markdown",
   "id": "85daf2ef-1216-4f4a-bd2b-ac1103acc70e",
   "metadata": {
    "tags": []
   },
   "source": []
  },
  {
   "cell_type": "code",
   "execution_count": null,
   "id": "1a96c00f-270f-45d8-ad80-bd360dac714b",
   "metadata": {},
   "outputs": [],
   "source": []
  },
  {
   "cell_type": "markdown",
   "id": "0caf6364-8ed3-408e-8ed1-8dde0f566668",
   "metadata": {},
   "source": []
  },
  {
   "cell_type": "code",
   "execution_count": null,
   "id": "2c04c76b-abdb-4f95-a286-9e675e74b038",
   "metadata": {},
   "outputs": [],
   "source": [
    "\n"
   ]
  },
  {
   "cell_type": "markdown",
   "id": "8daa1546-0050-4666-a4a2-e3a68650c764",
   "metadata": {},
   "source": []
  },
  {
   "cell_type": "code",
   "execution_count": null,
   "id": "407ff320-9679-49c1-b348-b35bb19e7d96",
   "metadata": {},
   "outputs": [],
   "source": []
  },
  {
   "cell_type": "markdown",
   "id": "2a29ef67-8187-42ec-9fa7-079922d6875a",
   "metadata": {},
   "source": []
  },
  {
   "cell_type": "code",
   "execution_count": null,
   "id": "b96d7658-dab6-4587-8479-b788d1a52233",
   "metadata": {},
   "outputs": [],
   "source": []
  },
  {
   "cell_type": "markdown",
   "id": "ed18a9d1-2dd3-40e3-aec1-9af23d755b84",
   "metadata": {},
   "source": []
  },
  {
   "cell_type": "code",
   "execution_count": null,
   "id": "3fcb9994-b2e9-48c1-8115-11b904d395fd",
   "metadata": {},
   "outputs": [],
   "source": []
  },
  {
   "cell_type": "markdown",
   "id": "b9fd4d0c-b96d-4f89-8cb0-d8bbc49c74d1",
   "metadata": {
    "tags": []
   },
   "source": []
  },
  {
   "cell_type": "code",
   "execution_count": null,
   "id": "fffec438-3597-4721-a023-9082f1adc43e",
   "metadata": {},
   "outputs": [],
   "source": []
  },
  {
   "cell_type": "markdown",
   "id": "149b1227-9cc9-4f8d-be83-57f9274e9de2",
   "metadata": {},
   "source": []
  },
  {
   "cell_type": "code",
   "execution_count": null,
   "id": "bab1885d-d6d8-40df-9c7b-ab70b2beca46",
   "metadata": {},
   "outputs": [],
   "source": []
  },
  {
   "cell_type": "markdown",
   "id": "ebb36080-3ef6-4d7a-9c96-a667bba2ece9",
   "metadata": {},
   "source": []
  },
  {
   "cell_type": "code",
   "execution_count": null,
   "id": "aea3776a-edfd-4151-aa50-2e940dad5bb5",
   "metadata": {
    "tags": []
   },
   "outputs": [],
   "source": []
  },
  {
   "cell_type": "markdown",
   "id": "df48a3fe-9c66-44cd-8ed7-02a4f07b3c84",
   "metadata": {
    "tags": []
   },
   "source": []
  },
  {
   "cell_type": "markdown",
   "id": "7d8ff045-4556-4d2f-b37e-25c8ee6d90b4",
   "metadata": {},
   "source": []
  },
  {
   "cell_type": "code",
   "execution_count": null,
   "id": "f9e2a431-5a5c-48f9-893b-82b80ae9e7fe",
   "metadata": {},
   "outputs": [],
   "source": []
  }
 ],
 "metadata": {
  "kernelspec": {
   "display_name": "Python 3",
   "language": "python",
   "name": "python3"
  },
  "language_info": {
   "codemirror_mode": {
    "name": "ipython",
    "version": 3
   },
   "file_extension": ".py",
   "mimetype": "text/x-python",
   "name": "python",
   "nbconvert_exporter": "python",
   "pygments_lexer": "ipython3",
   "version": "3.9.5"
  }
 },
 "nbformat": 4,
 "nbformat_minor": 5
}
