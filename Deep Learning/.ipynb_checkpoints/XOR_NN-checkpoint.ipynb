{
 "cells": [
  {
   "cell_type": "code",
   "execution_count": 1,
   "id": "38d2f8fd",
   "metadata": {},
   "outputs": [],
   "source": [
    "import pandas as pd\n",
    "import numpy as np"
   ]
  },
  {
   "cell_type": "code",
   "execution_count": 41,
   "id": "5b17def9",
   "metadata": {},
   "outputs": [],
   "source": [
    "x=[0,1,0,1]\n",
    "y=[0,0,1,1]"
   ]
  },
  {
   "cell_type": "code",
   "execution_count": 33,
   "id": "61fac3be",
   "metadata": {},
   "outputs": [],
   "source": [
    "l1_weights=[1,-1]\n",
    "l2_weights=[1,1]"
   ]
  },
  {
   "cell_type": "code",
   "execution_count": 14,
   "id": "cd66847e",
   "metadata": {},
   "outputs": [],
   "source": [
    "l1_bias=[-1,1]\n",
    "l2_bias=[-2]"
   ]
  },
  {
   "cell_type": "code",
   "execution_count": 24,
   "id": "ef21021c",
   "metadata": {},
   "outputs": [],
   "source": [
    "def activation(output):\n",
    "    if output>=0:\n",
    "        return 1\n",
    "    else:\n",
    "        return 0"
   ]
  },
  {
   "cell_type": "code",
   "execution_count": 40,
   "id": "e07effe5",
   "metadata": {},
   "outputs": [],
   "source": [
    "def xor_nn(x,y):\n",
    "    fire1=x*l1_weights[0]+y*l1_weights[0]+l1_bias[0]\n",
    "    fire2=x*l1_weights[1]+y*l1_weights[1]+l1_bias[1]\n",
    "    n1=activation(fire1)\n",
    "    n2=activation(fire2)\n",
    "    fire3=n1*l2_weights[0]+n2*l2_weights[0]+l2_bias[0]\n",
    "    return activation(fire3) "
   ]
  },
  {
   "cell_type": "code",
   "execution_count": 45,
   "id": "8f384300",
   "metadata": {},
   "outputs": [
    {
     "name": "stdout",
     "output_type": "stream",
     "text": [
      "0\n",
      "1\n",
      "1\n",
      "0\n"
     ]
    }
   ],
   "source": [
    "for i,j in zip(x,y):\n",
    "    print(xor_nn(i,j))"
   ]
  },
  {
   "cell_type": "code",
   "execution_count": null,
   "id": "2363d95e",
   "metadata": {},
   "outputs": [],
   "source": []
  },
  {
   "cell_type": "code",
   "execution_count": null,
   "id": "da954fab",
   "metadata": {},
   "outputs": [],
   "source": []
  },
  {
   "cell_type": "code",
   "execution_count": null,
   "id": "f964ce48",
   "metadata": {},
   "outputs": [],
   "source": []
  },
  {
   "cell_type": "code",
   "execution_count": null,
   "id": "de7228df",
   "metadata": {},
   "outputs": [],
   "source": []
  },
  {
   "cell_type": "code",
   "execution_count": null,
   "id": "25c26253",
   "metadata": {},
   "outputs": [],
   "source": []
  },
  {
   "cell_type": "code",
   "execution_count": 29,
   "id": "638df267",
   "metadata": {},
   "outputs": [],
   "source": [
    "def n2():\n",
    "    fire=x[0]*l1_weights[1]+y[0]*l1_weights[1]+l1_bias[1]\n",
    "    return activation(fire)"
   ]
  },
  {
   "cell_type": "code",
   "execution_count": null,
   "id": "28573a37",
   "metadata": {},
   "outputs": [],
   "source": [
    "def n3():\n",
    "    "
   ]
  },
  {
   "cell_type": "code",
   "execution_count": null,
   "id": "fa312a44",
   "metadata": {},
   "outputs": [],
   "source": [
    "def "
   ]
  },
  {
   "cell_type": "code",
   "execution_count": null,
   "id": "15c92d1e",
   "metadata": {},
   "outputs": [],
   "source": []
  },
  {
   "cell_type": "code",
   "execution_count": 27,
   "id": "7e68dd13",
   "metadata": {},
   "outputs": [
    {
     "data": {
      "text/plain": [
       "0"
      ]
     },
     "execution_count": 27,
     "metadata": {},
     "output_type": "execute_result"
    }
   ],
   "source": [
    "xor_nn()"
   ]
  },
  {
   "cell_type": "code",
   "execution_count": null,
   "id": "1ff6bfbb",
   "metadata": {},
   "outputs": [],
   "source": []
  }
 ],
 "metadata": {
  "kernelspec": {
   "display_name": "Python 3",
   "language": "python",
   "name": "python3"
  },
  "language_info": {
   "codemirror_mode": {
    "name": "ipython",
    "version": 3
   },
   "file_extension": ".py",
   "mimetype": "text/x-python",
   "name": "python",
   "nbconvert_exporter": "python",
   "pygments_lexer": "ipython3",
   "version": "3.9.5"
  }
 },
 "nbformat": 4,
 "nbformat_minor": 5
}
