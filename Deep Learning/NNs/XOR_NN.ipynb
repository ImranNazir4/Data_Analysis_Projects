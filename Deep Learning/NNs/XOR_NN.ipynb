{
 "cells": [
  {
   "cell_type": "code",
   "execution_count": 1,
   "id": "759081f3",
   "metadata": {},
   "outputs": [],
   "source": [
    "import pandas as pd\n",
    "import numpy as np"
   ]
  },
  {
   "cell_type": "code",
   "execution_count": 41,
   "id": "cd9dc849",
   "metadata": {},
   "outputs": [],
   "source": [
    "x=[0,1,0,1]\n",
    "y=[0,0,1,1]"
   ]
  },
  {
   "cell_type": "code",
   "execution_count": 33,
   "id": "9dbeea9e",
   "metadata": {},
   "outputs": [],
   "source": [
    "l1_weights=[1,-1]\n",
    "l2_weights=[1,1]"
   ]
  },
  {
   "cell_type": "code",
   "execution_count": 14,
   "id": "84c0ee87",
   "metadata": {},
   "outputs": [],
   "source": [
    "l1_bias=[-1,1]\n",
    "l2_bias=[-2]"
   ]
  },
  {
   "cell_type": "code",
   "execution_count": 24,
   "id": "9c36561a",
   "metadata": {},
   "outputs": [],
   "source": [
    "def activation(output):\n",
    "    if output>=0:\n",
    "        return 1\n",
    "    else:\n",
    "        return 0"
   ]
  },
  {
   "cell_type": "code",
   "execution_count": 40,
   "id": "4964d254",
   "metadata": {},
   "outputs": [],
   "source": [
    "def xor_nn(x,y):\n",
    "    fire1=x*l1_weights[0]+y*l1_weights[0]+l1_bias[0]\n",
    "    fire2=x*l1_weights[1]+y*l1_weights[1]+l1_bias[1]\n",
    "    n1=activation(fire1)\n",
    "    n2=activation(fire2)\n",
    "    fire3=n1*l2_weights[0]+n2*l2_weights[0]+l2_bias[0]\n",
    "    return activation(fire3) "
   ]
  },
  {
   "cell_type": "code",
   "execution_count": 45,
   "id": "852f48c4",
   "metadata": {},
   "outputs": [
    {
     "name": "stdout",
     "output_type": "stream",
     "text": [
      "0\n",
      "1\n",
      "1\n",
      "0\n"
     ]
    }
   ],
   "source": [
    "for i,j in zip(x,y):\n",
    "    print(xor_nn(i,j))"
   ]
  },
  {
   "cell_type": "code",
   "execution_count": null,
   "id": "ff545c52",
   "metadata": {},
   "outputs": [],
   "source": []
  },
  {
   "cell_type": "code",
   "execution_count": null,
   "id": "4586a93f",
   "metadata": {},
   "outputs": [],
   "source": []
  },
  {
   "cell_type": "code",
   "execution_count": null,
   "id": "ccb2ff54",
   "metadata": {},
   "outputs": [],
   "source": []
  },
  {
   "cell_type": "code",
   "execution_count": null,
   "id": "bb4d248f",
   "metadata": {},
   "outputs": [],
   "source": []
  },
  {
   "cell_type": "code",
   "execution_count": null,
   "id": "35f71b3f",
   "metadata": {},
   "outputs": [],
   "source": []
  },
  {
   "cell_type": "code",
   "execution_count": 29,
   "id": "cc4ef287",
   "metadata": {},
   "outputs": [],
   "source": [
    "def n2():\n",
    "    fire=x[0]*l1_weights[1]+y[0]*l1_weights[1]+l1_bias[1]\n",
    "    return activation(fire)"
   ]
  },
  {
   "cell_type": "code",
   "execution_count": null,
   "id": "9061122e",
   "metadata": {},
   "outputs": [],
   "source": [
    "def n3():\n",
    "    "
   ]
  },
  {
   "cell_type": "code",
   "execution_count": null,
   "id": "25920259",
   "metadata": {},
   "outputs": [],
   "source": [
    "def "
   ]
  },
  {
   "cell_type": "code",
   "execution_count": null,
   "id": "ee4915c6",
   "metadata": {},
   "outputs": [],
   "source": []
  },
  {
   "cell_type": "code",
   "execution_count": 27,
   "id": "f7a18c81",
   "metadata": {},
   "outputs": [
    {
     "data": {
      "text/plain": [
       "0"
      ]
     },
     "execution_count": 27,
     "metadata": {},
     "output_type": "execute_result"
    }
   ],
   "source": [
    "xor_nn()"
   ]
  },
  {
   "cell_type": "code",
   "execution_count": null,
   "id": "355e5163",
   "metadata": {},
   "outputs": [],
   "source": []
  }
 ],
 "metadata": {
  "kernelspec": {
   "display_name": "Python 3",
   "language": "python",
   "name": "python3"
  },
  "language_info": {
   "codemirror_mode": {
    "name": "ipython",
    "version": 3
   },
   "file_extension": ".py",
   "mimetype": "text/x-python",
   "name": "python",
   "nbconvert_exporter": "python",
   "pygments_lexer": "ipython3",
   "version": "3.9.5"
  }
 },
 "nbformat": 4,
 "nbformat_minor": 5
}
