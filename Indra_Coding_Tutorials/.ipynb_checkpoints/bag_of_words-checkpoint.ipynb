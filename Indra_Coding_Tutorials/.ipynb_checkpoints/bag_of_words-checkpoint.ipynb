{
 "cells": [
  {
   "cell_type": "code",
   "execution_count": 2,
   "metadata": {
    "colab": {
     "base_uri": "https://localhost:8080/"
    },
    "id": "lIUa7Sst29mQ",
    "outputId": "87e93db1-55e9-41be-f945-a584349c12c8"
   },
   "outputs": [
    {
     "name": "stdout",
     "output_type": "stream",
     "text": [
      "Vocabulary: ['ate' 'cat' 'dog' 'hat' 'homework' 'in' 'mat' 'my' 'on' 'sat' 'the']\n",
      "BoW representation:\n",
      " [[0 1 0 1 0 1 0 0 0 0 2]\n",
      " [0 1 0 0 0 0 1 0 1 1 2]\n",
      " [1 0 1 0 1 0 0 1 0 0 1]]\n"
     ]
    }
   ],
   "source": [
    "from sklearn.feature_extraction.text import CountVectorizer\n",
    "\n",
    "# Sample documents\n",
    "documents = [\n",
    "    \"The cat in the hat.\",\n",
    "    \"The cat sat on the mat.\",\n",
    "    \"The dog ate my homework.\"\n",
    "]\n",
    "\n",
    "# Create a CountVectorizer object\n",
    "vectorizer = CountVectorizer()\n",
    "\n",
    "# Fit and transform the documents\n",
    "bow = vectorizer.fit_transform(documents)\n",
    "\n",
    "# Print the vocabulary and BoW representation\n",
    "print(\"Vocabulary:\", vectorizer.get_feature_names_out()) \n",
    "print(\"BoW representation:\\n\", bow.toarray())\n"
   ]
  },
  {
   "cell_type": "code",
   "execution_count": null,
   "metadata": {
    "id": "UPIYQXQz3Bu8"
   },
   "outputs": [],
   "source": []
  }
 ],
 "metadata": {
  "colab": {
   "provenance": []
  },
  "kernelspec": {
   "display_name": "Python 3",
   "language": "python",
   "name": "python3"
  },
  "language_info": {
   "codemirror_mode": {
    "name": "ipython",
    "version": 3
   },
   "file_extension": ".py",
   "mimetype": "text/x-python",
   "name": "python",
   "nbconvert_exporter": "python",
   "pygments_lexer": "ipython3",
   "version": "3.9.5"
  }
 },
 "nbformat": 4,
 "nbformat_minor": 1
}
