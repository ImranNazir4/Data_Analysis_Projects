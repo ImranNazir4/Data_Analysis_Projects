{
 "cells": [
  {
   "cell_type": "code",
   "execution_count": 1,
   "id": "5489fd7b",
   "metadata": {},
   "outputs": [],
   "source": [
    "import pandas as pd\n",
    "import numpy as np\n",
    "from sklearn.model_selection import train_test_split\n",
    "import pandas as pd\n",
    "import numpy as np\n",
    "import matplotlib.pyplot as plt\n",
    "import seaborn as sns\n",
    "from datetime import datetime\n",
    "from sklearn.ensemble import RandomForestRegressor\n",
    "from sklearn.linear_model import LinearRegression\n",
    "from sklearn.tree import DecisionTreeRegressor\n",
    "from sklearn.svm import SVR\n",
    "from sklearn import linear_model\n",
    "from sklearn import metrics\n",
    "from matplotlib.patches import Rectangle"
   ]
  },
  {
   "cell_type": "code",
   "execution_count": 2,
   "id": "42703964",
   "metadata": {},
   "outputs": [],
   "source": [
    "df = pd.read_excel('(미디어에버) BioParticle Counter 6개월 측정 20230314.xlsx',\n",
    "                   sheet_name='data',\n",
    "                  header=1)"
   ]
  },
  {
   "cell_type": "code",
   "execution_count": 3,
   "id": "b09edd49",
   "metadata": {},
   "outputs": [],
   "source": [
    "df.drop(['Unnamed: 0'],axis=1,inplace=True)"
   ]
  },
  {
   "cell_type": "code",
   "execution_count": 4,
   "id": "39cba40b",
   "metadata": {},
   "outputs": [],
   "source": [
    "df.dropna(axis=0,inplace=True)"
   ]
  },
  {
   "cell_type": "code",
   "execution_count": 5,
   "id": "1eb3a7f3",
   "metadata": {},
   "outputs": [
    {
     "data": {
      "text/plain": [
       "Day      datetime64[ns]\n",
       "Time             object\n",
       "Bio              object\n",
       "Dust             object\n",
       "T               float64\n",
       "H               float64\n",
       "PM2.5           float64\n",
       "dtype: object"
      ]
     },
     "execution_count": 5,
     "metadata": {},
     "output_type": "execute_result"
    }
   ],
   "source": [
    "df.dtypes"
   ]
  },
  {
   "cell_type": "code",
   "execution_count": 6,
   "id": "782540cf",
   "metadata": {},
   "outputs": [],
   "source": [
    "df['Dust']=df['Dust'].astype(int)\n",
    "df['Bio']=df['Bio'].astype(int)"
   ]
  },
  {
   "cell_type": "code",
   "execution_count": 7,
   "id": "d8c38a78",
   "metadata": {},
   "outputs": [],
   "source": [
    "df['Date_Time']=df['Day'].astype(str)+' '+df['Time'].astype(str)\n",
    "df['Date_Time'] = pd.to_datetime(df['Date_Time'])"
   ]
  },
  {
   "cell_type": "code",
   "execution_count": 8,
   "id": "782bbff0",
   "metadata": {},
   "outputs": [],
   "source": [
    "#df1=df1[['Date_Time', 'PM2.5(ug/m3)', 'PM10(ug/m3)','co(ppm  )', 'no2(ppm  )', 'o3(ppm  )']]\n",
    "#df = df.resample('H', on='Date_Time').sum()\n",
    "#df=df.reset_index()\n",
    "df['Date_Time'] =df['Date_Time'].values.astype(np.int64) // 10 ** 9"
   ]
  },
  {
   "cell_type": "code",
   "execution_count": 9,
   "id": "df88898b",
   "metadata": {},
   "outputs": [
    {
     "data": {
      "text/html": [
       "<div>\n",
       "<style scoped>\n",
       "    .dataframe tbody tr th:only-of-type {\n",
       "        vertical-align: middle;\n",
       "    }\n",
       "\n",
       "    .dataframe tbody tr th {\n",
       "        vertical-align: top;\n",
       "    }\n",
       "\n",
       "    .dataframe thead th {\n",
       "        text-align: right;\n",
       "    }\n",
       "</style>\n",
       "<table border=\"1\" class=\"dataframe\">\n",
       "  <thead>\n",
       "    <tr style=\"text-align: right;\">\n",
       "      <th></th>\n",
       "      <th>Day</th>\n",
       "      <th>Time</th>\n",
       "      <th>Bio</th>\n",
       "      <th>Dust</th>\n",
       "      <th>T</th>\n",
       "      <th>H</th>\n",
       "      <th>PM2.5</th>\n",
       "      <th>Date_Time</th>\n",
       "    </tr>\n",
       "  </thead>\n",
       "  <tbody>\n",
       "    <tr>\n",
       "      <th>1</th>\n",
       "      <td>2022-05-01</td>\n",
       "      <td>00:03:29</td>\n",
       "      <td>11</td>\n",
       "      <td>34254</td>\n",
       "      <td>25.5</td>\n",
       "      <td>27.0</td>\n",
       "      <td>30.984</td>\n",
       "      <td>1651363409</td>\n",
       "    </tr>\n",
       "    <tr>\n",
       "      <th>2</th>\n",
       "      <td>2022-05-01</td>\n",
       "      <td>00:07:36</td>\n",
       "      <td>19</td>\n",
       "      <td>33980</td>\n",
       "      <td>25.5</td>\n",
       "      <td>27.0</td>\n",
       "      <td>30.750</td>\n",
       "      <td>1651363656</td>\n",
       "    </tr>\n",
       "    <tr>\n",
       "      <th>3</th>\n",
       "      <td>2022-05-01</td>\n",
       "      <td>00:11:43</td>\n",
       "      <td>28</td>\n",
       "      <td>33378</td>\n",
       "      <td>25.5</td>\n",
       "      <td>27.0</td>\n",
       "      <td>30.235</td>\n",
       "      <td>1651363903</td>\n",
       "    </tr>\n",
       "    <tr>\n",
       "      <th>4</th>\n",
       "      <td>2022-05-01</td>\n",
       "      <td>00:15:50</td>\n",
       "      <td>47</td>\n",
       "      <td>33092</td>\n",
       "      <td>25.5</td>\n",
       "      <td>27.0</td>\n",
       "      <td>29.990</td>\n",
       "      <td>1651364150</td>\n",
       "    </tr>\n",
       "    <tr>\n",
       "      <th>5</th>\n",
       "      <td>2022-05-01</td>\n",
       "      <td>00:19:57</td>\n",
       "      <td>7</td>\n",
       "      <td>32859</td>\n",
       "      <td>25.5</td>\n",
       "      <td>27.0</td>\n",
       "      <td>29.790</td>\n",
       "      <td>1651364397</td>\n",
       "    </tr>\n",
       "    <tr>\n",
       "      <th>...</th>\n",
       "      <td>...</td>\n",
       "      <td>...</td>\n",
       "      <td>...</td>\n",
       "      <td>...</td>\n",
       "      <td>...</td>\n",
       "      <td>...</td>\n",
       "      <td>...</td>\n",
       "      <td>...</td>\n",
       "    </tr>\n",
       "    <tr>\n",
       "      <th>63637</th>\n",
       "      <td>2022-11-20</td>\n",
       "      <td>07:53:02</td>\n",
       "      <td>487</td>\n",
       "      <td>53460</td>\n",
       "      <td>21.0</td>\n",
       "      <td>33.0</td>\n",
       "      <td>46.991</td>\n",
       "      <td>1668930782</td>\n",
       "    </tr>\n",
       "    <tr>\n",
       "      <th>63638</th>\n",
       "      <td>2022-11-20</td>\n",
       "      <td>07:57:08</td>\n",
       "      <td>578</td>\n",
       "      <td>53567</td>\n",
       "      <td>21.0</td>\n",
       "      <td>33.0</td>\n",
       "      <td>47.079</td>\n",
       "      <td>1668931028</td>\n",
       "    </tr>\n",
       "    <tr>\n",
       "      <th>63639</th>\n",
       "      <td>2022-11-20</td>\n",
       "      <td>08:01:14</td>\n",
       "      <td>424</td>\n",
       "      <td>51910</td>\n",
       "      <td>21.0</td>\n",
       "      <td>33.0</td>\n",
       "      <td>45.726</td>\n",
       "      <td>1668931274</td>\n",
       "    </tr>\n",
       "    <tr>\n",
       "      <th>63640</th>\n",
       "      <td>2022-11-20</td>\n",
       "      <td>08:05:20</td>\n",
       "      <td>596</td>\n",
       "      <td>52928</td>\n",
       "      <td>21.0</td>\n",
       "      <td>33.0</td>\n",
       "      <td>46.558</td>\n",
       "      <td>1668931520</td>\n",
       "    </tr>\n",
       "    <tr>\n",
       "      <th>63641</th>\n",
       "      <td>2022-11-20</td>\n",
       "      <td>08:09:26</td>\n",
       "      <td>714</td>\n",
       "      <td>52732</td>\n",
       "      <td>21.0</td>\n",
       "      <td>33.0</td>\n",
       "      <td>46.398</td>\n",
       "      <td>1668931766</td>\n",
       "    </tr>\n",
       "  </tbody>\n",
       "</table>\n",
       "<p>63641 rows × 8 columns</p>\n",
       "</div>"
      ],
      "text/plain": [
       "             Day      Time  Bio   Dust     T     H   PM2.5   Date_Time\n",
       "1     2022-05-01  00:03:29   11  34254  25.5  27.0  30.984  1651363409\n",
       "2     2022-05-01  00:07:36   19  33980  25.5  27.0  30.750  1651363656\n",
       "3     2022-05-01  00:11:43   28  33378  25.5  27.0  30.235  1651363903\n",
       "4     2022-05-01  00:15:50   47  33092  25.5  27.0  29.990  1651364150\n",
       "5     2022-05-01  00:19:57    7  32859  25.5  27.0  29.790  1651364397\n",
       "...          ...       ...  ...    ...   ...   ...     ...         ...\n",
       "63637 2022-11-20  07:53:02  487  53460  21.0  33.0  46.991  1668930782\n",
       "63638 2022-11-20  07:57:08  578  53567  21.0  33.0  47.079  1668931028\n",
       "63639 2022-11-20  08:01:14  424  51910  21.0  33.0  45.726  1668931274\n",
       "63640 2022-11-20  08:05:20  596  52928  21.0  33.0  46.558  1668931520\n",
       "63641 2022-11-20  08:09:26  714  52732  21.0  33.0  46.398  1668931766\n",
       "\n",
       "[63641 rows x 8 columns]"
      ]
     },
     "execution_count": 9,
     "metadata": {},
     "output_type": "execute_result"
    }
   ],
   "source": [
    "df"
   ]
  },
  {
   "cell_type": "code",
   "execution_count": null,
   "id": "073e3f28",
   "metadata": {},
   "outputs": [],
   "source": []
  },
  {
   "cell_type": "code",
   "execution_count": 10,
   "id": "02c118b3",
   "metadata": {},
   "outputs": [],
   "source": [
    "from sklearn.preprocessing import MinMaxScaler\n",
    "minmax_scaler=MinMaxScaler()"
   ]
  },
  {
   "cell_type": "code",
   "execution_count": 11,
   "id": "5bbe3d35",
   "metadata": {},
   "outputs": [],
   "source": [
    "df.drop(['Day','Time'],axis=1,inplace=True)"
   ]
  },
  {
   "cell_type": "code",
   "execution_count": 12,
   "id": "ef4d9a7c",
   "metadata": {},
   "outputs": [],
   "source": [
    "X=df.drop('PM2.5',axis=1)\n",
    "Y=df['PM2.5']"
   ]
  },
  {
   "cell_type": "code",
   "execution_count": null,
   "id": "38113e41",
   "metadata": {},
   "outputs": [],
   "source": [
    "X=minmax_scaler.fit_transform(X)"
   ]
  },
  {
   "cell_type": "code",
   "execution_count": null,
   "id": "c6daff76",
   "metadata": {},
   "outputs": [],
   "source": [
    "X_train, X_test, y_train, y_test = train_test_split(X, Y, test_size = 0.25)"
   ]
  },
  {
   "cell_type": "code",
   "execution_count": null,
   "id": "60fae771",
   "metadata": {},
   "outputs": [],
   "source": [
    "y_test.shape"
   ]
  },
  {
   "cell_type": "code",
   "execution_count": null,
   "id": "0cb3819a",
   "metadata": {},
   "outputs": [],
   "source": [
    "def willmott_index(observed, predicted):\n",
    "    mean_observed = np.mean(observed)\n",
    "    numerator = np.sum(np.abs(observed - predicted))\n",
    "    denominator = np.sum(np.abs(observed - mean_observed))\n",
    "    wi = (1 - (numerator / denominator))\n",
    "    return wi"
   ]
  },
  {
   "cell_type": "code",
   "execution_count": 19,
   "id": "928c34b8",
   "metadata": {},
   "outputs": [
    {
     "name": "stdout",
     "output_type": "stream",
     "text": [
      "+ ==================================================================================================== +\n",
      "\u001b[1m\t\t\t1-For Ridge The Performance result is: \u001b[0m\n",
      "+ ==================================================================================================== +\n",
      "Root mean squared error (RMSE) :  0.8032278656876993\n",
      "--------------------------------------------------\n",
      "Mean absolute error (MAE) :  0.4874035760089904\n",
      "--------------------------------------------------\n",
      "R2 score :  0.9987304565082075\n",
      "--------------------------------------------------\n",
      "Willmott's Index: 97.19224339240691\n",
      "--------------------------------------------------\n",
      "Nash-Sutcliffe efficiency (NSE): 0.9987304565082075\n"
     ]
    },
    {
     "data": {
      "image/png": "[encoded data removed]",
      "text/plain": [
       "<Figure size 432x288 with 1 Axes>"
      ]
     },
     "metadata": {
      "needs_background": "light"
     },
     "output_type": "display_data"
    },
    {
     "name": "stdout",
     "output_type": "stream",
     "text": [
      "\t\t\t\t\t\t\t-----------------------------------------------------------\n",
      "\t\t\t\t\t\t\t Time for detection (Ridge) : 2.839 seconds...\n",
      "\t\t\t\t\t\t\t-----------------------------------------------------------\n",
      "\n",
      "+ ==================================================================================================== +\n",
      "\u001b[1m\t\t\t2-For LinearRegression The Performance result is: \u001b[0m\n",
      "+ ==================================================================================================== +\n",
      "Root mean squared error (RMSE) :  0.8007350111003287\n",
      "--------------------------------------------------\n",
      "Mean absolute error (MAE) :  0.48656336113370413\n",
      "--------------------------------------------------\n",
      "R2 score :  0.9987383244530856\n",
      "--------------------------------------------------\n",
      "Willmott's Index: 97.19708356794932\n",
      "--------------------------------------------------\n",
      "Nash-Sutcliffe efficiency (NSE): 0.9987383244530856\n"
     ]
    },
    {
     "data": {
      "image/png": "[encoded data removed]",
      "text/plain": [
       "<Figure size 432x288 with 1 Axes>"
      ]
     },
     "metadata": {
      "needs_background": "light"
     },
     "output_type": "display_data"
    },
    {
     "name": "stdout",
     "output_type": "stream",
     "text": [
      "\t\t\t\t\t\t\t-----------------------------------------------------------\n",
      "\t\t\t\t\t\t\t Time for detection (LinearRegression) : 1.295 seconds...\n",
      "\t\t\t\t\t\t\t-----------------------------------------------------------\n",
      "\n",
      "+ ==================================================================================================== +\n",
      "\u001b[1m\t\t\t3-For KNeighborsRegressor The Performance result is: \u001b[0m\n",
      "+ ==================================================================================================== +\n",
      "Root mean squared error (RMSE) :  0.9989109164614386\n",
      "--------------------------------------------------\n",
      "Mean absolute error (MAE) :  0.4516581358808372\n",
      "--------------------------------------------------\n",
      "R2 score :  0.9980365331708688\n",
      "--------------------------------------------------\n",
      "Willmott's Index: 97.39816000986991\n",
      "--------------------------------------------------\n",
      "Nash-Sutcliffe efficiency (NSE): 0.9980365331708688\n"
     ]
    },
    {
     "data": {
      "image/png": "[encoded data removed]",
      "text/plain": [
       "<Figure size 432x288 with 1 Axes>"
      ]
     },
     "metadata": {
      "needs_background": "light"
     },
     "output_type": "display_data"
    },
    {
     "name": "stdout",
     "output_type": "stream",
     "text": [
      "\t\t\t\t\t\t\t-----------------------------------------------------------\n",
      "\t\t\t\t\t\t\t Time for detection (KNeighborsRegressor) : 2.492 seconds...\n",
      "\t\t\t\t\t\t\t-----------------------------------------------------------\n",
      "\n",
      "+ ==================================================================================================== +\n",
      "\u001b[1m\t\t\t4-For Random Forest The Performance result is: \u001b[0m\n",
      "+ ==================================================================================================== +\n",
      "Root mean squared error (RMSE) :  0.1130636481253844\n",
      "--------------------------------------------------\n",
      "Mean absolute error (MAE) :  0.003447171139463549\n",
      "--------------------------------------------------\n",
      "R2 score :  0.9999748454797505\n",
      "--------------------------------------------------\n",
      "Willmott's Index: 99.98014208754152\n",
      "--------------------------------------------------\n",
      "Nash-Sutcliffe efficiency (NSE): 0.9999748454797505\n"
     ]
    },
    {
     "data": {
      "image/png": "[encoded data removed]",
      "text/plain": [
       "<Figure size 432x288 with 1 Axes>"
      ]
     },
     "metadata": {
      "needs_background": "light"
     },
     "output_type": "display_data"
    },
    {
     "name": "stdout",
     "output_type": "stream",
     "text": [
      "\t\t\t\t\t\t\t-----------------------------------------------------------\n",
      "\t\t\t\t\t\t\t Time for detection (Random Forest) : 20.04 seconds...\n",
      "\t\t\t\t\t\t\t-----------------------------------------------------------\n",
      "\n",
      "+ ==================================================================================================== +\n",
      "\u001b[1m\t\t\t5-For Decision Tree The Performance result is: \u001b[0m\n",
      "+ ==================================================================================================== +\n",
      "Root mean squared error (RMSE) :  0.2625710879079055\n",
      "--------------------------------------------------\n",
      "Mean absolute error (MAE) :  0.006576393689900133\n",
      "--------------------------------------------------\n",
      "R2 score :  0.99986433623761\n",
      "--------------------------------------------------\n",
      "Willmott's Index: 99.96211576248959\n",
      "--------------------------------------------------\n",
      "Nash-Sutcliffe efficiency (NSE): 0.99986433623761\n"
     ]
    },
    {
     "data": {
      "image/png": "[encoded data removed]",
      "text/plain": [
       "<Figure size 432x288 with 1 Axes>"
      ]
     },
     "metadata": {
      "needs_background": "light"
     },
     "output_type": "display_data"
    },
    {
     "name": "stdout",
     "output_type": "stream",
     "text": [
      "\t\t\t\t\t\t\t-----------------------------------------------------------\n",
      "\t\t\t\t\t\t\t Time for detection (Decision Tree) : 1.625 seconds...\n",
      "\t\t\t\t\t\t\t-----------------------------------------------------------\n",
      "\n",
      "+ ==================================================================================================== +\n",
      "\u001b[1m\t\t\t6-For SGD Regressor The Performance result is: \u001b[0m\n",
      "+ ==================================================================================================== +\n",
      "Root mean squared error (RMSE) :  0.8318265903461877\n",
      "--------------------------------------------------\n",
      "Mean absolute error (MAE) :  0.4983770171451175\n",
      "--------------------------------------------------\n",
      "R2 score :  0.9986384435617145\n",
      "--------------------------------------------------\n",
      "Willmott's Index: 97.1290293468509\n",
      "--------------------------------------------------\n",
      "Nash-Sutcliffe efficiency (NSE): 0.9986384435617145\n"
     ]
    },
    {
     "data": {
      "image/png": "[encoded data removed]",
      "text/plain": [
       "<Figure size 432x288 with 1 Axes>"
      ]
     },
     "metadata": {
      "needs_background": "light"
     },
     "output_type": "display_data"
    },
    {
     "name": "stdout",
     "output_type": "stream",
     "text": [
      "\t\t\t\t\t\t\t-----------------------------------------------------------\n",
      "\t\t\t\t\t\t\t Time for detection (SGD Regressor) : 1.878 seconds...\n",
      "\t\t\t\t\t\t\t-----------------------------------------------------------\n",
      "\n"
     ]
    },
    {
     "data": {
      "text/html": [
       "<div>\n",
       "<style scoped>\n",
       "    .dataframe tbody tr th:only-of-type {\n",
       "        vertical-align: middle;\n",
       "    }\n",
       "\n",
       "    .dataframe tbody tr th {\n",
       "        vertical-align: top;\n",
       "    }\n",
       "\n",
       "    .dataframe thead th {\n",
       "        text-align: right;\n",
       "    }\n",
       "</style>\n",
       "<table border=\"1\" class=\"dataframe\">\n",
       "  <thead>\n",
       "    <tr style=\"text-align: right;\">\n",
       "      <th></th>\n",
       "      <th>Training Score</th>\n",
       "      <th>Testing Score</th>\n",
       "      <th>MAE</th>\n",
       "      <th>RMSE</th>\n",
       "      <th>R2 Score</th>\n",
       "      <th>Willmot Index</th>\n",
       "      <th>Nash-Sutcliffe efficiency (NSE)</th>\n",
       "    </tr>\n",
       "  </thead>\n",
       "  <tbody>\n",
       "    <tr>\n",
       "      <th>0</th>\n",
       "      <td>0.998883</td>\n",
       "      <td>0.998730</td>\n",
       "      <td>0.487404</td>\n",
       "      <td>0.803228</td>\n",
       "      <td>0.998730</td>\n",
       "      <td>97.192243</td>\n",
       "      <td>0.998730</td>\n",
       "    </tr>\n",
       "    <tr>\n",
       "      <th>1</th>\n",
       "      <td>0.998886</td>\n",
       "      <td>0.998738</td>\n",
       "      <td>0.486563</td>\n",
       "      <td>0.800735</td>\n",
       "      <td>0.998738</td>\n",
       "      <td>97.197084</td>\n",
       "      <td>0.998738</td>\n",
       "    </tr>\n",
       "    <tr>\n",
       "      <th>2</th>\n",
       "      <td>0.998726</td>\n",
       "      <td>0.998037</td>\n",
       "      <td>0.451658</td>\n",
       "      <td>0.998911</td>\n",
       "      <td>0.998037</td>\n",
       "      <td>97.398160</td>\n",
       "      <td>0.998037</td>\n",
       "    </tr>\n",
       "    <tr>\n",
       "      <th>3</th>\n",
       "      <td>0.999984</td>\n",
       "      <td>0.999975</td>\n",
       "      <td>0.003447</td>\n",
       "      <td>0.113064</td>\n",
       "      <td>0.999975</td>\n",
       "      <td>99.980142</td>\n",
       "      <td>0.999975</td>\n",
       "    </tr>\n",
       "    <tr>\n",
       "      <th>4</th>\n",
       "      <td>1.000000</td>\n",
       "      <td>0.999864</td>\n",
       "      <td>0.006576</td>\n",
       "      <td>0.262571</td>\n",
       "      <td>0.999864</td>\n",
       "      <td>99.962116</td>\n",
       "      <td>0.999864</td>\n",
       "    </tr>\n",
       "    <tr>\n",
       "      <th>5</th>\n",
       "      <td>0.998806</td>\n",
       "      <td>0.998638</td>\n",
       "      <td>0.498377</td>\n",
       "      <td>0.831827</td>\n",
       "      <td>0.998638</td>\n",
       "      <td>97.129029</td>\n",
       "      <td>0.998638</td>\n",
       "    </tr>\n",
       "  </tbody>\n",
       "</table>\n",
       "</div>"
      ],
      "text/plain": [
       "   Training Score  Testing Score       MAE      RMSE  R2 Score  Willmot Index  \\\n",
       "0        0.998883       0.998730  0.487404  0.803228  0.998730      97.192243   \n",
       "1        0.998886       0.998738  0.486563  0.800735  0.998738      97.197084   \n",
       "2        0.998726       0.998037  0.451658  0.998911  0.998037      97.398160   \n",
       "3        0.999984       0.999975  0.003447  0.113064  0.999975      99.980142   \n",
       "4        1.000000       0.999864  0.006576  0.262571  0.999864      99.962116   \n",
       "5        0.998806       0.998638  0.498377  0.831827  0.998638      97.129029   \n",
       "\n",
       "   Nash-Sutcliffe efficiency (NSE)  \n",
       "0                         0.998730  \n",
       "1                         0.998738  \n",
       "2                         0.998037  \n",
       "3                         0.999975  \n",
       "4                         0.999864  \n",
       "5                         0.998638  "
      ]
     },
     "execution_count": 19,
     "metadata": {},
     "output_type": "execute_result"
    }
   ],
   "source": [
    "# Importing Models\n",
    "from sklearn.linear_model import LinearRegression\n",
    "from sklearn.linear_model import Ridge\n",
    "from sklearn.neighbors import KNeighborsRegressor\n",
    "from sklearn.ensemble import RandomForestRegressor\n",
    "from sklearn.tree import DecisionTreeRegressor\n",
    "#from sklearn.naive_bayes import BernoulliNB\n",
    "from sklearn.linear_model import SGDRegressor\n",
    "# Importing evaluation modules\n",
    "from sklearn.metrics import r2_score, mean_absolute_error, mean_squared_error\n",
    "\n",
    "# check the performance on diffrent regressor\n",
    "models = []\n",
    "models.append(('Ridge', Ridge()))\n",
    "models.append(('LinearRegression', LinearRegression()))\n",
    "models.append(('KNeighborsRegressor', KNeighborsRegressor()))\n",
    "models.append(('Random Forest', RandomForestRegressor()))\n",
    "models.append(('Decision Tree', DecisionTreeRegressor()))\n",
    "#models.append(('Gaussian NB', BernoulliNB()))\n",
    "models.append(('SGD Regressor', SGDRegressor()))\n",
    "train_l = []\n",
    "test_l = []\n",
    "mae_l = []\n",
    "rmse_l = []\n",
    "r2_l = []\n",
    "wi_l = []\n",
    "nse_l=[]\n",
    "\n",
    "import time\n",
    "i = 0\n",
    "for name,model in models:\n",
    "    i = i+1\n",
    "    start_time = time.time()\n",
    "    \n",
    "    # Fitting model to the Training set\n",
    "    clf = model\n",
    "    clf.fit(X_train, y_train)\n",
    "    \n",
    "    # Scores of model\n",
    "    train = model.score(X_train, y_train)\n",
    "    test = model.score(X_test, y_test)\n",
    "    \n",
    "    train_l.append(train)\n",
    "    test_l.append(test)\n",
    "    \n",
    "    # predict values\n",
    "    predictions = clf.predict(X_test)\n",
    "    # RMSE\n",
    "    rmse = np.sqrt(mean_squared_error(y_test, predictions))\n",
    "    rmse_l.append(rmse)\n",
    "    # MAE\n",
    "    mae = mean_absolute_error(y_test,predictions)\n",
    "    mae_l.append(mae)\n",
    "    # R2 score\n",
    "    r2 = r2_score(y_test,predictions)\n",
    "    r2_l.append(r2)\n",
    "    \n",
    "    \n",
    "    \n",
    "\n",
    "\n",
    "\n",
    "    print(\"+\",\"=\"*100,\"+\")\n",
    "    print('\\033[1m' + f\"\\t\\t\\t{i}-For {name} The Performance result is: \" + '\\033[0m')\n",
    "    print(\"+\",\"=\"*100,\"+\")\n",
    "    print('Root mean squared error (RMSE) : ', rmse)   \n",
    "    print(\"-\"*50)\n",
    "    print('Mean absolute error (MAE) : ', mae)\n",
    "    print(\"-\"*50)\n",
    "    print('R2 score : ', r2)\n",
    "    print(\"-\"*50)\n",
    "    wi = willmott_index(y_test, predictions)\n",
    "    print(f\"Willmott's Index: {wi}\")\n",
    "    wi_l.append(wi)\n",
    "    print(\"-\"*50)\n",
    "    wi = willmott_index(y_test, predictions)\n",
    "    nse = nash_sutcliffe_efficiency(y_test, predictions)\n",
    "    print(f\"Nash-Sutcliffe efficiency (NSE): {nse}\")\n",
    "    nse_l.append(nse)\n",
    "    \n",
    "    \n",
    "    sns.regplot(x=y_test,y=predictions)\n",
    "    plt.show()\n",
    "        \n",
    "        \n",
    "    print(\"\\t\\t\\t\\t\\t\\t\\t-----------------------------------------------------------\")\n",
    "    print(f\"\\t\\t\\t\\t\\t\\t\\t Time for detection ({name}) : {round((time.time() - start_time), 3)} seconds...\")\n",
    "    print(\"\\t\\t\\t\\t\\t\\t\\t-----------------------------------------------------------\")\n",
    "    print()\n",
    "    \n",
    "comp = pd.DataFrame({\"Training Score\": train_l,\n",
    "                     \"Testing Score\": test_l, \"MAE\": mae_l,\n",
    "                     \"RMSE\": rmse_l, \"R2 Score\": r2_l,\n",
    "                    \"Willmot Index\": wi_l,\n",
    "                    \"Nash-Sutcliffe efficiency (NSE)\":nse_l})\n",
    "comp"
   ]
  },
  {
   "cell_type": "code",
   "execution_count": 27,
   "id": "72023a64",
   "metadata": {},
   "outputs": [
    {
     "data": {
      "text/plain": [
       "(3660, 5)"
      ]
     },
     "execution_count": 27,
     "metadata": {},
     "output_type": "execute_result"
    }
   ],
   "source": []
  },
  {
   "cell_type": "code",
   "execution_count": 20,
   "id": "8178abac",
   "metadata": {},
   "outputs": [],
   "source": [
    "# Reshape the input data to match LSTM layer input shape\n",
    "train_data = np.resize(X_train, (X_train.shape[0], X_train.shape[1], 1))\n",
    "test_data = np.resize(X_test, (X_test.shape[0], X_test.shape[1], 1))"
   ]
  },
  {
   "cell_type": "code",
   "execution_count": 21,
   "id": "91a7abe2",
   "metadata": {},
   "outputs": [
    {
     "data": {
      "text/plain": [
       "(47730, 5, 1)"
      ]
     },
     "execution_count": 21,
     "metadata": {},
     "output_type": "execute_result"
    }
   ],
   "source": [
    "train_data.shape"
   ]
  },
  {
   "cell_type": "code",
   "execution_count": 22,
   "id": "3cd34d68",
   "metadata": {},
   "outputs": [],
   "source": [
    "train_labels=y_train\n",
    "test_labels=y_test"
   ]
  },
  {
   "cell_type": "code",
   "execution_count": 23,
   "id": "0bdd3edc",
   "metadata": {},
   "outputs": [],
   "source": [
    "from keras.models import Sequential\n",
    "from keras.layers import Dense, LSTM,Bidirectional"
   ]
  },
  {
   "cell_type": "code",
   "execution_count": 24,
   "id": "27975429",
   "metadata": {},
   "outputs": [],
   "source": [
    "model = Sequential()\n",
    "model.add(LSTM(128, input_shape=(train_data.shape[1], train_data.shape[2]),return_sequences=True))  # LSTM layer with 64 units\n",
    "model.add(LSTM(64, return_sequences=True))\n",
    "model.add(Dense(1))  # Output layer with single neuron\n",
    "\n",
    "# Compile the model\n",
    "model.compile(loss='mean_squared_error', optimizer='adam')\n",
    "\n",
    "# Train the model\n",
    "#model.fit(train_data, train_labels, epochs=10, batch_size=32)\n",
    "\n",
    "# Evaluate the model\n",
    "#loss = model.evaluate(test_data, test_labels)\n",
    "#print('Test Loss:', loss)\n",
    "\n",
    "# Make predictions\n",
    "#predictions = model.predict(test_data)\n",
    "\n"
   ]
  },
  {
   "cell_type": "code",
   "execution_count": 25,
   "id": "36a08e4a",
   "metadata": {
    "scrolled": false
   },
   "outputs": [
    {
     "name": "stdout",
     "output_type": "stream",
     "text": [
      "Epoch 1/50\n",
      "1492/1492 [==============================] - 28s 13ms/step - loss: 611.3555 - val_loss: 520.2394\n",
      "Epoch 2/50\n",
      "1492/1492 [==============================] - 19s 13ms/step - loss: 519.7622 - val_loss: 519.7694\n",
      "Epoch 3/50\n",
      "1492/1492 [==============================] - 19s 13ms/step - loss: 519.4790 - val_loss: 519.4117\n",
      "Epoch 4/50\n",
      "1492/1492 [==============================] - 19s 12ms/step - loss: 519.4275 - val_loss: 519.4622\n",
      "Epoch 5/50\n",
      "1492/1492 [==============================] - 18s 12ms/step - loss: 519.3065 - val_loss: 519.1920\n",
      "Epoch 6/50\n",
      "1492/1492 [==============================] - 18s 12ms/step - loss: 519.2493 - val_loss: 519.1257\n",
      "Epoch 7/50\n",
      "1492/1492 [==============================] - 20s 13ms/step - loss: 519.1285 - val_loss: 519.0731\n",
      "Epoch 8/50\n",
      "1492/1492 [==============================] - 18s 12ms/step - loss: 518.6638 - val_loss: 515.7906\n",
      "Epoch 9/50\n",
      "1492/1492 [==============================] - 19s 13ms/step - loss: 452.4042 - val_loss: 400.6554\n",
      "Epoch 10/50\n",
      "1492/1492 [==============================] - 19s 13ms/step - loss: 398.0717 - val_loss: 394.9005\n",
      "Epoch 11/50\n",
      "1492/1492 [==============================] - 18s 12ms/step - loss: 394.6335 - val_loss: 392.7009\n",
      "Epoch 12/50\n",
      "1492/1492 [==============================] - 18s 12ms/step - loss: 392.7130 - val_loss: 391.2025\n",
      "Epoch 13/50\n",
      "1492/1492 [==============================] - 18s 12ms/step - loss: 391.1332 - val_loss: 389.7195\n",
      "Epoch 14/50\n",
      "1492/1492 [==============================] - 18s 12ms/step - loss: 389.6446 - val_loss: 388.0312\n",
      "Epoch 15/50\n",
      "1492/1492 [==============================] - 18s 12ms/step - loss: 388.1905 - val_loss: 386.6059\n",
      "Epoch 16/50\n",
      "1492/1492 [==============================] - 18s 12ms/step - loss: 386.7484 - val_loss: 385.2801\n",
      "Epoch 17/50\n",
      "1492/1492 [==============================] - 18s 12ms/step - loss: 385.3062 - val_loss: 384.2082\n",
      "Epoch 18/50\n",
      "1492/1492 [==============================] - 19s 13ms/step - loss: 383.9496 - val_loss: 382.4294\n",
      "Epoch 19/50\n",
      "1492/1492 [==============================] - 19s 12ms/step - loss: 382.5287 - val_loss: 381.0250\n",
      "Epoch 20/50\n",
      "1492/1492 [==============================] - 18s 12ms/step - loss: 381.1378 - val_loss: 379.6320\n",
      "Epoch 21/50\n",
      "1492/1492 [==============================] - 18s 12ms/step - loss: 379.7922 - val_loss: 378.2717\n",
      "Epoch 22/50\n",
      "1492/1492 [==============================] - 19s 12ms/step - loss: 378.4602 - val_loss: 376.9150\n",
      "Epoch 23/50\n",
      "1492/1492 [==============================] - 18s 12ms/step - loss: 377.1058 - val_loss: 375.6072\n",
      "Epoch 24/50\n",
      "1492/1492 [==============================] - 19s 13ms/step - loss: 375.7502 - val_loss: 374.3625\n",
      "Epoch 25/50\n",
      "1492/1492 [==============================] - 18s 12ms/step - loss: 374.4006 - val_loss: 372.9742\n",
      "Epoch 26/50\n",
      "1492/1492 [==============================] - 18s 12ms/step - loss: 373.1750 - val_loss: 371.6826\n",
      "Epoch 27/50\n",
      "1492/1492 [==============================] - 18s 12ms/step - loss: 371.8451 - val_loss: 370.3716\n",
      "Epoch 28/50\n",
      "1492/1492 [==============================] - 19s 13ms/step - loss: 370.4924 - val_loss: 369.5792\n",
      "Epoch 29/50\n",
      "1492/1492 [==============================] - 20s 13ms/step - loss: 369.2570 - val_loss: 367.8071\n",
      "Epoch 30/50\n",
      "1492/1492 [==============================] - 19s 13ms/step - loss: 367.9993 - val_loss: 366.4921\n",
      "Epoch 31/50\n",
      "1492/1492 [==============================] - 20s 13ms/step - loss: 366.6805 - val_loss: 365.2393\n",
      "Epoch 32/50\n",
      "1492/1492 [==============================] - 19s 13ms/step - loss: 365.4377 - val_loss: 364.0394\n",
      "Epoch 33/50\n",
      "1492/1492 [==============================] - 18s 12ms/step - loss: 364.1850 - val_loss: 362.7128\n",
      "Epoch 34/50\n",
      "1492/1492 [==============================] - 19s 12ms/step - loss: 362.9501 - val_loss: 361.6176\n",
      "Epoch 35/50\n",
      "1492/1492 [==============================] - 18s 12ms/step - loss: 361.7210 - val_loss: 360.6852\n",
      "Epoch 36/50\n",
      "1492/1492 [==============================] - 19s 12ms/step - loss: 360.5097 - val_loss: 359.3042\n",
      "Epoch 37/50\n",
      "1492/1492 [==============================] - 19s 12ms/step - loss: 359.2121 - val_loss: 357.8360\n",
      "Epoch 38/50\n",
      "1492/1492 [==============================] - 19s 13ms/step - loss: 358.0872 - val_loss: 356.6904\n",
      "Epoch 39/50\n",
      "1492/1492 [==============================] - 20s 13ms/step - loss: 356.7918 - val_loss: 355.4273\n",
      "Epoch 40/50\n",
      "1492/1492 [==============================] - 19s 13ms/step - loss: 355.5694 - val_loss: 354.2135\n",
      "Epoch 41/50\n",
      "1492/1492 [==============================] - 21s 14ms/step - loss: 354.4412 - val_loss: 353.2516\n",
      "Epoch 42/50\n",
      "1492/1492 [==============================] - 20s 13ms/step - loss: 353.3049 - val_loss: 351.9938\n",
      "Epoch 43/50\n",
      "1492/1492 [==============================] - 19s 13ms/step - loss: 352.1596 - val_loss: 350.8762\n",
      "Epoch 44/50\n",
      "1492/1492 [==============================] - 20s 13ms/step - loss: 351.0565 - val_loss: 349.6625\n",
      "Epoch 45/50\n",
      "1492/1492 [==============================] - 21s 14ms/step - loss: 349.8924 - val_loss: 348.6189ETA: 0s -\n",
      "Epoch 46/50\n",
      "1492/1492 [==============================] - 20s 13ms/step - loss: 348.8442 - val_loss: 347.4934\n",
      "Epoch 47/50\n",
      "1492/1492 [==============================] - 20s 13ms/step - loss: 347.6647 - val_loss: 346.3380\n",
      "Epoch 48/50\n",
      "1492/1492 [==============================] - 20s 14ms/step - loss: 346.5947 - val_loss: 345.2398\n",
      "Epoch 49/50\n",
      "1492/1492 [==============================] - 21s 14ms/step - loss: 345.4543 - val_loss: 344.1625\n",
      "Epoch 50/50\n",
      "1492/1492 [==============================] - 22s 15ms/step - loss: 334.1675 - val_loss: 309.4078\n"
     ]
    },
    {
     "data": {
      "image/png": "[encoded data removed]",
      "text/plain": [
       "<Figure size 720x432 with 1 Axes>"
      ]
     },
     "metadata": {
      "needs_background": "light"
     },
     "output_type": "display_data"
    }
   ],
   "source": [
    "history = model.fit(train_data, train_labels, epochs=50, batch_size=32, validation_data=(test_data, test_labels))\n",
    "\n",
    "# Extract training and testing losses from history\n",
    "train_loss = history.history['loss']\n",
    "test_loss = history.history['val_loss']\n",
    "\n",
    "# Plot training and testing losses\n",
    "plt.figure(figsize=(10, 6))\n",
    "plt.plot(train_loss, label='Training Loss')\n",
    "plt.plot(test_loss, label='Testing Loss')\n",
    "plt.xlabel('Epoch')\n",
    "plt.ylabel('Loss')\n",
    "plt.title('Training and Testing Loss')\n",
    "plt.legend()\n",
    "plt.show()"
   ]
  },
  {
   "cell_type": "code",
   "execution_count": 26,
   "id": "aaedef23",
   "metadata": {},
   "outputs": [
    {
     "name": "stdout",
     "output_type": "stream",
     "text": [
      "Epoch 1/50\n",
      "1492/1492 [==============================] - 20s 11ms/step - loss: 186.6326 - val_loss: 37.9622\n",
      "Epoch 2/50\n",
      "1492/1492 [==============================] - 16s 11ms/step - loss: 24.9376 - val_loss: 15.2317\n",
      "Epoch 3/50\n",
      "1492/1492 [==============================] - 16s 11ms/step - loss: 10.9207 - val_loss: 9.5474\n",
      "Epoch 4/50\n",
      "1492/1492 [==============================] - 17s 11ms/step - loss: 1.9984 - val_loss: 0.8485\n",
      "Epoch 5/50\n",
      "1492/1492 [==============================] - 17s 11ms/step - loss: 0.9193 - val_loss: 2.3821\n",
      "Epoch 6/50\n",
      "1492/1492 [==============================] - 17s 11ms/step - loss: 0.7772 - val_loss: 0.5987\n",
      "Epoch 7/50\n",
      "1492/1492 [==============================] - 17s 11ms/step - loss: 0.6616 - val_loss: 0.2933\n",
      "Epoch 8/50\n",
      "1492/1492 [==============================] - 17s 11ms/step - loss: 0.6265 - val_loss: 0.2271\n",
      "Epoch 9/50\n",
      "1492/1492 [==============================] - 17s 11ms/step - loss: 0.4927 - val_loss: 0.3739\n",
      "Epoch 10/50\n",
      "1492/1492 [==============================] - 17s 11ms/step - loss: 0.4644 - val_loss: 0.1607\n",
      "Epoch 11/50\n",
      "1492/1492 [==============================] - 18s 12ms/step - loss: 0.4384 - val_loss: 0.2217\n",
      "Epoch 12/50\n",
      "1492/1492 [==============================] - 17s 11ms/step - loss: 0.4200 - val_loss: 0.4700\n",
      "Epoch 13/50\n",
      "1492/1492 [==============================] - 17s 11ms/step - loss: 0.4359 - val_loss: 0.2132\n",
      "Epoch 14/50\n",
      "1492/1492 [==============================] - 17s 11ms/step - loss: 0.4291 - val_loss: 0.1273\n",
      "Epoch 15/50\n",
      "1492/1492 [==============================] - 17s 11ms/step - loss: 0.3862 - val_loss: 0.6813\n",
      "Epoch 16/50\n",
      "1492/1492 [==============================] - 17s 12ms/step - loss: 0.3883 - val_loss: 0.1425\n",
      "Epoch 17/50\n",
      "1492/1492 [==============================] - 17s 11ms/step - loss: 0.3059 - val_loss: 0.0425\n",
      "Epoch 18/50\n",
      "1492/1492 [==============================] - 17s 11ms/step - loss: 0.2283 - val_loss: 0.1620\n",
      "Epoch 19/50\n",
      "1492/1492 [==============================] - 17s 12ms/step - loss: 0.3312 - val_loss: 0.0861\n",
      "Epoch 20/50\n",
      "1492/1492 [==============================] - 17s 11ms/step - loss: 0.4313 - val_loss: 0.0568\n",
      "Epoch 21/50\n",
      "1492/1492 [==============================] - 17s 11ms/step - loss: 0.2475 - val_loss: 0.1228\n",
      "Epoch 22/50\n",
      "1492/1492 [==============================] - 17s 11ms/step - loss: 0.2509 - val_loss: 0.1632\n",
      "Epoch 23/50\n",
      "1492/1492 [==============================] - 17s 12ms/step - loss: 0.3335 - val_loss: 0.1399\n",
      "Epoch 24/50\n",
      "1492/1492 [==============================] - 17s 12ms/step - loss: 0.2635 - val_loss: 1.5534\n",
      "Epoch 25/50\n",
      "1492/1492 [==============================] - 19s 13ms/step - loss: 0.2783 - val_loss: 0.1355\n",
      "Epoch 26/50\n",
      "1492/1492 [==============================] - 18s 12ms/step - loss: 0.2928 - val_loss: 0.0339\n",
      "Epoch 27/50\n",
      "1492/1492 [==============================] - 18s 12ms/step - loss: 0.2734 - val_loss: 0.1699\n",
      "Epoch 28/50\n",
      "1492/1492 [==============================] - 18s 12ms/step - loss: 0.1534 - val_loss: 0.0874\n",
      "Epoch 29/50\n",
      "1492/1492 [==============================] - 17s 11ms/step - loss: 0.2280 - val_loss: 0.0477\n",
      "Epoch 30/50\n",
      "1492/1492 [==============================] - 17s 11ms/step - loss: 0.3847 - val_loss: 0.0710\n",
      "Epoch 31/50\n",
      "1492/1492 [==============================] - 17s 12ms/step - loss: 0.1253 - val_loss: 0.2504\n",
      "Epoch 32/50\n",
      "1492/1492 [==============================] - 18s 12ms/step - loss: 0.4161 - val_loss: 0.0685\n",
      "Epoch 33/50\n",
      "1492/1492 [==============================] - 17s 11ms/step - loss: 0.1641 - val_loss: 0.0578\n",
      "Epoch 34/50\n",
      "1492/1492 [==============================] - 17s 11ms/step - loss: 0.1961 - val_loss: 0.2491\n",
      "Epoch 35/50\n",
      "1492/1492 [==============================] - 17s 11ms/step - loss: 0.1815 - val_loss: 0.1103\n",
      "Epoch 36/50\n",
      "1492/1492 [==============================] - 17s 11ms/step - loss: 0.1994 - val_loss: 0.0172\n",
      "Epoch 37/50\n",
      "1492/1492 [==============================] - 17s 12ms/step - loss: 0.2245 - val_loss: 0.0573\n",
      "Epoch 38/50\n",
      "1492/1492 [==============================] - 17s 11ms/step - loss: 0.1563 - val_loss: 0.0255\n",
      "Epoch 39/50\n",
      "1492/1492 [==============================] - 17s 11ms/step - loss: 0.2200 - val_loss: 0.1565\n",
      "Epoch 40/50\n",
      "1492/1492 [==============================] - 17s 11ms/step - loss: 0.1260 - val_loss: 0.0419\n",
      "Epoch 41/50\n",
      "1492/1492 [==============================] - 17s 11ms/step - loss: 0.1589 - val_loss: 0.0200\n",
      "Epoch 42/50\n",
      "1492/1492 [==============================] - 17s 11ms/step - loss: 0.0869 - val_loss: 0.0817\n",
      "Epoch 43/50\n",
      "1492/1492 [==============================] - 17s 12ms/step - loss: 0.1068 - val_loss: 0.0812\n",
      "Epoch 44/50\n",
      "1492/1492 [==============================] - 17s 12ms/step - loss: 0.1687 - val_loss: 1.6611\n",
      "Epoch 45/50\n",
      "1492/1492 [==============================] - 17s 12ms/step - loss: 0.1136 - val_loss: 0.0309\n",
      "Epoch 46/50\n",
      "1492/1492 [==============================] - 17s 12ms/step - loss: 0.1748 - val_loss: 0.0794\n",
      "Epoch 47/50\n",
      "1492/1492 [==============================] - 17s 12ms/step - loss: 0.1710 - val_loss: 0.0183\n",
      "Epoch 48/50\n",
      "1492/1492 [==============================] - 17s 11ms/step - loss: 0.1733 - val_loss: 0.0210\n",
      "Epoch 49/50\n",
      "1492/1492 [==============================] - 18s 12ms/step - loss: 0.1370 - val_loss: 0.0430\n",
      "Epoch 50/50\n",
      "1492/1492 [==============================] - 18s 12ms/step - loss: 0.1080 - val_loss: 0.0194\n"
     ]
    },
    {
     "data": {
      "image/png": "[encoded data removed]",
      "text/plain": [
       "<Figure size 720x432 with 1 Axes>"
      ]
     },
     "metadata": {
      "needs_background": "light"
     },
     "output_type": "display_data"
    }
   ],
   "source": [
    "# Build the BiLSTM model\n",
    "model = Sequential()\n",
    "model.add(Bidirectional(LSTM(128), input_shape=(train_data.shape[1], train_data.shape[2])))\n",
    "model.add(Dense(1))\n",
    "\n",
    "# Compile the model\n",
    "model.compile(loss='mean_squared_error', optimizer='adam')\n",
    "\n",
    "# Train the model and record training history\n",
    "history = model.fit(train_data, train_labels, epochs=50, batch_size=32, validation_data=(test_data, test_labels))\n",
    "\n",
    "# Extract training and testing losses from history\n",
    "train_loss = history.history['loss']\n",
    "test_loss = history.history['val_loss']\n",
    "\n",
    "# Plot training and testing losses\n",
    "plt.figure(figsize=(10, 6))\n",
    "plt.plot(train_loss, label='Training Loss')\n",
    "plt.plot(test_loss, label='Testing Loss')\n",
    "plt.xlabel('Epoch')\n",
    "plt.ylabel('Loss')\n",
    "plt.title('Training and Testing Loss')\n",
    "plt.legend()\n",
    "plt.show()"
   ]
  },
  {
   "cell_type": "code",
   "execution_count": null,
   "id": "8273ecd5",
   "metadata": {},
   "outputs": [],
   "source": []
  },
  {
   "cell_type": "code",
   "execution_count": null,
   "id": "22903262",
   "metadata": {},
   "outputs": [],
   "source": []
  },
  {
   "cell_type": "code",
   "execution_count": null,
   "id": "972c6dd8",
   "metadata": {},
   "outputs": [],
   "source": []
  },
  {
   "cell_type": "code",
   "execution_count": null,
   "id": "27d75d25",
   "metadata": {},
   "outputs": [],
   "source": []
  },
  {
   "cell_type": "code",
   "execution_count": null,
   "id": "2a08be2a",
   "metadata": {},
   "outputs": [],
   "source": []
  },
  {
   "cell_type": "code",
   "execution_count": null,
   "id": "f439f2e5",
   "metadata": {},
   "outputs": [],
   "source": []
  },
  {
   "cell_type": "code",
   "execution_count": null,
   "id": "f86e26f4",
   "metadata": {},
   "outputs": [],
   "source": []
  },
  {
   "cell_type": "code",
   "execution_count": null,
   "id": "1c16dfe9",
   "metadata": {},
   "outputs": [],
   "source": []
  },
  {
   "cell_type": "code",
   "execution_count": null,
   "id": "71827c39",
   "metadata": {},
   "outputs": [],
   "source": []
  }
 ],
 "metadata": {
  "kernelspec": {
   "display_name": "Python 3",
   "language": "python",
   "name": "python3"
  },
  "language_info": {
   "codemirror_mode": {
    "name": "ipython",
    "version": 3
   },
   "file_extension": ".py",
   "mimetype": "text/x-python",
   "name": "python",
   "nbconvert_exporter": "python",
   "pygments_lexer": "ipython3",
   "version": "3.9.5"
  }
 },
 "nbformat": 4,
 "nbformat_minor": 5
}
