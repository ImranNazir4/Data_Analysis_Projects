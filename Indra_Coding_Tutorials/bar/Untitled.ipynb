{
 "cells": [
  {
   "cell_type": "code",
   "execution_count": 1,
   "id": "301b41db",
   "metadata": {},
   "outputs": [],
   "source": [
    "import numpy as np\n",
    "import cv2\n",
    "import math\n",
    "import os\n",
    "def find_bars(image):\n",
    "    hsv = cv2.cvtColor(image, cv2.COLOR_BGR2HSV)\n",
    "\n",
    "    # Define the lower and upper color range for the bars\n",
    "    lower_color_range = np.array([0, 50, 50], dtype=np.uint8)\n",
    "    upper_color_range = np.array([180, 255, 255], dtype=np.uint8)\n",
    "\n",
    "    mask = cv2.inRange(hsv, lower_color_range, upper_color_range)\n",
    "    contours, _ = cv2.findContours(mask, cv2.RETR_EXTERNAL, cv2.CHAIN_APPROX_SIMPLE)\n",
    "    bars = []\n",
    "    for contour in contours:\n",
    "        x, y, w, h = cv2.boundingRect(contour)\n",
    "        area = w * h\n",
    "#         print(area)\n",
    "        if h > 0 and area > 0:\n",
    "            bars.append((x, y, x + w, y + h))\n",
    "    return bars "
   ]
  },
  {
   "cell_type": "code",
   "execution_count": null,
   "id": "18074b33",
   "metadata": {},
   "outputs": [],
   "source": []
  }
 ],
 "metadata": {
  "kernelspec": {
   "display_name": "Python 3",
   "language": "python",
   "name": "python3"
  },
  "language_info": {
   "codemirror_mode": {
    "name": "ipython",
    "version": 3
   },
   "file_extension": ".py",
   "mimetype": "text/x-python",
   "name": "python",
   "nbconvert_exporter": "python",
   "pygments_lexer": "ipython3",
   "version": "3.9.5"
  }
 },
 "nbformat": 4,
 "nbformat_minor": 5
}
