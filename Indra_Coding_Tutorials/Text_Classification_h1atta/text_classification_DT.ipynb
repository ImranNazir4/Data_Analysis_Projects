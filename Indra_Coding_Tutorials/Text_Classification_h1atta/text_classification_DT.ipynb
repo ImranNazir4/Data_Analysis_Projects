{
 "cells": [
  {
   "cell_type": "markdown",
   "id": "5iusZaAIHV4k",
   "metadata": {
    "id": "5iusZaAIHV4k"
   },
   "source": [
    "# Installing Neccessary Dependencies"
   ]
  },
  {
   "cell_type": "code",
   "execution_count": 244,
   "id": "LmAjyffO9Bwu",
   "metadata": {
    "colab": {
     "base_uri": "https://localhost:8080/"
    },
    "executionInfo": {
     "elapsed": 4058,
     "status": "ok",
     "timestamp": 1669350975118,
     "user": {
      "displayName": "Hajar Mohammed",
      "userId": "05174407830062543531"
     },
     "user_tz": 360
    },
    "id": "LmAjyffO9Bwu",
    "outputId": "bdc4bb47-8887-444b-fef2-27f3d0f5c027"
   },
   "outputs": [
    {
     "name": "stdout",
     "output_type": "stream",
     "text": [
      "Looking in indexes: https://pypi.org/simple, https://us-python.pkg.dev/colab-wheels/public/simple/\n",
      "Requirement already satisfied: neattext in /usr/local/lib/python3.7/dist-packages (0.1.3)\n"
     ]
    }
   ],
   "source": [
    "!pip install neattext"
   ]
  },
  {
   "cell_type": "code",
   "execution_count": 245,
   "id": "798d77b2",
   "metadata": {
    "executionInfo": {
     "elapsed": 12,
     "status": "ok",
     "timestamp": 1669350975119,
     "user": {
      "displayName": "Hajar Mohammed",
      "userId": "05174407830062543531"
     },
     "user_tz": 360
    },
    "id": "798d77b2"
   },
   "outputs": [],
   "source": [
    "import pandas as pd                  #python package for data analysis\n",
    "import numpy as np                   #python package for handling arrays\n",
    "import seaborn as sns                #python package for data visualization\n",
    "import matplotlib.pyplot as plt      #python package for data visualization\n",
    "import neattext as nt                #python package for text cleaning\n",
    "from textblob import TextBlob    #package for sentiment analysis of short sentences\n",
    "from sklearn.metrics import accuracy_score,precision_score,recall_score,f1_score,confusion_matrix,classification_report, plot_confusion_matrix\n"
   ]
  },
  {
   "cell_type": "markdown",
   "id": "iD9bH9d4H2bb",
   "metadata": {
    "id": "iD9bH9d4H2bb"
   },
   "source": [
    "### Reading the PRIMARY Data Files"
   ]
  },
  {
   "cell_type": "code",
   "execution_count": 246,
   "id": "6b790be8",
   "metadata": {
    "executionInfo": {
     "elapsed": 11,
     "status": "ok",
     "timestamp": 1669350975119,
     "user": {
      "displayName": "Hajar Mohammed",
      "userId": "05174407830062543531"
     },
     "user_tz": 360
    },
    "id": "6b790be8"
   },
   "outputs": [],
   "source": [
    "df0=pd.read_csv('nyt_topic_0.csv')\n",
    "df1=pd.read_csv('nyt_topic_1.csv')\n",
    "df2=pd.read_csv('nyt_topic_2.csv')"
   ]
  },
  {
   "cell_type": "markdown",
   "id": "Vs8W9t_fH8UY",
   "metadata": {
    "id": "Vs8W9t_fH8UY"
   },
   "source": [
    "### Reading the SECONDARY Data Files"
   ]
  },
  {
   "cell_type": "code",
   "execution_count": 247,
   "id": "52ab43d2",
   "metadata": {
    "executionInfo": {
     "elapsed": 11,
     "status": "ok",
     "timestamp": 1669350975119,
     "user": {
      "displayName": "Hajar Mohammed",
      "userId": "05174407830062543531"
     },
     "user_tz": 360
    },
    "id": "52ab43d2"
   },
   "outputs": [],
   "source": [
    "df3=pd.read_csv('twitter_topic_0.csv')\n",
    "df4=pd.read_csv('twitter_topic_1.csv')\n",
    "df5=pd.read_csv('twitter_topic_2.csv')\n",
    "df6=pd.read_csv('twitter_topic_3.csv')\n",
    "df7=pd.read_csv('twitter_topic_4.csv')"
   ]
  },
  {
   "cell_type": "markdown",
   "id": "nvgND9fVIDZ9",
   "metadata": {
    "id": "nvgND9fVIDZ9"
   },
   "source": [
    "### Joining Both PRIMARY and SECONDARY Files to Single Files"
   ]
  },
  {
   "cell_type": "code",
   "execution_count": 248,
   "id": "f5e6b6d2",
   "metadata": {
    "executionInfo": {
     "elapsed": 242,
     "status": "ok",
     "timestamp": 1669350975351,
     "user": {
      "displayName": "Hajar Mohammed",
      "userId": "05174407830062543531"
     },
     "user_tz": 360
    },
    "id": "f5e6b6d2"
   },
   "outputs": [],
   "source": [
    "sop_df_prmry=pd.concat([df0,df1,df2],axis=0)\n",
    "sop_df_scndry=pd.concat([df3,df4,df5,df6,df7],axis=0)"
   ]
  },
  {
   "cell_type": "code",
   "execution_count": 249,
   "id": "f991d7b7",
   "metadata": {
    "executionInfo": {
     "elapsed": 7,
     "status": "ok",
     "timestamp": 1669350975351,
     "user": {
      "displayName": "Hajar Mohammed",
      "userId": "05174407830062543531"
     },
     "user_tz": 360
    },
    "id": "f991d7b7"
   },
   "outputs": [],
   "source": [
    "df=sop_df_prmry.copy()"
   ]
  },
  {
   "cell_type": "markdown",
   "id": "5f6eb88b",
   "metadata": {
    "id": "5f6eb88b"
   },
   "source": [
    "### Problem Type"
   ]
  },
  {
   "cell_type": "markdown",
   "id": "64f345af",
   "metadata": {
    "id": "64f345af"
   },
   "source": [
    "Target variable is categorical so it is a classificatin problem"
   ]
  },
  {
   "cell_type": "markdown",
   "id": "bd6287a4",
   "metadata": {
    "id": "bd6287a4"
   },
   "source": [
    "### Checking Percentage of Missing Values"
   ]
  },
  {
   "cell_type": "code",
   "execution_count": 250,
   "id": "a4fd52ec",
   "metadata": {
    "colab": {
     "base_uri": "https://localhost:8080/"
    },
    "executionInfo": {
     "elapsed": 7,
     "status": "ok",
     "timestamp": 1669350975352,
     "user": {
      "displayName": "Hajar Mohammed",
      "userId": "05174407830062543531"
     },
     "user_tz": 360
    },
    "id": "a4fd52ec",
    "outputId": "f38987c6-86d1-4ab0-d7b6-6d88cbd016ee"
   },
   "outputs": [
    {
     "data": {
      "text/plain": [
       "text     0.000000\n",
       "label    0.158672\n",
       "dtype: float64"
      ]
     },
     "execution_count": 250,
     "metadata": {},
     "output_type": "execute_result"
    }
   ],
   "source": [
    "sop_df_prmry.isnull().sum()/sop_df_prmry.shape[0]"
   ]
  },
  {
   "cell_type": "code",
   "execution_count": 251,
   "id": "f59b56cb",
   "metadata": {
    "colab": {
     "base_uri": "https://localhost:8080/"
    },
    "executionInfo": {
     "elapsed": 6,
     "status": "ok",
     "timestamp": 1669350975352,
     "user": {
      "displayName": "Hajar Mohammed",
      "userId": "05174407830062543531"
     },
     "user_tz": 360
    },
    "id": "f59b56cb",
    "outputId": "8c9eaeef-0e11-44f0-f01d-e5a1dbc62230"
   },
   "outputs": [
    {
     "data": {
      "text/plain": [
       "text     0.000000\n",
       "label    0.073333\n",
       "dtype: float64"
      ]
     },
     "execution_count": 251,
     "metadata": {},
     "output_type": "execute_result"
    }
   ],
   "source": [
    "sop_df_scndry.isnull().sum()/sop_df_scndry.shape[0]"
   ]
  },
  {
   "cell_type": "markdown",
   "id": "2a7f930f",
   "metadata": {
    "id": "2a7f930f"
   },
   "source": [
    "### Remove Text with Missing Values "
   ]
  },
  {
   "cell_type": "code",
   "execution_count": 252,
   "id": "cddcf7c8",
   "metadata": {
    "executionInfo": {
     "elapsed": 4,
     "status": "ok",
     "timestamp": 1669350975352,
     "user": {
      "displayName": "Hajar Mohammed",
      "userId": "05174407830062543531"
     },
     "user_tz": 360
    },
    "id": "cddcf7c8"
   },
   "outputs": [],
   "source": [
    "sop_df_prmry= sop_df_prmry.dropna(axis=0) # My code\n",
    "sop_df_prmry= sop_df_prmry.dropna().reset_index(drop=True)"
   ]
  },
  {
   "cell_type": "code",
   "execution_count": 253,
   "id": "b399802d",
   "metadata": {
    "executionInfo": {
     "elapsed": 4,
     "status": "ok",
     "timestamp": 1669350975352,
     "user": {
      "displayName": "Hajar Mohammed",
      "userId": "05174407830062543531"
     },
     "user_tz": 360
    },
    "id": "b399802d"
   },
   "outputs": [],
   "source": [
    "sop_df_scndry= sop_df_scndry.dropna(axis=0)# My code\n",
    "sop_df_scndry= sop_df_scndry.dropna().reset_index(drop=True)"
   ]
  },
  {
   "cell_type": "markdown",
   "id": "62b80390",
   "metadata": {
    "id": "62b80390"
   },
   "source": [
    "### **Summary Statistics**"
   ]
  },
  {
   "cell_type": "markdown",
   "id": "521d4538",
   "metadata": {
    "id": "521d4538"
   },
   "source": [
    "### Data Shape"
   ]
  },
  {
   "cell_type": "code",
   "execution_count": 256,
   "id": "d2d0a86c",
   "metadata": {
    "colab": {
     "base_uri": "https://localhost:8080/"
    },
    "executionInfo": {
     "elapsed": 9,
     "status": "ok",
     "timestamp": 1669350975693,
     "user": {
      "displayName": "Hajar Mohammed",
      "userId": "05174407830062543531"
     },
     "user_tz": 360
    },
    "id": "d2d0a86c",
    "outputId": "34cb6b0a-7173-4c40-aa41-eb411cc5c26c"
   },
   "outputs": [
    {
     "data": {
      "text/plain": [
       "(684, 2)"
      ]
     },
     "execution_count": 256,
     "metadata": {},
     "output_type": "execute_result"
    }
   ],
   "source": [
    "#primary dataset\n",
    "sop_df_prmry.shape"
   ]
  },
  {
   "cell_type": "code",
   "execution_count": 257,
   "id": "e7227da4",
   "metadata": {
    "colab": {
     "base_uri": "https://localhost:8080/"
    },
    "executionInfo": {
     "elapsed": 6,
     "status": "ok",
     "timestamp": 1669350975694,
     "user": {
      "displayName": "Hajar Mohammed",
      "userId": "05174407830062543531"
     },
     "user_tz": 360
    },
    "id": "e7227da4",
    "outputId": "0947857d-740b-4de4-c4bb-0d35d100b26a"
   },
   "outputs": [
    {
     "data": {
      "text/plain": [
       "(1390, 2)"
      ]
     },
     "execution_count": 257,
     "metadata": {},
     "output_type": "execute_result"
    }
   ],
   "source": [
    "#secondary dataset\n",
    "sop_df_scndry.shape"
   ]
  },
  {
   "cell_type": "markdown",
   "id": "50000c46",
   "metadata": {
    "id": "50000c46"
   },
   "source": [
    "### Data Summary"
   ]
  },
  {
   "cell_type": "code",
   "execution_count": 258,
   "id": "c8454537",
   "metadata": {
    "colab": {
     "base_uri": "https://localhost:8080/",
     "height": 175
    },
    "executionInfo": {
     "elapsed": 121,
     "status": "ok",
     "timestamp": 1669350975811,
     "user": {
      "displayName": "Hajar Mohammed",
      "userId": "05174407830062543531"
     },
     "user_tz": 360
    },
    "id": "c8454537",
    "outputId": "50c1fb01-0b9c-42bf-a63b-cb67b2c02c42"
   },
   "outputs": [
    {
     "data": {
      "text/html": [
       "\n",
       "  <div id=\"df-dc9297b1-a759-4488-aa5a-07c56f7beaa4\">\n",
       "    <div class=\"colab-df-container\">\n",
       "      <div>\n",
       "<style scoped>\n",
       "    .dataframe tbody tr th:only-of-type {\n",
       "        vertical-align: middle;\n",
       "    }\n",
       "\n",
       "    .dataframe tbody tr th {\n",
       "        vertical-align: top;\n",
       "    }\n",
       "\n",
       "    .dataframe thead th {\n",
       "        text-align: right;\n",
       "    }\n",
       "</style>\n",
       "<table border=\"1\" class=\"dataframe\">\n",
       "  <thead>\n",
       "    <tr style=\"text-align: right;\">\n",
       "      <th></th>\n",
       "      <th>text</th>\n",
       "      <th>label</th>\n",
       "    </tr>\n",
       "  </thead>\n",
       "  <tbody>\n",
       "    <tr>\n",
       "      <th>count</th>\n",
       "      <td>684</td>\n",
       "      <td>684</td>\n",
       "    </tr>\n",
       "    <tr>\n",
       "      <th>unique</th>\n",
       "      <td>449</td>\n",
       "      <td>3</td>\n",
       "    </tr>\n",
       "    <tr>\n",
       "      <th>top</th>\n",
       "      <td>I have not been out to a restaurant since the ...</td>\n",
       "      <td>vaccination</td>\n",
       "    </tr>\n",
       "    <tr>\n",
       "      <th>freq</th>\n",
       "      <td>3</td>\n",
       "      <td>451</td>\n",
       "    </tr>\n",
       "  </tbody>\n",
       "</table>\n",
       "</div>\n",
       "      <button class=\"colab-df-convert\" onclick=\"convertToInteractive('df-dc9297b1-a759-4488-aa5a-07c56f7beaa4')\"\n",
       "              title=\"Convert this dataframe to an interactive table.\"\n",
       "              style=\"display:none;\">\n",
       "        \n",
       "  <svg xmlns=\"http://www.w3.org/2000/svg\" height=\"24px\"viewBox=\"0 0 24 24\"\n",
       "       width=\"24px\">\n",
       "    <path d=\"M0 0h24v24H0V0z\" fill=\"none\"/>\n",
       "    <path d=\"M18.56 5.44l.94 2.06.94-2.06 2.06-.94-2.06-.94-.94-2.06-.94 2.06-2.06.94zm-11 1L8.5 8.5l.94-2.06 2.06-.94-2.06-.94L8.5 2.5l-.94 2.06-2.06.94zm10 10l.94 2.06.94-2.06 2.06-.94-2.06-.94-.94-2.06-.94 2.06-2.06.94z\"/><path d=\"M17.41 7.96l-1.37-1.37c-.4-.4-.92-.59-1.43-.59-.52 0-1.04.2-1.43.59L10.3 9.45l-7.72 7.72c-.78.78-.78 2.05 0 2.83L4 21.41c.39.39.9.59 1.41.59.51 0 1.02-.2 1.41-.59l7.78-7.78 2.81-2.81c.8-.78.8-2.07 0-2.86zM5.41 20L4 18.59l7.72-7.72 1.47 1.35L5.41 20z\"/>\n",
       "  </svg>\n",
       "      </button>\n",
       "      \n",
       "  <style>\n",
       "    .colab-df-container {\n",
       "      display:flex;\n",
       "      flex-wrap:wrap;\n",
       "      gap: 12px;\n",
       "    }\n",
       "\n",
       "    .colab-df-convert {\n",
       "      background-color: #E8F0FE;\n",
       "      border: none;\n",
       "      border-radius: 50%;\n",
       "      cursor: pointer;\n",
       "      display: none;\n",
       "      fill: #1967D2;\n",
       "      height: 32px;\n",
       "      padding: 0 0 0 0;\n",
       "      width: 32px;\n",
       "    }\n",
       "\n",
       "    .colab-df-convert:hover {\n",
       "      background-color: #E2EBFA;\n",
       "      box-shadow: 0px 1px 2px rgba(60, 64, 67, 0.3), 0px 1px 3px 1px rgba(60, 64, 67, 0.15);\n",
       "      fill: #174EA6;\n",
       "    }\n",
       "\n",
       "    [theme=dark] .colab-df-convert {\n",
       "      background-color: #3B4455;\n",
       "      fill: #D2E3FC;\n",
       "    }\n",
       "\n",
       "    [theme=dark] .colab-df-convert:hover {\n",
       "      background-color: #434B5C;\n",
       "      box-shadow: 0px 1px 3px 1px rgba(0, 0, 0, 0.15);\n",
       "      filter: drop-shadow(0px 1px 2px rgba(0, 0, 0, 0.3));\n",
       "      fill: #FFFFFF;\n",
       "    }\n",
       "  </style>\n",
       "\n",
       "      <script>\n",
       "        const buttonEl =\n",
       "          document.querySelector('#df-dc9297b1-a759-4488-aa5a-07c56f7beaa4 button.colab-df-convert');\n",
       "        buttonEl.style.display =\n",
       "          google.colab.kernel.accessAllowed ? 'block' : 'none';\n",
       "\n",
       "        async function convertToInteractive(key) {\n",
       "          const element = document.querySelector('#df-dc9297b1-a759-4488-aa5a-07c56f7beaa4');\n",
       "          const dataTable =\n",
       "            await google.colab.kernel.invokeFunction('convertToInteractive',\n",
       "                                                     [key], {});\n",
       "          if (!dataTable) return;\n",
       "\n",
       "          const docLinkHtml = 'Like what you see? Visit the ' +\n",
       "            '<a target=\"_blank\" href=https://colab.research.google.com/notebooks/data_table.ipynb>data table notebook</a>'\n",
       "            + ' to learn more about interactive tables.';\n",
       "          element.innerHTML = '';\n",
       "          dataTable['output_type'] = 'display_data';\n",
       "          await google.colab.output.renderOutput(dataTable, element);\n",
       "          const docLink = document.createElement('div');\n",
       "          docLink.innerHTML = docLinkHtml;\n",
       "          element.appendChild(docLink);\n",
       "        }\n",
       "      </script>\n",
       "    </div>\n",
       "  </div>\n",
       "  "
      ],
      "text/plain": [
       "                                                     text        label\n",
       "count                                                 684          684\n",
       "unique                                                449            3\n",
       "top     I have not been out to a restaurant since the ...  vaccination\n",
       "freq                                                    3          451"
      ]
     },
     "execution_count": 258,
     "metadata": {},
     "output_type": "execute_result"
    }
   ],
   "source": [
    "#primary dataset\n",
    "sop_df_prmry.describe()"
   ]
  },
  {
   "cell_type": "code",
   "execution_count": 259,
   "id": "5e762a3e",
   "metadata": {
    "colab": {
     "base_uri": "https://localhost:8080/",
     "height": 175
    },
    "executionInfo": {
     "elapsed": 4,
     "status": "ok",
     "timestamp": 1669350975811,
     "user": {
      "displayName": "Hajar Mohammed",
      "userId": "05174407830062543531"
     },
     "user_tz": 360
    },
    "id": "5e762a3e",
    "outputId": "4328e454-9a99-4118-f2cb-65b57a21937b"
   },
   "outputs": [
    {
     "data": {
      "text/html": [
       "\n",
       "  <div id=\"df-90e5a26f-a152-4867-bb0b-cb9131e820ca\">\n",
       "    <div class=\"colab-df-container\">\n",
       "      <div>\n",
       "<style scoped>\n",
       "    .dataframe tbody tr th:only-of-type {\n",
       "        vertical-align: middle;\n",
       "    }\n",
       "\n",
       "    .dataframe tbody tr th {\n",
       "        vertical-align: top;\n",
       "    }\n",
       "\n",
       "    .dataframe thead th {\n",
       "        text-align: right;\n",
       "    }\n",
       "</style>\n",
       "<table border=\"1\" class=\"dataframe\">\n",
       "  <thead>\n",
       "    <tr style=\"text-align: right;\">\n",
       "      <th></th>\n",
       "      <th>text</th>\n",
       "      <th>label</th>\n",
       "    </tr>\n",
       "  </thead>\n",
       "  <tbody>\n",
       "    <tr>\n",
       "      <th>count</th>\n",
       "      <td>1390</td>\n",
       "      <td>1390</td>\n",
       "    </tr>\n",
       "    <tr>\n",
       "      <th>unique</th>\n",
       "      <td>1386</td>\n",
       "      <td>3</td>\n",
       "    </tr>\n",
       "    <tr>\n",
       "      <th>top</th>\n",
       "      <td>STUDIES SHOW MORPHINE MILLIGRAM EQUIVALENT (MM...</td>\n",
       "      <td>vaccination</td>\n",
       "    </tr>\n",
       "    <tr>\n",
       "      <th>freq</th>\n",
       "      <td>3</td>\n",
       "      <td>859</td>\n",
       "    </tr>\n",
       "  </tbody>\n",
       "</table>\n",
       "</div>\n",
       "      <button class=\"colab-df-convert\" onclick=\"convertToInteractive('df-90e5a26f-a152-4867-bb0b-cb9131e820ca')\"\n",
       "              title=\"Convert this dataframe to an interactive table.\"\n",
       "              style=\"display:none;\">\n",
       "        \n",
       "  <svg xmlns=\"http://www.w3.org/2000/svg\" height=\"24px\"viewBox=\"0 0 24 24\"\n",
       "       width=\"24px\">\n",
       "    <path d=\"M0 0h24v24H0V0z\" fill=\"none\"/>\n",
       "    <path d=\"M18.56 5.44l.94 2.06.94-2.06 2.06-.94-2.06-.94-.94-2.06-.94 2.06-2.06.94zm-11 1L8.5 8.5l.94-2.06 2.06-.94-2.06-.94L8.5 2.5l-.94 2.06-2.06.94zm10 10l.94 2.06.94-2.06 2.06-.94-2.06-.94-.94-2.06-.94 2.06-2.06.94z\"/><path d=\"M17.41 7.96l-1.37-1.37c-.4-.4-.92-.59-1.43-.59-.52 0-1.04.2-1.43.59L10.3 9.45l-7.72 7.72c-.78.78-.78 2.05 0 2.83L4 21.41c.39.39.9.59 1.41.59.51 0 1.02-.2 1.41-.59l7.78-7.78 2.81-2.81c.8-.78.8-2.07 0-2.86zM5.41 20L4 18.59l7.72-7.72 1.47 1.35L5.41 20z\"/>\n",
       "  </svg>\n",
       "      </button>\n",
       "      \n",
       "  <style>\n",
       "    .colab-df-container {\n",
       "      display:flex;\n",
       "      flex-wrap:wrap;\n",
       "      gap: 12px;\n",
       "    }\n",
       "\n",
       "    .colab-df-convert {\n",
       "      background-color: #E8F0FE;\n",
       "      border: none;\n",
       "      border-radius: 50%;\n",
       "      cursor: pointer;\n",
       "      display: none;\n",
       "      fill: #1967D2;\n",
       "      height: 32px;\n",
       "      padding: 0 0 0 0;\n",
       "      width: 32px;\n",
       "    }\n",
       "\n",
       "    .colab-df-convert:hover {\n",
       "      background-color: #E2EBFA;\n",
       "      box-shadow: 0px 1px 2px rgba(60, 64, 67, 0.3), 0px 1px 3px 1px rgba(60, 64, 67, 0.15);\n",
       "      fill: #174EA6;\n",
       "    }\n",
       "\n",
       "    [theme=dark] .colab-df-convert {\n",
       "      background-color: #3B4455;\n",
       "      fill: #D2E3FC;\n",
       "    }\n",
       "\n",
       "    [theme=dark] .colab-df-convert:hover {\n",
       "      background-color: #434B5C;\n",
       "      box-shadow: 0px 1px 3px 1px rgba(0, 0, 0, 0.15);\n",
       "      filter: drop-shadow(0px 1px 2px rgba(0, 0, 0, 0.3));\n",
       "      fill: #FFFFFF;\n",
       "    }\n",
       "  </style>\n",
       "\n",
       "      <script>\n",
       "        const buttonEl =\n",
       "          document.querySelector('#df-90e5a26f-a152-4867-bb0b-cb9131e820ca button.colab-df-convert');\n",
       "        buttonEl.style.display =\n",
       "          google.colab.kernel.accessAllowed ? 'block' : 'none';\n",
       "\n",
       "        async function convertToInteractive(key) {\n",
       "          const element = document.querySelector('#df-90e5a26f-a152-4867-bb0b-cb9131e820ca');\n",
       "          const dataTable =\n",
       "            await google.colab.kernel.invokeFunction('convertToInteractive',\n",
       "                                                     [key], {});\n",
       "          if (!dataTable) return;\n",
       "\n",
       "          const docLinkHtml = 'Like what you see? Visit the ' +\n",
       "            '<a target=\"_blank\" href=https://colab.research.google.com/notebooks/data_table.ipynb>data table notebook</a>'\n",
       "            + ' to learn more about interactive tables.';\n",
       "          element.innerHTML = '';\n",
       "          dataTable['output_type'] = 'display_data';\n",
       "          await google.colab.output.renderOutput(dataTable, element);\n",
       "          const docLink = document.createElement('div');\n",
       "          docLink.innerHTML = docLinkHtml;\n",
       "          element.appendChild(docLink);\n",
       "        }\n",
       "      </script>\n",
       "    </div>\n",
       "  </div>\n",
       "  "
      ],
      "text/plain": [
       "                                                     text        label\n",
       "count                                                1390         1390\n",
       "unique                                               1386            3\n",
       "top     STUDIES SHOW MORPHINE MILLIGRAM EQUIVALENT (MM...  vaccination\n",
       "freq                                                    3          859"
      ]
     },
     "execution_count": 259,
     "metadata": {},
     "output_type": "execute_result"
    }
   ],
   "source": [
    "#secondary dataset\n",
    "sop_df_scndry.describe()"
   ]
  },
  {
   "cell_type": "markdown",
   "id": "7fdf5246",
   "metadata": {
    "id": "7fdf5246"
   },
   "source": [
    "### Text Cleaning"
   ]
  },
  {
   "cell_type": "code",
   "execution_count": 260,
   "id": "4ba9cea3",
   "metadata": {
    "executionInfo": {
     "elapsed": 5,
     "status": "ok",
     "timestamp": 1669350975812,
     "user": {
      "displayName": "Hajar Mohammed",
      "userId": "05174407830062543531"
     },
     "user_tz": 360
    },
    "id": "4ba9cea3"
   },
   "outputs": [],
   "source": [
    "def text_cleaning(text):\n",
    "    text=nt.fix_contractions(text)\n",
    "    text=nt.remove_puncts(text)\n",
    "    text=nt.remove_bad_quotes(text)\n",
    "    text=nt.remove_emojis(text)\n",
    "    text=nt.remove_numbers(text)\n",
    "    text=nt.remove_multiple_spaces(text)\n",
    "    text=nt.remove_non_ascii(text)\n",
    "    return text"
   ]
  },
  {
   "cell_type": "code",
   "execution_count": 261,
   "id": "c0120f81",
   "metadata": {
    "executionInfo": {
     "elapsed": 602,
     "status": "ok",
     "timestamp": 1669350976410,
     "user": {
      "displayName": "Hajar Mohammed",
      "userId": "05174407830062543531"
     },
     "user_tz": 360
    },
    "id": "c0120f81"
   },
   "outputs": [],
   "source": [
    "sop_df_prmry['cleaned_text']=sop_df_prmry['text'].apply(lambda x:text_cleaning(x))\n",
    "sop_df_scndry['cleaned_text']=sop_df_scndry['text'].apply(lambda x:text_cleaning(x))"
   ]
  },
  {
   "cell_type": "markdown",
   "id": "0Z1xZDEZI3Q3",
   "metadata": {
    "id": "0Z1xZDEZI3Q3"
   },
   "source": [
    "# Binary Classification"
   ]
  },
  {
   "cell_type": "markdown",
   "id": "wZ20WhYuIjNq",
   "metadata": {
    "id": "wZ20WhYuIjNq"
   },
   "source": [
    "We Picked up **vaccination** as our target lable, so put **True** where **vaccination** lable is present and put **false** where the vaccination label is not present in the target feature"
   ]
  },
  {
   "cell_type": "code",
   "execution_count": 262,
   "id": "9921f5f3",
   "metadata": {
    "executionInfo": {
     "elapsed": 3,
     "status": "ok",
     "timestamp": 1669350976411,
     "user": {
      "displayName": "Hajar Mohammed",
      "userId": "05174407830062543531"
     },
     "user_tz": 360
    },
    "id": "9921f5f3"
   },
   "outputs": [],
   "source": [
    "sop_df_prmry['vaccination']=sop_df_prmry['label']=='vaccination'\n",
    "sop_df_scndry['vaccination']=sop_df_scndry['label']=='vaccination'"
   ]
  },
  {
   "cell_type": "markdown",
   "id": "91a05061",
   "metadata": {
    "id": "91a05061"
   },
   "source": [
    "### Text Vectorization"
   ]
  },
  {
   "cell_type": "code",
   "execution_count": 263,
   "id": "616563d5",
   "metadata": {
    "executionInfo": {
     "elapsed": 3,
     "status": "ok",
     "timestamp": 1669350976411,
     "user": {
      "displayName": "Hajar Mohammed",
      "userId": "05174407830062543531"
     },
     "user_tz": 360
    },
    "id": "616563d5"
   },
   "outputs": [],
   "source": [
    "from sklearn.model_selection import train_test_split"
   ]
  },
  {
   "cell_type": "code",
   "execution_count": 264,
   "id": "486460db",
   "metadata": {
    "executionInfo": {
     "elapsed": 3,
     "status": "ok",
     "timestamp": 1669350976411,
     "user": {
      "displayName": "Hajar Mohammed",
      "userId": "05174407830062543531"
     },
     "user_tz": 360
    },
    "id": "486460db"
   },
   "outputs": [],
   "source": [
    "X=sop_df_prmry['cleaned_text']\n",
    "y=sop_df_prmry['vaccination']"
   ]
  },
  {
   "cell_type": "markdown",
   "id": "7KMJTXoHJOYp",
   "metadata": {
    "id": "7KMJTXoHJOYp"
   },
   "source": [
    "### Splitting PRIMARY Data into 70% Training and 30% Testing Data"
   ]
  },
  {
   "cell_type": "code",
   "execution_count": 265,
   "id": "3481b047",
   "metadata": {
    "executionInfo": {
     "elapsed": 3,
     "status": "ok",
     "timestamp": 1669350976412,
     "user": {
      "displayName": "Hajar Mohammed",
      "userId": "05174407830062543531"
     },
     "user_tz": 360
    },
    "id": "3481b047"
   },
   "outputs": [],
   "source": [
    "X_train,X_test,y_train,y_test=train_test_split(X,y,test_size=0.3,random_state=123, stratify=y)"
   ]
  },
  {
   "cell_type": "code",
   "execution_count": 266,
   "id": "cc4fa0b9",
   "metadata": {
    "executionInfo": {
     "elapsed": 255,
     "status": "ok",
     "timestamp": 1669350976664,
     "user": {
      "displayName": "Hajar Mohammed",
      "userId": "05174407830062543531"
     },
     "user_tz": 360
    },
    "id": "cc4fa0b9"
   },
   "outputs": [],
   "source": [
    "#converting the PRIMARY data text into vector using bag of words\n",
    "from sklearn.feature_extraction.text import CountVectorizer\n",
    "count_vect = CountVectorizer()\n",
    "X_train = count_vect.fit_transform(X_train)\n",
    "X_test = count_vect.transform(X_test)"
   ]
  },
  {
   "cell_type": "code",
   "execution_count": 267,
   "id": "615de3a4",
   "metadata": {
    "executionInfo": {
     "elapsed": 3,
     "status": "ok",
     "timestamp": 1669350976664,
     "user": {
      "displayName": "Hajar Mohammed",
      "userId": "05174407830062543531"
     },
     "user_tz": 360
    },
    "id": "615de3a4"
   },
   "outputs": [],
   "source": [
    "X_secondary=sop_df_scndry['cleaned_text']"
   ]
  },
  {
   "cell_type": "code",
   "execution_count": 268,
   "id": "c87e89f1",
   "metadata": {
    "executionInfo": {
     "elapsed": 4,
     "status": "ok",
     "timestamp": 1669350976665,
     "user": {
      "displayName": "Hajar Mohammed",
      "userId": "05174407830062543531"
     },
     "user_tz": 360
    },
    "id": "c87e89f1"
   },
   "outputs": [],
   "source": [
    "#Converting SECONDARY data text into vectors\n",
    "X_secondary = count_vect.transform(X_secondary)"
   ]
  },
  {
   "cell_type": "code",
   "execution_count": 269,
   "id": "14f8992f",
   "metadata": {
    "executionInfo": {
     "elapsed": 4,
     "status": "ok",
     "timestamp": 1669350976665,
     "user": {
      "displayName": "Hajar Mohammed",
      "userId": "05174407830062543531"
     },
     "user_tz": 360
    },
    "id": "14f8992f"
   },
   "outputs": [],
   "source": [
    "y_secondary=sop_df_scndry['vaccination']"
   ]
  },
  {
   "cell_type": "markdown",
   "id": "DoC-clJkJ4mH",
   "metadata": {
    "id": "DoC-clJkJ4mH"
   },
   "source": [
    "### Data Balancing"
   ]
  },
  {
   "cell_type": "markdown",
   "id": "CLkrCzwUKAI4",
   "metadata": {
    "id": "CLkrCzwUKAI4"
   },
   "source": [
    "Our target feature is not evenly distributed so we apply over sampling on the data in order to balance the target feature"
   ]
  },
  {
   "cell_type": "code",
   "execution_count": 270,
   "id": "37312b33",
   "metadata": {
    "executionInfo": {
     "elapsed": 3,
     "status": "ok",
     "timestamp": 1669350976665,
     "user": {
      "displayName": "Hajar Mohammed",
      "userId": "05174407830062543531"
     },
     "user_tz": 360
    },
    "id": "37312b33"
   },
   "outputs": [],
   "source": [
    "from imblearn.over_sampling import SMOTE   #package foe balancing the data\n",
    "sampler = SMOTE()\n",
    "X_train, y_train = sampler.fit_resample(X_train, y_train)  #balancing trainig and testing data"
   ]
  },
  {
   "cell_type": "code",
   "execution_count": 271,
   "id": "IiYnz-sXxCC4",
   "metadata": {
    "executionInfo": {
     "elapsed": 3,
     "status": "ok",
     "timestamp": 1669350976665,
     "user": {
      "displayName": "Hajar Mohammed",
      "userId": "05174407830062543531"
     },
     "user_tz": 360
    },
    "id": "IiYnz-sXxCC4"
   },
   "outputs": [],
   "source": [
    "sampler = SMOTE()\n",
    "X_secondary, y_secondary = sampler.fit_resample(X_secondary, y_secondary)  #balancing trainig and testing data"
   ]
  },
  {
   "cell_type": "code",
   "execution_count": 272,
   "id": "71aab28d",
   "metadata": {
    "colab": {
     "base_uri": "https://localhost:8080/",
     "height": 351
    },
    "executionInfo": {
     "elapsed": 452,
     "status": "ok",
     "timestamp": 1669350977114,
     "user": {
      "displayName": "Hajar Mohammed",
      "userId": "05174407830062543531"
     },
     "user_tz": 360
    },
    "id": "71aab28d",
    "outputId": "4624ad9e-1905-44ce-e51d-a363a9011035"
   },
   "outputs": [
    {
     "name": "stderr",
     "output_type": "stream",
     "text": [
      "/usr/local/lib/python3.7/dist-packages/seaborn/_decorators.py:43: FutureWarning: Pass the following variable as a keyword arg: x. From version 0.12, the only valid positional argument will be `data`, and passing other arguments without an explicit keyword will result in an error or misinterpretation.\n",
      "  FutureWarning\n"
     ]
    },
    {
     "data": {
      "text/plain": [
       "<matplotlib.axes._subplots.AxesSubplot at 0x7f965d5e1ad0>"
      ]
     },
     "execution_count": 272,
     "metadata": {},
     "output_type": "execute_result"
    },
    {
     "data": {
      "image/png": "[encoded data removed]",
      "text/plain": [
       "<Figure size 432x288 with 1 Axes>"
      ]
     },
     "metadata": {
      "needs_background": "light"
     },
     "output_type": "display_data"
    }
   ],
   "source": [
    "#Balanced target feature\n",
    "sns.countplot(y_train)"
   ]
  },
  {
   "cell_type": "markdown",
   "id": "175b9c7f",
   "metadata": {
    "id": "175b9c7f"
   },
   "source": [
    "# **3 - Model Training and Testing**"
   ]
  },
  {
   "cell_type": "markdown",
   "id": "Gf6q_Z_nKf5s",
   "metadata": {
    "id": "Gf6q_Z_nKf5s"
   },
   "source": [
    "Training of Multinomial Naive Bayes Classifier"
   ]
  },
  {
   "cell_type": "code",
   "execution_count": 273,
   "id": "38c0b7b3",
   "metadata": {
    "colab": {
     "base_uri": "https://localhost:8080/"
    },
    "executionInfo": {
     "elapsed": 16,
     "status": "ok",
     "timestamp": 1669350977114,
     "user": {
      "displayName": "Hajar Mohammed",
      "userId": "05174407830062543531"
     },
     "user_tz": 360
    },
    "id": "38c0b7b3",
    "outputId": "273238ff-125e-4169-f7bb-53732f071bb9"
   },
   "outputs": [
    {
     "data": {
      "text/plain": [
       "DecisionTreeClassifier()"
      ]
     },
     "execution_count": 273,
     "metadata": {},
     "output_type": "execute_result"
    }
   ],
   "source": [
    "from sklearn import tree\n",
    "clf = tree.DecisionTreeClassifier()\n",
    "clf.fit(X_train, y_train)"
   ]
  },
  {
   "cell_type": "markdown",
   "id": "DZ_Ifz0oKpxs",
   "metadata": {
    "id": "DZ_Ifz0oKpxs"
   },
   "source": [
    "Making Prediction on PRIMARY Test Data"
   ]
  },
  {
   "cell_type": "code",
   "execution_count": 274,
   "id": "31357468",
   "metadata": {
    "colab": {
     "base_uri": "https://localhost:8080/"
    },
    "executionInfo": {
     "elapsed": 13,
     "status": "ok",
     "timestamp": 1669350977115,
     "user": {
      "displayName": "Hajar Mohammed",
      "userId": "05174407830062543531"
     },
     "user_tz": 360
    },
    "id": "31357468",
    "outputId": "12449e3d-dfa0-4da6-f32e-c8485da67d43"
   },
   "outputs": [
    {
     "data": {
      "text/plain": [
       "array([False,  True,  True, False,  True, False,  True,  True,  True,\n",
       "       False,  True, False,  True,  True,  True, False,  True,  True,\n",
       "        True,  True, False, False,  True, False,  True,  True,  True,\n",
       "        True,  True, False,  True,  True,  True,  True,  True, False,\n",
       "        True,  True,  True,  True,  True,  True,  True, False,  True,\n",
       "        True, False, False, False,  True, False, False, False,  True,\n",
       "        True, False,  True,  True,  True, False,  True,  True,  True,\n",
       "        True,  True, False,  True,  True, False, False, False,  True,\n",
       "       False,  True, False,  True, False,  True,  True, False, False,\n",
       "        True,  True, False,  True,  True,  True,  True,  True, False,\n",
       "       False,  True, False,  True,  True, False,  True,  True, False,\n",
       "        True, False,  True,  True, False, False,  True,  True,  True,\n",
       "        True, False, False, False,  True,  True,  True,  True,  True,\n",
       "        True, False,  True, False, False,  True, False, False, False,\n",
       "        True, False,  True,  True, False, False,  True, False, False,\n",
       "        True, False,  True,  True,  True, False, False,  True, False,\n",
       "       False,  True, False, False,  True,  True,  True,  True, False,\n",
       "        True,  True,  True,  True, False, False,  True,  True,  True,\n",
       "        True,  True, False,  True, False,  True, False,  True,  True,\n",
       "       False,  True,  True, False,  True, False,  True, False,  True,\n",
       "        True,  True,  True, False,  True,  True,  True,  True,  True,\n",
       "       False,  True,  True, False,  True, False,  True,  True,  True,\n",
       "       False,  True, False, False,  True,  True, False,  True])"
      ]
     },
     "execution_count": 274,
     "metadata": {},
     "output_type": "execute_result"
    }
   ],
   "source": [
    "clf.predict(X_test)"
   ]
  },
  {
   "cell_type": "markdown",
   "id": "71b1a136",
   "metadata": {
    "id": "71b1a136"
   },
   "source": [
    "### Model Training Accuracy on PRIMARY Test Data"
   ]
  },
  {
   "cell_type": "code",
   "execution_count": 275,
   "id": "be36fcac",
   "metadata": {
    "executionInfo": {
     "elapsed": 11,
     "status": "ok",
     "timestamp": 1669350977115,
     "user": {
      "displayName": "Hajar Mohammed",
      "userId": "05174407830062543531"
     },
     "user_tz": 360
    },
    "id": "be36fcac"
   },
   "outputs": [],
   "source": [
    "y_pred=clf.predict(X_test)"
   ]
  },
  {
   "cell_type": "code",
   "execution_count": 276,
   "id": "21iuHSlo-tOx",
   "metadata": {
    "colab": {
     "base_uri": "https://localhost:8080/"
    },
    "executionInfo": {
     "elapsed": 11,
     "status": "ok",
     "timestamp": 1669350977115,
     "user": {
      "displayName": "Hajar Mohammed",
      "userId": "05174407830062543531"
     },
     "user_tz": 360
    },
    "id": "21iuHSlo-tOx",
    "outputId": "5a8b0a69-11a3-4395-e9b8-ab2eb1efe726"
   },
   "outputs": [
    {
     "data": {
      "text/plain": [
       "0.7912621359223301"
      ]
     },
     "execution_count": 276,
     "metadata": {},
     "output_type": "execute_result"
    }
   ],
   "source": [
    "accuracy_score(y_test,y_pred)"
   ]
  },
  {
   "cell_type": "markdown",
   "id": "KgZirelHK7o-",
   "metadata": {
    "id": "KgZirelHK7o-"
   },
   "source": [
    "### Model Accuracy on SECONDARY Data"
   ]
  },
  {
   "cell_type": "code",
   "execution_count": 277,
   "id": "EEv6I7CG-euV",
   "metadata": {
    "executionInfo": {
     "elapsed": 10,
     "status": "ok",
     "timestamp": 1669350977116,
     "user": {
      "displayName": "Hajar Mohammed",
      "userId": "05174407830062543531"
     },
     "user_tz": 360
    },
    "id": "EEv6I7CG-euV"
   },
   "outputs": [],
   "source": [
    "y_pred=clf.predict(X_secondary)"
   ]
  },
  {
   "cell_type": "code",
   "execution_count": 278,
   "id": "JE8CuKoH_iKo",
   "metadata": {
    "colab": {
     "base_uri": "https://localhost:8080/"
    },
    "executionInfo": {
     "elapsed": 10,
     "status": "ok",
     "timestamp": 1669350977116,
     "user": {
      "displayName": "Hajar Mohammed",
      "userId": "05174407830062543531"
     },
     "user_tz": 360
    },
    "id": "JE8CuKoH_iKo",
    "outputId": "7c9190d2-1f82-47f9-a59a-dbeddec9d49d"
   },
   "outputs": [
    {
     "data": {
      "text/plain": [
       "0.6757857974388825"
      ]
     },
     "execution_count": 278,
     "metadata": {},
     "output_type": "execute_result"
    }
   ],
   "source": [
    "accuracy_score(y_secondary,y_pred)"
   ]
  },
  {
   "cell_type": "code",
   "execution_count": 279,
   "id": "96d8f839",
   "metadata": {
    "colab": {
     "base_uri": "https://localhost:8080/",
     "height": 334
    },
    "executionInfo": {
     "elapsed": 9,
     "status": "ok",
     "timestamp": 1669350977116,
     "user": {
      "displayName": "Hajar Mohammed",
      "userId": "05174407830062543531"
     },
     "user_tz": 360
    },
    "id": "96d8f839",
    "outputId": "b771e829-12ee-4178-f2ce-871762745e40"
   },
   "outputs": [
    {
     "name": "stderr",
     "output_type": "stream",
     "text": [
      "/usr/local/lib/python3.7/dist-packages/sklearn/utils/deprecation.py:87: FutureWarning: Function plot_confusion_matrix is deprecated; Function `plot_confusion_matrix` is deprecated in 1.0 and will be removed in 1.2. Use one of the class methods: ConfusionMatrixDisplay.from_predictions or ConfusionMatrixDisplay.from_estimator.\n",
      "  warnings.warn(msg, category=FutureWarning)\n"
     ]
    },
    {
     "data": {
      "image/png": "[encoded data removed]",
      "text/plain": [
       "<Figure size 432x288 with 2 Axes>"
      ]
     },
     "metadata": {
      "needs_background": "light"
     },
     "output_type": "display_data"
    }
   ],
   "source": [
    "plot_confusion_matrix(clf, X_test, y_test)\n",
    "plt.show()"
   ]
  },
  {
   "cell_type": "code",
   "execution_count": 280,
   "id": "JAecqqPg-yNE",
   "metadata": {
    "colab": {
     "base_uri": "https://localhost:8080/",
     "height": 334
    },
    "executionInfo": {
     "elapsed": 256,
     "status": "ok",
     "timestamp": 1669350977364,
     "user": {
      "displayName": "Hajar Mohammed",
      "userId": "05174407830062543531"
     },
     "user_tz": 360
    },
    "id": "JAecqqPg-yNE",
    "outputId": "393f08eb-03bc-4cdd-e9cc-a90703253ae1"
   },
   "outputs": [
    {
     "name": "stderr",
     "output_type": "stream",
     "text": [
      "/usr/local/lib/python3.7/dist-packages/sklearn/utils/deprecation.py:87: FutureWarning: Function plot_confusion_matrix is deprecated; Function `plot_confusion_matrix` is deprecated in 1.0 and will be removed in 1.2. Use one of the class methods: ConfusionMatrixDisplay.from_predictions or ConfusionMatrixDisplay.from_estimator.\n",
      "  warnings.warn(msg, category=FutureWarning)\n"
     ]
    },
    {
     "data": {
      "image/png": "[encoded data removed]",
      "text/plain": [
       "<Figure size 432x288 with 2 Axes>"
      ]
     },
     "metadata": {
      "needs_background": "light"
     },
     "output_type": "display_data"
    }
   ],
   "source": [
    "plot_confusion_matrix(clf, X_secondary, y_secondary)\n",
    "plt.show()"
   ]
  },
  {
   "cell_type": "markdown",
   "id": "a92a4c1e",
   "metadata": {
    "id": "a92a4c1e"
   },
   "source": [
    "# Feature Engineering"
   ]
  },
  {
   "cell_type": "markdown",
   "id": "6aa61eda",
   "metadata": {
    "id": "6aa61eda"
   },
   "source": [
    "We added three attributes of the text feature that are Sentiment of the text, emotion of the text,and group of the text it belongs to(Kmeans Clustering)."
   ]
  },
  {
   "cell_type": "code",
   "execution_count": 281,
   "id": "9d7a8286",
   "metadata": {
    "executionInfo": {
     "elapsed": 2,
     "status": "ok",
     "timestamp": 1669350977364,
     "user": {
      "displayName": "Hajar Mohammed",
      "userId": "05174407830062543531"
     },
     "user_tz": 360
    },
    "id": "9d7a8286"
   },
   "outputs": [],
   "source": [
    "sop_df_scndry['text']=sop_df_scndry['text'].apply(lambda x:nt.remove_urls(x))"
   ]
  },
  {
   "cell_type": "markdown",
   "id": "84de0d4a",
   "metadata": {
    "id": "84de0d4a"
   },
   "source": [
    "### Adding Sentiment Feature in the dataset"
   ]
  },
  {
   "cell_type": "code",
   "execution_count": 282,
   "id": "c55c1512",
   "metadata": {
    "executionInfo": {
     "elapsed": 2,
     "status": "ok",
     "timestamp": 1669350977364,
     "user": {
      "displayName": "Hajar Mohammed",
      "userId": "05174407830062543531"
     },
     "user_tz": 360
    },
    "id": "c55c1512"
   },
   "outputs": [],
   "source": [
    "#Create a function to get the polarity\n",
    "def getPolarity(text):\n",
    "    return TextBlob(text).sentiment.polarity"
   ]
  },
  {
   "cell_type": "code",
   "execution_count": 283,
   "id": "3d16134e",
   "metadata": {
    "executionInfo": {
     "elapsed": 979,
     "status": "ok",
     "timestamp": 1669350978342,
     "user": {
      "displayName": "Hajar Mohammed",
      "userId": "05174407830062543531"
     },
     "user_tz": 360
    },
    "id": "3d16134e"
   },
   "outputs": [],
   "source": [
    "sop_df_prmry['polarity']=sop_df_prmry['text'].apply(lambda x:getPolarity(x))\n",
    "sop_df_scndry['polarity']=sop_df_scndry['text'].apply(lambda x:getPolarity(x))"
   ]
  },
  {
   "cell_type": "code",
   "execution_count": 284,
   "id": "a5f7fe53",
   "metadata": {
    "executionInfo": {
     "elapsed": 4,
     "status": "ok",
     "timestamp": 1669350978342,
     "user": {
      "displayName": "Hajar Mohammed",
      "userId": "05174407830062543531"
     },
     "user_tz": 360
    },
    "id": "a5f7fe53"
   },
   "outputs": [],
   "source": [
    "#Assinig 1,0 label to sentiment based on its ploarity: 1 for positive and 0 for negative sentiment\n",
    "def getSentimentTag(score):\n",
    "    if score < 0:\n",
    "        return 0\n",
    "    elif score >=0:\n",
    "        return 1"
   ]
  },
  {
   "cell_type": "code",
   "execution_count": 285,
   "id": "f8df5cac",
   "metadata": {
    "executionInfo": {
     "elapsed": 3,
     "status": "ok",
     "timestamp": 1669350978342,
     "user": {
      "displayName": "Hajar Mohammed",
      "userId": "05174407830062543531"
     },
     "user_tz": 360
    },
    "id": "f8df5cac"
   },
   "outputs": [],
   "source": [
    "sop_df_prmry['sentiment_tag']=sop_df_prmry['polarity'].apply(lambda x:getSentimentTag(x))\n",
    "sop_df_scndry['sentiment_tag']=sop_df_scndry['polarity'].apply(lambda x:getSentimentTag(x))"
   ]
  },
  {
   "cell_type": "markdown",
   "id": "2dced74f",
   "metadata": {
    "id": "2dced74f"
   },
   "source": [
    "### Adding Emotion Feature in the dataset"
   ]
  },
  {
   "cell_type": "code",
   "execution_count": 286,
   "id": "152e14fd",
   "metadata": {
    "colab": {
     "base_uri": "https://localhost:8080/"
    },
    "executionInfo": {
     "elapsed": 9150,
     "status": "ok",
     "timestamp": 1669350987490,
     "user": {
      "displayName": "Hajar Mohammed",
      "userId": "05174407830062543531"
     },
     "user_tz": 360
    },
    "id": "152e14fd",
    "outputId": "b6e7be63-b786-45f6-e59f-58f5b54d364e"
   },
   "outputs": [
    {
     "name": "stderr",
     "output_type": "stream",
     "text": [
      "All model checkpoint layers were used when initializing TFRobertaForSequenceClassification.\n",
      "\n",
      "All the layers of TFRobertaForSequenceClassification were initialized from the model checkpoint at arpanghoshal/EmoRoBERTa.\n",
      "If your task is similar to the task the model of the checkpoint was trained on, you can already use TFRobertaForSequenceClassification for predictions without further training.\n"
     ]
    }
   ],
   "source": [
    "#installing transformers model to find emotion in the text\n",
    "! pip install transformers -q\n",
    "from transformers import pipeline\n",
    "emotion = pipeline('sentiment-analysis', model='arpanghoshal/EmoRoBERTa')"
   ]
  },
  {
   "cell_type": "code",
   "execution_count": 287,
   "id": "906caac3",
   "metadata": {
    "executionInfo": {
     "elapsed": 1115361,
     "status": "ok",
     "timestamp": 1669352102847,
     "user": {
      "displayName": "Hajar Mohammed",
      "userId": "05174407830062543531"
     },
     "user_tz": 360
    },
    "id": "906caac3"
   },
   "outputs": [],
   "source": [
    "sop_df_prmry['Emotions']=sop_df_prmry['text'].apply(emotion)\n",
    "sop_df_scndry['Emotions']=sop_df_scndry['text'].apply(emotion)"
   ]
  },
  {
   "cell_type": "code",
   "execution_count": 288,
   "id": "a63a938e",
   "metadata": {
    "executionInfo": {
     "elapsed": 19,
     "status": "ok",
     "timestamp": 1669352102847,
     "user": {
      "displayName": "Hajar Mohammed",
      "userId": "05174407830062543531"
     },
     "user_tz": 360
    },
    "id": "a63a938e"
   },
   "outputs": [],
   "source": [
    "def extract_em(em_dict):\n",
    "  return em_dict[0]['label'] \n",
    "  # print(em_dict[0]['label'])"
   ]
  },
  {
   "cell_type": "code",
   "execution_count": 289,
   "id": "6ba16c83",
   "metadata": {
    "executionInfo": {
     "elapsed": 19,
     "status": "ok",
     "timestamp": 1669352102848,
     "user": {
      "displayName": "Hajar Mohammed",
      "userId": "05174407830062543531"
     },
     "user_tz": 360
    },
    "id": "6ba16c83"
   },
   "outputs": [],
   "source": [
    "sop_df_prmry['Emotions_Label']=sop_df_prmry['Emotions'].apply(lambda x:extract_em(x))\n",
    "sop_df_scndry['Emotions_Label']=sop_df_scndry['Emotions'].apply(lambda x:extract_em(x))"
   ]
  },
  {
   "cell_type": "code",
   "execution_count": 290,
   "id": "1f0e5c27",
   "metadata": {
    "executionInfo": {
     "elapsed": 19,
     "status": "ok",
     "timestamp": 1669352102848,
     "user": {
      "displayName": "Hajar Mohammed",
      "userId": "05174407830062543531"
     },
     "user_tz": 360
    },
    "id": "1f0e5c27"
   },
   "outputs": [],
   "source": [
    "neg_feelings=['disapproval','confusion','annoyance','sadness','disappointment','anger','fear','nervousness','grief'\n",
    "'embarrassment','remorse']"
   ]
  },
  {
   "cell_type": "code",
   "execution_count": 291,
   "id": "db06d7fc",
   "metadata": {
    "executionInfo": {
     "elapsed": 18,
     "status": "ok",
     "timestamp": 1669352102848,
     "user": {
      "displayName": "Hajar Mohammed",
      "userId": "05174407830062543531"
     },
     "user_tz": 360
    },
    "id": "db06d7fc"
   },
   "outputs": [],
   "source": [
    "#assingning 1,0 label to emotions: 1 for positive feelings and 0 for negative feelings\n",
    "def emotion_label_to_number(emotion):\n",
    "    if emotion in neg_feelings:\n",
    "        return 0\n",
    "    else:\n",
    "        return 1"
   ]
  },
  {
   "cell_type": "code",
   "execution_count": 292,
   "id": "f49bbc91",
   "metadata": {
    "executionInfo": {
     "elapsed": 19,
     "status": "ok",
     "timestamp": 1669352102849,
     "user": {
      "displayName": "Hajar Mohammed",
      "userId": "05174407830062543531"
     },
     "user_tz": 360
    },
    "id": "f49bbc91"
   },
   "outputs": [],
   "source": [
    "sop_df_prmry['Emotion_jf']=sop_df_prmry['Emotions_Label'].apply(lambda x:emotion_label_to_number(x))\n",
    "sop_df_scndry['Emotion_jf']=sop_df_scndry['Emotions_Label'].apply(lambda x:emotion_label_to_number(x))"
   ]
  },
  {
   "cell_type": "code",
   "execution_count": 293,
   "id": "hXHbA9dlWlg5",
   "metadata": {
    "colab": {
     "base_uri": "https://localhost:8080/",
     "height": 832
    },
    "executionInfo": {
     "elapsed": 19,
     "status": "ok",
     "timestamp": 1669352102849,
     "user": {
      "displayName": "Hajar Mohammed",
      "userId": "05174407830062543531"
     },
     "user_tz": 360
    },
    "id": "hXHbA9dlWlg5",
    "outputId": "9308b84c-8f20-4bc6-995c-4795e7146fdc"
   },
   "outputs": [
    {
     "data": {
      "text/html": [
       "\n",
       "  <div id=\"df-4d5ee5df-c6b5-41a2-8443-9f8ef591b535\">\n",
       "    <div class=\"colab-df-container\">\n",
       "      <div>\n",
       "<style scoped>\n",
       "    .dataframe tbody tr th:only-of-type {\n",
       "        vertical-align: middle;\n",
       "    }\n",
       "\n",
       "    .dataframe tbody tr th {\n",
       "        vertical-align: top;\n",
       "    }\n",
       "\n",
       "    .dataframe thead th {\n",
       "        text-align: right;\n",
       "    }\n",
       "</style>\n",
       "<table border=\"1\" class=\"dataframe\">\n",
       "  <thead>\n",
       "    <tr style=\"text-align: right;\">\n",
       "      <th></th>\n",
       "      <th>text</th>\n",
       "      <th>label</th>\n",
       "      <th>cleaned_text</th>\n",
       "      <th>vaccination</th>\n",
       "      <th>polarity</th>\n",
       "      <th>sentiment_tag</th>\n",
       "      <th>Emotions</th>\n",
       "      <th>Emotions_Label</th>\n",
       "      <th>Emotion_jf</th>\n",
       "    </tr>\n",
       "  </thead>\n",
       "  <tbody>\n",
       "    <tr>\n",
       "      <th>0</th>\n",
       "      <td>Insist on vaccinations or make them stay home....</td>\n",
       "      <td>vaccination</td>\n",
       "      <td>insist on vaccinations or make them stay home ...</td>\n",
       "      <td>True</td>\n",
       "      <td>0.500000</td>\n",
       "      <td>1</td>\n",
       "      <td>[{'label': 'caring', 'score': 0.56821352243423...</td>\n",
       "      <td>caring</td>\n",
       "      <td>1</td>\n",
       "    </tr>\n",
       "    <tr>\n",
       "      <th>1</th>\n",
       "      <td>If employers can make a drug test mandatory as...</td>\n",
       "      <td>vaccination</td>\n",
       "      <td>if employers can make a drug test mandatory as...</td>\n",
       "      <td>True</td>\n",
       "      <td>0.000000</td>\n",
       "      <td>1</td>\n",
       "      <td>[{'label': 'neutral', 'score': 0.9972274899482...</td>\n",
       "      <td>neutral</td>\n",
       "      <td>1</td>\n",
       "    </tr>\n",
       "    <tr>\n",
       "      <th>2</th>\n",
       "      <td>Dozens to hundreds of people crowding together...</td>\n",
       "      <td>masking and distancing</td>\n",
       "      <td>dozens to hundreds of people crowding together...</td>\n",
       "      <td>False</td>\n",
       "      <td>-0.666667</td>\n",
       "      <td>0</td>\n",
       "      <td>[{'label': 'surprise', 'score': 0.995550274848...</td>\n",
       "      <td>surprise</td>\n",
       "      <td>1</td>\n",
       "    </tr>\n",
       "    <tr>\n",
       "      <th>3</th>\n",
       "      <td>If people were bleeding out their eyes and ear...</td>\n",
       "      <td>vaccination</td>\n",
       "      <td>if people were bleeding out their eyes and ear...</td>\n",
       "      <td>True</td>\n",
       "      <td>-0.063333</td>\n",
       "      <td>0</td>\n",
       "      <td>[{'label': 'neutral', 'score': 0.9403601884841...</td>\n",
       "      <td>neutral</td>\n",
       "      <td>1</td>\n",
       "    </tr>\n",
       "    <tr>\n",
       "      <th>4</th>\n",
       "      <td>Require them. Period.\\n\\nAll the good and dece...</td>\n",
       "      <td>vaccination</td>\n",
       "      <td>require them period all the good and decent pe...</td>\n",
       "      <td>True</td>\n",
       "      <td>0.188889</td>\n",
       "      <td>1</td>\n",
       "      <td>[{'label': 'approval', 'score': 0.992380499839...</td>\n",
       "      <td>approval</td>\n",
       "      <td>1</td>\n",
       "    </tr>\n",
       "    <tr>\n",
       "      <th>...</th>\n",
       "      <td>...</td>\n",
       "      <td>...</td>\n",
       "      <td>...</td>\n",
       "      <td>...</td>\n",
       "      <td>...</td>\n",
       "      <td>...</td>\n",
       "      <td>...</td>\n",
       "      <td>...</td>\n",
       "      <td>...</td>\n",
       "    </tr>\n",
       "    <tr>\n",
       "      <th>679</th>\n",
       "      <td>I went out for lunch yesterday with a friend. ...</td>\n",
       "      <td>masking and distancing</td>\n",
       "      <td>i went out for lunch yesterday with a friend i...</td>\n",
       "      <td>False</td>\n",
       "      <td>-0.081399</td>\n",
       "      <td>0</td>\n",
       "      <td>[{'label': 'anger', 'score': 0.8582791686058044}]</td>\n",
       "      <td>anger</td>\n",
       "      <td>0</td>\n",
       "    </tr>\n",
       "    <tr>\n",
       "      <th>680</th>\n",
       "      <td>Even a year and a half later, I don't understa...</td>\n",
       "      <td>masking and distancing</td>\n",
       "      <td>even a year and a half later i do not understa...</td>\n",
       "      <td>False</td>\n",
       "      <td>0.000661</td>\n",
       "      <td>1</td>\n",
       "      <td>[{'label': 'gratitude', 'score': 0.97042500972...</td>\n",
       "      <td>gratitude</td>\n",
       "      <td>1</td>\n",
       "    </tr>\n",
       "    <tr>\n",
       "      <th>681</th>\n",
       "      <td>Let me get this straight. Vaccinated people ar...</td>\n",
       "      <td>vaccination</td>\n",
       "      <td>let me get this straight vaccinated people are...</td>\n",
       "      <td>True</td>\n",
       "      <td>0.255000</td>\n",
       "      <td>1</td>\n",
       "      <td>[{'label': 'optimism', 'score': 0.806596636772...</td>\n",
       "      <td>optimism</td>\n",
       "      <td>1</td>\n",
       "    </tr>\n",
       "    <tr>\n",
       "      <th>682</th>\n",
       "      <td>I have not suffered from a cold or the flu for...</td>\n",
       "      <td>masking and distancing</td>\n",
       "      <td>i have not suffered from a cold or the flu for...</td>\n",
       "      <td>False</td>\n",
       "      <td>-0.300000</td>\n",
       "      <td>0</td>\n",
       "      <td>[{'label': 'approval', 'score': 0.989377140998...</td>\n",
       "      <td>approval</td>\n",
       "      <td>1</td>\n",
       "    </tr>\n",
       "    <tr>\n",
       "      <th>683</th>\n",
       "      <td>I cannot understand why people are still stand...</td>\n",
       "      <td>masking and distancing</td>\n",
       "      <td>i cannot understand why people are still stand...</td>\n",
       "      <td>False</td>\n",
       "      <td>0.094444</td>\n",
       "      <td>1</td>\n",
       "      <td>[{'label': 'approval', 'score': 0.760981798171...</td>\n",
       "      <td>approval</td>\n",
       "      <td>1</td>\n",
       "    </tr>\n",
       "  </tbody>\n",
       "</table>\n",
       "<p>684 rows × 9 columns</p>\n",
       "</div>\n",
       "      <button class=\"colab-df-convert\" onclick=\"convertToInteractive('df-4d5ee5df-c6b5-41a2-8443-9f8ef591b535')\"\n",
       "              title=\"Convert this dataframe to an interactive table.\"\n",
       "              style=\"display:none;\">\n",
       "        \n",
       "  <svg xmlns=\"http://www.w3.org/2000/svg\" height=\"24px\"viewBox=\"0 0 24 24\"\n",
       "       width=\"24px\">\n",
       "    <path d=\"M0 0h24v24H0V0z\" fill=\"none\"/>\n",
       "    <path d=\"M18.56 5.44l.94 2.06.94-2.06 2.06-.94-2.06-.94-.94-2.06-.94 2.06-2.06.94zm-11 1L8.5 8.5l.94-2.06 2.06-.94-2.06-.94L8.5 2.5l-.94 2.06-2.06.94zm10 10l.94 2.06.94-2.06 2.06-.94-2.06-.94-.94-2.06-.94 2.06-2.06.94z\"/><path d=\"M17.41 7.96l-1.37-1.37c-.4-.4-.92-.59-1.43-.59-.52 0-1.04.2-1.43.59L10.3 9.45l-7.72 7.72c-.78.78-.78 2.05 0 2.83L4 21.41c.39.39.9.59 1.41.59.51 0 1.02-.2 1.41-.59l7.78-7.78 2.81-2.81c.8-.78.8-2.07 0-2.86zM5.41 20L4 18.59l7.72-7.72 1.47 1.35L5.41 20z\"/>\n",
       "  </svg>\n",
       "      </button>\n",
       "      \n",
       "  <style>\n",
       "    .colab-df-container {\n",
       "      display:flex;\n",
       "      flex-wrap:wrap;\n",
       "      gap: 12px;\n",
       "    }\n",
       "\n",
       "    .colab-df-convert {\n",
       "      background-color: #E8F0FE;\n",
       "      border: none;\n",
       "      border-radius: 50%;\n",
       "      cursor: pointer;\n",
       "      display: none;\n",
       "      fill: #1967D2;\n",
       "      height: 32px;\n",
       "      padding: 0 0 0 0;\n",
       "      width: 32px;\n",
       "    }\n",
       "\n",
       "    .colab-df-convert:hover {\n",
       "      background-color: #E2EBFA;\n",
       "      box-shadow: 0px 1px 2px rgba(60, 64, 67, 0.3), 0px 1px 3px 1px rgba(60, 64, 67, 0.15);\n",
       "      fill: #174EA6;\n",
       "    }\n",
       "\n",
       "    [theme=dark] .colab-df-convert {\n",
       "      background-color: #3B4455;\n",
       "      fill: #D2E3FC;\n",
       "    }\n",
       "\n",
       "    [theme=dark] .colab-df-convert:hover {\n",
       "      background-color: #434B5C;\n",
       "      box-shadow: 0px 1px 3px 1px rgba(0, 0, 0, 0.15);\n",
       "      filter: drop-shadow(0px 1px 2px rgba(0, 0, 0, 0.3));\n",
       "      fill: #FFFFFF;\n",
       "    }\n",
       "  </style>\n",
       "\n",
       "      <script>\n",
       "        const buttonEl =\n",
       "          document.querySelector('#df-4d5ee5df-c6b5-41a2-8443-9f8ef591b535 button.colab-df-convert');\n",
       "        buttonEl.style.display =\n",
       "          google.colab.kernel.accessAllowed ? 'block' : 'none';\n",
       "\n",
       "        async function convertToInteractive(key) {\n",
       "          const element = document.querySelector('#df-4d5ee5df-c6b5-41a2-8443-9f8ef591b535');\n",
       "          const dataTable =\n",
       "            await google.colab.kernel.invokeFunction('convertToInteractive',\n",
       "                                                     [key], {});\n",
       "          if (!dataTable) return;\n",
       "\n",
       "          const docLinkHtml = 'Like what you see? Visit the ' +\n",
       "            '<a target=\"_blank\" href=https://colab.research.google.com/notebooks/data_table.ipynb>data table notebook</a>'\n",
       "            + ' to learn more about interactive tables.';\n",
       "          element.innerHTML = '';\n",
       "          dataTable['output_type'] = 'display_data';\n",
       "          await google.colab.output.renderOutput(dataTable, element);\n",
       "          const docLink = document.createElement('div');\n",
       "          docLink.innerHTML = docLinkHtml;\n",
       "          element.appendChild(docLink);\n",
       "        }\n",
       "      </script>\n",
       "    </div>\n",
       "  </div>\n",
       "  "
      ],
      "text/plain": [
       "                                                  text  \\\n",
       "0    Insist on vaccinations or make them stay home....   \n",
       "1    If employers can make a drug test mandatory as...   \n",
       "2    Dozens to hundreds of people crowding together...   \n",
       "3    If people were bleeding out their eyes and ear...   \n",
       "4    Require them. Period.\\n\\nAll the good and dece...   \n",
       "..                                                 ...   \n",
       "679  I went out for lunch yesterday with a friend. ...   \n",
       "680  Even a year and a half later, I don't understa...   \n",
       "681  Let me get this straight. Vaccinated people ar...   \n",
       "682  I have not suffered from a cold or the flu for...   \n",
       "683  I cannot understand why people are still stand...   \n",
       "\n",
       "                      label  \\\n",
       "0               vaccination   \n",
       "1               vaccination   \n",
       "2    masking and distancing   \n",
       "3               vaccination   \n",
       "4               vaccination   \n",
       "..                      ...   \n",
       "679  masking and distancing   \n",
       "680  masking and distancing   \n",
       "681             vaccination   \n",
       "682  masking and distancing   \n",
       "683  masking and distancing   \n",
       "\n",
       "                                          cleaned_text  vaccination  polarity  \\\n",
       "0    insist on vaccinations or make them stay home ...         True  0.500000   \n",
       "1    if employers can make a drug test mandatory as...         True  0.000000   \n",
       "2    dozens to hundreds of people crowding together...        False -0.666667   \n",
       "3    if people were bleeding out their eyes and ear...         True -0.063333   \n",
       "4    require them period all the good and decent pe...         True  0.188889   \n",
       "..                                                 ...          ...       ...   \n",
       "679  i went out for lunch yesterday with a friend i...        False -0.081399   \n",
       "680  even a year and a half later i do not understa...        False  0.000661   \n",
       "681  let me get this straight vaccinated people are...         True  0.255000   \n",
       "682  i have not suffered from a cold or the flu for...        False -0.300000   \n",
       "683  i cannot understand why people are still stand...        False  0.094444   \n",
       "\n",
       "     sentiment_tag                                           Emotions  \\\n",
       "0                1  [{'label': 'caring', 'score': 0.56821352243423...   \n",
       "1                1  [{'label': 'neutral', 'score': 0.9972274899482...   \n",
       "2                0  [{'label': 'surprise', 'score': 0.995550274848...   \n",
       "3                0  [{'label': 'neutral', 'score': 0.9403601884841...   \n",
       "4                1  [{'label': 'approval', 'score': 0.992380499839...   \n",
       "..             ...                                                ...   \n",
       "679              0  [{'label': 'anger', 'score': 0.8582791686058044}]   \n",
       "680              1  [{'label': 'gratitude', 'score': 0.97042500972...   \n",
       "681              1  [{'label': 'optimism', 'score': 0.806596636772...   \n",
       "682              0  [{'label': 'approval', 'score': 0.989377140998...   \n",
       "683              1  [{'label': 'approval', 'score': 0.760981798171...   \n",
       "\n",
       "    Emotions_Label  Emotion_jf  \n",
       "0           caring           1  \n",
       "1          neutral           1  \n",
       "2         surprise           1  \n",
       "3          neutral           1  \n",
       "4         approval           1  \n",
       "..             ...         ...  \n",
       "679          anger           0  \n",
       "680      gratitude           1  \n",
       "681       optimism           1  \n",
       "682       approval           1  \n",
       "683       approval           1  \n",
       "\n",
       "[684 rows x 9 columns]"
      ]
     },
     "execution_count": 293,
     "metadata": {},
     "output_type": "execute_result"
    }
   ],
   "source": [
    "sop_df_prmry"
   ]
  },
  {
   "cell_type": "markdown",
   "id": "c1f42a16",
   "metadata": {
    "id": "c1f42a16"
   },
   "source": [
    "### Regular expression"
   ]
  },
  {
   "cell_type": "markdown",
   "id": "BfgVPl8wM7Q7",
   "metadata": {
    "id": "BfgVPl8wM7Q7"
   },
   "source": [
    "I apply regular expression to add third feature in the datasets. For this purpose, I searched for vaccnination words in the texts. If a text has vaccine word I assigned it a value 1 and assigned 0 if a text has not have vaccine word\n"
   ]
  },
  {
   "cell_type": "code",
   "execution_count": 294,
   "id": "CFpFiTScAh4k",
   "metadata": {
    "executionInfo": {
     "elapsed": 8,
     "status": "ok",
     "timestamp": 1669352102849,
     "user": {
      "displayName": "Hajar Mohammed",
      "userId": "05174407830062543531"
     },
     "user_tz": 360
    },
    "id": "CFpFiTScAh4k"
   },
   "outputs": [],
   "source": [
    "import re\n",
    "\n",
    "def feature_function(text):\n",
    "    # Flags texts that start with three capitalized words\n",
    "    # (Not a very useful NLP feature for this task!)\n",
    "    return int(bool(re.search(\"Vacci\\w+|vacci\\w+\", text)))\n",
    "    \n",
    "\n",
    "#new_feature_array = sop_df_prmry.text.apply(feature_function)\n",
    "sop_df_prmry['reg_exp']=sop_df_prmry['text'].apply(lambda x:feature_function(x))\n",
    "sop_df_scndry['reg_exp']=sop_df_scndry['text'].apply(lambda x:feature_function(x))\n"
   ]
  },
  {
   "cell_type": "markdown",
   "id": "TUikRKOsNoU8",
   "metadata": {
    "id": "TUikRKOsNoU8"
   },
   "source": [
    "Assigning the values of 1,0 to text according to occurrence of word vaccine in."
   ]
  },
  {
   "cell_type": "markdown",
   "id": "ZISDGtmAN6Sz",
   "metadata": {
    "id": "ZISDGtmAN6Sz"
   },
   "source": [
    "# Binary Classification"
   ]
  },
  {
   "cell_type": "markdown",
   "id": "sQEbx7GTOHh_",
   "metadata": {
    "id": "sQEbx7GTOHh_"
   },
   "source": [
    "We Picked up vaccination as our target lable, so put True where vaccination lable is present and put false where the vaccination label is not present in the target feature"
   ]
  },
  {
   "cell_type": "code",
   "execution_count": 295,
   "id": "00a61689",
   "metadata": {
    "executionInfo": {
     "elapsed": 8,
     "status": "ok",
     "timestamp": 1669352102849,
     "user": {
      "displayName": "Hajar Mohammed",
      "userId": "05174407830062543531"
     },
     "user_tz": 360
    },
    "id": "00a61689"
   },
   "outputs": [],
   "source": [
    "sop_df_prmry['vaccination']=sop_df_prmry['label']=='vaccination'\n",
    "sop_df_scndry['vaccination']=sop_df_scndry['label']=='vaccination'"
   ]
  },
  {
   "cell_type": "code",
   "execution_count": 296,
   "id": "ibY9cvY1XY24",
   "metadata": {
    "executionInfo": {
     "elapsed": 548,
     "status": "ok",
     "timestamp": 1669352103390,
     "user": {
      "displayName": "Hajar Mohammed",
      "userId": "05174407830062543531"
     },
     "user_tz": 360
    },
    "id": "ibY9cvY1XY24"
   },
   "outputs": [],
   "source": [
    "sop_df_prmry['cleaned_text']=sop_df_prmry['text'].apply(lambda x:text_cleaning(x))\n",
    "sop_df_scndry['cleaned_text']=sop_df_scndry['text'].apply(lambda x:text_cleaning(x))"
   ]
  },
  {
   "cell_type": "code",
   "execution_count": 297,
   "id": "ZoH13ifcBMJM",
   "metadata": {
    "executionInfo": {
     "elapsed": 6,
     "status": "ok",
     "timestamp": 1669352103390,
     "user": {
      "displayName": "Hajar Mohammed",
      "userId": "05174407830062543531"
     },
     "user_tz": 360
    },
    "id": "ZoH13ifcBMJM"
   },
   "outputs": [],
   "source": [
    "sop_df_prmry=sop_df_prmry[['cleaned_text','sentiment_tag','reg_exp','Emotion_jf','vaccination']]\n",
    "sop_df_scndry=sop_df_scndry[['cleaned_text','sentiment_tag','reg_exp','Emotion_jf','vaccination']]"
   ]
  },
  {
   "cell_type": "code",
   "execution_count": 298,
   "id": "dbf43612",
   "metadata": {
    "executionInfo": {
     "elapsed": 5,
     "status": "ok",
     "timestamp": 1669352103390,
     "user": {
      "displayName": "Hajar Mohammed",
      "userId": "05174407830062543531"
     },
     "user_tz": 360
    },
    "id": "dbf43612"
   },
   "outputs": [],
   "source": [
    "X=sop_df_prmry.drop(['vaccination'],axis=1)\n",
    "y=sop_df_prmry['vaccination']"
   ]
  },
  {
   "cell_type": "code",
   "execution_count": 299,
   "id": "41f501cf",
   "metadata": {
    "executionInfo": {
     "elapsed": 6,
     "status": "ok",
     "timestamp": 1669352103391,
     "user": {
      "displayName": "Hajar Mohammed",
      "userId": "05174407830062543531"
     },
     "user_tz": 360
    },
    "id": "41f501cf"
   },
   "outputs": [],
   "source": [
    "X_secondary=sop_df_scndry.drop(['vaccination'],axis=1)\n",
    "y_secondary=sop_df_scndry['vaccination']"
   ]
  },
  {
   "cell_type": "markdown",
   "id": "ZCaYSG08ONL_",
   "metadata": {
    "id": "ZCaYSG08ONL_"
   },
   "source": [
    "### Text Vectorization using Bag of Words"
   ]
  },
  {
   "cell_type": "code",
   "execution_count": 300,
   "id": "bf339ead",
   "metadata": {
    "executionInfo": {
     "elapsed": 223,
     "status": "ok",
     "timestamp": 1669352103608,
     "user": {
      "displayName": "Hajar Mohammed",
      "userId": "05174407830062543531"
     },
     "user_tz": 360
    },
    "id": "bf339ead"
   },
   "outputs": [],
   "source": [
    "from sklearn.feature_extraction.text import CountVectorizer\n",
    "count_vect = CountVectorizer()\n",
    "text_vect = count_vect.fit_transform(X.cleaned_text)\n",
    "text_vect_secondary=count_vect.transform(X_secondary.cleaned_text)"
   ]
  },
  {
   "cell_type": "code",
   "execution_count": 301,
   "id": "0be19acd",
   "metadata": {
    "executionInfo": {
     "elapsed": 3,
     "status": "ok",
     "timestamp": 1669352103608,
     "user": {
      "displayName": "Hajar Mohammed",
      "userId": "05174407830062543531"
     },
     "user_tz": 360
    },
    "id": "0be19acd"
   },
   "outputs": [],
   "source": [
    "numeric_feat = X[[\"sentiment_tag\", \"reg_exp\", \"Emotion_jf\"]].values"
   ]
  },
  {
   "cell_type": "code",
   "execution_count": 302,
   "id": "2753a95f",
   "metadata": {
    "executionInfo": {
     "elapsed": 3,
     "status": "ok",
     "timestamp": 1669352103609,
     "user": {
      "displayName": "Hajar Mohammed",
      "userId": "05174407830062543531"
     },
     "user_tz": 360
    },
    "id": "2753a95f"
   },
   "outputs": [],
   "source": [
    "numeric_feat_sec=X_secondary[[\"sentiment_tag\", \"reg_exp\", \"Emotion_jf\"]].values"
   ]
  },
  {
   "cell_type": "code",
   "execution_count": 303,
   "id": "cea7fef3",
   "metadata": {
    "executionInfo": {
     "elapsed": 3,
     "status": "ok",
     "timestamp": 1669352103609,
     "user": {
      "displayName": "Hajar Mohammed",
      "userId": "05174407830062543531"
     },
     "user_tz": 360
    },
    "id": "cea7fef3"
   },
   "outputs": [],
   "source": [
    "X = np.hstack([text_vect.toarray(), numeric_feat])"
   ]
  },
  {
   "cell_type": "code",
   "execution_count": 304,
   "id": "12892e8b",
   "metadata": {
    "executionInfo": {
     "elapsed": 135,
     "status": "ok",
     "timestamp": 1669352103741,
     "user": {
      "displayName": "Hajar Mohammed",
      "userId": "05174407830062543531"
     },
     "user_tz": 360
    },
    "id": "12892e8b"
   },
   "outputs": [],
   "source": [
    "X_secondary=np.hstack([text_vect_secondary.toarray(), numeric_feat_sec])"
   ]
  },
  {
   "cell_type": "markdown",
   "id": "F83-H-UlOXpd",
   "metadata": {
    "id": "F83-H-UlOXpd"
   },
   "source": [
    "Splitting PRIMARY Data into 70% Training and 30% Testing Data"
   ]
  },
  {
   "cell_type": "code",
   "execution_count": 305,
   "id": "dfd23c21",
   "metadata": {
    "executionInfo": {
     "elapsed": 116,
     "status": "ok",
     "timestamp": 1669352103855,
     "user": {
      "displayName": "Hajar Mohammed",
      "userId": "05174407830062543531"
     },
     "user_tz": 360
    },
    "id": "dfd23c21"
   },
   "outputs": [],
   "source": [
    "X_train,X_test,y_train,y_test=train_test_split(X,y,test_size=0.3,random_state=123, stratify=y)"
   ]
  },
  {
   "cell_type": "code",
   "execution_count": 306,
   "id": "ECbxCrdtZ4WY",
   "metadata": {
    "executionInfo": {
     "elapsed": 135,
     "status": "ok",
     "timestamp": 1669352103988,
     "user": {
      "displayName": "Hajar Mohammed",
      "userId": "05174407830062543531"
     },
     "user_tz": 360
    },
    "id": "ECbxCrdtZ4WY"
   },
   "outputs": [],
   "source": [
    "from imblearn.over_sampling import SMOTE   #package foe balancing the data\n",
    "sampler = SMOTE()\n",
    "X_train, y_train = sampler.fit_resample(X_train, y_train)  #balancing trainig and testing data"
   ]
  },
  {
   "cell_type": "code",
   "execution_count": 307,
   "id": "4m9Yom9LaFF9",
   "metadata": {
    "executionInfo": {
     "elapsed": 623,
     "status": "ok",
     "timestamp": 1669352104610,
     "user": {
      "displayName": "Hajar Mohammed",
      "userId": "05174407830062543531"
     },
     "user_tz": 360
    },
    "id": "4m9Yom9LaFF9"
   },
   "outputs": [],
   "source": [
    "from imblearn.over_sampling import SMOTE   #package foe balancing the data\n",
    "sampler = SMOTE()\n",
    "X_secondary, y_secondary = sampler.fit_resample(X_secondary, y_secondary)  #balancing trainig and testing data"
   ]
  },
  {
   "cell_type": "markdown",
   "id": "CrDIXgK7Og8z",
   "metadata": {
    "id": "CrDIXgK7Og8z"
   },
   "source": [
    "### Model Training"
   ]
  },
  {
   "cell_type": "code",
   "execution_count": 308,
   "id": "68e21e06",
   "metadata": {
    "colab": {
     "base_uri": "https://localhost:8080/"
    },
    "executionInfo": {
     "elapsed": 7,
     "status": "ok",
     "timestamp": 1669352104610,
     "user": {
      "displayName": "Hajar Mohammed",
      "userId": "05174407830062543531"
     },
     "user_tz": 360
    },
    "id": "68e21e06",
    "outputId": "0b4d04ae-627b-404f-d44f-371fd7c4ad5e"
   },
   "outputs": [
    {
     "data": {
      "text/plain": [
       "DecisionTreeClassifier()"
      ]
     },
     "execution_count": 308,
     "metadata": {},
     "output_type": "execute_result"
    }
   ],
   "source": [
    "from sklearn import tree\n",
    "clf = tree.DecisionTreeClassifier()\n",
    "clf.fit(X_train, y_train)"
   ]
  },
  {
   "cell_type": "markdown",
   "id": "43edc5bb",
   "metadata": {
    "id": "43edc5bb"
   },
   "source": [
    "### Model Accuracy on Primary Training Data"
   ]
  },
  {
   "cell_type": "code",
   "execution_count": 309,
   "id": "460e5971",
   "metadata": {
    "colab": {
     "base_uri": "https://localhost:8080/"
    },
    "executionInfo": {
     "elapsed": 6,
     "status": "ok",
     "timestamp": 1669352104610,
     "user": {
      "displayName": "Hajar Mohammed",
      "userId": "05174407830062543531"
     },
     "user_tz": 360
    },
    "id": "460e5971",
    "outputId": "c9082235-9734-414e-fa0c-f21fe73dd5b6"
   },
   "outputs": [
    {
     "data": {
      "text/plain": [
       "0.9682539682539683"
      ]
     },
     "execution_count": 309,
     "metadata": {},
     "output_type": "execute_result"
    }
   ],
   "source": [
    "clf.score(X_train,y_train)"
   ]
  },
  {
   "cell_type": "markdown",
   "id": "f7397e78",
   "metadata": {
    "id": "f7397e78"
   },
   "source": [
    "### Model Accuracy on Primary Test Data"
   ]
  },
  {
   "cell_type": "code",
   "execution_count": 310,
   "id": "5f95bb4b",
   "metadata": {
    "executionInfo": {
     "elapsed": 139,
     "status": "ok",
     "timestamp": 1669352104746,
     "user": {
      "displayName": "Hajar Mohammed",
      "userId": "05174407830062543531"
     },
     "user_tz": 360
    },
    "id": "5f95bb4b"
   },
   "outputs": [],
   "source": [
    "y_pred=clf.predict(X_test)"
   ]
  },
  {
   "cell_type": "code",
   "execution_count": 311,
   "id": "1977dfa1",
   "metadata": {
    "colab": {
     "base_uri": "https://localhost:8080/"
    },
    "executionInfo": {
     "elapsed": 7,
     "status": "ok",
     "timestamp": 1669352104746,
     "user": {
      "displayName": "Hajar Mohammed",
      "userId": "05174407830062543531"
     },
     "user_tz": 360
    },
    "id": "1977dfa1",
    "outputId": "66f4abb0-53db-4d16-fb95-799b35d5a8fe"
   },
   "outputs": [
    {
     "data": {
      "text/plain": [
       "0.8252427184466019"
      ]
     },
     "execution_count": 311,
     "metadata": {},
     "output_type": "execute_result"
    }
   ],
   "source": [
    "clf.score(X_test,y_test)"
   ]
  },
  {
   "cell_type": "markdown",
   "id": "49238108",
   "metadata": {
    "id": "49238108"
   },
   "source": [
    "### Model Accuracy on Secondary data"
   ]
  },
  {
   "cell_type": "code",
   "execution_count": 312,
   "id": "621ef759",
   "metadata": {
    "colab": {
     "base_uri": "https://localhost:8080/"
    },
    "executionInfo": {
     "elapsed": 7,
     "status": "ok",
     "timestamp": 1669352104747,
     "user": {
      "displayName": "Hajar Mohammed",
      "userId": "05174407830062543531"
     },
     "user_tz": 360
    },
    "id": "621ef759",
    "outputId": "0bb3a7dd-3cb8-48d0-ca50-f77874fcae0d"
   },
   "outputs": [
    {
     "data": {
      "text/plain": [
       "0.8538998835855646"
      ]
     },
     "execution_count": 312,
     "metadata": {},
     "output_type": "execute_result"
    }
   ],
   "source": [
    "clf.score(X_secondary,y_secondary)"
   ]
  },
  {
   "cell_type": "code",
   "execution_count": 312,
   "id": "Cm1kXiXLYWDR",
   "metadata": {
    "executionInfo": {
     "elapsed": 4,
     "status": "ok",
     "timestamp": 1669352104747,
     "user": {
      "displayName": "Hajar Mohammed",
      "userId": "05174407830062543531"
     },
     "user_tz": 360
    },
    "id": "Cm1kXiXLYWDR"
   },
   "outputs": [],
   "source": []
  }
 ],
 "metadata": {
  "colab": {
   "collapsed_sections": [
    "62b80390"
   ],
   "provenance": []
  },
  "gpuClass": "standard",
  "kernelspec": {
   "display_name": "Python 3",
   "language": "python",
   "name": "python3"
  },
  "language_info": {
   "codemirror_mode": {
    "name": "ipython",
    "version": 3
   },
   "file_extension": ".py",
   "mimetype": "text/x-python",
   "name": "python",
   "nbconvert_exporter": "python",
   "pygments_lexer": "ipython3",
   "version": "3.9.5"
  }
 },
 "nbformat": 4,
 "nbformat_minor": 5
}
