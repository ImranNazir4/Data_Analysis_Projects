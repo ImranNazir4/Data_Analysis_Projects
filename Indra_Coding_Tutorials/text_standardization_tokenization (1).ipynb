{
 "cells": [
  {
   "cell_type": "code",
   "execution_count": 8,
   "metadata": {
    "id": "E9hJB3PWw8BQ"
   },
   "outputs": [],
   "source": [
    "import re\n",
    "import nltk"
   ]
  },
  {
   "cell_type": "code",
   "execution_count": 9,
   "metadata": {
    "colab": {
     "base_uri": "https://localhost:8080/"
    },
    "id": "aKt7lrhVxVRZ",
    "outputId": "6f0b82bb-4d74-4846-885b-185c80afcd0b"
   },
   "outputs": [
    {
     "name": "stderr",
     "output_type": "stream",
     "text": [
      "[nltk_data] Downloading package wordnet to /root/nltk_data...\n",
      "[nltk_data]   Package wordnet is already up-to-date!\n",
      "[nltk_data] Downloading package stopwords to /root/nltk_data...\n",
      "[nltk_data]   Package stopwords is already up-to-date!\n"
     ]
    },
    {
     "data": {
      "text/plain": [
       "True"
      ]
     },
     "execution_count": 9,
     "metadata": {},
     "output_type": "execute_result"
    }
   ],
   "source": [
    "nltk.download('wordnet')\n",
    "nltk.download('stopwords')"
   ]
  },
  {
   "cell_type": "code",
   "execution_count": 22,
   "metadata": {
    "id": "fTR9Ji31wUKl"
   },
   "outputs": [],
   "source": [
    "from nltk.corpus import stopwords\n",
    "from nltk.stem import WordNetLemmatizer\n",
    "\n",
    "def text_standardization_lemma(text):\n",
    "    # Convert to lowercase\n",
    "    text = text.lower()\n",
    "    \n",
    "    # Remove non-alphanumeric characters and multiple spaces\n",
    "    text = re.sub(r'[^a-zA-Z0-9\\s]+', '', text)\n",
    "    text = re.sub('\\s+', ' ', text)\n",
    "    \n",
    "    # Remove stop words\n",
    "    stop_words = set(stopwords.words('english'))\n",
    "    words = text.split()\n",
    "    words = [word for word in words if word not in stop_words]\n",
    "    text = ' '.join(words)\n",
    "    \n",
    "    # Lemmatize words\n",
    "    lemmatizer = WordNetLemmatizer()\n",
    "    words = text.split()\n",
    "    words = [lemmatizer.lemmatize(word) for word in words]\n",
    "    text = ' '.join(words)\n",
    "    \n",
    "    return text\n"
   ]
  },
  {
   "cell_type": "code",
   "execution_count": 23,
   "metadata": {
    "colab": {
     "base_uri": "https://localhost:8080/",
     "height": 91
    },
    "id": "PGA0XW8cwWS1",
    "outputId": "ef5b3590-114c-4eac-a4fc-67d60067548d"
   },
   "outputs": [
    {
     "data": {
      "application/vnd.google.colaboratory.intrinsic+json": {
       "type": "string"
      },
      "text/plain": [
       "'the united nation say it ha documented dozen of case of summary execution of prisoner of war pow carried out by both russian and ukrainian force since february 2022 but admits it is far harder to get information from russia or territory under russian control than it is from ukrainian authority in a new report the un office of the high commissioner for human right ohchr say it ha documented the summary execution of 15 ukrainian pow by russian force in addition to the use of ukrainian pow a human shield the death of two wounded pow due to lack of medical care a well a torture among the case documented in the report is that of an officer of the ukrainian national guard tortured and then executed after refusing to hand over a password for entry to a radio station in mariupol in april 2022 in another case in september a wounded ukrainian serviceman wa shot three time in the chest and once in the head after being captured by fighter from the wagner mercenary group in a village south of bakhmut'"
      ]
     },
     "execution_count": 23,
     "metadata": {},
     "output_type": "execute_result"
    }
   ],
   "source": [
    "text_standardization_lemma(\"The United Nations says it has documented dozens of cases of summary executions of prisoners of war (POWs) carried out by both Russian and Ukrainian forces since February 2022, but admits it is far harder to get information from Russia, or territories under Russian control than it is from Ukrainian authorities. In a new report, the UN’s Office of the High Commissioner for Human Rights (OHCHR) says it has documented the summary execution of 15 Ukrainian POWs by Russian forces, in addition to the use of Ukrainian POWs as human shields, the death of two wounded POWs due to lack of medical care, as well as torture. Among the cases documented in the report is that of an officer of the Ukrainian National Guard tortured and then executed after refusing to hand over a password for entry to a radio station in Mariupol in April 2022. In another case, in September, a wounded Ukrainian serviceman was shot three times in the chest and once in the head after being captured by fighters from the Wagner mercenary group in a village south of Bakhmut.\")"
   ]
  },
  {
   "cell_type": "code",
   "execution_count": 24,
   "metadata": {
    "id": "P_w5Sjx9wsks"
   },
   "outputs": [],
   "source": [
    "import re\n",
    "from nltk.corpus import stopwords\n",
    "from nltk.stem import SnowballStemmer\n",
    "\n",
    "def text_standardization_stem(text):\n",
    "    # Convert to lowercase\n",
    "    text = text.lower()\n",
    "    \n",
    "    # Remove non-alphanumeric characters and multiple spaces\n",
    "    text = re.sub(r'[^a-zA-Z0-9\\s]+', '', text)\n",
    "    text = re.sub('\\s+', ' ', text)\n",
    "    \n",
    "    # Remove stop words\n",
    "    stop_words = set(stopwords.words('english'))\n",
    "    words = text.split()\n",
    "    words = [word for word in words if word not in stop_words]\n",
    "    text = ' '.join(words)\n",
    "    \n",
    "    # Stem words\n",
    "    stemmer = SnowballStemmer('english')\n",
    "    words = text.split()\n",
    "    words = [stemmer.stem(word) for word in words]\n",
    "    text = ' '.join(words)\n",
    "    \n",
    "    return text\n"
   ]
  },
  {
   "cell_type": "code",
   "execution_count": 25,
   "metadata": {
    "colab": {
     "base_uri": "https://localhost:8080/",
     "height": 91
    },
    "id": "aNla7KZ3x-s5",
    "outputId": "f8ab547b-d900-40f6-fd73-7678050ba1c9"
   },
   "outputs": [
    {
     "data": {
      "application/vnd.google.colaboratory.intrinsic+json": {
       "type": "string"
      },
      "text/plain": [
       "'the unit nation say it has document dozen of case of summari execut of prison of war pow carri out by both russian and ukrainian forc sinc februari 2022 but admit it is far harder to get inform from russia or territori under russian control than it is from ukrainian author in a new report the un offic of the high commission for human right ohchr say it has document the summari execut of 15 ukrainian pow by russian forc in addit to the use of ukrainian pow as human shield the death of two wound pow due to lack of medic care as well as tortur among the case document in the report is that of an offic of the ukrainian nation guard tortur and then execut after refus to hand over a password for entri to a radio station in mariupol in april 2022 in anoth case in septemb a wound ukrainian serviceman was shot three time in the chest and onc in the head after be captur by fighter from the wagner mercenari group in a villag south of bakhmut'"
      ]
     },
     "execution_count": 25,
     "metadata": {},
     "output_type": "execute_result"
    }
   ],
   "source": [
    "text_standardization_stem(\"The United Nations says it has documented dozens of cases of summary executions of prisoners of war (POWs) carried out by both Russian and Ukrainian forces since February 2022, but admits it is far harder to get information from Russia, or territories under Russian control than it is from Ukrainian authorities. In a new report, the UN’s Office of the High Commissioner for Human Rights (OHCHR) says it has documented the summary execution of 15 Ukrainian POWs by Russian forces, in addition to the use of Ukrainian POWs as human shields, the death of two wounded POWs due to lack of medical care, as well as torture. Among the cases documented in the report is that of an officer of the Ukrainian National Guard tortured and then executed after refusing to hand over a password for entry to a radio station in Mariupol in April 2022. In another case, in September, a wounded Ukrainian serviceman was shot three times in the chest and once in the head after being captured by fighters from the Wagner mercenary group in a village south of Bakhmut.\")"
   ]
  },
  {
   "cell_type": "code",
   "execution_count": 28,
   "metadata": {
    "id": "tYzEynt92JY4"
   },
   "outputs": [],
   "source": [
    "# Tokenization Sample Code"
   ]
  },
  {
   "cell_type": "code",
   "execution_count": null,
   "metadata": {
    "colab": {
     "base_uri": "https://localhost:8080/"
    },
    "id": "nrFRemdn2RyX",
    "outputId": "03a7ece2-18e0-40bc-ef3f-8c6110d9e302"
   },
   "outputs": [
    {
     "name": "stderr",
     "output_type": "stream",
     "text": [
      "[nltk_data] Downloading package punkt to /root/nltk_data...\n",
      "[nltk_data]   Unzipping tokenizers/punkt.zip.\n"
     ]
    },
    {
     "data": {
      "text/plain": [
       "True"
      ]
     },
     "execution_count": 10,
     "metadata": {},
     "output_type": "execute_result"
    }
   ],
   "source": [
    "nltk.download('punkt')"
   ]
  },
  {
   "cell_type": "code",
   "execution_count": null,
   "metadata": {
    "colab": {
     "base_uri": "https://localhost:8080/"
    },
    "id": "nWDbZ9n6yACz",
    "outputId": "a32198b4-b21b-4aeb-d497-8ecf27b03e39"
   },
   "outputs": [
    {
     "name": "stdout",
     "output_type": "stream",
     "text": [
      "['Tokenization', 'is', 'the', 'process', 'of', 'splitting', 'text', 'into', 'individual', 'words', 'or', 'groups', 'of', 'words', ',', 'known', 'as', 'tokens', '.']\n"
     ]
    }
   ],
   "source": [
    "import nltk\n",
    "\n",
    "# Sample text\n",
    "text = \"Tokenization is the process of splitting text into individual words or groups of words, known as tokens.\"\n",
    "\n",
    "# Tokenize the text\n",
    "tokens = nltk.word_tokenize(text)\n",
    "\n",
    "# Print the tokens\n",
    "print(tokens)\n"
   ]
  },
  {
   "cell_type": "code",
   "execution_count": null,
   "metadata": {
    "id": "DNDHfsss2MuT"
   },
   "outputs": [],
   "source": []
  }
 ],
 "metadata": {
  "colab": {
   "provenance": []
  },
  "kernelspec": {
   "display_name": "Python 3",
   "language": "python",
   "name": "python3"
  },
  "language_info": {
   "codemirror_mode": {
    "name": "ipython",
    "version": 3
   },
   "file_extension": ".py",
   "mimetype": "text/x-python",
   "name": "python",
   "nbconvert_exporter": "python",
   "pygments_lexer": "ipython3",
   "version": "3.9.5"
  }
 },
 "nbformat": 4,
 "nbformat_minor": 1
}
