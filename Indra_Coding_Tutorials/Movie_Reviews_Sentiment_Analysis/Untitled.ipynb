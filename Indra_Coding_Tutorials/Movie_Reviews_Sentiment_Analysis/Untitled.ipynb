{
 "cells": [
  {
   "cell_type": "markdown",
   "id": "7ee8ddda",
   "metadata": {},
   "source": [
    "# Activity Conclusion"
   ]
  },
  {
   "cell_type": "markdown",
   "id": "1662c051",
   "metadata": {},
   "source": [
    "After completion of this activity i got following results on sentiment classification by naives bayes"
   ]
  },
  {
   "cell_type": "markdown",
   "id": "8c86d0c6",
   "metadata": {},
   "source": [
    "Precision: 0.805"
   ]
  },
  {
   "cell_type": "markdown",
   "id": "029a203a",
   "metadata": {},
   "source": [
    "Recall: Recall: 0.809"
   ]
  },
  {
   "cell_type": "markdown",
   "id": "5cbe4335",
   "metadata": {},
   "source": [
    "F1 Score: 0.807"
   ]
  },
  {
   "cell_type": "markdown",
   "id": "95985bfe",
   "metadata": {},
   "source": [
    "Training Data Accuracy: 0.984375"
   ]
  },
  {
   "cell_type": "markdown",
   "id": "b0cff0db",
   "metadata": {},
   "source": [
    "Testing Data Accuracy: 0.807"
   ]
  },
  {
   "cell_type": "markdown",
   "id": "936fd7b4",
   "metadata": {},
   "source": [
    "Smothing Method: Lapplace Smothing Method"
   ]
  },
  {
   "cell_type": "markdown",
   "id": "8ebc119f",
   "metadata": {},
   "source": [
    "Did not used any other method."
   ]
  },
  {
   "cell_type": "markdown",
   "id": "f0675a52",
   "metadata": {},
   "source": [
    "# Necessary Dependencies"
   ]
  },
  {
   "cell_type": "code",
   "execution_count": 4,
   "id": "3b05f43a",
   "metadata": {},
   "outputs": [],
   "source": [
    "import pandas as pd     #packages for data analysis\n",
    "import neattext as nt   #package for text cleaning\n",
    "import seaborn as sns   #package for data visualization\n",
    "from sklearn.feature_extraction.text import CountVectorizer  #importing bag of words -> for converting text into vectors\n",
    "import os   #for dealing with system file paths\n",
    "from sklearn.model_selection import train_test_split\n",
    "from sklearn.metrics import precision_score, recall_score, f1_score, accuracy_score"
   ]
  },
  {
   "cell_type": "markdown",
   "id": "0f19c682",
   "metadata": {},
   "source": [
    "# Data Preparation"
   ]
  },
  {
   "cell_type": "markdown",
   "id": "965f7a6c",
   "metadata": {},
   "source": [
    "### Reading the Postive Review Files"
   ]
  },
  {
   "cell_type": "code",
   "execution_count": 82,
   "id": "926ca008",
   "metadata": {},
   "outputs": [],
   "source": [
    "ptive_reviews_files=os.listdir('./movie_reviews/pos/')"
   ]
  },
  {
   "cell_type": "code",
   "execution_count": 83,
   "id": "52f38eee",
   "metadata": {},
   "outputs": [],
   "source": [
    "files_lst=[]"
   ]
  },
  {
   "cell_type": "code",
   "execution_count": 84,
   "id": "013c32dc",
   "metadata": {},
   "outputs": [],
   "source": [
    "for i in ptive_reviews_files:\n",
    "#     print(i)\n",
    "    f=open('./pos/'+i,'r')\n",
    "    f=f.read()\n",
    "    files_lst.append(f)"
   ]
  },
  {
   "cell_type": "code",
   "execution_count": 85,
   "id": "8ecc5409",
   "metadata": {},
   "outputs": [],
   "source": [
    "ptive_reviews=pd.DataFrame(files_lst)\n",
    "ptive_reviews['Sentiment']=1\n",
    "ptive_reviews.columns=['review text','sentiment']"
   ]
  },
  {
   "cell_type": "markdown",
   "id": "802c74c1",
   "metadata": {},
   "source": [
    "### Reading the Negative Review Files"
   ]
  },
  {
   "cell_type": "code",
   "execution_count": 86,
   "id": "e0ed5de2",
   "metadata": {},
   "outputs": [],
   "source": [
    "ntive_reviews=os.listdir('./movie_reviews/neg/')"
   ]
  },
  {
   "cell_type": "code",
   "execution_count": 87,
   "id": "c7645a2e",
   "metadata": {},
   "outputs": [],
   "source": [
    "files_lst=[]"
   ]
  },
  {
   "cell_type": "code",
   "execution_count": 88,
   "id": "5aa417bc",
   "metadata": {},
   "outputs": [],
   "source": [
    "for i in ntive_reviews:\n",
    "#     print(i)\n",
    "    f=open('./neg/'+i,'r')\n",
    "    f=f.read()\n",
    "    files_lst.append(f)"
   ]
  },
  {
   "cell_type": "code",
   "execution_count": 89,
   "id": "f279a8db",
   "metadata": {},
   "outputs": [],
   "source": [
    "ntive_reviews=pd.DataFrame(files_lst)\n",
    "ntive_reviews['Sentiment']=0\n",
    "ntive_reviews.columns=['review text','sentiment']"
   ]
  },
  {
   "cell_type": "markdown",
   "id": "4eeeaed0",
   "metadata": {},
   "source": [
    "## Merging both Positve and Negative Files"
   ]
  },
  {
   "cell_type": "code",
   "execution_count": 90,
   "id": "ef484879",
   "metadata": {},
   "outputs": [],
   "source": [
    "reviews_df=pd.concat([ptive_reviews,ntive_reviews])"
   ]
  },
  {
   "cell_type": "markdown",
   "id": "94de1e67",
   "metadata": {},
   "source": [
    "### View of Final Data"
   ]
  },
  {
   "cell_type": "code",
   "execution_count": 91,
   "id": "f6021506",
   "metadata": {},
   "outputs": [
    {
     "data": {
      "text/html": [
       "<div>\n",
       "<style scoped>\n",
       "    .dataframe tbody tr th:only-of-type {\n",
       "        vertical-align: middle;\n",
       "    }\n",
       "\n",
       "    .dataframe tbody tr th {\n",
       "        vertical-align: top;\n",
       "    }\n",
       "\n",
       "    .dataframe thead th {\n",
       "        text-align: right;\n",
       "    }\n",
       "</style>\n",
       "<table border=\"1\" class=\"dataframe\">\n",
       "  <thead>\n",
       "    <tr style=\"text-align: right;\">\n",
       "      <th></th>\n",
       "      <th>review text</th>\n",
       "      <th>sentiment</th>\n",
       "    </tr>\n",
       "  </thead>\n",
       "  <tbody>\n",
       "    <tr>\n",
       "      <th>0</th>\n",
       "      <td>films adapted from comic books have had plenty...</td>\n",
       "      <td>1</td>\n",
       "    </tr>\n",
       "    <tr>\n",
       "      <th>1</th>\n",
       "      <td>every now and then a movie comes along from a ...</td>\n",
       "      <td>1</td>\n",
       "    </tr>\n",
       "    <tr>\n",
       "      <th>2</th>\n",
       "      <td>you've got mail works alot better than it dese...</td>\n",
       "      <td>1</td>\n",
       "    </tr>\n",
       "    <tr>\n",
       "      <th>3</th>\n",
       "      <td>\" jaws \" is a rare film that grabs your atten...</td>\n",
       "      <td>1</td>\n",
       "    </tr>\n",
       "    <tr>\n",
       "      <th>4</th>\n",
       "      <td>moviemaking is a lot like being the general ma...</td>\n",
       "      <td>1</td>\n",
       "    </tr>\n",
       "    <tr>\n",
       "      <th>...</th>\n",
       "      <td>...</td>\n",
       "      <td>...</td>\n",
       "    </tr>\n",
       "    <tr>\n",
       "      <th>995</th>\n",
       "      <td>if anything , \" stigmata \" should be taken as ...</td>\n",
       "      <td>0</td>\n",
       "    </tr>\n",
       "    <tr>\n",
       "      <th>996</th>\n",
       "      <td>john boorman's \" zardoz \" is a goofy cinematic...</td>\n",
       "      <td>0</td>\n",
       "    </tr>\n",
       "    <tr>\n",
       "      <th>997</th>\n",
       "      <td>the kids in the hall are an acquired taste . \\...</td>\n",
       "      <td>0</td>\n",
       "    </tr>\n",
       "    <tr>\n",
       "      <th>998</th>\n",
       "      <td>there was a time when john carpenter was a gre...</td>\n",
       "      <td>0</td>\n",
       "    </tr>\n",
       "    <tr>\n",
       "      <th>999</th>\n",
       "      <td>two party guys bob their heads to haddaway's d...</td>\n",
       "      <td>0</td>\n",
       "    </tr>\n",
       "  </tbody>\n",
       "</table>\n",
       "<p>2000 rows × 2 columns</p>\n",
       "</div>"
      ],
      "text/plain": [
       "                                           review text  sentiment\n",
       "0    films adapted from comic books have had plenty...          1\n",
       "1    every now and then a movie comes along from a ...          1\n",
       "2    you've got mail works alot better than it dese...          1\n",
       "3     \" jaws \" is a rare film that grabs your atten...          1\n",
       "4    moviemaking is a lot like being the general ma...          1\n",
       "..                                                 ...        ...\n",
       "995  if anything , \" stigmata \" should be taken as ...          0\n",
       "996  john boorman's \" zardoz \" is a goofy cinematic...          0\n",
       "997  the kids in the hall are an acquired taste . \\...          0\n",
       "998  there was a time when john carpenter was a gre...          0\n",
       "999  two party guys bob their heads to haddaway's d...          0\n",
       "\n",
       "[2000 rows x 2 columns]"
      ]
     },
     "execution_count": 91,
     "metadata": {},
     "output_type": "execute_result"
    }
   ],
   "source": [
    "reviews_df"
   ]
  },
  {
   "cell_type": "markdown",
   "id": "53e9ebca",
   "metadata": {},
   "source": [
    "### Shape of the Data"
   ]
  },
  {
   "cell_type": "code",
   "execution_count": 92,
   "id": "2dd25cd9",
   "metadata": {},
   "outputs": [
    {
     "data": {
      "text/plain": [
       "(2000, 2)"
      ]
     },
     "execution_count": 92,
     "metadata": {},
     "output_type": "execute_result"
    }
   ],
   "source": [
    "reviews_df.shape"
   ]
  },
  {
   "cell_type": "markdown",
   "id": "da33c286",
   "metadata": {},
   "source": [
    "# Distribution of Sentiments"
   ]
  },
  {
   "cell_type": "code",
   "execution_count": 93,
   "id": "fe3ca5da",
   "metadata": {},
   "outputs": [
    {
     "name": "stderr",
     "output_type": "stream",
     "text": [
      "c:\\users\\zee tech\\appdata\\local\\programs\\python\\python39\\lib\\site-packages\\seaborn\\_decorators.py:36: FutureWarning: Pass the following variable as a keyword arg: x. From version 0.12, the only valid positional argument will be `data`, and passing other arguments without an explicit keyword will result in an error or misinterpretation.\n",
      "  warnings.warn(\n"
     ]
    },
    {
     "data": {
      "text/plain": [
       "<AxesSubplot:xlabel='sentiment', ylabel='count'>"
      ]
     },
     "execution_count": 93,
     "metadata": {},
     "output_type": "execute_result"
    },
    {
     "data": {
      "image/png": "[encoded data removed]",
      "text/plain": [
       "<Figure size 432x288 with 1 Axes>"
      ]
     },
     "metadata": {
      "needs_background": "light"
     },
     "output_type": "display_data"
    }
   ],
   "source": [
    "sns.countplot(reviews_df['sentiment'])"
   ]
  },
  {
   "cell_type": "markdown",
   "id": "f6265a69",
   "metadata": {},
   "source": [
    "# Text Cleaning"
   ]
  },
  {
   "cell_type": "markdown",
   "id": "fba05702",
   "metadata": {},
   "source": [
    "Fixing Contractions => don't -> do not"
   ]
  },
  {
   "cell_type": "code",
   "execution_count": 94,
   "id": "27bb4d61",
   "metadata": {},
   "outputs": [],
   "source": [
    "reviews_df['review text']=reviews_df['review text'].apply(lambda x:nt.fix_contractions(x))"
   ]
  },
  {
   "cell_type": "code",
   "execution_count": 95,
   "id": "205a4565",
   "metadata": {},
   "outputs": [],
   "source": [
    "reviews_df['review text']=reviews_df['review text'].apply(lambda x:nt.remove_puncts(x))\n",
    "reviews_df['review text']=reviews_df['review text'].apply(lambda x:nt.remove_numbers(x))\n",
    "reviews_df['review text']=reviews_df['review text'].apply(lambda x:nt.remove_stopwords(x))\n",
    "reviews_df['review text']=reviews_df['review text'].apply(lambda x:nt.remove_emojis(x))"
   ]
  },
  {
   "cell_type": "markdown",
   "id": "9f719a25",
   "metadata": {},
   "source": [
    "# ML Model Preparation"
   ]
  },
  {
   "cell_type": "markdown",
   "id": "2f79f08f",
   "metadata": {},
   "source": [
    "### Spliting the Data into dev and test Data"
   ]
  },
  {
   "cell_type": "code",
   "execution_count": 96,
   "id": "d74673d9",
   "metadata": {},
   "outputs": [],
   "source": [
    "X=reviews_df['review text']\n",
    "y=reviews_df['sentiment']"
   ]
  },
  {
   "cell_type": "code",
   "execution_count": 97,
   "id": "6f50fa14",
   "metadata": {},
   "outputs": [],
   "source": [
    "X_train, X_test, y_train, y_test = train_test_split(X, y, test_size=0.2, random_state=42)"
   ]
  },
  {
   "cell_type": "markdown",
   "id": "22ec8922",
   "metadata": {},
   "source": [
    "## Converting Text Data into Vectors with Bag of Words"
   ]
  },
  {
   "cell_type": "code",
   "execution_count": 98,
   "id": "57827323",
   "metadata": {},
   "outputs": [],
   "source": [
    "cv = CountVectorizer()"
   ]
  },
  {
   "cell_type": "code",
   "execution_count": 99,
   "id": "c6286550",
   "metadata": {},
   "outputs": [],
   "source": [
    "X_train = cv.fit_transform(X_train)\n",
    "X_test = cv.transform(X_test)"
   ]
  },
  {
   "cell_type": "code",
   "execution_count": 100,
   "id": "cf91a3ca",
   "metadata": {},
   "outputs": [],
   "source": [
    "# vectorizer = TfidfVectorizer(max_features=4000)\n",
    "# X_train = vectorizer.fit_transform(X_train)\n",
    "# X_test = vectorizer.fit_transform(X_test)\n",
    "# y_train =y_train\n",
    "# y_test =y_test\n"
   ]
  },
  {
   "cell_type": "markdown",
   "id": "ca3f8096",
   "metadata": {},
   "source": [
    "### Importing the Model"
   ]
  },
  {
   "cell_type": "markdown",
   "id": "14681682",
   "metadata": {},
   "source": [
    "Laplace Smothing: We can implement laplace smothing in naive bayes by simply setting alpha paramter to 1"
   ]
  },
  {
   "attachments": {
    "image.png": {
     "image/png": "[encoded data removed]"
    }
   },
   "cell_type": "markdown",
   "id": "4c82fcd7",
   "metadata": {},
   "source": [
    "![image.png](attachment:image.png)"
   ]
  },
  {
   "cell_type": "code",
   "execution_count": 101,
   "id": "d84f91ee",
   "metadata": {},
   "outputs": [],
   "source": [
    "from sklearn.naive_bayes import MultinomialNB"
   ]
  },
  {
   "cell_type": "markdown",
   "id": "db38a7ae",
   "metadata": {},
   "source": [
    "### Model Training and Testing"
   ]
  },
  {
   "cell_type": "code",
   "execution_count": 102,
   "id": "a4681d70",
   "metadata": {},
   "outputs": [
    {
     "data": {
      "text/html": [
       "<style>#sk-container-id-3 {color: black;background-color: white;}#sk-container-id-3 pre{padding: 0;}#sk-container-id-3 div.sk-toggleable {background-color: white;}#sk-container-id-3 label.sk-toggleable__label {cursor: pointer;display: block;width: 100%;margin-bottom: 0;padding: 0.3em;box-sizing: border-box;text-align: center;}#sk-container-id-3 label.sk-toggleable__label-arrow:before {content: \"▸\";float: left;margin-right: 0.25em;color: #696969;}#sk-container-id-3 label.sk-toggleable__label-arrow:hover:before {color: black;}#sk-container-id-3 div.sk-estimator:hover label.sk-toggleable__label-arrow:before {color: black;}#sk-container-id-3 div.sk-toggleable__content {max-height: 0;max-width: 0;overflow: hidden;text-align: left;background-color: #f0f8ff;}#sk-container-id-3 div.sk-toggleable__content pre {margin: 0.2em;color: black;border-radius: 0.25em;background-color: #f0f8ff;}#sk-container-id-3 input.sk-toggleable__control:checked~div.sk-toggleable__content {max-height: 200px;max-width: 100%;overflow: auto;}#sk-container-id-3 input.sk-toggleable__control:checked~label.sk-toggleable__label-arrow:before {content: \"▾\";}#sk-container-id-3 div.sk-estimator input.sk-toggleable__control:checked~label.sk-toggleable__label {background-color: #d4ebff;}#sk-container-id-3 div.sk-label input.sk-toggleable__control:checked~label.sk-toggleable__label {background-color: #d4ebff;}#sk-container-id-3 input.sk-hidden--visually {border: 0;clip: rect(1px 1px 1px 1px);clip: rect(1px, 1px, 1px, 1px);height: 1px;margin: -1px;overflow: hidden;padding: 0;position: absolute;width: 1px;}#sk-container-id-3 div.sk-estimator {font-family: monospace;background-color: #f0f8ff;border: 1px dotted black;border-radius: 0.25em;box-sizing: border-box;margin-bottom: 0.5em;}#sk-container-id-3 div.sk-estimator:hover {background-color: #d4ebff;}#sk-container-id-3 div.sk-parallel-item::after {content: \"\";width: 100%;border-bottom: 1px solid gray;flex-grow: 1;}#sk-container-id-3 div.sk-label:hover label.sk-toggleable__label {background-color: #d4ebff;}#sk-container-id-3 div.sk-serial::before {content: \"\";position: absolute;border-left: 1px solid gray;box-sizing: border-box;top: 0;bottom: 0;left: 50%;z-index: 0;}#sk-container-id-3 div.sk-serial {display: flex;flex-direction: column;align-items: center;background-color: white;padding-right: 0.2em;padding-left: 0.2em;position: relative;}#sk-container-id-3 div.sk-item {position: relative;z-index: 1;}#sk-container-id-3 div.sk-parallel {display: flex;align-items: stretch;justify-content: center;background-color: white;position: relative;}#sk-container-id-3 div.sk-item::before, #sk-container-id-3 div.sk-parallel-item::before {content: \"\";position: absolute;border-left: 1px solid gray;box-sizing: border-box;top: 0;bottom: 0;left: 50%;z-index: -1;}#sk-container-id-3 div.sk-parallel-item {display: flex;flex-direction: column;z-index: 1;position: relative;background-color: white;}#sk-container-id-3 div.sk-parallel-item:first-child::after {align-self: flex-end;width: 50%;}#sk-container-id-3 div.sk-parallel-item:last-child::after {align-self: flex-start;width: 50%;}#sk-container-id-3 div.sk-parallel-item:only-child::after {width: 0;}#sk-container-id-3 div.sk-dashed-wrapped {border: 1px dashed gray;margin: 0 0.4em 0.5em 0.4em;box-sizing: border-box;padding-bottom: 0.4em;background-color: white;}#sk-container-id-3 div.sk-label label {font-family: monospace;font-weight: bold;display: inline-block;line-height: 1.2em;}#sk-container-id-3 div.sk-label-container {text-align: center;}#sk-container-id-3 div.sk-container {/* jupyter's `normalize.less` sets `[hidden] { display: none; }` but bootstrap.min.css set `[hidden] { display: none !important; }` so we also need the `!important` here to be able to override the default hidden behavior on the sphinx rendered scikit-learn.org. See: https://github.com/scikit-learn/scikit-learn/issues/21755 */display: inline-block !important;position: relative;}#sk-container-id-3 div.sk-text-repr-fallback {display: none;}</style><div id=\"sk-container-id-3\" class=\"sk-top-container\"><div class=\"sk-text-repr-fallback\"><pre>MultinomialNB(alpha=1)</pre><b>In a Jupyter environment, please rerun this cell to show the HTML representation or trust the notebook. <br />On GitHub, the HTML representation is unable to render, please try loading this page with nbviewer.org.</b></div><div class=\"sk-container\" hidden><div class=\"sk-item\"><div class=\"sk-estimator sk-toggleable\"><input class=\"sk-toggleable__control sk-hidden--visually\" id=\"sk-estimator-id-3\" type=\"checkbox\" checked><label for=\"sk-estimator-id-3\" class=\"sk-toggleable__label sk-toggleable__label-arrow\">MultinomialNB</label><div class=\"sk-toggleable__content\"><pre>MultinomialNB(alpha=1)</pre></div></div></div></div></div>"
      ],
      "text/plain": [
       "MultinomialNB(alpha=1)"
      ]
     },
     "execution_count": 102,
     "metadata": {},
     "output_type": "execute_result"
    }
   ],
   "source": [
    "model = MultinomialNB(alpha=1)  #alpha=1 for laplace smothing\n",
    "model.fit(X_train, y_train)"
   ]
  },
  {
   "cell_type": "markdown",
   "id": "ee52d107",
   "metadata": {},
   "source": [
    "### Training Accuracy"
   ]
  },
  {
   "cell_type": "code",
   "execution_count": 103,
   "id": "bf72d841",
   "metadata": {},
   "outputs": [
    {
     "data": {
      "text/plain": [
       "0.984375"
      ]
     },
     "execution_count": 103,
     "metadata": {},
     "output_type": "execute_result"
    }
   ],
   "source": [
    "model.score(X_train, y_train)"
   ]
  },
  {
   "cell_type": "code",
   "execution_count": 106,
   "id": "62a7d2c2",
   "metadata": {},
   "outputs": [],
   "source": [
    "y_pred = model.predict(X_test)"
   ]
  },
  {
   "cell_type": "code",
   "execution_count": 107,
   "id": "a34395ff",
   "metadata": {},
   "outputs": [],
   "source": [
    "from sklearn.metrics import plot_confusion_matrix"
   ]
  },
  {
   "cell_type": "code",
   "execution_count": 108,
   "id": "c7c24284",
   "metadata": {},
   "outputs": [
    {
     "name": "stderr",
     "output_type": "stream",
     "text": [
      "c:\\users\\zee tech\\appdata\\local\\programs\\python\\python39\\lib\\site-packages\\sklearn\\utils\\deprecation.py:87: FutureWarning: Function plot_confusion_matrix is deprecated; Function `plot_confusion_matrix` is deprecated in 1.0 and will be removed in 1.2. Use one of the class methods: ConfusionMatrixDisplay.from_predictions or ConfusionMatrixDisplay.from_estimator.\n",
      "  warnings.warn(msg, category=FutureWarning)\n"
     ]
    },
    {
     "data": {
      "text/plain": [
       "<sklearn.metrics._plot.confusion_matrix.ConfusionMatrixDisplay at 0x1dd46c39e20>"
      ]
     },
     "execution_count": 108,
     "metadata": {},
     "output_type": "execute_result"
    },
    {
     "data": {
      "image/png": "[encoded data removed]",
      "text/plain": [
       "<Figure size 432x288 with 2 Axes>"
      ]
     },
     "metadata": {
      "needs_background": "light"
     },
     "output_type": "display_data"
    }
   ],
   "source": [
    "plot_confusion_matrix(model, X_train, y_train)"
   ]
  },
  {
   "cell_type": "markdown",
   "id": "3f7aeb91",
   "metadata": {},
   "source": [
    "### Recall"
   ]
  },
  {
   "cell_type": "code",
   "execution_count": 109,
   "id": "c1c18ba9",
   "metadata": {},
   "outputs": [
    {
     "name": "stdout",
     "output_type": "stream",
     "text": [
      "Recall: 0.809\n"
     ]
    }
   ],
   "source": [
    "print('Recall: %.3f' % recall_score(y_test, y_pred))"
   ]
  },
  {
   "cell_type": "markdown",
   "id": "1c7b8063",
   "metadata": {},
   "source": [
    "### Precision Score"
   ]
  },
  {
   "cell_type": "code",
   "execution_count": 110,
   "id": "895bebc3",
   "metadata": {},
   "outputs": [
    {
     "name": "stdout",
     "output_type": "stream",
     "text": [
      "Precision: 0.805\n"
     ]
    }
   ],
   "source": [
    "print('Precision: %.3f' % precision_score(y_test, y_pred))"
   ]
  },
  {
   "cell_type": "markdown",
   "id": "d2c41f05",
   "metadata": {},
   "source": [
    "### Accuracy"
   ]
  },
  {
   "cell_type": "code",
   "execution_count": 111,
   "id": "61859a9e",
   "metadata": {},
   "outputs": [
    {
     "name": "stdout",
     "output_type": "stream",
     "text": [
      "Accuracy: 0.807\n"
     ]
    }
   ],
   "source": [
    "print('Accuracy: %.3f' % accuracy_score(y_test, y_pred))"
   ]
  },
  {
   "cell_type": "markdown",
   "id": "e220243f",
   "metadata": {},
   "source": [
    "### F1 Score"
   ]
  },
  {
   "cell_type": "code",
   "execution_count": 112,
   "id": "af87fd48",
   "metadata": {},
   "outputs": [
    {
     "name": "stdout",
     "output_type": "stream",
     "text": [
      "F1 Score: 0.807\n"
     ]
    }
   ],
   "source": [
    "print('F1 Score: %.3f' % f1_score(y_test, y_pred))"
   ]
  },
  {
   "cell_type": "code",
   "execution_count": null,
   "id": "44055a54",
   "metadata": {},
   "outputs": [],
   "source": []
  }
 ],
 "metadata": {
  "kernelspec": {
   "display_name": "Python 3",
   "language": "python",
   "name": "python3"
  },
  "language_info": {
   "codemirror_mode": {
    "name": "ipython",
    "version": 3
   },
   "file_extension": ".py",
   "mimetype": "text/x-python",
   "name": "python",
   "nbconvert_exporter": "python",
   "pygments_lexer": "ipython3",
   "version": "3.9.5"
  }
 },
 "nbformat": 4,
 "nbformat_minor": 5
}
