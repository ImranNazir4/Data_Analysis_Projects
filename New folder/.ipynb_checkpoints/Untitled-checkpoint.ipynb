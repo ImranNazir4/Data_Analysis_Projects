{
 "cells": [
  {
   "cell_type": "code",
   "execution_count": 2,
   "id": "34f31fa3",
   "metadata": {},
   "outputs": [],
   "source": [
    "import pandas as pd\n",
    "import numpy as np\n",
    "import matplotlib.pyplot as plt\n",
    "import seaborn"
   ]
  },
  {
   "cell_type": "code",
   "execution_count": 153,
   "id": "590ffcbc",
   "metadata": {},
   "outputs": [],
   "source": [
    "#df0=pd.read_csv('data0.csv',names=['weight'])\n",
    "#df1=pd.read_csv('data1.csv',names=['weight'])\n",
    "#df2=pd.read_csv('data2.csv',names=['weight'])\n",
    "#df3=pd.read_csv('data3.csv',names=['weight'])\n",
    "#df4=pd.read_csv('data4.csv',names=['weight'])\n",
    "#df5=pd.read_csv('data5.csv',names=['weight'])\n",
    "df=pd.read_csv('data6.csv',names=['weight'])\n",
    "#df7=pd.read_csv('data7.csv',names=['weight'])\n",
    "#df8=pd.read_csv('data8.csv',names=['weight'])\n",
    "#df9=pd.read_csv('data9.csv',names=['weight'])"
   ]
  },
  {
   "cell_type": "code",
   "execution_count": 154,
   "id": "a3434a5e",
   "metadata": {},
   "outputs": [
    {
     "data": {
      "text/html": [
       "<div>\n",
       "<style scoped>\n",
       "    .dataframe tbody tr th:only-of-type {\n",
       "        vertical-align: middle;\n",
       "    }\n",
       "\n",
       "    .dataframe tbody tr th {\n",
       "        vertical-align: top;\n",
       "    }\n",
       "\n",
       "    .dataframe thead th {\n",
       "        text-align: right;\n",
       "    }\n",
       "</style>\n",
       "<table border=\"1\" class=\"dataframe\">\n",
       "  <thead>\n",
       "    <tr style=\"text-align: right;\">\n",
       "      <th></th>\n",
       "      <th>weight</th>\n",
       "    </tr>\n",
       "  </thead>\n",
       "  <tbody>\n",
       "    <tr>\n",
       "      <th>0</th>\n",
       "      <td>3.42987</td>\n",
       "    </tr>\n",
       "    <tr>\n",
       "      <th>1</th>\n",
       "      <td>3.67355</td>\n",
       "    </tr>\n",
       "    <tr>\n",
       "      <th>2</th>\n",
       "      <td>3.22804</td>\n",
       "    </tr>\n",
       "    <tr>\n",
       "      <th>3</th>\n",
       "      <td>3.10455</td>\n",
       "    </tr>\n",
       "    <tr>\n",
       "      <th>4</th>\n",
       "      <td>2.61425</td>\n",
       "    </tr>\n",
       "    <tr>\n",
       "      <th>...</th>\n",
       "      <td>...</td>\n",
       "    </tr>\n",
       "    <tr>\n",
       "      <th>395</th>\n",
       "      <td>4.06724</td>\n",
       "    </tr>\n",
       "    <tr>\n",
       "      <th>396</th>\n",
       "      <td>3.83124</td>\n",
       "    </tr>\n",
       "    <tr>\n",
       "      <th>397</th>\n",
       "      <td>2.90018</td>\n",
       "    </tr>\n",
       "    <tr>\n",
       "      <th>398</th>\n",
       "      <td>4.21746</td>\n",
       "    </tr>\n",
       "    <tr>\n",
       "      <th>399</th>\n",
       "      <td>3.94969</td>\n",
       "    </tr>\n",
       "  </tbody>\n",
       "</table>\n",
       "<p>400 rows × 1 columns</p>\n",
       "</div>"
      ],
      "text/plain": [
       "      weight\n",
       "0    3.42987\n",
       "1    3.67355\n",
       "2    3.22804\n",
       "3    3.10455\n",
       "4    2.61425\n",
       "..       ...\n",
       "395  4.06724\n",
       "396  3.83124\n",
       "397  2.90018\n",
       "398  4.21746\n",
       "399  3.94969\n",
       "\n",
       "[400 rows x 1 columns]"
      ]
     },
     "execution_count": 154,
     "metadata": {},
     "output_type": "execute_result"
    }
   ],
   "source": [
    "df"
   ]
  },
  {
   "cell_type": "code",
   "execution_count": 155,
   "id": "d54a9cd8",
   "metadata": {},
   "outputs": [],
   "source": [
    "data=np.array(df.values.reshape(-1))"
   ]
  },
  {
   "cell_type": "code",
   "execution_count": 156,
   "id": "196082f4",
   "metadata": {},
   "outputs": [
    {
     "data": {
      "text/plain": [
       "Text(0.5, 1.0, 'New Born Babies Weights Distribution')"
      ]
     },
     "execution_count": 156,
     "metadata": {},
     "output_type": "execute_result"
    },
    {
     "data": {
      "image/png": "[encoded data removed]",
      "text/plain": [
       "<Figure size 432x288 with 1 Axes>"
      ]
     },
     "metadata": {
      "needs_background": "light"
     },
     "output_type": "display_data"
    }
   ],
   "source": [
    "plt.hist(data,bins=10)\n",
    "plt.title('New Born Babies Weights Distribution')"
   ]
  },
  {
   "cell_type": "code",
   "execution_count": 203,
   "id": "ffe158ea",
   "metadata": {},
   "outputs": [
    {
     "data": {
      "text/plain": [
       "3.4062324"
      ]
     },
     "execution_count": 203,
     "metadata": {},
     "output_type": "execute_result"
    }
   ],
   "source": [
    "W=np.mean(data)\n",
    "W"
   ]
  },
  {
   "cell_type": "code",
   "execution_count": 204,
   "id": "22b68f43",
   "metadata": {},
   "outputs": [
    {
     "data": {
      "text/plain": [
       "0.38346600179186685"
      ]
     },
     "execution_count": 204,
     "metadata": {},
     "output_type": "execute_result"
    }
   ],
   "source": [
    "S=np.std(data)\n",
    "S"
   ]
  },
  {
   "cell_type": "markdown",
   "id": "13f04130",
   "metadata": {},
   "source": [
    "# Method 1 - Z Score"
   ]
  },
  {
   "cell_type": "code",
   "execution_count": 128,
   "id": "4f5916ad",
   "metadata": {},
   "outputs": [],
   "source": [
    "#The given data is well normally distributed so we can apply zcore method to calculate value of X"
   ]
  },
  {
   "cell_type": "code",
   "execution_count": 166,
   "id": "f6b58a33",
   "metadata": {},
   "outputs": [],
   "source": [
    "z_table=1.28   #z table value corresponds to 90% area"
   ]
  },
  {
   "cell_type": "code",
   "execution_count": 205,
   "id": "b50cfbda",
   "metadata": {},
   "outputs": [],
   "source": [
    "X=W+(z_table*S)"
   ]
  },
  {
   "cell_type": "code",
   "execution_count": 206,
   "id": "26d69aca",
   "metadata": {},
   "outputs": [
    {
     "data": {
      "text/plain": [
       "3.8970688822935893"
      ]
     },
     "execution_count": 206,
     "metadata": {},
     "output_type": "execute_result"
    }
   ],
   "source": [
    "X"
   ]
  },
  {
   "cell_type": "code",
   "execution_count": 212,
   "id": "8562d6c5",
   "metadata": {},
   "outputs": [
    {
     "data": {
      "text/plain": [
       "<matplotlib.legend.Legend at 0x1b1188b2310>"
      ]
     },
     "execution_count": 212,
     "metadata": {},
     "output_type": "execute_result"
    },
    {
     "data": {
      "image/png": "[encoded data removed]",
      "text/plain": [
       "<Figure size 432x288 with 1 Axes>"
      ]
     },
     "metadata": {
      "needs_background": "light"
     },
     "output_type": "display_data"
    }
   ],
   "source": [
    "plt.hist(data,bins=10)\n",
    "plt.axvline(W,color='red',label='W')\n",
    "plt.axvline(X,color='black',label='X')\n",
    "plt.legend()"
   ]
  },
  {
   "cell_type": "markdown",
   "id": "d7a80226",
   "metadata": {},
   "source": [
    "# Cross Verification"
   ]
  },
  {
   "cell_type": "code",
   "execution_count": 190,
   "id": "211d16df",
   "metadata": {},
   "outputs": [
    {
     "data": {
      "text/plain": [
       "9.5"
      ]
     },
     "execution_count": 190,
     "metadata": {},
     "output_type": "execute_result"
    }
   ],
   "source": [
    "X= 100 * np.sum(data > 3.897068) / len(data)\n",
    "X"
   ]
  },
  {
   "cell_type": "code",
   "execution_count": null,
   "id": "28fd988a",
   "metadata": {},
   "outputs": [],
   "source": [
    "#9.5 rounded to 10 which mean 10% values are greater than this 3.8970688822935893 value"
   ]
  },
  {
   "cell_type": "markdown",
   "id": "80e3e5d7",
   "metadata": {},
   "source": [
    "# Method 2 : Percentile"
   ]
  },
  {
   "cell_type": "code",
   "execution_count": null,
   "id": "0f890e4d",
   "metadata": {},
   "outputs": [],
   "source": [
    "#Our taget is to find 90th percentile so that we can find values that are greater than X"
   ]
  },
  {
   "cell_type": "code",
   "execution_count": 136,
   "id": "0a73382e",
   "metadata": {},
   "outputs": [],
   "source": [
    "percentile=np.percentile(data,90)"
   ]
  },
  {
   "cell_type": "code",
   "execution_count": 146,
   "id": "4bb513f1",
   "metadata": {},
   "outputs": [
    {
     "data": {
      "text/plain": [
       "3.870394"
      ]
     },
     "execution_count": 146,
     "metadata": {},
     "output_type": "execute_result"
    }
   ],
   "source": [
    "percentile"
   ]
  },
  {
   "cell_type": "code",
   "execution_count": 213,
   "id": "df08d8e9",
   "metadata": {},
   "outputs": [
    {
     "data": {
      "text/plain": [
       "<matplotlib.legend.Legend at 0x1b11894ad60>"
      ]
     },
     "execution_count": 213,
     "metadata": {},
     "output_type": "execute_result"
    },
    {
     "data": {
      "image/png": "[encoded data removed]",
      "text/plain": [
       "<Figure size 432x288 with 1 Axes>"
      ]
     },
     "metadata": {
      "needs_background": "light"
     },
     "output_type": "display_data"
    }
   ],
   "source": [
    "plt.hist(data,bins=10)\n",
    "plt.axvline(W,color='red',label='W')\n",
    "plt.axvline(percentile,color='black',label='X')\n",
    "plt.legend()"
   ]
  },
  {
   "cell_type": "markdown",
   "id": "965e4923",
   "metadata": {},
   "source": [
    "# Cross Verification"
   ]
  },
  {
   "cell_type": "code",
   "execution_count": 191,
   "id": "8976a8a7",
   "metadata": {},
   "outputs": [
    {
     "data": {
      "text/plain": [
       "10.0"
      ]
     },
     "execution_count": 191,
     "metadata": {},
     "output_type": "execute_result"
    }
   ],
   "source": [
    "X= 100 * np.sum(data > 3.870394) / len(data)\n",
    "X"
   ]
  },
  {
   "cell_type": "code",
   "execution_count": 192,
   "id": "36a7a583",
   "metadata": {},
   "outputs": [],
   "source": [
    "# 10% values are greater than 3.870394 this"
   ]
  },
  {
   "cell_type": "code",
   "execution_count": null,
   "id": "5aed87b4",
   "metadata": {},
   "outputs": [],
   "source": []
  },
  {
   "cell_type": "code",
   "execution_count": null,
   "id": "5d8bb6b9",
   "metadata": {},
   "outputs": [],
   "source": []
  },
  {
   "cell_type": "code",
   "execution_count": null,
   "id": "55f0359a",
   "metadata": {},
   "outputs": [],
   "source": []
  }
 ],
 "metadata": {
  "kernelspec": {
   "display_name": "Python 3",
   "language": "python",
   "name": "python3"
  },
  "language_info": {
   "codemirror_mode": {
    "name": "ipython",
    "version": 3
   },
   "file_extension": ".py",
   "mimetype": "text/x-python",
   "name": "python",
   "nbconvert_exporter": "python",
   "pygments_lexer": "ipython3",
   "version": "3.9.5"
  }
 },
 "nbformat": 4,
 "nbformat_minor": 5
}
