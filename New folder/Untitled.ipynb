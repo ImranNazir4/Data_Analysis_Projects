{
 "cells": [
  {
   "cell_type": "code",
   "execution_count": 1,
   "id": "74259049",
   "metadata": {},
   "outputs": [],
   "source": [
    "import spacy"
   ]
  },
  {
   "cell_type": "code",
   "execution_count": 7,
   "id": "57527259",
   "metadata": {},
   "outputs": [
    {
     "name": "stderr",
     "output_type": "stream",
     "text": [
      "c:\\users\\zee tech\\appdata\\local\\programs\\python\\python39\\lib\\site-packages\\spacy\\util.py:877: UserWarning: [W095] Model 'en_core_web_sm' (3.2.0) was trained with spaCy v3.2 and may not be 100% compatible with the current version (3.4.4). If you see errors or degraded performance, download a newer compatible model or retrain your custom model with the current spaCy version. For more details and available updates, run: python -m spacy validate\n",
      "  warnings.warn(warn_msg)\n"
     ]
    }
   ],
   "source": [
    "import pandas as pd\n",
    "import re\n",
    "nlp=spacy.load('en_core_web_sm')"
   ]
  },
  {
   "cell_type": "code",
   "execution_count": 8,
   "id": "6feb60a9",
   "metadata": {},
   "outputs": [],
   "source": [
    "text='''\n",
    "Once upon a time, there was a young woman named Emily who had always dreamed of starting her own business. She had a passion for fashion and had always been interested in the retail industry. After completing her degree in business administration, she decided to take the leap and start her own boutique.\n",
    "\n",
    "Emily spent months researching the latest fashion trends and scouting locations for her store. She finally found the perfect spot in the heart of the city and signed the lease. With the help of her family and friends, she was able to secure a loan and start her business.\n",
    "\n",
    "Emily quickly learned that running a business was no easy task. She had to wear many hats, from managing her inventory to marketing her products. She worked long hours, but she loved every minute of it. She was determined to make her business a success.\n",
    "\n",
    "As the boutique started to grow, Emily realized that she needed help. She began to hire staff to assist her with the day-to-day operations. She hired a sales manager, a marketing manager, and a customer service manager. Each of them brought their own unique skills to the business.\n",
    "\n",
    "The sales manager, Sarah, was a natural when it came to selling. She had a warm personality and a talent for making customers feel at ease. She was able to increase the store's sales by 20% in just a few months.\n",
    "\n",
    "The marketing manager, Alex, was a creative genius. He came up with innovative ways to promote the store and engage with customers on social media. His campaigns brought in a new wave of customers, and the store's online presence skyrocketed.\n",
    "\n",
    "The customer service manager, John, was the glue that held everything together. He ensured that customers had a positive experience every time they visited the store. He handled any complaints with grace and professionalism, and customers always left feeling satisfied.\n",
    "\n",
    "As the business continued to grow, Emily decided to bring in more specialized talent. She hired a visual merchandiser, a financial analyst, and an operations manager. Each of them played a crucial role in the success of the business.\n",
    "\n",
    "The visual merchandiser, Maria, had an eye for design. She was able to create stunning displays that showcased the store's products in the best possible light. Her work drew in even more customers, and the store's reputation as a fashion-forward destination grew.\n",
    "\n",
    "The financial analyst, Tom, helped Emily make sense of the numbers. He created financial reports that allowed her to track the store's progress and make informed decisions about the future of the business. With his help, Emily was able to secure additional funding to expand her store.\n",
    "\n",
    "The operations manager, Rachel, was responsible for ensuring that everything ran smoothly. She oversaw the store's supply chain, logistics, and inventory management. Her expertise allowed Emily to focus on the creative side of the business, knowing that the day-to-day operations were in capable hands.\n",
    "\n",
    "Together, Emily and her team built a thriving business. They expanded the store to new locations, launched an e-commerce platform, and even started their own fashion line. Emily was thrilled with the success of her business and the team that made it all possible.\n",
    "\n",
    "Over the years, Emily's team grew even larger. She hired a chief financial officer, a chief operating officer, and a chief marketing officer. Each of them brought their own wealth of knowledge and experience to the business.\n",
    "\n",
    "The chief financial officer, Jane, was a seasoned financial expert. She helped Emily take the business to the next level by securing loans, managing cash flow, and creating long-term financial plans. With her guidance, Emily was able to invest in new ventures and expand the business even further.\n",
    "\n",
    "The chief operating officer, Mark, was a master of logistics. He oversaw the entire supply chain, from sourcing materials to delivering finished products. He implemented new systems and processes that streamlined the business and allowed it to\n",
    "'''"
   ]
  },
  {
   "cell_type": "code",
   "execution_count": 9,
   "id": "05329a96",
   "metadata": {},
   "outputs": [],
   "source": [
    "doc=nlp(text)"
   ]
  },
  {
   "cell_type": "code",
   "execution_count": 10,
   "id": "d520cb97",
   "metadata": {},
   "outputs": [
    {
     "data": {
      "text/html": [
       "<span class=\"tex2jax_ignore\"><div class=\"entities\" style=\"line-height: 2.5; direction: ltr\"></br>Once upon a time, there was a young woman named Emily who had always dreamed of starting her own business. She had a passion for fashion and had always been interested in the retail industry. After completing her degree in business administration, she decided to take the leap and start her own boutique.</br></br>Emily spent \n",
       "<mark class=\"entity\" style=\"background: #bfe1d9; padding: 0.45em 0.6em; margin: 0 0.25em; line-height: 1; border-radius: 0.35em;\">\n",
       "    months\n",
       "    <span style=\"font-size: 0.8em; font-weight: bold; line-height: 1; border-radius: 0.35em; vertical-align: middle; margin-left: 0.5rem\">DATE</span>\n",
       "</mark>\n",
       " researching the latest fashion trends and scouting locations for her store. She finally found the perfect spot in the heart of the city and signed the lease. With the help of her family and friends, she was able to secure a loan and start her business.</br></br>Emily quickly learned that running a business was no easy task. She had to wear many hats, from managing her inventory to marketing her products. She worked long hours, but she loved every minute of it. She was determined to make her business a success.</br></br>As the boutique started to grow, Emily realized that she needed help. She began to hire staff to assist her with the day-to-\n",
       "<mark class=\"entity\" style=\"background: #bfe1d9; padding: 0.45em 0.6em; margin: 0 0.25em; line-height: 1; border-radius: 0.35em;\">\n",
       "    day\n",
       "    <span style=\"font-size: 0.8em; font-weight: bold; line-height: 1; border-radius: 0.35em; vertical-align: middle; margin-left: 0.5rem\">DATE</span>\n",
       "</mark>\n",
       " operations. She hired a sales manager, a marketing manager, and a customer service manager. Each of them brought their own unique skills to the business.</br></br>The sales manager, \n",
       "<mark class=\"entity\" style=\"background: #aa9cfc; padding: 0.45em 0.6em; margin: 0 0.25em; line-height: 1; border-radius: 0.35em;\">\n",
       "    Sarah\n",
       "    <span style=\"font-size: 0.8em; font-weight: bold; line-height: 1; border-radius: 0.35em; vertical-align: middle; margin-left: 0.5rem\">PERSON</span>\n",
       "</mark>\n",
       ", was a natural when it came to selling. She had a warm personality and a talent for making customers feel at ease. She was able to increase the store's sales by \n",
       "<mark class=\"entity\" style=\"background: #e4e7d2; padding: 0.45em 0.6em; margin: 0 0.25em; line-height: 1; border-radius: 0.35em;\">\n",
       "    20%\n",
       "    <span style=\"font-size: 0.8em; font-weight: bold; line-height: 1; border-radius: 0.35em; vertical-align: middle; margin-left: 0.5rem\">PERCENT</span>\n",
       "</mark>\n",
       " in \n",
       "<mark class=\"entity\" style=\"background: #bfe1d9; padding: 0.45em 0.6em; margin: 0 0.25em; line-height: 1; border-radius: 0.35em;\">\n",
       "    just a few months\n",
       "    <span style=\"font-size: 0.8em; font-weight: bold; line-height: 1; border-radius: 0.35em; vertical-align: middle; margin-left: 0.5rem\">DATE</span>\n",
       "</mark>\n",
       ".</br></br>The marketing manager, \n",
       "<mark class=\"entity\" style=\"background: #7aecec; padding: 0.45em 0.6em; margin: 0 0.25em; line-height: 1; border-radius: 0.35em;\">\n",
       "    Alex\n",
       "    <span style=\"font-size: 0.8em; font-weight: bold; line-height: 1; border-radius: 0.35em; vertical-align: middle; margin-left: 0.5rem\">ORG</span>\n",
       "</mark>\n",
       ", was a creative genius. He came up with innovative ways to promote the store and engage with customers on social media. His campaigns brought in a new wave of customers, and the store's online presence skyrocketed.</br></br>The customer service manager, \n",
       "<mark class=\"entity\" style=\"background: #aa9cfc; padding: 0.45em 0.6em; margin: 0 0.25em; line-height: 1; border-radius: 0.35em;\">\n",
       "    John\n",
       "    <span style=\"font-size: 0.8em; font-weight: bold; line-height: 1; border-radius: 0.35em; vertical-align: middle; margin-left: 0.5rem\">PERSON</span>\n",
       "</mark>\n",
       ", was the glue that held everything together. He ensured that customers had a positive experience every time they visited the store. He handled any complaints with grace and professionalism, and customers always left feeling satisfied.</br></br>As the business continued to grow, Emily decided to bring in more specialized talent. She hired a visual merchandiser, a financial analyst, and an operations manager. Each of them played a crucial role in the success of the business.</br></br>The visual merchandiser, \n",
       "<mark class=\"entity\" style=\"background: #aa9cfc; padding: 0.45em 0.6em; margin: 0 0.25em; line-height: 1; border-radius: 0.35em;\">\n",
       "    Maria\n",
       "    <span style=\"font-size: 0.8em; font-weight: bold; line-height: 1; border-radius: 0.35em; vertical-align: middle; margin-left: 0.5rem\">PERSON</span>\n",
       "</mark>\n",
       ", had an eye for design. She was able to create stunning displays that showcased the store's products in the best possible light. Her work drew in even more customers, and the store's reputation as a fashion-forward destination grew.</br></br>The financial analyst, \n",
       "<mark class=\"entity\" style=\"background: #aa9cfc; padding: 0.45em 0.6em; margin: 0 0.25em; line-height: 1; border-radius: 0.35em;\">\n",
       "    Tom\n",
       "    <span style=\"font-size: 0.8em; font-weight: bold; line-height: 1; border-radius: 0.35em; vertical-align: middle; margin-left: 0.5rem\">PERSON</span>\n",
       "</mark>\n",
       ", helped Emily make sense of the numbers. He created financial reports that allowed her to track the store's progress and make informed decisions about the future of the business. With his help, Emily was able to secure additional funding to expand her store.</br></br>The operations manager, \n",
       "<mark class=\"entity\" style=\"background: #aa9cfc; padding: 0.45em 0.6em; margin: 0 0.25em; line-height: 1; border-radius: 0.35em;\">\n",
       "    Rachel\n",
       "    <span style=\"font-size: 0.8em; font-weight: bold; line-height: 1; border-radius: 0.35em; vertical-align: middle; margin-left: 0.5rem\">PERSON</span>\n",
       "</mark>\n",
       ", was responsible for ensuring that everything ran smoothly. She oversaw the store's supply chain, logistics, and inventory management. Her expertise allowed Emily to focus on the creative side of the business, knowing that the day-to-day operations were in capable hands.</br></br>Together, Emily and her team built a thriving business. They expanded the store to new locations, launched an e-commerce platform, and even started their own fashion line. Emily was thrilled with the success of her business and the team that made it all possible.</br></br>Over \n",
       "<mark class=\"entity\" style=\"background: #bfe1d9; padding: 0.45em 0.6em; margin: 0 0.25em; line-height: 1; border-radius: 0.35em;\">\n",
       "    the years\n",
       "    <span style=\"font-size: 0.8em; font-weight: bold; line-height: 1; border-radius: 0.35em; vertical-align: middle; margin-left: 0.5rem\">DATE</span>\n",
       "</mark>\n",
       ", \n",
       "<mark class=\"entity\" style=\"background: #aa9cfc; padding: 0.45em 0.6em; margin: 0 0.25em; line-height: 1; border-radius: 0.35em;\">\n",
       "    Emily\n",
       "    <span style=\"font-size: 0.8em; font-weight: bold; line-height: 1; border-radius: 0.35em; vertical-align: middle; margin-left: 0.5rem\">PERSON</span>\n",
       "</mark>\n",
       "'s team grew even larger. She hired a chief financial officer, a chief operating officer, and a chief marketing officer. Each of them brought their own wealth of knowledge and experience to the business.</br></br>The chief financial officer, \n",
       "<mark class=\"entity\" style=\"background: #aa9cfc; padding: 0.45em 0.6em; margin: 0 0.25em; line-height: 1; border-radius: 0.35em;\">\n",
       "    Jane\n",
       "    <span style=\"font-size: 0.8em; font-weight: bold; line-height: 1; border-radius: 0.35em; vertical-align: middle; margin-left: 0.5rem\">PERSON</span>\n",
       "</mark>\n",
       ", was a seasoned financial expert. She helped Emily take the business to the next level by securing loans, managing cash flow, and creating long-term financial plans. With her guidance, Emily was able to invest in new ventures and expand the business even further.</br></br>The chief operating officer, \n",
       "<mark class=\"entity\" style=\"background: #aa9cfc; padding: 0.45em 0.6em; margin: 0 0.25em; line-height: 1; border-radius: 0.35em;\">\n",
       "    Mark\n",
       "    <span style=\"font-size: 0.8em; font-weight: bold; line-height: 1; border-radius: 0.35em; vertical-align: middle; margin-left: 0.5rem\">PERSON</span>\n",
       "</mark>\n",
       ", was a master of logistics. He oversaw the entire supply chain, from sourcing materials to delivering finished products. He implemented new systems and processes that streamlined the business and allowed it to</br></div></span>"
      ],
      "text/plain": [
       "<IPython.core.display.HTML object>"
      ]
     },
     "metadata": {},
     "output_type": "display_data"
    }
   ],
   "source": [
    "from spacy import displacy\n",
    "displacy.render(doc, style='ent', jupyter=True)"
   ]
  },
  {
   "cell_type": "code",
   "execution_count": null,
   "id": "c4c62b72",
   "metadata": {},
   "outputs": [],
   "source": []
  }
 ],
 "metadata": {
  "kernelspec": {
   "display_name": "Python 3",
   "language": "python",
   "name": "python3"
  },
  "language_info": {
   "codemirror_mode": {
    "name": "ipython",
    "version": 3
   },
   "file_extension": ".py",
   "mimetype": "text/x-python",
   "name": "python",
   "nbconvert_exporter": "python",
   "pygments_lexer": "ipython3",
   "version": "3.9.5"
  }
 },
 "nbformat": 4,
 "nbformat_minor": 5
}
