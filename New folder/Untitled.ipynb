{
 "cells": [
  {
   "cell_type": "code",
   "execution_count": 2,
   "id": "12fdc160",
   "metadata": {},
   "outputs": [],
   "source": [
    "import pandas as pd\n",
    "import numpy as np\n",
    "import matplotlib.pyplot as plt\n",
    "import seaborn"
   ]
  },
  {
   "cell_type": "code",
   "execution_count": 153,
   "id": "3471607e",
   "metadata": {},
   "outputs": [],
   "source": [
    "#df0=pd.read_csv('data0.csv',names=['weight'])\n",
    "#df1=pd.read_csv('data1.csv',names=['weight'])\n",
    "#df2=pd.read_csv('data2.csv',names=['weight'])\n",
    "#df3=pd.read_csv('data3.csv',names=['weight'])\n",
    "#df4=pd.read_csv('data4.csv',names=['weight'])\n",
    "#df5=pd.read_csv('data5.csv',names=['weight'])\n",
    "df=pd.read_csv('data6.csv',names=['weight'])\n",
    "#df7=pd.read_csv('data7.csv',names=['weight'])\n",
    "#df8=pd.read_csv('data8.csv',names=['weight'])\n",
    "#df9=pd.read_csv('data9.csv',names=['weight'])"
   ]
  },
  {
   "cell_type": "code",
   "execution_count": 154,
   "id": "e2e82783",
   "metadata": {},
   "outputs": [
    {
     "data": {
      "text/html": [
       "<div>\n",
       "<style scoped>\n",
       "    .dataframe tbody tr th:only-of-type {\n",
       "        vertical-align: middle;\n",
       "    }\n",
       "\n",
       "    .dataframe tbody tr th {\n",
       "        vertical-align: top;\n",
       "    }\n",
       "\n",
       "    .dataframe thead th {\n",
       "        text-align: right;\n",
       "    }\n",
       "</style>\n",
       "<table border=\"1\" class=\"dataframe\">\n",
       "  <thead>\n",
       "    <tr style=\"text-align: right;\">\n",
       "      <th></th>\n",
       "      <th>weight</th>\n",
       "    </tr>\n",
       "  </thead>\n",
       "  <tbody>\n",
       "    <tr>\n",
       "      <th>0</th>\n",
       "      <td>3.42987</td>\n",
       "    </tr>\n",
       "    <tr>\n",
       "      <th>1</th>\n",
       "      <td>3.67355</td>\n",
       "    </tr>\n",
       "    <tr>\n",
       "      <th>2</th>\n",
       "      <td>3.22804</td>\n",
       "    </tr>\n",
       "    <tr>\n",
       "      <th>3</th>\n",
       "      <td>3.10455</td>\n",
       "    </tr>\n",
       "    <tr>\n",
       "      <th>4</th>\n",
       "      <td>2.61425</td>\n",
       "    </tr>\n",
       "    <tr>\n",
       "      <th>...</th>\n",
       "      <td>...</td>\n",
       "    </tr>\n",
       "    <tr>\n",
       "      <th>395</th>\n",
       "      <td>4.06724</td>\n",
       "    </tr>\n",
       "    <tr>\n",
       "      <th>396</th>\n",
       "      <td>3.83124</td>\n",
       "    </tr>\n",
       "    <tr>\n",
       "      <th>397</th>\n",
       "      <td>2.90018</td>\n",
       "    </tr>\n",
       "    <tr>\n",
       "      <th>398</th>\n",
       "      <td>4.21746</td>\n",
       "    </tr>\n",
       "    <tr>\n",
       "      <th>399</th>\n",
       "      <td>3.94969</td>\n",
       "    </tr>\n",
       "  </tbody>\n",
       "</table>\n",
       "<p>400 rows × 1 columns</p>\n",
       "</div>"
      ],
      "text/plain": [
       "      weight\n",
       "0    3.42987\n",
       "1    3.67355\n",
       "2    3.22804\n",
       "3    3.10455\n",
       "4    2.61425\n",
       "..       ...\n",
       "395  4.06724\n",
       "396  3.83124\n",
       "397  2.90018\n",
       "398  4.21746\n",
       "399  3.94969\n",
       "\n",
       "[400 rows x 1 columns]"
      ]
     },
     "execution_count": 154,
     "metadata": {},
     "output_type": "execute_result"
    }
   ],
   "source": [
    "df"
   ]
  },
  {
   "cell_type": "code",
   "execution_count": 155,
   "id": "44fe2b84",
   "metadata": {},
   "outputs": [],
   "source": [
    "data=np.array(df.values.reshape(-1))"
   ]
  },
  {
   "cell_type": "code",
   "execution_count": 156,
   "id": "047b2420",
   "metadata": {},
   "outputs": [
    {
     "data": {
      "text/plain": [
       "Text(0.5, 1.0, 'New Born Babies Weights Distribution')"
      ]
     },
     "execution_count": 156,
     "metadata": {},
     "output_type": "execute_result"
    },
    {
     "data": {
      "image/png": "[encoded data removed]",
      "text/plain": [
       "<Figure size 432x288 with 1 Axes>"
      ]
     },
     "metadata": {
      "needs_background": "light"
     },
     "output_type": "display_data"
    }
   ],
   "source": [
    "plt.hist(data,bins=10)\n",
    "plt.title('New Born Babies Weights Distribution')"
   ]
  },
  {
   "cell_type": "code",
   "execution_count": 218,
   "id": "a006bc11",
   "metadata": {},
   "outputs": [
    {
     "data": {
      "text/plain": [
       "4.47314"
      ]
     },
     "execution_count": 218,
     "metadata": {},
     "output_type": "execute_result"
    }
   ],
   "source": [
    "np.max(data)"
   ]
  },
  {
   "cell_type": "code",
   "execution_count": 219,
   "id": "2637d742",
   "metadata": {},
   "outputs": [
    {
     "data": {
      "text/plain": [
       "2.35406"
      ]
     },
     "execution_count": 219,
     "metadata": {},
     "output_type": "execute_result"
    }
   ],
   "source": [
    "np.min(data)"
   ]
  },
  {
   "cell_type": "code",
   "execution_count": 203,
   "id": "1a93bb51",
   "metadata": {},
   "outputs": [
    {
     "data": {
      "text/plain": [
       "3.4062324"
      ]
     },
     "execution_count": 203,
     "metadata": {},
     "output_type": "execute_result"
    }
   ],
   "source": [
    "W=np.mean(data)\n",
    "W"
   ]
  },
  {
   "cell_type": "code",
   "execution_count": 204,
   "id": "beaf2b21",
   "metadata": {},
   "outputs": [
    {
     "data": {
      "text/plain": [
       "0.38346600179186685"
      ]
     },
     "execution_count": 204,
     "metadata": {},
     "output_type": "execute_result"
    }
   ],
   "source": [
    "S=np.std(data)\n",
    "S"
   ]
  },
  {
   "cell_type": "markdown",
   "id": "7a3a1080",
   "metadata": {},
   "source": [
    "# Method 1 - Z Score"
   ]
  },
  {
   "cell_type": "code",
   "execution_count": 128,
   "id": "6d230677",
   "metadata": {},
   "outputs": [],
   "source": [
    "#The given data is well normally distributed so we can apply zcore method to calculate value of X"
   ]
  },
  {
   "cell_type": "code",
   "execution_count": 214,
   "id": "f0ea2561",
   "metadata": {},
   "outputs": [],
   "source": [
    "z_table=1.645   #z table value corresponds to 90% area"
   ]
  },
  {
   "cell_type": "code",
   "execution_count": 215,
   "id": "3e73405f",
   "metadata": {},
   "outputs": [],
   "source": [
    "X=W+(z_table*S)"
   ]
  },
  {
   "cell_type": "code",
   "execution_count": 216,
   "id": "6784102a",
   "metadata": {},
   "outputs": [
    {
     "data": {
      "text/plain": [
       "4.037033972947621"
      ]
     },
     "execution_count": 216,
     "metadata": {},
     "output_type": "execute_result"
    }
   ],
   "source": [
    "X"
   ]
  },
  {
   "cell_type": "code",
   "execution_count": 217,
   "id": "7d214a58",
   "metadata": {},
   "outputs": [
    {
     "data": {
      "text/plain": [
       "<matplotlib.legend.Legend at 0x1b119a2af70>"
      ]
     },
     "execution_count": 217,
     "metadata": {},
     "output_type": "execute_result"
    },
    {
     "data": {
      "image/png": "[encoded data removed]",
      "text/plain": [
       "<Figure size 432x288 with 1 Axes>"
      ]
     },
     "metadata": {
      "needs_background": "light"
     },
     "output_type": "display_data"
    }
   ],
   "source": [
    "plt.hist(data,bins=10)\n",
    "plt.axvline(W,color='red',label='W')\n",
    "plt.axvline(X,color='black',label='X')\n",
    "plt.legend()"
   ]
  },
  {
   "cell_type": "markdown",
   "id": "3e6ed5ca",
   "metadata": {},
   "source": [
    "# Cross Verification"
   ]
  },
  {
   "cell_type": "code",
   "execution_count": 190,
   "id": "16d7ca24",
   "metadata": {},
   "outputs": [
    {
     "data": {
      "text/plain": [
       "9.5"
      ]
     },
     "execution_count": 190,
     "metadata": {},
     "output_type": "execute_result"
    }
   ],
   "source": [
    "X= 100 * np.sum(data > 3.897068) / len(data)\n",
    "X"
   ]
  },
  {
   "cell_type": "code",
   "execution_count": null,
   "id": "640489e6",
   "metadata": {},
   "outputs": [],
   "source": [
    "#9.5 rounded to 10 which mean 10% values are greater than this 3.8970688822935893 value"
   ]
  },
  {
   "cell_type": "markdown",
   "id": "7f25d43a",
   "metadata": {},
   "source": [
    "# Method 2 : Percentile"
   ]
  },
  {
   "cell_type": "code",
   "execution_count": null,
   "id": "49470b17",
   "metadata": {},
   "outputs": [],
   "source": [
    "#Our taget is to find 90th percentile so that we can find values that are greater than X"
   ]
  },
  {
   "cell_type": "code",
   "execution_count": 136,
   "id": "22d31131",
   "metadata": {},
   "outputs": [],
   "source": [
    "percentile=np.percentile(data,90)"
   ]
  },
  {
   "cell_type": "code",
   "execution_count": 146,
   "id": "2e5d8ecf",
   "metadata": {},
   "outputs": [
    {
     "data": {
      "text/plain": [
       "3.870394"
      ]
     },
     "execution_count": 146,
     "metadata": {},
     "output_type": "execute_result"
    }
   ],
   "source": [
    "percentile"
   ]
  },
  {
   "cell_type": "code",
   "execution_count": 213,
   "id": "e65ce200",
   "metadata": {},
   "outputs": [
    {
     "data": {
      "text/plain": [
       "<matplotlib.legend.Legend at 0x1b11894ad60>"
      ]
     },
     "execution_count": 213,
     "metadata": {},
     "output_type": "execute_result"
    },
    {
     "data": {
      "image/png": "[encoded data removed]",
      "text/plain": [
       "<Figure size 432x288 with 1 Axes>"
      ]
     },
     "metadata": {
      "needs_background": "light"
     },
     "output_type": "display_data"
    }
   ],
   "source": [
    "plt.hist(data,bins=10)\n",
    "plt.axvline(W,color='red',label='W')\n",
    "plt.axvline(percentile,color='black',label='X')\n",
    "plt.legend()"
   ]
  },
  {
   "cell_type": "markdown",
   "id": "e4088d87",
   "metadata": {},
   "source": [
    "# Cross Verification"
   ]
  },
  {
   "cell_type": "code",
   "execution_count": 191,
   "id": "1f1ac3be",
   "metadata": {},
   "outputs": [
    {
     "data": {
      "text/plain": [
       "10.0"
      ]
     },
     "execution_count": 191,
     "metadata": {},
     "output_type": "execute_result"
    }
   ],
   "source": [
    "X= 100 * np.sum(data > 3.870394) / len(data)\n",
    "X"
   ]
  },
  {
   "cell_type": "code",
   "execution_count": 192,
   "id": "6870aeff",
   "metadata": {},
   "outputs": [],
   "source": [
    "# 10% values are greater than 3.870394 this"
   ]
  },
  {
   "cell_type": "code",
   "execution_count": null,
   "id": "7a611436",
   "metadata": {},
   "outputs": [],
   "source": []
  },
  {
   "cell_type": "code",
   "execution_count": null,
   "id": "daac1af7",
   "metadata": {},
   "outputs": [],
   "source": []
  },
  {
   "cell_type": "code",
   "execution_count": null,
   "id": "51dd1c7e",
   "metadata": {},
   "outputs": [],
   "source": []
  }
 ],
 "metadata": {
  "kernelspec": {
   "display_name": "Python 3",
   "language": "python",
   "name": "python3"
  },
  "language_info": {
   "codemirror_mode": {
    "name": "ipython",
    "version": 3
   },
   "file_extension": ".py",
   "mimetype": "text/x-python",
   "name": "python",
   "nbconvert_exporter": "python",
   "pygments_lexer": "ipython3",
   "version": "3.9.5"
  }
 },
 "nbformat": 4,
 "nbformat_minor": 5
}
