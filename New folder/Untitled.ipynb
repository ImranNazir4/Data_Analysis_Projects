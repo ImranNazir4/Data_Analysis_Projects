{
 "cells": [
  {
   "cell_type": "code",
   "execution_count": 2,
   "id": "c360aad7",
   "metadata": {},
   "outputs": [],
   "source": [
    "import pandas as pd\n",
    "import numpy as np\n",
    "import matplotlib.pyplot as plt\n",
    "import seaborn"
   ]
  },
  {
   "cell_type": "code",
   "execution_count": 53,
   "id": "306ad388",
   "metadata": {},
   "outputs": [],
   "source": [
    "df0=pd.read_csv('data0.csv',names=['weight'])\n",
    "df1=pd.read_csv('data1.csv',names=['weight'])\n",
    "df2=pd.read_csv('data2.csv',names=['weight'])\n",
    "df3=pd.read_csv('data3.csv',names=['weight'])\n",
    "df4=pd.read_csv('data4.csv',names=['weight'])\n",
    "df5=pd.read_csv('data5.csv',names=['weight'])\n",
    "df6=pd.read_csv('data6.csv',names=['weight'])\n",
    "df7=pd.read_csv('data7.csv',names=['weight'])\n",
    "df8=pd.read_csv('data8.csv',names=['weight'])\n",
    "df9=pd.read_csv('data9.csv',names=['weight'])"
   ]
  },
  {
   "cell_type": "code",
   "execution_count": 51,
   "id": "dc06afe7",
   "metadata": {},
   "outputs": [],
   "source": [
    "df0=pd.read_csv('data0.csv',names=['weight'])"
   ]
  },
  {
   "cell_type": "code",
   "execution_count": 57,
   "id": "c2a8c426",
   "metadata": {},
   "outputs": [],
   "source": [
    "df=pd.concat([df0,df1,df2,df3,df4,df5,df6,df7,df8,df9])"
   ]
  },
  {
   "cell_type": "code",
   "execution_count": 58,
   "id": "75cd72a2",
   "metadata": {},
   "outputs": [
    {
     "data": {
      "text/html": [
       "<div>\n",
       "<style scoped>\n",
       "    .dataframe tbody tr th:only-of-type {\n",
       "        vertical-align: middle;\n",
       "    }\n",
       "\n",
       "    .dataframe tbody tr th {\n",
       "        vertical-align: top;\n",
       "    }\n",
       "\n",
       "    .dataframe thead th {\n",
       "        text-align: right;\n",
       "    }\n",
       "</style>\n",
       "<table border=\"1\" class=\"dataframe\">\n",
       "  <thead>\n",
       "    <tr style=\"text-align: right;\">\n",
       "      <th></th>\n",
       "      <th>weight</th>\n",
       "    </tr>\n",
       "  </thead>\n",
       "  <tbody>\n",
       "    <tr>\n",
       "      <th>0</th>\n",
       "      <td>3.42987</td>\n",
       "    </tr>\n",
       "    <tr>\n",
       "      <th>1</th>\n",
       "      <td>3.67355</td>\n",
       "    </tr>\n",
       "    <tr>\n",
       "      <th>2</th>\n",
       "      <td>3.22804</td>\n",
       "    </tr>\n",
       "    <tr>\n",
       "      <th>3</th>\n",
       "      <td>3.10455</td>\n",
       "    </tr>\n",
       "    <tr>\n",
       "      <th>4</th>\n",
       "      <td>3.69541</td>\n",
       "    </tr>\n",
       "    <tr>\n",
       "      <th>...</th>\n",
       "      <td>...</td>\n",
       "    </tr>\n",
       "    <tr>\n",
       "      <th>395</th>\n",
       "      <td>3.69248</td>\n",
       "    </tr>\n",
       "    <tr>\n",
       "      <th>396</th>\n",
       "      <td>3.53212</td>\n",
       "    </tr>\n",
       "    <tr>\n",
       "      <th>397</th>\n",
       "      <td>2.97553</td>\n",
       "    </tr>\n",
       "    <tr>\n",
       "      <th>398</th>\n",
       "      <td>2.82004</td>\n",
       "    </tr>\n",
       "    <tr>\n",
       "      <th>399</th>\n",
       "      <td>3.38589</td>\n",
       "    </tr>\n",
       "  </tbody>\n",
       "</table>\n",
       "<p>4000 rows × 1 columns</p>\n",
       "</div>"
      ],
      "text/plain": [
       "      weight\n",
       "0    3.42987\n",
       "1    3.67355\n",
       "2    3.22804\n",
       "3    3.10455\n",
       "4    3.69541\n",
       "..       ...\n",
       "395  3.69248\n",
       "396  3.53212\n",
       "397  2.97553\n",
       "398  2.82004\n",
       "399  3.38589\n",
       "\n",
       "[4000 rows x 1 columns]"
      ]
     },
     "execution_count": 58,
     "metadata": {},
     "output_type": "execute_result"
    }
   ],
   "source": [
    "df"
   ]
  },
  {
   "cell_type": "code",
   "execution_count": 67,
   "id": "4de6c0ad",
   "metadata": {},
   "outputs": [],
   "source": [
    "data=np.array(df.values.reshape(-1))"
   ]
  },
  {
   "cell_type": "code",
   "execution_count": 68,
   "id": "61281f58",
   "metadata": {},
   "outputs": [
    {
     "data": {
      "text/plain": [
       "array([3.42987, 3.67355, 3.22804, ..., 2.97553, 2.82004, 3.38589])"
      ]
     },
     "execution_count": 68,
     "metadata": {},
     "output_type": "execute_result"
    }
   ],
   "source": [
    "data"
   ]
  },
  {
   "cell_type": "code",
   "execution_count": null,
   "id": "fda1adac",
   "metadata": {},
   "outputs": [],
   "source": [
    "# Calculate median weight\n",
    "median_weight = np.median(data)"
   ]
  },
  {
   "cell_type": "code",
   "execution_count": 73,
   "id": "b54a0937",
   "metadata": {},
   "outputs": [],
   "source": [
    "# Calculate median weight\n",
    "mean_weight = np.mean(data)"
   ]
  },
  {
   "cell_type": "code",
   "execution_count": 79,
   "id": "d3fac65e",
   "metadata": {},
   "outputs": [
    {
     "data": {
      "text/plain": [
       "<matplotlib.lines.Line2D at 0x1b10e30e130>"
      ]
     },
     "execution_count": 79,
     "metadata": {},
     "output_type": "execute_result"
    },
    {
     "data": {
      "image/png": "[encoded data removed]",
      "text/plain": [
       "<Figure size 432x288 with 1 Axes>"
      ]
     },
     "metadata": {
      "needs_background": "light"
     },
     "output_type": "display_data"
    }
   ],
   "source": [
    "plt.hist(data,bins=10)\n",
    "plt.axvline(mean_weight,color='red')\n",
    "plt.axvline(median_weight,color='yellow')"
   ]
  },
  {
   "cell_type": "code",
   "execution_count": 69,
   "id": "bfd401b7",
   "metadata": {},
   "outputs": [],
   "source": [
    "# Create histogram of newborn weights\n",
    "weights, bins = np.histogram(data, bins=20)\n",
    "bins_centers = (bins[:-1] + bins[1:]) / 2"
   ]
  },
  {
   "cell_type": "code",
   "execution_count": 70,
   "id": "07236b6e",
   "metadata": {},
   "outputs": [],
   "source": []
  },
  {
   "cell_type": "code",
   "execution_count": 80,
   "id": "4f643cdc",
   "metadata": {},
   "outputs": [],
   "source": [
    "# Calculate X (the value to be calculated from the distribution)\n",
    "# For example, let's say X is the percentage of newborns that weigh more than 4 kg\n",
    "X = 100 * np.sum(data > 4) / len(data)"
   ]
  },
  {
   "cell_type": "code",
   "execution_count": 85,
   "id": "d82ce4f2",
   "metadata": {},
   "outputs": [
    {
     "data": {
      "text/plain": [
       "7.125"
      ]
     },
     "execution_count": 85,
     "metadata": {},
     "output_type": "execute_result"
    }
   ],
   "source": [
    "X"
   ]
  },
  {
   "cell_type": "code",
   "execution_count": 86,
   "id": "ee47636c",
   "metadata": {},
   "outputs": [
    {
     "data": {
      "image/png": "[encoded data removed]",
      "text/plain": [
       "<Figure size 432x288 with 1 Axes>"
      ]
     },
     "metadata": {
      "needs_background": "light"
     },
     "output_type": "display_data"
    },
    {
     "data": {
      "text/plain": [
       "<Figure size 720x360 with 0 Axes>"
      ]
     },
     "metadata": {},
     "output_type": "display_data"
    }
   ],
   "source": [
    "# Create histogram plot\n",
    "\n",
    "fig, ax = plt.subplots()\n",
    "plt.figure(figsize=(10,5))\n",
    "ax.hist(data, bins=20, alpha=0.5, label=\"Newborn Babies Weights\")\n",
    "ax.axvline(X, color=\"red\", label=\"Median Weight\")\n",
    "ax.set_xlabel(\"Weight (kg)\")\n",
    "ax.set_ylabel(\"Frequency\")\n",
    "ax.set_title(\"Distribution of newborn weights\")\n",
    "#ax.legend()\n",
    "\n",
    "# Add text box with W and X values\n",
    "props = dict(boxstyle=\"round\", facecolor=\"wheat\", alpha=0.5)\n",
    "textstr = f\"Median weight: {median_weight:.2f} kg\\nPercentage of newborns > 4 kg: {X:.2f}%\"\n",
    "ax.text(0.05, 0.95, textstr, transform=ax.transAxes, fontsize=10,\n",
    "        verticalalignment=\"top\", bbox=props)\n",
    "\n",
    "# Show plot\n",
    "plt.show()"
   ]
  },
  {
   "cell_type": "code",
   "execution_count": null,
   "id": "88ba82e7",
   "metadata": {},
   "outputs": [],
   "source": []
  }
 ],
 "metadata": {
  "kernelspec": {
   "display_name": "Python 3",
   "language": "python",
   "name": "python3"
  },
  "language_info": {
   "codemirror_mode": {
    "name": "ipython",
    "version": 3
   },
   "file_extension": ".py",
   "mimetype": "text/x-python",
   "name": "python",
   "nbconvert_exporter": "python",
   "pygments_lexer": "ipython3",
   "version": "3.9.5"
  }
 },
 "nbformat": 4,
 "nbformat_minor": 5
}
