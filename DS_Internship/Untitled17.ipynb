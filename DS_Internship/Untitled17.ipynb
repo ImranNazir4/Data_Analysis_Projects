{
  "nbformat": 4,
  "nbformat_minor": 0,
  "metadata": {
    "colab": {
      "provenance": []
    },
    "kernelspec": {
      "name": "python3",
      "display_name": "Python 3"
    },
    "language_info": {
      "name": "python"
    }
  },
  "cells": [
    {
      "cell_type": "markdown",
      "source": [
        "## **Importing Numpy**"
      ],
      "metadata": {
        "id": "JoKuiqaLw_z9"
      }
    },
    {
      "cell_type": "code",
      "source": [
        "import numpy as np\n"
      ],
      "metadata": {
        "id": "tbpzXwbrw_kG"
      },
      "execution_count": 1,
      "outputs": []
    },
    {
      "cell_type": "markdown",
      "source": [
        "## **Creating a Numpy Array**"
      ],
      "metadata": {
        "id": "Z7MZ51bJxIIb"
      }
    },
    {
      "cell_type": "code",
      "source": [
        "# Create a NumPy array of random float numbers\n",
        "np_array = np.random.rand(10)\n",
        "np_array"
      ],
      "metadata": {
        "colab": {
          "base_uri": "https://localhost:8080/"
        },
        "id": "e8t82yllxH1y",
        "outputId": "8e7cbe02-1e26-4f25-c793-78760862b158"
      },
      "execution_count": 4,
      "outputs": [
        {
          "output_type": "execute_result",
          "data": {
            "text/plain": [
              "array([0.74741127, 0.89605614, 0.23094932, 0.06507348, 0.6700732 ,\n",
              "       0.38464402, 0.16176724, 0.55536433, 0.29473703, 0.93370799])"
            ]
          },
          "metadata": {},
          "execution_count": 4
        }
      ]
    },
    {
      "cell_type": "markdown",
      "source": [
        "## **Arithematic Operations on Single Array**"
      ],
      "metadata": {
        "id": "3eQbDuJjyAvx"
      }
    },
    {
      "cell_type": "code",
      "source": [
        "addition=np_array+485                        #it will add 485 in each element in the array\n",
        "multiplication=np_array*485                  #it will multiply each element in the array with 485\n",
        "dvision=np_array/1                           #it will divide each element in the array with 1\n",
        "substraction=np_array-1                      #it will substract each element in the array with 1\n",
        "modulus=np_array%10                          #it will take mudulus of each element in the array with 10"
      ],
      "metadata": {
        "id": "0k9yt_6Vw_g1"
      },
      "execution_count": 5,
      "outputs": []
    },
    {
      "cell_type": "code",
      "source": [
        "addition"
      ],
      "metadata": {
        "colab": {
          "base_uri": "https://localhost:8080/"
        },
        "id": "JYvpykEYw_ba",
        "outputId": "5c679235-03b2-42a4-b381-df18221acefe"
      },
      "execution_count": 6,
      "outputs": [
        {
          "output_type": "execute_result",
          "data": {
            "text/plain": [
              "array([485.74741127, 485.89605614, 485.23094932, 485.06507348,\n",
              "       485.6700732 , 485.38464402, 485.16176724, 485.55536433,\n",
              "       485.29473703, 485.93370799])"
            ]
          },
          "metadata": {},
          "execution_count": 6
        }
      ]
    },
    {
      "cell_type": "code",
      "source": [
        "multiplication"
      ],
      "metadata": {
        "colab": {
          "base_uri": "https://localhost:8080/"
        },
        "id": "WTpO5u38w_PG",
        "outputId": "1baf8a10-46c2-43fd-dd77-9d7e94a1ff8f"
      },
      "execution_count": 7,
      "outputs": [
        {
          "output_type": "execute_result",
          "data": {
            "text/plain": [
              "array([362.49446748, 434.58722789, 112.01041908,  31.56064004,\n",
              "       324.98550427, 186.55234837,  78.45711114, 269.35170176,\n",
              "       142.94745714, 452.84837389])"
            ]
          },
          "metadata": {},
          "execution_count": 7
        }
      ]
    },
    {
      "cell_type": "code",
      "source": [
        "dvision"
      ],
      "metadata": {
        "colab": {
          "base_uri": "https://localhost:8080/"
        },
        "id": "XP0sibmnzu_t",
        "outputId": "59e96a56-f7c2-47e3-ce7a-1272c1f70d1a"
      },
      "execution_count": 8,
      "outputs": [
        {
          "output_type": "execute_result",
          "data": {
            "text/plain": [
              "array([0.74741127, 0.89605614, 0.23094932, 0.06507348, 0.6700732 ,\n",
              "       0.38464402, 0.16176724, 0.55536433, 0.29473703, 0.93370799])"
            ]
          },
          "metadata": {},
          "execution_count": 8
        }
      ]
    },
    {
      "cell_type": "code",
      "source": [
        "substraction"
      ],
      "metadata": {
        "colab": {
          "base_uri": "https://localhost:8080/"
        },
        "id": "8Er4Nucjzxp9",
        "outputId": "f25885f3-41e4-40b1-bc2a-cf4478e403a1"
      },
      "execution_count": 9,
      "outputs": [
        {
          "output_type": "execute_result",
          "data": {
            "text/plain": [
              "array([-0.25258873, -0.10394386, -0.76905068, -0.93492652, -0.3299268 ,\n",
              "       -0.61535598, -0.83823276, -0.44463567, -0.70526297, -0.06629201])"
            ]
          },
          "metadata": {},
          "execution_count": 9
        }
      ]
    },
    {
      "cell_type": "code",
      "source": [
        "modulus"
      ],
      "metadata": {
        "colab": {
          "base_uri": "https://localhost:8080/"
        },
        "id": "UG_wGAuwz3qU",
        "outputId": "e03f6b88-be72-49d9-b1f0-044b23a6196d"
      },
      "execution_count": 10,
      "outputs": [
        {
          "output_type": "execute_result",
          "data": {
            "text/plain": [
              "array([0.74741127, 0.89605614, 0.23094932, 0.06507348, 0.6700732 ,\n",
              "       0.38464402, 0.16176724, 0.55536433, 0.29473703, 0.93370799])"
            ]
          },
          "metadata": {},
          "execution_count": 10
        }
      ]
    },
    {
      "cell_type": "markdown",
      "source": [
        "## **Measures of Centre**"
      ],
      "metadata": {
        "id": "X90vjEeJz_pM"
      }
    },
    {
      "cell_type": "code",
      "execution_count": 11,
      "metadata": {
        "colab": {
          "base_uri": "https://localhost:8080/"
        },
        "id": "NF4xPTozwuyn",
        "outputId": "920d097d-1f04-4072-f734-61f5bbc616fe"
      },
      "outputs": [
        {
          "output_type": "stream",
          "name": "stdout",
          "text": [
            "Mean: 0.4939784022786348\n",
            "Standard Deviation: 0.29482088898086944\n"
          ]
        }
      ],
      "source": [
        "# Calculate the mean and standard deviation of the array\n",
        "mean_value = np.mean(np_array)\n",
        "std_deviation = np.std(np_array)\n",
        "\n",
        "print(\"Mean:\", mean_value)\n",
        "print(\"Standard Deviation:\", std_deviation)\n"
      ]
    },
    {
      "cell_type": "code",
      "source": [],
      "metadata": {
        "id": "1mkJniuA0JWo"
      },
      "execution_count": null,
      "outputs": []
    }
  ]
}