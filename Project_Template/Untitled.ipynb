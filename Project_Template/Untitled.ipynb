{
 "cells": [
  {
   "cell_type": "markdown",
   "id": "a619f800",
   "metadata": {},
   "source": [
    "# **1 - Problem Definition**"
   ]
  },
  {
   "cell_type": "markdown",
   "id": "e757e29a",
   "metadata": {},
   "source": [
    "# **2 - Build Dataset**"
   ]
  },
  {
   "cell_type": "markdown",
   "id": "03d6f70a",
   "metadata": {},
   "source": [
    "### **Data Collection**"
   ]
  },
  {
   "cell_type": "markdown",
   "id": "37145bcd",
   "metadata": {},
   "source": [
    "1-Supervised Type of Data (Data with Target Variable)\n",
    "2-Unsupervised Type of Data (Data with no Target Variable)"
   ]
  },
  {
   "cell_type": "markdown",
   "id": "9912b95a",
   "metadata": {},
   "source": [
    "### **Data Inspection**"
   ]
  },
  {
   "cell_type": "markdown",
   "id": "2d0df84e",
   "metadata": {},
   "source": [
    "1- Check inconsistency in the data\n",
    "2- Outliers\n",
    "3- Data Transformation\n",
    "4- Fill missing values"
   ]
  },
  {
   "cell_type": "markdown",
   "id": "62b80390",
   "metadata": {},
   "source": [
    "### **Summary Statistics**"
   ]
  },
  {
   "cell_type": "markdown",
   "id": "e1d0005f",
   "metadata": {},
   "source": [
    "1- Trends in data\n",
    "2- Scale of data\n",
    "3- Shape of data"
   ]
  },
  {
   "cell_type": "markdown",
   "id": "2140d4e0",
   "metadata": {},
   "source": [
    "IQR\n",
    "Mean\n",
    "Std\n",
    "...."
   ]
  },
  {
   "cell_type": "markdown",
   "id": "c53c0b28",
   "metadata": {},
   "source": [
    "### **Data Visualization**"
   ]
  },
  {
   "cell_type": "markdown",
   "id": "6705589d",
   "metadata": {},
   "source": [
    "1- Line charts\n",
    "2- Bar charts\n",
    "3- Pie charts\n",
    "4- Histograms\n",
    "....."
   ]
  },
  {
   "cell_type": "markdown",
   "id": "175b9c7f",
   "metadata": {},
   "source": [
    "# **3 - Model Training**"
   ]
  },
  {
   "cell_type": "markdown",
   "id": "e2f18b26",
   "metadata": {},
   "source": [
    "### **splitting the Data**"
   ]
  },
  {
   "cell_type": "markdown",
   "id": "f5beb034",
   "metadata": {},
   "source": [
    "-----------------------------Good Practice----------------------------------\n",
    "1- 80% Training\n",
    "2- 20% Testing"
   ]
  },
  {
   "cell_type": "markdown",
   "id": "295aeb3c",
   "metadata": {},
   "source": [
    "### **Model Selection**"
   ]
  },
  {
   "cell_type": "markdown",
   "id": "4439932b",
   "metadata": {},
   "source": [
    "# **4 - Model Evaluation**"
   ]
  },
  {
   "cell_type": "markdown",
   "id": "b929eb87",
   "metadata": {},
   "source": [
    "R-sqaure\n",
    "Precision\n",
    "Recall\n",
    "F1-Score\n",
    "Mean Absolute Error"
   ]
  },
  {
   "cell_type": "markdown",
   "id": "ee63be9e",
   "metadata": {},
   "source": [
    "here are 3 main metrics for model evaluation in regression: R Square/Adjusted R Square. Mean Square Error(MSE)/Root Mean Square Error(RMSE- Average error accros the dataset- this value should be low) Mean Absolute Error(MAE)"
   ]
  },
  {
   "cell_type": "markdown",
   "id": "69115a39",
   "metadata": {},
   "source": [
    "### **Loss Calculation**"
   ]
  },
  {
   "cell_type": "markdown",
   "id": "30f178af",
   "metadata": {},
   "source": [
    "### **Model Parameters Tuning**"
   ]
  },
  {
   "cell_type": "markdown",
   "id": "75884943",
   "metadata": {},
   "source": [
    "# **5 - Model Inference**"
   ]
  },
  {
   "cell_type": "markdown",
   "id": "d83ccd55",
   "metadata": {},
   "source": [
    "Making Predictions"
   ]
  },
  {
   "cell_type": "code",
   "execution_count": null,
   "id": "fa0931d4",
   "metadata": {},
   "outputs": [],
   "source": []
  }
 ],
 "metadata": {
  "kernelspec": {
   "display_name": "Python 3",
   "language": "python",
   "name": "python3"
  },
  "language_info": {
   "codemirror_mode": {
    "name": "ipython",
    "version": 3
   },
   "file_extension": ".py",
   "mimetype": "text/x-python",
   "name": "python",
   "nbconvert_exporter": "python",
   "pygments_lexer": "ipython3",
   "version": "3.9.5"
  }
 },
 "nbformat": 4,
 "nbformat_minor": 5
}
